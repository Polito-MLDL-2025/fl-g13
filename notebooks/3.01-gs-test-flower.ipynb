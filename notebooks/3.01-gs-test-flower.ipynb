{
 "cells": [
  {
   "cell_type": "code",
   "execution_count": null,
   "id": "2a285d33",
   "metadata": {
    "ExecuteTime": {
     "end_time": "2025-05-03T07:24:14.249150Z",
     "start_time": "2025-05-03T07:24:07.631879Z"
    }
   },
   "outputs": [],
   "source": [
    "! pip install -e .."
   ]
  },
  {
   "cell_type": "code",
   "execution_count": null,
   "id": "3f626291",
   "metadata": {
    "ExecuteTime": {
     "end_time": "2025-05-03T07:24:24.400308Z",
     "start_time": "2025-05-03T07:24:14.251033Z"
    }
   },
   "outputs": [],
   "source": [
    "from fl_g13.fl_pytorch.client_app import get_client_app\n",
    "from fl_g13.fl_pytorch.server_app import get_server_app\n",
    "from fl_g13.fl_pytorch.model import get_experiment_setting, Net\n",
    "from fl_g13.architectures import BaseDino\n",
    "from flwr.simulation import run_simulation\n",
    "from fl_g13.fl_pytorch.constants import (\n",
    "    NUM_CLIENTS, \n",
    "    DEFAULT_FRACTION_FIT, \n",
    "    DEFAULT_NUM_ROUNDS, \n",
    "    DEFAULT_LOCAL_EPOCHS, \n",
    "    BATCH_SIZE,\n",
    "    NUM_SHARDS_PER_PARTITION,\n",
    "    DEFAULT_FRACTION_EVALUATE,\n",
    "    MIN_NUM_CLIENTS\n",
    ")"
   ]
  },
  {
   "cell_type": "code",
   "execution_count": null,
   "id": "7e9d3ca8",
   "metadata": {
    "ExecuteTime": {
     "end_time": "2025-05-03T07:24:24.415306Z",
     "start_time": "2025-05-03T07:24:24.401288Z"
    }
   },
   "outputs": [],
   "source": [
    "DEBUG = True\n",
    "\n",
    "number_of_rounds = DEFAULT_NUM_ROUNDS\n",
    "fraction_fit = DEFAULT_FRACTION_FIT\n",
    "fraction_evaluate = DEFAULT_FRACTION_EVALUATE\n",
    "number_of_clients = NUM_CLIENTS\n",
    "min_num_clients = MIN_NUM_CLIENTS\n",
    "show_distribution = False\n",
    "local_epochs = DEFAULT_LOCAL_EPOCHS\n",
    "batch_size = BATCH_SIZE\n",
    "num_shards_per_partition = NUM_SHARDS_PER_PARTITION\n",
    "use_wandb = True\n",
    "model_class = BaseDino\n",
    "\n",
    "if DEBUG:\n",
    "    number_of_rounds = 2\n",
    "    fraction_fit = 1\n",
    "    number_of_clients = 3\n",
    "    min_num_clients = 3\n",
    "    show_distribution = True\n",
    "    local_epochs = 2\n",
    "    batch_size = 128\n",
    "    num_shards_per_partition = 6\n",
    "    use_wandb = False\n",
    "    model_class = BaseDino"
   ]
  },
  {
   "cell_type": "code",
   "execution_count": null,
   "id": "5b5a3544",
   "metadata": {
    "ExecuteTime": {
     "end_time": "2025-05-03T07:24:24.431364Z",
     "start_time": "2025-05-03T07:24:24.416288Z"
    }
   },
   "outputs": [],
   "source": [
    "checkpoint_dir = \"./../models/\""
   ]
  },
  {
   "cell_type": "code",
   "execution_count": null,
   "id": "2136c299",
   "metadata": {
    "ExecuteTime": {
     "end_time": "2025-05-03T07:24:32.927488Z",
     "start_time": "2025-05-03T07:24:24.433364Z"
    }
   },
   "outputs": [],
   "source": [
    "from flwr_datasets import FederatedDataset, partitioner\n",
    "from fl_g13.fl_pytorch.datasets import show_partition_distribution\n",
    "    \n",
    "if show_distribution:\n",
    "    fds = FederatedDataset(\n",
    "            dataset=\"cifar100\",\n",
    "            partitioners={\"train\": partitioner.IidPartitioner(num_partitions=number_of_clients)}\n",
    "        )\n",
    "    p = fds.partitioners[\"train\"]\n",
    "    show_partition_distribution(p)"
   ]
  },
  {
   "cell_type": "code",
   "execution_count": null,
   "id": "8932ac25",
   "metadata": {
    "ExecuteTime": {
     "end_time": "2025-05-03T07:24:32.943249Z",
     "start_time": "2025-05-03T07:24:32.928465Z"
    }
   },
   "outputs": [],
   "source": [
    "starting_lr = 0.001\n",
    "partition_type = \"iid\" # or \"shard\"\n",
    "momentum = 0.9\n",
    "wandb_config = {\n",
    "    \"partition_type\": partition_type,\n",
    "    \"starting_lr\": starting_lr,\n",
    "    \"momentum\": momentum,\n",
    "}"
   ]
  },
  {
   "cell_type": "code",
   "execution_count": null,
   "id": "7aebfcdb",
   "metadata": {
    "ExecuteTime": {
     "end_time": "2025-05-03T07:24:34.527814Z",
     "start_time": "2025-05-03T07:24:32.944367Z"
    }
   },
   "outputs": [],
   "source": [
    "model, optimizer, criterion, device, scheduler = get_experiment_setting(checkpoint_dir, model_class, starting_lr, momentum)\n",
    "client_app = get_client_app(\n",
    "    model=model, \n",
    "    optimizer=optimizer, \n",
    "    criterion=criterion, \n",
    "    device=device, \n",
    "    partition_type=partition_type, \n",
    "    local_epochs=local_epochs,\n",
    "    batch_size=batch_size,\n",
    "    num_shards_per_partition=num_shards_per_partition,\n",
    "    scheduler=scheduler,\n",
    ")\n",
    "server_app = get_server_app(\n",
    "    model_class=model_class, \n",
    "    optimizer=optimizer, \n",
    "    criterion=criterion, \n",
    "    device=device, \n",
    "    num_rounds=number_of_rounds, \n",
    "    min_available_clients=number_of_clients,\n",
    "    min_fit_clients=min_num_clients,\n",
    "    min_evaluate_clients=min_num_clients,\n",
    "    checkpoint_dir=checkpoint_dir,\n",
    "    fraction_fit=fraction_fit,\n",
    "    fraction_evaluate=fraction_evaluate,\n",
    "    use_wandb=use_wandb,\n",
    "    wandb_config=wandb_config,\n",
    "    scheduler=scheduler,\n",
    ")"
   ]
  },
  {
   "cell_type": "code",
   "execution_count": null,
   "id": "a481a215",
   "metadata": {
    "ExecuteTime": {
     "end_time": "2025-05-03T07:24:34.543030Z",
     "start_time": "2025-05-03T07:24:34.528798Z"
    }
   },
   "outputs": [],
   "source": [
    "import os\n",
    "import urllib.request\n",
    "\n",
    "\n",
    "def download_if_not_exists(file_path: str, file_url: str):\n",
    "    \"\"\"\n",
    "    Checks if a file exists at the given path. If it does not, downloads it from the specified URL.\n",
    "\n",
    "    Parameters:\n",
    "    - file_path (str): The local path to check and save the file.\n",
    "    - file_url (str): The URL from which to download the file.\n",
    "    \"\"\"\n",
    "    if not os.path.exists(file_path):\n",
    "        print(f\"'{file_path}' not found. Downloading from {file_url}...\")\n",
    "        try:\n",
    "            urllib.request.urlretrieve(file_url, file_path)\n",
    "            print(\"Download complete.\")\n",
    "        except Exception as e:\n",
    "            print(f\"Failed to download file: {e}\")\n",
    "    else:\n",
    "        print(f\"'{file_path}' already exists.\")"
   ]
  },
  {
   "cell_type": "code",
   "execution_count": null,
   "id": "326fa59d",
   "metadata": {
    "ExecuteTime": {
     "end_time": "2025-05-03T07:24:34.558582Z",
     "start_time": "2025-05-03T07:24:34.544030Z"
    }
   },
   "outputs": [],
   "source": [
    "download_if_not_exists(\"vision_transformer.py\",\n",
    "                       \"https://raw.githubusercontent.com/facebookresearch/dino/refs/heads/main/vision_transformer.py\")\n",
    "download_if_not_exists(\"utils.py\",\n",
    "                       \"https://raw.githubusercontent.com/facebookresearch/dino/refs/heads/main/utils.py\")\n"
   ]
  },
  {
   "cell_type": "code",
   "execution_count": null,
   "id": "08cdc4d4",
   "metadata": {},
   "outputs": [],
   "source": [
    "import torch\n",
    "import flwr\n",
    "\n",
    "DEVICE = \"cuda\" if torch.cuda.is_available() else \"cpu\"\n",
    "# DEVICE = \"cpu\"\n",
    "print(f\"Training on {DEVICE}\")\n",
    "print(f\"Flower {flwr.__version__} / PyTorch {torch.__version__}\")"
   ]
  },
  {
   "cell_type": "code",
   "execution_count": null,
   "id": "a4573ff2",
   "metadata": {},
   "outputs": [],
   "source": [
    "backend_config = {\"client_resources\": {\"num_cpus\": 1, \"num_gpus\": 0.0}}\n",
    "\n",
    "# When running on GPU, assign an entire GPU for each client\n",
    "if DEVICE == \"cuda\":\n",
    "    backend_config[\"client_resources\"] = {\"num_cpus\": 1, \"num_gpus\": 1}\n",
    "    # Refer to our Flower framework documentation for more details about Flower simulations\n",
    "    # and how to set up the `backend_config`"
   ]
  },
  {
   "cell_type": "code",
   "execution_count": null,
   "id": "1c4e94d4",
   "metadata": {
    "ExecuteTime": {
     "start_time": "2025-05-03T07:24:34.559663Z"
    },
    "jupyter": {
     "is_executing": true
    }
   },
   "outputs": [],
   "source": [
    "run_simulation(\n",
    "    client_app=client_app,\n",
    "    server_app=server_app,\n",
    "    num_supernodes=number_of_clients,\n",
    "    backend_config=backend_config,\n",
    ")"
   ]
  },
  {
   "cell_type": "code",
   "execution_count": null,
   "id": "ea7cf1ef",
   "metadata": {
    "jupyter": {
     "is_executing": true
    }
   },
   "outputs": [],
   "source": [
    "from fl_g13.fl_pytorch.datasets import plot_results\n",
    "\n",
    "strategy = server_app._strategy\n",
    "results = strategy.results\n",
    "if results:\n",
    "    print(\"Contenuto di results.json:\", results)\n",
    "\n",
    "plot_results(results)"
   ]
  },
  {
   "cell_type": "code",
   "execution_count": null,
   "id": "e7b8470dc23ff52b",
   "metadata": {
    "jupyter": {
     "is_executing": true
    }
   },
   "outputs": [],
   "source": []
  }
 ],
 "metadata": {
  "kernelspec": {
   "display_name": "base",
   "language": "python",
   "name": "python3"
  },
  "language_info": {
   "codemirror_mode": {
    "name": "ipython",
    "version": 3
   },
   "file_extension": ".py",
   "mimetype": "text/x-python",
   "name": "python",
   "nbconvert_exporter": "python",
   "pygments_lexer": "ipython3",
   "version": "3.12.8"
  }
 },
 "nbformat": 4,
 "nbformat_minor": 5
}
