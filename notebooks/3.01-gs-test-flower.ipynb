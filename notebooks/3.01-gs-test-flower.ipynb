{
 "cells": [
  {
   "cell_type": "code",
   "execution_count": null,
   "id": "2a285d33",
   "metadata": {},
   "outputs": [],
   "source": [
    "! pip install -e .."
   ]
  },
  {
   "cell_type": "code",
   "execution_count": null,
   "id": "3f626291",
   "metadata": {},
   "outputs": [],
   "source": [
    "from fl_g13.fl_pytorch.client_app import get_client_app\n",
    "from fl_g13.fl_pytorch.server_app import get_server_app\n",
    "from fl_g13.fl_pytorch.model import get_experiment_setting\n",
    "from flwr.simulation import run_simulation\n",
    "from fl_g13.fl_pytorch.constants import NUM_CLIENTS, DEFAULT_FRACTION_FIT, DEFAULT_NUM_ROUNDS, DEFAULT_LOCAL_EPOCHS"
   ]
  },
  {
   "cell_type": "code",
   "execution_count": null,
   "id": "7e9d3ca8",
   "metadata": {},
   "outputs": [],
   "source": [
    "LOCAL = True\n",
    "\n",
    "number_of_rounds = DEFAULT_NUM_ROUNDS\n",
    "fraction_fit = DEFAULT_FRACTION_FIT\n",
    "number_of_clients = NUM_CLIENTS\n",
    "show_distribution = False\n",
    "local_epochs = DEFAULT_LOCAL_EPOCHS\n",
    "\n",
    "if LOCAL:\n",
    "    number_of_rounds = 3\n",
    "    fraction_fit = 1\n",
    "    number_of_clients = 5\n",
    "    show_distribution = True\n",
    "    local_epochs = 1"
   ]
  },
  {
   "cell_type": "code",
   "execution_count": null,
   "id": "5b5a3544",
   "metadata": {},
   "outputs": [],
   "source": [
    "checkpoint_dir = \"./../models/\""
   ]
  },
  {
   "cell_type": "code",
   "execution_count": null,
   "id": "2136c299",
   "metadata": {},
   "outputs": [],
   "source": [
    "from flwr_datasets import FederatedDataset, partitioner\n",
    "from fl_g13.fl_pytorch.datasets import show_partition_distribution\n",
    "    \n",
    "if show_distribution:\n",
    "    fds = FederatedDataset(\n",
    "            dataset=\"cifar10\",\n",
    "            partitioners={\"train\": partitioner.IidPartitioner(num_partitions=number_of_clients)}\n",
    "        )\n",
    "    p = fds.partitioners[\"train\"]\n",
    "    show_partition_distribution(p)"
   ]
  },
  {
   "cell_type": "code",
   "execution_count": null,
   "id": "7aebfcdb",
   "metadata": {},
   "outputs": [],
   "source": [
    "model, optimizer, criterion, device, scheduler = get_experiment_setting()\n",
    "client_app = get_client_app(\n",
    "    model, \n",
    "    optimizer, \n",
    "    criterion, \n",
    "    device, \n",
    "    partition=\"iid\", \n",
    "    local_epochs=local_epochs\n",
    ")\n",
    "server_app = get_server_app(\n",
    "    model=model, \n",
    "    optimizer=optimizer, \n",
    "    criterion=criterion, \n",
    "    device=device, \n",
    "    num_rounds=number_of_rounds, \n",
    "    min_available_clients=number_of_clients,\n",
    "    min_fit_clients=number_of_clients,\n",
    "    checkpoint_dir=checkpoint_dir,\n",
    "    fraction_fit=fraction_fit,\n",
    ")"
   ]
  },
  {
   "cell_type": "code",
   "execution_count": null,
   "id": "1c4e94d4",
   "metadata": {},
   "outputs": [],
   "source": [
    "run_simulation(\n",
    "    client_app=client_app,\n",
    "    server_app=server_app,\n",
    "    num_supernodes=number_of_clients\n",
    ")"
   ]
  },
  {
   "cell_type": "code",
   "execution_count": null,
   "id": "ea7cf1ef",
   "metadata": {},
   "outputs": [],
   "source": [
    "from fl_g13.fl_pytorch.datasets import plot_results\n",
    "\n",
    "strategy = server_app._strategy\n",
    "results = strategy.results\n",
    "if results:\n",
    "    print(\"Contenuto di results.json:\", results)\n",
    "\n",
    "plot_results(results)"
   ]
  }
 ],
 "metadata": {
  "kernelspec": {
   "display_name": "base",
   "language": "python",
   "name": "python3"
  },
  "language_info": {
   "codemirror_mode": {
    "name": "ipython",
    "version": 3
   },
   "file_extension": ".py",
   "mimetype": "text/x-python",
   "name": "python",
   "nbconvert_exporter": "python",
   "pygments_lexer": "ipython3",
   "version": "3.12.8"
  }
 },
 "nbformat": 4,
 "nbformat_minor": 5
}
