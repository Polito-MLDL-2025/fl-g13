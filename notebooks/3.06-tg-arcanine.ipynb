{
 "cells": [
  {
   "cell_type": "code",
   "execution_count": null,
   "id": "ffbee39c",
   "metadata": {
    "executionInfo": {
     "elapsed": 17,
     "status": "ok",
     "timestamp": 1750769588324,
     "user": {
      "displayName": "Giovanbattista Tarantino",
      "userId": "08715531062484308893"
     },
     "user_tz": -120
    },
    "id": "ffbee39c"
   },
   "outputs": [],
   "source": [
    "%load_ext autoreload\n",
    "%autoreload 2"
   ]
  },
  {
   "cell_type": "markdown",
   "id": "49e40495",
   "metadata": {},
   "source": [
    "# Import cell"
   ]
  },
  {
   "cell_type": "code",
   "execution_count": null,
   "id": "b4f52dd8",
   "metadata": {
    "colab": {
     "base_uri": "https://localhost:8080/"
    },
    "executionInfo": {
     "elapsed": 15971,
     "status": "ok",
     "timestamp": 1750769604301,
     "user": {
      "displayName": "Giovanbattista Tarantino",
      "userId": "08715531062484308893"
     },
     "user_tz": -120
    },
    "id": "b4f52dd8",
    "outputId": "17a2ed0b-438f-4aad-c9ce-dfef8fafa097"
   },
   "outputs": [],
   "source": [
    "import torch\n",
    "from torch.nn import CrossEntropyLoss\n",
    "from torch.optim.lr_scheduler import CosineAnnealingLR\n",
    "from torch.utils.data import DataLoader\n",
    "\n",
    "from fl_g13.config import RAW_DATA_DIR\n",
    "from fl_g13.modeling import train, eval, get_preprocessing_pipeline, plot_metrics\n",
    "\n",
    "from fl_g13.architectures import BaseDino\n",
    "from fl_g13.editing import SparseSGDM\n",
    "\n",
    "import dotenv"
   ]
  },
  {
   "cell_type": "markdown",
   "id": "43a50855",
   "metadata": {},
   "source": [
    "# Configurations"
   ]
  },
  {
   "cell_type": "code",
   "execution_count": null,
   "id": "77f11d5a",
   "metadata": {
    "colab": {
     "base_uri": "https://localhost:8080/"
    },
    "executionInfo": {
     "elapsed": 9362,
     "status": "ok",
     "timestamp": 1750769613656,
     "user": {
      "displayName": "Giovanbattista Tarantino",
      "userId": "08715531062484308893"
     },
     "user_tz": -120
    },
    "id": "77f11d5a",
    "outputId": "35f6f497-a910-47cd-c327-32e1e322f84c"
   },
   "outputs": [],
   "source": [
    "dotenv.load_dotenv()\n",
    "CHECKPOINT_DIR = dotenv.dotenv_values()[\"CHECKPOINT_DIR\"]\n",
    "DEVICE = torch.device(\"cuda\" if torch.cuda.is_available() else \"cpu\")\n",
    "print(f\"Using device: {DEVICE}\")"
   ]
  },
  {
   "cell_type": "markdown",
   "id": "f736ed54",
   "metadata": {},
   "source": [
    "# Validation phase"
   ]
  },
  {
   "cell_type": "code",
   "execution_count": null,
   "id": "469882c3",
   "metadata": {},
   "outputs": [],
   "source": [
    "train_dataset, val_dataset, test_dataset = get_preprocessing_pipeline(RAW_DATA_DIR)\n",
    "\n",
    "print(f\"Train dataset size: {len(train_dataset)}\")\n",
    "print(f\"Validation dataset size: {len(val_dataset)}\")\n",
    "print(f\"Test dataset size: {len(test_dataset)}\")"
   ]
  },
  {
   "cell_type": "code",
   "execution_count": null,
   "id": "349a5230",
   "metadata": {
    "colab": {
     "base_uri": "https://localhost:8080/"
    },
    "executionInfo": {
     "elapsed": 4377,
     "status": "ok",
     "timestamp": 1750769618037,
     "user": {
      "displayName": "Giovanbattista Tarantino",
      "userId": "08715531062484308893"
     },
     "user_tz": -120
    },
    "id": "349a5230",
    "outputId": "7cafec39-4036-4f26-90e4-f146528b6bdb"
   },
   "outputs": [],
   "source": [
    "# Settings\n",
    "name=\"val_arcanine\"\n",
    "start_epoch = 1\n",
    "num_epochs = 25\n",
    "save_every = 1\n",
    "backup_every = None\n",
    "\n",
    "# Model Hyper-parameters\n",
    "head_layers = 3\n",
    "head_hidden_size = 512\n",
    "dropout_rate = 0.0\n",
    "unfreeze_blocks = 0\n",
    "\n",
    "# Training Hyper-parameters\n",
    "batch_size = 64\n",
    "lr = 1e-3\n",
    "momentum = 0.9\n",
    "weight_decay = 1e-5\n",
    "T_max = 8\n",
    "eta_min = 1e-5\n",
    "\n",
    "# Dataloaders\n",
    "train_dataloader = DataLoader(train_dataset, batch_size = batch_size, shuffle = True)\n",
    "val_dataloader = DataLoader(val_dataset, batch_size = batch_size, shuffle = False)\n",
    "test_dataloader = DataLoader(test_dataset, batch_size = batch_size, shuffle = False)\n",
    "\n",
    "# Model\n",
    "model = BaseDino(\n",
    "    head_layers=head_layers,\n",
    "    head_hidden_size=head_hidden_size,\n",
    "    dropout_rate=dropout_rate,\n",
    "    unfreeze_blocks=unfreeze_blocks\n",
    "    )\n",
    "model.to(DEVICE)\n",
    "\n",
    "# Optimizer, scheduler, and loss function\n",
    "dummy_mask = [torch.ones_like(p, device=p.device) for p in model.parameters()]\n",
    "optimizer = SparseSGDM(\n",
    "    model.parameters(),\n",
    "    mask=dummy_mask,\n",
    "    lr=lr,\n",
    "    momentum=momentum,\n",
    "    weight_decay=weight_decay\n",
    ")\n",
    "scheduler = CosineAnnealingLR(\n",
    "    optimizer=optimizer,\n",
    "    T_max=T_max,\n",
    "    eta_min=eta_min\n",
    ")\n",
    "criterion = CrossEntropyLoss()"
   ]
  },
  {
   "cell_type": "code",
   "execution_count": null,
   "id": "6feed087",
   "metadata": {
    "colab": {
     "base_uri": "https://localhost:8080/"
    },
    "executionInfo": {
     "elapsed": 8811310,
     "status": "ok",
     "timestamp": 1750778433128,
     "user": {
      "displayName": "Giovanbattista Tarantino",
      "userId": "08715531062484308893"
     },
     "user_tz": -120
    },
    "id": "6feed087",
    "outputId": "2b6d4c59-cd42-4d70-9146-0c37e31f6b45"
   },
   "outputs": [],
   "source": [
    "try:\n",
    "    _, _, _, _ = train(\n",
    "        checkpoint_dir=f'{CHECKPOINT_DIR}/{name}',\n",
    "        name=name,\n",
    "        start_epoch=start_epoch,\n",
    "        num_epochs=num_epochs,\n",
    "        save_every=save_every,\n",
    "        backup_every=backup_every,\n",
    "        train_dataloader=train_dataloader,\n",
    "        val_dataloader=val_dataloader,\n",
    "        model=model,\n",
    "        criterion=criterion,\n",
    "        optimizer=optimizer,\n",
    "        scheduler=scheduler,\n",
    "        verbose=1,\n",
    "        with_model_dir = False\n",
    "    )\n",
    "except KeyboardInterrupt:\n",
    "    print(\"Training interrupted manually.\")\n",
    "except Exception as e:\n",
    "    print(f\"Training stopped due to error: {e}\")"
   ]
  },
  {
   "cell_type": "code",
   "execution_count": null,
   "id": "da0277f4",
   "metadata": {},
   "outputs": [],
   "source": [
    "metrics_data = f'{CHECKPOINT_DIR}/{name}/{name}_BaseDino_epoch_{num_epochs}.loss_acc.json'\n",
    "plot_metrics(path = metrics_data)"
   ]
  },
  {
   "cell_type": "markdown",
   "id": "1df1be68",
   "metadata": {},
   "source": [
    "# Full training"
   ]
  },
  {
   "cell_type": "code",
   "execution_count": null,
   "id": "6bee7fa9",
   "metadata": {},
   "outputs": [],
   "source": [
    "full_train_dataset, full_test_dataset = get_preprocessing_pipeline(RAW_DATA_DIR, do_full_training=True)\n",
    "\n",
    "print(f\"Train dataset size: {len(full_train_dataset)}\")\n",
    "print(f\"Test dataset size: {len(full_test_dataset)}\")"
   ]
  },
  {
   "cell_type": "code",
   "execution_count": null,
   "id": "c7b1bab2",
   "metadata": {},
   "outputs": [],
   "source": [
    "# Settings\n",
    "name = \"arcanine\"\n",
    "start_epoch = 1\n",
    "num_epochs = 10 # From the validation training\n",
    "save_every = 1\n",
    "backup_every = None\n",
    "\n",
    "# Model Hyper-parameters\n",
    "head_layers = 3\n",
    "head_hidden_size = 512\n",
    "dropout_rate = 0.0\n",
    "unfreeze_blocks = 0\n",
    "\n",
    "# Training Hyper-parameters\n",
    "batch_size = 128\n",
    "lr = 1e-3\n",
    "momentum = 0.9\n",
    "weight_decay = 1e-5\n",
    "T_max = 8\n",
    "eta_min = 1e-5\n",
    "\n",
    "# Dataloaders\n",
    "train_dataloader = DataLoader(full_train_dataset, batch_size = batch_size, shuffle = True)\n",
    "test_dataloader = DataLoader(full_test_dataset, batch_size = batch_size, shuffle = False)\n",
    "\n",
    "# Model\n",
    "model = BaseDino(\n",
    "    head_layers=head_layers,\n",
    "    head_hidden_size=head_hidden_size,\n",
    "    dropout_rate=dropout_rate,\n",
    "    unfreeze_blocks=unfreeze_blocks\n",
    ")\n",
    "model.to(DEVICE)\n",
    "\n",
    "# Optimizer, scheduler, and loss function\n",
    "dummy_mask = [torch.ones_like(p, device=p.device) for p in model.parameters()]\n",
    "optimizer = SparseSGDM(\n",
    "    model.parameters(),\n",
    "    mask=dummy_mask,\n",
    "    lr=lr,\n",
    "    momentum=momentum,\n",
    "    weight_decay=weight_decay\n",
    ")\n",
    "scheduler = CosineAnnealingLR(\n",
    "    optimizer=optimizer,\n",
    "    T_max=T_max,\n",
    "    eta_min=eta_min\n",
    ")\n",
    "criterion = CrossEntropyLoss()"
   ]
  },
  {
   "cell_type": "code",
   "execution_count": null,
   "id": "8373d3a5",
   "metadata": {},
   "outputs": [],
   "source": [
    "try:\n",
    "    _, _, _, _ = train(\n",
    "        checkpoint_dir=f'{CHECKPOINT_DIR}/{name}',\n",
    "        name=name,\n",
    "        start_epoch=start_epoch,\n",
    "        num_epochs=num_epochs,\n",
    "        save_every=save_every,\n",
    "        backup_every=backup_every,\n",
    "        train_dataloader=train_dataloader,\n",
    "        val_dataloader=None,\n",
    "        model=model,\n",
    "        criterion=criterion,\n",
    "        optimizer=optimizer,\n",
    "        scheduler=scheduler,\n",
    "        verbose=1,\n",
    "        with_model_dir = False\n",
    "    )\n",
    "except KeyboardInterrupt:\n",
    "    print(\"Training interrupted manually.\")\n",
    "except Exception as e:\n",
    "    print(f\"Training stopped due to error: {e}\")"
   ]
  },
  {
   "cell_type": "code",
   "execution_count": null,
   "id": "913ad172",
   "metadata": {},
   "outputs": [],
   "source": [
    "# Final test\n",
    "test_loss, test_accuracy, _ = eval(test_dataloader, model, criterion, verbose = 1)\n",
    "print(\n",
    "    f\"🔍 Test Results:\\n\"\n",
    "    f\"\\t📉 Test Loss: {test_loss:.4f}\\n\"\n",
    "    f\"\\t🎯 Test Accuracy: {100 * test_accuracy:.2f}%\"\n",
    ")\n",
    "\n",
    "metrics_data = f'{CHECKPOINT_DIR}/{name}/{name}_BaseDino_epoch_{num_epochs}.loss_acc.json'\n",
    "plot_metrics(path = metrics_data)"
   ]
  }
 ],
 "metadata": {
  "accelerator": "GPU",
  "colab": {
   "gpuType": "T4",
   "provenance": []
  },
  "kernelspec": {
   "display_name": ".venv",
   "language": "python",
   "name": "python3"
  },
  "language_info": {
   "codemirror_mode": {
    "name": "ipython",
    "version": 3
   },
   "file_extension": ".py",
   "mimetype": "text/x-python",
   "name": "python",
   "nbconvert_exporter": "python",
   "pygments_lexer": "ipython3",
   "version": "3.10.0"
  }
 },
 "nbformat": 4,
 "nbformat_minor": 5
}
