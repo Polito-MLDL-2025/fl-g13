{
 "cells": [
  {
   "metadata": {
    "ExecuteTime": {
     "end_time": "2025-05-18T18:36:33.819689Z",
     "start_time": "2025-05-18T18:36:33.715720Z"
    }
   },
   "cell_type": "code",
   "source": [
    "%load_ext autoreload\n",
    "%autoreload 2"
   ],
   "id": "5767f6b1a63e945b",
   "outputs": [],
   "execution_count": 1
  },
  {
   "metadata": {
    "ExecuteTime": {
     "end_time": "2025-05-18T18:36:35.972060Z",
     "start_time": "2025-05-18T18:36:33.821682Z"
    }
   },
   "cell_type": "code",
   "source": "!pip3 install torch torchvision torchaudio --index-url https://download.pytorch.org/whl/cu118\n",
   "id": "75ca9d6d54c4ce47",
   "outputs": [
    {
     "name": "stdout",
     "output_type": "stream",
     "text": [
      "Looking in indexes: https://download.pytorch.org/whl/cu118"
     ]
    },
    {
     "name": "stderr",
     "output_type": "stream",
     "text": [
      "WARNING: Ignoring invalid distribution -otebook (c:\\users\\admin\\desktop\\backup\\study\\italy\\polito\\classes\\20242\\deep learning\\project\\source_code\\fl-g13\\.venv\\lib\\site-packages)\n",
      "WARNING: Ignoring invalid distribution -otebook (c:\\users\\admin\\desktop\\backup\\study\\italy\\polito\\classes\\20242\\deep learning\\project\\source_code\\fl-g13\\.venv\\lib\\site-packages)\n",
      "WARNING: Ignoring invalid distribution -otebook (c:\\users\\admin\\desktop\\backup\\study\\italy\\polito\\classes\\20242\\deep learning\\project\\source_code\\fl-g13\\.venv\\lib\\site-packages)\n",
      "\n",
      "[notice] A new release of pip is available: 25.0.1 -> 25.1.1\n",
      "[notice] To update, run: python.exe -m pip install --upgrade pip\n"
     ]
    },
    {
     "name": "stdout",
     "output_type": "stream",
     "text": [
      "\n",
      "Requirement already satisfied: torch in c:\\users\\admin\\desktop\\backup\\study\\italy\\polito\\classes\\20242\\deep learning\\project\\source_code\\fl-g13\\.venv\\lib\\site-packages (2.6.0+cu118)\n",
      "Requirement already satisfied: torchvision in c:\\users\\admin\\desktop\\backup\\study\\italy\\polito\\classes\\20242\\deep learning\\project\\source_code\\fl-g13\\.venv\\lib\\site-packages (0.21.0)\n",
      "Requirement already satisfied: torchaudio in c:\\users\\admin\\desktop\\backup\\study\\italy\\polito\\classes\\20242\\deep learning\\project\\source_code\\fl-g13\\.venv\\lib\\site-packages (2.6.0+cu118)\n",
      "Requirement already satisfied: filelock in c:\\users\\admin\\desktop\\backup\\study\\italy\\polito\\classes\\20242\\deep learning\\project\\source_code\\fl-g13\\.venv\\lib\\site-packages (from torch) (3.18.0)\n",
      "Requirement already satisfied: typing-extensions>=4.10.0 in c:\\users\\admin\\desktop\\backup\\study\\italy\\polito\\classes\\20242\\deep learning\\project\\source_code\\fl-g13\\.venv\\lib\\site-packages (from torch) (4.13.1)\n",
      "Requirement already satisfied: networkx in c:\\users\\admin\\desktop\\backup\\study\\italy\\polito\\classes\\20242\\deep learning\\project\\source_code\\fl-g13\\.venv\\lib\\site-packages (from torch) (3.4.2)\n",
      "Requirement already satisfied: jinja2 in c:\\users\\admin\\desktop\\backup\\study\\italy\\polito\\classes\\20242\\deep learning\\project\\source_code\\fl-g13\\.venv\\lib\\site-packages (from torch) (3.1.6)\n",
      "Requirement already satisfied: fsspec in c:\\users\\admin\\desktop\\backup\\study\\italy\\polito\\classes\\20242\\deep learning\\project\\source_code\\fl-g13\\.venv\\lib\\site-packages (from torch) (2025.3.2)\n",
      "Requirement already satisfied: sympy==1.13.1 in c:\\users\\admin\\desktop\\backup\\study\\italy\\polito\\classes\\20242\\deep learning\\project\\source_code\\fl-g13\\.venv\\lib\\site-packages (from torch) (1.13.1)\n",
      "Requirement already satisfied: mpmath<1.4,>=1.1.0 in c:\\users\\admin\\desktop\\backup\\study\\italy\\polito\\classes\\20242\\deep learning\\project\\source_code\\fl-g13\\.venv\\lib\\site-packages (from sympy==1.13.1->torch) (1.3.0)\n",
      "Requirement already satisfied: numpy in c:\\users\\admin\\desktop\\backup\\study\\italy\\polito\\classes\\20242\\deep learning\\project\\source_code\\fl-g13\\.venv\\lib\\site-packages (from torchvision) (2.0.2)\n",
      "Requirement already satisfied: pillow!=8.3.*,>=5.3.0 in c:\\users\\admin\\desktop\\backup\\study\\italy\\polito\\classes\\20242\\deep learning\\project\\source_code\\fl-g13\\.venv\\lib\\site-packages (from torchvision) (11.1.0)\n",
      "Requirement already satisfied: MarkupSafe>=2.0 in c:\\users\\admin\\desktop\\backup\\study\\italy\\polito\\classes\\20242\\deep learning\\project\\source_code\\fl-g13\\.venv\\lib\\site-packages (from jinja2->torch) (3.0.2)\n"
     ]
    }
   ],
   "execution_count": 2
  },
  {
   "metadata": {
    "ExecuteTime": {
     "end_time": "2025-05-18T18:36:49.696158Z",
     "start_time": "2025-05-18T18:36:35.973959Z"
    }
   },
   "cell_type": "code",
   "source": [
    "\n",
    "from pathlib import Path\n",
    "\n",
    "import flwr\n",
    "import torch\n",
    "from flwr.simulation import run_simulation\n",
    "from torch.optim.lr_scheduler import CosineAnnealingLR\n",
    "from torch.utils.data import DataLoader\n",
    "from torchvision import datasets\n",
    "\n",
    "from fl_g13.architectures import BaseDino\n",
    "from fl_g13.config import RAW_DATA_DIR\n",
    "from fl_g13.editing import SparseSGDM\n",
    "from fl_g13.fl_pytorch.client_app import get_client_app\n",
    "from fl_g13.fl_pytorch.datasets import get_eval_transforms\n",
    "from fl_g13.fl_pytorch.server_app import get_server_app\n",
    "from fl_g13.modeling.eval import eval"
   ],
   "id": "initial_id",
   "outputs": [
    {
     "name": "stderr",
     "output_type": "stream",
     "text": [
      "\u001B[32m2025-05-18 20:36:43.717\u001B[0m | \u001B[1mINFO    \u001B[0m | \u001B[36mfl_g13.config\u001B[0m:\u001B[36m<module>\u001B[0m:\u001B[36m11\u001B[0m - \u001B[1mPROJ_ROOT path is: C:\\Users\\ADMIN\\Desktop\\BACKUP\\study\\Italy\\polito\\classes\\20242\\deep learning\\project\\source_code\\fl-g13\u001B[0m\n"
     ]
    }
   ],
   "execution_count": 3
  },
  {
   "metadata": {
    "ExecuteTime": {
     "end_time": "2025-05-18T18:36:50.297956Z",
     "start_time": "2025-05-18T18:36:49.697161Z"
    }
   },
   "cell_type": "code",
   "source": [
    "DEVICE = \"cuda\" if torch.cuda.is_available() else \"cpu\"\n",
    "# DEVICE = \"cpu\"\n",
    "print(f\"Training on {DEVICE}\")\n",
    "print(f\"Flower {flwr.__version__} / PyTorch {torch.__version__}\")\n",
    "# disable_progress_bar()"
   ],
   "id": "1a4ec3eb7baf32",
   "outputs": [
    {
     "name": "stdout",
     "output_type": "stream",
     "text": [
      "Training on cuda\n",
      "Flower 1.17.0 / PyTorch 2.6.0+cu118\n"
     ]
    }
   ],
   "execution_count": 4
  },
  {
   "metadata": {},
   "cell_type": "markdown",
   "source": "# Login wandb",
   "id": "73fb84b164b0def7"
  },
  {
   "metadata": {
    "ExecuteTime": {
     "end_time": "2025-05-18T18:36:52.294243Z",
     "start_time": "2025-05-18T18:36:50.299956Z"
    }
   },
   "cell_type": "code",
   "source": "!pip install wandb",
   "id": "6c6449ef9be1e422",
   "outputs": [
    {
     "name": "stdout",
     "output_type": "stream",
     "text": [
      "Requirement already satisfied: wandb in c:\\users\\admin\\desktop\\backup\\study\\italy\\polito\\classes\\20242\\deep learning\\project\\source_code\\fl-g13\\.venv\\lib\\site-packages (0.19.9)\n",
      "Requirement already satisfied: click!=8.0.0,>=7.1 in c:\\users\\admin\\desktop\\backup\\study\\italy\\polito\\classes\\20242\\deep learning\\project\\source_code\\fl-g13\\.venv\\lib\\site-packages (from wandb) (8.1.8)\n",
      "Requirement already satisfied: docker-pycreds>=0.4.0 in c:\\users\\admin\\desktop\\backup\\study\\italy\\polito\\classes\\20242\\deep learning\\project\\source_code\\fl-g13\\.venv\\lib\\site-packages (from wandb) (0.4.0)\n",
      "Requirement already satisfied: gitpython!=3.1.29,>=1.0.0 in c:\\users\\admin\\desktop\\backup\\study\\italy\\polito\\classes\\20242\\deep learning\\project\\source_code\\fl-g13\\.venv\\lib\\site-packages (from wandb) (3.1.44)\n",
      "Requirement already satisfied: platformdirs in c:\\users\\admin\\desktop\\backup\\study\\italy\\polito\\classes\\20242\\deep learning\\project\\source_code\\fl-g13\\.venv\\lib\\site-packages (from wandb) (4.3.7)\n",
      "Requirement already satisfied: protobuf!=4.21.0,!=5.28.0,<6,>=3.19.0 in c:\\users\\admin\\desktop\\backup\\study\\italy\\polito\\classes\\20242\\deep learning\\project\\source_code\\fl-g13\\.venv\\lib\\site-packages (from wandb) (5.29.4)\n",
      "Requirement already satisfied: psutil>=5.0.0 in c:\\users\\admin\\desktop\\backup\\study\\italy\\polito\\classes\\20242\\deep learning\\project\\source_code\\fl-g13\\.venv\\lib\\site-packages (from wandb) (7.0.0)\n",
      "Requirement already satisfied: pydantic<3 in c:\\users\\admin\\desktop\\backup\\study\\italy\\polito\\classes\\20242\\deep learning\\project\\source_code\\fl-g13\\.venv\\lib\\site-packages (from wandb) (2.11.3)\n",
      "Requirement already satisfied: pyyaml in c:\\users\\admin\\desktop\\backup\\study\\italy\\polito\\classes\\20242\\deep learning\\project\\source_code\\fl-g13\\.venv\\lib\\site-packages (from wandb) (6.0.2)\n",
      "Requirement already satisfied: requests<3,>=2.0.0 in c:\\users\\admin\\desktop\\backup\\study\\italy\\polito\\classes\\20242\\deep learning\\project\\source_code\\fl-g13\\.venv\\lib\\site-packages (from wandb) (2.32.3)\n",
      "Requirement already satisfied: sentry-sdk>=2.0.0 in c:\\users\\admin\\desktop\\backup\\study\\italy\\polito\\classes\\20242\\deep learning\\project\\source_code\\fl-g13\\.venv\\lib\\site-packages (from wandb) (2.26.0)\n",
      "Requirement already satisfied: setproctitle in c:\\users\\admin\\desktop\\backup\\study\\italy\\polito\\classes\\20242\\deep learning\\project\\source_code\\fl-g13\\.venv\\lib\\site-packages (from wandb) (1.3.5)\n",
      "Requirement already satisfied: setuptools in c:\\users\\admin\\desktop\\backup\\study\\italy\\polito\\classes\\20242\\deep learning\\project\\source_code\\fl-g13\\.venv\\lib\\site-packages (from wandb) (68.2.0)\n",
      "Requirement already satisfied: typing-extensions<5,>=4.4 in c:\\users\\admin\\desktop\\backup\\study\\italy\\polito\\classes\\20242\\deep learning\\project\\source_code\\fl-g13\\.venv\\lib\\site-packages (from wandb) (4.13.1)\n",
      "Requirement already satisfied: colorama in c:\\users\\admin\\desktop\\backup\\study\\italy\\polito\\classes\\20242\\deep learning\\project\\source_code\\fl-g13\\.venv\\lib\\site-packages (from click!=8.0.0,>=7.1->wandb) (0.4.6)\n",
      "Requirement already satisfied: six>=1.4.0 in c:\\users\\admin\\desktop\\backup\\study\\italy\\polito\\classes\\20242\\deep learning\\project\\source_code\\fl-g13\\.venv\\lib\\site-packages (from docker-pycreds>=0.4.0->wandb) (1.17.0)\n",
      "Requirement already satisfied: gitdb<5,>=4.0.1 in c:\\users\\admin\\desktop\\backup\\study\\italy\\polito\\classes\\20242\\deep learning\\project\\source_code\\fl-g13\\.venv\\lib\\site-packages (from gitpython!=3.1.29,>=1.0.0->wandb) (4.0.12)\n",
      "Requirement already satisfied: annotated-types>=0.6.0 in c:\\users\\admin\\desktop\\backup\\study\\italy\\polito\\classes\\20242\\deep learning\\project\\source_code\\fl-g13\\.venv\\lib\\site-packages (from pydantic<3->wandb) (0.7.0)\n",
      "Requirement already satisfied: pydantic-core==2.33.1 in c:\\users\\admin\\desktop\\backup\\study\\italy\\polito\\classes\\20242\\deep learning\\project\\source_code\\fl-g13\\.venv\\lib\\site-packages (from pydantic<3->wandb) (2.33.1)\n",
      "Requirement already satisfied: typing-inspection>=0.4.0 in c:\\users\\admin\\desktop\\backup\\study\\italy\\polito\\classes\\20242\\deep learning\\project\\source_code\\fl-g13\\.venv\\lib\\site-packages (from pydantic<3->wandb) (0.4.0)\n",
      "Requirement already satisfied: charset-normalizer<4,>=2 in c:\\users\\admin\\desktop\\backup\\study\\italy\\polito\\classes\\20242\\deep learning\\project\\source_code\\fl-g13\\.venv\\lib\\site-packages (from requests<3,>=2.0.0->wandb) (3.4.1)\n",
      "Requirement already satisfied: idna<4,>=2.5 in c:\\users\\admin\\desktop\\backup\\study\\italy\\polito\\classes\\20242\\deep learning\\project\\source_code\\fl-g13\\.venv\\lib\\site-packages (from requests<3,>=2.0.0->wandb) (3.10)\n",
      "Requirement already satisfied: urllib3<3,>=1.21.1 in c:\\users\\admin\\desktop\\backup\\study\\italy\\polito\\classes\\20242\\deep learning\\project\\source_code\\fl-g13\\.venv\\lib\\site-packages (from requests<3,>=2.0.0->wandb) (2.3.0)\n",
      "Requirement already satisfied: certifi>=2017.4.17 in c:\\users\\admin\\desktop\\backup\\study\\italy\\polito\\classes\\20242\\deep learning\\project\\source_code\\fl-g13\\.venv\\lib\\site-packages (from requests<3,>=2.0.0->wandb) (2025.1.31)\n",
      "Requirement already satisfied: smmap<6,>=3.0.1 in c:\\users\\admin\\desktop\\backup\\study\\italy\\polito\\classes\\20242\\deep learning\\project\\source_code\\fl-g13\\.venv\\lib\\site-packages (from gitdb<5,>=4.0.1->gitpython!=3.1.29,>=1.0.0->wandb) (5.0.2)\n"
     ]
    },
    {
     "name": "stderr",
     "output_type": "stream",
     "text": [
      "WARNING: Ignoring invalid distribution -otebook (c:\\users\\admin\\desktop\\backup\\study\\italy\\polito\\classes\\20242\\deep learning\\project\\source_code\\fl-g13\\.venv\\lib\\site-packages)\n",
      "WARNING: Ignoring invalid distribution -otebook (c:\\users\\admin\\desktop\\backup\\study\\italy\\polito\\classes\\20242\\deep learning\\project\\source_code\\fl-g13\\.venv\\lib\\site-packages)\n",
      "WARNING: Ignoring invalid distribution -otebook (c:\\users\\admin\\desktop\\backup\\study\\italy\\polito\\classes\\20242\\deep learning\\project\\source_code\\fl-g13\\.venv\\lib\\site-packages)\n",
      "\n",
      "[notice] A new release of pip is available: 25.0.1 -> 25.1.1\n",
      "[notice] To update, run: python.exe -m pip install --upgrade pip\n"
     ]
    }
   ],
   "execution_count": 5
  },
  {
   "metadata": {
    "ExecuteTime": {
     "end_time": "2025-05-18T18:36:52.756989Z",
     "start_time": "2025-05-18T18:36:52.295243Z"
    }
   },
   "cell_type": "code",
   "source": [
    "## read .env file\n",
    "import dotenv\n",
    "\n",
    "dotenv.load_dotenv()\n"
   ],
   "id": "5f279490dd7a970f",
   "outputs": [
    {
     "data": {
      "text/plain": [
       "True"
      ]
     },
     "execution_count": 6,
     "metadata": {},
     "output_type": "execute_result"
    }
   ],
   "execution_count": 6
  },
  {
   "metadata": {
    "ExecuteTime": {
     "end_time": "2025-05-18T18:36:54.158218Z",
     "start_time": "2025-05-18T18:36:52.757944Z"
    }
   },
   "cell_type": "code",
   "source": [
    "import wandb\n",
    "\n",
    "# login by key in .env file\n",
    "WANDB_API_KEY = dotenv.dotenv_values()[\"WANDB_API_KEY\"]\n",
    "wandb.login(key=WANDB_API_KEY)"
   ],
   "id": "a218d880822fdfba",
   "outputs": [
    {
     "name": "stderr",
     "output_type": "stream",
     "text": [
      "C:\\Users\\ADMIN\\Desktop\\BACKUP\\study\\Italy\\polito\\classes\\20242\\deep learning\\project\\source_code\\fl-g13\\.venv\\lib\\site-packages\\notebook\\utils.py:280: DeprecationWarning: distutils Version classes are deprecated. Use packaging.version instead.\n",
      "  return LooseVersion(v) >= LooseVersion(check)\n",
      "wandb: Using wandb-core as the SDK backend.  Please refer to https://wandb.me/wandb-core for more information.\n",
      "wandb: WARNING If you're specifying your api key in code, ensure this code is not shared publicly.\n",
      "wandb: WARNING Consider setting the WANDB_API_KEY environment variable, or running `wandb login` from the command line.\n",
      "wandb: Appending key for api.wandb.ai to your netrc file: C:\\Users\\ADMIN\\_netrc\n",
      "wandb: Currently logged in as: thanhnv-it23 (stefano-gamba-social-politecnico-di-torino) to https://api.wandb.ai. Use `wandb login --relogin` to force relogin\n"
     ]
    },
    {
     "data": {
      "text/plain": [
       "True"
      ]
     },
     "execution_count": 7,
     "metadata": {},
     "output_type": "execute_result"
    }
   ],
   "execution_count": 7
  },
  {
   "metadata": {},
   "cell_type": "markdown",
   "source": [
    "## Build module local\n",
    "\n",
    "Build module local such that ClientApp can use it"
   ],
   "id": "b5a0319c8e40215a"
  },
  {
   "metadata": {
    "ExecuteTime": {
     "end_time": "2025-05-18T18:37:00.104649Z",
     "start_time": "2025-05-18T18:36:54.158218Z"
    }
   },
   "cell_type": "code",
   "source": "!pip install -e ..",
   "id": "8a11402a3317027f",
   "outputs": [
    {
     "name": "stdout",
     "output_type": "stream",
     "text": [
      "Obtaining file:///C:/Users/ADMIN/Desktop/BACKUP/study/Italy/polito/classes/20242/deep%20learning/project/source_code/fl-g13"
     ]
    },
    {
     "name": "stderr",
     "output_type": "stream",
     "text": [
      "WARNING: Ignoring invalid distribution -otebook (c:\\users\\admin\\desktop\\backup\\study\\italy\\polito\\classes\\20242\\deep learning\\project\\source_code\\fl-g13\\.venv\\lib\\site-packages)"
     ]
    },
    {
     "name": "stdout",
     "output_type": "stream",
     "text": [
      "\n"
     ]
    },
    {
     "name": "stderr",
     "output_type": "stream",
     "text": [
      "\n"
     ]
    },
    {
     "name": "stdout",
     "output_type": "stream",
     "text": [
      "  Installing build dependencies: started"
     ]
    },
    {
     "name": "stderr",
     "output_type": "stream",
     "text": [
      "WARNING: Ignoring invalid distribution -otebook (c:\\users\\admin\\desktop\\backup\\study\\italy\\polito\\classes\\20242\\deep learning\\project\\source_code\\fl-g13\\.venv\\lib\\site-packages)"
     ]
    },
    {
     "name": "stdout",
     "output_type": "stream",
     "text": [
      "\n",
      "  Installing build dependencies: finished with status 'done'"
     ]
    },
    {
     "name": "stderr",
     "output_type": "stream",
     "text": [
      "\n",
      "WARNING: Ignoring invalid distribution -otebook (c:\\users\\admin\\desktop\\backup\\study\\italy\\polito\\classes\\20242\\deep learning\\project\\source_code\\fl-g13\\.venv\\lib\\site-packages)"
     ]
    },
    {
     "name": "stdout",
     "output_type": "stream",
     "text": [
      "\n"
     ]
    },
    {
     "name": "stderr",
     "output_type": "stream",
     "text": [
      "\n"
     ]
    },
    {
     "name": "stdout",
     "output_type": "stream",
     "text": [
      "  Checking if build backend supports build_editable: started"
     ]
    },
    {
     "name": "stderr",
     "output_type": "stream",
     "text": [
      "\n"
     ]
    },
    {
     "name": "stdout",
     "output_type": "stream",
     "text": [
      "\n",
      "  Checking if build backend supports build_editable: finished with status 'done'"
     ]
    },
    {
     "name": "stderr",
     "output_type": "stream",
     "text": [
      "[notice] A new release of pip is available: 25.0.1 -> 25.1.1\n"
     ]
    },
    {
     "name": "stdout",
     "output_type": "stream",
     "text": [
      "\n",
      "  Getting requirements to build editable: started"
     ]
    },
    {
     "name": "stderr",
     "output_type": "stream",
     "text": [
      "[notice] To update, run: python.exe -m pip install --upgrade pip\n"
     ]
    },
    {
     "name": "stdout",
     "output_type": "stream",
     "text": [
      "\n",
      "  Getting requirements to build editable: finished with status 'done'\n",
      "  Preparing editable metadata (pyproject.toml): started\n",
      "  Preparing editable metadata (pyproject.toml): finished with status 'done'\n",
      "Building wheels for collected packages: fl_g13\n",
      "  Building editable for fl_g13 (pyproject.toml): started\n",
      "  Building editable for fl_g13 (pyproject.toml): finished with status 'done'\n",
      "  Created wheel for fl_g13: filename=fl_g13-0.0.1-py3-none-any.whl size=4649 sha256=a588eeccbccdbea56dbfe92e55bd612babd81e07366f39e361ccc99a5ffdec08\n"
     ]
    }
   ],
   "execution_count": 8
  },
  {
   "metadata": {},
   "cell_type": "markdown",
   "source": [
    "### Download missing module for clients\n",
    "\n",
    "Dino model,that is serialized and sent to client by server, require some modules that have to download from source code of dino model\n"
   ],
   "id": "9399f1a9cedc8cc3"
  },
  {
   "metadata": {
    "ExecuteTime": {
     "end_time": "2025-05-18T18:37:00.709464Z",
     "start_time": "2025-05-18T18:37:00.104649Z"
    }
   },
   "cell_type": "code",
   "source": [
    "import os\n",
    "import urllib.request\n",
    "\n",
    "\n",
    "def download_if_not_exists(file_path: str, file_url: str):\n",
    "    \"\"\"\n",
    "    Checks if a file exists at the given path. If it does not, downloads it from the specified URL.\n",
    "\n",
    "    Parameters:\n",
    "    - file_path (str): The local path to check and save the file.\n",
    "    - file_url (str): The URL from which to download the file.\n",
    "    \"\"\"\n",
    "    if not os.path.exists(file_path):\n",
    "        print(f\"'{file_path}' not found. Downloading from {file_url}...\")\n",
    "        try:\n",
    "            urllib.request.urlretrieve(file_url, file_path)\n",
    "            print(\"Download complete.\")\n",
    "        except Exception as e:\n",
    "            print(f\"Failed to download file: {e}\")\n",
    "    else:\n",
    "        print(f\"'{file_path}' already exists.\")"
   ],
   "id": "beb2c855fcd8933c",
   "outputs": [],
   "execution_count": 9
  },
  {
   "metadata": {
    "ExecuteTime": {
     "end_time": "2025-05-18T18:37:01.265901Z",
     "start_time": "2025-05-18T18:37:00.710404Z"
    }
   },
   "cell_type": "code",
   "source": [
    "download_if_not_exists(\"vision_transformer.py\",\n",
    "                       \"https://raw.githubusercontent.com/facebookresearch/dino/refs/heads/main/vision_transformer.py\")\n",
    "download_if_not_exists(\"utils.py\",\n",
    "                       \"https://raw.githubusercontent.com/facebookresearch/dino/refs/heads/main/utils.py\")\n"
   ],
   "id": "d93caca63a33c71f",
   "outputs": [
    {
     "name": "stdout",
     "output_type": "stream",
     "text": [
      "'vision_transformer.py' already exists.\n",
      "'utils.py' already exists.\n"
     ]
    }
   ],
   "execution_count": 10
  },
  {
   "metadata": {},
   "cell_type": "markdown",
   "source": "# FL",
   "id": "ee82432353abfbe2"
  },
  {
   "metadata": {},
   "cell_type": "markdown",
   "source": "## Configs",
   "id": "cdb05316b163821b"
  },
  {
   "metadata": {
    "ExecuteTime": {
     "end_time": "2025-05-18T18:37:01.771523Z",
     "start_time": "2025-05-18T18:37:01.267408Z"
    }
   },
   "cell_type": "code",
   "source": "DEBUG = True",
   "id": "6ba4f53af219c423",
   "outputs": [],
   "execution_count": 11
  },
  {
   "metadata": {
    "ExecuteTime": {
     "end_time": "2025-05-18T18:37:02.259007Z",
     "start_time": "2025-05-18T18:37:01.772821Z"
    }
   },
   "cell_type": "code",
   "source": [
    "# Model config\n",
    "\n",
    "## Model Hyper-parameters\n",
    "head_layers = 3\n",
    "head_hidden_size = 512\n",
    "dropout_rate = 0.0\n",
    "unfreeze_blocks = 1\n",
    "\n",
    "## Training Hyper-parameters\n",
    "batch_size = 128\n",
    "lr = 1e-3\n",
    "momentum = 0.9\n",
    "weight_decay = 1e-5\n",
    "T_max = 8\n",
    "eta_min = 1e-5\n",
    "\n",
    "# FL config\n",
    "K = 100\n",
    "C = 0.1\n",
    "J = 4\n",
    "num_rounds = 30\n",
    "partition_type = 'iid'\n",
    "\n",
    "## only for partition_type = 'shard'\n",
    "num_shards_per_partition = 10\n",
    "\n",
    "## Server App config\n",
    "save_every = 1\n",
    "fraction_fit = C  # Sample of available clients for training\n",
    "fraction_evaluate = 0.1  # Sample 50% of available clients for evaluation\n",
    "min_fit_clients = 10  # Never sample less than 10 clients for training\n",
    "min_evaluate_clients = 5  # Never sample less than 5 clients for evaluation\n",
    "min_available_clients = 10  # Wait until all 10 clients are available\n",
    "device = DEVICE\n",
    "## checkpoints directory\n",
    "current_path = Path.cwd()\n",
    "model_save_path = current_path / f\"../models/fl_dino_baseline/{partition_type}\"\n",
    "checkpoint_dir = model_save_path.resolve()\n",
    "os.makedirs(checkpoint_dir, exist_ok=True)\n",
    "\n",
    "## Wandb config\n",
    "use_wandb = True\n",
    "wandb_config = {\n",
    "    # wandb param\n",
    "    'name': 'FL_Dino_Baseline_iid',\n",
    "    'project_name': \"FL_test_chart\",\n",
    "    # model config param\n",
    "    \"fraction_fit\": fraction_fit,\n",
    "    \"lr\": lr,\n",
    "    \"momentum\": momentum,\n",
    "    'partition_type': partition_type,\n",
    "    'K': K,\n",
    "    'C': C,\n",
    "    'J': J,\n",
    "}\n",
    "\n",
    "# model editing config\n",
    "model_editing = True\n",
    "mask_type = 'global'\n",
    "sparsity = 0.2\n",
    "mask = None\n",
    "\n",
    "## simulation run config\n",
    "NUM_CLIENTS = 100\n",
    "MAX_PARALLEL_CLIENTS = 10\n",
    "\n",
    "if DEBUG:\n",
    "    use_wandb = False\n",
    "    num_rounds = 2\n",
    "    J = 4\n"
   ],
   "id": "d63bb533ec30809b",
   "outputs": [],
   "execution_count": 12
  },
  {
   "metadata": {},
   "cell_type": "markdown",
   "source": "## Define model , optimizer and loss function",
   "id": "4c0f23c3615c6d68"
  },
  {
   "metadata": {
    "ExecuteTime": {
     "end_time": "2025-05-18T18:37:03.870059Z",
     "start_time": "2025-05-18T18:37:02.261220Z"
    }
   },
   "cell_type": "code",
   "source": [
    "from fl_g13.modeling import load_or_create\n",
    "\n",
    "# Model\n",
    "model, start_epoch = load_or_create(\n",
    "        path=checkpoint_dir,\n",
    "        model_class=BaseDino,\n",
    "        model_config=None,\n",
    "        optimizer=None,\n",
    "        scheduler=None,\n",
    "        device=device,\n",
    "        verbose=True,\n",
    "    )\n",
    "\n",
    "model.to(DEVICE)\n",
    "\n",
    "# optimizer = SGD(model.parameters(), lr=lr, momentum=momentum)\n",
    "\n",
    "# Create a dummy mask for SparseSGDM\n",
    "init_mask = [torch.ones_like(p, device=p.device) for p in\n",
    "             model.parameters()]  # Must be done AFTER the model is moved to the device\n",
    "# Optimizer, scheduler, and loss function\n",
    "optimizer = SparseSGDM(\n",
    "    model.parameters(),\n",
    "    mask=init_mask,\n",
    "    lr=lr,\n",
    "    momentum=0.9,\n",
    "    weight_decay=1e-5\n",
    ")\n",
    "criterion = torch.nn.CrossEntropyLoss()\n",
    "scheduler = CosineAnnealingLR(\n",
    "    optimizer=optimizer,\n",
    "    T_max=T_max,\n",
    "    eta_min=eta_min\n",
    ")"
   ],
   "id": "9046d19b28a38ed3",
   "outputs": [
    {
     "name": "stdout",
     "output_type": "stream",
     "text": [
      "🔍 Loading checkpoint from C:\\Users\\ADMIN\\Desktop\\BACKUP\\study\\Italy\\polito\\classes\\20242\\deep learning\\project\\source_code\\fl-g13\\models\\fl_dino_baseline\\iid\\fl_fl_baseline_BaseDino_epoch_77.pth\n",
      "📦 Model class in checkpoint: BaseDino\n",
      "🔧 Model configuration: {'variant': 'dino_vits16', 'dropout_rate': 0.0, 'head_hidden_size': 512, 'head_layers': 3, 'num_classes': 100, 'unfreeze_blocks': 1, 'activation_fn': 'GELU', 'pretrained': True}\n"
     ]
    },
    {
     "name": "stderr",
     "output_type": "stream",
     "text": [
      "Using cache found in C:\\Users\\ADMIN/.cache\\torch\\hub\\facebookresearch_dino_main\n",
      "Using cache found in C:\\Users\\ADMIN/.cache\\torch\\hub\\facebookresearch_dino_main\n"
     ]
    },
    {
     "name": "stdout",
     "output_type": "stream",
     "text": [
      "➡️ Moved model to device: cuda\n",
      "✅ Loaded checkpoint from C:\\Users\\ADMIN\\Desktop\\BACKUP\\study\\Italy\\polito\\classes\\20242\\deep learning\\project\\source_code\\fl-g13\\models\\fl_dino_baseline\\iid\\fl_fl_baseline_BaseDino_epoch_77.pth, resuming at epoch 78\n"
     ]
    }
   ],
   "execution_count": 13
  },
  {
   "metadata": {
    "ExecuteTime": {
     "end_time": "2025-05-18T18:37:04.387202Z",
     "start_time": "2025-05-18T18:37:03.872457Z"
    }
   },
   "cell_type": "code",
   "source": [
    "## unfreeze all blocks\n",
    "model.unfreeze_blocks(\"all\")"
   ],
   "id": "f9444647b0198903",
   "outputs": [],
   "execution_count": 14
  },
  {
   "metadata": {},
   "cell_type": "markdown",
   "source": "## Define the Client, Server Apps",
   "id": "e73656b5d73ac995"
  },
  {
   "metadata": {
    "ExecuteTime": {
     "end_time": "2025-05-18T18:37:43.719450Z",
     "start_time": "2025-05-18T18:37:43.086639Z"
    }
   },
   "cell_type": "code",
   "source": [
    "client = get_client_app(\n",
    "    model=model,\n",
    "    optimizer=optimizer,\n",
    "    criterion=criterion,\n",
    "    device=DEVICE,\n",
    "    partition_type=partition_type,\n",
    "    local_epochs=J,\n",
    "    batch_size=batch_size,\n",
    "    num_shards_per_partition=num_shards_per_partition,\n",
    "    scheduler=scheduler,\n",
    "    verbose=0,\n",
    "    model_editing=model_editing,\n",
    "    mask_type=mask_type,\n",
    "    sparsity=sparsity,\n",
    "    mask=mask\n",
    ")"
   ],
   "id": "70467a37aa8c09c7",
   "outputs": [],
   "execution_count": 16
  },
  {
   "metadata": {
    "ExecuteTime": {
     "end_time": "2025-05-18T18:37:45.080695Z",
     "start_time": "2025-05-18T18:37:43.721486Z"
    }
   },
   "cell_type": "code",
   "source": [
    "server = get_server_app(checkpoint_dir=checkpoint_dir,\n",
    "                        model_class=model,\n",
    "                        optimizer=optimizer,\n",
    "                        criterion=criterion,\n",
    "                        scheduler=scheduler,\n",
    "                        num_rounds=num_rounds,\n",
    "                        fraction_fit=fraction_fit,\n",
    "                        fraction_evaluate=fraction_evaluate,\n",
    "                        min_fit_clients=min_fit_clients,\n",
    "                        min_evaluate_clients=min_evaluate_clients,\n",
    "                        min_available_clients=min_available_clients,\n",
    "                        device=device,\n",
    "                        use_wandb=use_wandb,\n",
    "                        wandb_config=wandb_config,\n",
    "                        save_every=save_every,\n",
    "                        prefix='fl_baseline'\n",
    "                        )"
   ],
   "id": "1cbac220e52a6d00",
   "outputs": [
    {
     "name": "stdout",
     "output_type": "stream",
     "text": [
      "🔍 Loading checkpoint from C:\\Users\\ADMIN\\Desktop\\BACKUP\\study\\Italy\\polito\\classes\\20242\\deep learning\\project\\source_code\\fl-g13\\models\\fl_dino_baseline\\iid\\fl_fl_baseline_BaseDino_epoch_77.pth\n",
      "📦 Model class in checkpoint: BaseDino\n",
      "🔧 Model configuration: {'variant': 'dino_vits16', 'dropout_rate': 0.0, 'head_hidden_size': 512, 'head_layers': 3, 'num_classes': 100, 'unfreeze_blocks': 1, 'activation_fn': 'GELU', 'pretrained': True}\n"
     ]
    },
    {
     "name": "stderr",
     "output_type": "stream",
     "text": [
      "Using cache found in C:\\Users\\ADMIN/.cache\\torch\\hub\\facebookresearch_dino_main\n"
     ]
    },
    {
     "name": "stdout",
     "output_type": "stream",
     "text": [
      "➡️ Moved model to device: cuda\n",
      "✅ Loaded checkpoint from C:\\Users\\ADMIN\\Desktop\\BACKUP\\study\\Italy\\polito\\classes\\20242\\deep learning\\project\\source_code\\fl-g13\\models\\fl_dino_baseline\\iid\\fl_fl_baseline_BaseDino_epoch_77.pth, resuming at epoch 78\n"
     ]
    }
   ],
   "execution_count": 17
  },
  {
   "metadata": {},
   "cell_type": "markdown",
   "source": [
    "## Before training\n",
    "\n",
    "Test model performance before fine-turning"
   ],
   "id": "b0bed2551f5eeb0"
  },
  {
   "metadata": {
    "ExecuteTime": {
     "end_time": "2025-05-18T18:37:46.282166Z",
     "start_time": "2025-05-18T18:37:45.081822Z"
    }
   },
   "cell_type": "code",
   "source": [
    "testset = datasets.CIFAR100(RAW_DATA_DIR, train=False, download=True, transform=get_eval_transforms())\n",
    "testloader = DataLoader(testset, batch_size=32)"
   ],
   "id": "90f77fa322ad97c1",
   "outputs": [],
   "execution_count": 18
  },
  {
   "metadata": {
    "ExecuteTime": {
     "end_time": "2025-05-18T18:38:17.432666Z",
     "start_time": "2025-05-18T18:37:46.283634Z"
    }
   },
   "cell_type": "code",
   "source": [
    "test_loss, test_accuracy, _ = eval(testloader, model, criterion)\n",
    "test_loss, test_accuracy"
   ],
   "id": "f9866d97ff7849c7",
   "outputs": [
    {
     "name": "stderr",
     "output_type": "stream",
     "text": [
      "Eval progress: 100%|██████████| 313/313 [00:30<00:00, 10.25batch/s]\n"
     ]
    },
    {
     "data": {
      "text/plain": [
       "(0.9384764046333849, 0.7398)"
      ]
     },
     "execution_count": 19,
     "metadata": {},
     "output_type": "execute_result"
    }
   ],
   "execution_count": 19
  },
  {
   "metadata": {},
   "cell_type": "markdown",
   "source": "## Run the training\n",
   "id": "1427a966f7544b94"
  },
  {
   "metadata": {
    "ExecuteTime": {
     "end_time": "2025-05-18T18:39:22.330200Z",
     "start_time": "2025-05-18T18:39:21.623652Z"
    }
   },
   "cell_type": "code",
   "source": [
    "# Specify the resources each of your clients need\n",
    "# By default, each client will be allocated 1x CPU and 0x GPUs\n",
    "backend_config = {\"client_resources\": {\"num_cpus\": 1, \"num_gpus\": 0.0}}\n",
    "\n",
    "# When running on GPU, assign an entire GPU for each client\n",
    "if DEVICE == \"cuda\":\n",
    "    backend_config[\"client_resources\"] = {\"num_cpus\": 1, \"num_gpus\": 1}\n",
    "    # Refer to our Flower framework documentation for more details about Flower simulations\n",
    "    # and how to set up the `backend_config`"
   ],
   "id": "1388e3308f7b212b",
   "outputs": [],
   "execution_count": 20
  },
  {
   "metadata": {},
   "cell_type": "markdown",
   "source": "",
   "id": "9a1db478a3e1221"
  },
  {
   "metadata": {
    "ExecuteTime": {
     "end_time": "2025-05-18T19:39:10.368750Z",
     "start_time": "2025-05-18T18:39:25.589859Z"
    }
   },
   "cell_type": "code",
   "source": [
    "# Run simulation\n",
    "run_simulation(\n",
    "    server_app=server,\n",
    "    client_app=client,\n",
    "    num_supernodes=NUM_CLIENTS,\n",
    "    backend_config=backend_config\n",
    ")"
   ],
   "id": "1451e826d4713ec9",
   "outputs": [
    {
     "name": "stdout",
     "output_type": "stream",
     "text": [
      "[Server] Server on device: cuda:0\n",
      "[Server] CUDA available in client: True\n"
     ]
    },
    {
     "name": "stderr",
     "output_type": "stream",
     "text": [
      "\u001B[92mINFO \u001B[0m:      Starting Flower ServerApp, config: num_rounds=2, no round_timeout\n",
      "\u001B[92mINFO \u001B[0m:      \n",
      "\u001B[92mINFO \u001B[0m:      [INIT]\n",
      "\u001B[92mINFO \u001B[0m:      Using initial global parameters provided by strategy\n",
      "\u001B[92mINFO \u001B[0m:      Starting evaluation of initial global parameters\n"
     ]
    },
    {
     "name": "stdout",
     "output_type": "stream",
     "text": [
      "[Server Eval Round 0] Model device: cuda:0\n",
      "[Server Eval Round 0] CUDA available in server eval: True\n"
     ]
    },
    {
     "name": "stderr",
     "output_type": "stream",
     "text": [
      "Eval progress: 100%|██████████| 313/313 [00:35<00:00,  8.80batch/s]\n",
      "\u001B[92mINFO \u001B[0m:      [Round 0] Centralized Evaluation - Loss: 0.9385, Metrics: {'centralized_accuracy': 0.7398}\n",
      "\u001B[92mINFO \u001B[0m:      initial parameters (loss, other metrics): 0.9384764046333849, {'centralized_accuracy': 0.7398}\n",
      "\u001B[92mINFO \u001B[0m:      \n",
      "\u001B[92mINFO \u001B[0m:      [ROUND 1]\n",
      "\u001B[92mINFO \u001B[0m:      configure_fit: strategy sampled 10 clients (out of 100)\n",
      "(ClientAppActor pid=32272) 2025-05-18 20:40:06.875 | INFO     | fl_g13.config:<module>:11 - PROJ_ROOT path is: C:\\Users\\ADMIN\\Desktop\\BACKUP\\study\\Italy\\polito\\classes\\20242\\deep learning\\project\\source_code\\fl-g13\n"
     ]
    },
    {
     "name": "stdout",
     "output_type": "stream",
     "text": [
      "(ClientAppActor pid=32272) [Client] Client on device: cuda:0\n",
      "(ClientAppActor pid=32272) [Client] CUDA available in client: True\n"
     ]
    },
    {
     "name": "stderr",
     "output_type": "stream",
     "text": [
      "Fisher Score:   0%|          | 0/1 [00:00<?, ?batch/s]\n",
      "Fisher Score: 100%|██████████| 1/1 [00:08<00:00,  8.30s/batch]\n"
     ]
    },
    {
     "name": "stdout",
     "output_type": "stream",
     "text": [
      "(ClientAppActor pid=32272) No prefix/name for the model was provided, choosen prefix/name: cranky_pikachu_72\n",
      "(ClientAppActor pid=32272) \n"
     ]
    },
    {
     "name": "stderr",
     "output_type": "stream",
     "text": [
      "(ClientAppActor pid=32272) C:\\Users\\ADMIN\\Desktop\\BACKUP\\study\\Italy\\polito\\classes\\20242\\deep learning\\project\\source_code\\fl-g13\\.venv\\lib\\site-packages\\torch\\optim\\lr_scheduler.py:217: UserWarning: Seems like `optimizer.step()` has been overridden after learning rate scheduler initialization. Please, make sure to call `optimizer.step()` before `lr_scheduler.step()`. See more details at https://pytorch.org/docs/stable/optim.html#how-to-adjust-learning-rate\n",
      "(ClientAppActor pid=32272)   warnings.warn(\n"
     ]
    },
    {
     "name": "stdout",
     "output_type": "stream",
     "text": [
      "(ClientAppActor pid=32272) 🚀 Epoch 1/4 (25.00%) Completed\n",
      "(ClientAppActor pid=32272) \t📊 Training Loss: 0.6363\n",
      "(ClientAppActor pid=32272) \t✅ Training Accuracy: 84.00%\n",
      "(ClientAppActor pid=32272) \t⏳ Elapsed Time: 43.21s | ETA: 129.62s\n",
      "(ClientAppActor pid=32272) \t🕒 Completed At: 20:41\n",
      "(ClientAppActor pid=32272) \n",
      "(ClientAppActor pid=32272) 🚀 Epoch 2/4 (50.00%) Completed\n",
      "(ClientAppActor pid=32272) \t📊 Training Loss: 0.3890\n",
      "(ClientAppActor pid=32272) \t✅ Training Accuracy: 87.50%\n",
      "(ClientAppActor pid=32272) \t⏳ Elapsed Time: 38.01s | ETA: 76.02s\n",
      "(ClientAppActor pid=32272) \t🕒 Completed At: 20:41\n",
      "(ClientAppActor pid=32272) \n",
      "(ClientAppActor pid=32272) 🚀 Epoch 3/4 (75.00%) Completed\n",
      "(ClientAppActor pid=32272) \t📊 Training Loss: 0.2695\n",
      "(ClientAppActor pid=32272) \t✅ Training Accuracy: 90.50%\n",
      "(ClientAppActor pid=32272) \t⏳ Elapsed Time: 36.64s | ETA: 36.64s\n",
      "(ClientAppActor pid=32272) \t🕒 Completed At: 20:42\n",
      "(ClientAppActor pid=32272) \n",
      "(ClientAppActor pid=32272) 🚀 Epoch 4/4 (100.00%) Completed\n",
      "(ClientAppActor pid=32272) \t📊 Training Loss: 0.2231\n",
      "(ClientAppActor pid=32272) \t✅ Training Accuracy: 95.25%\n",
      "(ClientAppActor pid=32272) \t⏳ Elapsed Time: 37.26s | ETA: 0.00s\n",
      "(ClientAppActor pid=32272) \t🕒 Completed At: 20:43\n",
      "(ClientAppActor pid=32272) \n",
      "(ClientAppActor pid=32272) [Client] Client on device: cuda:0\n",
      "(ClientAppActor pid=32272) [Client] CUDA available in client: True\n"
     ]
    },
    {
     "name": "stderr",
     "output_type": "stream",
     "text": [
      "Fisher Score:   0%|          | 0/1 [00:00<?, ?batch/s]\n",
      "Fisher Score: 100%|██████████| 1/1 [00:01<00:00,  1.96s/batch]\n"
     ]
    },
    {
     "name": "stdout",
     "output_type": "stream",
     "text": [
      "(ClientAppActor pid=32272) No prefix/name for the model was provided, choosen prefix/name: quirky_clefairy_71\n",
      "(ClientAppActor pid=32272) \n",
      "(ClientAppActor pid=32272) 🚀 Epoch 1/4 (25.00%) Completed\n",
      "(ClientAppActor pid=32272) \t📊 Training Loss: 0.4298\n",
      "(ClientAppActor pid=32272) \t✅ Training Accuracy: 84.75%\n",
      "(ClientAppActor pid=32272) \t⏳ Elapsed Time: 38.51s | ETA: 115.54s\n",
      "(ClientAppActor pid=32272) \t🕒 Completed At: 20:43\n",
      "(ClientAppActor pid=32272) \n",
      "(ClientAppActor pid=32272) 🚀 Epoch 2/4 (50.00%) Completed\n",
      "(ClientAppActor pid=32272) \t📊 Training Loss: 0.3483\n",
      "(ClientAppActor pid=32272) \t✅ Training Accuracy: 87.00%\n",
      "(ClientAppActor pid=32272) \t⏳ Elapsed Time: 39.76s | ETA: 79.52s\n",
      "(ClientAppActor pid=32272) \t🕒 Completed At: 20:44\n",
      "(ClientAppActor pid=32272) \n",
      "(ClientAppActor pid=32272) 🚀 Epoch 3/4 (75.00%) Completed\n",
      "(ClientAppActor pid=32272) \t📊 Training Loss: 0.2871\n",
      "(ClientAppActor pid=32272) \t✅ Training Accuracy: 91.25%\n",
      "(ClientAppActor pid=32272) \t⏳ Elapsed Time: 40.29s | ETA: 40.29s\n",
      "(ClientAppActor pid=32272) \t🕒 Completed At: 20:45\n",
      "(ClientAppActor pid=32272) \n",
      "(ClientAppActor pid=32272) 🚀 Epoch 4/4 (100.00%) Completed\n",
      "(ClientAppActor pid=32272) \t📊 Training Loss: 0.2335\n",
      "(ClientAppActor pid=32272) \t✅ Training Accuracy: 91.50%\n",
      "(ClientAppActor pid=32272) \t⏳ Elapsed Time: 38.84s | ETA: 0.00s\n",
      "(ClientAppActor pid=32272) \t🕒 Completed At: 20:45\n",
      "(ClientAppActor pid=32272) \n"
     ]
    },
    {
     "name": "stderr",
     "output_type": "stream",
     "text": [
      "Fisher Score:   0%|          | 0/1 [00:00<?, ?batch/s]\n"
     ]
    },
    {
     "name": "stdout",
     "output_type": "stream",
     "text": [
      "(ClientAppActor pid=32272) [Client] Client on device: cuda:0\n",
      "(ClientAppActor pid=32272) [Client] CUDA available in client: True\n"
     ]
    },
    {
     "name": "stderr",
     "output_type": "stream",
     "text": [
      "Fisher Score: 100%|██████████| 1/1 [00:06<00:00,  6.49s/batch]\n"
     ]
    },
    {
     "name": "stdout",
     "output_type": "stream",
     "text": [
      "(ClientAppActor pid=32272) No prefix/name for the model was provided, choosen prefix/name: zany_weedle_49\n",
      "(ClientAppActor pid=32272) \n",
      "(ClientAppActor pid=32272) 🚀 Epoch 1/4 (25.00%) Completed\n",
      "(ClientAppActor pid=32272) \t📊 Training Loss: 0.6908\n",
      "(ClientAppActor pid=32272) \t✅ Training Accuracy: 84.25%\n",
      "(ClientAppActor pid=32272) \t⏳ Elapsed Time: 39.84s | ETA: 119.51s\n",
      "(ClientAppActor pid=32272) \t🕒 Completed At: 20:46\n",
      "(ClientAppActor pid=32272) \n",
      "(ClientAppActor pid=32272) 🚀 Epoch 2/4 (50.00%) Completed\n",
      "(ClientAppActor pid=32272) \t📊 Training Loss: 0.4084\n",
      "(ClientAppActor pid=32272) \t✅ Training Accuracy: 89.25%\n",
      "(ClientAppActor pid=32272) \t⏳ Elapsed Time: 38.91s | ETA: 77.82s\n",
      "(ClientAppActor pid=32272) \t🕒 Completed At: 20:47\n",
      "(ClientAppActor pid=32272) \n",
      "(ClientAppActor pid=32272) 🚀 Epoch 3/4 (75.00%) Completed\n",
      "(ClientAppActor pid=32272) \t📊 Training Loss: 0.4686\n",
      "(ClientAppActor pid=32272) \t✅ Training Accuracy: 89.00%\n",
      "(ClientAppActor pid=32272) \t⏳ Elapsed Time: 40.66s | ETA: 40.66s\n",
      "(ClientAppActor pid=32272) \t🕒 Completed At: 20:48\n",
      "(ClientAppActor pid=32272) \n",
      "(ClientAppActor pid=32272) 🚀 Epoch 4/4 (100.00%) Completed\n",
      "(ClientAppActor pid=32272) \t📊 Training Loss: 0.2922\n",
      "(ClientAppActor pid=32272) \t✅ Training Accuracy: 91.75%\n",
      "(ClientAppActor pid=32272) \t⏳ Elapsed Time: 39.48s | ETA: 0.00s\n",
      "(ClientAppActor pid=32272) \t🕒 Completed At: 20:48\n",
      "(ClientAppActor pid=32272) \n"
     ]
    },
    {
     "name": "stderr",
     "output_type": "stream",
     "text": [
      "Fisher Score:   0%|          | 0/1 [00:00<?, ?batch/s]\n"
     ]
    },
    {
     "name": "stdout",
     "output_type": "stream",
     "text": [
      "(ClientAppActor pid=32272) [Client] Client on device: cuda:0\n",
      "(ClientAppActor pid=32272) [Client] CUDA available in client: True\n"
     ]
    },
    {
     "name": "stderr",
     "output_type": "stream",
     "text": [
      "Fisher Score: 100%|██████████| 1/1 [00:06<00:00,  6.41s/batch]\n"
     ]
    },
    {
     "name": "stdout",
     "output_type": "stream",
     "text": [
      "(ClientAppActor pid=32272) No prefix/name for the model was provided, choosen prefix/name: zesty_nidoqueen_84\n",
      "(ClientAppActor pid=32272) \n",
      "(ClientAppActor pid=32272) 🚀 Epoch 1/4 (25.00%) Completed\n",
      "(ClientAppActor pid=32272) \t📊 Training Loss: 0.5392\n",
      "(ClientAppActor pid=32272) \t✅ Training Accuracy: 82.50%\n",
      "(ClientAppActor pid=32272) \t⏳ Elapsed Time: 41.58s | ETA: 124.75s\n",
      "(ClientAppActor pid=32272) \t🕒 Completed At: 20:49\n",
      "(ClientAppActor pid=32272) \n",
      "(ClientAppActor pid=32272) 🚀 Epoch 2/4 (50.00%) Completed\n",
      "(ClientAppActor pid=32272) \t📊 Training Loss: 0.4150\n",
      "(ClientAppActor pid=32272) \t✅ Training Accuracy: 87.50%\n",
      "(ClientAppActor pid=32272) \t⏳ Elapsed Time: 38.72s | ETA: 77.44s\n",
      "(ClientAppActor pid=32272) \t🕒 Completed At: 20:50\n",
      "(ClientAppActor pid=32272) \n",
      "(ClientAppActor pid=32272) 🚀 Epoch 3/4 (75.00%) Completed\n",
      "(ClientAppActor pid=32272) \t📊 Training Loss: 0.2862\n",
      "(ClientAppActor pid=32272) \t✅ Training Accuracy: 91.50%\n",
      "(ClientAppActor pid=32272) \t⏳ Elapsed Time: 39.43s | ETA: 39.43s\n",
      "(ClientAppActor pid=32272) \t🕒 Completed At: 20:50\n",
      "(ClientAppActor pid=32272) \n",
      "(ClientAppActor pid=32272) 🚀 Epoch 4/4 (100.00%) Completed\n",
      "(ClientAppActor pid=32272) \t📊 Training Loss: 0.2320\n",
      "(ClientAppActor pid=32272) \t✅ Training Accuracy: 94.50%\n",
      "(ClientAppActor pid=32272) \t⏳ Elapsed Time: 38.88s | ETA: 0.00s\n",
      "(ClientAppActor pid=32272) \t🕒 Completed At: 20:51\n",
      "(ClientAppActor pid=32272) \n",
      "(ClientAppActor pid=32272) [Client] Client on device: cuda:0\n",
      "(ClientAppActor pid=32272) [Client] CUDA available in client: True\n"
     ]
    },
    {
     "name": "stderr",
     "output_type": "stream",
     "text": [
      "Fisher Score:   0%|          | 0/1 [00:00<?, ?batch/s]\n",
      "Fisher Score: 100%|██████████| 1/1 [00:00<00:00,  1.51batch/s]\n"
     ]
    },
    {
     "name": "stdout",
     "output_type": "stream",
     "text": [
      "(ClientAppActor pid=32272) No prefix/name for the model was provided, choosen prefix/name: bouncy_metapod_50\n",
      "(ClientAppActor pid=32272) \n",
      "(ClientAppActor pid=32272) 🚀 Epoch 1/4 (25.00%) Completed\n",
      "(ClientAppActor pid=32272) \t📊 Training Loss: 0.7419\n",
      "(ClientAppActor pid=32272) \t✅ Training Accuracy: 80.50%\n",
      "(ClientAppActor pid=32272) \t⏳ Elapsed Time: 42.51s | ETA: 127.53s\n",
      "(ClientAppActor pid=32272) \t🕒 Completed At: 20:52\n",
      "(ClientAppActor pid=32272) \n",
      "(ClientAppActor pid=32272) 🚀 Epoch 2/4 (50.00%) Completed\n",
      "(ClientAppActor pid=32272) \t📊 Training Loss: 0.4725\n",
      "(ClientAppActor pid=32272) \t✅ Training Accuracy: 84.75%\n",
      "(ClientAppActor pid=32272) \t⏳ Elapsed Time: 39.44s | ETA: 78.88s\n",
      "(ClientAppActor pid=32272) \t🕒 Completed At: 20:53\n",
      "(ClientAppActor pid=32272) \n",
      "(ClientAppActor pid=32272) 🚀 Epoch 3/4 (75.00%) Completed\n",
      "(ClientAppActor pid=32272) \t📊 Training Loss: 0.3659\n",
      "(ClientAppActor pid=32272) \t✅ Training Accuracy: 89.00%\n",
      "(ClientAppActor pid=32272) \t⏳ Elapsed Time: 41.30s | ETA: 41.30s\n",
      "(ClientAppActor pid=32272) \t🕒 Completed At: 20:53\n",
      "(ClientAppActor pid=32272) \n",
      "(ClientAppActor pid=32272) 🚀 Epoch 4/4 (100.00%) Completed\n",
      "(ClientAppActor pid=32272) \t📊 Training Loss: 0.3657\n",
      "(ClientAppActor pid=32272) \t✅ Training Accuracy: 92.25%\n",
      "(ClientAppActor pid=32272) \t⏳ Elapsed Time: 40.05s | ETA: 0.00s\n",
      "(ClientAppActor pid=32272) \t🕒 Completed At: 20:54\n",
      "(ClientAppActor pid=32272) \n"
     ]
    },
    {
     "name": "stderr",
     "output_type": "stream",
     "text": [
      "Fisher Score:   0%|          | 0/1 [00:00<?, ?batch/s]\n"
     ]
    },
    {
     "name": "stdout",
     "output_type": "stream",
     "text": [
      "(ClientAppActor pid=32272) [Client] Client on device: cuda:0\n",
      "(ClientAppActor pid=32272) [Client] CUDA available in client: True\n"
     ]
    },
    {
     "name": "stderr",
     "output_type": "stream",
     "text": [
      "Fisher Score: 100%|██████████| 1/1 [00:00<00:00,  2.27batch/s]\n"
     ]
    },
    {
     "name": "stdout",
     "output_type": "stream",
     "text": [
      "(ClientAppActor pid=32272) No prefix/name for the model was provided, choosen prefix/name: jazzy_ekans_15\n",
      "(ClientAppActor pid=32272) \n",
      "(ClientAppActor pid=32272) 🚀 Epoch 1/4 (25.00%) Completed\n",
      "(ClientAppActor pid=32272) \t📊 Training Loss: 0.3208\n",
      "(ClientAppActor pid=32272) \t✅ Training Accuracy: 88.75%\n",
      "(ClientAppActor pid=32272) \t⏳ Elapsed Time: 41.29s | ETA: 123.86s\n",
      "(ClientAppActor pid=32272) \t🕒 Completed At: 20:55\n",
      "(ClientAppActor pid=32272) \n",
      "(ClientAppActor pid=32272) 🚀 Epoch 2/4 (50.00%) Completed\n",
      "(ClientAppActor pid=32272) \t📊 Training Loss: 0.2960\n",
      "(ClientAppActor pid=32272) \t✅ Training Accuracy: 91.75%\n",
      "(ClientAppActor pid=32272) \t⏳ Elapsed Time: 40.50s | ETA: 80.99s\n",
      "(ClientAppActor pid=32272) \t🕒 Completed At: 20:55\n",
      "(ClientAppActor pid=32272) \n",
      "(ClientAppActor pid=32272) 🚀 Epoch 3/4 (75.00%) Completed\n",
      "(ClientAppActor pid=32272) \t📊 Training Loss: 0.2176\n",
      "(ClientAppActor pid=32272) \t✅ Training Accuracy: 95.00%\n",
      "(ClientAppActor pid=32272) \t⏳ Elapsed Time: 39.88s | ETA: 39.88s\n",
      "(ClientAppActor pid=32272) \t🕒 Completed At: 20:56\n",
      "(ClientAppActor pid=32272) \n",
      "(ClientAppActor pid=32272) 🚀 Epoch 4/4 (100.00%) Completed\n",
      "(ClientAppActor pid=32272) \t📊 Training Loss: 0.1959\n",
      "(ClientAppActor pid=32272) \t✅ Training Accuracy: 95.50%\n",
      "(ClientAppActor pid=32272) \t⏳ Elapsed Time: 38.85s | ETA: 0.00s\n",
      "(ClientAppActor pid=32272) \t🕒 Completed At: 20:57\n",
      "(ClientAppActor pid=32272) \n"
     ]
    },
    {
     "name": "stderr",
     "output_type": "stream",
     "text": [
      "Fisher Score:   0%|          | 0/1 [00:00<?, ?batch/s]\n"
     ]
    },
    {
     "name": "stdout",
     "output_type": "stream",
     "text": [
      "(ClientAppActor pid=32272) [Client] Client on device: cuda:0\n",
      "(ClientAppActor pid=32272) [Client] CUDA available in client: True\n"
     ]
    },
    {
     "name": "stderr",
     "output_type": "stream",
     "text": [
      "Fisher Score: 100%|██████████| 1/1 [00:00<00:00,  2.04batch/s]\n"
     ]
    },
    {
     "name": "stdout",
     "output_type": "stream",
     "text": [
      "(ClientAppActor pid=32272) No prefix/name for the model was provided, choosen prefix/name: groovy_nidoran_49\n",
      "(ClientAppActor pid=32272) \n",
      "(ClientAppActor pid=32272) 🚀 Epoch 1/4 (25.00%) Completed\n",
      "(ClientAppActor pid=32272) \t📊 Training Loss: 0.7796\n",
      "(ClientAppActor pid=32272) \t✅ Training Accuracy: 76.75%\n",
      "(ClientAppActor pid=32272) \t⏳ Elapsed Time: 39.05s | ETA: 117.16s\n",
      "(ClientAppActor pid=32272) \t🕒 Completed At: 20:58\n",
      "(ClientAppActor pid=32272) \n",
      "(ClientAppActor pid=32272) 🚀 Epoch 2/4 (50.00%) Completed\n",
      "(ClientAppActor pid=32272) \t📊 Training Loss: 0.7119\n",
      "(ClientAppActor pid=32272) \t✅ Training Accuracy: 81.00%\n",
      "(ClientAppActor pid=32272) \t⏳ Elapsed Time: 38.23s | ETA: 76.46s\n",
      "(ClientAppActor pid=32272) \t🕒 Completed At: 20:58\n",
      "(ClientAppActor pid=32272) \n",
      "(ClientAppActor pid=32272) 🚀 Epoch 3/4 (75.00%) Completed\n",
      "(ClientAppActor pid=32272) \t📊 Training Loss: 0.6106\n",
      "(ClientAppActor pid=32272) \t✅ Training Accuracy: 85.50%\n",
      "(ClientAppActor pid=32272) \t⏳ Elapsed Time: 38.31s | ETA: 38.31s\n",
      "(ClientAppActor pid=32272) \t🕒 Completed At: 20:59\n",
      "(ClientAppActor pid=32272) \n",
      "(ClientAppActor pid=32272) 🚀 Epoch 4/4 (100.00%) Completed\n",
      "(ClientAppActor pid=32272) \t📊 Training Loss: 0.4093\n",
      "(ClientAppActor pid=32272) \t✅ Training Accuracy: 88.25%\n",
      "(ClientAppActor pid=32272) \t⏳ Elapsed Time: 38.19s | ETA: 0.00s\n",
      "(ClientAppActor pid=32272) \t🕒 Completed At: 20:59\n",
      "(ClientAppActor pid=32272) \n"
     ]
    },
    {
     "name": "stderr",
     "output_type": "stream",
     "text": [
      "Fisher Score:   0%|          | 0/1 [00:00<?, ?batch/s]\n"
     ]
    },
    {
     "name": "stdout",
     "output_type": "stream",
     "text": [
      "(ClientAppActor pid=32272) [Client] Client on device: cuda:0\n",
      "(ClientAppActor pid=32272) [Client] CUDA available in client: True\n"
     ]
    },
    {
     "name": "stderr",
     "output_type": "stream",
     "text": [
      "Fisher Score: 100%|██████████| 1/1 [00:06<00:00,  6.59s/batch]\n"
     ]
    },
    {
     "name": "stdout",
     "output_type": "stream",
     "text": [
      "(ClientAppActor pid=32272) No prefix/name for the model was provided, choosen prefix/name: frosty_spearow_93\n",
      "(ClientAppActor pid=32272) \n",
      "(ClientAppActor pid=32272) 🚀 Epoch 1/4 (25.00%) Completed\n",
      "(ClientAppActor pid=32272) \t📊 Training Loss: 0.5830\n",
      "(ClientAppActor pid=32272) \t✅ Training Accuracy: 85.25%\n",
      "(ClientAppActor pid=32272) \t⏳ Elapsed Time: 38.66s | ETA: 115.99s\n",
      "(ClientAppActor pid=32272) \t🕒 Completed At: 21:00\n",
      "(ClientAppActor pid=32272) \n",
      "(ClientAppActor pid=32272) 🚀 Epoch 2/4 (50.00%) Completed\n",
      "(ClientAppActor pid=32272) \t📊 Training Loss: 0.4737\n",
      "(ClientAppActor pid=32272) \t✅ Training Accuracy: 86.00%\n",
      "(ClientAppActor pid=32272) \t⏳ Elapsed Time: 39.42s | ETA: 78.83s\n",
      "(ClientAppActor pid=32272) \t🕒 Completed At: 21:01\n",
      "(ClientAppActor pid=32272) \n",
      "(ClientAppActor pid=32272) 🚀 Epoch 3/4 (75.00%) Completed\n",
      "(ClientAppActor pid=32272) \t📊 Training Loss: 0.3548\n",
      "(ClientAppActor pid=32272) \t✅ Training Accuracy: 89.75%\n",
      "(ClientAppActor pid=32272) \t⏳ Elapsed Time: 38.22s | ETA: 38.22s\n",
      "(ClientAppActor pid=32272) \t🕒 Completed At: 21:02\n",
      "(ClientAppActor pid=32272) \n",
      "(ClientAppActor pid=32272) 🚀 Epoch 4/4 (100.00%) Completed\n",
      "(ClientAppActor pid=32272) \t📊 Training Loss: 0.2120\n",
      "(ClientAppActor pid=32272) \t✅ Training Accuracy: 93.25%\n",
      "(ClientAppActor pid=32272) \t⏳ Elapsed Time: 38.25s | ETA: 0.00s\n",
      "(ClientAppActor pid=32272) \t🕒 Completed At: 21:02\n",
      "(ClientAppActor pid=32272) \n",
      "(ClientAppActor pid=32272) [Client] Client on device: cuda:0\n",
      "(ClientAppActor pid=32272) [Client] CUDA available in client: True\n"
     ]
    },
    {
     "name": "stderr",
     "output_type": "stream",
     "text": [
      "Fisher Score:   0%|          | 0/1 [00:00<?, ?batch/s]\n",
      "Fisher Score: 100%|██████████| 1/1 [00:01<00:00,  1.04s/batch]\n"
     ]
    },
    {
     "name": "stdout",
     "output_type": "stream",
     "text": [
      "(ClientAppActor pid=32272) No prefix/name for the model was provided, choosen prefix/name: zany_pidgeot_92\n",
      "(ClientAppActor pid=32272) \n",
      "(ClientAppActor pid=32272) 🚀 Epoch 1/4 (25.00%) Completed\n",
      "(ClientAppActor pid=32272) \t📊 Training Loss: 0.9182\n",
      "(ClientAppActor pid=32272) \t✅ Training Accuracy: 73.75%\n",
      "(ClientAppActor pid=32272) \t⏳ Elapsed Time: 39.33s | ETA: 117.99s\n",
      "(ClientAppActor pid=32272) \t🕒 Completed At: 21:03\n",
      "(ClientAppActor pid=32272) \n",
      "(ClientAppActor pid=32272) 🚀 Epoch 2/4 (50.00%) Completed\n",
      "(ClientAppActor pid=32272) \t📊 Training Loss: 0.7392\n",
      "(ClientAppActor pid=32272) \t✅ Training Accuracy: 79.25%\n",
      "(ClientAppActor pid=32272) \t⏳ Elapsed Time: 38.26s | ETA: 76.53s\n",
      "(ClientAppActor pid=32272) \t🕒 Completed At: 21:04\n",
      "(ClientAppActor pid=32272) \n",
      "(ClientAppActor pid=32272) 🚀 Epoch 3/4 (75.00%) Completed\n",
      "(ClientAppActor pid=32272) \t📊 Training Loss: 0.5143\n",
      "(ClientAppActor pid=32272) \t✅ Training Accuracy: 83.75%\n",
      "(ClientAppActor pid=32272) \t⏳ Elapsed Time: 38.33s | ETA: 38.33s\n",
      "(ClientAppActor pid=32272) \t🕒 Completed At: 21:04\n",
      "(ClientAppActor pid=32272) \n",
      "(ClientAppActor pid=32272) 🚀 Epoch 4/4 (100.00%) Completed\n",
      "(ClientAppActor pid=32272) \t📊 Training Loss: 0.4954\n",
      "(ClientAppActor pid=32272) \t✅ Training Accuracy: 89.75%\n",
      "(ClientAppActor pid=32272) \t⏳ Elapsed Time: 40.31s | ETA: 0.00s\n",
      "(ClientAppActor pid=32272) \t🕒 Completed At: 21:05\n",
      "(ClientAppActor pid=32272) \n"
     ]
    },
    {
     "name": "stderr",
     "output_type": "stream",
     "text": [
      "Fisher Score:   0%|          | 0/1 [00:00<?, ?batch/s]\n"
     ]
    },
    {
     "name": "stdout",
     "output_type": "stream",
     "text": [
      "(ClientAppActor pid=32272) [Client] Client on device: cuda:0\n",
      "(ClientAppActor pid=32272) [Client] CUDA available in client: True\n"
     ]
    },
    {
     "name": "stderr",
     "output_type": "stream",
     "text": [
      "Fisher Score: 100%|██████████| 1/1 [00:06<00:00,  6.57s/batch]\n"
     ]
    },
    {
     "name": "stdout",
     "output_type": "stream",
     "text": [
      "(ClientAppActor pid=32272) No prefix/name for the model was provided, choosen prefix/name: jumpy_raichu_25\n",
      "(ClientAppActor pid=32272) \n",
      "(ClientAppActor pid=32272) 🚀 Epoch 1/4 (25.00%) Completed\n",
      "(ClientAppActor pid=32272) \t📊 Training Loss: 0.5673\n",
      "(ClientAppActor pid=32272) \t✅ Training Accuracy: 81.25%\n",
      "(ClientAppActor pid=32272) \t⏳ Elapsed Time: 38.60s | ETA: 115.80s\n",
      "(ClientAppActor pid=32272) \t🕒 Completed At: 21:06\n",
      "(ClientAppActor pid=32272) \n",
      "(ClientAppActor pid=32272) 🚀 Epoch 2/4 (50.00%) Completed\n",
      "(ClientAppActor pid=32272) \t📊 Training Loss: 0.5048\n",
      "(ClientAppActor pid=32272) \t✅ Training Accuracy: 86.00%\n",
      "(ClientAppActor pid=32272) \t⏳ Elapsed Time: 38.28s | ETA: 76.55s\n",
      "(ClientAppActor pid=32272) \t🕒 Completed At: 21:06\n",
      "(ClientAppActor pid=32272) \n",
      "(ClientAppActor pid=32272) 🚀 Epoch 3/4 (75.00%) Completed\n",
      "(ClientAppActor pid=32272) \t📊 Training Loss: 0.4728\n",
      "(ClientAppActor pid=32272) \t✅ Training Accuracy: 90.00%\n",
      "(ClientAppActor pid=32272) \t⏳ Elapsed Time: 38.37s | ETA: 38.37s\n",
      "(ClientAppActor pid=32272) \t🕒 Completed At: 21:07\n",
      "(ClientAppActor pid=32272) \n",
      "(ClientAppActor pid=32272) 🚀 Epoch 4/4 (100.00%) Completed\n",
      "(ClientAppActor pid=32272) \t📊 Training Loss: 0.2572\n",
      "(ClientAppActor pid=32272) \t✅ Training Accuracy: 93.00%\n",
      "(ClientAppActor pid=32272) \t⏳ Elapsed Time: 37.50s | ETA: 0.00s\n",
      "(ClientAppActor pid=32272) \t🕒 Completed At: 21:08\n",
      "(ClientAppActor pid=32272) \n"
     ]
    },
    {
     "name": "stderr",
     "output_type": "stream",
     "text": [
      "\u001B[92mINFO \u001B[0m:      aggregate_fit: received 10 results and 0 failures\n",
      "\u001B[92mINFO \u001B[0m:      [Round 1] Avg Drift: 0.2831 | Relative Drift: 0.0005\n",
      "\u001B[92mINFO \u001B[0m:      [Round 1] Saving aggregated model at epoch 78...\n"
     ]
    },
    {
     "name": "stdout",
     "output_type": "stream",
     "text": [
      "💾 Saved checkpoint at: C:\\Users\\ADMIN\\Desktop\\BACKUP\\study\\Italy\\polito\\classes\\20242\\deep learning\\project\\source_code\\fl-g13\\models\\fl_dino_baseline\\iid\\fl_fl_baseline_BaseDino_epoch_78.pth\n",
      "[Server Eval Round 1] Model device: cuda:0\n",
      "[Server Eval Round 1] CUDA available in server eval: True\n"
     ]
    },
    {
     "name": "stderr",
     "output_type": "stream",
     "text": [
      "Eval progress: 100%|██████████| 313/313 [00:31<00:00,  9.97batch/s]\n",
      "\u001B[92mINFO \u001B[0m:      [Round 1] Centralized Evaluation - Loss: 0.8577, Metrics: {'centralized_accuracy': 0.7591}\n",
      "\u001B[92mINFO \u001B[0m:      fit progress: (1, 0.857653759324703, {'centralized_accuracy': 0.7591}, 1723.7104076999822)\n",
      "\u001B[92mINFO \u001B[0m:      configure_evaluate: strategy sampled 10 clients (out of 100)\n",
      "Fisher Score:   0%|          | 0/1 [00:00<?, ?batch/s]\n"
     ]
    },
    {
     "name": "stdout",
     "output_type": "stream",
     "text": [
      "(ClientAppActor pid=32272) [Client] Client on device: cuda:0\n",
      "(ClientAppActor pid=32272) [Client] CUDA available in client: True\n"
     ]
    },
    {
     "name": "stderr",
     "output_type": "stream",
     "text": [
      "Fisher Score: 100%|██████████| 1/1 [00:06<00:00,  6.68s/batch]\n",
      "Eval progress:   0%|          | 0/1 [00:00<?, ?batch/s]\n",
      "Eval progress: 100%|██████████| 1/1 [00:00<00:00,  2.97batch/s]\n",
      "Fisher Score:   0%|          | 0/1 [00:00<?, ?batch/s]\n"
     ]
    },
    {
     "name": "stdout",
     "output_type": "stream",
     "text": [
      "(ClientAppActor pid=32272) [Client] Client on device: cuda:0\n",
      "(ClientAppActor pid=32272) [Client] CUDA available in client: True\n"
     ]
    },
    {
     "name": "stderr",
     "output_type": "stream",
     "text": [
      "Fisher Score: 100%|██████████| 1/1 [00:06<00:00,  6.66s/batch]\n",
      "Eval progress:   0%|          | 0/1 [00:00<?, ?batch/s]\n",
      "Eval progress: 100%|██████████| 1/1 [00:00<00:00,  3.15batch/s]\n"
     ]
    },
    {
     "name": "stdout",
     "output_type": "stream",
     "text": [
      "(ClientAppActor pid=32272) [Client] Client on device: cuda:0\n",
      "(ClientAppActor pid=32272) [Client] CUDA available in client: True\n"
     ]
    },
    {
     "name": "stderr",
     "output_type": "stream",
     "text": [
      "Fisher Score:   0%|          | 0/1 [00:00<?, ?batch/s]\n",
      "Fisher Score: 100%|██████████| 1/1 [00:00<00:00,  2.42batch/s]\n",
      "Eval progress:   0%|          | 0/1 [00:00<?, ?batch/s]\n",
      "Eval progress: 100%|██████████| 1/1 [00:00<00:00,  3.31batch/s]\n"
     ]
    },
    {
     "name": "stdout",
     "output_type": "stream",
     "text": [
      "(ClientAppActor pid=32272) [Client] Client on device: cuda:0\n",
      "(ClientAppActor pid=32272) [Client] CUDA available in client: True\n"
     ]
    },
    {
     "name": "stderr",
     "output_type": "stream",
     "text": [
      "Fisher Score:   0%|          | 0/1 [00:00<?, ?batch/s]\n",
      "Fisher Score: 100%|██████████| 1/1 [00:00<00:00,  2.29batch/s]\n",
      "Eval progress:   0%|          | 0/1 [00:00<?, ?batch/s]\n",
      "Eval progress: 100%|██████████| 1/1 [00:00<00:00,  3.39batch/s]\n"
     ]
    },
    {
     "name": "stdout",
     "output_type": "stream",
     "text": [
      "(ClientAppActor pid=32272) [Client] Client on device: cuda:0\n",
      "(ClientAppActor pid=32272) [Client] CUDA available in client: True\n"
     ]
    },
    {
     "name": "stderr",
     "output_type": "stream",
     "text": [
      "Fisher Score:   0%|          | 0/1 [00:00<?, ?batch/s]\n",
      "Fisher Score: 100%|██████████| 1/1 [00:00<00:00,  2.18batch/s]\n",
      "Eval progress:   0%|          | 0/1 [00:00<?, ?batch/s]\n",
      "Eval progress: 100%|██████████| 1/1 [00:00<00:00,  3.18batch/s]\n"
     ]
    },
    {
     "name": "stdout",
     "output_type": "stream",
     "text": [
      "(ClientAppActor pid=32272) [Client] Client on device: cuda:0\n",
      "(ClientAppActor pid=32272) [Client] CUDA available in client: True\n"
     ]
    },
    {
     "name": "stderr",
     "output_type": "stream",
     "text": [
      "Fisher Score:   0%|          | 0/1 [00:00<?, ?batch/s]\n",
      "Fisher Score: 100%|██████████| 1/1 [00:07<00:00,  7.15s/batch]\n",
      "Eval progress:   0%|          | 0/1 [00:00<?, ?batch/s]\n",
      "Eval progress: 100%|██████████| 1/1 [00:00<00:00,  3.25batch/s]\n",
      "Fisher Score:   0%|          | 0/1 [00:00<?, ?batch/s]\n"
     ]
    },
    {
     "name": "stdout",
     "output_type": "stream",
     "text": [
      "(ClientAppActor pid=32272) [Client] Client on device: cuda:0\n",
      "(ClientAppActor pid=32272) [Client] CUDA available in client: True\n"
     ]
    },
    {
     "name": "stderr",
     "output_type": "stream",
     "text": [
      "Fisher Score: 100%|██████████| 1/1 [00:00<00:00,  2.41batch/s]\n",
      "Eval progress:   0%|          | 0/1 [00:00<?, ?batch/s]\n",
      "Eval progress: 100%|██████████| 1/1 [00:00<00:00,  3.52batch/s]\n",
      "Fisher Score:   0%|          | 0/1 [00:00<?, ?batch/s]\n"
     ]
    },
    {
     "name": "stdout",
     "output_type": "stream",
     "text": [
      "(ClientAppActor pid=32272) [Client] Client on device: cuda:0\n",
      "(ClientAppActor pid=32272) [Client] CUDA available in client: True\n"
     ]
    },
    {
     "name": "stderr",
     "output_type": "stream",
     "text": [
      "Fisher Score: 100%|██████████| 1/1 [00:00<00:00,  2.37batch/s]\n",
      "Eval progress:   0%|          | 0/1 [00:00<?, ?batch/s]\n",
      "Eval progress: 100%|██████████| 1/1 [00:02<00:00,  2.01s/batch]\n"
     ]
    },
    {
     "name": "stdout",
     "output_type": "stream",
     "text": [
      "(ClientAppActor pid=32272) [Client] Client on device: cuda:0\n",
      "(ClientAppActor pid=32272) [Client] CUDA available in client: True\n"
     ]
    },
    {
     "name": "stderr",
     "output_type": "stream",
     "text": [
      "Fisher Score:   0%|          | 0/1 [00:00<?, ?batch/s]\n",
      "Fisher Score: 100%|██████████| 1/1 [00:00<00:00,  2.14batch/s]\n",
      "Eval progress:   0%|          | 0/1 [00:00<?, ?batch/s]\n",
      "Eval progress: 100%|██████████| 1/1 [00:00<00:00,  2.96batch/s]\n",
      "Fisher Score:   0%|          | 0/1 [00:00<?, ?batch/s]\n"
     ]
    },
    {
     "name": "stdout",
     "output_type": "stream",
     "text": [
      "(ClientAppActor pid=32272) [Client] Client on device: cuda:0\n",
      "(ClientAppActor pid=32272) [Client] CUDA available in client: True\n"
     ]
    },
    {
     "name": "stderr",
     "output_type": "stream",
     "text": [
      "Fisher Score: 100%|██████████| 1/1 [00:06<00:00,  6.59s/batch]\n",
      "Eval progress:   0%|          | 0/1 [00:00<?, ?batch/s]\n",
      "Eval progress: 100%|██████████| 1/1 [00:00<00:00,  3.09batch/s]\n",
      "\u001B[92mINFO \u001B[0m:      aggregate_evaluate: received 10 results and 0 failures\n",
      "\u001B[92mINFO \u001B[0m:      \n",
      "\u001B[92mINFO \u001B[0m:      [ROUND 2]\n",
      "\u001B[92mINFO \u001B[0m:      configure_fit: strategy sampled 10 clients (out of 100)\n"
     ]
    },
    {
     "name": "stdout",
     "output_type": "stream",
     "text": [
      "(ClientAppActor pid=32272) [Client] Client on device: cuda:0\n",
      "(ClientAppActor pid=32272) [Client] CUDA available in client: True\n"
     ]
    },
    {
     "name": "stderr",
     "output_type": "stream",
     "text": [
      "Fisher Score:   0%|          | 0/1 [00:00<?, ?batch/s]\n",
      "Fisher Score: 100%|██████████| 1/1 [00:00<00:00,  1.55batch/s]\n"
     ]
    },
    {
     "name": "stdout",
     "output_type": "stream",
     "text": [
      "(ClientAppActor pid=32272) No prefix/name for the model was provided, choosen prefix/name: soggy_raticate_35\n",
      "(ClientAppActor pid=32272) \n",
      "(ClientAppActor pid=32272) 🚀 Epoch 1/4 (25.00%) Completed\n",
      "(ClientAppActor pid=32272) \t📊 Training Loss: 0.4973\n",
      "(ClientAppActor pid=32272) \t✅ Training Accuracy: 88.75%\n",
      "(ClientAppActor pid=32272) \t⏳ Elapsed Time: 38.82s | ETA: 116.47s\n",
      "(ClientAppActor pid=32272) \t🕒 Completed At: 21:11\n",
      "(ClientAppActor pid=32272) \n",
      "(ClientAppActor pid=32272) 🚀 Epoch 2/4 (50.00%) Completed\n",
      "(ClientAppActor pid=32272) \t📊 Training Loss: 0.4409\n",
      "(ClientAppActor pid=32272) \t✅ Training Accuracy: 89.25%\n",
      "(ClientAppActor pid=32272) \t⏳ Elapsed Time: 37.98s | ETA: 75.96s\n",
      "(ClientAppActor pid=32272) \t🕒 Completed At: 21:11\n",
      "(ClientAppActor pid=32272) \n",
      "(ClientAppActor pid=32272) 🚀 Epoch 3/4 (75.00%) Completed\n",
      "(ClientAppActor pid=32272) \t📊 Training Loss: 0.3544\n",
      "(ClientAppActor pid=32272) \t✅ Training Accuracy: 87.50%\n",
      "(ClientAppActor pid=32272) \t⏳ Elapsed Time: 37.93s | ETA: 37.93s\n",
      "(ClientAppActor pid=32272) \t🕒 Completed At: 21:12\n",
      "(ClientAppActor pid=32272) \n",
      "(ClientAppActor pid=32272) 🚀 Epoch 4/4 (100.00%) Completed\n",
      "(ClientAppActor pid=32272) \t📊 Training Loss: 0.2663\n",
      "(ClientAppActor pid=32272) \t✅ Training Accuracy: 93.00%\n",
      "(ClientAppActor pid=32272) \t⏳ Elapsed Time: 38.10s | ETA: 0.00s\n",
      "(ClientAppActor pid=32272) \t🕒 Completed At: 21:13\n",
      "(ClientAppActor pid=32272) \n",
      "(ClientAppActor pid=32272) [Client] Client on device: cuda:0\n",
      "(ClientAppActor pid=32272) [Client] CUDA available in client: True\n"
     ]
    },
    {
     "name": "stderr",
     "output_type": "stream",
     "text": [
      "Fisher Score:   0%|          | 0/1 [00:00<?, ?batch/s]\n",
      "Fisher Score: 100%|██████████| 1/1 [00:06<00:00,  6.65s/batch]\n"
     ]
    },
    {
     "name": "stdout",
     "output_type": "stream",
     "text": [
      "(ClientAppActor pid=32272) No prefix/name for the model was provided, choosen prefix/name: breezy_ekans_93\n",
      "(ClientAppActor pid=32272) \n",
      "(ClientAppActor pid=32272) 🚀 Epoch 1/4 (25.00%) Completed\n",
      "(ClientAppActor pid=32272) \t📊 Training Loss: 0.5948\n",
      "(ClientAppActor pid=32272) \t✅ Training Accuracy: 83.75%\n",
      "(ClientAppActor pid=32272) \t⏳ Elapsed Time: 38.15s | ETA: 114.45s\n",
      "(ClientAppActor pid=32272) \t🕒 Completed At: 21:13\n",
      "(ClientAppActor pid=32272) \n",
      "(ClientAppActor pid=32272) 🚀 Epoch 2/4 (50.00%) Completed\n",
      "(ClientAppActor pid=32272) \t📊 Training Loss: 0.3919\n",
      "(ClientAppActor pid=32272) \t✅ Training Accuracy: 87.75%\n",
      "(ClientAppActor pid=32272) \t⏳ Elapsed Time: 38.12s | ETA: 76.23s\n",
      "(ClientAppActor pid=32272) \t🕒 Completed At: 21:14\n",
      "(ClientAppActor pid=32272) \n",
      "(ClientAppActor pid=32272) 🚀 Epoch 3/4 (75.00%) Completed\n",
      "(ClientAppActor pid=32272) \t📊 Training Loss: 0.3818\n",
      "(ClientAppActor pid=32272) \t✅ Training Accuracy: 89.50%\n",
      "(ClientAppActor pid=32272) \t⏳ Elapsed Time: 37.94s | ETA: 37.94s\n",
      "(ClientAppActor pid=32272) \t🕒 Completed At: 21:15\n",
      "(ClientAppActor pid=32272) \n",
      "(ClientAppActor pid=32272) 🚀 Epoch 4/4 (100.00%) Completed\n",
      "(ClientAppActor pid=32272) \t📊 Training Loss: 0.2587\n",
      "(ClientAppActor pid=32272) \t✅ Training Accuracy: 95.00%\n",
      "(ClientAppActor pid=32272) \t⏳ Elapsed Time: 37.88s | ETA: 0.00s\n",
      "(ClientAppActor pid=32272) \t🕒 Completed At: 21:15\n",
      "(ClientAppActor pid=32272) \n"
     ]
    },
    {
     "name": "stderr",
     "output_type": "stream",
     "text": [
      "Fisher Score:   0%|          | 0/1 [00:00<?, ?batch/s]\n"
     ]
    },
    {
     "name": "stdout",
     "output_type": "stream",
     "text": [
      "(ClientAppActor pid=32272) [Client] Client on device: cuda:0\n",
      "(ClientAppActor pid=32272) [Client] CUDA available in client: True\n"
     ]
    },
    {
     "name": "stderr",
     "output_type": "stream",
     "text": [
      "Fisher Score: 100%|██████████| 1/1 [00:06<00:00,  6.88s/batch]\n"
     ]
    },
    {
     "name": "stdout",
     "output_type": "stream",
     "text": [
      "(ClientAppActor pid=32272) No prefix/name for the model was provided, choosen prefix/name: bubbly_charmeleon_79\n",
      "(ClientAppActor pid=32272) \n",
      "(ClientAppActor pid=32272) 🚀 Epoch 1/4 (25.00%) Completed\n",
      "(ClientAppActor pid=32272) \t📊 Training Loss: 0.7280\n",
      "(ClientAppActor pid=32272) \t✅ Training Accuracy: 80.00%\n",
      "(ClientAppActor pid=32272) \t⏳ Elapsed Time: 40.69s | ETA: 122.06s\n",
      "(ClientAppActor pid=32272) \t🕒 Completed At: 21:16\n",
      "(ClientAppActor pid=32272) \n",
      "(ClientAppActor pid=32272) 🚀 Epoch 2/4 (50.00%) Completed\n",
      "(ClientAppActor pid=32272) \t📊 Training Loss: 0.4808\n",
      "(ClientAppActor pid=32272) \t✅ Training Accuracy: 84.50%\n",
      "(ClientAppActor pid=32272) \t⏳ Elapsed Time: 37.84s | ETA: 75.69s\n",
      "(ClientAppActor pid=32272) \t🕒 Completed At: 21:17\n",
      "(ClientAppActor pid=32272) \n",
      "(ClientAppActor pid=32272) 🚀 Epoch 3/4 (75.00%) Completed\n",
      "(ClientAppActor pid=32272) \t📊 Training Loss: 0.3886\n",
      "(ClientAppActor pid=32272) \t✅ Training Accuracy: 85.50%\n",
      "(ClientAppActor pid=32272) \t⏳ Elapsed Time: 38.14s | ETA: 38.14s\n",
      "(ClientAppActor pid=32272) \t🕒 Completed At: 21:17\n",
      "(ClientAppActor pid=32272) \n",
      "(ClientAppActor pid=32272) 🚀 Epoch 4/4 (100.00%) Completed\n",
      "(ClientAppActor pid=32272) \t📊 Training Loss: 0.2584\n",
      "(ClientAppActor pid=32272) \t✅ Training Accuracy: 91.75%\n",
      "(ClientAppActor pid=32272) \t⏳ Elapsed Time: 39.05s | ETA: 0.00s\n",
      "(ClientAppActor pid=32272) \t🕒 Completed At: 21:18\n",
      "(ClientAppActor pid=32272) \n"
     ]
    },
    {
     "name": "stderr",
     "output_type": "stream",
     "text": [
      "Fisher Score:   0%|          | 0/1 [00:00<?, ?batch/s]\n"
     ]
    },
    {
     "name": "stdout",
     "output_type": "stream",
     "text": [
      "(ClientAppActor pid=32272) [Client] Client on device: cuda:0\n",
      "(ClientAppActor pid=32272) [Client] CUDA available in client: True\n"
     ]
    },
    {
     "name": "stderr",
     "output_type": "stream",
     "text": [
      "Fisher Score: 100%|██████████| 1/1 [00:06<00:00,  6.78s/batch]\n"
     ]
    },
    {
     "name": "stdout",
     "output_type": "stream",
     "text": [
      "(ClientAppActor pid=32272) No prefix/name for the model was provided, choosen prefix/name: sassy_sandslash_28\n",
      "(ClientAppActor pid=32272) \n",
      "(ClientAppActor pid=32272) 🚀 Epoch 1/4 (25.00%) Completed\n",
      "(ClientAppActor pid=32272) \t📊 Training Loss: 0.3261\n",
      "(ClientAppActor pid=32272) \t✅ Training Accuracy: 89.75%\n",
      "(ClientAppActor pid=32272) \t⏳ Elapsed Time: 38.27s | ETA: 114.81s\n",
      "(ClientAppActor pid=32272) \t🕒 Completed At: 21:19\n",
      "(ClientAppActor pid=32272) \n",
      "(ClientAppActor pid=32272) 🚀 Epoch 2/4 (50.00%) Completed\n",
      "(ClientAppActor pid=32272) \t📊 Training Loss: 0.2615\n",
      "(ClientAppActor pid=32272) \t✅ Training Accuracy: 90.50%\n",
      "(ClientAppActor pid=32272) \t⏳ Elapsed Time: 37.87s | ETA: 75.75s\n",
      "(ClientAppActor pid=32272) \t🕒 Completed At: 21:20\n",
      "(ClientAppActor pid=32272) \n",
      "(ClientAppActor pid=32272) 🚀 Epoch 3/4 (75.00%) Completed\n",
      "(ClientAppActor pid=32272) \t📊 Training Loss: 0.1817\n",
      "(ClientAppActor pid=32272) \t✅ Training Accuracy: 94.50%\n",
      "(ClientAppActor pid=32272) \t⏳ Elapsed Time: 37.96s | ETA: 37.96s\n",
      "(ClientAppActor pid=32272) \t🕒 Completed At: 21:20\n",
      "(ClientAppActor pid=32272) \n",
      "(ClientAppActor pid=32272) 🚀 Epoch 4/4 (100.00%) Completed\n",
      "(ClientAppActor pid=32272) \t📊 Training Loss: 0.1755\n",
      "(ClientAppActor pid=32272) \t✅ Training Accuracy: 96.25%\n",
      "(ClientAppActor pid=32272) \t⏳ Elapsed Time: 37.83s | ETA: 0.00s\n",
      "(ClientAppActor pid=32272) \t🕒 Completed At: 21:21\n",
      "(ClientAppActor pid=32272) \n",
      "(ClientAppActor pid=32272) [Client] Client on device: cuda:0\n",
      "(ClientAppActor pid=32272) [Client] CUDA available in client: True\n",
      "(ClientAppActor pid=32272) No prefix/name for the model was provided, choosen prefix/name: zany_raichu_81\n",
      "(ClientAppActor pid=32272) \n",
      "(ClientAppActor pid=32272) 🚀 Epoch 1/4 (25.00%) Completed\n",
      "(ClientAppActor pid=32272) \t📊 Training Loss: 0.7697\n",
      "(ClientAppActor pid=32272) \t✅ Training Accuracy: 80.50%\n",
      "(ClientAppActor pid=32272) \t⏳ Elapsed Time: 37.90s | ETA: 113.70s\n",
      "(ClientAppActor pid=32272) \t🕒 Completed At: 21:21\n",
      "(ClientAppActor pid=32272) \n",
      "(ClientAppActor pid=32272) 🚀 Epoch 2/4 (50.00%) Completed\n",
      "(ClientAppActor pid=32272) \t📊 Training Loss: 0.4640\n",
      "(ClientAppActor pid=32272) \t✅ Training Accuracy: 83.75%\n",
      "(ClientAppActor pid=32272) \t⏳ Elapsed Time: 37.51s | ETA: 75.03s\n",
      "(ClientAppActor pid=32272) \t🕒 Completed At: 21:22\n",
      "(ClientAppActor pid=32272) \n",
      "(ClientAppActor pid=32272) 🚀 Epoch 3/4 (75.00%) Completed\n",
      "(ClientAppActor pid=32272) \t📊 Training Loss: 0.4398\n",
      "(ClientAppActor pid=32272) \t✅ Training Accuracy: 82.25%\n",
      "(ClientAppActor pid=32272) \t⏳ Elapsed Time: 37.62s | ETA: 37.62s\n",
      "(ClientAppActor pid=32272) \t🕒 Completed At: 21:23\n",
      "(ClientAppActor pid=32272) \n",
      "(ClientAppActor pid=32272) 🚀 Epoch 4/4 (100.00%) Completed\n",
      "(ClientAppActor pid=32272) \t📊 Training Loss: 0.3133\n",
      "(ClientAppActor pid=32272) \t✅ Training Accuracy: 90.75%\n",
      "(ClientAppActor pid=32272) \t⏳ Elapsed Time: 37.68s | ETA: 0.00s\n",
      "(ClientAppActor pid=32272) \t🕒 Completed At: 21:23\n",
      "(ClientAppActor pid=32272) \n"
     ]
    },
    {
     "name": "stderr",
     "output_type": "stream",
     "text": [
      "Fisher Score:   0%|          | 0/1 [00:00<?, ?batch/s]\n"
     ]
    },
    {
     "name": "stdout",
     "output_type": "stream",
     "text": [
      "(ClientAppActor pid=32272) [Client] Client on device: cuda:0\n",
      "(ClientAppActor pid=32272) [Client] CUDA available in client: True\n"
     ]
    },
    {
     "name": "stderr",
     "output_type": "stream",
     "text": [
      "Fisher Score: 100%|██████████| 1/1 [00:06<00:00,  6.48s/batch]\n"
     ]
    },
    {
     "name": "stdout",
     "output_type": "stream",
     "text": [
      "(ClientAppActor pid=32272) No prefix/name for the model was provided, choosen prefix/name: cranky_fearow_29\n",
      "(ClientAppActor pid=32272) \n",
      "(ClientAppActor pid=32272) 🚀 Epoch 1/4 (25.00%) Completed\n",
      "(ClientAppActor pid=32272) \t📊 Training Loss: 0.2893\n",
      "(ClientAppActor pid=32272) \t✅ Training Accuracy: 91.50%\n",
      "(ClientAppActor pid=32272) \t⏳ Elapsed Time: 39.47s | ETA: 118.40s\n",
      "(ClientAppActor pid=32272) \t🕒 Completed At: 21:24\n",
      "(ClientAppActor pid=32272) \n",
      "(ClientAppActor pid=32272) 🚀 Epoch 2/4 (50.00%) Completed\n",
      "(ClientAppActor pid=32272) \t📊 Training Loss: 0.2908\n",
      "(ClientAppActor pid=32272) \t✅ Training Accuracy: 91.25%\n",
      "(ClientAppActor pid=32272) \t⏳ Elapsed Time: 37.89s | ETA: 75.78s\n",
      "(ClientAppActor pid=32272) \t🕒 Completed At: 21:25\n",
      "(ClientAppActor pid=32272) \n",
      "(ClientAppActor pid=32272) 🚀 Epoch 3/4 (75.00%) Completed\n",
      "(ClientAppActor pid=32272) \t📊 Training Loss: 0.2176\n",
      "(ClientAppActor pid=32272) \t✅ Training Accuracy: 94.00%\n",
      "(ClientAppActor pid=32272) \t⏳ Elapsed Time: 37.94s | ETA: 37.94s\n",
      "(ClientAppActor pid=32272) \t🕒 Completed At: 21:25\n",
      "(ClientAppActor pid=32272) \n",
      "(ClientAppActor pid=32272) 🚀 Epoch 4/4 (100.00%) Completed\n",
      "(ClientAppActor pid=32272) \t📊 Training Loss: 0.1640\n",
      "(ClientAppActor pid=32272) \t✅ Training Accuracy: 96.00%\n",
      "(ClientAppActor pid=32272) \t⏳ Elapsed Time: 37.88s | ETA: 0.00s\n",
      "(ClientAppActor pid=32272) \t🕒 Completed At: 21:26\n",
      "(ClientAppActor pid=32272) \n"
     ]
    },
    {
     "name": "stderr",
     "output_type": "stream",
     "text": [
      "Fisher Score:   0%|          | 0/1 [00:00<?, ?batch/s]\n"
     ]
    },
    {
     "name": "stdout",
     "output_type": "stream",
     "text": [
      "(ClientAppActor pid=32272) [Client] Client on device: cuda:0\n",
      "(ClientAppActor pid=32272) [Client] CUDA available in client: True\n"
     ]
    },
    {
     "name": "stderr",
     "output_type": "stream",
     "text": [
      "Fisher Score: 100%|██████████| 1/1 [00:00<00:00,  2.27batch/s]\n"
     ]
    },
    {
     "name": "stdout",
     "output_type": "stream",
     "text": [
      "(ClientAppActor pid=32272) No prefix/name for the model was provided, choosen prefix/name: bouncy_nidorino_51\n",
      "(ClientAppActor pid=32272) \n",
      "(ClientAppActor pid=32272) 🚀 Epoch 1/4 (25.00%) Completed\n",
      "(ClientAppActor pid=32272) \t📊 Training Loss: 0.4478\n",
      "(ClientAppActor pid=32272) \t✅ Training Accuracy: 85.50%\n",
      "(ClientAppActor pid=32272) \t⏳ Elapsed Time: 38.10s | ETA: 114.30s\n",
      "(ClientAppActor pid=32272) \t🕒 Completed At: 21:27\n",
      "(ClientAppActor pid=32272) \n",
      "(ClientAppActor pid=32272) 🚀 Epoch 2/4 (50.00%) Completed\n",
      "(ClientAppActor pid=32272) \t📊 Training Loss: 0.2950\n",
      "(ClientAppActor pid=32272) \t✅ Training Accuracy: 90.00%\n",
      "(ClientAppActor pid=32272) \t⏳ Elapsed Time: 37.96s | ETA: 75.93s\n",
      "(ClientAppActor pid=32272) \t🕒 Completed At: 21:27\n",
      "(ClientAppActor pid=32272) \n",
      "(ClientAppActor pid=32272) 🚀 Epoch 3/4 (75.00%) Completed\n",
      "(ClientAppActor pid=32272) \t📊 Training Loss: 0.2670\n",
      "(ClientAppActor pid=32272) \t✅ Training Accuracy: 92.75%\n",
      "(ClientAppActor pid=32272) \t⏳ Elapsed Time: 38.48s | ETA: 38.48s\n",
      "(ClientAppActor pid=32272) \t🕒 Completed At: 21:28\n",
      "(ClientAppActor pid=32272) \n",
      "(ClientAppActor pid=32272) 🚀 Epoch 4/4 (100.00%) Completed\n",
      "(ClientAppActor pid=32272) \t📊 Training Loss: 0.2021\n",
      "(ClientAppActor pid=32272) \t✅ Training Accuracy: 94.75%\n",
      "(ClientAppActor pid=32272) \t⏳ Elapsed Time: 38.81s | ETA: 0.00s\n",
      "(ClientAppActor pid=32272) \t🕒 Completed At: 21:29\n",
      "(ClientAppActor pid=32272) \n",
      "(ClientAppActor pid=32272) [Client] Client on device: cuda:0\n",
      "(ClientAppActor pid=32272) [Client] CUDA available in client: True\n",
      "(ClientAppActor pid=32272) No prefix/name for the model was provided, choosen prefix/name: cheeky_wartortle_68\n",
      "(ClientAppActor pid=32272) \n",
      "(ClientAppActor pid=32272) 🚀 Epoch 1/4 (25.00%) Completed\n",
      "(ClientAppActor pid=32272) \t📊 Training Loss: 0.4258\n",
      "(ClientAppActor pid=32272) \t✅ Training Accuracy: 87.25%\n",
      "(ClientAppActor pid=32272) \t⏳ Elapsed Time: 40.46s | ETA: 121.39s\n",
      "(ClientAppActor pid=32272) \t🕒 Completed At: 21:29\n",
      "(ClientAppActor pid=32272) \n",
      "(ClientAppActor pid=32272) 🚀 Epoch 2/4 (50.00%) Completed\n",
      "(ClientAppActor pid=32272) \t📊 Training Loss: 0.3081\n",
      "(ClientAppActor pid=32272) \t✅ Training Accuracy: 88.75%\n",
      "(ClientAppActor pid=32272) \t⏳ Elapsed Time: 40.49s | ETA: 80.97s\n",
      "(ClientAppActor pid=32272) \t🕒 Completed At: 21:30\n",
      "(ClientAppActor pid=32272) \n",
      "(ClientAppActor pid=32272) 🚀 Epoch 3/4 (75.00%) Completed\n",
      "(ClientAppActor pid=32272) \t📊 Training Loss: 0.2708\n",
      "(ClientAppActor pid=32272) \t✅ Training Accuracy: 92.75%\n",
      "(ClientAppActor pid=32272) \t⏳ Elapsed Time: 39.46s | ETA: 39.46s\n",
      "(ClientAppActor pid=32272) \t🕒 Completed At: 21:31\n",
      "(ClientAppActor pid=32272) \n",
      "(ClientAppActor pid=32272) 🚀 Epoch 4/4 (100.00%) Completed\n",
      "(ClientAppActor pid=32272) \t📊 Training Loss: 0.1530\n",
      "(ClientAppActor pid=32272) \t✅ Training Accuracy: 95.75%\n",
      "(ClientAppActor pid=32272) \t⏳ Elapsed Time: 37.50s | ETA: 0.00s\n",
      "(ClientAppActor pid=32272) \t🕒 Completed At: 21:31\n",
      "(ClientAppActor pid=32272) \n",
      "(ClientAppActor pid=32272) [Client] Client on device: cuda:0\n",
      "(ClientAppActor pid=32272) [Client] CUDA available in client: True\n"
     ]
    },
    {
     "name": "stderr",
     "output_type": "stream",
     "text": [
      "Fisher Score:   0%|          | 0/1 [00:00<?, ?batch/s]\n",
      "Fisher Score: 100%|██████████| 1/1 [00:06<00:00,  6.68s/batch]\n"
     ]
    },
    {
     "name": "stdout",
     "output_type": "stream",
     "text": [
      "(ClientAppActor pid=32272) No prefix/name for the model was provided, choosen prefix/name: happy_nidorina_93\n",
      "(ClientAppActor pid=32272) \n",
      "(ClientAppActor pid=32272) 🚀 Epoch 1/4 (25.00%) Completed\n",
      "(ClientAppActor pid=32272) \t📊 Training Loss: 0.4262\n",
      "(ClientAppActor pid=32272) \t✅ Training Accuracy: 84.00%\n",
      "(ClientAppActor pid=32272) \t⏳ Elapsed Time: 38.13s | ETA: 114.40s\n",
      "(ClientAppActor pid=32272) \t🕒 Completed At: 21:32\n",
      "(ClientAppActor pid=32272) \n",
      "(ClientAppActor pid=32272) 🚀 Epoch 2/4 (50.00%) Completed\n",
      "(ClientAppActor pid=32272) \t📊 Training Loss: 0.3261\n",
      "(ClientAppActor pid=32272) \t✅ Training Accuracy: 89.00%\n",
      "(ClientAppActor pid=32272) \t⏳ Elapsed Time: 37.84s | ETA: 75.67s\n",
      "(ClientAppActor pid=32272) \t🕒 Completed At: 21:33\n",
      "(ClientAppActor pid=32272) \n",
      "(ClientAppActor pid=32272) 🚀 Epoch 3/4 (75.00%) Completed\n",
      "(ClientAppActor pid=32272) \t📊 Training Loss: 0.3288\n",
      "(ClientAppActor pid=32272) \t✅ Training Accuracy: 91.75%\n",
      "(ClientAppActor pid=32272) \t⏳ Elapsed Time: 37.96s | ETA: 37.96s\n",
      "(ClientAppActor pid=32272) \t🕒 Completed At: 21:34\n",
      "(ClientAppActor pid=32272) \n",
      "(ClientAppActor pid=32272) 🚀 Epoch 4/4 (100.00%) Completed\n",
      "(ClientAppActor pid=32272) \t📊 Training Loss: 0.2190\n",
      "(ClientAppActor pid=32272) \t✅ Training Accuracy: 93.00%\n",
      "(ClientAppActor pid=32272) \t⏳ Elapsed Time: 37.83s | ETA: 0.00s\n",
      "(ClientAppActor pid=32272) \t🕒 Completed At: 21:34\n",
      "(ClientAppActor pid=32272) \n",
      "(ClientAppActor pid=32272) [Client] Client on device: cuda:0\n",
      "(ClientAppActor pid=32272) [Client] CUDA available in client: True\n"
     ]
    },
    {
     "name": "stderr",
     "output_type": "stream",
     "text": [
      "Fisher Score:   0%|          | 0/1 [00:00<?, ?batch/s]\n",
      "Fisher Score: 100%|██████████| 1/1 [00:06<00:00,  6.62s/batch]\n"
     ]
    },
    {
     "name": "stdout",
     "output_type": "stream",
     "text": [
      "(ClientAppActor pid=32272) No prefix/name for the model was provided, choosen prefix/name: wacky_squirtle_10\n",
      "(ClientAppActor pid=32272) \n",
      "(ClientAppActor pid=32272) 🚀 Epoch 1/4 (25.00%) Completed\n",
      "(ClientAppActor pid=32272) \t📊 Training Loss: 0.4305\n",
      "(ClientAppActor pid=32272) \t✅ Training Accuracy: 83.50%\n",
      "(ClientAppActor pid=32272) \t⏳ Elapsed Time: 38.04s | ETA: 114.13s\n",
      "(ClientAppActor pid=32272) \t🕒 Completed At: 21:35\n",
      "(ClientAppActor pid=32272) \n",
      "(ClientAppActor pid=32272) 🚀 Epoch 2/4 (50.00%) Completed\n",
      "(ClientAppActor pid=32272) \t📊 Training Loss: 0.3814\n",
      "(ClientAppActor pid=32272) \t✅ Training Accuracy: 87.75%\n",
      "(ClientAppActor pid=32272) \t⏳ Elapsed Time: 37.75s | ETA: 75.50s\n",
      "(ClientAppActor pid=32272) \t🕒 Completed At: 21:36\n",
      "(ClientAppActor pid=32272) \n",
      "(ClientAppActor pid=32272) 🚀 Epoch 3/4 (75.00%) Completed\n",
      "(ClientAppActor pid=32272) \t📊 Training Loss: 0.2644\n",
      "(ClientAppActor pid=32272) \t✅ Training Accuracy: 91.25%\n",
      "(ClientAppActor pid=32272) \t⏳ Elapsed Time: 37.70s | ETA: 37.70s\n",
      "(ClientAppActor pid=32272) \t🕒 Completed At: 21:36\n",
      "(ClientAppActor pid=32272) \n",
      "(ClientAppActor pid=32272) 🚀 Epoch 4/4 (100.00%) Completed\n",
      "(ClientAppActor pid=32272) \t📊 Training Loss: 0.2189\n",
      "(ClientAppActor pid=32272) \t✅ Training Accuracy: 93.00%\n",
      "(ClientAppActor pid=32272) \t⏳ Elapsed Time: 37.74s | ETA: 0.00s\n",
      "(ClientAppActor pid=32272) \t🕒 Completed At: 21:37\n",
      "(ClientAppActor pid=32272) \n"
     ]
    },
    {
     "name": "stderr",
     "output_type": "stream",
     "text": [
      "\u001B[92mINFO \u001B[0m:      aggregate_fit: received 10 results and 0 failures\n",
      "\u001B[92mINFO \u001B[0m:      [Round 2] Avg Drift: 0.2541 | Relative Drift: 0.0005\n",
      "\u001B[92mINFO \u001B[0m:      [Round 2] Saving aggregated model at epoch 79...\n"
     ]
    },
    {
     "name": "stdout",
     "output_type": "stream",
     "text": [
      "💾 Saved checkpoint at: C:\\Users\\ADMIN\\Desktop\\BACKUP\\study\\Italy\\polito\\classes\\20242\\deep learning\\project\\source_code\\fl-g13\\models\\fl_dino_baseline\\iid\\fl_fl_baseline_BaseDino_epoch_79.pth\n",
      "[Server Eval Round 2] Model device: cuda:0\n",
      "[Server Eval Round 2] CUDA available in server eval: True\n"
     ]
    },
    {
     "name": "stderr",
     "output_type": "stream",
     "text": [
      "Eval progress: 100%|██████████| 313/313 [00:31<00:00, 10.09batch/s]\n",
      "\u001B[92mINFO \u001B[0m:      [Round 2] Centralized Evaluation - Loss: 0.8354, Metrics: {'centralized_accuracy': 0.7663}\n",
      "\u001B[92mINFO \u001B[0m:      fit progress: (2, 0.8353627384089815, {'centralized_accuracy': 0.7663}, 3471.598753599974)\n",
      "\u001B[92mINFO \u001B[0m:      configure_evaluate: strategy sampled 10 clients (out of 100)\n",
      "Fisher Score:   0%|          | 0/1 [00:00<?, ?batch/s]\n"
     ]
    },
    {
     "name": "stdout",
     "output_type": "stream",
     "text": [
      "(ClientAppActor pid=32272) [Client] Client on device: cuda:0\n",
      "(ClientAppActor pid=32272) [Client] CUDA available in client: True\n"
     ]
    },
    {
     "name": "stderr",
     "output_type": "stream",
     "text": [
      "Fisher Score: 100%|██████████| 1/1 [00:00<00:00,  1.97batch/s]\n",
      "Eval progress:   0%|          | 0/1 [00:00<?, ?batch/s]\n",
      "Eval progress: 100%|██████████| 1/1 [00:00<00:00,  3.03batch/s]\n"
     ]
    },
    {
     "name": "stdout",
     "output_type": "stream",
     "text": [
      "(ClientAppActor pid=32272) [Client] Client on device: cuda:0\n",
      "(ClientAppActor pid=32272) [Client] CUDA available in client: True\n"
     ]
    },
    {
     "name": "stderr",
     "output_type": "stream",
     "text": [
      "Eval progress:   0%|          | 0/1 [00:00<?, ?batch/s]\n",
      "Eval progress: 100%|██████████| 1/1 [00:00<00:00,  2.74batch/s]\n"
     ]
    },
    {
     "name": "stdout",
     "output_type": "stream",
     "text": [
      "(ClientAppActor pid=32272) [Client] Client on device: cuda:0\n",
      "(ClientAppActor pid=32272) [Client] CUDA available in client: True\n"
     ]
    },
    {
     "name": "stderr",
     "output_type": "stream",
     "text": [
      "Eval progress:   0%|          | 0/1 [00:00<?, ?batch/s]\n",
      "Eval progress: 100%|██████████| 1/1 [00:00<00:00,  2.53batch/s]\n"
     ]
    },
    {
     "name": "stdout",
     "output_type": "stream",
     "text": [
      "(ClientAppActor pid=32272) [Client] Client on device: cuda:0\n",
      "(ClientAppActor pid=32272) [Client] CUDA available in client: True\n"
     ]
    },
    {
     "name": "stderr",
     "output_type": "stream",
     "text": [
      "Fisher Score:   0%|          | 0/1 [00:00<?, ?batch/s]\n",
      "Fisher Score: 100%|██████████| 1/1 [00:00<00:00,  2.00batch/s]\n",
      "Eval progress:   0%|          | 0/1 [00:00<?, ?batch/s]\n",
      "Eval progress: 100%|██████████| 1/1 [00:00<00:00,  3.21batch/s]\n"
     ]
    },
    {
     "name": "stdout",
     "output_type": "stream",
     "text": [
      "(ClientAppActor pid=32272) [Client] Client on device: cuda:0\n",
      "(ClientAppActor pid=32272) [Client] CUDA available in client: True\n"
     ]
    },
    {
     "name": "stderr",
     "output_type": "stream",
     "text": [
      "Eval progress:   0%|          | 0/1 [00:00<?, ?batch/s]\n",
      "Eval progress: 100%|██████████| 1/1 [00:00<00:00,  2.76batch/s]\n",
      "Fisher Score:   0%|          | 0/1 [00:00<?, ?batch/s]\n"
     ]
    },
    {
     "name": "stdout",
     "output_type": "stream",
     "text": [
      "(ClientAppActor pid=32272) [Client] Client on device: cuda:0\n",
      "(ClientAppActor pid=32272) [Client] CUDA available in client: True\n"
     ]
    },
    {
     "name": "stderr",
     "output_type": "stream",
     "text": [
      "Fisher Score: 100%|██████████| 1/1 [00:06<00:00,  6.90s/batch]\n",
      "Eval progress:   0%|          | 0/1 [00:00<?, ?batch/s]\n",
      "Eval progress: 100%|██████████| 1/1 [00:00<00:00,  3.47batch/s]\n",
      "Fisher Score:   0%|          | 0/1 [00:00<?, ?batch/s]\n"
     ]
    },
    {
     "name": "stdout",
     "output_type": "stream",
     "text": [
      "(ClientAppActor pid=32272) [Client] Client on device: cuda:0\n",
      "(ClientAppActor pid=32272) [Client] CUDA available in client: True\n"
     ]
    },
    {
     "name": "stderr",
     "output_type": "stream",
     "text": [
      "Fisher Score: 100%|██████████| 1/1 [00:00<00:00,  2.11batch/s]\n",
      "Eval progress:   0%|          | 0/1 [00:00<?, ?batch/s]\n",
      "Eval progress: 100%|██████████| 1/1 [00:00<00:00,  3.49batch/s]\n"
     ]
    },
    {
     "name": "stdout",
     "output_type": "stream",
     "text": [
      "(ClientAppActor pid=32272) [Client] Client on device: cuda:0\n",
      "(ClientAppActor pid=32272) [Client] CUDA available in client: True\n"
     ]
    },
    {
     "name": "stderr",
     "output_type": "stream",
     "text": [
      "Eval progress:   0%|          | 0/1 [00:00<?, ?batch/s]\n",
      "Eval progress: 100%|██████████| 1/1 [00:00<00:00,  2.13batch/s]\n"
     ]
    },
    {
     "name": "stdout",
     "output_type": "stream",
     "text": [
      "(ClientAppActor pid=32272) [Client] Client on device: cuda:0\n",
      "(ClientAppActor pid=32272) [Client] CUDA available in client: True\n"
     ]
    },
    {
     "name": "stderr",
     "output_type": "stream",
     "text": [
      "Fisher Score:   0%|          | 0/1 [00:00<?, ?batch/s]\n",
      "Fisher Score: 100%|██████████| 1/1 [00:07<00:00,  7.04s/batch]\n",
      "Eval progress:   0%|          | 0/1 [00:00<?, ?batch/s]\n",
      "Eval progress: 100%|██████████| 1/1 [00:00<00:00,  3.59batch/s]\n",
      "Fisher Score:   0%|          | 0/1 [00:00<?, ?batch/s]\n"
     ]
    },
    {
     "name": "stdout",
     "output_type": "stream",
     "text": [
      "(ClientAppActor pid=32272) [Client] Client on device: cuda:0\n",
      "(ClientAppActor pid=32272) [Client] CUDA available in client: True\n"
     ]
    },
    {
     "name": "stderr",
     "output_type": "stream",
     "text": [
      "Fisher Score: 100%|██████████| 1/1 [00:06<00:00,  6.71s/batch]\n",
      "Eval progress:   0%|          | 0/1 [00:00<?, ?batch/s]\n",
      "Eval progress: 100%|██████████| 1/1 [00:00<00:00,  3.26batch/s]\n",
      "\u001B[92mINFO \u001B[0m:      aggregate_evaluate: received 10 results and 0 failures\n",
      "\u001B[92mINFO \u001B[0m:      \n",
      "\u001B[92mINFO \u001B[0m:      [SUMMARY]\n",
      "\u001B[92mINFO \u001B[0m:      Run finished 2 round(s) in 3544.34s\n",
      "\u001B[92mINFO \u001B[0m:      \tHistory (loss, distributed):\n",
      "\u001B[92mINFO \u001B[0m:      \t\tround 1: 0.7631095468997955\n",
      "\u001B[92mINFO \u001B[0m:      \t\tround 2: 0.8493109762668609\n",
      "\u001B[92mINFO \u001B[0m:      \tHistory (loss, centralized):\n",
      "\u001B[92mINFO \u001B[0m:      \t\tround 0: 0.9384764046333849\n",
      "\u001B[92mINFO \u001B[0m:      \t\tround 1: 0.857653759324703\n",
      "\u001B[92mINFO \u001B[0m:      \t\tround 2: 0.8353627384089815\n",
      "\u001B[92mINFO \u001B[0m:      \tHistory (metrics, distributed, fit):\n",
      "\u001B[92mINFO \u001B[0m:      \t{'avg_drift': [(1, 0.28305082470178605), (2, 0.2541430234909058)],\n",
      "\u001B[92mINFO \u001B[0m:      \t 'avg_train_loss': [(1, 0.2916252503171563), (2, 0.22292429087683557)]}\n",
      "\u001B[92mINFO \u001B[0m:      \tHistory (metrics, distributed, evaluate):\n",
      "\u001B[92mINFO \u001B[0m:      \t{'decentralized_avg_eval_accuracy': [(1, 0.774), (2, 0.753)]}\n",
      "\u001B[92mINFO \u001B[0m:      \tHistory (metrics, centralized):\n",
      "\u001B[92mINFO \u001B[0m:      \t{'centralized_accuracy': [(0, 0.7398), (1, 0.7591), (2, 0.7663)]}\n",
      "\u001B[92mINFO \u001B[0m:      \n"
     ]
    }
   ],
   "execution_count": 21
  },
  {
   "metadata": {
    "jupyter": {
     "is_executing": true
    }
   },
   "cell_type": "code",
   "source": "",
   "id": "39ae4073863566bd",
   "outputs": [],
   "execution_count": null
  }
 ],
 "metadata": {
  "kernelspec": {
   "display_name": "Python 3",
   "language": "python",
   "name": "python3"
  },
  "language_info": {
   "codemirror_mode": {
    "name": "ipython",
    "version": 2
   },
   "file_extension": ".py",
   "mimetype": "text/x-python",
   "name": "python",
   "nbconvert_exporter": "python",
   "pygments_lexer": "ipython2",
   "version": "2.7.6"
  }
 },
 "nbformat": 4,
 "nbformat_minor": 5
}
