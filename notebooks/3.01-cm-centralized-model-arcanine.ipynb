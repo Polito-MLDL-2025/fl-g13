{
 "cells": [
  {
   "cell_type": "code",
   "execution_count": 1,
   "id": "ffbee39c",
   "metadata": {},
   "outputs": [],
   "source": [
    "%load_ext autoreload\n",
    "%autoreload 2"
   ]
  },
  {
   "cell_type": "code",
   "execution_count": 2,
   "id": "b4f52dd8",
   "metadata": {},
   "outputs": [
    {
     "name": "stderr",
     "output_type": "stream",
     "text": [
      "\u001b[32m2025-05-03 12:31:35.914\u001b[0m | \u001b[1mINFO    \u001b[0m | \u001b[36mfl_g13.config\u001b[0m:\u001b[36m<module>\u001b[0m:\u001b[36m11\u001b[0m - \u001b[1mPROJ_ROOT path is: /home/massimiliano/Projects/fl-g13\u001b[0m\n"
     ]
    }
   ],
   "source": [
    "import torch\n",
    "import torch.nn as nn\n",
    "from torch.nn import CrossEntropyLoss\n",
    "import torch.optim as optim\n",
    "from torch.optim import SGD\n",
    "from torch.optim.lr_scheduler import CosineAnnealingLR, CosineAnnealingWarmRestarts\n",
    "from torchvision import datasets\n",
    "from torch.utils.data import DataLoader\n",
    "\n",
    "from torchvision import models\n",
    "from torchvision.transforms import Compose, Resize, CenterCrop, RandomCrop, RandomHorizontalFlip, RandomVerticalFlip, Normalize, ToTensor\n",
    "\n",
    "from fl_g13.config import RAW_DATA_DIR\n",
    "from fl_g13.modeling import train, eval, save, load, backup, load_loss_and_accuracies, save_loss_and_accuracy\n",
    "from fl_g13.dataset import train_test_split\n",
    "\n",
    "from fl_g13.architectures import BaseDino\n",
    "from fl_g13.editing import SparseSGDM"
   ]
  },
  {
   "cell_type": "code",
   "execution_count": 3,
   "id": "77f11d5a",
   "metadata": {},
   "outputs": [
    {
     "name": "stdout",
     "output_type": "stream",
     "text": [
      "Train dataset size: 40000\n",
      "Validation dataset size: 10000\n",
      "Test dataset size: 10000\n"
     ]
    }
   ],
   "source": [
    "# Define preprocessing pipeline\n",
    "train_transform = Compose([\n",
    "    Resize(256), # CIFRA100 is originally 32x32\n",
    "    RandomCrop(224), # But Dino works on 224x224\n",
    "    RandomHorizontalFlip(),\n",
    "    ToTensor(),\n",
    "    #Normalize(mean=[0.5071, 0.4866, 0.4409], std=[0.2673, 0.2564, 0.2762]), # CIFRAR100 Train stats\n",
    "    Normalize(mean = [0.485, 0.456, 0.406], std = [0.229, 0.224, 0.225]) # Use ImageNet stats\n",
    "])\n",
    "\n",
    "eval_transform = Compose([\n",
    "    Resize(256), # CIFRA100 is originally 32x32\n",
    "    CenterCrop(224), # But Dino works on 224x224\n",
    "    ToTensor(),\n",
    "    #Normalize(mean=[0.5071, 0.4866, 0.4409], std=[0.2673, 0.2564, 0.2762]), # CIFRAR100 Train stats\n",
    "    Normalize(mean=[0.485, 0.456, 0.406], std=[0.229, 0.224, 0.225]), # Use ImageNet stats\n",
    "])\n",
    "\n",
    "cifar100_train = datasets.CIFAR100(root=RAW_DATA_DIR, train=True, download=True, transform=train_transform)\n",
    "cifar100_test = datasets.CIFAR100(root=RAW_DATA_DIR, train=False, download=True, transform=eval_transform)\n",
    "\n",
    "# Always specify a random state, otherwise the split will be different each time \n",
    "# If you have intention to load a model mid-training, you may have part of the validation set as already seen in the previous training\n",
    "train_dataset, val_dataset = train_test_split(cifar100_train, 0.8, random_state=42)\n",
    "test_dataset = cifar100_test\n",
    "\n",
    "print(f\"Train dataset size: {len(train_dataset)}\")\n",
    "print(f\"Validation dataset size: {len(val_dataset)}\")\n",
    "print(f\"Test dataset size: {len(test_dataset)}\")"
   ]
  },
  {
   "cell_type": "code",
   "execution_count": 4,
   "id": "349a5230",
   "metadata": {},
   "outputs": [
    {
     "name": "stdout",
     "output_type": "stream",
     "text": [
      "Using device: cuda\n"
     ]
    },
    {
     "name": "stderr",
     "output_type": "stream",
     "text": [
      "Using cache found in /home/massimiliano/.cache/torch/hub/facebookresearch_dino_main\n"
     ]
    },
    {
     "name": "stdout",
     "output_type": "stream",
     "text": [
      "\n",
      "Model: BaseDino(\n",
      "  (backbone): VisionTransformer(\n",
      "    (patch_embed): PatchEmbed(\n",
      "      (proj): Conv2d(3, 384, kernel_size=(16, 16), stride=(16, 16))\n",
      "    )\n",
      "    (pos_drop): Dropout(p=0.0, inplace=False)\n",
      "    (blocks): ModuleList(\n",
      "      (0-11): 12 x Block(\n",
      "        (norm1): LayerNorm((384,), eps=1e-06, elementwise_affine=True)\n",
      "        (attn): Attention(\n",
      "          (qkv): Linear(in_features=384, out_features=1152, bias=True)\n",
      "          (attn_drop): Dropout(p=0.0, inplace=False)\n",
      "          (proj): Linear(in_features=384, out_features=384, bias=True)\n",
      "          (proj_drop): Dropout(p=0.0, inplace=False)\n",
      "        )\n",
      "        (drop_path): Identity()\n",
      "        (norm2): LayerNorm((384,), eps=1e-06, elementwise_affine=True)\n",
      "        (mlp): Mlp(\n",
      "          (fc1): Linear(in_features=384, out_features=1536, bias=True)\n",
      "          (act): GELU(approximate='none')\n",
      "          (fc2): Linear(in_features=1536, out_features=384, bias=True)\n",
      "          (drop): Dropout(p=0.0, inplace=False)\n",
      "        )\n",
      "      )\n",
      "    )\n",
      "    (norm): LayerNorm((384,), eps=1e-06, elementwise_affine=True)\n",
      "    (head): Identity()\n",
      "  )\n",
      "  (head): Sequential(\n",
      "    (0): Linear(in_features=384, out_features=512, bias=True)\n",
      "    (1): GELU(approximate='none')\n",
      "    (2): Dropout(p=0.0, inplace=False)\n",
      "    (3): Linear(in_features=512, out_features=512, bias=True)\n",
      "    (4): GELU(approximate='none')\n",
      "    (5): Dropout(p=0.0, inplace=False)\n",
      "    (6): Linear(in_features=512, out_features=512, bias=True)\n",
      "    (7): GELU(approximate='none')\n",
      "    (8): Dropout(p=0.0, inplace=False)\n",
      "    (9): Linear(in_features=512, out_features=100, bias=True)\n",
      "  )\n",
      ")\n"
     ]
    }
   ],
   "source": [
    "# Move to CUDA\n",
    "device = torch.device(\"cuda\" if torch.cuda.is_available() else \"cpu\")\n",
    "print(f\"Using device: {device}\")\n",
    "\n",
    "# Settings\n",
    "CHECKPOINT_DIR = \"/home/massimiliano/Projects/fl-g13/checkpoints\"\n",
    "name=\"arcanine\"\n",
    "start_epoch=1\n",
    "num_epochs=80\n",
    "save_every=5\n",
    "backup_every=20\n",
    "\n",
    "# Model Hyper-parameters\n",
    "head_layers=3\n",
    "head_hidden_size=512\n",
    "dropout_rate=0.0\n",
    "unfreeze_blocks=1\n",
    "\n",
    "# Training Hyper-parameters\n",
    "batch_size=128\n",
    "lr=1e-3\n",
    "momentum=0.9\n",
    "weight_decay=1e-5\n",
    "T_max=8\n",
    "eta_min=1e-5\n",
    "\n",
    "# Dataloaders\n",
    "train_dataloader = DataLoader(train_dataset, batch_size=batch_size, shuffle=True)\n",
    "val_dataloader = DataLoader(val_dataset, batch_size=batch_size, shuffle=False)\n",
    "test_dataloader = DataLoader(test_dataset, batch_size=batch_size, shuffle=False)\n",
    "\n",
    "# Model\n",
    "model = BaseDino(\n",
    "    head_layers=head_layers, \n",
    "    head_hidden_size=head_hidden_size, \n",
    "    dropout_rate=dropout_rate, \n",
    "    unfreeze_blocks=unfreeze_blocks\n",
    "    )\n",
    "model.to(device)\n",
    "\n",
    "# Optimizer, scheduler, and loss function\n",
    "mask = [torch.ones_like(p, device=p.device) for p in model.parameters()] # Must be done AFTER the model is moved to CUDA\n",
    "optimizer = SparseSGDM(\n",
    "    model.parameters(),\n",
    "    mask=mask,\n",
    "    lr=lr,\n",
    "    momentum=momentum,\n",
    "    weight_decay=weight_decay\n",
    "    )\n",
    "scheduler = CosineAnnealingLR(\n",
    "    optimizer=optimizer, \n",
    "    T_max=T_max, \n",
    "    eta_min=eta_min\n",
    "    )\n",
    "criterion = CrossEntropyLoss()\n",
    "\n",
    "all_training_losses=[]       # Pre-allocated list for training losses\n",
    "all_validation_losses=[]       # Pre-allocated list for validation losses\n",
    "all_training_accuracies=[]    # Pre-allocated list for training accuracies\n",
    "all_validation_accuracies=[]    # Pre-allocated list for validation accuracies\n",
    "\n",
    "# ---- RESUME ----\n",
    "\n",
    "# # Model loading (uncomment to properly overwrite)\n",
    "# loading_epoch = 80\n",
    "# model, start_epoch = load(\n",
    "#     f\"{CHECKPOINT_DIR}/BaseDino/{name}_BaseDino_epoch_{loading_epoch}.pth\",\n",
    "#     model_class=BaseDino,\n",
    "#     device=device,\n",
    "#     optimizer=optimizer,\n",
    "#     scheduler=scheduler,\n",
    "#     verbose=True\n",
    "# )\n",
    "# model.to(device)\n",
    "# loaded_metrics = load_loss_and_accuracies(path=f\"{CHECKPOINT_DIR}/BaseDino/{name}_BaseDino_epoch_{loading_epoch}.loss_acc.json\")\n",
    "\n",
    "# # Preallocated lists: if the training interrupts, it will still save their values (uncomment to properly load and overwrite)\n",
    "# all_training_losses=loaded_metrics[\"train_loss\"]       # Pre-allocated list for training losses\n",
    "# all_validation_losses=loaded_metrics[\"val_loss\"]       # Pre-allocated list for validation losses\n",
    "# all_training_accuracies=loaded_metrics[\"train_acc\"]    # Pre-allocated list for training accuracies\n",
    "# all_validation_accuracies=loaded_metrics[\"val_acc\"]    # Pre-allocated list for validation accuracies\n",
    "\n",
    "# -----------------\n",
    "\n",
    "print(f\"\\nModel: {model}\")"
   ]
  },
  {
   "cell_type": "code",
   "execution_count": 5,
   "id": "e2eecebd",
   "metadata": {},
   "outputs": [
    {
     "name": "stdout",
     "output_type": "stream",
     "text": [
      "Predicted class: 25, True class: 49\n",
      "Outputs shape: torch.Size([128, 100])\n"
     ]
    }
   ],
   "source": [
    "# Get one batch of data from the test dataloader\n",
    "data_iter = iter(test_dataloader)\n",
    "images, labels = next(data_iter)\n",
    "\n",
    "# Move the data to the same device as the model\n",
    "images = images.to(device)\n",
    "\n",
    "# Perform prediction\n",
    "model.eval()  # Set the model to evaluation mode\n",
    "with torch.no_grad():\n",
    "    outputs = model(images)\n",
    "    _, predicted = torch.max(outputs, 1)\n",
    "\n",
    "# Print the first prediction and its corresponding label\n",
    "print(f\"Predicted class: {predicted[0].item()}, True class: {labels[0].item()}\")\n",
    "print(f\"Outputs shape: {outputs.shape}\")"
   ]
  },
  {
   "cell_type": "code",
   "execution_count": 6,
   "id": "6feed087",
   "metadata": {},
   "outputs": [
    {
     "name": "stdout",
     "output_type": "stream",
     "text": [
      "Prefix/name for the model was provided: arcanine\n",
      "\n"
     ]
    },
    {
     "name": "stderr",
     "output_type": "stream",
     "text": [
      "Training progress: 100%|██████████| 313/313 [01:42<00:00,  3.05batch/s]\n"
     ]
    },
    {
     "name": "stdout",
     "output_type": "stream",
     "text": [
      "🚀 Epoch 1/80 (1.25%) Completed\n",
      "\t📊 Training Loss: 2.1110\n",
      "\t✅ Training Accuracy: 46.71%\n",
      "\t⏳ Elapsed Time: 102.67s | ETA: 8111.30s\n",
      "\t🕒 Completed At: 12:33\n"
     ]
    },
    {
     "name": "stderr",
     "output_type": "stream",
     "text": [
      "Eval progress: 100%|██████████| 79/79 [00:22<00:00,  3.48batch/s]\n"
     ]
    },
    {
     "name": "stdout",
     "output_type": "stream",
     "text": [
      "🔍 Validation Results:\n",
      "\t📉 Validation Loss: 1.3397\n",
      "\t🎯 Validation Accuracy: 62.18%\n",
      "\n"
     ]
    },
    {
     "name": "stderr",
     "output_type": "stream",
     "text": [
      "Training progress: 100%|██████████| 313/313 [01:42<00:00,  3.05batch/s]\n"
     ]
    },
    {
     "name": "stdout",
     "output_type": "stream",
     "text": [
      "🚀 Epoch 2/80 (2.50%) Completed\n",
      "\t📊 Training Loss: 1.0653\n",
      "\t✅ Training Accuracy: 68.69%\n",
      "\t⏳ Elapsed Time: 102.73s | ETA: 8013.29s\n",
      "\t🕒 Completed At: 12:35\n"
     ]
    },
    {
     "name": "stderr",
     "output_type": "stream",
     "text": [
      "Eval progress: 100%|██████████| 79/79 [00:22<00:00,  3.45batch/s]\n"
     ]
    },
    {
     "name": "stdout",
     "output_type": "stream",
     "text": [
      "🔍 Validation Results:\n",
      "\t📉 Validation Loss: 1.0873\n",
      "\t🎯 Validation Accuracy: 69.04%\n",
      "\n"
     ]
    },
    {
     "name": "stderr",
     "output_type": "stream",
     "text": [
      "Training progress: 100%|██████████| 313/313 [01:52<00:00,  2.78batch/s]\n"
     ]
    },
    {
     "name": "stdout",
     "output_type": "stream",
     "text": [
      "🚀 Epoch 3/80 (3.75%) Completed\n",
      "\t📊 Training Loss: 0.8006\n",
      "\t✅ Training Accuracy: 75.78%\n",
      "\t⏳ Elapsed Time: 112.59s | ETA: 8669.06s\n",
      "\t🕒 Completed At: 12:37\n"
     ]
    },
    {
     "name": "stderr",
     "output_type": "stream",
     "text": [
      "Eval progress: 100%|██████████| 79/79 [00:26<00:00,  2.94batch/s]\n"
     ]
    },
    {
     "name": "stdout",
     "output_type": "stream",
     "text": [
      "🔍 Validation Results:\n",
      "\t📉 Validation Loss: 1.0087\n",
      "\t🎯 Validation Accuracy: 71.16%\n",
      "\n"
     ]
    },
    {
     "name": "stderr",
     "output_type": "stream",
     "text": [
      "Training progress: 100%|██████████| 313/313 [01:51<00:00,  2.81batch/s]\n"
     ]
    },
    {
     "name": "stdout",
     "output_type": "stream",
     "text": [
      "🚀 Epoch 4/80 (5.00%) Completed\n",
      "\t📊 Training Loss: 0.6277\n",
      "\t✅ Training Accuracy: 80.75%\n",
      "\t⏳ Elapsed Time: 111.55s | ETA: 8477.45s\n",
      "\t🕒 Completed At: 12:40\n"
     ]
    },
    {
     "name": "stderr",
     "output_type": "stream",
     "text": [
      "Eval progress: 100%|██████████| 79/79 [00:22<00:00,  3.54batch/s]\n"
     ]
    },
    {
     "name": "stdout",
     "output_type": "stream",
     "text": [
      "🔍 Validation Results:\n",
      "\t📉 Validation Loss: 0.8983\n",
      "\t🎯 Validation Accuracy: 74.30%\n",
      "\n"
     ]
    },
    {
     "name": "stderr",
     "output_type": "stream",
     "text": [
      "Training progress: 100%|██████████| 313/313 [01:41<00:00,  3.08batch/s]\n"
     ]
    },
    {
     "name": "stdout",
     "output_type": "stream",
     "text": [
      "🚀 Epoch 5/80 (6.25%) Completed\n",
      "\t📊 Training Loss: 0.4817\n",
      "\t✅ Training Accuracy: 85.02%\n",
      "\t⏳ Elapsed Time: 101.64s | ETA: 7623.34s\n",
      "\t🕒 Completed At: 12:42\n"
     ]
    },
    {
     "name": "stderr",
     "output_type": "stream",
     "text": [
      "Eval progress: 100%|██████████| 79/79 [00:22<00:00,  3.56batch/s]\n"
     ]
    },
    {
     "name": "stdout",
     "output_type": "stream",
     "text": [
      "🔍 Validation Results:\n",
      "\t📉 Validation Loss: 0.8940\n",
      "\t🎯 Validation Accuracy: 75.28%\n",
      "\n",
      "💾 Saved checkpoint at: /home/massimiliano/Projects/fl-g13/checkpoints/BaseDino/arcanine_BaseDino_epoch_5.pth\n",
      "💾 Saved losses and accuracies (training and validation) at: /home/massimiliano/Projects/fl-g13/checkpoints/BaseDino/arcanine_BaseDino_epoch_5.loss_acc.json\n",
      "\n"
     ]
    },
    {
     "name": "stderr",
     "output_type": "stream",
     "text": [
      "Training progress: 100%|██████████| 313/313 [01:41<00:00,  3.09batch/s]\n"
     ]
    },
    {
     "name": "stdout",
     "output_type": "stream",
     "text": [
      "🚀 Epoch 6/80 (7.50%) Completed\n",
      "\t📊 Training Loss: 0.3825\n",
      "\t✅ Training Accuracy: 88.19%\n",
      "\t⏳ Elapsed Time: 101.36s | ETA: 7500.32s\n",
      "\t🕒 Completed At: 12:44\n"
     ]
    },
    {
     "name": "stderr",
     "output_type": "stream",
     "text": [
      "Eval progress: 100%|██████████| 79/79 [00:21<00:00,  3.60batch/s]\n"
     ]
    },
    {
     "name": "stdout",
     "output_type": "stream",
     "text": [
      "🔍 Validation Results:\n",
      "\t📉 Validation Loss: 0.8586\n",
      "\t🎯 Validation Accuracy: 76.01%\n",
      "\n"
     ]
    },
    {
     "name": "stderr",
     "output_type": "stream",
     "text": [
      "Training progress: 100%|██████████| 313/313 [01:32<00:00,  3.38batch/s]\n"
     ]
    },
    {
     "name": "stdout",
     "output_type": "stream",
     "text": [
      "🚀 Epoch 7/80 (8.75%) Completed\n",
      "\t📊 Training Loss: 0.3095\n",
      "\t✅ Training Accuracy: 90.58%\n",
      "\t⏳ Elapsed Time: 92.52s | ETA: 6753.64s\n",
      "\t🕒 Completed At: 12:46\n"
     ]
    },
    {
     "name": "stderr",
     "output_type": "stream",
     "text": [
      "Eval progress: 100%|██████████| 79/79 [00:23<00:00,  3.30batch/s]\n"
     ]
    },
    {
     "name": "stdout",
     "output_type": "stream",
     "text": [
      "🔍 Validation Results:\n",
      "\t📉 Validation Loss: 0.8426\n",
      "\t🎯 Validation Accuracy: 76.67%\n",
      "\n"
     ]
    },
    {
     "name": "stderr",
     "output_type": "stream",
     "text": [
      "Training progress: 100%|██████████| 313/313 [01:45<00:00,  2.98batch/s]\n"
     ]
    },
    {
     "name": "stdout",
     "output_type": "stream",
     "text": [
      "🚀 Epoch 8/80 (10.00%) Completed\n",
      "\t📊 Training Loss: 0.2766\n",
      "\t✅ Training Accuracy: 91.88%\n",
      "\t⏳ Elapsed Time: 105.14s | ETA: 7570.43s\n",
      "\t🕒 Completed At: 12:48\n"
     ]
    },
    {
     "name": "stderr",
     "output_type": "stream",
     "text": [
      "Eval progress: 100%|██████████| 79/79 [00:23<00:00,  3.42batch/s]\n"
     ]
    },
    {
     "name": "stdout",
     "output_type": "stream",
     "text": [
      "🔍 Validation Results:\n",
      "\t📉 Validation Loss: 0.8418\n",
      "\t🎯 Validation Accuracy: 76.65%\n",
      "\n"
     ]
    },
    {
     "name": "stderr",
     "output_type": "stream",
     "text": [
      "Training progress: 100%|██████████| 313/313 [01:43<00:00,  3.03batch/s]\n"
     ]
    },
    {
     "name": "stdout",
     "output_type": "stream",
     "text": [
      "🚀 Epoch 9/80 (11.25%) Completed\n",
      "\t📊 Training Loss: 0.2613\n",
      "\t✅ Training Accuracy: 92.51%\n",
      "\t⏳ Elapsed Time: 103.28s | ETA: 7332.65s\n",
      "\t🕒 Completed At: 12:50\n"
     ]
    },
    {
     "name": "stderr",
     "output_type": "stream",
     "text": [
      "Eval progress: 100%|██████████| 79/79 [00:23<00:00,  3.32batch/s]\n"
     ]
    },
    {
     "name": "stdout",
     "output_type": "stream",
     "text": [
      "🔍 Validation Results:\n",
      "\t📉 Validation Loss: 0.8360\n",
      "\t🎯 Validation Accuracy: 77.14%\n",
      "\n"
     ]
    },
    {
     "name": "stderr",
     "output_type": "stream",
     "text": [
      "Training progress: 100%|██████████| 313/313 [01:41<00:00,  3.09batch/s]\n"
     ]
    },
    {
     "name": "stdout",
     "output_type": "stream",
     "text": [
      "🚀 Epoch 10/80 (12.50%) Completed\n",
      "\t📊 Training Loss: 0.2654\n",
      "\t✅ Training Accuracy: 92.33%\n",
      "\t⏳ Elapsed Time: 101.22s | ETA: 7085.71s\n",
      "\t🕒 Completed At: 12:52\n"
     ]
    },
    {
     "name": "stderr",
     "output_type": "stream",
     "text": [
      "Eval progress: 100%|██████████| 79/79 [00:19<00:00,  3.99batch/s]\n"
     ]
    },
    {
     "name": "stdout",
     "output_type": "stream",
     "text": [
      "🔍 Validation Results:\n",
      "\t📉 Validation Loss: 0.8381\n",
      "\t🎯 Validation Accuracy: 76.80%\n",
      "\n",
      "💾 Saved checkpoint at: /home/massimiliano/Projects/fl-g13/checkpoints/BaseDino/arcanine_BaseDino_epoch_10.pth\n",
      "💾 Saved losses and accuracies (training and validation) at: /home/massimiliano/Projects/fl-g13/checkpoints/BaseDino/arcanine_BaseDino_epoch_10.loss_acc.json\n",
      "\n"
     ]
    },
    {
     "name": "stderr",
     "output_type": "stream",
     "text": [
      "Training progress: 100%|██████████| 313/313 [01:27<00:00,  3.57batch/s]\n"
     ]
    },
    {
     "name": "stdout",
     "output_type": "stream",
     "text": [
      "🚀 Epoch 11/80 (13.75%) Completed\n",
      "\t📊 Training Loss: 0.2769\n",
      "\t✅ Training Accuracy: 91.90%\n",
      "\t⏳ Elapsed Time: 87.67s | ETA: 6049.20s\n",
      "\t🕒 Completed At: 12:54\n"
     ]
    },
    {
     "name": "stderr",
     "output_type": "stream",
     "text": [
      "Eval progress: 100%|██████████| 79/79 [00:19<00:00,  4.05batch/s]\n"
     ]
    },
    {
     "name": "stdout",
     "output_type": "stream",
     "text": [
      "🔍 Validation Results:\n",
      "\t📉 Validation Loss: 0.8431\n",
      "\t🎯 Validation Accuracy: 76.69%\n",
      "\n"
     ]
    },
    {
     "name": "stderr",
     "output_type": "stream",
     "text": [
      "Training progress: 100%|██████████| 313/313 [01:26<00:00,  3.60batch/s]\n"
     ]
    },
    {
     "name": "stdout",
     "output_type": "stream",
     "text": [
      "🚀 Epoch 12/80 (15.00%) Completed\n",
      "\t📊 Training Loss: 0.2881\n",
      "\t✅ Training Accuracy: 91.13%\n",
      "\t⏳ Elapsed Time: 86.90s | ETA: 5908.88s\n",
      "\t🕒 Completed At: 12:55\n"
     ]
    },
    {
     "name": "stderr",
     "output_type": "stream",
     "text": [
      "Eval progress: 100%|██████████| 79/79 [00:19<00:00,  4.06batch/s]\n"
     ]
    },
    {
     "name": "stdout",
     "output_type": "stream",
     "text": [
      "🔍 Validation Results:\n",
      "\t📉 Validation Loss: 0.8619\n",
      "\t🎯 Validation Accuracy: 76.26%\n",
      "\n"
     ]
    },
    {
     "name": "stderr",
     "output_type": "stream",
     "text": [
      "Training progress: 100%|██████████| 313/313 [01:27<00:00,  3.56batch/s]\n"
     ]
    },
    {
     "name": "stdout",
     "output_type": "stream",
     "text": [
      "🚀 Epoch 13/80 (16.25%) Completed\n",
      "\t📊 Training Loss: 0.3032\n",
      "\t✅ Training Accuracy: 90.33%\n",
      "\t⏳ Elapsed Time: 87.98s | ETA: 5894.96s\n",
      "\t🕒 Completed At: 12:57\n"
     ]
    },
    {
     "name": "stderr",
     "output_type": "stream",
     "text": [
      "Eval progress: 100%|██████████| 79/79 [00:19<00:00,  4.04batch/s]\n"
     ]
    },
    {
     "name": "stdout",
     "output_type": "stream",
     "text": [
      "🔍 Validation Results:\n",
      "\t📉 Validation Loss: 0.9161\n",
      "\t🎯 Validation Accuracy: 75.30%\n",
      "\n"
     ]
    },
    {
     "name": "stderr",
     "output_type": "stream",
     "text": [
      "Training progress: 100%|██████████| 313/313 [01:28<00:00,  3.55batch/s]\n"
     ]
    },
    {
     "name": "stdout",
     "output_type": "stream",
     "text": [
      "🚀 Epoch 14/80 (17.50%) Completed\n",
      "\t📊 Training Loss: 0.3259\n",
      "\t✅ Training Accuracy: 89.47%\n",
      "\t⏳ Elapsed Time: 88.12s | ETA: 5815.85s\n",
      "\t🕒 Completed At: 12:59\n"
     ]
    },
    {
     "name": "stderr",
     "output_type": "stream",
     "text": [
      "Eval progress: 100%|██████████| 79/79 [00:19<00:00,  4.04batch/s]\n"
     ]
    },
    {
     "name": "stdout",
     "output_type": "stream",
     "text": [
      "🔍 Validation Results:\n",
      "\t📉 Validation Loss: 0.9457\n",
      "\t🎯 Validation Accuracy: 74.65%\n",
      "\n"
     ]
    },
    {
     "name": "stderr",
     "output_type": "stream",
     "text": [
      "Training progress: 100%|██████████| 313/313 [01:27<00:00,  3.59batch/s]\n"
     ]
    },
    {
     "name": "stdout",
     "output_type": "stream",
     "text": [
      "🚀 Epoch 15/80 (18.75%) Completed\n",
      "\t📊 Training Loss: 0.3424\n",
      "\t✅ Training Accuracy: 88.64%\n",
      "\t⏳ Elapsed Time: 87.17s | ETA: 5665.77s\n",
      "\t🕒 Completed At: 13:01\n"
     ]
    },
    {
     "name": "stderr",
     "output_type": "stream",
     "text": [
      "Eval progress: 100%|██████████| 79/79 [00:19<00:00,  3.96batch/s]\n"
     ]
    },
    {
     "name": "stdout",
     "output_type": "stream",
     "text": [
      "🔍 Validation Results:\n",
      "\t📉 Validation Loss: 0.9674\n",
      "\t🎯 Validation Accuracy: 74.78%\n",
      "\n",
      "💾 Saved checkpoint at: /home/massimiliano/Projects/fl-g13/checkpoints/BaseDino/arcanine_BaseDino_epoch_15.pth\n",
      "💾 Saved losses and accuracies (training and validation) at: /home/massimiliano/Projects/fl-g13/checkpoints/BaseDino/arcanine_BaseDino_epoch_15.loss_acc.json\n",
      "\n"
     ]
    },
    {
     "name": "stderr",
     "output_type": "stream",
     "text": [
      "Training progress: 100%|██████████| 313/313 [01:27<00:00,  3.56batch/s]\n"
     ]
    },
    {
     "name": "stdout",
     "output_type": "stream",
     "text": [
      "🚀 Epoch 16/80 (20.00%) Completed\n",
      "\t📊 Training Loss: 0.3198\n",
      "\t✅ Training Accuracy: 89.44%\n",
      "\t⏳ Elapsed Time: 87.81s | ETA: 5620.04s\n",
      "\t🕒 Completed At: 13:03\n"
     ]
    },
    {
     "name": "stderr",
     "output_type": "stream",
     "text": [
      "Eval progress: 100%|██████████| 79/79 [00:20<00:00,  3.91batch/s]\n"
     ]
    },
    {
     "name": "stdout",
     "output_type": "stream",
     "text": [
      "🔍 Validation Results:\n",
      "\t📉 Validation Loss: 0.9965\n",
      "\t🎯 Validation Accuracy: 74.08%\n",
      "\n"
     ]
    },
    {
     "name": "stderr",
     "output_type": "stream",
     "text": [
      "Training progress: 100%|██████████| 313/313 [01:27<00:00,  3.59batch/s]\n"
     ]
    },
    {
     "name": "stdout",
     "output_type": "stream",
     "text": [
      "🚀 Epoch 17/80 (21.25%) Completed\n",
      "\t📊 Training Loss: 0.2891\n",
      "\t✅ Training Accuracy: 90.31%\n",
      "\t⏳ Elapsed Time: 87.25s | ETA: 5496.83s\n",
      "\t🕒 Completed At: 13:04\n"
     ]
    },
    {
     "name": "stderr",
     "output_type": "stream",
     "text": [
      "Eval progress: 100%|██████████| 79/79 [00:19<00:00,  3.95batch/s]\n"
     ]
    },
    {
     "name": "stdout",
     "output_type": "stream",
     "text": [
      "🔍 Validation Results:\n",
      "\t📉 Validation Loss: 1.0078\n",
      "\t🎯 Validation Accuracy: 74.50%\n",
      "\n"
     ]
    },
    {
     "name": "stderr",
     "output_type": "stream",
     "text": [
      "Training progress: 100%|██████████| 313/313 [01:28<00:00,  3.52batch/s]\n"
     ]
    },
    {
     "name": "stdout",
     "output_type": "stream",
     "text": [
      "🚀 Epoch 18/80 (22.50%) Completed\n",
      "\t📊 Training Loss: 0.2277\n",
      "\t✅ Training Accuracy: 92.42%\n",
      "\t⏳ Elapsed Time: 88.95s | ETA: 5514.98s\n",
      "\t🕒 Completed At: 13:06\n"
     ]
    },
    {
     "name": "stderr",
     "output_type": "stream",
     "text": [
      "Eval progress: 100%|██████████| 79/79 [00:19<00:00,  4.06batch/s]\n"
     ]
    },
    {
     "name": "stdout",
     "output_type": "stream",
     "text": [
      "🔍 Validation Results:\n",
      "\t📉 Validation Loss: 0.9967\n",
      "\t🎯 Validation Accuracy: 75.13%\n",
      "\n"
     ]
    },
    {
     "name": "stderr",
     "output_type": "stream",
     "text": [
      "Training progress: 100%|██████████| 313/313 [01:28<00:00,  3.54batch/s]\n"
     ]
    },
    {
     "name": "stdout",
     "output_type": "stream",
     "text": [
      "🚀 Epoch 19/80 (23.75%) Completed\n",
      "\t📊 Training Loss: 0.1591\n",
      "\t✅ Training Accuracy: 95.05%\n",
      "\t⏳ Elapsed Time: 88.39s | ETA: 5391.94s\n",
      "\t🕒 Completed At: 13:08\n"
     ]
    },
    {
     "name": "stderr",
     "output_type": "stream",
     "text": [
      "Eval progress: 100%|██████████| 79/79 [00:19<00:00,  3.99batch/s]\n"
     ]
    },
    {
     "name": "stdout",
     "output_type": "stream",
     "text": [
      "🔍 Validation Results:\n",
      "\t📉 Validation Loss: 0.9986\n",
      "\t🎯 Validation Accuracy: 75.76%\n",
      "\n"
     ]
    },
    {
     "name": "stderr",
     "output_type": "stream",
     "text": [
      "Training progress: 100%|██████████| 313/313 [01:28<00:00,  3.52batch/s]\n"
     ]
    },
    {
     "name": "stdout",
     "output_type": "stream",
     "text": [
      "🚀 Epoch 20/80 (25.00%) Completed\n",
      "\t📊 Training Loss: 0.1110\n",
      "\t✅ Training Accuracy: 96.70%\n",
      "\t⏳ Elapsed Time: 88.87s | ETA: 5331.94s\n",
      "\t🕒 Completed At: 13:10\n"
     ]
    },
    {
     "name": "stderr",
     "output_type": "stream",
     "text": [
      "Eval progress: 100%|██████████| 79/79 [00:19<00:00,  4.04batch/s]\n"
     ]
    },
    {
     "name": "stdout",
     "output_type": "stream",
     "text": [
      "🔍 Validation Results:\n",
      "\t📉 Validation Loss: 0.9559\n",
      "\t🎯 Validation Accuracy: 77.07%\n",
      "\n",
      "💾 Saved checkpoint at: /home/massimiliano/Projects/fl-g13/checkpoints/BaseDino/arcanine_BaseDino_epoch_20.pth\n",
      "💾 Saved losses and accuracies (training and validation) at: /home/massimiliano/Projects/fl-g13/checkpoints/BaseDino/arcanine_BaseDino_epoch_20.loss_acc.json\n",
      "\n",
      "Running backup for epoch 20\n",
      "💾 Saved checkpoint at: /home/massimiliano/Projects/fl-g13/checkpoints/backup/BaseDino/backup_20250503_131039_arcanine_BaseDino_epoch_20.pth\n",
      "💾 Saved losses and accuracies (training and validation) at: /home/massimiliano/Projects/fl-g13/checkpoints/backup/BaseDino/backup_20250503_131039_arcanine_BaseDino_epoch_20.loss_acc.json\n",
      "\n"
     ]
    },
    {
     "name": "stderr",
     "output_type": "stream",
     "text": [
      "Training progress: 100%|██████████| 313/313 [01:30<00:00,  3.48batch/s]\n"
     ]
    },
    {
     "name": "stdout",
     "output_type": "stream",
     "text": [
      "🚀 Epoch 21/80 (26.25%) Completed\n",
      "\t📊 Training Loss: 0.0753\n",
      "\t✅ Training Accuracy: 98.01%\n",
      "\t⏳ Elapsed Time: 90.05s | ETA: 5313.17s\n",
      "\t🕒 Completed At: 13:12\n"
     ]
    },
    {
     "name": "stderr",
     "output_type": "stream",
     "text": [
      "Eval progress: 100%|██████████| 79/79 [00:19<00:00,  4.16batch/s]\n"
     ]
    },
    {
     "name": "stdout",
     "output_type": "stream",
     "text": [
      "🔍 Validation Results:\n",
      "\t📉 Validation Loss: 0.9376\n",
      "\t🎯 Validation Accuracy: 77.68%\n",
      "\n"
     ]
    },
    {
     "name": "stderr",
     "output_type": "stream",
     "text": [
      "Training progress: 100%|██████████| 313/313 [01:27<00:00,  3.59batch/s]\n"
     ]
    },
    {
     "name": "stdout",
     "output_type": "stream",
     "text": [
      "🚀 Epoch 22/80 (27.50%) Completed\n",
      "\t📊 Training Loss: 0.0526\n",
      "\t✅ Training Accuracy: 98.82%\n",
      "\t⏳ Elapsed Time: 87.15s | ETA: 5054.52s\n",
      "\t🕒 Completed At: 13:13\n"
     ]
    },
    {
     "name": "stderr",
     "output_type": "stream",
     "text": [
      "Eval progress: 100%|██████████| 79/79 [00:19<00:00,  4.04batch/s]\n"
     ]
    },
    {
     "name": "stdout",
     "output_type": "stream",
     "text": [
      "🔍 Validation Results:\n",
      "\t📉 Validation Loss: 0.9481\n",
      "\t🎯 Validation Accuracy: 77.91%\n",
      "\n"
     ]
    },
    {
     "name": "stderr",
     "output_type": "stream",
     "text": [
      "Training progress: 100%|██████████| 313/313 [01:27<00:00,  3.57batch/s]\n"
     ]
    },
    {
     "name": "stdout",
     "output_type": "stream",
     "text": [
      "🚀 Epoch 23/80 (28.75%) Completed\n",
      "\t📊 Training Loss: 0.0431\n",
      "\t✅ Training Accuracy: 99.11%\n",
      "\t⏳ Elapsed Time: 87.69s | ETA: 4998.53s\n",
      "\t🕒 Completed At: 13:15\n"
     ]
    },
    {
     "name": "stderr",
     "output_type": "stream",
     "text": [
      "Eval progress: 100%|██████████| 79/79 [00:20<00:00,  3.92batch/s]\n"
     ]
    },
    {
     "name": "stdout",
     "output_type": "stream",
     "text": [
      "🔍 Validation Results:\n",
      "\t📉 Validation Loss: 0.9523\n",
      "\t🎯 Validation Accuracy: 77.78%\n",
      "\n"
     ]
    },
    {
     "name": "stderr",
     "output_type": "stream",
     "text": [
      "Training progress: 100%|██████████| 313/313 [01:27<00:00,  3.58batch/s]\n"
     ]
    },
    {
     "name": "stdout",
     "output_type": "stream",
     "text": [
      "🚀 Epoch 24/80 (30.00%) Completed\n",
      "\t📊 Training Loss: 0.0386\n",
      "\t✅ Training Accuracy: 99.26%\n",
      "\t⏳ Elapsed Time: 87.52s | ETA: 4901.12s\n",
      "\t🕒 Completed At: 13:17\n"
     ]
    },
    {
     "name": "stderr",
     "output_type": "stream",
     "text": [
      "Eval progress: 100%|██████████| 79/79 [00:21<00:00,  3.69batch/s]\n"
     ]
    },
    {
     "name": "stdout",
     "output_type": "stream",
     "text": [
      "🔍 Validation Results:\n",
      "\t📉 Validation Loss: 0.9564\n",
      "\t🎯 Validation Accuracy: 78.07%\n",
      "\n"
     ]
    },
    {
     "name": "stderr",
     "output_type": "stream",
     "text": [
      "Training progress: 100%|██████████| 313/313 [01:28<00:00,  3.55batch/s]\n"
     ]
    },
    {
     "name": "stdout",
     "output_type": "stream",
     "text": [
      "🚀 Epoch 25/80 (31.25%) Completed\n",
      "\t📊 Training Loss: 0.0378\n",
      "\t✅ Training Accuracy: 99.31%\n",
      "\t⏳ Elapsed Time: 88.17s | ETA: 4849.29s\n",
      "\t🕒 Completed At: 13:19\n"
     ]
    },
    {
     "name": "stderr",
     "output_type": "stream",
     "text": [
      "Eval progress: 100%|██████████| 79/79 [00:19<00:00,  4.00batch/s]\n"
     ]
    },
    {
     "name": "stdout",
     "output_type": "stream",
     "text": [
      "🔍 Validation Results:\n",
      "\t📉 Validation Loss: 0.9402\n",
      "\t🎯 Validation Accuracy: 78.37%\n",
      "\n",
      "💾 Saved checkpoint at: /home/massimiliano/Projects/fl-g13/checkpoints/BaseDino/arcanine_BaseDino_epoch_25.pth\n",
      "💾 Saved losses and accuracies (training and validation) at: /home/massimiliano/Projects/fl-g13/checkpoints/BaseDino/arcanine_BaseDino_epoch_25.loss_acc.json\n",
      "\n"
     ]
    },
    {
     "name": "stderr",
     "output_type": "stream",
     "text": [
      "Training progress: 100%|██████████| 313/313 [01:28<00:00,  3.53batch/s]\n"
     ]
    },
    {
     "name": "stdout",
     "output_type": "stream",
     "text": [
      "🚀 Epoch 26/80 (32.50%) Completed\n",
      "\t📊 Training Loss: 0.0364\n",
      "\t✅ Training Accuracy: 99.37%\n",
      "\t⏳ Elapsed Time: 88.57s | ETA: 4782.79s\n",
      "\t🕒 Completed At: 13:21\n"
     ]
    },
    {
     "name": "stderr",
     "output_type": "stream",
     "text": [
      "Eval progress: 100%|██████████| 79/79 [00:19<00:00,  4.03batch/s]\n"
     ]
    },
    {
     "name": "stdout",
     "output_type": "stream",
     "text": [
      "🔍 Validation Results:\n",
      "\t📉 Validation Loss: 0.9452\n",
      "\t🎯 Validation Accuracy: 77.94%\n",
      "\n"
     ]
    },
    {
     "name": "stderr",
     "output_type": "stream",
     "text": [
      "Training progress: 100%|██████████| 313/313 [01:27<00:00,  3.58batch/s]\n"
     ]
    },
    {
     "name": "stdout",
     "output_type": "stream",
     "text": [
      "🚀 Epoch 27/80 (33.75%) Completed\n",
      "\t📊 Training Loss: 0.0379\n",
      "\t✅ Training Accuracy: 99.31%\n",
      "\t⏳ Elapsed Time: 87.54s | ETA: 4639.50s\n",
      "\t🕒 Completed At: 13:22\n"
     ]
    },
    {
     "name": "stderr",
     "output_type": "stream",
     "text": [
      "Eval progress: 100%|██████████| 79/79 [00:20<00:00,  3.91batch/s]\n"
     ]
    },
    {
     "name": "stdout",
     "output_type": "stream",
     "text": [
      "🔍 Validation Results:\n",
      "\t📉 Validation Loss: 0.9503\n",
      "\t🎯 Validation Accuracy: 78.00%\n",
      "\n"
     ]
    },
    {
     "name": "stderr",
     "output_type": "stream",
     "text": [
      "Training progress: 100%|██████████| 313/313 [01:34<00:00,  3.30batch/s]\n"
     ]
    },
    {
     "name": "stdout",
     "output_type": "stream",
     "text": [
      "🚀 Epoch 28/80 (35.00%) Completed\n",
      "\t📊 Training Loss: 0.0409\n",
      "\t✅ Training Accuracy: 99.20%\n",
      "\t⏳ Elapsed Time: 94.86s | ETA: 4932.51s\n",
      "\t🕒 Completed At: 13:24\n"
     ]
    },
    {
     "name": "stderr",
     "output_type": "stream",
     "text": [
      "Eval progress: 100%|██████████| 79/79 [00:23<00:00,  3.33batch/s]\n"
     ]
    },
    {
     "name": "stdout",
     "output_type": "stream",
     "text": [
      "🔍 Validation Results:\n",
      "\t📉 Validation Loss: 0.9679\n",
      "\t🎯 Validation Accuracy: 77.79%\n",
      "\n"
     ]
    },
    {
     "name": "stderr",
     "output_type": "stream",
     "text": [
      "Training progress: 100%|██████████| 313/313 [01:43<00:00,  3.02batch/s]\n"
     ]
    },
    {
     "name": "stdout",
     "output_type": "stream",
     "text": [
      "🚀 Epoch 29/80 (36.25%) Completed\n",
      "\t📊 Training Loss: 0.0443\n",
      "\t✅ Training Accuracy: 99.03%\n",
      "\t⏳ Elapsed Time: 103.74s | ETA: 5290.91s\n",
      "\t🕒 Completed At: 13:26\n"
     ]
    },
    {
     "name": "stderr",
     "output_type": "stream",
     "text": [
      "Eval progress: 100%|██████████| 79/79 [00:23<00:00,  3.41batch/s]\n"
     ]
    },
    {
     "name": "stdout",
     "output_type": "stream",
     "text": [
      "🔍 Validation Results:\n",
      "\t📉 Validation Loss: 0.9897\n",
      "\t🎯 Validation Accuracy: 77.43%\n",
      "\n"
     ]
    },
    {
     "name": "stderr",
     "output_type": "stream",
     "text": [
      "Training progress: 100%|██████████| 313/313 [01:47<00:00,  2.92batch/s]\n"
     ]
    },
    {
     "name": "stdout",
     "output_type": "stream",
     "text": [
      "🚀 Epoch 30/80 (37.50%) Completed\n",
      "\t📊 Training Loss: 0.0509\n",
      "\t✅ Training Accuracy: 98.80%\n",
      "\t⏳ Elapsed Time: 107.17s | ETA: 5358.41s\n",
      "\t🕒 Completed At: 13:29\n"
     ]
    },
    {
     "name": "stderr",
     "output_type": "stream",
     "text": [
      "Eval progress: 100%|██████████| 79/79 [00:23<00:00,  3.40batch/s]\n"
     ]
    },
    {
     "name": "stdout",
     "output_type": "stream",
     "text": [
      "🔍 Validation Results:\n",
      "\t📉 Validation Loss: 1.0011\n",
      "\t🎯 Validation Accuracy: 77.08%\n",
      "\n",
      "💾 Saved checkpoint at: /home/massimiliano/Projects/fl-g13/checkpoints/BaseDino/arcanine_BaseDino_epoch_30.pth\n",
      "💾 Saved losses and accuracies (training and validation) at: /home/massimiliano/Projects/fl-g13/checkpoints/BaseDino/arcanine_BaseDino_epoch_30.loss_acc.json\n",
      "\n"
     ]
    },
    {
     "name": "stderr",
     "output_type": "stream",
     "text": [
      "Training progress: 100%|██████████| 313/313 [01:44<00:00,  2.98batch/s]\n"
     ]
    },
    {
     "name": "stdout",
     "output_type": "stream",
     "text": [
      "🚀 Epoch 31/80 (38.75%) Completed\n",
      "\t📊 Training Loss: 0.0687\n",
      "\t✅ Training Accuracy: 98.04%\n",
      "\t⏳ Elapsed Time: 104.92s | ETA: 5140.93s\n",
      "\t🕒 Completed At: 13:31\n"
     ]
    },
    {
     "name": "stderr",
     "output_type": "stream",
     "text": [
      "Eval progress: 100%|██████████| 79/79 [00:24<00:00,  3.28batch/s]\n"
     ]
    },
    {
     "name": "stdout",
     "output_type": "stream",
     "text": [
      "🔍 Validation Results:\n",
      "\t📉 Validation Loss: 1.0571\n",
      "\t🎯 Validation Accuracy: 76.35%\n",
      "\n"
     ]
    },
    {
     "name": "stderr",
     "output_type": "stream",
     "text": [
      "Training progress: 100%|██████████| 313/313 [01:46<00:00,  2.93batch/s]\n"
     ]
    },
    {
     "name": "stdout",
     "output_type": "stream",
     "text": [
      "🚀 Epoch 32/80 (40.00%) Completed\n",
      "\t📊 Training Loss: 0.0948\n",
      "\t✅ Training Accuracy: 97.06%\n",
      "\t⏳ Elapsed Time: 106.93s | ETA: 5132.77s\n",
      "\t🕒 Completed At: 13:33\n"
     ]
    },
    {
     "name": "stderr",
     "output_type": "stream",
     "text": [
      "Eval progress: 100%|██████████| 79/79 [00:23<00:00,  3.35batch/s]\n"
     ]
    },
    {
     "name": "stdout",
     "output_type": "stream",
     "text": [
      "🔍 Validation Results:\n",
      "\t📉 Validation Loss: 1.1023\n",
      "\t🎯 Validation Accuracy: 75.62%\n",
      "\n"
     ]
    },
    {
     "name": "stderr",
     "output_type": "stream",
     "text": [
      "Training progress: 100%|██████████| 313/313 [01:45<00:00,  2.97batch/s]\n"
     ]
    },
    {
     "name": "stdout",
     "output_type": "stream",
     "text": [
      "🚀 Epoch 33/80 (41.25%) Completed\n",
      "\t📊 Training Loss: 0.1059\n",
      "\t✅ Training Accuracy: 96.58%\n",
      "\t⏳ Elapsed Time: 105.32s | ETA: 4949.90s\n",
      "\t🕒 Completed At: 13:35\n"
     ]
    },
    {
     "name": "stderr",
     "output_type": "stream",
     "text": [
      "Eval progress: 100%|██████████| 79/79 [00:24<00:00,  3.29batch/s]\n"
     ]
    },
    {
     "name": "stdout",
     "output_type": "stream",
     "text": [
      "🔍 Validation Results:\n",
      "\t📉 Validation Loss: 1.1191\n",
      "\t🎯 Validation Accuracy: 75.70%\n",
      "\n"
     ]
    },
    {
     "name": "stderr",
     "output_type": "stream",
     "text": [
      "Training progress: 100%|██████████| 313/313 [01:45<00:00,  2.97batch/s]\n"
     ]
    },
    {
     "name": "stdout",
     "output_type": "stream",
     "text": [
      "🚀 Epoch 34/80 (42.50%) Completed\n",
      "\t📊 Training Loss: 0.0916\n",
      "\t✅ Training Accuracy: 97.17%\n",
      "\t⏳ Elapsed Time: 105.54s | ETA: 4855.00s\n",
      "\t🕒 Completed At: 13:37\n"
     ]
    },
    {
     "name": "stderr",
     "output_type": "stream",
     "text": [
      "Eval progress: 100%|██████████| 79/79 [00:23<00:00,  3.38batch/s]\n"
     ]
    },
    {
     "name": "stdout",
     "output_type": "stream",
     "text": [
      "🔍 Validation Results:\n",
      "\t📉 Validation Loss: 1.0740\n",
      "\t🎯 Validation Accuracy: 75.97%\n",
      "\n"
     ]
    },
    {
     "name": "stderr",
     "output_type": "stream",
     "text": [
      "Training progress: 100%|██████████| 313/313 [01:46<00:00,  2.95batch/s]\n"
     ]
    },
    {
     "name": "stdout",
     "output_type": "stream",
     "text": [
      "🚀 Epoch 35/80 (43.75%) Completed\n",
      "\t📊 Training Loss: 0.0636\n",
      "\t✅ Training Accuracy: 98.19%\n",
      "\t⏳ Elapsed Time: 106.14s | ETA: 4776.32s\n",
      "\t🕒 Completed At: 13:39\n"
     ]
    },
    {
     "name": "stderr",
     "output_type": "stream",
     "text": [
      "Eval progress: 100%|██████████| 79/79 [00:23<00:00,  3.31batch/s]\n"
     ]
    },
    {
     "name": "stdout",
     "output_type": "stream",
     "text": [
      "🔍 Validation Results:\n",
      "\t📉 Validation Loss: 1.0752\n",
      "\t🎯 Validation Accuracy: 76.87%\n",
      "\n",
      "💾 Saved checkpoint at: /home/massimiliano/Projects/fl-g13/checkpoints/BaseDino/arcanine_BaseDino_epoch_35.pth\n",
      "💾 Saved losses and accuracies (training and validation) at: /home/massimiliano/Projects/fl-g13/checkpoints/BaseDino/arcanine_BaseDino_epoch_35.loss_acc.json\n",
      "\n"
     ]
    },
    {
     "name": "stderr",
     "output_type": "stream",
     "text": [
      "Training progress: 100%|██████████| 313/313 [01:54<00:00,  2.74batch/s]\n"
     ]
    },
    {
     "name": "stdout",
     "output_type": "stream",
     "text": [
      "🚀 Epoch 36/80 (45.00%) Completed\n",
      "\t📊 Training Loss: 0.0419\n",
      "\t✅ Training Accuracy: 98.94%\n",
      "\t⏳ Elapsed Time: 114.13s | ETA: 5021.72s\n",
      "\t🕒 Completed At: 13:42\n"
     ]
    },
    {
     "name": "stderr",
     "output_type": "stream",
     "text": [
      "Eval progress: 100%|██████████| 79/79 [00:27<00:00,  2.90batch/s]\n"
     ]
    },
    {
     "name": "stdout",
     "output_type": "stream",
     "text": [
      "🔍 Validation Results:\n",
      "\t📉 Validation Loss: 1.0466\n",
      "\t🎯 Validation Accuracy: 77.34%\n",
      "\n"
     ]
    },
    {
     "name": "stderr",
     "output_type": "stream",
     "text": [
      "Training progress: 100%|██████████| 313/313 [01:57<00:00,  2.67batch/s]\n"
     ]
    },
    {
     "name": "stdout",
     "output_type": "stream",
     "text": [
      "🚀 Epoch 37/80 (46.25%) Completed\n",
      "\t📊 Training Loss: 0.0280\n",
      "\t✅ Training Accuracy: 99.32%\n",
      "\t⏳ Elapsed Time: 117.03s | ETA: 5032.23s\n",
      "\t🕒 Completed At: 13:44\n"
     ]
    },
    {
     "name": "stderr",
     "output_type": "stream",
     "text": [
      "Eval progress: 100%|██████████| 79/79 [00:24<00:00,  3.23batch/s]\n"
     ]
    },
    {
     "name": "stdout",
     "output_type": "stream",
     "text": [
      "🔍 Validation Results:\n",
      "\t📉 Validation Loss: 1.0433\n",
      "\t🎯 Validation Accuracy: 77.53%\n",
      "\n"
     ]
    },
    {
     "name": "stderr",
     "output_type": "stream",
     "text": [
      "Training progress: 100%|██████████| 313/313 [01:44<00:00,  2.99batch/s]\n"
     ]
    },
    {
     "name": "stdout",
     "output_type": "stream",
     "text": [
      "🚀 Epoch 38/80 (47.50%) Completed\n",
      "\t📊 Training Loss: 0.0203\n",
      "\t✅ Training Accuracy: 99.59%\n",
      "\t⏳ Elapsed Time: 104.71s | ETA: 4397.91s\n",
      "\t🕒 Completed At: 13:46\n"
     ]
    },
    {
     "name": "stderr",
     "output_type": "stream",
     "text": [
      "Eval progress: 100%|██████████| 79/79 [00:23<00:00,  3.39batch/s]\n"
     ]
    },
    {
     "name": "stdout",
     "output_type": "stream",
     "text": [
      "🔍 Validation Results:\n",
      "\t📉 Validation Loss: 1.0376\n",
      "\t🎯 Validation Accuracy: 78.10%\n",
      "\n"
     ]
    },
    {
     "name": "stderr",
     "output_type": "stream",
     "text": [
      "Training progress: 100%|██████████| 313/313 [01:43<00:00,  3.04batch/s]\n"
     ]
    },
    {
     "name": "stdout",
     "output_type": "stream",
     "text": [
      "🚀 Epoch 39/80 (48.75%) Completed\n",
      "\t📊 Training Loss: 0.0164\n",
      "\t✅ Training Accuracy: 99.75%\n",
      "\t⏳ Elapsed Time: 103.01s | ETA: 4223.24s\n",
      "\t🕒 Completed At: 13:48\n"
     ]
    },
    {
     "name": "stderr",
     "output_type": "stream",
     "text": [
      "Eval progress: 100%|██████████| 79/79 [00:24<00:00,  3.28batch/s]\n"
     ]
    },
    {
     "name": "stdout",
     "output_type": "stream",
     "text": [
      "🔍 Validation Results:\n",
      "\t📉 Validation Loss: 1.0207\n",
      "\t🎯 Validation Accuracy: 78.15%\n",
      "\n"
     ]
    },
    {
     "name": "stderr",
     "output_type": "stream",
     "text": [
      "Training progress: 100%|██████████| 313/313 [01:45<00:00,  2.98batch/s]\n"
     ]
    },
    {
     "name": "stdout",
     "output_type": "stream",
     "text": [
      "🚀 Epoch 40/80 (50.00%) Completed\n",
      "\t📊 Training Loss: 0.0143\n",
      "\t✅ Training Accuracy: 99.81%\n",
      "\t⏳ Elapsed Time: 105.10s | ETA: 4203.87s\n",
      "\t🕒 Completed At: 13:51\n"
     ]
    },
    {
     "name": "stderr",
     "output_type": "stream",
     "text": [
      "Eval progress: 100%|██████████| 79/79 [00:23<00:00,  3.40batch/s]\n"
     ]
    },
    {
     "name": "stdout",
     "output_type": "stream",
     "text": [
      "🔍 Validation Results:\n",
      "\t📉 Validation Loss: 1.0236\n",
      "\t🎯 Validation Accuracy: 78.33%\n",
      "\n",
      "💾 Saved checkpoint at: /home/massimiliano/Projects/fl-g13/checkpoints/BaseDino/arcanine_BaseDino_epoch_40.pth\n",
      "💾 Saved losses and accuracies (training and validation) at: /home/massimiliano/Projects/fl-g13/checkpoints/BaseDino/arcanine_BaseDino_epoch_40.loss_acc.json\n",
      "\n",
      "Running backup for epoch 40\n",
      "💾 Saved checkpoint at: /home/massimiliano/Projects/fl-g13/checkpoints/backup/BaseDino/backup_20250503_135126_arcanine_BaseDino_epoch_40.pth\n",
      "💾 Saved losses and accuracies (training and validation) at: /home/massimiliano/Projects/fl-g13/checkpoints/backup/BaseDino/backup_20250503_135126_arcanine_BaseDino_epoch_40.loss_acc.json\n",
      "\n"
     ]
    },
    {
     "name": "stderr",
     "output_type": "stream",
     "text": [
      "Training progress: 100%|██████████| 313/313 [01:43<00:00,  3.02batch/s]\n"
     ]
    },
    {
     "name": "stdout",
     "output_type": "stream",
     "text": [
      "🚀 Epoch 41/80 (51.25%) Completed\n",
      "\t📊 Training Loss: 0.0139\n",
      "\t✅ Training Accuracy: 99.83%\n",
      "\t⏳ Elapsed Time: 103.78s | ETA: 4047.52s\n",
      "\t🕒 Completed At: 13:53\n"
     ]
    },
    {
     "name": "stderr",
     "output_type": "stream",
     "text": [
      "Eval progress: 100%|██████████| 79/79 [00:24<00:00,  3.29batch/s]\n"
     ]
    },
    {
     "name": "stdout",
     "output_type": "stream",
     "text": [
      "🔍 Validation Results:\n",
      "\t📉 Validation Loss: 1.0259\n",
      "\t🎯 Validation Accuracy: 78.14%\n",
      "\n"
     ]
    },
    {
     "name": "stderr",
     "output_type": "stream",
     "text": [
      "Training progress: 100%|██████████| 313/313 [01:43<00:00,  3.04batch/s]\n"
     ]
    },
    {
     "name": "stdout",
     "output_type": "stream",
     "text": [
      "🚀 Epoch 42/80 (52.50%) Completed\n",
      "\t📊 Training Loss: 0.0136\n",
      "\t✅ Training Accuracy: 99.83%\n",
      "\t⏳ Elapsed Time: 103.07s | ETA: 3916.59s\n",
      "\t🕒 Completed At: 13:55\n"
     ]
    },
    {
     "name": "stderr",
     "output_type": "stream",
     "text": [
      "Eval progress: 100%|██████████| 79/79 [00:23<00:00,  3.37batch/s]\n"
     ]
    },
    {
     "name": "stdout",
     "output_type": "stream",
     "text": [
      "🔍 Validation Results:\n",
      "\t📉 Validation Loss: 1.0294\n",
      "\t🎯 Validation Accuracy: 78.43%\n",
      "\n"
     ]
    },
    {
     "name": "stderr",
     "output_type": "stream",
     "text": [
      "Training progress: 100%|██████████| 313/313 [01:37<00:00,  3.21batch/s]\n"
     ]
    },
    {
     "name": "stdout",
     "output_type": "stream",
     "text": [
      "🚀 Epoch 43/80 (53.75%) Completed\n",
      "\t📊 Training Loss: 0.0144\n",
      "\t✅ Training Accuracy: 99.77%\n",
      "\t⏳ Elapsed Time: 97.65s | ETA: 3613.05s\n",
      "\t🕒 Completed At: 13:57\n"
     ]
    },
    {
     "name": "stderr",
     "output_type": "stream",
     "text": [
      "Eval progress: 100%|██████████| 79/79 [00:20<00:00,  3.89batch/s]\n"
     ]
    },
    {
     "name": "stdout",
     "output_type": "stream",
     "text": [
      "🔍 Validation Results:\n",
      "\t📉 Validation Loss: 1.0241\n",
      "\t🎯 Validation Accuracy: 78.38%\n",
      "\n"
     ]
    },
    {
     "name": "stderr",
     "output_type": "stream",
     "text": [
      "Training progress: 100%|██████████| 313/313 [01:43<00:00,  3.03batch/s]\n"
     ]
    },
    {
     "name": "stdout",
     "output_type": "stream",
     "text": [
      "🚀 Epoch 44/80 (55.00%) Completed\n",
      "\t📊 Training Loss: 0.0145\n",
      "\t✅ Training Accuracy: 99.78%\n",
      "\t⏳ Elapsed Time: 103.34s | ETA: 3720.23s\n",
      "\t🕒 Completed At: 13:59\n"
     ]
    },
    {
     "name": "stderr",
     "output_type": "stream",
     "text": [
      "Eval progress: 100%|██████████| 79/79 [00:24<00:00,  3.27batch/s]\n"
     ]
    },
    {
     "name": "stdout",
     "output_type": "stream",
     "text": [
      "🔍 Validation Results:\n",
      "\t📉 Validation Loss: 1.0443\n",
      "\t🎯 Validation Accuracy: 78.13%\n",
      "\n"
     ]
    },
    {
     "name": "stderr",
     "output_type": "stream",
     "text": [
      "Training progress: 100%|██████████| 313/313 [01:43<00:00,  3.01batch/s]\n"
     ]
    },
    {
     "name": "stdout",
     "output_type": "stream",
     "text": [
      "🚀 Epoch 45/80 (56.25%) Completed\n",
      "\t📊 Training Loss: 0.0178\n",
      "\t✅ Training Accuracy: 99.67%\n",
      "\t⏳ Elapsed Time: 103.92s | ETA: 3637.32s\n",
      "\t🕒 Completed At: 14:01\n"
     ]
    },
    {
     "name": "stderr",
     "output_type": "stream",
     "text": [
      "Eval progress: 100%|██████████| 79/79 [00:24<00:00,  3.28batch/s]\n"
     ]
    },
    {
     "name": "stdout",
     "output_type": "stream",
     "text": [
      "🔍 Validation Results:\n",
      "\t📉 Validation Loss: 1.0296\n",
      "\t🎯 Validation Accuracy: 78.24%\n",
      "\n",
      "💾 Saved checkpoint at: /home/massimiliano/Projects/fl-g13/checkpoints/BaseDino/arcanine_BaseDino_epoch_45.pth\n",
      "💾 Saved losses and accuracies (training and validation) at: /home/massimiliano/Projects/fl-g13/checkpoints/BaseDino/arcanine_BaseDino_epoch_45.loss_acc.json\n",
      "\n"
     ]
    },
    {
     "name": "stderr",
     "output_type": "stream",
     "text": [
      "Training progress: 100%|██████████| 313/313 [01:47<00:00,  2.92batch/s]\n"
     ]
    },
    {
     "name": "stdout",
     "output_type": "stream",
     "text": [
      "🚀 Epoch 46/80 (57.50%) Completed\n",
      "\t📊 Training Loss: 0.0189\n",
      "\t✅ Training Accuracy: 99.63%\n",
      "\t⏳ Elapsed Time: 107.07s | ETA: 3640.53s\n",
      "\t🕒 Completed At: 14:03\n"
     ]
    },
    {
     "name": "stderr",
     "output_type": "stream",
     "text": [
      "Eval progress: 100%|██████████| 79/79 [00:24<00:00,  3.17batch/s]\n"
     ]
    },
    {
     "name": "stdout",
     "output_type": "stream",
     "text": [
      "🔍 Validation Results:\n",
      "\t📉 Validation Loss: 1.0505\n",
      "\t🎯 Validation Accuracy: 78.14%\n",
      "\n"
     ]
    },
    {
     "name": "stderr",
     "output_type": "stream",
     "text": [
      "Training progress: 100%|██████████| 313/313 [01:44<00:00,  2.99batch/s]\n"
     ]
    },
    {
     "name": "stdout",
     "output_type": "stream",
     "text": [
      "🚀 Epoch 47/80 (58.75%) Completed\n",
      "\t📊 Training Loss: 0.0234\n",
      "\t✅ Training Accuracy: 99.49%\n",
      "\t⏳ Elapsed Time: 104.61s | ETA: 3452.09s\n",
      "\t🕒 Completed At: 14:05\n"
     ]
    },
    {
     "name": "stderr",
     "output_type": "stream",
     "text": [
      "Eval progress: 100%|██████████| 79/79 [00:23<00:00,  3.43batch/s]\n"
     ]
    },
    {
     "name": "stdout",
     "output_type": "stream",
     "text": [
      "🔍 Validation Results:\n",
      "\t📉 Validation Loss: 1.1020\n",
      "\t🎯 Validation Accuracy: 76.57%\n",
      "\n"
     ]
    },
    {
     "name": "stderr",
     "output_type": "stream",
     "text": [
      "Training progress: 100%|██████████| 313/313 [01:44<00:00,  3.00batch/s]\n"
     ]
    },
    {
     "name": "stdout",
     "output_type": "stream",
     "text": [
      "🚀 Epoch 48/80 (60.00%) Completed\n",
      "\t📊 Training Loss: 0.0339\n",
      "\t✅ Training Accuracy: 99.10%\n",
      "\t⏳ Elapsed Time: 104.48s | ETA: 3343.46s\n",
      "\t🕒 Completed At: 14:07\n"
     ]
    },
    {
     "name": "stderr",
     "output_type": "stream",
     "text": [
      "Eval progress: 100%|██████████| 79/79 [00:23<00:00,  3.37batch/s]\n"
     ]
    },
    {
     "name": "stdout",
     "output_type": "stream",
     "text": [
      "🔍 Validation Results:\n",
      "\t📉 Validation Loss: 1.1550\n",
      "\t🎯 Validation Accuracy: 76.46%\n",
      "\n"
     ]
    },
    {
     "name": "stderr",
     "output_type": "stream",
     "text": [
      "Training progress:  62%|██████▏   | 193/313 [01:06<00:41,  2.92batch/s]"
     ]
    },
    {
     "name": "stdout",
     "output_type": "stream",
     "text": [
      "Training interrupted manually.\n"
     ]
    },
    {
     "name": "stderr",
     "output_type": "stream",
     "text": [
      "\n"
     ]
    }
   ],
   "source": [
    "try:\n",
    "    _, _, _, _ = train(\n",
    "        checkpoint_dir=CHECKPOINT_DIR,\n",
    "        name=name,\n",
    "        start_epoch=start_epoch,\n",
    "        num_epochs=num_epochs,\n",
    "        save_every=save_every,\n",
    "        backup_every=backup_every,\n",
    "        train_dataloader=train_dataloader,\n",
    "        val_dataloader=val_dataloader,\n",
    "        model=model,\n",
    "        criterion=criterion,\n",
    "        optimizer=optimizer,\n",
    "        scheduler=scheduler,\n",
    "        verbose=1,\n",
    "        all_training_losses=all_training_losses,\n",
    "        all_validation_losses=all_validation_losses,\n",
    "        all_training_accuracies=all_training_accuracies,\n",
    "        all_validation_accuracies=all_validation_accuracies,\n",
    "    )\n",
    "\n",
    "except KeyboardInterrupt:\n",
    "    print(\"Training interrupted manually.\")\n",
    "\n",
    "except Exception as e:\n",
    "    print(f\"Training stopped due to error: {e}\")"
   ]
  },
  {
   "cell_type": "code",
   "execution_count": 7,
   "id": "93f32900",
   "metadata": {},
   "outputs": [
    {
     "data": {
      "image/png": "[encoded data removed]",
      "text/plain": [
       "<Figure size 1800x600 with 2 Axes>"
      ]
     },
     "metadata": {},
     "output_type": "display_data"
    }
   ],
   "source": [
    "import matplotlib.pyplot as plt\n",
    "%matplotlib inline\n",
    "\n",
    "# Plot losses\n",
    "plt.figure(figsize=(18, 6))\n",
    "plt.subplot(1, 2, 1)\n",
    "plt.plot(all_training_losses, label='Training Loss')\n",
    "plt.plot(all_validation_losses, label='Validation Loss')\n",
    "plt.xlabel('Epochs')\n",
    "plt.ylabel('Loss')\n",
    "plt.title('Loss vs Epochs')\n",
    "plt.legend()\n",
    "plt.grid(True)  # Add grid\n",
    "plt.xticks(range(0, len(all_training_losses)+1, 2), rotation=45)  # Skip every other tick\n",
    "\n",
    "# Plot accuracies\n",
    "plt.subplot(1, 2, 2)\n",
    "plt.plot(all_training_accuracies, label='Training Accuracy')\n",
    "plt.plot(all_validation_accuracies, label='Validation Accuracy')\n",
    "plt.xlabel('Epochs')\n",
    "plt.ylabel('Accuracy')\n",
    "plt.title('Accuracy vs Epochs')\n",
    "plt.legend()\n",
    "plt.grid(True)  # Add grid\n",
    "plt.xticks(range(0, len(all_training_accuracies)+1, 2), rotation=45)  # Skip every other tick\n",
    "\n",
    "plt.tight_layout()\n",
    "plt.show()"
   ]
  },
  {
   "cell_type": "code",
   "execution_count": 8,
   "id": "2d39924a",
   "metadata": {},
   "outputs": [
    {
     "name": "stderr",
     "output_type": "stream",
     "text": [
      "Eval progress: 100%|██████████| 79/79 [00:22<00:00,  3.48batch/s]"
     ]
    },
    {
     "name": "stdout",
     "output_type": "stream",
     "text": [
      "🔍 Test Results:\n",
      "\t📉 Test Loss: 1.0900\n",
      "\t🎯 Test Accuracy: 77.13%\n"
     ]
    },
    {
     "name": "stderr",
     "output_type": "stream",
     "text": [
      "\n"
     ]
    }
   ],
   "source": [
    "# Evaluate the model on the validation dataset\n",
    "test_loss, test_accuracy, _ = eval(dataloader=test_dataloader, model=model, criterion=criterion)\n",
    "\n",
    "print(\n",
    "    f\"🔍 Test Results:\\n\"\n",
    "    f\"\\t📉 Test Loss: {test_loss:.4f}\\n\"\n",
    "    f\"\\t🎯 Test Accuracy: {100 * test_accuracy:.2f}%\"\n",
    ")"
   ]
  },
  {
   "cell_type": "code",
   "execution_count": null,
   "id": "f2f3a86b",
   "metadata": {},
   "outputs": [],
   "source": []
  }
 ],
 "metadata": {
  "kernelspec": {
   "display_name": "fl-g13",
   "language": "python",
   "name": "python3"
  },
  "language_info": {
   "codemirror_mode": {
    "name": "ipython",
    "version": 3
   },
   "file_extension": ".py",
   "mimetype": "text/x-python",
   "name": "python",
   "nbconvert_exporter": "python",
   "pygments_lexer": "ipython3",
   "version": "3.11.11"
  }
 },
 "nbformat": 4,
 "nbformat_minor": 5
}
