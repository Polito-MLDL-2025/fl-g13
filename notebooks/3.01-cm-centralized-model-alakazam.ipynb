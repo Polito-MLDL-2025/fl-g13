{
 "cells": [
  {
   "cell_type": "code",
   "execution_count": 1,
   "id": "ffbee39c",
   "metadata": {},
   "outputs": [],
   "source": [
    "%load_ext autoreload\n",
    "%autoreload 2"
   ]
  },
  {
   "cell_type": "code",
   "execution_count": 2,
   "id": "b4f52dd8",
   "metadata": {},
   "outputs": [
    {
     "name": "stderr",
     "output_type": "stream",
     "text": [
      "\u001b[32m2025-05-01 19:49:58.084\u001b[0m | \u001b[1mINFO    \u001b[0m | \u001b[36mfl_g13.config\u001b[0m:\u001b[36m<module>\u001b[0m:\u001b[36m11\u001b[0m - \u001b[1mPROJ_ROOT path is: /home/massimiliano/Projects/fl-g13\u001b[0m\n"
     ]
    }
   ],
   "source": [
    "import torch\n",
    "import torch.nn as nn\n",
    "from torch.nn import CrossEntropyLoss\n",
    "import torch.optim as optim\n",
    "from torch.optim import SGD\n",
    "from torch.optim.lr_scheduler import CosineAnnealingLR, CosineAnnealingWarmRestarts\n",
    "from torchvision import datasets\n",
    "from torch.utils.data import DataLoader\n",
    "\n",
    "from torchvision import models\n",
    "from torchvision.transforms import Compose, Resize, CenterCrop, RandomCrop, RandomHorizontalFlip, RandomVerticalFlip, Normalize, ToTensor\n",
    "\n",
    "from fl_g13.config import RAW_DATA_DIR\n",
    "from fl_g13.modeling import train, eval, save, load, backup, load_loss_and_accuracies, save_loss_and_accuracy\n",
    "from fl_g13.dataset import train_test_split\n",
    "\n",
    "from fl_g13.architectures import BaseDino\n",
    "from fl_g13.editing import SparseSGDM\n"
   ]
  },
  {
   "cell_type": "code",
   "execution_count": 3,
   "id": "77f11d5a",
   "metadata": {},
   "outputs": [
    {
     "name": "stdout",
     "output_type": "stream",
     "text": [
      "Train dataset size: 40000\n",
      "Validation dataset size: 10000\n",
      "Test dataset size: 10000\n"
     ]
    }
   ],
   "source": [
    "# Define preprocessing pipeline\n",
    "train_transform = Compose([\n",
    "    Resize(256), # CIFRA100 is originally 32x32\n",
    "    RandomCrop(224), # But Dino works on 224x224\n",
    "    RandomHorizontalFlip(),\n",
    "    ToTensor(),\n",
    "    #Normalize(mean=[0.5071, 0.4866, 0.4409], std=[0.2673, 0.2564, 0.2762]), # CIFRAR100 Train stats\n",
    "    Normalize(mean = [0.485, 0.456, 0.406], std = [0.229, 0.224, 0.225]) # Use ImageNet stats\n",
    "])\n",
    "\n",
    "eval_transform = Compose([\n",
    "    Resize(256), # CIFRA100 is originally 32x32\n",
    "    CenterCrop(224), # But Dino works on 224x224\n",
    "    ToTensor(),\n",
    "    #Normalize(mean=[0.5071, 0.4866, 0.4409], std=[0.2673, 0.2564, 0.2762]), # CIFRAR100 Train stats\n",
    "    Normalize(mean=[0.485, 0.456, 0.406], std=[0.229, 0.224, 0.225]), # Use ImageNet stats\n",
    "])\n",
    "\n",
    "cifar100_train = datasets.CIFAR100(root=RAW_DATA_DIR, train=True, download=True, transform=train_transform)\n",
    "cifar100_test = datasets.CIFAR100(root=RAW_DATA_DIR, train=False, download=True, transform=eval_transform)\n",
    "\n",
    "train_dataset, val_dataset = train_test_split(cifar100_train, 0.8, random_state=None)\n",
    "test_dataset = cifar100_test\n",
    "\n",
    "print(f\"Train dataset size: {len(train_dataset)}\")\n",
    "print(f\"Validation dataset size: {len(val_dataset)}\")\n",
    "print(f\"Test dataset size: {len(test_dataset)}\")"
   ]
  },
  {
   "cell_type": "code",
   "execution_count": 4,
   "id": "349a5230",
   "metadata": {},
   "outputs": [
    {
     "name": "stdout",
     "output_type": "stream",
     "text": [
      "Using device: cuda\n"
     ]
    },
    {
     "name": "stderr",
     "output_type": "stream",
     "text": [
      "Using cache found in /home/massimiliano/.cache/torch/hub/facebookresearch_dino_main\n"
     ]
    },
    {
     "name": "stdout",
     "output_type": "stream",
     "text": [
      "\n",
      "Model: BaseDino(\n",
      "  (backbone): VisionTransformer(\n",
      "    (patch_embed): PatchEmbed(\n",
      "      (proj): Conv2d(3, 384, kernel_size=(16, 16), stride=(16, 16))\n",
      "    )\n",
      "    (pos_drop): Dropout(p=0.0, inplace=False)\n",
      "    (blocks): ModuleList(\n",
      "      (0-11): 12 x Block(\n",
      "        (norm1): LayerNorm((384,), eps=1e-06, elementwise_affine=True)\n",
      "        (attn): Attention(\n",
      "          (qkv): Linear(in_features=384, out_features=1152, bias=True)\n",
      "          (attn_drop): Dropout(p=0.0, inplace=False)\n",
      "          (proj): Linear(in_features=384, out_features=384, bias=True)\n",
      "          (proj_drop): Dropout(p=0.0, inplace=False)\n",
      "        )\n",
      "        (drop_path): Identity()\n",
      "        (norm2): LayerNorm((384,), eps=1e-06, elementwise_affine=True)\n",
      "        (mlp): Mlp(\n",
      "          (fc1): Linear(in_features=384, out_features=1536, bias=True)\n",
      "          (act): GELU(approximate='none')\n",
      "          (fc2): Linear(in_features=1536, out_features=384, bias=True)\n",
      "          (drop): Dropout(p=0.0, inplace=False)\n",
      "        )\n",
      "      )\n",
      "    )\n",
      "    (norm): LayerNorm((384,), eps=1e-06, elementwise_affine=True)\n",
      "    (head): Identity()\n",
      "  )\n",
      "  (head): Sequential(\n",
      "    (0): Linear(in_features=384, out_features=512, bias=True)\n",
      "    (1): GELU(approximate='none')\n",
      "    (2): Dropout(p=0.0, inplace=False)\n",
      "    (3): Linear(in_features=512, out_features=512, bias=True)\n",
      "    (4): GELU(approximate='none')\n",
      "    (5): Dropout(p=0.0, inplace=False)\n",
      "    (6): Linear(in_features=512, out_features=512, bias=True)\n",
      "    (7): GELU(approximate='none')\n",
      "    (8): Dropout(p=0.0, inplace=False)\n",
      "    (9): Linear(in_features=512, out_features=100, bias=True)\n",
      "  )\n",
      ")\n"
     ]
    }
   ],
   "source": [
    "# Move to CUDA\n",
    "device = torch.device(\"cuda\" if torch.cuda.is_available() else \"cpu\")\n",
    "print(f\"Using device: {device}\")\n",
    "\n",
    "# Settings\n",
    "CHECKPOINT_DIR = \"/home/massimiliano/Projects/fl-g13/checkpoints\"\n",
    "name = \"alakazam\"\n",
    "start_epoch=1\n",
    "num_epochs=80\n",
    "save_every=5\n",
    "backup_every=20\n",
    "\n",
    "# Model Hyper-parameters\n",
    "head_layers=3\n",
    "head_hidden_size=512\n",
    "dropout_rate=0.0\n",
    "unfreeze_blocks=1\n",
    "\n",
    "# Training Hyper-parameters\n",
    "batch_size=128\n",
    "lr=1e-3\n",
    "momentum=0.9\n",
    "weight_decay=5e-4\n",
    "T_0=16\n",
    "T_mult=2\n",
    "eta_min=1e-5\n",
    "\n",
    "# Dataloaders\n",
    "train_dataloader = DataLoader(train_dataset, batch_size=batch_size, shuffle=True)\n",
    "val_dataloader = DataLoader(val_dataset, batch_size=batch_size, shuffle=False)\n",
    "test_dataloader = DataLoader(test_dataset, batch_size=batch_size, shuffle=False)\n",
    "\n",
    "# Model\n",
    "model = BaseDino(\n",
    "    head_layers=head_layers, \n",
    "    head_hidden_size=head_hidden_size, \n",
    "    dropout_rate=dropout_rate, \n",
    "    unfreeze_blocks=unfreeze_blocks\n",
    "    )\n",
    "model.to(device)\n",
    "\n",
    "# Optimizer, scheduler, and loss function\n",
    "optimizer = SGD(\n",
    "    model.parameters(), \n",
    "    lr=lr,\n",
    "    momentum=momentum,\n",
    "    weight_decay=weight_decay\n",
    "    )\n",
    "scheduler = CosineAnnealingWarmRestarts(\n",
    "    optimizer, \n",
    "    T_0=T_0, \n",
    "    T_mult=T_mult, \n",
    "    eta_min=eta_min\n",
    "    )\n",
    "criterion = CrossEntropyLoss()\n",
    "\n",
    "all_training_losses=[]       # Pre-allocated list for training losses\n",
    "all_validation_losses=[]       # Pre-allocated list for validation losses\n",
    "all_training_accuracies=[]    # Pre-allocated list for training accuracies\n",
    "all_validation_accuracies=[]    # Pre-allocated list for validation accuracies\n",
    "\n",
    "# # Model loading (uncomment to properly overwrite)\n",
    "# loading_epoch = 20\n",
    "# model, start_epoch = load(\n",
    "#     f\"{CHECKPOINT_DIR}/BaseDino/{name}_BaseDino_epoch_{loading_epoch}.pth\",\n",
    "#     model_class=BaseDino,\n",
    "#     device=device,\n",
    "#     optimizer=optimizer,\n",
    "#     scheduler=scheduler,\n",
    "#     verbose=True\n",
    "# )\n",
    "# model.to(device)\n",
    "# loaded_metrics = load_loss_and_accuracies(path=f\"{CHECKPOINT_DIR}/BaseDino/{name}_BaseDino_epoch_{loading_epoch}.loss_acc.json\")\n",
    "\n",
    "# # Preallocated lists: if the training interrupts, it will still save their values (uncomment to properly load and overwrite)\n",
    "# all_training_losses=loaded_metrics[\"train_loss\"]       # Pre-allocated list for training losses\n",
    "# all_validation_losses=loaded_metrics[\"val_loss\"]       # Pre-allocated list for validation losses\n",
    "# all_training_accuracies=loaded_metrics[\"train_acc\"]    # Pre-allocated list for training accuracies\n",
    "# all_validation_accuracies=loaded_metrics[\"val_acc\"]    # Pre-allocated list for validation accuracies\n",
    "\n",
    "print(f\"\\nModel: {model}\")"
   ]
  },
  {
   "cell_type": "code",
   "execution_count": 5,
   "id": "e2eecebd",
   "metadata": {},
   "outputs": [
    {
     "name": "stdout",
     "output_type": "stream",
     "text": [
      "Predicted class: 98, True class: 49\n",
      "Outputs shape: torch.Size([128, 100])\n"
     ]
    }
   ],
   "source": [
    "# Get one batch of data from the test dataloader\n",
    "data_iter = iter(test_dataloader)\n",
    "images, labels = next(data_iter)\n",
    "\n",
    "# Move the data to the same device as the model\n",
    "images = images.to(device)\n",
    "\n",
    "# Perform prediction\n",
    "model.eval()  # Set the model to evaluation mode\n",
    "with torch.no_grad():\n",
    "    outputs = model(images)\n",
    "    _, predicted = torch.max(outputs, 1)\n",
    "\n",
    "# Print the first prediction and its corresponding label\n",
    "print(f\"Predicted class: {predicted[0].item()}, True class: {labels[0].item()}\")\n",
    "print(f\"Outputs shape: {outputs.shape}\")"
   ]
  },
  {
   "cell_type": "code",
   "execution_count": 6,
   "id": "6feed087",
   "metadata": {},
   "outputs": [
    {
     "name": "stdout",
     "output_type": "stream",
     "text": [
      "Prefix/name for the model was provided: alakazam\n",
      "\n"
     ]
    },
    {
     "name": "stderr",
     "output_type": "stream",
     "text": [
      "Training progress: 100%|██████████| 313/313 [01:26<00:00,  3.63batch/s]\n"
     ]
    },
    {
     "name": "stdout",
     "output_type": "stream",
     "text": [
      "🚀 Epoch 1/80 (1.25%) Completed\n",
      "\t📊 Training Loss: 2.1512\n",
      "\t✅ Training Accuracy: 45.98%\n",
      "\t⏳ Elapsed Time: 86.27s | ETA: 6815.49s\n",
      "\t🕒 Completed At: 19:51\n"
     ]
    },
    {
     "name": "stderr",
     "output_type": "stream",
     "text": [
      "Eval progress: 100%|██████████| 79/79 [00:19<00:00,  4.06batch/s]\n"
     ]
    },
    {
     "name": "stdout",
     "output_type": "stream",
     "text": [
      "🔍 Validation Results:\n",
      "\t📉 Validation Loss: 1.3468\n",
      "\t🎯 Validation Accuracy: 61.84%\n",
      "\n"
     ]
    },
    {
     "name": "stderr",
     "output_type": "stream",
     "text": [
      "Training progress: 100%|██████████| 313/313 [01:27<00:00,  3.57batch/s]\n"
     ]
    },
    {
     "name": "stdout",
     "output_type": "stream",
     "text": [
      "🚀 Epoch 2/80 (2.50%) Completed\n",
      "\t📊 Training Loss: 1.0555\n",
      "\t✅ Training Accuracy: 69.15%\n",
      "\t⏳ Elapsed Time: 87.57s | ETA: 6830.27s\n",
      "\t🕒 Completed At: 19:53\n"
     ]
    },
    {
     "name": "stderr",
     "output_type": "stream",
     "text": [
      "Eval progress: 100%|██████████| 79/79 [00:19<00:00,  4.00batch/s]\n"
     ]
    },
    {
     "name": "stdout",
     "output_type": "stream",
     "text": [
      "🔍 Validation Results:\n",
      "\t📉 Validation Loss: 1.0427\n",
      "\t🎯 Validation Accuracy: 70.15%\n",
      "\n"
     ]
    },
    {
     "name": "stderr",
     "output_type": "stream",
     "text": [
      "Training progress: 100%|██████████| 313/313 [01:26<00:00,  3.61batch/s]\n"
     ]
    },
    {
     "name": "stdout",
     "output_type": "stream",
     "text": [
      "🚀 Epoch 3/80 (3.75%) Completed\n",
      "\t📊 Training Loss: 0.8053\n",
      "\t✅ Training Accuracy: 75.57%\n",
      "\t⏳ Elapsed Time: 86.70s | ETA: 6676.18s\n",
      "\t🕒 Completed At: 19:55\n"
     ]
    },
    {
     "name": "stderr",
     "output_type": "stream",
     "text": [
      "Eval progress: 100%|██████████| 79/79 [00:19<00:00,  4.06batch/s]\n"
     ]
    },
    {
     "name": "stdout",
     "output_type": "stream",
     "text": [
      "🔍 Validation Results:\n",
      "\t📉 Validation Loss: 0.9630\n",
      "\t🎯 Validation Accuracy: 71.88%\n",
      "\n"
     ]
    },
    {
     "name": "stderr",
     "output_type": "stream",
     "text": [
      "Training progress: 100%|██████████| 313/313 [01:27<00:00,  3.59batch/s]\n"
     ]
    },
    {
     "name": "stdout",
     "output_type": "stream",
     "text": [
      "🚀 Epoch 4/80 (5.00%) Completed\n",
      "\t📊 Training Loss: 0.6676\n",
      "\t✅ Training Accuracy: 79.25%\n",
      "\t⏳ Elapsed Time: 87.29s | ETA: 6633.95s\n",
      "\t🕒 Completed At: 19:56\n"
     ]
    },
    {
     "name": "stderr",
     "output_type": "stream",
     "text": [
      "Eval progress: 100%|██████████| 79/79 [00:20<00:00,  3.93batch/s]\n"
     ]
    },
    {
     "name": "stdout",
     "output_type": "stream",
     "text": [
      "🔍 Validation Results:\n",
      "\t📉 Validation Loss: 0.9363\n",
      "\t🎯 Validation Accuracy: 72.98%\n",
      "\n"
     ]
    },
    {
     "name": "stderr",
     "output_type": "stream",
     "text": [
      "Training progress: 100%|██████████| 313/313 [01:26<00:00,  3.64batch/s]\n"
     ]
    },
    {
     "name": "stdout",
     "output_type": "stream",
     "text": [
      "🚀 Epoch 5/80 (6.25%) Completed\n",
      "\t📊 Training Loss: 0.5437\n",
      "\t✅ Training Accuracy: 82.94%\n",
      "\t⏳ Elapsed Time: 86.05s | ETA: 6453.76s\n",
      "\t🕒 Completed At: 19:58\n"
     ]
    },
    {
     "name": "stderr",
     "output_type": "stream",
     "text": [
      "Eval progress: 100%|██████████| 79/79 [00:19<00:00,  4.09batch/s]\n"
     ]
    },
    {
     "name": "stdout",
     "output_type": "stream",
     "text": [
      "🔍 Validation Results:\n",
      "\t📉 Validation Loss: 0.9180\n",
      "\t🎯 Validation Accuracy: 74.46%\n",
      "\n",
      "💾 Saved checkpoint at: /home/massimiliano/Projects/fl-g13/checkpoints/BaseDino/alakazam_BaseDino_epoch_5.pth\n",
      "💾 Saved losses and accuracies (training and validation) at: /home/massimiliano/Projects/fl-g13/checkpoints/BaseDino/alakazam_BaseDino_epoch_5.loss_acc.json\n",
      "\n"
     ]
    },
    {
     "name": "stderr",
     "output_type": "stream",
     "text": [
      "Training progress: 100%|██████████| 313/313 [01:24<00:00,  3.72batch/s]\n"
     ]
    },
    {
     "name": "stdout",
     "output_type": "stream",
     "text": [
      "🚀 Epoch 6/80 (7.50%) Completed\n",
      "\t📊 Training Loss: 0.4456\n",
      "\t✅ Training Accuracy: 85.94%\n",
      "\t⏳ Elapsed Time: 84.11s | ETA: 6224.02s\n",
      "\t🕒 Completed At: 20:00\n"
     ]
    },
    {
     "name": "stderr",
     "output_type": "stream",
     "text": [
      "Eval progress: 100%|██████████| 79/79 [00:19<00:00,  4.09batch/s]\n"
     ]
    },
    {
     "name": "stdout",
     "output_type": "stream",
     "text": [
      "🔍 Validation Results:\n",
      "\t📉 Validation Loss: 0.8751\n",
      "\t🎯 Validation Accuracy: 75.14%\n",
      "\n"
     ]
    },
    {
     "name": "stderr",
     "output_type": "stream",
     "text": [
      "Training progress: 100%|██████████| 313/313 [01:26<00:00,  3.64batch/s]\n"
     ]
    },
    {
     "name": "stdout",
     "output_type": "stream",
     "text": [
      "🚀 Epoch 7/80 (8.75%) Completed\n",
      "\t📊 Training Loss: 0.3571\n",
      "\t✅ Training Accuracy: 88.84%\n",
      "\t⏳ Elapsed Time: 86.06s | ETA: 6282.09s\n",
      "\t🕒 Completed At: 20:02\n"
     ]
    },
    {
     "name": "stderr",
     "output_type": "stream",
     "text": [
      "Eval progress: 100%|██████████| 79/79 [00:19<00:00,  4.08batch/s]\n"
     ]
    },
    {
     "name": "stdout",
     "output_type": "stream",
     "text": [
      "🔍 Validation Results:\n",
      "\t📉 Validation Loss: 0.8851\n",
      "\t🎯 Validation Accuracy: 75.46%\n",
      "\n"
     ]
    },
    {
     "name": "stderr",
     "output_type": "stream",
     "text": [
      "Training progress: 100%|██████████| 313/313 [01:26<00:00,  3.63batch/s]\n"
     ]
    },
    {
     "name": "stdout",
     "output_type": "stream",
     "text": [
      "🚀 Epoch 8/80 (10.00%) Completed\n",
      "\t📊 Training Loss: 0.2864\n",
      "\t✅ Training Accuracy: 91.16%\n",
      "\t⏳ Elapsed Time: 86.24s | ETA: 6209.01s\n",
      "\t🕒 Completed At: 20:03\n"
     ]
    },
    {
     "name": "stderr",
     "output_type": "stream",
     "text": [
      "Eval progress: 100%|██████████| 79/79 [00:19<00:00,  3.98batch/s]\n"
     ]
    },
    {
     "name": "stdout",
     "output_type": "stream",
     "text": [
      "🔍 Validation Results:\n",
      "\t📉 Validation Loss: 0.8775\n",
      "\t🎯 Validation Accuracy: 76.04%\n",
      "\n"
     ]
    },
    {
     "name": "stderr",
     "output_type": "stream",
     "text": [
      "Training progress: 100%|██████████| 313/313 [01:26<00:00,  3.63batch/s]\n"
     ]
    },
    {
     "name": "stdout",
     "output_type": "stream",
     "text": [
      "🚀 Epoch 9/80 (11.25%) Completed\n",
      "\t📊 Training Loss: 0.2277\n",
      "\t✅ Training Accuracy: 93.14%\n",
      "\t⏳ Elapsed Time: 86.19s | ETA: 6119.84s\n",
      "\t🕒 Completed At: 20:05\n"
     ]
    },
    {
     "name": "stderr",
     "output_type": "stream",
     "text": [
      "Eval progress: 100%|██████████| 79/79 [00:19<00:00,  4.06batch/s]\n"
     ]
    },
    {
     "name": "stdout",
     "output_type": "stream",
     "text": [
      "🔍 Validation Results:\n",
      "\t📉 Validation Loss: 0.8681\n",
      "\t🎯 Validation Accuracy: 76.90%\n",
      "\n"
     ]
    },
    {
     "name": "stderr",
     "output_type": "stream",
     "text": [
      "Training progress: 100%|██████████| 313/313 [01:26<00:00,  3.61batch/s]\n"
     ]
    },
    {
     "name": "stdout",
     "output_type": "stream",
     "text": [
      "🚀 Epoch 10/80 (12.50%) Completed\n",
      "\t📊 Training Loss: 0.1871\n",
      "\t✅ Training Accuracy: 94.70%\n",
      "\t⏳ Elapsed Time: 86.72s | ETA: 6070.58s\n",
      "\t🕒 Completed At: 20:07\n"
     ]
    },
    {
     "name": "stderr",
     "output_type": "stream",
     "text": [
      "Eval progress: 100%|██████████| 79/79 [00:21<00:00,  3.63batch/s]\n"
     ]
    },
    {
     "name": "stdout",
     "output_type": "stream",
     "text": [
      "🔍 Validation Results:\n",
      "\t📉 Validation Loss: 0.8538\n",
      "\t🎯 Validation Accuracy: 77.51%\n",
      "\n",
      "💾 Saved checkpoint at: /home/massimiliano/Projects/fl-g13/checkpoints/BaseDino/alakazam_BaseDino_epoch_10.pth\n",
      "💾 Saved losses and accuracies (training and validation) at: /home/massimiliano/Projects/fl-g13/checkpoints/BaseDino/alakazam_BaseDino_epoch_10.loss_acc.json\n",
      "\n"
     ]
    },
    {
     "name": "stderr",
     "output_type": "stream",
     "text": [
      "Training progress: 100%|██████████| 313/313 [01:27<00:00,  3.59batch/s]\n"
     ]
    },
    {
     "name": "stdout",
     "output_type": "stream",
     "text": [
      "🚀 Epoch 11/80 (13.75%) Completed\n",
      "\t📊 Training Loss: 0.1520\n",
      "\t✅ Training Accuracy: 95.90%\n",
      "\t⏳ Elapsed Time: 87.13s | ETA: 6011.63s\n",
      "\t🕒 Completed At: 20:09\n"
     ]
    },
    {
     "name": "stderr",
     "output_type": "stream",
     "text": [
      "Eval progress: 100%|██████████| 79/79 [00:19<00:00,  4.06batch/s]\n"
     ]
    },
    {
     "name": "stdout",
     "output_type": "stream",
     "text": [
      "🔍 Validation Results:\n",
      "\t📉 Validation Loss: 0.8611\n",
      "\t🎯 Validation Accuracy: 77.28%\n",
      "\n"
     ]
    },
    {
     "name": "stderr",
     "output_type": "stream",
     "text": [
      "Training progress: 100%|██████████| 313/313 [01:26<00:00,  3.60batch/s]\n"
     ]
    },
    {
     "name": "stdout",
     "output_type": "stream",
     "text": [
      "🚀 Epoch 12/80 (15.00%) Completed\n",
      "\t📊 Training Loss: 0.1319\n",
      "\t✅ Training Accuracy: 96.68%\n",
      "\t⏳ Elapsed Time: 86.94s | ETA: 5912.00s\n",
      "\t🕒 Completed At: 20:10\n"
     ]
    },
    {
     "name": "stderr",
     "output_type": "stream",
     "text": [
      "Eval progress: 100%|██████████| 79/79 [00:19<00:00,  4.08batch/s]\n"
     ]
    },
    {
     "name": "stdout",
     "output_type": "stream",
     "text": [
      "🔍 Validation Results:\n",
      "\t📉 Validation Loss: 0.8475\n",
      "\t🎯 Validation Accuracy: 77.88%\n",
      "\n"
     ]
    },
    {
     "name": "stderr",
     "output_type": "stream",
     "text": [
      "Training progress: 100%|██████████| 313/313 [01:28<00:00,  3.56batch/s]\n"
     ]
    },
    {
     "name": "stdout",
     "output_type": "stream",
     "text": [
      "🚀 Epoch 13/80 (16.25%) Completed\n",
      "\t📊 Training Loss: 0.1143\n",
      "\t✅ Training Accuracy: 97.33%\n",
      "\t⏳ Elapsed Time: 88.00s | ETA: 5896.30s\n",
      "\t🕒 Completed At: 20:12\n"
     ]
    },
    {
     "name": "stderr",
     "output_type": "stream",
     "text": [
      "Eval progress: 100%|██████████| 79/79 [00:19<00:00,  4.05batch/s]\n"
     ]
    },
    {
     "name": "stdout",
     "output_type": "stream",
     "text": [
      "🔍 Validation Results:\n",
      "\t📉 Validation Loss: 0.8544\n",
      "\t🎯 Validation Accuracy: 77.90%\n",
      "\n"
     ]
    },
    {
     "name": "stderr",
     "output_type": "stream",
     "text": [
      "Training progress: 100%|██████████| 313/313 [01:26<00:00,  3.60batch/s]\n"
     ]
    },
    {
     "name": "stdout",
     "output_type": "stream",
     "text": [
      "🚀 Epoch 14/80 (17.50%) Completed\n",
      "\t📊 Training Loss: 0.1044\n",
      "\t✅ Training Accuracy: 97.65%\n",
      "\t⏳ Elapsed Time: 86.86s | ETA: 5732.84s\n",
      "\t🕒 Completed At: 20:14\n"
     ]
    },
    {
     "name": "stderr",
     "output_type": "stream",
     "text": [
      "Eval progress: 100%|██████████| 79/79 [00:19<00:00,  4.09batch/s]\n"
     ]
    },
    {
     "name": "stdout",
     "output_type": "stream",
     "text": [
      "🔍 Validation Results:\n",
      "\t📉 Validation Loss: 0.8556\n",
      "\t🎯 Validation Accuracy: 77.70%\n",
      "\n"
     ]
    },
    {
     "name": "stderr",
     "output_type": "stream",
     "text": [
      "Training progress: 100%|██████████| 313/313 [01:25<00:00,  3.65batch/s]\n"
     ]
    },
    {
     "name": "stdout",
     "output_type": "stream",
     "text": [
      "🚀 Epoch 15/80 (18.75%) Completed\n",
      "\t📊 Training Loss: 0.0965\n",
      "\t✅ Training Accuracy: 97.93%\n",
      "\t⏳ Elapsed Time: 85.64s | ETA: 5566.54s\n",
      "\t🕒 Completed At: 20:16\n"
     ]
    },
    {
     "name": "stderr",
     "output_type": "stream",
     "text": [
      "Eval progress: 100%|██████████| 79/79 [00:19<00:00,  3.98batch/s]\n"
     ]
    },
    {
     "name": "stdout",
     "output_type": "stream",
     "text": [
      "🔍 Validation Results:\n",
      "\t📉 Validation Loss: 0.8538\n",
      "\t🎯 Validation Accuracy: 77.95%\n",
      "\n",
      "💾 Saved checkpoint at: /home/massimiliano/Projects/fl-g13/checkpoints/BaseDino/alakazam_BaseDino_epoch_15.pth\n",
      "💾 Saved losses and accuracies (training and validation) at: /home/massimiliano/Projects/fl-g13/checkpoints/BaseDino/alakazam_BaseDino_epoch_15.loss_acc.json\n",
      "\n"
     ]
    },
    {
     "name": "stderr",
     "output_type": "stream",
     "text": [
      "Training progress: 100%|██████████| 313/313 [01:26<00:00,  3.63batch/s]\n"
     ]
    },
    {
     "name": "stdout",
     "output_type": "stream",
     "text": [
      "🚀 Epoch 16/80 (20.00%) Completed\n",
      "\t📊 Training Loss: 0.0924\n",
      "\t✅ Training Accuracy: 98.17%\n",
      "\t⏳ Elapsed Time: 86.16s | ETA: 5514.25s\n",
      "\t🕒 Completed At: 20:17\n"
     ]
    },
    {
     "name": "stderr",
     "output_type": "stream",
     "text": [
      "Eval progress: 100%|██████████| 79/79 [00:19<00:00,  4.05batch/s]\n"
     ]
    },
    {
     "name": "stdout",
     "output_type": "stream",
     "text": [
      "🔍 Validation Results:\n",
      "\t📉 Validation Loss: 0.8520\n",
      "\t🎯 Validation Accuracy: 78.07%\n",
      "\n"
     ]
    },
    {
     "name": "stderr",
     "output_type": "stream",
     "text": [
      "Training progress: 100%|██████████| 313/313 [01:26<00:00,  3.64batch/s]\n"
     ]
    },
    {
     "name": "stdout",
     "output_type": "stream",
     "text": [
      "🚀 Epoch 17/80 (21.25%) Completed\n",
      "\t📊 Training Loss: 0.2471\n",
      "\t✅ Training Accuracy: 92.10%\n",
      "\t⏳ Elapsed Time: 86.04s | ETA: 5420.46s\n",
      "\t🕒 Completed At: 20:19\n"
     ]
    },
    {
     "name": "stderr",
     "output_type": "stream",
     "text": [
      "Eval progress: 100%|██████████| 79/79 [00:19<00:00,  4.08batch/s]\n"
     ]
    },
    {
     "name": "stdout",
     "output_type": "stream",
     "text": [
      "🔍 Validation Results:\n",
      "\t📉 Validation Loss: 0.9884\n",
      "\t🎯 Validation Accuracy: 74.62%\n",
      "\n"
     ]
    },
    {
     "name": "stderr",
     "output_type": "stream",
     "text": [
      "Training progress: 100%|██████████| 313/313 [01:26<00:00,  3.62batch/s]\n"
     ]
    },
    {
     "name": "stdout",
     "output_type": "stream",
     "text": [
      "🚀 Epoch 18/80 (22.50%) Completed\n",
      "\t📊 Training Loss: 0.2446\n",
      "\t✅ Training Accuracy: 92.07%\n",
      "\t⏳ Elapsed Time: 86.51s | ETA: 5363.88s\n",
      "\t🕒 Completed At: 20:21\n"
     ]
    },
    {
     "name": "stderr",
     "output_type": "stream",
     "text": [
      "Eval progress: 100%|██████████| 79/79 [00:19<00:00,  4.09batch/s]\n"
     ]
    },
    {
     "name": "stdout",
     "output_type": "stream",
     "text": [
      "🔍 Validation Results:\n",
      "\t📉 Validation Loss: 0.9657\n",
      "\t🎯 Validation Accuracy: 75.28%\n",
      "\n"
     ]
    },
    {
     "name": "stderr",
     "output_type": "stream",
     "text": [
      "Training progress: 100%|██████████| 313/313 [01:27<00:00,  3.57batch/s]\n"
     ]
    },
    {
     "name": "stdout",
     "output_type": "stream",
     "text": [
      "🚀 Epoch 19/80 (23.75%) Completed\n",
      "\t📊 Training Loss: 0.1963\n",
      "\t✅ Training Accuracy: 93.72%\n",
      "\t⏳ Elapsed Time: 87.60s | ETA: 5343.81s\n",
      "\t🕒 Completed At: 20:23\n"
     ]
    },
    {
     "name": "stderr",
     "output_type": "stream",
     "text": [
      "Eval progress: 100%|██████████| 79/79 [00:19<00:00,  4.06batch/s]\n"
     ]
    },
    {
     "name": "stdout",
     "output_type": "stream",
     "text": [
      "🔍 Validation Results:\n",
      "\t📉 Validation Loss: 0.9646\n",
      "\t🎯 Validation Accuracy: 75.68%\n",
      "\n"
     ]
    },
    {
     "name": "stderr",
     "output_type": "stream",
     "text": [
      "Training progress: 100%|██████████| 313/313 [01:27<00:00,  3.56batch/s]\n"
     ]
    },
    {
     "name": "stdout",
     "output_type": "stream",
     "text": [
      "🚀 Epoch 20/80 (25.00%) Completed\n",
      "\t📊 Training Loss: 0.1613\n",
      "\t✅ Training Accuracy: 94.85%\n",
      "\t⏳ Elapsed Time: 87.99s | ETA: 5279.65s\n",
      "\t🕒 Completed At: 20:25\n"
     ]
    },
    {
     "name": "stderr",
     "output_type": "stream",
     "text": [
      "Eval progress: 100%|██████████| 79/79 [00:19<00:00,  3.99batch/s]\n"
     ]
    },
    {
     "name": "stdout",
     "output_type": "stream",
     "text": [
      "🔍 Validation Results:\n",
      "\t📉 Validation Loss: 0.9897\n",
      "\t🎯 Validation Accuracy: 75.83%\n",
      "\n",
      "💾 Saved checkpoint at: /home/massimiliano/Projects/fl-g13/checkpoints/BaseDino/alakazam_BaseDino_epoch_20.pth\n",
      "💾 Saved losses and accuracies (training and validation) at: /home/massimiliano/Projects/fl-g13/checkpoints/BaseDino/alakazam_BaseDino_epoch_20.loss_acc.json\n",
      "\n",
      "Running backup for epoch 20\n",
      "💾 Saved checkpoint at: /home/massimiliano/Projects/fl-g13/checkpoints/backup/BaseDino/backup_20250501_202525_alakazam_BaseDino_epoch_20.pth\n",
      "💾 Saved losses and accuracies (training and validation) at: /home/massimiliano/Projects/fl-g13/checkpoints/backup/BaseDino/backup_20250501_202525_alakazam_BaseDino_epoch_20.loss_acc.json\n",
      "\n"
     ]
    },
    {
     "name": "stderr",
     "output_type": "stream",
     "text": [
      "Training progress: 100%|██████████| 313/313 [01:25<00:00,  3.64batch/s]\n"
     ]
    },
    {
     "name": "stdout",
     "output_type": "stream",
     "text": [
      "🚀 Epoch 21/80 (26.25%) Completed\n",
      "\t📊 Training Loss: 0.1357\n",
      "\t✅ Training Accuracy: 95.75%\n",
      "\t⏳ Elapsed Time: 85.92s | ETA: 5069.17s\n",
      "\t🕒 Completed At: 20:26\n"
     ]
    },
    {
     "name": "stderr",
     "output_type": "stream",
     "text": [
      "Eval progress: 100%|██████████| 79/79 [00:19<00:00,  4.09batch/s]\n"
     ]
    },
    {
     "name": "stdout",
     "output_type": "stream",
     "text": [
      "🔍 Validation Results:\n",
      "\t📉 Validation Loss: 0.9814\n",
      "\t🎯 Validation Accuracy: 76.49%\n",
      "\n"
     ]
    },
    {
     "name": "stderr",
     "output_type": "stream",
     "text": [
      "Training progress: 100%|██████████| 313/313 [01:25<00:00,  3.65batch/s]\n"
     ]
    },
    {
     "name": "stdout",
     "output_type": "stream",
     "text": [
      "🚀 Epoch 22/80 (27.50%) Completed\n",
      "\t📊 Training Loss: 0.1118\n",
      "\t✅ Training Accuracy: 96.60%\n",
      "\t⏳ Elapsed Time: 85.69s | ETA: 4969.96s\n",
      "\t🕒 Completed At: 20:28\n"
     ]
    },
    {
     "name": "stderr",
     "output_type": "stream",
     "text": [
      "Eval progress: 100%|██████████| 79/79 [00:19<00:00,  4.08batch/s]\n"
     ]
    },
    {
     "name": "stdout",
     "output_type": "stream",
     "text": [
      "🔍 Validation Results:\n",
      "\t📉 Validation Loss: 0.9964\n",
      "\t🎯 Validation Accuracy: 76.79%\n",
      "\n"
     ]
    },
    {
     "name": "stderr",
     "output_type": "stream",
     "text": [
      "Training progress: 100%|██████████| 313/313 [01:27<00:00,  3.58batch/s]\n"
     ]
    },
    {
     "name": "stdout",
     "output_type": "stream",
     "text": [
      "🚀 Epoch 23/80 (28.75%) Completed\n",
      "\t📊 Training Loss: 0.0915\n",
      "\t✅ Training Accuracy: 97.39%\n",
      "\t⏳ Elapsed Time: 87.38s | ETA: 4980.40s\n",
      "\t🕒 Completed At: 20:30\n"
     ]
    },
    {
     "name": "stderr",
     "output_type": "stream",
     "text": [
      "Eval progress: 100%|██████████| 79/79 [00:19<00:00,  4.08batch/s]\n"
     ]
    },
    {
     "name": "stdout",
     "output_type": "stream",
     "text": [
      "🔍 Validation Results:\n",
      "\t📉 Validation Loss: 0.9942\n",
      "\t🎯 Validation Accuracy: 76.79%\n",
      "\n"
     ]
    },
    {
     "name": "stderr",
     "output_type": "stream",
     "text": [
      "Training progress: 100%|██████████| 313/313 [01:27<00:00,  3.59batch/s]\n"
     ]
    },
    {
     "name": "stdout",
     "output_type": "stream",
     "text": [
      "🚀 Epoch 24/80 (30.00%) Completed\n",
      "\t📊 Training Loss: 0.0749\n",
      "\t✅ Training Accuracy: 97.95%\n",
      "\t⏳ Elapsed Time: 87.20s | ETA: 4882.93s\n",
      "\t🕒 Completed At: 20:32\n"
     ]
    },
    {
     "name": "stderr",
     "output_type": "stream",
     "text": [
      "Eval progress: 100%|██████████| 79/79 [00:19<00:00,  4.05batch/s]\n"
     ]
    },
    {
     "name": "stdout",
     "output_type": "stream",
     "text": [
      "🔍 Validation Results:\n",
      "\t📉 Validation Loss: 1.0042\n",
      "\t🎯 Validation Accuracy: 77.01%\n",
      "\n"
     ]
    },
    {
     "name": "stderr",
     "output_type": "stream",
     "text": [
      "Training progress: 100%|██████████| 313/313 [01:26<00:00,  3.64batch/s]\n"
     ]
    },
    {
     "name": "stdout",
     "output_type": "stream",
     "text": [
      "🚀 Epoch 25/80 (31.25%) Completed\n",
      "\t📊 Training Loss: 0.0628\n",
      "\t✅ Training Accuracy: 98.28%\n",
      "\t⏳ Elapsed Time: 86.10s | ETA: 4735.61s\n",
      "\t🕒 Completed At: 20:33\n"
     ]
    },
    {
     "name": "stderr",
     "output_type": "stream",
     "text": [
      "Eval progress: 100%|██████████| 79/79 [00:20<00:00,  3.94batch/s]\n"
     ]
    },
    {
     "name": "stdout",
     "output_type": "stream",
     "text": [
      "🔍 Validation Results:\n",
      "\t📉 Validation Loss: 1.0159\n",
      "\t🎯 Validation Accuracy: 77.16%\n",
      "\n",
      "💾 Saved checkpoint at: /home/massimiliano/Projects/fl-g13/checkpoints/BaseDino/alakazam_BaseDino_epoch_25.pth\n",
      "💾 Saved losses and accuracies (training and validation) at: /home/massimiliano/Projects/fl-g13/checkpoints/BaseDino/alakazam_BaseDino_epoch_25.loss_acc.json\n",
      "\n"
     ]
    },
    {
     "name": "stderr",
     "output_type": "stream",
     "text": [
      "Training progress: 100%|██████████| 313/313 [01:26<00:00,  3.62batch/s]\n"
     ]
    },
    {
     "name": "stdout",
     "output_type": "stream",
     "text": [
      "🚀 Epoch 26/80 (32.50%) Completed\n",
      "\t📊 Training Loss: 0.0571\n",
      "\t✅ Training Accuracy: 98.55%\n",
      "\t⏳ Elapsed Time: 86.56s | ETA: 4674.06s\n",
      "\t🕒 Completed At: 20:35\n"
     ]
    },
    {
     "name": "stderr",
     "output_type": "stream",
     "text": [
      "Eval progress: 100%|██████████| 79/79 [00:19<00:00,  4.07batch/s]\n"
     ]
    },
    {
     "name": "stdout",
     "output_type": "stream",
     "text": [
      "🔍 Validation Results:\n",
      "\t📉 Validation Loss: 1.0013\n",
      "\t🎯 Validation Accuracy: 77.52%\n",
      "\n"
     ]
    },
    {
     "name": "stderr",
     "output_type": "stream",
     "text": [
      "Training progress: 100%|██████████| 313/313 [01:25<00:00,  3.64batch/s]\n"
     ]
    },
    {
     "name": "stdout",
     "output_type": "stream",
     "text": [
      "🚀 Epoch 27/80 (33.75%) Completed\n",
      "\t📊 Training Loss: 0.0477\n",
      "\t✅ Training Accuracy: 98.86%\n",
      "\t⏳ Elapsed Time: 85.95s | ETA: 4555.32s\n",
      "\t🕒 Completed At: 20:37\n"
     ]
    },
    {
     "name": "stderr",
     "output_type": "stream",
     "text": [
      "Eval progress: 100%|██████████| 79/79 [00:19<00:00,  4.10batch/s]\n"
     ]
    },
    {
     "name": "stdout",
     "output_type": "stream",
     "text": [
      "🔍 Validation Results:\n",
      "\t📉 Validation Loss: 1.0081\n",
      "\t🎯 Validation Accuracy: 77.43%\n",
      "\n"
     ]
    },
    {
     "name": "stderr",
     "output_type": "stream",
     "text": [
      "Training progress: 100%|██████████| 313/313 [01:25<00:00,  3.66batch/s]\n"
     ]
    },
    {
     "name": "stdout",
     "output_type": "stream",
     "text": [
      "🚀 Epoch 28/80 (35.00%) Completed\n",
      "\t📊 Training Loss: 0.0372\n",
      "\t✅ Training Accuracy: 99.18%\n",
      "\t⏳ Elapsed Time: 85.58s | ETA: 4450.23s\n",
      "\t🕒 Completed At: 20:39\n"
     ]
    },
    {
     "name": "stderr",
     "output_type": "stream",
     "text": [
      "Eval progress: 100%|██████████| 79/79 [00:19<00:00,  4.06batch/s]\n"
     ]
    },
    {
     "name": "stdout",
     "output_type": "stream",
     "text": [
      "🔍 Validation Results:\n",
      "\t📉 Validation Loss: 1.0030\n",
      "\t🎯 Validation Accuracy: 77.83%\n",
      "\n"
     ]
    },
    {
     "name": "stderr",
     "output_type": "stream",
     "text": [
      "Training progress: 100%|██████████| 313/313 [01:26<00:00,  3.63batch/s]\n"
     ]
    },
    {
     "name": "stdout",
     "output_type": "stream",
     "text": [
      "🚀 Epoch 29/80 (36.25%) Completed\n",
      "\t📊 Training Loss: 0.0318\n",
      "\t✅ Training Accuracy: 99.34%\n",
      "\t⏳ Elapsed Time: 86.31s | ETA: 4401.86s\n",
      "\t🕒 Completed At: 20:40\n"
     ]
    },
    {
     "name": "stderr",
     "output_type": "stream",
     "text": [
      "Eval progress: 100%|██████████| 79/79 [00:19<00:00,  4.09batch/s]\n"
     ]
    },
    {
     "name": "stdout",
     "output_type": "stream",
     "text": [
      "🔍 Validation Results:\n",
      "\t📉 Validation Loss: 0.9813\n",
      "\t🎯 Validation Accuracy: 78.05%\n",
      "\n"
     ]
    },
    {
     "name": "stderr",
     "output_type": "stream",
     "text": [
      "Training progress: 100%|██████████| 313/313 [01:26<00:00,  3.62batch/s]\n"
     ]
    },
    {
     "name": "stdout",
     "output_type": "stream",
     "text": [
      "🚀 Epoch 30/80 (37.50%) Completed\n",
      "\t📊 Training Loss: 0.0271\n",
      "\t✅ Training Accuracy: 99.52%\n",
      "\t⏳ Elapsed Time: 86.44s | ETA: 4322.06s\n",
      "\t🕒 Completed At: 20:42\n"
     ]
    },
    {
     "name": "stderr",
     "output_type": "stream",
     "text": [
      "Eval progress: 100%|██████████| 79/79 [00:19<00:00,  4.07batch/s]\n"
     ]
    },
    {
     "name": "stdout",
     "output_type": "stream",
     "text": [
      "🔍 Validation Results:\n",
      "\t📉 Validation Loss: 0.9979\n",
      "\t🎯 Validation Accuracy: 77.88%\n",
      "\n",
      "💾 Saved checkpoint at: /home/massimiliano/Projects/fl-g13/checkpoints/BaseDino/alakazam_BaseDino_epoch_30.pth\n",
      "💾 Saved losses and accuracies (training and validation) at: /home/massimiliano/Projects/fl-g13/checkpoints/BaseDino/alakazam_BaseDino_epoch_30.loss_acc.json\n",
      "\n"
     ]
    },
    {
     "name": "stderr",
     "output_type": "stream",
     "text": [
      "Training progress: 100%|██████████| 313/313 [01:28<00:00,  3.54batch/s]\n"
     ]
    },
    {
     "name": "stdout",
     "output_type": "stream",
     "text": [
      "🚀 Epoch 31/80 (38.75%) Completed\n",
      "\t📊 Training Loss: 0.0234\n",
      "\t✅ Training Accuracy: 99.58%\n",
      "\t⏳ Elapsed Time: 88.35s | ETA: 4328.98s\n",
      "\t🕒 Completed At: 20:44\n"
     ]
    },
    {
     "name": "stderr",
     "output_type": "stream",
     "text": [
      "Eval progress: 100%|██████████| 79/79 [00:19<00:00,  4.01batch/s]\n"
     ]
    },
    {
     "name": "stdout",
     "output_type": "stream",
     "text": [
      "🔍 Validation Results:\n",
      "\t📉 Validation Loss: 1.0145\n",
      "\t🎯 Validation Accuracy: 77.72%\n",
      "\n"
     ]
    },
    {
     "name": "stderr",
     "output_type": "stream",
     "text": [
      "Training progress: 100%|██████████| 313/313 [01:26<00:00,  3.63batch/s]\n"
     ]
    },
    {
     "name": "stdout",
     "output_type": "stream",
     "text": [
      "🚀 Epoch 32/80 (40.00%) Completed\n",
      "\t📊 Training Loss: 0.0216\n",
      "\t✅ Training Accuracy: 99.62%\n",
      "\t⏳ Elapsed Time: 86.13s | ETA: 4134.37s\n",
      "\t🕒 Completed At: 20:46\n"
     ]
    },
    {
     "name": "stderr",
     "output_type": "stream",
     "text": [
      "Eval progress: 100%|██████████| 79/79 [00:19<00:00,  4.00batch/s]\n"
     ]
    },
    {
     "name": "stdout",
     "output_type": "stream",
     "text": [
      "🔍 Validation Results:\n",
      "\t📉 Validation Loss: 1.0061\n",
      "\t🎯 Validation Accuracy: 78.33%\n",
      "\n"
     ]
    },
    {
     "name": "stderr",
     "output_type": "stream",
     "text": [
      "Training progress: 100%|██████████| 313/313 [01:25<00:00,  3.67batch/s]\n"
     ]
    },
    {
     "name": "stdout",
     "output_type": "stream",
     "text": [
      "🚀 Epoch 33/80 (41.25%) Completed\n",
      "\t📊 Training Loss: 0.0186\n",
      "\t✅ Training Accuracy: 99.72%\n",
      "\t⏳ Elapsed Time: 85.29s | ETA: 4008.55s\n",
      "\t🕒 Completed At: 20:48\n"
     ]
    },
    {
     "name": "stderr",
     "output_type": "stream",
     "text": [
      "Eval progress: 100%|██████████| 79/79 [00:19<00:00,  4.06batch/s]\n"
     ]
    },
    {
     "name": "stdout",
     "output_type": "stream",
     "text": [
      "🔍 Validation Results:\n",
      "\t📉 Validation Loss: 0.9912\n",
      "\t🎯 Validation Accuracy: 78.61%\n",
      "\n"
     ]
    },
    {
     "name": "stderr",
     "output_type": "stream",
     "text": [
      "Training progress: 100%|██████████| 313/313 [01:26<00:00,  3.60batch/s]\n"
     ]
    },
    {
     "name": "stdout",
     "output_type": "stream",
     "text": [
      "🚀 Epoch 34/80 (42.50%) Completed\n",
      "\t📊 Training Loss: 0.0173\n",
      "\t✅ Training Accuracy: 99.75%\n",
      "\t⏳ Elapsed Time: 86.86s | ETA: 3995.47s\n",
      "\t🕒 Completed At: 20:49\n"
     ]
    },
    {
     "name": "stderr",
     "output_type": "stream",
     "text": [
      "Eval progress: 100%|██████████| 79/79 [00:19<00:00,  4.00batch/s]\n"
     ]
    },
    {
     "name": "stdout",
     "output_type": "stream",
     "text": [
      "🔍 Validation Results:\n",
      "\t📉 Validation Loss: 1.0158\n",
      "\t🎯 Validation Accuracy: 78.41%\n",
      "\n"
     ]
    },
    {
     "name": "stderr",
     "output_type": "stream",
     "text": [
      "Training progress: 100%|██████████| 313/313 [01:25<00:00,  3.64batch/s]\n"
     ]
    },
    {
     "name": "stdout",
     "output_type": "stream",
     "text": [
      "🚀 Epoch 35/80 (43.75%) Completed\n",
      "\t📊 Training Loss: 0.0157\n",
      "\t✅ Training Accuracy: 99.81%\n",
      "\t⏳ Elapsed Time: 85.98s | ETA: 3868.94s\n",
      "\t🕒 Completed At: 20:51\n"
     ]
    },
    {
     "name": "stderr",
     "output_type": "stream",
     "text": [
      "Eval progress: 100%|██████████| 79/79 [00:19<00:00,  4.09batch/s]\n"
     ]
    },
    {
     "name": "stdout",
     "output_type": "stream",
     "text": [
      "🔍 Validation Results:\n",
      "\t📉 Validation Loss: 1.0041\n",
      "\t🎯 Validation Accuracy: 78.23%\n",
      "\n",
      "💾 Saved checkpoint at: /home/massimiliano/Projects/fl-g13/checkpoints/BaseDino/alakazam_BaseDino_epoch_35.pth\n",
      "💾 Saved losses and accuracies (training and validation) at: /home/massimiliano/Projects/fl-g13/checkpoints/BaseDino/alakazam_BaseDino_epoch_35.loss_acc.json\n",
      "\n"
     ]
    },
    {
     "name": "stderr",
     "output_type": "stream",
     "text": [
      "Training progress: 100%|██████████| 313/313 [01:26<00:00,  3.64batch/s]\n"
     ]
    },
    {
     "name": "stdout",
     "output_type": "stream",
     "text": [
      "🚀 Epoch 36/80 (45.00%) Completed\n",
      "\t📊 Training Loss: 0.0151\n",
      "\t✅ Training Accuracy: 99.76%\n",
      "\t⏳ Elapsed Time: 86.08s | ETA: 3787.32s\n",
      "\t🕒 Completed At: 20:53\n"
     ]
    },
    {
     "name": "stderr",
     "output_type": "stream",
     "text": [
      "Eval progress: 100%|██████████| 79/79 [00:19<00:00,  4.02batch/s]\n"
     ]
    },
    {
     "name": "stdout",
     "output_type": "stream",
     "text": [
      "🔍 Validation Results:\n",
      "\t📉 Validation Loss: 1.0087\n",
      "\t🎯 Validation Accuracy: 78.60%\n",
      "\n"
     ]
    },
    {
     "name": "stderr",
     "output_type": "stream",
     "text": [
      "Training progress: 100%|██████████| 313/313 [01:27<00:00,  3.60batch/s]\n"
     ]
    },
    {
     "name": "stdout",
     "output_type": "stream",
     "text": [
      "🚀 Epoch 37/80 (46.25%) Completed\n",
      "\t📊 Training Loss: 0.0139\n",
      "\t✅ Training Accuracy: 99.82%\n",
      "\t⏳ Elapsed Time: 87.01s | ETA: 3741.42s\n",
      "\t🕒 Completed At: 20:55\n"
     ]
    },
    {
     "name": "stderr",
     "output_type": "stream",
     "text": [
      "Eval progress: 100%|██████████| 79/79 [00:19<00:00,  4.06batch/s]\n"
     ]
    },
    {
     "name": "stdout",
     "output_type": "stream",
     "text": [
      "🔍 Validation Results:\n",
      "\t📉 Validation Loss: 1.0041\n",
      "\t🎯 Validation Accuracy: 78.89%\n",
      "\n"
     ]
    },
    {
     "name": "stderr",
     "output_type": "stream",
     "text": [
      "Training progress: 100%|██████████| 313/313 [01:26<00:00,  3.60batch/s]\n"
     ]
    },
    {
     "name": "stdout",
     "output_type": "stream",
     "text": [
      "🚀 Epoch 38/80 (47.50%) Completed\n",
      "\t📊 Training Loss: 0.0134\n",
      "\t✅ Training Accuracy: 99.78%\n",
      "\t⏳ Elapsed Time: 86.87s | ETA: 3648.59s\n",
      "\t🕒 Completed At: 20:56\n"
     ]
    },
    {
     "name": "stderr",
     "output_type": "stream",
     "text": [
      "Eval progress: 100%|██████████| 79/79 [00:19<00:00,  4.09batch/s]\n"
     ]
    },
    {
     "name": "stdout",
     "output_type": "stream",
     "text": [
      "🔍 Validation Results:\n",
      "\t📉 Validation Loss: 1.0098\n",
      "\t🎯 Validation Accuracy: 78.39%\n",
      "\n"
     ]
    },
    {
     "name": "stderr",
     "output_type": "stream",
     "text": [
      "Training progress: 100%|██████████| 313/313 [01:26<00:00,  3.64batch/s]\n"
     ]
    },
    {
     "name": "stdout",
     "output_type": "stream",
     "text": [
      "🚀 Epoch 39/80 (48.75%) Completed\n",
      "\t📊 Training Loss: 0.0122\n",
      "\t✅ Training Accuracy: 99.86%\n",
      "\t⏳ Elapsed Time: 86.04s | ETA: 3527.81s\n",
      "\t🕒 Completed At: 20:58\n"
     ]
    },
    {
     "name": "stderr",
     "output_type": "stream",
     "text": [
      "Eval progress: 100%|██████████| 79/79 [00:19<00:00,  3.99batch/s]\n"
     ]
    },
    {
     "name": "stdout",
     "output_type": "stream",
     "text": [
      "🔍 Validation Results:\n",
      "\t📉 Validation Loss: 0.9926\n",
      "\t🎯 Validation Accuracy: 79.03%\n",
      "\n"
     ]
    },
    {
     "name": "stderr",
     "output_type": "stream",
     "text": [
      "Training progress: 100%|██████████| 313/313 [01:27<00:00,  3.57batch/s]\n"
     ]
    },
    {
     "name": "stdout",
     "output_type": "stream",
     "text": [
      "🚀 Epoch 40/80 (50.00%) Completed\n",
      "\t📊 Training Loss: 0.0114\n",
      "\t✅ Training Accuracy: 99.89%\n",
      "\t⏳ Elapsed Time: 87.60s | ETA: 3503.83s\n",
      "\t🕒 Completed At: 21:00\n"
     ]
    },
    {
     "name": "stderr",
     "output_type": "stream",
     "text": [
      "Eval progress: 100%|██████████| 79/79 [00:19<00:00,  4.14batch/s]\n"
     ]
    },
    {
     "name": "stdout",
     "output_type": "stream",
     "text": [
      "🔍 Validation Results:\n",
      "\t📉 Validation Loss: 1.0097\n",
      "\t🎯 Validation Accuracy: 78.41%\n",
      "\n",
      "💾 Saved checkpoint at: /home/massimiliano/Projects/fl-g13/checkpoints/BaseDino/alakazam_BaseDino_epoch_40.pth\n",
      "💾 Saved losses and accuracies (training and validation) at: /home/massimiliano/Projects/fl-g13/checkpoints/BaseDino/alakazam_BaseDino_epoch_40.loss_acc.json\n",
      "\n",
      "Running backup for epoch 40\n",
      "💾 Saved checkpoint at: /home/massimiliano/Projects/fl-g13/checkpoints/backup/BaseDino/backup_20250501_210044_alakazam_BaseDino_epoch_40.pth\n",
      "💾 Saved losses and accuracies (training and validation) at: /home/massimiliano/Projects/fl-g13/checkpoints/backup/BaseDino/backup_20250501_210044_alakazam_BaseDino_epoch_40.loss_acc.json\n",
      "\n"
     ]
    },
    {
     "name": "stderr",
     "output_type": "stream",
     "text": [
      "Training progress: 100%|██████████| 313/313 [01:26<00:00,  3.63batch/s]\n"
     ]
    },
    {
     "name": "stdout",
     "output_type": "stream",
     "text": [
      "🚀 Epoch 41/80 (51.25%) Completed\n",
      "\t📊 Training Loss: 0.0106\n",
      "\t✅ Training Accuracy: 99.90%\n",
      "\t⏳ Elapsed Time: 86.19s | ETA: 3361.60s\n",
      "\t🕒 Completed At: 21:02\n"
     ]
    },
    {
     "name": "stderr",
     "output_type": "stream",
     "text": [
      "Eval progress: 100%|██████████| 79/79 [00:19<00:00,  4.01batch/s]\n"
     ]
    },
    {
     "name": "stdout",
     "output_type": "stream",
     "text": [
      "🔍 Validation Results:\n",
      "\t📉 Validation Loss: 1.0020\n",
      "\t🎯 Validation Accuracy: 78.43%\n",
      "\n"
     ]
    },
    {
     "name": "stderr",
     "output_type": "stream",
     "text": [
      "Training progress: 100%|██████████| 313/313 [01:25<00:00,  3.64batch/s]\n"
     ]
    },
    {
     "name": "stdout",
     "output_type": "stream",
     "text": [
      "🚀 Epoch 42/80 (52.50%) Completed\n",
      "\t📊 Training Loss: 0.0099\n",
      "\t✅ Training Accuracy: 99.89%\n",
      "\t⏳ Elapsed Time: 85.92s | ETA: 3265.07s\n",
      "\t🕒 Completed At: 21:03\n"
     ]
    },
    {
     "name": "stderr",
     "output_type": "stream",
     "text": [
      "Eval progress: 100%|██████████| 79/79 [00:19<00:00,  4.07batch/s]\n"
     ]
    },
    {
     "name": "stdout",
     "output_type": "stream",
     "text": [
      "🔍 Validation Results:\n",
      "\t📉 Validation Loss: 0.9988\n",
      "\t🎯 Validation Accuracy: 78.57%\n",
      "\n"
     ]
    },
    {
     "name": "stderr",
     "output_type": "stream",
     "text": [
      "Training progress: 100%|██████████| 313/313 [01:25<00:00,  3.65batch/s]\n"
     ]
    },
    {
     "name": "stdout",
     "output_type": "stream",
     "text": [
      "🚀 Epoch 43/80 (53.75%) Completed\n",
      "\t📊 Training Loss: 0.0102\n",
      "\t✅ Training Accuracy: 99.91%\n",
      "\t⏳ Elapsed Time: 85.86s | ETA: 3176.85s\n",
      "\t🕒 Completed At: 21:05\n"
     ]
    },
    {
     "name": "stderr",
     "output_type": "stream",
     "text": [
      "Eval progress: 100%|██████████| 79/79 [00:19<00:00,  3.97batch/s]\n"
     ]
    },
    {
     "name": "stdout",
     "output_type": "stream",
     "text": [
      "🔍 Validation Results:\n",
      "\t📉 Validation Loss: 0.9877\n",
      "\t🎯 Validation Accuracy: 78.61%\n",
      "\n"
     ]
    },
    {
     "name": "stderr",
     "output_type": "stream",
     "text": [
      "Training progress: 100%|██████████| 313/313 [01:25<00:00,  3.67batch/s]\n"
     ]
    },
    {
     "name": "stdout",
     "output_type": "stream",
     "text": [
      "🚀 Epoch 44/80 (55.00%) Completed\n",
      "\t📊 Training Loss: 0.0101\n",
      "\t✅ Training Accuracy: 99.89%\n",
      "\t⏳ Elapsed Time: 85.33s | ETA: 3071.93s\n",
      "\t🕒 Completed At: 21:07\n"
     ]
    },
    {
     "name": "stderr",
     "output_type": "stream",
     "text": [
      "Eval progress: 100%|██████████| 79/79 [00:19<00:00,  4.07batch/s]\n"
     ]
    },
    {
     "name": "stdout",
     "output_type": "stream",
     "text": [
      "🔍 Validation Results:\n",
      "\t📉 Validation Loss: 1.0041\n",
      "\t🎯 Validation Accuracy: 78.86%\n",
      "\n"
     ]
    },
    {
     "name": "stderr",
     "output_type": "stream",
     "text": [
      "Training progress: 100%|██████████| 313/313 [01:26<00:00,  3.62batch/s]\n"
     ]
    },
    {
     "name": "stdout",
     "output_type": "stream",
     "text": [
      "🚀 Epoch 45/80 (56.25%) Completed\n",
      "\t📊 Training Loss: 0.0097\n",
      "\t✅ Training Accuracy: 99.92%\n",
      "\t⏳ Elapsed Time: 86.47s | ETA: 3026.32s\n",
      "\t🕒 Completed At: 21:09\n"
     ]
    },
    {
     "name": "stderr",
     "output_type": "stream",
     "text": [
      "Eval progress: 100%|██████████| 79/79 [00:19<00:00,  4.08batch/s]\n"
     ]
    },
    {
     "name": "stdout",
     "output_type": "stream",
     "text": [
      "🔍 Validation Results:\n",
      "\t📉 Validation Loss: 1.0124\n",
      "\t🎯 Validation Accuracy: 78.95%\n",
      "\n",
      "💾 Saved checkpoint at: /home/massimiliano/Projects/fl-g13/checkpoints/BaseDino/alakazam_BaseDino_epoch_45.pth\n",
      "💾 Saved losses and accuracies (training and validation) at: /home/massimiliano/Projects/fl-g13/checkpoints/BaseDino/alakazam_BaseDino_epoch_45.loss_acc.json\n",
      "\n"
     ]
    },
    {
     "name": "stderr",
     "output_type": "stream",
     "text": [
      "Training progress: 100%|██████████| 313/313 [01:26<00:00,  3.62batch/s]\n"
     ]
    },
    {
     "name": "stdout",
     "output_type": "stream",
     "text": [
      "🚀 Epoch 46/80 (57.50%) Completed\n",
      "\t📊 Training Loss: 0.0097\n",
      "\t✅ Training Accuracy: 99.94%\n",
      "\t⏳ Elapsed Time: 86.45s | ETA: 2939.32s\n",
      "\t🕒 Completed At: 21:10\n"
     ]
    },
    {
     "name": "stderr",
     "output_type": "stream",
     "text": [
      "Eval progress: 100%|██████████| 79/79 [00:19<00:00,  4.09batch/s]\n"
     ]
    },
    {
     "name": "stdout",
     "output_type": "stream",
     "text": [
      "🔍 Validation Results:\n",
      "\t📉 Validation Loss: 1.0063\n",
      "\t🎯 Validation Accuracy: 78.80%\n",
      "\n"
     ]
    },
    {
     "name": "stderr",
     "output_type": "stream",
     "text": [
      "Training progress: 100%|██████████| 313/313 [01:26<00:00,  3.64batch/s]\n"
     ]
    },
    {
     "name": "stdout",
     "output_type": "stream",
     "text": [
      "🚀 Epoch 47/80 (58.75%) Completed\n",
      "\t📊 Training Loss: 0.0094\n",
      "\t✅ Training Accuracy: 99.94%\n",
      "\t⏳ Elapsed Time: 86.03s | ETA: 2839.03s\n",
      "\t🕒 Completed At: 21:12\n"
     ]
    },
    {
     "name": "stderr",
     "output_type": "stream",
     "text": [
      "Eval progress: 100%|██████████| 79/79 [00:19<00:00,  4.12batch/s]\n"
     ]
    },
    {
     "name": "stdout",
     "output_type": "stream",
     "text": [
      "🔍 Validation Results:\n",
      "\t📉 Validation Loss: 1.0147\n",
      "\t🎯 Validation Accuracy: 78.80%\n",
      "\n"
     ]
    },
    {
     "name": "stderr",
     "output_type": "stream",
     "text": [
      "Training progress: 100%|██████████| 313/313 [01:25<00:00,  3.65batch/s]\n"
     ]
    },
    {
     "name": "stdout",
     "output_type": "stream",
     "text": [
      "🚀 Epoch 48/80 (60.00%) Completed\n",
      "\t📊 Training Loss: 0.0093\n",
      "\t✅ Training Accuracy: 99.91%\n",
      "\t⏳ Elapsed Time: 85.69s | ETA: 2742.11s\n",
      "\t🕒 Completed At: 21:14\n"
     ]
    },
    {
     "name": "stderr",
     "output_type": "stream",
     "text": [
      "Eval progress: 100%|██████████| 79/79 [00:19<00:00,  4.12batch/s]\n"
     ]
    },
    {
     "name": "stdout",
     "output_type": "stream",
     "text": [
      "🔍 Validation Results:\n",
      "\t📉 Validation Loss: 0.9947\n",
      "\t🎯 Validation Accuracy: 78.90%\n",
      "\n"
     ]
    },
    {
     "name": "stderr",
     "output_type": "stream",
     "text": [
      "Training progress: 100%|██████████| 313/313 [01:26<00:00,  3.62batch/s]\n"
     ]
    },
    {
     "name": "stdout",
     "output_type": "stream",
     "text": [
      "🚀 Epoch 49/80 (61.25%) Completed\n",
      "\t📊 Training Loss: 0.0228\n",
      "\t✅ Training Accuracy: 99.52%\n",
      "\t⏳ Elapsed Time: 86.51s | ETA: 2681.92s\n",
      "\t🕒 Completed At: 21:16\n"
     ]
    },
    {
     "name": "stderr",
     "output_type": "stream",
     "text": [
      "Eval progress: 100%|██████████| 79/79 [00:19<00:00,  4.05batch/s]\n"
     ]
    },
    {
     "name": "stdout",
     "output_type": "stream",
     "text": [
      "🔍 Validation Results:\n",
      "\t📉 Validation Loss: 1.0542\n",
      "\t🎯 Validation Accuracy: 77.37%\n",
      "\n"
     ]
    },
    {
     "name": "stderr",
     "output_type": "stream",
     "text": [
      "Training progress: 100%|██████████| 313/313 [01:25<00:00,  3.64batch/s]\n"
     ]
    },
    {
     "name": "stdout",
     "output_type": "stream",
     "text": [
      "🚀 Epoch 50/80 (62.50%) Completed\n",
      "\t📊 Training Loss: 0.0303\n",
      "\t✅ Training Accuracy: 99.29%\n",
      "\t⏳ Elapsed Time: 85.99s | ETA: 2579.65s\n",
      "\t🕒 Completed At: 21:18\n"
     ]
    },
    {
     "name": "stderr",
     "output_type": "stream",
     "text": [
      "Eval progress: 100%|██████████| 79/79 [00:18<00:00,  4.18batch/s]\n"
     ]
    },
    {
     "name": "stdout",
     "output_type": "stream",
     "text": [
      "🔍 Validation Results:\n",
      "\t📉 Validation Loss: 1.0655\n",
      "\t🎯 Validation Accuracy: 77.25%\n",
      "\n",
      "💾 Saved checkpoint at: /home/massimiliano/Projects/fl-g13/checkpoints/BaseDino/alakazam_BaseDino_epoch_50.pth\n",
      "💾 Saved losses and accuracies (training and validation) at: /home/massimiliano/Projects/fl-g13/checkpoints/BaseDino/alakazam_BaseDino_epoch_50.loss_acc.json\n",
      "\n"
     ]
    },
    {
     "name": "stderr",
     "output_type": "stream",
     "text": [
      "Training progress: 100%|██████████| 313/313 [01:25<00:00,  3.67batch/s]\n"
     ]
    },
    {
     "name": "stdout",
     "output_type": "stream",
     "text": [
      "🚀 Epoch 51/80 (63.75%) Completed\n",
      "\t📊 Training Loss: 0.0325\n",
      "\t✅ Training Accuracy: 99.23%\n",
      "\t⏳ Elapsed Time: 85.33s | ETA: 2474.43s\n",
      "\t🕒 Completed At: 21:19\n"
     ]
    },
    {
     "name": "stderr",
     "output_type": "stream",
     "text": [
      "Eval progress: 100%|██████████| 79/79 [00:19<00:00,  4.08batch/s]\n"
     ]
    },
    {
     "name": "stdout",
     "output_type": "stream",
     "text": [
      "🔍 Validation Results:\n",
      "\t📉 Validation Loss: 1.0770\n",
      "\t🎯 Validation Accuracy: 77.10%\n",
      "\n"
     ]
    },
    {
     "name": "stderr",
     "output_type": "stream",
     "text": [
      "Training progress: 100%|██████████| 313/313 [01:26<00:00,  3.63batch/s]\n"
     ]
    },
    {
     "name": "stdout",
     "output_type": "stream",
     "text": [
      "🚀 Epoch 52/80 (65.00%) Completed\n",
      "\t📊 Training Loss: 0.0324\n",
      "\t✅ Training Accuracy: 99.28%\n",
      "\t⏳ Elapsed Time: 86.32s | ETA: 2416.97s\n",
      "\t🕒 Completed At: 21:21\n"
     ]
    },
    {
     "name": "stderr",
     "output_type": "stream",
     "text": [
      "Eval progress: 100%|██████████| 79/79 [00:19<00:00,  4.08batch/s]\n"
     ]
    },
    {
     "name": "stdout",
     "output_type": "stream",
     "text": [
      "🔍 Validation Results:\n",
      "\t📉 Validation Loss: 1.0666\n",
      "\t🎯 Validation Accuracy: 77.34%\n",
      "\n"
     ]
    },
    {
     "name": "stderr",
     "output_type": "stream",
     "text": [
      "Training progress: 100%|██████████| 313/313 [01:26<00:00,  3.61batch/s]\n"
     ]
    },
    {
     "name": "stdout",
     "output_type": "stream",
     "text": [
      "🚀 Epoch 53/80 (66.25%) Completed\n",
      "\t📊 Training Loss: 0.0293\n",
      "\t✅ Training Accuracy: 99.36%\n",
      "\t⏳ Elapsed Time: 86.76s | ETA: 2342.56s\n",
      "\t🕒 Completed At: 21:23\n"
     ]
    },
    {
     "name": "stderr",
     "output_type": "stream",
     "text": [
      "Eval progress: 100%|██████████| 79/79 [00:19<00:00,  4.09batch/s]\n"
     ]
    },
    {
     "name": "stdout",
     "output_type": "stream",
     "text": [
      "🔍 Validation Results:\n",
      "\t📉 Validation Loss: 1.0775\n",
      "\t🎯 Validation Accuracy: 77.18%\n",
      "\n"
     ]
    },
    {
     "name": "stderr",
     "output_type": "stream",
     "text": [
      "Training progress: 100%|██████████| 313/313 [01:26<00:00,  3.63batch/s]\n"
     ]
    },
    {
     "name": "stdout",
     "output_type": "stream",
     "text": [
      "🚀 Epoch 54/80 (67.50%) Completed\n",
      "\t📊 Training Loss: 0.0293\n",
      "\t✅ Training Accuracy: 99.32%\n",
      "\t⏳ Elapsed Time: 86.13s | ETA: 2239.35s\n",
      "\t🕒 Completed At: 21:25\n"
     ]
    },
    {
     "name": "stderr",
     "output_type": "stream",
     "text": [
      "Eval progress: 100%|██████████| 79/79 [00:19<00:00,  4.07batch/s]\n"
     ]
    },
    {
     "name": "stdout",
     "output_type": "stream",
     "text": [
      "🔍 Validation Results:\n",
      "\t📉 Validation Loss: 1.1073\n",
      "\t🎯 Validation Accuracy: 76.82%\n",
      "\n"
     ]
    },
    {
     "name": "stderr",
     "output_type": "stream",
     "text": [
      "Training progress: 100%|██████████| 313/313 [01:26<00:00,  3.62batch/s]\n"
     ]
    },
    {
     "name": "stdout",
     "output_type": "stream",
     "text": [
      "🚀 Epoch 55/80 (68.75%) Completed\n",
      "\t📊 Training Loss: 0.0281\n",
      "\t✅ Training Accuracy: 99.36%\n",
      "\t⏳ Elapsed Time: 86.58s | ETA: 2164.41s\n",
      "\t🕒 Completed At: 21:26\n"
     ]
    },
    {
     "name": "stderr",
     "output_type": "stream",
     "text": [
      "Eval progress: 100%|██████████| 79/79 [00:19<00:00,  4.15batch/s]\n"
     ]
    },
    {
     "name": "stdout",
     "output_type": "stream",
     "text": [
      "🔍 Validation Results:\n",
      "\t📉 Validation Loss: 1.0724\n",
      "\t🎯 Validation Accuracy: 77.32%\n",
      "\n",
      "💾 Saved checkpoint at: /home/massimiliano/Projects/fl-g13/checkpoints/BaseDino/alakazam_BaseDino_epoch_55.pth\n",
      "💾 Saved losses and accuracies (training and validation) at: /home/massimiliano/Projects/fl-g13/checkpoints/BaseDino/alakazam_BaseDino_epoch_55.loss_acc.json\n",
      "\n"
     ]
    },
    {
     "name": "stderr",
     "output_type": "stream",
     "text": [
      "Training progress: 100%|██████████| 313/313 [01:27<00:00,  3.60batch/s]\n"
     ]
    },
    {
     "name": "stdout",
     "output_type": "stream",
     "text": [
      "🚀 Epoch 56/80 (70.00%) Completed\n",
      "\t📊 Training Loss: 0.0284\n",
      "\t✅ Training Accuracy: 99.32%\n",
      "\t⏳ Elapsed Time: 87.03s | ETA: 2088.68s\n",
      "\t🕒 Completed At: 21:28\n"
     ]
    },
    {
     "name": "stderr",
     "output_type": "stream",
     "text": [
      "Eval progress: 100%|██████████| 79/79 [00:19<00:00,  4.06batch/s]\n"
     ]
    },
    {
     "name": "stdout",
     "output_type": "stream",
     "text": [
      "🔍 Validation Results:\n",
      "\t📉 Validation Loss: 1.0653\n",
      "\t🎯 Validation Accuracy: 77.79%\n",
      "\n"
     ]
    },
    {
     "name": "stderr",
     "output_type": "stream",
     "text": [
      "Training progress: 100%|██████████| 313/313 [01:26<00:00,  3.62batch/s]\n"
     ]
    },
    {
     "name": "stdout",
     "output_type": "stream",
     "text": [
      "🚀 Epoch 57/80 (71.25%) Completed\n",
      "\t📊 Training Loss: 0.0254\n",
      "\t✅ Training Accuracy: 99.44%\n",
      "\t⏳ Elapsed Time: 86.51s | ETA: 1989.78s\n",
      "\t🕒 Completed At: 21:30\n"
     ]
    },
    {
     "name": "stderr",
     "output_type": "stream",
     "text": [
      "Eval progress: 100%|██████████| 79/79 [00:19<00:00,  4.09batch/s]\n"
     ]
    },
    {
     "name": "stdout",
     "output_type": "stream",
     "text": [
      "🔍 Validation Results:\n",
      "\t📉 Validation Loss: 1.0667\n",
      "\t🎯 Validation Accuracy: 77.69%\n",
      "\n"
     ]
    },
    {
     "name": "stderr",
     "output_type": "stream",
     "text": [
      "Training progress: 100%|██████████| 313/313 [01:26<00:00,  3.62batch/s]\n"
     ]
    },
    {
     "name": "stdout",
     "output_type": "stream",
     "text": [
      "🚀 Epoch 58/80 (72.50%) Completed\n",
      "\t📊 Training Loss: 0.0215\n",
      "\t✅ Training Accuracy: 99.55%\n",
      "\t⏳ Elapsed Time: 86.48s | ETA: 1902.66s\n",
      "\t🕒 Completed At: 21:32\n"
     ]
    },
    {
     "name": "stderr",
     "output_type": "stream",
     "text": [
      "Eval progress: 100%|██████████| 79/79 [00:19<00:00,  4.07batch/s]\n"
     ]
    },
    {
     "name": "stdout",
     "output_type": "stream",
     "text": [
      "🔍 Validation Results:\n",
      "\t📉 Validation Loss: 1.0676\n",
      "\t🎯 Validation Accuracy: 77.53%\n",
      "\n"
     ]
    },
    {
     "name": "stderr",
     "output_type": "stream",
     "text": [
      "Training progress: 100%|██████████| 313/313 [01:26<00:00,  3.62batch/s]\n"
     ]
    },
    {
     "name": "stdout",
     "output_type": "stream",
     "text": [
      "🚀 Epoch 59/80 (73.75%) Completed\n",
      "\t📊 Training Loss: 0.0233\n",
      "\t✅ Training Accuracy: 99.52%\n",
      "\t⏳ Elapsed Time: 86.53s | ETA: 1817.11s\n",
      "\t🕒 Completed At: 21:33\n"
     ]
    },
    {
     "name": "stderr",
     "output_type": "stream",
     "text": [
      "Eval progress: 100%|██████████| 79/79 [00:19<00:00,  3.99batch/s]\n"
     ]
    },
    {
     "name": "stdout",
     "output_type": "stream",
     "text": [
      "🔍 Validation Results:\n",
      "\t📉 Validation Loss: 1.0642\n",
      "\t🎯 Validation Accuracy: 78.04%\n",
      "\n"
     ]
    },
    {
     "name": "stderr",
     "output_type": "stream",
     "text": [
      "Training progress: 100%|██████████| 313/313 [01:27<00:00,  3.60batch/s]\n"
     ]
    },
    {
     "name": "stdout",
     "output_type": "stream",
     "text": [
      "🚀 Epoch 60/80 (75.00%) Completed\n",
      "\t📊 Training Loss: 0.0186\n",
      "\t✅ Training Accuracy: 99.65%\n",
      "\t⏳ Elapsed Time: 87.05s | ETA: 1740.97s\n",
      "\t🕒 Completed At: 21:35\n"
     ]
    },
    {
     "name": "stderr",
     "output_type": "stream",
     "text": [
      "Eval progress: 100%|██████████| 79/79 [00:19<00:00,  4.01batch/s]\n"
     ]
    },
    {
     "name": "stdout",
     "output_type": "stream",
     "text": [
      "🔍 Validation Results:\n",
      "\t📉 Validation Loss: 1.0779\n",
      "\t🎯 Validation Accuracy: 77.76%\n",
      "\n",
      "💾 Saved checkpoint at: /home/massimiliano/Projects/fl-g13/checkpoints/BaseDino/alakazam_BaseDino_epoch_60.pth\n",
      "💾 Saved losses and accuracies (training and validation) at: /home/massimiliano/Projects/fl-g13/checkpoints/BaseDino/alakazam_BaseDino_epoch_60.loss_acc.json\n",
      "\n",
      "Running backup for epoch 60\n",
      "💾 Saved checkpoint at: /home/massimiliano/Projects/fl-g13/checkpoints/backup/BaseDino/backup_20250501_213558_alakazam_BaseDino_epoch_60.pth\n",
      "💾 Saved losses and accuracies (training and validation) at: /home/massimiliano/Projects/fl-g13/checkpoints/backup/BaseDino/backup_20250501_213558_alakazam_BaseDino_epoch_60.loss_acc.json\n",
      "\n"
     ]
    },
    {
     "name": "stderr",
     "output_type": "stream",
     "text": [
      "Training progress: 100%|██████████| 313/313 [01:26<00:00,  3.63batch/s]\n"
     ]
    },
    {
     "name": "stdout",
     "output_type": "stream",
     "text": [
      "🚀 Epoch 61/80 (76.25%) Completed\n",
      "\t📊 Training Loss: 0.0149\n",
      "\t✅ Training Accuracy: 99.77%\n",
      "\t⏳ Elapsed Time: 86.11s | ETA: 1636.18s\n",
      "\t🕒 Completed At: 21:37\n"
     ]
    },
    {
     "name": "stderr",
     "output_type": "stream",
     "text": [
      "Eval progress: 100%|██████████| 79/79 [00:19<00:00,  4.09batch/s]\n"
     ]
    },
    {
     "name": "stdout",
     "output_type": "stream",
     "text": [
      "🔍 Validation Results:\n",
      "\t📉 Validation Loss: 1.0787\n",
      "\t🎯 Validation Accuracy: 78.08%\n",
      "\n"
     ]
    },
    {
     "name": "stderr",
     "output_type": "stream",
     "text": [
      "Training progress: 100%|██████████| 313/313 [01:27<00:00,  3.59batch/s]\n"
     ]
    },
    {
     "name": "stdout",
     "output_type": "stream",
     "text": [
      "🚀 Epoch 62/80 (77.50%) Completed\n",
      "\t📊 Training Loss: 0.0148\n",
      "\t✅ Training Accuracy: 99.72%\n",
      "\t⏳ Elapsed Time: 87.10s | ETA: 1567.87s\n",
      "\t🕒 Completed At: 21:39\n"
     ]
    },
    {
     "name": "stderr",
     "output_type": "stream",
     "text": [
      "Eval progress: 100%|██████████| 79/79 [00:19<00:00,  4.11batch/s]\n"
     ]
    },
    {
     "name": "stdout",
     "output_type": "stream",
     "text": [
      "🔍 Validation Results:\n",
      "\t📉 Validation Loss: 1.0749\n",
      "\t🎯 Validation Accuracy: 77.86%\n",
      "\n"
     ]
    },
    {
     "name": "stderr",
     "output_type": "stream",
     "text": [
      "Training progress: 100%|██████████| 313/313 [01:26<00:00,  3.64batch/s]\n"
     ]
    },
    {
     "name": "stdout",
     "output_type": "stream",
     "text": [
      "🚀 Epoch 63/80 (78.75%) Completed\n",
      "\t📊 Training Loss: 0.0125\n",
      "\t✅ Training Accuracy: 99.78%\n",
      "\t⏳ Elapsed Time: 86.05s | ETA: 1462.87s\n",
      "\t🕒 Completed At: 21:40\n"
     ]
    },
    {
     "name": "stderr",
     "output_type": "stream",
     "text": [
      "Eval progress: 100%|██████████| 79/79 [00:19<00:00,  4.02batch/s]\n"
     ]
    },
    {
     "name": "stdout",
     "output_type": "stream",
     "text": [
      "🔍 Validation Results:\n",
      "\t📉 Validation Loss: 1.0723\n",
      "\t🎯 Validation Accuracy: 78.14%\n",
      "\n"
     ]
    },
    {
     "name": "stderr",
     "output_type": "stream",
     "text": [
      "Training progress: 100%|██████████| 313/313 [01:25<00:00,  3.65batch/s]\n"
     ]
    },
    {
     "name": "stdout",
     "output_type": "stream",
     "text": [
      "🚀 Epoch 64/80 (80.00%) Completed\n",
      "\t📊 Training Loss: 0.0116\n",
      "\t✅ Training Accuracy: 99.83%\n",
      "\t⏳ Elapsed Time: 85.84s | ETA: 1373.46s\n",
      "\t🕒 Completed At: 21:42\n"
     ]
    },
    {
     "name": "stderr",
     "output_type": "stream",
     "text": [
      "Eval progress: 100%|██████████| 79/79 [00:20<00:00,  3.81batch/s]\n"
     ]
    },
    {
     "name": "stdout",
     "output_type": "stream",
     "text": [
      "🔍 Validation Results:\n",
      "\t📉 Validation Loss: 1.1064\n",
      "\t🎯 Validation Accuracy: 77.94%\n",
      "\n"
     ]
    },
    {
     "name": "stderr",
     "output_type": "stream",
     "text": [
      "Training progress: 100%|██████████| 313/313 [01:29<00:00,  3.51batch/s]\n"
     ]
    },
    {
     "name": "stdout",
     "output_type": "stream",
     "text": [
      "🚀 Epoch 65/80 (81.25%) Completed\n",
      "\t📊 Training Loss: 0.0113\n",
      "\t✅ Training Accuracy: 99.86%\n",
      "\t⏳ Elapsed Time: 89.23s | ETA: 1338.39s\n",
      "\t🕒 Completed At: 21:44\n"
     ]
    },
    {
     "name": "stderr",
     "output_type": "stream",
     "text": [
      "Eval progress: 100%|██████████| 79/79 [00:19<00:00,  4.08batch/s]\n"
     ]
    },
    {
     "name": "stdout",
     "output_type": "stream",
     "text": [
      "🔍 Validation Results:\n",
      "\t📉 Validation Loss: 1.0809\n",
      "\t🎯 Validation Accuracy: 78.08%\n",
      "\n",
      "💾 Saved checkpoint at: /home/massimiliano/Projects/fl-g13/checkpoints/BaseDino/alakazam_BaseDino_epoch_65.pth\n",
      "💾 Saved losses and accuracies (training and validation) at: /home/massimiliano/Projects/fl-g13/checkpoints/BaseDino/alakazam_BaseDino_epoch_65.loss_acc.json\n",
      "\n"
     ]
    },
    {
     "name": "stderr",
     "output_type": "stream",
     "text": [
      "Training progress: 100%|██████████| 313/313 [01:26<00:00,  3.62batch/s]\n"
     ]
    },
    {
     "name": "stdout",
     "output_type": "stream",
     "text": [
      "🚀 Epoch 66/80 (82.50%) Completed\n",
      "\t📊 Training Loss: 0.0108\n",
      "\t✅ Training Accuracy: 99.83%\n",
      "\t⏳ Elapsed Time: 86.35s | ETA: 1208.93s\n",
      "\t🕒 Completed At: 21:46\n"
     ]
    },
    {
     "name": "stderr",
     "output_type": "stream",
     "text": [
      "Eval progress: 100%|██████████| 79/79 [00:19<00:00,  4.07batch/s]\n"
     ]
    },
    {
     "name": "stdout",
     "output_type": "stream",
     "text": [
      "🔍 Validation Results:\n",
      "\t📉 Validation Loss: 1.0519\n",
      "\t🎯 Validation Accuracy: 78.74%\n",
      "\n"
     ]
    },
    {
     "name": "stderr",
     "output_type": "stream",
     "text": [
      "Training progress: 100%|██████████| 313/313 [01:26<00:00,  3.60batch/s]\n"
     ]
    },
    {
     "name": "stdout",
     "output_type": "stream",
     "text": [
      "🚀 Epoch 67/80 (83.75%) Completed\n",
      "\t📊 Training Loss: 0.0100\n",
      "\t✅ Training Accuracy: 99.84%\n",
      "\t⏳ Elapsed Time: 86.97s | ETA: 1130.57s\n",
      "\t🕒 Completed At: 21:48\n"
     ]
    },
    {
     "name": "stderr",
     "output_type": "stream",
     "text": [
      "Eval progress: 100%|██████████| 79/79 [00:19<00:00,  4.00batch/s]\n"
     ]
    },
    {
     "name": "stdout",
     "output_type": "stream",
     "text": [
      "🔍 Validation Results:\n",
      "\t📉 Validation Loss: 1.0697\n",
      "\t🎯 Validation Accuracy: 78.70%\n",
      "\n"
     ]
    },
    {
     "name": "stderr",
     "output_type": "stream",
     "text": [
      "Training progress: 100%|██████████| 313/313 [01:26<00:00,  3.61batch/s]\n"
     ]
    },
    {
     "name": "stdout",
     "output_type": "stream",
     "text": [
      "🚀 Epoch 68/80 (85.00%) Completed\n",
      "\t📊 Training Loss: 0.0088\n",
      "\t✅ Training Accuracy: 99.90%\n",
      "\t⏳ Elapsed Time: 86.69s | ETA: 1040.33s\n",
      "\t🕒 Completed At: 21:49\n"
     ]
    },
    {
     "name": "stderr",
     "output_type": "stream",
     "text": [
      "Eval progress: 100%|██████████| 79/79 [00:19<00:00,  4.11batch/s]\n"
     ]
    },
    {
     "name": "stdout",
     "output_type": "stream",
     "text": [
      "🔍 Validation Results:\n",
      "\t📉 Validation Loss: 1.0629\n",
      "\t🎯 Validation Accuracy: 78.12%\n",
      "\n"
     ]
    },
    {
     "name": "stderr",
     "output_type": "stream",
     "text": [
      "Training progress: 100%|██████████| 313/313 [01:26<00:00,  3.64batch/s]\n"
     ]
    },
    {
     "name": "stdout",
     "output_type": "stream",
     "text": [
      "🚀 Epoch 69/80 (86.25%) Completed\n",
      "\t📊 Training Loss: 0.0079\n",
      "\t✅ Training Accuracy: 99.91%\n",
      "\t⏳ Elapsed Time: 86.09s | ETA: 947.04s\n",
      "\t🕒 Completed At: 21:51\n"
     ]
    },
    {
     "name": "stderr",
     "output_type": "stream",
     "text": [
      "Eval progress: 100%|██████████| 79/79 [00:19<00:00,  4.01batch/s]\n"
     ]
    },
    {
     "name": "stdout",
     "output_type": "stream",
     "text": [
      "🔍 Validation Results:\n",
      "\t📉 Validation Loss: 1.0538\n",
      "\t🎯 Validation Accuracy: 78.81%\n",
      "\n"
     ]
    },
    {
     "name": "stderr",
     "output_type": "stream",
     "text": [
      "Training progress: 100%|██████████| 313/313 [01:26<00:00,  3.63batch/s]\n"
     ]
    },
    {
     "name": "stdout",
     "output_type": "stream",
     "text": [
      "🚀 Epoch 70/80 (87.50%) Completed\n",
      "\t📊 Training Loss: 0.0080\n",
      "\t✅ Training Accuracy: 99.89%\n",
      "\t⏳ Elapsed Time: 86.21s | ETA: 862.10s\n",
      "\t🕒 Completed At: 21:53\n"
     ]
    },
    {
     "name": "stderr",
     "output_type": "stream",
     "text": [
      "Eval progress: 100%|██████████| 79/79 [00:19<00:00,  4.05batch/s]\n"
     ]
    },
    {
     "name": "stdout",
     "output_type": "stream",
     "text": [
      "🔍 Validation Results:\n",
      "\t📉 Validation Loss: 1.0356\n",
      "\t🎯 Validation Accuracy: 78.85%\n",
      "\n",
      "💾 Saved checkpoint at: /home/massimiliano/Projects/fl-g13/checkpoints/BaseDino/alakazam_BaseDino_epoch_70.pth\n",
      "💾 Saved losses and accuracies (training and validation) at: /home/massimiliano/Projects/fl-g13/checkpoints/BaseDino/alakazam_BaseDino_epoch_70.loss_acc.json\n",
      "\n"
     ]
    },
    {
     "name": "stderr",
     "output_type": "stream",
     "text": [
      "Training progress: 100%|██████████| 313/313 [01:26<00:00,  3.61batch/s]\n"
     ]
    },
    {
     "name": "stdout",
     "output_type": "stream",
     "text": [
      "🚀 Epoch 71/80 (88.75%) Completed\n",
      "\t📊 Training Loss: 0.0078\n",
      "\t✅ Training Accuracy: 99.89%\n",
      "\t⏳ Elapsed Time: 86.63s | ETA: 779.70s\n",
      "\t🕒 Completed At: 21:55\n"
     ]
    },
    {
     "name": "stderr",
     "output_type": "stream",
     "text": [
      "Eval progress: 100%|██████████| 79/79 [00:19<00:00,  4.07batch/s]\n"
     ]
    },
    {
     "name": "stdout",
     "output_type": "stream",
     "text": [
      "🔍 Validation Results:\n",
      "\t📉 Validation Loss: 1.0583\n",
      "\t🎯 Validation Accuracy: 78.66%\n",
      "\n"
     ]
    },
    {
     "name": "stderr",
     "output_type": "stream",
     "text": [
      "Training progress: 100%|██████████| 313/313 [01:25<00:00,  3.68batch/s]\n"
     ]
    },
    {
     "name": "stdout",
     "output_type": "stream",
     "text": [
      "🚀 Epoch 72/80 (90.00%) Completed\n",
      "\t📊 Training Loss: 0.0072\n",
      "\t✅ Training Accuracy: 99.91%\n",
      "\t⏳ Elapsed Time: 85.01s | ETA: 680.11s\n",
      "\t🕒 Completed At: 21:56\n"
     ]
    },
    {
     "name": "stderr",
     "output_type": "stream",
     "text": [
      "Eval progress: 100%|██████████| 79/79 [00:19<00:00,  4.11batch/s]\n"
     ]
    },
    {
     "name": "stdout",
     "output_type": "stream",
     "text": [
      "🔍 Validation Results:\n",
      "\t📉 Validation Loss: 1.0584\n",
      "\t🎯 Validation Accuracy: 78.07%\n",
      "\n"
     ]
    },
    {
     "name": "stderr",
     "output_type": "stream",
     "text": [
      "Training progress: 100%|██████████| 313/313 [01:26<00:00,  3.60batch/s]\n"
     ]
    },
    {
     "name": "stdout",
     "output_type": "stream",
     "text": [
      "🚀 Epoch 73/80 (91.25%) Completed\n",
      "\t📊 Training Loss: 0.0062\n",
      "\t✅ Training Accuracy: 99.93%\n",
      "\t⏳ Elapsed Time: 86.92s | ETA: 608.43s\n",
      "\t🕒 Completed At: 21:58\n"
     ]
    },
    {
     "name": "stderr",
     "output_type": "stream",
     "text": [
      "Eval progress: 100%|██████████| 79/79 [00:19<00:00,  4.12batch/s]\n"
     ]
    },
    {
     "name": "stdout",
     "output_type": "stream",
     "text": [
      "🔍 Validation Results:\n",
      "\t📉 Validation Loss: 1.0622\n",
      "\t🎯 Validation Accuracy: 78.62%\n",
      "\n"
     ]
    },
    {
     "name": "stderr",
     "output_type": "stream",
     "text": [
      "Training progress: 100%|██████████| 313/313 [01:24<00:00,  3.70batch/s]\n"
     ]
    },
    {
     "name": "stdout",
     "output_type": "stream",
     "text": [
      "🚀 Epoch 74/80 (92.50%) Completed\n",
      "\t📊 Training Loss: 0.0068\n",
      "\t✅ Training Accuracy: 99.92%\n",
      "\t⏳ Elapsed Time: 84.69s | ETA: 508.11s\n",
      "\t🕒 Completed At: 22:00\n"
     ]
    },
    {
     "name": "stderr",
     "output_type": "stream",
     "text": [
      "Eval progress: 100%|██████████| 79/79 [00:19<00:00,  4.09batch/s]\n"
     ]
    },
    {
     "name": "stdout",
     "output_type": "stream",
     "text": [
      "🔍 Validation Results:\n",
      "\t📉 Validation Loss: 1.0504\n",
      "\t🎯 Validation Accuracy: 78.58%\n",
      "\n"
     ]
    },
    {
     "name": "stderr",
     "output_type": "stream",
     "text": [
      "Training progress: 100%|██████████| 313/313 [01:26<00:00,  3.60batch/s]\n"
     ]
    },
    {
     "name": "stdout",
     "output_type": "stream",
     "text": [
      "🚀 Epoch 75/80 (93.75%) Completed\n",
      "\t📊 Training Loss: 0.0062\n",
      "\t✅ Training Accuracy: 99.92%\n",
      "\t⏳ Elapsed Time: 86.95s | ETA: 434.77s\n",
      "\t🕒 Completed At: 22:02\n"
     ]
    },
    {
     "name": "stderr",
     "output_type": "stream",
     "text": [
      "Eval progress: 100%|██████████| 79/79 [00:19<00:00,  4.14batch/s]\n"
     ]
    },
    {
     "name": "stdout",
     "output_type": "stream",
     "text": [
      "🔍 Validation Results:\n",
      "\t📉 Validation Loss: 1.0468\n",
      "\t🎯 Validation Accuracy: 78.81%\n",
      "\n",
      "💾 Saved checkpoint at: /home/massimiliano/Projects/fl-g13/checkpoints/BaseDino/alakazam_BaseDino_epoch_75.pth\n",
      "💾 Saved losses and accuracies (training and validation) at: /home/massimiliano/Projects/fl-g13/checkpoints/BaseDino/alakazam_BaseDino_epoch_75.loss_acc.json\n",
      "\n"
     ]
    },
    {
     "name": "stderr",
     "output_type": "stream",
     "text": [
      "Training progress: 100%|██████████| 313/313 [01:26<00:00,  3.60batch/s]\n"
     ]
    },
    {
     "name": "stdout",
     "output_type": "stream",
     "text": [
      "🚀 Epoch 76/80 (95.00%) Completed\n",
      "\t📊 Training Loss: 0.0060\n",
      "\t✅ Training Accuracy: 99.94%\n",
      "\t⏳ Elapsed Time: 86.88s | ETA: 347.50s\n",
      "\t🕒 Completed At: 22:03\n"
     ]
    },
    {
     "name": "stderr",
     "output_type": "stream",
     "text": [
      "Eval progress: 100%|██████████| 79/79 [00:19<00:00,  4.10batch/s]\n"
     ]
    },
    {
     "name": "stdout",
     "output_type": "stream",
     "text": [
      "🔍 Validation Results:\n",
      "\t📉 Validation Loss: 1.0531\n",
      "\t🎯 Validation Accuracy: 78.63%\n",
      "\n"
     ]
    },
    {
     "name": "stderr",
     "output_type": "stream",
     "text": [
      "Training progress: 100%|██████████| 313/313 [01:25<00:00,  3.65batch/s]\n"
     ]
    },
    {
     "name": "stdout",
     "output_type": "stream",
     "text": [
      "🚀 Epoch 77/80 (96.25%) Completed\n",
      "\t📊 Training Loss: 0.0065\n",
      "\t✅ Training Accuracy: 99.89%\n",
      "\t⏳ Elapsed Time: 85.68s | ETA: 257.04s\n",
      "\t🕒 Completed At: 22:05\n"
     ]
    },
    {
     "name": "stderr",
     "output_type": "stream",
     "text": [
      "Eval progress: 100%|██████████| 79/79 [00:19<00:00,  4.03batch/s]\n"
     ]
    },
    {
     "name": "stdout",
     "output_type": "stream",
     "text": [
      "🔍 Validation Results:\n",
      "\t📉 Validation Loss: 1.0509\n",
      "\t🎯 Validation Accuracy: 78.73%\n",
      "\n"
     ]
    },
    {
     "name": "stderr",
     "output_type": "stream",
     "text": [
      "Training progress: 100%|██████████| 313/313 [01:25<00:00,  3.65batch/s]\n"
     ]
    },
    {
     "name": "stdout",
     "output_type": "stream",
     "text": [
      "🚀 Epoch 78/80 (97.50%) Completed\n",
      "\t📊 Training Loss: 0.0058\n",
      "\t✅ Training Accuracy: 99.95%\n",
      "\t⏳ Elapsed Time: 85.74s | ETA: 171.48s\n",
      "\t🕒 Completed At: 22:07\n"
     ]
    },
    {
     "name": "stderr",
     "output_type": "stream",
     "text": [
      "Eval progress: 100%|██████████| 79/79 [00:19<00:00,  3.97batch/s]\n"
     ]
    },
    {
     "name": "stdout",
     "output_type": "stream",
     "text": [
      "🔍 Validation Results:\n",
      "\t📉 Validation Loss: 1.0583\n",
      "\t🎯 Validation Accuracy: 78.72%\n",
      "\n"
     ]
    },
    {
     "name": "stderr",
     "output_type": "stream",
     "text": [
      "Training progress: 100%|██████████| 313/313 [01:27<00:00,  3.58batch/s]\n"
     ]
    },
    {
     "name": "stdout",
     "output_type": "stream",
     "text": [
      "🚀 Epoch 79/80 (98.75%) Completed\n",
      "\t📊 Training Loss: 0.0055\n",
      "\t✅ Training Accuracy: 99.94%\n",
      "\t⏳ Elapsed Time: 87.45s | ETA: 87.45s\n",
      "\t🕒 Completed At: 22:09\n"
     ]
    },
    {
     "name": "stderr",
     "output_type": "stream",
     "text": [
      "Eval progress: 100%|██████████| 79/79 [00:19<00:00,  3.96batch/s]\n"
     ]
    },
    {
     "name": "stdout",
     "output_type": "stream",
     "text": [
      "🔍 Validation Results:\n",
      "\t📉 Validation Loss: 1.0552\n",
      "\t🎯 Validation Accuracy: 78.76%\n",
      "\n"
     ]
    },
    {
     "name": "stderr",
     "output_type": "stream",
     "text": [
      "Training progress: 100%|██████████| 313/313 [01:25<00:00,  3.65batch/s]\n"
     ]
    },
    {
     "name": "stdout",
     "output_type": "stream",
     "text": [
      "🚀 Epoch 80/80 (100.00%) Completed\n",
      "\t📊 Training Loss: 0.0050\n",
      "\t✅ Training Accuracy: 99.95%\n",
      "\t⏳ Elapsed Time: 85.82s | ETA: 0.00s\n",
      "\t🕒 Completed At: 22:10\n"
     ]
    },
    {
     "name": "stderr",
     "output_type": "stream",
     "text": [
      "Eval progress: 100%|██████████| 79/79 [00:19<00:00,  4.09batch/s]\n"
     ]
    },
    {
     "name": "stdout",
     "output_type": "stream",
     "text": [
      "🔍 Validation Results:\n",
      "\t📉 Validation Loss: 1.0309\n",
      "\t🎯 Validation Accuracy: 78.89%\n",
      "\n",
      "💾 Saved checkpoint at: /home/massimiliano/Projects/fl-g13/checkpoints/BaseDino/alakazam_BaseDino_epoch_80.pth\n",
      "💾 Saved losses and accuracies (training and validation) at: /home/massimiliano/Projects/fl-g13/checkpoints/BaseDino/alakazam_BaseDino_epoch_80.loss_acc.json\n",
      "\n",
      "Running backup for epoch 80\n",
      "💾 Saved checkpoint at: /home/massimiliano/Projects/fl-g13/checkpoints/backup/BaseDino/backup_20250501_221117_alakazam_BaseDino_epoch_80.pth\n",
      "💾 Saved losses and accuracies (training and validation) at: /home/massimiliano/Projects/fl-g13/checkpoints/backup/BaseDino/backup_20250501_221117_alakazam_BaseDino_epoch_80.loss_acc.json\n",
      "\n"
     ]
    }
   ],
   "source": [
    "try:\n",
    "    _, _, _, _ = train(\n",
    "        checkpoint_dir=CHECKPOINT_DIR,\n",
    "        name=name,\n",
    "        start_epoch=start_epoch,\n",
    "        num_epochs=num_epochs,\n",
    "        save_every=save_every,\n",
    "        backup_every=backup_every,\n",
    "        train_dataloader=train_dataloader,\n",
    "        val_dataloader=val_dataloader,\n",
    "        model=model,\n",
    "        criterion=criterion,\n",
    "        optimizer=optimizer,\n",
    "        scheduler=scheduler,\n",
    "        verbose=1,\n",
    "        all_training_losses=all_training_losses,\n",
    "        all_validation_losses=all_validation_losses,\n",
    "        all_training_accuracies=all_training_accuracies,\n",
    "        all_validation_accuracies=all_validation_accuracies,\n",
    "    )\n",
    "\n",
    "except KeyboardInterrupt:\n",
    "    print(\"Training interrupted manually.\")\n",
    "\n",
    "except Exception as e:\n",
    "    print(f\"Training stopped due to error: {e}\")"
   ]
  },
  {
   "cell_type": "code",
   "execution_count": 7,
   "id": "cca9191e",
   "metadata": {},
   "outputs": [
    {
     "data": {
      "image/png": "[encoded data removed]",
      "text/plain": [
       "<Figure size 1800x600 with 2 Axes>"
      ]
     },
     "metadata": {},
     "output_type": "display_data"
    }
   ],
   "source": [
    "import matplotlib.pyplot as plt\n",
    "%matplotlib inline\n",
    "\n",
    "# Plot losses\n",
    "plt.figure(figsize=(18, 6))\n",
    "plt.subplot(1, 2, 1)\n",
    "plt.plot(all_training_losses, label='Training Loss')\n",
    "plt.plot(all_validation_losses, label='Validation Loss')\n",
    "plt.xlabel('Epochs')\n",
    "plt.ylabel('Loss')\n",
    "plt.title('Loss vs Epochs')\n",
    "plt.legend()\n",
    "plt.grid(True)  # Add grid\n",
    "plt.xticks(range(len(all_training_losses)), rotation=0)  # Rotate ticks by 20 degrees\n",
    "\n",
    "# Plot accuracies\n",
    "plt.subplot(1, 2, 2)\n",
    "plt.plot(all_training_accuracies, label='Training Accuracy')\n",
    "plt.plot(all_validation_accuracies, label='Validation Accuracy')\n",
    "plt.xlabel('Epochs')\n",
    "plt.ylabel('Accuracy')\n",
    "plt.title('Accuracy vs Epochs')\n",
    "plt.legend()\n",
    "plt.grid(True)  # Add grid\n",
    "plt.xticks(range(len(all_training_accuracies)), rotation=0)  # Rotate ticks by 20 degrees\n",
    "\n",
    "plt.tight_layout()\n",
    "plt.show()"
   ]
  },
  {
   "cell_type": "code",
   "execution_count": 8,
   "id": "2d39924a",
   "metadata": {},
   "outputs": [
    {
     "name": "stderr",
     "output_type": "stream",
     "text": [
      "Eval progress: 100%|██████████| 79/79 [00:19<00:00,  4.11batch/s]"
     ]
    },
    {
     "name": "stdout",
     "output_type": "stream",
     "text": [
      "🔍 Test Results:\n",
      "\t📉 Test Loss: 1.0089\n",
      "\t🎯 Test Accuracy: 79.33%\n"
     ]
    },
    {
     "name": "stderr",
     "output_type": "stream",
     "text": [
      "\n"
     ]
    }
   ],
   "source": [
    "# Evaluate the model on the validation dataset\n",
    "test_loss, test_accuracy, _ = eval(dataloader=test_dataloader, model=model, criterion=criterion)\n",
    "\n",
    "print(\n",
    "    f\"🔍 Test Results:\\n\"\n",
    "    f\"\\t📉 Test Loss: {test_loss:.4f}\\n\"\n",
    "    f\"\\t🎯 Test Accuracy: {100 * test_accuracy:.2f}%\"\n",
    ")"
   ]
  },
  {
   "cell_type": "code",
   "execution_count": null,
   "id": "f2f3a86b",
   "metadata": {},
   "outputs": [],
   "source": []
  }
 ],
 "metadata": {
  "kernelspec": {
   "display_name": "fl-g13",
   "language": "python",
   "name": "python3"
  },
  "language_info": {
   "codemirror_mode": {
    "name": "ipython",
    "version": 3
   },
   "file_extension": ".py",
   "mimetype": "text/x-python",
   "name": "python",
   "nbconvert_exporter": "python",
   "pygments_lexer": "ipython3",
   "version": "3.11.11"
  }
 },
 "nbformat": 4,
 "nbformat_minor": 5
}
