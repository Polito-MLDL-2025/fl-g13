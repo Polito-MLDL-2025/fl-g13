{
 "cells": [
  {
   "metadata": {
    "ExecuteTime": {
     "end_time": "2025-06-03T20:50:03.075515Z",
     "start_time": "2025-06-03T20:50:02.926852Z"
    }
   },
   "cell_type": "code",
   "source": [
    "%load_ext autoreload\n",
    "%autoreload 2"
   ],
   "id": "5767f6b1a63e945b",
   "outputs": [],
   "execution_count": 1
  },
  {
   "metadata": {
    "ExecuteTime": {
     "end_time": "2025-06-03T20:50:05.665085Z",
     "start_time": "2025-06-03T20:50:03.077514Z"
    }
   },
   "cell_type": "code",
   "source": "!pip3 install torch torchvision torchaudio --index-url https://download.pytorch.org/whl/cu118\n",
   "id": "75ca9d6d54c4ce47",
   "outputs": [
    {
     "name": "stdout",
     "output_type": "stream",
     "text": [
      "Looking in indexes: https://download.pytorch.org/whl/cu118\n",
      "Requirement already satisfied: torch in c:\\users\\admin\\desktop\\backup\\study\\italy\\polito\\classes\\20242\\deep learning\\project\\source_code\\fl-g13\\.venv\\lib\\site-packages (2.6.0+cu118)\n",
      "Requirement already satisfied: torchvision in c:\\users\\admin\\desktop\\backup\\study\\italy\\polito\\classes\\20242\\deep learning\\project\\source_code\\fl-g13\\.venv\\lib\\site-packages (0.21.0)\n",
      "Requirement already satisfied: torchaudio in c:\\users\\admin\\desktop\\backup\\study\\italy\\polito\\classes\\20242\\deep learning\\project\\source_code\\fl-g13\\.venv\\lib\\site-packages (2.6.0+cu118)\n",
      "Requirement already satisfied: filelock in c:\\users\\admin\\desktop\\backup\\study\\italy\\polito\\classes\\20242\\deep learning\\project\\source_code\\fl-g13\\.venv\\lib\\site-packages (from torch) (3.18.0)\n",
      "Requirement already satisfied: typing-extensions>=4.10.0 in c:\\users\\admin\\desktop\\backup\\study\\italy\\polito\\classes\\20242\\deep learning\\project\\source_code\\fl-g13\\.venv\\lib\\site-packages (from torch) (4.13.1)\n",
      "Requirement already satisfied: networkx in c:\\users\\admin\\desktop\\backup\\study\\italy\\polito\\classes\\20242\\deep learning\\project\\source_code\\fl-g13\\.venv\\lib\\site-packages (from torch) (3.4.2)\n",
      "Requirement already satisfied: jinja2 in c:\\users\\admin\\desktop\\backup\\study\\italy\\polito\\classes\\20242\\deep learning\\project\\source_code\\fl-g13\\.venv\\lib\\site-packages (from torch) (3.1.6)\n",
      "Requirement already satisfied: fsspec in c:\\users\\admin\\desktop\\backup\\study\\italy\\polito\\classes\\20242\\deep learning\\project\\source_code\\fl-g13\\.venv\\lib\\site-packages (from torch) (2025.3.2)\n",
      "Requirement already satisfied: sympy==1.13.1 in c:\\users\\admin\\desktop\\backup\\study\\italy\\polito\\classes\\20242\\deep learning\\project\\source_code\\fl-g13\\.venv\\lib\\site-packages (from torch) (1.13.1)\n",
      "Requirement already satisfied: mpmath<1.4,>=1.1.0 in c:\\users\\admin\\desktop\\backup\\study\\italy\\polito\\classes\\20242\\deep learning\\project\\source_code\\fl-g13\\.venv\\lib\\site-packages (from sympy==1.13.1->torch) (1.3.0)\n",
      "Requirement already satisfied: numpy in c:\\users\\admin\\desktop\\backup\\study\\italy\\polito\\classes\\20242\\deep learning\\project\\source_code\\fl-g13\\.venv\\lib\\site-packages (from torchvision) (2.0.2)\n",
      "Requirement already satisfied: pillow!=8.3.*,>=5.3.0 in c:\\users\\admin\\desktop\\backup\\study\\italy\\polito\\classes\\20242\\deep learning\\project\\source_code\\fl-g13\\.venv\\lib\\site-packages (from torchvision) (11.1.0)\n",
      "Requirement already satisfied: MarkupSafe>=2.0 in c:\\users\\admin\\desktop\\backup\\study\\italy\\polito\\classes\\20242\\deep learning\\project\\source_code\\fl-g13\\.venv\\lib\\site-packages (from jinja2->torch) (3.0.2)\n"
     ]
    },
    {
     "name": "stderr",
     "output_type": "stream",
     "text": [
      "WARNING: Ignoring invalid distribution -otebook (c:\\users\\admin\\desktop\\backup\\study\\italy\\polito\\classes\\20242\\deep learning\\project\\source_code\\fl-g13\\.venv\\lib\\site-packages)\n",
      "WARNING: Ignoring invalid distribution -otebook (c:\\users\\admin\\desktop\\backup\\study\\italy\\polito\\classes\\20242\\deep learning\\project\\source_code\\fl-g13\\.venv\\lib\\site-packages)\n",
      "WARNING: Ignoring invalid distribution -otebook (c:\\users\\admin\\desktop\\backup\\study\\italy\\polito\\classes\\20242\\deep learning\\project\\source_code\\fl-g13\\.venv\\lib\\site-packages)\n",
      "\n",
      "[notice] A new release of pip is available: 25.0.1 -> 25.1.1\n",
      "[notice] To update, run: python.exe -m pip install --upgrade pip\n"
     ]
    }
   ],
   "execution_count": 2
  },
  {
   "metadata": {
    "ExecuteTime": {
     "end_time": "2025-06-03T20:50:28.604900Z",
     "start_time": "2025-06-03T20:50:05.666086Z"
    }
   },
   "cell_type": "code",
   "source": [
    "\n",
    "from pathlib import Path\n",
    "\n",
    "import flwr\n",
    "import torch\n",
    "from flwr.simulation import run_simulation\n",
    "from torch.optim.lr_scheduler import CosineAnnealingLR\n",
    "\n",
    "from fl_g13.architectures import BaseDino\n",
    "from fl_g13.fl_pytorch.client_app import get_client_app\n",
    "from fl_g13.fl_pytorch.server_app import get_server_app"
   ],
   "id": "initial_id",
   "outputs": [
    {
     "name": "stderr",
     "output_type": "stream",
     "text": [
      "\u001B[32m2025-06-03 22:50:19.178\u001B[0m | \u001B[1mINFO    \u001B[0m | \u001B[36mfl_g13.config\u001B[0m:\u001B[36m<module>\u001B[0m:\u001B[36m11\u001B[0m - \u001B[1mPROJ_ROOT path is: C:\\Users\\ADMIN\\Desktop\\BACKUP\\study\\Italy\\polito\\classes\\20242\\deep learning\\project\\source_code\\fl-g13\u001B[0m\n"
     ]
    }
   ],
   "execution_count": 3
  },
  {
   "metadata": {
    "ExecuteTime": {
     "end_time": "2025-06-03T20:50:29.524967Z",
     "start_time": "2025-06-03T20:50:28.606755Z"
    }
   },
   "cell_type": "code",
   "source": [
    "DEVICE = \"cuda\" if torch.cuda.is_available() else \"cpu\"\n",
    "# DEVICE = \"cpu\"\n",
    "print(f\"Training on {DEVICE}\")\n",
    "print(f\"Flower {flwr.__version__} / PyTorch {torch.__version__}\")\n",
    "# disable_progress_bar()"
   ],
   "id": "1a4ec3eb7baf32",
   "outputs": [
    {
     "name": "stdout",
     "output_type": "stream",
     "text": [
      "Training on cuda\n",
      "Flower 1.17.0 / PyTorch 2.6.0+cu118\n"
     ]
    }
   ],
   "execution_count": 4
  },
  {
   "metadata": {},
   "cell_type": "markdown",
   "source": "# Login wandb",
   "id": "73fb84b164b0def7"
  },
  {
   "metadata": {
    "ExecuteTime": {
     "end_time": "2025-06-03T20:50:32.701638Z",
     "start_time": "2025-06-03T20:50:29.527952Z"
    }
   },
   "cell_type": "code",
   "source": "!pip install wandb",
   "id": "6c6449ef9be1e422",
   "outputs": [
    {
     "name": "stdout",
     "output_type": "stream",
     "text": [
      "Requirement already satisfied: wandb in c:\\users\\admin\\desktop\\backup\\study\\italy\\polito\\classes\\20242\\deep learning\\project\\source_code\\fl-g13\\.venv\\lib\\site-packages (0.19.9)\n",
      "Requirement already satisfied: click!=8.0.0,>=7.1 in c:\\users\\admin\\desktop\\backup\\study\\italy\\polito\\classes\\20242\\deep learning\\project\\source_code\\fl-g13\\.venv\\lib\\site-packages (from wandb) (8.1.8)\n",
      "Requirement already satisfied: docker-pycreds>=0.4.0 in c:\\users\\admin\\desktop\\backup\\study\\italy\\polito\\classes\\20242\\deep learning\\project\\source_code\\fl-g13\\.venv\\lib\\site-packages (from wandb) (0.4.0)\n",
      "Requirement already satisfied: gitpython!=3.1.29,>=1.0.0 in c:\\users\\admin\\desktop\\backup\\study\\italy\\polito\\classes\\20242\\deep learning\\project\\source_code\\fl-g13\\.venv\\lib\\site-packages (from wandb) (3.1.44)\n",
      "Requirement already satisfied: platformdirs in c:\\users\\admin\\desktop\\backup\\study\\italy\\polito\\classes\\20242\\deep learning\\project\\source_code\\fl-g13\\.venv\\lib\\site-packages (from wandb) (4.3.7)\n",
      "Requirement already satisfied: protobuf!=4.21.0,!=5.28.0,<6,>=3.19.0 in c:\\users\\admin\\desktop\\backup\\study\\italy\\polito\\classes\\20242\\deep learning\\project\\source_code\\fl-g13\\.venv\\lib\\site-packages (from wandb) (5.29.4)\n",
      "Requirement already satisfied: psutil>=5.0.0 in c:\\users\\admin\\desktop\\backup\\study\\italy\\polito\\classes\\20242\\deep learning\\project\\source_code\\fl-g13\\.venv\\lib\\site-packages (from wandb) (7.0.0)\n",
      "Requirement already satisfied: pydantic<3 in c:\\users\\admin\\desktop\\backup\\study\\italy\\polito\\classes\\20242\\deep learning\\project\\source_code\\fl-g13\\.venv\\lib\\site-packages (from wandb) (2.11.3)\n",
      "Requirement already satisfied: pyyaml in c:\\users\\admin\\desktop\\backup\\study\\italy\\polito\\classes\\20242\\deep learning\\project\\source_code\\fl-g13\\.venv\\lib\\site-packages (from wandb) (6.0.2)\n",
      "Requirement already satisfied: requests<3,>=2.0.0 in c:\\users\\admin\\desktop\\backup\\study\\italy\\polito\\classes\\20242\\deep learning\\project\\source_code\\fl-g13\\.venv\\lib\\site-packages (from wandb) (2.32.3)\n",
      "Requirement already satisfied: sentry-sdk>=2.0.0 in c:\\users\\admin\\desktop\\backup\\study\\italy\\polito\\classes\\20242\\deep learning\\project\\source_code\\fl-g13\\.venv\\lib\\site-packages (from wandb) (2.26.0)\n",
      "Requirement already satisfied: setproctitle in c:\\users\\admin\\desktop\\backup\\study\\italy\\polito\\classes\\20242\\deep learning\\project\\source_code\\fl-g13\\.venv\\lib\\site-packages (from wandb) (1.3.5)\n",
      "Requirement already satisfied: setuptools in c:\\users\\admin\\desktop\\backup\\study\\italy\\polito\\classes\\20242\\deep learning\\project\\source_code\\fl-g13\\.venv\\lib\\site-packages (from wandb) (68.2.0)\n",
      "Requirement already satisfied: typing-extensions<5,>=4.4 in c:\\users\\admin\\desktop\\backup\\study\\italy\\polito\\classes\\20242\\deep learning\\project\\source_code\\fl-g13\\.venv\\lib\\site-packages (from wandb) (4.13.1)\n",
      "Requirement already satisfied: colorama in c:\\users\\admin\\desktop\\backup\\study\\italy\\polito\\classes\\20242\\deep learning\\project\\source_code\\fl-g13\\.venv\\lib\\site-packages (from click!=8.0.0,>=7.1->wandb) (0.4.6)\n",
      "Requirement already satisfied: six>=1.4.0 in c:\\users\\admin\\desktop\\backup\\study\\italy\\polito\\classes\\20242\\deep learning\\project\\source_code\\fl-g13\\.venv\\lib\\site-packages (from docker-pycreds>=0.4.0->wandb) (1.17.0)\n",
      "Requirement already satisfied: gitdb<5,>=4.0.1 in c:\\users\\admin\\desktop\\backup\\study\\italy\\polito\\classes\\20242\\deep learning\\project\\source_code\\fl-g13\\.venv\\lib\\site-packages (from gitpython!=3.1.29,>=1.0.0->wandb) (4.0.12)\n",
      "Requirement already satisfied: annotated-types>=0.6.0 in c:\\users\\admin\\desktop\\backup\\study\\italy\\polito\\classes\\20242\\deep learning\\project\\source_code\\fl-g13\\.venv\\lib\\site-packages (from pydantic<3->wandb) (0.7.0)\n",
      "Requirement already satisfied: pydantic-core==2.33.1 in c:\\users\\admin\\desktop\\backup\\study\\italy\\polito\\classes\\20242\\deep learning\\project\\source_code\\fl-g13\\.venv\\lib\\site-packages (from pydantic<3->wandb) (2.33.1)\n",
      "Requirement already satisfied: typing-inspection>=0.4.0 in c:\\users\\admin\\desktop\\backup\\study\\italy\\polito\\classes\\20242\\deep learning\\project\\source_code\\fl-g13\\.venv\\lib\\site-packages (from pydantic<3->wandb) (0.4.0)\n",
      "Requirement already satisfied: charset-normalizer<4,>=2 in c:\\users\\admin\\desktop\\backup\\study\\italy\\polito\\classes\\20242\\deep learning\\project\\source_code\\fl-g13\\.venv\\lib\\site-packages (from requests<3,>=2.0.0->wandb) (3.4.1)\n",
      "Requirement already satisfied: idna<4,>=2.5 in c:\\users\\admin\\desktop\\backup\\study\\italy\\polito\\classes\\20242\\deep learning\\project\\source_code\\fl-g13\\.venv\\lib\\site-packages (from requests<3,>=2.0.0->wandb) (3.10)\n",
      "Requirement already satisfied: urllib3<3,>=1.21.1 in c:\\users\\admin\\desktop\\backup\\study\\italy\\polito\\classes\\20242\\deep learning\\project\\source_code\\fl-g13\\.venv\\lib\\site-packages (from requests<3,>=2.0.0->wandb) (2.3.0)\n",
      "Requirement already satisfied: certifi>=2017.4.17 in c:\\users\\admin\\desktop\\backup\\study\\italy\\polito\\classes\\20242\\deep learning\\project\\source_code\\fl-g13\\.venv\\lib\\site-packages (from requests<3,>=2.0.0->wandb) (2025.1.31)\n",
      "Requirement already satisfied: smmap<6,>=3.0.1 in c:\\users\\admin\\desktop\\backup\\study\\italy\\polito\\classes\\20242\\deep learning\\project\\source_code\\fl-g13\\.venv\\lib\\site-packages (from gitdb<5,>=4.0.1->gitpython!=3.1.29,>=1.0.0->wandb) (5.0.2)\n"
     ]
    },
    {
     "name": "stderr",
     "output_type": "stream",
     "text": [
      "WARNING: Ignoring invalid distribution -otebook (c:\\users\\admin\\desktop\\backup\\study\\italy\\polito\\classes\\20242\\deep learning\\project\\source_code\\fl-g13\\.venv\\lib\\site-packages)\n",
      "WARNING: Ignoring invalid distribution -otebook (c:\\users\\admin\\desktop\\backup\\study\\italy\\polito\\classes\\20242\\deep learning\\project\\source_code\\fl-g13\\.venv\\lib\\site-packages)\n",
      "WARNING: Ignoring invalid distribution -otebook (c:\\users\\admin\\desktop\\backup\\study\\italy\\polito\\classes\\20242\\deep learning\\project\\source_code\\fl-g13\\.venv\\lib\\site-packages)\n",
      "\n",
      "[notice] A new release of pip is available: 25.0.1 -> 25.1.1\n",
      "[notice] To update, run: python.exe -m pip install --upgrade pip\n"
     ]
    }
   ],
   "execution_count": 5
  },
  {
   "metadata": {
    "ExecuteTime": {
     "end_time": "2025-06-03T20:50:33.569898Z",
     "start_time": "2025-06-03T20:50:32.703616Z"
    }
   },
   "cell_type": "code",
   "source": [
    "## read .env file\n",
    "import dotenv\n",
    "\n",
    "dotenv.load_dotenv()\n"
   ],
   "id": "5f279490dd7a970f",
   "outputs": [
    {
     "data": {
      "text/plain": [
       "True"
      ]
     },
     "execution_count": 6,
     "metadata": {},
     "output_type": "execute_result"
    }
   ],
   "execution_count": 6
  },
  {
   "metadata": {
    "ExecuteTime": {
     "end_time": "2025-06-03T20:50:35.686200Z",
     "start_time": "2025-06-03T20:50:33.570880Z"
    }
   },
   "cell_type": "code",
   "source": [
    "import wandb\n",
    "\n",
    "# login by key in .env file\n",
    "# WANDB_API_KEY = dotenv.dotenv_values()[\"WANDB_API_KEY\"]\n",
    "WANDB_API_KEY = 'd8a0d7bc0ada694ba9c7f26bd159620f0326a74f'\n",
    "wandb.login(key=WANDB_API_KEY)"
   ],
   "id": "a218d880822fdfba",
   "outputs": [
    {
     "name": "stderr",
     "output_type": "stream",
     "text": [
      "C:\\Users\\ADMIN\\Desktop\\BACKUP\\study\\Italy\\polito\\classes\\20242\\deep learning\\project\\source_code\\fl-g13\\.venv\\lib\\site-packages\\notebook\\utils.py:280: DeprecationWarning: distutils Version classes are deprecated. Use packaging.version instead.\n",
      "  return LooseVersion(v) >= LooseVersion(check)\n",
      "wandb: Using wandb-core as the SDK backend.  Please refer to https://wandb.me/wandb-core for more information.\n",
      "wandb: WARNING If you're specifying your api key in code, ensure this code is not shared publicly.\n",
      "wandb: WARNING Consider setting the WANDB_API_KEY environment variable, or running `wandb login` from the command line.\n",
      "wandb: Appending key for api.wandb.ai to your netrc file: C:\\Users\\ADMIN\\_netrc\n",
      "wandb: Currently logged in as: thanhnv-it23 (stefano-gamba-social-politecnico-di-torino) to https://api.wandb.ai. Use `wandb login --relogin` to force relogin\n"
     ]
    },
    {
     "data": {
      "text/plain": [
       "True"
      ]
     },
     "execution_count": 7,
     "metadata": {},
     "output_type": "execute_result"
    }
   ],
   "execution_count": 7
  },
  {
   "metadata": {},
   "cell_type": "markdown",
   "source": [
    "## Build module local\n",
    "\n",
    "Build module local such that ClientApp can use it"
   ],
   "id": "b5a0319c8e40215a"
  },
  {
   "metadata": {
    "ExecuteTime": {
     "end_time": "2025-06-03T20:50:44.877897Z",
     "start_time": "2025-06-03T20:50:35.688184Z"
    }
   },
   "cell_type": "code",
   "source": "!pip install -e ..",
   "id": "8a11402a3317027f",
   "outputs": [
    {
     "name": "stderr",
     "output_type": "stream",
     "text": [
      "WARNING: Ignoring invalid distribution -otebook (c:\\users\\admin\\desktop\\backup\\study\\italy\\polito\\classes\\20242\\deep learning\\project\\source_code\\fl-g13\\.venv\\lib\\site-packages)"
     ]
    },
    {
     "name": "stdout",
     "output_type": "stream",
     "text": [
      "Obtaining file:///C:/Users/ADMIN/Desktop/BACKUP/study/Italy/polito/classes/20242/deep%20learning/project/source_code/fl-g13"
     ]
    },
    {
     "name": "stderr",
     "output_type": "stream",
     "text": [
      "\n",
      "WARNING: Ignoring invalid distribution -otebook (c:\\users\\admin\\desktop\\backup\\study\\italy\\polito\\classes\\20242\\deep learning\\project\\source_code\\fl-g13\\.venv\\lib\\site-packages)"
     ]
    },
    {
     "name": "stdout",
     "output_type": "stream",
     "text": [
      "\n"
     ]
    },
    {
     "name": "stderr",
     "output_type": "stream",
     "text": [
      "\n"
     ]
    },
    {
     "name": "stdout",
     "output_type": "stream",
     "text": [
      "  Installing build dependencies: started"
     ]
    },
    {
     "name": "stderr",
     "output_type": "stream",
     "text": [
      "WARNING: Ignoring invalid distribution -otebook (c:\\users\\admin\\desktop\\backup\\study\\italy\\polito\\classes\\20242\\deep learning\\project\\source_code\\fl-g13\\.venv\\lib\\site-packages)\n"
     ]
    },
    {
     "name": "stdout",
     "output_type": "stream",
     "text": [
      "\n"
     ]
    },
    {
     "name": "stderr",
     "output_type": "stream",
     "text": [
      "\n"
     ]
    },
    {
     "name": "stdout",
     "output_type": "stream",
     "text": [
      "  Installing build dependencies: finished with status 'done'"
     ]
    },
    {
     "name": "stderr",
     "output_type": "stream",
     "text": [
      "[notice] A new release of pip is available: 25.0.1 -> 25.1.1\n"
     ]
    },
    {
     "name": "stdout",
     "output_type": "stream",
     "text": [
      "\n"
     ]
    },
    {
     "name": "stderr",
     "output_type": "stream",
     "text": [
      "[notice] To update, run: python.exe -m pip install --upgrade pip"
     ]
    },
    {
     "name": "stdout",
     "output_type": "stream",
     "text": [
      "  Checking if build backend supports build_editable: started"
     ]
    },
    {
     "name": "stderr",
     "output_type": "stream",
     "text": [
      "\n"
     ]
    },
    {
     "name": "stdout",
     "output_type": "stream",
     "text": [
      "\n",
      "  Checking if build backend supports build_editable: finished with status 'done'\n",
      "  Getting requirements to build editable: started\n",
      "  Getting requirements to build editable: finished with status 'done'\n"
     ]
    }
   ],
   "execution_count": 8
  },
  {
   "metadata": {},
   "cell_type": "markdown",
   "source": [
    "### Download missing module for clients\n",
    "\n",
    "Dino model,that is serialized and sent to client by server, require some modules that have to download from source code of dino model\n"
   ],
   "id": "9399f1a9cedc8cc3"
  },
  {
   "metadata": {
    "ExecuteTime": {
     "end_time": "2025-06-03T20:50:45.820861Z",
     "start_time": "2025-06-03T20:50:44.881897Z"
    }
   },
   "cell_type": "code",
   "source": [
    "\n",
    "import urllib.request\n",
    "\n",
    "\n",
    "def download_if_not_exists(file_path: str, file_url: str):\n",
    "    \"\"\"\n",
    "    Checks if a file exists at the given path. If it does not, downloads it from the specified URL.\n",
    "\n",
    "    Parameters:\n",
    "    - file_path (str): The local path to check and save the file.\n",
    "    - file_url (str): The URL from which to download the file.\n",
    "    \"\"\"\n",
    "    if not os.path.exists(file_path):\n",
    "        print(f\"'{file_path}' not found. Downloading from {file_url}...\")\n",
    "        try:\n",
    "            urllib.request.urlretrieve(file_url, file_path)\n",
    "            print(\"Download complete.\")\n",
    "        except Exception as e:\n",
    "            print(f\"Failed to download file: {e}\")\n",
    "    else:\n",
    "        print(f\"'{file_path}' already exists.\")"
   ],
   "id": "beb2c855fcd8933c",
   "outputs": [],
   "execution_count": 9
  },
  {
   "metadata": {
    "ExecuteTime": {
     "end_time": "2025-06-03T20:50:46.816413Z",
     "start_time": "2025-06-03T20:50:45.822862Z"
    }
   },
   "cell_type": "code",
   "source": [
    "download_if_not_exists(\"vision_transformer.py\",\n",
    "                       \"https://raw.githubusercontent.com/facebookresearch/dino/refs/heads/main/vision_transformer.py\")\n",
    "download_if_not_exists(\"utils.py\",\n",
    "                       \"https://raw.githubusercontent.com/facebookresearch/dino/refs/heads/main/utils.py\")\n"
   ],
   "id": "d93caca63a33c71f",
   "outputs": [
    {
     "name": "stdout",
     "output_type": "stream",
     "text": [
      "'vision_transformer.py' already exists.\n",
      "'utils.py' already exists.\n"
     ]
    }
   ],
   "execution_count": 10
  },
  {
   "metadata": {},
   "cell_type": "markdown",
   "source": "# FL",
   "id": "ee82432353abfbe2"
  },
  {
   "metadata": {},
   "cell_type": "markdown",
   "source": "## Configs",
   "id": "cdb05316b163821b"
  },
  {
   "metadata": {
    "ExecuteTime": {
     "end_time": "2025-06-03T20:50:47.672636Z",
     "start_time": "2025-06-03T20:50:46.818384Z"
    }
   },
   "cell_type": "code",
   "source": "DEBUG = True",
   "id": "6ba4f53af219c423",
   "outputs": [],
   "execution_count": 11
  },
  {
   "metadata": {
    "ExecuteTime": {
     "end_time": "2025-06-03T20:50:48.494786Z",
     "start_time": "2025-06-03T20:50:47.673652Z"
    }
   },
   "cell_type": "code",
   "source": [
    "K = 100\n",
    "C = 0.1\n",
    "J = 4\n",
    "# partition_type = 'iid'\n",
    "partition_type = 'shard'\n",
    "Nc = 10\n",
    "\n",
    "## only for partition_type = 'shard'\n",
    "num_shards_per_partition = Nc\n",
    "\n",
    "# checkpoint_dir = \"/content/drive/MyDrive/mldl_fl/fl_dino/non_iid/checkpoints\"\n",
    "# ##\n",
    "# os.makedirs(checkpoint_dir, exist_ok=True)\n",
    "\n",
    "\n",
    "# Model Hyper-parameters\n",
    "head_layers = 3\n",
    "head_hidden_size = 512\n",
    "dropout_rate = 0.0\n",
    "unfreeze_blocks = 0\n",
    "\n",
    "# Training Hyper-parameters\n",
    "batch_size = 64\n",
    "lr = 1e-3\n",
    "momentum = 0.9\n",
    "weight_decay = 1e-5\n",
    "T_max = 8\n",
    "eta_min = 1e-5\n",
    "\n",
    "save_every = 5\n",
    "fraction_fit = C  # Sample of available clients for training\n",
    "fraction_evaluate = 0.1  # Sample 50% of available clients for evaluation\n",
    "min_fit_clients = 10  # Never sample less than 10 clients for training\n",
    "min_evaluate_clients = 5  # Never sample less than 5 clients for evaluation\n",
    "min_available_clients = 10  # Wait until all 10 clients are available\n",
    "device = DEVICE\n",
    "## Wandb config\n",
    "use_wandb = True\n",
    "wandb_config = {\n",
    "    # wandb param\n",
    "    'name': 'FL_Dino_Baseline_iid',\n",
    "    'project_name': \"FL_Dino_CIFAR100_experiment\",\n",
    "    # model config param\n",
    "    \"fraction_fit\": fraction_fit,\n",
    "    \"lr\": lr,\n",
    "    \"momentum\": momentum,\n",
    "    'partition_type': partition_type,\n",
    "    'K': K,\n",
    "    'C': C,\n",
    "    'J': J,\n",
    "}\n",
    "\n"
   ],
   "id": "d63bb533ec30809b",
   "outputs": [],
   "execution_count": 12
  },
  {
   "metadata": {},
   "cell_type": "markdown",
   "source": [
    "### Download missing module for clients\n",
    "\n",
    "Dino model,that is serialized and sent to client by server, require some modules that have to download from source code of dino model"
   ],
   "id": "4a879869925d1a9e"
  },
  {
   "metadata": {
    "ExecuteTime": {
     "end_time": "2025-06-03T20:50:49.312050Z",
     "start_time": "2025-06-03T20:50:48.495896Z"
    }
   },
   "cell_type": "code",
   "source": [
    "import os\n",
    "import urllib.request\n",
    "\n",
    "\n",
    "def download_if_not_exists(file_path: str, file_url: str):\n",
    "    \"\"\"\n",
    "    Checks if a file exists at the given path. If it does not, downloads it from the specified URL.\n",
    "\n",
    "    Parameters:\n",
    "    - file_path (str): The local path to check and save the file.\n",
    "    - file_url (str): The URL from which to download the file.\n",
    "    \"\"\"\n",
    "    if not os.path.exists(file_path):\n",
    "        print(f\"'{file_path}' not found. Downloading from {file_url}...\")\n",
    "        try:\n",
    "            urllib.request.urlretrieve(file_url, file_path)\n",
    "            print(\"Download complete.\")\n",
    "        except Exception as e:\n",
    "            print(f\"Failed to download file: {e}\")\n",
    "    else:\n",
    "        print(f\"'{file_path}' already exists.\")\n",
    "\n",
    "\n",
    "download_if_not_exists(\"vision_transformer.py\",\n",
    "                       \"https://raw.githubusercontent.com/facebookresearch/dino/refs/heads/main/vision_transformer.py\")\n",
    "download_if_not_exists(\"utils.py\",\n",
    "                       \"https://raw.githubusercontent.com/facebookresearch/dino/refs/heads/main/utils.py\")\n"
   ],
   "id": "8b793755e31af57f",
   "outputs": [
    {
     "name": "stdout",
     "output_type": "stream",
     "text": [
      "'vision_transformer.py' already exists.\n",
      "'utils.py' already exists.\n"
     ]
    }
   ],
   "execution_count": 13
  },
  {
   "metadata": {},
   "cell_type": "markdown",
   "source": "## Define model , optimizer and loss function",
   "id": "4c0f23c3615c6d68"
  },
  {
   "metadata": {},
   "cell_type": "markdown",
   "source": "## Run the training\n",
   "id": "1427a966f7544b94"
  },
  {
   "metadata": {
    "ExecuteTime": {
     "end_time": "2025-06-03T20:50:50.195740Z",
     "start_time": "2025-06-03T20:50:49.318053Z"
    }
   },
   "cell_type": "code",
   "source": [
    "# Specify the resources each of your clients need\n",
    "# By default, each client will be allocated 1x CPU and 0x GPUs\n",
    "backend_config = {\"client_resources\": {\"num_cpus\": 1, \"num_gpus\": 0.0}}\n",
    "\n",
    "# When running on GPU, assign an entire GPU for each client\n",
    "if DEVICE == \"cuda\":\n",
    "    backend_config[\"client_resources\"] = {\"num_cpus\": 1, \"num_gpus\": 1}\n",
    "    # Refer to our Flower framework documentation for more details about Flower simulations\n",
    "    # and how to set up the `backend_config`"
   ],
   "id": "1388e3308f7b212b",
   "outputs": [],
   "execution_count": 14
  },
  {
   "metadata": {},
   "cell_type": "markdown",
   "source": "",
   "id": "9a1db478a3e1221"
  },
  {
   "metadata": {
    "jupyter": {
     "is_executing": true
    },
    "ExecuteTime": {
     "start_time": "2025-06-03T20:50:50.197725Z"
    }
   },
   "cell_type": "code",
   "source": [
    "from fl_g13.fl_pytorch.datasets import reset_partition\n",
    "from fl_g13.modeling import load_or_create\n",
    "from fl_g13.editing import SparseSGDM\n",
    "from torch.optim import SGD\n",
    "\n",
    "K = 100\n",
    "C = 0.1\n",
    "\n",
    "num_rounds = 200\n",
    "partition_type = 'shard'\n",
    "evaluate_each = 1\n",
    "# partition_type = 'iid'\n",
    "NUM_CLIENTS = K\n",
    "Js = [8]\n",
    "Ncs = [1, 5, 10, 50]\n",
    "\n",
    "## only for partition_type = 'shard'\n",
    "\n",
    "## Wandb config\n",
    "use_wandb = True\n",
    "\n",
    "project_name = \"FL_Dino_CIFAR100_baseline_v4\"\n",
    "\n",
    "current_path = Path.cwd()\n",
    "model_save_path = current_path / f\"../models/fl_dino_v4/non_iid\"\n",
    "\n",
    "model_config={\n",
    "    \"head_layers\": 3,\n",
    "    \"head_hidden_size\": 512,\n",
    "    \"dropout_rate\": 0.0,\n",
    "    \"unfreeze_blocks\": 0,\n",
    "}\n",
    "\n",
    "for Nc in Ncs:\n",
    "    reset_partition()\n",
    "    for J in Js:\n",
    "        print('-' * 200)\n",
    "        print(f\"Training Non IId model\")\n",
    "        print(f\"Nc: {Nc}, J: {J}\")\n",
    "        checkpoint_dir = f\"{model_save_path}/{Nc}_{J}/editing\"\n",
    "        print(f'checkpoint_dir:{checkpoint_dir}')\n",
    "        # Model\n",
    "        model, start_epoch = load_or_create(\n",
    "            path=checkpoint_dir,\n",
    "            model_class=BaseDino,\n",
    "            model_config=model_config,\n",
    "            optimizer=None,\n",
    "            scheduler=None,\n",
    "            device=device,\n",
    "            verbose=True,\n",
    "        )\n",
    "\n",
    "        model.to(DEVICE)\n",
    "\n",
    "        optimizer = SGD(model.parameters(), lr=lr, momentum=momentum)\n",
    "        criterion = torch.nn.CrossEntropyLoss()\n",
    "        scheduler = CosineAnnealingLR(\n",
    "            optimizer=optimizer,\n",
    "            T_max=T_max,\n",
    "            eta_min=eta_min\n",
    "        )\n",
    "\n",
    "        ## unfreeze blocks\n",
    "        num_blocks = 0\n",
    "        model.unfreeze_blocks(num_blocks)\n",
    "        num_shards_per_partition = Nc\n",
    "\n",
    "        ##\n",
    "        os.makedirs(checkpoint_dir, exist_ok=True)\n",
    "\n",
    "        name = f\"FL_Dino_Baseline_model_non_iid_{Nc}_{J}\"\n",
    "        \n",
    "        wandb_config = {\n",
    "            # wandb param\n",
    "            'name': name,\n",
    "            'project_name': project_name,\n",
    "            'run_id': f\"{name}\",\n",
    "            # model config param\n",
    "            \"fraction_fit\": fraction_fit,\n",
    "            \"lr\": lr,\n",
    "            \"momentum\": momentum,\n",
    "            'partition_type': partition_type,\n",
    "            'K': K,\n",
    "            'C': C,\n",
    "            'J': J,\n",
    "            'Nc': Nc\n",
    "        }\n",
    "        # model editing config\n",
    "        model_editing = False\n",
    "        mask_type = 'global'\n",
    "        sparsity = 0.8\n",
    "        mask = None\n",
    "        model_editing_batch_size = 16\n",
    "        if model_editing:\n",
    "            # Create a dummy mask for SparseSGDM\n",
    "            init_mask = [torch.ones_like(p, device=p.device) for p in\n",
    "                         model.parameters()]  # Must be done AFTER the model is moved to the device\n",
    "            # Optimizer, scheduler, and loss function\n",
    "            optimizer = SparseSGDM(\n",
    "                model.parameters(),\n",
    "                mask=init_mask,\n",
    "                lr=lr,\n",
    "                momentum=momentum,\n",
    "                weight_decay=weight_decay\n",
    "            )\n",
    "\n",
    "        client = get_client_app(\n",
    "            model=model,\n",
    "            optimizer=optimizer,\n",
    "            criterion=criterion,\n",
    "            device=DEVICE,\n",
    "            partition_type=partition_type,\n",
    "            local_epochs=1,\n",
    "            local_steps=J,\n",
    "            batch_size=batch_size,\n",
    "            num_shards_per_partition=num_shards_per_partition,\n",
    "            scheduler=scheduler,\n",
    "            verbose=0,\n",
    "            model_editing=model_editing,\n",
    "            mask_type=mask_type,\n",
    "            sparsity=sparsity,\n",
    "            mask=mask,\n",
    "            model_editing_batch_size=model_editing_batch_size,\n",
    "            mask_func=None\n",
    "        )\n",
    "        compute_round = num_rounds + 1 - start_epoch\n",
    "        server = get_server_app(checkpoint_dir=checkpoint_dir,\n",
    "                                model_class=model,\n",
    "                                optimizer=optimizer,\n",
    "                                criterion=criterion,\n",
    "                                scheduler=scheduler,\n",
    "                                num_rounds=compute_round,\n",
    "                                fraction_fit=fraction_fit,\n",
    "                                fraction_evaluate=fraction_evaluate,\n",
    "                                min_fit_clients=min_fit_clients,\n",
    "                                min_evaluate_clients=min_evaluate_clients,\n",
    "                                min_available_clients=min_available_clients,\n",
    "                                device=device,\n",
    "                                use_wandb=use_wandb,\n",
    "                                wandb_config=wandb_config,\n",
    "                                save_every=save_every,\n",
    "                                prefix='fl_baseline',\n",
    "                                evaluate_each=evaluate_each\n",
    "                                )\n",
    "        # Run simulation\n",
    "        run_simulation(\n",
    "            server_app=server,\n",
    "            client_app=client,\n",
    "            num_supernodes=NUM_CLIENTS,\n",
    "            backend_config=backend_config\n",
    "        )"
   ],
   "id": "1451e826d4713ec9",
   "outputs": [
    {
     "name": "stdout",
     "output_type": "stream",
     "text": [
      "--------------------------------------------------------------------------------------------------------------------------------------------------------------------------------------------------------\n",
      "Training Non IId model\n",
      "Nc: 1, J: 8\n",
      "checkpoint_dir:C:\\Users\\ADMIN\\Desktop\\BACKUP\\study\\Italy\\polito\\classes\\20242\\deep learning\\project\\source_code\\fl-g13\\notebooks\\..\\models\\fl_baseline\\noniid/1_8/editing\n",
      "⚠️ No checkpoint found at C:\\Users\\ADMIN\\Desktop\\BACKUP\\study\\Italy\\polito\\classes\\20242\\deep learning\\project\\source_code\\fl-g13\\notebooks\\..\\models\\fl_baseline\\noniid/1_8/editing. Creating a new model.\n"
     ]
    },
    {
     "name": "stderr",
     "output_type": "stream",
     "text": [
      "Using cache found in C:\\Users\\ADMIN/.cache\\torch\\hub\\facebookresearch_dino_main\n"
     ]
    },
    {
     "name": "stdout",
     "output_type": "stream",
     "text": [
      "⚠️ No checkpoint found at C:\\Users\\ADMIN\\Desktop\\BACKUP\\study\\Italy\\polito\\classes\\20242\\deep learning\\project\\source_code\\fl-g13\\notebooks\\..\\models\\fl_baseline\\noniid/1_8/editing. Creating a new model.\n",
      "[Server] Server on device: cuda:0\n",
      "[Server] CUDA available in client: True\n",
      "Using strategy 'CustomFedAvg' (default option)\n"
     ]
    },
    {
     "name": "stderr",
     "output_type": "stream",
     "text": [
      "C:\\Users\\ADMIN\\Desktop\\BACKUP\\study\\Italy\\polito\\classes\\20242\\deep learning\\project\\source_code\\fl-g13\\.venv\\lib\\site-packages\\wandb\\analytics\\sentry.py:259: DeprecationWarning: The `Scope.user` setter is deprecated in favor of `Scope.set_user()`.\n",
      "  self.scope.user = {\"email\": email}  # noqa\n"
     ]
    },
    {
     "data": {
      "text/plain": [
       "<IPython.core.display.HTML object>"
      ],
      "text/html": [
       "Tracking run with wandb version 0.19.9"
      ]
     },
     "metadata": {},
     "output_type": "display_data"
    },
    {
     "data": {
      "text/plain": [
       "<IPython.core.display.HTML object>"
      ],
      "text/html": [
       "Run data is saved locally in <code>C:\\Users\\ADMIN\\Desktop\\BACKUP\\study\\Italy\\polito\\classes\\20242\\deep learning\\project\\source_code\\fl-g13\\notebooks\\wandb\\run-20250603_225053-FL_Dino_Baseline_model_editing_non_iid_1_8</code>"
      ]
     },
     "metadata": {},
     "output_type": "display_data"
    },
    {
     "data": {
      "text/plain": [
       "<IPython.core.display.HTML object>"
      ],
      "text/html": [
       "Syncing run <strong><a href='https://wandb.ai/stefano-gamba-social-politecnico-di-torino/FL_Dino_CIFAR100_editing_new_batchsize64_v3_8/runs/FL_Dino_Baseline_model_editing_non_iid_1_8' target=\"_blank\">FL_Dino_Baseline_model_editing_non_iid_1_8</a></strong> to <a href='https://wandb.ai/stefano-gamba-social-politecnico-di-torino/FL_Dino_CIFAR100_editing_new_batchsize64_v3_8' target=\"_blank\">Weights & Biases</a> (<a href='https://wandb.me/developer-guide' target=\"_blank\">docs</a>)<br>"
      ]
     },
     "metadata": {},
     "output_type": "display_data"
    },
    {
     "data": {
      "text/plain": [
       "<IPython.core.display.HTML object>"
      ],
      "text/html": [
       " View project at <a href='https://wandb.ai/stefano-gamba-social-politecnico-di-torino/FL_Dino_CIFAR100_editing_new_batchsize64_v3_8' target=\"_blank\">https://wandb.ai/stefano-gamba-social-politecnico-di-torino/FL_Dino_CIFAR100_editing_new_batchsize64_v3_8</a>"
      ]
     },
     "metadata": {},
     "output_type": "display_data"
    },
    {
     "data": {
      "text/plain": [
       "<IPython.core.display.HTML object>"
      ],
      "text/html": [
       " View run at <a href='https://wandb.ai/stefano-gamba-social-politecnico-di-torino/FL_Dino_CIFAR100_editing_new_batchsize64_v3_8/runs/FL_Dino_Baseline_model_editing_non_iid_1_8' target=\"_blank\">https://wandb.ai/stefano-gamba-social-politecnico-di-torino/FL_Dino_CIFAR100_editing_new_batchsize64_v3_8/runs/FL_Dino_Baseline_model_editing_non_iid_1_8</a>"
      ]
     },
     "metadata": {},
     "output_type": "display_data"
    },
    {
     "name": "stderr",
     "output_type": "stream",
     "text": [
      "\u001B[92mINFO \u001B[0m:      Starting Flower ServerApp, config: num_rounds=200, no round_timeout\n",
      "\u001B[92mINFO \u001B[0m:      \n",
      "\u001B[92mINFO \u001B[0m:      [INIT]\n",
      "\u001B[92mINFO \u001B[0m:      Using initial global parameters provided by strategy\n",
      "\u001B[92mINFO \u001B[0m:      Starting evaluation of initial global parameters\n"
     ]
    },
    {
     "name": "stdout",
     "output_type": "stream",
     "text": [
      "[Server Eval Round 0] Model device: cuda:0\n",
      "[Server Eval Round 0] CUDA available in server eval: True\n"
     ]
    },
    {
     "name": "stderr",
     "output_type": "stream",
     "text": [
      "Eval progress: 100%|██████████| 313/313 [00:41<00:00,  7.48batch/s]\n",
      "\u001B[92mINFO \u001B[0m:      [Round 0] Centralized Evaluation - Loss: 4.7842, Metrics: {'centralized_accuracy': 0.0075}\n",
      "\u001B[92mINFO \u001B[0m:      initial parameters (loss, other metrics): 4.784153261885476, {'centralized_accuracy': 0.0075}\n",
      "\u001B[92mINFO \u001B[0m:      \n",
      "\u001B[92mINFO \u001B[0m:      [ROUND 1]\n",
      "\u001B[92mINFO \u001B[0m:      configure_fit: strategy sampled 10 clients (out of 100)\n",
      "(ClientAppActor pid=8112) 2025-06-03 22:51:41.901 | INFO     | fl_g13.config:<module>:11 - PROJ_ROOT path is: C:\\Users\\ADMIN\\Desktop\\BACKUP\\study\\Italy\\polito\\classes\\20242\\deep learning\\project\\source_code\\fl-g13\n"
     ]
    },
    {
     "name": "stdout",
     "output_type": "stream",
     "text": [
      "(ClientAppActor pid=8112) [Client] Client on device: cuda:0\n",
      "(ClientAppActor pid=8112) [Client] CUDA available in client: True\n",
      "(ClientAppActor pid=8112) No prefix/name for the model was provided, choosen prefix/name: sleepy_arbok_83\n",
      "(ClientAppActor pid=8112) \n",
      "(ClientAppActor pid=8112) Step 1/4 | Total batches: 7\n",
      "(ClientAppActor pid=8112) Step 2/4 | Total batches: 7\n",
      "(ClientAppActor pid=8112) Step 3/4 | Total batches: 7\n",
      "(ClientAppActor pid=8112) Step 4/4 | Total batches: 7\n"
     ]
    },
    {
     "name": "stderr",
     "output_type": "stream",
     "text": [
      "(ClientAppActor pid=8112) C:\\Users\\ADMIN\\Desktop\\BACKUP\\study\\Italy\\polito\\classes\\20242\\deep learning\\project\\source_code\\fl-g13\\.venv\\lib\\site-packages\\torch\\optim\\lr_scheduler.py:217: UserWarning: Seems like `optimizer.step()` has been overridden after learning rate scheduler initialization. Please, make sure to call `optimizer.step()` before `lr_scheduler.step()`. See more details at https://pytorch.org/docs/stable/optim.html#how-to-adjust-learning-rate\n",
      "(ClientAppActor pid=8112)   warnings.warn(\n"
     ]
    },
    {
     "name": "stdout",
     "output_type": "stream",
     "text": [
      "(ClientAppActor pid=8112) 🚀 Epoch 1/8 (12.50%) Completed\n",
      "(ClientAppActor pid=8112) \t📊 Training Loss: 2.9998\n",
      "(ClientAppActor pid=8112) \t✅ Training Accuracy: 45.31%\n",
      "(ClientAppActor pid=8112) \t⏳ Elapsed Time: 2.75s | ETA: 19.22s\n",
      "(ClientAppActor pid=8112) \t🕒 Completed At: 22:52\n",
      "(ClientAppActor pid=8112) \n",
      "(ClientAppActor pid=8112) Step 1/4 | Total batches: 7\n",
      "(ClientAppActor pid=8112) Step 2/4 | Total batches: 7\n",
      "(ClientAppActor pid=8112) Step 3/4 | Total batches: 7\n",
      "(ClientAppActor pid=8112) Step 4/4 | Total batches: 7\n",
      "(ClientAppActor pid=8112) 🚀 Epoch 2/8 (25.00%) Completed\n",
      "(ClientAppActor pid=8112) \t📊 Training Loss: 0.0231\n",
      "(ClientAppActor pid=8112) \t✅ Training Accuracy: 100.00%\n",
      "(ClientAppActor pid=8112) \t⏳ Elapsed Time: 1.21s | ETA: 7.28s\n",
      "(ClientAppActor pid=8112) \t🕒 Completed At: 22:52\n",
      "(ClientAppActor pid=8112) \n",
      "(ClientAppActor pid=8112) Step 1/4 | Total batches: 7\n",
      "(ClientAppActor pid=8112) Step 2/4 | Total batches: 7\n",
      "(ClientAppActor pid=8112) Step 3/4 | Total batches: 7\n",
      "(ClientAppActor pid=8112) Step 4/4 | Total batches: 7\n",
      "(ClientAppActor pid=8112) 🚀 Epoch 3/8 (37.50%) Completed\n",
      "(ClientAppActor pid=8112) \t📊 Training Loss: 0.0000\n",
      "(ClientAppActor pid=8112) \t✅ Training Accuracy: 100.00%\n",
      "(ClientAppActor pid=8112) \t⏳ Elapsed Time: 1.17s | ETA: 5.84s\n",
      "(ClientAppActor pid=8112) \t🕒 Completed At: 22:52\n",
      "(ClientAppActor pid=8112) \n",
      "(ClientAppActor pid=8112) Step 1/4 | Total batches: 7\n",
      "(ClientAppActor pid=8112) Step 2/4 | Total batches: 7\n",
      "(ClientAppActor pid=8112) Step 3/4 | Total batches: 7\n",
      "(ClientAppActor pid=8112) Step 4/4 | Total batches: 7\n",
      "(ClientAppActor pid=8112) 🚀 Epoch 4/8 (50.00%) Completed\n",
      "(ClientAppActor pid=8112) \t📊 Training Loss: 0.0000\n",
      "(ClientAppActor pid=8112) \t✅ Training Accuracy: 100.00%\n",
      "(ClientAppActor pid=8112) \t⏳ Elapsed Time: 1.15s | ETA: 4.60s\n",
      "(ClientAppActor pid=8112) \t🕒 Completed At: 22:52\n",
      "(ClientAppActor pid=8112) \n",
      "(ClientAppActor pid=8112) Step 1/4 | Total batches: 7\n",
      "(ClientAppActor pid=8112) Step 2/4 | Total batches: 7\n",
      "(ClientAppActor pid=8112) Step 3/4 | Total batches: 7\n",
      "(ClientAppActor pid=8112) Step 4/4 | Total batches: 7\n",
      "(ClientAppActor pid=8112) 🚀 Epoch 5/8 (62.50%) Completed\n",
      "(ClientAppActor pid=8112) \t📊 Training Loss: 0.0000\n",
      "(ClientAppActor pid=8112) \t✅ Training Accuracy: 100.00%\n",
      "(ClientAppActor pid=8112) \t⏳ Elapsed Time: 1.15s | ETA: 3.44s\n",
      "(ClientAppActor pid=8112) \t🕒 Completed At: 22:52\n",
      "(ClientAppActor pid=8112) \n",
      "(ClientAppActor pid=8112) Step 1/4 | Total batches: 7\n",
      "(ClientAppActor pid=8112) Step 2/4 | Total batches: 7\n",
      "(ClientAppActor pid=8112) Step 3/4 | Total batches: 7\n",
      "(ClientAppActor pid=8112) Step 4/4 | Total batches: 7\n",
      "(ClientAppActor pid=8112) 🚀 Epoch 6/8 (75.00%) Completed\n",
      "(ClientAppActor pid=8112) \t📊 Training Loss: 0.0000\n",
      "(ClientAppActor pid=8112) \t✅ Training Accuracy: 100.00%\n",
      "(ClientAppActor pid=8112) \t⏳ Elapsed Time: 1.19s | ETA: 2.39s\n",
      "(ClientAppActor pid=8112) \t🕒 Completed At: 22:52\n",
      "(ClientAppActor pid=8112) \n",
      "(ClientAppActor pid=8112) Step 1/4 | Total batches: 7\n",
      "(ClientAppActor pid=8112) Step 2/4 | Total batches: 7\n",
      "(ClientAppActor pid=8112) Step 3/4 | Total batches: 7\n",
      "(ClientAppActor pid=8112) Step 4/4 | Total batches: 7\n",
      "(ClientAppActor pid=8112) 🚀 Epoch 7/8 (87.50%) Completed\n",
      "(ClientAppActor pid=8112) \t📊 Training Loss: 0.0000\n",
      "(ClientAppActor pid=8112) \t✅ Training Accuracy: 100.00%\n",
      "(ClientAppActor pid=8112) \t⏳ Elapsed Time: 1.15s | ETA: 1.15s\n",
      "(ClientAppActor pid=8112) \t🕒 Completed At: 22:52\n",
      "(ClientAppActor pid=8112) \n",
      "(ClientAppActor pid=8112) Step 1/4 | Total batches: 7\n",
      "(ClientAppActor pid=8112) Step 2/4 | Total batches: 7\n",
      "(ClientAppActor pid=8112) Step 3/4 | Total batches: 7\n",
      "(ClientAppActor pid=8112) Step 4/4 | Total batches: 7\n",
      "(ClientAppActor pid=8112) 🚀 Epoch 8/8 (100.00%) Completed\n",
      "(ClientAppActor pid=8112) \t📊 Training Loss: 0.0000\n",
      "(ClientAppActor pid=8112) \t✅ Training Accuracy: 100.00%\n",
      "(ClientAppActor pid=8112) \t⏳ Elapsed Time: 1.15s | ETA: 0.00s\n",
      "(ClientAppActor pid=8112) \t🕒 Completed At: 22:52\n",
      "(ClientAppActor pid=8112) \n",
      "(ClientAppActor pid=8112) [Client] Client on device: cuda:0\n",
      "(ClientAppActor pid=8112) [Client] CUDA available in client: True\n",
      "(ClientAppActor pid=8112) No prefix/name for the model was provided, choosen prefix/name: dorky_nidoking_21\n",
      "(ClientAppActor pid=8112) \n",
      "(ClientAppActor pid=8112) Step 1/4 | Total batches: 7\n",
      "(ClientAppActor pid=8112) Step 2/4 | Total batches: 7\n",
      "(ClientAppActor pid=8112) Step 3/4 | Total batches: 7\n",
      "(ClientAppActor pid=8112) Step 4/4 | Total batches: 7\n",
      "(ClientAppActor pid=8112) 🚀 Epoch 1/8 (12.50%) Completed\n",
      "(ClientAppActor pid=8112) \t📊 Training Loss: 2.2720\n",
      "(ClientAppActor pid=8112) \t✅ Training Accuracy: 57.03%\n",
      "(ClientAppActor pid=8112) \t⏳ Elapsed Time: 1.48s | ETA: 10.37s\n",
      "(ClientAppActor pid=8112) \t🕒 Completed At: 22:52\n",
      "(ClientAppActor pid=8112) \n",
      "(ClientAppActor pid=8112) Step 1/4 | Total batches: 7\n",
      "(ClientAppActor pid=8112) Step 2/4 | Total batches: 7\n",
      "(ClientAppActor pid=8112) Step 3/4 | Total batches: 7\n",
      "(ClientAppActor pid=8112) Step 4/4 | Total batches: 7\n",
      "(ClientAppActor pid=8112) 🚀 Epoch 2/8 (25.00%) Completed\n",
      "(ClientAppActor pid=8112) \t📊 Training Loss: 0.0043\n",
      "(ClientAppActor pid=8112) \t✅ Training Accuracy: 100.00%\n",
      "(ClientAppActor pid=8112) \t⏳ Elapsed Time: 1.18s | ETA: 7.05s\n",
      "(ClientAppActor pid=8112) \t🕒 Completed At: 22:52\n",
      "(ClientAppActor pid=8112) \n",
      "(ClientAppActor pid=8112) Step 1/4 | Total batches: 7\n",
      "(ClientAppActor pid=8112) Step 2/4 | Total batches: 7\n",
      "(ClientAppActor pid=8112) Step 3/4 | Total batches: 7\n",
      "(ClientAppActor pid=8112) Step 4/4 | Total batches: 7\n",
      "(ClientAppActor pid=8112) 🚀 Epoch 3/8 (37.50%) Completed\n",
      "(ClientAppActor pid=8112) \t📊 Training Loss: 0.0000\n",
      "(ClientAppActor pid=8112) \t✅ Training Accuracy: 100.00%\n",
      "(ClientAppActor pid=8112) \t⏳ Elapsed Time: 1.15s | ETA: 5.77s\n",
      "(ClientAppActor pid=8112) \t🕒 Completed At: 22:52\n",
      "(ClientAppActor pid=8112) \n",
      "(ClientAppActor pid=8112) Step 1/4 | Total batches: 7\n",
      "(ClientAppActor pid=8112) Step 2/4 | Total batches: 7\n",
      "(ClientAppActor pid=8112) Step 3/4 | Total batches: 7\n",
      "(ClientAppActor pid=8112) Step 4/4 | Total batches: 7\n",
      "(ClientAppActor pid=8112) 🚀 Epoch 4/8 (50.00%) Completed\n",
      "(ClientAppActor pid=8112) \t📊 Training Loss: 0.0000\n",
      "(ClientAppActor pid=8112) \t✅ Training Accuracy: 100.00%\n",
      "(ClientAppActor pid=8112) \t⏳ Elapsed Time: 1.23s | ETA: 4.93s\n",
      "(ClientAppActor pid=8112) \t🕒 Completed At: 22:52\n",
      "(ClientAppActor pid=8112) \n",
      "(ClientAppActor pid=8112) Step 1/4 | Total batches: 7\n",
      "(ClientAppActor pid=8112) Step 2/4 | Total batches: 7\n",
      "(ClientAppActor pid=8112) Step 3/4 | Total batches: 7\n",
      "(ClientAppActor pid=8112) Step 4/4 | Total batches: 7\n",
      "(ClientAppActor pid=8112) 🚀 Epoch 5/8 (62.50%) Completed\n",
      "(ClientAppActor pid=8112) \t📊 Training Loss: 0.0000\n",
      "(ClientAppActor pid=8112) \t✅ Training Accuracy: 100.00%\n",
      "(ClientAppActor pid=8112) \t⏳ Elapsed Time: 1.21s | ETA: 3.62s\n",
      "(ClientAppActor pid=8112) \t🕒 Completed At: 22:52\n",
      "(ClientAppActor pid=8112) \n",
      "(ClientAppActor pid=8112) Step 1/4 | Total batches: 7\n",
      "(ClientAppActor pid=8112) Step 2/4 | Total batches: 7\n",
      "(ClientAppActor pid=8112) Step 3/4 | Total batches: 7\n",
      "(ClientAppActor pid=8112) Step 4/4 | Total batches: 7\n",
      "(ClientAppActor pid=8112) 🚀 Epoch 6/8 (75.00%) Completed\n",
      "(ClientAppActor pid=8112) \t📊 Training Loss: 0.0000\n",
      "(ClientAppActor pid=8112) \t✅ Training Accuracy: 100.00%\n",
      "(ClientAppActor pid=8112) \t⏳ Elapsed Time: 1.42s | ETA: 2.83s\n",
      "(ClientAppActor pid=8112) \t🕒 Completed At: 22:52\n",
      "(ClientAppActor pid=8112) \n",
      "(ClientAppActor pid=8112) Step 1/4 | Total batches: 7\n",
      "(ClientAppActor pid=8112) Step 2/4 | Total batches: 7\n",
      "(ClientAppActor pid=8112) Step 3/4 | Total batches: 7\n",
      "(ClientAppActor pid=8112) Step 4/4 | Total batches: 7\n",
      "(ClientAppActor pid=8112) 🚀 Epoch 7/8 (87.50%) Completed\n",
      "(ClientAppActor pid=8112) \t📊 Training Loss: 0.0000\n",
      "(ClientAppActor pid=8112) \t✅ Training Accuracy: 100.00%\n",
      "(ClientAppActor pid=8112) \t⏳ Elapsed Time: 1.21s | ETA: 1.21s\n",
      "(ClientAppActor pid=8112) \t🕒 Completed At: 22:52\n",
      "(ClientAppActor pid=8112) \n",
      "(ClientAppActor pid=8112) Step 1/4 | Total batches: 7\n",
      "(ClientAppActor pid=8112) Step 2/4 | Total batches: 7\n",
      "(ClientAppActor pid=8112) Step 3/4 | Total batches: 7\n",
      "(ClientAppActor pid=8112) Step 4/4 | Total batches: 7\n",
      "(ClientAppActor pid=8112) 🚀 Epoch 8/8 (100.00%) Completed\n",
      "(ClientAppActor pid=8112) \t📊 Training Loss: 0.0000\n",
      "(ClientAppActor pid=8112) \t✅ Training Accuracy: 100.00%\n",
      "(ClientAppActor pid=8112) \t⏳ Elapsed Time: 1.24s | ETA: 0.00s\n",
      "(ClientAppActor pid=8112) \t🕒 Completed At: 22:52\n",
      "(ClientAppActor pid=8112) \n",
      "(ClientAppActor pid=8112) [Client] Client on device: cuda:0\n",
      "(ClientAppActor pid=8112) [Client] CUDA available in client: True\n",
      "(ClientAppActor pid=8112) No prefix/name for the model was provided, choosen prefix/name: snazzy_kakuna_97\n",
      "(ClientAppActor pid=8112) \n",
      "(ClientAppActor pid=8112) Step 1/4 | Total batches: 7\n",
      "(ClientAppActor pid=8112) Step 2/4 | Total batches: 7\n",
      "(ClientAppActor pid=8112) Step 3/4 | Total batches: 7\n",
      "(ClientAppActor pid=8112) Step 4/4 | Total batches: 7\n",
      "(ClientAppActor pid=8112) 🚀 Epoch 1/8 (12.50%) Completed\n",
      "(ClientAppActor pid=8112) \t📊 Training Loss: 2.5893\n",
      "(ClientAppActor pid=8112) \t✅ Training Accuracy: 54.69%\n",
      "(ClientAppActor pid=8112) \t⏳ Elapsed Time: 1.35s | ETA: 9.46s\n",
      "(ClientAppActor pid=8112) \t🕒 Completed At: 22:52\n",
      "(ClientAppActor pid=8112) \n",
      "(ClientAppActor pid=8112) Step 1/4 | Total batches: 7\n",
      "(ClientAppActor pid=8112) Step 2/4 | Total batches: 7\n",
      "(ClientAppActor pid=8112) Step 3/4 | Total batches: 7\n",
      "(ClientAppActor pid=8112) Step 4/4 | Total batches: 7\n",
      "(ClientAppActor pid=8112) 🚀 Epoch 2/8 (25.00%) Completed\n",
      "(ClientAppActor pid=8112) \t📊 Training Loss: 0.0076\n",
      "(ClientAppActor pid=8112) \t✅ Training Accuracy: 100.00%\n",
      "(ClientAppActor pid=8112) \t⏳ Elapsed Time: 1.25s | ETA: 7.47s\n",
      "(ClientAppActor pid=8112) \t🕒 Completed At: 22:52\n",
      "(ClientAppActor pid=8112) \n",
      "(ClientAppActor pid=8112) Step 1/4 | Total batches: 7\n",
      "(ClientAppActor pid=8112) Step 2/4 | Total batches: 7\n",
      "(ClientAppActor pid=8112) Step 3/4 | Total batches: 7\n",
      "(ClientAppActor pid=8112) Step 4/4 | Total batches: 7\n",
      "(ClientAppActor pid=8112) 🚀 Epoch 3/8 (37.50%) Completed\n",
      "(ClientAppActor pid=8112) \t📊 Training Loss: 0.0000\n",
      "(ClientAppActor pid=8112) \t✅ Training Accuracy: 100.00%\n",
      "(ClientAppActor pid=8112) \t⏳ Elapsed Time: 1.26s | ETA: 6.28s\n",
      "(ClientAppActor pid=8112) \t🕒 Completed At: 22:52\n",
      "(ClientAppActor pid=8112) \n",
      "(ClientAppActor pid=8112) Step 1/4 | Total batches: 7\n",
      "(ClientAppActor pid=8112) Step 2/4 | Total batches: 7\n",
      "(ClientAppActor pid=8112) Step 3/4 | Total batches: 7\n",
      "(ClientAppActor pid=8112) Step 4/4 | Total batches: 7\n",
      "(ClientAppActor pid=8112) 🚀 Epoch 4/8 (50.00%) Completed\n",
      "(ClientAppActor pid=8112) \t📊 Training Loss: 0.0000\n",
      "(ClientAppActor pid=8112) \t✅ Training Accuracy: 100.00%\n",
      "(ClientAppActor pid=8112) \t⏳ Elapsed Time: 1.17s | ETA: 4.68s\n",
      "(ClientAppActor pid=8112) \t🕒 Completed At: 22:52\n",
      "(ClientAppActor pid=8112) \n",
      "(ClientAppActor pid=8112) Step 1/4 | Total batches: 7\n",
      "(ClientAppActor pid=8112) Step 2/4 | Total batches: 7\n",
      "(ClientAppActor pid=8112) Step 3/4 | Total batches: 7\n",
      "(ClientAppActor pid=8112) Step 4/4 | Total batches: 7\n",
      "(ClientAppActor pid=8112) 🚀 Epoch 5/8 (62.50%) Completed\n",
      "(ClientAppActor pid=8112) \t📊 Training Loss: 0.0000\n",
      "(ClientAppActor pid=8112) \t✅ Training Accuracy: 100.00%\n",
      "(ClientAppActor pid=8112) \t⏳ Elapsed Time: 1.25s | ETA: 3.75s\n",
      "(ClientAppActor pid=8112) \t🕒 Completed At: 22:52\n",
      "(ClientAppActor pid=8112) \n",
      "(ClientAppActor pid=8112) Step 1/4 | Total batches: 7\n",
      "(ClientAppActor pid=8112) Step 2/4 | Total batches: 7\n",
      "(ClientAppActor pid=8112) Step 3/4 | Total batches: 7\n",
      "(ClientAppActor pid=8112) Step 4/4 | Total batches: 7\n",
      "(ClientAppActor pid=8112) 🚀 Epoch 6/8 (75.00%) Completed\n",
      "(ClientAppActor pid=8112) \t📊 Training Loss: 0.0000\n",
      "(ClientAppActor pid=8112) \t✅ Training Accuracy: 100.00%\n",
      "(ClientAppActor pid=8112) \t⏳ Elapsed Time: 1.21s | ETA: 2.42s\n",
      "(ClientAppActor pid=8112) \t🕒 Completed At: 22:52\n",
      "(ClientAppActor pid=8112) \n",
      "(ClientAppActor pid=8112) Step 1/4 | Total batches: 7\n",
      "(ClientAppActor pid=8112) Step 2/4 | Total batches: 7\n",
      "(ClientAppActor pid=8112) Step 3/4 | Total batches: 7\n",
      "(ClientAppActor pid=8112) Step 4/4 | Total batches: 7\n",
      "(ClientAppActor pid=8112) 🚀 Epoch 7/8 (87.50%) Completed\n",
      "(ClientAppActor pid=8112) \t📊 Training Loss: 0.0000\n",
      "(ClientAppActor pid=8112) \t✅ Training Accuracy: 100.00%\n",
      "(ClientAppActor pid=8112) \t⏳ Elapsed Time: 1.30s | ETA: 1.30s\n",
      "(ClientAppActor pid=8112) \t🕒 Completed At: 22:52\n",
      "(ClientAppActor pid=8112) \n",
      "(ClientAppActor pid=8112) Step 1/4 | Total batches: 7\n",
      "(ClientAppActor pid=8112) Step 2/4 | Total batches: 7\n",
      "(ClientAppActor pid=8112) Step 3/4 | Total batches: 7\n",
      "(ClientAppActor pid=8112) Step 4/4 | Total batches: 7\n",
      "(ClientAppActor pid=8112) 🚀 Epoch 8/8 (100.00%) Completed\n",
      "(ClientAppActor pid=8112) \t📊 Training Loss: 0.0000\n",
      "(ClientAppActor pid=8112) \t✅ Training Accuracy: 100.00%\n",
      "(ClientAppActor pid=8112) \t⏳ Elapsed Time: 1.20s | ETA: 0.00s\n",
      "(ClientAppActor pid=8112) \t🕒 Completed At: 22:52\n",
      "(ClientAppActor pid=8112) \n",
      "(ClientAppActor pid=8112) [Client] Client on device: cuda:0\n",
      "(ClientAppActor pid=8112) [Client] CUDA available in client: True\n",
      "(ClientAppActor pid=8112) No prefix/name for the model was provided, choosen prefix/name: fluffy_ekans_78\n",
      "(ClientAppActor pid=8112) \n",
      "(ClientAppActor pid=8112) Step 1/4 | Total batches: 7\n",
      "(ClientAppActor pid=8112) Step 2/4 | Total batches: 7\n",
      "(ClientAppActor pid=8112) Step 3/4 | Total batches: 7\n",
      "(ClientAppActor pid=8112) Step 4/4 | Total batches: 7\n",
      "(ClientAppActor pid=8112) 🚀 Epoch 1/8 (12.50%) Completed\n",
      "(ClientAppActor pid=8112) \t📊 Training Loss: 3.1387\n",
      "(ClientAppActor pid=8112) \t✅ Training Accuracy: 45.70%\n",
      "(ClientAppActor pid=8112) \t⏳ Elapsed Time: 1.41s | ETA: 9.89s\n",
      "(ClientAppActor pid=8112) \t🕒 Completed At: 22:52\n",
      "(ClientAppActor pid=8112) \n",
      "(ClientAppActor pid=8112) Step 1/4 | Total batches: 7\n",
      "(ClientAppActor pid=8112) Step 2/4 | Total batches: 7\n",
      "(ClientAppActor pid=8112) Step 3/4 | Total batches: 7\n",
      "(ClientAppActor pid=8112) Step 4/4 | Total batches: 7\n",
      "(ClientAppActor pid=8112) 🚀 Epoch 2/8 (25.00%) Completed\n",
      "(ClientAppActor pid=8112) \t📊 Training Loss: 0.0073\n",
      "(ClientAppActor pid=8112) \t✅ Training Accuracy: 100.00%\n",
      "(ClientAppActor pid=8112) \t⏳ Elapsed Time: 1.29s | ETA: 7.74s\n",
      "(ClientAppActor pid=8112) \t🕒 Completed At: 22:52\n",
      "(ClientAppActor pid=8112) \n",
      "(ClientAppActor pid=8112) Step 1/4 | Total batches: 7\n",
      "(ClientAppActor pid=8112) Step 2/4 | Total batches: 7\n",
      "(ClientAppActor pid=8112) Step 3/4 | Total batches: 7\n",
      "(ClientAppActor pid=8112) Step 4/4 | Total batches: 7\n",
      "(ClientAppActor pid=8112) 🚀 Epoch 3/8 (37.50%) Completed\n",
      "(ClientAppActor pid=8112) \t📊 Training Loss: 0.0000\n",
      "(ClientAppActor pid=8112) \t✅ Training Accuracy: 100.00%\n",
      "(ClientAppActor pid=8112) \t⏳ Elapsed Time: 1.24s | ETA: 6.21s\n",
      "(ClientAppActor pid=8112) \t🕒 Completed At: 22:52\n",
      "(ClientAppActor pid=8112) \n",
      "(ClientAppActor pid=8112) Step 1/4 | Total batches: 7\n",
      "(ClientAppActor pid=8112) Step 2/4 | Total batches: 7\n",
      "(ClientAppActor pid=8112) Step 3/4 | Total batches: 7\n",
      "(ClientAppActor pid=8112) Step 4/4 | Total batches: 7\n",
      "(ClientAppActor pid=8112) 🚀 Epoch 4/8 (50.00%) Completed\n",
      "(ClientAppActor pid=8112) \t📊 Training Loss: 0.0000\n",
      "(ClientAppActor pid=8112) \t✅ Training Accuracy: 100.00%\n",
      "(ClientAppActor pid=8112) \t⏳ Elapsed Time: 1.22s | ETA: 4.89s\n",
      "(ClientAppActor pid=8112) \t🕒 Completed At: 22:52\n",
      "(ClientAppActor pid=8112) \n",
      "(ClientAppActor pid=8112) Step 1/4 | Total batches: 7\n",
      "(ClientAppActor pid=8112) Step 2/4 | Total batches: 7\n",
      "(ClientAppActor pid=8112) Step 3/4 | Total batches: 7\n",
      "(ClientAppActor pid=8112) Step 4/4 | Total batches: 7\n",
      "(ClientAppActor pid=8112) 🚀 Epoch 5/8 (62.50%) Completed\n",
      "(ClientAppActor pid=8112) \t📊 Training Loss: 0.0000\n",
      "(ClientAppActor pid=8112) \t✅ Training Accuracy: 100.00%\n",
      "(ClientAppActor pid=8112) \t⏳ Elapsed Time: 1.24s | ETA: 3.73s\n",
      "(ClientAppActor pid=8112) \t🕒 Completed At: 22:52\n",
      "(ClientAppActor pid=8112) \n",
      "(ClientAppActor pid=8112) Step 1/4 | Total batches: 7\n",
      "(ClientAppActor pid=8112) Step 2/4 | Total batches: 7\n",
      "(ClientAppActor pid=8112) Step 3/4 | Total batches: 7\n",
      "(ClientAppActor pid=8112) Step 4/4 | Total batches: 7\n",
      "(ClientAppActor pid=8112) 🚀 Epoch 6/8 (75.00%) Completed\n",
      "(ClientAppActor pid=8112) \t📊 Training Loss: 0.0000\n",
      "(ClientAppActor pid=8112) \t✅ Training Accuracy: 100.00%\n",
      "(ClientAppActor pid=8112) \t⏳ Elapsed Time: 1.24s | ETA: 2.48s\n",
      "(ClientAppActor pid=8112) \t🕒 Completed At: 22:52\n",
      "(ClientAppActor pid=8112) \n",
      "(ClientAppActor pid=8112) Step 1/4 | Total batches: 7\n",
      "(ClientAppActor pid=8112) Step 2/4 | Total batches: 7\n",
      "(ClientAppActor pid=8112) Step 3/4 | Total batches: 7\n",
      "(ClientAppActor pid=8112) Step 4/4 | Total batches: 7\n",
      "(ClientAppActor pid=8112) 🚀 Epoch 7/8 (87.50%) Completed\n",
      "(ClientAppActor pid=8112) \t📊 Training Loss: 0.0000\n",
      "(ClientAppActor pid=8112) \t✅ Training Accuracy: 100.00%\n",
      "(ClientAppActor pid=8112) \t⏳ Elapsed Time: 1.15s | ETA: 1.15s\n",
      "(ClientAppActor pid=8112) \t🕒 Completed At: 22:52\n",
      "(ClientAppActor pid=8112) \n",
      "(ClientAppActor pid=8112) Step 1/4 | Total batches: 7\n",
      "(ClientAppActor pid=8112) Step 2/4 | Total batches: 7\n",
      "(ClientAppActor pid=8112) Step 3/4 | Total batches: 7\n",
      "(ClientAppActor pid=8112) Step 4/4 | Total batches: 7\n",
      "(ClientAppActor pid=8112) 🚀 Epoch 8/8 (100.00%) Completed\n",
      "(ClientAppActor pid=8112) \t📊 Training Loss: 0.0000\n",
      "(ClientAppActor pid=8112) \t✅ Training Accuracy: 100.00%\n",
      "(ClientAppActor pid=8112) \t⏳ Elapsed Time: 1.20s | ETA: 0.00s\n",
      "(ClientAppActor pid=8112) \t🕒 Completed At: 22:52\n",
      "(ClientAppActor pid=8112) \n",
      "(ClientAppActor pid=8112) [Client] Client on device: cuda:0\n",
      "(ClientAppActor pid=8112) [Client] CUDA available in client: True\n",
      "(ClientAppActor pid=8112) No prefix/name for the model was provided, choosen prefix/name: itchy_pikachu_17\n",
      "(ClientAppActor pid=8112) \n",
      "(ClientAppActor pid=8112) Step 1/4 | Total batches: 7\n",
      "(ClientAppActor pid=8112) Step 2/4 | Total batches: 7\n",
      "(ClientAppActor pid=8112) Step 3/4 | Total batches: 7\n",
      "(ClientAppActor pid=8112) Step 4/4 | Total batches: 7\n",
      "(ClientAppActor pid=8112) 🚀 Epoch 1/8 (12.50%) Completed\n",
      "(ClientAppActor pid=8112) \t📊 Training Loss: 2.7018\n",
      "(ClientAppActor pid=8112) \t✅ Training Accuracy: 52.34%\n",
      "(ClientAppActor pid=8112) \t⏳ Elapsed Time: 1.33s | ETA: 9.30s\n",
      "(ClientAppActor pid=8112) \t🕒 Completed At: 22:52\n",
      "(ClientAppActor pid=8112) \n",
      "(ClientAppActor pid=8112) Step 1/4 | Total batches: 7\n",
      "(ClientAppActor pid=8112) Step 2/4 | Total batches: 7\n",
      "(ClientAppActor pid=8112) Step 3/4 | Total batches: 7\n",
      "(ClientAppActor pid=8112) Step 4/4 | Total batches: 7\n",
      "(ClientAppActor pid=8112) 🚀 Epoch 2/8 (25.00%) Completed\n",
      "(ClientAppActor pid=8112) \t📊 Training Loss: 0.0053\n",
      "(ClientAppActor pid=8112) \t✅ Training Accuracy: 100.00%\n",
      "(ClientAppActor pid=8112) \t⏳ Elapsed Time: 1.20s | ETA: 7.18s\n",
      "(ClientAppActor pid=8112) \t🕒 Completed At: 22:52\n",
      "(ClientAppActor pid=8112) \n",
      "(ClientAppActor pid=8112) Step 1/4 | Total batches: 7\n",
      "(ClientAppActor pid=8112) Step 2/4 | Total batches: 7\n",
      "(ClientAppActor pid=8112) Step 3/4 | Total batches: 7\n",
      "(ClientAppActor pid=8112) Step 4/4 | Total batches: 7\n",
      "(ClientAppActor pid=8112) 🚀 Epoch 3/8 (37.50%) Completed\n",
      "(ClientAppActor pid=8112) \t📊 Training Loss: 0.0000\n",
      "(ClientAppActor pid=8112) \t✅ Training Accuracy: 100.00%\n",
      "(ClientAppActor pid=8112) \t⏳ Elapsed Time: 1.22s | ETA: 6.11s\n",
      "(ClientAppActor pid=8112) \t🕒 Completed At: 22:52\n",
      "(ClientAppActor pid=8112) \n",
      "(ClientAppActor pid=8112) Step 1/4 | Total batches: 7\n",
      "(ClientAppActor pid=8112) Step 2/4 | Total batches: 7\n",
      "(ClientAppActor pid=8112) Step 3/4 | Total batches: 7\n",
      "(ClientAppActor pid=8112) Step 4/4 | Total batches: 7\n",
      "(ClientAppActor pid=8112) 🚀 Epoch 4/8 (50.00%) Completed\n",
      "(ClientAppActor pid=8112) \t📊 Training Loss: 0.0000\n",
      "(ClientAppActor pid=8112) \t✅ Training Accuracy: 100.00%\n",
      "(ClientAppActor pid=8112) \t⏳ Elapsed Time: 1.18s | ETA: 4.71s\n",
      "(ClientAppActor pid=8112) \t🕒 Completed At: 22:52\n",
      "(ClientAppActor pid=8112) \n",
      "(ClientAppActor pid=8112) Step 1/4 | Total batches: 7\n",
      "(ClientAppActor pid=8112) Step 2/4 | Total batches: 7\n",
      "(ClientAppActor pid=8112) Step 3/4 | Total batches: 7\n",
      "(ClientAppActor pid=8112) Step 4/4 | Total batches: 7\n",
      "(ClientAppActor pid=8112) 🚀 Epoch 5/8 (62.50%) Completed\n",
      "(ClientAppActor pid=8112) \t📊 Training Loss: 0.0000\n",
      "(ClientAppActor pid=8112) \t✅ Training Accuracy: 100.00%\n",
      "(ClientAppActor pid=8112) \t⏳ Elapsed Time: 1.18s | ETA: 3.55s\n",
      "(ClientAppActor pid=8112) \t🕒 Completed At: 22:52\n",
      "(ClientAppActor pid=8112) \n",
      "(ClientAppActor pid=8112) Step 1/4 | Total batches: 7\n",
      "(ClientAppActor pid=8112) Step 2/4 | Total batches: 7\n",
      "(ClientAppActor pid=8112) Step 3/4 | Total batches: 7\n",
      "(ClientAppActor pid=8112) Step 4/4 | Total batches: 7\n",
      "(ClientAppActor pid=8112) 🚀 Epoch 6/8 (75.00%) Completed\n",
      "(ClientAppActor pid=8112) \t📊 Training Loss: 0.0000\n",
      "(ClientAppActor pid=8112) \t✅ Training Accuracy: 100.00%\n",
      "(ClientAppActor pid=8112) \t⏳ Elapsed Time: 1.22s | ETA: 2.43s\n",
      "(ClientAppActor pid=8112) \t🕒 Completed At: 22:52\n",
      "(ClientAppActor pid=8112) \n",
      "(ClientAppActor pid=8112) Step 1/4 | Total batches: 7\n",
      "(ClientAppActor pid=8112) Step 2/4 | Total batches: 7\n",
      "(ClientAppActor pid=8112) Step 3/4 | Total batches: 7\n",
      "(ClientAppActor pid=8112) Step 4/4 | Total batches: 7\n",
      "(ClientAppActor pid=8112) 🚀 Epoch 7/8 (87.50%) Completed\n",
      "(ClientAppActor pid=8112) \t📊 Training Loss: 0.0000\n",
      "(ClientAppActor pid=8112) \t✅ Training Accuracy: 100.00%\n",
      "(ClientAppActor pid=8112) \t⏳ Elapsed Time: 1.21s | ETA: 1.21s\n",
      "(ClientAppActor pid=8112) \t🕒 Completed At: 22:52\n",
      "(ClientAppActor pid=8112) \n",
      "(ClientAppActor pid=8112) Step 1/4 | Total batches: 7\n",
      "(ClientAppActor pid=8112) Step 2/4 | Total batches: 7\n",
      "(ClientAppActor pid=8112) Step 3/4 | Total batches: 7\n",
      "(ClientAppActor pid=8112) Step 4/4 | Total batches: 7\n",
      "(ClientAppActor pid=8112) 🚀 Epoch 8/8 (100.00%) Completed\n",
      "(ClientAppActor pid=8112) \t📊 Training Loss: 0.0000\n",
      "(ClientAppActor pid=8112) \t✅ Training Accuracy: 100.00%\n",
      "(ClientAppActor pid=8112) \t⏳ Elapsed Time: 1.23s | ETA: 0.00s\n",
      "(ClientAppActor pid=8112) \t🕒 Completed At: 22:52\n",
      "(ClientAppActor pid=8112) \n",
      "(ClientAppActor pid=8112) [Client] Client on device: cuda:0\n",
      "(ClientAppActor pid=8112) [Client] CUDA available in client: True\n",
      "(ClientAppActor pid=8112) No prefix/name for the model was provided, choosen prefix/name: spunky_squirtle_66\n",
      "(ClientAppActor pid=8112) \n",
      "(ClientAppActor pid=8112) Step 1/4 | Total batches: 7\n",
      "(ClientAppActor pid=8112) Step 2/4 | Total batches: 7\n",
      "(ClientAppActor pid=8112) Step 3/4 | Total batches: 7\n",
      "(ClientAppActor pid=8112) Step 4/4 | Total batches: 7\n",
      "(ClientAppActor pid=8112) 🚀 Epoch 1/8 (12.50%) Completed\n",
      "(ClientAppActor pid=8112) \t📊 Training Loss: 3.0067\n",
      "(ClientAppActor pid=8112) \t✅ Training Accuracy: 47.66%\n",
      "(ClientAppActor pid=8112) \t⏳ Elapsed Time: 1.27s | ETA: 8.86s\n",
      "(ClientAppActor pid=8112) \t🕒 Completed At: 22:53\n",
      "(ClientAppActor pid=8112) \n",
      "(ClientAppActor pid=8112) Step 1/4 | Total batches: 7\n",
      "(ClientAppActor pid=8112) Step 2/4 | Total batches: 7\n",
      "(ClientAppActor pid=8112) Step 3/4 | Total batches: 7\n",
      "(ClientAppActor pid=8112) Step 4/4 | Total batches: 7\n",
      "(ClientAppActor pid=8112) 🚀 Epoch 2/8 (25.00%) Completed\n",
      "(ClientAppActor pid=8112) \t📊 Training Loss: 0.0124\n",
      "(ClientAppActor pid=8112) \t✅ Training Accuracy: 100.00%\n",
      "(ClientAppActor pid=8112) \t⏳ Elapsed Time: 1.18s | ETA: 7.08s\n",
      "(ClientAppActor pid=8112) \t🕒 Completed At: 22:53\n",
      "(ClientAppActor pid=8112) \n",
      "(ClientAppActor pid=8112) Step 1/4 | Total batches: 7\n",
      "(ClientAppActor pid=8112) Step 2/4 | Total batches: 7\n",
      "(ClientAppActor pid=8112) Step 3/4 | Total batches: 7\n"
     ]
    },
    {
     "name": "stderr",
     "output_type": "stream",
     "text": [
      "\u001B[91mERROR \u001B[0m:     An exception was raised when processing a message by RayBackend\n",
      "\u001B[91mERROR \u001B[0m:     The actor 27e1718be09491861a618ae201000000 is unavailable: The actor is temporarily unavailable: RpcError: RPC Error message: Connection reset; RPC Error details: . The task may or maynot have been executed on the actor.\n",
      "\u001B[91mERROR \u001B[0m:     Traceback (most recent call last):\n",
      "  File \"C:\\Users\\ADMIN\\Desktop\\BACKUP\\study\\Italy\\polito\\classes\\20242\\deep learning\\project\\source_code\\fl-g13\\.venv\\lib\\site-packages\\flwr\\server\\superlink\\fleet\\vce\\vce_api.py\", line 111, in worker\n",
      "    out_mssg, updated_context = backend.process_message(message, context)\n",
      "  File \"C:\\Users\\ADMIN\\Desktop\\BACKUP\\study\\Italy\\polito\\classes\\20242\\deep learning\\project\\source_code\\fl-g13\\.venv\\lib\\site-packages\\flwr\\server\\superlink\\fleet\\vce\\backend\\raybackend.py\", line 187, in process_message\n",
      "    raise ex\n",
      "  File \"C:\\Users\\ADMIN\\Desktop\\BACKUP\\study\\Italy\\polito\\classes\\20242\\deep learning\\project\\source_code\\fl-g13\\.venv\\lib\\site-packages\\flwr\\server\\superlink\\fleet\\vce\\backend\\raybackend.py\", line 175, in process_message\n",
      "    ) = self.pool.fetch_result_and_return_actor_to_pool(future)\n",
      "  File \"C:\\Users\\ADMIN\\Desktop\\BACKUP\\study\\Italy\\polito\\classes\\20242\\deep learning\\project\\source_code\\fl-g13\\.venv\\lib\\site-packages\\flwr\\simulation\\ray_transport\\ray_actor.py\", line 480, in fetch_result_and_return_actor_to_pool\n",
      "    _, out_mssg, updated_context = ray.get(future)\n",
      "  File \"C:\\Users\\ADMIN\\Desktop\\BACKUP\\study\\Italy\\polito\\classes\\20242\\deep learning\\project\\source_code\\fl-g13\\.venv\\lib\\site-packages\\ray\\_private\\auto_init_hook.py\", line 21, in auto_init_wrapper\n",
      "    return fn(*args, **kwargs)\n",
      "  File \"C:\\Users\\ADMIN\\Desktop\\BACKUP\\study\\Italy\\polito\\classes\\20242\\deep learning\\project\\source_code\\fl-g13\\.venv\\lib\\site-packages\\ray\\_private\\client_mode_hook.py\", line 103, in wrapper\n",
      "    return func(*args, **kwargs)\n",
      "  File \"C:\\Users\\ADMIN\\Desktop\\BACKUP\\study\\Italy\\polito\\classes\\20242\\deep learning\\project\\source_code\\fl-g13\\.venv\\lib\\site-packages\\ray\\_private\\worker.py\", line 2639, in get\n",
      "    values, debugger_breakpoint = worker.get_objects(object_refs, timeout=timeout)\n",
      "  File \"C:\\Users\\ADMIN\\Desktop\\BACKUP\\study\\Italy\\polito\\classes\\20242\\deep learning\\project\\source_code\\fl-g13\\.venv\\lib\\site-packages\\ray\\_private\\worker.py\", line 866, in get_objects\n",
      "    raise value\n",
      "ray.exceptions.ActorUnavailableError: The actor 27e1718be09491861a618ae201000000 is unavailable: The actor is temporarily unavailable: RpcError: RPC Error message: Connection reset; RPC Error details: . The task may or maynot have been executed on the actor.\n",
      "\n",
      "\u001B[91mERROR \u001B[0m:     An exception was raised when processing a message by RayBackend\n",
      "\u001B[91mERROR \u001B[0m:     local variable 'future' referenced before assignment\n",
      "\u001B[91mERROR \u001B[0m:     Traceback (most recent call last):\n",
      "  File \"C:\\Users\\ADMIN\\Desktop\\BACKUP\\study\\Italy\\polito\\classes\\20242\\deep learning\\project\\source_code\\fl-g13\\.venv\\lib\\site-packages\\flwr\\server\\superlink\\fleet\\vce\\backend\\raybackend.py\", line 166, in process_message\n",
      "    future = self.pool.submit(\n",
      "  File \"C:\\Users\\ADMIN\\Desktop\\BACKUP\\study\\Italy\\polito\\classes\\20242\\deep learning\\project\\source_code\\fl-g13\\.venv\\lib\\site-packages\\flwr\\simulation\\ray_transport\\ray_actor.py\", line 463, in submit\n",
      "    future = actor_fn(actor, app_fn, mssg, cid, context)\n",
      "  File \"C:\\Users\\ADMIN\\Desktop\\BACKUP\\study\\Italy\\polito\\classes\\20242\\deep learning\\project\\source_code\\fl-g13\\.venv\\lib\\site-packages\\flwr\\server\\superlink\\fleet\\vce\\backend\\raybackend.py\", line 167, in <lambda>\n",
      "    lambda a, a_fn, mssg, cid, state: a.run.remote(a_fn, mssg, cid, state),\n",
      "  File \"C:\\Users\\ADMIN\\Desktop\\BACKUP\\study\\Italy\\polito\\classes\\20242\\deep learning\\project\\source_code\\fl-g13\\.venv\\lib\\site-packages\\ray\\actor.py\", line 202, in remote\n",
      "    return self._remote(args, kwargs)\n",
      "  File \"C:\\Users\\ADMIN\\Desktop\\BACKUP\\study\\Italy\\polito\\classes\\20242\\deep learning\\project\\source_code\\fl-g13\\.venv\\lib\\site-packages\\ray\\_private\\auto_init_hook.py\", line 21, in auto_init_wrapper\n",
      "    return fn(*args, **kwargs)\n",
      "  File \"C:\\Users\\ADMIN\\Desktop\\BACKUP\\study\\Italy\\polito\\classes\\20242\\deep learning\\project\\source_code\\fl-g13\\.venv\\lib\\site-packages\\ray\\util\\tracing\\tracing_helper.py\", line 426, in _start_span\n",
      "    return method(self, args, kwargs, *_args, **_kwargs)\n",
      "  File \"C:\\Users\\ADMIN\\Desktop\\BACKUP\\study\\Italy\\polito\\classes\\20242\\deep learning\\project\\source_code\\fl-g13\\.venv\\lib\\site-packages\\ray\\actor.py\", line 330, in _remote\n",
      "    return invocation(args, kwargs)\n",
      "  File \"C:\\Users\\ADMIN\\Desktop\\BACKUP\\study\\Italy\\polito\\classes\\20242\\deep learning\\project\\source_code\\fl-g13\\.venv\\lib\\site-packages\\ray\\actor.py\", line 311, in invocation\n",
      "    return actor._actor_method_call(\n",
      "  File \"C:\\Users\\ADMIN\\Desktop\\BACKUP\\study\\Italy\\polito\\classes\\20242\\deep learning\\project\\source_code\\fl-g13\\.venv\\lib\\site-packages\\ray\\actor.py\", line 1463, in _actor_method_call\n",
      "    object_refs = worker.core_worker.submit_actor_task(\n",
      "  File \"python\\ray\\_raylet.pyx\", line 4250, in ray._raylet.CoreWorker.submit_actor_task\n",
      "  File \"python\\ray\\_raylet.pyx\", line 4255, in ray._raylet.CoreWorker.submit_actor_task\n",
      "  File \"python\\ray\\_raylet.pyx\", line 871, in ray._raylet.prepare_args_and_increment_put_refs\n",
      "  File \"python\\ray\\_raylet.pyx\", line 862, in ray._raylet.prepare_args_and_increment_put_refs\n",
      "  File \"python\\ray\\_raylet.pyx\", line 959, in ray._raylet.prepare_args_internal\n",
      "  File \"python\\ray\\_raylet.pyx\", line 3758, in ray._raylet.CoreWorker.put_serialized_object_and_increment_local_ref\n",
      "  File \"python\\ray\\_raylet.pyx\", line 3547, in ray._raylet.CoreWorker._create_put_buffer\n",
      "  File \"python\\ray\\_raylet.pyx\", line 581, in ray._raylet.check_status\n",
      "OSError: Unknown error\n",
      "\n",
      "During handling of the above exception, another exception occurred:\n",
      "\n",
      "Traceback (most recent call last):\n",
      "  File \"C:\\Users\\ADMIN\\Desktop\\BACKUP\\study\\Italy\\polito\\classes\\20242\\deep learning\\project\\source_code\\fl-g13\\.venv\\lib\\site-packages\\flwr\\server\\superlink\\fleet\\vce\\vce_api.py\", line 111, in worker\n",
      "    out_mssg, updated_context = backend.process_message(message, context)\n",
      "  File \"C:\\Users\\ADMIN\\Desktop\\BACKUP\\study\\Italy\\polito\\classes\\20242\\deep learning\\project\\source_code\\fl-g13\\.venv\\lib\\site-packages\\flwr\\server\\superlink\\fleet\\vce\\backend\\raybackend.py\", line 186, in process_message\n",
      "    self.pool.add_actor_back_to_pool(future)\n",
      "UnboundLocalError: local variable 'future' referenced before assignment\n",
      "\n",
      "\u001B[91mERROR \u001B[0m:     An exception was raised when processing a message by RayBackend\n",
      "\u001B[91mERROR \u001B[0m:     local variable 'future' referenced before assignment\n",
      "\u001B[91mERROR \u001B[0m:     Traceback (most recent call last):\n",
      "  File \"C:\\Users\\ADMIN\\Desktop\\BACKUP\\study\\Italy\\polito\\classes\\20242\\deep learning\\project\\source_code\\fl-g13\\.venv\\lib\\site-packages\\flwr\\server\\superlink\\fleet\\vce\\backend\\raybackend.py\", line 166, in process_message\n",
      "    future = self.pool.submit(\n",
      "  File \"C:\\Users\\ADMIN\\Desktop\\BACKUP\\study\\Italy\\polito\\classes\\20242\\deep learning\\project\\source_code\\fl-g13\\.venv\\lib\\site-packages\\flwr\\simulation\\ray_transport\\ray_actor.py\", line 460, in submit\n",
      "    actor = self.pool.pop()\n",
      "IndexError: pop from empty list\n",
      "\n",
      "During handling of the above exception, another exception occurred:\n",
      "\n",
      "Traceback (most recent call last):\n",
      "  File \"C:\\Users\\ADMIN\\Desktop\\BACKUP\\study\\Italy\\polito\\classes\\20242\\deep learning\\project\\source_code\\fl-g13\\.venv\\lib\\site-packages\\flwr\\server\\superlink\\fleet\\vce\\vce_api.py\", line 111, in worker\n",
      "    out_mssg, updated_context = backend.process_message(message, context)\n",
      "  File \"C:\\Users\\ADMIN\\Desktop\\BACKUP\\study\\Italy\\polito\\classes\\20242\\deep learning\\project\\source_code\\fl-g13\\.venv\\lib\\site-packages\\flwr\\server\\superlink\\fleet\\vce\\backend\\raybackend.py\", line 186, in process_message\n",
      "    self.pool.add_actor_back_to_pool(future)\n",
      "UnboundLocalError: local variable 'future' referenced before assignment\n",
      "\n",
      "\u001B[91mERROR \u001B[0m:     An exception was raised when processing a message by RayBackend\n",
      "\u001B[91mERROR \u001B[0m:     local variable 'future' referenced before assignment\n",
      "\u001B[91mERROR \u001B[0m:     Traceback (most recent call last):\n",
      "  File \"C:\\Users\\ADMIN\\Desktop\\BACKUP\\study\\Italy\\polito\\classes\\20242\\deep learning\\project\\source_code\\fl-g13\\.venv\\lib\\site-packages\\flwr\\server\\superlink\\fleet\\vce\\backend\\raybackend.py\", line 166, in process_message\n",
      "    future = self.pool.submit(\n",
      "  File \"C:\\Users\\ADMIN\\Desktop\\BACKUP\\study\\Italy\\polito\\classes\\20242\\deep learning\\project\\source_code\\fl-g13\\.venv\\lib\\site-packages\\flwr\\simulation\\ray_transport\\ray_actor.py\", line 460, in submit\n",
      "    actor = self.pool.pop()\n",
      "IndexError: pop from empty list\n",
      "\n",
      "During handling of the above exception, another exception occurred:\n",
      "\n",
      "Traceback (most recent call last):\n",
      "  File \"C:\\Users\\ADMIN\\Desktop\\BACKUP\\study\\Italy\\polito\\classes\\20242\\deep learning\\project\\source_code\\fl-g13\\.venv\\lib\\site-packages\\flwr\\server\\superlink\\fleet\\vce\\vce_api.py\", line 111, in worker\n",
      "    out_mssg, updated_context = backend.process_message(message, context)\n",
      "  File \"C:\\Users\\ADMIN\\Desktop\\BACKUP\\study\\Italy\\polito\\classes\\20242\\deep learning\\project\\source_code\\fl-g13\\.venv\\lib\\site-packages\\flwr\\server\\superlink\\fleet\\vce\\backend\\raybackend.py\", line 186, in process_message\n",
      "    self.pool.add_actor_back_to_pool(future)\n",
      "UnboundLocalError: local variable 'future' referenced before assignment\n",
      "\n",
      "\u001B[91mERROR \u001B[0m:     An exception was raised when processing a message by RayBackend\n",
      "\u001B[91mERROR \u001B[0m:     local variable 'future' referenced before assignment\n",
      "\u001B[91mERROR \u001B[0m:     Traceback (most recent call last):\n",
      "  File \"C:\\Users\\ADMIN\\Desktop\\BACKUP\\study\\Italy\\polito\\classes\\20242\\deep learning\\project\\source_code\\fl-g13\\.venv\\lib\\site-packages\\flwr\\server\\superlink\\fleet\\vce\\backend\\raybackend.py\", line 166, in process_message\n",
      "    future = self.pool.submit(\n",
      "  File \"C:\\Users\\ADMIN\\Desktop\\BACKUP\\study\\Italy\\polito\\classes\\20242\\deep learning\\project\\source_code\\fl-g13\\.venv\\lib\\site-packages\\flwr\\simulation\\ray_transport\\ray_actor.py\", line 460, in submit\n",
      "    actor = self.pool.pop()\n",
      "IndexError: pop from empty list\n",
      "\n",
      "During handling of the above exception, another exception occurred:\n",
      "\n",
      "Traceback (most recent call last):\n",
      "  File \"C:\\Users\\ADMIN\\Desktop\\BACKUP\\study\\Italy\\polito\\classes\\20242\\deep learning\\project\\source_code\\fl-g13\\.venv\\lib\\site-packages\\flwr\\server\\superlink\\fleet\\vce\\vce_api.py\", line 111, in worker\n",
      "    out_mssg, updated_context = backend.process_message(message, context)\n",
      "  File \"C:\\Users\\ADMIN\\Desktop\\BACKUP\\study\\Italy\\polito\\classes\\20242\\deep learning\\project\\source_code\\fl-g13\\.venv\\lib\\site-packages\\flwr\\server\\superlink\\fleet\\vce\\backend\\raybackend.py\", line 186, in process_message\n",
      "    self.pool.add_actor_back_to_pool(future)\n",
      "UnboundLocalError: local variable 'future' referenced before assignment\n",
      "\n",
      "\u001B[92mINFO \u001B[0m:      aggregate_fit: received 5 results and 5 failures\n"
     ]
    }
   ],
   "execution_count": null
  },
  {
   "metadata": {
    "jupyter": {
     "is_executing": true
    }
   },
   "cell_type": "code",
   "source": "",
   "id": "39ae4073863566bd",
   "outputs": [],
   "execution_count": null
  }
 ],
 "metadata": {
  "kernelspec": {
   "display_name": "Python 3",
   "language": "python",
   "name": "python3"
  },
  "language_info": {
   "codemirror_mode": {
    "name": "ipython",
    "version": 2
   },
   "file_extension": ".py",
   "mimetype": "text/x-python",
   "name": "python",
   "nbconvert_exporter": "python",
   "pygments_lexer": "ipython2",
   "version": "2.7.6"
  }
 },
 "nbformat": 4,
 "nbformat_minor": 5
}
