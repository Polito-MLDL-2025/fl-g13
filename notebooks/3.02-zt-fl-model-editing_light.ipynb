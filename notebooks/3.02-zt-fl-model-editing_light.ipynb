{
 "cells": [
  {
   "metadata": {
    "ExecuteTime": {
     "end_time": "2025-05-18T20:14:27.731975Z",
     "start_time": "2025-05-18T20:14:27.050523Z"
    }
   },
   "cell_type": "code",
   "source": [
    "%load_ext autoreload\n",
    "%autoreload 2"
   ],
   "id": "5767f6b1a63e945b",
   "outputs": [
    {
     "name": "stdout",
     "output_type": "stream",
     "text": [
      "The autoreload extension is already loaded. To reload it, use:\n",
      "  %reload_ext autoreload\n"
     ]
    }
   ],
   "execution_count": 21
  },
  {
   "metadata": {
    "ExecuteTime": {
     "end_time": "2025-05-18T20:14:29.906069Z",
     "start_time": "2025-05-18T20:14:27.731975Z"
    }
   },
   "cell_type": "code",
   "source": "!pip3 install torch torchvision torchaudio --index-url https://download.pytorch.org/whl/cu118\n",
   "id": "75ca9d6d54c4ce47",
   "outputs": [
    {
     "name": "stdout",
     "output_type": "stream",
     "text": [
      "Looking in indexes: https://download.pytorch.org/whl/cu118"
     ]
    },
    {
     "name": "stderr",
     "output_type": "stream",
     "text": [
      "WARNING: Ignoring invalid distribution -otebook (c:\\users\\admin\\desktop\\backup\\study\\italy\\polito\\classes\\20242\\deep learning\\project\\source_code\\fl-g13\\.venv\\lib\\site-packages)"
     ]
    },
    {
     "name": "stdout",
     "output_type": "stream",
     "text": [
      "\n",
      "Requirement already satisfied: torch in c:\\users\\admin\\desktop\\backup\\study\\italy\\polito\\classes\\20242\\deep learning\\project\\source_code\\fl-g13\\.venv\\lib\\site-packages (2.6.0+cu118)"
     ]
    },
    {
     "name": "stderr",
     "output_type": "stream",
     "text": [
      "\n",
      "WARNING: Ignoring invalid distribution -otebook (c:\\users\\admin\\desktop\\backup\\study\\italy\\polito\\classes\\20242\\deep learning\\project\\source_code\\fl-g13\\.venv\\lib\\site-packages)"
     ]
    },
    {
     "name": "stdout",
     "output_type": "stream",
     "text": [
      "\n",
      "Requirement already satisfied: torchvision in c:\\users\\admin\\desktop\\backup\\study\\italy\\polito\\classes\\20242\\deep learning\\project\\source_code\\fl-g13\\.venv\\lib\\site-packages (0.21.0)"
     ]
    },
    {
     "name": "stderr",
     "output_type": "stream",
     "text": [
      "\n"
     ]
    },
    {
     "name": "stdout",
     "output_type": "stream",
     "text": [
      "\n"
     ]
    },
    {
     "name": "stderr",
     "output_type": "stream",
     "text": [
      "WARNING: Ignoring invalid distribution -otebook (c:\\users\\admin\\desktop\\backup\\study\\italy\\polito\\classes\\20242\\deep learning\\project\\source_code\\fl-g13\\.venv\\lib\\site-packages)"
     ]
    },
    {
     "name": "stdout",
     "output_type": "stream",
     "text": [
      "Requirement already satisfied: torchaudio in c:\\users\\admin\\desktop\\backup\\study\\italy\\polito\\classes\\20242\\deep learning\\project\\source_code\\fl-g13\\.venv\\lib\\site-packages (2.6.0+cu118)\n"
     ]
    },
    {
     "name": "stderr",
     "output_type": "stream",
     "text": [
      "\n"
     ]
    },
    {
     "name": "stdout",
     "output_type": "stream",
     "text": [
      "Requirement already satisfied: filelock in c:\\users\\admin\\desktop\\backup\\study\\italy\\polito\\classes\\20242\\deep learning\\project\\source_code\\fl-g13\\.venv\\lib\\site-packages (from torch) (3.18.0)"
     ]
    },
    {
     "name": "stderr",
     "output_type": "stream",
     "text": [
      "\n",
      "[notice] A new release of pip is available: 25.0.1 -> 25.1.1"
     ]
    },
    {
     "name": "stdout",
     "output_type": "stream",
     "text": [
      "\n"
     ]
    },
    {
     "name": "stderr",
     "output_type": "stream",
     "text": [
      "\n"
     ]
    },
    {
     "name": "stdout",
     "output_type": "stream",
     "text": [
      "Requirement already satisfied: typing-extensions>=4.10.0 in c:\\users\\admin\\desktop\\backup\\study\\italy\\polito\\classes\\20242\\deep learning\\project\\source_code\\fl-g13\\.venv\\lib\\site-packages (from torch) (4.13.1)"
     ]
    },
    {
     "name": "stderr",
     "output_type": "stream",
     "text": [
      "[notice] To update, run: python.exe -m pip install --upgrade pip"
     ]
    },
    {
     "name": "stdout",
     "output_type": "stream",
     "text": [
      "\n",
      "Requirement already satisfied: networkx in c:\\users\\admin\\desktop\\backup\\study\\italy\\polito\\classes\\20242\\deep learning\\project\\source_code\\fl-g13\\.venv\\lib\\site-packages (from torch) (3.4.2)"
     ]
    },
    {
     "name": "stderr",
     "output_type": "stream",
     "text": [
      "\n"
     ]
    },
    {
     "name": "stdout",
     "output_type": "stream",
     "text": [
      "\n",
      "Requirement already satisfied: jinja2 in c:\\users\\admin\\desktop\\backup\\study\\italy\\polito\\classes\\20242\\deep learning\\project\\source_code\\fl-g13\\.venv\\lib\\site-packages (from torch) (3.1.6)\n",
      "Requirement already satisfied: fsspec in c:\\users\\admin\\desktop\\backup\\study\\italy\\polito\\classes\\20242\\deep learning\\project\\source_code\\fl-g13\\.venv\\lib\\site-packages (from torch) (2025.3.2)\n",
      "Requirement already satisfied: sympy==1.13.1 in c:\\users\\admin\\desktop\\backup\\study\\italy\\polito\\classes\\20242\\deep learning\\project\\source_code\\fl-g13\\.venv\\lib\\site-packages (from torch) (1.13.1)\n",
      "Requirement already satisfied: mpmath<1.4,>=1.1.0 in c:\\users\\admin\\desktop\\backup\\study\\italy\\polito\\classes\\20242\\deep learning\\project\\source_code\\fl-g13\\.venv\\lib\\site-packages (from sympy==1.13.1->torch) (1.3.0)\n",
      "Requirement already satisfied: numpy in c:\\users\\admin\\desktop\\backup\\study\\italy\\polito\\classes\\20242\\deep learning\\project\\source_code\\fl-g13\\.venv\\lib\\site-packages (from torchvision) (2.0.2)\n",
      "Requirement already satisfied: pillow!=8.3.*,>=5.3.0 in c:\\users\\admin\\desktop\\backup\\study\\italy\\polito\\classes\\20242\\deep learning\\project\\source_code\\fl-g13\\.venv\\lib\\site-packages (from torchvision) (11.1.0)\n",
      "Requirement already satisfied: MarkupSafe>=2.0 in c:\\users\\admin\\desktop\\backup\\study\\italy\\polito\\classes\\20242\\deep learning\\project\\source_code\\fl-g13\\.venv\\lib\\site-packages (from jinja2->torch) (3.0.2)\n"
     ]
    }
   ],
   "execution_count": 22
  },
  {
   "metadata": {
    "ExecuteTime": {
     "end_time": "2025-05-18T20:14:30.461939Z",
     "start_time": "2025-05-18T20:14:29.906069Z"
    }
   },
   "cell_type": "code",
   "source": [
    "\n",
    "from pathlib import Path\n",
    "\n",
    "import flwr\n",
    "import torch\n",
    "from flwr.simulation import run_simulation\n",
    "from torch.optim.lr_scheduler import CosineAnnealingLR\n",
    "from torch.utils.data import DataLoader\n",
    "from torchvision import datasets\n",
    "\n",
    "from fl_g13.architectures import BaseDino\n",
    "from fl_g13.config import RAW_DATA_DIR\n",
    "from fl_g13.editing import SparseSGDM\n",
    "from fl_g13.fl_pytorch.client_app import get_client_app\n",
    "from fl_g13.fl_pytorch.datasets import get_eval_transforms\n",
    "from fl_g13.fl_pytorch.server_app import get_server_app\n",
    "from fl_g13.modeling.eval import eval"
   ],
   "id": "initial_id",
   "outputs": [],
   "execution_count": 23
  },
  {
   "metadata": {
    "ExecuteTime": {
     "end_time": "2025-05-18T20:14:30.971117Z",
     "start_time": "2025-05-18T20:14:30.461939Z"
    }
   },
   "cell_type": "code",
   "source": [
    "DEVICE = \"cuda\" if torch.cuda.is_available() else \"cpu\"\n",
    "# DEVICE = \"cpu\"\n",
    "print(f\"Training on {DEVICE}\")\n",
    "print(f\"Flower {flwr.__version__} / PyTorch {torch.__version__}\")\n",
    "# disable_progress_bar()"
   ],
   "id": "1a4ec3eb7baf32",
   "outputs": [
    {
     "name": "stdout",
     "output_type": "stream",
     "text": [
      "Training on cuda\n",
      "Flower 1.17.0 / PyTorch 2.6.0+cu118\n"
     ]
    }
   ],
   "execution_count": 24
  },
  {
   "metadata": {},
   "cell_type": "markdown",
   "source": "# Login wandb",
   "id": "73fb84b164b0def7"
  },
  {
   "metadata": {
    "ExecuteTime": {
     "end_time": "2025-05-18T20:14:32.830110Z",
     "start_time": "2025-05-18T20:14:30.971117Z"
    }
   },
   "cell_type": "code",
   "source": "!pip install wandb",
   "id": "6c6449ef9be1e422",
   "outputs": [
    {
     "name": "stderr",
     "output_type": "stream",
     "text": [
      "WARNING: Ignoring invalid distribution -otebook (c:\\users\\admin\\desktop\\backup\\study\\italy\\polito\\classes\\20242\\deep learning\\project\\source_code\\fl-g13\\.venv\\lib\\site-packages)"
     ]
    },
    {
     "name": "stdout",
     "output_type": "stream",
     "text": [
      "Requirement already satisfied: wandb in c:\\users\\admin\\desktop\\backup\\study\\italy\\polito\\classes\\20242\\deep learning\\project\\source_code\\fl-g13\\.venv\\lib\\site-packages (0.19.9)"
     ]
    },
    {
     "name": "stderr",
     "output_type": "stream",
     "text": [
      "\n"
     ]
    },
    {
     "name": "stdout",
     "output_type": "stream",
     "text": [
      "\n"
     ]
    },
    {
     "name": "stderr",
     "output_type": "stream",
     "text": [
      "WARNING: Ignoring invalid distribution -otebook (c:\\users\\admin\\desktop\\backup\\study\\italy\\polito\\classes\\20242\\deep learning\\project\\source_code\\fl-g13\\.venv\\lib\\site-packages)"
     ]
    },
    {
     "name": "stdout",
     "output_type": "stream",
     "text": [
      "Requirement already satisfied: click!=8.0.0,>=7.1 in c:\\users\\admin\\desktop\\backup\\study\\italy\\polito\\classes\\20242\\deep learning\\project\\source_code\\fl-g13\\.venv\\lib\\site-packages (from wandb) (8.1.8)"
     ]
    },
    {
     "name": "stderr",
     "output_type": "stream",
     "text": [
      "\n"
     ]
    },
    {
     "name": "stdout",
     "output_type": "stream",
     "text": [
      "\n"
     ]
    },
    {
     "name": "stderr",
     "output_type": "stream",
     "text": [
      "WARNING: Ignoring invalid distribution -otebook (c:\\users\\admin\\desktop\\backup\\study\\italy\\polito\\classes\\20242\\deep learning\\project\\source_code\\fl-g13\\.venv\\lib\\site-packages)"
     ]
    },
    {
     "name": "stdout",
     "output_type": "stream",
     "text": [
      "Requirement already satisfied: docker-pycreds>=0.4.0 in c:\\users\\admin\\desktop\\backup\\study\\italy\\polito\\classes\\20242\\deep learning\\project\\source_code\\fl-g13\\.venv\\lib\\site-packages (from wandb) (0.4.0)"
     ]
    },
    {
     "name": "stderr",
     "output_type": "stream",
     "text": [
      "\n",
      "\n"
     ]
    },
    {
     "name": "stdout",
     "output_type": "stream",
     "text": [
      "\n",
      "Requirement already satisfied: gitpython!=3.1.29,>=1.0.0 in c:\\users\\admin\\desktop\\backup\\study\\italy\\polito\\classes\\20242\\deep learning\\project\\source_code\\fl-g13\\.venv\\lib\\site-packages (from wandb) (3.1.44)"
     ]
    },
    {
     "name": "stderr",
     "output_type": "stream",
     "text": [
      "[notice] A new release of pip is available: 25.0.1 -> 25.1.1"
     ]
    },
    {
     "name": "stdout",
     "output_type": "stream",
     "text": [
      "\n"
     ]
    },
    {
     "name": "stderr",
     "output_type": "stream",
     "text": [
      "\n"
     ]
    },
    {
     "name": "stdout",
     "output_type": "stream",
     "text": [
      "Requirement already satisfied: platformdirs in c:\\users\\admin\\desktop\\backup\\study\\italy\\polito\\classes\\20242\\deep learning\\project\\source_code\\fl-g13\\.venv\\lib\\site-packages (from wandb) (4.3.7)"
     ]
    },
    {
     "name": "stderr",
     "output_type": "stream",
     "text": [
      "[notice] To update, run: python.exe -m pip install --upgrade pip\n"
     ]
    },
    {
     "name": "stdout",
     "output_type": "stream",
     "text": [
      "\n",
      "Requirement already satisfied: protobuf!=4.21.0,!=5.28.0,<6,>=3.19.0 in c:\\users\\admin\\desktop\\backup\\study\\italy\\polito\\classes\\20242\\deep learning\\project\\source_code\\fl-g13\\.venv\\lib\\site-packages (from wandb) (5.29.4)\n",
      "Requirement already satisfied: psutil>=5.0.0 in c:\\users\\admin\\desktop\\backup\\study\\italy\\polito\\classes\\20242\\deep learning\\project\\source_code\\fl-g13\\.venv\\lib\\site-packages (from wandb) (7.0.0)\n",
      "Requirement already satisfied: pydantic<3 in c:\\users\\admin\\desktop\\backup\\study\\italy\\polito\\classes\\20242\\deep learning\\project\\source_code\\fl-g13\\.venv\\lib\\site-packages (from wandb) (2.11.3)\n",
      "Requirement already satisfied: pyyaml in c:\\users\\admin\\desktop\\backup\\study\\italy\\polito\\classes\\20242\\deep learning\\project\\source_code\\fl-g13\\.venv\\lib\\site-packages (from wandb) (6.0.2)\n",
      "Requirement already satisfied: requests<3,>=2.0.0 in c:\\users\\admin\\desktop\\backup\\study\\italy\\polito\\classes\\20242\\deep learning\\project\\source_code\\fl-g13\\.venv\\lib\\site-packages (from wandb) (2.32.3)\n",
      "Requirement already satisfied: sentry-sdk>=2.0.0 in c:\\users\\admin\\desktop\\backup\\study\\italy\\polito\\classes\\20242\\deep learning\\project\\source_code\\fl-g13\\.venv\\lib\\site-packages (from wandb) (2.26.0)\n",
      "Requirement already satisfied: setproctitle in c:\\users\\admin\\desktop\\backup\\study\\italy\\polito\\classes\\20242\\deep learning\\project\\source_code\\fl-g13\\.venv\\lib\\site-packages (from wandb) (1.3.5)\n",
      "Requirement already satisfied: setuptools in c:\\users\\admin\\desktop\\backup\\study\\italy\\polito\\classes\\20242\\deep learning\\project\\source_code\\fl-g13\\.venv\\lib\\site-packages (from wandb) (68.2.0)\n",
      "Requirement already satisfied: typing-extensions<5,>=4.4 in c:\\users\\admin\\desktop\\backup\\study\\italy\\polito\\classes\\20242\\deep learning\\project\\source_code\\fl-g13\\.venv\\lib\\site-packages (from wandb) (4.13.1)\n",
      "Requirement already satisfied: colorama in c:\\users\\admin\\desktop\\backup\\study\\italy\\polito\\classes\\20242\\deep learning\\project\\source_code\\fl-g13\\.venv\\lib\\site-packages (from click!=8.0.0,>=7.1->wandb) (0.4.6)\n",
      "Requirement already satisfied: six>=1.4.0 in c:\\users\\admin\\desktop\\backup\\study\\italy\\polito\\classes\\20242\\deep learning\\project\\source_code\\fl-g13\\.venv\\lib\\site-packages (from docker-pycreds>=0.4.0->wandb) (1.17.0)"
     ]
    }
   ],
   "execution_count": 25
  },
  {
   "metadata": {
    "ExecuteTime": {
     "end_time": "2025-05-18T20:14:33.323804Z",
     "start_time": "2025-05-18T20:14:32.830110Z"
    }
   },
   "cell_type": "code",
   "source": [
    "## read .env file\n",
    "import dotenv\n",
    "\n",
    "dotenv.load_dotenv()\n"
   ],
   "id": "5f279490dd7a970f",
   "outputs": [
    {
     "data": {
      "text/plain": [
       "True"
      ]
     },
     "execution_count": 26,
     "metadata": {},
     "output_type": "execute_result"
    }
   ],
   "execution_count": 26
  },
  {
   "metadata": {
    "ExecuteTime": {
     "end_time": "2025-05-18T20:14:34.242146Z",
     "start_time": "2025-05-18T20:14:33.323804Z"
    }
   },
   "cell_type": "code",
   "source": [
    "import wandb\n",
    "\n",
    "# login by key in .env file\n",
    "WANDB_API_KEY = dotenv.dotenv_values()[\"WANDB_API_KEY\"]\n",
    "wandb.login(key=WANDB_API_KEY)"
   ],
   "id": "a218d880822fdfba",
   "outputs": [
    {
     "name": "stderr",
     "output_type": "stream",
     "text": [
      "wandb: WARNING If you're specifying your api key in code, ensure this code is not shared publicly.\n",
      "wandb: WARNING Consider setting the WANDB_API_KEY environment variable, or running `wandb login` from the command line.\n",
      "wandb: Appending key for api.wandb.ai to your netrc file: C:\\Users\\ADMIN\\_netrc\n"
     ]
    },
    {
     "data": {
      "text/plain": [
       "True"
      ]
     },
     "execution_count": 27,
     "metadata": {},
     "output_type": "execute_result"
    }
   ],
   "execution_count": 27
  },
  {
   "metadata": {},
   "cell_type": "markdown",
   "source": [
    "## Build module local\n",
    "\n",
    "Build module local such that ClientApp can use it"
   ],
   "id": "b5a0319c8e40215a"
  },
  {
   "metadata": {
    "ExecuteTime": {
     "end_time": "2025-05-18T20:25:49.377033Z",
     "start_time": "2025-05-18T20:25:43.973975Z"
    }
   },
   "cell_type": "code",
   "source": "!pip install -e ..",
   "id": "8a11402a3317027f",
   "outputs": [
    {
     "name": "stdout",
     "output_type": "stream",
     "text": [
      "Obtaining file:///C:/Users/ADMIN/Desktop/BACKUP/study/Italy/polito/classes/20242/deep%20learning/project/source_code/fl-g13"
     ]
    },
    {
     "name": "stderr",
     "output_type": "stream",
     "text": [
      "WARNING: Ignoring invalid distribution -otebook (c:\\users\\admin\\desktop\\backup\\study\\italy\\polito\\classes\\20242\\deep learning\\project\\source_code\\fl-g13\\.venv\\lib\\site-packages)\n"
     ]
    },
    {
     "name": "stdout",
     "output_type": "stream",
     "text": [
      "\n"
     ]
    },
    {
     "name": "stderr",
     "output_type": "stream",
     "text": [
      "WARNING: Ignoring invalid distribution -otebook (c:\\users\\admin\\desktop\\backup\\study\\italy\\polito\\classes\\20242\\deep learning\\project\\source_code\\fl-g13\\.venv\\lib\\site-packages)"
     ]
    },
    {
     "name": "stdout",
     "output_type": "stream",
     "text": [
      "  Installing build dependencies: started\n"
     ]
    },
    {
     "name": "stderr",
     "output_type": "stream",
     "text": [
      "\n"
     ]
    },
    {
     "name": "stdout",
     "output_type": "stream",
     "text": [
      "  Installing build dependencies: finished with status 'done'"
     ]
    },
    {
     "name": "stderr",
     "output_type": "stream",
     "text": [
      "WARNING: Ignoring invalid distribution -otebook (c:\\users\\admin\\desktop\\backup\\study\\italy\\polito\\classes\\20242\\deep learning\\project\\source_code\\fl-g13\\.venv\\lib\\site-packages)"
     ]
    },
    {
     "name": "stdout",
     "output_type": "stream",
     "text": [
      "\n",
      "  Checking if build backend supports build_editable: started"
     ]
    },
    {
     "name": "stderr",
     "output_type": "stream",
     "text": [
      "\n",
      "\n"
     ]
    },
    {
     "name": "stdout",
     "output_type": "stream",
     "text": [
      "\n",
      "  Checking if build backend supports build_editable: finished with status 'done'"
     ]
    },
    {
     "name": "stderr",
     "output_type": "stream",
     "text": [
      "[notice] A new release of pip is available: 25.0.1 -> 25.1.1\n"
     ]
    },
    {
     "name": "stdout",
     "output_type": "stream",
     "text": [
      "\n"
     ]
    },
    {
     "name": "stderr",
     "output_type": "stream",
     "text": [
      "[notice] To update, run: python.exe -m pip install --upgrade pip"
     ]
    },
    {
     "name": "stdout",
     "output_type": "stream",
     "text": [
      "  Getting requirements to build editable: started\n"
     ]
    },
    {
     "name": "stderr",
     "output_type": "stream",
     "text": [
      "\n"
     ]
    },
    {
     "name": "stdout",
     "output_type": "stream",
     "text": [
      "  Getting requirements to build editable: finished with status 'done'\n",
      "  Preparing editable metadata (pyproject.toml): started\n",
      "  Preparing editable metadata (pyproject.toml): finished with status 'done'\n",
      "Building wheels for collected packages: fl_g13\n",
      "  Building editable for fl_g13 (pyproject.toml): started\n",
      "  Building editable for fl_g13 (pyproject.toml): finished with status 'done'\n",
      "  Created wheel for fl_g13: filename=fl_g13-0.0.1-py3-none-any.whl size=4649 sha256=a588eeccbccdbea56dbfe92e55bd612babd81e07366f39e361ccc99a5ffdec08"
     ]
    }
   ],
   "execution_count": 48
  },
  {
   "metadata": {},
   "cell_type": "markdown",
   "source": [
    "### Download missing module for clients\n",
    "\n",
    "Dino model,that is serialized and sent to client by server, require some modules that have to download from source code of dino model\n"
   ],
   "id": "9399f1a9cedc8cc3"
  },
  {
   "metadata": {
    "ExecuteTime": {
     "end_time": "2025-05-18T20:21:29.235452Z",
     "start_time": "2025-05-18T20:21:28.564811Z"
    }
   },
   "cell_type": "code",
   "source": [
    "import os\n",
    "import urllib.request\n",
    "\n",
    "\n",
    "def download_if_not_exists(file_path: str, file_url: str):\n",
    "    \"\"\"\n",
    "    Checks if a file exists at the given path. If it does not, downloads it from the specified URL.\n",
    "\n",
    "    Parameters:\n",
    "    - file_path (str): The local path to check and save the file.\n",
    "    - file_url (str): The URL from which to download the file.\n",
    "    \"\"\"\n",
    "    if not os.path.exists(file_path):\n",
    "        print(f\"'{file_path}' not found. Downloading from {file_url}...\")\n",
    "        try:\n",
    "            urllib.request.urlretrieve(file_url, file_path)\n",
    "            print(\"Download complete.\")\n",
    "        except Exception as e:\n",
    "            print(f\"Failed to download file: {e}\")\n",
    "    else:\n",
    "        print(f\"'{file_path}' already exists.\")"
   ],
   "id": "beb2c855fcd8933c",
   "outputs": [],
   "execution_count": 42
  },
  {
   "metadata": {
    "ExecuteTime": {
     "end_time": "2025-05-18T20:14:40.889314Z",
     "start_time": "2025-05-18T20:14:40.382600Z"
    }
   },
   "cell_type": "code",
   "source": [
    "download_if_not_exists(\"vision_transformer.py\",\n",
    "                       \"https://raw.githubusercontent.com/facebookresearch/dino/refs/heads/main/vision_transformer.py\")\n",
    "download_if_not_exists(\"utils.py\",\n",
    "                       \"https://raw.githubusercontent.com/facebookresearch/dino/refs/heads/main/utils.py\")\n"
   ],
   "id": "d93caca63a33c71f",
   "outputs": [
    {
     "name": "stdout",
     "output_type": "stream",
     "text": [
      "'vision_transformer.py' already exists.\n",
      "'utils.py' already exists.\n"
     ]
    }
   ],
   "execution_count": 30
  },
  {
   "metadata": {},
   "cell_type": "markdown",
   "source": "# FL",
   "id": "ee82432353abfbe2"
  },
  {
   "metadata": {},
   "cell_type": "markdown",
   "source": "## Configs",
   "id": "cdb05316b163821b"
  },
  {
   "metadata": {
    "ExecuteTime": {
     "end_time": "2025-05-18T20:14:41.349405Z",
     "start_time": "2025-05-18T20:14:40.889314Z"
    }
   },
   "cell_type": "code",
   "source": "DEBUG = True",
   "id": "6ba4f53af219c423",
   "outputs": [],
   "execution_count": 31
  },
  {
   "metadata": {
    "ExecuteTime": {
     "end_time": "2025-05-18T20:14:41.827429Z",
     "start_time": "2025-05-18T20:14:41.349405Z"
    }
   },
   "cell_type": "code",
   "source": [
    "# Model config\n",
    "\n",
    "## Model Hyper-parameters\n",
    "head_layers = 3\n",
    "head_hidden_size = 512\n",
    "dropout_rate = 0.0\n",
    "unfreeze_blocks = 1\n",
    "\n",
    "## Training Hyper-parameters\n",
    "batch_size = 128\n",
    "lr = 1e-3\n",
    "momentum = 0.9\n",
    "weight_decay = 1e-5\n",
    "T_max = 8\n",
    "eta_min = 1e-5\n",
    "\n",
    "# FL config\n",
    "K = 100\n",
    "C = 0.1\n",
    "J = 4\n",
    "num_rounds = 30\n",
    "partition_type = 'iid'\n",
    "\n",
    "## only for partition_type = 'shard'\n",
    "num_shards_per_partition = 10\n",
    "\n",
    "## Server App config\n",
    "save_every = 1\n",
    "fraction_fit = C  # Sample of available clients for training\n",
    "fraction_evaluate = 0.1  # Sample 50% of available clients for evaluation\n",
    "min_fit_clients = 10  # Never sample less than 10 clients for training\n",
    "min_evaluate_clients = 5  # Never sample less than 5 clients for evaluation\n",
    "min_available_clients = 10  # Wait until all 10 clients are available\n",
    "device = DEVICE\n",
    "## checkpoints directory\n",
    "current_path = Path.cwd()\n",
    "model_save_path = current_path / f\"../models/fl_dino_baseline/{partition_type}\"\n",
    "checkpoint_dir = model_save_path.resolve()\n",
    "os.makedirs(checkpoint_dir, exist_ok=True)\n",
    "\n",
    "## Wandb config\n",
    "use_wandb = True\n",
    "wandb_config = {\n",
    "    # wandb param\n",
    "    'name': 'FL_Dino_Baseline_iid',\n",
    "    'project_name': \"FL_test_chart\",\n",
    "    # model config param\n",
    "    \"fraction_fit\": fraction_fit,\n",
    "    \"lr\": lr,\n",
    "    \"momentum\": momentum,\n",
    "    'partition_type': partition_type,\n",
    "    'K': K,\n",
    "    'C': C,\n",
    "    'J': J,\n",
    "}\n",
    "\n",
    "# model editing config\n",
    "model_editing = True\n",
    "mask_type = 'global'\n",
    "sparsity = 0.2\n",
    "mask = None\n",
    "model_editing_batch_size = 16\n",
    "\n",
    "## simulation run config\n",
    "NUM_CLIENTS = 100\n",
    "MAX_PARALLEL_CLIENTS = 10\n",
    "\n",
    "if DEBUG:\n",
    "    use_wandb = False\n",
    "    num_rounds = 2\n",
    "    J = 4\n"
   ],
   "id": "d63bb533ec30809b",
   "outputs": [],
   "execution_count": 32
  },
  {
   "metadata": {},
   "cell_type": "markdown",
   "source": "## Define model , optimizer and loss function",
   "id": "4c0f23c3615c6d68"
  },
  {
   "metadata": {
    "ExecuteTime": {
     "end_time": "2025-05-18T20:14:43.078570Z",
     "start_time": "2025-05-18T20:14:41.827429Z"
    }
   },
   "cell_type": "code",
   "source": [
    "from fl_g13.modeling import load_or_create\n",
    "\n",
    "# Model\n",
    "model, start_epoch = load_or_create(\n",
    "        path=checkpoint_dir,\n",
    "        model_class=BaseDino,\n",
    "        model_config=None,\n",
    "        optimizer=None,\n",
    "        scheduler=None,\n",
    "        device=device,\n",
    "        verbose=True,\n",
    "    )\n",
    "\n",
    "model.to(DEVICE)\n",
    "\n",
    "# optimizer = SGD(model.parameters(), lr=lr, momentum=momentum)\n",
    "\n",
    "# Create a dummy mask for SparseSGDM\n",
    "init_mask = [torch.ones_like(p, device=p.device) for p in\n",
    "             model.parameters()]  # Must be done AFTER the model is moved to the device\n",
    "# Optimizer, scheduler, and loss function\n",
    "optimizer = SparseSGDM(\n",
    "    model.parameters(),\n",
    "    mask=init_mask,\n",
    "    lr=lr,\n",
    "    momentum=0.9,\n",
    "    weight_decay=1e-5\n",
    ")\n",
    "criterion = torch.nn.CrossEntropyLoss()\n",
    "scheduler = CosineAnnealingLR(\n",
    "    optimizer=optimizer,\n",
    "    T_max=T_max,\n",
    "    eta_min=eta_min\n",
    ")"
   ],
   "id": "9046d19b28a38ed3",
   "outputs": [
    {
     "name": "stdout",
     "output_type": "stream",
     "text": [
      "🔍 Loading checkpoint from C:\\Users\\ADMIN\\Desktop\\BACKUP\\study\\Italy\\polito\\classes\\20242\\deep learning\\project\\source_code\\fl-g13\\models\\fl_dino_baseline\\iid\\fl_fl_baseline_BaseDino_epoch_79.pth\n",
      "📦 Model class in checkpoint: BaseDino\n",
      "🔧 Model configuration: {'variant': 'dino_vits16', 'dropout_rate': 0.0, 'head_hidden_size': 512, 'head_layers': 3, 'num_classes': 100, 'unfreeze_blocks': 1, 'activation_fn': 'GELU', 'pretrained': True}\n"
     ]
    },
    {
     "name": "stderr",
     "output_type": "stream",
     "text": [
      "Using cache found in C:\\Users\\ADMIN/.cache\\torch\\hub\\facebookresearch_dino_main\n",
      "Using cache found in C:\\Users\\ADMIN/.cache\\torch\\hub\\facebookresearch_dino_main\n"
     ]
    },
    {
     "name": "stdout",
     "output_type": "stream",
     "text": [
      "➡️ Moved model to device: cuda\n",
      "✅ Loaded checkpoint from C:\\Users\\ADMIN\\Desktop\\BACKUP\\study\\Italy\\polito\\classes\\20242\\deep learning\\project\\source_code\\fl-g13\\models\\fl_dino_baseline\\iid\\fl_fl_baseline_BaseDino_epoch_79.pth, resuming at epoch 80\n"
     ]
    }
   ],
   "execution_count": 33
  },
  {
   "metadata": {
    "ExecuteTime": {
     "end_time": "2025-05-18T20:14:43.539792Z",
     "start_time": "2025-05-18T20:14:43.079758Z"
    }
   },
   "cell_type": "code",
   "source": [
    "## unfreeze blocks\n",
    "num_blocks = 3 \n",
    "model.unfreeze_blocks(num_blocks)"
   ],
   "id": "f9444647b0198903",
   "outputs": [],
   "execution_count": 34
  },
  {
   "metadata": {},
   "cell_type": "markdown",
   "source": "## Define the Client, Server Apps",
   "id": "e73656b5d73ac995"
  },
  {
   "metadata": {
    "ExecuteTime": {
     "end_time": "2025-05-18T20:25:55.532628Z",
     "start_time": "2025-05-18T20:25:54.645522Z"
    }
   },
   "cell_type": "code",
   "source": [
    "client = get_client_app(\n",
    "    model=model,\n",
    "    optimizer=optimizer,\n",
    "    criterion=criterion,\n",
    "    device=DEVICE,\n",
    "    partition_type=partition_type,\n",
    "    local_epochs=J,\n",
    "    batch_size=batch_size,\n",
    "    num_shards_per_partition=num_shards_per_partition,\n",
    "    scheduler=scheduler,\n",
    "    verbose=0,\n",
    "    model_editing=model_editing,\n",
    "    mask_type=mask_type,\n",
    "    sparsity=sparsity,\n",
    "    mask=mask\n",
    ")"
   ],
   "id": "70467a37aa8c09c7",
   "outputs": [],
   "execution_count": 49
  },
  {
   "metadata": {
    "ExecuteTime": {
     "end_time": "2025-05-18T20:25:59.858975Z",
     "start_time": "2025-05-18T20:25:58.693033Z"
    }
   },
   "cell_type": "code",
   "source": [
    "server = get_server_app(checkpoint_dir=checkpoint_dir,\n",
    "                        model_class=model,\n",
    "                        optimizer=optimizer,\n",
    "                        criterion=criterion,\n",
    "                        scheduler=scheduler,\n",
    "                        num_rounds=num_rounds,\n",
    "                        fraction_fit=fraction_fit,\n",
    "                        fraction_evaluate=fraction_evaluate,\n",
    "                        min_fit_clients=min_fit_clients,\n",
    "                        min_evaluate_clients=min_evaluate_clients,\n",
    "                        min_available_clients=min_available_clients,\n",
    "                        device=device,\n",
    "                        use_wandb=use_wandb,\n",
    "                        wandb_config=wandb_config,\n",
    "                        save_every=save_every,\n",
    "                        prefix='fl_baseline'\n",
    "                        )"
   ],
   "id": "1cbac220e52a6d00",
   "outputs": [
    {
     "name": "stdout",
     "output_type": "stream",
     "text": [
      "🔍 Loading checkpoint from C:\\Users\\ADMIN\\Desktop\\BACKUP\\study\\Italy\\polito\\classes\\20242\\deep learning\\project\\source_code\\fl-g13\\models\\fl_dino_baseline\\iid\\fl_fl_baseline_BaseDino_epoch_79.pth\n",
      "📦 Model class in checkpoint: BaseDino\n",
      "🔧 Model configuration: {'variant': 'dino_vits16', 'dropout_rate': 0.0, 'head_hidden_size': 512, 'head_layers': 3, 'num_classes': 100, 'unfreeze_blocks': 1, 'activation_fn': 'GELU', 'pretrained': True}\n"
     ]
    },
    {
     "name": "stderr",
     "output_type": "stream",
     "text": [
      "Using cache found in C:\\Users\\ADMIN/.cache\\torch\\hub\\facebookresearch_dino_main\n"
     ]
    },
    {
     "name": "stdout",
     "output_type": "stream",
     "text": [
      "➡️ Moved model to device: cuda\n",
      "✅ Loaded checkpoint from C:\\Users\\ADMIN\\Desktop\\BACKUP\\study\\Italy\\polito\\classes\\20242\\deep learning\\project\\source_code\\fl-g13\\models\\fl_dino_baseline\\iid\\fl_fl_baseline_BaseDino_epoch_79.pth, resuming at epoch 80\n"
     ]
    }
   ],
   "execution_count": 50
  },
  {
   "metadata": {},
   "cell_type": "markdown",
   "source": [
    "## Before training\n",
    "\n",
    "Test model performance before fine-turning"
   ],
   "id": "b0bed2551f5eeb0"
  },
  {
   "metadata": {
    "ExecuteTime": {
     "end_time": "2025-05-18T20:14:46.015194Z",
     "start_time": "2025-05-18T20:14:45.000747Z"
    }
   },
   "cell_type": "code",
   "source": [
    "testset = datasets.CIFAR100(RAW_DATA_DIR, train=False, download=True, transform=get_eval_transforms())\n",
    "testloader = DataLoader(testset, batch_size=32)"
   ],
   "id": "90f77fa322ad97c1",
   "outputs": [],
   "execution_count": 37
  },
  {
   "metadata": {
    "ExecuteTime": {
     "end_time": "2025-05-18T20:15:16.296574Z",
     "start_time": "2025-05-18T20:14:46.015194Z"
    }
   },
   "cell_type": "code",
   "source": [
    "test_loss, test_accuracy, _ = eval(testloader, model, criterion)\n",
    "test_loss, test_accuracy"
   ],
   "id": "f9866d97ff7849c7",
   "outputs": [
    {
     "name": "stderr",
     "output_type": "stream",
     "text": [
      "Eval progress: 100%|██████████| 313/313 [00:29<00:00, 10.50batch/s]\n"
     ]
    },
    {
     "data": {
      "text/plain": [
       "(0.8353627384089815, 0.7663)"
      ]
     },
     "execution_count": 38,
     "metadata": {},
     "output_type": "execute_result"
    }
   ],
   "execution_count": 38
  },
  {
   "metadata": {},
   "cell_type": "markdown",
   "source": "## Run the training\n",
   "id": "1427a966f7544b94"
  },
  {
   "metadata": {
    "ExecuteTime": {
     "end_time": "2025-05-18T20:21:37.798453Z",
     "start_time": "2025-05-18T20:21:37.224392Z"
    }
   },
   "cell_type": "code",
   "source": [
    "# Specify the resources each of your clients need\n",
    "# By default, each client will be allocated 1x CPU and 0x GPUs\n",
    "backend_config = {\"client_resources\": {\"num_cpus\": 1, \"num_gpus\": 0.0}}\n",
    "\n",
    "# When running on GPU, assign an entire GPU for each client\n",
    "if DEVICE == \"cuda\":\n",
    "    backend_config[\"client_resources\"] = {\"num_cpus\": 1, \"num_gpus\": 1}\n",
    "    # Refer to our Flower framework documentation for more details about Flower simulations\n",
    "    # and how to set up the `backend_config`"
   ],
   "id": "1388e3308f7b212b",
   "outputs": [],
   "execution_count": 45
  },
  {
   "metadata": {},
   "cell_type": "markdown",
   "source": "",
   "id": "9a1db478a3e1221"
  },
  {
   "metadata": {
    "ExecuteTime": {
     "end_time": "2025-05-18T20:31:40.935410Z",
     "start_time": "2025-05-18T20:26:03.225601Z"
    }
   },
   "cell_type": "code",
   "source": [
    "# Run simulation\n",
    "run_simulation(\n",
    "    server_app=server,\n",
    "    client_app=client,\n",
    "    num_supernodes=NUM_CLIENTS,\n",
    "    backend_config=backend_config\n",
    ")"
   ],
   "id": "1451e826d4713ec9",
   "outputs": [
    {
     "name": "stdout",
     "output_type": "stream",
     "text": [
      "[Server] Server on device: cuda:0\n",
      "[Server] CUDA available in client: True\n"
     ]
    },
    {
     "name": "stderr",
     "output_type": "stream",
     "text": [
      "\u001B[92mINFO \u001B[0m:      Starting Flower ServerApp, config: num_rounds=2, no round_timeout\n",
      "\u001B[92mINFO \u001B[0m:      \n",
      "\u001B[92mINFO \u001B[0m:      [INIT]\n",
      "\u001B[92mINFO \u001B[0m:      Using initial global parameters provided by strategy\n",
      "\u001B[92mINFO \u001B[0m:      Starting evaluation of initial global parameters\n"
     ]
    },
    {
     "name": "stdout",
     "output_type": "stream",
     "text": [
      "[Server Eval Round 0] Model device: cuda:0\n",
      "[Server Eval Round 0] CUDA available in server eval: True\n"
     ]
    },
    {
     "name": "stderr",
     "output_type": "stream",
     "text": [
      "Eval progress: 100%|██████████| 313/313 [00:33<00:00,  9.21batch/s]\n",
      "\u001B[92mINFO \u001B[0m:      [Round 0] Centralized Evaluation - Loss: 0.8354, Metrics: {'centralized_accuracy': 0.7663}\n",
      "\u001B[92mINFO \u001B[0m:      initial parameters (loss, other metrics): 0.8353627384089815, {'centralized_accuracy': 0.7663}\n",
      "\u001B[92mINFO \u001B[0m:      \n",
      "\u001B[92mINFO \u001B[0m:      [ROUND 1]\n",
      "\u001B[92mINFO \u001B[0m:      configure_fit: strategy sampled 10 clients (out of 100)\n",
      "(ClientAppActor pid=19244) 2025-05-18 22:26:42.200 | INFO     | fl_g13.config:<module>:11 - PROJ_ROOT path is: C:\\Users\\ADMIN\\Desktop\\BACKUP\\study\\Italy\\polito\\classes\\20242\\deep learning\\project\\source_code\\fl-g13\n"
     ]
    },
    {
     "name": "stdout",
     "output_type": "stream",
     "text": [
      "(ClientAppActor pid=19244) [Client] Client on device: cuda:0\n",
      "(ClientAppActor pid=19244) [Client] CUDA available in client: True\n"
     ]
    },
    {
     "name": "stderr",
     "output_type": "stream",
     "text": [
      "Fisher Score:   0%|          | 0/25 [00:00<?, ?batch/s]\n",
      "Fisher Score:   4%|▍         | 1/25 [00:00<00:08,  2.93batch/s]\n",
      "Fisher Score:  12%|█▏        | 3/25 [00:00<00:02,  7.42batch/s]\n",
      "Fisher Score:  20%|██        | 5/25 [00:00<00:01, 10.55batch/s]\n",
      "Fisher Score:  28%|██▊       | 7/25 [00:00<00:01, 13.00batch/s]\n",
      "Fisher Score:  40%|████      | 10/25 [00:00<00:00, 15.81batch/s]\n",
      "Fisher Score:  48%|████▊     | 12/25 [00:00<00:00, 16.87batch/s]\n",
      "Fisher Score:  60%|██████    | 15/25 [00:01<00:00, 18.04batch/s]\n",
      "Fisher Score:  72%|███████▏  | 18/25 [00:01<00:00, 18.62batch/s]\n",
      "Fisher Score:  84%|████████▍ | 21/25 [00:01<00:00, 19.16batch/s]\n",
      "Fisher Score: 100%|██████████| 25/25 [00:01<00:00, 15.81batch/s]\n"
     ]
    },
    {
     "name": "stdout",
     "output_type": "stream",
     "text": [
      "(ClientAppActor pid=19244) No prefix/name for the model was provided, choosen prefix/name: cheeky_pidgeotto_27\n",
      "(ClientAppActor pid=19244) \n",
      "(ClientAppActor pid=19244) 🚀 Epoch 1/4 (25.00%) Completed\n",
      "(ClientAppActor pid=19244) \t📊 Training Loss: 0.3543\n",
      "(ClientAppActor pid=19244) \t✅ Training Accuracy: 86.75%\n",
      "(ClientAppActor pid=19244) \t⏳ Elapsed Time: 1.54s | ETA: 4.62s\n",
      "(ClientAppActor pid=19244) \t🕒 Completed At: 22:26\n",
      "(ClientAppActor pid=19244) \n"
     ]
    },
    {
     "name": "stderr",
     "output_type": "stream",
     "text": [
      "(ClientAppActor pid=19244) C:\\Users\\ADMIN\\Desktop\\BACKUP\\study\\Italy\\polito\\classes\\20242\\deep learning\\project\\source_code\\fl-g13\\.venv\\lib\\site-packages\\torch\\optim\\lr_scheduler.py:217: UserWarning: Seems like `optimizer.step()` has been overridden after learning rate scheduler initialization. Please, make sure to call `optimizer.step()` before `lr_scheduler.step()`. See more details at https://pytorch.org/docs/stable/optim.html#how-to-adjust-learning-rate\n",
      "(ClientAppActor pid=19244)   warnings.warn(\n"
     ]
    },
    {
     "name": "stdout",
     "output_type": "stream",
     "text": [
      "(ClientAppActor pid=19244) 🚀 Epoch 2/4 (50.00%) Completed\n",
      "(ClientAppActor pid=19244) \t📊 Training Loss: 0.5026\n",
      "(ClientAppActor pid=19244) \t✅ Training Accuracy: 87.75%\n",
      "(ClientAppActor pid=19244) \t⏳ Elapsed Time: 1.50s | ETA: 2.99s\n",
      "(ClientAppActor pid=19244) \t🕒 Completed At: 22:26\n",
      "(ClientAppActor pid=19244) \n",
      "(ClientAppActor pid=19244) 🚀 Epoch 3/4 (75.00%) Completed\n",
      "(ClientAppActor pid=19244) \t📊 Training Loss: 0.3331\n",
      "(ClientAppActor pid=19244) \t✅ Training Accuracy: 86.50%\n",
      "(ClientAppActor pid=19244) \t⏳ Elapsed Time: 1.50s | ETA: 1.50s\n",
      "(ClientAppActor pid=19244) \t🕒 Completed At: 22:27\n",
      "(ClientAppActor pid=19244) \n",
      "(ClientAppActor pid=19244) 🚀 Epoch 4/4 (100.00%) Completed\n",
      "(ClientAppActor pid=19244) \t📊 Training Loss: 0.4357\n",
      "(ClientAppActor pid=19244) \t✅ Training Accuracy: 87.25%\n",
      "(ClientAppActor pid=19244) \t⏳ Elapsed Time: 1.50s | ETA: 0.00s\n",
      "(ClientAppActor pid=19244) \t🕒 Completed At: 22:27\n",
      "(ClientAppActor pid=19244) \n",
      "(ClientAppActor pid=19244) [Client] Client on device: cuda:0\n",
      "(ClientAppActor pid=19244) [Client] CUDA available in client: True\n"
     ]
    },
    {
     "name": "stderr",
     "output_type": "stream",
     "text": [
      "Fisher Score:   0%|          | 0/25 [00:00<?, ?batch/s]\n",
      "Fisher Score:   8%|▊         | 2/25 [00:00<00:01, 19.91batch/s]\n",
      "Fisher Score:  16%|█▌        | 4/25 [00:00<00:01, 18.73batch/s]\n",
      "Fisher Score:  28%|██▊       | 7/25 [00:00<00:00, 19.30batch/s]\n",
      "Fisher Score:  36%|███▌      | 9/25 [00:00<00:00, 19.46batch/s]\n",
      "Fisher Score:  44%|████▍     | 11/25 [00:00<00:00, 19.56batch/s]\n",
      "Fisher Score:  52%|█████▏    | 13/25 [00:00<00:00, 19.42batch/s]\n",
      "Fisher Score:  64%|██████▍   | 16/25 [00:00<00:00, 20.13batch/s]\n",
      "Fisher Score:  76%|███████▌  | 19/25 [00:00<00:00, 19.52batch/s]\n",
      "Fisher Score:  84%|████████▍ | 21/25 [00:01<00:00, 19.51batch/s]\n",
      "Fisher Score:  92%|█████████▏| 23/25 [00:01<00:00, 19.59batch/s]\n",
      "Fisher Score: 100%|██████████| 25/25 [00:01<00:00, 19.57batch/s]\n"
     ]
    },
    {
     "name": "stdout",
     "output_type": "stream",
     "text": [
      "(ClientAppActor pid=19244) No prefix/name for the model was provided, choosen prefix/name: jolly_nidorina_26\n",
      "(ClientAppActor pid=19244) \n",
      "(ClientAppActor pid=19244) 🚀 Epoch 1/4 (25.00%) Completed\n",
      "(ClientAppActor pid=19244) \t📊 Training Loss: 0.4523\n",
      "(ClientAppActor pid=19244) \t✅ Training Accuracy: 85.50%\n",
      "(ClientAppActor pid=19244) \t⏳ Elapsed Time: 1.52s | ETA: 4.57s\n",
      "(ClientAppActor pid=19244) \t🕒 Completed At: 22:27\n",
      "(ClientAppActor pid=19244) \n",
      "(ClientAppActor pid=19244) 🚀 Epoch 2/4 (50.00%) Completed\n",
      "(ClientAppActor pid=19244) \t📊 Training Loss: 0.5448\n",
      "(ClientAppActor pid=19244) \t✅ Training Accuracy: 85.00%\n",
      "(ClientAppActor pid=19244) \t⏳ Elapsed Time: 1.52s | ETA: 3.04s\n",
      "(ClientAppActor pid=19244) \t🕒 Completed At: 22:27\n",
      "(ClientAppActor pid=19244) \n",
      "(ClientAppActor pid=19244) 🚀 Epoch 3/4 (75.00%) Completed\n",
      "(ClientAppActor pid=19244) \t📊 Training Loss: 0.5664\n",
      "(ClientAppActor pid=19244) \t✅ Training Accuracy: 86.50%\n",
      "(ClientAppActor pid=19244) \t⏳ Elapsed Time: 1.51s | ETA: 1.51s\n",
      "(ClientAppActor pid=19244) \t🕒 Completed At: 22:27\n",
      "(ClientAppActor pid=19244) \n",
      "(ClientAppActor pid=19244) 🚀 Epoch 4/4 (100.00%) Completed\n",
      "(ClientAppActor pid=19244) \t📊 Training Loss: 0.5814\n",
      "(ClientAppActor pid=19244) \t✅ Training Accuracy: 85.75%\n",
      "(ClientAppActor pid=19244) \t⏳ Elapsed Time: 1.51s | ETA: 0.00s\n",
      "(ClientAppActor pid=19244) \t🕒 Completed At: 22:27\n",
      "(ClientAppActor pid=19244) \n",
      "(ClientAppActor pid=19244) [Client] Client on device: cuda:0\n",
      "(ClientAppActor pid=19244) [Client] CUDA available in client: True\n"
     ]
    },
    {
     "name": "stderr",
     "output_type": "stream",
     "text": [
      "Fisher Score:   0%|          | 0/25 [00:00<?, ?batch/s]\n",
      "Fisher Score:  12%|█▏        | 3/25 [00:00<00:00, 24.00batch/s]\n",
      "Fisher Score:  24%|██▍       | 6/25 [00:00<00:00, 21.35batch/s]\n",
      "Fisher Score:  36%|███▌      | 9/25 [00:00<00:00, 20.55batch/s]\n",
      "Fisher Score:  48%|████▊     | 12/25 [00:00<00:00, 20.30batch/s]\n",
      "Fisher Score:  60%|██████    | 15/25 [00:00<00:00, 20.00batch/s]\n",
      "Fisher Score:  72%|███████▏  | 18/25 [00:00<00:00, 20.36batch/s]\n",
      "Fisher Score:  84%|████████▍ | 21/25 [00:01<00:00, 20.22batch/s]\n",
      "Fisher Score: 100%|██████████| 25/25 [00:01<00:00, 20.30batch/s]\n"
     ]
    },
    {
     "name": "stdout",
     "output_type": "stream",
     "text": [
      "(ClientAppActor pid=19244) No prefix/name for the model was provided, choosen prefix/name: cranky_rattata_25\n",
      "(ClientAppActor pid=19244) \n",
      "(ClientAppActor pid=19244) 🚀 Epoch 1/4 (25.00%) Completed\n",
      "(ClientAppActor pid=19244) \t📊 Training Loss: 0.3807\n",
      "(ClientAppActor pid=19244) \t✅ Training Accuracy: 86.00%\n",
      "(ClientAppActor pid=19244) \t⏳ Elapsed Time: 1.53s | ETA: 4.59s\n",
      "(ClientAppActor pid=19244) \t🕒 Completed At: 22:27\n",
      "(ClientAppActor pid=19244) \n",
      "(ClientAppActor pid=19244) 🚀 Epoch 2/4 (50.00%) Completed\n",
      "(ClientAppActor pid=19244) \t📊 Training Loss: 0.3709\n",
      "(ClientAppActor pid=19244) \t✅ Training Accuracy: 87.00%\n",
      "(ClientAppActor pid=19244) \t⏳ Elapsed Time: 1.51s | ETA: 3.02s\n",
      "(ClientAppActor pid=19244) \t🕒 Completed At: 22:27\n",
      "(ClientAppActor pid=19244) \n",
      "(ClientAppActor pid=19244) 🚀 Epoch 3/4 (75.00%) Completed\n",
      "(ClientAppActor pid=19244) \t📊 Training Loss: 0.5054\n",
      "(ClientAppActor pid=19244) \t✅ Training Accuracy: 85.50%\n",
      "(ClientAppActor pid=19244) \t⏳ Elapsed Time: 1.50s | ETA: 1.50s\n",
      "(ClientAppActor pid=19244) \t🕒 Completed At: 22:27\n",
      "(ClientAppActor pid=19244) \n",
      "(ClientAppActor pid=19244) 🚀 Epoch 4/4 (100.00%) Completed\n",
      "(ClientAppActor pid=19244) \t📊 Training Loss: 0.4179\n",
      "(ClientAppActor pid=19244) \t✅ Training Accuracy: 86.50%\n",
      "(ClientAppActor pid=19244) \t⏳ Elapsed Time: 1.50s | ETA: 0.00s\n",
      "(ClientAppActor pid=19244) \t🕒 Completed At: 22:27\n",
      "(ClientAppActor pid=19244) \n"
     ]
    },
    {
     "name": "stderr",
     "output_type": "stream",
     "text": [
      "Fisher Score:   0%|          | 0/25 [00:00<?, ?batch/s]\n"
     ]
    },
    {
     "name": "stdout",
     "output_type": "stream",
     "text": [
      "(ClientAppActor pid=19244) [Client] Client on device: cuda:0\n",
      "(ClientAppActor pid=19244) [Client] CUDA available in client: True\n"
     ]
    },
    {
     "name": "stderr",
     "output_type": "stream",
     "text": [
      "Fisher Score:  12%|█▏        | 3/25 [00:00<00:01, 21.78batch/s]\n",
      "Fisher Score:  24%|██▍       | 6/25 [00:00<00:00, 20.74batch/s]\n",
      "Fisher Score:  36%|███▌      | 9/25 [00:00<00:00, 20.95batch/s]\n",
      "Fisher Score:  48%|████▊     | 12/25 [00:00<00:00, 19.90batch/s]\n",
      "Fisher Score:  60%|██████    | 15/25 [00:00<00:00, 20.09batch/s]\n",
      "Fisher Score:  72%|███████▏  | 18/25 [00:00<00:00, 19.80batch/s]\n",
      "Fisher Score:  84%|████████▍ | 21/25 [00:01<00:00, 20.00batch/s]\n",
      "Fisher Score:  96%|█████████▌| 24/25 [00:01<00:00, 20.01batch/s]\n",
      "Fisher Score: 100%|██████████| 25/25 [00:01<00:00, 20.15batch/s]\n"
     ]
    },
    {
     "name": "stdout",
     "output_type": "stream",
     "text": [
      "(ClientAppActor pid=19244) No prefix/name for the model was provided, choosen prefix/name: peppy_nidorina_38\n",
      "(ClientAppActor pid=19244) \n",
      "(ClientAppActor pid=19244) 🚀 Epoch 1/4 (25.00%) Completed\n",
      "(ClientAppActor pid=19244) \t📊 Training Loss: 0.5678\n",
      "(ClientAppActor pid=19244) \t✅ Training Accuracy: 86.50%\n",
      "(ClientAppActor pid=19244) \t⏳ Elapsed Time: 1.51s | ETA: 4.54s\n",
      "(ClientAppActor pid=19244) \t🕒 Completed At: 22:27\n",
      "(ClientAppActor pid=19244) \n",
      "(ClientAppActor pid=19244) 🚀 Epoch 2/4 (50.00%) Completed\n",
      "(ClientAppActor pid=19244) \t📊 Training Loss: 0.4242\n",
      "(ClientAppActor pid=19244) \t✅ Training Accuracy: 84.25%\n",
      "(ClientAppActor pid=19244) \t⏳ Elapsed Time: 1.50s | ETA: 3.01s\n",
      "(ClientAppActor pid=19244) \t🕒 Completed At: 22:27\n",
      "(ClientAppActor pid=19244) \n",
      "(ClientAppActor pid=19244) 🚀 Epoch 3/4 (75.00%) Completed\n",
      "(ClientAppActor pid=19244) \t📊 Training Loss: 0.4378\n",
      "(ClientAppActor pid=19244) \t✅ Training Accuracy: 84.25%\n",
      "(ClientAppActor pid=19244) \t⏳ Elapsed Time: 1.51s | ETA: 1.51s\n",
      "(ClientAppActor pid=19244) \t🕒 Completed At: 22:27\n",
      "(ClientAppActor pid=19244) \n",
      "(ClientAppActor pid=19244) 🚀 Epoch 4/4 (100.00%) Completed\n",
      "(ClientAppActor pid=19244) \t📊 Training Loss: 0.3358\n",
      "(ClientAppActor pid=19244) \t✅ Training Accuracy: 87.25%\n",
      "(ClientAppActor pid=19244) \t⏳ Elapsed Time: 1.51s | ETA: 0.00s\n",
      "(ClientAppActor pid=19244) \t🕒 Completed At: 22:27\n",
      "(ClientAppActor pid=19244) \n"
     ]
    },
    {
     "name": "stderr",
     "output_type": "stream",
     "text": [
      "Fisher Score:   0%|          | 0/25 [00:00<?, ?batch/s]\n"
     ]
    },
    {
     "name": "stdout",
     "output_type": "stream",
     "text": [
      "(ClientAppActor pid=19244) [Client] Client on device: cuda:0\n",
      "(ClientAppActor pid=19244) [Client] CUDA available in client: True\n"
     ]
    },
    {
     "name": "stderr",
     "output_type": "stream",
     "text": [
      "Fisher Score:  12%|█▏        | 3/25 [00:00<00:01, 21.94batch/s]\n",
      "Fisher Score:  24%|██▍       | 6/25 [00:00<00:00, 21.14batch/s]\n",
      "Fisher Score:  36%|███▌      | 9/25 [00:00<00:00, 20.50batch/s]\n",
      "Fisher Score:  48%|████▊     | 12/25 [00:00<00:00, 20.11batch/s]\n",
      "Fisher Score:  60%|██████    | 15/25 [00:00<00:00, 20.28batch/s]\n",
      "Fisher Score:  72%|███████▏  | 18/25 [00:00<00:00, 19.84batch/s]\n",
      "Fisher Score:  84%|████████▍ | 21/25 [00:01<00:00, 20.02batch/s]\n",
      "Fisher Score: 100%|██████████| 25/25 [00:01<00:00, 20.13batch/s]\n"
     ]
    },
    {
     "name": "stdout",
     "output_type": "stream",
     "text": [
      "(ClientAppActor pid=19244) No prefix/name for the model was provided, choosen prefix/name: fluffy_caterpie_32\n",
      "(ClientAppActor pid=19244) \n",
      "(ClientAppActor pid=19244) 🚀 Epoch 1/4 (25.00%) Completed\n",
      "(ClientAppActor pid=19244) \t📊 Training Loss: 0.2806\n",
      "(ClientAppActor pid=19244) \t✅ Training Accuracy: 89.50%\n",
      "(ClientAppActor pid=19244) \t⏳ Elapsed Time: 1.51s | ETA: 4.53s\n",
      "(ClientAppActor pid=19244) \t🕒 Completed At: 22:27\n",
      "(ClientAppActor pid=19244) \n",
      "(ClientAppActor pid=19244) 🚀 Epoch 2/4 (50.00%) Completed\n",
      "(ClientAppActor pid=19244) \t📊 Training Loss: 0.2946\n",
      "(ClientAppActor pid=19244) \t✅ Training Accuracy: 89.75%\n",
      "(ClientAppActor pid=19244) \t⏳ Elapsed Time: 1.52s | ETA: 3.04s\n",
      "(ClientAppActor pid=19244) \t🕒 Completed At: 22:27\n",
      "(ClientAppActor pid=19244) \n",
      "(ClientAppActor pid=19244) 🚀 Epoch 3/4 (75.00%) Completed\n",
      "(ClientAppActor pid=19244) \t📊 Training Loss: 0.2694\n",
      "(ClientAppActor pid=19244) \t✅ Training Accuracy: 89.25%\n",
      "(ClientAppActor pid=19244) \t⏳ Elapsed Time: 1.51s | ETA: 1.51s\n",
      "(ClientAppActor pid=19244) \t🕒 Completed At: 22:27\n",
      "(ClientAppActor pid=19244) \n",
      "(ClientAppActor pid=19244) 🚀 Epoch 4/4 (100.00%) Completed\n",
      "(ClientAppActor pid=19244) \t📊 Training Loss: 0.3094\n",
      "(ClientAppActor pid=19244) \t✅ Training Accuracy: 91.50%\n",
      "(ClientAppActor pid=19244) \t⏳ Elapsed Time: 1.52s | ETA: 0.00s\n",
      "(ClientAppActor pid=19244) \t🕒 Completed At: 22:27\n",
      "(ClientAppActor pid=19244) \n"
     ]
    },
    {
     "name": "stderr",
     "output_type": "stream",
     "text": [
      "Fisher Score:   0%|          | 0/25 [00:00<?, ?batch/s]\n"
     ]
    },
    {
     "name": "stdout",
     "output_type": "stream",
     "text": [
      "(ClientAppActor pid=19244) [Client] Client on device: cuda:0\n",
      "(ClientAppActor pid=19244) [Client] CUDA available in client: True\n"
     ]
    },
    {
     "name": "stderr",
     "output_type": "stream",
     "text": [
      "Fisher Score:  12%|█▏        | 3/25 [00:00<00:01, 21.80batch/s]\n",
      "Fisher Score:  24%|██▍       | 6/25 [00:00<00:00, 20.69batch/s]\n",
      "Fisher Score:  36%|███▌      | 9/25 [00:00<00:00, 20.81batch/s]\n",
      "Fisher Score:  48%|████▊     | 12/25 [00:00<00:00, 19.95batch/s]\n",
      "Fisher Score:  60%|██████    | 15/25 [00:00<00:00, 20.39batch/s]\n",
      "Fisher Score:  72%|███████▏  | 18/25 [00:00<00:00, 19.73batch/s]\n",
      "Fisher Score:  80%|████████  | 20/25 [00:00<00:00, 19.77batch/s]\n",
      "Fisher Score:  88%|████████▊ | 22/25 [00:01<00:00, 19.64batch/s]\n",
      "Fisher Score: 100%|██████████| 25/25 [00:01<00:00, 20.02batch/s]\n"
     ]
    },
    {
     "name": "stdout",
     "output_type": "stream",
     "text": [
      "(ClientAppActor pid=19244) No prefix/name for the model was provided, choosen prefix/name: peppy_nidorina_55\n",
      "(ClientAppActor pid=19244) \n",
      "(ClientAppActor pid=19244) 🚀 Epoch 1/4 (25.00%) Completed\n",
      "(ClientAppActor pid=19244) \t📊 Training Loss: 0.6102\n",
      "(ClientAppActor pid=19244) \t✅ Training Accuracy: 82.00%\n",
      "(ClientAppActor pid=19244) \t⏳ Elapsed Time: 1.54s | ETA: 4.63s\n",
      "(ClientAppActor pid=19244) \t🕒 Completed At: 22:27\n",
      "(ClientAppActor pid=19244) \n",
      "(ClientAppActor pid=19244) 🚀 Epoch 2/4 (50.00%) Completed\n",
      "(ClientAppActor pid=19244) \t📊 Training Loss: 0.7517\n",
      "(ClientAppActor pid=19244) \t✅ Training Accuracy: 82.50%\n",
      "(ClientAppActor pid=19244) \t⏳ Elapsed Time: 1.50s | ETA: 2.99s\n",
      "(ClientAppActor pid=19244) \t🕒 Completed At: 22:27\n",
      "(ClientAppActor pid=19244) \n",
      "(ClientAppActor pid=19244) 🚀 Epoch 3/4 (75.00%) Completed\n",
      "(ClientAppActor pid=19244) \t📊 Training Loss: 0.5801\n",
      "(ClientAppActor pid=19244) \t✅ Training Accuracy: 82.00%\n",
      "(ClientAppActor pid=19244) \t⏳ Elapsed Time: 1.50s | ETA: 1.50s\n",
      "(ClientAppActor pid=19244) \t🕒 Completed At: 22:27\n",
      "(ClientAppActor pid=19244) \n",
      "(ClientAppActor pid=19244) 🚀 Epoch 4/4 (100.00%) Completed\n",
      "(ClientAppActor pid=19244) \t📊 Training Loss: 0.6007\n",
      "(ClientAppActor pid=19244) \t✅ Training Accuracy: 83.25%\n",
      "(ClientAppActor pid=19244) \t⏳ Elapsed Time: 1.50s | ETA: 0.00s\n",
      "(ClientAppActor pid=19244) \t🕒 Completed At: 22:27\n",
      "(ClientAppActor pid=19244) \n",
      "(ClientAppActor pid=19244) [Client] Client on device: cuda:0\n",
      "(ClientAppActor pid=19244) [Client] CUDA available in client: True\n"
     ]
    },
    {
     "name": "stderr",
     "output_type": "stream",
     "text": [
      "Fisher Score:   0%|          | 0/25 [00:00<?, ?batch/s]\n",
      "Fisher Score:  12%|█▏        | 3/25 [00:00<00:01, 21.77batch/s]\n",
      "Fisher Score:  24%|██▍       | 6/25 [00:00<00:00, 20.57batch/s]\n",
      "Fisher Score:  36%|███▌      | 9/25 [00:00<00:00, 20.90batch/s]\n",
      "Fisher Score:  48%|████▊     | 12/25 [00:00<00:00, 20.22batch/s]\n",
      "Fisher Score:  60%|██████    | 15/25 [00:00<00:00, 19.96batch/s]\n",
      "Fisher Score:  68%|██████▊   | 17/25 [00:00<00:00, 19.87batch/s]\n",
      "Fisher Score:  76%|███████▌  | 19/25 [00:00<00:00, 19.59batch/s]\n",
      "Fisher Score:  88%|████████▊ | 22/25 [00:01<00:00, 20.11batch/s]\n",
      "Fisher Score: 100%|██████████| 25/25 [00:01<00:00, 20.04batch/s]\n"
     ]
    },
    {
     "name": "stdout",
     "output_type": "stream",
     "text": [
      "(ClientAppActor pid=19244) No prefix/name for the model was provided, choosen prefix/name: jazzy_clefairy_10\n",
      "(ClientAppActor pid=19244) \n",
      "(ClientAppActor pid=19244) 🚀 Epoch 1/4 (25.00%) Completed\n",
      "(ClientAppActor pid=19244) \t📊 Training Loss: 0.3247\n",
      "(ClientAppActor pid=19244) \t✅ Training Accuracy: 87.75%\n",
      "(ClientAppActor pid=19244) \t⏳ Elapsed Time: 1.50s | ETA: 4.50s\n",
      "(ClientAppActor pid=19244) \t🕒 Completed At: 22:27\n",
      "(ClientAppActor pid=19244) \n",
      "(ClientAppActor pid=19244) 🚀 Epoch 2/4 (50.00%) Completed\n",
      "(ClientAppActor pid=19244) \t📊 Training Loss: 0.4268\n",
      "(ClientAppActor pid=19244) \t✅ Training Accuracy: 87.75%\n",
      "(ClientAppActor pid=19244) \t⏳ Elapsed Time: 1.50s | ETA: 3.01s\n",
      "(ClientAppActor pid=19244) \t🕒 Completed At: 22:27\n",
      "(ClientAppActor pid=19244) \n",
      "(ClientAppActor pid=19244) 🚀 Epoch 3/4 (75.00%) Completed\n",
      "(ClientAppActor pid=19244) \t📊 Training Loss: 0.2985\n",
      "(ClientAppActor pid=19244) \t✅ Training Accuracy: 90.50%\n",
      "(ClientAppActor pid=19244) \t⏳ Elapsed Time: 1.52s | ETA: 1.52s\n",
      "(ClientAppActor pid=19244) \t🕒 Completed At: 22:27\n",
      "(ClientAppActor pid=19244) \n",
      "(ClientAppActor pid=19244) 🚀 Epoch 4/4 (100.00%) Completed\n",
      "(ClientAppActor pid=19244) \t📊 Training Loss: 0.4541\n",
      "(ClientAppActor pid=19244) \t✅ Training Accuracy: 88.00%\n",
      "(ClientAppActor pid=19244) \t⏳ Elapsed Time: 1.52s | ETA: 0.00s\n",
      "(ClientAppActor pid=19244) \t🕒 Completed At: 22:27\n",
      "(ClientAppActor pid=19244) \n",
      "(ClientAppActor pid=19244) [Client] Client on device: cuda:0\n",
      "(ClientAppActor pid=19244) [Client] CUDA available in client: True\n"
     ]
    },
    {
     "name": "stderr",
     "output_type": "stream",
     "text": [
      "Fisher Score:   0%|          | 0/25 [00:00<?, ?batch/s]\n",
      "Fisher Score:  12%|█▏        | 3/25 [00:00<00:01, 21.79batch/s]\n",
      "Fisher Score:  24%|██▍       | 6/25 [00:00<00:00, 20.76batch/s]\n",
      "Fisher Score:  36%|███▌      | 9/25 [00:00<00:00, 20.36batch/s]\n",
      "Fisher Score:  48%|████▊     | 12/25 [00:00<00:00, 20.07batch/s]\n",
      "Fisher Score:  68%|██████▊   | 17/25 [00:00<00:00, 19.93batch/s]\n",
      "Fisher Score:  76%|███████▌  | 19/25 [00:00<00:00, 19.89batch/s]\n",
      "Fisher Score:  84%|████████▍ | 21/25 [00:01<00:00, 19.75batch/s]\n",
      "Fisher Score:  92%|█████████▏| 23/25 [00:01<00:00, 19.67batch/s]\n",
      "Fisher Score: 100%|██████████| 25/25 [00:01<00:00, 19.99batch/s]\n"
     ]
    },
    {
     "name": "stdout",
     "output_type": "stream",
     "text": [
      "(ClientAppActor pid=19244) No prefix/name for the model was provided, choosen prefix/name: dizzy_butterfree_67\n",
      "(ClientAppActor pid=19244) \n",
      "(ClientAppActor pid=19244) 🚀 Epoch 1/4 (25.00%) Completed\n",
      "(ClientAppActor pid=19244) \t📊 Training Loss: 0.5161\n",
      "(ClientAppActor pid=19244) \t✅ Training Accuracy: 85.75%\n",
      "(ClientAppActor pid=19244) \t⏳ Elapsed Time: 1.51s | ETA: 4.54s\n",
      "(ClientAppActor pid=19244) \t🕒 Completed At: 22:27\n",
      "(ClientAppActor pid=19244) \n",
      "(ClientAppActor pid=19244) 🚀 Epoch 2/4 (50.00%) Completed\n",
      "(ClientAppActor pid=19244) \t📊 Training Loss: 0.3831\n",
      "(ClientAppActor pid=19244) \t✅ Training Accuracy: 86.25%\n",
      "(ClientAppActor pid=19244) \t⏳ Elapsed Time: 1.50s | ETA: 3.01s\n",
      "(ClientAppActor pid=19244) \t🕒 Completed At: 22:28\n",
      "(ClientAppActor pid=19244) \n",
      "(ClientAppActor pid=19244) 🚀 Epoch 3/4 (75.00%) Completed\n",
      "(ClientAppActor pid=19244) \t📊 Training Loss: 0.4537\n",
      "(ClientAppActor pid=19244) \t✅ Training Accuracy: 86.25%\n",
      "(ClientAppActor pid=19244) \t⏳ Elapsed Time: 1.52s | ETA: 1.52s\n",
      "(ClientAppActor pid=19244) \t🕒 Completed At: 22:28\n",
      "(ClientAppActor pid=19244) \n",
      "(ClientAppActor pid=19244) 🚀 Epoch 4/4 (100.00%) Completed\n",
      "(ClientAppActor pid=19244) \t📊 Training Loss: 0.4842\n",
      "(ClientAppActor pid=19244) \t✅ Training Accuracy: 85.25%\n",
      "(ClientAppActor pid=19244) \t⏳ Elapsed Time: 1.48s | ETA: 0.00s\n",
      "(ClientAppActor pid=19244) \t🕒 Completed At: 22:28\n",
      "(ClientAppActor pid=19244) \n"
     ]
    },
    {
     "name": "stderr",
     "output_type": "stream",
     "text": [
      "Fisher Score:   0%|          | 0/25 [00:00<?, ?batch/s]\n"
     ]
    },
    {
     "name": "stdout",
     "output_type": "stream",
     "text": [
      "(ClientAppActor pid=19244) [Client] Client on device: cuda:0\n",
      "(ClientAppActor pid=19244) [Client] CUDA available in client: True\n"
     ]
    },
    {
     "name": "stderr",
     "output_type": "stream",
     "text": [
      "Fisher Score:  12%|█▏        | 3/25 [00:00<00:00, 22.41batch/s]\n",
      "Fisher Score:  24%|██▍       | 6/25 [00:00<00:00, 20.97batch/s]\n",
      "Fisher Score:  36%|███▌      | 9/25 [00:00<00:00, 20.52batch/s]\n",
      "Fisher Score:  48%|████▊     | 12/25 [00:00<00:00, 20.13batch/s]\n",
      "Fisher Score:  60%|██████    | 15/25 [00:00<00:00, 20.09batch/s]\n",
      "Fisher Score:  72%|███████▏  | 18/25 [00:00<00:00, 19.84batch/s]\n",
      "Fisher Score:  84%|████████▍ | 21/25 [00:01<00:00, 19.87batch/s]\n",
      "Fisher Score: 100%|██████████| 25/25 [00:01<00:00, 20.12batch/s]\n"
     ]
    },
    {
     "name": "stdout",
     "output_type": "stream",
     "text": [
      "(ClientAppActor pid=19244) No prefix/name for the model was provided, choosen prefix/name: cranky_nidoqueen_73\n",
      "(ClientAppActor pid=19244) \n",
      "(ClientAppActor pid=19244) 🚀 Epoch 1/4 (25.00%) Completed\n",
      "(ClientAppActor pid=19244) \t📊 Training Loss: 0.5160\n",
      "(ClientAppActor pid=19244) \t✅ Training Accuracy: 83.00%\n",
      "(ClientAppActor pid=19244) \t⏳ Elapsed Time: 1.52s | ETA: 4.56s\n",
      "(ClientAppActor pid=19244) \t🕒 Completed At: 22:28\n",
      "(ClientAppActor pid=19244) \n",
      "(ClientAppActor pid=19244) 🚀 Epoch 2/4 (50.00%) Completed\n",
      "(ClientAppActor pid=19244) \t📊 Training Loss: 0.4621\n",
      "(ClientAppActor pid=19244) \t✅ Training Accuracy: 84.00%\n",
      "(ClientAppActor pid=19244) \t⏳ Elapsed Time: 1.50s | ETA: 3.01s\n",
      "(ClientAppActor pid=19244) \t🕒 Completed At: 22:28\n",
      "(ClientAppActor pid=19244) \n",
      "(ClientAppActor pid=19244) 🚀 Epoch 3/4 (75.00%) Completed\n",
      "(ClientAppActor pid=19244) \t📊 Training Loss: 0.4667\n",
      "(ClientAppActor pid=19244) \t✅ Training Accuracy: 83.00%\n",
      "(ClientAppActor pid=19244) \t⏳ Elapsed Time: 1.51s | ETA: 1.51s\n",
      "(ClientAppActor pid=19244) \t🕒 Completed At: 22:28\n",
      "(ClientAppActor pid=19244) \n",
      "(ClientAppActor pid=19244) 🚀 Epoch 4/4 (100.00%) Completed\n",
      "(ClientAppActor pid=19244) \t📊 Training Loss: 0.5491\n",
      "(ClientAppActor pid=19244) \t✅ Training Accuracy: 83.50%\n",
      "(ClientAppActor pid=19244) \t⏳ Elapsed Time: 1.50s | ETA: 0.00s\n",
      "(ClientAppActor pid=19244) \t🕒 Completed At: 22:28\n",
      "(ClientAppActor pid=19244) \n"
     ]
    },
    {
     "name": "stderr",
     "output_type": "stream",
     "text": [
      "Fisher Score:   0%|          | 0/25 [00:00<?, ?batch/s]\n"
     ]
    },
    {
     "name": "stdout",
     "output_type": "stream",
     "text": [
      "(ClientAppActor pid=19244) [Client] Client on device: cuda:0\n",
      "(ClientAppActor pid=19244) [Client] CUDA available in client: True\n"
     ]
    },
    {
     "name": "stderr",
     "output_type": "stream",
     "text": [
      "Fisher Score:  12%|█▏        | 3/25 [00:00<00:01, 21.86batch/s]\n",
      "Fisher Score:  24%|██▍       | 6/25 [00:00<00:00, 20.67batch/s]\n",
      "Fisher Score:  36%|███▌      | 9/25 [00:00<00:00, 20.25batch/s]\n",
      "Fisher Score:  48%|████▊     | 12/25 [00:00<00:00, 20.13batch/s]\n",
      "Fisher Score:  60%|██████    | 15/25 [00:00<00:00, 20.03batch/s]\n",
      "Fisher Score:  72%|███████▏  | 18/25 [00:00<00:00, 20.06batch/s]\n",
      "Fisher Score:  84%|████████▍ | 21/25 [00:01<00:00, 19.76batch/s]\n",
      "Fisher Score: 100%|██████████| 25/25 [00:01<00:00, 20.02batch/s]\n"
     ]
    },
    {
     "name": "stdout",
     "output_type": "stream",
     "text": [
      "(ClientAppActor pid=19244) No prefix/name for the model was provided, choosen prefix/name: zesty_wartortle_32\n",
      "(ClientAppActor pid=19244) \n",
      "(ClientAppActor pid=19244) 🚀 Epoch 1/4 (25.00%) Completed\n",
      "(ClientAppActor pid=19244) \t📊 Training Loss: 0.5378\n",
      "(ClientAppActor pid=19244) \t✅ Training Accuracy: 83.50%\n",
      "(ClientAppActor pid=19244) \t⏳ Elapsed Time: 1.53s | ETA: 4.59s\n",
      "(ClientAppActor pid=19244) \t🕒 Completed At: 22:28\n",
      "(ClientAppActor pid=19244) \n",
      "(ClientAppActor pid=19244) 🚀 Epoch 2/4 (50.00%) Completed\n",
      "(ClientAppActor pid=19244) \t📊 Training Loss: 0.5316\n",
      "(ClientAppActor pid=19244) \t✅ Training Accuracy: 83.75%\n",
      "(ClientAppActor pid=19244) \t⏳ Elapsed Time: 1.50s | ETA: 3.01s\n",
      "(ClientAppActor pid=19244) \t🕒 Completed At: 22:28\n",
      "(ClientAppActor pid=19244) \n",
      "(ClientAppActor pid=19244) 🚀 Epoch 3/4 (75.00%) Completed\n",
      "(ClientAppActor pid=19244) \t📊 Training Loss: 0.4827\n",
      "(ClientAppActor pid=19244) \t✅ Training Accuracy: 81.00%\n",
      "(ClientAppActor pid=19244) \t⏳ Elapsed Time: 1.50s | ETA: 1.50s\n",
      "(ClientAppActor pid=19244) \t🕒 Completed At: 22:28\n",
      "(ClientAppActor pid=19244) \n",
      "(ClientAppActor pid=19244) 🚀 Epoch 4/4 (100.00%) Completed\n",
      "(ClientAppActor pid=19244) \t📊 Training Loss: 0.5234\n",
      "(ClientAppActor pid=19244) \t✅ Training Accuracy: 84.00%\n",
      "(ClientAppActor pid=19244) \t⏳ Elapsed Time: 1.51s | ETA: 0.00s\n",
      "(ClientAppActor pid=19244) \t🕒 Completed At: 22:28\n",
      "(ClientAppActor pid=19244) \n"
     ]
    },
    {
     "name": "stderr",
     "output_type": "stream",
     "text": [
      "\u001B[92mINFO \u001B[0m:      aggregate_fit: received 10 results and 0 failures\n",
      "\u001B[92mINFO \u001B[0m:      [Round 1] Avg Drift: 0.0414 | Relative Drift: 0.0001\n",
      "\u001B[92mINFO \u001B[0m:      [Round 1] Saving aggregated model at epoch 80...\n"
     ]
    },
    {
     "name": "stdout",
     "output_type": "stream",
     "text": [
      "💾 Saved checkpoint at: C:\\Users\\ADMIN\\Desktop\\BACKUP\\study\\Italy\\polito\\classes\\20242\\deep learning\\project\\source_code\\fl-g13\\models\\fl_dino_baseline\\iid\\fl_fl_baseline_BaseDino_epoch_80.pth\n",
      "[Server Eval Round 1] Model device: cuda:0\n",
      "[Server Eval Round 1] CUDA available in server eval: True\n"
     ]
    },
    {
     "name": "stderr",
     "output_type": "stream",
     "text": [
      "Eval progress: 100%|██████████| 313/313 [00:30<00:00, 10.35batch/s]\n",
      "\u001B[92mINFO \u001B[0m:      [Round 1] Centralized Evaluation - Loss: 0.8351, Metrics: {'centralized_accuracy': 0.7663}\n",
      "\u001B[92mINFO \u001B[0m:      fit progress: (1, 0.8351016206006272, {'centralized_accuracy': 0.7663}, 132.57264430000214)\n",
      "\u001B[92mINFO \u001B[0m:      configure_evaluate: strategy sampled 10 clients (out of 100)\n",
      "Fisher Score:   0%|          | 0/25 [00:00<?, ?batch/s]\n"
     ]
    },
    {
     "name": "stdout",
     "output_type": "stream",
     "text": [
      "(ClientAppActor pid=19244) [Client] Client on device: cuda:0\n",
      "(ClientAppActor pid=19244) [Client] CUDA available in client: True\n"
     ]
    },
    {
     "name": "stderr",
     "output_type": "stream",
     "text": [
      "Fisher Score:  12%|█▏        | 3/25 [00:00<00:01, 20.81batch/s]\n",
      "Fisher Score:  24%|██▍       | 6/25 [00:00<00:00, 20.29batch/s]\n",
      "Fisher Score:  36%|███▌      | 9/25 [00:00<00:00, 20.16batch/s]\n",
      "Fisher Score:  48%|████▊     | 12/25 [00:00<00:00, 19.80batch/s]\n",
      "Fisher Score:  56%|█████▌    | 14/25 [00:00<00:00, 19.53batch/s]\n",
      "Fisher Score:  68%|██████▊   | 17/25 [00:00<00:00, 19.80batch/s]\n",
      "Fisher Score:  76%|███████▌  | 19/25 [00:00<00:00, 19.54batch/s]\n",
      "Fisher Score:  88%|████████▊ | 22/25 [00:01<00:00, 19.48batch/s]\n",
      "Fisher Score: 100%|██████████| 25/25 [00:01<00:00, 19.78batch/s]\n",
      "Eval progress:   0%|          | 0/1 [00:00<?, ?batch/s]\n",
      "Eval progress: 100%|██████████| 1/1 [00:00<00:00,  3.31batch/s]\n"
     ]
    },
    {
     "name": "stdout",
     "output_type": "stream",
     "text": [
      "(ClientAppActor pid=19244) [Client] Client on device: cuda:0\n",
      "(ClientAppActor pid=19244) [Client] CUDA available in client: True\n"
     ]
    },
    {
     "name": "stderr",
     "output_type": "stream",
     "text": [
      "Eval progress:   0%|          | 0/1 [00:00<?, ?batch/s]\n",
      "Eval progress: 100%|██████████| 1/1 [00:00<00:00,  3.39batch/s]\n",
      "Fisher Score:   0%|          | 0/25 [00:00<?, ?batch/s]\n"
     ]
    },
    {
     "name": "stdout",
     "output_type": "stream",
     "text": [
      "(ClientAppActor pid=19244) [Client] Client on device: cuda:0\n",
      "(ClientAppActor pid=19244) [Client] CUDA available in client: True\n"
     ]
    },
    {
     "name": "stderr",
     "output_type": "stream",
     "text": [
      "Fisher Score:  12%|█▏        | 3/25 [00:00<00:00, 22.31batch/s]\n",
      "Fisher Score:  24%|██▍       | 6/25 [00:00<00:00, 20.68batch/s]\n",
      "Fisher Score:  36%|███▌      | 9/25 [00:00<00:00, 20.31batch/s]\n",
      "Fisher Score:  48%|████▊     | 12/25 [00:00<00:00, 20.07batch/s]\n",
      "Fisher Score:  68%|██████▊   | 17/25 [00:00<00:00, 19.86batch/s]\n",
      "Fisher Score:  76%|███████▌  | 19/25 [00:00<00:00, 19.90batch/s]\n",
      "Fisher Score:  84%|████████▍ | 21/25 [00:01<00:00, 19.88batch/s]\n",
      "Fisher Score:  92%|█████████▏| 23/25 [00:01<00:00, 19.76batch/s]\n",
      "Fisher Score: 100%|██████████| 25/25 [00:01<00:00, 19.97batch/s]\n",
      "Eval progress:   0%|          | 0/1 [00:00<?, ?batch/s]\n",
      "Eval progress: 100%|██████████| 1/1 [00:00<00:00,  3.32batch/s]\n",
      "Fisher Score:   0%|          | 0/25 [00:00<?, ?batch/s]\n"
     ]
    },
    {
     "name": "stdout",
     "output_type": "stream",
     "text": [
      "(ClientAppActor pid=19244) [Client] Client on device: cuda:0\n",
      "(ClientAppActor pid=19244) [Client] CUDA available in client: True\n"
     ]
    },
    {
     "name": "stderr",
     "output_type": "stream",
     "text": [
      "Fisher Score:  12%|█▏        | 3/25 [00:00<00:00, 22.03batch/s]\n",
      "Fisher Score:  24%|██▍       | 6/25 [00:00<00:00, 20.52batch/s]\n",
      "Fisher Score:  36%|███▌      | 9/25 [00:00<00:00, 20.09batch/s]\n",
      "Fisher Score:  48%|████▊     | 12/25 [00:00<00:00, 19.95batch/s]\n",
      "Fisher Score:  56%|█████▌    | 14/25 [00:00<00:00, 19.94batch/s]\n",
      "Fisher Score:  64%|██████▍   | 16/25 [00:00<00:00, 19.80batch/s]\n",
      "Fisher Score:  76%|███████▌  | 19/25 [00:00<00:00, 19.82batch/s]\n",
      "Fisher Score:  84%|████████▍ | 21/25 [00:01<00:00, 19.79batch/s]\n",
      "Fisher Score: 100%|██████████| 25/25 [00:01<00:00, 19.95batch/s]\n",
      "Eval progress:   0%|          | 0/1 [00:00<?, ?batch/s]\n",
      "Eval progress: 100%|██████████| 1/1 [00:00<00:00,  3.37batch/s]\n",
      "Fisher Score:   0%|          | 0/25 [00:00<?, ?batch/s]\n"
     ]
    },
    {
     "name": "stdout",
     "output_type": "stream",
     "text": [
      "(ClientAppActor pid=19244) [Client] Client on device: cuda:0\n",
      "(ClientAppActor pid=19244) [Client] CUDA available in client: True\n"
     ]
    },
    {
     "name": "stderr",
     "output_type": "stream",
     "text": [
      "Fisher Score:  12%|█▏        | 3/25 [00:00<00:01, 21.68batch/s]\n",
      "Fisher Score:  24%|██▍       | 6/25 [00:00<00:00, 20.60batch/s]\n",
      "Fisher Score:  36%|███▌      | 9/25 [00:00<00:00, 20.21batch/s]\n",
      "Fisher Score:  48%|████▊     | 12/25 [00:00<00:00, 19.97batch/s]\n",
      "Fisher Score:  56%|█████▌    | 14/25 [00:00<00:00, 19.93batch/s]\n",
      "Fisher Score:  64%|██████▍   | 16/25 [00:00<00:00, 19.58batch/s]\n",
      "Fisher Score:  76%|███████▌  | 19/25 [00:00<00:00, 19.96batch/s]\n",
      "Fisher Score:  84%|████████▍ | 21/25 [00:01<00:00, 19.83batch/s]\n",
      "Fisher Score:  92%|█████████▏| 23/25 [00:01<00:00, 19.63batch/s]\n",
      "Fisher Score: 100%|██████████| 25/25 [00:01<00:00, 19.90batch/s]\n",
      "Eval progress:   0%|          | 0/1 [00:00<?, ?batch/s]\n",
      "Eval progress: 100%|██████████| 1/1 [00:00<00:00,  3.42batch/s]\n",
      "Fisher Score:   0%|          | 0/25 [00:00<?, ?batch/s]\n"
     ]
    },
    {
     "name": "stdout",
     "output_type": "stream",
     "text": [
      "(ClientAppActor pid=19244) [Client] Client on device: cuda:0\n",
      "(ClientAppActor pid=19244) [Client] CUDA available in client: True\n"
     ]
    },
    {
     "name": "stderr",
     "output_type": "stream",
     "text": [
      "Fisher Score:  12%|█▏        | 3/25 [00:00<00:00, 22.07batch/s]\n",
      "Fisher Score:  24%|██▍       | 6/25 [00:00<00:00, 20.33batch/s]\n",
      "Fisher Score:  36%|███▌      | 9/25 [00:00<00:00, 20.28batch/s]\n",
      "Fisher Score:  48%|████▊     | 12/25 [00:00<00:00, 20.15batch/s]\n",
      "Fisher Score:  60%|██████    | 15/25 [00:00<00:00, 20.10batch/s]\n",
      "Fisher Score:  72%|███████▏  | 18/25 [00:00<00:00, 19.95batch/s]\n",
      "Fisher Score:  84%|████████▍ | 21/25 [00:01<00:00, 19.85batch/s]\n",
      "Fisher Score:  92%|█████████▏| 23/25 [00:01<00:00, 19.89batch/s]\n",
      "Fisher Score: 100%|██████████| 25/25 [00:01<00:00, 20.06batch/s]\n",
      "Eval progress:   0%|          | 0/1 [00:00<?, ?batch/s]\n",
      "Eval progress: 100%|██████████| 1/1 [00:00<00:00,  3.33batch/s]\n",
      "Fisher Score:   0%|          | 0/25 [00:00<?, ?batch/s]\n"
     ]
    },
    {
     "name": "stdout",
     "output_type": "stream",
     "text": [
      "(ClientAppActor pid=19244) [Client] Client on device: cuda:0\n",
      "(ClientAppActor pid=19244) [Client] CUDA available in client: True\n"
     ]
    },
    {
     "name": "stderr",
     "output_type": "stream",
     "text": [
      "Fisher Score:  12%|█▏        | 3/25 [00:00<00:01, 21.81batch/s]\n",
      "Fisher Score:  24%|██▍       | 6/25 [00:00<00:00, 20.73batch/s]\n",
      "Fisher Score:  36%|███▌      | 9/25 [00:00<00:00, 20.29batch/s]\n",
      "Fisher Score:  48%|████▊     | 12/25 [00:00<00:00, 20.08batch/s]\n",
      "Fisher Score:  60%|██████    | 15/25 [00:00<00:00, 19.96batch/s]\n",
      "Fisher Score:  68%|██████▊   | 17/25 [00:00<00:00, 19.96batch/s]\n",
      "Fisher Score:  76%|███████▌  | 19/25 [00:00<00:00, 19.76batch/s]\n",
      "Fisher Score:  88%|████████▊ | 22/25 [00:01<00:00, 19.93batch/s]\n",
      "Fisher Score: 100%|██████████| 25/25 [00:01<00:00, 20.04batch/s]\n",
      "Eval progress:   0%|          | 0/1 [00:00<?, ?batch/s]\n",
      "Eval progress: 100%|██████████| 1/1 [00:00<00:00,  3.26batch/s]\n",
      "Fisher Score:   0%|          | 0/25 [00:00<?, ?batch/s]\n"
     ]
    },
    {
     "name": "stdout",
     "output_type": "stream",
     "text": [
      "(ClientAppActor pid=19244) [Client] Client on device: cuda:0\n",
      "(ClientAppActor pid=19244) [Client] CUDA available in client: True\n"
     ]
    },
    {
     "name": "stderr",
     "output_type": "stream",
     "text": [
      "Fisher Score:  12%|█▏        | 3/25 [00:00<00:00, 22.21batch/s]\n",
      "Fisher Score:  24%|██▍       | 6/25 [00:00<00:00, 20.73batch/s]\n",
      "Fisher Score:  36%|███▌      | 9/25 [00:00<00:00, 20.24batch/s]\n",
      "Fisher Score:  48%|████▊     | 12/25 [00:00<00:00, 20.06batch/s]\n",
      "Fisher Score:  60%|██████    | 15/25 [00:00<00:00, 19.96batch/s]\n",
      "Fisher Score:  68%|██████▊   | 17/25 [00:00<00:00, 19.83batch/s]\n",
      "Fisher Score:  76%|███████▌  | 19/25 [00:00<00:00, 19.68batch/s]\n",
      "Fisher Score:  92%|█████████▏| 23/25 [00:01<00:00, 19.74batch/s]\n",
      "Fisher Score: 100%|██████████| 25/25 [00:01<00:00, 19.98batch/s]\n",
      "Eval progress:   0%|          | 0/1 [00:00<?, ?batch/s]\n",
      "Eval progress: 100%|██████████| 1/1 [00:00<00:00,  3.43batch/s]\n"
     ]
    },
    {
     "name": "stdout",
     "output_type": "stream",
     "text": [
      "(ClientAppActor pid=19244) [Client] Client on device: cuda:0\n",
      "(ClientAppActor pid=19244) [Client] CUDA available in client: True\n"
     ]
    },
    {
     "name": "stderr",
     "output_type": "stream",
     "text": [
      "Eval progress:   0%|          | 0/1 [00:00<?, ?batch/s]\n",
      "Eval progress: 100%|██████████| 1/1 [00:00<00:00,  2.33batch/s]\n"
     ]
    },
    {
     "name": "stdout",
     "output_type": "stream",
     "text": [
      "(ClientAppActor pid=19244) [Client] Client on device: cuda:0\n",
      "(ClientAppActor pid=19244) [Client] CUDA available in client: True\n"
     ]
    },
    {
     "name": "stderr",
     "output_type": "stream",
     "text": [
      "Fisher Score:   0%|          | 0/25 [00:00<?, ?batch/s]\n",
      "Fisher Score:  12%|█▏        | 3/25 [00:00<00:00, 22.25batch/s]\n",
      "Fisher Score:  24%|██▍       | 6/25 [00:00<00:00, 20.79batch/s]\n",
      "Fisher Score:  36%|███▌      | 9/25 [00:00<00:00, 20.38batch/s]\n",
      "Fisher Score:  48%|████▊     | 12/25 [00:00<00:00, 20.23batch/s]\n",
      "Fisher Score:  60%|██████    | 15/25 [00:00<00:00, 20.01batch/s]\n",
      "Fisher Score:  72%|███████▏  | 18/25 [00:00<00:00, 19.95batch/s]\n",
      "Fisher Score:  88%|████████▊ | 22/25 [00:01<00:00, 19.89batch/s]\n",
      "Fisher Score: 100%|██████████| 25/25 [00:01<00:00, 20.10batch/s]\n",
      "Eval progress:   0%|          | 0/1 [00:00<?, ?batch/s]\n",
      "Eval progress: 100%|██████████| 1/1 [00:00<00:00,  3.43batch/s]\n",
      "\u001B[92mINFO \u001B[0m:      aggregate_evaluate: received 10 results and 0 failures\n",
      "\u001B[92mINFO \u001B[0m:      \n",
      "\u001B[92mINFO \u001B[0m:      [ROUND 2]\n",
      "\u001B[92mINFO \u001B[0m:      configure_fit: strategy sampled 10 clients (out of 100)\n",
      "Fisher Score:   0%|          | 0/25 [00:00<?, ?batch/s]\n"
     ]
    },
    {
     "name": "stdout",
     "output_type": "stream",
     "text": [
      "(ClientAppActor pid=19244) [Client] Client on device: cuda:0\n",
      "(ClientAppActor pid=19244) [Client] CUDA available in client: True\n"
     ]
    },
    {
     "name": "stderr",
     "output_type": "stream",
     "text": [
      "Fisher Score:  12%|█▏        | 3/25 [00:00<00:00, 22.31batch/s]\n",
      "Fisher Score:  24%|██▍       | 6/25 [00:00<00:00, 20.80batch/s]\n",
      "Fisher Score:  36%|███▌      | 9/25 [00:00<00:00, 20.30batch/s]\n",
      "Fisher Score:  48%|████▊     | 12/25 [00:00<00:00, 20.03batch/s]\n",
      "Fisher Score:  60%|██████    | 15/25 [00:00<00:00, 20.00batch/s]\n",
      "Fisher Score:  72%|███████▏  | 18/25 [00:00<00:00, 20.18batch/s]\n",
      "Fisher Score:  84%|████████▍ | 21/25 [00:01<00:00, 20.00batch/s]\n",
      "Fisher Score: 100%|██████████| 25/25 [00:01<00:00, 20.16batch/s]\n"
     ]
    },
    {
     "name": "stdout",
     "output_type": "stream",
     "text": [
      "(ClientAppActor pid=19244) No prefix/name for the model was provided, choosen prefix/name: breezy_sandshrew_42\n",
      "(ClientAppActor pid=19244) \n",
      "(ClientAppActor pid=19244) 🚀 Epoch 1/4 (25.00%) Completed\n",
      "(ClientAppActor pid=19244) \t📊 Training Loss: 0.4290\n",
      "(ClientAppActor pid=19244) \t✅ Training Accuracy: 90.25%\n",
      "(ClientAppActor pid=19244) \t⏳ Elapsed Time: 1.51s | ETA: 4.53s\n",
      "(ClientAppActor pid=19244) \t🕒 Completed At: 22:29\n",
      "(ClientAppActor pid=19244) \n",
      "(ClientAppActor pid=19244) 🚀 Epoch 2/4 (50.00%) Completed\n",
      "(ClientAppActor pid=19244) \t📊 Training Loss: 0.3992\n",
      "(ClientAppActor pid=19244) \t✅ Training Accuracy: 87.75%\n",
      "(ClientAppActor pid=19244) \t⏳ Elapsed Time: 1.52s | ETA: 3.03s\n",
      "(ClientAppActor pid=19244) \t🕒 Completed At: 22:29\n",
      "(ClientAppActor pid=19244) \n",
      "(ClientAppActor pid=19244) 🚀 Epoch 3/4 (75.00%) Completed\n",
      "(ClientAppActor pid=19244) \t📊 Training Loss: 0.3309\n",
      "(ClientAppActor pid=19244) \t✅ Training Accuracy: 88.50%\n",
      "(ClientAppActor pid=19244) \t⏳ Elapsed Time: 1.53s | ETA: 1.53s\n",
      "(ClientAppActor pid=19244) \t🕒 Completed At: 22:29\n",
      "(ClientAppActor pid=19244) \n",
      "(ClientAppActor pid=19244) 🚀 Epoch 4/4 (100.00%) Completed\n",
      "(ClientAppActor pid=19244) \t📊 Training Loss: 0.3738\n",
      "(ClientAppActor pid=19244) \t✅ Training Accuracy: 90.00%\n",
      "(ClientAppActor pid=19244) \t⏳ Elapsed Time: 1.53s | ETA: 0.00s\n",
      "(ClientAppActor pid=19244) \t🕒 Completed At: 22:29\n",
      "(ClientAppActor pid=19244) \n",
      "(ClientAppActor pid=19244) [Client] Client on device: cuda:0\n",
      "(ClientAppActor pid=19244) [Client] CUDA available in client: True\n"
     ]
    },
    {
     "name": "stderr",
     "output_type": "stream",
     "text": [
      "Fisher Score:   0%|          | 0/25 [00:00<?, ?batch/s]\n",
      "Fisher Score:  12%|█▏        | 3/25 [00:00<00:01, 21.50batch/s]\n",
      "Fisher Score:  24%|██▍       | 6/25 [00:00<00:00, 20.63batch/s]\n",
      "Fisher Score:  36%|███▌      | 9/25 [00:00<00:00, 20.26batch/s]\n",
      "Fisher Score:  48%|████▊     | 12/25 [00:00<00:00, 19.86batch/s]\n",
      "Fisher Score:  60%|██████    | 15/25 [00:00<00:00, 20.01batch/s]\n",
      "Fisher Score:  72%|███████▏  | 18/25 [00:00<00:00, 19.72batch/s]\n",
      "Fisher Score:  80%|████████  | 20/25 [00:01<00:00, 19.59batch/s]\n",
      "Fisher Score:  92%|█████████▏| 23/25 [00:01<00:00, 19.71batch/s]\n",
      "Fisher Score: 100%|██████████| 25/25 [00:01<00:00, 19.90batch/s]\n"
     ]
    },
    {
     "name": "stdout",
     "output_type": "stream",
     "text": [
      "(ClientAppActor pid=19244) No prefix/name for the model was provided, choosen prefix/name: chirpy_venusaur_32\n",
      "(ClientAppActor pid=19244) \n",
      "(ClientAppActor pid=19244) 🚀 Epoch 1/4 (25.00%) Completed\n",
      "(ClientAppActor pid=19244) \t📊 Training Loss: 0.6873\n",
      "(ClientAppActor pid=19244) \t✅ Training Accuracy: 82.50%\n",
      "(ClientAppActor pid=19244) \t⏳ Elapsed Time: 1.58s | ETA: 4.73s\n",
      "(ClientAppActor pid=19244) \t🕒 Completed At: 22:29\n",
      "(ClientAppActor pid=19244) \n",
      "(ClientAppActor pid=19244) 🚀 Epoch 2/4 (50.00%) Completed\n",
      "(ClientAppActor pid=19244) \t📊 Training Loss: 0.6551\n",
      "(ClientAppActor pid=19244) \t✅ Training Accuracy: 79.75%\n",
      "(ClientAppActor pid=19244) \t⏳ Elapsed Time: 1.54s | ETA: 3.08s\n",
      "(ClientAppActor pid=19244) \t🕒 Completed At: 22:29\n",
      "(ClientAppActor pid=19244) \n",
      "(ClientAppActor pid=19244) 🚀 Epoch 3/4 (75.00%) Completed\n",
      "(ClientAppActor pid=19244) \t📊 Training Loss: 0.6079\n",
      "(ClientAppActor pid=19244) \t✅ Training Accuracy: 82.25%\n",
      "(ClientAppActor pid=19244) \t⏳ Elapsed Time: 1.55s | ETA: 1.55s\n",
      "(ClientAppActor pid=19244) \t🕒 Completed At: 22:29\n",
      "(ClientAppActor pid=19244) \n",
      "(ClientAppActor pid=19244) 🚀 Epoch 4/4 (100.00%) Completed\n",
      "(ClientAppActor pid=19244) \t📊 Training Loss: 0.6111\n",
      "(ClientAppActor pid=19244) \t✅ Training Accuracy: 83.00%\n",
      "(ClientAppActor pid=19244) \t⏳ Elapsed Time: 1.53s | ETA: 0.00s\n",
      "(ClientAppActor pid=19244) \t🕒 Completed At: 22:29\n",
      "(ClientAppActor pid=19244) \n",
      "(ClientAppActor pid=19244) [Client] Client on device: cuda:0\n",
      "(ClientAppActor pid=19244) [Client] CUDA available in client: True\n"
     ]
    },
    {
     "name": "stderr",
     "output_type": "stream",
     "text": [
      "Fisher Score:   0%|          | 0/25 [00:00<?, ?batch/s]\n",
      "Fisher Score:  12%|█▏        | 3/25 [00:00<00:01, 20.42batch/s]\n",
      "Fisher Score:  24%|██▍       | 6/25 [00:00<00:00, 20.24batch/s]\n",
      "Fisher Score:  36%|███▌      | 9/25 [00:00<00:00, 20.02batch/s]\n",
      "Fisher Score:  48%|████▊     | 12/25 [00:00<00:00, 19.97batch/s]\n",
      "Fisher Score:  60%|██████    | 15/25 [00:00<00:00, 19.97batch/s]\n",
      "Fisher Score:  68%|██████▊   | 17/25 [00:00<00:00, 19.82batch/s]\n",
      "Fisher Score:  76%|███████▌  | 19/25 [00:00<00:00, 19.81batch/s]\n",
      "Fisher Score:  84%|████████▍ | 21/25 [00:01<00:00, 19.65batch/s]\n",
      "Fisher Score:  92%|█████████▏| 23/25 [00:01<00:00, 19.11batch/s]\n",
      "Fisher Score: 100%|██████████| 25/25 [00:01<00:00, 19.88batch/s]\n"
     ]
    },
    {
     "name": "stdout",
     "output_type": "stream",
     "text": [
      "(ClientAppActor pid=19244) No prefix/name for the model was provided, choosen prefix/name: sleepy_kakuna_71\n",
      "(ClientAppActor pid=19244) \n",
      "(ClientAppActor pid=19244) 🚀 Epoch 1/4 (25.00%) Completed\n",
      "(ClientAppActor pid=19244) \t📊 Training Loss: 0.5497\n",
      "(ClientAppActor pid=19244) \t✅ Training Accuracy: 80.75%\n",
      "(ClientAppActor pid=19244) \t⏳ Elapsed Time: 1.55s | ETA: 4.66s\n",
      "(ClientAppActor pid=19244) \t🕒 Completed At: 22:29\n",
      "(ClientAppActor pid=19244) \n",
      "(ClientAppActor pid=19244) 🚀 Epoch 2/4 (50.00%) Completed\n",
      "(ClientAppActor pid=19244) \t📊 Training Loss: 0.4678\n",
      "(ClientAppActor pid=19244) \t✅ Training Accuracy: 84.25%\n",
      "(ClientAppActor pid=19244) \t⏳ Elapsed Time: 1.51s | ETA: 3.03s\n",
      "(ClientAppActor pid=19244) \t🕒 Completed At: 22:29\n",
      "(ClientAppActor pid=19244) \n",
      "(ClientAppActor pid=19244) 🚀 Epoch 3/4 (75.00%) Completed\n",
      "(ClientAppActor pid=19244) \t📊 Training Loss: 0.5626\n",
      "(ClientAppActor pid=19244) \t✅ Training Accuracy: 82.75%\n",
      "(ClientAppActor pid=19244) \t⏳ Elapsed Time: 1.51s | ETA: 1.51s\n",
      "(ClientAppActor pid=19244) \t🕒 Completed At: 22:29\n",
      "(ClientAppActor pid=19244) \n",
      "(ClientAppActor pid=19244) 🚀 Epoch 4/4 (100.00%) Completed\n",
      "(ClientAppActor pid=19244) \t📊 Training Loss: 0.4849\n",
      "(ClientAppActor pid=19244) \t✅ Training Accuracy: 83.00%\n",
      "(ClientAppActor pid=19244) \t⏳ Elapsed Time: 1.52s | ETA: 0.00s\n",
      "(ClientAppActor pid=19244) \t🕒 Completed At: 22:29\n",
      "(ClientAppActor pid=19244) \n",
      "(ClientAppActor pid=19244) [Client] Client on device: cuda:0\n",
      "(ClientAppActor pid=19244) [Client] CUDA available in client: True\n",
      "(ClientAppActor pid=19244) No prefix/name for the model was provided, choosen prefix/name: funky_bulbasaur_67\n",
      "(ClientAppActor pid=19244) \n",
      "(ClientAppActor pid=19244) 🚀 Epoch 1/4 (25.00%) Completed\n",
      "(ClientAppActor pid=19244) \t📊 Training Loss: 0.4295\n",
      "(ClientAppActor pid=19244) \t✅ Training Accuracy: 84.50%\n",
      "(ClientAppActor pid=19244) \t⏳ Elapsed Time: 1.53s | ETA: 4.58s\n",
      "(ClientAppActor pid=19244) \t🕒 Completed At: 22:29\n",
      "(ClientAppActor pid=19244) \n",
      "(ClientAppActor pid=19244) 🚀 Epoch 2/4 (50.00%) Completed\n",
      "(ClientAppActor pid=19244) \t📊 Training Loss: 0.3966\n",
      "(ClientAppActor pid=19244) \t✅ Training Accuracy: 83.75%\n",
      "(ClientAppActor pid=19244) \t⏳ Elapsed Time: 1.48s | ETA: 2.96s\n",
      "(ClientAppActor pid=19244) \t🕒 Completed At: 22:29\n",
      "(ClientAppActor pid=19244) \n",
      "(ClientAppActor pid=19244) 🚀 Epoch 3/4 (75.00%) Completed\n",
      "(ClientAppActor pid=19244) \t📊 Training Loss: 0.7272\n",
      "(ClientAppActor pid=19244) \t✅ Training Accuracy: 85.25%\n",
      "(ClientAppActor pid=19244) \t⏳ Elapsed Time: 1.55s | ETA: 1.55s\n",
      "(ClientAppActor pid=19244) \t🕒 Completed At: 22:29\n",
      "(ClientAppActor pid=19244) \n",
      "(ClientAppActor pid=19244) 🚀 Epoch 4/4 (100.00%) Completed\n",
      "(ClientAppActor pid=19244) \t📊 Training Loss: 0.4109\n",
      "(ClientAppActor pid=19244) \t✅ Training Accuracy: 85.75%\n",
      "(ClientAppActor pid=19244) \t⏳ Elapsed Time: 1.51s | ETA: 0.00s\n",
      "(ClientAppActor pid=19244) \t🕒 Completed At: 22:29\n",
      "(ClientAppActor pid=19244) \n"
     ]
    },
    {
     "name": "stderr",
     "output_type": "stream",
     "text": [
      "Fisher Score:   0%|          | 0/25 [00:00<?, ?batch/s]\n"
     ]
    },
    {
     "name": "stdout",
     "output_type": "stream",
     "text": [
      "(ClientAppActor pid=19244) [Client] Client on device: cuda:0\n",
      "(ClientAppActor pid=19244) [Client] CUDA available in client: True\n"
     ]
    },
    {
     "name": "stderr",
     "output_type": "stream",
     "text": [
      "Fisher Score:  12%|█▏        | 3/25 [00:00<00:01, 21.67batch/s]\n",
      "Fisher Score:  24%|██▍       | 6/25 [00:00<00:00, 20.79batch/s]\n",
      "Fisher Score:  36%|███▌      | 9/25 [00:00<00:00, 20.45batch/s]\n",
      "Fisher Score:  48%|████▊     | 12/25 [00:00<00:00, 20.22batch/s]\n",
      "Fisher Score:  60%|██████    | 15/25 [00:00<00:00, 20.26batch/s]\n",
      "Fisher Score:  72%|███████▏  | 18/25 [00:00<00:00, 20.05batch/s]\n",
      "Fisher Score:  84%|████████▍ | 21/25 [00:01<00:00, 19.92batch/s]\n",
      "Fisher Score: 100%|██████████| 25/25 [00:01<00:00, 20.11batch/s]\n"
     ]
    },
    {
     "name": "stdout",
     "output_type": "stream",
     "text": [
      "(ClientAppActor pid=19244) No prefix/name for the model was provided, choosen prefix/name: sassy_raticate_43\n",
      "(ClientAppActor pid=19244) \n",
      "(ClientAppActor pid=19244) 🚀 Epoch 1/4 (25.00%) Completed\n",
      "(ClientAppActor pid=19244) \t📊 Training Loss: 0.5963\n",
      "(ClientAppActor pid=19244) \t✅ Training Accuracy: 82.75%\n",
      "(ClientAppActor pid=19244) \t⏳ Elapsed Time: 1.51s | ETA: 4.54s\n",
      "(ClientAppActor pid=19244) \t🕒 Completed At: 22:29\n",
      "(ClientAppActor pid=19244) \n",
      "(ClientAppActor pid=19244) 🚀 Epoch 2/4 (50.00%) Completed\n",
      "(ClientAppActor pid=19244) \t📊 Training Loss: 0.6222\n",
      "(ClientAppActor pid=19244) \t✅ Training Accuracy: 83.75%\n",
      "(ClientAppActor pid=19244) \t⏳ Elapsed Time: 1.53s | ETA: 3.06s\n",
      "(ClientAppActor pid=19244) \t🕒 Completed At: 22:29\n",
      "(ClientAppActor pid=19244) \n",
      "(ClientAppActor pid=19244) 🚀 Epoch 3/4 (75.00%) Completed\n",
      "(ClientAppActor pid=19244) \t📊 Training Loss: 0.5470\n",
      "(ClientAppActor pid=19244) \t✅ Training Accuracy: 84.75%\n",
      "(ClientAppActor pid=19244) \t⏳ Elapsed Time: 1.52s | ETA: 1.52s\n",
      "(ClientAppActor pid=19244) \t🕒 Completed At: 22:29\n",
      "(ClientAppActor pid=19244) \n",
      "(ClientAppActor pid=19244) 🚀 Epoch 4/4 (100.00%) Completed\n",
      "(ClientAppActor pid=19244) \t📊 Training Loss: 0.4464\n",
      "(ClientAppActor pid=19244) \t✅ Training Accuracy: 83.50%\n",
      "(ClientAppActor pid=19244) \t⏳ Elapsed Time: 1.53s | ETA: 0.00s\n",
      "(ClientAppActor pid=19244) \t🕒 Completed At: 22:29\n",
      "(ClientAppActor pid=19244) \n",
      "(ClientAppActor pid=19244) [Client] Client on device: cuda:0\n",
      "(ClientAppActor pid=19244) [Client] CUDA available in client: True\n"
     ]
    },
    {
     "name": "stderr",
     "output_type": "stream",
     "text": [
      "Fisher Score:   0%|          | 0/25 [00:00<?, ?batch/s]\n",
      "Fisher Score:  12%|█▏        | 3/25 [00:00<00:01, 19.76batch/s]\n",
      "Fisher Score:  24%|██▍       | 6/25 [00:00<00:00, 19.96batch/s]\n",
      "Fisher Score:  32%|███▏      | 8/25 [00:00<00:00, 19.87batch/s]\n",
      "Fisher Score:  44%|████▍     | 11/25 [00:00<00:00, 19.89batch/s]\n",
      "Fisher Score:  52%|█████▏    | 13/25 [00:00<00:00, 19.66batch/s]\n",
      "Fisher Score:  64%|██████▍   | 16/25 [00:00<00:00, 19.74batch/s]\n",
      "Fisher Score:  80%|████████  | 20/25 [00:01<00:00, 19.73batch/s]\n",
      "Fisher Score:  92%|█████████▏| 23/25 [00:01<00:00, 19.72batch/s]\n",
      "Fisher Score: 100%|██████████| 25/25 [00:01<00:00, 19.77batch/s]\n"
     ]
    },
    {
     "name": "stdout",
     "output_type": "stream",
     "text": [
      "(ClientAppActor pid=19244) No prefix/name for the model was provided, choosen prefix/name: cranky_pikachu_41\n",
      "(ClientAppActor pid=19244) \n",
      "(ClientAppActor pid=19244) 🚀 Epoch 1/4 (25.00%) Completed\n",
      "(ClientAppActor pid=19244) \t📊 Training Loss: 0.5733\n",
      "(ClientAppActor pid=19244) \t✅ Training Accuracy: 80.75%\n",
      "(ClientAppActor pid=19244) \t⏳ Elapsed Time: 1.53s | ETA: 4.58s\n",
      "(ClientAppActor pid=19244) \t🕒 Completed At: 22:30\n",
      "(ClientAppActor pid=19244) \n",
      "(ClientAppActor pid=19244) 🚀 Epoch 2/4 (50.00%) Completed\n",
      "(ClientAppActor pid=19244) \t📊 Training Loss: 0.5419\n",
      "(ClientAppActor pid=19244) \t✅ Training Accuracy: 80.50%\n",
      "(ClientAppActor pid=19244) \t⏳ Elapsed Time: 1.53s | ETA: 3.06s\n",
      "(ClientAppActor pid=19244) \t🕒 Completed At: 22:30\n",
      "(ClientAppActor pid=19244) \n",
      "(ClientAppActor pid=19244) 🚀 Epoch 3/4 (75.00%) Completed\n",
      "(ClientAppActor pid=19244) \t📊 Training Loss: 0.5168\n",
      "(ClientAppActor pid=19244) \t✅ Training Accuracy: 81.25%\n",
      "(ClientAppActor pid=19244) \t⏳ Elapsed Time: 1.51s | ETA: 1.51s\n",
      "(ClientAppActor pid=19244) \t🕒 Completed At: 22:30\n",
      "(ClientAppActor pid=19244) \n",
      "(ClientAppActor pid=19244) 🚀 Epoch 4/4 (100.00%) Completed\n",
      "(ClientAppActor pid=19244) \t📊 Training Loss: 0.4787\n",
      "(ClientAppActor pid=19244) \t✅ Training Accuracy: 80.75%\n",
      "(ClientAppActor pid=19244) \t⏳ Elapsed Time: 1.51s | ETA: 0.00s\n",
      "(ClientAppActor pid=19244) \t🕒 Completed At: 22:30\n",
      "(ClientAppActor pid=19244) \n"
     ]
    },
    {
     "name": "stderr",
     "output_type": "stream",
     "text": [
      "Fisher Score:   0%|          | 0/25 [00:00<?, ?batch/s]\n"
     ]
    },
    {
     "name": "stdout",
     "output_type": "stream",
     "text": [
      "(ClientAppActor pid=19244) [Client] Client on device: cuda:0\n",
      "(ClientAppActor pid=19244) [Client] CUDA available in client: True\n"
     ]
    },
    {
     "name": "stderr",
     "output_type": "stream",
     "text": [
      "Fisher Score:  12%|█▏        | 3/25 [00:00<00:01, 21.73batch/s]\n",
      "Fisher Score:  24%|██▍       | 6/25 [00:00<00:00, 20.54batch/s]\n",
      "Fisher Score:  36%|███▌      | 9/25 [00:00<00:00, 20.26batch/s]\n",
      "Fisher Score:  48%|████▊     | 12/25 [00:00<00:00, 20.00batch/s]\n",
      "Fisher Score:  60%|██████    | 15/25 [00:00<00:00, 20.01batch/s]\n",
      "Fisher Score:  72%|███████▏  | 18/25 [00:00<00:00, 19.88batch/s]\n",
      "Fisher Score:  84%|████████▍ | 21/25 [00:01<00:00, 19.89batch/s]\n",
      "Fisher Score:  92%|█████████▏| 23/25 [00:01<00:00, 19.51batch/s]\n",
      "Fisher Score: 100%|██████████| 25/25 [00:01<00:00, 19.98batch/s]\n"
     ]
    },
    {
     "name": "stdout",
     "output_type": "stream",
     "text": [
      "(ClientAppActor pid=19244) No prefix/name for the model was provided, choosen prefix/name: breezy_clefairy_61\n",
      "(ClientAppActor pid=19244) \n",
      "(ClientAppActor pid=19244) 🚀 Epoch 1/4 (25.00%) Completed\n",
      "(ClientAppActor pid=19244) \t📊 Training Loss: 0.5060\n",
      "(ClientAppActor pid=19244) \t✅ Training Accuracy: 83.50%\n",
      "(ClientAppActor pid=19244) \t⏳ Elapsed Time: 1.56s | ETA: 4.69s\n",
      "(ClientAppActor pid=19244) \t🕒 Completed At: 22:30\n",
      "(ClientAppActor pid=19244) \n",
      "(ClientAppActor pid=19244) 🚀 Epoch 2/4 (50.00%) Completed\n",
      "(ClientAppActor pid=19244) \t📊 Training Loss: 0.5252\n",
      "(ClientAppActor pid=19244) \t✅ Training Accuracy: 83.25%\n",
      "(ClientAppActor pid=19244) \t⏳ Elapsed Time: 1.53s | ETA: 3.07s\n",
      "(ClientAppActor pid=19244) \t🕒 Completed At: 22:30\n",
      "(ClientAppActor pid=19244) \n",
      "(ClientAppActor pid=19244) 🚀 Epoch 3/4 (75.00%) Completed\n",
      "(ClientAppActor pid=19244) \t📊 Training Loss: 0.6261\n",
      "(ClientAppActor pid=19244) \t✅ Training Accuracy: 82.25%\n",
      "(ClientAppActor pid=19244) \t⏳ Elapsed Time: 1.52s | ETA: 1.52s\n",
      "(ClientAppActor pid=19244) \t🕒 Completed At: 22:30\n",
      "(ClientAppActor pid=19244) \n",
      "(ClientAppActor pid=19244) 🚀 Epoch 4/4 (100.00%) Completed\n",
      "(ClientAppActor pid=19244) \t📊 Training Loss: 0.5822\n",
      "(ClientAppActor pid=19244) \t✅ Training Accuracy: 83.00%\n",
      "(ClientAppActor pid=19244) \t⏳ Elapsed Time: 1.59s | ETA: 0.00s\n",
      "(ClientAppActor pid=19244) \t🕒 Completed At: 22:30\n",
      "(ClientAppActor pid=19244) \n"
     ]
    },
    {
     "name": "stderr",
     "output_type": "stream",
     "text": [
      "Fisher Score:   0%|          | 0/25 [00:00<?, ?batch/s]\n"
     ]
    },
    {
     "name": "stdout",
     "output_type": "stream",
     "text": [
      "(ClientAppActor pid=19244) [Client] Client on device: cuda:0\n",
      "(ClientAppActor pid=19244) [Client] CUDA available in client: True\n"
     ]
    },
    {
     "name": "stderr",
     "output_type": "stream",
     "text": [
      "Fisher Score:  12%|█▏        | 3/25 [00:00<00:01, 19.60batch/s]\n",
      "Fisher Score:  32%|███▏      | 8/25 [00:00<00:00, 19.86batch/s]\n",
      "Fisher Score:  40%|████      | 10/25 [00:00<00:00, 19.67batch/s]\n",
      "Fisher Score:  48%|████▊     | 12/25 [00:00<00:00, 19.55batch/s]\n",
      "Fisher Score:  56%|█████▌    | 14/25 [00:00<00:00, 19.51batch/s]\n",
      "Fisher Score:  72%|███████▏  | 18/25 [00:00<00:00, 19.20batch/s]\n",
      "Fisher Score:  80%|████████  | 20/25 [00:01<00:00, 19.30batch/s]\n",
      "Fisher Score:  88%|████████▊ | 22/25 [00:01<00:00, 19.45batch/s]\n",
      "Fisher Score: 100%|██████████| 25/25 [00:01<00:00, 19.52batch/s]\n"
     ]
    },
    {
     "name": "stdout",
     "output_type": "stream",
     "text": [
      "(ClientAppActor pid=19244) No prefix/name for the model was provided, choosen prefix/name: sleepy_spearow_22\n",
      "(ClientAppActor pid=19244) \n",
      "(ClientAppActor pid=19244) 🚀 Epoch 1/4 (25.00%) Completed\n",
      "(ClientAppActor pid=19244) \t📊 Training Loss: 0.5330\n",
      "(ClientAppActor pid=19244) \t✅ Training Accuracy: 85.00%\n",
      "(ClientAppActor pid=19244) \t⏳ Elapsed Time: 1.53s | ETA: 4.59s\n",
      "(ClientAppActor pid=19244) \t🕒 Completed At: 22:30\n",
      "(ClientAppActor pid=19244) \n",
      "(ClientAppActor pid=19244) 🚀 Epoch 2/4 (50.00%) Completed\n",
      "(ClientAppActor pid=19244) \t📊 Training Loss: 0.6913\n",
      "(ClientAppActor pid=19244) \t✅ Training Accuracy: 81.00%\n",
      "(ClientAppActor pid=19244) \t⏳ Elapsed Time: 1.55s | ETA: 3.10s\n",
      "(ClientAppActor pid=19244) \t🕒 Completed At: 22:30\n",
      "(ClientAppActor pid=19244) \n",
      "(ClientAppActor pid=19244) 🚀 Epoch 3/4 (75.00%) Completed\n",
      "(ClientAppActor pid=19244) \t📊 Training Loss: 0.5995\n",
      "(ClientAppActor pid=19244) \t✅ Training Accuracy: 83.00%\n",
      "(ClientAppActor pid=19244) \t⏳ Elapsed Time: 1.55s | ETA: 1.55s\n",
      "(ClientAppActor pid=19244) \t🕒 Completed At: 22:30\n",
      "(ClientAppActor pid=19244) \n",
      "(ClientAppActor pid=19244) 🚀 Epoch 4/4 (100.00%) Completed\n",
      "(ClientAppActor pid=19244) \t📊 Training Loss: 0.6234\n",
      "(ClientAppActor pid=19244) \t✅ Training Accuracy: 83.25%\n",
      "(ClientAppActor pid=19244) \t⏳ Elapsed Time: 1.53s | ETA: 0.00s\n",
      "(ClientAppActor pid=19244) \t🕒 Completed At: 22:30\n",
      "(ClientAppActor pid=19244) \n"
     ]
    },
    {
     "name": "stderr",
     "output_type": "stream",
     "text": [
      "Fisher Score:   0%|          | 0/25 [00:00<?, ?batch/s]\n"
     ]
    },
    {
     "name": "stdout",
     "output_type": "stream",
     "text": [
      "(ClientAppActor pid=19244) [Client] Client on device: cuda:0\n",
      "(ClientAppActor pid=19244) [Client] CUDA available in client: True\n"
     ]
    },
    {
     "name": "stderr",
     "output_type": "stream",
     "text": [
      "Fisher Score:  12%|█▏        | 3/25 [00:00<00:01, 21.84batch/s]\n",
      "Fisher Score:  24%|██▍       | 6/25 [00:00<00:00, 20.51batch/s]\n",
      "Fisher Score:  36%|███▌      | 9/25 [00:00<00:00, 20.18batch/s]\n",
      "Fisher Score:  48%|████▊     | 12/25 [00:00<00:00, 20.00batch/s]\n",
      "Fisher Score:  60%|██████    | 15/25 [00:00<00:00, 19.76batch/s]\n",
      "Fisher Score:  68%|██████▊   | 17/25 [00:00<00:00, 19.77batch/s]\n",
      "Fisher Score:  76%|███████▌  | 19/25 [00:00<00:00, 19.77batch/s]\n",
      "Fisher Score:  84%|████████▍ | 21/25 [00:01<00:00, 19.72batch/s]\n",
      "Fisher Score:  92%|█████████▏| 23/25 [00:01<00:00, 19.54batch/s]\n",
      "Fisher Score: 100%|██████████| 25/25 [00:01<00:00, 19.86batch/s]\n"
     ]
    },
    {
     "name": "stdout",
     "output_type": "stream",
     "text": [
      "(ClientAppActor pid=19244) No prefix/name for the model was provided, choosen prefix/name: bubbly_pidgeotto_33\n",
      "(ClientAppActor pid=19244) \n",
      "(ClientAppActor pid=19244) 🚀 Epoch 1/4 (25.00%) Completed\n",
      "(ClientAppActor pid=19244) \t📊 Training Loss: 0.6469\n",
      "(ClientAppActor pid=19244) \t✅ Training Accuracy: 85.25%\n",
      "(ClientAppActor pid=19244) \t⏳ Elapsed Time: 1.55s | ETA: 4.64s\n",
      "(ClientAppActor pid=19244) \t🕒 Completed At: 22:30\n",
      "(ClientAppActor pid=19244) \n",
      "(ClientAppActor pid=19244) 🚀 Epoch 2/4 (50.00%) Completed\n",
      "(ClientAppActor pid=19244) \t📊 Training Loss: 0.4994\n",
      "(ClientAppActor pid=19244) \t✅ Training Accuracy: 85.25%\n",
      "(ClientAppActor pid=19244) \t⏳ Elapsed Time: 1.52s | ETA: 3.05s\n",
      "(ClientAppActor pid=19244) \t🕒 Completed At: 22:30\n",
      "(ClientAppActor pid=19244) \n",
      "(ClientAppActor pid=19244) 🚀 Epoch 3/4 (75.00%) Completed\n",
      "(ClientAppActor pid=19244) \t📊 Training Loss: 0.4727\n",
      "(ClientAppActor pid=19244) \t✅ Training Accuracy: 84.75%\n",
      "(ClientAppActor pid=19244) \t⏳ Elapsed Time: 1.53s | ETA: 1.53s\n",
      "(ClientAppActor pid=19244) \t🕒 Completed At: 22:30\n",
      "(ClientAppActor pid=19244) \n",
      "(ClientAppActor pid=19244) 🚀 Epoch 4/4 (100.00%) Completed\n",
      "(ClientAppActor pid=19244) \t📊 Training Loss: 0.4574\n",
      "(ClientAppActor pid=19244) \t✅ Training Accuracy: 86.50%\n",
      "(ClientAppActor pid=19244) \t⏳ Elapsed Time: 1.54s | ETA: 0.00s\n",
      "(ClientAppActor pid=19244) \t🕒 Completed At: 22:30\n",
      "(ClientAppActor pid=19244) \n"
     ]
    },
    {
     "name": "stderr",
     "output_type": "stream",
     "text": [
      "Fisher Score:   0%|          | 0/25 [00:00<?, ?batch/s]\n"
     ]
    },
    {
     "name": "stdout",
     "output_type": "stream",
     "text": [
      "(ClientAppActor pid=19244) [Client] Client on device: cuda:0\n",
      "(ClientAppActor pid=19244) [Client] CUDA available in client: True\n"
     ]
    },
    {
     "name": "stderr",
     "output_type": "stream",
     "text": [
      "Fisher Score:  12%|█▏        | 3/25 [00:00<00:00, 22.65batch/s]\n",
      "Fisher Score:  24%|██▍       | 6/25 [00:00<00:00, 21.10batch/s]\n",
      "Fisher Score:  36%|███▌      | 9/25 [00:00<00:00, 20.34batch/s]\n",
      "Fisher Score:  48%|████▊     | 12/25 [00:00<00:00, 20.01batch/s]\n",
      "Fisher Score:  60%|██████    | 15/25 [00:00<00:00, 19.98batch/s]\n",
      "Fisher Score:  72%|███████▏  | 18/25 [00:00<00:00, 19.99batch/s]\n",
      "Fisher Score:  84%|████████▍ | 21/25 [00:01<00:00, 19.92batch/s]\n",
      "Fisher Score:  92%|█████████▏| 23/25 [00:01<00:00, 19.89batch/s]\n",
      "Fisher Score: 100%|██████████| 25/25 [00:01<00:00, 20.07batch/s]\n"
     ]
    },
    {
     "name": "stdout",
     "output_type": "stream",
     "text": [
      "(ClientAppActor pid=19244) No prefix/name for the model was provided, choosen prefix/name: funky_pikachu_40\n",
      "(ClientAppActor pid=19244) \n",
      "(ClientAppActor pid=19244) 🚀 Epoch 1/4 (25.00%) Completed\n",
      "(ClientAppActor pid=19244) \t📊 Training Loss: 0.4133\n",
      "(ClientAppActor pid=19244) \t✅ Training Accuracy: 89.50%\n",
      "(ClientAppActor pid=19244) \t⏳ Elapsed Time: 1.56s | ETA: 4.67s\n",
      "(ClientAppActor pid=19244) \t🕒 Completed At: 22:30\n",
      "(ClientAppActor pid=19244) \n",
      "(ClientAppActor pid=19244) 🚀 Epoch 2/4 (50.00%) Completed\n",
      "(ClientAppActor pid=19244) \t📊 Training Loss: 0.4823\n",
      "(ClientAppActor pid=19244) \t✅ Training Accuracy: 88.50%\n",
      "(ClientAppActor pid=19244) \t⏳ Elapsed Time: 1.54s | ETA: 3.08s\n",
      "(ClientAppActor pid=19244) \t🕒 Completed At: 22:30\n",
      "(ClientAppActor pid=19244) \n",
      "(ClientAppActor pid=19244) 🚀 Epoch 3/4 (75.00%) Completed\n",
      "(ClientAppActor pid=19244) \t📊 Training Loss: 0.3124\n",
      "(ClientAppActor pid=19244) \t✅ Training Accuracy: 89.00%\n",
      "(ClientAppActor pid=19244) \t⏳ Elapsed Time: 1.53s | ETA: 1.53s\n",
      "(ClientAppActor pid=19244) \t🕒 Completed At: 22:30\n",
      "(ClientAppActor pid=19244) \n",
      "(ClientAppActor pid=19244) 🚀 Epoch 4/4 (100.00%) Completed\n",
      "(ClientAppActor pid=19244) \t📊 Training Loss: 0.3576\n",
      "(ClientAppActor pid=19244) \t✅ Training Accuracy: 89.25%\n",
      "(ClientAppActor pid=19244) \t⏳ Elapsed Time: 1.51s | ETA: 0.00s\n",
      "(ClientAppActor pid=19244) \t🕒 Completed At: 22:30\n",
      "(ClientAppActor pid=19244) \n"
     ]
    },
    {
     "name": "stderr",
     "output_type": "stream",
     "text": [
      "\u001B[92mINFO \u001B[0m:      aggregate_fit: received 10 results and 0 failures\n",
      "\u001B[92mINFO \u001B[0m:      [Round 2] Avg Drift: 0.0475 | Relative Drift: 0.0001\n",
      "\u001B[92mINFO \u001B[0m:      [Round 2] Saving aggregated model at epoch 81...\n"
     ]
    },
    {
     "name": "stdout",
     "output_type": "stream",
     "text": [
      "💾 Saved checkpoint at: C:\\Users\\ADMIN\\Desktop\\BACKUP\\study\\Italy\\polito\\classes\\20242\\deep learning\\project\\source_code\\fl-g13\\models\\fl_dino_baseline\\iid\\fl_fl_baseline_BaseDino_epoch_81.pth\n",
      "[Server Eval Round 2] Model device: cuda:0\n",
      "[Server Eval Round 2] CUDA available in server eval: True\n"
     ]
    },
    {
     "name": "stderr",
     "output_type": "stream",
     "text": [
      "Eval progress: 100%|██████████| 313/313 [00:30<00:00, 10.28batch/s]\n",
      "\u001B[92mINFO \u001B[0m:      [Round 2] Centralized Evaluation - Loss: 0.8348, Metrics: {'centralized_accuracy': 0.7663}\n",
      "\u001B[92mINFO \u001B[0m:      fit progress: (2, 0.8347840517188032, {'centralized_accuracy': 0.7663}, 274.3789168000221)\n",
      "\u001B[92mINFO \u001B[0m:      configure_evaluate: strategy sampled 10 clients (out of 100)\n",
      "Fisher Score:   0%|          | 0/25 [00:00<?, ?batch/s]\n"
     ]
    },
    {
     "name": "stdout",
     "output_type": "stream",
     "text": [
      "(ClientAppActor pid=19244) [Client] Client on device: cuda:0\n",
      "(ClientAppActor pid=19244) [Client] CUDA available in client: True\n"
     ]
    },
    {
     "name": "stderr",
     "output_type": "stream",
     "text": [
      "Fisher Score:  12%|█▏        | 3/25 [00:00<00:00, 22.16batch/s]\n",
      "Fisher Score:  24%|██▍       | 6/25 [00:00<00:00, 20.39batch/s]\n",
      "Fisher Score:  36%|███▌      | 9/25 [00:00<00:00, 20.03batch/s]\n",
      "Fisher Score:  48%|████▊     | 12/25 [00:00<00:00, 19.94batch/s]\n",
      "Fisher Score:  56%|█████▌    | 14/25 [00:00<00:00, 19.92batch/s]\n",
      "Fisher Score:  64%|██████▍   | 16/25 [00:00<00:00, 19.68batch/s]\n",
      "Fisher Score:  72%|███████▏  | 18/25 [00:00<00:00, 19.67batch/s]\n",
      "Fisher Score:  84%|████████▍ | 21/25 [00:01<00:00, 19.56batch/s]\n",
      "Fisher Score:  92%|█████████▏| 23/25 [00:01<00:00, 19.56batch/s]\n",
      "Fisher Score: 100%|██████████| 25/25 [00:01<00:00, 19.83batch/s]\n",
      "Eval progress:   0%|          | 0/1 [00:00<?, ?batch/s]\n",
      "Eval progress: 100%|██████████| 1/1 [00:00<00:00,  3.35batch/s]\n"
     ]
    },
    {
     "name": "stdout",
     "output_type": "stream",
     "text": [
      "(ClientAppActor pid=19244) [Client] Client on device: cuda:0\n",
      "(ClientAppActor pid=19244) [Client] CUDA available in client: True\n"
     ]
    },
    {
     "name": "stderr",
     "output_type": "stream",
     "text": [
      "Fisher Score:   0%|          | 0/25 [00:00<?, ?batch/s]\n",
      "Fisher Score:  12%|█▏        | 3/25 [00:00<00:01, 21.04batch/s]\n",
      "Fisher Score:  24%|██▍       | 6/25 [00:00<00:00, 20.16batch/s]\n",
      "Fisher Score:  36%|███▌      | 9/25 [00:00<00:00, 20.18batch/s]\n",
      "Fisher Score:  48%|████▊     | 12/25 [00:00<00:00, 19.97batch/s]\n",
      "Fisher Score:  56%|█████▌    | 14/25 [00:00<00:00, 19.94batch/s]\n",
      "Fisher Score:  64%|██████▍   | 16/25 [00:00<00:00, 19.67batch/s]\n",
      "Fisher Score:  72%|███████▏  | 18/25 [00:00<00:00, 19.64batch/s]\n",
      "Fisher Score:  88%|████████▊ | 22/25 [00:01<00:00, 19.69batch/s]\n",
      "Fisher Score:  96%|█████████▌| 24/25 [00:01<00:00, 19.50batch/s]\n",
      "Fisher Score: 100%|██████████| 25/25 [00:01<00:00, 19.78batch/s]\n",
      "Eval progress:   0%|          | 0/1 [00:00<?, ?batch/s]\n",
      "Eval progress: 100%|██████████| 1/1 [00:00<00:00,  3.25batch/s]\n",
      "Fisher Score:   0%|          | 0/25 [00:00<?, ?batch/s]\n"
     ]
    },
    {
     "name": "stdout",
     "output_type": "stream",
     "text": [
      "(ClientAppActor pid=19244) [Client] Client on device: cuda:0\n",
      "(ClientAppActor pid=19244) [Client] CUDA available in client: True\n"
     ]
    },
    {
     "name": "stderr",
     "output_type": "stream",
     "text": [
      "Fisher Score:  12%|█▏        | 3/25 [00:00<00:01, 21.71batch/s]\n",
      "Fisher Score:  24%|██▍       | 6/25 [00:00<00:00, 20.37batch/s]\n",
      "Fisher Score:  36%|███▌      | 9/25 [00:00<00:00, 20.08batch/s]\n",
      "Fisher Score:  48%|████▊     | 12/25 [00:00<00:00, 19.93batch/s]\n",
      "Fisher Score:  56%|█████▌    | 14/25 [00:00<00:00, 19.94batch/s]\n",
      "Fisher Score:  64%|██████▍   | 16/25 [00:00<00:00, 19.93batch/s]\n",
      "Fisher Score:  72%|███████▏  | 18/25 [00:00<00:00, 19.79batch/s]\n",
      "Fisher Score:  84%|████████▍ | 21/25 [00:01<00:00, 19.73batch/s]\n",
      "Fisher Score: 100%|██████████| 25/25 [00:01<00:00, 19.98batch/s]\n",
      "Eval progress:   0%|          | 0/1 [00:00<?, ?batch/s]\n",
      "Eval progress: 100%|██████████| 1/1 [00:00<00:00,  3.40batch/s]\n"
     ]
    },
    {
     "name": "stdout",
     "output_type": "stream",
     "text": [
      "(ClientAppActor pid=19244) [Client] Client on device: cuda:0\n",
      "(ClientAppActor pid=19244) [Client] CUDA available in client: True\n"
     ]
    },
    {
     "name": "stderr",
     "output_type": "stream",
     "text": [
      "Fisher Score:   0%|          | 0/25 [00:00<?, ?batch/s]\n",
      "Fisher Score:  12%|█▏        | 3/25 [00:00<00:01, 21.49batch/s]\n",
      "Fisher Score:  24%|██▍       | 6/25 [00:00<00:00, 20.30batch/s]\n",
      "Fisher Score:  36%|███▌      | 9/25 [00:00<00:00, 20.21batch/s]\n",
      "Fisher Score:  48%|████▊     | 12/25 [00:00<00:00, 20.04batch/s]\n",
      "Fisher Score:  60%|██████    | 15/25 [00:00<00:00, 19.88batch/s]\n",
      "Fisher Score:  68%|██████▊   | 17/25 [00:00<00:00, 19.85batch/s]\n",
      "Fisher Score:  76%|███████▌  | 19/25 [00:00<00:00, 19.77batch/s]\n",
      "Fisher Score:  84%|████████▍ | 21/25 [00:01<00:00, 19.64batch/s]\n",
      "Fisher Score:  92%|█████████▏| 23/25 [00:01<00:00, 19.59batch/s]\n",
      "Fisher Score: 100%|██████████| 25/25 [00:01<00:00, 19.85batch/s]\n",
      "Eval progress:   0%|          | 0/1 [00:00<?, ?batch/s]\n",
      "Eval progress: 100%|██████████| 1/1 [00:00<00:00,  3.34batch/s]\n",
      "Fisher Score:   0%|          | 0/25 [00:00<?, ?batch/s]\n"
     ]
    },
    {
     "name": "stdout",
     "output_type": "stream",
     "text": [
      "(ClientAppActor pid=19244) [Client] Client on device: cuda:0\n",
      "(ClientAppActor pid=19244) [Client] CUDA available in client: True\n"
     ]
    },
    {
     "name": "stderr",
     "output_type": "stream",
     "text": [
      "Fisher Score:  12%|█▏        | 3/25 [00:00<00:00, 22.36batch/s]\n",
      "Fisher Score:  24%|██▍       | 6/25 [00:00<00:00, 20.48batch/s]\n",
      "Fisher Score:  36%|███▌      | 9/25 [00:00<00:00, 20.43batch/s]\n",
      "Fisher Score:  48%|████▊     | 12/25 [00:00<00:00, 20.06batch/s]\n",
      "Fisher Score:  60%|██████    | 15/25 [00:00<00:00, 19.85batch/s]\n",
      "Fisher Score:  68%|██████▊   | 17/25 [00:00<00:00, 19.83batch/s]\n",
      "Fisher Score:  76%|███████▌  | 19/25 [00:00<00:00, 19.73batch/s]\n",
      "Fisher Score:  84%|████████▍ | 21/25 [00:01<00:00, 19.79batch/s]\n",
      "Fisher Score:  92%|█████████▏| 23/25 [00:01<00:00, 19.64batch/s]\n",
      "Fisher Score: 100%|██████████| 25/25 [00:01<00:00, 19.94batch/s]\n",
      "Eval progress:   0%|          | 0/1 [00:00<?, ?batch/s]\n",
      "Eval progress: 100%|██████████| 1/1 [00:00<00:00,  3.30batch/s]\n",
      "Fisher Score:   0%|          | 0/25 [00:00<?, ?batch/s]\n"
     ]
    },
    {
     "name": "stdout",
     "output_type": "stream",
     "text": [
      "(ClientAppActor pid=19244) [Client] Client on device: cuda:0\n",
      "(ClientAppActor pid=19244) [Client] CUDA available in client: True\n"
     ]
    },
    {
     "name": "stderr",
     "output_type": "stream",
     "text": [
      "Fisher Score:  12%|█▏        | 3/25 [00:00<00:00, 22.10batch/s]\n",
      "Fisher Score:  24%|██▍       | 6/25 [00:00<00:00, 20.56batch/s]\n",
      "Fisher Score:  36%|███▌      | 9/25 [00:00<00:00, 20.05batch/s]\n",
      "Fisher Score:  48%|████▊     | 12/25 [00:00<00:00, 19.87batch/s]\n",
      "Fisher Score:  56%|█████▌    | 14/25 [00:00<00:00, 19.55batch/s]\n",
      "Fisher Score:  68%|██████▊   | 17/25 [00:00<00:00, 19.81batch/s]\n",
      "Fisher Score:  76%|███████▌  | 19/25 [00:00<00:00, 19.56batch/s]\n",
      "Fisher Score:  92%|█████████▏| 23/25 [00:01<00:00, 19.66batch/s]\n",
      "Fisher Score: 100%|██████████| 25/25 [00:01<00:00, 19.85batch/s]\n",
      "Eval progress:   0%|          | 0/1 [00:00<?, ?batch/s]\n",
      "Eval progress: 100%|██████████| 1/1 [00:00<00:00,  3.35batch/s]\n",
      "Fisher Score:   0%|          | 0/25 [00:00<?, ?batch/s]\n"
     ]
    },
    {
     "name": "stdout",
     "output_type": "stream",
     "text": [
      "(ClientAppActor pid=19244) [Client] Client on device: cuda:0\n",
      "(ClientAppActor pid=19244) [Client] CUDA available in client: True\n"
     ]
    },
    {
     "name": "stderr",
     "output_type": "stream",
     "text": [
      "Fisher Score:  12%|█▏        | 3/25 [00:00<00:00, 22.33batch/s]\n",
      "Fisher Score:  24%|██▍       | 6/25 [00:00<00:00, 20.75batch/s]\n",
      "Fisher Score:  36%|███▌      | 9/25 [00:00<00:00, 20.21batch/s]\n",
      "Fisher Score:  48%|████▊     | 12/25 [00:00<00:00, 19.87batch/s]\n",
      "Fisher Score:  60%|██████    | 15/25 [00:00<00:00, 19.83batch/s]\n",
      "Fisher Score:  68%|██████▊   | 17/25 [00:00<00:00, 19.71batch/s]\n",
      "Fisher Score:  76%|███████▌  | 19/25 [00:00<00:00, 19.70batch/s]\n",
      "Fisher Score:  84%|████████▍ | 21/25 [00:01<00:00, 19.63batch/s]\n",
      "Fisher Score:  92%|█████████▏| 23/25 [00:01<00:00, 19.68batch/s]\n",
      "Fisher Score: 100%|██████████| 25/25 [00:01<00:00, 19.86batch/s]\n",
      "Eval progress:   0%|          | 0/1 [00:00<?, ?batch/s]\n",
      "Eval progress: 100%|██████████| 1/1 [00:00<00:00,  3.30batch/s]\n",
      "Fisher Score:   0%|          | 0/25 [00:00<?, ?batch/s]\n"
     ]
    },
    {
     "name": "stdout",
     "output_type": "stream",
     "text": [
      "(ClientAppActor pid=19244) [Client] Client on device: cuda:0\n",
      "(ClientAppActor pid=19244) [Client] CUDA available in client: True\n"
     ]
    },
    {
     "name": "stderr",
     "output_type": "stream",
     "text": [
      "Fisher Score:  12%|█▏        | 3/25 [00:00<00:01, 21.13batch/s]\n",
      "Fisher Score:  24%|██▍       | 6/25 [00:00<00:00, 19.68batch/s]\n",
      "Fisher Score:  32%|███▏      | 8/25 [00:00<00:00, 18.83batch/s]\n",
      "Fisher Score:  40%|████      | 10/25 [00:00<00:00, 18.92batch/s]\n",
      "Fisher Score:  48%|████▊     | 12/25 [00:00<00:00, 19.16batch/s]\n",
      "Fisher Score:  56%|█████▌    | 14/25 [00:00<00:00, 19.25batch/s]\n",
      "Fisher Score:  64%|██████▍   | 16/25 [00:00<00:00, 19.36batch/s]\n",
      "Fisher Score:  72%|███████▏  | 18/25 [00:00<00:00, 19.31batch/s]\n",
      "Fisher Score:  80%|████████  | 20/25 [00:01<00:00, 18.80batch/s]\n",
      "Fisher Score:  92%|█████████▏| 23/25 [00:01<00:00, 19.26batch/s]\n",
      "Fisher Score: 100%|██████████| 25/25 [00:01<00:00, 19.30batch/s]\n",
      "Eval progress:   0%|          | 0/1 [00:00<?, ?batch/s]\n",
      "Eval progress: 100%|██████████| 1/1 [00:00<00:00,  3.14batch/s]\n"
     ]
    },
    {
     "name": "stdout",
     "output_type": "stream",
     "text": [
      "(ClientAppActor pid=19244) [Client] Client on device: cuda:0\n",
      "(ClientAppActor pid=19244) [Client] CUDA available in client: True\n"
     ]
    },
    {
     "name": "stderr",
     "output_type": "stream",
     "text": [
      "Fisher Score:   0%|          | 0/25 [00:00<?, ?batch/s]\n",
      "Fisher Score:  12%|█▏        | 3/25 [00:00<00:01, 20.61batch/s]\n",
      "Fisher Score:  24%|██▍       | 6/25 [00:00<00:00, 19.50batch/s]\n",
      "Fisher Score:  32%|███▏      | 8/25 [00:00<00:00, 18.95batch/s]\n",
      "Fisher Score:  44%|████▍     | 11/25 [00:00<00:00, 19.45batch/s]\n",
      "Fisher Score:  52%|█████▏    | 13/25 [00:00<00:00, 19.53batch/s]\n",
      "Fisher Score:  60%|██████    | 15/25 [00:00<00:00, 19.28batch/s]\n",
      "Fisher Score:  68%|██████▊   | 17/25 [00:00<00:00, 19.40batch/s]\n",
      "Fisher Score:  76%|███████▌  | 19/25 [00:00<00:00, 19.45batch/s]\n",
      "Fisher Score:  84%|████████▍ | 21/25 [00:01<00:00, 19.43batch/s]\n",
      "Fisher Score:  92%|█████████▏| 23/25 [00:01<00:00, 19.52batch/s]\n",
      "Fisher Score: 100%|██████████| 25/25 [00:01<00:00, 19.42batch/s]\n",
      "Eval progress:   0%|          | 0/1 [00:00<?, ?batch/s]\n",
      "Eval progress: 100%|██████████| 1/1 [00:00<00:00,  3.31batch/s]\n"
     ]
    },
    {
     "name": "stdout",
     "output_type": "stream",
     "text": [
      "(ClientAppActor pid=19244) [Client] Client on device: cuda:0\n",
      "(ClientAppActor pid=19244) [Client] CUDA available in client: True\n"
     ]
    },
    {
     "name": "stderr",
     "output_type": "stream",
     "text": [
      "Eval progress:   0%|          | 0/1 [00:00<?, ?batch/s]\n",
      "Eval progress: 100%|██████████| 1/1 [00:00<00:00,  3.39batch/s]\n",
      "\u001B[92mINFO \u001B[0m:      aggregate_evaluate: received 10 results and 0 failures\n",
      "\u001B[92mINFO \u001B[0m:      \n",
      "\u001B[92mINFO \u001B[0m:      [SUMMARY]\n",
      "\u001B[92mINFO \u001B[0m:      Run finished 2 round(s) in 299.68s\n",
      "\u001B[92mINFO \u001B[0m:      \tHistory (loss, distributed):\n",
      "\u001B[92mINFO \u001B[0m:      \t\tround 1: 0.7955657422542572\n",
      "\u001B[92mINFO \u001B[0m:      \t\tround 2: 0.9495680868625641\n",
      "\u001B[92mINFO \u001B[0m:      \tHistory (loss, centralized):\n",
      "\u001B[92mINFO \u001B[0m:      \t\tround 0: 0.8353627384089815\n",
      "\u001B[92mINFO \u001B[0m:      \t\tround 1: 0.8351016206006272\n",
      "\u001B[92mINFO \u001B[0m:      \t\tround 2: 0.8347840517188032\n",
      "\u001B[92mINFO \u001B[0m:      \tHistory (metrics, distributed, fit):\n",
      "\u001B[92mINFO \u001B[0m:      \t{'avg_drift': [(1, 0.04141010623425245), (2, 0.04745922349393368)],\n",
      "\u001B[92mINFO \u001B[0m:      \t 'avg_train_loss': [(1, 0.4691863594576716), (2, 0.4826354719698429)]}\n",
      "\u001B[92mINFO \u001B[0m:      \tHistory (metrics, distributed, evaluate):\n",
      "\u001B[92mINFO \u001B[0m:      \t{'decentralized_avg_eval_accuracy': [(1, 0.759), (2, 0.744)]}\n",
      "\u001B[92mINFO \u001B[0m:      \tHistory (metrics, centralized):\n",
      "\u001B[92mINFO \u001B[0m:      \t{'centralized_accuracy': [(0, 0.7663), (1, 0.7663), (2, 0.7663)]}\n",
      "\u001B[92mINFO \u001B[0m:      \n"
     ]
    }
   ],
   "execution_count": 51
  },
  {
   "metadata": {
    "ExecuteTime": {
     "end_time": "2025-05-18T20:17:48.220240Z",
     "start_time": "2025-05-18T20:17:48.206256Z"
    }
   },
   "cell_type": "code",
   "source": "",
   "id": "39ae4073863566bd",
   "outputs": [],
   "execution_count": 40
  }
 ],
 "metadata": {
  "kernelspec": {
   "display_name": "Python 3",
   "language": "python",
   "name": "python3"
  },
  "language_info": {
   "codemirror_mode": {
    "name": "ipython",
    "version": 2
   },
   "file_extension": ".py",
   "mimetype": "text/x-python",
   "name": "python",
   "nbconvert_exporter": "python",
   "pygments_lexer": "ipython2",
   "version": "2.7.6"
  }
 },
 "nbformat": 4,
 "nbformat_minor": 5
}
