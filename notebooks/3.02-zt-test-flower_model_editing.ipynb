{
 "cells": [
  {
   "metadata": {
    "ExecuteTime": {
     "end_time": "2025-05-06T09:24:39.287775Z",
     "start_time": "2025-05-06T09:24:39.171412Z"
    }
   },
   "cell_type": "code",
   "source": [
    "%load_ext autoreload\n",
    "%autoreload 2"
   ],
   "id": "5767f6b1a63e945b",
   "outputs": [],
   "execution_count": 1
  },
  {
   "metadata": {
    "ExecuteTime": {
     "end_time": "2025-05-06T09:24:42.001753Z",
     "start_time": "2025-05-06T09:24:39.288757Z"
    }
   },
   "cell_type": "code",
   "source": "!pip3 install torch torchvision torchaudio --index-url https://download.pytorch.org/whl/cu118\n",
   "id": "75ca9d6d54c4ce47",
   "outputs": [
    {
     "name": "stdout",
     "output_type": "stream",
     "text": [
      "Looking in indexes: https://download.pytorch.org/whl/cu118\n",
      "Requirement already satisfied: torch in c:\\users\\admin\\desktop\\backup\\study\\italy\\polito\\classes\\20242\\deep learning\\project\\source_code\\fl-g13\\.venv\\lib\\site-packages (2.6.0+cu118)\n",
      "Requirement already satisfied: torchvision in c:\\users\\admin\\desktop\\backup\\study\\italy\\polito\\classes\\20242\\deep learning\\project\\source_code\\fl-g13\\.venv\\lib\\site-packages (0.21.0)\n",
      "Requirement already satisfied: torchaudio in c:\\users\\admin\\desktop\\backup\\study\\italy\\polito\\classes\\20242\\deep learning\\project\\source_code\\fl-g13\\.venv\\lib\\site-packages (2.6.0+cu118)\n",
      "Requirement already satisfied: filelock in c:\\users\\admin\\desktop\\backup\\study\\italy\\polito\\classes\\20242\\deep learning\\project\\source_code\\fl-g13\\.venv\\lib\\site-packages (from torch) (3.18.0)\n",
      "Requirement already satisfied: typing-extensions>=4.10.0 in c:\\users\\admin\\desktop\\backup\\study\\italy\\polito\\classes\\20242\\deep learning\\project\\source_code\\fl-g13\\.venv\\lib\\site-packages (from torch) (4.13.1)\n",
      "Requirement already satisfied: networkx in c:\\users\\admin\\desktop\\backup\\study\\italy\\polito\\classes\\20242\\deep learning\\project\\source_code\\fl-g13\\.venv\\lib\\site-packages (from torch) (3.4.2)\n",
      "Requirement already satisfied: jinja2 in c:\\users\\admin\\desktop\\backup\\study\\italy\\polito\\classes\\20242\\deep learning\\project\\source_code\\fl-g13\\.venv\\lib\\site-packages (from torch) (3.1.6)\n",
      "Requirement already satisfied: fsspec in c:\\users\\admin\\desktop\\backup\\study\\italy\\polito\\classes\\20242\\deep learning\\project\\source_code\\fl-g13\\.venv\\lib\\site-packages (from torch) (2025.3.2)\n",
      "Requirement already satisfied: sympy==1.13.1 in c:\\users\\admin\\desktop\\backup\\study\\italy\\polito\\classes\\20242\\deep learning\\project\\source_code\\fl-g13\\.venv\\lib\\site-packages (from torch) (1.13.1)\n",
      "Requirement already satisfied: mpmath<1.4,>=1.1.0 in c:\\users\\admin\\desktop\\backup\\study\\italy\\polito\\classes\\20242\\deep learning\\project\\source_code\\fl-g13\\.venv\\lib\\site-packages (from sympy==1.13.1->torch) (1.3.0)\n",
      "Requirement already satisfied: numpy in c:\\users\\admin\\desktop\\backup\\study\\italy\\polito\\classes\\20242\\deep learning\\project\\source_code\\fl-g13\\.venv\\lib\\site-packages (from torchvision) (2.0.2)\n",
      "Requirement already satisfied: pillow!=8.3.*,>=5.3.0 in c:\\users\\admin\\desktop\\backup\\study\\italy\\polito\\classes\\20242\\deep learning\\project\\source_code\\fl-g13\\.venv\\lib\\site-packages (from torchvision) (11.1.0)\n",
      "Requirement already satisfied: MarkupSafe>=2.0 in c:\\users\\admin\\desktop\\backup\\study\\italy\\polito\\classes\\20242\\deep learning\\project\\source_code\\fl-g13\\.venv\\lib\\site-packages (from jinja2->torch) (3.0.2)\n"
     ]
    },
    {
     "name": "stderr",
     "output_type": "stream",
     "text": [
      "WARNING: Ignoring invalid distribution -otebook (c:\\users\\admin\\desktop\\backup\\study\\italy\\polito\\classes\\20242\\deep learning\\project\\source_code\\fl-g13\\.venv\\lib\\site-packages)\n",
      "WARNING: Ignoring invalid distribution -otebook (c:\\users\\admin\\desktop\\backup\\study\\italy\\polito\\classes\\20242\\deep learning\\project\\source_code\\fl-g13\\.venv\\lib\\site-packages)\n",
      "WARNING: Ignoring invalid distribution -otebook (c:\\users\\admin\\desktop\\backup\\study\\italy\\polito\\classes\\20242\\deep learning\\project\\source_code\\fl-g13\\.venv\\lib\\site-packages)\n",
      "\n",
      "[notice] A new release of pip is available: 25.0.1 -> 25.1.1\n",
      "[notice] To update, run: python.exe -m pip install --upgrade pip\n"
     ]
    }
   ],
   "execution_count": 2
  },
  {
   "metadata": {
    "ExecuteTime": {
     "end_time": "2025-05-06T09:24:50.648591Z",
     "start_time": "2025-05-06T09:24:42.002753Z"
    }
   },
   "cell_type": "code",
   "source": [
    "import flwr\n",
    "import torch\n",
    "import torch.nn as nn\n",
    "import torch.nn.functional as F\n",
    "from flwr.common import Context\n",
    "from flwr.simulation import run_simulation\n",
    "from torchvision import datasets, transforms\n",
    "\n",
    "from fl_g13 import dataset as dataset_handler\n",
    "from fl_g13.config import RAW_DATA_DIR\n"
   ],
   "id": "initial_id",
   "outputs": [
    {
     "name": "stderr",
     "output_type": "stream",
     "text": [
      "\u001B[32m2025-05-06 11:24:48.766\u001B[0m | \u001B[1mINFO    \u001B[0m | \u001B[36mfl_g13.config\u001B[0m:\u001B[36m<module>\u001B[0m:\u001B[36m11\u001B[0m - \u001B[1mPROJ_ROOT path is: C:\\Users\\ADMIN\\Desktop\\BACKUP\\study\\Italy\\polito\\classes\\20242\\deep learning\\project\\source_code\\fl-g13\u001B[0m\n"
     ]
    }
   ],
   "execution_count": 3
  },
  {
   "metadata": {
    "ExecuteTime": {
     "end_time": "2025-05-06T09:24:51.195132Z",
     "start_time": "2025-05-06T09:24:50.649714Z"
    }
   },
   "cell_type": "code",
   "source": [
    "DEVICE = \"cuda\" if torch.cuda.is_available() else \"cpu\"\n",
    "# DEVICE = \"cpu\"\n",
    "print(f\"Training on {DEVICE}\")\n",
    "print(f\"Flower {flwr.__version__} / PyTorch {torch.__version__}\")\n",
    "# disable_progress_bar()"
   ],
   "id": "1a4ec3eb7baf32",
   "outputs": [
    {
     "name": "stdout",
     "output_type": "stream",
     "text": [
      "Training on cuda\n",
      "Flower 1.17.0 / PyTorch 2.6.0+cu118\n"
     ]
    }
   ],
   "execution_count": 4
  },
  {
   "metadata": {},
   "cell_type": "markdown",
   "source": "# Load data",
   "id": "73fb84b164b0def7"
  },
  {
   "metadata": {
    "ExecuteTime": {
     "end_time": "2025-05-06T09:24:52.955119Z",
     "start_time": "2025-05-06T09:24:51.197159Z"
    }
   },
   "cell_type": "code",
   "source": [
    "transform = transforms.Compose([\n",
    "    transforms.ToTensor()\n",
    "])\n",
    "cifar100_train = datasets.CIFAR100(root=RAW_DATA_DIR, train=True, download=True, transform=transform)\n",
    "cifar100_test = datasets.CIFAR100(root=RAW_DATA_DIR, train=False, download=True, transform=transform)"
   ],
   "id": "6c6449ef9be1e422",
   "outputs": [],
   "execution_count": 5
  },
  {
   "metadata": {
    "ExecuteTime": {
     "end_time": "2025-05-06T09:24:53.450971Z",
     "start_time": "2025-05-06T09:24:52.956235Z"
    }
   },
   "cell_type": "code",
   "source": [
    "### train val split\n",
    "cifar100_test, _ = dataset_handler.train_test_split(cifar100_test, train_ratio=0.2)\n",
    "\n",
    "### train val split\n",
    "train_dataset, val_dataset = dataset_handler.train_test_split(cifar100_train, train_ratio=0.8)\n",
    "# I.I.D Sharding Split\n",
    "## k client\n",
    "k = 100\n",
    "clients_dataset_train = dataset_handler.iid_sharding(train_dataset, k)\n",
    "clients_dataset_val = dataset_handler.iid_sharding(val_dataset, k)"
   ],
   "id": "a218d880822fdfba",
   "outputs": [],
   "execution_count": 6
  },
  {
   "metadata": {},
   "cell_type": "markdown",
   "source": "## Tiny model",
   "id": "3ef53dc011fa9499"
  },
  {
   "metadata": {
    "ExecuteTime": {
     "end_time": "2025-05-06T09:24:53.932373Z",
     "start_time": "2025-05-06T09:24:53.451956Z"
    }
   },
   "cell_type": "code",
   "source": [
    "class TinyCNN(nn.Module):\n",
    "    def __init__(self, num_classes=100):\n",
    "        super(TinyCNN, self).__init__()\n",
    "        self.conv1 = nn.Conv2d(3, 16, 3, padding=1)\n",
    "        self.conv2 = nn.Conv2d(16, 32, 3, padding=1)\n",
    "        self.fc1 = nn.Linear(32 * 8 * 8, num_classes)\n",
    "\n",
    "    def forward(self, x):\n",
    "        x = F.relu(self.conv1(x))  # -> [B, 16, 32, 32]\n",
    "        x = F.max_pool2d(x, 2)  # -> [B, 16, 16, 16]\n",
    "        x = F.relu(self.conv2(x))  # -> [B, 32, 16, 16]\n",
    "        x = F.max_pool2d(x, 2)  # -> [B, 32, 8, 8]\n",
    "        x = x.view(x.size(0), -1)  # -> [B, 32*8*8]\n",
    "        x = self.fc1(x)  # -> [B, 100]\n",
    "        return x"
   ],
   "id": "fa219247a8a9d7c9",
   "outputs": [],
   "execution_count": 7
  },
  {
   "metadata": {},
   "cell_type": "markdown",
   "source": "## Init model , optimizer and loss function",
   "id": "4c0f23c3615c6d68"
  },
  {
   "metadata": {
    "ExecuteTime": {
     "end_time": "2025-05-06T09:24:54.509255Z",
     "start_time": "2025-05-06T09:24:53.933984Z"
    }
   },
   "cell_type": "code",
   "source": [
    "from fl_g13.editing import SparseSGDM\n",
    "\n",
    "BATCH_SIZE = 128\n",
    "LR = 1e-3\n",
    "model = TinyCNN().to(DEVICE)\n",
    "# optimizer = optim.SGD(net.parameters(), lr=0.01, momentum=0.9)\n",
    "# optimizer = torch.optim.AdamW(net.parameters(), lr=1e-4, weight_decay=0.04)\n",
    "mask = [torch.ones_like(p, device=p.device) for p in model.parameters()]\n",
    "optimizer = SparseSGDM(\n",
    "    model.parameters(),\n",
    "    mask=mask,\n",
    "    lr=LR,\n",
    "    momentum=0.9,\n",
    "    weight_decay=1e-5\n",
    ")\n",
    "criterion = torch.nn.CrossEntropyLoss()"
   ],
   "id": "9046d19b28a38ed3",
   "outputs": [],
   "execution_count": 8
  },
  {
   "metadata": {},
   "cell_type": "markdown",
   "source": "# Define the ClientApp",
   "id": "e73656b5d73ac995"
  },
  {
   "metadata": {},
   "cell_type": "markdown",
   "source": [
    "## Build module local\n",
    "\n",
    "Build module local such that ClientApp can use it"
   ],
   "id": "b5a0319c8e40215a"
  },
  {
   "metadata": {
    "ExecuteTime": {
     "end_time": "2025-05-06T09:33:31.202009Z",
     "start_time": "2025-05-06T09:33:23.313566Z"
    }
   },
   "cell_type": "code",
   "source": "!pip install -e ..",
   "id": "8a11402a3317027f",
   "outputs": [
    {
     "name": "stdout",
     "output_type": "stream",
     "text": [
      "Obtaining file:///C:/Users/ADMIN/Desktop/BACKUP/study/Italy/polito/classes/20242/deep%20learning/project/source_code/fl-g13\n",
      "  Installing build dependencies: started\n",
      "  Installing build dependencies: finished with status 'done'\n",
      "  Checking if build backend supports build_editable: started\n",
      "  Checking if build backend supports build_editable: finished with status 'done'\n",
      "  Getting requirements to build editable: started\n",
      "  Getting requirements to build editable: finished with status 'done'\n",
      "  Preparing editable metadata (pyproject.toml): started\n",
      "  Preparing editable metadata (pyproject.toml): finished with status 'done'\n",
      "Building wheels for collected packages: fl_g13\n",
      "  Building editable for fl_g13 (pyproject.toml): started\n",
      "  Building editable for fl_g13 (pyproject.toml): finished with status 'done'\n",
      "  Created wheel for fl_g13: filename=fl_g13-0.0.1-py3-none-any.whl size=4649 sha256=a588eeccbccdbea56dbfe92e55bd612babd81e07366f39e361ccc99a5ffdec08\n",
      "  Stored in directory: C:\\Users\\ADMIN\\AppData\\Local\\Temp\\pip-ephem-wheel-cache-w89n9yil\\wheels\\b7\\e0\\6d\\5d22ced2ef400b314cfe74883357cc37e1e1d5275e7ba9175e\n",
      "Successfully built fl_g13\n",
      "Installing collected packages: fl_g13\n",
      "  Attempting uninstall: fl_g13\n",
      "    Found existing installation: fl_g13 0.0.1\n",
      "    Uninstalling fl_g13-0.0.1:\n",
      "      Successfully uninstalled fl_g13-0.0.1\n",
      "Successfully installed fl_g13-0.0.1\n"
     ]
    },
    {
     "name": "stderr",
     "output_type": "stream",
     "text": [
      "WARNING: Ignoring invalid distribution -otebook (c:\\users\\admin\\desktop\\backup\\study\\italy\\polito\\classes\\20242\\deep learning\\project\\source_code\\fl-g13\\.venv\\lib\\site-packages)\n",
      "WARNING: Ignoring invalid distribution -otebook (c:\\users\\admin\\desktop\\backup\\study\\italy\\polito\\classes\\20242\\deep learning\\project\\source_code\\fl-g13\\.venv\\lib\\site-packages)\n",
      "WARNING: Ignoring invalid distribution -otebook (c:\\users\\admin\\desktop\\backup\\study\\italy\\polito\\classes\\20242\\deep learning\\project\\source_code\\fl-g13\\.venv\\lib\\site-packages)\n",
      "\n",
      "[notice] A new release of pip is available: 25.0.1 -> 25.1.1\n",
      "[notice] To update, run: python.exe -m pip install --upgrade pip\n"
     ]
    }
   ],
   "execution_count": 16
  },
  {
   "metadata": {},
   "cell_type": "markdown",
   "source": "## create FlowerClient instances  ",
   "id": "97c881019a2b9e21"
  },
  {
   "metadata": {},
   "cell_type": "markdown",
   "source": "### Create instant of ClientApp",
   "id": "babef0c5a1343937"
  },
  {
   "metadata": {
    "ExecuteTime": {
     "end_time": "2025-05-06T09:33:32.011833Z",
     "start_time": "2025-05-06T09:33:31.204009Z"
    }
   },
   "cell_type": "code",
   "source": [
    "from fl_g13.fl_pytorch.client_app import get_client_app\n",
    "\n",
    "\n",
    "def load_data_client(context: Context, **kwargs):\n",
    "    partition_id = context.node_config[\"partition-id\"]\n",
    "    print(f\"Client {partition_id} is ready to train\")\n",
    "    trainloader = DataLoader(clients_dataset_train[partition_id])\n",
    "    valloader = DataLoader(clients_dataset_val[partition_id])\n",
    "    return trainloader, valloader\n",
    "\n",
    "mask_type='local'\n",
    "local_epoches = 2\n",
    "client = get_client_app(load_data_fn=load_data_client, model=model,\n",
    "                        optimizer=optimizer, criterion=criterion, device=DEVICE,\n",
    "                        local_epochs=local_epoches,\n",
    "                        model_editing=True,\n",
    "                        mask_type=mask_type,\n",
    "                        sparsity=0.2\n",
    "                        )"
   ],
   "id": "70467a37aa8c09c7",
   "outputs": [],
   "execution_count": 17
  },
  {
   "metadata": {},
   "cell_type": "markdown",
   "source": [
    "# Define the Flower ServerApp\n",
    "\n",
    "Customize built-in strategy Federated Averaging (FedAvg) of Flower to combine hyperparams in server-side and save model for each k epoch\n",
    "\n",
    "The strategy could also incremental training an"
   ],
   "id": "5ccd8dfd409b0385"
  },
  {
   "metadata": {},
   "cell_type": "markdown",
   "source": "## Create instant of ServerApp",
   "id": "6f9276503ee2d47"
  },
  {
   "metadata": {
    "ExecuteTime": {
     "end_time": "2025-05-06T09:33:32.794874Z",
     "start_time": "2025-05-06T09:33:32.012814Z"
    }
   },
   "cell_type": "code",
   "source": [
    "\n",
    "from pathlib import Path\n",
    "from torch.utils.data import DataLoader\n",
    "from fl_g13.fl_pytorch.server_app import get_server_app\n",
    "\n",
    "\n",
    "def get_datatest_fn(context: Context):\n",
    "    return DataLoader(cifar100_test)\n",
    "\n",
    "\n",
    "## checkpoints directory\n",
    "current_path = Path.cwd()\n",
    "model_test_path = current_path / \"../models/fl/model_editing_test\"\n",
    "model_test_path.resolve()\n",
    "\n",
    "num_rounds = 2\n",
    "save_every = 1\n",
    "fraction_fit = 1.0  # Sample 100% of available clients for training\n",
    "fraction_evaluate = 0.5  # Sample 50% of available clients for evaluation\n",
    "min_fit_clients = 10  # Never sample less than 10 clients for training\n",
    "min_evaluate_clients = 5  # Never sample less than 5 clients for evaluation\n",
    "min_available_clients = 10  # Wait until all 10 clients are available\n",
    "device = DEVICE\n",
    "use_wandb = False\n",
    "\n",
    "server = get_server_app(checkpoint_dir=model_test_path.resolve(),\n",
    "                        model_class=TinyCNN,\n",
    "                        optimizer=optimizer, criterion=criterion, get_datatest_fn=get_datatest_fn,\n",
    "                        num_rounds=num_rounds,\n",
    "                        fraction_fit=fraction_fit,\n",
    "                        fraction_evaluate=fraction_evaluate,\n",
    "                        min_fit_clients=min_fit_clients,\n",
    "                        min_evaluate_clients=min_evaluate_clients,\n",
    "                        min_available_clients=min_available_clients,\n",
    "                        device=device,\n",
    "                        use_wandb=use_wandb,\n",
    "                        save_every=save_every\n",
    "                        )"
   ],
   "id": "1cbac220e52a6d00",
   "outputs": [
    {
     "name": "stdout",
     "output_type": "stream",
     "text": [
      "🔍 Loading checkpoint from C:\\Users\\ADMIN\\Desktop\\BACKUP\\study\\Italy\\polito\\classes\\20242\\deep learning\\project\\source_code\\fl-g13\\models\\fl\\model_editing_test\\FL_TinyCNN_epoch_5.pth\n",
      "📦 Model class in checkpoint: TinyCNN\n",
      "✅ Loaded checkpoint from C:\\Users\\ADMIN\\Desktop\\BACKUP\\study\\Italy\\polito\\classes\\20242\\deep learning\\project\\source_code\\fl-g13\\models\\fl\\model_editing_test\\FL_TinyCNN_epoch_5.pth, resuming at epoch 6\n"
     ]
    }
   ],
   "execution_count": 18
  },
  {
   "metadata": {},
   "cell_type": "markdown",
   "source": "# Run the training\n",
   "id": "1427a966f7544b94"
  },
  {
   "metadata": {
    "ExecuteTime": {
     "end_time": "2025-05-06T09:33:33.544643Z",
     "start_time": "2025-05-06T09:33:32.796009Z"
    }
   },
   "cell_type": "code",
   "source": [
    "# Specify the resources each of your clients need\n",
    "# By default, each client will be allocated 1x CPU and 0x GPUs\n",
    "backend_config = {\"client_resources\": {\"num_cpus\": 1, \"num_gpus\": 0.0}}\n",
    "\n",
    "# When running on GPU, assign an entire GPU for each client\n",
    "if DEVICE == \"cuda\":\n",
    "    backend_config[\"client_resources\"] = {\"num_cpus\": 1, \"num_gpus\": 0.25}\n",
    "    # Refer to our Flower framework documentation for more details about Flower simulations\n",
    "    # and how to set up the `backend_config`"
   ],
   "id": "1388e3308f7b212b",
   "outputs": [],
   "execution_count": 19
  },
  {
   "metadata": {},
   "cell_type": "markdown",
   "source": "",
   "id": "9a1db478a3e1221"
  },
  {
   "metadata": {
    "ExecuteTime": {
     "end_time": "2025-05-06T09:33:34.263148Z",
     "start_time": "2025-05-06T09:33:33.546808Z"
    }
   },
   "cell_type": "code",
   "source": "NUM_CLIENTS = 10",
   "id": "23d2a1e147f59ffc",
   "outputs": [],
   "execution_count": 20
  },
  {
   "metadata": {
    "ExecuteTime": {
     "end_time": "2025-05-06T09:35:49.192731Z",
     "start_time": "2025-05-06T09:33:45.871255Z"
    }
   },
   "cell_type": "code",
   "source": [
    "# Run simulation\n",
    "run_simulation(\n",
    "    server_app=server,\n",
    "    client_app=client,\n",
    "    num_supernodes=NUM_CLIENTS,\n",
    "    backend_config=backend_config,\n",
    ")"
   ],
   "id": "1451e826d4713ec9",
   "outputs": [
    {
     "name": "stderr",
     "output_type": "stream",
     "text": [
      "\u001B[92mINFO \u001B[0m:      Starting Flower ServerApp, config: num_rounds=2, no round_timeout\n",
      "\u001B[92mINFO \u001B[0m:      \n",
      "\u001B[92mINFO \u001B[0m:      [INIT]\n",
      "\u001B[92mINFO \u001B[0m:      Using initial global parameters provided by strategy\n",
      "\u001B[92mINFO \u001B[0m:      Starting evaluation of initial global parameters\n"
     ]
    },
    {
     "name": "stdout",
     "output_type": "stream",
     "text": [
      "Continue train model from epoch 6\n"
     ]
    },
    {
     "name": "stderr",
     "output_type": "stream",
     "text": [
      "Eval progress: 100%|██████████| 2000/2000 [00:02<00:00, 740.80batch/s]\n",
      "\u001B[92mINFO \u001B[0m:      ROUND 0💡 New best global model found: 0.053500\n",
      "\u001B[92mINFO \u001B[0m:      initial parameters (loss, other metrics): 4.225203928768635, {'centralized_accuracy': 0.0535}\n",
      "\u001B[92mINFO \u001B[0m:      \n",
      "\u001B[92mINFO \u001B[0m:      [ROUND 1]\n",
      "\u001B[92mINFO \u001B[0m:      configure_fit: strategy sampled 10 clients (out of 10)\n"
     ]
    },
    {
     "name": "stdout",
     "output_type": "stream",
     "text": [
      "Server round 0 - loss: 4.225203928768635, metrics: {'centralized_accuracy': 0.0535}\n"
     ]
    },
    {
     "name": "stderr",
     "output_type": "stream",
     "text": [
      "\u001B[36m(ClientAppActor pid=20536)\u001B[0m 2025-05-06 11:34:05.547 | INFO     | fl_g13.config:<module>:11 - PROJ_ROOT path is: C:\\Users\\ADMIN\\Desktop\\BACKUP\\study\\Italy\\polito\\classes\\20242\\deep learning\\project\\source_code\\fl-g13\n",
      "Fisher Score:   0%|          | 0/100 [00:00<?, ?batch/s]\n"
     ]
    },
    {
     "name": "stdout",
     "output_type": "stream",
     "text": [
      "\u001B[36m(ClientAppActor pid=20536)\u001B[0m Client 2 is ready to train\n"
     ]
    },
    {
     "name": "stderr",
     "output_type": "stream",
     "text": [
      "Fisher Score:   1%|          | 1/100 [00:00<00:35,  2.79batch/s]\n",
      "Fisher Score: 100%|██████████| 100/100 [00:00<00:00, 158.10batch/s]\n",
      "Training progress:   0%|          | 0/400 [00:00<?, ?batch/s]\n",
      "Training progress:   4%|▍         | 15/400 [00:00<00:02, 148.26batch/s]\n"
     ]
    },
    {
     "name": "stdout",
     "output_type": "stream",
     "text": [
      "\u001B[36m(ClientAppActor pid=20536)\u001B[0m No prefix/name for the model was provided, choosen prefix/name: jazzy_spearow_33\n",
      "\u001B[36m(ClientAppActor pid=20536)\u001B[0m \n",
      "\u001B[36m(ClientAppActor pid=11972)\u001B[0m \n",
      "\u001B[36m(ClientAppActor pid=26520)\u001B[0m \n",
      "\u001B[36m(ClientAppActor pid=1684)\u001B[0m \n"
     ]
    },
    {
     "name": "stderr",
     "output_type": "stream",
     "text": [
      "Training progress:  15%|█▌        | 61/400 [00:00<00:01, 204.00batch/s]\n",
      "\u001B[36m(ClientAppActor pid=1684)\u001B[0m 2025-05-06 11:34:05.569 | INFO     | fl_g13.config:<module>:11 - PROJ_ROOT path is: C:\\Users\\ADMIN\\Desktop\\BACKUP\\study\\Italy\\polito\\classes\\20242\\deep learning\\project\\source_code\\fl-g13\u001B[32m [repeated 3x across cluster]\u001B[0m\n",
      "Training progress:  92%|█████████▏| 366/400 [00:01<00:00, 247.22batch/s]\n",
      "Training progress: 100%|██████████| 400/400 [00:01<00:00, 234.35batch/s]\n"
     ]
    },
    {
     "name": "stdout",
     "output_type": "stream",
     "text": [
      "\u001B[36m(ClientAppActor pid=20536)\u001B[0m 🚀 Epoch 1/2 (50.00%) Completed\n",
      "\u001B[36m(ClientAppActor pid=20536)\u001B[0m \t📊 Training Loss: 4.1856\n",
      "\u001B[36m(ClientAppActor pid=20536)\u001B[0m \t✅ Training Accuracy: 6.25%\n",
      "\u001B[36m(ClientAppActor pid=20536)\u001B[0m \t⏳ Elapsed Time: 1.71s | ETA: 1.71s\n",
      "\u001B[36m(ClientAppActor pid=20536)\u001B[0m \t🕒 Completed At: 11:34\n",
      "\u001B[36m(ClientAppActor pid=20536)\u001B[0m \n",
      "\u001B[36m(ClientAppActor pid=11972)\u001B[0m \n",
      "\u001B[36m(ClientAppActor pid=26520)\u001B[0m \n",
      "\u001B[36m(ClientAppActor pid=1684)\u001B[0m \n"
     ]
    },
    {
     "name": "stderr",
     "output_type": "stream",
     "text": [
      "Training progress:  93%|█████████▎| 373/400 [00:01<00:00, 229.71batch/s]\n"
     ]
    },
    {
     "name": "stdout",
     "output_type": "stream",
     "text": [
      "\u001B[36m(ClientAppActor pid=20536)\u001B[0m \n",
      "\u001B[36m(ClientAppActor pid=11972)\u001B[0m \n",
      "\u001B[36m(ClientAppActor pid=1684)\u001B[0m Client 0 is ready to train\u001B[32m [repeated 3x across cluster]\u001B[0m\n",
      "\u001B[36m(ClientAppActor pid=26520)\u001B[0m \n",
      "\u001B[36m(ClientAppActor pid=1684)\u001B[0m \n",
      "\u001B[36m(ClientAppActor pid=1684)\u001B[0m No prefix/name for the model was provided, choosen prefix/name: itchy_arbok_12\u001B[32m [repeated 3x across cluster]\u001B[0m\n"
     ]
    },
    {
     "name": "stderr",
     "output_type": "stream",
     "text": [
      "Fisher Score:   0%|          | 0/100 [00:00<?, ?batch/s]\u001B[32m [repeated 3x across cluster]\u001B[0m\n",
      "Fisher Score:  68%|██████▊   | 68/100 [00:00<00:00, 167.20batch/s]\u001B[32m [repeated 11x across cluster]\u001B[0m\n",
      "Fisher Score: 100%|██████████| 100/100 [00:00<00:00, 155.51batch/s]\u001B[32m [repeated 3x across cluster]\u001B[0m\n",
      "Training progress:   0%|          | 0/400 [00:00<?, ?batch/s]\u001B[32m [repeated 7x across cluster]\u001B[0m\n",
      "Training progress:  86%|████████▌ | 344/400 [00:01<00:00, 213.39batch/s]\u001B[32m [repeated 77x across cluster]\u001B[0m\n",
      "Training progress:  81%|████████  | 324/400 [00:01<00:00, 195.81batch/s]\u001B[32m [repeated 18x across cluster]\u001B[0m\n",
      "Training progress: 100%|██████████| 400/400 [00:01<00:00, 217.11batch/s]\u001B[32m [repeated 7x across cluster]\u001B[0m\n",
      "Training progress: 100%|██████████| 400/400 [00:01<00:00, 217.40batch/s]\u001B[32m [repeated 5x across cluster]\u001B[0m\n",
      "Fisher Score:  26%|██▌       | 26/100 [00:00<00:00, 257.77batch/s]\n"
     ]
    },
    {
     "name": "stdout",
     "output_type": "stream",
     "text": [
      "\u001B[36m(ClientAppActor pid=1684)\u001B[0m 🚀 Epoch 2/2 (100.00%) Completed\u001B[32m [repeated 7x across cluster]\u001B[0m\n",
      "\u001B[36m(ClientAppActor pid=1684)\u001B[0m \t📊 Training Loss: 3.9108\u001B[32m [repeated 7x across cluster]\u001B[0m\n",
      "\u001B[36m(ClientAppActor pid=1684)\u001B[0m \t✅ Training Accuracy: 10.00%\u001B[32m [repeated 7x across cluster]\u001B[0m\n",
      "\u001B[36m(ClientAppActor pid=1684)\u001B[0m \t⏳ Elapsed Time: 1.84s | ETA: 0.00s\u001B[32m [repeated 7x across cluster]\u001B[0m\n",
      "\u001B[36m(ClientAppActor pid=1684)\u001B[0m \t🕒 Completed At: 11:34\u001B[32m [repeated 7x across cluster]\u001B[0m\n",
      "\u001B[36m(ClientAppActor pid=1684)\u001B[0m \n",
      "\u001B[36m(ClientAppActor pid=20536)\u001B[0m \n",
      "\u001B[36m(ClientAppActor pid=11972)\u001B[0m \n",
      "\u001B[36m(ClientAppActor pid=26520)\u001B[0m \n"
     ]
    },
    {
     "name": "stderr",
     "output_type": "stream",
     "text": [
      "Fisher Score: 100%|██████████| 100/100 [00:00<00:00, 294.59batch/s]\n"
     ]
    },
    {
     "name": "stdout",
     "output_type": "stream",
     "text": [
      "\u001B[36m(ClientAppActor pid=20536)\u001B[0m \n",
      "\u001B[36m(ClientAppActor pid=11972)\u001B[0m \n",
      "\u001B[36m(ClientAppActor pid=26520)\u001B[0m \n",
      "\u001B[36m(ClientAppActor pid=1684)\u001B[0m \n"
     ]
    },
    {
     "name": "stderr",
     "output_type": "stream",
     "text": [
      "Fisher Score:   0%|          | 0/100 [00:00<?, ?batch/s]\u001B[32m [repeated 3x across cluster]\u001B[0m\n",
      "Fisher Score:  63%|██████▎   | 63/100 [00:00<00:00, 226.00batch/s]\u001B[32m [repeated 10x across cluster]\u001B[0m\n",
      "Fisher Score: 100%|██████████| 100/100 [00:00<00:00, 230.58batch/s]\n",
      "Training progress:   0%|          | 0/400 [00:00<?, ?batch/s]\u001B[32m [repeated 8x across cluster]\u001B[0m\n",
      "Training progress:  79%|███████▉  | 316/400 [00:01<00:00, 253.65batch/s]\u001B[32m [repeated 85x across cluster]\u001B[0m\n"
     ]
    },
    {
     "name": "stdout",
     "output_type": "stream",
     "text": [
      "\u001B[36m(ClientAppActor pid=1684)\u001B[0m \n",
      "\u001B[36m(ClientAppActor pid=20536)\u001B[0m Client 7 is ready to train\u001B[32m [repeated 4x across cluster]\u001B[0m\n",
      "\u001B[36m(ClientAppActor pid=20536)\u001B[0m \n",
      "\u001B[36m(ClientAppActor pid=26520)\u001B[0m No prefix/name for the model was provided, choosen prefix/name: plucky_sandshrew_52\u001B[32m [repeated 4x across cluster]\u001B[0m\n",
      "\u001B[36m(ClientAppActor pid=11972)\u001B[0m \n",
      "\u001B[36m(ClientAppActor pid=26520)\u001B[0m \n",
      "\u001B[36m(ClientAppActor pid=26520)\u001B[0m \n",
      "\u001B[36m(ClientAppActor pid=1684)\u001B[0m \n"
     ]
    },
    {
     "name": "stderr",
     "output_type": "stream",
     "text": [
      "Training progress:  87%|████████▋ | 349/400 [00:01<00:00, 254.31batch/s]\u001B[32m [repeated 10x across cluster]\u001B[0m\n",
      "Training progress: 100%|██████████| 400/400 [00:01<00:00, 258.32batch/s]\u001B[32m [repeated 11x across cluster]\u001B[0m\n",
      "Training progress:  98%|█████████▊| 394/400 [00:01<00:00, 253.61batch/s]\u001B[32m [repeated 4x across cluster]\u001B[0m\n",
      "Fisher Score:  48%|████▊     | 48/100 [00:00<00:00, 470.85batch/s]\n",
      "Fisher Score: 100%|██████████| 100/100 [00:00<00:00, 485.32batch/s]\u001B[32m [repeated 4x across cluster]\u001B[0m\n"
     ]
    },
    {
     "name": "stdout",
     "output_type": "stream",
     "text": [
      "\u001B[36m(ClientAppActor pid=1684)\u001B[0m \n",
      "\u001B[36m(ClientAppActor pid=1684)\u001B[0m 🚀 Epoch 1/2 (50.00%) Completed\u001B[32m [repeated 9x across cluster]\u001B[0m\n",
      "\u001B[36m(ClientAppActor pid=1684)\u001B[0m \t📊 Training Loss: 4.1815\u001B[32m [repeated 9x across cluster]\u001B[0m\n",
      "\u001B[36m(ClientAppActor pid=1684)\u001B[0m \t✅ Training Accuracy: 5.75%\u001B[32m [repeated 9x across cluster]\u001B[0m\n",
      "\u001B[36m(ClientAppActor pid=1684)\u001B[0m \t⏳ Elapsed Time: 1.01s | ETA: 1.01s\u001B[32m [repeated 9x across cluster]\u001B[0m\n",
      "\u001B[36m(ClientAppActor pid=1684)\u001B[0m \t🕒 Completed At: 11:34\u001B[32m [repeated 9x across cluster]\u001B[0m\n",
      "\u001B[36m(ClientAppActor pid=26520)\u001B[0m \n"
     ]
    },
    {
     "name": "stderr",
     "output_type": "stream",
     "text": [
      "\u001B[92mINFO \u001B[0m:      aggregate_fit: received 10 results and 0 failures\n"
     ]
    },
    {
     "name": "stdout",
     "output_type": "stream",
     "text": [
      "\u001B[36m(ClientAppActor pid=26520)\u001B[0m \n",
      "\u001B[36m(ClientAppActor pid=1684)\u001B[0m \n",
      "[Round 1] Avg Client Drift: 2.0219\n",
      "[Round 1] Relative Client Drift: 0.2549\n",
      "Saving centralized model epoch 6 aggregated_parameters...\n",
      "💾 Saved checkpoint at: C:\\Users\\ADMIN\\Desktop\\BACKUP\\study\\Italy\\polito\\classes\\20242\\deep learning\\project\\source_code\\fl-g13\\models\\fl\\model_editing_test\\FL_TinyCNN_epoch_6.pth\n"
     ]
    },
    {
     "name": "stderr",
     "output_type": "stream",
     "text": [
      "Eval progress: 100%|██████████| 2000/2000 [00:02<00:00, 885.87batch/s]\n",
      "\u001B[92mINFO \u001B[0m:      ROUND 1💡 New best global model found: 0.063500\n",
      "\u001B[92mINFO \u001B[0m:      fit progress: (1, 4.172763308942318, {'centralized_accuracy': 0.0635}, 89.28983160000644)\n",
      "\u001B[92mINFO \u001B[0m:      configure_evaluate: strategy sampled 5 clients (out of 10)\n"
     ]
    },
    {
     "name": "stdout",
     "output_type": "stream",
     "text": [
      "Server round 1 - loss: 4.172763308942318, metrics: {'centralized_accuracy': 0.0635}\n"
     ]
    },
    {
     "name": "stderr",
     "output_type": "stream",
     "text": [
      "Fisher Score:   0%|          | 0/100 [00:00<?, ?batch/s]\u001B[32m [repeated 2x across cluster]\u001B[0m\n",
      "Fisher Score:  47%|████▋     | 47/100 [00:00<00:00, 461.53batch/s]\n",
      "Training progress:   0%|          | 0/400 [00:00<?, ?batch/s]\u001B[32m [repeated 4x across cluster]\u001B[0m\n",
      "Training progress:  84%|████████▍ | 335/400 [00:00<00:00, 418.19batch/s]\u001B[32m [repeated 24x across cluster]\u001B[0m\n",
      "Training progress:  91%|█████████ | 363/400 [00:00<00:00, 408.34batch/s]\u001B[32m [repeated 6x across cluster]\u001B[0m\n",
      "Training progress: 100%|██████████| 400/400 [00:00<00:00, 402.58batch/s]\u001B[32m [repeated 2x across cluster]\u001B[0m\n",
      "Training progress: 100%|██████████| 400/400 [00:00<00:00, 415.13batch/s]\u001B[32m [repeated 2x across cluster]\u001B[0m\n",
      "Fisher Score:  38%|███▊      | 38/100 [00:00<00:00, 286.01batch/s]\n"
     ]
    },
    {
     "name": "stdout",
     "output_type": "stream",
     "text": [
      "\u001B[36m(ClientAppActor pid=11972)\u001B[0m Client 4 is ready to train\u001B[32m [repeated 3x across cluster]\u001B[0m\n",
      "\u001B[36m(ClientAppActor pid=1684)\u001B[0m No prefix/name for the model was provided, choosen prefix/name: witty_butterfree_79\u001B[32m [repeated 2x across cluster]\u001B[0m\n",
      "\u001B[36m(ClientAppActor pid=1684)\u001B[0m 🚀 Epoch 2/2 (100.00%) Completed\u001B[32m [repeated 3x across cluster]\u001B[0m\n",
      "\u001B[36m(ClientAppActor pid=1684)\u001B[0m \t📊 Training Loss: 3.9797\u001B[32m [repeated 3x across cluster]\u001B[0m\n",
      "\u001B[36m(ClientAppActor pid=1684)\u001B[0m \t✅ Training Accuracy: 6.50%\u001B[32m [repeated 3x across cluster]\u001B[0m\n",
      "\u001B[36m(ClientAppActor pid=1684)\u001B[0m \t⏳ Elapsed Time: 0.99s | ETA: 0.00s\u001B[32m [repeated 3x across cluster]\u001B[0m\n",
      "\u001B[36m(ClientAppActor pid=1684)\u001B[0m \t🕒 Completed At: 11:34\u001B[32m [repeated 3x across cluster]\u001B[0m\n"
     ]
    },
    {
     "name": "stderr",
     "output_type": "stream",
     "text": [
      "Fisher Score:  67%|██████▋   | 67/100 [00:00<00:00, 159.65batch/s]\n",
      "Fisher Score: 100%|██████████| 100/100 [00:00<00:00, 203.33batch/s]\n",
      "Eval progress:   0%|          | 0/100 [00:00<?, ?batch/s]\n",
      "Fisher Score: 100%|██████████| 100/100 [00:00<00:00, 225.31batch/s]\n",
      "Eval progress:  58%|█████▊    | 58/100 [00:00<00:00, 576.05batch/s]\n",
      "Eval progress: 100%|██████████| 100/100 [00:00<00:00, 594.14batch/s]\n",
      "Eval progress:  70%|███████   | 70/100 [00:00<00:00, 695.15batch/s]\n",
      "Eval progress: 100%|██████████| 100/100 [00:00<00:00, 715.49batch/s]\n",
      "Eval progress: 100%|██████████| 100/100 [00:00<00:00, 1231.68batch/s]\n",
      "\u001B[92mINFO \u001B[0m:      aggregate_evaluate: received 5 results and 0 failures\n",
      "\u001B[92mINFO \u001B[0m:      \n",
      "\u001B[92mINFO \u001B[0m:      [ROUND 2]\n",
      "\u001B[92mINFO \u001B[0m:      configure_fit: strategy sampled 10 clients (out of 10)\n",
      "Fisher Score:   0%|          | 0/100 [00:00<?, ?batch/s]\u001B[32m [repeated 5x across cluster]\u001B[0m\n",
      "Fisher Score:  67%|██████▋   | 67/100 [00:00<00:00, 667.32batch/s]\u001B[32m [repeated 8x across cluster]\u001B[0m\n",
      "Fisher Score:  10%|█         | 10/100 [00:00<00:00, 96.13batch/s]\n",
      "Fisher Score:  52%|█████▏    | 52/100 [00:00<00:00, 179.29batch/s]\n",
      "Fisher Score: 100%|██████████| 100/100 [00:00<00:00, 218.47batch/s]\n",
      "Training progress:   0%|          | 0/400 [00:00<?, ?batch/s]\n",
      "Fisher Score: 100%|██████████| 100/100 [00:00<00:00, 283.15batch/s]\n"
     ]
    },
    {
     "name": "stdout",
     "output_type": "stream",
     "text": [
      "\u001B[36m(ClientAppActor pid=11972)\u001B[0m Client 0 is ready to train\u001B[32m [repeated 5x across cluster]\u001B[0m\n",
      "\u001B[36m(ClientAppActor pid=11972)\u001B[0m No prefix/name for the model was provided, choosen prefix/name: bouncy_sandslash_91\n",
      "\u001B[36m(ClientAppActor pid=11972)\u001B[0m \n",
      "\u001B[36m(ClientAppActor pid=26520)\u001B[0m \n",
      "\u001B[36m(ClientAppActor pid=1684)\u001B[0m \n"
     ]
    },
    {
     "name": "stderr",
     "output_type": "stream",
     "text": [
      "Training progress:   7%|▋         | 27/400 [00:00<00:01, 265.75batch/s]\n",
      "Eval progress:   0%|          | 0/100 [00:00<?, ?batch/s]\u001B[32m [repeated 2x across cluster]\u001B[0m\n",
      "Fisher Score: 100%|██████████| 100/100 [00:00<00:00, 258.67batch/s]\u001B[32m [repeated 4x across cluster]\u001B[0m\n",
      "Training progress:  20%|██        | 80/400 [00:00<00:01, 253.66batch/s]\n"
     ]
    },
    {
     "name": "stdout",
     "output_type": "stream",
     "text": [
      "\u001B[36m(ClientAppActor pid=20536)\u001B[0m \n"
     ]
    },
    {
     "name": "stderr",
     "output_type": "stream",
     "text": [
      "Eval progress: 100%|██████████| 100/100 [00:00<00:00, 669.83batch/s]\n",
      "Eval progress: 100%|██████████| 100/100 [00:00<00:00, 915.65batch/s]\n",
      "Training progress:  93%|█████████▎| 372/400 [00:01<00:00, 249.86batch/s]\n",
      "Training progress:  92%|█████████▏| 367/400 [00:01<00:00, 249.41batch/s]\n",
      "Training progress: 100%|██████████| 400/400 [00:01<00:00, 252.83batch/s]\n"
     ]
    },
    {
     "name": "stdout",
     "output_type": "stream",
     "text": [
      "\u001B[36m(ClientAppActor pid=11972)\u001B[0m 🚀 Epoch 1/2 (50.00%) Completed\n",
      "\u001B[36m(ClientAppActor pid=11972)\u001B[0m \t📊 Training Loss: 4.0466\n",
      "\u001B[36m(ClientAppActor pid=11972)\u001B[0m \t✅ Training Accuracy: 9.50%\n",
      "\u001B[36m(ClientAppActor pid=11972)\u001B[0m \t⏳ Elapsed Time: 1.58s | ETA: 1.58s\n",
      "\u001B[36m(ClientAppActor pid=11972)\u001B[0m \t🕒 Completed At: 11:35\n",
      "\u001B[36m(ClientAppActor pid=11972)\u001B[0m \n",
      "\u001B[36m(ClientAppActor pid=26520)\u001B[0m \n",
      "\u001B[36m(ClientAppActor pid=1684)\u001B[0m \n",
      "\u001B[36m(ClientAppActor pid=20536)\u001B[0m \n",
      "\u001B[36m(ClientAppActor pid=1684)\u001B[0m \n",
      "\u001B[36m(ClientAppActor pid=11972)\u001B[0m \n",
      "\u001B[36m(ClientAppActor pid=26520)\u001B[0m \n",
      "\u001B[36m(ClientAppActor pid=20536)\u001B[0m Client 3 is ready to train\u001B[32m [repeated 3x across cluster]\u001B[0m\n",
      "\u001B[36m(ClientAppActor pid=20536)\u001B[0m No prefix/name for the model was provided, choosen prefix/name: sneezy_kakuna_90\u001B[32m [repeated 3x across cluster]\u001B[0m\n",
      "\u001B[36m(ClientAppActor pid=20536)\u001B[0m \n"
     ]
    },
    {
     "name": "stderr",
     "output_type": "stream",
     "text": [
      "Fisher Score:   0%|          | 0/100 [00:00<?, ?batch/s]\u001B[32m [repeated 2x across cluster]\u001B[0m\n",
      "Fisher Score:  41%|████      | 41/100 [00:00<00:00, 404.80batch/s]\u001B[32m [repeated 5x across cluster]\u001B[0m\n",
      "Training progress:   0%|          | 0/400 [00:00<?, ?batch/s]\u001B[32m [repeated 7x across cluster]\u001B[0m\n",
      "Fisher Score: 100%|██████████| 100/100 [00:00<00:00, 394.37batch/s]\n",
      "Training progress:  89%|████████▉ | 355/400 [00:01<00:00, 290.78batch/s]\u001B[32m [repeated 66x across cluster]\u001B[0m\n",
      "Training progress:  66%|██████▌   | 262/400 [00:01<00:00, 262.89batch/s]\u001B[32m [repeated 18x across cluster]\u001B[0m\n",
      "Fisher Score: 100%|██████████| 100/100 [00:00<00:00, 250.17batch/s]\n",
      "Training progress: 100%|██████████| 400/400 [00:01<00:00, 252.02batch/s]\u001B[32m [repeated 9x across cluster]\u001B[0m\n"
     ]
    },
    {
     "name": "stdout",
     "output_type": "stream",
     "text": [
      "\u001B[36m(ClientAppActor pid=11972)\u001B[0m \n",
      "\u001B[36m(ClientAppActor pid=26520)\u001B[0m \n",
      "\u001B[36m(ClientAppActor pid=1684)\u001B[0m \n",
      "\u001B[36m(ClientAppActor pid=20536)\u001B[0m \n"
     ]
    },
    {
     "name": "stderr",
     "output_type": "stream",
     "text": [
      "Training progress: 100%|██████████| 400/400 [00:01<00:00, 276.12batch/s]\u001B[32m [repeated 4x across cluster]\u001B[0m\n"
     ]
    },
    {
     "name": "stdout",
     "output_type": "stream",
     "text": [
      "\u001B[36m(ClientAppActor pid=26520)\u001B[0m \n",
      "\u001B[36m(ClientAppActor pid=26520)\u001B[0m 🚀 Epoch 1/2 (50.00%) Completed\u001B[32m [repeated 8x across cluster]\u001B[0m\n",
      "\u001B[36m(ClientAppActor pid=26520)\u001B[0m \t📊 Training Loss: 4.1409\u001B[32m [repeated 8x across cluster]\u001B[0m\n",
      "\u001B[36m(ClientAppActor pid=26520)\u001B[0m \t✅ Training Accuracy: 6.25%\u001B[32m [repeated 8x across cluster]\u001B[0m\n",
      "\u001B[36m(ClientAppActor pid=26520)\u001B[0m \t⏳ Elapsed Time: 1.55s | ETA: 1.55s\u001B[32m [repeated 8x across cluster]\u001B[0m\n",
      "\u001B[36m(ClientAppActor pid=26520)\u001B[0m \t🕒 Completed At: 11:35\u001B[32m [repeated 8x across cluster]\u001B[0m\n",
      "\u001B[36m(ClientAppActor pid=1684)\u001B[0m \n",
      "\u001B[36m(ClientAppActor pid=11972)\u001B[0m \n",
      "\u001B[36m(ClientAppActor pid=20536)\u001B[0m \n"
     ]
    },
    {
     "name": "stderr",
     "output_type": "stream",
     "text": [
      "Fisher Score:   0%|          | 0/100 [00:00<?, ?batch/s]\u001B[32m [repeated 4x across cluster]\u001B[0m\n",
      "Fisher Score:  38%|███▊      | 38/100 [00:00<00:00, 204.81batch/s]\u001B[32m [repeated 8x across cluster]\u001B[0m\n",
      "Training progress:   0%|          | 0/400 [00:00<?, ?batch/s]\u001B[32m [repeated 8x across cluster]\u001B[0m\n",
      "Training progress:  90%|█████████ | 362/400 [00:01<00:00, 242.55batch/s]\u001B[32m [repeated 78x across cluster]\u001B[0m\n",
      "Training progress:  72%|███████▎  | 290/400 [00:01<00:00, 249.69batch/s]\u001B[32m [repeated 14x across cluster]\u001B[0m\n"
     ]
    },
    {
     "name": "stdout",
     "output_type": "stream",
     "text": [
      "\u001B[36m(ClientAppActor pid=11972)\u001B[0m \n",
      "\u001B[36m(ClientAppActor pid=20536)\u001B[0m Client 6 is ready to train\u001B[32m [repeated 4x across cluster]\u001B[0m\n",
      "\u001B[36m(ClientAppActor pid=20536)\u001B[0m No prefix/name for the model was provided, choosen prefix/name: plucky_spearow_55\u001B[32m [repeated 4x across cluster]\u001B[0m\n",
      "\u001B[36m(ClientAppActor pid=26520)\u001B[0m \n",
      "\u001B[36m(ClientAppActor pid=1684)\u001B[0m \n",
      "\u001B[36m(ClientAppActor pid=20536)\u001B[0m \n",
      "\u001B[36m(ClientAppActor pid=26520)\u001B[0m \n",
      "\u001B[36m(ClientAppActor pid=1684)\u001B[0m \n"
     ]
    },
    {
     "name": "stderr",
     "output_type": "stream",
     "text": [
      "Fisher Score: 100%|██████████| 100/100 [00:00<00:00, 548.60batch/s]\u001B[32m [repeated 5x across cluster]\u001B[0m\n",
      "Training progress: 100%|██████████| 400/400 [00:01<00:00, 231.75batch/s]\u001B[32m [repeated 6x across cluster]\u001B[0m\n",
      "Training progress: 100%|██████████| 400/400 [00:01<00:00, 226.01batch/s]\u001B[32m [repeated 6x across cluster]\u001B[0m\n",
      "Training progress: 100%|██████████| 400/400 [00:01<00:00, 331.65batch/s]\n",
      "Training progress: 100%|██████████| 400/400 [00:01<00:00, 329.98batch/s]\n"
     ]
    },
    {
     "name": "stdout",
     "output_type": "stream",
     "text": [
      "\u001B[36m(ClientAppActor pid=26520)\u001B[0m \n",
      "\u001B[36m(ClientAppActor pid=1684)\u001B[0m \n"
     ]
    },
    {
     "name": "stderr",
     "output_type": "stream",
     "text": [
      "\u001B[92mINFO \u001B[0m:      aggregate_fit: received 10 results and 0 failures\n"
     ]
    },
    {
     "name": "stdout",
     "output_type": "stream",
     "text": [
      "\u001B[36m(ClientAppActor pid=26520)\u001B[0m \n",
      "\u001B[36m(ClientAppActor pid=26520)\u001B[0m 🚀 Epoch 2/2 (100.00%) Completed\u001B[32m [repeated 10x across cluster]\u001B[0m\n",
      "\u001B[36m(ClientAppActor pid=26520)\u001B[0m \t📊 Training Loss: 3.8812\u001B[32m [repeated 10x across cluster]\u001B[0m\n",
      "\u001B[36m(ClientAppActor pid=26520)\u001B[0m \t✅ Training Accuracy: 7.00%\u001B[32m [repeated 10x across cluster]\u001B[0m\n",
      "\u001B[36m(ClientAppActor pid=26520)\u001B[0m \t⏳ Elapsed Time: 1.37s | ETA: 0.00s\u001B[32m [repeated 10x across cluster]\u001B[0m\n",
      "\u001B[36m(ClientAppActor pid=26520)\u001B[0m \t🕒 Completed At: 11:35\u001B[32m [repeated 10x across cluster]\u001B[0m\n",
      "\u001B[36m(ClientAppActor pid=1684)\u001B[0m \n",
      "[Round 2] Avg Client Drift: 2.1904\n",
      "[Round 2] Relative Client Drift: 0.2660\n",
      "Saving centralized model epoch 7 aggregated_parameters...\n",
      "💾 Saved checkpoint at: C:\\Users\\ADMIN\\Desktop\\BACKUP\\study\\Italy\\polito\\classes\\20242\\deep learning\\project\\source_code\\fl-g13\\models\\fl\\model_editing_test\\FL_TinyCNN_epoch_7.pth\n"
     ]
    },
    {
     "name": "stderr",
     "output_type": "stream",
     "text": [
      "Eval progress: 100%|██████████| 2000/2000 [00:02<00:00, 934.80batch/s]\n",
      "\u001B[92mINFO \u001B[0m:      ROUND 2💡 New best global model found: 0.076000\n",
      "\u001B[92mINFO \u001B[0m:      fit progress: (2, 4.12708351546526, {'centralized_accuracy': 0.076}, 113.17709339997964)\n",
      "\u001B[92mINFO \u001B[0m:      configure_evaluate: strategy sampled 5 clients (out of 10)\n"
     ]
    },
    {
     "name": "stdout",
     "output_type": "stream",
     "text": [
      "Server round 2 - loss: 4.12708351546526, metrics: {'centralized_accuracy': 0.076}\n"
     ]
    },
    {
     "name": "stderr",
     "output_type": "stream",
     "text": [
      "Fisher Score:   0%|          | 0/100 [00:00<?, ?batch/s]\u001B[32m [repeated 3x across cluster]\u001B[0m\n",
      "Training progress:   0%|          | 0/400 [00:00<?, ?batch/s]\u001B[32m [repeated 4x across cluster]\u001B[0m\n",
      "Training progress:  91%|█████████ | 364/400 [00:01<00:00, 282.28batch/s]\u001B[32m [repeated 32x across cluster]\u001B[0m\n",
      "Training progress:  89%|████████▉ | 357/400 [00:01<00:00, 285.31batch/s]\n",
      "Training progress: 100%|██████████| 400/400 [00:01<00:00, 288.83batch/s]\u001B[32m [repeated 2x across cluster]\u001B[0m\n"
     ]
    },
    {
     "name": "stdout",
     "output_type": "stream",
     "text": [
      "\u001B[36m(ClientAppActor pid=20536)\u001B[0m Client 2 is ready to train\u001B[32m [repeated 3x across cluster]\u001B[0m\n",
      "\u001B[36m(ClientAppActor pid=1684)\u001B[0m No prefix/name for the model was provided, choosen prefix/name: quirky_pidgeotto_92\u001B[32m [repeated 2x across cluster]\u001B[0m\n"
     ]
    },
    {
     "name": "stderr",
     "output_type": "stream",
     "text": [
      "Fisher Score:   2%|▏         | 2/100 [00:00<00:15,  6.19batch/s]\n",
      "Fisher Score: 100%|██████████| 100/100 [00:00<00:00, 157.11batch/s]\n",
      "Fisher Score: 100%|██████████| 100/100 [00:00<00:00, 163.25batch/s]\n",
      "Eval progress:   0%|          | 0/100 [00:00<?, ?batch/s]\n",
      "Eval progress:  73%|███████▎  | 73/100 [00:00<00:00, 728.04batch/s]\n",
      "Eval progress: 100%|██████████| 100/100 [00:00<00:00, 700.27batch/s]\n"
     ]
    },
    {
     "name": "stdout",
     "output_type": "stream",
     "text": [
      "\u001B[36m(ClientAppActor pid=1684)\u001B[0m 🚀 Epoch 2/2 (100.00%) Completed\n",
      "\u001B[36m(ClientAppActor pid=1684)\u001B[0m \t📊 Training Loss: 3.8645\n",
      "\u001B[36m(ClientAppActor pid=1684)\u001B[0m \t✅ Training Accuracy: 8.75%\n",
      "\u001B[36m(ClientAppActor pid=1684)\u001B[0m \t⏳ Elapsed Time: 1.39s | ETA: 0.00s\n",
      "\u001B[36m(ClientAppActor pid=1684)\u001B[0m \t🕒 Completed At: 11:35\n"
     ]
    },
    {
     "name": "stderr",
     "output_type": "stream",
     "text": [
      "\u001B[92mINFO \u001B[0m:      aggregate_evaluate: received 5 results and 0 failures\n",
      "\u001B[92mINFO \u001B[0m:      \n",
      "\u001B[92mINFO \u001B[0m:      [SUMMARY]\n",
      "\u001B[92mINFO \u001B[0m:      Run finished 2 round(s) in 117.36s\n",
      "\u001B[92mINFO \u001B[0m:      \tHistory (loss, distributed):\n",
      "\u001B[92mINFO \u001B[0m:      \t\tround 1: 4.354769141435623\n",
      "\u001B[92mINFO \u001B[0m:      \t\tround 2: 4.370063863396645\n",
      "\u001B[92mINFO \u001B[0m:      \tHistory (loss, centralized):\n",
      "\u001B[92mINFO \u001B[0m:      \t\tround 0: 4.225203928768635\n",
      "\u001B[92mINFO \u001B[0m:      \t\tround 1: 4.172763308942318\n",
      "\u001B[92mINFO \u001B[0m:      \t\tround 2: 4.12708351546526\n",
      "\u001B[92mINFO \u001B[0m:      \tHistory (metrics, distributed, fit):\n",
      "\u001B[92mINFO \u001B[0m:      \t{'avg_drift': [(1, 2.0218725323677065), (2, 2.190437364578247)],\n",
      "\u001B[92mINFO \u001B[0m:      \t 'avg_train_loss': [(1, 8.136771921578795), (2, 7.95445452123927)]}\n",
      "\u001B[92mINFO \u001B[0m:      \tHistory (metrics, distributed, evaluate):\n",
      "\u001B[92mINFO \u001B[0m:      \t{'federated_evaluate_accuracy': [(1, 0.052), (2, 0.05)]}\n",
      "\u001B[92mINFO \u001B[0m:      \tHistory (metrics, centralized):\n",
      "\u001B[92mINFO \u001B[0m:      \t{'centralized_accuracy': [(0, 0.0535), (1, 0.0635), (2, 0.076)]}\n",
      "\u001B[92mINFO \u001B[0m:      \n",
      "Eval progress: 100%|██████████| 100/100 [00:00<00:00, 781.04batch/s]\n"
     ]
    },
    {
     "name": "stdout",
     "output_type": "stream",
     "text": [
      "\u001B[36m(ClientAppActor pid=20536)\u001B[0m Client 9 is ready to train\u001B[32m [repeated 4x across cluster]\u001B[0m\n"
     ]
    },
    {
     "name": "stderr",
     "output_type": "stream",
     "text": [
      "Fisher Score:   0%|          | 0/100 [00:00<?, ?batch/s]\u001B[32m [repeated 4x across cluster]\u001B[0m\n",
      "Fisher Score:  57%|█████▋    | 57/100 [00:00<00:00, 565.64batch/s]\u001B[32m [repeated 11x across cluster]\u001B[0m\n",
      "Fisher Score: 100%|██████████| 100/100 [00:00<00:00, 552.55batch/s]\u001B[32m [repeated 3x across cluster]\u001B[0m\n",
      "Eval progress:   0%|          | 0/100 [00:00<?, ?batch/s]\u001B[32m [repeated 4x across cluster]\u001B[0m\n",
      "Eval progress:  69%|██████▉   | 69/100 [00:00<00:00, 688.08batch/s]\u001B[32m [repeated 3x across cluster]\u001B[0m\n",
      "Eval progress: 100%|██████████| 100/100 [00:00<00:00, 660.86batch/s]\u001B[32m [repeated 3x across cluster]\u001B[0m\n"
     ]
    }
   ],
   "execution_count": 21
  },
  {
   "metadata": {},
   "cell_type": "code",
   "outputs": [],
   "execution_count": null,
   "source": "",
   "id": "976962ab1f73bc3"
  }
 ],
 "metadata": {
  "kernelspec": {
   "display_name": "Python 3",
   "language": "python",
   "name": "python3"
  },
  "language_info": {
   "codemirror_mode": {
    "name": "ipython",
    "version": 2
   },
   "file_extension": ".py",
   "mimetype": "text/x-python",
   "name": "python",
   "nbconvert_exporter": "python",
   "pygments_lexer": "ipython2",
   "version": "2.7.6"
  }
 },
 "nbformat": 4,
 "nbformat_minor": 5
}
