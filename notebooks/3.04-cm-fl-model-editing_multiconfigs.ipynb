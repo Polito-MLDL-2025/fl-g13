{
 "cells": [
  {
   "cell_type": "code",
   "execution_count": 1,
   "id": "5767f6b1a63e945b",
   "metadata": {
    "ExecuteTime": {
     "end_time": "2025-06-03T20:50:03.075515Z",
     "start_time": "2025-06-03T20:50:02.926852Z"
    }
   },
   "outputs": [],
   "source": [
    "%load_ext autoreload\n",
    "%autoreload 2"
   ]
  },
  {
   "cell_type": "code",
   "execution_count": 2,
   "id": "a9be9ad1",
   "metadata": {},
   "outputs": [
    {
     "name": "stdout",
     "output_type": "stream",
     "text": [
      "Obtaining file:///home/massimiliano/Projects/fl-g13\n",
      "  Installing build dependencies ... \u001b[?25ldone\n",
      "\u001b[?25h  Checking if build backend supports build_editable ... \u001b[?25ldone\n",
      "\u001b[?25h  Getting requirements to build editable ... \u001b[?25ldone\n",
      "\u001b[?25h  Preparing editable metadata (pyproject.toml) ... \u001b[?25ldone\n",
      "\u001b[?25hBuilding wheels for collected packages: fl_g13\n",
      "  Building editable for fl_g13 (pyproject.toml) ... \u001b[?25ldone\n",
      "\u001b[?25h  Created wheel for fl_g13: filename=fl_g13-0.0.1-py3-none-any.whl size=4783 sha256=8064e08b4f30ae57a5caf24381753035394944d203df3c3ab58bb159a922d71e\n",
      "  Stored in directory: /tmp/pip-ephem-wheel-cache-qdr_wwbp/wheels/ba/e6/76/85624c1c92362af95a88fb73ca068d24e3e74626054ee5ff32\n",
      "Successfully built fl_g13\n",
      "Installing collected packages: fl_g13\n",
      "  Attempting uninstall: fl_g13\n",
      "    Found existing installation: fl_g13 0.0.1\n",
      "    Uninstalling fl_g13-0.0.1:\n",
      "      Successfully uninstalled fl_g13-0.0.1\n",
      "Successfully installed fl_g13-0.0.1\n",
      "Note: you may need to restart the kernel to use updated packages.\n"
     ]
    }
   ],
   "source": [
    "%pip install -e .."
   ]
  },
  {
   "cell_type": "code",
   "execution_count": 3,
   "id": "a218d880822fdfba",
   "metadata": {
    "ExecuteTime": {
     "end_time": "2025-06-03T20:50:35.686200Z",
     "start_time": "2025-06-03T20:50:33.570880Z"
    }
   },
   "outputs": [
    {
     "name": "stderr",
     "output_type": "stream",
     "text": [
      "\u001b[34m\u001b[1mwandb\u001b[0m: Using wandb-core as the SDK backend.  Please refer to https://wandb.me/wandb-core for more information.\n",
      "\u001b[34m\u001b[1mwandb\u001b[0m: \u001b[33mWARNING\u001b[0m If you're specifying your api key in code, ensure this code is not shared publicly.\n",
      "\u001b[34m\u001b[1mwandb\u001b[0m: \u001b[33mWARNING\u001b[0m Consider setting the WANDB_API_KEY environment variable, or running `wandb login` from the command line.\n",
      "\u001b[34m\u001b[1mwandb\u001b[0m: Appending key for api.wandb.ai to your netrc file: /home/massimiliano/.netrc\n",
      "\u001b[34m\u001b[1mwandb\u001b[0m: Currently logged in as: \u001b[33mmassimilianocarli\u001b[0m (\u001b[33mstefano-gamba-social-politecnico-di-torino\u001b[0m) to \u001b[32mhttps://api.wandb.ai\u001b[0m. Use \u001b[1m`wandb login --relogin`\u001b[0m to force relogin\n",
      "\u001b[32m2025-06-04 23:08:59.527\u001b[0m | \u001b[1mINFO    \u001b[0m | \u001b[36mfl_g13.config\u001b[0m:\u001b[36m<module>\u001b[0m:\u001b[36m11\u001b[0m - \u001b[1mPROJ_ROOT path is: /home/massimiliano/Projects/fl-g13\u001b[0m\n"
     ]
    },
    {
     "name": "stdout",
     "output_type": "stream",
     "text": [
      "Training on cuda\n",
      "Flower 1.17.0 / PyTorch 2.6.0+cu124\n",
      "'vision_transformer.py' already exists.\n",
      "'utils.py' already exists.\n"
     ]
    }
   ],
   "source": [
    "import wandb\n",
    "import dotenv\n",
    "import os\n",
    "\n",
    "dotenv.load_dotenv() # Load API Key\n",
    "WANDB_API_KEY = os.getenv(\"WANDB_API_KEY\")\n",
    "\n",
    "wandb.login(key=WANDB_API_KEY)\n",
    "from pathlib import Path\n",
    "\n",
    "import flwr\n",
    "import torch\n",
    "from flwr.simulation import run_simulation\n",
    "from torch.optim.lr_scheduler import CosineAnnealingLR\n",
    "\n",
    "from fl_g13.architectures import BaseDino\n",
    "from fl_g13.fl_pytorch.client_app import get_client_app\n",
    "from fl_g13.fl_pytorch.server_app import get_server_app\n",
    "\n",
    "device = \"cuda\" if torch.cuda.is_available() else \"cpu\"\n",
    "print(f\"Training on {device}\")\n",
    "print(f\"Flower {flwr.__version__} / PyTorch {torch.__version__}\")\n",
    "\n",
    "from fl_g13.fl_pytorch import build_fl_dependencies\n",
    "build_fl_dependencies()\n",
    "\n",
    "# Specify the resources each of your clients need\n",
    "# By default, each client will be allocated 1x CPU and 0x GPUs\n",
    "backend_config = {\"client_resources\": {\"num_cpus\": 1, \"num_gpus\": 0.0}}\n",
    "\n",
    "# When running on GPU, assign an entire GPU for each client\n",
    "if device == \"cuda\":\n",
    "    backend_config[\"client_resources\"] = {\"num_cpus\": 1, \"num_gpus\": 1}\n",
    "    # Refer to our Flower framework documentation for more details about Flower simulations\n",
    "    # and how to set up the `backend_config`"
   ]
  },
  {
   "cell_type": "markdown",
   "id": "377ae17b",
   "metadata": {},
   "source": [
    "## Hyperparameters"
   ]
  },
  {
   "cell_type": "code",
   "execution_count": 5,
   "id": "d63bb533ec30809b",
   "metadata": {
    "ExecuteTime": {
     "end_time": "2025-06-03T20:50:48.494786Z",
     "start_time": "2025-06-03T20:50:47.673652Z"
    }
   },
   "outputs": [],
   "source": [
    "from fl_g13.modeling import load_or_create\n",
    "from fl_g13.editing import SparseSGDM\n",
    "from torch.optim import SGD\n",
    "\n",
    "# Model Hyper-parameters\n",
    "model_config={\n",
    "    \"head_layers\": 3,\n",
    "    \"head_hidden_size\": 512,\n",
    "    \"dropout_rate\": 0.0,\n",
    "    \"unfreeze_blocks\": 0,\n",
    "}\n",
    "\n",
    "# Training Hyper-parameters\n",
    "batch_size = 64\n",
    "lr = 1e-3\n",
    "momentum = 0.9\n",
    "weight_decay = 1e-5\n",
    "T_max = 8\n",
    "eta_min = 1e-5\n",
    "\n",
    "# Model editing Hyper-parameters\n",
    "model_editing = False\n",
    "mask_type = 'global'\n",
    "sparsity = 0.8\n",
    "mask = None\n",
    "model_editing_batch_size = 16\n",
    "\n",
    "# Federated Hyper-parameters\n",
    "K = 100\n",
    "C = 0.1\n",
    "Js = [8]\n",
    "Ncs = [1, 5, 10, 50]\n",
    "\n",
    "save_every = 5\n",
    "fraction_fit = C  # Sample of available clients for training\n",
    "fraction_evaluate = 0.1  # Sample 50% of available clients for evaluation\n",
    "min_fit_clients = 10  # Never sample less than 10 clients for training\n",
    "min_evaluate_clients = 5  # Never sample less than 5 clients for evaluation\n",
    "min_available_clients = 10  # Wait until all 10 clients are available\n",
    "\n",
    "num_rounds = 200\n",
    "evaluate_each = 5\n",
    "partition_type = 'shard'\n",
    "NUM_CLIENTS = K\n",
    "\n",
    "# Wandb config\n",
    "use_wandb = True\n",
    "project_name = \"FL_Dino_CIFAR100_baseline_v4\"\n",
    "\n",
    "current_path = Path.cwd()\n",
    "model_save_path = current_path / f\"../models/fl_dino_v4/non_iid\""
   ]
  },
  {
   "cell_type": "markdown",
   "id": "1427a966f7544b94",
   "metadata": {},
   "source": [
    "## Training"
   ]
  },
  {
   "cell_type": "code",
   "execution_count": null,
   "id": "c8d7c7a7",
   "metadata": {},
   "outputs": [
    {
     "name": "stdout",
     "output_type": "stream",
     "text": [
      "--------------------------------------------------------------------------------------------------------------------------------------------------------------------------------------------------------\n",
      "Training Non IId model\n",
      "Nc: 1, J: 8\n",
      "checkpoint_dir:/home/massimiliano/Projects/fl-g13/notebooks/../models/fl_dino_v4/non_iid/1_8/editing\n",
      "⚠️ No checkpoint found at /home/massimiliano/Projects/fl-g13/notebooks/../models/fl_dino_v4/non_iid/1_8/editing. Creating a new model.\n"
     ]
    },
    {
     "name": "stderr",
     "output_type": "stream",
     "text": [
      "Using cache found in /home/massimiliano/.cache/torch/hub/facebookresearch_dino_main\n"
     ]
    },
    {
     "name": "stdout",
     "output_type": "stream",
     "text": [
      "⚠️ No checkpoint found at /home/massimiliano/Projects/fl-g13/notebooks/../models/fl_dino_v4/non_iid/1_8/editing. Creating a new model.\n",
      "[Server] Server on device: cuda:0\n",
      "[Server] CUDA available in client: True\n",
      "Using strategy 'CustomFedAvg' (default option)\n"
     ]
    },
    {
     "name": "stderr",
     "output_type": "stream",
     "text": [
      "/home/massimiliano/miniconda3/envs/fl-g13/lib/python3.11/site-packages/wandb/analytics/sentry.py:259: DeprecationWarning: The `Scope.user` setter is deprecated in favor of `Scope.set_user()`.\n",
      "  self.scope.user = {\"email\": email}  # noqa\n",
      "/home/massimiliano/miniconda3/envs/fl-g13/lib/python3.11/site-packages/wandb/analytics/sentry.py:259: DeprecationWarning: The `Scope.user` setter is deprecated in favor of `Scope.set_user()`.\n",
      "  self.scope.user = {\"email\": email}  # noqa\n"
     ]
    },
    {
     "data": {
      "text/html": [
       "Tracking run with wandb version 0.19.9"
      ],
      "text/plain": [
       "<IPython.core.display.HTML object>"
      ]
     },
     "metadata": {},
     "output_type": "display_data"
    },
    {
     "data": {
      "text/html": [
       "Run data is saved locally in <code>/home/massimiliano/Projects/fl-g13/notebooks/wandb/run-20250604_230929-FL_Dino_Baseline_model_non_iid_1_8</code>"
      ],
      "text/plain": [
       "<IPython.core.display.HTML object>"
      ]
     },
     "metadata": {},
     "output_type": "display_data"
    },
    {
     "data": {
      "text/html": [
       "Syncing run <strong><a href='https://wandb.ai/stefano-gamba-social-politecnico-di-torino/FL_Dino_CIFAR100_baseline_v4/runs/FL_Dino_Baseline_model_non_iid_1_8' target=\"_blank\">FL_Dino_Baseline_model_non_iid_1_8</a></strong> to <a href='https://wandb.ai/stefano-gamba-social-politecnico-di-torino/FL_Dino_CIFAR100_baseline_v4' target=\"_blank\">Weights & Biases</a> (<a href='https://wandb.me/developer-guide' target=\"_blank\">docs</a>)<br>"
      ],
      "text/plain": [
       "<IPython.core.display.HTML object>"
      ]
     },
     "metadata": {},
     "output_type": "display_data"
    },
    {
     "data": {
      "text/html": [
       " View project at <a href='https://wandb.ai/stefano-gamba-social-politecnico-di-torino/FL_Dino_CIFAR100_baseline_v4' target=\"_blank\">https://wandb.ai/stefano-gamba-social-politecnico-di-torino/FL_Dino_CIFAR100_baseline_v4</a>"
      ],
      "text/plain": [
       "<IPython.core.display.HTML object>"
      ]
     },
     "metadata": {},
     "output_type": "display_data"
    },
    {
     "data": {
      "text/html": [
       " View run at <a href='https://wandb.ai/stefano-gamba-social-politecnico-di-torino/FL_Dino_CIFAR100_baseline_v4/runs/FL_Dino_Baseline_model_non_iid_1_8' target=\"_blank\">https://wandb.ai/stefano-gamba-social-politecnico-di-torino/FL_Dino_CIFAR100_baseline_v4/runs/FL_Dino_Baseline_model_non_iid_1_8</a>"
      ],
      "text/plain": [
       "<IPython.core.display.HTML object>"
      ]
     },
     "metadata": {},
     "output_type": "display_data"
    },
    {
     "name": "stderr",
     "output_type": "stream",
     "text": [
      "\u001b[92mINFO \u001b[0m:      Starting Flower ServerApp, config: num_rounds=200, no round_timeout\n",
      "\u001b[92mINFO \u001b[0m:      \n",
      "\u001b[92mINFO \u001b[0m:      [INIT]\n",
      "\u001b[92mINFO \u001b[0m:      Using initial global parameters provided by strategy\n",
      "\u001b[92mINFO \u001b[0m:      Starting evaluation of initial global parameters\n"
     ]
    },
    {
     "name": "stdout",
     "output_type": "stream",
     "text": [
      "[Server Eval Round 0] Model device: cuda:0\n",
      "[Server Eval Round 0] CUDA available in server eval: True\n"
     ]
    },
    {
     "name": "stderr",
     "output_type": "stream",
     "text": [
      "Eval progress: 100%|██████████| 313/313 [00:22<00:00, 13.66batch/s]\n",
      "\u001b[92mINFO \u001b[0m:      [Round 0] Centralized Evaluation - Loss: 6.5283, Metrics: {'centralized_accuracy': 0.0113}\n",
      "\u001b[92mINFO \u001b[0m:      initial parameters (loss, other metrics): 6.528326717047646, {'centralized_accuracy': 0.0113}\n",
      "\u001b[92mINFO \u001b[0m:      \n",
      "\u001b[92mINFO \u001b[0m:      [ROUND 1]\n",
      "\u001b[92mINFO \u001b[0m:      configure_fit: strategy sampled 10 clients (out of 100)\n",
      "\u001b[36m(ClientAppActor pid=109967)\u001b[0m 2025-06-04 23:09:54.315 | INFO     | fl_g13.config:<module>:11 - PROJ_ROOT path is: /home/massimiliano/Projects/fl-g13\n"
     ]
    },
    {
     "name": "stdout",
     "output_type": "stream",
     "text": [
      "\u001b[36m(ClientAppActor pid=109967)\u001b[0m [Client] Client on device: cuda:0\n",
      "\u001b[36m(ClientAppActor pid=109967)\u001b[0m [Client] CUDA available in client: True\n",
      "\u001b[36m(ClientAppActor pid=109967)\u001b[0m No prefix/name for the model was provided, choosen prefix/name: groovy_caterpie_11\n",
      "\u001b[36m(ClientAppActor pid=109967)\u001b[0m \n",
      "\u001b[36m(ClientAppActor pid=109967)\u001b[0m Step 1/8 | Total batches: 7\n",
      "\u001b[36m(ClientAppActor pid=109967)\u001b[0m Step 2/8 | Total batches: 7\n",
      "\u001b[36m(ClientAppActor pid=109967)\u001b[0m Step 3/8 | Total batches: 7\n",
      "\u001b[36m(ClientAppActor pid=109967)\u001b[0m Step 4/8 | Total batches: 7\n",
      "\u001b[36m(ClientAppActor pid=109967)\u001b[0m Step 5/8 | Total batches: 7\n",
      "\u001b[36m(ClientAppActor pid=109967)\u001b[0m Step 6/8 | Total batches: 7\n",
      "\u001b[36m(ClientAppActor pid=109967)\u001b[0m Step 7/8 | Total batches: 7\n",
      "\u001b[36m(ClientAppActor pid=109967)\u001b[0m Step 8/8 | Total batches: 7\n",
      "\u001b[36m(ClientAppActor pid=109967)\u001b[0m 🚀 Epoch 1/1 (100.00%) Completed\n",
      "\u001b[36m(ClientAppActor pid=109967)\u001b[0m \t📊 Training Loss: 1.2974\n",
      "\u001b[36m(ClientAppActor pid=109967)\u001b[0m \t✅ Training Accuracy: 73.49%\n",
      "\u001b[36m(ClientAppActor pid=109967)\u001b[0m \t⏳ Elapsed Time: 1.33s | ETA: 0.00s\n",
      "\u001b[36m(ClientAppActor pid=109967)\u001b[0m \t🕒 Completed At: 23:10\n",
      "\u001b[36m(ClientAppActor pid=109967)\u001b[0m \n",
      "\u001b[36m(ClientAppActor pid=109967)\u001b[0m [Client] Client on device: cuda:0\n",
      "\u001b[36m(ClientAppActor pid=109967)\u001b[0m [Client] CUDA available in client: True\n",
      "\u001b[36m(ClientAppActor pid=109967)\u001b[0m No prefix/name for the model was provided, choosen prefix/name: frosty_charmeleon_46\n",
      "\u001b[36m(ClientAppActor pid=109967)\u001b[0m \n",
      "\u001b[36m(ClientAppActor pid=109967)\u001b[0m Step 1/8 | Total batches: 7\n",
      "\u001b[36m(ClientAppActor pid=109967)\u001b[0m Step 2/8 | Total batches: 7\n",
      "\u001b[36m(ClientAppActor pid=109967)\u001b[0m Step 3/8 | Total batches: 7\n",
      "\u001b[36m(ClientAppActor pid=109967)\u001b[0m Step 4/8 | Total batches: 7\n",
      "\u001b[36m(ClientAppActor pid=109967)\u001b[0m Step 5/8 | Total batches: 7\n",
      "\u001b[36m(ClientAppActor pid=109967)\u001b[0m Step 6/8 | Total batches: 7\n",
      "\u001b[36m(ClientAppActor pid=109967)\u001b[0m Step 7/8 | Total batches: 7\n",
      "\u001b[36m(ClientAppActor pid=109967)\u001b[0m Step 8/8 | Total batches: 7\n",
      "\u001b[36m(ClientAppActor pid=109967)\u001b[0m 🚀 Epoch 1/1 (100.00%) Completed\n",
      "\u001b[36m(ClientAppActor pid=109967)\u001b[0m \t📊 Training Loss: 1.5868\n",
      "\u001b[36m(ClientAppActor pid=109967)\u001b[0m \t✅ Training Accuracy: 72.63%\n",
      "\u001b[36m(ClientAppActor pid=109967)\u001b[0m \t⏳ Elapsed Time: 1.11s | ETA: 0.00s\n",
      "\u001b[36m(ClientAppActor pid=109967)\u001b[0m \t🕒 Completed At: 23:10\n",
      "\u001b[36m(ClientAppActor pid=109967)\u001b[0m \n",
      "\u001b[36m(ClientAppActor pid=109967)\u001b[0m [Client] Client on device: cuda:0\n",
      "\u001b[36m(ClientAppActor pid=109967)\u001b[0m [Client] CUDA available in client: True\n",
      "\u001b[36m(ClientAppActor pid=109967)\u001b[0m No prefix/name for the model was provided, choosen prefix/name: snazzy_butterfree_18\n",
      "\u001b[36m(ClientAppActor pid=109967)\u001b[0m \n",
      "\u001b[36m(ClientAppActor pid=109967)\u001b[0m Step 1/8 | Total batches: 7\n",
      "\u001b[36m(ClientAppActor pid=109967)\u001b[0m Step 2/8 | Total batches: 7\n",
      "\u001b[36m(ClientAppActor pid=109967)\u001b[0m Step 3/8 | Total batches: 7\n",
      "\u001b[36m(ClientAppActor pid=109967)\u001b[0m Step 4/8 | Total batches: 7\n",
      "\u001b[36m(ClientAppActor pid=109967)\u001b[0m Step 5/8 | Total batches: 7\n",
      "\u001b[36m(ClientAppActor pid=109967)\u001b[0m Step 6/8 | Total batches: 7\n",
      "\u001b[36m(ClientAppActor pid=109967)\u001b[0m Step 7/8 | Total batches: 7\n",
      "\u001b[36m(ClientAppActor pid=109967)\u001b[0m Step 8/8 | Total batches: 7\n",
      "\u001b[36m(ClientAppActor pid=109967)\u001b[0m 🚀 Epoch 1/1 (100.00%) Completed\n",
      "\u001b[36m(ClientAppActor pid=109967)\u001b[0m \t📊 Training Loss: 1.5805\n",
      "\u001b[36m(ClientAppActor pid=109967)\u001b[0m \t✅ Training Accuracy: 72.63%\n",
      "\u001b[36m(ClientAppActor pid=109967)\u001b[0m \t⏳ Elapsed Time: 1.13s | ETA: 0.00s\n",
      "\u001b[36m(ClientAppActor pid=109967)\u001b[0m \t🕒 Completed At: 23:10\n",
      "\u001b[36m(ClientAppActor pid=109967)\u001b[0m \n",
      "\u001b[36m(ClientAppActor pid=109967)\u001b[0m [Client] Client on device: cuda:0\n",
      "\u001b[36m(ClientAppActor pid=109967)\u001b[0m [Client] CUDA available in client: True\n",
      "\u001b[36m(ClientAppActor pid=109967)\u001b[0m No prefix/name for the model was provided, choosen prefix/name: happy_charmeleon_21\n",
      "\u001b[36m(ClientAppActor pid=109967)\u001b[0m \n",
      "\u001b[36m(ClientAppActor pid=109967)\u001b[0m Step 1/8 | Total batches: 7\n",
      "\u001b[36m(ClientAppActor pid=109967)\u001b[0m Step 2/8 | Total batches: 7\n",
      "\u001b[36m(ClientAppActor pid=109967)\u001b[0m Step 3/8 | Total batches: 7\n",
      "\u001b[36m(ClientAppActor pid=109967)\u001b[0m Step 4/8 | Total batches: 7\n",
      "\u001b[36m(ClientAppActor pid=109967)\u001b[0m Step 5/8 | Total batches: 7\n",
      "\u001b[36m(ClientAppActor pid=109967)\u001b[0m Step 6/8 | Total batches: 7\n",
      "\u001b[36m(ClientAppActor pid=109967)\u001b[0m Step 7/8 | Total batches: 7\n",
      "\u001b[36m(ClientAppActor pid=109967)\u001b[0m Step 8/8 | Total batches: 7\n",
      "\u001b[36m(ClientAppActor pid=109967)\u001b[0m 🚀 Epoch 1/1 (100.00%) Completed\n",
      "\u001b[36m(ClientAppActor pid=109967)\u001b[0m \t📊 Training Loss: 1.0196\n",
      "\u001b[36m(ClientAppActor pid=109967)\u001b[0m \t✅ Training Accuracy: 75.00%\n",
      "\u001b[36m(ClientAppActor pid=109967)\u001b[0m \t⏳ Elapsed Time: 1.13s | ETA: 0.00s\n",
      "\u001b[36m(ClientAppActor pid=109967)\u001b[0m \t🕒 Completed At: 23:10\n",
      "\u001b[36m(ClientAppActor pid=109967)\u001b[0m \n",
      "\u001b[36m(ClientAppActor pid=109967)\u001b[0m [Client] Client on device: cuda:0\n",
      "\u001b[36m(ClientAppActor pid=109967)\u001b[0m [Client] CUDA available in client: True\n",
      "\u001b[36m(ClientAppActor pid=109967)\u001b[0m No prefix/name for the model was provided, choosen prefix/name: peppy_butterfree_37\n",
      "\u001b[36m(ClientAppActor pid=109967)\u001b[0m \n",
      "\u001b[36m(ClientAppActor pid=109967)\u001b[0m Step 1/8 | Total batches: 7\n",
      "\u001b[36m(ClientAppActor pid=109967)\u001b[0m Step 2/8 | Total batches: 7\n",
      "\u001b[36m(ClientAppActor pid=109967)\u001b[0m Step 3/8 | Total batches: 7\n",
      "\u001b[36m(ClientAppActor pid=109967)\u001b[0m Step 4/8 | Total batches: 7\n",
      "\u001b[36m(ClientAppActor pid=109967)\u001b[0m Step 5/8 | Total batches: 7\n",
      "\u001b[36m(ClientAppActor pid=109967)\u001b[0m Step 6/8 | Total batches: 7\n",
      "\u001b[36m(ClientAppActor pid=109967)\u001b[0m Step 7/8 | Total batches: 7\n",
      "\u001b[36m(ClientAppActor pid=109967)\u001b[0m Step 8/8 | Total batches: 7\n",
      "\u001b[36m(ClientAppActor pid=109967)\u001b[0m 🚀 Epoch 1/1 (100.00%) Completed\n",
      "\u001b[36m(ClientAppActor pid=109967)\u001b[0m \t📊 Training Loss: 1.1143\n",
      "\u001b[36m(ClientAppActor pid=109967)\u001b[0m \t✅ Training Accuracy: 74.78%\n",
      "\u001b[36m(ClientAppActor pid=109967)\u001b[0m \t⏳ Elapsed Time: 1.13s | ETA: 0.00s\n",
      "\u001b[36m(ClientAppActor pid=109967)\u001b[0m \t🕒 Completed At: 23:10\n",
      "\u001b[36m(ClientAppActor pid=109967)\u001b[0m \n",
      "\u001b[36m(ClientAppActor pid=109967)\u001b[0m [Client] Client on device: cuda:0\n",
      "\u001b[36m(ClientAppActor pid=109967)\u001b[0m [Client] CUDA available in client: True\n",
      "\u001b[36m(ClientAppActor pid=109967)\u001b[0m No prefix/name for the model was provided, choosen prefix/name: zippy_butterfree_46\n",
      "\u001b[36m(ClientAppActor pid=109967)\u001b[0m \n",
      "\u001b[36m(ClientAppActor pid=109967)\u001b[0m Step 1/8 | Total batches: 7\n",
      "\u001b[36m(ClientAppActor pid=109967)\u001b[0m Step 2/8 | Total batches: 7\n",
      "\u001b[36m(ClientAppActor pid=109967)\u001b[0m Step 3/8 | Total batches: 7\n",
      "\u001b[36m(ClientAppActor pid=109967)\u001b[0m Step 4/8 | Total batches: 7\n",
      "\u001b[36m(ClientAppActor pid=109967)\u001b[0m Step 5/8 | Total batches: 7\n",
      "\u001b[36m(ClientAppActor pid=109967)\u001b[0m Step 6/8 | Total batches: 7\n",
      "\u001b[36m(ClientAppActor pid=109967)\u001b[0m Step 7/8 | Total batches: 7\n",
      "\u001b[36m(ClientAppActor pid=109967)\u001b[0m Step 8/8 | Total batches: 7\n",
      "\u001b[36m(ClientAppActor pid=109967)\u001b[0m 🚀 Epoch 1/1 (100.00%) Completed\n",
      "\u001b[36m(ClientAppActor pid=109967)\u001b[0m \t📊 Training Loss: 0.6570\n",
      "\u001b[36m(ClientAppActor pid=109967)\u001b[0m \t✅ Training Accuracy: 82.54%\n",
      "\u001b[36m(ClientAppActor pid=109967)\u001b[0m \t⏳ Elapsed Time: 1.13s | ETA: 0.00s\n",
      "\u001b[36m(ClientAppActor pid=109967)\u001b[0m \t🕒 Completed At: 23:10\n",
      "\u001b[36m(ClientAppActor pid=109967)\u001b[0m \n",
      "\u001b[36m(ClientAppActor pid=109967)\u001b[0m [Client] Client on device: cuda:0\n",
      "\u001b[36m(ClientAppActor pid=109967)\u001b[0m [Client] CUDA available in client: True\n",
      "\u001b[36m(ClientAppActor pid=109967)\u001b[0m No prefix/name for the model was provided, choosen prefix/name: bouncy_ekans_25\n",
      "\u001b[36m(ClientAppActor pid=109967)\u001b[0m \n",
      "\u001b[36m(ClientAppActor pid=109967)\u001b[0m Step 1/8 | Total batches: 7\n",
      "\u001b[36m(ClientAppActor pid=109967)\u001b[0m Step 2/8 | Total batches: 7\n",
      "\u001b[36m(ClientAppActor pid=109967)\u001b[0m Step 3/8 | Total batches: 7\n",
      "\u001b[36m(ClientAppActor pid=109967)\u001b[0m Step 4/8 | Total batches: 7\n",
      "\u001b[36m(ClientAppActor pid=109967)\u001b[0m Step 5/8 | Total batches: 7\n",
      "\u001b[36m(ClientAppActor pid=109967)\u001b[0m Step 6/8 | Total batches: 7\n",
      "\u001b[36m(ClientAppActor pid=109967)\u001b[0m Step 7/8 | Total batches: 7\n",
      "\u001b[36m(ClientAppActor pid=109967)\u001b[0m Step 8/8 | Total batches: 7\n",
      "\u001b[36m(ClientAppActor pid=109967)\u001b[0m 🚀 Epoch 1/1 (100.00%) Completed\n",
      "\u001b[36m(ClientAppActor pid=109967)\u001b[0m \t📊 Training Loss: 0.8527\n",
      "\u001b[36m(ClientAppActor pid=109967)\u001b[0m \t✅ Training Accuracy: 79.74%\n",
      "\u001b[36m(ClientAppActor pid=109967)\u001b[0m \t⏳ Elapsed Time: 1.12s | ETA: 0.00s\n",
      "\u001b[36m(ClientAppActor pid=109967)\u001b[0m \t🕒 Completed At: 23:10\n",
      "\u001b[36m(ClientAppActor pid=109967)\u001b[0m \n",
      "\u001b[36m(ClientAppActor pid=109967)\u001b[0m [Client] Client on device: cuda:0\n",
      "\u001b[36m(ClientAppActor pid=109967)\u001b[0m [Client] CUDA available in client: True\n",
      "\u001b[36m(ClientAppActor pid=109967)\u001b[0m No prefix/name for the model was provided, choosen prefix/name: breezy_clefairy_43\n",
      "\u001b[36m(ClientAppActor pid=109967)\u001b[0m \n",
      "\u001b[36m(ClientAppActor pid=109967)\u001b[0m Step 1/8 | Total batches: 7\n",
      "\u001b[36m(ClientAppActor pid=109967)\u001b[0m Step 2/8 | Total batches: 7\n",
      "\u001b[36m(ClientAppActor pid=109967)\u001b[0m Step 3/8 | Total batches: 7\n",
      "\u001b[36m(ClientAppActor pid=109967)\u001b[0m Step 4/8 | Total batches: 7\n",
      "\u001b[36m(ClientAppActor pid=109967)\u001b[0m Step 5/8 | Total batches: 7\n",
      "\u001b[36m(ClientAppActor pid=109967)\u001b[0m Step 6/8 | Total batches: 7\n",
      "\u001b[36m(ClientAppActor pid=109967)\u001b[0m Step 7/8 | Total batches: 7\n",
      "\u001b[36m(ClientAppActor pid=109967)\u001b[0m Step 8/8 | Total batches: 7\n",
      "\u001b[36m(ClientAppActor pid=109967)\u001b[0m 🚀 Epoch 1/1 (100.00%) Completed\n",
      "\u001b[36m(ClientAppActor pid=109967)\u001b[0m \t📊 Training Loss: 1.9110\n",
      "\u001b[36m(ClientAppActor pid=109967)\u001b[0m \t✅ Training Accuracy: 72.41%\n",
      "\u001b[36m(ClientAppActor pid=109967)\u001b[0m \t⏳ Elapsed Time: 1.12s | ETA: 0.00s\n",
      "\u001b[36m(ClientAppActor pid=109967)\u001b[0m \t🕒 Completed At: 23:10\n",
      "\u001b[36m(ClientAppActor pid=109967)\u001b[0m \n",
      "\u001b[36m(ClientAppActor pid=109967)\u001b[0m [Client] Client on device: cuda:0\n",
      "\u001b[36m(ClientAppActor pid=109967)\u001b[0m [Client] CUDA available in client: True\n",
      "\u001b[36m(ClientAppActor pid=109967)\u001b[0m No prefix/name for the model was provided, choosen prefix/name: spunky_caterpie_33\n",
      "\u001b[36m(ClientAppActor pid=109967)\u001b[0m \n",
      "\u001b[36m(ClientAppActor pid=109967)\u001b[0m Step 1/8 | Total batches: 7\n",
      "\u001b[36m(ClientAppActor pid=109967)\u001b[0m Step 2/8 | Total batches: 7\n",
      "\u001b[36m(ClientAppActor pid=109967)\u001b[0m Step 3/8 | Total batches: 7\n",
      "\u001b[36m(ClientAppActor pid=109967)\u001b[0m Step 4/8 | Total batches: 7\n",
      "\u001b[36m(ClientAppActor pid=109967)\u001b[0m Step 5/8 | Total batches: 7\n",
      "\u001b[36m(ClientAppActor pid=109967)\u001b[0m Step 6/8 | Total batches: 7\n",
      "\u001b[36m(ClientAppActor pid=109967)\u001b[0m Step 7/8 | Total batches: 7\n",
      "\u001b[36m(ClientAppActor pid=109967)\u001b[0m Step 8/8 | Total batches: 7\n",
      "\u001b[36m(ClientAppActor pid=109967)\u001b[0m 🚀 Epoch 1/1 (100.00%) Completed\n",
      "\u001b[36m(ClientAppActor pid=109967)\u001b[0m \t📊 Training Loss: 1.1654\n",
      "\u001b[36m(ClientAppActor pid=109967)\u001b[0m \t✅ Training Accuracy: 76.08%\n",
      "\u001b[36m(ClientAppActor pid=109967)\u001b[0m \t⏳ Elapsed Time: 1.13s | ETA: 0.00s\n",
      "\u001b[36m(ClientAppActor pid=109967)\u001b[0m \t🕒 Completed At: 23:10\n",
      "\u001b[36m(ClientAppActor pid=109967)\u001b[0m \n",
      "\u001b[36m(ClientAppActor pid=109967)\u001b[0m [Client] Client on device: cuda:0\n",
      "\u001b[36m(ClientAppActor pid=109967)\u001b[0m [Client] CUDA available in client: True\n",
      "\u001b[36m(ClientAppActor pid=109967)\u001b[0m No prefix/name for the model was provided, choosen prefix/name: loopy_wartortle_52\n",
      "\u001b[36m(ClientAppActor pid=109967)\u001b[0m \n",
      "\u001b[36m(ClientAppActor pid=109967)\u001b[0m Step 1/8 | Total batches: 7\n",
      "\u001b[36m(ClientAppActor pid=109967)\u001b[0m Step 2/8 | Total batches: 7\n",
      "\u001b[36m(ClientAppActor pid=109967)\u001b[0m Step 3/8 | Total batches: 7\n",
      "\u001b[36m(ClientAppActor pid=109967)\u001b[0m Step 4/8 | Total batches: 7\n",
      "\u001b[36m(ClientAppActor pid=109967)\u001b[0m Step 5/8 | Total batches: 7\n",
      "\u001b[36m(ClientAppActor pid=109967)\u001b[0m Step 6/8 | Total batches: 7\n",
      "\u001b[36m(ClientAppActor pid=109967)\u001b[0m Step 7/8 | Total batches: 7\n",
      "\u001b[36m(ClientAppActor pid=109967)\u001b[0m Step 8/8 | Total batches: 7\n",
      "\u001b[36m(ClientAppActor pid=109967)\u001b[0m 🚀 Epoch 1/1 (100.00%) Completed\n",
      "\u001b[36m(ClientAppActor pid=109967)\u001b[0m \t📊 Training Loss: 0.5256\n",
      "\u001b[36m(ClientAppActor pid=109967)\u001b[0m \t✅ Training Accuracy: 86.64%\n",
      "\u001b[36m(ClientAppActor pid=109967)\u001b[0m \t⏳ Elapsed Time: 1.13s | ETA: 0.00s\n",
      "\u001b[36m(ClientAppActor pid=109967)\u001b[0m \t🕒 Completed At: 23:10\n",
      "\u001b[36m(ClientAppActor pid=109967)\u001b[0m \n"
     ]
    },
    {
     "name": "stderr",
     "output_type": "stream",
     "text": [
      "\u001b[92mINFO \u001b[0m:      aggregate_fit: received 10 results and 0 failures\n",
      "\u001b[92mINFO \u001b[0m:      [Round 1] Avg Drift: 0.0015 | Relative Drift: 0.0000\n",
      "\u001b[92mINFO \u001b[0m:      fit progress: (1, {}, {}, 25.898511118997703)\n",
      "\u001b[92mINFO \u001b[0m:      configure_evaluate: strategy sampled 10 clients (out of 100)\n"
     ]
    },
    {
     "name": "stdout",
     "output_type": "stream",
     "text": [
      "\u001b[36m(ClientAppActor pid=109967)\u001b[0m [Client] Client on device: cuda:0\n",
      "\u001b[36m(ClientAppActor pid=109967)\u001b[0m [Client] CUDA available in client: True\n"
     ]
    },
    {
     "name": "stderr",
     "output_type": "stream",
     "text": [
      "Eval progress:   0%|          | 0/2 [00:00<?, ?batch/s]\n",
      "Eval progress:  50%|█████     | 1/2 [00:00<00:00,  6.29batch/s]\n",
      "Eval progress: 100%|██████████| 2/2 [00:00<00:00,  8.22batch/s]\n"
     ]
    },
    {
     "name": "stdout",
     "output_type": "stream",
     "text": [
      "\u001b[36m(ClientAppActor pid=109967)\u001b[0m [Client] Client on device: cuda:0\n",
      "\u001b[36m(ClientAppActor pid=109967)\u001b[0m [Client] CUDA available in client: True\n"
     ]
    },
    {
     "name": "stderr",
     "output_type": "stream",
     "text": [
      "Eval progress:   0%|          | 0/2 [00:00<?, ?batch/s]\n",
      "Eval progress:  50%|█████     | 1/2 [00:00<00:00,  6.42batch/s]\n",
      "Eval progress: 100%|██████████| 2/2 [00:00<00:00,  8.33batch/s]\n"
     ]
    },
    {
     "name": "stdout",
     "output_type": "stream",
     "text": [
      "\u001b[36m(ClientAppActor pid=109967)\u001b[0m [Client] Client on device: cuda:0\n",
      "\u001b[36m(ClientAppActor pid=109967)\u001b[0m [Client] CUDA available in client: True\n"
     ]
    },
    {
     "name": "stderr",
     "output_type": "stream",
     "text": [
      "Eval progress:   0%|          | 0/2 [00:00<?, ?batch/s]\n",
      "Eval progress:  50%|█████     | 1/2 [00:00<00:00,  6.46batch/s]\n",
      "Eval progress: 100%|██████████| 2/2 [00:00<00:00,  8.37batch/s]\n"
     ]
    },
    {
     "name": "stdout",
     "output_type": "stream",
     "text": [
      "\u001b[36m(ClientAppActor pid=109967)\u001b[0m [Client] Client on device: cuda:0\n",
      "\u001b[36m(ClientAppActor pid=109967)\u001b[0m [Client] CUDA available in client: True\n"
     ]
    },
    {
     "name": "stderr",
     "output_type": "stream",
     "text": [
      "Eval progress:   0%|          | 0/2 [00:00<?, ?batch/s]\n",
      "Eval progress:  50%|█████     | 1/2 [00:00<00:00,  6.41batch/s]\n",
      "Eval progress: 100%|██████████| 2/2 [00:00<00:00,  8.36batch/s]\n",
      "Eval progress:   0%|          | 0/2 [00:00<?, ?batch/s]\n"
     ]
    },
    {
     "name": "stdout",
     "output_type": "stream",
     "text": [
      "\u001b[36m(ClientAppActor pid=109967)\u001b[0m [Client] Client on device: cuda:0\n",
      "\u001b[36m(ClientAppActor pid=109967)\u001b[0m [Client] CUDA available in client: True\n"
     ]
    },
    {
     "name": "stderr",
     "output_type": "stream",
     "text": [
      "Eval progress:  50%|█████     | 1/2 [00:00<00:00,  6.43batch/s]\n",
      "Eval progress: 100%|██████████| 2/2 [00:00<00:00,  8.34batch/s]\n"
     ]
    },
    {
     "name": "stdout",
     "output_type": "stream",
     "text": [
      "\u001b[36m(ClientAppActor pid=109967)\u001b[0m [Client] Client on device: cuda:0\n",
      "\u001b[36m(ClientAppActor pid=109967)\u001b[0m [Client] CUDA available in client: True\n"
     ]
    },
    {
     "name": "stderr",
     "output_type": "stream",
     "text": [
      "Eval progress:   0%|          | 0/2 [00:00<?, ?batch/s]\n",
      "Eval progress:  50%|█████     | 1/2 [00:00<00:00,  6.47batch/s]\n",
      "Eval progress: 100%|██████████| 2/2 [00:00<00:00,  8.39batch/s]\n"
     ]
    },
    {
     "name": "stdout",
     "output_type": "stream",
     "text": [
      "\u001b[36m(ClientAppActor pid=109967)\u001b[0m [Client] Client on device: cuda:0\n",
      "\u001b[36m(ClientAppActor pid=109967)\u001b[0m [Client] CUDA available in client: True\n"
     ]
    },
    {
     "name": "stderr",
     "output_type": "stream",
     "text": [
      "Eval progress:   0%|          | 0/2 [00:00<?, ?batch/s]\n",
      "Eval progress:  50%|█████     | 1/2 [00:00<00:00,  6.28batch/s]\n",
      "Eval progress: 100%|██████████| 2/2 [00:00<00:00,  8.25batch/s]\n"
     ]
    },
    {
     "name": "stdout",
     "output_type": "stream",
     "text": [
      "\u001b[36m(ClientAppActor pid=109967)\u001b[0m [Client] Client on device: cuda:0\n",
      "\u001b[36m(ClientAppActor pid=109967)\u001b[0m [Client] CUDA available in client: True\n"
     ]
    },
    {
     "name": "stderr",
     "output_type": "stream",
     "text": [
      "Eval progress:   0%|          | 0/2 [00:00<?, ?batch/s]\n",
      "Eval progress: 100%|██████████| 2/2 [00:00<00:00,  8.23batch/s]\n"
     ]
    },
    {
     "name": "stdout",
     "output_type": "stream",
     "text": [
      "\u001b[36m(ClientAppActor pid=109967)\u001b[0m [Client] Client on device: cuda:0\n",
      "\u001b[36m(ClientAppActor pid=109967)\u001b[0m [Client] CUDA available in client: True\n"
     ]
    },
    {
     "name": "stderr",
     "output_type": "stream",
     "text": [
      "Eval progress:   0%|          | 0/2 [00:00<?, ?batch/s]\n",
      "Eval progress:  50%|█████     | 1/2 [00:00<00:00,  6.47batch/s]\n",
      "Eval progress: 100%|██████████| 2/2 [00:00<00:00,  8.37batch/s]\n"
     ]
    },
    {
     "name": "stdout",
     "output_type": "stream",
     "text": [
      "\u001b[36m(ClientAppActor pid=109967)\u001b[0m [Client] Client on device: cuda:0\n",
      "\u001b[36m(ClientAppActor pid=109967)\u001b[0m [Client] CUDA available in client: True\n"
     ]
    },
    {
     "name": "stderr",
     "output_type": "stream",
     "text": [
      "Eval progress:   0%|          | 0/2 [00:00<?, ?batch/s]\n",
      "Eval progress:  50%|█████     | 1/2 [00:00<00:00,  6.45batch/s]\n",
      "Eval progress: 100%|██████████| 2/2 [00:00<00:00,  8.39batch/s]\n",
      "\u001b[92mINFO \u001b[0m:      aggregate_evaluate: received 10 results and 0 failures\n",
      "\u001b[92mINFO \u001b[0m:      \n",
      "\u001b[92mINFO \u001b[0m:      [ROUND 2]\n",
      "\u001b[92mINFO \u001b[0m:      configure_fit: strategy sampled 10 clients (out of 100)\n"
     ]
    },
    {
     "name": "stdout",
     "output_type": "stream",
     "text": [
      "\u001b[36m(ClientAppActor pid=109967)\u001b[0m [Client] Client on device: cuda:0\n",
      "\u001b[36m(ClientAppActor pid=109967)\u001b[0m [Client] CUDA available in client: True\n",
      "\u001b[36m(ClientAppActor pid=109967)\u001b[0m No prefix/name for the model was provided, choosen prefix/name: dorky_ivysaur_61\n",
      "\u001b[36m(ClientAppActor pid=109967)\u001b[0m \n",
      "\u001b[36m(ClientAppActor pid=109967)\u001b[0m Step 1/8 | Total batches: 7\n",
      "\u001b[36m(ClientAppActor pid=109967)\u001b[0m Step 2/8 | Total batches: 7\n",
      "\u001b[36m(ClientAppActor pid=109967)\u001b[0m Step 3/8 | Total batches: 7\n",
      "\u001b[36m(ClientAppActor pid=109967)\u001b[0m Step 4/8 | Total batches: 7\n",
      "\u001b[36m(ClientAppActor pid=109967)\u001b[0m Step 5/8 | Total batches: 7\n",
      "\u001b[36m(ClientAppActor pid=109967)\u001b[0m Step 6/8 | Total batches: 7\n",
      "\u001b[36m(ClientAppActor pid=109967)\u001b[0m Step 7/8 | Total batches: 7\n",
      "\u001b[36m(ClientAppActor pid=109967)\u001b[0m Step 8/8 | Total batches: 7\n",
      "\u001b[36m(ClientAppActor pid=109967)\u001b[0m 🚀 Epoch 1/1 (100.00%) Completed\n",
      "\u001b[36m(ClientAppActor pid=109967)\u001b[0m \t📊 Training Loss: 1.2308\n",
      "\u001b[36m(ClientAppActor pid=109967)\u001b[0m \t✅ Training Accuracy: 72.84%\n",
      "\u001b[36m(ClientAppActor pid=109967)\u001b[0m \t⏳ Elapsed Time: 1.13s | ETA: 0.00s\n",
      "\u001b[36m(ClientAppActor pid=109967)\u001b[0m \t🕒 Completed At: 23:10\n",
      "\u001b[36m(ClientAppActor pid=109967)\u001b[0m \n",
      "\u001b[36m(ClientAppActor pid=109967)\u001b[0m [Client] Client on device: cuda:0\n",
      "\u001b[36m(ClientAppActor pid=109967)\u001b[0m [Client] CUDA available in client: True\n",
      "\u001b[36m(ClientAppActor pid=109967)\u001b[0m No prefix/name for the model was provided, choosen prefix/name: frosty_sandslash_25\n",
      "\u001b[36m(ClientAppActor pid=109967)\u001b[0m \n",
      "\u001b[36m(ClientAppActor pid=109967)\u001b[0m Step 1/8 | Total batches: 7\n",
      "\u001b[36m(ClientAppActor pid=109967)\u001b[0m Step 2/8 | Total batches: 7\n",
      "\u001b[36m(ClientAppActor pid=109967)\u001b[0m Step 3/8 | Total batches: 7\n",
      "\u001b[36m(ClientAppActor pid=109967)\u001b[0m Step 4/8 | Total batches: 7\n",
      "\u001b[36m(ClientAppActor pid=109967)\u001b[0m Step 5/8 | Total batches: 7\n",
      "\u001b[36m(ClientAppActor pid=109967)\u001b[0m Step 6/8 | Total batches: 7\n",
      "\u001b[36m(ClientAppActor pid=109967)\u001b[0m Step 7/8 | Total batches: 7\n",
      "\u001b[36m(ClientAppActor pid=109967)\u001b[0m Step 8/8 | Total batches: 7\n",
      "\u001b[36m(ClientAppActor pid=109967)\u001b[0m 🚀 Epoch 1/1 (100.00%) Completed\n",
      "\u001b[36m(ClientAppActor pid=109967)\u001b[0m \t📊 Training Loss: 1.3080\n",
      "\u001b[36m(ClientAppActor pid=109967)\u001b[0m \t✅ Training Accuracy: 73.28%\n",
      "\u001b[36m(ClientAppActor pid=109967)\u001b[0m \t⏳ Elapsed Time: 1.13s | ETA: 0.00s\n",
      "\u001b[36m(ClientAppActor pid=109967)\u001b[0m \t🕒 Completed At: 23:10\n",
      "\u001b[36m(ClientAppActor pid=109967)\u001b[0m \n",
      "\u001b[36m(ClientAppActor pid=109967)\u001b[0m [Client] Client on device: cuda:0\n",
      "\u001b[36m(ClientAppActor pid=109967)\u001b[0m [Client] CUDA available in client: True\n",
      "\u001b[36m(ClientAppActor pid=109967)\u001b[0m No prefix/name for the model was provided, choosen prefix/name: wacky_ekans_94\n",
      "\u001b[36m(ClientAppActor pid=109967)\u001b[0m \n",
      "\u001b[36m(ClientAppActor pid=109967)\u001b[0m Step 1/8 | Total batches: 7\n",
      "\u001b[36m(ClientAppActor pid=109967)\u001b[0m Step 2/8 | Total batches: 7\n",
      "\u001b[36m(ClientAppActor pid=109967)\u001b[0m Step 3/8 | Total batches: 7\n",
      "\u001b[36m(ClientAppActor pid=109967)\u001b[0m Step 4/8 | Total batches: 7\n",
      "\u001b[36m(ClientAppActor pid=109967)\u001b[0m Step 5/8 | Total batches: 7\n",
      "\u001b[36m(ClientAppActor pid=109967)\u001b[0m Step 6/8 | Total batches: 7\n",
      "\u001b[36m(ClientAppActor pid=109967)\u001b[0m Step 7/8 | Total batches: 7\n",
      "\u001b[36m(ClientAppActor pid=109967)\u001b[0m Step 8/8 | Total batches: 7\n",
      "\u001b[36m(ClientAppActor pid=109967)\u001b[0m 🚀 Epoch 1/1 (100.00%) Completed\n",
      "\u001b[36m(ClientAppActor pid=109967)\u001b[0m \t📊 Training Loss: 0.9647\n",
      "\u001b[36m(ClientAppActor pid=109967)\u001b[0m \t✅ Training Accuracy: 76.51%\n",
      "\u001b[36m(ClientAppActor pid=109967)\u001b[0m \t⏳ Elapsed Time: 1.24s | ETA: 0.00s\n",
      "\u001b[36m(ClientAppActor pid=109967)\u001b[0m \t🕒 Completed At: 23:10\n",
      "\u001b[36m(ClientAppActor pid=109967)\u001b[0m \n",
      "\u001b[36m(ClientAppActor pid=109967)\u001b[0m [Client] Client on device: cuda:0\n",
      "\u001b[36m(ClientAppActor pid=109967)\u001b[0m [Client] CUDA available in client: True\n",
      "\u001b[36m(ClientAppActor pid=109967)\u001b[0m No prefix/name for the model was provided, choosen prefix/name: snazzy_sandslash_75\n",
      "\u001b[36m(ClientAppActor pid=109967)\u001b[0m \n",
      "\u001b[36m(ClientAppActor pid=109967)\u001b[0m Step 1/8 | Total batches: 7\n",
      "\u001b[36m(ClientAppActor pid=109967)\u001b[0m Step 2/8 | Total batches: 7\n",
      "\u001b[36m(ClientAppActor pid=109967)\u001b[0m Step 3/8 | Total batches: 7\n",
      "\u001b[36m(ClientAppActor pid=109967)\u001b[0m Step 4/8 | Total batches: 7\n",
      "\u001b[36m(ClientAppActor pid=109967)\u001b[0m Step 5/8 | Total batches: 7\n",
      "\u001b[36m(ClientAppActor pid=109967)\u001b[0m Step 6/8 | Total batches: 7\n",
      "\u001b[36m(ClientAppActor pid=109967)\u001b[0m Step 7/8 | Total batches: 7\n",
      "\u001b[36m(ClientAppActor pid=109967)\u001b[0m Step 8/8 | Total batches: 7\n",
      "\u001b[36m(ClientAppActor pid=109967)\u001b[0m 🚀 Epoch 1/1 (100.00%) Completed\n",
      "\u001b[36m(ClientAppActor pid=109967)\u001b[0m \t📊 Training Loss: 1.9250\n",
      "\u001b[36m(ClientAppActor pid=109967)\u001b[0m \t✅ Training Accuracy: 71.34%\n",
      "\u001b[36m(ClientAppActor pid=109967)\u001b[0m \t⏳ Elapsed Time: 1.14s | ETA: 0.00s\n",
      "\u001b[36m(ClientAppActor pid=109967)\u001b[0m \t🕒 Completed At: 23:10\n",
      "\u001b[36m(ClientAppActor pid=109967)\u001b[0m \n",
      "\u001b[36m(ClientAppActor pid=109967)\u001b[0m [Client] Client on device: cuda:0\n",
      "\u001b[36m(ClientAppActor pid=109967)\u001b[0m [Client] CUDA available in client: True\n",
      "\u001b[36m(ClientAppActor pid=109967)\u001b[0m No prefix/name for the model was provided, choosen prefix/name: jazzy_pidgeotto_78\n",
      "\u001b[36m(ClientAppActor pid=109967)\u001b[0m \n",
      "\u001b[36m(ClientAppActor pid=109967)\u001b[0m Step 1/8 | Total batches: 7\n",
      "\u001b[36m(ClientAppActor pid=109967)\u001b[0m Step 2/8 | Total batches: 7\n",
      "\u001b[36m(ClientAppActor pid=109967)\u001b[0m Step 3/8 | Total batches: 7\n",
      "\u001b[36m(ClientAppActor pid=109967)\u001b[0m Step 4/8 | Total batches: 7\n",
      "\u001b[36m(ClientAppActor pid=109967)\u001b[0m Step 5/8 | Total batches: 7\n",
      "\u001b[36m(ClientAppActor pid=109967)\u001b[0m Step 6/8 | Total batches: 7\n",
      "\u001b[36m(ClientAppActor pid=109967)\u001b[0m Step 7/8 | Total batches: 7\n",
      "\u001b[36m(ClientAppActor pid=109967)\u001b[0m Step 8/8 | Total batches: 7\n",
      "\u001b[36m(ClientAppActor pid=109967)\u001b[0m 🚀 Epoch 1/1 (100.00%) Completed\n",
      "\u001b[36m(ClientAppActor pid=109967)\u001b[0m \t📊 Training Loss: 1.5871\n",
      "\u001b[36m(ClientAppActor pid=109967)\u001b[0m \t✅ Training Accuracy: 72.41%\n",
      "\u001b[36m(ClientAppActor pid=109967)\u001b[0m \t⏳ Elapsed Time: 1.14s | ETA: 0.00s\n",
      "\u001b[36m(ClientAppActor pid=109967)\u001b[0m \t🕒 Completed At: 23:10\n",
      "\u001b[36m(ClientAppActor pid=109967)\u001b[0m \n",
      "\u001b[36m(ClientAppActor pid=109967)\u001b[0m [Client] Client on device: cuda:0\n",
      "\u001b[36m(ClientAppActor pid=109967)\u001b[0m [Client] CUDA available in client: True\n",
      "\u001b[36m(ClientAppActor pid=109967)\u001b[0m No prefix/name for the model was provided, choosen prefix/name: groovy_sandslash_61\n",
      "\u001b[36m(ClientAppActor pid=109967)\u001b[0m \n",
      "\u001b[36m(ClientAppActor pid=109967)\u001b[0m Step 1/8 | Total batches: 7\n",
      "\u001b[36m(ClientAppActor pid=109967)\u001b[0m Step 2/8 | Total batches: 7\n",
      "\u001b[36m(ClientAppActor pid=109967)\u001b[0m Step 3/8 | Total batches: 7\n",
      "\u001b[36m(ClientAppActor pid=109967)\u001b[0m Step 4/8 | Total batches: 7\n",
      "\u001b[36m(ClientAppActor pid=109967)\u001b[0m Step 5/8 | Total batches: 7\n",
      "\u001b[36m(ClientAppActor pid=109967)\u001b[0m Step 6/8 | Total batches: 7\n",
      "\u001b[36m(ClientAppActor pid=109967)\u001b[0m Step 7/8 | Total batches: 7\n",
      "\u001b[36m(ClientAppActor pid=109967)\u001b[0m Step 8/8 | Total batches: 7\n",
      "\u001b[36m(ClientAppActor pid=109967)\u001b[0m 🚀 Epoch 1/1 (100.00%) Completed\n",
      "\u001b[36m(ClientAppActor pid=109967)\u001b[0m \t📊 Training Loss: 0.8719\n",
      "\u001b[36m(ClientAppActor pid=109967)\u001b[0m \t✅ Training Accuracy: 77.80%\n",
      "\u001b[36m(ClientAppActor pid=109967)\u001b[0m \t⏳ Elapsed Time: 1.13s | ETA: 0.00s\n",
      "\u001b[36m(ClientAppActor pid=109967)\u001b[0m \t🕒 Completed At: 23:10\n",
      "\u001b[36m(ClientAppActor pid=109967)\u001b[0m \n",
      "\u001b[36m(ClientAppActor pid=109967)\u001b[0m [Client] Client on device: cuda:0\n",
      "\u001b[36m(ClientAppActor pid=109967)\u001b[0m [Client] CUDA available in client: True\n",
      "\u001b[36m(ClientAppActor pid=109967)\u001b[0m No prefix/name for the model was provided, choosen prefix/name: jazzy_nidoqueen_46\n",
      "\u001b[36m(ClientAppActor pid=109967)\u001b[0m \n",
      "\u001b[36m(ClientAppActor pid=109967)\u001b[0m Step 1/8 | Total batches: 7\n",
      "\u001b[36m(ClientAppActor pid=109967)\u001b[0m Step 2/8 | Total batches: 7\n",
      "\u001b[36m(ClientAppActor pid=109967)\u001b[0m Step 3/8 | Total batches: 7\n",
      "\u001b[36m(ClientAppActor pid=109967)\u001b[0m Step 4/8 | Total batches: 7\n",
      "\u001b[36m(ClientAppActor pid=109967)\u001b[0m Step 5/8 | Total batches: 7\n",
      "\u001b[36m(ClientAppActor pid=109967)\u001b[0m Step 6/8 | Total batches: 7\n",
      "\u001b[36m(ClientAppActor pid=109967)\u001b[0m Step 7/8 | Total batches: 7\n",
      "\u001b[36m(ClientAppActor pid=109967)\u001b[0m Step 8/8 | Total batches: 7\n",
      "\u001b[36m(ClientAppActor pid=109967)\u001b[0m 🚀 Epoch 1/1 (100.00%) Completed\n",
      "\u001b[36m(ClientAppActor pid=109967)\u001b[0m \t📊 Training Loss: 1.9623\n",
      "\u001b[36m(ClientAppActor pid=109967)\u001b[0m \t✅ Training Accuracy: 69.18%\n",
      "\u001b[36m(ClientAppActor pid=109967)\u001b[0m \t⏳ Elapsed Time: 1.16s | ETA: 0.00s\n",
      "\u001b[36m(ClientAppActor pid=109967)\u001b[0m \t🕒 Completed At: 23:10\n",
      "\u001b[36m(ClientAppActor pid=109967)\u001b[0m \n",
      "\u001b[36m(ClientAppActor pid=109967)\u001b[0m [Client] Client on device: cuda:0\n",
      "\u001b[36m(ClientAppActor pid=109967)\u001b[0m [Client] CUDA available in client: True\n",
      "\u001b[36m(ClientAppActor pid=109967)\u001b[0m No prefix/name for the model was provided, choosen prefix/name: spooky_metapod_63\n",
      "\u001b[36m(ClientAppActor pid=109967)\u001b[0m \n",
      "\u001b[36m(ClientAppActor pid=109967)\u001b[0m Step 1/8 | Total batches: 7\n",
      "\u001b[36m(ClientAppActor pid=109967)\u001b[0m Step 2/8 | Total batches: 7\n",
      "\u001b[36m(ClientAppActor pid=109967)\u001b[0m Step 3/8 | Total batches: 7\n",
      "\u001b[36m(ClientAppActor pid=109967)\u001b[0m Step 4/8 | Total batches: 7\n",
      "\u001b[36m(ClientAppActor pid=109967)\u001b[0m Step 5/8 | Total batches: 7\n",
      "\u001b[36m(ClientAppActor pid=109967)\u001b[0m Step 6/8 | Total batches: 7\n",
      "\u001b[36m(ClientAppActor pid=109967)\u001b[0m Step 7/8 | Total batches: 7\n",
      "\u001b[36m(ClientAppActor pid=109967)\u001b[0m Step 8/8 | Total batches: 7\n",
      "\u001b[36m(ClientAppActor pid=109967)\u001b[0m 🚀 Epoch 1/1 (100.00%) Completed\n",
      "\u001b[36m(ClientAppActor pid=109967)\u001b[0m \t📊 Training Loss: 1.1206\n",
      "\u001b[36m(ClientAppActor pid=109967)\u001b[0m \t✅ Training Accuracy: 74.57%\n",
      "\u001b[36m(ClientAppActor pid=109967)\u001b[0m \t⏳ Elapsed Time: 1.13s | ETA: 0.00s\n",
      "\u001b[36m(ClientAppActor pid=109967)\u001b[0m \t🕒 Completed At: 23:10\n",
      "\u001b[36m(ClientAppActor pid=109967)\u001b[0m \n",
      "\u001b[36m(ClientAppActor pid=109967)\u001b[0m [Client] Client on device: cuda:0\n",
      "\u001b[36m(ClientAppActor pid=109967)\u001b[0m [Client] CUDA available in client: True\n",
      "\u001b[36m(ClientAppActor pid=109967)\u001b[0m No prefix/name for the model was provided, choosen prefix/name: jumpy_charmander_41\n",
      "\u001b[36m(ClientAppActor pid=109967)\u001b[0m \n",
      "\u001b[36m(ClientAppActor pid=109967)\u001b[0m Step 1/8 | Total batches: 7\n",
      "\u001b[36m(ClientAppActor pid=109967)\u001b[0m Step 2/8 | Total batches: 7\n",
      "\u001b[36m(ClientAppActor pid=109967)\u001b[0m Step 3/8 | Total batches: 7\n",
      "\u001b[36m(ClientAppActor pid=109967)\u001b[0m Step 4/8 | Total batches: 7\n",
      "\u001b[36m(ClientAppActor pid=109967)\u001b[0m Step 5/8 | Total batches: 7\n",
      "\u001b[36m(ClientAppActor pid=109967)\u001b[0m Step 6/8 | Total batches: 7\n",
      "\u001b[36m(ClientAppActor pid=109967)\u001b[0m Step 7/8 | Total batches: 7\n",
      "\u001b[36m(ClientAppActor pid=109967)\u001b[0m Step 8/8 | Total batches: 7\n",
      "\u001b[36m(ClientAppActor pid=109967)\u001b[0m 🚀 Epoch 1/1 (100.00%) Completed\n",
      "\u001b[36m(ClientAppActor pid=109967)\u001b[0m \t📊 Training Loss: 1.3823\n",
      "\u001b[36m(ClientAppActor pid=109967)\u001b[0m \t✅ Training Accuracy: 72.20%\n",
      "\u001b[36m(ClientAppActor pid=109967)\u001b[0m \t⏳ Elapsed Time: 1.13s | ETA: 0.00s\n",
      "\u001b[36m(ClientAppActor pid=109967)\u001b[0m \t🕒 Completed At: 23:10\n",
      "\u001b[36m(ClientAppActor pid=109967)\u001b[0m \n",
      "\u001b[36m(ClientAppActor pid=109967)\u001b[0m [Client] Client on device: cuda:0\n",
      "\u001b[36m(ClientAppActor pid=109967)\u001b[0m [Client] CUDA available in client: True\n",
      "\u001b[36m(ClientAppActor pid=109967)\u001b[0m No prefix/name for the model was provided, choosen prefix/name: peppy_caterpie_24\n",
      "\u001b[36m(ClientAppActor pid=109967)\u001b[0m \n",
      "\u001b[36m(ClientAppActor pid=109967)\u001b[0m Step 1/8 | Total batches: 7\n",
      "\u001b[36m(ClientAppActor pid=109967)\u001b[0m Step 2/8 | Total batches: 7\n",
      "\u001b[36m(ClientAppActor pid=109967)\u001b[0m Step 3/8 | Total batches: 7\n",
      "\u001b[36m(ClientAppActor pid=109967)\u001b[0m Step 4/8 | Total batches: 7\n",
      "\u001b[36m(ClientAppActor pid=109967)\u001b[0m Step 5/8 | Total batches: 7\n",
      "\u001b[36m(ClientAppActor pid=109967)\u001b[0m Step 6/8 | Total batches: 7\n",
      "\u001b[36m(ClientAppActor pid=109967)\u001b[0m Step 7/8 | Total batches: 7\n",
      "\u001b[36m(ClientAppActor pid=109967)\u001b[0m Step 8/8 | Total batches: 7\n"
     ]
    },
    {
     "name": "stderr",
     "output_type": "stream",
     "text": [
      "\u001b[92mINFO \u001b[0m:      aggregate_fit: received 10 results and 0 failures\n"
     ]
    },
    {
     "name": "stdout",
     "output_type": "stream",
     "text": [
      "\u001b[36m(ClientAppActor pid=109967)\u001b[0m 🚀 Epoch 1/1 (100.00%) Completed\n",
      "\u001b[36m(ClientAppActor pid=109967)\u001b[0m \t📊 Training Loss: 1.0750\n",
      "\u001b[36m(ClientAppActor pid=109967)\u001b[0m \t✅ Training Accuracy: 74.57%\n",
      "\u001b[36m(ClientAppActor pid=109967)\u001b[0m \t⏳ Elapsed Time: 1.12s | ETA: 0.00s\n",
      "\u001b[36m(ClientAppActor pid=109967)\u001b[0m \t🕒 Completed At: 23:10\n",
      "\u001b[36m(ClientAppActor pid=109967)\u001b[0m \n"
     ]
    },
    {
     "name": "stderr",
     "output_type": "stream",
     "text": [
      "\u001b[92mINFO \u001b[0m:      [Round 2] Avg Drift: 0.0016 | Relative Drift: 0.0000\n",
      "\u001b[92mINFO \u001b[0m:      fit progress: (2, {}, {}, 48.146072342999105)\n",
      "\u001b[92mINFO \u001b[0m:      configure_evaluate: strategy sampled 10 clients (out of 100)\n"
     ]
    },
    {
     "name": "stdout",
     "output_type": "stream",
     "text": [
      "\u001b[36m(ClientAppActor pid=109967)\u001b[0m [Client] Client on device: cuda:0\n",
      "\u001b[36m(ClientAppActor pid=109967)\u001b[0m [Client] CUDA available in client: True\n"
     ]
    },
    {
     "name": "stderr",
     "output_type": "stream",
     "text": [
      "Eval progress:   0%|          | 0/2 [00:00<?, ?batch/s]\n",
      "Eval progress:  50%|█████     | 1/2 [00:00<00:00,  6.70batch/s]\n",
      "Eval progress: 100%|██████████| 2/2 [00:00<00:00,  8.70batch/s]\n"
     ]
    },
    {
     "name": "stdout",
     "output_type": "stream",
     "text": [
      "\u001b[36m(ClientAppActor pid=109967)\u001b[0m [Client] Client on device: cuda:0\n",
      "\u001b[36m(ClientAppActor pid=109967)\u001b[0m [Client] CUDA available in client: True\n"
     ]
    },
    {
     "name": "stderr",
     "output_type": "stream",
     "text": [
      "Eval progress:   0%|          | 0/2 [00:00<?, ?batch/s]\n",
      "Eval progress:  50%|█████     | 1/2 [00:00<00:00,  6.79batch/s]\n",
      "Eval progress: 100%|██████████| 2/2 [00:00<00:00,  8.81batch/s]\n"
     ]
    },
    {
     "name": "stdout",
     "output_type": "stream",
     "text": [
      "\u001b[36m(ClientAppActor pid=109967)\u001b[0m [Client] Client on device: cuda:0\n",
      "\u001b[36m(ClientAppActor pid=109967)\u001b[0m [Client] CUDA available in client: True\n"
     ]
    },
    {
     "name": "stderr",
     "output_type": "stream",
     "text": [
      "Eval progress:   0%|          | 0/2 [00:00<?, ?batch/s]\n",
      "Eval progress:  50%|█████     | 1/2 [00:00<00:00,  6.89batch/s]\n",
      "Eval progress: 100%|██████████| 2/2 [00:00<00:00,  8.86batch/s]\n"
     ]
    },
    {
     "name": "stdout",
     "output_type": "stream",
     "text": [
      "\u001b[36m(ClientAppActor pid=109967)\u001b[0m [Client] Client on device: cuda:0\n",
      "\u001b[36m(ClientAppActor pid=109967)\u001b[0m [Client] CUDA available in client: True\n"
     ]
    },
    {
     "name": "stderr",
     "output_type": "stream",
     "text": [
      "Eval progress:   0%|          | 0/2 [00:00<?, ?batch/s]\n",
      "Eval progress:  50%|█████     | 1/2 [00:00<00:00,  6.53batch/s]\n",
      "Eval progress: 100%|██████████| 2/2 [00:00<00:00,  8.41batch/s]\n"
     ]
    },
    {
     "name": "stdout",
     "output_type": "stream",
     "text": [
      "\u001b[36m(ClientAppActor pid=109967)\u001b[0m [Client] Client on device: cuda:0\n",
      "\u001b[36m(ClientAppActor pid=109967)\u001b[0m [Client] CUDA available in client: True\n"
     ]
    },
    {
     "name": "stderr",
     "output_type": "stream",
     "text": [
      "Eval progress:   0%|          | 0/2 [00:00<?, ?batch/s]\n",
      "Eval progress:  50%|█████     | 1/2 [00:00<00:00,  6.52batch/s]\n",
      "Eval progress: 100%|██████████| 2/2 [00:00<00:00,  8.42batch/s]\n"
     ]
    },
    {
     "name": "stdout",
     "output_type": "stream",
     "text": [
      "\u001b[36m(ClientAppActor pid=109967)\u001b[0m [Client] Client on device: cuda:0\n",
      "\u001b[36m(ClientAppActor pid=109967)\u001b[0m [Client] CUDA available in client: True\n"
     ]
    },
    {
     "name": "stderr",
     "output_type": "stream",
     "text": [
      "Eval progress:   0%|          | 0/2 [00:00<?, ?batch/s]\n",
      "Eval progress:  50%|█████     | 1/2 [00:00<00:00,  6.52batch/s]\n",
      "Eval progress: 100%|██████████| 2/2 [00:00<00:00,  8.41batch/s]\n"
     ]
    },
    {
     "name": "stdout",
     "output_type": "stream",
     "text": [
      "\u001b[36m(ClientAppActor pid=109967)\u001b[0m [Client] Client on device: cuda:0\n",
      "\u001b[36m(ClientAppActor pid=109967)\u001b[0m [Client] CUDA available in client: True\n"
     ]
    },
    {
     "name": "stderr",
     "output_type": "stream",
     "text": [
      "Eval progress:   0%|          | 0/2 [00:00<?, ?batch/s]\n",
      "Eval progress: 100%|██████████| 2/2 [00:00<00:00,  8.53batch/s]\n"
     ]
    },
    {
     "name": "stdout",
     "output_type": "stream",
     "text": [
      "\u001b[36m(ClientAppActor pid=109967)\u001b[0m [Client] Client on device: cuda:0\n",
      "\u001b[36m(ClientAppActor pid=109967)\u001b[0m [Client] CUDA available in client: True\n"
     ]
    },
    {
     "name": "stderr",
     "output_type": "stream",
     "text": [
      "Eval progress:   0%|          | 0/2 [00:00<?, ?batch/s]\n",
      "Eval progress:  50%|█████     | 1/2 [00:00<00:00,  6.56batch/s]\n",
      "Eval progress: 100%|██████████| 2/2 [00:00<00:00,  8.53batch/s]\n"
     ]
    },
    {
     "name": "stdout",
     "output_type": "stream",
     "text": [
      "\u001b[36m(ClientAppActor pid=109967)\u001b[0m [Client] Client on device: cuda:0\n",
      "\u001b[36m(ClientAppActor pid=109967)\u001b[0m [Client] CUDA available in client: True\n"
     ]
    },
    {
     "name": "stderr",
     "output_type": "stream",
     "text": [
      "Eval progress:   0%|          | 0/2 [00:00<?, ?batch/s]\n",
      "Eval progress:  50%|█████     | 1/2 [00:00<00:00,  6.55batch/s]\n",
      "Eval progress: 100%|██████████| 2/2 [00:00<00:00,  8.49batch/s]\n"
     ]
    },
    {
     "name": "stdout",
     "output_type": "stream",
     "text": [
      "\u001b[36m(ClientAppActor pid=109967)\u001b[0m [Client] Client on device: cuda:0\n",
      "\u001b[36m(ClientAppActor pid=109967)\u001b[0m [Client] CUDA available in client: True\n"
     ]
    },
    {
     "name": "stderr",
     "output_type": "stream",
     "text": [
      "Eval progress:   0%|          | 0/2 [00:00<?, ?batch/s]\n",
      "Eval progress:  50%|█████     | 1/2 [00:00<00:00,  6.34batch/s]\n",
      "\u001b[92mINFO \u001b[0m:      aggregate_evaluate: received 10 results and 0 failures\n",
      "\u001b[92mINFO \u001b[0m:      \n",
      "\u001b[92mINFO \u001b[0m:      [ROUND 3]\n",
      "\u001b[92mINFO \u001b[0m:      configure_fit: strategy sampled 10 clients (out of 100)\n",
      "Eval progress: 100%|██████████| 2/2 [00:00<00:00,  8.19batch/s]\n"
     ]
    },
    {
     "name": "stdout",
     "output_type": "stream",
     "text": [
      "\u001b[36m(ClientAppActor pid=109967)\u001b[0m [Client] Client on device: cuda:0\n",
      "\u001b[36m(ClientAppActor pid=109967)\u001b[0m [Client] CUDA available in client: True\n",
      "\u001b[36m(ClientAppActor pid=109967)\u001b[0m No prefix/name for the model was provided, choosen prefix/name: zesty_charmander_26\n",
      "\u001b[36m(ClientAppActor pid=109967)\u001b[0m \n",
      "\u001b[36m(ClientAppActor pid=109967)\u001b[0m Step 1/8 | Total batches: 7\n",
      "\u001b[36m(ClientAppActor pid=109967)\u001b[0m Step 2/8 | Total batches: 7\n",
      "\u001b[36m(ClientAppActor pid=109967)\u001b[0m Step 3/8 | Total batches: 7\n",
      "\u001b[36m(ClientAppActor pid=109967)\u001b[0m Step 4/8 | Total batches: 7\n",
      "\u001b[36m(ClientAppActor pid=109967)\u001b[0m Step 5/8 | Total batches: 7\n",
      "\u001b[36m(ClientAppActor pid=109967)\u001b[0m Step 6/8 | Total batches: 7\n",
      "\u001b[36m(ClientAppActor pid=109967)\u001b[0m Step 7/8 | Total batches: 7\n",
      "\u001b[36m(ClientAppActor pid=109967)\u001b[0m Step 8/8 | Total batches: 7\n",
      "\u001b[36m(ClientAppActor pid=109967)\u001b[0m 🚀 Epoch 1/1 (100.00%) Completed\n",
      "\u001b[36m(ClientAppActor pid=109967)\u001b[0m \t📊 Training Loss: 1.0498\n",
      "\u001b[36m(ClientAppActor pid=109967)\u001b[0m \t✅ Training Accuracy: 76.94%\n",
      "\u001b[36m(ClientAppActor pid=109967)\u001b[0m \t⏳ Elapsed Time: 1.09s | ETA: 0.00s\n",
      "\u001b[36m(ClientAppActor pid=109967)\u001b[0m \t🕒 Completed At: 23:10\n",
      "\u001b[36m(ClientAppActor pid=109967)\u001b[0m \n",
      "\u001b[36m(ClientAppActor pid=109967)\u001b[0m [Client] Client on device: cuda:0\n",
      "\u001b[36m(ClientAppActor pid=109967)\u001b[0m [Client] CUDA available in client: True\n",
      "\u001b[36m(ClientAppActor pid=109967)\u001b[0m No prefix/name for the model was provided, choosen prefix/name: peppy_wartortle_13\n",
      "\u001b[36m(ClientAppActor pid=109967)\u001b[0m \n",
      "\u001b[36m(ClientAppActor pid=109967)\u001b[0m Step 1/8 | Total batches: 7\n",
      "\u001b[36m(ClientAppActor pid=109967)\u001b[0m Step 2/8 | Total batches: 7\n",
      "\u001b[36m(ClientAppActor pid=109967)\u001b[0m Step 3/8 | Total batches: 7\n",
      "\u001b[36m(ClientAppActor pid=109967)\u001b[0m Step 4/8 | Total batches: 7\n",
      "\u001b[36m(ClientAppActor pid=109967)\u001b[0m Step 5/8 | Total batches: 7\n",
      "\u001b[36m(ClientAppActor pid=109967)\u001b[0m Step 6/8 | Total batches: 7\n",
      "\u001b[36m(ClientAppActor pid=109967)\u001b[0m Step 7/8 | Total batches: 7\n",
      "\u001b[36m(ClientAppActor pid=109967)\u001b[0m Step 8/8 | Total batches: 7\n",
      "\u001b[36m(ClientAppActor pid=109967)\u001b[0m 🚀 Epoch 1/1 (100.00%) Completed\n",
      "\u001b[36m(ClientAppActor pid=109967)\u001b[0m \t📊 Training Loss: 1.4412\n",
      "\u001b[36m(ClientAppActor pid=109967)\u001b[0m \t✅ Training Accuracy: 72.63%\n",
      "\u001b[36m(ClientAppActor pid=109967)\u001b[0m \t⏳ Elapsed Time: 1.14s | ETA: 0.00s\n",
      "\u001b[36m(ClientAppActor pid=109967)\u001b[0m \t🕒 Completed At: 23:10\n",
      "\u001b[36m(ClientAppActor pid=109967)\u001b[0m \n",
      "\u001b[36m(ClientAppActor pid=109967)\u001b[0m [Client] Client on device: cuda:0\n",
      "\u001b[36m(ClientAppActor pid=109967)\u001b[0m [Client] CUDA available in client: True\n",
      "\u001b[36m(ClientAppActor pid=109967)\u001b[0m No prefix/name for the model was provided, choosen prefix/name: bouncy_nidorino_39\n",
      "\u001b[36m(ClientAppActor pid=109967)\u001b[0m \n",
      "\u001b[36m(ClientAppActor pid=109967)\u001b[0m Step 1/8 | Total batches: 7\n",
      "\u001b[36m(ClientAppActor pid=109967)\u001b[0m Step 2/8 | Total batches: 7\n",
      "\u001b[36m(ClientAppActor pid=109967)\u001b[0m Step 3/8 | Total batches: 7\n",
      "\u001b[36m(ClientAppActor pid=109967)\u001b[0m Step 4/8 | Total batches: 7\n",
      "\u001b[36m(ClientAppActor pid=109967)\u001b[0m Step 5/8 | Total batches: 7\n",
      "\u001b[36m(ClientAppActor pid=109967)\u001b[0m Step 6/8 | Total batches: 7\n",
      "\u001b[36m(ClientAppActor pid=109967)\u001b[0m Step 7/8 | Total batches: 7\n",
      "\u001b[36m(ClientAppActor pid=109967)\u001b[0m Step 8/8 | Total batches: 7\n",
      "\u001b[36m(ClientAppActor pid=109967)\u001b[0m 🚀 Epoch 1/1 (100.00%) Completed\n",
      "\u001b[36m(ClientAppActor pid=109967)\u001b[0m \t📊 Training Loss: 0.3396\n",
      "\u001b[36m(ClientAppActor pid=109967)\u001b[0m \t✅ Training Accuracy: 93.53%\n",
      "\u001b[36m(ClientAppActor pid=109967)\u001b[0m \t⏳ Elapsed Time: 1.14s | ETA: 0.00s\n",
      "\u001b[36m(ClientAppActor pid=109967)\u001b[0m \t🕒 Completed At: 23:10\n",
      "\u001b[36m(ClientAppActor pid=109967)\u001b[0m \n",
      "\u001b[36m(ClientAppActor pid=109967)\u001b[0m [Client] Client on device: cuda:0\n",
      "\u001b[36m(ClientAppActor pid=109967)\u001b[0m [Client] CUDA available in client: True\n",
      "\u001b[36m(ClientAppActor pid=109967)\u001b[0m No prefix/name for the model was provided, choosen prefix/name: zippy_venusaur_65\n",
      "\u001b[36m(ClientAppActor pid=109967)\u001b[0m \n",
      "\u001b[36m(ClientAppActor pid=109967)\u001b[0m Step 1/8 | Total batches: 7\n",
      "\u001b[36m(ClientAppActor pid=109967)\u001b[0m Step 2/8 | Total batches: 7\n",
      "\u001b[36m(ClientAppActor pid=109967)\u001b[0m Step 3/8 | Total batches: 7\n",
      "\u001b[36m(ClientAppActor pid=109967)\u001b[0m Step 4/8 | Total batches: 7\n",
      "\u001b[36m(ClientAppActor pid=109967)\u001b[0m Step 5/8 | Total batches: 7\n",
      "\u001b[36m(ClientAppActor pid=109967)\u001b[0m Step 6/8 | Total batches: 7\n",
      "\u001b[36m(ClientAppActor pid=109967)\u001b[0m Step 7/8 | Total batches: 7\n",
      "\u001b[36m(ClientAppActor pid=109967)\u001b[0m Step 8/8 | Total batches: 7\n",
      "\u001b[36m(ClientAppActor pid=109967)\u001b[0m 🚀 Epoch 1/1 (100.00%) Completed\n",
      "\u001b[36m(ClientAppActor pid=109967)\u001b[0m \t📊 Training Loss: 1.5889\n",
      "\u001b[36m(ClientAppActor pid=109967)\u001b[0m \t✅ Training Accuracy: 71.98%\n",
      "\u001b[36m(ClientAppActor pid=109967)\u001b[0m \t⏳ Elapsed Time: 1.13s | ETA: 0.00s\n",
      "\u001b[36m(ClientAppActor pid=109967)\u001b[0m \t🕒 Completed At: 23:10\n",
      "\u001b[36m(ClientAppActor pid=109967)\u001b[0m \n",
      "\u001b[36m(ClientAppActor pid=109967)\u001b[0m [Client] Client on device: cuda:0\n",
      "\u001b[36m(ClientAppActor pid=109967)\u001b[0m [Client] CUDA available in client: True\n",
      "\u001b[36m(ClientAppActor pid=109967)\u001b[0m No prefix/name for the model was provided, choosen prefix/name: plucky_blastoise_15\n",
      "\u001b[36m(ClientAppActor pid=109967)\u001b[0m \n",
      "\u001b[36m(ClientAppActor pid=109967)\u001b[0m Step 1/8 | Total batches: 7\n",
      "\u001b[36m(ClientAppActor pid=109967)\u001b[0m Step 2/8 | Total batches: 7\n",
      "\u001b[36m(ClientAppActor pid=109967)\u001b[0m Step 3/8 | Total batches: 7\n",
      "\u001b[36m(ClientAppActor pid=109967)\u001b[0m Step 4/8 | Total batches: 7\n",
      "\u001b[36m(ClientAppActor pid=109967)\u001b[0m Step 5/8 | Total batches: 7\n",
      "\u001b[36m(ClientAppActor pid=109967)\u001b[0m Step 6/8 | Total batches: 7\n",
      "\u001b[36m(ClientAppActor pid=109967)\u001b[0m Step 7/8 | Total batches: 7\n",
      "\u001b[36m(ClientAppActor pid=109967)\u001b[0m Step 8/8 | Total batches: 7\n",
      "\u001b[36m(ClientAppActor pid=109967)\u001b[0m 🚀 Epoch 1/1 (100.00%) Completed\n",
      "\u001b[36m(ClientAppActor pid=109967)\u001b[0m \t📊 Training Loss: 1.5662\n",
      "\u001b[36m(ClientAppActor pid=109967)\u001b[0m \t✅ Training Accuracy: 72.20%\n",
      "\u001b[36m(ClientAppActor pid=109967)\u001b[0m \t⏳ Elapsed Time: 1.14s | ETA: 0.00s\n",
      "\u001b[36m(ClientAppActor pid=109967)\u001b[0m \t🕒 Completed At: 23:10\n",
      "\u001b[36m(ClientAppActor pid=109967)\u001b[0m \n",
      "\u001b[36m(ClientAppActor pid=109967)\u001b[0m [Client] Client on device: cuda:0\n",
      "\u001b[36m(ClientAppActor pid=109967)\u001b[0m [Client] CUDA available in client: True\n",
      "\u001b[36m(ClientAppActor pid=109967)\u001b[0m No prefix/name for the model was provided, choosen prefix/name: peppy_nidoking_54\n",
      "\u001b[36m(ClientAppActor pid=109967)\u001b[0m \n",
      "\u001b[36m(ClientAppActor pid=109967)\u001b[0m Step 1/8 | Total batches: 7\n",
      "\u001b[36m(ClientAppActor pid=109967)\u001b[0m Step 2/8 | Total batches: 7\n",
      "\u001b[36m(ClientAppActor pid=109967)\u001b[0m Step 3/8 | Total batches: 7\n",
      "\u001b[36m(ClientAppActor pid=109967)\u001b[0m Step 4/8 | Total batches: 7\n",
      "\u001b[36m(ClientAppActor pid=109967)\u001b[0m Step 5/8 | Total batches: 7\n",
      "\u001b[36m(ClientAppActor pid=109967)\u001b[0m Step 6/8 | Total batches: 7\n",
      "\u001b[36m(ClientAppActor pid=109967)\u001b[0m Step 7/8 | Total batches: 7\n",
      "\u001b[36m(ClientAppActor pid=109967)\u001b[0m Step 8/8 | Total batches: 7\n",
      "\u001b[36m(ClientAppActor pid=109967)\u001b[0m 🚀 Epoch 1/1 (100.00%) Completed\n",
      "\u001b[36m(ClientAppActor pid=109967)\u001b[0m \t📊 Training Loss: 1.0410\n",
      "\u001b[36m(ClientAppActor pid=109967)\u001b[0m \t✅ Training Accuracy: 78.45%\n",
      "\u001b[36m(ClientAppActor pid=109967)\u001b[0m \t⏳ Elapsed Time: 1.13s | ETA: 0.00s\n",
      "\u001b[36m(ClientAppActor pid=109967)\u001b[0m \t🕒 Completed At: 23:10\n",
      "\u001b[36m(ClientAppActor pid=109967)\u001b[0m \n",
      "\u001b[36m(ClientAppActor pid=109967)\u001b[0m [Client] Client on device: cuda:0\n",
      "\u001b[36m(ClientAppActor pid=109967)\u001b[0m [Client] CUDA available in client: True\n",
      "\u001b[36m(ClientAppActor pid=109967)\u001b[0m No prefix/name for the model was provided, choosen prefix/name: mushy_nidoqueen_89\n",
      "\u001b[36m(ClientAppActor pid=109967)\u001b[0m \n",
      "\u001b[36m(ClientAppActor pid=109967)\u001b[0m Step 1/8 | Total batches: 7\n",
      "\u001b[36m(ClientAppActor pid=109967)\u001b[0m Step 2/8 | Total batches: 7\n",
      "\u001b[36m(ClientAppActor pid=109967)\u001b[0m Step 3/8 | Total batches: 7\n",
      "\u001b[36m(ClientAppActor pid=109967)\u001b[0m Step 4/8 | Total batches: 7\n",
      "\u001b[36m(ClientAppActor pid=109967)\u001b[0m Step 5/8 | Total batches: 7\n",
      "\u001b[36m(ClientAppActor pid=109967)\u001b[0m Step 6/8 | Total batches: 7\n",
      "\u001b[36m(ClientAppActor pid=109967)\u001b[0m Step 7/8 | Total batches: 7\n",
      "\u001b[36m(ClientAppActor pid=109967)\u001b[0m Step 8/8 | Total batches: 7\n",
      "\u001b[36m(ClientAppActor pid=109967)\u001b[0m 🚀 Epoch 1/1 (100.00%) Completed\n",
      "\u001b[36m(ClientAppActor pid=109967)\u001b[0m \t📊 Training Loss: 1.3422\n",
      "\u001b[36m(ClientAppActor pid=109967)\u001b[0m \t✅ Training Accuracy: 72.63%\n",
      "\u001b[36m(ClientAppActor pid=109967)\u001b[0m \t⏳ Elapsed Time: 1.12s | ETA: 0.00s\n",
      "\u001b[36m(ClientAppActor pid=109967)\u001b[0m \t🕒 Completed At: 23:10\n",
      "\u001b[36m(ClientAppActor pid=109967)\u001b[0m \n",
      "\u001b[36m(ClientAppActor pid=109967)\u001b[0m [Client] Client on device: cuda:0\n",
      "\u001b[36m(ClientAppActor pid=109967)\u001b[0m [Client] CUDA available in client: True\n",
      "\u001b[36m(ClientAppActor pid=109967)\u001b[0m No prefix/name for the model was provided, choosen prefix/name: funky_ekans_68\n",
      "\u001b[36m(ClientAppActor pid=109967)\u001b[0m \n",
      "\u001b[36m(ClientAppActor pid=109967)\u001b[0m Step 1/8 | Total batches: 7\n",
      "\u001b[36m(ClientAppActor pid=109967)\u001b[0m Step 2/8 | Total batches: 7\n",
      "\u001b[36m(ClientAppActor pid=109967)\u001b[0m Step 3/8 | Total batches: 7\n",
      "\u001b[36m(ClientAppActor pid=109967)\u001b[0m Step 4/8 | Total batches: 7\n",
      "\u001b[36m(ClientAppActor pid=109967)\u001b[0m Step 5/8 | Total batches: 7\n",
      "\u001b[36m(ClientAppActor pid=109967)\u001b[0m Step 6/8 | Total batches: 7\n",
      "\u001b[36m(ClientAppActor pid=109967)\u001b[0m Step 7/8 | Total batches: 7\n",
      "\u001b[36m(ClientAppActor pid=109967)\u001b[0m Step 8/8 | Total batches: 7\n",
      "\u001b[36m(ClientAppActor pid=109967)\u001b[0m 🚀 Epoch 1/1 (100.00%) Completed\n",
      "\u001b[36m(ClientAppActor pid=109967)\u001b[0m \t📊 Training Loss: 1.7387\n",
      "\u001b[36m(ClientAppActor pid=109967)\u001b[0m \t✅ Training Accuracy: 71.34%\n",
      "\u001b[36m(ClientAppActor pid=109967)\u001b[0m \t⏳ Elapsed Time: 1.13s | ETA: 0.00s\n",
      "\u001b[36m(ClientAppActor pid=109967)\u001b[0m \t🕒 Completed At: 23:10\n",
      "\u001b[36m(ClientAppActor pid=109967)\u001b[0m \n",
      "\u001b[36m(ClientAppActor pid=109967)\u001b[0m [Client] Client on device: cuda:0\n",
      "\u001b[36m(ClientAppActor pid=109967)\u001b[0m [Client] CUDA available in client: True\n",
      "\u001b[36m(ClientAppActor pid=109967)\u001b[0m No prefix/name for the model was provided, choosen prefix/name: silly_bulbasaur_21\n",
      "\u001b[36m(ClientAppActor pid=109967)\u001b[0m \n",
      "\u001b[36m(ClientAppActor pid=109967)\u001b[0m Step 1/8 | Total batches: 7\n",
      "\u001b[36m(ClientAppActor pid=109967)\u001b[0m Step 2/8 | Total batches: 7\n",
      "\u001b[36m(ClientAppActor pid=109967)\u001b[0m Step 3/8 | Total batches: 7\n",
      "\u001b[36m(ClientAppActor pid=109967)\u001b[0m Step 4/8 | Total batches: 7\n",
      "\u001b[36m(ClientAppActor pid=109967)\u001b[0m Step 5/8 | Total batches: 7\n",
      "\u001b[36m(ClientAppActor pid=109967)\u001b[0m Step 6/8 | Total batches: 7\n",
      "\u001b[36m(ClientAppActor pid=109967)\u001b[0m Step 7/8 | Total batches: 7\n",
      "\u001b[36m(ClientAppActor pid=109967)\u001b[0m Step 8/8 | Total batches: 7\n",
      "\u001b[36m(ClientAppActor pid=109967)\u001b[0m 🚀 Epoch 1/1 (100.00%) Completed\n",
      "\u001b[36m(ClientAppActor pid=109967)\u001b[0m \t📊 Training Loss: 1.3444\n",
      "\u001b[36m(ClientAppActor pid=109967)\u001b[0m \t✅ Training Accuracy: 72.41%\n",
      "\u001b[36m(ClientAppActor pid=109967)\u001b[0m \t⏳ Elapsed Time: 1.13s | ETA: 0.00s\n",
      "\u001b[36m(ClientAppActor pid=109967)\u001b[0m \t🕒 Completed At: 23:11\n",
      "\u001b[36m(ClientAppActor pid=109967)\u001b[0m \n",
      "\u001b[36m(ClientAppActor pid=109967)\u001b[0m [Client] Client on device: cuda:0\n",
      "\u001b[36m(ClientAppActor pid=109967)\u001b[0m [Client] CUDA available in client: True\n",
      "\u001b[36m(ClientAppActor pid=109967)\u001b[0m No prefix/name for the model was provided, choosen prefix/name: sneezy_charmeleon_70\n",
      "\u001b[36m(ClientAppActor pid=109967)\u001b[0m \n",
      "\u001b[36m(ClientAppActor pid=109967)\u001b[0m Step 1/8 | Total batches: 7\n",
      "\u001b[36m(ClientAppActor pid=109967)\u001b[0m Step 2/8 | Total batches: 7\n",
      "\u001b[36m(ClientAppActor pid=109967)\u001b[0m Step 3/8 | Total batches: 7\n",
      "\u001b[36m(ClientAppActor pid=109967)\u001b[0m Step 4/8 | Total batches: 7\n",
      "\u001b[36m(ClientAppActor pid=109967)\u001b[0m Step 5/8 | Total batches: 7\n",
      "\u001b[36m(ClientAppActor pid=109967)\u001b[0m Step 6/8 | Total batches: 7\n",
      "\u001b[36m(ClientAppActor pid=109967)\u001b[0m Step 7/8 | Total batches: 7\n",
      "\u001b[36m(ClientAppActor pid=109967)\u001b[0m Step 8/8 | Total batches: 7\n"
     ]
    },
    {
     "name": "stderr",
     "output_type": "stream",
     "text": [
      "\u001b[92mINFO \u001b[0m:      aggregate_fit: received 10 results and 0 failures\n"
     ]
    },
    {
     "name": "stdout",
     "output_type": "stream",
     "text": [
      "\u001b[36m(ClientAppActor pid=109967)\u001b[0m 🚀 Epoch 1/1 (100.00%) Completed\n",
      "\u001b[36m(ClientAppActor pid=109967)\u001b[0m \t📊 Training Loss: 2.2056\n",
      "\u001b[36m(ClientAppActor pid=109967)\u001b[0m \t✅ Training Accuracy: 68.75%\n",
      "\u001b[36m(ClientAppActor pid=109967)\u001b[0m \t⏳ Elapsed Time: 1.21s | ETA: 0.00s\n",
      "\u001b[36m(ClientAppActor pid=109967)\u001b[0m \t🕒 Completed At: 23:11\n",
      "\u001b[36m(ClientAppActor pid=109967)\u001b[0m \n"
     ]
    },
    {
     "name": "stderr",
     "output_type": "stream",
     "text": [
      "\u001b[92mINFO \u001b[0m:      [Round 3] Avg Drift: 0.0017 | Relative Drift: 0.0000\n",
      "\u001b[92mINFO \u001b[0m:      fit progress: (3, {}, {}, 70.08846988000005)\n",
      "\u001b[92mINFO \u001b[0m:      configure_evaluate: strategy sampled 10 clients (out of 100)\n"
     ]
    },
    {
     "name": "stdout",
     "output_type": "stream",
     "text": [
      "\u001b[36m(ClientAppActor pid=109967)\u001b[0m [Client] Client on device: cuda:0\n",
      "\u001b[36m(ClientAppActor pid=109967)\u001b[0m [Client] CUDA available in client: True\n"
     ]
    },
    {
     "name": "stderr",
     "output_type": "stream",
     "text": [
      "Eval progress:   0%|          | 0/2 [00:00<?, ?batch/s]\n",
      "Eval progress:  50%|█████     | 1/2 [00:00<00:00,  6.83batch/s]\n",
      "Eval progress: 100%|██████████| 2/2 [00:00<00:00,  8.81batch/s]\n"
     ]
    },
    {
     "name": "stdout",
     "output_type": "stream",
     "text": [
      "\u001b[36m(ClientAppActor pid=109967)\u001b[0m [Client] Client on device: cuda:0\n",
      "\u001b[36m(ClientAppActor pid=109967)\u001b[0m [Client] CUDA available in client: True\n"
     ]
    },
    {
     "name": "stderr",
     "output_type": "stream",
     "text": [
      "Eval progress:   0%|          | 0/2 [00:00<?, ?batch/s]\n",
      "Eval progress:  50%|█████     | 1/2 [00:00<00:00,  6.65batch/s]\n",
      "Eval progress: 100%|██████████| 2/2 [00:00<00:00,  8.60batch/s]\n"
     ]
    },
    {
     "name": "stdout",
     "output_type": "stream",
     "text": [
      "\u001b[36m(ClientAppActor pid=109967)\u001b[0m [Client] Client on device: cuda:0\n",
      "\u001b[36m(ClientAppActor pid=109967)\u001b[0m [Client] CUDA available in client: True\n"
     ]
    },
    {
     "name": "stderr",
     "output_type": "stream",
     "text": [
      "Eval progress:   0%|          | 0/2 [00:00<?, ?batch/s]\n",
      "Eval progress:  50%|█████     | 1/2 [00:00<00:00,  6.82batch/s]\n",
      "Eval progress: 100%|██████████| 2/2 [00:00<00:00,  8.85batch/s]\n"
     ]
    },
    {
     "name": "stdout",
     "output_type": "stream",
     "text": [
      "\u001b[36m(ClientAppActor pid=109967)\u001b[0m [Client] Client on device: cuda:0\n",
      "\u001b[36m(ClientAppActor pid=109967)\u001b[0m [Client] CUDA available in client: True\n"
     ]
    },
    {
     "name": "stderr",
     "output_type": "stream",
     "text": [
      "Eval progress:   0%|          | 0/2 [00:00<?, ?batch/s]\n",
      "Eval progress:  50%|█████     | 1/2 [00:00<00:00,  6.75batch/s]\n",
      "Eval progress: 100%|██████████| 2/2 [00:00<00:00,  8.77batch/s]\n",
      "Eval progress:   0%|          | 0/2 [00:00<?, ?batch/s]\n"
     ]
    },
    {
     "name": "stdout",
     "output_type": "stream",
     "text": [
      "\u001b[36m(ClientAppActor pid=109967)\u001b[0m [Client] Client on device: cuda:0\n",
      "\u001b[36m(ClientAppActor pid=109967)\u001b[0m [Client] CUDA available in client: True\n"
     ]
    },
    {
     "name": "stderr",
     "output_type": "stream",
     "text": [
      "Eval progress:  50%|█████     | 1/2 [00:00<00:00,  6.87batch/s]\n",
      "Eval progress: 100%|██████████| 2/2 [00:00<00:00,  8.96batch/s]\n"
     ]
    },
    {
     "name": "stdout",
     "output_type": "stream",
     "text": [
      "\u001b[36m(ClientAppActor pid=109967)\u001b[0m [Client] Client on device: cuda:0\n",
      "\u001b[36m(ClientAppActor pid=109967)\u001b[0m [Client] CUDA available in client: True\n"
     ]
    },
    {
     "name": "stderr",
     "output_type": "stream",
     "text": [
      "Eval progress:   0%|          | 0/2 [00:00<?, ?batch/s]\n",
      "Eval progress:  50%|█████     | 1/2 [00:00<00:00,  6.84batch/s]\n",
      "Eval progress: 100%|██████████| 2/2 [00:00<00:00,  8.88batch/s]\n"
     ]
    },
    {
     "name": "stdout",
     "output_type": "stream",
     "text": [
      "\u001b[36m(ClientAppActor pid=109967)\u001b[0m [Client] Client on device: cuda:0\n",
      "\u001b[36m(ClientAppActor pid=109967)\u001b[0m [Client] CUDA available in client: True\n"
     ]
    },
    {
     "name": "stderr",
     "output_type": "stream",
     "text": [
      "Eval progress:   0%|          | 0/2 [00:00<?, ?batch/s]\n",
      "Eval progress: 100%|██████████| 2/2 [00:00<00:00,  8.91batch/s]\n"
     ]
    },
    {
     "name": "stdout",
     "output_type": "stream",
     "text": [
      "\u001b[36m(ClientAppActor pid=109967)\u001b[0m [Client] Client on device: cuda:0\n",
      "\u001b[36m(ClientAppActor pid=109967)\u001b[0m [Client] CUDA available in client: True\n"
     ]
    },
    {
     "name": "stderr",
     "output_type": "stream",
     "text": [
      "Eval progress:   0%|          | 0/2 [00:00<?, ?batch/s]\n",
      "Eval progress:  50%|█████     | 1/2 [00:00<00:00,  6.89batch/s]\n",
      "Eval progress: 100%|██████████| 2/2 [00:00<00:00,  8.91batch/s]\n"
     ]
    },
    {
     "name": "stdout",
     "output_type": "stream",
     "text": [
      "\u001b[36m(ClientAppActor pid=109967)\u001b[0m [Client] Client on device: cuda:0\n",
      "\u001b[36m(ClientAppActor pid=109967)\u001b[0m [Client] CUDA available in client: True\n"
     ]
    },
    {
     "name": "stderr",
     "output_type": "stream",
     "text": [
      "Eval progress:   0%|          | 0/2 [00:00<?, ?batch/s]\n",
      "Eval progress:  50%|█████     | 1/2 [00:00<00:00,  6.77batch/s]\n",
      "Eval progress: 100%|██████████| 2/2 [00:00<00:00,  8.86batch/s]\n"
     ]
    },
    {
     "name": "stdout",
     "output_type": "stream",
     "text": [
      "\u001b[36m(ClientAppActor pid=109967)\u001b[0m [Client] Client on device: cuda:0\n",
      "\u001b[36m(ClientAppActor pid=109967)\u001b[0m [Client] CUDA available in client: True\n"
     ]
    },
    {
     "name": "stderr",
     "output_type": "stream",
     "text": [
      "Eval progress:   0%|          | 0/2 [00:00<?, ?batch/s]\n",
      "Eval progress:  50%|█████     | 1/2 [00:00<00:00,  6.83batch/s]\n",
      "Eval progress: 100%|██████████| 2/2 [00:00<00:00,  8.88batch/s]\n",
      "\u001b[92mINFO \u001b[0m:      aggregate_evaluate: received 10 results and 0 failures\n",
      "\u001b[92mINFO \u001b[0m:      \n",
      "\u001b[92mINFO \u001b[0m:      [ROUND 4]\n",
      "\u001b[92mINFO \u001b[0m:      configure_fit: strategy sampled 10 clients (out of 100)\n"
     ]
    },
    {
     "name": "stdout",
     "output_type": "stream",
     "text": [
      "\u001b[36m(ClientAppActor pid=109967)\u001b[0m [Client] Client on device: cuda:0\n",
      "\u001b[36m(ClientAppActor pid=109967)\u001b[0m [Client] CUDA available in client: True\n",
      "\u001b[36m(ClientAppActor pid=109967)\u001b[0m No prefix/name for the model was provided, choosen prefix/name: cheeky_squirtle_54\n",
      "\u001b[36m(ClientAppActor pid=109967)\u001b[0m \n",
      "\u001b[36m(ClientAppActor pid=109967)\u001b[0m Step 1/8 | Total batches: 7\n",
      "\u001b[36m(ClientAppActor pid=109967)\u001b[0m Step 2/8 | Total batches: 7\n",
      "\u001b[36m(ClientAppActor pid=109967)\u001b[0m Step 3/8 | Total batches: 7\n",
      "\u001b[36m(ClientAppActor pid=109967)\u001b[0m Step 4/8 | Total batches: 7\n",
      "\u001b[36m(ClientAppActor pid=109967)\u001b[0m Step 5/8 | Total batches: 7\n",
      "\u001b[36m(ClientAppActor pid=109967)\u001b[0m Step 6/8 | Total batches: 7\n",
      "\u001b[36m(ClientAppActor pid=109967)\u001b[0m Step 7/8 | Total batches: 7\n",
      "\u001b[36m(ClientAppActor pid=109967)\u001b[0m Step 8/8 | Total batches: 7\n",
      "\u001b[36m(ClientAppActor pid=109967)\u001b[0m 🚀 Epoch 1/1 (100.00%) Completed\n",
      "\u001b[36m(ClientAppActor pid=109967)\u001b[0m \t📊 Training Loss: 1.3028\n",
      "\u001b[36m(ClientAppActor pid=109967)\u001b[0m \t✅ Training Accuracy: 72.63%\n",
      "\u001b[36m(ClientAppActor pid=109967)\u001b[0m \t⏳ Elapsed Time: 1.07s | ETA: 0.00s\n",
      "\u001b[36m(ClientAppActor pid=109967)\u001b[0m \t🕒 Completed At: 23:11\n",
      "\u001b[36m(ClientAppActor pid=109967)\u001b[0m \n",
      "\u001b[36m(ClientAppActor pid=109967)\u001b[0m [Client] Client on device: cuda:0\n",
      "\u001b[36m(ClientAppActor pid=109967)\u001b[0m [Client] CUDA available in client: True\n",
      "\u001b[36m(ClientAppActor pid=109967)\u001b[0m No prefix/name for the model was provided, choosen prefix/name: giddy_fearow_93\n",
      "\u001b[36m(ClientAppActor pid=109967)\u001b[0m \n",
      "\u001b[36m(ClientAppActor pid=109967)\u001b[0m Step 1/8 | Total batches: 7\n",
      "\u001b[36m(ClientAppActor pid=109967)\u001b[0m Step 2/8 | Total batches: 7\n",
      "\u001b[36m(ClientAppActor pid=109967)\u001b[0m Step 3/8 | Total batches: 7\n",
      "\u001b[36m(ClientAppActor pid=109967)\u001b[0m Step 4/8 | Total batches: 7\n",
      "\u001b[36m(ClientAppActor pid=109967)\u001b[0m Step 5/8 | Total batches: 7\n",
      "\u001b[36m(ClientAppActor pid=109967)\u001b[0m Step 6/8 | Total batches: 7\n",
      "\u001b[36m(ClientAppActor pid=109967)\u001b[0m Step 7/8 | Total batches: 7\n",
      "\u001b[36m(ClientAppActor pid=109967)\u001b[0m Step 8/8 | Total batches: 7\n",
      "\u001b[36m(ClientAppActor pid=109967)\u001b[0m 🚀 Epoch 1/1 (100.00%) Completed\n",
      "\u001b[36m(ClientAppActor pid=109967)\u001b[0m \t📊 Training Loss: 0.7060\n",
      "\u001b[36m(ClientAppActor pid=109967)\u001b[0m \t✅ Training Accuracy: 83.84%\n",
      "\u001b[36m(ClientAppActor pid=109967)\u001b[0m \t⏳ Elapsed Time: 1.08s | ETA: 0.00s\n",
      "\u001b[36m(ClientAppActor pid=109967)\u001b[0m \t🕒 Completed At: 23:11\n",
      "\u001b[36m(ClientAppActor pid=109967)\u001b[0m \n",
      "\u001b[36m(ClientAppActor pid=109967)\u001b[0m [Client] Client on device: cuda:0\n",
      "\u001b[36m(ClientAppActor pid=109967)\u001b[0m [Client] CUDA available in client: True\n",
      "\u001b[36m(ClientAppActor pid=109967)\u001b[0m No prefix/name for the model was provided, choosen prefix/name: giddy_kakuna_75\n",
      "\u001b[36m(ClientAppActor pid=109967)\u001b[0m \n",
      "\u001b[36m(ClientAppActor pid=109967)\u001b[0m Step 1/8 | Total batches: 7\n",
      "\u001b[36m(ClientAppActor pid=109967)\u001b[0m Step 2/8 | Total batches: 7\n",
      "\u001b[36m(ClientAppActor pid=109967)\u001b[0m Step 3/8 | Total batches: 7\n",
      "\u001b[36m(ClientAppActor pid=109967)\u001b[0m Step 4/8 | Total batches: 7\n",
      "\u001b[36m(ClientAppActor pid=109967)\u001b[0m Step 5/8 | Total batches: 7\n",
      "\u001b[36m(ClientAppActor pid=109967)\u001b[0m Step 6/8 | Total batches: 7\n",
      "\u001b[36m(ClientAppActor pid=109967)\u001b[0m Step 7/8 | Total batches: 7\n",
      "\u001b[36m(ClientAppActor pid=109967)\u001b[0m Step 8/8 | Total batches: 7\n",
      "\u001b[36m(ClientAppActor pid=109967)\u001b[0m 🚀 Epoch 1/1 (100.00%) Completed\n",
      "\u001b[36m(ClientAppActor pid=109967)\u001b[0m \t📊 Training Loss: 1.1579\n",
      "\u001b[36m(ClientAppActor pid=109967)\u001b[0m \t✅ Training Accuracy: 74.35%\n",
      "\u001b[36m(ClientAppActor pid=109967)\u001b[0m \t⏳ Elapsed Time: 1.07s | ETA: 0.00s\n",
      "\u001b[36m(ClientAppActor pid=109967)\u001b[0m \t🕒 Completed At: 23:11\n",
      "\u001b[36m(ClientAppActor pid=109967)\u001b[0m \n",
      "\u001b[36m(ClientAppActor pid=109967)\u001b[0m [Client] Client on device: cuda:0\n",
      "\u001b[36m(ClientAppActor pid=109967)\u001b[0m [Client] CUDA available in client: True\n",
      "\u001b[36m(ClientAppActor pid=109967)\u001b[0m No prefix/name for the model was provided, choosen prefix/name: fluffy_nidoqueen_31\n",
      "\u001b[36m(ClientAppActor pid=109967)\u001b[0m \n",
      "\u001b[36m(ClientAppActor pid=109967)\u001b[0m Step 1/8 | Total batches: 7\n",
      "\u001b[36m(ClientAppActor pid=109967)\u001b[0m Step 2/8 | Total batches: 7\n",
      "\u001b[36m(ClientAppActor pid=109967)\u001b[0m Step 3/8 | Total batches: 7\n",
      "\u001b[36m(ClientAppActor pid=109967)\u001b[0m Step 4/8 | Total batches: 7\n",
      "\u001b[36m(ClientAppActor pid=109967)\u001b[0m Step 5/8 | Total batches: 7\n",
      "\u001b[36m(ClientAppActor pid=109967)\u001b[0m Step 6/8 | Total batches: 7\n",
      "\u001b[36m(ClientAppActor pid=109967)\u001b[0m Step 7/8 | Total batches: 7\n",
      "\u001b[36m(ClientAppActor pid=109967)\u001b[0m Step 8/8 | Total batches: 7\n",
      "\u001b[36m(ClientAppActor pid=109967)\u001b[0m 🚀 Epoch 1/1 (100.00%) Completed\n",
      "\u001b[36m(ClientAppActor pid=109967)\u001b[0m \t📊 Training Loss: 1.3059\n",
      "\u001b[36m(ClientAppActor pid=109967)\u001b[0m \t✅ Training Accuracy: 72.63%\n",
      "\u001b[36m(ClientAppActor pid=109967)\u001b[0m \t⏳ Elapsed Time: 1.09s | ETA: 0.00s\n",
      "\u001b[36m(ClientAppActor pid=109967)\u001b[0m \t🕒 Completed At: 23:11\n",
      "\u001b[36m(ClientAppActor pid=109967)\u001b[0m \n",
      "\u001b[36m(ClientAppActor pid=109967)\u001b[0m [Client] Client on device: cuda:0\n",
      "\u001b[36m(ClientAppActor pid=109967)\u001b[0m [Client] CUDA available in client: True\n",
      "\u001b[36m(ClientAppActor pid=109967)\u001b[0m No prefix/name for the model was provided, choosen prefix/name: funky_pikachu_67\n",
      "\u001b[36m(ClientAppActor pid=109967)\u001b[0m \n",
      "\u001b[36m(ClientAppActor pid=109967)\u001b[0m Step 1/8 | Total batches: 7\n",
      "\u001b[36m(ClientAppActor pid=109967)\u001b[0m Step 2/8 | Total batches: 7\n",
      "\u001b[36m(ClientAppActor pid=109967)\u001b[0m Step 3/8 | Total batches: 7\n",
      "\u001b[36m(ClientAppActor pid=109967)\u001b[0m Step 4/8 | Total batches: 7\n",
      "\u001b[36m(ClientAppActor pid=109967)\u001b[0m Step 5/8 | Total batches: 7\n",
      "\u001b[36m(ClientAppActor pid=109967)\u001b[0m Step 6/8 | Total batches: 7\n",
      "\u001b[36m(ClientAppActor pid=109967)\u001b[0m Step 7/8 | Total batches: 7\n",
      "\u001b[36m(ClientAppActor pid=109967)\u001b[0m Step 8/8 | Total batches: 7\n",
      "\u001b[36m(ClientAppActor pid=109967)\u001b[0m 🚀 Epoch 1/1 (100.00%) Completed\n",
      "\u001b[36m(ClientAppActor pid=109967)\u001b[0m \t📊 Training Loss: 0.5196\n",
      "\u001b[36m(ClientAppActor pid=109967)\u001b[0m \t✅ Training Accuracy: 85.78%\n",
      "\u001b[36m(ClientAppActor pid=109967)\u001b[0m \t⏳ Elapsed Time: 1.11s | ETA: 0.00s\n",
      "\u001b[36m(ClientAppActor pid=109967)\u001b[0m \t🕒 Completed At: 23:11\n",
      "\u001b[36m(ClientAppActor pid=109967)\u001b[0m \n",
      "\u001b[36m(ClientAppActor pid=109967)\u001b[0m [Client] Client on device: cuda:0\n",
      "\u001b[36m(ClientAppActor pid=109967)\u001b[0m [Client] CUDA available in client: True\n",
      "\u001b[36m(ClientAppActor pid=109967)\u001b[0m No prefix/name for the model was provided, choosen prefix/name: itchy_venusaur_40\n",
      "\u001b[36m(ClientAppActor pid=109967)\u001b[0m \n",
      "\u001b[36m(ClientAppActor pid=109967)\u001b[0m Step 1/8 | Total batches: 7\n",
      "\u001b[36m(ClientAppActor pid=109967)\u001b[0m Step 2/8 | Total batches: 7\n",
      "\u001b[36m(ClientAppActor pid=109967)\u001b[0m Step 3/8 | Total batches: 7\n",
      "\u001b[36m(ClientAppActor pid=109967)\u001b[0m Step 4/8 | Total batches: 7\n",
      "\u001b[36m(ClientAppActor pid=109967)\u001b[0m Step 5/8 | Total batches: 7\n",
      "\u001b[36m(ClientAppActor pid=109967)\u001b[0m Step 6/8 | Total batches: 7\n",
      "\u001b[36m(ClientAppActor pid=109967)\u001b[0m Step 7/8 | Total batches: 7\n",
      "\u001b[36m(ClientAppActor pid=109967)\u001b[0m Step 8/8 | Total batches: 7\n",
      "\u001b[36m(ClientAppActor pid=109967)\u001b[0m 🚀 Epoch 1/1 (100.00%) Completed\n",
      "\u001b[36m(ClientAppActor pid=109967)\u001b[0m \t📊 Training Loss: 1.1095\n",
      "\u001b[36m(ClientAppActor pid=109967)\u001b[0m \t✅ Training Accuracy: 75.43%\n",
      "\u001b[36m(ClientAppActor pid=109967)\u001b[0m \t⏳ Elapsed Time: 1.10s | ETA: 0.00s\n",
      "\u001b[36m(ClientAppActor pid=109967)\u001b[0m \t🕒 Completed At: 23:11\n",
      "\u001b[36m(ClientAppActor pid=109967)\u001b[0m \n",
      "\u001b[36m(ClientAppActor pid=109967)\u001b[0m [Client] Client on device: cuda:0\n",
      "\u001b[36m(ClientAppActor pid=109967)\u001b[0m [Client] CUDA available in client: True\n",
      "\u001b[36m(ClientAppActor pid=109967)\u001b[0m No prefix/name for the model was provided, choosen prefix/name: frosty_squirtle_97\n",
      "\u001b[36m(ClientAppActor pid=109967)\u001b[0m \n",
      "\u001b[36m(ClientAppActor pid=109967)\u001b[0m Step 1/8 | Total batches: 7\n",
      "\u001b[36m(ClientAppActor pid=109967)\u001b[0m Step 2/8 | Total batches: 7\n",
      "\u001b[36m(ClientAppActor pid=109967)\u001b[0m Step 3/8 | Total batches: 7\n",
      "\u001b[36m(ClientAppActor pid=109967)\u001b[0m Step 4/8 | Total batches: 7\n",
      "\u001b[36m(ClientAppActor pid=109967)\u001b[0m Step 5/8 | Total batches: 7\n",
      "\u001b[36m(ClientAppActor pid=109967)\u001b[0m Step 6/8 | Total batches: 7\n",
      "\u001b[36m(ClientAppActor pid=109967)\u001b[0m Step 7/8 | Total batches: 7\n",
      "\u001b[36m(ClientAppActor pid=109967)\u001b[0m Step 8/8 | Total batches: 7\n",
      "\u001b[36m(ClientAppActor pid=109967)\u001b[0m 🚀 Epoch 1/1 (100.00%) Completed\n",
      "\u001b[36m(ClientAppActor pid=109967)\u001b[0m \t📊 Training Loss: 1.6331\n",
      "\u001b[36m(ClientAppActor pid=109967)\u001b[0m \t✅ Training Accuracy: 71.55%\n",
      "\u001b[36m(ClientAppActor pid=109967)\u001b[0m \t⏳ Elapsed Time: 1.14s | ETA: 0.00s\n",
      "\u001b[36m(ClientAppActor pid=109967)\u001b[0m \t🕒 Completed At: 23:11\n",
      "\u001b[36m(ClientAppActor pid=109967)\u001b[0m \n",
      "\u001b[36m(ClientAppActor pid=109967)\u001b[0m [Client] Client on device: cuda:0\n",
      "\u001b[36m(ClientAppActor pid=109967)\u001b[0m [Client] CUDA available in client: True\n",
      "\u001b[36m(ClientAppActor pid=109967)\u001b[0m No prefix/name for the model was provided, choosen prefix/name: wacky_metapod_11\n",
      "\u001b[36m(ClientAppActor pid=109967)\u001b[0m \n",
      "\u001b[36m(ClientAppActor pid=109967)\u001b[0m Step 1/8 | Total batches: 7\n",
      "\u001b[36m(ClientAppActor pid=109967)\u001b[0m Step 2/8 | Total batches: 7\n",
      "\u001b[36m(ClientAppActor pid=109967)\u001b[0m Step 3/8 | Total batches: 7\n",
      "\u001b[36m(ClientAppActor pid=109967)\u001b[0m Step 4/8 | Total batches: 7\n",
      "\u001b[36m(ClientAppActor pid=109967)\u001b[0m Step 5/8 | Total batches: 7\n",
      "\u001b[36m(ClientAppActor pid=109967)\u001b[0m Step 6/8 | Total batches: 7\n",
      "\u001b[36m(ClientAppActor pid=109967)\u001b[0m Step 7/8 | Total batches: 7\n",
      "\u001b[36m(ClientAppActor pid=109967)\u001b[0m Step 8/8 | Total batches: 7\n",
      "\u001b[36m(ClientAppActor pid=109967)\u001b[0m 🚀 Epoch 1/1 (100.00%) Completed\n",
      "\u001b[36m(ClientAppActor pid=109967)\u001b[0m \t📊 Training Loss: 1.5745\n",
      "\u001b[36m(ClientAppActor pid=109967)\u001b[0m \t✅ Training Accuracy: 72.41%\n",
      "\u001b[36m(ClientAppActor pid=109967)\u001b[0m \t⏳ Elapsed Time: 1.07s | ETA: 0.00s\n",
      "\u001b[36m(ClientAppActor pid=109967)\u001b[0m \t🕒 Completed At: 23:11\n",
      "\u001b[36m(ClientAppActor pid=109967)\u001b[0m \n",
      "\u001b[36m(ClientAppActor pid=109967)\u001b[0m [Client] Client on device: cuda:0\n",
      "\u001b[36m(ClientAppActor pid=109967)\u001b[0m [Client] CUDA available in client: True\n",
      "\u001b[36m(ClientAppActor pid=109967)\u001b[0m No prefix/name for the model was provided, choosen prefix/name: groovy_butterfree_13\n",
      "\u001b[36m(ClientAppActor pid=109967)\u001b[0m \n",
      "\u001b[36m(ClientAppActor pid=109967)\u001b[0m Step 1/8 | Total batches: 7\n",
      "\u001b[36m(ClientAppActor pid=109967)\u001b[0m Step 2/8 | Total batches: 7\n",
      "\u001b[36m(ClientAppActor pid=109967)\u001b[0m Step 3/8 | Total batches: 7\n",
      "\u001b[36m(ClientAppActor pid=109967)\u001b[0m Step 4/8 | Total batches: 7\n",
      "\u001b[36m(ClientAppActor pid=109967)\u001b[0m Step 5/8 | Total batches: 7\n",
      "\u001b[36m(ClientAppActor pid=109967)\u001b[0m Step 6/8 | Total batches: 7\n",
      "\u001b[36m(ClientAppActor pid=109967)\u001b[0m Step 7/8 | Total batches: 7\n",
      "\u001b[36m(ClientAppActor pid=109967)\u001b[0m Step 8/8 | Total batches: 7\n",
      "\u001b[36m(ClientAppActor pid=109967)\u001b[0m 🚀 Epoch 1/1 (100.00%) Completed\n",
      "\u001b[36m(ClientAppActor pid=109967)\u001b[0m \t📊 Training Loss: 1.0467\n",
      "\u001b[36m(ClientAppActor pid=109967)\u001b[0m \t✅ Training Accuracy: 76.72%\n",
      "\u001b[36m(ClientAppActor pid=109967)\u001b[0m \t⏳ Elapsed Time: 1.02s | ETA: 0.00s\n",
      "\u001b[36m(ClientAppActor pid=109967)\u001b[0m \t🕒 Completed At: 23:11\n",
      "\u001b[36m(ClientAppActor pid=109967)\u001b[0m \n",
      "\u001b[36m(ClientAppActor pid=109967)\u001b[0m [Client] Client on device: cuda:0\n",
      "\u001b[36m(ClientAppActor pid=109967)\u001b[0m [Client] CUDA available in client: True\n",
      "\u001b[36m(ClientAppActor pid=109967)\u001b[0m No prefix/name for the model was provided, choosen prefix/name: cranky_ekans_27\n",
      "\u001b[36m(ClientAppActor pid=109967)\u001b[0m \n",
      "\u001b[36m(ClientAppActor pid=109967)\u001b[0m Step 1/8 | Total batches: 7\n",
      "\u001b[36m(ClientAppActor pid=109967)\u001b[0m Step 2/8 | Total batches: 7\n",
      "\u001b[36m(ClientAppActor pid=109967)\u001b[0m Step 3/8 | Total batches: 7\n",
      "\u001b[36m(ClientAppActor pid=109967)\u001b[0m Step 4/8 | Total batches: 7\n",
      "\u001b[36m(ClientAppActor pid=109967)\u001b[0m Step 5/8 | Total batches: 7\n",
      "\u001b[36m(ClientAppActor pid=109967)\u001b[0m Step 6/8 | Total batches: 7\n",
      "\u001b[36m(ClientAppActor pid=109967)\u001b[0m Step 7/8 | Total batches: 7\n",
      "\u001b[36m(ClientAppActor pid=109967)\u001b[0m Step 8/8 | Total batches: 7\n",
      "\u001b[36m(ClientAppActor pid=109967)\u001b[0m 🚀 Epoch 1/1 (100.00%) Completed\n",
      "\u001b[36m(ClientAppActor pid=109967)\u001b[0m \t📊 Training Loss: 0.7994\n",
      "\u001b[36m(ClientAppActor pid=109967)\u001b[0m \t✅ Training Accuracy: 82.11%\n",
      "\u001b[36m(ClientAppActor pid=109967)\u001b[0m \t⏳ Elapsed Time: 1.10s | ETA: 0.00s\n",
      "\u001b[36m(ClientAppActor pid=109967)\u001b[0m \t🕒 Completed At: 23:11\n",
      "\u001b[36m(ClientAppActor pid=109967)\u001b[0m \n"
     ]
    },
    {
     "name": "stderr",
     "output_type": "stream",
     "text": [
      "\u001b[92mINFO \u001b[0m:      aggregate_fit: received 10 results and 0 failures\n",
      "\u001b[92mINFO \u001b[0m:      [Round 4] Avg Drift: 0.0017 | Relative Drift: 0.0000\n",
      "\u001b[92mINFO \u001b[0m:      fit progress: (4, {}, {}, 91.40673597499699)\n",
      "\u001b[92mINFO \u001b[0m:      configure_evaluate: strategy sampled 10 clients (out of 100)\n"
     ]
    },
    {
     "name": "stdout",
     "output_type": "stream",
     "text": [
      "\u001b[36m(ClientAppActor pid=109967)\u001b[0m [Client] Client on device: cuda:0\n",
      "\u001b[36m(ClientAppActor pid=109967)\u001b[0m [Client] CUDA available in client: True\n"
     ]
    },
    {
     "name": "stderr",
     "output_type": "stream",
     "text": [
      "Eval progress:   0%|          | 0/2 [00:00<?, ?batch/s]\n",
      "Eval progress: 100%|██████████| 2/2 [00:00<00:00,  9.35batch/s]\n"
     ]
    },
    {
     "name": "stdout",
     "output_type": "stream",
     "text": [
      "\u001b[36m(ClientAppActor pid=109967)\u001b[0m [Client] Client on device: cuda:0\n",
      "\u001b[36m(ClientAppActor pid=109967)\u001b[0m [Client] CUDA available in client: True\n"
     ]
    },
    {
     "name": "stderr",
     "output_type": "stream",
     "text": [
      "Eval progress:   0%|          | 0/2 [00:00<?, ?batch/s]\n",
      "Eval progress:  50%|█████     | 1/2 [00:00<00:00,  6.95batch/s]\n",
      "Eval progress: 100%|██████████| 2/2 [00:00<00:00,  9.18batch/s]\n"
     ]
    },
    {
     "name": "stdout",
     "output_type": "stream",
     "text": [
      "\u001b[36m(ClientAppActor pid=109967)\u001b[0m [Client] Client on device: cuda:0\n",
      "\u001b[36m(ClientAppActor pid=109967)\u001b[0m [Client] CUDA available in client: True\n"
     ]
    },
    {
     "name": "stderr",
     "output_type": "stream",
     "text": [
      "Eval progress:   0%|          | 0/2 [00:00<?, ?batch/s]\n",
      "Eval progress:  50%|█████     | 1/2 [00:00<00:00,  7.28batch/s]\n",
      "Eval progress: 100%|██████████| 2/2 [00:00<00:00,  9.46batch/s]\n",
      "Eval progress:   0%|          | 0/2 [00:00<?, ?batch/s]\n"
     ]
    },
    {
     "name": "stdout",
     "output_type": "stream",
     "text": [
      "\u001b[36m(ClientAppActor pid=109967)\u001b[0m [Client] Client on device: cuda:0\n",
      "\u001b[36m(ClientAppActor pid=109967)\u001b[0m [Client] CUDA available in client: True\n"
     ]
    },
    {
     "name": "stderr",
     "output_type": "stream",
     "text": [
      "Eval progress: 100%|██████████| 2/2 [00:00<00:00,  9.56batch/s]\n"
     ]
    },
    {
     "name": "stdout",
     "output_type": "stream",
     "text": [
      "\u001b[36m(ClientAppActor pid=109967)\u001b[0m [Client] Client on device: cuda:0\n",
      "\u001b[36m(ClientAppActor pid=109967)\u001b[0m [Client] CUDA available in client: True\n"
     ]
    },
    {
     "name": "stderr",
     "output_type": "stream",
     "text": [
      "Eval progress:   0%|          | 0/2 [00:00<?, ?batch/s]\n",
      "Eval progress:  50%|█████     | 1/2 [00:00<00:00,  6.91batch/s]\n",
      "Eval progress: 100%|██████████| 2/2 [00:00<00:00,  9.02batch/s]\n"
     ]
    },
    {
     "name": "stdout",
     "output_type": "stream",
     "text": [
      "\u001b[36m(ClientAppActor pid=109967)\u001b[0m [Client] Client on device: cuda:0\n",
      "\u001b[36m(ClientAppActor pid=109967)\u001b[0m [Client] CUDA available in client: True\n"
     ]
    },
    {
     "name": "stderr",
     "output_type": "stream",
     "text": [
      "Eval progress:   0%|          | 0/2 [00:00<?, ?batch/s]\n",
      "Eval progress:  50%|█████     | 1/2 [00:00<00:00,  7.13batch/s]\n",
      "Eval progress: 100%|██████████| 2/2 [00:00<00:00,  9.39batch/s]\n"
     ]
    },
    {
     "name": "stdout",
     "output_type": "stream",
     "text": [
      "\u001b[36m(ClientAppActor pid=109967)\u001b[0m [Client] Client on device: cuda:0\n",
      "\u001b[36m(ClientAppActor pid=109967)\u001b[0m [Client] CUDA available in client: True\n"
     ]
    },
    {
     "name": "stderr",
     "output_type": "stream",
     "text": [
      "Eval progress:   0%|          | 0/2 [00:00<?, ?batch/s]\n",
      "Eval progress: 100%|██████████| 2/2 [00:00<00:00,  9.21batch/s]\n"
     ]
    },
    {
     "name": "stdout",
     "output_type": "stream",
     "text": [
      "\u001b[36m(ClientAppActor pid=109967)\u001b[0m [Client] Client on device: cuda:0\n",
      "\u001b[36m(ClientAppActor pid=109967)\u001b[0m [Client] CUDA available in client: True\n"
     ]
    },
    {
     "name": "stderr",
     "output_type": "stream",
     "text": [
      "Eval progress:   0%|          | 0/2 [00:00<?, ?batch/s]\n",
      "Eval progress:  50%|█████     | 1/2 [00:00<00:00,  7.20batch/s]\n",
      "Eval progress: 100%|██████████| 2/2 [00:00<00:00,  9.41batch/s]\n"
     ]
    },
    {
     "name": "stdout",
     "output_type": "stream",
     "text": [
      "\u001b[36m(ClientAppActor pid=109967)\u001b[0m [Client] Client on device: cuda:0\n",
      "\u001b[36m(ClientAppActor pid=109967)\u001b[0m [Client] CUDA available in client: True\n"
     ]
    },
    {
     "name": "stderr",
     "output_type": "stream",
     "text": [
      "Eval progress:   0%|          | 0/2 [00:00<?, ?batch/s]\n",
      "Eval progress:  50%|█████     | 1/2 [00:00<00:00,  7.25batch/s]\n",
      "Eval progress: 100%|██████████| 2/2 [00:00<00:00,  8.94batch/s]\n"
     ]
    },
    {
     "name": "stdout",
     "output_type": "stream",
     "text": [
      "\u001b[36m(ClientAppActor pid=109967)\u001b[0m [Client] Client on device: cuda:0\n",
      "\u001b[36m(ClientAppActor pid=109967)\u001b[0m [Client] CUDA available in client: True\n"
     ]
    },
    {
     "name": "stderr",
     "output_type": "stream",
     "text": [
      "Eval progress:   0%|          | 0/2 [00:00<?, ?batch/s]\n",
      "Eval progress:  50%|█████     | 1/2 [00:00<00:00,  6.41batch/s]\n",
      "Eval progress: 100%|██████████| 2/2 [00:00<00:00,  8.35batch/s]\n",
      "\u001b[92mINFO \u001b[0m:      aggregate_evaluate: received 10 results and 0 failures\n",
      "\u001b[92mINFO \u001b[0m:      \n",
      "\u001b[92mINFO \u001b[0m:      [ROUND 5]\n",
      "\u001b[92mINFO \u001b[0m:      configure_fit: strategy sampled 10 clients (out of 100)\n"
     ]
    },
    {
     "name": "stdout",
     "output_type": "stream",
     "text": [
      "\u001b[36m(ClientAppActor pid=109967)\u001b[0m [Client] Client on device: cuda:0\n",
      "\u001b[36m(ClientAppActor pid=109967)\u001b[0m [Client] CUDA available in client: True\n",
      "\u001b[36m(ClientAppActor pid=109967)\u001b[0m No prefix/name for the model was provided, choosen prefix/name: grumpy_pidgey_13\n",
      "\u001b[36m(ClientAppActor pid=109967)\u001b[0m \n",
      "\u001b[36m(ClientAppActor pid=109967)\u001b[0m Step 1/8 | Total batches: 7\n",
      "\u001b[36m(ClientAppActor pid=109967)\u001b[0m Step 2/8 | Total batches: 7\n",
      "\u001b[36m(ClientAppActor pid=109967)\u001b[0m Step 3/8 | Total batches: 7\n",
      "\u001b[36m(ClientAppActor pid=109967)\u001b[0m Step 4/8 | Total batches: 7\n",
      "\u001b[36m(ClientAppActor pid=109967)\u001b[0m Step 5/8 | Total batches: 7\n",
      "\u001b[36m(ClientAppActor pid=109967)\u001b[0m Step 6/8 | Total batches: 7\n",
      "\u001b[36m(ClientAppActor pid=109967)\u001b[0m Step 7/8 | Total batches: 7\n",
      "\u001b[36m(ClientAppActor pid=109967)\u001b[0m Step 8/8 | Total batches: 7\n",
      "\u001b[36m(ClientAppActor pid=109967)\u001b[0m 🚀 Epoch 1/1 (100.00%) Completed\n",
      "\u001b[36m(ClientAppActor pid=109967)\u001b[0m \t📊 Training Loss: 1.4856\n",
      "\u001b[36m(ClientAppActor pid=109967)\u001b[0m \t✅ Training Accuracy: 72.41%\n",
      "\u001b[36m(ClientAppActor pid=109967)\u001b[0m \t⏳ Elapsed Time: 1.05s | ETA: 0.00s\n",
      "\u001b[36m(ClientAppActor pid=109967)\u001b[0m \t🕒 Completed At: 23:11\n",
      "\u001b[36m(ClientAppActor pid=109967)\u001b[0m \n",
      "\u001b[36m(ClientAppActor pid=109967)\u001b[0m [Client] Client on device: cuda:0\n",
      "\u001b[36m(ClientAppActor pid=109967)\u001b[0m [Client] CUDA available in client: True\n",
      "\u001b[36m(ClientAppActor pid=109967)\u001b[0m No prefix/name for the model was provided, choosen prefix/name: dorky_pidgey_50\n",
      "\u001b[36m(ClientAppActor pid=109967)\u001b[0m \n",
      "\u001b[36m(ClientAppActor pid=109967)\u001b[0m Step 1/8 | Total batches: 7\n",
      "\u001b[36m(ClientAppActor pid=109967)\u001b[0m Step 2/8 | Total batches: 7\n",
      "\u001b[36m(ClientAppActor pid=109967)\u001b[0m Step 3/8 | Total batches: 7\n",
      "\u001b[36m(ClientAppActor pid=109967)\u001b[0m Step 4/8 | Total batches: 7\n",
      "\u001b[36m(ClientAppActor pid=109967)\u001b[0m Step 5/8 | Total batches: 7\n",
      "\u001b[36m(ClientAppActor pid=109967)\u001b[0m Step 6/8 | Total batches: 7\n",
      "\u001b[36m(ClientAppActor pid=109967)\u001b[0m Step 7/8 | Total batches: 7\n",
      "\u001b[36m(ClientAppActor pid=109967)\u001b[0m Step 8/8 | Total batches: 7\n",
      "\u001b[36m(ClientAppActor pid=109967)\u001b[0m 🚀 Epoch 1/1 (100.00%) Completed\n",
      "\u001b[36m(ClientAppActor pid=109967)\u001b[0m \t📊 Training Loss: 1.2198\n",
      "\u001b[36m(ClientAppActor pid=109967)\u001b[0m \t✅ Training Accuracy: 72.63%\n",
      "\u001b[36m(ClientAppActor pid=109967)\u001b[0m \t⏳ Elapsed Time: 1.13s | ETA: 0.00s\n",
      "\u001b[36m(ClientAppActor pid=109967)\u001b[0m \t🕒 Completed At: 23:11\n",
      "\u001b[36m(ClientAppActor pid=109967)\u001b[0m \n",
      "\u001b[36m(ClientAppActor pid=109967)\u001b[0m [Client] Client on device: cuda:0\n",
      "\u001b[36m(ClientAppActor pid=109967)\u001b[0m [Client] CUDA available in client: True\n",
      "\u001b[36m(ClientAppActor pid=109967)\u001b[0m No prefix/name for the model was provided, choosen prefix/name: mushy_weedle_19\n",
      "\u001b[36m(ClientAppActor pid=109967)\u001b[0m \n",
      "\u001b[36m(ClientAppActor pid=109967)\u001b[0m Step 1/8 | Total batches: 7\n",
      "\u001b[36m(ClientAppActor pid=109967)\u001b[0m Step 2/8 | Total batches: 7\n",
      "\u001b[36m(ClientAppActor pid=109967)\u001b[0m Step 3/8 | Total batches: 7\n",
      "\u001b[36m(ClientAppActor pid=109967)\u001b[0m Step 4/8 | Total batches: 7\n",
      "\u001b[36m(ClientAppActor pid=109967)\u001b[0m Step 5/8 | Total batches: 7\n",
      "\u001b[36m(ClientAppActor pid=109967)\u001b[0m Step 6/8 | Total batches: 7\n",
      "\u001b[36m(ClientAppActor pid=109967)\u001b[0m Step 7/8 | Total batches: 7\n",
      "\u001b[36m(ClientAppActor pid=109967)\u001b[0m Step 8/8 | Total batches: 7\n",
      "\u001b[36m(ClientAppActor pid=109967)\u001b[0m 🚀 Epoch 1/1 (100.00%) Completed\n",
      "\u001b[36m(ClientAppActor pid=109967)\u001b[0m \t📊 Training Loss: 1.1120\n",
      "\u001b[36m(ClientAppActor pid=109967)\u001b[0m \t✅ Training Accuracy: 73.92%\n",
      "\u001b[36m(ClientAppActor pid=109967)\u001b[0m \t⏳ Elapsed Time: 1.08s | ETA: 0.00s\n",
      "\u001b[36m(ClientAppActor pid=109967)\u001b[0m \t🕒 Completed At: 23:11\n",
      "\u001b[36m(ClientAppActor pid=109967)\u001b[0m \n",
      "\u001b[36m(ClientAppActor pid=109967)\u001b[0m [Client] Client on device: cuda:0\n",
      "\u001b[36m(ClientAppActor pid=109967)\u001b[0m [Client] CUDA available in client: True\n",
      "\u001b[36m(ClientAppActor pid=109967)\u001b[0m No prefix/name for the model was provided, choosen prefix/name: chirpy_beedrill_50\n",
      "\u001b[36m(ClientAppActor pid=109967)\u001b[0m \n",
      "\u001b[36m(ClientAppActor pid=109967)\u001b[0m Step 1/8 | Total batches: 7\n",
      "\u001b[36m(ClientAppActor pid=109967)\u001b[0m Step 2/8 | Total batches: 7\n",
      "\u001b[36m(ClientAppActor pid=109967)\u001b[0m Step 3/8 | Total batches: 7\n",
      "\u001b[36m(ClientAppActor pid=109967)\u001b[0m Step 4/8 | Total batches: 7\n",
      "\u001b[36m(ClientAppActor pid=109967)\u001b[0m Step 5/8 | Total batches: 7\n",
      "\u001b[36m(ClientAppActor pid=109967)\u001b[0m Step 6/8 | Total batches: 7\n",
      "\u001b[36m(ClientAppActor pid=109967)\u001b[0m Step 7/8 | Total batches: 7\n",
      "\u001b[36m(ClientAppActor pid=109967)\u001b[0m Step 8/8 | Total batches: 7\n",
      "\u001b[36m(ClientAppActor pid=109967)\u001b[0m 🚀 Epoch 1/1 (100.00%) Completed\n",
      "\u001b[36m(ClientAppActor pid=109967)\u001b[0m \t📊 Training Loss: 1.4018\n",
      "\u001b[36m(ClientAppActor pid=109967)\u001b[0m \t✅ Training Accuracy: 72.41%\n",
      "\u001b[36m(ClientAppActor pid=109967)\u001b[0m \t⏳ Elapsed Time: 1.04s | ETA: 0.00s\n",
      "\u001b[36m(ClientAppActor pid=109967)\u001b[0m \t🕒 Completed At: 23:11\n",
      "\u001b[36m(ClientAppActor pid=109967)\u001b[0m \n",
      "\u001b[36m(ClientAppActor pid=109967)\u001b[0m [Client] Client on device: cuda:0\n",
      "\u001b[36m(ClientAppActor pid=109967)\u001b[0m [Client] CUDA available in client: True\n",
      "\u001b[36m(ClientAppActor pid=109967)\u001b[0m No prefix/name for the model was provided, choosen prefix/name: cheeky_metapod_56\n",
      "\u001b[36m(ClientAppActor pid=109967)\u001b[0m \n",
      "\u001b[36m(ClientAppActor pid=109967)\u001b[0m Step 1/8 | Total batches: 7\n",
      "\u001b[36m(ClientAppActor pid=109967)\u001b[0m Step 2/8 | Total batches: 7\n",
      "\u001b[36m(ClientAppActor pid=109967)\u001b[0m Step 3/8 | Total batches: 7\n",
      "\u001b[36m(ClientAppActor pid=109967)\u001b[0m Step 4/8 | Total batches: 7\n",
      "\u001b[36m(ClientAppActor pid=109967)\u001b[0m Step 5/8 | Total batches: 7\n",
      "\u001b[36m(ClientAppActor pid=109967)\u001b[0m Step 6/8 | Total batches: 7\n",
      "\u001b[36m(ClientAppActor pid=109967)\u001b[0m Step 7/8 | Total batches: 7\n",
      "\u001b[36m(ClientAppActor pid=109967)\u001b[0m Step 8/8 | Total batches: 7\n",
      "\u001b[36m(ClientAppActor pid=109967)\u001b[0m 🚀 Epoch 1/1 (100.00%) Completed\n",
      "\u001b[36m(ClientAppActor pid=109967)\u001b[0m \t📊 Training Loss: 1.0887\n",
      "\u001b[36m(ClientAppActor pid=109967)\u001b[0m \t✅ Training Accuracy: 74.14%\n",
      "\u001b[36m(ClientAppActor pid=109967)\u001b[0m \t⏳ Elapsed Time: 1.02s | ETA: 0.00s\n",
      "\u001b[36m(ClientAppActor pid=109967)\u001b[0m \t🕒 Completed At: 23:11\n",
      "\u001b[36m(ClientAppActor pid=109967)\u001b[0m \n",
      "\u001b[36m(ClientAppActor pid=109967)\u001b[0m [Client] Client on device: cuda:0\n",
      "\u001b[36m(ClientAppActor pid=109967)\u001b[0m [Client] CUDA available in client: True\n",
      "\u001b[36m(ClientAppActor pid=109967)\u001b[0m No prefix/name for the model was provided, choosen prefix/name: fluffy_pidgeotto_29\n",
      "\u001b[36m(ClientAppActor pid=109967)\u001b[0m \n",
      "\u001b[36m(ClientAppActor pid=109967)\u001b[0m Step 1/8 | Total batches: 7\n",
      "\u001b[36m(ClientAppActor pid=109967)\u001b[0m Step 2/8 | Total batches: 7\n",
      "\u001b[36m(ClientAppActor pid=109967)\u001b[0m Step 3/8 | Total batches: 7\n",
      "\u001b[36m(ClientAppActor pid=109967)\u001b[0m Step 4/8 | Total batches: 7\n",
      "\u001b[36m(ClientAppActor pid=109967)\u001b[0m Step 5/8 | Total batches: 7\n",
      "\u001b[36m(ClientAppActor pid=109967)\u001b[0m Step 6/8 | Total batches: 7\n",
      "\u001b[36m(ClientAppActor pid=109967)\u001b[0m Step 7/8 | Total batches: 7\n",
      "\u001b[36m(ClientAppActor pid=109967)\u001b[0m Step 8/8 | Total batches: 7\n",
      "\u001b[36m(ClientAppActor pid=109967)\u001b[0m 🚀 Epoch 1/1 (100.00%) Completed\n",
      "\u001b[36m(ClientAppActor pid=109967)\u001b[0m \t📊 Training Loss: 0.9920\n",
      "\u001b[36m(ClientAppActor pid=109967)\u001b[0m \t✅ Training Accuracy: 76.72%\n",
      "\u001b[36m(ClientAppActor pid=109967)\u001b[0m \t⏳ Elapsed Time: 1.02s | ETA: 0.00s\n",
      "\u001b[36m(ClientAppActor pid=109967)\u001b[0m \t🕒 Completed At: 23:11\n",
      "\u001b[36m(ClientAppActor pid=109967)\u001b[0m \n",
      "\u001b[36m(ClientAppActor pid=109967)\u001b[0m [Client] Client on device: cuda:0\n",
      "\u001b[36m(ClientAppActor pid=109967)\u001b[0m [Client] CUDA available in client: True\n",
      "\u001b[36m(ClientAppActor pid=109967)\u001b[0m No prefix/name for the model was provided, choosen prefix/name: nutty_clefairy_83\n",
      "\u001b[36m(ClientAppActor pid=109967)\u001b[0m \n",
      "\u001b[36m(ClientAppActor pid=109967)\u001b[0m Step 1/8 | Total batches: 7\n",
      "\u001b[36m(ClientAppActor pid=109967)\u001b[0m Step 2/8 | Total batches: 7\n",
      "\u001b[36m(ClientAppActor pid=109967)\u001b[0m Step 3/8 | Total batches: 7\n",
      "\u001b[36m(ClientAppActor pid=109967)\u001b[0m Step 4/8 | Total batches: 7\n",
      "\u001b[36m(ClientAppActor pid=109967)\u001b[0m Step 5/8 | Total batches: 7\n",
      "\u001b[36m(ClientAppActor pid=109967)\u001b[0m Step 6/8 | Total batches: 7\n",
      "\u001b[36m(ClientAppActor pid=109967)\u001b[0m Step 7/8 | Total batches: 7\n",
      "\u001b[36m(ClientAppActor pid=109967)\u001b[0m Step 8/8 | Total batches: 7\n",
      "\u001b[36m(ClientAppActor pid=109967)\u001b[0m 🚀 Epoch 1/1 (100.00%) Completed\n",
      "\u001b[36m(ClientAppActor pid=109967)\u001b[0m \t📊 Training Loss: 1.3473\n",
      "\u001b[36m(ClientAppActor pid=109967)\u001b[0m \t✅ Training Accuracy: 72.41%\n",
      "\u001b[36m(ClientAppActor pid=109967)\u001b[0m \t⏳ Elapsed Time: 1.01s | ETA: 0.00s\n",
      "\u001b[36m(ClientAppActor pid=109967)\u001b[0m \t🕒 Completed At: 23:11\n",
      "\u001b[36m(ClientAppActor pid=109967)\u001b[0m \n",
      "\u001b[36m(ClientAppActor pid=109967)\u001b[0m [Client] Client on device: cuda:0\n",
      "\u001b[36m(ClientAppActor pid=109967)\u001b[0m [Client] CUDA available in client: True\n",
      "\u001b[36m(ClientAppActor pid=109967)\u001b[0m No prefix/name for the model was provided, choosen prefix/name: sneezy_metapod_85\n",
      "\u001b[36m(ClientAppActor pid=109967)\u001b[0m \n",
      "\u001b[36m(ClientAppActor pid=109967)\u001b[0m Step 1/8 | Total batches: 7\n",
      "\u001b[36m(ClientAppActor pid=109967)\u001b[0m Step 2/8 | Total batches: 7\n",
      "\u001b[36m(ClientAppActor pid=109967)\u001b[0m Step 3/8 | Total batches: 7\n",
      "\u001b[36m(ClientAppActor pid=109967)\u001b[0m Step 4/8 | Total batches: 7\n",
      "\u001b[36m(ClientAppActor pid=109967)\u001b[0m Step 5/8 | Total batches: 7\n",
      "\u001b[36m(ClientAppActor pid=109967)\u001b[0m Step 6/8 | Total batches: 7\n",
      "\u001b[36m(ClientAppActor pid=109967)\u001b[0m Step 7/8 | Total batches: 7\n",
      "\u001b[36m(ClientAppActor pid=109967)\u001b[0m Step 8/8 | Total batches: 7\n",
      "\u001b[36m(ClientAppActor pid=109967)\u001b[0m 🚀 Epoch 1/1 (100.00%) Completed\n",
      "\u001b[36m(ClientAppActor pid=109967)\u001b[0m \t📊 Training Loss: 1.7453\n",
      "\u001b[36m(ClientAppActor pid=109967)\u001b[0m \t✅ Training Accuracy: 71.77%\n",
      "\u001b[36m(ClientAppActor pid=109967)\u001b[0m \t⏳ Elapsed Time: 1.02s | ETA: 0.00s\n",
      "\u001b[36m(ClientAppActor pid=109967)\u001b[0m \t🕒 Completed At: 23:11\n",
      "\u001b[36m(ClientAppActor pid=109967)\u001b[0m \n",
      "\u001b[36m(ClientAppActor pid=109967)\u001b[0m [Client] Client on device: cuda:0\n",
      "\u001b[36m(ClientAppActor pid=109967)\u001b[0m [Client] CUDA available in client: True\n",
      "\u001b[36m(ClientAppActor pid=109967)\u001b[0m No prefix/name for the model was provided, choosen prefix/name: jazzy_venusaur_52\n",
      "\u001b[36m(ClientAppActor pid=109967)\u001b[0m \n",
      "\u001b[36m(ClientAppActor pid=109967)\u001b[0m Step 1/8 | Total batches: 7\n",
      "\u001b[36m(ClientAppActor pid=109967)\u001b[0m Step 2/8 | Total batches: 7\n",
      "\u001b[36m(ClientAppActor pid=109967)\u001b[0m Step 3/8 | Total batches: 7\n",
      "\u001b[36m(ClientAppActor pid=109967)\u001b[0m Step 4/8 | Total batches: 7\n",
      "\u001b[36m(ClientAppActor pid=109967)\u001b[0m Step 5/8 | Total batches: 7\n",
      "\u001b[36m(ClientAppActor pid=109967)\u001b[0m Step 6/8 | Total batches: 7\n",
      "\u001b[36m(ClientAppActor pid=109967)\u001b[0m Step 7/8 | Total batches: 7\n",
      "\u001b[36m(ClientAppActor pid=109967)\u001b[0m Step 8/8 | Total batches: 7\n",
      "\u001b[36m(ClientAppActor pid=109967)\u001b[0m 🚀 Epoch 1/1 (100.00%) Completed\n",
      "\u001b[36m(ClientAppActor pid=109967)\u001b[0m \t📊 Training Loss: 0.9930\n",
      "\u001b[36m(ClientAppActor pid=109967)\u001b[0m \t✅ Training Accuracy: 75.65%\n",
      "\u001b[36m(ClientAppActor pid=109967)\u001b[0m \t⏳ Elapsed Time: 1.14s | ETA: 0.00s\n",
      "\u001b[36m(ClientAppActor pid=109967)\u001b[0m \t🕒 Completed At: 23:11\n",
      "\u001b[36m(ClientAppActor pid=109967)\u001b[0m \n",
      "\u001b[36m(ClientAppActor pid=109967)\u001b[0m [Client] Client on device: cuda:0\n",
      "\u001b[36m(ClientAppActor pid=109967)\u001b[0m [Client] CUDA available in client: True\n",
      "\u001b[36m(ClientAppActor pid=109967)\u001b[0m No prefix/name for the model was provided, choosen prefix/name: loopy_nidorina_41\n",
      "\u001b[36m(ClientAppActor pid=109967)\u001b[0m \n",
      "\u001b[36m(ClientAppActor pid=109967)\u001b[0m Step 1/8 | Total batches: 7\n",
      "\u001b[36m(ClientAppActor pid=109967)\u001b[0m Step 2/8 | Total batches: 7\n",
      "\u001b[36m(ClientAppActor pid=109967)\u001b[0m Step 3/8 | Total batches: 7\n",
      "\u001b[36m(ClientAppActor pid=109967)\u001b[0m Step 4/8 | Total batches: 7\n",
      "\u001b[36m(ClientAppActor pid=109967)\u001b[0m Step 5/8 | Total batches: 7\n",
      "\u001b[36m(ClientAppActor pid=109967)\u001b[0m Step 6/8 | Total batches: 7\n",
      "\u001b[36m(ClientAppActor pid=109967)\u001b[0m Step 7/8 | Total batches: 7\n",
      "\u001b[36m(ClientAppActor pid=109967)\u001b[0m Step 8/8 | Total batches: 7\n",
      "\u001b[36m(ClientAppActor pid=109967)\u001b[0m 🚀 Epoch 1/1 (100.00%) Completed\n",
      "\u001b[36m(ClientAppActor pid=109967)\u001b[0m \t📊 Training Loss: 1.0788\n",
      "\u001b[36m(ClientAppActor pid=109967)\u001b[0m \t✅ Training Accuracy: 74.57%\n",
      "\u001b[36m(ClientAppActor pid=109967)\u001b[0m \t⏳ Elapsed Time: 1.14s | ETA: 0.00s\n",
      "\u001b[36m(ClientAppActor pid=109967)\u001b[0m \t🕒 Completed At: 23:11\n",
      "\u001b[36m(ClientAppActor pid=109967)\u001b[0m \n"
     ]
    },
    {
     "name": "stderr",
     "output_type": "stream",
     "text": [
      "\u001b[92mINFO \u001b[0m:      aggregate_fit: received 10 results and 0 failures\n",
      "\u001b[92mINFO \u001b[0m:      [Round 5] Avg Drift: 0.0017 | Relative Drift: 0.0000\n",
      "\u001b[92mINFO \u001b[0m:      [Round 5] Saving aggregated model at epoch 5...\n"
     ]
    },
    {
     "name": "stdout",
     "output_type": "stream",
     "text": [
      "💾 Saved checkpoint at: /home/massimiliano/Projects/fl-g13/notebooks/../models/fl_dino_v4/non_iid/1_8/editing/fl_fl_baseline_BaseDino_epoch_5.pth\n",
      "[Server Eval Round 5] Model device: cuda:0\n",
      "[Server Eval Round 5] CUDA available in server eval: True\n"
     ]
    },
    {
     "name": "stderr",
     "output_type": "stream",
     "text": [
      "Eval progress: 100%|██████████| 313/313 [00:23<00:00, 13.42batch/s]\n",
      "\u001b[92mINFO \u001b[0m:      [Round 5] Centralized Evaluation - Loss: 5.5912, Metrics: {'centralized_accuracy': 0.0206}\n",
      "\u001b[92mINFO \u001b[0m:      fit progress: (5, 5.591164000879842, {'centralized_accuracy': 0.0206}, 135.78678555499937)\n",
      "\u001b[92mINFO \u001b[0m:      configure_evaluate: strategy sampled 10 clients (out of 100)\n"
     ]
    },
    {
     "name": "stdout",
     "output_type": "stream",
     "text": [
      "\u001b[36m(ClientAppActor pid=109967)\u001b[0m [Client] Client on device: cuda:0\n",
      "\u001b[36m(ClientAppActor pid=109967)\u001b[0m [Client] CUDA available in client: True\n"
     ]
    },
    {
     "name": "stderr",
     "output_type": "stream",
     "text": [
      "Eval progress:   0%|          | 0/2 [00:00<?, ?batch/s]\n",
      "Eval progress:  50%|█████     | 1/2 [00:00<00:00,  6.10batch/s]\n",
      "Eval progress: 100%|██████████| 2/2 [00:00<00:00,  7.84batch/s]\n"
     ]
    },
    {
     "name": "stdout",
     "output_type": "stream",
     "text": [
      "\u001b[36m(ClientAppActor pid=109967)\u001b[0m [Client] Client on device: cuda:0\n",
      "\u001b[36m(ClientAppActor pid=109967)\u001b[0m [Client] CUDA available in client: True\n"
     ]
    },
    {
     "name": "stderr",
     "output_type": "stream",
     "text": [
      "Eval progress:   0%|          | 0/2 [00:00<?, ?batch/s]\n",
      "Eval progress:  50%|█████     | 1/2 [00:00<00:00,  6.33batch/s]\n",
      "Eval progress: 100%|██████████| 2/2 [00:00<00:00,  8.08batch/s]\n"
     ]
    },
    {
     "name": "stdout",
     "output_type": "stream",
     "text": [
      "\u001b[36m(ClientAppActor pid=109967)\u001b[0m [Client] Client on device: cuda:0\n",
      "\u001b[36m(ClientAppActor pid=109967)\u001b[0m [Client] CUDA available in client: True\n"
     ]
    },
    {
     "name": "stderr",
     "output_type": "stream",
     "text": [
      "Eval progress:   0%|          | 0/2 [00:00<?, ?batch/s]\n",
      "Eval progress:  50%|█████     | 1/2 [00:00<00:00,  6.11batch/s]\n",
      "Eval progress: 100%|██████████| 2/2 [00:00<00:00,  7.83batch/s]\n"
     ]
    },
    {
     "name": "stdout",
     "output_type": "stream",
     "text": [
      "\u001b[36m(ClientAppActor pid=109967)\u001b[0m [Client] Client on device: cuda:0\n",
      "\u001b[36m(ClientAppActor pid=109967)\u001b[0m [Client] CUDA available in client: True\n"
     ]
    },
    {
     "name": "stderr",
     "output_type": "stream",
     "text": [
      "Eval progress:   0%|          | 0/2 [00:00<?, ?batch/s]\n",
      "Eval progress:  50%|█████     | 1/2 [00:00<00:00,  6.14batch/s]\n",
      "Eval progress: 100%|██████████| 2/2 [00:00<00:00,  7.95batch/s]\n"
     ]
    },
    {
     "name": "stdout",
     "output_type": "stream",
     "text": [
      "\u001b[36m(ClientAppActor pid=109967)\u001b[0m [Client] Client on device: cuda:0\n",
      "\u001b[36m(ClientAppActor pid=109967)\u001b[0m [Client] CUDA available in client: True\n"
     ]
    },
    {
     "name": "stderr",
     "output_type": "stream",
     "text": [
      "Eval progress:   0%|          | 0/2 [00:00<?, ?batch/s]\n",
      "Eval progress:  50%|█████     | 1/2 [00:00<00:00,  6.11batch/s]\n",
      "Eval progress: 100%|██████████| 2/2 [00:00<00:00,  7.99batch/s]\n"
     ]
    },
    {
     "name": "stdout",
     "output_type": "stream",
     "text": [
      "\u001b[36m(ClientAppActor pid=109967)\u001b[0m [Client] Client on device: cuda:0\n",
      "\u001b[36m(ClientAppActor pid=109967)\u001b[0m [Client] CUDA available in client: True\n"
     ]
    },
    {
     "name": "stderr",
     "output_type": "stream",
     "text": [
      "Eval progress:   0%|          | 0/2 [00:00<?, ?batch/s]\n",
      "Eval progress:  50%|█████     | 1/2 [00:00<00:00,  6.49batch/s]\n",
      "Eval progress: 100%|██████████| 2/2 [00:00<00:00,  8.53batch/s]\n"
     ]
    },
    {
     "name": "stdout",
     "output_type": "stream",
     "text": [
      "\u001b[36m(ClientAppActor pid=109967)\u001b[0m [Client] Client on device: cuda:0\n",
      "\u001b[36m(ClientAppActor pid=109967)\u001b[0m [Client] CUDA available in client: True\n"
     ]
    },
    {
     "name": "stderr",
     "output_type": "stream",
     "text": [
      "Eval progress:   0%|          | 0/2 [00:00<?, ?batch/s]\n",
      "Eval progress:  50%|█████     | 1/2 [00:00<00:00,  5.30batch/s]\n",
      "Eval progress: 100%|██████████| 2/2 [00:00<00:00,  7.21batch/s]\n"
     ]
    },
    {
     "name": "stdout",
     "output_type": "stream",
     "text": [
      "\u001b[36m(ClientAppActor pid=109967)\u001b[0m [Client] Client on device: cuda:0\n",
      "\u001b[36m(ClientAppActor pid=109967)\u001b[0m [Client] CUDA available in client: True\n"
     ]
    },
    {
     "name": "stderr",
     "output_type": "stream",
     "text": [
      "Eval progress:   0%|          | 0/2 [00:00<?, ?batch/s]\n",
      "Eval progress:  50%|█████     | 1/2 [00:00<00:00,  6.27batch/s]\n",
      "Eval progress: 100%|██████████| 2/2 [00:00<00:00,  7.91batch/s]\n"
     ]
    },
    {
     "name": "stdout",
     "output_type": "stream",
     "text": [
      "\u001b[36m(ClientAppActor pid=109967)\u001b[0m [Client] Client on device: cuda:0\n",
      "\u001b[36m(ClientAppActor pid=109967)\u001b[0m [Client] CUDA available in client: True\n"
     ]
    },
    {
     "name": "stderr",
     "output_type": "stream",
     "text": [
      "Eval progress:   0%|          | 0/2 [00:00<?, ?batch/s]\n",
      "Eval progress: 100%|██████████| 2/2 [00:00<00:00,  8.41batch/s]\n"
     ]
    },
    {
     "name": "stdout",
     "output_type": "stream",
     "text": [
      "\u001b[36m(ClientAppActor pid=109967)\u001b[0m [Client] Client on device: cuda:0\n",
      "\u001b[36m(ClientAppActor pid=109967)\u001b[0m [Client] CUDA available in client: True\n"
     ]
    },
    {
     "name": "stderr",
     "output_type": "stream",
     "text": [
      "Eval progress:   0%|          | 0/2 [00:00<?, ?batch/s]\n",
      "Eval progress:  50%|█████     | 1/2 [00:00<00:00,  6.14batch/s]\n",
      "Eval progress: 100%|██████████| 2/2 [00:00<00:00,  7.91batch/s]\n",
      "\u001b[92mINFO \u001b[0m:      aggregate_evaluate: received 10 results and 0 failures\n",
      "\u001b[92mINFO \u001b[0m:      \n",
      "\u001b[92mINFO \u001b[0m:      [ROUND 6]\n",
      "\u001b[92mINFO \u001b[0m:      configure_fit: strategy sampled 10 clients (out of 100)\n"
     ]
    },
    {
     "name": "stdout",
     "output_type": "stream",
     "text": [
      "\u001b[36m(ClientAppActor pid=109967)\u001b[0m [Client] Client on device: cuda:0\n",
      "\u001b[36m(ClientAppActor pid=109967)\u001b[0m [Client] CUDA available in client: True\n",
      "\u001b[36m(ClientAppActor pid=109967)\u001b[0m No prefix/name for the model was provided, choosen prefix/name: jumpy_bulbasaur_58\n",
      "\u001b[36m(ClientAppActor pid=109967)\u001b[0m \n",
      "\u001b[36m(ClientAppActor pid=109967)\u001b[0m Step 1/8 | Total batches: 7\n",
      "\u001b[36m(ClientAppActor pid=109967)\u001b[0m Step 2/8 | Total batches: 7\n",
      "\u001b[36m(ClientAppActor pid=109967)\u001b[0m Step 3/8 | Total batches: 7\n",
      "\u001b[36m(ClientAppActor pid=109967)\u001b[0m Step 4/8 | Total batches: 7\n",
      "\u001b[36m(ClientAppActor pid=109967)\u001b[0m Step 5/8 | Total batches: 7\n",
      "\u001b[36m(ClientAppActor pid=109967)\u001b[0m Step 6/8 | Total batches: 7\n",
      "\u001b[36m(ClientAppActor pid=109967)\u001b[0m Step 7/8 | Total batches: 7\n",
      "\u001b[36m(ClientAppActor pid=109967)\u001b[0m Step 8/8 | Total batches: 7\n",
      "\u001b[36m(ClientAppActor pid=109967)\u001b[0m 🚀 Epoch 1/1 (100.00%) Completed\n",
      "\u001b[36m(ClientAppActor pid=109967)\u001b[0m \t📊 Training Loss: 1.1781\n",
      "\u001b[36m(ClientAppActor pid=109967)\u001b[0m \t✅ Training Accuracy: 73.28%\n",
      "\u001b[36m(ClientAppActor pid=109967)\u001b[0m \t⏳ Elapsed Time: 1.21s | ETA: 0.00s\n",
      "\u001b[36m(ClientAppActor pid=109967)\u001b[0m \t🕒 Completed At: 23:12\n",
      "\u001b[36m(ClientAppActor pid=109967)\u001b[0m \n",
      "\u001b[36m(ClientAppActor pid=109967)\u001b[0m [Client] Client on device: cuda:0\n",
      "\u001b[36m(ClientAppActor pid=109967)\u001b[0m [Client] CUDA available in client: True\n",
      "\u001b[36m(ClientAppActor pid=109967)\u001b[0m No prefix/name for the model was provided, choosen prefix/name: cranky_fearow_80\n",
      "\u001b[36m(ClientAppActor pid=109967)\u001b[0m \n",
      "\u001b[36m(ClientAppActor pid=109967)\u001b[0m Step 1/8 | Total batches: 7\n",
      "\u001b[36m(ClientAppActor pid=109967)\u001b[0m Step 2/8 | Total batches: 7\n",
      "\u001b[36m(ClientAppActor pid=109967)\u001b[0m Step 3/8 | Total batches: 7\n",
      "\u001b[36m(ClientAppActor pid=109967)\u001b[0m Step 4/8 | Total batches: 7\n",
      "\u001b[36m(ClientAppActor pid=109967)\u001b[0m Step 5/8 | Total batches: 7\n",
      "\u001b[36m(ClientAppActor pid=109967)\u001b[0m Step 6/8 | Total batches: 7\n",
      "\u001b[36m(ClientAppActor pid=109967)\u001b[0m Step 7/8 | Total batches: 7\n",
      "\u001b[36m(ClientAppActor pid=109967)\u001b[0m Step 8/8 | Total batches: 7\n",
      "\u001b[36m(ClientAppActor pid=109967)\u001b[0m 🚀 Epoch 1/1 (100.00%) Completed\n",
      "\u001b[36m(ClientAppActor pid=109967)\u001b[0m \t📊 Training Loss: 1.3838\n",
      "\u001b[36m(ClientAppActor pid=109967)\u001b[0m \t✅ Training Accuracy: 72.20%\n",
      "\u001b[36m(ClientAppActor pid=109967)\u001b[0m \t⏳ Elapsed Time: 1.16s | ETA: 0.00s\n",
      "\u001b[36m(ClientAppActor pid=109967)\u001b[0m \t🕒 Completed At: 23:12\n",
      "\u001b[36m(ClientAppActor pid=109967)\u001b[0m \n",
      "\u001b[36m(ClientAppActor pid=109967)\u001b[0m [Client] Client on device: cuda:0\n",
      "\u001b[36m(ClientAppActor pid=109967)\u001b[0m [Client] CUDA available in client: True\n",
      "\u001b[36m(ClientAppActor pid=109967)\u001b[0m No prefix/name for the model was provided, choosen prefix/name: loopy_sandslash_81\n",
      "\u001b[36m(ClientAppActor pid=109967)\u001b[0m \n",
      "\u001b[36m(ClientAppActor pid=109967)\u001b[0m Step 1/8 | Total batches: 7\n",
      "\u001b[36m(ClientAppActor pid=109967)\u001b[0m Step 2/8 | Total batches: 7\n",
      "\u001b[36m(ClientAppActor pid=109967)\u001b[0m Step 3/8 | Total batches: 7\n",
      "\u001b[36m(ClientAppActor pid=109967)\u001b[0m Step 4/8 | Total batches: 7\n",
      "\u001b[36m(ClientAppActor pid=109967)\u001b[0m Step 5/8 | Total batches: 7\n",
      "\u001b[36m(ClientAppActor pid=109967)\u001b[0m Step 6/8 | Total batches: 7\n",
      "\u001b[36m(ClientAppActor pid=109967)\u001b[0m Step 7/8 | Total batches: 7\n",
      "\u001b[36m(ClientAppActor pid=109967)\u001b[0m Step 8/8 | Total batches: 7\n",
      "\u001b[36m(ClientAppActor pid=109967)\u001b[0m 🚀 Epoch 1/1 (100.00%) Completed\n",
      "\u001b[36m(ClientAppActor pid=109967)\u001b[0m \t📊 Training Loss: 1.6751\n",
      "\u001b[36m(ClientAppActor pid=109967)\u001b[0m \t✅ Training Accuracy: 72.20%\n",
      "\u001b[36m(ClientAppActor pid=109967)\u001b[0m \t⏳ Elapsed Time: 1.18s | ETA: 0.00s\n",
      "\u001b[36m(ClientAppActor pid=109967)\u001b[0m \t🕒 Completed At: 23:12\n",
      "\u001b[36m(ClientAppActor pid=109967)\u001b[0m \n",
      "\u001b[36m(ClientAppActor pid=109967)\u001b[0m [Client] Client on device: cuda:0\n",
      "\u001b[36m(ClientAppActor pid=109967)\u001b[0m [Client] CUDA available in client: True\n",
      "\u001b[36m(ClientAppActor pid=109967)\u001b[0m No prefix/name for the model was provided, choosen prefix/name: sassy_fearow_58\n",
      "\u001b[36m(ClientAppActor pid=109967)\u001b[0m \n",
      "\u001b[36m(ClientAppActor pid=109967)\u001b[0m Step 1/8 | Total batches: 7\n",
      "\u001b[36m(ClientAppActor pid=109967)\u001b[0m Step 2/8 | Total batches: 7\n",
      "\u001b[36m(ClientAppActor pid=109967)\u001b[0m Step 3/8 | Total batches: 7\n",
      "\u001b[36m(ClientAppActor pid=109967)\u001b[0m Step 4/8 | Total batches: 7\n",
      "\u001b[36m(ClientAppActor pid=109967)\u001b[0m Step 5/8 | Total batches: 7\n",
      "\u001b[36m(ClientAppActor pid=109967)\u001b[0m Step 6/8 | Total batches: 7\n",
      "\u001b[36m(ClientAppActor pid=109967)\u001b[0m Step 7/8 | Total batches: 7\n",
      "\u001b[36m(ClientAppActor pid=109967)\u001b[0m Step 8/8 | Total batches: 7\n",
      "\u001b[36m(ClientAppActor pid=109967)\u001b[0m 🚀 Epoch 1/1 (100.00%) Completed\n",
      "\u001b[36m(ClientAppActor pid=109967)\u001b[0m \t📊 Training Loss: 1.4738\n",
      "\u001b[36m(ClientAppActor pid=109967)\u001b[0m \t✅ Training Accuracy: 71.34%\n",
      "\u001b[36m(ClientAppActor pid=109967)\u001b[0m \t⏳ Elapsed Time: 1.18s | ETA: 0.00s\n",
      "\u001b[36m(ClientAppActor pid=109967)\u001b[0m \t🕒 Completed At: 23:12\n",
      "\u001b[36m(ClientAppActor pid=109967)\u001b[0m \n",
      "\u001b[36m(ClientAppActor pid=109967)\u001b[0m [Client] Client on device: cuda:0\n",
      "\u001b[36m(ClientAppActor pid=109967)\u001b[0m [Client] CUDA available in client: True\n",
      "\u001b[36m(ClientAppActor pid=109967)\u001b[0m No prefix/name for the model was provided, choosen prefix/name: silly_nidoking_96\n",
      "\u001b[36m(ClientAppActor pid=109967)\u001b[0m \n",
      "\u001b[36m(ClientAppActor pid=109967)\u001b[0m Step 1/8 | Total batches: 7\n",
      "\u001b[36m(ClientAppActor pid=109967)\u001b[0m Step 2/8 | Total batches: 7\n",
      "\u001b[36m(ClientAppActor pid=109967)\u001b[0m Step 3/8 | Total batches: 7\n",
      "\u001b[36m(ClientAppActor pid=109967)\u001b[0m Step 4/8 | Total batches: 7\n",
      "\u001b[36m(ClientAppActor pid=109967)\u001b[0m Step 5/8 | Total batches: 7\n",
      "\u001b[36m(ClientAppActor pid=109967)\u001b[0m Step 6/8 | Total batches: 7\n",
      "\u001b[36m(ClientAppActor pid=109967)\u001b[0m Step 7/8 | Total batches: 7\n",
      "\u001b[36m(ClientAppActor pid=109967)\u001b[0m Step 8/8 | Total batches: 7\n",
      "\u001b[36m(ClientAppActor pid=109967)\u001b[0m 🚀 Epoch 1/1 (100.00%) Completed\n",
      "\u001b[36m(ClientAppActor pid=109967)\u001b[0m \t📊 Training Loss: 1.1464\n",
      "\u001b[36m(ClientAppActor pid=109967)\u001b[0m \t✅ Training Accuracy: 75.00%\n",
      "\u001b[36m(ClientAppActor pid=109967)\u001b[0m \t⏳ Elapsed Time: 1.14s | ETA: 0.00s\n",
      "\u001b[36m(ClientAppActor pid=109967)\u001b[0m \t🕒 Completed At: 23:12\n",
      "\u001b[36m(ClientAppActor pid=109967)\u001b[0m \n",
      "\u001b[36m(ClientAppActor pid=109967)\u001b[0m [Client] Client on device: cuda:0\n",
      "\u001b[36m(ClientAppActor pid=109967)\u001b[0m [Client] CUDA available in client: True\n",
      "\u001b[36m(ClientAppActor pid=109967)\u001b[0m No prefix/name for the model was provided, choosen prefix/name: frosty_squirtle_48\n",
      "\u001b[36m(ClientAppActor pid=109967)\u001b[0m \n",
      "\u001b[36m(ClientAppActor pid=109967)\u001b[0m Step 1/8 | Total batches: 7\n",
      "\u001b[36m(ClientAppActor pid=109967)\u001b[0m Step 2/8 | Total batches: 7\n",
      "\u001b[36m(ClientAppActor pid=109967)\u001b[0m Step 3/8 | Total batches: 7\n",
      "\u001b[36m(ClientAppActor pid=109967)\u001b[0m Step 4/8 | Total batches: 7\n",
      "\u001b[36m(ClientAppActor pid=109967)\u001b[0m Step 5/8 | Total batches: 7\n",
      "\u001b[36m(ClientAppActor pid=109967)\u001b[0m Step 6/8 | Total batches: 7\n",
      "\u001b[36m(ClientAppActor pid=109967)\u001b[0m Step 7/8 | Total batches: 7\n",
      "\u001b[36m(ClientAppActor pid=109967)\u001b[0m Step 8/8 | Total batches: 7\n",
      "\u001b[36m(ClientAppActor pid=109967)\u001b[0m 🚀 Epoch 1/1 (100.00%) Completed\n",
      "\u001b[36m(ClientAppActor pid=109967)\u001b[0m \t📊 Training Loss: 1.3010\n",
      "\u001b[36m(ClientAppActor pid=109967)\u001b[0m \t✅ Training Accuracy: 73.49%\n",
      "\u001b[36m(ClientAppActor pid=109967)\u001b[0m \t⏳ Elapsed Time: 1.14s | ETA: 0.00s\n",
      "\u001b[36m(ClientAppActor pid=109967)\u001b[0m \t🕒 Completed At: 23:12\n",
      "\u001b[36m(ClientAppActor pid=109967)\u001b[0m \n",
      "\u001b[36m(ClientAppActor pid=109967)\u001b[0m [Client] Client on device: cuda:0\n",
      "\u001b[36m(ClientAppActor pid=109967)\u001b[0m [Client] CUDA available in client: True\n",
      "\u001b[36m(ClientAppActor pid=109967)\u001b[0m No prefix/name for the model was provided, choosen prefix/name: funky_bulbasaur_63\n",
      "\u001b[36m(ClientAppActor pid=109967)\u001b[0m \n",
      "\u001b[36m(ClientAppActor pid=109967)\u001b[0m Step 1/8 | Total batches: 7\n",
      "\u001b[36m(ClientAppActor pid=109967)\u001b[0m Step 2/8 | Total batches: 7\n",
      "\u001b[36m(ClientAppActor pid=109967)\u001b[0m Step 3/8 | Total batches: 7\n",
      "\u001b[36m(ClientAppActor pid=109967)\u001b[0m Step 4/8 | Total batches: 7\n",
      "\u001b[36m(ClientAppActor pid=109967)\u001b[0m Step 5/8 | Total batches: 7\n",
      "\u001b[36m(ClientAppActor pid=109967)\u001b[0m Step 6/8 | Total batches: 7\n",
      "\u001b[36m(ClientAppActor pid=109967)\u001b[0m Step 7/8 | Total batches: 7\n",
      "\u001b[36m(ClientAppActor pid=109967)\u001b[0m Step 8/8 | Total batches: 7\n",
      "\u001b[36m(ClientAppActor pid=109967)\u001b[0m 🚀 Epoch 1/1 (100.00%) Completed\n",
      "\u001b[36m(ClientAppActor pid=109967)\u001b[0m \t📊 Training Loss: 1.3012\n",
      "\u001b[36m(ClientAppActor pid=109967)\u001b[0m \t✅ Training Accuracy: 72.84%\n",
      "\u001b[36m(ClientAppActor pid=109967)\u001b[0m \t⏳ Elapsed Time: 1.14s | ETA: 0.00s\n",
      "\u001b[36m(ClientAppActor pid=109967)\u001b[0m \t🕒 Completed At: 23:12\n",
      "\u001b[36m(ClientAppActor pid=109967)\u001b[0m \n",
      "\u001b[36m(ClientAppActor pid=109967)\u001b[0m [Client] Client on device: cuda:0\n",
      "\u001b[36m(ClientAppActor pid=109967)\u001b[0m [Client] CUDA available in client: True\n",
      "\u001b[36m(ClientAppActor pid=109967)\u001b[0m No prefix/name for the model was provided, choosen prefix/name: soggy_venusaur_30\n",
      "\u001b[36m(ClientAppActor pid=109967)\u001b[0m \n",
      "\u001b[36m(ClientAppActor pid=109967)\u001b[0m Step 1/8 | Total batches: 7\n",
      "\u001b[36m(ClientAppActor pid=109967)\u001b[0m Step 2/8 | Total batches: 7\n",
      "\u001b[36m(ClientAppActor pid=109967)\u001b[0m Step 3/8 | Total batches: 7\n",
      "\u001b[36m(ClientAppActor pid=109967)\u001b[0m Step 4/8 | Total batches: 7\n",
      "\u001b[36m(ClientAppActor pid=109967)\u001b[0m Step 5/8 | Total batches: 7\n",
      "\u001b[36m(ClientAppActor pid=109967)\u001b[0m Step 6/8 | Total batches: 7\n",
      "\u001b[36m(ClientAppActor pid=109967)\u001b[0m Step 7/8 | Total batches: 7\n",
      "\u001b[36m(ClientAppActor pid=109967)\u001b[0m Step 8/8 | Total batches: 7\n",
      "\u001b[36m(ClientAppActor pid=109967)\u001b[0m 🚀 Epoch 1/1 (100.00%) Completed\n",
      "\u001b[36m(ClientAppActor pid=109967)\u001b[0m \t📊 Training Loss: 0.9625\n",
      "\u001b[36m(ClientAppActor pid=109967)\u001b[0m \t✅ Training Accuracy: 77.80%\n",
      "\u001b[36m(ClientAppActor pid=109967)\u001b[0m \t⏳ Elapsed Time: 1.10s | ETA: 0.00s\n",
      "\u001b[36m(ClientAppActor pid=109967)\u001b[0m \t🕒 Completed At: 23:12\n",
      "\u001b[36m(ClientAppActor pid=109967)\u001b[0m \n",
      "\u001b[36m(ClientAppActor pid=109967)\u001b[0m [Client] Client on device: cuda:0\n",
      "\u001b[36m(ClientAppActor pid=109967)\u001b[0m [Client] CUDA available in client: True\n",
      "\u001b[36m(ClientAppActor pid=109967)\u001b[0m No prefix/name for the model was provided, choosen prefix/name: snazzy_charmander_24\n",
      "\u001b[36m(ClientAppActor pid=109967)\u001b[0m \n",
      "\u001b[36m(ClientAppActor pid=109967)\u001b[0m Step 1/8 | Total batches: 7\n",
      "\u001b[36m(ClientAppActor pid=109967)\u001b[0m Step 2/8 | Total batches: 7\n",
      "\u001b[36m(ClientAppActor pid=109967)\u001b[0m Step 3/8 | Total batches: 7\n",
      "\u001b[36m(ClientAppActor pid=109967)\u001b[0m Step 4/8 | Total batches: 7\n",
      "\u001b[36m(ClientAppActor pid=109967)\u001b[0m Step 5/8 | Total batches: 7\n",
      "\u001b[36m(ClientAppActor pid=109967)\u001b[0m Step 6/8 | Total batches: 7\n",
      "\u001b[36m(ClientAppActor pid=109967)\u001b[0m Step 7/8 | Total batches: 7\n",
      "\u001b[36m(ClientAppActor pid=109967)\u001b[0m Step 8/8 | Total batches: 7\n",
      "\u001b[36m(ClientAppActor pid=109967)\u001b[0m 🚀 Epoch 1/1 (100.00%) Completed\n",
      "\u001b[36m(ClientAppActor pid=109967)\u001b[0m \t📊 Training Loss: 0.5850\n",
      "\u001b[36m(ClientAppActor pid=109967)\u001b[0m \t✅ Training Accuracy: 84.70%\n",
      "\u001b[36m(ClientAppActor pid=109967)\u001b[0m \t⏳ Elapsed Time: 1.08s | ETA: 0.00s\n",
      "\u001b[36m(ClientAppActor pid=109967)\u001b[0m \t🕒 Completed At: 23:12\n",
      "\u001b[36m(ClientAppActor pid=109967)\u001b[0m \n",
      "\u001b[36m(ClientAppActor pid=109967)\u001b[0m [Client] Client on device: cuda:0\n",
      "\u001b[36m(ClientAppActor pid=109967)\u001b[0m [Client] CUDA available in client: True\n",
      "\u001b[36m(ClientAppActor pid=109967)\u001b[0m No prefix/name for the model was provided, choosen prefix/name: plucky_nidoqueen_10\n",
      "\u001b[36m(ClientAppActor pid=109967)\u001b[0m \n",
      "\u001b[36m(ClientAppActor pid=109967)\u001b[0m Step 1/8 | Total batches: 7\n",
      "\u001b[36m(ClientAppActor pid=109967)\u001b[0m Step 2/8 | Total batches: 7\n",
      "\u001b[36m(ClientAppActor pid=109967)\u001b[0m Step 3/8 | Total batches: 7\n",
      "\u001b[36m(ClientAppActor pid=109967)\u001b[0m Step 4/8 | Total batches: 7\n",
      "\u001b[36m(ClientAppActor pid=109967)\u001b[0m Step 5/8 | Total batches: 7\n",
      "\u001b[36m(ClientAppActor pid=109967)\u001b[0m Step 6/8 | Total batches: 7\n",
      "\u001b[36m(ClientAppActor pid=109967)\u001b[0m Step 7/8 | Total batches: 7\n",
      "\u001b[36m(ClientAppActor pid=109967)\u001b[0m Step 8/8 | Total batches: 7\n"
     ]
    },
    {
     "name": "stderr",
     "output_type": "stream",
     "text": [
      "\u001b[92mINFO \u001b[0m:      aggregate_fit: received 10 results and 0 failures\n"
     ]
    },
    {
     "name": "stdout",
     "output_type": "stream",
     "text": [
      "\u001b[36m(ClientAppActor pid=109967)\u001b[0m 🚀 Epoch 1/1 (100.00%) Completed\n",
      "\u001b[36m(ClientAppActor pid=109967)\u001b[0m \t📊 Training Loss: 0.5291\n",
      "\u001b[36m(ClientAppActor pid=109967)\u001b[0m \t✅ Training Accuracy: 86.85%\n",
      "\u001b[36m(ClientAppActor pid=109967)\u001b[0m \t⏳ Elapsed Time: 1.18s | ETA: 0.00s\n",
      "\u001b[36m(ClientAppActor pid=109967)\u001b[0m \t🕒 Completed At: 23:12\n",
      "\u001b[36m(ClientAppActor pid=109967)\u001b[0m \n"
     ]
    },
    {
     "name": "stderr",
     "output_type": "stream",
     "text": [
      "\u001b[92mINFO \u001b[0m:      [Round 6] Avg Drift: 0.0015 | Relative Drift: 0.0000\n",
      "\u001b[92mINFO \u001b[0m:      fit progress: (6, {}, {}, 158.9726698759987)\n",
      "\u001b[92mINFO \u001b[0m:      configure_evaluate: strategy sampled 10 clients (out of 100)\n"
     ]
    },
    {
     "name": "stdout",
     "output_type": "stream",
     "text": [
      "\u001b[36m(ClientAppActor pid=109967)\u001b[0m [Client] Client on device: cuda:0\n",
      "\u001b[36m(ClientAppActor pid=109967)\u001b[0m [Client] CUDA available in client: True\n"
     ]
    },
    {
     "name": "stderr",
     "output_type": "stream",
     "text": [
      "Eval progress:   0%|          | 0/2 [00:00<?, ?batch/s]\n",
      "Eval progress:  50%|█████     | 1/2 [00:00<00:00,  6.78batch/s]\n",
      "Eval progress: 100%|██████████| 2/2 [00:00<00:00,  8.84batch/s]\n"
     ]
    },
    {
     "name": "stdout",
     "output_type": "stream",
     "text": [
      "\u001b[36m(ClientAppActor pid=109967)\u001b[0m [Client] Client on device: cuda:0\n",
      "\u001b[36m(ClientAppActor pid=109967)\u001b[0m [Client] CUDA available in client: True\n"
     ]
    },
    {
     "name": "stderr",
     "output_type": "stream",
     "text": [
      "Eval progress:   0%|          | 0/2 [00:00<?, ?batch/s]\n",
      "Eval progress:  50%|█████     | 1/2 [00:00<00:00,  6.74batch/s]\n",
      "Eval progress: 100%|██████████| 2/2 [00:00<00:00,  8.66batch/s]\n"
     ]
    },
    {
     "name": "stdout",
     "output_type": "stream",
     "text": [
      "\u001b[36m(ClientAppActor pid=109967)\u001b[0m [Client] Client on device: cuda:0\n",
      "\u001b[36m(ClientAppActor pid=109967)\u001b[0m [Client] CUDA available in client: True\n"
     ]
    },
    {
     "name": "stderr",
     "output_type": "stream",
     "text": [
      "Eval progress:   0%|          | 0/2 [00:00<?, ?batch/s]\n",
      "Eval progress: 100%|██████████| 2/2 [00:00<00:00,  8.85batch/s]\n"
     ]
    },
    {
     "name": "stdout",
     "output_type": "stream",
     "text": [
      "\u001b[36m(ClientAppActor pid=109967)\u001b[0m [Client] Client on device: cuda:0\n",
      "\u001b[36m(ClientAppActor pid=109967)\u001b[0m [Client] CUDA available in client: True\n"
     ]
    },
    {
     "name": "stderr",
     "output_type": "stream",
     "text": [
      "Eval progress:   0%|          | 0/2 [00:00<?, ?batch/s]\n",
      "Eval progress:  50%|█████     | 1/2 [00:00<00:00,  6.67batch/s]\n",
      "Eval progress: 100%|██████████| 2/2 [00:00<00:00,  8.69batch/s]\n"
     ]
    },
    {
     "name": "stdout",
     "output_type": "stream",
     "text": [
      "\u001b[36m(ClientAppActor pid=109967)\u001b[0m [Client] Client on device: cuda:0\n",
      "\u001b[36m(ClientAppActor pid=109967)\u001b[0m [Client] CUDA available in client: True\n"
     ]
    },
    {
     "name": "stderr",
     "output_type": "stream",
     "text": [
      "Eval progress:   0%|          | 0/2 [00:00<?, ?batch/s]\n",
      "Eval progress: 100%|██████████| 2/2 [00:00<00:00,  8.86batch/s]\n"
     ]
    },
    {
     "name": "stdout",
     "output_type": "stream",
     "text": [
      "\u001b[36m(ClientAppActor pid=109967)\u001b[0m [Client] Client on device: cuda:0\n",
      "\u001b[36m(ClientAppActor pid=109967)\u001b[0m [Client] CUDA available in client: True\n"
     ]
    },
    {
     "name": "stderr",
     "output_type": "stream",
     "text": [
      "Eval progress:   0%|          | 0/2 [00:00<?, ?batch/s]\n",
      "Eval progress:  50%|█████     | 1/2 [00:00<00:00,  6.66batch/s]\n",
      "Eval progress: 100%|██████████| 2/2 [00:00<00:00,  8.70batch/s]\n"
     ]
    },
    {
     "name": "stdout",
     "output_type": "stream",
     "text": [
      "\u001b[36m(ClientAppActor pid=109967)\u001b[0m [Client] Client on device: cuda:0\n",
      "\u001b[36m(ClientAppActor pid=109967)\u001b[0m [Client] CUDA available in client: True\n"
     ]
    },
    {
     "name": "stderr",
     "output_type": "stream",
     "text": [
      "Eval progress:   0%|          | 0/2 [00:00<?, ?batch/s]\n",
      "Eval progress:  50%|█████     | 1/2 [00:00<00:00,  6.15batch/s]\n",
      "Eval progress: 100%|██████████| 2/2 [00:00<00:00,  8.19batch/s]\n"
     ]
    },
    {
     "name": "stdout",
     "output_type": "stream",
     "text": [
      "\u001b[36m(ClientAppActor pid=109967)\u001b[0m [Client] Client on device: cuda:0\n",
      "\u001b[36m(ClientAppActor pid=109967)\u001b[0m [Client] CUDA available in client: True\n"
     ]
    },
    {
     "name": "stderr",
     "output_type": "stream",
     "text": [
      "Eval progress:   0%|          | 0/2 [00:00<?, ?batch/s]\n",
      "Eval progress:  50%|█████     | 1/2 [00:00<00:00,  6.76batch/s]\n",
      "Eval progress: 100%|██████████| 2/2 [00:00<00:00,  8.68batch/s]\n"
     ]
    },
    {
     "name": "stdout",
     "output_type": "stream",
     "text": [
      "\u001b[36m(ClientAppActor pid=109967)\u001b[0m [Client] Client on device: cuda:0\n",
      "\u001b[36m(ClientAppActor pid=109967)\u001b[0m [Client] CUDA available in client: True\n"
     ]
    },
    {
     "name": "stderr",
     "output_type": "stream",
     "text": [
      "Eval progress:   0%|          | 0/2 [00:00<?, ?batch/s]\n",
      "Eval progress:  50%|█████     | 1/2 [00:00<00:00,  6.82batch/s]\n",
      "Eval progress: 100%|██████████| 2/2 [00:00<00:00,  8.79batch/s]\n"
     ]
    },
    {
     "name": "stdout",
     "output_type": "stream",
     "text": [
      "\u001b[36m(ClientAppActor pid=109967)\u001b[0m [Client] Client on device: cuda:0\n",
      "\u001b[36m(ClientAppActor pid=109967)\u001b[0m [Client] CUDA available in client: True\n"
     ]
    },
    {
     "name": "stderr",
     "output_type": "stream",
     "text": [
      "Eval progress:   0%|          | 0/2 [00:00<?, ?batch/s]\n",
      "Eval progress:  50%|█████     | 1/2 [00:00<00:00,  6.82batch/s]\n",
      "Eval progress: 100%|██████████| 2/2 [00:00<00:00,  8.75batch/s]\n",
      "\u001b[92mINFO \u001b[0m:      aggregate_evaluate: received 10 results and 0 failures\n",
      "\u001b[92mINFO \u001b[0m:      \n",
      "\u001b[92mINFO \u001b[0m:      [ROUND 7]\n",
      "\u001b[92mINFO \u001b[0m:      configure_fit: strategy sampled 10 clients (out of 100)\n"
     ]
    },
    {
     "name": "stdout",
     "output_type": "stream",
     "text": [
      "\u001b[36m(ClientAppActor pid=109967)\u001b[0m [Client] Client on device: cuda:0\n",
      "\u001b[36m(ClientAppActor pid=109967)\u001b[0m [Client] CUDA available in client: True\n",
      "\u001b[36m(ClientAppActor pid=109967)\u001b[0m No prefix/name for the model was provided, choosen prefix/name: jolly_nidoking_68\n",
      "\u001b[36m(ClientAppActor pid=109967)\u001b[0m \n",
      "\u001b[36m(ClientAppActor pid=109967)\u001b[0m Step 1/8 | Total batches: 7\n",
      "\u001b[36m(ClientAppActor pid=109967)\u001b[0m Step 2/8 | Total batches: 7\n",
      "\u001b[36m(ClientAppActor pid=109967)\u001b[0m Step 3/8 | Total batches: 7\n",
      "\u001b[36m(ClientAppActor pid=109967)\u001b[0m Step 4/8 | Total batches: 7\n",
      "\u001b[36m(ClientAppActor pid=109967)\u001b[0m Step 5/8 | Total batches: 7\n",
      "\u001b[36m(ClientAppActor pid=109967)\u001b[0m Step 6/8 | Total batches: 7\n",
      "\u001b[36m(ClientAppActor pid=109967)\u001b[0m Step 7/8 | Total batches: 7\n",
      "\u001b[36m(ClientAppActor pid=109967)\u001b[0m Step 8/8 | Total batches: 7\n",
      "\u001b[36m(ClientAppActor pid=109967)\u001b[0m 🚀 Epoch 1/1 (100.00%) Completed\n",
      "\u001b[36m(ClientAppActor pid=109967)\u001b[0m \t📊 Training Loss: 0.7963\n",
      "\u001b[36m(ClientAppActor pid=109967)\u001b[0m \t✅ Training Accuracy: 80.82%\n",
      "\u001b[36m(ClientAppActor pid=109967)\u001b[0m \t⏳ Elapsed Time: 1.09s | ETA: 0.00s\n",
      "\u001b[36m(ClientAppActor pid=109967)\u001b[0m \t🕒 Completed At: 23:12\n",
      "\u001b[36m(ClientAppActor pid=109967)\u001b[0m \n",
      "\u001b[36m(ClientAppActor pid=109967)\u001b[0m [Client] Client on device: cuda:0\n",
      "\u001b[36m(ClientAppActor pid=109967)\u001b[0m [Client] CUDA available in client: True\n",
      "\u001b[36m(ClientAppActor pid=109967)\u001b[0m No prefix/name for the model was provided, choosen prefix/name: jumpy_ekans_60\n",
      "\u001b[36m(ClientAppActor pid=109967)\u001b[0m \n",
      "\u001b[36m(ClientAppActor pid=109967)\u001b[0m Step 1/8 | Total batches: 7\n",
      "\u001b[36m(ClientAppActor pid=109967)\u001b[0m Step 2/8 | Total batches: 7\n",
      "\u001b[36m(ClientAppActor pid=109967)\u001b[0m Step 3/8 | Total batches: 7\n",
      "\u001b[36m(ClientAppActor pid=109967)\u001b[0m Step 4/8 | Total batches: 7\n",
      "\u001b[36m(ClientAppActor pid=109967)\u001b[0m Step 5/8 | Total batches: 7\n",
      "\u001b[36m(ClientAppActor pid=109967)\u001b[0m Step 6/8 | Total batches: 7\n",
      "\u001b[36m(ClientAppActor pid=109967)\u001b[0m Step 7/8 | Total batches: 7\n",
      "\u001b[36m(ClientAppActor pid=109967)\u001b[0m Step 8/8 | Total batches: 7\n",
      "\u001b[36m(ClientAppActor pid=109967)\u001b[0m 🚀 Epoch 1/1 (100.00%) Completed\n",
      "\u001b[36m(ClientAppActor pid=109967)\u001b[0m \t📊 Training Loss: 1.1707\n",
      "\u001b[36m(ClientAppActor pid=109967)\u001b[0m \t✅ Training Accuracy: 73.92%\n",
      "\u001b[36m(ClientAppActor pid=109967)\u001b[0m \t⏳ Elapsed Time: 1.20s | ETA: 0.00s\n",
      "\u001b[36m(ClientAppActor pid=109967)\u001b[0m \t🕒 Completed At: 23:12\n",
      "\u001b[36m(ClientAppActor pid=109967)\u001b[0m \n",
      "\u001b[36m(ClientAppActor pid=109967)\u001b[0m [Client] Client on device: cuda:0\n",
      "\u001b[36m(ClientAppActor pid=109967)\u001b[0m [Client] CUDA available in client: True\n",
      "\u001b[36m(ClientAppActor pid=109967)\u001b[0m No prefix/name for the model was provided, choosen prefix/name: breezy_squirtle_16\n",
      "\u001b[36m(ClientAppActor pid=109967)\u001b[0m \n",
      "\u001b[36m(ClientAppActor pid=109967)\u001b[0m Step 1/8 | Total batches: 7\n",
      "\u001b[36m(ClientAppActor pid=109967)\u001b[0m Step 2/8 | Total batches: 7\n",
      "\u001b[36m(ClientAppActor pid=109967)\u001b[0m Step 3/8 | Total batches: 7\n",
      "\u001b[36m(ClientAppActor pid=109967)\u001b[0m Step 4/8 | Total batches: 7\n",
      "\u001b[36m(ClientAppActor pid=109967)\u001b[0m Step 5/8 | Total batches: 7\n",
      "\u001b[36m(ClientAppActor pid=109967)\u001b[0m Step 6/8 | Total batches: 7\n",
      "\u001b[36m(ClientAppActor pid=109967)\u001b[0m Step 7/8 | Total batches: 7\n",
      "\u001b[36m(ClientAppActor pid=109967)\u001b[0m Step 8/8 | Total batches: 7\n",
      "\u001b[36m(ClientAppActor pid=109967)\u001b[0m 🚀 Epoch 1/1 (100.00%) Completed\n",
      "\u001b[36m(ClientAppActor pid=109967)\u001b[0m \t📊 Training Loss: 1.0732\n",
      "\u001b[36m(ClientAppActor pid=109967)\u001b[0m \t✅ Training Accuracy: 75.22%\n",
      "\u001b[36m(ClientAppActor pid=109967)\u001b[0m \t⏳ Elapsed Time: 1.21s | ETA: 0.00s\n",
      "\u001b[36m(ClientAppActor pid=109967)\u001b[0m \t🕒 Completed At: 23:12\n",
      "\u001b[36m(ClientAppActor pid=109967)\u001b[0m \n",
      "\u001b[36m(ClientAppActor pid=109967)\u001b[0m [Client] Client on device: cuda:0\n",
      "\u001b[36m(ClientAppActor pid=109967)\u001b[0m [Client] CUDA available in client: True\n",
      "\u001b[36m(ClientAppActor pid=109967)\u001b[0m No prefix/name for the model was provided, choosen prefix/name: wacky_kakuna_91\n",
      "\u001b[36m(ClientAppActor pid=109967)\u001b[0m \n",
      "\u001b[36m(ClientAppActor pid=109967)\u001b[0m Step 1/8 | Total batches: 7\n",
      "\u001b[36m(ClientAppActor pid=109967)\u001b[0m Step 2/8 | Total batches: 7\n",
      "\u001b[36m(ClientAppActor pid=109967)\u001b[0m Step 3/8 | Total batches: 7\n",
      "\u001b[36m(ClientAppActor pid=109967)\u001b[0m Step 4/8 | Total batches: 7\n",
      "\u001b[36m(ClientAppActor pid=109967)\u001b[0m Step 5/8 | Total batches: 7\n",
      "\u001b[36m(ClientAppActor pid=109967)\u001b[0m Step 6/8 | Total batches: 7\n",
      "\u001b[36m(ClientAppActor pid=109967)\u001b[0m Step 7/8 | Total batches: 7\n",
      "\u001b[36m(ClientAppActor pid=109967)\u001b[0m Step 8/8 | Total batches: 7\n",
      "\u001b[36m(ClientAppActor pid=109967)\u001b[0m 🚀 Epoch 1/1 (100.00%) Completed\n",
      "\u001b[36m(ClientAppActor pid=109967)\u001b[0m \t📊 Training Loss: 0.8876\n",
      "\u001b[36m(ClientAppActor pid=109967)\u001b[0m \t✅ Training Accuracy: 78.02%\n",
      "\u001b[36m(ClientAppActor pid=109967)\u001b[0m \t⏳ Elapsed Time: 1.08s | ETA: 0.00s\n",
      "\u001b[36m(ClientAppActor pid=109967)\u001b[0m \t🕒 Completed At: 23:12\n",
      "\u001b[36m(ClientAppActor pid=109967)\u001b[0m \n",
      "\u001b[36m(ClientAppActor pid=109967)\u001b[0m [Client] Client on device: cuda:0\n",
      "\u001b[36m(ClientAppActor pid=109967)\u001b[0m [Client] CUDA available in client: True\n",
      "\u001b[36m(ClientAppActor pid=109967)\u001b[0m No prefix/name for the model was provided, choosen prefix/name: jolly_nidoran_30\n",
      "\u001b[36m(ClientAppActor pid=109967)\u001b[0m \n",
      "\u001b[36m(ClientAppActor pid=109967)\u001b[0m Step 1/8 | Total batches: 7\n",
      "\u001b[36m(ClientAppActor pid=109967)\u001b[0m Step 2/8 | Total batches: 7\n",
      "\u001b[36m(ClientAppActor pid=109967)\u001b[0m Step 3/8 | Total batches: 7\n",
      "\u001b[36m(ClientAppActor pid=109967)\u001b[0m Step 4/8 | Total batches: 7\n",
      "\u001b[36m(ClientAppActor pid=109967)\u001b[0m Step 5/8 | Total batches: 7\n",
      "\u001b[36m(ClientAppActor pid=109967)\u001b[0m Step 6/8 | Total batches: 7\n",
      "\u001b[36m(ClientAppActor pid=109967)\u001b[0m Step 7/8 | Total batches: 7\n",
      "\u001b[36m(ClientAppActor pid=109967)\u001b[0m Step 8/8 | Total batches: 7\n",
      "\u001b[36m(ClientAppActor pid=109967)\u001b[0m 🚀 Epoch 1/1 (100.00%) Completed\n",
      "\u001b[36m(ClientAppActor pid=109967)\u001b[0m \t📊 Training Loss: 1.2223\n",
      "\u001b[36m(ClientAppActor pid=109967)\u001b[0m \t✅ Training Accuracy: 73.92%\n",
      "\u001b[36m(ClientAppActor pid=109967)\u001b[0m \t⏳ Elapsed Time: 1.08s | ETA: 0.00s\n",
      "\u001b[36m(ClientAppActor pid=109967)\u001b[0m \t🕒 Completed At: 23:12\n",
      "\u001b[36m(ClientAppActor pid=109967)\u001b[0m \n",
      "\u001b[36m(ClientAppActor pid=109967)\u001b[0m [Client] Client on device: cuda:0\n",
      "\u001b[36m(ClientAppActor pid=109967)\u001b[0m [Client] CUDA available in client: True\n",
      "\u001b[36m(ClientAppActor pid=109967)\u001b[0m No prefix/name for the model was provided, choosen prefix/name: peppy_clefairy_74\n",
      "\u001b[36m(ClientAppActor pid=109967)\u001b[0m \n",
      "\u001b[36m(ClientAppActor pid=109967)\u001b[0m Step 1/8 | Total batches: 7\n",
      "\u001b[36m(ClientAppActor pid=109967)\u001b[0m Step 2/8 | Total batches: 7\n",
      "\u001b[36m(ClientAppActor pid=109967)\u001b[0m Step 3/8 | Total batches: 7\n",
      "\u001b[36m(ClientAppActor pid=109967)\u001b[0m Step 4/8 | Total batches: 7\n",
      "\u001b[36m(ClientAppActor pid=109967)\u001b[0m Step 5/8 | Total batches: 7\n",
      "\u001b[36m(ClientAppActor pid=109967)\u001b[0m Step 6/8 | Total batches: 7\n",
      "\u001b[36m(ClientAppActor pid=109967)\u001b[0m Step 7/8 | Total batches: 7\n",
      "\u001b[36m(ClientAppActor pid=109967)\u001b[0m Step 8/8 | Total batches: 7\n",
      "\u001b[36m(ClientAppActor pid=109967)\u001b[0m 🚀 Epoch 1/1 (100.00%) Completed\n",
      "\u001b[36m(ClientAppActor pid=109967)\u001b[0m \t📊 Training Loss: 1.2064\n",
      "\u001b[36m(ClientAppActor pid=109967)\u001b[0m \t✅ Training Accuracy: 73.92%\n",
      "\u001b[36m(ClientAppActor pid=109967)\u001b[0m \t⏳ Elapsed Time: 1.07s | ETA: 0.00s\n",
      "\u001b[36m(ClientAppActor pid=109967)\u001b[0m \t🕒 Completed At: 23:12\n",
      "\u001b[36m(ClientAppActor pid=109967)\u001b[0m \n",
      "\u001b[36m(ClientAppActor pid=109967)\u001b[0m [Client] Client on device: cuda:0\n",
      "\u001b[36m(ClientAppActor pid=109967)\u001b[0m [Client] CUDA available in client: True\n",
      "\u001b[36m(ClientAppActor pid=109967)\u001b[0m No prefix/name for the model was provided, choosen prefix/name: chirpy_nidoking_82\n",
      "\u001b[36m(ClientAppActor pid=109967)\u001b[0m \n",
      "\u001b[36m(ClientAppActor pid=109967)\u001b[0m Step 1/8 | Total batches: 7\n",
      "\u001b[36m(ClientAppActor pid=109967)\u001b[0m Step 2/8 | Total batches: 7\n",
      "\u001b[36m(ClientAppActor pid=109967)\u001b[0m Step 3/8 | Total batches: 7\n",
      "\u001b[36m(ClientAppActor pid=109967)\u001b[0m Step 4/8 | Total batches: 7\n",
      "\u001b[36m(ClientAppActor pid=109967)\u001b[0m Step 5/8 | Total batches: 7\n",
      "\u001b[36m(ClientAppActor pid=109967)\u001b[0m Step 6/8 | Total batches: 7\n",
      "\u001b[36m(ClientAppActor pid=109967)\u001b[0m Step 7/8 | Total batches: 7\n",
      "\u001b[36m(ClientAppActor pid=109967)\u001b[0m Step 8/8 | Total batches: 7\n",
      "\u001b[36m(ClientAppActor pid=109967)\u001b[0m 🚀 Epoch 1/1 (100.00%) Completed\n",
      "\u001b[36m(ClientAppActor pid=109967)\u001b[0m \t📊 Training Loss: 0.7225\n",
      "\u001b[36m(ClientAppActor pid=109967)\u001b[0m \t✅ Training Accuracy: 81.68%\n",
      "\u001b[36m(ClientAppActor pid=109967)\u001b[0m \t⏳ Elapsed Time: 1.08s | ETA: 0.00s\n",
      "\u001b[36m(ClientAppActor pid=109967)\u001b[0m \t🕒 Completed At: 23:12\n",
      "\u001b[36m(ClientAppActor pid=109967)\u001b[0m \n",
      "\u001b[36m(ClientAppActor pid=109967)\u001b[0m [Client] Client on device: cuda:0\n",
      "\u001b[36m(ClientAppActor pid=109967)\u001b[0m [Client] CUDA available in client: True\n",
      "\u001b[36m(ClientAppActor pid=109967)\u001b[0m No prefix/name for the model was provided, choosen prefix/name: loopy_venusaur_29\n",
      "\u001b[36m(ClientAppActor pid=109967)\u001b[0m \n",
      "\u001b[36m(ClientAppActor pid=109967)\u001b[0m Step 1/8 | Total batches: 7\n",
      "\u001b[36m(ClientAppActor pid=109967)\u001b[0m Step 2/8 | Total batches: 7\n",
      "\u001b[36m(ClientAppActor pid=109967)\u001b[0m Step 3/8 | Total batches: 7\n",
      "\u001b[36m(ClientAppActor pid=109967)\u001b[0m Step 4/8 | Total batches: 7\n",
      "\u001b[36m(ClientAppActor pid=109967)\u001b[0m Step 5/8 | Total batches: 7\n",
      "\u001b[36m(ClientAppActor pid=109967)\u001b[0m Step 6/8 | Total batches: 7\n",
      "\u001b[36m(ClientAppActor pid=109967)\u001b[0m Step 7/8 | Total batches: 7\n",
      "\u001b[36m(ClientAppActor pid=109967)\u001b[0m Step 8/8 | Total batches: 7\n",
      "\u001b[36m(ClientAppActor pid=109967)\u001b[0m 🚀 Epoch 1/1 (100.00%) Completed\n",
      "\u001b[36m(ClientAppActor pid=109967)\u001b[0m \t📊 Training Loss: 0.8063\n",
      "\u001b[36m(ClientAppActor pid=109967)\u001b[0m \t✅ Training Accuracy: 81.03%\n",
      "\u001b[36m(ClientAppActor pid=109967)\u001b[0m \t⏳ Elapsed Time: 1.11s | ETA: 0.00s\n",
      "\u001b[36m(ClientAppActor pid=109967)\u001b[0m \t🕒 Completed At: 23:12\n",
      "\u001b[36m(ClientAppActor pid=109967)\u001b[0m \n",
      "\u001b[36m(ClientAppActor pid=109967)\u001b[0m [Client] Client on device: cuda:0\n",
      "\u001b[36m(ClientAppActor pid=109967)\u001b[0m [Client] CUDA available in client: True\n",
      "\u001b[36m(ClientAppActor pid=109967)\u001b[0m No prefix/name for the model was provided, choosen prefix/name: jumpy_pikachu_44\n",
      "\u001b[36m(ClientAppActor pid=109967)\u001b[0m \n",
      "\u001b[36m(ClientAppActor pid=109967)\u001b[0m Step 1/8 | Total batches: 7\n",
      "\u001b[36m(ClientAppActor pid=109967)\u001b[0m Step 2/8 | Total batches: 7\n",
      "\u001b[36m(ClientAppActor pid=109967)\u001b[0m Step 3/8 | Total batches: 7\n",
      "\u001b[36m(ClientAppActor pid=109967)\u001b[0m Step 4/8 | Total batches: 7\n",
      "\u001b[36m(ClientAppActor pid=109967)\u001b[0m Step 5/8 | Total batches: 7\n",
      "\u001b[36m(ClientAppActor pid=109967)\u001b[0m Step 6/8 | Total batches: 7\n",
      "\u001b[36m(ClientAppActor pid=109967)\u001b[0m Step 7/8 | Total batches: 7\n",
      "\u001b[36m(ClientAppActor pid=109967)\u001b[0m Step 8/8 | Total batches: 7\n",
      "\u001b[36m(ClientAppActor pid=109967)\u001b[0m 🚀 Epoch 1/1 (100.00%) Completed\n",
      "\u001b[36m(ClientAppActor pid=109967)\u001b[0m \t📊 Training Loss: 1.5443\n",
      "\u001b[36m(ClientAppActor pid=109967)\u001b[0m \t✅ Training Accuracy: 72.63%\n",
      "\u001b[36m(ClientAppActor pid=109967)\u001b[0m \t⏳ Elapsed Time: 1.18s | ETA: 0.00s\n",
      "\u001b[36m(ClientAppActor pid=109967)\u001b[0m \t🕒 Completed At: 23:12\n",
      "\u001b[36m(ClientAppActor pid=109967)\u001b[0m \n",
      "\u001b[36m(ClientAppActor pid=109967)\u001b[0m [Client] Client on device: cuda:0\n",
      "\u001b[36m(ClientAppActor pid=109967)\u001b[0m [Client] CUDA available in client: True\n",
      "\u001b[36m(ClientAppActor pid=109967)\u001b[0m No prefix/name for the model was provided, choosen prefix/name: snazzy_squirtle_54\n",
      "\u001b[36m(ClientAppActor pid=109967)\u001b[0m \n",
      "\u001b[36m(ClientAppActor pid=109967)\u001b[0m Step 1/8 | Total batches: 7\n",
      "\u001b[36m(ClientAppActor pid=109967)\u001b[0m Step 2/8 | Total batches: 7\n",
      "\u001b[36m(ClientAppActor pid=109967)\u001b[0m Step 3/8 | Total batches: 7\n",
      "\u001b[36m(ClientAppActor pid=109967)\u001b[0m Step 4/8 | Total batches: 7\n",
      "\u001b[36m(ClientAppActor pid=109967)\u001b[0m Step 5/8 | Total batches: 7\n",
      "\u001b[36m(ClientAppActor pid=109967)\u001b[0m Step 6/8 | Total batches: 7\n",
      "\u001b[36m(ClientAppActor pid=109967)\u001b[0m Step 7/8 | Total batches: 7\n",
      "\u001b[36m(ClientAppActor pid=109967)\u001b[0m Step 8/8 | Total batches: 7\n"
     ]
    },
    {
     "name": "stderr",
     "output_type": "stream",
     "text": [
      "\u001b[92mINFO \u001b[0m:      aggregate_fit: received 10 results and 0 failures\n"
     ]
    },
    {
     "name": "stdout",
     "output_type": "stream",
     "text": [
      "\u001b[36m(ClientAppActor pid=109967)\u001b[0m 🚀 Epoch 1/1 (100.00%) Completed\n",
      "\u001b[36m(ClientAppActor pid=109967)\u001b[0m \t📊 Training Loss: 1.9403\n",
      "\u001b[36m(ClientAppActor pid=109967)\u001b[0m \t✅ Training Accuracy: 71.12%\n",
      "\u001b[36m(ClientAppActor pid=109967)\u001b[0m \t⏳ Elapsed Time: 1.18s | ETA: 0.00s\n",
      "\u001b[36m(ClientAppActor pid=109967)\u001b[0m \t🕒 Completed At: 23:12\n",
      "\u001b[36m(ClientAppActor pid=109967)\u001b[0m \n"
     ]
    },
    {
     "name": "stderr",
     "output_type": "stream",
     "text": [
      "\u001b[92mINFO \u001b[0m:      [Round 7] Avg Drift: 0.0015 | Relative Drift: 0.0000\n",
      "\u001b[92mINFO \u001b[0m:      fit progress: (7, {}, {}, 181.06454338099866)\n",
      "\u001b[92mINFO \u001b[0m:      configure_evaluate: strategy sampled 10 clients (out of 100)\n"
     ]
    },
    {
     "name": "stdout",
     "output_type": "stream",
     "text": [
      "\u001b[36m(ClientAppActor pid=109967)\u001b[0m [Client] Client on device: cuda:0\n",
      "\u001b[36m(ClientAppActor pid=109967)\u001b[0m [Client] CUDA available in client: True\n"
     ]
    },
    {
     "name": "stderr",
     "output_type": "stream",
     "text": [
      "Eval progress:   0%|          | 0/2 [00:00<?, ?batch/s]\n",
      "Eval progress:  50%|█████     | 1/2 [00:00<00:00,  6.20batch/s]\n",
      "Eval progress: 100%|██████████| 2/2 [00:00<00:00,  7.97batch/s]\n"
     ]
    },
    {
     "name": "stdout",
     "output_type": "stream",
     "text": [
      "\u001b[36m(ClientAppActor pid=109967)\u001b[0m [Client] Client on device: cuda:0\n",
      "\u001b[36m(ClientAppActor pid=109967)\u001b[0m [Client] CUDA available in client: True\n"
     ]
    },
    {
     "name": "stderr",
     "output_type": "stream",
     "text": [
      "Eval progress:   0%|          | 0/2 [00:00<?, ?batch/s]\n",
      "Eval progress: 100%|██████████| 2/2 [00:00<00:00,  8.52batch/s]\n"
     ]
    },
    {
     "name": "stdout",
     "output_type": "stream",
     "text": [
      "\u001b[36m(ClientAppActor pid=109967)\u001b[0m [Client] Client on device: cuda:0\n",
      "\u001b[36m(ClientAppActor pid=109967)\u001b[0m [Client] CUDA available in client: True\n"
     ]
    },
    {
     "name": "stderr",
     "output_type": "stream",
     "text": [
      "Eval progress:   0%|          | 0/2 [00:00<?, ?batch/s]\n",
      "Eval progress:  50%|█████     | 1/2 [00:00<00:00,  6.30batch/s]\n",
      "Eval progress: 100%|██████████| 2/2 [00:00<00:00,  8.20batch/s]\n"
     ]
    },
    {
     "name": "stdout",
     "output_type": "stream",
     "text": [
      "\u001b[36m(ClientAppActor pid=109967)\u001b[0m [Client] Client on device: cuda:0\n",
      "\u001b[36m(ClientAppActor pid=109967)\u001b[0m [Client] CUDA available in client: True\n"
     ]
    },
    {
     "name": "stderr",
     "output_type": "stream",
     "text": [
      "Eval progress:   0%|          | 0/2 [00:00<?, ?batch/s]\n",
      "Eval progress:  50%|█████     | 1/2 [00:00<00:00,  6.85batch/s]\n",
      "Eval progress: 100%|██████████| 2/2 [00:00<00:00,  8.83batch/s]\n"
     ]
    },
    {
     "name": "stdout",
     "output_type": "stream",
     "text": [
      "\u001b[36m(ClientAppActor pid=109967)\u001b[0m [Client] Client on device: cuda:0\n",
      "\u001b[36m(ClientAppActor pid=109967)\u001b[0m [Client] CUDA available in client: True\n"
     ]
    },
    {
     "name": "stderr",
     "output_type": "stream",
     "text": [
      "Eval progress:   0%|          | 0/2 [00:00<?, ?batch/s]\n",
      "Eval progress:  50%|█████     | 1/2 [00:00<00:00,  6.22batch/s]\n",
      "Eval progress: 100%|██████████| 2/2 [00:00<00:00,  8.03batch/s]\n"
     ]
    },
    {
     "name": "stdout",
     "output_type": "stream",
     "text": [
      "\u001b[36m(ClientAppActor pid=109967)\u001b[0m [Client] Client on device: cuda:0\n",
      "\u001b[36m(ClientAppActor pid=109967)\u001b[0m [Client] CUDA available in client: True\n"
     ]
    },
    {
     "name": "stderr",
     "output_type": "stream",
     "text": [
      "Eval progress:   0%|          | 0/2 [00:00<?, ?batch/s]\n",
      "Eval progress:  50%|█████     | 1/2 [00:00<00:00,  6.75batch/s]\n",
      "Eval progress: 100%|██████████| 2/2 [00:00<00:00,  8.43batch/s]\n"
     ]
    },
    {
     "name": "stdout",
     "output_type": "stream",
     "text": [
      "\u001b[36m(ClientAppActor pid=109967)\u001b[0m [Client] Client on device: cuda:0\n",
      "\u001b[36m(ClientAppActor pid=109967)\u001b[0m [Client] CUDA available in client: True\n"
     ]
    },
    {
     "name": "stderr",
     "output_type": "stream",
     "text": [
      "Eval progress:   0%|          | 0/2 [00:00<?, ?batch/s]\n",
      "Eval progress: 100%|██████████| 2/2 [00:00<00:00,  8.90batch/s]\n"
     ]
    },
    {
     "name": "stdout",
     "output_type": "stream",
     "text": [
      "\u001b[36m(ClientAppActor pid=109967)\u001b[0m [Client] Client on device: cuda:0\n",
      "\u001b[36m(ClientAppActor pid=109967)\u001b[0m [Client] CUDA available in client: True\n"
     ]
    },
    {
     "name": "stderr",
     "output_type": "stream",
     "text": [
      "Eval progress:   0%|          | 0/2 [00:00<?, ?batch/s]\n",
      "Eval progress: 100%|██████████| 2/2 [00:00<00:00,  8.95batch/s]\n"
     ]
    },
    {
     "name": "stdout",
     "output_type": "stream",
     "text": [
      "\u001b[36m(ClientAppActor pid=109967)\u001b[0m [Client] Client on device: cuda:0\n",
      "\u001b[36m(ClientAppActor pid=109967)\u001b[0m [Client] CUDA available in client: True\n"
     ]
    },
    {
     "name": "stderr",
     "output_type": "stream",
     "text": [
      "Eval progress:   0%|          | 0/2 [00:00<?, ?batch/s]\n",
      "Eval progress: 100%|██████████| 2/2 [00:00<00:00,  8.99batch/s]\n"
     ]
    },
    {
     "name": "stdout",
     "output_type": "stream",
     "text": [
      "\u001b[36m(ClientAppActor pid=109967)\u001b[0m [Client] Client on device: cuda:0\n",
      "\u001b[36m(ClientAppActor pid=109967)\u001b[0m [Client] CUDA available in client: True\n"
     ]
    },
    {
     "name": "stderr",
     "output_type": "stream",
     "text": [
      "Eval progress:   0%|          | 0/2 [00:00<?, ?batch/s]\n",
      "Eval progress:  50%|█████     | 1/2 [00:00<00:00,  6.22batch/s]\n",
      "\u001b[92mINFO \u001b[0m:      aggregate_evaluate: received 10 results and 0 failures\n",
      "\u001b[92mINFO \u001b[0m:      \n",
      "\u001b[92mINFO \u001b[0m:      [ROUND 8]\n",
      "\u001b[92mINFO \u001b[0m:      configure_fit: strategy sampled 10 clients (out of 100)\n",
      "Eval progress: 100%|██████████| 2/2 [00:00<00:00,  8.04batch/s]\n"
     ]
    },
    {
     "name": "stdout",
     "output_type": "stream",
     "text": [
      "\u001b[36m(ClientAppActor pid=109967)\u001b[0m [Client] Client on device: cuda:0\n",
      "\u001b[36m(ClientAppActor pid=109967)\u001b[0m [Client] CUDA available in client: True\n",
      "\u001b[36m(ClientAppActor pid=109967)\u001b[0m No prefix/name for the model was provided, choosen prefix/name: zippy_nidoqueen_49\n",
      "\u001b[36m(ClientAppActor pid=109967)\u001b[0m \n",
      "\u001b[36m(ClientAppActor pid=109967)\u001b[0m Step 1/8 | Total batches: 7\n",
      "\u001b[36m(ClientAppActor pid=109967)\u001b[0m Step 2/8 | Total batches: 7\n",
      "\u001b[36m(ClientAppActor pid=109967)\u001b[0m Step 3/8 | Total batches: 7\n",
      "\u001b[36m(ClientAppActor pid=109967)\u001b[0m Step 4/8 | Total batches: 7\n",
      "\u001b[36m(ClientAppActor pid=109967)\u001b[0m Step 5/8 | Total batches: 7\n",
      "\u001b[36m(ClientAppActor pid=109967)\u001b[0m Step 6/8 | Total batches: 7\n",
      "\u001b[36m(ClientAppActor pid=109967)\u001b[0m Step 7/8 | Total batches: 7\n",
      "\u001b[36m(ClientAppActor pid=109967)\u001b[0m Step 8/8 | Total batches: 7\n",
      "\u001b[36m(ClientAppActor pid=109967)\u001b[0m 🚀 Epoch 1/1 (100.00%) Completed\n",
      "\u001b[36m(ClientAppActor pid=109967)\u001b[0m \t📊 Training Loss: 0.9681\n",
      "\u001b[36m(ClientAppActor pid=109967)\u001b[0m \t✅ Training Accuracy: 78.02%\n",
      "\u001b[36m(ClientAppActor pid=109967)\u001b[0m \t⏳ Elapsed Time: 1.21s | ETA: 0.00s\n",
      "\u001b[36m(ClientAppActor pid=109967)\u001b[0m \t🕒 Completed At: 23:13\n",
      "\u001b[36m(ClientAppActor pid=109967)\u001b[0m \n",
      "\u001b[36m(ClientAppActor pid=109967)\u001b[0m [Client] Client on device: cuda:0\n",
      "\u001b[36m(ClientAppActor pid=109967)\u001b[0m [Client] CUDA available in client: True\n",
      "\u001b[36m(ClientAppActor pid=109967)\u001b[0m No prefix/name for the model was provided, choosen prefix/name: mushy_clefairy_13\n",
      "\u001b[36m(ClientAppActor pid=109967)\u001b[0m \n",
      "\u001b[36m(ClientAppActor pid=109967)\u001b[0m Step 1/8 | Total batches: 7\n",
      "\u001b[36m(ClientAppActor pid=109967)\u001b[0m Step 2/8 | Total batches: 7\n",
      "\u001b[36m(ClientAppActor pid=109967)\u001b[0m Step 3/8 | Total batches: 7\n",
      "\u001b[36m(ClientAppActor pid=109967)\u001b[0m Step 4/8 | Total batches: 7\n",
      "\u001b[36m(ClientAppActor pid=109967)\u001b[0m Step 5/8 | Total batches: 7\n",
      "\u001b[36m(ClientAppActor pid=109967)\u001b[0m Step 6/8 | Total batches: 7\n",
      "\u001b[36m(ClientAppActor pid=109967)\u001b[0m Step 7/8 | Total batches: 7\n",
      "\u001b[36m(ClientAppActor pid=109967)\u001b[0m Step 8/8 | Total batches: 7\n",
      "\u001b[36m(ClientAppActor pid=109967)\u001b[0m 🚀 Epoch 1/1 (100.00%) Completed\n",
      "\u001b[36m(ClientAppActor pid=109967)\u001b[0m \t📊 Training Loss: 0.4189\n",
      "\u001b[36m(ClientAppActor pid=109967)\u001b[0m \t✅ Training Accuracy: 90.30%\n",
      "\u001b[36m(ClientAppActor pid=109967)\u001b[0m \t⏳ Elapsed Time: 1.17s | ETA: 0.00s\n",
      "\u001b[36m(ClientAppActor pid=109967)\u001b[0m \t🕒 Completed At: 23:13\n",
      "\u001b[36m(ClientAppActor pid=109967)\u001b[0m \n",
      "\u001b[36m(ClientAppActor pid=109967)\u001b[0m [Client] Client on device: cuda:0\n",
      "\u001b[36m(ClientAppActor pid=109967)\u001b[0m [Client] CUDA available in client: True\n",
      "\u001b[36m(ClientAppActor pid=109967)\u001b[0m No prefix/name for the model was provided, choosen prefix/name: peppy_spearow_51\n",
      "\u001b[36m(ClientAppActor pid=109967)\u001b[0m \n",
      "\u001b[36m(ClientAppActor pid=109967)\u001b[0m Step 1/8 | Total batches: 7\n",
      "\u001b[36m(ClientAppActor pid=109967)\u001b[0m Step 2/8 | Total batches: 7\n",
      "\u001b[36m(ClientAppActor pid=109967)\u001b[0m Step 3/8 | Total batches: 7\n",
      "\u001b[36m(ClientAppActor pid=109967)\u001b[0m Step 4/8 | Total batches: 7\n",
      "\u001b[36m(ClientAppActor pid=109967)\u001b[0m Step 5/8 | Total batches: 7\n",
      "\u001b[36m(ClientAppActor pid=109967)\u001b[0m Step 6/8 | Total batches: 7\n",
      "\u001b[36m(ClientAppActor pid=109967)\u001b[0m Step 7/8 | Total batches: 7\n",
      "\u001b[36m(ClientAppActor pid=109967)\u001b[0m Step 8/8 | Total batches: 7\n",
      "\u001b[36m(ClientAppActor pid=109967)\u001b[0m 🚀 Epoch 1/1 (100.00%) Completed\n",
      "\u001b[36m(ClientAppActor pid=109967)\u001b[0m \t📊 Training Loss: 1.0682\n",
      "\u001b[36m(ClientAppActor pid=109967)\u001b[0m \t✅ Training Accuracy: 73.92%\n",
      "\u001b[36m(ClientAppActor pid=109967)\u001b[0m \t⏳ Elapsed Time: 1.12s | ETA: 0.00s\n",
      "\u001b[36m(ClientAppActor pid=109967)\u001b[0m \t🕒 Completed At: 23:13\n",
      "\u001b[36m(ClientAppActor pid=109967)\u001b[0m \n",
      "\u001b[36m(ClientAppActor pid=109967)\u001b[0m [Client] Client on device: cuda:0\n",
      "\u001b[36m(ClientAppActor pid=109967)\u001b[0m [Client] CUDA available in client: True\n",
      "\u001b[36m(ClientAppActor pid=109967)\u001b[0m No prefix/name for the model was provided, choosen prefix/name: jumpy_nidorina_26\n",
      "\u001b[36m(ClientAppActor pid=109967)\u001b[0m \n",
      "\u001b[36m(ClientAppActor pid=109967)\u001b[0m Step 1/8 | Total batches: 7\n",
      "\u001b[36m(ClientAppActor pid=109967)\u001b[0m Step 2/8 | Total batches: 7\n",
      "\u001b[36m(ClientAppActor pid=109967)\u001b[0m Step 3/8 | Total batches: 7\n",
      "\u001b[36m(ClientAppActor pid=109967)\u001b[0m Step 4/8 | Total batches: 7\n",
      "\u001b[36m(ClientAppActor pid=109967)\u001b[0m Step 5/8 | Total batches: 7\n",
      "\u001b[36m(ClientAppActor pid=109967)\u001b[0m Step 6/8 | Total batches: 7\n",
      "\u001b[36m(ClientAppActor pid=109967)\u001b[0m Step 7/8 | Total batches: 7\n",
      "\u001b[36m(ClientAppActor pid=109967)\u001b[0m Step 8/8 | Total batches: 7\n",
      "\u001b[36m(ClientAppActor pid=109967)\u001b[0m 🚀 Epoch 1/1 (100.00%) Completed\n",
      "\u001b[36m(ClientAppActor pid=109967)\u001b[0m \t📊 Training Loss: 0.8252\n",
      "\u001b[36m(ClientAppActor pid=109967)\u001b[0m \t✅ Training Accuracy: 79.96%\n",
      "\u001b[36m(ClientAppActor pid=109967)\u001b[0m \t⏳ Elapsed Time: 1.12s | ETA: 0.00s\n",
      "\u001b[36m(ClientAppActor pid=109967)\u001b[0m \t🕒 Completed At: 23:13\n",
      "\u001b[36m(ClientAppActor pid=109967)\u001b[0m \n",
      "\u001b[36m(ClientAppActor pid=109967)\u001b[0m [Client] Client on device: cuda:0\n",
      "\u001b[36m(ClientAppActor pid=109967)\u001b[0m [Client] CUDA available in client: True\n",
      "\u001b[36m(ClientAppActor pid=109967)\u001b[0m No prefix/name for the model was provided, choosen prefix/name: sleepy_raichu_76\n",
      "\u001b[36m(ClientAppActor pid=109967)\u001b[0m \n",
      "\u001b[36m(ClientAppActor pid=109967)\u001b[0m Step 1/8 | Total batches: 7\n",
      "\u001b[36m(ClientAppActor pid=109967)\u001b[0m Step 2/8 | Total batches: 7\n",
      "\u001b[36m(ClientAppActor pid=109967)\u001b[0m Step 3/8 | Total batches: 7\n",
      "\u001b[36m(ClientAppActor pid=109967)\u001b[0m Step 4/8 | Total batches: 7\n",
      "\u001b[36m(ClientAppActor pid=109967)\u001b[0m Step 5/8 | Total batches: 7\n",
      "\u001b[36m(ClientAppActor pid=109967)\u001b[0m Step 6/8 | Total batches: 7\n",
      "\u001b[36m(ClientAppActor pid=109967)\u001b[0m Step 7/8 | Total batches: 7\n",
      "\u001b[36m(ClientAppActor pid=109967)\u001b[0m Step 8/8 | Total batches: 7\n",
      "\u001b[36m(ClientAppActor pid=109967)\u001b[0m 🚀 Epoch 1/1 (100.00%) Completed\n",
      "\u001b[36m(ClientAppActor pid=109967)\u001b[0m \t📊 Training Loss: 0.4925\n",
      "\u001b[36m(ClientAppActor pid=109967)\u001b[0m \t✅ Training Accuracy: 89.01%\n",
      "\u001b[36m(ClientAppActor pid=109967)\u001b[0m \t⏳ Elapsed Time: 1.07s | ETA: 0.00s\n",
      "\u001b[36m(ClientAppActor pid=109967)\u001b[0m \t🕒 Completed At: 23:13\n",
      "\u001b[36m(ClientAppActor pid=109967)\u001b[0m \n",
      "\u001b[36m(ClientAppActor pid=109967)\u001b[0m [Client] Client on device: cuda:0\n",
      "\u001b[36m(ClientAppActor pid=109967)\u001b[0m [Client] CUDA available in client: True\n",
      "\u001b[36m(ClientAppActor pid=109967)\u001b[0m No prefix/name for the model was provided, choosen prefix/name: sneezy_venusaur_52\n",
      "\u001b[36m(ClientAppActor pid=109967)\u001b[0m \n",
      "\u001b[36m(ClientAppActor pid=109967)\u001b[0m Step 1/8 | Total batches: 7\n",
      "\u001b[36m(ClientAppActor pid=109967)\u001b[0m Step 2/8 | Total batches: 7\n",
      "\u001b[36m(ClientAppActor pid=109967)\u001b[0m Step 3/8 | Total batches: 7\n",
      "\u001b[36m(ClientAppActor pid=109967)\u001b[0m Step 4/8 | Total batches: 7\n",
      "\u001b[36m(ClientAppActor pid=109967)\u001b[0m Step 5/8 | Total batches: 7\n",
      "\u001b[36m(ClientAppActor pid=109967)\u001b[0m Step 6/8 | Total batches: 7\n",
      "\u001b[36m(ClientAppActor pid=109967)\u001b[0m Step 7/8 | Total batches: 7\n",
      "\u001b[36m(ClientAppActor pid=109967)\u001b[0m Step 8/8 | Total batches: 7\n",
      "\u001b[36m(ClientAppActor pid=109967)\u001b[0m 🚀 Epoch 1/1 (100.00%) Completed\n",
      "\u001b[36m(ClientAppActor pid=109967)\u001b[0m \t📊 Training Loss: 0.4809\n",
      "\u001b[36m(ClientAppActor pid=109967)\u001b[0m \t✅ Training Accuracy: 88.79%\n",
      "\u001b[36m(ClientAppActor pid=109967)\u001b[0m \t⏳ Elapsed Time: 1.12s | ETA: 0.00s\n",
      "\u001b[36m(ClientAppActor pid=109967)\u001b[0m \t🕒 Completed At: 23:13\n",
      "\u001b[36m(ClientAppActor pid=109967)\u001b[0m \n",
      "\u001b[36m(ClientAppActor pid=109967)\u001b[0m [Client] Client on device: cuda:0\n",
      "\u001b[36m(ClientAppActor pid=109967)\u001b[0m [Client] CUDA available in client: True\n",
      "\u001b[36m(ClientAppActor pid=109967)\u001b[0m No prefix/name for the model was provided, choosen prefix/name: plucky_squirtle_74\n",
      "\u001b[36m(ClientAppActor pid=109967)\u001b[0m \n",
      "\u001b[36m(ClientAppActor pid=109967)\u001b[0m Step 1/8 | Total batches: 7\n",
      "\u001b[36m(ClientAppActor pid=109967)\u001b[0m Step 2/8 | Total batches: 7\n",
      "\u001b[36m(ClientAppActor pid=109967)\u001b[0m Step 3/8 | Total batches: 7\n",
      "\u001b[36m(ClientAppActor pid=109967)\u001b[0m Step 4/8 | Total batches: 7\n",
      "\u001b[36m(ClientAppActor pid=109967)\u001b[0m Step 5/8 | Total batches: 7\n",
      "\u001b[36m(ClientAppActor pid=109967)\u001b[0m Step 6/8 | Total batches: 7\n",
      "\u001b[36m(ClientAppActor pid=109967)\u001b[0m Step 7/8 | Total batches: 7\n",
      "\u001b[36m(ClientAppActor pid=109967)\u001b[0m Step 8/8 | Total batches: 7\n",
      "\u001b[36m(ClientAppActor pid=109967)\u001b[0m 🚀 Epoch 1/1 (100.00%) Completed\n",
      "\u001b[36m(ClientAppActor pid=109967)\u001b[0m \t📊 Training Loss: 1.3840\n",
      "\u001b[36m(ClientAppActor pid=109967)\u001b[0m \t✅ Training Accuracy: 73.06%\n",
      "\u001b[36m(ClientAppActor pid=109967)\u001b[0m \t⏳ Elapsed Time: 1.18s | ETA: 0.00s\n",
      "\u001b[36m(ClientAppActor pid=109967)\u001b[0m \t🕒 Completed At: 23:13\n",
      "\u001b[36m(ClientAppActor pid=109967)\u001b[0m \n",
      "\u001b[36m(ClientAppActor pid=109967)\u001b[0m [Client] Client on device: cuda:0\n",
      "\u001b[36m(ClientAppActor pid=109967)\u001b[0m [Client] CUDA available in client: True\n",
      "\u001b[36m(ClientAppActor pid=109967)\u001b[0m No prefix/name for the model was provided, choosen prefix/name: snazzy_metapod_21\n",
      "\u001b[36m(ClientAppActor pid=109967)\u001b[0m \n",
      "\u001b[36m(ClientAppActor pid=109967)\u001b[0m Step 1/8 | Total batches: 7\n",
      "\u001b[36m(ClientAppActor pid=109967)\u001b[0m Step 2/8 | Total batches: 7\n",
      "\u001b[36m(ClientAppActor pid=109967)\u001b[0m Step 3/8 | Total batches: 7\n",
      "\u001b[36m(ClientAppActor pid=109967)\u001b[0m Step 4/8 | Total batches: 7\n",
      "\u001b[36m(ClientAppActor pid=109967)\u001b[0m Step 5/8 | Total batches: 7\n",
      "\u001b[36m(ClientAppActor pid=109967)\u001b[0m Step 6/8 | Total batches: 7\n",
      "\u001b[36m(ClientAppActor pid=109967)\u001b[0m Step 7/8 | Total batches: 7\n",
      "\u001b[36m(ClientAppActor pid=109967)\u001b[0m Step 8/8 | Total batches: 7\n",
      "\u001b[36m(ClientAppActor pid=109967)\u001b[0m 🚀 Epoch 1/1 (100.00%) Completed\n",
      "\u001b[36m(ClientAppActor pid=109967)\u001b[0m \t📊 Training Loss: 1.1937\n",
      "\u001b[36m(ClientAppActor pid=109967)\u001b[0m \t✅ Training Accuracy: 74.78%\n",
      "\u001b[36m(ClientAppActor pid=109967)\u001b[0m \t⏳ Elapsed Time: 1.19s | ETA: 0.00s\n",
      "\u001b[36m(ClientAppActor pid=109967)\u001b[0m \t🕒 Completed At: 23:13\n",
      "\u001b[36m(ClientAppActor pid=109967)\u001b[0m \n",
      "\u001b[36m(ClientAppActor pid=109967)\u001b[0m [Client] Client on device: cuda:0\n",
      "\u001b[36m(ClientAppActor pid=109967)\u001b[0m [Client] CUDA available in client: True\n",
      "\u001b[36m(ClientAppActor pid=109967)\u001b[0m No prefix/name for the model was provided, choosen prefix/name: plucky_arbok_18\n",
      "\u001b[36m(ClientAppActor pid=109967)\u001b[0m \n",
      "\u001b[36m(ClientAppActor pid=109967)\u001b[0m Step 1/8 | Total batches: 7\n",
      "\u001b[36m(ClientAppActor pid=109967)\u001b[0m Step 2/8 | Total batches: 7\n",
      "\u001b[36m(ClientAppActor pid=109967)\u001b[0m Step 3/8 | Total batches: 7\n",
      "\u001b[36m(ClientAppActor pid=109967)\u001b[0m Step 4/8 | Total batches: 7\n",
      "\u001b[36m(ClientAppActor pid=109967)\u001b[0m Step 5/8 | Total batches: 7\n",
      "\u001b[36m(ClientAppActor pid=109967)\u001b[0m Step 6/8 | Total batches: 7\n",
      "\u001b[36m(ClientAppActor pid=109967)\u001b[0m Step 7/8 | Total batches: 7\n",
      "\u001b[36m(ClientAppActor pid=109967)\u001b[0m Step 8/8 | Total batches: 7\n",
      "\u001b[36m(ClientAppActor pid=109967)\u001b[0m 🚀 Epoch 1/1 (100.00%) Completed\n",
      "\u001b[36m(ClientAppActor pid=109967)\u001b[0m \t📊 Training Loss: 0.6189\n",
      "\u001b[36m(ClientAppActor pid=109967)\u001b[0m \t✅ Training Accuracy: 83.41%\n",
      "\u001b[36m(ClientAppActor pid=109967)\u001b[0m \t⏳ Elapsed Time: 1.11s | ETA: 0.00s\n",
      "\u001b[36m(ClientAppActor pid=109967)\u001b[0m \t🕒 Completed At: 23:13\n",
      "\u001b[36m(ClientAppActor pid=109967)\u001b[0m \n",
      "\u001b[36m(ClientAppActor pid=109967)\u001b[0m [Client] Client on device: cuda:0\n",
      "\u001b[36m(ClientAppActor pid=109967)\u001b[0m [Client] CUDA available in client: True\n",
      "\u001b[36m(ClientAppActor pid=109967)\u001b[0m No prefix/name for the model was provided, choosen prefix/name: snazzy_charmander_43\n",
      "\u001b[36m(ClientAppActor pid=109967)\u001b[0m \n",
      "\u001b[36m(ClientAppActor pid=109967)\u001b[0m Step 1/8 | Total batches: 7\n",
      "\u001b[36m(ClientAppActor pid=109967)\u001b[0m Step 2/8 | Total batches: 7\n",
      "\u001b[36m(ClientAppActor pid=109967)\u001b[0m Step 3/8 | Total batches: 7\n",
      "\u001b[36m(ClientAppActor pid=109967)\u001b[0m Step 4/8 | Total batches: 7\n",
      "\u001b[36m(ClientAppActor pid=109967)\u001b[0m Step 5/8 | Total batches: 7\n",
      "\u001b[36m(ClientAppActor pid=109967)\u001b[0m Step 6/8 | Total batches: 7\n",
      "\u001b[36m(ClientAppActor pid=109967)\u001b[0m Step 7/8 | Total batches: 7\n",
      "\u001b[36m(ClientAppActor pid=109967)\u001b[0m Step 8/8 | Total batches: 7\n"
     ]
    },
    {
     "name": "stderr",
     "output_type": "stream",
     "text": [
      "\u001b[92mINFO \u001b[0m:      aggregate_fit: received 10 results and 0 failures\n"
     ]
    },
    {
     "name": "stdout",
     "output_type": "stream",
     "text": [
      "\u001b[36m(ClientAppActor pid=109967)\u001b[0m 🚀 Epoch 1/1 (100.00%) Completed\n",
      "\u001b[36m(ClientAppActor pid=109967)\u001b[0m \t📊 Training Loss: 1.5848\n",
      "\u001b[36m(ClientAppActor pid=109967)\u001b[0m \t✅ Training Accuracy: 71.98%\n",
      "\u001b[36m(ClientAppActor pid=109967)\u001b[0m \t⏳ Elapsed Time: 1.09s | ETA: 0.00s\n",
      "\u001b[36m(ClientAppActor pid=109967)\u001b[0m \t🕒 Completed At: 23:13\n",
      "\u001b[36m(ClientAppActor pid=109967)\u001b[0m \n"
     ]
    },
    {
     "name": "stderr",
     "output_type": "stream",
     "text": [
      "\u001b[92mINFO \u001b[0m:      [Round 8] Avg Drift: 0.0014 | Relative Drift: 0.0000\n",
      "\u001b[92mINFO \u001b[0m:      fit progress: (8, {}, {}, 203.66503345600358)\n",
      "\u001b[92mINFO \u001b[0m:      configure_evaluate: strategy sampled 10 clients (out of 100)\n"
     ]
    },
    {
     "name": "stdout",
     "output_type": "stream",
     "text": [
      "\u001b[36m(ClientAppActor pid=109967)\u001b[0m [Client] Client on device: cuda:0\n",
      "\u001b[36m(ClientAppActor pid=109967)\u001b[0m [Client] CUDA available in client: True\n"
     ]
    },
    {
     "name": "stderr",
     "output_type": "stream",
     "text": [
      "Eval progress:   0%|          | 0/2 [00:00<?, ?batch/s]\n",
      "Eval progress:  50%|█████     | 1/2 [00:00<00:00,  6.81batch/s]\n",
      "Eval progress: 100%|██████████| 2/2 [00:00<00:00,  8.67batch/s]\n"
     ]
    },
    {
     "name": "stdout",
     "output_type": "stream",
     "text": [
      "\u001b[36m(ClientAppActor pid=109967)\u001b[0m [Client] Client on device: cuda:0\n",
      "\u001b[36m(ClientAppActor pid=109967)\u001b[0m [Client] CUDA available in client: True\n"
     ]
    },
    {
     "name": "stderr",
     "output_type": "stream",
     "text": [
      "Eval progress:   0%|          | 0/2 [00:00<?, ?batch/s]\n",
      "Eval progress:  50%|█████     | 1/2 [00:00<00:00,  6.84batch/s]\n",
      "Eval progress: 100%|██████████| 2/2 [00:00<00:00,  8.78batch/s]\n"
     ]
    },
    {
     "name": "stdout",
     "output_type": "stream",
     "text": [
      "\u001b[36m(ClientAppActor pid=109967)\u001b[0m [Client] Client on device: cuda:0\n",
      "\u001b[36m(ClientAppActor pid=109967)\u001b[0m [Client] CUDA available in client: True\n"
     ]
    },
    {
     "name": "stderr",
     "output_type": "stream",
     "text": [
      "Eval progress:   0%|          | 0/2 [00:00<?, ?batch/s]\n",
      "Eval progress:  50%|█████     | 1/2 [00:00<00:00,  6.78batch/s]\n",
      "Eval progress: 100%|██████████| 2/2 [00:00<00:00,  8.71batch/s]\n"
     ]
    },
    {
     "name": "stdout",
     "output_type": "stream",
     "text": [
      "\u001b[36m(ClientAppActor pid=109967)\u001b[0m [Client] Client on device: cuda:0\n",
      "\u001b[36m(ClientAppActor pid=109967)\u001b[0m [Client] CUDA available in client: True\n"
     ]
    },
    {
     "name": "stderr",
     "output_type": "stream",
     "text": [
      "Eval progress:   0%|          | 0/2 [00:00<?, ?batch/s]\n",
      "Eval progress:  50%|█████     | 1/2 [00:00<00:00,  6.55batch/s]\n",
      "Eval progress: 100%|██████████| 2/2 [00:00<00:00,  8.43batch/s]\n"
     ]
    },
    {
     "name": "stdout",
     "output_type": "stream",
     "text": [
      "\u001b[36m(ClientAppActor pid=109967)\u001b[0m [Client] Client on device: cuda:0\n",
      "\u001b[36m(ClientAppActor pid=109967)\u001b[0m [Client] CUDA available in client: True\n"
     ]
    },
    {
     "name": "stderr",
     "output_type": "stream",
     "text": [
      "Eval progress:   0%|          | 0/2 [00:00<?, ?batch/s]\n",
      "Eval progress:  50%|█████     | 1/2 [00:00<00:00,  6.05batch/s]\n",
      "Eval progress: 100%|██████████| 2/2 [00:00<00:00,  7.49batch/s]\n"
     ]
    },
    {
     "name": "stdout",
     "output_type": "stream",
     "text": [
      "\u001b[36m(ClientAppActor pid=109967)\u001b[0m [Client] Client on device: cuda:0\n",
      "\u001b[36m(ClientAppActor pid=109967)\u001b[0m [Client] CUDA available in client: True\n"
     ]
    },
    {
     "name": "stderr",
     "output_type": "stream",
     "text": [
      "Eval progress:   0%|          | 0/2 [00:00<?, ?batch/s]\n",
      "Eval progress:  50%|█████     | 1/2 [00:00<00:00,  6.07batch/s]\n",
      "Eval progress: 100%|██████████| 2/2 [00:00<00:00,  7.83batch/s]\n"
     ]
    },
    {
     "name": "stdout",
     "output_type": "stream",
     "text": [
      "\u001b[36m(ClientAppActor pid=109967)\u001b[0m [Client] Client on device: cuda:0\n",
      "\u001b[36m(ClientAppActor pid=109967)\u001b[0m [Client] CUDA available in client: True\n"
     ]
    },
    {
     "name": "stderr",
     "output_type": "stream",
     "text": [
      "Eval progress:   0%|          | 0/2 [00:00<?, ?batch/s]\n",
      "Eval progress: 100%|██████████| 2/2 [00:00<00:00,  7.99batch/s]\n"
     ]
    },
    {
     "name": "stdout",
     "output_type": "stream",
     "text": [
      "\u001b[36m(ClientAppActor pid=109967)\u001b[0m [Client] Client on device: cuda:0\n",
      "\u001b[36m(ClientAppActor pid=109967)\u001b[0m [Client] CUDA available in client: True\n"
     ]
    },
    {
     "name": "stderr",
     "output_type": "stream",
     "text": [
      "Eval progress:   0%|          | 0/2 [00:00<?, ?batch/s]\n",
      "Eval progress:  50%|█████     | 1/2 [00:00<00:00,  6.17batch/s]\n",
      "Eval progress: 100%|██████████| 2/2 [00:00<00:00,  7.95batch/s]\n"
     ]
    },
    {
     "name": "stdout",
     "output_type": "stream",
     "text": [
      "\u001b[36m(ClientAppActor pid=109967)\u001b[0m [Client] Client on device: cuda:0\n",
      "\u001b[36m(ClientAppActor pid=109967)\u001b[0m [Client] CUDA available in client: True\n"
     ]
    },
    {
     "name": "stderr",
     "output_type": "stream",
     "text": [
      "Eval progress:   0%|          | 0/2 [00:00<?, ?batch/s]\n",
      "Eval progress:  50%|█████     | 1/2 [00:00<00:00,  6.14batch/s]\n",
      "Eval progress: 100%|██████████| 2/2 [00:00<00:00,  7.95batch/s]\n"
     ]
    },
    {
     "name": "stdout",
     "output_type": "stream",
     "text": [
      "\u001b[36m(ClientAppActor pid=109967)\u001b[0m [Client] Client on device: cuda:0\n",
      "\u001b[36m(ClientAppActor pid=109967)\u001b[0m [Client] CUDA available in client: True\n"
     ]
    },
    {
     "name": "stderr",
     "output_type": "stream",
     "text": [
      "Eval progress:   0%|          | 0/2 [00:00<?, ?batch/s]\n",
      "\u001b[92mINFO \u001b[0m:      aggregate_evaluate: received 10 results and 0 failures\n",
      "\u001b[92mINFO \u001b[0m:      \n",
      "\u001b[92mINFO \u001b[0m:      [ROUND 9]\n",
      "\u001b[92mINFO \u001b[0m:      configure_fit: strategy sampled 10 clients (out of 100)\n",
      "Eval progress: 100%|██████████| 2/2 [00:00<00:00,  8.31batch/s]\n"
     ]
    },
    {
     "name": "stdout",
     "output_type": "stream",
     "text": [
      "\u001b[36m(ClientAppActor pid=109967)\u001b[0m [Client] Client on device: cuda:0\n",
      "\u001b[36m(ClientAppActor pid=109967)\u001b[0m [Client] CUDA available in client: True\n",
      "\u001b[36m(ClientAppActor pid=109967)\u001b[0m No prefix/name for the model was provided, choosen prefix/name: plucky_venusaur_56\n",
      "\u001b[36m(ClientAppActor pid=109967)\u001b[0m \n",
      "\u001b[36m(ClientAppActor pid=109967)\u001b[0m Step 1/8 | Total batches: 7\n",
      "\u001b[36m(ClientAppActor pid=109967)\u001b[0m Step 2/8 | Total batches: 7\n",
      "\u001b[36m(ClientAppActor pid=109967)\u001b[0m Step 3/8 | Total batches: 7\n",
      "\u001b[36m(ClientAppActor pid=109967)\u001b[0m Step 4/8 | Total batches: 7\n",
      "\u001b[36m(ClientAppActor pid=109967)\u001b[0m Step 5/8 | Total batches: 7\n",
      "\u001b[36m(ClientAppActor pid=109967)\u001b[0m Step 6/8 | Total batches: 7\n",
      "\u001b[36m(ClientAppActor pid=109967)\u001b[0m Step 7/8 | Total batches: 7\n",
      "\u001b[36m(ClientAppActor pid=109967)\u001b[0m Step 8/8 | Total batches: 7\n",
      "\u001b[36m(ClientAppActor pid=109967)\u001b[0m 🚀 Epoch 1/1 (100.00%) Completed\n",
      "\u001b[36m(ClientAppActor pid=109967)\u001b[0m \t📊 Training Loss: 1.6902\n",
      "\u001b[36m(ClientAppActor pid=109967)\u001b[0m \t✅ Training Accuracy: 71.34%\n",
      "\u001b[36m(ClientAppActor pid=109967)\u001b[0m \t⏳ Elapsed Time: 1.08s | ETA: 0.00s\n",
      "\u001b[36m(ClientAppActor pid=109967)\u001b[0m \t🕒 Completed At: 23:13\n",
      "\u001b[36m(ClientAppActor pid=109967)\u001b[0m \n",
      "\u001b[36m(ClientAppActor pid=109967)\u001b[0m [Client] Client on device: cuda:0\n",
      "\u001b[36m(ClientAppActor pid=109967)\u001b[0m [Client] CUDA available in client: True\n",
      "\u001b[36m(ClientAppActor pid=109967)\u001b[0m No prefix/name for the model was provided, choosen prefix/name: funky_charmeleon_88\n",
      "\u001b[36m(ClientAppActor pid=109967)\u001b[0m \n",
      "\u001b[36m(ClientAppActor pid=109967)\u001b[0m Step 1/8 | Total batches: 7\n",
      "\u001b[36m(ClientAppActor pid=109967)\u001b[0m Step 2/8 | Total batches: 7\n",
      "\u001b[36m(ClientAppActor pid=109967)\u001b[0m Step 3/8 | Total batches: 7\n",
      "\u001b[36m(ClientAppActor pid=109967)\u001b[0m Step 4/8 | Total batches: 7\n",
      "\u001b[36m(ClientAppActor pid=109967)\u001b[0m Step 5/8 | Total batches: 7\n",
      "\u001b[36m(ClientAppActor pid=109967)\u001b[0m Step 6/8 | Total batches: 7\n",
      "\u001b[36m(ClientAppActor pid=109967)\u001b[0m Step 7/8 | Total batches: 7\n",
      "\u001b[36m(ClientAppActor pid=109967)\u001b[0m Step 8/8 | Total batches: 7\n",
      "\u001b[36m(ClientAppActor pid=109967)\u001b[0m 🚀 Epoch 1/1 (100.00%) Completed\n",
      "\u001b[36m(ClientAppActor pid=109967)\u001b[0m \t📊 Training Loss: 1.4345\n",
      "\u001b[36m(ClientAppActor pid=109967)\u001b[0m \t✅ Training Accuracy: 73.06%\n",
      "\u001b[36m(ClientAppActor pid=109967)\u001b[0m \t⏳ Elapsed Time: 1.08s | ETA: 0.00s\n",
      "\u001b[36m(ClientAppActor pid=109967)\u001b[0m \t🕒 Completed At: 23:13\n",
      "\u001b[36m(ClientAppActor pid=109967)\u001b[0m \n",
      "\u001b[36m(ClientAppActor pid=109967)\u001b[0m [Client] Client on device: cuda:0\n",
      "\u001b[36m(ClientAppActor pid=109967)\u001b[0m [Client] CUDA available in client: True\n",
      "\u001b[36m(ClientAppActor pid=109967)\u001b[0m No prefix/name for the model was provided, choosen prefix/name: jolly_rattata_17\n",
      "\u001b[36m(ClientAppActor pid=109967)\u001b[0m \n",
      "\u001b[36m(ClientAppActor pid=109967)\u001b[0m Step 1/8 | Total batches: 7\n",
      "\u001b[36m(ClientAppActor pid=109967)\u001b[0m Step 2/8 | Total batches: 7\n",
      "\u001b[36m(ClientAppActor pid=109967)\u001b[0m Step 3/8 | Total batches: 7\n",
      "\u001b[36m(ClientAppActor pid=109967)\u001b[0m Step 4/8 | Total batches: 7\n",
      "\u001b[36m(ClientAppActor pid=109967)\u001b[0m Step 5/8 | Total batches: 7\n",
      "\u001b[36m(ClientAppActor pid=109967)\u001b[0m Step 6/8 | Total batches: 7\n",
      "\u001b[36m(ClientAppActor pid=109967)\u001b[0m Step 7/8 | Total batches: 7\n",
      "\u001b[36m(ClientAppActor pid=109967)\u001b[0m Step 8/8 | Total batches: 7\n",
      "\u001b[36m(ClientAppActor pid=109967)\u001b[0m 🚀 Epoch 1/1 (100.00%) Completed\n",
      "\u001b[36m(ClientAppActor pid=109967)\u001b[0m \t📊 Training Loss: 1.1626\n",
      "\u001b[36m(ClientAppActor pid=109967)\u001b[0m \t✅ Training Accuracy: 73.28%\n",
      "\u001b[36m(ClientAppActor pid=109967)\u001b[0m \t⏳ Elapsed Time: 1.12s | ETA: 0.00s\n",
      "\u001b[36m(ClientAppActor pid=109967)\u001b[0m \t🕒 Completed At: 23:13\n",
      "\u001b[36m(ClientAppActor pid=109967)\u001b[0m \n",
      "\u001b[36m(ClientAppActor pid=109967)\u001b[0m [Client] Client on device: cuda:0\n",
      "\u001b[36m(ClientAppActor pid=109967)\u001b[0m [Client] CUDA available in client: True\n",
      "\u001b[36m(ClientAppActor pid=109967)\u001b[0m No prefix/name for the model was provided, choosen prefix/name: witty_clefairy_18\n",
      "\u001b[36m(ClientAppActor pid=109967)\u001b[0m \n",
      "\u001b[36m(ClientAppActor pid=109967)\u001b[0m Step 1/8 | Total batches: 7\n",
      "\u001b[36m(ClientAppActor pid=109967)\u001b[0m Step 2/8 | Total batches: 7\n",
      "\u001b[36m(ClientAppActor pid=109967)\u001b[0m Step 3/8 | Total batches: 7\n",
      "\u001b[36m(ClientAppActor pid=109967)\u001b[0m Step 4/8 | Total batches: 7\n",
      "\u001b[36m(ClientAppActor pid=109967)\u001b[0m Step 5/8 | Total batches: 7\n",
      "\u001b[36m(ClientAppActor pid=109967)\u001b[0m Step 6/8 | Total batches: 7\n",
      "\u001b[36m(ClientAppActor pid=109967)\u001b[0m Step 7/8 | Total batches: 7\n",
      "\u001b[36m(ClientAppActor pid=109967)\u001b[0m Step 8/8 | Total batches: 7\n",
      "\u001b[36m(ClientAppActor pid=109967)\u001b[0m 🚀 Epoch 1/1 (100.00%) Completed\n",
      "\u001b[36m(ClientAppActor pid=109967)\u001b[0m \t📊 Training Loss: 1.2063\n",
      "\u001b[36m(ClientAppActor pid=109967)\u001b[0m \t✅ Training Accuracy: 73.28%\n",
      "\u001b[36m(ClientAppActor pid=109967)\u001b[0m \t⏳ Elapsed Time: 1.07s | ETA: 0.00s\n",
      "\u001b[36m(ClientAppActor pid=109967)\u001b[0m \t🕒 Completed At: 23:13\n",
      "\u001b[36m(ClientAppActor pid=109967)\u001b[0m \n",
      "\u001b[36m(ClientAppActor pid=109967)\u001b[0m [Client] Client on device: cuda:0\n",
      "\u001b[36m(ClientAppActor pid=109967)\u001b[0m [Client] CUDA available in client: True\n",
      "\u001b[36m(ClientAppActor pid=109967)\u001b[0m No prefix/name for the model was provided, choosen prefix/name: spunky_nidoqueen_46\n",
      "\u001b[36m(ClientAppActor pid=109967)\u001b[0m \n",
      "\u001b[36m(ClientAppActor pid=109967)\u001b[0m Step 1/8 | Total batches: 7\n",
      "\u001b[36m(ClientAppActor pid=109967)\u001b[0m Step 2/8 | Total batches: 7\n",
      "\u001b[36m(ClientAppActor pid=109967)\u001b[0m Step 3/8 | Total batches: 7\n",
      "\u001b[36m(ClientAppActor pid=109967)\u001b[0m Step 4/8 | Total batches: 7\n",
      "\u001b[36m(ClientAppActor pid=109967)\u001b[0m Step 5/8 | Total batches: 7\n",
      "\u001b[36m(ClientAppActor pid=109967)\u001b[0m Step 6/8 | Total batches: 7\n",
      "\u001b[36m(ClientAppActor pid=109967)\u001b[0m Step 7/8 | Total batches: 7\n",
      "\u001b[36m(ClientAppActor pid=109967)\u001b[0m Step 8/8 | Total batches: 7\n",
      "\u001b[36m(ClientAppActor pid=109967)\u001b[0m 🚀 Epoch 1/1 (100.00%) Completed\n",
      "\u001b[36m(ClientAppActor pid=109967)\u001b[0m \t📊 Training Loss: 1.1939\n",
      "\u001b[36m(ClientAppActor pid=109967)\u001b[0m \t✅ Training Accuracy: 73.28%\n",
      "\u001b[36m(ClientAppActor pid=109967)\u001b[0m \t⏳ Elapsed Time: 1.13s | ETA: 0.00s\n",
      "\u001b[36m(ClientAppActor pid=109967)\u001b[0m \t🕒 Completed At: 23:13\n",
      "\u001b[36m(ClientAppActor pid=109967)\u001b[0m \n",
      "\u001b[36m(ClientAppActor pid=109967)\u001b[0m [Client] Client on device: cuda:0\n",
      "\u001b[36m(ClientAppActor pid=109967)\u001b[0m [Client] CUDA available in client: True\n",
      "\u001b[36m(ClientAppActor pid=109967)\u001b[0m No prefix/name for the model was provided, choosen prefix/name: spooky_spearow_20\n",
      "\u001b[36m(ClientAppActor pid=109967)\u001b[0m \n",
      "\u001b[36m(ClientAppActor pid=109967)\u001b[0m Step 1/8 | Total batches: 7\n",
      "\u001b[36m(ClientAppActor pid=109967)\u001b[0m Step 2/8 | Total batches: 7\n",
      "\u001b[36m(ClientAppActor pid=109967)\u001b[0m Step 3/8 | Total batches: 7\n",
      "\u001b[36m(ClientAppActor pid=109967)\u001b[0m Step 4/8 | Total batches: 7\n",
      "\u001b[36m(ClientAppActor pid=109967)\u001b[0m Step 5/8 | Total batches: 7\n",
      "\u001b[36m(ClientAppActor pid=109967)\u001b[0m Step 6/8 | Total batches: 7\n",
      "\u001b[36m(ClientAppActor pid=109967)\u001b[0m Step 7/8 | Total batches: 7\n",
      "\u001b[36m(ClientAppActor pid=109967)\u001b[0m Step 8/8 | Total batches: 7\n",
      "\u001b[36m(ClientAppActor pid=109967)\u001b[0m 🚀 Epoch 1/1 (100.00%) Completed\n",
      "\u001b[36m(ClientAppActor pid=109967)\u001b[0m \t📊 Training Loss: 1.3922\n",
      "\u001b[36m(ClientAppActor pid=109967)\u001b[0m \t✅ Training Accuracy: 71.77%\n",
      "\u001b[36m(ClientAppActor pid=109967)\u001b[0m \t⏳ Elapsed Time: 1.18s | ETA: 0.00s\n",
      "\u001b[36m(ClientAppActor pid=109967)\u001b[0m \t🕒 Completed At: 23:13\n",
      "\u001b[36m(ClientAppActor pid=109967)\u001b[0m \n",
      "\u001b[36m(ClientAppActor pid=109967)\u001b[0m [Client] Client on device: cuda:0\n",
      "\u001b[36m(ClientAppActor pid=109967)\u001b[0m [Client] CUDA available in client: True\n",
      "\u001b[36m(ClientAppActor pid=109967)\u001b[0m No prefix/name for the model was provided, choosen prefix/name: plucky_butterfree_44\n",
      "\u001b[36m(ClientAppActor pid=109967)\u001b[0m \n",
      "\u001b[36m(ClientAppActor pid=109967)\u001b[0m Step 1/8 | Total batches: 7\n",
      "\u001b[36m(ClientAppActor pid=109967)\u001b[0m Step 2/8 | Total batches: 7\n",
      "\u001b[36m(ClientAppActor pid=109967)\u001b[0m Step 3/8 | Total batches: 7\n",
      "\u001b[36m(ClientAppActor pid=109967)\u001b[0m Step 4/8 | Total batches: 7\n",
      "\u001b[36m(ClientAppActor pid=109967)\u001b[0m Step 5/8 | Total batches: 7\n",
      "\u001b[36m(ClientAppActor pid=109967)\u001b[0m Step 6/8 | Total batches: 7\n",
      "\u001b[36m(ClientAppActor pid=109967)\u001b[0m Step 7/8 | Total batches: 7\n",
      "\u001b[36m(ClientAppActor pid=109967)\u001b[0m Step 8/8 | Total batches: 7\n",
      "\u001b[36m(ClientAppActor pid=109967)\u001b[0m 🚀 Epoch 1/1 (100.00%) Completed\n",
      "\u001b[36m(ClientAppActor pid=109967)\u001b[0m \t📊 Training Loss: 0.4278\n",
      "\u001b[36m(ClientAppActor pid=109967)\u001b[0m \t✅ Training Accuracy: 88.36%\n",
      "\u001b[36m(ClientAppActor pid=109967)\u001b[0m \t⏳ Elapsed Time: 1.12s | ETA: 0.00s\n",
      "\u001b[36m(ClientAppActor pid=109967)\u001b[0m \t🕒 Completed At: 23:13\n",
      "\u001b[36m(ClientAppActor pid=109967)\u001b[0m \n",
      "\u001b[36m(ClientAppActor pid=109967)\u001b[0m [Client] Client on device: cuda:0\n",
      "\u001b[36m(ClientAppActor pid=109967)\u001b[0m [Client] CUDA available in client: True\n",
      "\u001b[36m(ClientAppActor pid=109967)\u001b[0m No prefix/name for the model was provided, choosen prefix/name: jumpy_caterpie_63\n",
      "\u001b[36m(ClientAppActor pid=109967)\u001b[0m \n",
      "\u001b[36m(ClientAppActor pid=109967)\u001b[0m Step 1/8 | Total batches: 7\n",
      "\u001b[36m(ClientAppActor pid=109967)\u001b[0m Step 2/8 | Total batches: 7\n",
      "\u001b[36m(ClientAppActor pid=109967)\u001b[0m Step 3/8 | Total batches: 7\n",
      "\u001b[36m(ClientAppActor pid=109967)\u001b[0m Step 4/8 | Total batches: 7\n",
      "\u001b[36m(ClientAppActor pid=109967)\u001b[0m Step 5/8 | Total batches: 7\n",
      "\u001b[36m(ClientAppActor pid=109967)\u001b[0m Step 6/8 | Total batches: 7\n",
      "\u001b[36m(ClientAppActor pid=109967)\u001b[0m Step 7/8 | Total batches: 7\n",
      "\u001b[36m(ClientAppActor pid=109967)\u001b[0m Step 8/8 | Total batches: 7\n",
      "\u001b[36m(ClientAppActor pid=109967)\u001b[0m 🚀 Epoch 1/1 (100.00%) Completed\n",
      "\u001b[36m(ClientAppActor pid=109967)\u001b[0m \t📊 Training Loss: 0.8919\n",
      "\u001b[36m(ClientAppActor pid=109967)\u001b[0m \t✅ Training Accuracy: 77.59%\n",
      "\u001b[36m(ClientAppActor pid=109967)\u001b[0m \t⏳ Elapsed Time: 1.08s | ETA: 0.00s\n",
      "\u001b[36m(ClientAppActor pid=109967)\u001b[0m \t🕒 Completed At: 23:13\n",
      "\u001b[36m(ClientAppActor pid=109967)\u001b[0m \n",
      "\u001b[36m(ClientAppActor pid=109967)\u001b[0m [Client] Client on device: cuda:0\n",
      "\u001b[36m(ClientAppActor pid=109967)\u001b[0m [Client] CUDA available in client: True\n",
      "\u001b[36m(ClientAppActor pid=109967)\u001b[0m No prefix/name for the model was provided, choosen prefix/name: quirky_spearow_49\n",
      "\u001b[36m(ClientAppActor pid=109967)\u001b[0m \n",
      "\u001b[36m(ClientAppActor pid=109967)\u001b[0m Step 1/8 | Total batches: 7\n",
      "\u001b[36m(ClientAppActor pid=109967)\u001b[0m Step 2/8 | Total batches: 7\n",
      "\u001b[36m(ClientAppActor pid=109967)\u001b[0m Step 3/8 | Total batches: 7\n",
      "\u001b[36m(ClientAppActor pid=109967)\u001b[0m Step 4/8 | Total batches: 7\n",
      "\u001b[36m(ClientAppActor pid=109967)\u001b[0m Step 5/8 | Total batches: 7\n",
      "\u001b[36m(ClientAppActor pid=109967)\u001b[0m Step 6/8 | Total batches: 7\n",
      "\u001b[36m(ClientAppActor pid=109967)\u001b[0m Step 7/8 | Total batches: 7\n",
      "\u001b[36m(ClientAppActor pid=109967)\u001b[0m Step 8/8 | Total batches: 7\n",
      "\u001b[36m(ClientAppActor pid=109967)\u001b[0m 🚀 Epoch 1/1 (100.00%) Completed\n",
      "\u001b[36m(ClientAppActor pid=109967)\u001b[0m \t📊 Training Loss: 1.3578\n",
      "\u001b[36m(ClientAppActor pid=109967)\u001b[0m \t✅ Training Accuracy: 73.28%\n",
      "\u001b[36m(ClientAppActor pid=109967)\u001b[0m \t⏳ Elapsed Time: 1.08s | ETA: 0.00s\n",
      "\u001b[36m(ClientAppActor pid=109967)\u001b[0m \t🕒 Completed At: 23:13\n",
      "\u001b[36m(ClientAppActor pid=109967)\u001b[0m \n",
      "\u001b[36m(ClientAppActor pid=109967)\u001b[0m [Client] Client on device: cuda:0\n",
      "\u001b[36m(ClientAppActor pid=109967)\u001b[0m [Client] CUDA available in client: True\n",
      "\u001b[36m(ClientAppActor pid=109967)\u001b[0m No prefix/name for the model was provided, choosen prefix/name: zany_metapod_86\n",
      "\u001b[36m(ClientAppActor pid=109967)\u001b[0m \n",
      "\u001b[36m(ClientAppActor pid=109967)\u001b[0m Step 1/8 | Total batches: 7\n",
      "\u001b[36m(ClientAppActor pid=109967)\u001b[0m Step 2/8 | Total batches: 7\n",
      "\u001b[36m(ClientAppActor pid=109967)\u001b[0m Step 3/8 | Total batches: 7\n",
      "\u001b[36m(ClientAppActor pid=109967)\u001b[0m Step 4/8 | Total batches: 7\n",
      "\u001b[36m(ClientAppActor pid=109967)\u001b[0m Step 5/8 | Total batches: 7\n",
      "\u001b[36m(ClientAppActor pid=109967)\u001b[0m Step 6/8 | Total batches: 7\n",
      "\u001b[36m(ClientAppActor pid=109967)\u001b[0m Step 7/8 | Total batches: 7\n"
     ]
    },
    {
     "name": "stderr",
     "output_type": "stream",
     "text": [
      "\u001b[92mINFO \u001b[0m:      aggregate_fit: received 10 results and 0 failures\n"
     ]
    },
    {
     "name": "stdout",
     "output_type": "stream",
     "text": [
      "\u001b[36m(ClientAppActor pid=109967)\u001b[0m Step 8/8 | Total batches: 7\n",
      "\u001b[36m(ClientAppActor pid=109967)\u001b[0m 🚀 Epoch 1/1 (100.00%) Completed\n",
      "\u001b[36m(ClientAppActor pid=109967)\u001b[0m \t📊 Training Loss: 1.3929\n",
      "\u001b[36m(ClientAppActor pid=109967)\u001b[0m \t✅ Training Accuracy: 72.41%\n",
      "\u001b[36m(ClientAppActor pid=109967)\u001b[0m \t⏳ Elapsed Time: 1.08s | ETA: 0.00s\n",
      "\u001b[36m(ClientAppActor pid=109967)\u001b[0m \t🕒 Completed At: 23:13\n",
      "\u001b[36m(ClientAppActor pid=109967)\u001b[0m \n"
     ]
    },
    {
     "name": "stderr",
     "output_type": "stream",
     "text": [
      "\u001b[92mINFO \u001b[0m:      [Round 9] Avg Drift: 0.0016 | Relative Drift: 0.0000\n",
      "\u001b[92mINFO \u001b[0m:      fit progress: (9, {}, {}, 225.49982172300224)\n",
      "\u001b[92mINFO \u001b[0m:      configure_evaluate: strategy sampled 10 clients (out of 100)\n"
     ]
    },
    {
     "name": "stdout",
     "output_type": "stream",
     "text": [
      "\u001b[36m(ClientAppActor pid=109967)\u001b[0m [Client] Client on device: cuda:0\n",
      "\u001b[36m(ClientAppActor pid=109967)\u001b[0m [Client] CUDA available in client: True\n"
     ]
    },
    {
     "name": "stderr",
     "output_type": "stream",
     "text": [
      "Eval progress:   0%|          | 0/2 [00:00<?, ?batch/s]\n",
      "Eval progress:  50%|█████     | 1/2 [00:00<00:00,  6.11batch/s]\n",
      "Eval progress: 100%|██████████| 2/2 [00:00<00:00,  7.91batch/s]\n"
     ]
    },
    {
     "name": "stdout",
     "output_type": "stream",
     "text": [
      "\u001b[36m(ClientAppActor pid=109967)\u001b[0m [Client] Client on device: cuda:0\n",
      "\u001b[36m(ClientAppActor pid=109967)\u001b[0m [Client] CUDA available in client: True\n"
     ]
    },
    {
     "name": "stderr",
     "output_type": "stream",
     "text": [
      "Eval progress:   0%|          | 0/2 [00:00<?, ?batch/s]\n",
      "Eval progress:  50%|█████     | 1/2 [00:00<00:00,  6.15batch/s]\n",
      "Eval progress: 100%|██████████| 2/2 [00:00<00:00,  7.97batch/s]\n"
     ]
    },
    {
     "name": "stdout",
     "output_type": "stream",
     "text": [
      "\u001b[36m(ClientAppActor pid=109967)\u001b[0m [Client] Client on device: cuda:0\n",
      "\u001b[36m(ClientAppActor pid=109967)\u001b[0m [Client] CUDA available in client: True\n"
     ]
    },
    {
     "name": "stderr",
     "output_type": "stream",
     "text": [
      "Eval progress:   0%|          | 0/2 [00:00<?, ?batch/s]\n",
      "Eval progress:  50%|█████     | 1/2 [00:00<00:00,  6.18batch/s]\n",
      "Eval progress: 100%|██████████| 2/2 [00:00<00:00,  8.01batch/s]\n"
     ]
    },
    {
     "name": "stdout",
     "output_type": "stream",
     "text": [
      "\u001b[36m(ClientAppActor pid=109967)\u001b[0m [Client] Client on device: cuda:0\n",
      "\u001b[36m(ClientAppActor pid=109967)\u001b[0m [Client] CUDA available in client: True\n"
     ]
    },
    {
     "name": "stderr",
     "output_type": "stream",
     "text": [
      "Eval progress:   0%|          | 0/2 [00:00<?, ?batch/s]\n",
      "Eval progress:  50%|█████     | 1/2 [00:00<00:00,  6.20batch/s]\n",
      "Eval progress: 100%|██████████| 2/2 [00:00<00:00,  7.89batch/s]\n"
     ]
    },
    {
     "name": "stdout",
     "output_type": "stream",
     "text": [
      "\u001b[36m(ClientAppActor pid=109967)\u001b[0m [Client] Client on device: cuda:0\n",
      "\u001b[36m(ClientAppActor pid=109967)\u001b[0m [Client] CUDA available in client: True\n"
     ]
    },
    {
     "name": "stderr",
     "output_type": "stream",
     "text": [
      "Eval progress:   0%|          | 0/2 [00:00<?, ?batch/s]\n",
      "Eval progress:  50%|█████     | 1/2 [00:00<00:00,  6.22batch/s]\n",
      "Eval progress: 100%|██████████| 2/2 [00:00<00:00,  8.07batch/s]\n"
     ]
    },
    {
     "name": "stdout",
     "output_type": "stream",
     "text": [
      "\u001b[36m(ClientAppActor pid=109967)\u001b[0m [Client] Client on device: cuda:0\n",
      "\u001b[36m(ClientAppActor pid=109967)\u001b[0m [Client] CUDA available in client: True\n"
     ]
    },
    {
     "name": "stderr",
     "output_type": "stream",
     "text": [
      "Eval progress:   0%|          | 0/2 [00:00<?, ?batch/s]\n",
      "Eval progress:  50%|█████     | 1/2 [00:00<00:00,  6.25batch/s]\n",
      "Eval progress: 100%|██████████| 2/2 [00:00<00:00,  8.02batch/s]\n"
     ]
    },
    {
     "name": "stdout",
     "output_type": "stream",
     "text": [
      "\u001b[36m(ClientAppActor pid=109967)\u001b[0m [Client] Client on device: cuda:0\n",
      "\u001b[36m(ClientAppActor pid=109967)\u001b[0m [Client] CUDA available in client: True\n"
     ]
    },
    {
     "name": "stderr",
     "output_type": "stream",
     "text": [
      "Eval progress:   0%|          | 0/2 [00:00<?, ?batch/s]\n",
      "Eval progress: 100%|██████████| 2/2 [00:00<00:00,  8.80batch/s]\n"
     ]
    },
    {
     "name": "stdout",
     "output_type": "stream",
     "text": [
      "\u001b[36m(ClientAppActor pid=109967)\u001b[0m [Client] Client on device: cuda:0\n",
      "\u001b[36m(ClientAppActor pid=109967)\u001b[0m [Client] CUDA available in client: True\n"
     ]
    },
    {
     "name": "stderr",
     "output_type": "stream",
     "text": [
      "Eval progress:   0%|          | 0/2 [00:00<?, ?batch/s]\n",
      "Eval progress: 100%|██████████| 2/2 [00:00<00:00,  8.87batch/s]\n"
     ]
    },
    {
     "name": "stdout",
     "output_type": "stream",
     "text": [
      "\u001b[36m(ClientAppActor pid=109967)\u001b[0m [Client] Client on device: cuda:0\n",
      "\u001b[36m(ClientAppActor pid=109967)\u001b[0m [Client] CUDA available in client: True\n"
     ]
    },
    {
     "name": "stderr",
     "output_type": "stream",
     "text": [
      "Eval progress:   0%|          | 0/2 [00:00<?, ?batch/s]\n",
      "Eval progress: 100%|██████████| 2/2 [00:00<00:00,  8.84batch/s]\n"
     ]
    },
    {
     "name": "stdout",
     "output_type": "stream",
     "text": [
      "\u001b[36m(ClientAppActor pid=109967)\u001b[0m [Client] Client on device: cuda:0\n",
      "\u001b[36m(ClientAppActor pid=109967)\u001b[0m [Client] CUDA available in client: True\n"
     ]
    },
    {
     "name": "stderr",
     "output_type": "stream",
     "text": [
      "Eval progress:   0%|          | 0/2 [00:00<?, ?batch/s]\n",
      "Eval progress: 100%|██████████| 2/2 [00:00<00:00,  8.95batch/s]\n",
      "\u001b[92mINFO \u001b[0m:      aggregate_evaluate: received 10 results and 0 failures\n",
      "\u001b[92mINFO \u001b[0m:      \n",
      "\u001b[92mINFO \u001b[0m:      [ROUND 10]\n",
      "\u001b[92mINFO \u001b[0m:      configure_fit: strategy sampled 10 clients (out of 100)\n"
     ]
    },
    {
     "name": "stdout",
     "output_type": "stream",
     "text": [
      "\u001b[36m(ClientAppActor pid=109967)\u001b[0m [Client] Client on device: cuda:0\n",
      "\u001b[36m(ClientAppActor pid=109967)\u001b[0m [Client] CUDA available in client: True\n",
      "\u001b[36m(ClientAppActor pid=109967)\u001b[0m No prefix/name for the model was provided, choosen prefix/name: spunky_pidgeotto_32\n",
      "\u001b[36m(ClientAppActor pid=109967)\u001b[0m \n",
      "\u001b[36m(ClientAppActor pid=109967)\u001b[0m Step 1/8 | Total batches: 7\n",
      "\u001b[36m(ClientAppActor pid=109967)\u001b[0m Step 2/8 | Total batches: 7\n",
      "\u001b[36m(ClientAppActor pid=109967)\u001b[0m Step 3/8 | Total batches: 7\n",
      "\u001b[36m(ClientAppActor pid=109967)\u001b[0m Step 4/8 | Total batches: 7\n",
      "\u001b[36m(ClientAppActor pid=109967)\u001b[0m Step 5/8 | Total batches: 7\n",
      "\u001b[36m(ClientAppActor pid=109967)\u001b[0m Step 6/8 | Total batches: 7\n",
      "\u001b[36m(ClientAppActor pid=109967)\u001b[0m Step 7/8 | Total batches: 7\n",
      "\u001b[36m(ClientAppActor pid=109967)\u001b[0m Step 8/8 | Total batches: 7\n",
      "\u001b[36m(ClientAppActor pid=109967)\u001b[0m 🚀 Epoch 1/1 (100.00%) Completed\n",
      "\u001b[36m(ClientAppActor pid=109967)\u001b[0m \t📊 Training Loss: 1.1713\n",
      "\u001b[36m(ClientAppActor pid=109967)\u001b[0m \t✅ Training Accuracy: 73.71%\n",
      "\u001b[36m(ClientAppActor pid=109967)\u001b[0m \t⏳ Elapsed Time: 1.08s | ETA: 0.00s\n",
      "\u001b[36m(ClientAppActor pid=109967)\u001b[0m \t🕒 Completed At: 23:13\n",
      "\u001b[36m(ClientAppActor pid=109967)\u001b[0m \n",
      "\u001b[36m(ClientAppActor pid=109967)\u001b[0m [Client] Client on device: cuda:0\n",
      "\u001b[36m(ClientAppActor pid=109967)\u001b[0m [Client] CUDA available in client: True\n",
      "\u001b[36m(ClientAppActor pid=109967)\u001b[0m No prefix/name for the model was provided, choosen prefix/name: spooky_fearow_41\n",
      "\u001b[36m(ClientAppActor pid=109967)\u001b[0m \n",
      "\u001b[36m(ClientAppActor pid=109967)\u001b[0m Step 1/8 | Total batches: 7\n",
      "\u001b[36m(ClientAppActor pid=109967)\u001b[0m Step 2/8 | Total batches: 7\n",
      "\u001b[36m(ClientAppActor pid=109967)\u001b[0m Step 3/8 | Total batches: 7\n",
      "\u001b[36m(ClientAppActor pid=109967)\u001b[0m Step 4/8 | Total batches: 7\n",
      "\u001b[36m(ClientAppActor pid=109967)\u001b[0m Step 5/8 | Total batches: 7\n",
      "\u001b[36m(ClientAppActor pid=109967)\u001b[0m Step 6/8 | Total batches: 7\n",
      "\u001b[36m(ClientAppActor pid=109967)\u001b[0m Step 7/8 | Total batches: 7\n",
      "\u001b[36m(ClientAppActor pid=109967)\u001b[0m Step 8/8 | Total batches: 7\n",
      "\u001b[36m(ClientAppActor pid=109967)\u001b[0m 🚀 Epoch 1/1 (100.00%) Completed\n",
      "\u001b[36m(ClientAppActor pid=109967)\u001b[0m \t📊 Training Loss: 1.2201\n",
      "\u001b[36m(ClientAppActor pid=109967)\u001b[0m \t✅ Training Accuracy: 74.57%\n",
      "\u001b[36m(ClientAppActor pid=109967)\u001b[0m \t⏳ Elapsed Time: 1.08s | ETA: 0.00s\n",
      "\u001b[36m(ClientAppActor pid=109967)\u001b[0m \t🕒 Completed At: 23:13\n",
      "\u001b[36m(ClientAppActor pid=109967)\u001b[0m \n",
      "\u001b[36m(ClientAppActor pid=109967)\u001b[0m [Client] Client on device: cuda:0\n",
      "\u001b[36m(ClientAppActor pid=109967)\u001b[0m [Client] CUDA available in client: True\n",
      "\u001b[36m(ClientAppActor pid=109967)\u001b[0m No prefix/name for the model was provided, choosen prefix/name: spunky_beedrill_51\n",
      "\u001b[36m(ClientAppActor pid=109967)\u001b[0m \n",
      "\u001b[36m(ClientAppActor pid=109967)\u001b[0m Step 1/8 | Total batches: 7\n",
      "\u001b[36m(ClientAppActor pid=109967)\u001b[0m Step 2/8 | Total batches: 7\n",
      "\u001b[36m(ClientAppActor pid=109967)\u001b[0m Step 3/8 | Total batches: 7\n",
      "\u001b[36m(ClientAppActor pid=109967)\u001b[0m Step 4/8 | Total batches: 7\n",
      "\u001b[36m(ClientAppActor pid=109967)\u001b[0m Step 5/8 | Total batches: 7\n",
      "\u001b[36m(ClientAppActor pid=109967)\u001b[0m Step 6/8 | Total batches: 7\n",
      "\u001b[36m(ClientAppActor pid=109967)\u001b[0m Step 7/8 | Total batches: 7\n",
      "\u001b[36m(ClientAppActor pid=109967)\u001b[0m Step 8/8 | Total batches: 7\n",
      "\u001b[36m(ClientAppActor pid=109967)\u001b[0m 🚀 Epoch 1/1 (100.00%) Completed\n",
      "\u001b[36m(ClientAppActor pid=109967)\u001b[0m \t📊 Training Loss: 0.5096\n",
      "\u001b[36m(ClientAppActor pid=109967)\u001b[0m \t✅ Training Accuracy: 85.13%\n",
      "\u001b[36m(ClientAppActor pid=109967)\u001b[0m \t⏳ Elapsed Time: 1.11s | ETA: 0.00s\n",
      "\u001b[36m(ClientAppActor pid=109967)\u001b[0m \t🕒 Completed At: 23:13\n",
      "\u001b[36m(ClientAppActor pid=109967)\u001b[0m \n",
      "\u001b[36m(ClientAppActor pid=109967)\u001b[0m [Client] Client on device: cuda:0\n",
      "\u001b[36m(ClientAppActor pid=109967)\u001b[0m [Client] CUDA available in client: True\n",
      "\u001b[36m(ClientAppActor pid=109967)\u001b[0m No prefix/name for the model was provided, choosen prefix/name: quirky_squirtle_52\n",
      "\u001b[36m(ClientAppActor pid=109967)\u001b[0m \n",
      "\u001b[36m(ClientAppActor pid=109967)\u001b[0m Step 1/8 | Total batches: 7\n",
      "\u001b[36m(ClientAppActor pid=109967)\u001b[0m Step 2/8 | Total batches: 7\n",
      "\u001b[36m(ClientAppActor pid=109967)\u001b[0m Step 3/8 | Total batches: 7\n",
      "\u001b[36m(ClientAppActor pid=109967)\u001b[0m Step 4/8 | Total batches: 7\n",
      "\u001b[36m(ClientAppActor pid=109967)\u001b[0m Step 5/8 | Total batches: 7\n",
      "\u001b[36m(ClientAppActor pid=109967)\u001b[0m Step 6/8 | Total batches: 7\n",
      "\u001b[36m(ClientAppActor pid=109967)\u001b[0m Step 7/8 | Total batches: 7\n",
      "\u001b[36m(ClientAppActor pid=109967)\u001b[0m Step 8/8 | Total batches: 7\n",
      "\u001b[36m(ClientAppActor pid=109967)\u001b[0m 🚀 Epoch 1/1 (100.00%) Completed\n",
      "\u001b[36m(ClientAppActor pid=109967)\u001b[0m \t📊 Training Loss: 1.4270\n",
      "\u001b[36m(ClientAppActor pid=109967)\u001b[0m \t✅ Training Accuracy: 73.06%\n",
      "\u001b[36m(ClientAppActor pid=109967)\u001b[0m \t⏳ Elapsed Time: 1.17s | ETA: 0.00s\n",
      "\u001b[36m(ClientAppActor pid=109967)\u001b[0m \t🕒 Completed At: 23:13\n",
      "\u001b[36m(ClientAppActor pid=109967)\u001b[0m \n",
      "\u001b[36m(ClientAppActor pid=109967)\u001b[0m [Client] Client on device: cuda:0\n",
      "\u001b[36m(ClientAppActor pid=109967)\u001b[0m [Client] CUDA available in client: True\n",
      "\u001b[36m(ClientAppActor pid=109967)\u001b[0m No prefix/name for the model was provided, choosen prefix/name: funky_pidgeot_99\n",
      "\u001b[36m(ClientAppActor pid=109967)\u001b[0m \n",
      "\u001b[36m(ClientAppActor pid=109967)\u001b[0m Step 1/8 | Total batches: 7\n",
      "\u001b[36m(ClientAppActor pid=109967)\u001b[0m Step 2/8 | Total batches: 7\n",
      "\u001b[36m(ClientAppActor pid=109967)\u001b[0m Step 3/8 | Total batches: 7\n",
      "\u001b[36m(ClientAppActor pid=109967)\u001b[0m Step 4/8 | Total batches: 7\n",
      "\u001b[36m(ClientAppActor pid=109967)\u001b[0m Step 5/8 | Total batches: 7\n",
      "\u001b[36m(ClientAppActor pid=109967)\u001b[0m Step 6/8 | Total batches: 7\n",
      "\u001b[36m(ClientAppActor pid=109967)\u001b[0m Step 7/8 | Total batches: 7\n",
      "\u001b[36m(ClientAppActor pid=109967)\u001b[0m Step 8/8 | Total batches: 7\n",
      "\u001b[36m(ClientAppActor pid=109967)\u001b[0m 🚀 Epoch 1/1 (100.00%) Completed\n",
      "\u001b[36m(ClientAppActor pid=109967)\u001b[0m \t📊 Training Loss: 1.4437\n",
      "\u001b[36m(ClientAppActor pid=109967)\u001b[0m \t✅ Training Accuracy: 72.41%\n",
      "\u001b[36m(ClientAppActor pid=109967)\u001b[0m \t⏳ Elapsed Time: 1.19s | ETA: 0.00s\n",
      "\u001b[36m(ClientAppActor pid=109967)\u001b[0m \t🕒 Completed At: 23:13\n",
      "\u001b[36m(ClientAppActor pid=109967)\u001b[0m \n",
      "\u001b[36m(ClientAppActor pid=109967)\u001b[0m [Client] Client on device: cuda:0\n",
      "\u001b[36m(ClientAppActor pid=109967)\u001b[0m [Client] CUDA available in client: True\n",
      "\u001b[36m(ClientAppActor pid=109967)\u001b[0m No prefix/name for the model was provided, choosen prefix/name: peppy_venusaur_90\n",
      "\u001b[36m(ClientAppActor pid=109967)\u001b[0m \n",
      "\u001b[36m(ClientAppActor pid=109967)\u001b[0m Step 1/8 | Total batches: 7\n",
      "\u001b[36m(ClientAppActor pid=109967)\u001b[0m Step 2/8 | Total batches: 7\n",
      "\u001b[36m(ClientAppActor pid=109967)\u001b[0m Step 3/8 | Total batches: 7\n",
      "\u001b[36m(ClientAppActor pid=109967)\u001b[0m Step 4/8 | Total batches: 7\n",
      "\u001b[36m(ClientAppActor pid=109967)\u001b[0m Step 5/8 | Total batches: 7\n",
      "\u001b[36m(ClientAppActor pid=109967)\u001b[0m Step 6/8 | Total batches: 7\n",
      "\u001b[36m(ClientAppActor pid=109967)\u001b[0m Step 7/8 | Total batches: 7\n",
      "\u001b[36m(ClientAppActor pid=109967)\u001b[0m Step 8/8 | Total batches: 7\n",
      "\u001b[36m(ClientAppActor pid=109967)\u001b[0m 🚀 Epoch 1/1 (100.00%) Completed\n",
      "\u001b[36m(ClientAppActor pid=109967)\u001b[0m \t📊 Training Loss: 0.5411\n",
      "\u001b[36m(ClientAppActor pid=109967)\u001b[0m \t✅ Training Accuracy: 85.78%\n",
      "\u001b[36m(ClientAppActor pid=109967)\u001b[0m \t⏳ Elapsed Time: 1.07s | ETA: 0.00s\n",
      "\u001b[36m(ClientAppActor pid=109967)\u001b[0m \t🕒 Completed At: 23:13\n",
      "\u001b[36m(ClientAppActor pid=109967)\u001b[0m \n",
      "\u001b[36m(ClientAppActor pid=109967)\u001b[0m [Client] Client on device: cuda:0\n",
      "\u001b[36m(ClientAppActor pid=109967)\u001b[0m [Client] CUDA available in client: True\n",
      "\u001b[36m(ClientAppActor pid=109967)\u001b[0m No prefix/name for the model was provided, choosen prefix/name: bouncy_nidoqueen_51\n",
      "\u001b[36m(ClientAppActor pid=109967)\u001b[0m \n",
      "\u001b[36m(ClientAppActor pid=109967)\u001b[0m Step 1/8 | Total batches: 7\n",
      "\u001b[36m(ClientAppActor pid=109967)\u001b[0m Step 2/8 | Total batches: 7\n",
      "\u001b[36m(ClientAppActor pid=109967)\u001b[0m Step 3/8 | Total batches: 7\n",
      "\u001b[36m(ClientAppActor pid=109967)\u001b[0m Step 4/8 | Total batches: 7\n",
      "\u001b[36m(ClientAppActor pid=109967)\u001b[0m Step 5/8 | Total batches: 7\n",
      "\u001b[36m(ClientAppActor pid=109967)\u001b[0m Step 6/8 | Total batches: 7\n",
      "\u001b[36m(ClientAppActor pid=109967)\u001b[0m Step 7/8 | Total batches: 7\n",
      "\u001b[36m(ClientAppActor pid=109967)\u001b[0m Step 8/8 | Total batches: 7\n",
      "\u001b[36m(ClientAppActor pid=109967)\u001b[0m 🚀 Epoch 1/1 (100.00%) Completed\n",
      "\u001b[36m(ClientAppActor pid=109967)\u001b[0m \t📊 Training Loss: 1.6920\n",
      "\u001b[36m(ClientAppActor pid=109967)\u001b[0m \t✅ Training Accuracy: 72.20%\n",
      "\u001b[36m(ClientAppActor pid=109967)\u001b[0m \t⏳ Elapsed Time: 1.11s | ETA: 0.00s\n",
      "\u001b[36m(ClientAppActor pid=109967)\u001b[0m \t🕒 Completed At: 23:13\n",
      "\u001b[36m(ClientAppActor pid=109967)\u001b[0m \n",
      "\u001b[36m(ClientAppActor pid=109967)\u001b[0m [Client] Client on device: cuda:0\n",
      "\u001b[36m(ClientAppActor pid=109967)\u001b[0m [Client] CUDA available in client: True\n",
      "\u001b[36m(ClientAppActor pid=109967)\u001b[0m No prefix/name for the model was provided, choosen prefix/name: sneezy_weedle_89\n",
      "\u001b[36m(ClientAppActor pid=109967)\u001b[0m \n",
      "\u001b[36m(ClientAppActor pid=109967)\u001b[0m Step 1/8 | Total batches: 7\n",
      "\u001b[36m(ClientAppActor pid=109967)\u001b[0m Step 2/8 | Total batches: 7\n",
      "\u001b[36m(ClientAppActor pid=109967)\u001b[0m Step 3/8 | Total batches: 7\n",
      "\u001b[36m(ClientAppActor pid=109967)\u001b[0m Step 4/8 | Total batches: 7\n",
      "\u001b[36m(ClientAppActor pid=109967)\u001b[0m Step 5/8 | Total batches: 7\n",
      "\u001b[36m(ClientAppActor pid=109967)\u001b[0m Step 6/8 | Total batches: 7\n",
      "\u001b[36m(ClientAppActor pid=109967)\u001b[0m Step 7/8 | Total batches: 7\n",
      "\u001b[36m(ClientAppActor pid=109967)\u001b[0m Step 8/8 | Total batches: 7\n",
      "\u001b[36m(ClientAppActor pid=109967)\u001b[0m 🚀 Epoch 1/1 (100.00%) Completed\n",
      "\u001b[36m(ClientAppActor pid=109967)\u001b[0m \t📊 Training Loss: 1.5486\n",
      "\u001b[36m(ClientAppActor pid=109967)\u001b[0m \t✅ Training Accuracy: 72.41%\n",
      "\u001b[36m(ClientAppActor pid=109967)\u001b[0m \t⏳ Elapsed Time: 1.11s | ETA: 0.00s\n",
      "\u001b[36m(ClientAppActor pid=109967)\u001b[0m \t🕒 Completed At: 23:13\n",
      "\u001b[36m(ClientAppActor pid=109967)\u001b[0m \n",
      "\u001b[36m(ClientAppActor pid=109967)\u001b[0m [Client] Client on device: cuda:0\n",
      "\u001b[36m(ClientAppActor pid=109967)\u001b[0m [Client] CUDA available in client: True\n",
      "\u001b[36m(ClientAppActor pid=109967)\u001b[0m No prefix/name for the model was provided, choosen prefix/name: breezy_nidoking_63\n",
      "\u001b[36m(ClientAppActor pid=109967)\u001b[0m \n",
      "\u001b[36m(ClientAppActor pid=109967)\u001b[0m Step 1/8 | Total batches: 7\n",
      "\u001b[36m(ClientAppActor pid=109967)\u001b[0m Step 2/8 | Total batches: 7\n",
      "\u001b[36m(ClientAppActor pid=109967)\u001b[0m Step 3/8 | Total batches: 7\n",
      "\u001b[36m(ClientAppActor pid=109967)\u001b[0m Step 4/8 | Total batches: 7\n",
      "\u001b[36m(ClientAppActor pid=109967)\u001b[0m Step 5/8 | Total batches: 7\n",
      "\u001b[36m(ClientAppActor pid=109967)\u001b[0m Step 6/8 | Total batches: 7\n",
      "\u001b[36m(ClientAppActor pid=109967)\u001b[0m Step 7/8 | Total batches: 7\n",
      "\u001b[36m(ClientAppActor pid=109967)\u001b[0m Step 8/8 | Total batches: 7\n",
      "\u001b[36m(ClientAppActor pid=109967)\u001b[0m 🚀 Epoch 1/1 (100.00%) Completed\n",
      "\u001b[36m(ClientAppActor pid=109967)\u001b[0m \t📊 Training Loss: 1.2745\n",
      "\u001b[36m(ClientAppActor pid=109967)\u001b[0m \t✅ Training Accuracy: 72.63%\n",
      "\u001b[36m(ClientAppActor pid=109967)\u001b[0m \t⏳ Elapsed Time: 1.10s | ETA: 0.00s\n",
      "\u001b[36m(ClientAppActor pid=109967)\u001b[0m \t🕒 Completed At: 23:13\n",
      "\u001b[36m(ClientAppActor pid=109967)\u001b[0m \n",
      "\u001b[36m(ClientAppActor pid=109967)\u001b[0m [Client] Client on device: cuda:0\n",
      "\u001b[36m(ClientAppActor pid=109967)\u001b[0m [Client] CUDA available in client: True\n",
      "\u001b[36m(ClientAppActor pid=109967)\u001b[0m No prefix/name for the model was provided, choosen prefix/name: frosty_nidorino_16\n",
      "\u001b[36m(ClientAppActor pid=109967)\u001b[0m \n",
      "\u001b[36m(ClientAppActor pid=109967)\u001b[0m Step 1/8 | Total batches: 7\n",
      "\u001b[36m(ClientAppActor pid=109967)\u001b[0m Step 2/8 | Total batches: 7\n",
      "\u001b[36m(ClientAppActor pid=109967)\u001b[0m Step 3/8 | Total batches: 7\n",
      "\u001b[36m(ClientAppActor pid=109967)\u001b[0m Step 4/8 | Total batches: 7\n",
      "\u001b[36m(ClientAppActor pid=109967)\u001b[0m Step 5/8 | Total batches: 7\n",
      "\u001b[36m(ClientAppActor pid=109967)\u001b[0m Step 6/8 | Total batches: 7\n",
      "\u001b[36m(ClientAppActor pid=109967)\u001b[0m Step 7/8 | Total batches: 7\n",
      "\u001b[36m(ClientAppActor pid=109967)\u001b[0m Step 8/8 | Total batches: 7\n",
      "\u001b[36m(ClientAppActor pid=109967)\u001b[0m 🚀 Epoch 1/1 (100.00%) Completed\n",
      "\u001b[36m(ClientAppActor pid=109967)\u001b[0m \t📊 Training Loss: 0.9569\n",
      "\u001b[36m(ClientAppActor pid=109967)\u001b[0m \t✅ Training Accuracy: 76.94%\n",
      "\u001b[36m(ClientAppActor pid=109967)\u001b[0m \t⏳ Elapsed Time: 1.11s | ETA: 0.00s\n",
      "\u001b[36m(ClientAppActor pid=109967)\u001b[0m \t🕒 Completed At: 23:13\n",
      "\u001b[36m(ClientAppActor pid=109967)\u001b[0m \n"
     ]
    },
    {
     "name": "stderr",
     "output_type": "stream",
     "text": [
      "\u001b[92mINFO \u001b[0m:      aggregate_fit: received 10 results and 0 failures\n",
      "\u001b[92mINFO \u001b[0m:      [Round 10] Avg Drift: 0.0016 | Relative Drift: 0.0000\n",
      "\u001b[92mINFO \u001b[0m:      [Round 10] Saving aggregated model at epoch 10...\n"
     ]
    },
    {
     "name": "stdout",
     "output_type": "stream",
     "text": [
      "💾 Saved checkpoint at: /home/massimiliano/Projects/fl-g13/notebooks/../models/fl_dino_v4/non_iid/1_8/editing/fl_fl_baseline_BaseDino_epoch_10.pth\n",
      "[Server Eval Round 10] Model device: cuda:0\n",
      "[Server Eval Round 10] CUDA available in server eval: True\n"
     ]
    },
    {
     "name": "stderr",
     "output_type": "stream",
     "text": [
      "Eval progress: 100%|██████████| 313/313 [00:23<00:00, 13.23batch/s]\n",
      "\u001b[92mINFO \u001b[0m:      [Round 10] Centralized Evaluation - Loss: 5.3773, Metrics: {'centralized_accuracy': 0.0266}\n",
      "\u001b[92mINFO \u001b[0m:      fit progress: (10, 5.377259144767786, {'centralized_accuracy': 0.0266}, 271.8175947510026)\n",
      "\u001b[92mINFO \u001b[0m:      configure_evaluate: strategy sampled 10 clients (out of 100)\n"
     ]
    },
    {
     "name": "stdout",
     "output_type": "stream",
     "text": [
      "\u001b[36m(ClientAppActor pid=109967)\u001b[0m [Client] Client on device: cuda:0\n",
      "\u001b[36m(ClientAppActor pid=109967)\u001b[0m [Client] CUDA available in client: True\n"
     ]
    },
    {
     "name": "stderr",
     "output_type": "stream",
     "text": [
      "Eval progress:   0%|          | 0/2 [00:00<?, ?batch/s]\n",
      "Eval progress:  50%|█████     | 1/2 [00:00<00:00,  6.44batch/s]\n",
      "Eval progress: 100%|██████████| 2/2 [00:00<00:00,  8.26batch/s]\n"
     ]
    },
    {
     "name": "stdout",
     "output_type": "stream",
     "text": [
      "\u001b[36m(ClientAppActor pid=109967)\u001b[0m [Client] Client on device: cuda:0\n",
      "\u001b[36m(ClientAppActor pid=109967)\u001b[0m [Client] CUDA available in client: True\n"
     ]
    },
    {
     "name": "stderr",
     "output_type": "stream",
     "text": [
      "Eval progress:   0%|          | 0/2 [00:00<?, ?batch/s]\n",
      "Eval progress: 100%|██████████| 2/2 [00:00<00:00,  8.20batch/s]\n"
     ]
    },
    {
     "name": "stdout",
     "output_type": "stream",
     "text": [
      "\u001b[36m(ClientAppActor pid=109967)\u001b[0m [Client] Client on device: cuda:0\n",
      "\u001b[36m(ClientAppActor pid=109967)\u001b[0m [Client] CUDA available in client: True\n"
     ]
    },
    {
     "name": "stderr",
     "output_type": "stream",
     "text": [
      "Eval progress:   0%|          | 0/2 [00:00<?, ?batch/s]\n",
      "Eval progress:  50%|█████     | 1/2 [00:00<00:00,  6.49batch/s]\n",
      "Eval progress: 100%|██████████| 2/2 [00:00<00:00,  8.55batch/s]\n"
     ]
    },
    {
     "name": "stdout",
     "output_type": "stream",
     "text": [
      "\u001b[36m(ClientAppActor pid=109967)\u001b[0m [Client] Client on device: cuda:0\n",
      "\u001b[36m(ClientAppActor pid=109967)\u001b[0m [Client] CUDA available in client: True\n"
     ]
    },
    {
     "name": "stderr",
     "output_type": "stream",
     "text": [
      "Eval progress:   0%|          | 0/2 [00:00<?, ?batch/s]\n",
      "Eval progress:  50%|█████     | 1/2 [00:00<00:00,  6.60batch/s]\n",
      "Eval progress: 100%|██████████| 2/2 [00:00<00:00,  8.48batch/s]\n"
     ]
    },
    {
     "name": "stdout",
     "output_type": "stream",
     "text": [
      "\u001b[36m(ClientAppActor pid=109967)\u001b[0m [Client] Client on device: cuda:0\n",
      "\u001b[36m(ClientAppActor pid=109967)\u001b[0m [Client] CUDA available in client: True\n"
     ]
    },
    {
     "name": "stderr",
     "output_type": "stream",
     "text": [
      "Eval progress:   0%|          | 0/2 [00:00<?, ?batch/s]\n",
      "Eval progress:  50%|█████     | 1/2 [00:00<00:00,  6.58batch/s]\n",
      "Eval progress: 100%|██████████| 2/2 [00:00<00:00,  8.53batch/s]\n"
     ]
    },
    {
     "name": "stdout",
     "output_type": "stream",
     "text": [
      "\u001b[36m(ClientAppActor pid=109967)\u001b[0m [Client] Client on device: cuda:0\n",
      "\u001b[36m(ClientAppActor pid=109967)\u001b[0m [Client] CUDA available in client: True\n"
     ]
    },
    {
     "name": "stderr",
     "output_type": "stream",
     "text": [
      "Eval progress:   0%|          | 0/2 [00:00<?, ?batch/s]\n",
      "Eval progress:  50%|█████     | 1/2 [00:00<00:00,  6.65batch/s]\n",
      "Eval progress: 100%|██████████| 2/2 [00:00<00:00,  8.61batch/s]\n"
     ]
    },
    {
     "name": "stdout",
     "output_type": "stream",
     "text": [
      "\u001b[36m(ClientAppActor pid=109967)\u001b[0m [Client] Client on device: cuda:0\n",
      "\u001b[36m(ClientAppActor pid=109967)\u001b[0m [Client] CUDA available in client: True\n"
     ]
    },
    {
     "name": "stderr",
     "output_type": "stream",
     "text": [
      "Eval progress:   0%|          | 0/2 [00:00<?, ?batch/s]\n",
      "Eval progress:  50%|█████     | 1/2 [00:00<00:00,  6.64batch/s]\n",
      "Eval progress: 100%|██████████| 2/2 [00:00<00:00,  8.63batch/s]\n"
     ]
    },
    {
     "name": "stdout",
     "output_type": "stream",
     "text": [
      "\u001b[36m(ClientAppActor pid=109967)\u001b[0m [Client] Client on device: cuda:0\n",
      "\u001b[36m(ClientAppActor pid=109967)\u001b[0m [Client] CUDA available in client: True\n"
     ]
    },
    {
     "name": "stderr",
     "output_type": "stream",
     "text": [
      "Eval progress:   0%|          | 0/2 [00:00<?, ?batch/s]\n",
      "Eval progress:  50%|█████     | 1/2 [00:00<00:00,  6.76batch/s]\n",
      "Eval progress: 100%|██████████| 2/2 [00:00<00:00,  8.74batch/s]\n"
     ]
    },
    {
     "name": "stdout",
     "output_type": "stream",
     "text": [
      "\u001b[36m(ClientAppActor pid=109967)\u001b[0m [Client] Client on device: cuda:0\n",
      "\u001b[36m(ClientAppActor pid=109967)\u001b[0m [Client] CUDA available in client: True\n"
     ]
    },
    {
     "name": "stderr",
     "output_type": "stream",
     "text": [
      "Eval progress:   0%|          | 0/2 [00:00<?, ?batch/s]\n",
      "Eval progress: 100%|██████████| 2/2 [00:00<00:00,  7.93batch/s]\n"
     ]
    },
    {
     "name": "stdout",
     "output_type": "stream",
     "text": [
      "\u001b[36m(ClientAppActor pid=109967)\u001b[0m [Client] Client on device: cuda:0\n",
      "\u001b[36m(ClientAppActor pid=109967)\u001b[0m [Client] CUDA available in client: True\n"
     ]
    },
    {
     "name": "stderr",
     "output_type": "stream",
     "text": [
      "Eval progress:   0%|          | 0/2 [00:00<?, ?batch/s]\n",
      "Eval progress:  50%|█████     | 1/2 [00:00<00:00,  6.18batch/s]\n",
      "\u001b[92mINFO \u001b[0m:      aggregate_evaluate: received 10 results and 0 failures\n",
      "\u001b[92mINFO \u001b[0m:      \n",
      "\u001b[92mINFO \u001b[0m:      [ROUND 11]\n",
      "\u001b[92mINFO \u001b[0m:      configure_fit: strategy sampled 10 clients (out of 100)\n",
      "Eval progress: 100%|██████████| 2/2 [00:00<00:00,  7.98batch/s]\n"
     ]
    },
    {
     "name": "stdout",
     "output_type": "stream",
     "text": [
      "\u001b[36m(ClientAppActor pid=109967)\u001b[0m [Client] Client on device: cuda:0\n",
      "\u001b[36m(ClientAppActor pid=109967)\u001b[0m [Client] CUDA available in client: True\n",
      "\u001b[36m(ClientAppActor pid=109967)\u001b[0m No prefix/name for the model was provided, choosen prefix/name: mushy_caterpie_31\n",
      "\u001b[36m(ClientAppActor pid=109967)\u001b[0m \n",
      "\u001b[36m(ClientAppActor pid=109967)\u001b[0m Step 1/8 | Total batches: 7\n",
      "\u001b[36m(ClientAppActor pid=109967)\u001b[0m Step 2/8 | Total batches: 7\n",
      "\u001b[36m(ClientAppActor pid=109967)\u001b[0m Step 3/8 | Total batches: 7\n",
      "\u001b[36m(ClientAppActor pid=109967)\u001b[0m Step 4/8 | Total batches: 7\n",
      "\u001b[36m(ClientAppActor pid=109967)\u001b[0m Step 5/8 | Total batches: 7\n",
      "\u001b[36m(ClientAppActor pid=109967)\u001b[0m Step 6/8 | Total batches: 7\n",
      "\u001b[36m(ClientAppActor pid=109967)\u001b[0m Step 7/8 | Total batches: 7\n",
      "\u001b[36m(ClientAppActor pid=109967)\u001b[0m Step 8/8 | Total batches: 7\n",
      "\u001b[36m(ClientAppActor pid=109967)\u001b[0m 🚀 Epoch 1/1 (100.00%) Completed\n",
      "\u001b[36m(ClientAppActor pid=109967)\u001b[0m \t📊 Training Loss: 1.3270\n",
      "\u001b[36m(ClientAppActor pid=109967)\u001b[0m \t✅ Training Accuracy: 72.41%\n",
      "\u001b[36m(ClientAppActor pid=109967)\u001b[0m \t⏳ Elapsed Time: 1.20s | ETA: 0.00s\n",
      "\u001b[36m(ClientAppActor pid=109967)\u001b[0m \t🕒 Completed At: 23:14\n",
      "\u001b[36m(ClientAppActor pid=109967)\u001b[0m \n",
      "\u001b[36m(ClientAppActor pid=109967)\u001b[0m [Client] Client on device: cuda:0\n",
      "\u001b[36m(ClientAppActor pid=109967)\u001b[0m [Client] CUDA available in client: True\n",
      "\u001b[36m(ClientAppActor pid=109967)\u001b[0m No prefix/name for the model was provided, choosen prefix/name: quirky_raticate_55\n",
      "\u001b[36m(ClientAppActor pid=109967)\u001b[0m \n",
      "\u001b[36m(ClientAppActor pid=109967)\u001b[0m Step 1/8 | Total batches: 7\n",
      "\u001b[36m(ClientAppActor pid=109967)\u001b[0m Step 2/8 | Total batches: 7\n",
      "\u001b[36m(ClientAppActor pid=109967)\u001b[0m Step 3/8 | Total batches: 7\n",
      "\u001b[36m(ClientAppActor pid=109967)\u001b[0m Step 4/8 | Total batches: 7\n",
      "\u001b[36m(ClientAppActor pid=109967)\u001b[0m Step 5/8 | Total batches: 7\n",
      "\u001b[36m(ClientAppActor pid=109967)\u001b[0m Step 6/8 | Total batches: 7\n",
      "\u001b[36m(ClientAppActor pid=109967)\u001b[0m Step 7/8 | Total batches: 7\n",
      "\u001b[36m(ClientAppActor pid=109967)\u001b[0m Step 8/8 | Total batches: 7\n",
      "\u001b[36m(ClientAppActor pid=109967)\u001b[0m 🚀 Epoch 1/1 (100.00%) Completed\n",
      "\u001b[36m(ClientAppActor pid=109967)\u001b[0m \t📊 Training Loss: 0.4133\n",
      "\u001b[36m(ClientAppActor pid=109967)\u001b[0m \t✅ Training Accuracy: 89.87%\n",
      "\u001b[36m(ClientAppActor pid=109967)\u001b[0m \t⏳ Elapsed Time: 1.11s | ETA: 0.00s\n",
      "\u001b[36m(ClientAppActor pid=109967)\u001b[0m \t🕒 Completed At: 23:14\n",
      "\u001b[36m(ClientAppActor pid=109967)\u001b[0m \n",
      "\u001b[36m(ClientAppActor pid=109967)\u001b[0m [Client] Client on device: cuda:0\n",
      "\u001b[36m(ClientAppActor pid=109967)\u001b[0m [Client] CUDA available in client: True\n",
      "\u001b[36m(ClientAppActor pid=109967)\u001b[0m No prefix/name for the model was provided, choosen prefix/name: spunky_weedle_10\n",
      "\u001b[36m(ClientAppActor pid=109967)\u001b[0m \n",
      "\u001b[36m(ClientAppActor pid=109967)\u001b[0m Step 1/8 | Total batches: 7\n",
      "\u001b[36m(ClientAppActor pid=109967)\u001b[0m Step 2/8 | Total batches: 7\n",
      "\u001b[36m(ClientAppActor pid=109967)\u001b[0m Step 3/8 | Total batches: 7\n",
      "\u001b[36m(ClientAppActor pid=109967)\u001b[0m Step 4/8 | Total batches: 7\n",
      "\u001b[36m(ClientAppActor pid=109967)\u001b[0m Step 5/8 | Total batches: 7\n",
      "\u001b[36m(ClientAppActor pid=109967)\u001b[0m Step 6/8 | Total batches: 7\n",
      "\u001b[36m(ClientAppActor pid=109967)\u001b[0m Step 7/8 | Total batches: 7\n",
      "\u001b[36m(ClientAppActor pid=109967)\u001b[0m Step 8/8 | Total batches: 7\n",
      "\u001b[36m(ClientAppActor pid=109967)\u001b[0m 🚀 Epoch 1/1 (100.00%) Completed\n",
      "\u001b[36m(ClientAppActor pid=109967)\u001b[0m \t📊 Training Loss: 1.2090\n",
      "\u001b[36m(ClientAppActor pid=109967)\u001b[0m \t✅ Training Accuracy: 74.78%\n",
      "\u001b[36m(ClientAppActor pid=109967)\u001b[0m \t⏳ Elapsed Time: 1.13s | ETA: 0.00s\n",
      "\u001b[36m(ClientAppActor pid=109967)\u001b[0m \t🕒 Completed At: 23:14\n",
      "\u001b[36m(ClientAppActor pid=109967)\u001b[0m \n",
      "\u001b[36m(ClientAppActor pid=109967)\u001b[0m [Client] Client on device: cuda:0\n",
      "\u001b[36m(ClientAppActor pid=109967)\u001b[0m [Client] CUDA available in client: True\n",
      "\u001b[36m(ClientAppActor pid=109967)\u001b[0m No prefix/name for the model was provided, choosen prefix/name: bouncy_weedle_46\n",
      "\u001b[36m(ClientAppActor pid=109967)\u001b[0m \n",
      "\u001b[36m(ClientAppActor pid=109967)\u001b[0m Step 1/8 | Total batches: 7\n",
      "\u001b[36m(ClientAppActor pid=109967)\u001b[0m Step 2/8 | Total batches: 7\n",
      "\u001b[36m(ClientAppActor pid=109967)\u001b[0m Step 3/8 | Total batches: 7\n",
      "\u001b[36m(ClientAppActor pid=109967)\u001b[0m Step 4/8 | Total batches: 7\n",
      "\u001b[36m(ClientAppActor pid=109967)\u001b[0m Step 5/8 | Total batches: 7\n",
      "\u001b[36m(ClientAppActor pid=109967)\u001b[0m Step 6/8 | Total batches: 7\n",
      "\u001b[36m(ClientAppActor pid=109967)\u001b[0m Step 7/8 | Total batches: 7\n",
      "\u001b[36m(ClientAppActor pid=109967)\u001b[0m Step 8/8 | Total batches: 7\n",
      "\u001b[36m(ClientAppActor pid=109967)\u001b[0m 🚀 Epoch 1/1 (100.00%) Completed\n",
      "\u001b[36m(ClientAppActor pid=109967)\u001b[0m \t📊 Training Loss: 0.3396\n",
      "\u001b[36m(ClientAppActor pid=109967)\u001b[0m \t✅ Training Accuracy: 92.24%\n",
      "\u001b[36m(ClientAppActor pid=109967)\u001b[0m \t⏳ Elapsed Time: 1.11s | ETA: 0.00s\n",
      "\u001b[36m(ClientAppActor pid=109967)\u001b[0m \t🕒 Completed At: 23:14\n",
      "\u001b[36m(ClientAppActor pid=109967)\u001b[0m \n",
      "\u001b[36m(ClientAppActor pid=109967)\u001b[0m [Client] Client on device: cuda:0\n",
      "\u001b[36m(ClientAppActor pid=109967)\u001b[0m [Client] CUDA available in client: True\n",
      "\u001b[36m(ClientAppActor pid=109967)\u001b[0m No prefix/name for the model was provided, choosen prefix/name: itchy_charizard_47\n",
      "\u001b[36m(ClientAppActor pid=109967)\u001b[0m \n",
      "\u001b[36m(ClientAppActor pid=109967)\u001b[0m Step 1/8 | Total batches: 7\n",
      "\u001b[36m(ClientAppActor pid=109967)\u001b[0m Step 2/8 | Total batches: 7\n",
      "\u001b[36m(ClientAppActor pid=109967)\u001b[0m Step 3/8 | Total batches: 7\n",
      "\u001b[36m(ClientAppActor pid=109967)\u001b[0m Step 4/8 | Total batches: 7\n",
      "\u001b[36m(ClientAppActor pid=109967)\u001b[0m Step 5/8 | Total batches: 7\n",
      "\u001b[36m(ClientAppActor pid=109967)\u001b[0m Step 6/8 | Total batches: 7\n",
      "\u001b[36m(ClientAppActor pid=109967)\u001b[0m Step 7/8 | Total batches: 7\n",
      "\u001b[36m(ClientAppActor pid=109967)\u001b[0m Step 8/8 | Total batches: 7\n",
      "\u001b[36m(ClientAppActor pid=109967)\u001b[0m 🚀 Epoch 1/1 (100.00%) Completed\n",
      "\u001b[36m(ClientAppActor pid=109967)\u001b[0m \t📊 Training Loss: 1.0882\n",
      "\u001b[36m(ClientAppActor pid=109967)\u001b[0m \t✅ Training Accuracy: 74.57%\n",
      "\u001b[36m(ClientAppActor pid=109967)\u001b[0m \t⏳ Elapsed Time: 1.11s | ETA: 0.00s\n",
      "\u001b[36m(ClientAppActor pid=109967)\u001b[0m \t🕒 Completed At: 23:14\n",
      "\u001b[36m(ClientAppActor pid=109967)\u001b[0m \n",
      "\u001b[36m(ClientAppActor pid=109967)\u001b[0m [Client] Client on device: cuda:0\n",
      "\u001b[36m(ClientAppActor pid=109967)\u001b[0m [Client] CUDA available in client: True\n",
      "\u001b[36m(ClientAppActor pid=109967)\u001b[0m No prefix/name for the model was provided, choosen prefix/name: spunky_pidgeotto_23\n",
      "\u001b[36m(ClientAppActor pid=109967)\u001b[0m \n",
      "\u001b[36m(ClientAppActor pid=109967)\u001b[0m Step 1/8 | Total batches: 7\n",
      "\u001b[36m(ClientAppActor pid=109967)\u001b[0m Step 2/8 | Total batches: 7\n",
      "\u001b[36m(ClientAppActor pid=109967)\u001b[0m Step 3/8 | Total batches: 7\n",
      "\u001b[36m(ClientAppActor pid=109967)\u001b[0m Step 4/8 | Total batches: 7\n",
      "\u001b[36m(ClientAppActor pid=109967)\u001b[0m Step 5/8 | Total batches: 7\n",
      "\u001b[36m(ClientAppActor pid=109967)\u001b[0m Step 6/8 | Total batches: 7\n",
      "\u001b[36m(ClientAppActor pid=109967)\u001b[0m Step 7/8 | Total batches: 7\n",
      "\u001b[36m(ClientAppActor pid=109967)\u001b[0m Step 8/8 | Total batches: 7\n",
      "\u001b[36m(ClientAppActor pid=109967)\u001b[0m 🚀 Epoch 1/1 (100.00%) Completed\n",
      "\u001b[36m(ClientAppActor pid=109967)\u001b[0m \t📊 Training Loss: 1.1860\n",
      "\u001b[36m(ClientAppActor pid=109967)\u001b[0m \t✅ Training Accuracy: 73.49%\n",
      "\u001b[36m(ClientAppActor pid=109967)\u001b[0m \t⏳ Elapsed Time: 1.12s | ETA: 0.00s\n",
      "\u001b[36m(ClientAppActor pid=109967)\u001b[0m \t🕒 Completed At: 23:14\n",
      "\u001b[36m(ClientAppActor pid=109967)\u001b[0m \n",
      "\u001b[36m(ClientAppActor pid=109967)\u001b[0m [Client] Client on device: cuda:0\n",
      "\u001b[36m(ClientAppActor pid=109967)\u001b[0m [Client] CUDA available in client: True\n",
      "\u001b[36m(ClientAppActor pid=109967)\u001b[0m No prefix/name for the model was provided, choosen prefix/name: grumpy_rattata_42\n",
      "\u001b[36m(ClientAppActor pid=109967)\u001b[0m \n",
      "\u001b[36m(ClientAppActor pid=109967)\u001b[0m Step 1/8 | Total batches: 7\n",
      "\u001b[36m(ClientAppActor pid=109967)\u001b[0m Step 2/8 | Total batches: 7\n",
      "\u001b[36m(ClientAppActor pid=109967)\u001b[0m Step 3/8 | Total batches: 7\n",
      "\u001b[36m(ClientAppActor pid=109967)\u001b[0m Step 4/8 | Total batches: 7\n",
      "\u001b[36m(ClientAppActor pid=109967)\u001b[0m Step 5/8 | Total batches: 7\n",
      "\u001b[36m(ClientAppActor pid=109967)\u001b[0m Step 6/8 | Total batches: 7\n",
      "\u001b[36m(ClientAppActor pid=109967)\u001b[0m Step 7/8 | Total batches: 7\n",
      "\u001b[36m(ClientAppActor pid=109967)\u001b[0m Step 8/8 | Total batches: 7\n",
      "\u001b[36m(ClientAppActor pid=109967)\u001b[0m 🚀 Epoch 1/1 (100.00%) Completed\n",
      "\u001b[36m(ClientAppActor pid=109967)\u001b[0m \t📊 Training Loss: 0.9817\n",
      "\u001b[36m(ClientAppActor pid=109967)\u001b[0m \t✅ Training Accuracy: 76.29%\n",
      "\u001b[36m(ClientAppActor pid=109967)\u001b[0m \t⏳ Elapsed Time: 1.20s | ETA: 0.00s\n",
      "\u001b[36m(ClientAppActor pid=109967)\u001b[0m \t🕒 Completed At: 23:14\n",
      "\u001b[36m(ClientAppActor pid=109967)\u001b[0m \n",
      "\u001b[36m(ClientAppActor pid=109967)\u001b[0m [Client] Client on device: cuda:0\n",
      "\u001b[36m(ClientAppActor pid=109967)\u001b[0m [Client] CUDA available in client: True\n",
      "\u001b[36m(ClientAppActor pid=109967)\u001b[0m No prefix/name for the model was provided, choosen prefix/name: jumpy_pidgey_87\n",
      "\u001b[36m(ClientAppActor pid=109967)\u001b[0m \n",
      "\u001b[36m(ClientAppActor pid=109967)\u001b[0m Step 1/8 | Total batches: 7\n",
      "\u001b[36m(ClientAppActor pid=109967)\u001b[0m Step 2/8 | Total batches: 7\n",
      "\u001b[36m(ClientAppActor pid=109967)\u001b[0m Step 3/8 | Total batches: 7\n",
      "\u001b[36m(ClientAppActor pid=109967)\u001b[0m Step 4/8 | Total batches: 7\n",
      "\u001b[36m(ClientAppActor pid=109967)\u001b[0m Step 5/8 | Total batches: 7\n",
      "\u001b[36m(ClientAppActor pid=109967)\u001b[0m Step 6/8 | Total batches: 7\n",
      "\u001b[36m(ClientAppActor pid=109967)\u001b[0m Step 7/8 | Total batches: 7\n",
      "\u001b[36m(ClientAppActor pid=109967)\u001b[0m Step 8/8 | Total batches: 7\n",
      "\u001b[36m(ClientAppActor pid=109967)\u001b[0m 🚀 Epoch 1/1 (100.00%) Completed\n",
      "\u001b[36m(ClientAppActor pid=109967)\u001b[0m \t📊 Training Loss: 1.5395\n",
      "\u001b[36m(ClientAppActor pid=109967)\u001b[0m \t✅ Training Accuracy: 72.41%\n",
      "\u001b[36m(ClientAppActor pid=109967)\u001b[0m \t⏳ Elapsed Time: 1.20s | ETA: 0.00s\n",
      "\u001b[36m(ClientAppActor pid=109967)\u001b[0m \t🕒 Completed At: 23:14\n",
      "\u001b[36m(ClientAppActor pid=109967)\u001b[0m \n",
      "\u001b[36m(ClientAppActor pid=109967)\u001b[0m [Client] Client on device: cuda:0\n",
      "\u001b[36m(ClientAppActor pid=109967)\u001b[0m [Client] CUDA available in client: True\n",
      "\u001b[36m(ClientAppActor pid=109967)\u001b[0m No prefix/name for the model was provided, choosen prefix/name: zany_pidgeot_54\n",
      "\u001b[36m(ClientAppActor pid=109967)\u001b[0m \n",
      "\u001b[36m(ClientAppActor pid=109967)\u001b[0m Step 1/8 | Total batches: 7\n",
      "\u001b[36m(ClientAppActor pid=109967)\u001b[0m Step 2/8 | Total batches: 7\n",
      "\u001b[36m(ClientAppActor pid=109967)\u001b[0m Step 3/8 | Total batches: 7\n",
      "\u001b[36m(ClientAppActor pid=109967)\u001b[0m Step 4/8 | Total batches: 7\n",
      "\u001b[36m(ClientAppActor pid=109967)\u001b[0m Step 5/8 | Total batches: 7\n",
      "\u001b[36m(ClientAppActor pid=109967)\u001b[0m Step 6/8 | Total batches: 7\n",
      "\u001b[36m(ClientAppActor pid=109967)\u001b[0m Step 7/8 | Total batches: 7\n",
      "\u001b[36m(ClientAppActor pid=109967)\u001b[0m Step 8/8 | Total batches: 7\n",
      "\u001b[36m(ClientAppActor pid=109967)\u001b[0m 🚀 Epoch 1/1 (100.00%) Completed\n",
      "\u001b[36m(ClientAppActor pid=109967)\u001b[0m \t📊 Training Loss: 2.3921\n",
      "\u001b[36m(ClientAppActor pid=109967)\u001b[0m \t✅ Training Accuracy: 62.93%\n",
      "\u001b[36m(ClientAppActor pid=109967)\u001b[0m \t⏳ Elapsed Time: 1.16s | ETA: 0.00s\n",
      "\u001b[36m(ClientAppActor pid=109967)\u001b[0m \t🕒 Completed At: 23:14\n",
      "\u001b[36m(ClientAppActor pid=109967)\u001b[0m \n",
      "\u001b[36m(ClientAppActor pid=109967)\u001b[0m [Client] Client on device: cuda:0\n",
      "\u001b[36m(ClientAppActor pid=109967)\u001b[0m [Client] CUDA available in client: True\n",
      "\u001b[36m(ClientAppActor pid=109967)\u001b[0m No prefix/name for the model was provided, choosen prefix/name: chirpy_spearow_18\n",
      "\u001b[36m(ClientAppActor pid=109967)\u001b[0m \n",
      "\u001b[36m(ClientAppActor pid=109967)\u001b[0m Step 1/8 | Total batches: 7\n",
      "\u001b[36m(ClientAppActor pid=109967)\u001b[0m Step 2/8 | Total batches: 7\n",
      "\u001b[36m(ClientAppActor pid=109967)\u001b[0m Step 3/8 | Total batches: 7\n",
      "\u001b[36m(ClientAppActor pid=109967)\u001b[0m Step 4/8 | Total batches: 7\n",
      "\u001b[36m(ClientAppActor pid=109967)\u001b[0m Step 5/8 | Total batches: 7\n",
      "\u001b[36m(ClientAppActor pid=109967)\u001b[0m Step 6/8 | Total batches: 7\n",
      "\u001b[36m(ClientAppActor pid=109967)\u001b[0m Step 7/8 | Total batches: 7\n",
      "\u001b[36m(ClientAppActor pid=109967)\u001b[0m Step 8/8 | Total batches: 7\n",
      "\u001b[36m(ClientAppActor pid=109967)\u001b[0m 🚀 Epoch 1/1 (100.00%) Completed\n",
      "\u001b[36m(ClientAppActor pid=109967)\u001b[0m \t📊 Training Loss: 1.2108\n",
      "\u001b[36m(ClientAppActor pid=109967)\u001b[0m \t✅ Training Accuracy: 73.49%\n",
      "\u001b[36m(ClientAppActor pid=109967)\u001b[0m \t⏳ Elapsed Time: 1.13s | ETA: 0.00s\n",
      "\u001b[36m(ClientAppActor pid=109967)\u001b[0m \t🕒 Completed At: 23:14\n",
      "\u001b[36m(ClientAppActor pid=109967)\u001b[0m \n"
     ]
    },
    {
     "name": "stderr",
     "output_type": "stream",
     "text": [
      "\u001b[92mINFO \u001b[0m:      aggregate_fit: received 10 results and 0 failures\n",
      "\u001b[92mINFO \u001b[0m:      [Round 11] Avg Drift: 0.0014 | Relative Drift: 0.0000\n",
      "\u001b[92mINFO \u001b[0m:      fit progress: (11, {}, {}, 294.30364954000106)\n",
      "\u001b[92mINFO \u001b[0m:      configure_evaluate: strategy sampled 10 clients (out of 100)\n"
     ]
    },
    {
     "name": "stdout",
     "output_type": "stream",
     "text": [
      "\u001b[36m(ClientAppActor pid=109967)\u001b[0m [Client] Client on device: cuda:0\n",
      "\u001b[36m(ClientAppActor pid=109967)\u001b[0m [Client] CUDA available in client: True\n"
     ]
    },
    {
     "name": "stderr",
     "output_type": "stream",
     "text": [
      "Eval progress:   0%|          | 0/2 [00:00<?, ?batch/s]\n",
      "Eval progress:  50%|█████     | 1/2 [00:00<00:00,  6.64batch/s]\n",
      "Eval progress: 100%|██████████| 2/2 [00:00<00:00,  8.53batch/s]\n"
     ]
    },
    {
     "name": "stdout",
     "output_type": "stream",
     "text": [
      "\u001b[36m(ClientAppActor pid=109967)\u001b[0m [Client] Client on device: cuda:0\n",
      "\u001b[36m(ClientAppActor pid=109967)\u001b[0m [Client] CUDA available in client: True\n"
     ]
    },
    {
     "name": "stderr",
     "output_type": "stream",
     "text": [
      "Eval progress:   0%|          | 0/2 [00:00<?, ?batch/s]\n",
      "Eval progress:  50%|█████     | 1/2 [00:00<00:00,  6.60batch/s]\n",
      "Eval progress: 100%|██████████| 2/2 [00:00<00:00,  8.60batch/s]\n"
     ]
    },
    {
     "name": "stdout",
     "output_type": "stream",
     "text": [
      "\u001b[36m(ClientAppActor pid=109967)\u001b[0m [Client] Client on device: cuda:0\n",
      "\u001b[36m(ClientAppActor pid=109967)\u001b[0m [Client] CUDA available in client: True\n"
     ]
    },
    {
     "name": "stderr",
     "output_type": "stream",
     "text": [
      "Eval progress:   0%|          | 0/2 [00:00<?, ?batch/s]\n",
      "Eval progress:  50%|█████     | 1/2 [00:00<00:00,  6.48batch/s]\n",
      "Eval progress: 100%|██████████| 2/2 [00:00<00:00,  8.42batch/s]\n"
     ]
    },
    {
     "name": "stdout",
     "output_type": "stream",
     "text": [
      "\u001b[36m(ClientAppActor pid=109967)\u001b[0m [Client] Client on device: cuda:0\n",
      "\u001b[36m(ClientAppActor pid=109967)\u001b[0m [Client] CUDA available in client: True\n"
     ]
    },
    {
     "name": "stderr",
     "output_type": "stream",
     "text": [
      "Eval progress:   0%|          | 0/2 [00:00<?, ?batch/s]\n",
      "Eval progress:  50%|█████     | 1/2 [00:00<00:00,  6.12batch/s]\n",
      "Eval progress: 100%|██████████| 2/2 [00:00<00:00,  7.97batch/s]\n"
     ]
    },
    {
     "name": "stdout",
     "output_type": "stream",
     "text": [
      "\u001b[36m(ClientAppActor pid=109967)\u001b[0m [Client] Client on device: cuda:0\n",
      "\u001b[36m(ClientAppActor pid=109967)\u001b[0m [Client] CUDA available in client: True\n"
     ]
    },
    {
     "name": "stderr",
     "output_type": "stream",
     "text": [
      "Eval progress:   0%|          | 0/2 [00:00<?, ?batch/s]\n",
      "Eval progress:  50%|█████     | 1/2 [00:00<00:00,  6.16batch/s]\n",
      "Eval progress: 100%|██████████| 2/2 [00:00<00:00,  7.75batch/s]\n"
     ]
    },
    {
     "name": "stdout",
     "output_type": "stream",
     "text": [
      "\u001b[36m(ClientAppActor pid=109967)\u001b[0m [Client] Client on device: cuda:0\n",
      "\u001b[36m(ClientAppActor pid=109967)\u001b[0m [Client] CUDA available in client: True\n"
     ]
    },
    {
     "name": "stderr",
     "output_type": "stream",
     "text": [
      "Eval progress:   0%|          | 0/2 [00:00<?, ?batch/s]\n",
      "Eval progress:  50%|█████     | 1/2 [00:00<00:00,  6.15batch/s]\n",
      "Eval progress: 100%|██████████| 2/2 [00:00<00:00,  7.99batch/s]\n"
     ]
    },
    {
     "name": "stdout",
     "output_type": "stream",
     "text": [
      "\u001b[36m(ClientAppActor pid=109967)\u001b[0m [Client] Client on device: cuda:0\n",
      "\u001b[36m(ClientAppActor pid=109967)\u001b[0m [Client] CUDA available in client: True\n"
     ]
    },
    {
     "name": "stderr",
     "output_type": "stream",
     "text": [
      "Eval progress:   0%|          | 0/2 [00:00<?, ?batch/s]\n",
      "Eval progress: 100%|██████████| 2/2 [00:00<00:00,  8.04batch/s]\n"
     ]
    },
    {
     "name": "stdout",
     "output_type": "stream",
     "text": [
      "\u001b[36m(ClientAppActor pid=109967)\u001b[0m [Client] Client on device: cuda:0\n",
      "\u001b[36m(ClientAppActor pid=109967)\u001b[0m [Client] CUDA available in client: True\n"
     ]
    },
    {
     "name": "stderr",
     "output_type": "stream",
     "text": [
      "Eval progress:   0%|          | 0/2 [00:00<?, ?batch/s]\n",
      "Eval progress:  50%|█████     | 1/2 [00:00<00:00,  5.97batch/s]\n",
      "Eval progress: 100%|██████████| 2/2 [00:00<00:00,  7.73batch/s]\n"
     ]
    },
    {
     "name": "stdout",
     "output_type": "stream",
     "text": [
      "\u001b[36m(ClientAppActor pid=109967)\u001b[0m [Client] Client on device: cuda:0\n",
      "\u001b[36m(ClientAppActor pid=109967)\u001b[0m [Client] CUDA available in client: True\n"
     ]
    },
    {
     "name": "stderr",
     "output_type": "stream",
     "text": [
      "Eval progress:   0%|          | 0/2 [00:00<?, ?batch/s]\n",
      "Eval progress:  50%|█████     | 1/2 [00:00<00:00,  6.71batch/s]\n",
      "Eval progress: 100%|██████████| 2/2 [00:00<00:00,  8.80batch/s]\n"
     ]
    },
    {
     "name": "stdout",
     "output_type": "stream",
     "text": [
      "\u001b[36m(ClientAppActor pid=109967)\u001b[0m [Client] Client on device: cuda:0\n",
      "\u001b[36m(ClientAppActor pid=109967)\u001b[0m [Client] CUDA available in client: True\n"
     ]
    },
    {
     "name": "stderr",
     "output_type": "stream",
     "text": [
      "Eval progress:   0%|          | 0/2 [00:00<?, ?batch/s]\n",
      "Eval progress:  50%|█████     | 1/2 [00:00<00:00,  6.72batch/s]\n",
      "\u001b[92mINFO \u001b[0m:      aggregate_evaluate: received 10 results and 0 failures\n",
      "\u001b[92mINFO \u001b[0m:      \n",
      "\u001b[92mINFO \u001b[0m:      [ROUND 12]\n",
      "\u001b[92mINFO \u001b[0m:      configure_fit: strategy sampled 10 clients (out of 100)\n",
      "Eval progress: 100%|██████████| 2/2 [00:00<00:00,  8.79batch/s]\n"
     ]
    },
    {
     "name": "stdout",
     "output_type": "stream",
     "text": [
      "\u001b[36m(ClientAppActor pid=109967)\u001b[0m [Client] Client on device: cuda:0\n",
      "\u001b[36m(ClientAppActor pid=109967)\u001b[0m [Client] CUDA available in client: True\n",
      "\u001b[36m(ClientAppActor pid=109967)\u001b[0m No prefix/name for the model was provided, choosen prefix/name: fluffy_pidgeotto_94\n",
      "\u001b[36m(ClientAppActor pid=109967)\u001b[0m \n",
      "\u001b[36m(ClientAppActor pid=109967)\u001b[0m Step 1/8 | Total batches: 7\n",
      "\u001b[36m(ClientAppActor pid=109967)\u001b[0m Step 2/8 | Total batches: 7\n",
      "\u001b[36m(ClientAppActor pid=109967)\u001b[0m Step 3/8 | Total batches: 7\n",
      "\u001b[36m(ClientAppActor pid=109967)\u001b[0m Step 4/8 | Total batches: 7\n",
      "\u001b[36m(ClientAppActor pid=109967)\u001b[0m Step 5/8 | Total batches: 7\n",
      "\u001b[36m(ClientAppActor pid=109967)\u001b[0m Step 6/8 | Total batches: 7\n",
      "\u001b[36m(ClientAppActor pid=109967)\u001b[0m Step 7/8 | Total batches: 7\n",
      "\u001b[36m(ClientAppActor pid=109967)\u001b[0m Step 8/8 | Total batches: 7\n",
      "\u001b[36m(ClientAppActor pid=109967)\u001b[0m 🚀 Epoch 1/1 (100.00%) Completed\n",
      "\u001b[36m(ClientAppActor pid=109967)\u001b[0m \t📊 Training Loss: 1.4939\n",
      "\u001b[36m(ClientAppActor pid=109967)\u001b[0m \t✅ Training Accuracy: 72.20%\n",
      "\u001b[36m(ClientAppActor pid=109967)\u001b[0m \t⏳ Elapsed Time: 1.16s | ETA: 0.00s\n",
      "\u001b[36m(ClientAppActor pid=109967)\u001b[0m \t🕒 Completed At: 23:14\n",
      "\u001b[36m(ClientAppActor pid=109967)\u001b[0m \n",
      "\u001b[36m(ClientAppActor pid=109967)\u001b[0m [Client] Client on device: cuda:0\n",
      "\u001b[36m(ClientAppActor pid=109967)\u001b[0m [Client] CUDA available in client: True\n",
      "\u001b[36m(ClientAppActor pid=109967)\u001b[0m No prefix/name for the model was provided, choosen prefix/name: dizzy_sandshrew_39\n",
      "\u001b[36m(ClientAppActor pid=109967)\u001b[0m \n",
      "\u001b[36m(ClientAppActor pid=109967)\u001b[0m Step 1/8 | Total batches: 7\n",
      "\u001b[36m(ClientAppActor pid=109967)\u001b[0m Step 2/8 | Total batches: 7\n",
      "\u001b[36m(ClientAppActor pid=109967)\u001b[0m Step 3/8 | Total batches: 7\n",
      "\u001b[36m(ClientAppActor pid=109967)\u001b[0m Step 4/8 | Total batches: 7\n",
      "\u001b[36m(ClientAppActor pid=109967)\u001b[0m Step 5/8 | Total batches: 7\n",
      "\u001b[36m(ClientAppActor pid=109967)\u001b[0m Step 6/8 | Total batches: 7\n",
      "\u001b[36m(ClientAppActor pid=109967)\u001b[0m Step 7/8 | Total batches: 7\n",
      "\u001b[36m(ClientAppActor pid=109967)\u001b[0m Step 8/8 | Total batches: 7\n",
      "\u001b[36m(ClientAppActor pid=109967)\u001b[0m 🚀 Epoch 1/1 (100.00%) Completed\n",
      "\u001b[36m(ClientAppActor pid=109967)\u001b[0m \t📊 Training Loss: 0.4034\n",
      "\u001b[36m(ClientAppActor pid=109967)\u001b[0m \t✅ Training Accuracy: 91.38%\n",
      "\u001b[36m(ClientAppActor pid=109967)\u001b[0m \t⏳ Elapsed Time: 1.18s | ETA: 0.00s\n",
      "\u001b[36m(ClientAppActor pid=109967)\u001b[0m \t🕒 Completed At: 23:14\n",
      "\u001b[36m(ClientAppActor pid=109967)\u001b[0m \n",
      "\u001b[36m(ClientAppActor pid=109967)\u001b[0m [Client] Client on device: cuda:0\n",
      "\u001b[36m(ClientAppActor pid=109967)\u001b[0m [Client] CUDA available in client: True\n",
      "\u001b[36m(ClientAppActor pid=109967)\u001b[0m No prefix/name for the model was provided, choosen prefix/name: sassy_raichu_22\n",
      "\u001b[36m(ClientAppActor pid=109967)\u001b[0m \n",
      "\u001b[36m(ClientAppActor pid=109967)\u001b[0m Step 1/8 | Total batches: 7\n",
      "\u001b[36m(ClientAppActor pid=109967)\u001b[0m Step 2/8 | Total batches: 7\n",
      "\u001b[36m(ClientAppActor pid=109967)\u001b[0m Step 3/8 | Total batches: 7\n",
      "\u001b[36m(ClientAppActor pid=109967)\u001b[0m Step 4/8 | Total batches: 7\n",
      "\u001b[36m(ClientAppActor pid=109967)\u001b[0m Step 5/8 | Total batches: 7\n",
      "\u001b[36m(ClientAppActor pid=109967)\u001b[0m Step 6/8 | Total batches: 7\n",
      "\u001b[36m(ClientAppActor pid=109967)\u001b[0m Step 7/8 | Total batches: 7\n",
      "\u001b[36m(ClientAppActor pid=109967)\u001b[0m Step 8/8 | Total batches: 7\n",
      "\u001b[36m(ClientAppActor pid=109967)\u001b[0m 🚀 Epoch 1/1 (100.00%) Completed\n",
      "\u001b[36m(ClientAppActor pid=109967)\u001b[0m \t📊 Training Loss: 0.9624\n",
      "\u001b[36m(ClientAppActor pid=109967)\u001b[0m \t✅ Training Accuracy: 75.86%\n",
      "\u001b[36m(ClientAppActor pid=109967)\u001b[0m \t⏳ Elapsed Time: 1.17s | ETA: 0.00s\n",
      "\u001b[36m(ClientAppActor pid=109967)\u001b[0m \t🕒 Completed At: 23:14\n",
      "\u001b[36m(ClientAppActor pid=109967)\u001b[0m \n",
      "\u001b[36m(ClientAppActor pid=109967)\u001b[0m [Client] Client on device: cuda:0\n",
      "\u001b[36m(ClientAppActor pid=109967)\u001b[0m [Client] CUDA available in client: True\n",
      "\u001b[36m(ClientAppActor pid=109967)\u001b[0m No prefix/name for the model was provided, choosen prefix/name: silly_venusaur_71\n",
      "\u001b[36m(ClientAppActor pid=109967)\u001b[0m \n",
      "\u001b[36m(ClientAppActor pid=109967)\u001b[0m Step 1/8 | Total batches: 7\n",
      "\u001b[36m(ClientAppActor pid=109967)\u001b[0m Step 2/8 | Total batches: 7\n",
      "\u001b[36m(ClientAppActor pid=109967)\u001b[0m Step 3/8 | Total batches: 7\n",
      "\u001b[36m(ClientAppActor pid=109967)\u001b[0m Step 4/8 | Total batches: 7\n",
      "\u001b[36m(ClientAppActor pid=109967)\u001b[0m Step 5/8 | Total batches: 7\n",
      "\u001b[36m(ClientAppActor pid=109967)\u001b[0m Step 6/8 | Total batches: 7\n",
      "\u001b[36m(ClientAppActor pid=109967)\u001b[0m Step 7/8 | Total batches: 7\n",
      "\u001b[36m(ClientAppActor pid=109967)\u001b[0m Step 8/8 | Total batches: 7\n",
      "\u001b[36m(ClientAppActor pid=109967)\u001b[0m 🚀 Epoch 1/1 (100.00%) Completed\n",
      "\u001b[36m(ClientAppActor pid=109967)\u001b[0m \t📊 Training Loss: 0.9213\n",
      "\u001b[36m(ClientAppActor pid=109967)\u001b[0m \t✅ Training Accuracy: 79.53%\n",
      "\u001b[36m(ClientAppActor pid=109967)\u001b[0m \t⏳ Elapsed Time: 1.17s | ETA: 0.00s\n",
      "\u001b[36m(ClientAppActor pid=109967)\u001b[0m \t🕒 Completed At: 23:14\n",
      "\u001b[36m(ClientAppActor pid=109967)\u001b[0m \n",
      "\u001b[36m(ClientAppActor pid=109967)\u001b[0m [Client] Client on device: cuda:0\n",
      "\u001b[36m(ClientAppActor pid=109967)\u001b[0m [Client] CUDA available in client: True\n",
      "\u001b[36m(ClientAppActor pid=109967)\u001b[0m No prefix/name for the model was provided, choosen prefix/name: jumpy_ivysaur_96\n",
      "\u001b[36m(ClientAppActor pid=109967)\u001b[0m \n",
      "\u001b[36m(ClientAppActor pid=109967)\u001b[0m Step 1/8 | Total batches: 7\n",
      "\u001b[36m(ClientAppActor pid=109967)\u001b[0m Step 2/8 | Total batches: 7\n",
      "\u001b[36m(ClientAppActor pid=109967)\u001b[0m Step 3/8 | Total batches: 7\n",
      "\u001b[36m(ClientAppActor pid=109967)\u001b[0m Step 4/8 | Total batches: 7\n",
      "\u001b[36m(ClientAppActor pid=109967)\u001b[0m Step 5/8 | Total batches: 7\n",
      "\u001b[36m(ClientAppActor pid=109967)\u001b[0m Step 6/8 | Total batches: 7\n",
      "\u001b[36m(ClientAppActor pid=109967)\u001b[0m Step 7/8 | Total batches: 7\n",
      "\u001b[36m(ClientAppActor pid=109967)\u001b[0m Step 8/8 | Total batches: 7\n",
      "\u001b[36m(ClientAppActor pid=109967)\u001b[0m 🚀 Epoch 1/1 (100.00%) Completed\n",
      "\u001b[36m(ClientAppActor pid=109967)\u001b[0m \t📊 Training Loss: 1.3354\n",
      "\u001b[36m(ClientAppActor pid=109967)\u001b[0m \t✅ Training Accuracy: 72.63%\n",
      "\u001b[36m(ClientAppActor pid=109967)\u001b[0m \t⏳ Elapsed Time: 1.22s | ETA: 0.00s\n",
      "\u001b[36m(ClientAppActor pid=109967)\u001b[0m \t🕒 Completed At: 23:15\n",
      "\u001b[36m(ClientAppActor pid=109967)\u001b[0m \n",
      "\u001b[36m(ClientAppActor pid=109967)\u001b[0m [Client] Client on device: cuda:0\n",
      "\u001b[36m(ClientAppActor pid=109967)\u001b[0m [Client] CUDA available in client: True\n",
      "\u001b[36m(ClientAppActor pid=109967)\u001b[0m No prefix/name for the model was provided, choosen prefix/name: grumpy_pikachu_69\n",
      "\u001b[36m(ClientAppActor pid=109967)\u001b[0m \n",
      "\u001b[36m(ClientAppActor pid=109967)\u001b[0m Step 1/8 | Total batches: 7\n",
      "\u001b[36m(ClientAppActor pid=109967)\u001b[0m Step 2/8 | Total batches: 7\n",
      "\u001b[36m(ClientAppActor pid=109967)\u001b[0m Step 3/8 | Total batches: 7\n",
      "\u001b[36m(ClientAppActor pid=109967)\u001b[0m Step 4/8 | Total batches: 7\n",
      "\u001b[36m(ClientAppActor pid=109967)\u001b[0m Step 5/8 | Total batches: 7\n",
      "\u001b[36m(ClientAppActor pid=109967)\u001b[0m Step 6/8 | Total batches: 7\n",
      "\u001b[36m(ClientAppActor pid=109967)\u001b[0m Step 7/8 | Total batches: 7\n",
      "\u001b[36m(ClientAppActor pid=109967)\u001b[0m Step 8/8 | Total batches: 7\n",
      "\u001b[36m(ClientAppActor pid=109967)\u001b[0m 🚀 Epoch 1/1 (100.00%) Completed\n",
      "\u001b[36m(ClientAppActor pid=109967)\u001b[0m \t📊 Training Loss: 0.4841\n",
      "\u001b[36m(ClientAppActor pid=109967)\u001b[0m \t✅ Training Accuracy: 88.79%\n",
      "\u001b[36m(ClientAppActor pid=109967)\u001b[0m \t⏳ Elapsed Time: 1.21s | ETA: 0.00s\n",
      "\u001b[36m(ClientAppActor pid=109967)\u001b[0m \t🕒 Completed At: 23:15\n",
      "\u001b[36m(ClientAppActor pid=109967)\u001b[0m \n",
      "\u001b[36m(ClientAppActor pid=109967)\u001b[0m [Client] Client on device: cuda:0\n",
      "\u001b[36m(ClientAppActor pid=109967)\u001b[0m [Client] CUDA available in client: True\n",
      "\u001b[36m(ClientAppActor pid=109967)\u001b[0m No prefix/name for the model was provided, choosen prefix/name: nutty_ivysaur_84\n",
      "\u001b[36m(ClientAppActor pid=109967)\u001b[0m \n",
      "\u001b[36m(ClientAppActor pid=109967)\u001b[0m Step 1/8 | Total batches: 7\n",
      "\u001b[36m(ClientAppActor pid=109967)\u001b[0m Step 2/8 | Total batches: 7\n",
      "\u001b[36m(ClientAppActor pid=109967)\u001b[0m Step 3/8 | Total batches: 7\n",
      "\u001b[36m(ClientAppActor pid=109967)\u001b[0m Step 4/8 | Total batches: 7\n",
      "\u001b[36m(ClientAppActor pid=109967)\u001b[0m Step 5/8 | Total batches: 7\n",
      "\u001b[36m(ClientAppActor pid=109967)\u001b[0m Step 6/8 | Total batches: 7\n",
      "\u001b[36m(ClientAppActor pid=109967)\u001b[0m Step 7/8 | Total batches: 7\n",
      "\u001b[36m(ClientAppActor pid=109967)\u001b[0m Step 8/8 | Total batches: 7\n",
      "\u001b[36m(ClientAppActor pid=109967)\u001b[0m 🚀 Epoch 1/1 (100.00%) Completed\n",
      "\u001b[36m(ClientAppActor pid=109967)\u001b[0m \t📊 Training Loss: 1.2379\n",
      "\u001b[36m(ClientAppActor pid=109967)\u001b[0m \t✅ Training Accuracy: 73.28%\n",
      "\u001b[36m(ClientAppActor pid=109967)\u001b[0m \t⏳ Elapsed Time: 1.12s | ETA: 0.00s\n",
      "\u001b[36m(ClientAppActor pid=109967)\u001b[0m \t🕒 Completed At: 23:15\n",
      "\u001b[36m(ClientAppActor pid=109967)\u001b[0m \n",
      "\u001b[36m(ClientAppActor pid=109967)\u001b[0m [Client] Client on device: cuda:0\n",
      "\u001b[36m(ClientAppActor pid=109967)\u001b[0m [Client] CUDA available in client: True\n",
      "\u001b[36m(ClientAppActor pid=109967)\u001b[0m No prefix/name for the model was provided, choosen prefix/name: bouncy_nidoqueen_70\n",
      "\u001b[36m(ClientAppActor pid=109967)\u001b[0m \n",
      "\u001b[36m(ClientAppActor pid=109967)\u001b[0m Step 1/8 | Total batches: 7\n",
      "\u001b[36m(ClientAppActor pid=109967)\u001b[0m Step 2/8 | Total batches: 7\n",
      "\u001b[36m(ClientAppActor pid=109967)\u001b[0m Step 3/8 | Total batches: 7\n",
      "\u001b[36m(ClientAppActor pid=109967)\u001b[0m Step 4/8 | Total batches: 7\n",
      "\u001b[36m(ClientAppActor pid=109967)\u001b[0m Step 5/8 | Total batches: 7\n",
      "\u001b[36m(ClientAppActor pid=109967)\u001b[0m Step 6/8 | Total batches: 7\n",
      "\u001b[36m(ClientAppActor pid=109967)\u001b[0m Step 7/8 | Total batches: 7\n",
      "\u001b[36m(ClientAppActor pid=109967)\u001b[0m Step 8/8 | Total batches: 7\n",
      "\u001b[36m(ClientAppActor pid=109967)\u001b[0m 🚀 Epoch 1/1 (100.00%) Completed\n",
      "\u001b[36m(ClientAppActor pid=109967)\u001b[0m \t📊 Training Loss: 1.4687\n",
      "\u001b[36m(ClientAppActor pid=109967)\u001b[0m \t✅ Training Accuracy: 72.20%\n",
      "\u001b[36m(ClientAppActor pid=109967)\u001b[0m \t⏳ Elapsed Time: 1.18s | ETA: 0.00s\n",
      "\u001b[36m(ClientAppActor pid=109967)\u001b[0m \t🕒 Completed At: 23:15\n",
      "\u001b[36m(ClientAppActor pid=109967)\u001b[0m \n",
      "\u001b[36m(ClientAppActor pid=109967)\u001b[0m [Client] Client on device: cuda:0\n",
      "\u001b[36m(ClientAppActor pid=109967)\u001b[0m [Client] CUDA available in client: True\n",
      "\u001b[36m(ClientAppActor pid=109967)\u001b[0m No prefix/name for the model was provided, choosen prefix/name: bubbly_bulbasaur_94\n",
      "\u001b[36m(ClientAppActor pid=109967)\u001b[0m \n",
      "\u001b[36m(ClientAppActor pid=109967)\u001b[0m Step 1/8 | Total batches: 7\n",
      "\u001b[36m(ClientAppActor pid=109967)\u001b[0m Step 2/8 | Total batches: 7\n",
      "\u001b[36m(ClientAppActor pid=109967)\u001b[0m Step 3/8 | Total batches: 7\n",
      "\u001b[36m(ClientAppActor pid=109967)\u001b[0m Step 4/8 | Total batches: 7\n",
      "\u001b[36m(ClientAppActor pid=109967)\u001b[0m Step 5/8 | Total batches: 7\n",
      "\u001b[36m(ClientAppActor pid=109967)\u001b[0m Step 6/8 | Total batches: 7\n",
      "\u001b[36m(ClientAppActor pid=109967)\u001b[0m Step 7/8 | Total batches: 7\n",
      "\u001b[36m(ClientAppActor pid=109967)\u001b[0m Step 8/8 | Total batches: 7\n",
      "\u001b[36m(ClientAppActor pid=109967)\u001b[0m 🚀 Epoch 1/1 (100.00%) Completed\n",
      "\u001b[36m(ClientAppActor pid=109967)\u001b[0m \t📊 Training Loss: 1.0026\n",
      "\u001b[36m(ClientAppActor pid=109967)\u001b[0m \t✅ Training Accuracy: 77.16%\n",
      "\u001b[36m(ClientAppActor pid=109967)\u001b[0m \t⏳ Elapsed Time: 1.14s | ETA: 0.00s\n",
      "\u001b[36m(ClientAppActor pid=109967)\u001b[0m \t🕒 Completed At: 23:15\n",
      "\u001b[36m(ClientAppActor pid=109967)\u001b[0m \n",
      "\u001b[36m(ClientAppActor pid=109967)\u001b[0m [Client] Client on device: cuda:0\n",
      "\u001b[36m(ClientAppActor pid=109967)\u001b[0m [Client] CUDA available in client: True\n",
      "\u001b[36m(ClientAppActor pid=109967)\u001b[0m No prefix/name for the model was provided, choosen prefix/name: sassy_butterfree_40\n",
      "\u001b[36m(ClientAppActor pid=109967)\u001b[0m \n",
      "\u001b[36m(ClientAppActor pid=109967)\u001b[0m Step 1/8 | Total batches: 7\n",
      "\u001b[36m(ClientAppActor pid=109967)\u001b[0m Step 2/8 | Total batches: 7\n",
      "\u001b[36m(ClientAppActor pid=109967)\u001b[0m Step 3/8 | Total batches: 7\n",
      "\u001b[36m(ClientAppActor pid=109967)\u001b[0m Step 4/8 | Total batches: 7\n",
      "\u001b[36m(ClientAppActor pid=109967)\u001b[0m Step 5/8 | Total batches: 7\n",
      "\u001b[36m(ClientAppActor pid=109967)\u001b[0m Step 6/8 | Total batches: 7\n",
      "\u001b[36m(ClientAppActor pid=109967)\u001b[0m Step 7/8 | Total batches: 7\n",
      "\u001b[36m(ClientAppActor pid=109967)\u001b[0m Step 8/8 | Total batches: 7\n",
      "\u001b[36m(ClientAppActor pid=109967)\u001b[0m 🚀 Epoch 1/1 (100.00%) Completed\n",
      "\u001b[36m(ClientAppActor pid=109967)\u001b[0m \t📊 Training Loss: 1.5568\n",
      "\u001b[36m(ClientAppActor pid=109967)\u001b[0m \t✅ Training Accuracy: 72.20%\n",
      "\u001b[36m(ClientAppActor pid=109967)\u001b[0m \t⏳ Elapsed Time: 1.15s | ETA: 0.00s\n",
      "\u001b[36m(ClientAppActor pid=109967)\u001b[0m \t🕒 Completed At: 23:15\n",
      "\u001b[36m(ClientAppActor pid=109967)\u001b[0m \n"
     ]
    },
    {
     "name": "stderr",
     "output_type": "stream",
     "text": [
      "\u001b[92mINFO \u001b[0m:      aggregate_fit: received 10 results and 0 failures\n",
      "\u001b[92mINFO \u001b[0m:      [Round 12] Avg Drift: 0.0015 | Relative Drift: 0.0000\n",
      "\u001b[92mINFO \u001b[0m:      fit progress: (12, {}, {}, 317.8281825680024)\n",
      "\u001b[92mINFO \u001b[0m:      configure_evaluate: strategy sampled 10 clients (out of 100)\n"
     ]
    },
    {
     "name": "stdout",
     "output_type": "stream",
     "text": [
      "\u001b[36m(ClientAppActor pid=109967)\u001b[0m [Client] Client on device: cuda:0\n",
      "\u001b[36m(ClientAppActor pid=109967)\u001b[0m [Client] CUDA available in client: True\n"
     ]
    },
    {
     "name": "stderr",
     "output_type": "stream",
     "text": [
      "Eval progress:   0%|          | 0/2 [00:00<?, ?batch/s]\n",
      "Eval progress:  50%|█████     | 1/2 [00:00<00:00,  5.99batch/s]\n",
      "Eval progress: 100%|██████████| 2/2 [00:00<00:00,  7.74batch/s]\n"
     ]
    },
    {
     "name": "stdout",
     "output_type": "stream",
     "text": [
      "\u001b[36m(ClientAppActor pid=109967)\u001b[0m [Client] Client on device: cuda:0\n",
      "\u001b[36m(ClientAppActor pid=109967)\u001b[0m [Client] CUDA available in client: True\n"
     ]
    },
    {
     "name": "stderr",
     "output_type": "stream",
     "text": [
      "Eval progress:   0%|          | 0/2 [00:00<?, ?batch/s]\n",
      "Eval progress: 100%|██████████| 2/2 [00:00<00:00,  7.78batch/s]\n"
     ]
    },
    {
     "name": "stdout",
     "output_type": "stream",
     "text": [
      "\u001b[36m(ClientAppActor pid=109967)\u001b[0m [Client] Client on device: cuda:0\n",
      "\u001b[36m(ClientAppActor pid=109967)\u001b[0m [Client] CUDA available in client: True\n"
     ]
    },
    {
     "name": "stderr",
     "output_type": "stream",
     "text": [
      "Eval progress:   0%|          | 0/2 [00:00<?, ?batch/s]\n",
      "Eval progress:  50%|█████     | 1/2 [00:00<00:00,  6.22batch/s]\n",
      "Eval progress: 100%|██████████| 2/2 [00:00<00:00,  8.16batch/s]\n"
     ]
    },
    {
     "name": "stdout",
     "output_type": "stream",
     "text": [
      "\u001b[36m(ClientAppActor pid=109967)\u001b[0m [Client] Client on device: cuda:0\n",
      "\u001b[36m(ClientAppActor pid=109967)\u001b[0m [Client] CUDA available in client: True\n"
     ]
    },
    {
     "name": "stderr",
     "output_type": "stream",
     "text": [
      "Eval progress:   0%|          | 0/2 [00:00<?, ?batch/s]\n",
      "Eval progress:  50%|█████     | 1/2 [00:00<00:00,  6.52batch/s]\n",
      "Eval progress: 100%|██████████| 2/2 [00:00<00:00,  8.38batch/s]\n"
     ]
    },
    {
     "name": "stdout",
     "output_type": "stream",
     "text": [
      "\u001b[36m(ClientAppActor pid=109967)\u001b[0m [Client] Client on device: cuda:0\n",
      "\u001b[36m(ClientAppActor pid=109967)\u001b[0m [Client] CUDA available in client: True\n"
     ]
    },
    {
     "name": "stderr",
     "output_type": "stream",
     "text": [
      "Eval progress:   0%|          | 0/2 [00:00<?, ?batch/s]\n",
      "Eval progress: 100%|██████████| 2/2 [00:00<00:00,  8.44batch/s]\n"
     ]
    },
    {
     "name": "stdout",
     "output_type": "stream",
     "text": [
      "\u001b[36m(ClientAppActor pid=109967)\u001b[0m [Client] Client on device: cuda:0\n",
      "\u001b[36m(ClientAppActor pid=109967)\u001b[0m [Client] CUDA available in client: True\n"
     ]
    },
    {
     "name": "stderr",
     "output_type": "stream",
     "text": [
      "Eval progress:   0%|          | 0/2 [00:00<?, ?batch/s]\n",
      "Eval progress:  50%|█████     | 1/2 [00:00<00:00,  6.48batch/s]\n",
      "Eval progress: 100%|██████████| 2/2 [00:00<00:00,  8.41batch/s]\n",
      "Eval progress:   0%|          | 0/2 [00:00<?, ?batch/s]\n"
     ]
    },
    {
     "name": "stdout",
     "output_type": "stream",
     "text": [
      "\u001b[36m(ClientAppActor pid=109967)\u001b[0m [Client] Client on device: cuda:0\n",
      "\u001b[36m(ClientAppActor pid=109967)\u001b[0m [Client] CUDA available in client: True\n"
     ]
    },
    {
     "name": "stderr",
     "output_type": "stream",
     "text": [
      "Eval progress:  50%|█████     | 1/2 [00:00<00:00,  6.73batch/s]\n",
      "Eval progress: 100%|██████████| 2/2 [00:00<00:00,  8.80batch/s]\n"
     ]
    },
    {
     "name": "stdout",
     "output_type": "stream",
     "text": [
      "\u001b[36m(ClientAppActor pid=109967)\u001b[0m [Client] Client on device: cuda:0\n",
      "\u001b[36m(ClientAppActor pid=109967)\u001b[0m [Client] CUDA available in client: True\n"
     ]
    },
    {
     "name": "stderr",
     "output_type": "stream",
     "text": [
      "Eval progress:   0%|          | 0/2 [00:00<?, ?batch/s]\n",
      "Eval progress:  50%|█████     | 1/2 [00:00<00:00,  6.83batch/s]\n",
      "Eval progress: 100%|██████████| 2/2 [00:00<00:00,  8.86batch/s]\n",
      "Eval progress:   0%|          | 0/2 [00:00<?, ?batch/s]\n"
     ]
    },
    {
     "name": "stdout",
     "output_type": "stream",
     "text": [
      "\u001b[36m(ClientAppActor pid=109967)\u001b[0m [Client] Client on device: cuda:0\n",
      "\u001b[36m(ClientAppActor pid=109967)\u001b[0m [Client] CUDA available in client: True\n"
     ]
    },
    {
     "name": "stderr",
     "output_type": "stream",
     "text": [
      "Eval progress:  50%|█████     | 1/2 [00:00<00:00,  6.64batch/s]\n",
      "Eval progress: 100%|██████████| 2/2 [00:00<00:00,  8.75batch/s]\n"
     ]
    },
    {
     "name": "stdout",
     "output_type": "stream",
     "text": [
      "\u001b[36m(ClientAppActor pid=109967)\u001b[0m [Client] Client on device: cuda:0\n",
      "\u001b[36m(ClientAppActor pid=109967)\u001b[0m [Client] CUDA available in client: True\n"
     ]
    },
    {
     "name": "stderr",
     "output_type": "stream",
     "text": [
      "Eval progress:   0%|          | 0/2 [00:00<?, ?batch/s]\n",
      "Eval progress:  50%|█████     | 1/2 [00:00<00:00,  6.82batch/s]\n",
      "\u001b[92mINFO \u001b[0m:      aggregate_evaluate: received 10 results and 0 failures\n",
      "\u001b[92mINFO \u001b[0m:      \n",
      "\u001b[92mINFO \u001b[0m:      [ROUND 13]\n",
      "\u001b[92mINFO \u001b[0m:      configure_fit: strategy sampled 10 clients (out of 100)\n",
      "Eval progress: 100%|██████████| 2/2 [00:00<00:00,  8.88batch/s]\n"
     ]
    },
    {
     "name": "stdout",
     "output_type": "stream",
     "text": [
      "\u001b[36m(ClientAppActor pid=109967)\u001b[0m [Client] Client on device: cuda:0\n",
      "\u001b[36m(ClientAppActor pid=109967)\u001b[0m [Client] CUDA available in client: True\n",
      "\u001b[36m(ClientAppActor pid=109967)\u001b[0m No prefix/name for the model was provided, choosen prefix/name: mushy_pikachu_28\n",
      "\u001b[36m(ClientAppActor pid=109967)\u001b[0m \n",
      "\u001b[36m(ClientAppActor pid=109967)\u001b[0m Step 1/8 | Total batches: 7\n",
      "\u001b[36m(ClientAppActor pid=109967)\u001b[0m Step 2/8 | Total batches: 7\n",
      "\u001b[36m(ClientAppActor pid=109967)\u001b[0m Step 3/8 | Total batches: 7\n",
      "\u001b[36m(ClientAppActor pid=109967)\u001b[0m Step 4/8 | Total batches: 7\n",
      "\u001b[36m(ClientAppActor pid=109967)\u001b[0m Step 5/8 | Total batches: 7\n",
      "\u001b[36m(ClientAppActor pid=109967)\u001b[0m Step 6/8 | Total batches: 7\n",
      "\u001b[36m(ClientAppActor pid=109967)\u001b[0m Step 7/8 | Total batches: 7\n",
      "\u001b[36m(ClientAppActor pid=109967)\u001b[0m Step 8/8 | Total batches: 7\n",
      "\u001b[36m(ClientAppActor pid=109967)\u001b[0m 🚀 Epoch 1/1 (100.00%) Completed\n",
      "\u001b[36m(ClientAppActor pid=109967)\u001b[0m \t📊 Training Loss: 0.7826\n",
      "\u001b[36m(ClientAppActor pid=109967)\u001b[0m \t✅ Training Accuracy: 80.82%\n",
      "\u001b[36m(ClientAppActor pid=109967)\u001b[0m \t⏳ Elapsed Time: 1.08s | ETA: 0.00s\n",
      "\u001b[36m(ClientAppActor pid=109967)\u001b[0m \t🕒 Completed At: 23:15\n",
      "\u001b[36m(ClientAppActor pid=109967)\u001b[0m \n",
      "\u001b[36m(ClientAppActor pid=109967)\u001b[0m [Client] Client on device: cuda:0\n",
      "\u001b[36m(ClientAppActor pid=109967)\u001b[0m [Client] CUDA available in client: True\n",
      "\u001b[36m(ClientAppActor pid=109967)\u001b[0m No prefix/name for the model was provided, choosen prefix/name: bubbly_squirtle_88\n",
      "\u001b[36m(ClientAppActor pid=109967)\u001b[0m \n",
      "\u001b[36m(ClientAppActor pid=109967)\u001b[0m Step 1/8 | Total batches: 7\n",
      "\u001b[36m(ClientAppActor pid=109967)\u001b[0m Step 2/8 | Total batches: 7\n",
      "\u001b[36m(ClientAppActor pid=109967)\u001b[0m Step 3/8 | Total batches: 7\n",
      "\u001b[36m(ClientAppActor pid=109967)\u001b[0m Step 4/8 | Total batches: 7\n",
      "\u001b[36m(ClientAppActor pid=109967)\u001b[0m Step 5/8 | Total batches: 7\n",
      "\u001b[36m(ClientAppActor pid=109967)\u001b[0m Step 6/8 | Total batches: 7\n",
      "\u001b[36m(ClientAppActor pid=109967)\u001b[0m Step 7/8 | Total batches: 7\n",
      "\u001b[36m(ClientAppActor pid=109967)\u001b[0m Step 8/8 | Total batches: 7\n",
      "\u001b[36m(ClientAppActor pid=109967)\u001b[0m 🚀 Epoch 1/1 (100.00%) Completed\n",
      "\u001b[36m(ClientAppActor pid=109967)\u001b[0m \t📊 Training Loss: 1.3450\n",
      "\u001b[36m(ClientAppActor pid=109967)\u001b[0m \t✅ Training Accuracy: 73.71%\n",
      "\u001b[36m(ClientAppActor pid=109967)\u001b[0m \t⏳ Elapsed Time: 1.09s | ETA: 0.00s\n",
      "\u001b[36m(ClientAppActor pid=109967)\u001b[0m \t🕒 Completed At: 23:15\n",
      "\u001b[36m(ClientAppActor pid=109967)\u001b[0m \n",
      "\u001b[36m(ClientAppActor pid=109967)\u001b[0m [Client] Client on device: cuda:0\n",
      "\u001b[36m(ClientAppActor pid=109967)\u001b[0m [Client] CUDA available in client: True\n",
      "\u001b[36m(ClientAppActor pid=109967)\u001b[0m No prefix/name for the model was provided, choosen prefix/name: frosty_clefairy_50\n",
      "\u001b[36m(ClientAppActor pid=109967)\u001b[0m \n",
      "\u001b[36m(ClientAppActor pid=109967)\u001b[0m Step 1/8 | Total batches: 7\n",
      "\u001b[36m(ClientAppActor pid=109967)\u001b[0m Step 2/8 | Total batches: 7\n",
      "\u001b[36m(ClientAppActor pid=109967)\u001b[0m Step 3/8 | Total batches: 7\n",
      "\u001b[36m(ClientAppActor pid=109967)\u001b[0m Step 4/8 | Total batches: 7\n",
      "\u001b[36m(ClientAppActor pid=109967)\u001b[0m Step 5/8 | Total batches: 7\n",
      "\u001b[36m(ClientAppActor pid=109967)\u001b[0m Step 6/8 | Total batches: 7\n",
      "\u001b[36m(ClientAppActor pid=109967)\u001b[0m Step 7/8 | Total batches: 7\n",
      "\u001b[36m(ClientAppActor pid=109967)\u001b[0m Step 8/8 | Total batches: 7\n",
      "\u001b[36m(ClientAppActor pid=109967)\u001b[0m 🚀 Epoch 1/1 (100.00%) Completed\n",
      "\u001b[36m(ClientAppActor pid=109967)\u001b[0m \t📊 Training Loss: 0.8617\n",
      "\u001b[36m(ClientAppActor pid=109967)\u001b[0m \t✅ Training Accuracy: 79.31%\n",
      "\u001b[36m(ClientAppActor pid=109967)\u001b[0m \t⏳ Elapsed Time: 1.19s | ETA: 0.00s\n",
      "\u001b[36m(ClientAppActor pid=109967)\u001b[0m \t🕒 Completed At: 23:15\n",
      "\u001b[36m(ClientAppActor pid=109967)\u001b[0m \n",
      "\u001b[36m(ClientAppActor pid=109967)\u001b[0m [Client] Client on device: cuda:0\n",
      "\u001b[36m(ClientAppActor pid=109967)\u001b[0m [Client] CUDA available in client: True\n",
      "\u001b[36m(ClientAppActor pid=109967)\u001b[0m No prefix/name for the model was provided, choosen prefix/name: fluffy_squirtle_10\n",
      "\u001b[36m(ClientAppActor pid=109967)\u001b[0m \n",
      "\u001b[36m(ClientAppActor pid=109967)\u001b[0m Step 1/8 | Total batches: 7\n",
      "\u001b[36m(ClientAppActor pid=109967)\u001b[0m Step 2/8 | Total batches: 7\n",
      "\u001b[36m(ClientAppActor pid=109967)\u001b[0m Step 3/8 | Total batches: 7\n",
      "\u001b[36m(ClientAppActor pid=109967)\u001b[0m Step 4/8 | Total batches: 7\n",
      "\u001b[36m(ClientAppActor pid=109967)\u001b[0m Step 5/8 | Total batches: 7\n",
      "\u001b[36m(ClientAppActor pid=109967)\u001b[0m Step 6/8 | Total batches: 7\n",
      "\u001b[36m(ClientAppActor pid=109967)\u001b[0m Step 7/8 | Total batches: 7\n",
      "\u001b[36m(ClientAppActor pid=109967)\u001b[0m Step 8/8 | Total batches: 7\n",
      "\u001b[36m(ClientAppActor pid=109967)\u001b[0m 🚀 Epoch 1/1 (100.00%) Completed\n",
      "\u001b[36m(ClientAppActor pid=109967)\u001b[0m \t📊 Training Loss: 1.0346\n",
      "\u001b[36m(ClientAppActor pid=109967)\u001b[0m \t✅ Training Accuracy: 73.71%\n",
      "\u001b[36m(ClientAppActor pid=109967)\u001b[0m \t⏳ Elapsed Time: 1.17s | ETA: 0.00s\n",
      "\u001b[36m(ClientAppActor pid=109967)\u001b[0m \t🕒 Completed At: 23:15\n",
      "\u001b[36m(ClientAppActor pid=109967)\u001b[0m \n",
      "\u001b[36m(ClientAppActor pid=109967)\u001b[0m [Client] Client on device: cuda:0\n",
      "\u001b[36m(ClientAppActor pid=109967)\u001b[0m [Client] CUDA available in client: True\n",
      "\u001b[36m(ClientAppActor pid=109967)\u001b[0m No prefix/name for the model was provided, choosen prefix/name: zippy_pidgeotto_40\n",
      "\u001b[36m(ClientAppActor pid=109967)\u001b[0m \n",
      "\u001b[36m(ClientAppActor pid=109967)\u001b[0m Step 1/8 | Total batches: 7\n",
      "\u001b[36m(ClientAppActor pid=109967)\u001b[0m Step 2/8 | Total batches: 7\n",
      "\u001b[36m(ClientAppActor pid=109967)\u001b[0m Step 3/8 | Total batches: 7\n",
      "\u001b[36m(ClientAppActor pid=109967)\u001b[0m Step 4/8 | Total batches: 7\n",
      "\u001b[36m(ClientAppActor pid=109967)\u001b[0m Step 5/8 | Total batches: 7\n",
      "\u001b[36m(ClientAppActor pid=109967)\u001b[0m Step 6/8 | Total batches: 7\n",
      "\u001b[36m(ClientAppActor pid=109967)\u001b[0m Step 7/8 | Total batches: 7\n",
      "\u001b[36m(ClientAppActor pid=109967)\u001b[0m Step 8/8 | Total batches: 7\n",
      "\u001b[36m(ClientAppActor pid=109967)\u001b[0m 🚀 Epoch 1/1 (100.00%) Completed\n",
      "\u001b[36m(ClientAppActor pid=109967)\u001b[0m \t📊 Training Loss: 1.1160\n",
      "\u001b[36m(ClientAppActor pid=109967)\u001b[0m \t✅ Training Accuracy: 74.35%\n",
      "\u001b[36m(ClientAppActor pid=109967)\u001b[0m \t⏳ Elapsed Time: 1.09s | ETA: 0.00s\n",
      "\u001b[36m(ClientAppActor pid=109967)\u001b[0m \t🕒 Completed At: 23:15\n",
      "\u001b[36m(ClientAppActor pid=109967)\u001b[0m \n",
      "\u001b[36m(ClientAppActor pid=109967)\u001b[0m [Client] Client on device: cuda:0\n",
      "\u001b[36m(ClientAppActor pid=109967)\u001b[0m [Client] CUDA available in client: True\n",
      "\u001b[36m(ClientAppActor pid=109967)\u001b[0m No prefix/name for the model was provided, choosen prefix/name: sneezy_ekans_77\n",
      "\u001b[36m(ClientAppActor pid=109967)\u001b[0m \n",
      "\u001b[36m(ClientAppActor pid=109967)\u001b[0m Step 1/8 | Total batches: 7\n",
      "\u001b[36m(ClientAppActor pid=109967)\u001b[0m Step 2/8 | Total batches: 7\n",
      "\u001b[36m(ClientAppActor pid=109967)\u001b[0m Step 3/8 | Total batches: 7\n",
      "\u001b[36m(ClientAppActor pid=109967)\u001b[0m Step 4/8 | Total batches: 7\n",
      "\u001b[36m(ClientAppActor pid=109967)\u001b[0m Step 5/8 | Total batches: 7\n",
      "\u001b[36m(ClientAppActor pid=109967)\u001b[0m Step 6/8 | Total batches: 7\n",
      "\u001b[36m(ClientAppActor pid=109967)\u001b[0m Step 7/8 | Total batches: 7\n",
      "\u001b[36m(ClientAppActor pid=109967)\u001b[0m Step 8/8 | Total batches: 7\n",
      "\u001b[36m(ClientAppActor pid=109967)\u001b[0m 🚀 Epoch 1/1 (100.00%) Completed\n",
      "\u001b[36m(ClientAppActor pid=109967)\u001b[0m \t📊 Training Loss: 1.5738\n",
      "\u001b[36m(ClientAppActor pid=109967)\u001b[0m \t✅ Training Accuracy: 72.20%\n",
      "\u001b[36m(ClientAppActor pid=109967)\u001b[0m \t⏳ Elapsed Time: 1.10s | ETA: 0.00s\n",
      "\u001b[36m(ClientAppActor pid=109967)\u001b[0m \t🕒 Completed At: 23:15\n",
      "\u001b[36m(ClientAppActor pid=109967)\u001b[0m \n",
      "\u001b[36m(ClientAppActor pid=109967)\u001b[0m [Client] Client on device: cuda:0\n",
      "\u001b[36m(ClientAppActor pid=109967)\u001b[0m [Client] CUDA available in client: True\n",
      "\u001b[36m(ClientAppActor pid=109967)\u001b[0m No prefix/name for the model was provided, choosen prefix/name: sleepy_sandslash_66\n",
      "\u001b[36m(ClientAppActor pid=109967)\u001b[0m \n",
      "\u001b[36m(ClientAppActor pid=109967)\u001b[0m Step 1/8 | Total batches: 7\n",
      "\u001b[36m(ClientAppActor pid=109967)\u001b[0m Step 2/8 | Total batches: 7\n",
      "\u001b[36m(ClientAppActor pid=109967)\u001b[0m Step 3/8 | Total batches: 7\n",
      "\u001b[36m(ClientAppActor pid=109967)\u001b[0m Step 4/8 | Total batches: 7\n",
      "\u001b[36m(ClientAppActor pid=109967)\u001b[0m Step 5/8 | Total batches: 7\n",
      "\u001b[36m(ClientAppActor pid=109967)\u001b[0m Step 6/8 | Total batches: 7\n",
      "\u001b[36m(ClientAppActor pid=109967)\u001b[0m Step 7/8 | Total batches: 7\n",
      "\u001b[36m(ClientAppActor pid=109967)\u001b[0m Step 8/8 | Total batches: 7\n",
      "\u001b[36m(ClientAppActor pid=109967)\u001b[0m 🚀 Epoch 1/1 (100.00%) Completed\n",
      "\u001b[36m(ClientAppActor pid=109967)\u001b[0m \t📊 Training Loss: 1.1290\n",
      "\u001b[36m(ClientAppActor pid=109967)\u001b[0m \t✅ Training Accuracy: 73.71%\n",
      "\u001b[36m(ClientAppActor pid=109967)\u001b[0m \t⏳ Elapsed Time: 1.12s | ETA: 0.00s\n",
      "\u001b[36m(ClientAppActor pid=109967)\u001b[0m \t🕒 Completed At: 23:15\n",
      "\u001b[36m(ClientAppActor pid=109967)\u001b[0m \n",
      "\u001b[36m(ClientAppActor pid=109967)\u001b[0m [Client] Client on device: cuda:0\n",
      "\u001b[36m(ClientAppActor pid=109967)\u001b[0m [Client] CUDA available in client: True\n",
      "\u001b[36m(ClientAppActor pid=109967)\u001b[0m No prefix/name for the model was provided, choosen prefix/name: witty_spearow_83\n",
      "\u001b[36m(ClientAppActor pid=109967)\u001b[0m \n",
      "\u001b[36m(ClientAppActor pid=109967)\u001b[0m Step 1/8 | Total batches: 7\n",
      "\u001b[36m(ClientAppActor pid=109967)\u001b[0m Step 2/8 | Total batches: 7\n",
      "\u001b[36m(ClientAppActor pid=109967)\u001b[0m Step 3/8 | Total batches: 7\n",
      "\u001b[36m(ClientAppActor pid=109967)\u001b[0m Step 4/8 | Total batches: 7\n",
      "\u001b[36m(ClientAppActor pid=109967)\u001b[0m Step 5/8 | Total batches: 7\n",
      "\u001b[36m(ClientAppActor pid=109967)\u001b[0m Step 6/8 | Total batches: 7\n",
      "\u001b[36m(ClientAppActor pid=109967)\u001b[0m Step 7/8 | Total batches: 7\n",
      "\u001b[36m(ClientAppActor pid=109967)\u001b[0m Step 8/8 | Total batches: 7\n",
      "\u001b[36m(ClientAppActor pid=109967)\u001b[0m 🚀 Epoch 1/1 (100.00%) Completed\n",
      "\u001b[36m(ClientAppActor pid=109967)\u001b[0m \t📊 Training Loss: 0.6410\n",
      "\u001b[36m(ClientAppActor pid=109967)\u001b[0m \t✅ Training Accuracy: 83.84%\n",
      "\u001b[36m(ClientAppActor pid=109967)\u001b[0m \t⏳ Elapsed Time: 1.15s | ETA: 0.00s\n",
      "\u001b[36m(ClientAppActor pid=109967)\u001b[0m \t🕒 Completed At: 23:15\n",
      "\u001b[36m(ClientAppActor pid=109967)\u001b[0m \n",
      "\u001b[36m(ClientAppActor pid=109967)\u001b[0m [Client] Client on device: cuda:0\n",
      "\u001b[36m(ClientAppActor pid=109967)\u001b[0m [Client] CUDA available in client: True\n",
      "\u001b[36m(ClientAppActor pid=109967)\u001b[0m No prefix/name for the model was provided, choosen prefix/name: frosty_fearow_65\n",
      "\u001b[36m(ClientAppActor pid=109967)\u001b[0m \n",
      "\u001b[36m(ClientAppActor pid=109967)\u001b[0m Step 1/8 | Total batches: 7\n",
      "\u001b[36m(ClientAppActor pid=109967)\u001b[0m Step 2/8 | Total batches: 7\n",
      "\u001b[36m(ClientAppActor pid=109967)\u001b[0m Step 3/8 | Total batches: 7\n",
      "\u001b[36m(ClientAppActor pid=109967)\u001b[0m Step 4/8 | Total batches: 7\n",
      "\u001b[36m(ClientAppActor pid=109967)\u001b[0m Step 5/8 | Total batches: 7\n",
      "\u001b[36m(ClientAppActor pid=109967)\u001b[0m Step 6/8 | Total batches: 7\n",
      "\u001b[36m(ClientAppActor pid=109967)\u001b[0m Step 7/8 | Total batches: 7\n",
      "\u001b[36m(ClientAppActor pid=109967)\u001b[0m Step 8/8 | Total batches: 7\n",
      "\u001b[36m(ClientAppActor pid=109967)\u001b[0m 🚀 Epoch 1/1 (100.00%) Completed\n",
      "\u001b[36m(ClientAppActor pid=109967)\u001b[0m \t📊 Training Loss: 1.2566\n",
      "\u001b[36m(ClientAppActor pid=109967)\u001b[0m \t✅ Training Accuracy: 73.71%\n",
      "\u001b[36m(ClientAppActor pid=109967)\u001b[0m \t⏳ Elapsed Time: 1.18s | ETA: 0.00s\n",
      "\u001b[36m(ClientAppActor pid=109967)\u001b[0m \t🕒 Completed At: 23:15\n",
      "\u001b[36m(ClientAppActor pid=109967)\u001b[0m \n",
      "\u001b[36m(ClientAppActor pid=109967)\u001b[0m [Client] Client on device: cuda:0\n",
      "\u001b[36m(ClientAppActor pid=109967)\u001b[0m [Client] CUDA available in client: True\n",
      "\u001b[36m(ClientAppActor pid=109967)\u001b[0m No prefix/name for the model was provided, choosen prefix/name: zesty_charizard_36\n",
      "\u001b[36m(ClientAppActor pid=109967)\u001b[0m \n",
      "\u001b[36m(ClientAppActor pid=109967)\u001b[0m Step 1/8 | Total batches: 7\n",
      "\u001b[36m(ClientAppActor pid=109967)\u001b[0m Step 2/8 | Total batches: 7\n",
      "\u001b[36m(ClientAppActor pid=109967)\u001b[0m Step 3/8 | Total batches: 7\n",
      "\u001b[36m(ClientAppActor pid=109967)\u001b[0m Step 4/8 | Total batches: 7\n",
      "\u001b[36m(ClientAppActor pid=109967)\u001b[0m Step 5/8 | Total batches: 7\n",
      "\u001b[36m(ClientAppActor pid=109967)\u001b[0m Step 6/8 | Total batches: 7\n",
      "\u001b[36m(ClientAppActor pid=109967)\u001b[0m Step 7/8 | Total batches: 7\n",
      "\u001b[36m(ClientAppActor pid=109967)\u001b[0m Step 8/8 | Total batches: 7\n"
     ]
    },
    {
     "name": "stderr",
     "output_type": "stream",
     "text": [
      "\u001b[92mINFO \u001b[0m:      aggregate_fit: received 10 results and 0 failures\n"
     ]
    },
    {
     "name": "stdout",
     "output_type": "stream",
     "text": [
      "\u001b[36m(ClientAppActor pid=109967)\u001b[0m 🚀 Epoch 1/1 (100.00%) Completed\n",
      "\u001b[36m(ClientAppActor pid=109967)\u001b[0m \t📊 Training Loss: 0.7840\n",
      "\u001b[36m(ClientAppActor pid=109967)\u001b[0m \t✅ Training Accuracy: 80.60%\n",
      "\u001b[36m(ClientAppActor pid=109967)\u001b[0m \t⏳ Elapsed Time: 1.19s | ETA: 0.00s\n",
      "\u001b[36m(ClientAppActor pid=109967)\u001b[0m \t🕒 Completed At: 23:15\n",
      "\u001b[36m(ClientAppActor pid=109967)\u001b[0m \n"
     ]
    },
    {
     "name": "stderr",
     "output_type": "stream",
     "text": [
      "\u001b[92mINFO \u001b[0m:      [Round 13] Avg Drift: 0.0015 | Relative Drift: 0.0000\n",
      "\u001b[92mINFO \u001b[0m:      fit progress: (13, {}, {}, 340.1316132110005)\n",
      "\u001b[92mINFO \u001b[0m:      configure_evaluate: strategy sampled 10 clients (out of 100)\n"
     ]
    },
    {
     "name": "stdout",
     "output_type": "stream",
     "text": [
      "\u001b[36m(ClientAppActor pid=109967)\u001b[0m [Client] Client on device: cuda:0\n",
      "\u001b[36m(ClientAppActor pid=109967)\u001b[0m [Client] CUDA available in client: True\n"
     ]
    },
    {
     "name": "stderr",
     "output_type": "stream",
     "text": [
      "Eval progress:   0%|          | 0/2 [00:00<?, ?batch/s]\n",
      "Eval progress:  50%|█████     | 1/2 [00:00<00:00,  6.64batch/s]\n",
      "Eval progress: 100%|██████████| 2/2 [00:00<00:00,  8.53batch/s]\n"
     ]
    },
    {
     "name": "stdout",
     "output_type": "stream",
     "text": [
      "\u001b[36m(ClientAppActor pid=109967)\u001b[0m [Client] Client on device: cuda:0\n",
      "\u001b[36m(ClientAppActor pid=109967)\u001b[0m [Client] CUDA available in client: True\n"
     ]
    },
    {
     "name": "stderr",
     "output_type": "stream",
     "text": [
      "Eval progress:   0%|          | 0/2 [00:00<?, ?batch/s]\n",
      "Eval progress:  50%|█████     | 1/2 [00:00<00:00,  6.73batch/s]\n",
      "Eval progress: 100%|██████████| 2/2 [00:00<00:00,  8.51batch/s]\n"
     ]
    },
    {
     "name": "stdout",
     "output_type": "stream",
     "text": [
      "\u001b[36m(ClientAppActor pid=109967)\u001b[0m [Client] Client on device: cuda:0\n",
      "\u001b[36m(ClientAppActor pid=109967)\u001b[0m [Client] CUDA available in client: True\n"
     ]
    },
    {
     "name": "stderr",
     "output_type": "stream",
     "text": [
      "Eval progress:   0%|          | 0/2 [00:00<?, ?batch/s]\n",
      "Eval progress:  50%|█████     | 1/2 [00:00<00:00,  6.60batch/s]\n",
      "Eval progress: 100%|██████████| 2/2 [00:00<00:00,  8.65batch/s]\n"
     ]
    },
    {
     "name": "stdout",
     "output_type": "stream",
     "text": [
      "\u001b[36m(ClientAppActor pid=109967)\u001b[0m [Client] Client on device: cuda:0\n",
      "\u001b[36m(ClientAppActor pid=109967)\u001b[0m [Client] CUDA available in client: True\n"
     ]
    },
    {
     "name": "stderr",
     "output_type": "stream",
     "text": [
      "Eval progress:   0%|          | 0/2 [00:00<?, ?batch/s]\n",
      "Eval progress:  50%|█████     | 1/2 [00:00<00:00,  6.36batch/s]\n",
      "Eval progress: 100%|██████████| 2/2 [00:00<00:00,  8.34batch/s]\n"
     ]
    },
    {
     "name": "stdout",
     "output_type": "stream",
     "text": [
      "\u001b[36m(ClientAppActor pid=109967)\u001b[0m [Client] Client on device: cuda:0\n",
      "\u001b[36m(ClientAppActor pid=109967)\u001b[0m [Client] CUDA available in client: True\n"
     ]
    },
    {
     "name": "stderr",
     "output_type": "stream",
     "text": [
      "Eval progress:   0%|          | 0/2 [00:00<?, ?batch/s]\n",
      "Eval progress: 100%|██████████| 2/2 [00:00<00:00,  8.33batch/s]\n"
     ]
    },
    {
     "name": "stdout",
     "output_type": "stream",
     "text": [
      "\u001b[36m(ClientAppActor pid=109967)\u001b[0m [Client] Client on device: cuda:0\n",
      "\u001b[36m(ClientAppActor pid=109967)\u001b[0m [Client] CUDA available in client: True\n"
     ]
    },
    {
     "name": "stderr",
     "output_type": "stream",
     "text": [
      "Eval progress:   0%|          | 0/2 [00:00<?, ?batch/s]\n",
      "Eval progress:  50%|█████     | 1/2 [00:00<00:00,  6.62batch/s]\n",
      "Eval progress: 100%|██████████| 2/2 [00:00<00:00,  8.64batch/s]\n"
     ]
    },
    {
     "name": "stdout",
     "output_type": "stream",
     "text": [
      "\u001b[36m(ClientAppActor pid=109967)\u001b[0m [Client] Client on device: cuda:0\n",
      "\u001b[36m(ClientAppActor pid=109967)\u001b[0m [Client] CUDA available in client: True\n"
     ]
    },
    {
     "name": "stderr",
     "output_type": "stream",
     "text": [
      "Eval progress:   0%|          | 0/2 [00:00<?, ?batch/s]\n",
      "Eval progress:  50%|█████     | 1/2 [00:00<00:00,  6.61batch/s]\n",
      "Eval progress: 100%|██████████| 2/2 [00:00<00:00,  8.49batch/s]\n"
     ]
    },
    {
     "name": "stdout",
     "output_type": "stream",
     "text": [
      "\u001b[36m(ClientAppActor pid=109967)\u001b[0m [Client] Client on device: cuda:0\n",
      "\u001b[36m(ClientAppActor pid=109967)\u001b[0m [Client] CUDA available in client: True\n"
     ]
    },
    {
     "name": "stderr",
     "output_type": "stream",
     "text": [
      "Eval progress:   0%|          | 0/2 [00:00<?, ?batch/s]\n",
      "Eval progress:  50%|█████     | 1/2 [00:00<00:00,  6.48batch/s]\n",
      "Eval progress: 100%|██████████| 2/2 [00:00<00:00,  8.38batch/s]\n"
     ]
    },
    {
     "name": "stdout",
     "output_type": "stream",
     "text": [
      "\u001b[36m(ClientAppActor pid=109967)\u001b[0m [Client] Client on device: cuda:0\n",
      "\u001b[36m(ClientAppActor pid=109967)\u001b[0m [Client] CUDA available in client: True\n"
     ]
    },
    {
     "name": "stderr",
     "output_type": "stream",
     "text": [
      "Eval progress:   0%|          | 0/2 [00:00<?, ?batch/s]\n",
      "Eval progress:  50%|█████     | 1/2 [00:00<00:00,  6.38batch/s]\n",
      "Eval progress: 100%|██████████| 2/2 [00:00<00:00,  8.29batch/s]\n"
     ]
    },
    {
     "name": "stdout",
     "output_type": "stream",
     "text": [
      "\u001b[36m(ClientAppActor pid=109967)\u001b[0m [Client] Client on device: cuda:0\n",
      "\u001b[36m(ClientAppActor pid=109967)\u001b[0m [Client] CUDA available in client: True\n"
     ]
    },
    {
     "name": "stderr",
     "output_type": "stream",
     "text": [
      "Eval progress:   0%|          | 0/2 [00:00<?, ?batch/s]\n",
      "Eval progress: 100%|██████████| 2/2 [00:00<00:00,  8.42batch/s]\n",
      "\u001b[92mINFO \u001b[0m:      aggregate_evaluate: received 10 results and 0 failures\n",
      "\u001b[92mINFO \u001b[0m:      \n",
      "\u001b[92mINFO \u001b[0m:      [ROUND 14]\n",
      "\u001b[92mINFO \u001b[0m:      configure_fit: strategy sampled 10 clients (out of 100)\n"
     ]
    },
    {
     "name": "stdout",
     "output_type": "stream",
     "text": [
      "\u001b[36m(ClientAppActor pid=109967)\u001b[0m [Client] Client on device: cuda:0\n",
      "\u001b[36m(ClientAppActor pid=109967)\u001b[0m [Client] CUDA available in client: True\n",
      "\u001b[36m(ClientAppActor pid=109967)\u001b[0m No prefix/name for the model was provided, choosen prefix/name: sassy_charmeleon_45\n",
      "\u001b[36m(ClientAppActor pid=109967)\u001b[0m \n",
      "\u001b[36m(ClientAppActor pid=109967)\u001b[0m Step 1/8 | Total batches: 7\n",
      "\u001b[36m(ClientAppActor pid=109967)\u001b[0m Step 2/8 | Total batches: 7\n",
      "\u001b[36m(ClientAppActor pid=109967)\u001b[0m Step 3/8 | Total batches: 7\n",
      "\u001b[36m(ClientAppActor pid=109967)\u001b[0m Step 4/8 | Total batches: 7\n",
      "\u001b[36m(ClientAppActor pid=109967)\u001b[0m Step 5/8 | Total batches: 7\n",
      "\u001b[36m(ClientAppActor pid=109967)\u001b[0m Step 6/8 | Total batches: 7\n",
      "\u001b[36m(ClientAppActor pid=109967)\u001b[0m Step 7/8 | Total batches: 7\n",
      "\u001b[36m(ClientAppActor pid=109967)\u001b[0m Step 8/8 | Total batches: 7\n",
      "\u001b[36m(ClientAppActor pid=109967)\u001b[0m 🚀 Epoch 1/1 (100.00%) Completed\n",
      "\u001b[36m(ClientAppActor pid=109967)\u001b[0m \t📊 Training Loss: 0.7265\n",
      "\u001b[36m(ClientAppActor pid=109967)\u001b[0m \t✅ Training Accuracy: 83.41%\n",
      "\u001b[36m(ClientAppActor pid=109967)\u001b[0m \t⏳ Elapsed Time: 1.19s | ETA: 0.00s\n",
      "\u001b[36m(ClientAppActor pid=109967)\u001b[0m \t🕒 Completed At: 23:15\n",
      "\u001b[36m(ClientAppActor pid=109967)\u001b[0m \n",
      "\u001b[36m(ClientAppActor pid=109967)\u001b[0m [Client] Client on device: cuda:0\n",
      "\u001b[36m(ClientAppActor pid=109967)\u001b[0m [Client] CUDA available in client: True\n",
      "\u001b[36m(ClientAppActor pid=109967)\u001b[0m No prefix/name for the model was provided, choosen prefix/name: mushy_metapod_96\n",
      "\u001b[36m(ClientAppActor pid=109967)\u001b[0m \n",
      "\u001b[36m(ClientAppActor pid=109967)\u001b[0m Step 1/8 | Total batches: 7\n",
      "\u001b[36m(ClientAppActor pid=109967)\u001b[0m Step 2/8 | Total batches: 7\n",
      "\u001b[36m(ClientAppActor pid=109967)\u001b[0m Step 3/8 | Total batches: 7\n",
      "\u001b[36m(ClientAppActor pid=109967)\u001b[0m Step 4/8 | Total batches: 7\n",
      "\u001b[36m(ClientAppActor pid=109967)\u001b[0m Step 5/8 | Total batches: 7\n",
      "\u001b[36m(ClientAppActor pid=109967)\u001b[0m Step 6/8 | Total batches: 7\n",
      "\u001b[36m(ClientAppActor pid=109967)\u001b[0m Step 7/8 | Total batches: 7\n",
      "\u001b[36m(ClientAppActor pid=109967)\u001b[0m Step 8/8 | Total batches: 7\n",
      "\u001b[36m(ClientAppActor pid=109967)\u001b[0m 🚀 Epoch 1/1 (100.00%) Completed\n",
      "\u001b[36m(ClientAppActor pid=109967)\u001b[0m \t📊 Training Loss: 1.4680\n",
      "\u001b[36m(ClientAppActor pid=109967)\u001b[0m \t✅ Training Accuracy: 72.84%\n",
      "\u001b[36m(ClientAppActor pid=109967)\u001b[0m \t⏳ Elapsed Time: 1.20s | ETA: 0.00s\n",
      "\u001b[36m(ClientAppActor pid=109967)\u001b[0m \t🕒 Completed At: 23:15\n",
      "\u001b[36m(ClientAppActor pid=109967)\u001b[0m \n",
      "\u001b[36m(ClientAppActor pid=109967)\u001b[0m [Client] Client on device: cuda:0\n",
      "\u001b[36m(ClientAppActor pid=109967)\u001b[0m [Client] CUDA available in client: True\n",
      "\u001b[36m(ClientAppActor pid=109967)\u001b[0m No prefix/name for the model was provided, choosen prefix/name: dorky_ekans_38\n",
      "\u001b[36m(ClientAppActor pid=109967)\u001b[0m \n",
      "\u001b[36m(ClientAppActor pid=109967)\u001b[0m Step 1/8 | Total batches: 7\n",
      "\u001b[36m(ClientAppActor pid=109967)\u001b[0m Step 2/8 | Total batches: 7\n",
      "\u001b[36m(ClientAppActor pid=109967)\u001b[0m Step 3/8 | Total batches: 7\n",
      "\u001b[36m(ClientAppActor pid=109967)\u001b[0m Step 4/8 | Total batches: 7\n",
      "\u001b[36m(ClientAppActor pid=109967)\u001b[0m Step 5/8 | Total batches: 7\n",
      "\u001b[36m(ClientAppActor pid=109967)\u001b[0m Step 6/8 | Total batches: 7\n",
      "\u001b[36m(ClientAppActor pid=109967)\u001b[0m Step 7/8 | Total batches: 7\n",
      "\u001b[36m(ClientAppActor pid=109967)\u001b[0m Step 8/8 | Total batches: 7\n",
      "\u001b[36m(ClientAppActor pid=109967)\u001b[0m 🚀 Epoch 1/1 (100.00%) Completed\n",
      "\u001b[36m(ClientAppActor pid=109967)\u001b[0m \t📊 Training Loss: 0.8266\n",
      "\u001b[36m(ClientAppActor pid=109967)\u001b[0m \t✅ Training Accuracy: 77.80%\n",
      "\u001b[36m(ClientAppActor pid=109967)\u001b[0m \t⏳ Elapsed Time: 1.15s | ETA: 0.00s\n",
      "\u001b[36m(ClientAppActor pid=109967)\u001b[0m \t🕒 Completed At: 23:15\n",
      "\u001b[36m(ClientAppActor pid=109967)\u001b[0m \n",
      "\u001b[36m(ClientAppActor pid=109967)\u001b[0m [Client] Client on device: cuda:0\n",
      "\u001b[36m(ClientAppActor pid=109967)\u001b[0m [Client] CUDA available in client: True\n",
      "\u001b[36m(ClientAppActor pid=109967)\u001b[0m No prefix/name for the model was provided, choosen prefix/name: cheeky_nidoking_16\n",
      "\u001b[36m(ClientAppActor pid=109967)\u001b[0m \n",
      "\u001b[36m(ClientAppActor pid=109967)\u001b[0m Step 1/8 | Total batches: 7\n",
      "\u001b[36m(ClientAppActor pid=109967)\u001b[0m Step 2/8 | Total batches: 7\n",
      "\u001b[36m(ClientAppActor pid=109967)\u001b[0m Step 3/8 | Total batches: 7\n",
      "\u001b[36m(ClientAppActor pid=109967)\u001b[0m Step 4/8 | Total batches: 7\n",
      "\u001b[36m(ClientAppActor pid=109967)\u001b[0m Step 5/8 | Total batches: 7\n",
      "\u001b[36m(ClientAppActor pid=109967)\u001b[0m Step 6/8 | Total batches: 7\n",
      "\u001b[36m(ClientAppActor pid=109967)\u001b[0m Step 7/8 | Total batches: 7\n",
      "\u001b[36m(ClientAppActor pid=109967)\u001b[0m Step 8/8 | Total batches: 7\n",
      "\u001b[36m(ClientAppActor pid=109967)\u001b[0m 🚀 Epoch 1/1 (100.00%) Completed\n",
      "\u001b[36m(ClientAppActor pid=109967)\u001b[0m \t📊 Training Loss: 0.8593\n",
      "\u001b[36m(ClientAppActor pid=109967)\u001b[0m \t✅ Training Accuracy: 80.17%\n",
      "\u001b[36m(ClientAppActor pid=109967)\u001b[0m \t⏳ Elapsed Time: 1.15s | ETA: 0.00s\n",
      "\u001b[36m(ClientAppActor pid=109967)\u001b[0m \t🕒 Completed At: 23:15\n",
      "\u001b[36m(ClientAppActor pid=109967)\u001b[0m \n",
      "\u001b[36m(ClientAppActor pid=109967)\u001b[0m [Client] Client on device: cuda:0\n",
      "\u001b[36m(ClientAppActor pid=109967)\u001b[0m [Client] CUDA available in client: True\n",
      "\u001b[36m(ClientAppActor pid=109967)\u001b[0m No prefix/name for the model was provided, choosen prefix/name: grumpy_butterfree_13\n",
      "\u001b[36m(ClientAppActor pid=109967)\u001b[0m \n",
      "\u001b[36m(ClientAppActor pid=109967)\u001b[0m Step 1/8 | Total batches: 7\n",
      "\u001b[36m(ClientAppActor pid=109967)\u001b[0m Step 2/8 | Total batches: 7\n",
      "\u001b[36m(ClientAppActor pid=109967)\u001b[0m Step 3/8 | Total batches: 7\n",
      "\u001b[36m(ClientAppActor pid=109967)\u001b[0m Step 4/8 | Total batches: 7\n",
      "\u001b[36m(ClientAppActor pid=109967)\u001b[0m Step 5/8 | Total batches: 7\n",
      "\u001b[36m(ClientAppActor pid=109967)\u001b[0m Step 6/8 | Total batches: 7\n",
      "\u001b[36m(ClientAppActor pid=109967)\u001b[0m Step 7/8 | Total batches: 7\n",
      "\u001b[36m(ClientAppActor pid=109967)\u001b[0m Step 8/8 | Total batches: 7\n",
      "\u001b[36m(ClientAppActor pid=109967)\u001b[0m 🚀 Epoch 1/1 (100.00%) Completed\n",
      "\u001b[36m(ClientAppActor pid=109967)\u001b[0m \t📊 Training Loss: 1.3112\n",
      "\u001b[36m(ClientAppActor pid=109967)\u001b[0m \t✅ Training Accuracy: 73.92%\n",
      "\u001b[36m(ClientAppActor pid=109967)\u001b[0m \t⏳ Elapsed Time: 1.14s | ETA: 0.00s\n",
      "\u001b[36m(ClientAppActor pid=109967)\u001b[0m \t🕒 Completed At: 23:15\n",
      "\u001b[36m(ClientAppActor pid=109967)\u001b[0m \n",
      "\u001b[36m(ClientAppActor pid=109967)\u001b[0m [Client] Client on device: cuda:0\n",
      "\u001b[36m(ClientAppActor pid=109967)\u001b[0m [Client] CUDA available in client: True\n",
      "\u001b[36m(ClientAppActor pid=109967)\u001b[0m No prefix/name for the model was provided, choosen prefix/name: loopy_rattata_16\n",
      "\u001b[36m(ClientAppActor pid=109967)\u001b[0m \n",
      "\u001b[36m(ClientAppActor pid=109967)\u001b[0m Step 1/8 | Total batches: 7\n",
      "\u001b[36m(ClientAppActor pid=109967)\u001b[0m Step 2/8 | Total batches: 7\n",
      "\u001b[36m(ClientAppActor pid=109967)\u001b[0m Step 3/8 | Total batches: 7\n",
      "\u001b[36m(ClientAppActor pid=109967)\u001b[0m Step 4/8 | Total batches: 7\n",
      "\u001b[36m(ClientAppActor pid=109967)\u001b[0m Step 5/8 | Total batches: 7\n",
      "\u001b[36m(ClientAppActor pid=109967)\u001b[0m Step 6/8 | Total batches: 7\n",
      "\u001b[36m(ClientAppActor pid=109967)\u001b[0m Step 7/8 | Total batches: 7\n",
      "\u001b[36m(ClientAppActor pid=109967)\u001b[0m Step 8/8 | Total batches: 7\n",
      "\u001b[36m(ClientAppActor pid=109967)\u001b[0m 🚀 Epoch 1/1 (100.00%) Completed\n",
      "\u001b[36m(ClientAppActor pid=109967)\u001b[0m \t📊 Training Loss: 1.2349\n",
      "\u001b[36m(ClientAppActor pid=109967)\u001b[0m \t✅ Training Accuracy: 73.71%\n",
      "\u001b[36m(ClientAppActor pid=109967)\u001b[0m \t⏳ Elapsed Time: 1.18s | ETA: 0.00s\n",
      "\u001b[36m(ClientAppActor pid=109967)\u001b[0m \t🕒 Completed At: 23:15\n",
      "\u001b[36m(ClientAppActor pid=109967)\u001b[0m \n",
      "\u001b[36m(ClientAppActor pid=109967)\u001b[0m [Client] Client on device: cuda:0\n",
      "\u001b[36m(ClientAppActor pid=109967)\u001b[0m [Client] CUDA available in client: True\n",
      "\u001b[36m(ClientAppActor pid=109967)\u001b[0m No prefix/name for the model was provided, choosen prefix/name: wacky_clefairy_84\n",
      "\u001b[36m(ClientAppActor pid=109967)\u001b[0m \n",
      "\u001b[36m(ClientAppActor pid=109967)\u001b[0m Step 1/8 | Total batches: 7\n",
      "\u001b[36m(ClientAppActor pid=109967)\u001b[0m Step 2/8 | Total batches: 7\n",
      "\u001b[36m(ClientAppActor pid=109967)\u001b[0m Step 3/8 | Total batches: 7\n",
      "\u001b[36m(ClientAppActor pid=109967)\u001b[0m Step 4/8 | Total batches: 7\n",
      "\u001b[36m(ClientAppActor pid=109967)\u001b[0m Step 5/8 | Total batches: 7\n",
      "\u001b[36m(ClientAppActor pid=109967)\u001b[0m Step 6/8 | Total batches: 7\n",
      "\u001b[36m(ClientAppActor pid=109967)\u001b[0m Step 7/8 | Total batches: 7\n",
      "\u001b[36m(ClientAppActor pid=109967)\u001b[0m Step 8/8 | Total batches: 7\n",
      "\u001b[36m(ClientAppActor pid=109967)\u001b[0m 🚀 Epoch 1/1 (100.00%) Completed\n",
      "\u001b[36m(ClientAppActor pid=109967)\u001b[0m \t📊 Training Loss: 1.5230\n",
      "\u001b[36m(ClientAppActor pid=109967)\u001b[0m \t✅ Training Accuracy: 72.41%\n",
      "\u001b[36m(ClientAppActor pid=109967)\u001b[0m \t⏳ Elapsed Time: 1.18s | ETA: 0.00s\n",
      "\u001b[36m(ClientAppActor pid=109967)\u001b[0m \t🕒 Completed At: 23:15\n",
      "\u001b[36m(ClientAppActor pid=109967)\u001b[0m \n",
      "\u001b[36m(ClientAppActor pid=109967)\u001b[0m [Client] Client on device: cuda:0\n",
      "\u001b[36m(ClientAppActor pid=109967)\u001b[0m [Client] CUDA available in client: True\n",
      "\u001b[36m(ClientAppActor pid=109967)\u001b[0m No prefix/name for the model was provided, choosen prefix/name: chirpy_sandshrew_29\n",
      "\u001b[36m(ClientAppActor pid=109967)\u001b[0m \n",
      "\u001b[36m(ClientAppActor pid=109967)\u001b[0m Step 1/8 | Total batches: 7\n",
      "\u001b[36m(ClientAppActor pid=109967)\u001b[0m Step 2/8 | Total batches: 7\n",
      "\u001b[36m(ClientAppActor pid=109967)\u001b[0m Step 3/8 | Total batches: 7\n",
      "\u001b[36m(ClientAppActor pid=109967)\u001b[0m Step 4/8 | Total batches: 7\n",
      "\u001b[36m(ClientAppActor pid=109967)\u001b[0m Step 5/8 | Total batches: 7\n",
      "\u001b[36m(ClientAppActor pid=109967)\u001b[0m Step 6/8 | Total batches: 7\n",
      "\u001b[36m(ClientAppActor pid=109967)\u001b[0m Step 7/8 | Total batches: 7\n",
      "\u001b[36m(ClientAppActor pid=109967)\u001b[0m Step 8/8 | Total batches: 7\n",
      "\u001b[36m(ClientAppActor pid=109967)\u001b[0m 🚀 Epoch 1/1 (100.00%) Completed\n",
      "\u001b[36m(ClientAppActor pid=109967)\u001b[0m \t📊 Training Loss: 1.4039\n",
      "\u001b[36m(ClientAppActor pid=109967)\u001b[0m \t✅ Training Accuracy: 72.63%\n",
      "\u001b[36m(ClientAppActor pid=109967)\u001b[0m \t⏳ Elapsed Time: 1.19s | ETA: 0.00s\n",
      "\u001b[36m(ClientAppActor pid=109967)\u001b[0m \t🕒 Completed At: 23:15\n",
      "\u001b[36m(ClientAppActor pid=109967)\u001b[0m \n",
      "\u001b[36m(ClientAppActor pid=109967)\u001b[0m [Client] Client on device: cuda:0\n",
      "\u001b[36m(ClientAppActor pid=109967)\u001b[0m [Client] CUDA available in client: True\n",
      "\u001b[36m(ClientAppActor pid=109967)\u001b[0m No prefix/name for the model was provided, choosen prefix/name: zippy_pidgey_91\n",
      "\u001b[36m(ClientAppActor pid=109967)\u001b[0m \n",
      "\u001b[36m(ClientAppActor pid=109967)\u001b[0m Step 1/8 | Total batches: 7\n",
      "\u001b[36m(ClientAppActor pid=109967)\u001b[0m Step 2/8 | Total batches: 7\n",
      "\u001b[36m(ClientAppActor pid=109967)\u001b[0m Step 3/8 | Total batches: 7\n",
      "\u001b[36m(ClientAppActor pid=109967)\u001b[0m Step 4/8 | Total batches: 7\n",
      "\u001b[36m(ClientAppActor pid=109967)\u001b[0m Step 5/8 | Total batches: 7\n",
      "\u001b[36m(ClientAppActor pid=109967)\u001b[0m Step 6/8 | Total batches: 7\n",
      "\u001b[36m(ClientAppActor pid=109967)\u001b[0m Step 7/8 | Total batches: 7\n",
      "\u001b[36m(ClientAppActor pid=109967)\u001b[0m Step 8/8 | Total batches: 7\n",
      "\u001b[36m(ClientAppActor pid=109967)\u001b[0m 🚀 Epoch 1/1 (100.00%) Completed\n",
      "\u001b[36m(ClientAppActor pid=109967)\u001b[0m \t📊 Training Loss: 1.0406\n",
      "\u001b[36m(ClientAppActor pid=109967)\u001b[0m \t✅ Training Accuracy: 76.08%\n",
      "\u001b[36m(ClientAppActor pid=109967)\u001b[0m \t⏳ Elapsed Time: 1.18s | ETA: 0.00s\n",
      "\u001b[36m(ClientAppActor pid=109967)\u001b[0m \t🕒 Completed At: 23:15\n",
      "\u001b[36m(ClientAppActor pid=109967)\u001b[0m \n",
      "\u001b[36m(ClientAppActor pid=109967)\u001b[0m [Client] Client on device: cuda:0\n",
      "\u001b[36m(ClientAppActor pid=109967)\u001b[0m [Client] CUDA available in client: True\n",
      "\u001b[36m(ClientAppActor pid=109967)\u001b[0m No prefix/name for the model was provided, choosen prefix/name: nutty_clefairy_19\n",
      "\u001b[36m(ClientAppActor pid=109967)\u001b[0m \n",
      "\u001b[36m(ClientAppActor pid=109967)\u001b[0m Step 1/8 | Total batches: 7\n",
      "\u001b[36m(ClientAppActor pid=109967)\u001b[0m Step 2/8 | Total batches: 7\n",
      "\u001b[36m(ClientAppActor pid=109967)\u001b[0m Step 3/8 | Total batches: 7\n",
      "\u001b[36m(ClientAppActor pid=109967)\u001b[0m Step 4/8 | Total batches: 7\n",
      "\u001b[36m(ClientAppActor pid=109967)\u001b[0m Step 5/8 | Total batches: 7\n",
      "\u001b[36m(ClientAppActor pid=109967)\u001b[0m Step 6/8 | Total batches: 7\n",
      "\u001b[36m(ClientAppActor pid=109967)\u001b[0m Step 7/8 | Total batches: 7\n",
      "\u001b[36m(ClientAppActor pid=109967)\u001b[0m Step 8/8 | Total batches: 7\n",
      "\u001b[36m(ClientAppActor pid=109967)\u001b[0m 🚀 Epoch 1/1 (100.00%) Completed\n",
      "\u001b[36m(ClientAppActor pid=109967)\u001b[0m \t📊 Training Loss: 0.9653\n",
      "\u001b[36m(ClientAppActor pid=109967)\u001b[0m \t✅ Training Accuracy: 75.65%\n",
      "\u001b[36m(ClientAppActor pid=109967)\u001b[0m \t⏳ Elapsed Time: 1.16s | ETA: 0.00s\n",
      "\u001b[36m(ClientAppActor pid=109967)\u001b[0m \t🕒 Completed At: 23:15\n",
      "\u001b[36m(ClientAppActor pid=109967)\u001b[0m \n"
     ]
    },
    {
     "name": "stderr",
     "output_type": "stream",
     "text": [
      "\u001b[92mINFO \u001b[0m:      aggregate_fit: received 10 results and 0 failures\n",
      "\u001b[92mINFO \u001b[0m:      [Round 14] Avg Drift: 0.0016 | Relative Drift: 0.0000\n",
      "\u001b[92mINFO \u001b[0m:      fit progress: (14, {}, {}, 363.47321605499747)\n",
      "\u001b[92mINFO \u001b[0m:      configure_evaluate: strategy sampled 10 clients (out of 100)\n"
     ]
    },
    {
     "name": "stdout",
     "output_type": "stream",
     "text": [
      "\u001b[36m(ClientAppActor pid=109967)\u001b[0m [Client] Client on device: cuda:0\n",
      "\u001b[36m(ClientAppActor pid=109967)\u001b[0m [Client] CUDA available in client: True\n"
     ]
    },
    {
     "name": "stderr",
     "output_type": "stream",
     "text": [
      "Eval progress:   0%|          | 0/2 [00:00<?, ?batch/s]\n",
      "Eval progress:  50%|█████     | 1/2 [00:00<00:00,  6.27batch/s]\n",
      "Eval progress: 100%|██████████| 2/2 [00:00<00:00,  8.18batch/s]\n"
     ]
    },
    {
     "name": "stdout",
     "output_type": "stream",
     "text": [
      "\u001b[36m(ClientAppActor pid=109967)\u001b[0m [Client] Client on device: cuda:0\n",
      "\u001b[36m(ClientAppActor pid=109967)\u001b[0m [Client] CUDA available in client: True\n"
     ]
    },
    {
     "name": "stderr",
     "output_type": "stream",
     "text": [
      "Eval progress:   0%|          | 0/2 [00:00<?, ?batch/s]\n",
      "Eval progress: 100%|██████████| 2/2 [00:00<00:00,  8.24batch/s]\n"
     ]
    },
    {
     "name": "stdout",
     "output_type": "stream",
     "text": [
      "\u001b[36m(ClientAppActor pid=109967)\u001b[0m [Client] Client on device: cuda:0\n",
      "\u001b[36m(ClientAppActor pid=109967)\u001b[0m [Client] CUDA available in client: True\n"
     ]
    },
    {
     "name": "stderr",
     "output_type": "stream",
     "text": [
      "Eval progress:   0%|          | 0/2 [00:00<?, ?batch/s]\n",
      "Eval progress:  50%|█████     | 1/2 [00:00<00:00,  6.36batch/s]\n",
      "Eval progress: 100%|██████████| 2/2 [00:00<00:00,  8.19batch/s]\n"
     ]
    },
    {
     "name": "stdout",
     "output_type": "stream",
     "text": [
      "\u001b[36m(ClientAppActor pid=109967)\u001b[0m [Client] Client on device: cuda:0\n",
      "\u001b[36m(ClientAppActor pid=109967)\u001b[0m [Client] CUDA available in client: True\n"
     ]
    },
    {
     "name": "stderr",
     "output_type": "stream",
     "text": [
      "Eval progress:   0%|          | 0/2 [00:00<?, ?batch/s]\n",
      "Eval progress: 100%|██████████| 2/2 [00:00<00:00,  8.25batch/s]\n"
     ]
    },
    {
     "name": "stdout",
     "output_type": "stream",
     "text": [
      "\u001b[36m(ClientAppActor pid=109967)\u001b[0m [Client] Client on device: cuda:0\n",
      "\u001b[36m(ClientAppActor pid=109967)\u001b[0m [Client] CUDA available in client: True\n"
     ]
    },
    {
     "name": "stderr",
     "output_type": "stream",
     "text": [
      "Eval progress:   0%|          | 0/2 [00:00<?, ?batch/s]\n",
      "Eval progress:  50%|█████     | 1/2 [00:00<00:00,  6.34batch/s]\n",
      "Eval progress: 100%|██████████| 2/2 [00:00<00:00,  8.21batch/s]\n"
     ]
    },
    {
     "name": "stdout",
     "output_type": "stream",
     "text": [
      "\u001b[36m(ClientAppActor pid=109967)\u001b[0m [Client] Client on device: cuda:0\n",
      "\u001b[36m(ClientAppActor pid=109967)\u001b[0m [Client] CUDA available in client: True\n"
     ]
    },
    {
     "name": "stderr",
     "output_type": "stream",
     "text": [
      "Eval progress:   0%|          | 0/2 [00:00<?, ?batch/s]\n",
      "Eval progress:  50%|█████     | 1/2 [00:00<00:00,  6.11batch/s]\n",
      "Eval progress: 100%|██████████| 2/2 [00:00<00:00,  7.70batch/s]\n"
     ]
    },
    {
     "name": "stdout",
     "output_type": "stream",
     "text": [
      "\u001b[36m(ClientAppActor pid=109967)\u001b[0m [Client] Client on device: cuda:0\n",
      "\u001b[36m(ClientAppActor pid=109967)\u001b[0m [Client] CUDA available in client: True\n"
     ]
    },
    {
     "name": "stderr",
     "output_type": "stream",
     "text": [
      "Eval progress:   0%|          | 0/2 [00:00<?, ?batch/s]\n",
      "Eval progress:  50%|█████     | 1/2 [00:00<00:00,  6.08batch/s]\n",
      "Eval progress: 100%|██████████| 2/2 [00:00<00:00,  7.88batch/s]\n"
     ]
    },
    {
     "name": "stdout",
     "output_type": "stream",
     "text": [
      "\u001b[36m(ClientAppActor pid=109967)\u001b[0m [Client] Client on device: cuda:0\n",
      "\u001b[36m(ClientAppActor pid=109967)\u001b[0m [Client] CUDA available in client: True\n"
     ]
    },
    {
     "name": "stderr",
     "output_type": "stream",
     "text": [
      "Eval progress:   0%|          | 0/2 [00:00<?, ?batch/s]\n",
      "Eval progress:  50%|█████     | 1/2 [00:00<00:00,  6.06batch/s]\n",
      "Eval progress: 100%|██████████| 2/2 [00:00<00:00,  7.81batch/s]\n"
     ]
    },
    {
     "name": "stdout",
     "output_type": "stream",
     "text": [
      "\u001b[36m(ClientAppActor pid=109967)\u001b[0m [Client] Client on device: cuda:0\n",
      "\u001b[36m(ClientAppActor pid=109967)\u001b[0m [Client] CUDA available in client: True\n"
     ]
    },
    {
     "name": "stderr",
     "output_type": "stream",
     "text": [
      "Eval progress:   0%|          | 0/2 [00:00<?, ?batch/s]\n",
      "Eval progress:  50%|█████     | 1/2 [00:00<00:00,  6.15batch/s]\n",
      "Eval progress: 100%|██████████| 2/2 [00:00<00:00,  7.93batch/s]\n"
     ]
    },
    {
     "name": "stdout",
     "output_type": "stream",
     "text": [
      "\u001b[36m(ClientAppActor pid=109967)\u001b[0m [Client] Client on device: cuda:0\n",
      "\u001b[36m(ClientAppActor pid=109967)\u001b[0m [Client] CUDA available in client: True\n"
     ]
    },
    {
     "name": "stderr",
     "output_type": "stream",
     "text": [
      "Eval progress:   0%|          | 0/2 [00:00<?, ?batch/s]\n",
      "Eval progress:  50%|█████     | 1/2 [00:00<00:00,  6.07batch/s]\n",
      "Eval progress: 100%|██████████| 2/2 [00:00<00:00,  7.87batch/s]\n",
      "\u001b[92mINFO \u001b[0m:      aggregate_evaluate: received 10 results and 0 failures\n",
      "\u001b[92mINFO \u001b[0m:      \n",
      "\u001b[92mINFO \u001b[0m:      [ROUND 15]\n",
      "\u001b[92mINFO \u001b[0m:      configure_fit: strategy sampled 10 clients (out of 100)\n"
     ]
    },
    {
     "name": "stdout",
     "output_type": "stream",
     "text": [
      "\u001b[36m(ClientAppActor pid=109967)\u001b[0m [Client] Client on device: cuda:0\n",
      "\u001b[36m(ClientAppActor pid=109967)\u001b[0m [Client] CUDA available in client: True\n",
      "\u001b[36m(ClientAppActor pid=109967)\u001b[0m No prefix/name for the model was provided, choosen prefix/name: bouncy_nidoran_36\n",
      "\u001b[36m(ClientAppActor pid=109967)\u001b[0m \n",
      "\u001b[36m(ClientAppActor pid=109967)\u001b[0m Step 1/8 | Total batches: 7\n",
      "\u001b[36m(ClientAppActor pid=109967)\u001b[0m Step 2/8 | Total batches: 7\n",
      "\u001b[36m(ClientAppActor pid=109967)\u001b[0m Step 3/8 | Total batches: 7\n",
      "\u001b[36m(ClientAppActor pid=109967)\u001b[0m Step 4/8 | Total batches: 7\n",
      "\u001b[36m(ClientAppActor pid=109967)\u001b[0m Step 5/8 | Total batches: 7\n",
      "\u001b[36m(ClientAppActor pid=109967)\u001b[0m Step 6/8 | Total batches: 7\n",
      "\u001b[36m(ClientAppActor pid=109967)\u001b[0m Step 7/8 | Total batches: 7\n",
      "\u001b[36m(ClientAppActor pid=109967)\u001b[0m Step 8/8 | Total batches: 7\n",
      "\u001b[36m(ClientAppActor pid=109967)\u001b[0m 🚀 Epoch 1/1 (100.00%) Completed\n",
      "\u001b[36m(ClientAppActor pid=109967)\u001b[0m \t📊 Training Loss: 1.1826\n",
      "\u001b[36m(ClientAppActor pid=109967)\u001b[0m \t✅ Training Accuracy: 74.14%\n",
      "\u001b[36m(ClientAppActor pid=109967)\u001b[0m \t⏳ Elapsed Time: 1.14s | ETA: 0.00s\n",
      "\u001b[36m(ClientAppActor pid=109967)\u001b[0m \t🕒 Completed At: 23:16\n",
      "\u001b[36m(ClientAppActor pid=109967)\u001b[0m \n",
      "\u001b[36m(ClientAppActor pid=109967)\u001b[0m [Client] Client on device: cuda:0\n",
      "\u001b[36m(ClientAppActor pid=109967)\u001b[0m [Client] CUDA available in client: True\n",
      "\u001b[36m(ClientAppActor pid=109967)\u001b[0m No prefix/name for the model was provided, choosen prefix/name: sleepy_charmander_85\n",
      "\u001b[36m(ClientAppActor pid=109967)\u001b[0m \n",
      "\u001b[36m(ClientAppActor pid=109967)\u001b[0m Step 1/8 | Total batches: 7\n",
      "\u001b[36m(ClientAppActor pid=109967)\u001b[0m Step 2/8 | Total batches: 7\n",
      "\u001b[36m(ClientAppActor pid=109967)\u001b[0m Step 3/8 | Total batches: 7\n",
      "\u001b[36m(ClientAppActor pid=109967)\u001b[0m Step 4/8 | Total batches: 7\n",
      "\u001b[36m(ClientAppActor pid=109967)\u001b[0m Step 5/8 | Total batches: 7\n",
      "\u001b[36m(ClientAppActor pid=109967)\u001b[0m Step 6/8 | Total batches: 7\n",
      "\u001b[36m(ClientAppActor pid=109967)\u001b[0m Step 7/8 | Total batches: 7\n",
      "\u001b[36m(ClientAppActor pid=109967)\u001b[0m Step 8/8 | Total batches: 7\n",
      "\u001b[36m(ClientAppActor pid=109967)\u001b[0m 🚀 Epoch 1/1 (100.00%) Completed\n",
      "\u001b[36m(ClientAppActor pid=109967)\u001b[0m \t📊 Training Loss: 1.2288\n",
      "\u001b[36m(ClientAppActor pid=109967)\u001b[0m \t✅ Training Accuracy: 74.57%\n",
      "\u001b[36m(ClientAppActor pid=109967)\u001b[0m \t⏳ Elapsed Time: 1.15s | ETA: 0.00s\n",
      "\u001b[36m(ClientAppActor pid=109967)\u001b[0m \t🕒 Completed At: 23:16\n",
      "\u001b[36m(ClientAppActor pid=109967)\u001b[0m \n",
      "\u001b[36m(ClientAppActor pid=109967)\u001b[0m [Client] Client on device: cuda:0\n",
      "\u001b[36m(ClientAppActor pid=109967)\u001b[0m [Client] CUDA available in client: True\n",
      "\u001b[36m(ClientAppActor pid=109967)\u001b[0m No prefix/name for the model was provided, choosen prefix/name: snazzy_clefairy_18\n",
      "\u001b[36m(ClientAppActor pid=109967)\u001b[0m \n",
      "\u001b[36m(ClientAppActor pid=109967)\u001b[0m Step 1/8 | Total batches: 7\n",
      "\u001b[36m(ClientAppActor pid=109967)\u001b[0m Step 2/8 | Total batches: 7\n",
      "\u001b[36m(ClientAppActor pid=109967)\u001b[0m Step 3/8 | Total batches: 7\n",
      "\u001b[36m(ClientAppActor pid=109967)\u001b[0m Step 4/8 | Total batches: 7\n",
      "\u001b[36m(ClientAppActor pid=109967)\u001b[0m Step 5/8 | Total batches: 7\n",
      "\u001b[36m(ClientAppActor pid=109967)\u001b[0m Step 6/8 | Total batches: 7\n",
      "\u001b[36m(ClientAppActor pid=109967)\u001b[0m Step 7/8 | Total batches: 7\n",
      "\u001b[36m(ClientAppActor pid=109967)\u001b[0m Step 8/8 | Total batches: 7\n",
      "\u001b[36m(ClientAppActor pid=109967)\u001b[0m 🚀 Epoch 1/1 (100.00%) Completed\n",
      "\u001b[36m(ClientAppActor pid=109967)\u001b[0m \t📊 Training Loss: 1.2151\n",
      "\u001b[36m(ClientAppActor pid=109967)\u001b[0m \t✅ Training Accuracy: 73.71%\n",
      "\u001b[36m(ClientAppActor pid=109967)\u001b[0m \t⏳ Elapsed Time: 1.15s | ETA: 0.00s\n",
      "\u001b[36m(ClientAppActor pid=109967)\u001b[0m \t🕒 Completed At: 23:16\n",
      "\u001b[36m(ClientAppActor pid=109967)\u001b[0m \n",
      "\u001b[36m(ClientAppActor pid=109967)\u001b[0m [Client] Client on device: cuda:0\n",
      "\u001b[36m(ClientAppActor pid=109967)\u001b[0m [Client] CUDA available in client: True\n",
      "\u001b[36m(ClientAppActor pid=109967)\u001b[0m No prefix/name for the model was provided, choosen prefix/name: jolly_raichu_92\n",
      "\u001b[36m(ClientAppActor pid=109967)\u001b[0m \n",
      "\u001b[36m(ClientAppActor pid=109967)\u001b[0m Step 1/8 | Total batches: 7\n",
      "\u001b[36m(ClientAppActor pid=109967)\u001b[0m Step 2/8 | Total batches: 7\n",
      "\u001b[36m(ClientAppActor pid=109967)\u001b[0m Step 3/8 | Total batches: 7\n",
      "\u001b[36m(ClientAppActor pid=109967)\u001b[0m Step 4/8 | Total batches: 7\n",
      "\u001b[36m(ClientAppActor pid=109967)\u001b[0m Step 5/8 | Total batches: 7\n",
      "\u001b[36m(ClientAppActor pid=109967)\u001b[0m Step 6/8 | Total batches: 7\n",
      "\u001b[36m(ClientAppActor pid=109967)\u001b[0m Step 7/8 | Total batches: 7\n",
      "\u001b[36m(ClientAppActor pid=109967)\u001b[0m Step 8/8 | Total batches: 7\n",
      "\u001b[36m(ClientAppActor pid=109967)\u001b[0m 🚀 Epoch 1/1 (100.00%) Completed\n",
      "\u001b[36m(ClientAppActor pid=109967)\u001b[0m \t📊 Training Loss: 1.2152\n",
      "\u001b[36m(ClientAppActor pid=109967)\u001b[0m \t✅ Training Accuracy: 73.06%\n",
      "\u001b[36m(ClientAppActor pid=109967)\u001b[0m \t⏳ Elapsed Time: 1.16s | ETA: 0.00s\n",
      "\u001b[36m(ClientAppActor pid=109967)\u001b[0m \t🕒 Completed At: 23:16\n",
      "\u001b[36m(ClientAppActor pid=109967)\u001b[0m \n",
      "\u001b[36m(ClientAppActor pid=109967)\u001b[0m [Client] Client on device: cuda:0\n",
      "\u001b[36m(ClientAppActor pid=109967)\u001b[0m [Client] CUDA available in client: True\n",
      "\u001b[36m(ClientAppActor pid=109967)\u001b[0m No prefix/name for the model was provided, choosen prefix/name: peppy_rattata_31\n",
      "\u001b[36m(ClientAppActor pid=109967)\u001b[0m \n",
      "\u001b[36m(ClientAppActor pid=109967)\u001b[0m Step 1/8 | Total batches: 7\n",
      "\u001b[36m(ClientAppActor pid=109967)\u001b[0m Step 2/8 | Total batches: 7\n",
      "\u001b[36m(ClientAppActor pid=109967)\u001b[0m Step 3/8 | Total batches: 7\n",
      "\u001b[36m(ClientAppActor pid=109967)\u001b[0m Step 4/8 | Total batches: 7\n",
      "\u001b[36m(ClientAppActor pid=109967)\u001b[0m Step 5/8 | Total batches: 7\n",
      "\u001b[36m(ClientAppActor pid=109967)\u001b[0m Step 6/8 | Total batches: 7\n",
      "\u001b[36m(ClientAppActor pid=109967)\u001b[0m Step 7/8 | Total batches: 7\n",
      "\u001b[36m(ClientAppActor pid=109967)\u001b[0m Step 8/8 | Total batches: 7\n",
      "\u001b[36m(ClientAppActor pid=109967)\u001b[0m 🚀 Epoch 1/1 (100.00%) Completed\n",
      "\u001b[36m(ClientAppActor pid=109967)\u001b[0m \t📊 Training Loss: 0.7066\n",
      "\u001b[36m(ClientAppActor pid=109967)\u001b[0m \t✅ Training Accuracy: 85.78%\n",
      "\u001b[36m(ClientAppActor pid=109967)\u001b[0m \t⏳ Elapsed Time: 1.18s | ETA: 0.00s\n",
      "\u001b[36m(ClientAppActor pid=109967)\u001b[0m \t🕒 Completed At: 23:16\n",
      "\u001b[36m(ClientAppActor pid=109967)\u001b[0m \n",
      "\u001b[36m(ClientAppActor pid=109967)\u001b[0m [Client] Client on device: cuda:0\n",
      "\u001b[36m(ClientAppActor pid=109967)\u001b[0m [Client] CUDA available in client: True\n",
      "\u001b[36m(ClientAppActor pid=109967)\u001b[0m No prefix/name for the model was provided, choosen prefix/name: zippy_pidgeot_44\n",
      "\u001b[36m(ClientAppActor pid=109967)\u001b[0m \n",
      "\u001b[36m(ClientAppActor pid=109967)\u001b[0m Step 1/8 | Total batches: 7\n",
      "\u001b[36m(ClientAppActor pid=109967)\u001b[0m Step 2/8 | Total batches: 7\n",
      "\u001b[36m(ClientAppActor pid=109967)\u001b[0m Step 3/8 | Total batches: 7\n",
      "\u001b[36m(ClientAppActor pid=109967)\u001b[0m Step 4/8 | Total batches: 7\n",
      "\u001b[36m(ClientAppActor pid=109967)\u001b[0m Step 5/8 | Total batches: 7\n",
      "\u001b[36m(ClientAppActor pid=109967)\u001b[0m Step 6/8 | Total batches: 7\n",
      "\u001b[36m(ClientAppActor pid=109967)\u001b[0m Step 7/8 | Total batches: 7\n",
      "\u001b[36m(ClientAppActor pid=109967)\u001b[0m Step 8/8 | Total batches: 7\n",
      "\u001b[36m(ClientAppActor pid=109967)\u001b[0m 🚀 Epoch 1/1 (100.00%) Completed\n",
      "\u001b[36m(ClientAppActor pid=109967)\u001b[0m \t📊 Training Loss: 0.9604\n",
      "\u001b[36m(ClientAppActor pid=109967)\u001b[0m \t✅ Training Accuracy: 78.02%\n",
      "\u001b[36m(ClientAppActor pid=109967)\u001b[0m \t⏳ Elapsed Time: 1.18s | ETA: 0.00s\n",
      "\u001b[36m(ClientAppActor pid=109967)\u001b[0m \t🕒 Completed At: 23:16\n",
      "\u001b[36m(ClientAppActor pid=109967)\u001b[0m \n",
      "\u001b[36m(ClientAppActor pid=109967)\u001b[0m [Client] Client on device: cuda:0\n",
      "\u001b[36m(ClientAppActor pid=109967)\u001b[0m [Client] CUDA available in client: True\n",
      "\u001b[36m(ClientAppActor pid=109967)\u001b[0m No prefix/name for the model was provided, choosen prefix/name: itchy_fearow_54\n",
      "\u001b[36m(ClientAppActor pid=109967)\u001b[0m \n",
      "\u001b[36m(ClientAppActor pid=109967)\u001b[0m Step 1/8 | Total batches: 7\n",
      "\u001b[36m(ClientAppActor pid=109967)\u001b[0m Step 2/8 | Total batches: 7\n",
      "\u001b[36m(ClientAppActor pid=109967)\u001b[0m Step 3/8 | Total batches: 7\n",
      "\u001b[36m(ClientAppActor pid=109967)\u001b[0m Step 4/8 | Total batches: 7\n",
      "\u001b[36m(ClientAppActor pid=109967)\u001b[0m Step 5/8 | Total batches: 7\n",
      "\u001b[36m(ClientAppActor pid=109967)\u001b[0m Step 6/8 | Total batches: 7\n",
      "\u001b[36m(ClientAppActor pid=109967)\u001b[0m Step 7/8 | Total batches: 7\n",
      "\u001b[36m(ClientAppActor pid=109967)\u001b[0m Step 8/8 | Total batches: 7\n",
      "\u001b[36m(ClientAppActor pid=109967)\u001b[0m 🚀 Epoch 1/1 (100.00%) Completed\n",
      "\u001b[36m(ClientAppActor pid=109967)\u001b[0m \t📊 Training Loss: 1.4183\n",
      "\u001b[36m(ClientAppActor pid=109967)\u001b[0m \t✅ Training Accuracy: 72.20%\n",
      "\u001b[36m(ClientAppActor pid=109967)\u001b[0m \t⏳ Elapsed Time: 1.17s | ETA: 0.00s\n",
      "\u001b[36m(ClientAppActor pid=109967)\u001b[0m \t🕒 Completed At: 23:16\n",
      "\u001b[36m(ClientAppActor pid=109967)\u001b[0m \n",
      "\u001b[36m(ClientAppActor pid=109967)\u001b[0m [Client] Client on device: cuda:0\n",
      "\u001b[36m(ClientAppActor pid=109967)\u001b[0m [Client] CUDA available in client: True\n",
      "\u001b[36m(ClientAppActor pid=109967)\u001b[0m No prefix/name for the model was provided, choosen prefix/name: groovy_pikachu_90\n",
      "\u001b[36m(ClientAppActor pid=109967)\u001b[0m \n",
      "\u001b[36m(ClientAppActor pid=109967)\u001b[0m Step 1/8 | Total batches: 7\n",
      "\u001b[36m(ClientAppActor pid=109967)\u001b[0m Step 2/8 | Total batches: 7\n",
      "\u001b[36m(ClientAppActor pid=109967)\u001b[0m Step 3/8 | Total batches: 7\n",
      "\u001b[36m(ClientAppActor pid=109967)\u001b[0m Step 4/8 | Total batches: 7\n",
      "\u001b[36m(ClientAppActor pid=109967)\u001b[0m Step 5/8 | Total batches: 7\n",
      "\u001b[36m(ClientAppActor pid=109967)\u001b[0m Step 6/8 | Total batches: 7\n",
      "\u001b[36m(ClientAppActor pid=109967)\u001b[0m Step 7/8 | Total batches: 7\n",
      "\u001b[36m(ClientAppActor pid=109967)\u001b[0m Step 8/8 | Total batches: 7\n",
      "\u001b[36m(ClientAppActor pid=109967)\u001b[0m 🚀 Epoch 1/1 (100.00%) Completed\n",
      "\u001b[36m(ClientAppActor pid=109967)\u001b[0m \t📊 Training Loss: 0.8675\n",
      "\u001b[36m(ClientAppActor pid=109967)\u001b[0m \t✅ Training Accuracy: 80.17%\n",
      "\u001b[36m(ClientAppActor pid=109967)\u001b[0m \t⏳ Elapsed Time: 1.15s | ETA: 0.00s\n",
      "\u001b[36m(ClientAppActor pid=109967)\u001b[0m \t🕒 Completed At: 23:16\n",
      "\u001b[36m(ClientAppActor pid=109967)\u001b[0m \n",
      "\u001b[36m(ClientAppActor pid=109967)\u001b[0m [Client] Client on device: cuda:0\n",
      "\u001b[36m(ClientAppActor pid=109967)\u001b[0m [Client] CUDA available in client: True\n",
      "\u001b[36m(ClientAppActor pid=109967)\u001b[0m No prefix/name for the model was provided, choosen prefix/name: wacky_pidgeot_33\n",
      "\u001b[36m(ClientAppActor pid=109967)\u001b[0m \n",
      "\u001b[36m(ClientAppActor pid=109967)\u001b[0m Step 1/8 | Total batches: 7\n",
      "\u001b[36m(ClientAppActor pid=109967)\u001b[0m Step 2/8 | Total batches: 7\n",
      "\u001b[36m(ClientAppActor pid=109967)\u001b[0m Step 3/8 | Total batches: 7\n",
      "\u001b[36m(ClientAppActor pid=109967)\u001b[0m Step 4/8 | Total batches: 7\n",
      "\u001b[36m(ClientAppActor pid=109967)\u001b[0m Step 5/8 | Total batches: 7\n",
      "\u001b[36m(ClientAppActor pid=109967)\u001b[0m Step 6/8 | Total batches: 7\n",
      "\u001b[36m(ClientAppActor pid=109967)\u001b[0m Step 7/8 | Total batches: 7\n",
      "\u001b[36m(ClientAppActor pid=109967)\u001b[0m Step 8/8 | Total batches: 7\n",
      "\u001b[36m(ClientAppActor pid=109967)\u001b[0m 🚀 Epoch 1/1 (100.00%) Completed\n",
      "\u001b[36m(ClientAppActor pid=109967)\u001b[0m \t📊 Training Loss: 1.2168\n",
      "\u001b[36m(ClientAppActor pid=109967)\u001b[0m \t✅ Training Accuracy: 73.92%\n",
      "\u001b[36m(ClientAppActor pid=109967)\u001b[0m \t⏳ Elapsed Time: 1.15s | ETA: 0.00s\n",
      "\u001b[36m(ClientAppActor pid=109967)\u001b[0m \t🕒 Completed At: 23:16\n",
      "\u001b[36m(ClientAppActor pid=109967)\u001b[0m \n",
      "\u001b[36m(ClientAppActor pid=109967)\u001b[0m [Client] Client on device: cuda:0\n",
      "\u001b[36m(ClientAppActor pid=109967)\u001b[0m [Client] CUDA available in client: True\n",
      "\u001b[36m(ClientAppActor pid=109967)\u001b[0m No prefix/name for the model was provided, choosen prefix/name: spooky_nidoqueen_49\n",
      "\u001b[36m(ClientAppActor pid=109967)\u001b[0m \n",
      "\u001b[36m(ClientAppActor pid=109967)\u001b[0m Step 1/8 | Total batches: 7\n",
      "\u001b[36m(ClientAppActor pid=109967)\u001b[0m Step 2/8 | Total batches: 7\n",
      "\u001b[36m(ClientAppActor pid=109967)\u001b[0m Step 3/8 | Total batches: 7\n",
      "\u001b[36m(ClientAppActor pid=109967)\u001b[0m Step 4/8 | Total batches: 7\n",
      "\u001b[36m(ClientAppActor pid=109967)\u001b[0m Step 5/8 | Total batches: 7\n",
      "\u001b[36m(ClientAppActor pid=109967)\u001b[0m Step 6/8 | Total batches: 7\n",
      "\u001b[36m(ClientAppActor pid=109967)\u001b[0m Step 7/8 | Total batches: 7\n",
      "\u001b[36m(ClientAppActor pid=109967)\u001b[0m Step 8/8 | Total batches: 7\n",
      "\u001b[36m(ClientAppActor pid=109967)\u001b[0m 🚀 Epoch 1/1 (100.00%) Completed\n",
      "\u001b[36m(ClientAppActor pid=109967)\u001b[0m \t📊 Training Loss: 1.3154\n",
      "\u001b[36m(ClientAppActor pid=109967)\u001b[0m \t✅ Training Accuracy: 73.49%\n",
      "\u001b[36m(ClientAppActor pid=109967)\u001b[0m \t⏳ Elapsed Time: 1.13s | ETA: 0.00s\n",
      "\u001b[36m(ClientAppActor pid=109967)\u001b[0m \t🕒 Completed At: 23:16\n",
      "\u001b[36m(ClientAppActor pid=109967)\u001b[0m \n"
     ]
    },
    {
     "name": "stderr",
     "output_type": "stream",
     "text": [
      "\u001b[92mINFO \u001b[0m:      aggregate_fit: received 10 results and 0 failures\n",
      "\u001b[92mINFO \u001b[0m:      [Round 15] Avg Drift: 0.0016 | Relative Drift: 0.0000\n",
      "\u001b[92mINFO \u001b[0m:      [Round 15] Saving aggregated model at epoch 15...\n"
     ]
    },
    {
     "name": "stdout",
     "output_type": "stream",
     "text": [
      "💾 Saved checkpoint at: /home/massimiliano/Projects/fl-g13/notebooks/../models/fl_dino_v4/non_iid/1_8/editing/fl_fl_baseline_BaseDino_epoch_15.pth\n",
      "[Server Eval Round 15] Model device: cuda:0\n",
      "[Server Eval Round 15] CUDA available in server eval: True\n"
     ]
    },
    {
     "name": "stderr",
     "output_type": "stream",
     "text": [
      "Eval progress: 100%|██████████| 313/313 [00:23<00:00, 13.47batch/s]\n",
      "\u001b[92mINFO \u001b[0m:      [Round 15] Centralized Evaluation - Loss: 5.0827, Metrics: {'centralized_accuracy': 0.0393}\n",
      "\u001b[92mINFO \u001b[0m:      fit progress: (15, 5.082663372301827, {'centralized_accuracy': 0.0393}, 409.7006504050005)\n",
      "\u001b[92mINFO \u001b[0m:      configure_evaluate: strategy sampled 10 clients (out of 100)\n"
     ]
    },
    {
     "name": "stdout",
     "output_type": "stream",
     "text": [
      "\u001b[36m(ClientAppActor pid=109967)\u001b[0m [Client] Client on device: cuda:0\n",
      "\u001b[36m(ClientAppActor pid=109967)\u001b[0m [Client] CUDA available in client: True\n"
     ]
    },
    {
     "name": "stderr",
     "output_type": "stream",
     "text": [
      "Eval progress:   0%|          | 0/2 [00:00<?, ?batch/s]\n",
      "Eval progress: 100%|██████████| 2/2 [00:00<00:00,  8.27batch/s]\n"
     ]
    },
    {
     "name": "stdout",
     "output_type": "stream",
     "text": [
      "\u001b[36m(ClientAppActor pid=109967)\u001b[0m [Client] Client on device: cuda:0\n",
      "\u001b[36m(ClientAppActor pid=109967)\u001b[0m [Client] CUDA available in client: True\n"
     ]
    },
    {
     "name": "stderr",
     "output_type": "stream",
     "text": [
      "Eval progress:   0%|          | 0/2 [00:00<?, ?batch/s]\n",
      "Eval progress:  50%|█████     | 1/2 [00:00<00:00,  6.38batch/s]\n",
      "Eval progress: 100%|██████████| 2/2 [00:00<00:00,  8.29batch/s]\n"
     ]
    },
    {
     "name": "stdout",
     "output_type": "stream",
     "text": [
      "\u001b[36m(ClientAppActor pid=109967)\u001b[0m [Client] Client on device: cuda:0\n",
      "\u001b[36m(ClientAppActor pid=109967)\u001b[0m [Client] CUDA available in client: True\n"
     ]
    },
    {
     "name": "stderr",
     "output_type": "stream",
     "text": [
      "Eval progress:   0%|          | 0/2 [00:00<?, ?batch/s]\n",
      "Eval progress:  50%|█████     | 1/2 [00:00<00:00,  6.36batch/s]\n",
      "Eval progress: 100%|██████████| 2/2 [00:00<00:00,  8.24batch/s]\n"
     ]
    },
    {
     "name": "stdout",
     "output_type": "stream",
     "text": [
      "\u001b[36m(ClientAppActor pid=109967)\u001b[0m [Client] Client on device: cuda:0\n",
      "\u001b[36m(ClientAppActor pid=109967)\u001b[0m [Client] CUDA available in client: True\n"
     ]
    },
    {
     "name": "stderr",
     "output_type": "stream",
     "text": [
      "Eval progress:   0%|          | 0/2 [00:00<?, ?batch/s]\n",
      "Eval progress: 100%|██████████| 2/2 [00:00<00:00,  8.21batch/s]\n"
     ]
    },
    {
     "name": "stdout",
     "output_type": "stream",
     "text": [
      "\u001b[36m(ClientAppActor pid=109967)\u001b[0m [Client] Client on device: cuda:0\n",
      "\u001b[36m(ClientAppActor pid=109967)\u001b[0m [Client] CUDA available in client: True\n"
     ]
    },
    {
     "name": "stderr",
     "output_type": "stream",
     "text": [
      "Eval progress:   0%|          | 0/2 [00:00<?, ?batch/s]\n",
      "Eval progress:  50%|█████     | 1/2 [00:00<00:00,  6.29batch/s]\n",
      "Eval progress: 100%|██████████| 2/2 [00:00<00:00,  8.22batch/s]\n"
     ]
    },
    {
     "name": "stdout",
     "output_type": "stream",
     "text": [
      "\u001b[36m(ClientAppActor pid=109967)\u001b[0m [Client] Client on device: cuda:0\n",
      "\u001b[36m(ClientAppActor pid=109967)\u001b[0m [Client] CUDA available in client: True\n"
     ]
    },
    {
     "name": "stderr",
     "output_type": "stream",
     "text": [
      "Eval progress:   0%|          | 0/2 [00:00<?, ?batch/s]\n",
      "Eval progress:  50%|█████     | 1/2 [00:00<00:00,  6.42batch/s]\n",
      "Eval progress: 100%|██████████| 2/2 [00:00<00:00,  8.24batch/s]\n"
     ]
    },
    {
     "name": "stdout",
     "output_type": "stream",
     "text": [
      "\u001b[36m(ClientAppActor pid=109967)\u001b[0m [Client] Client on device: cuda:0\n",
      "\u001b[36m(ClientAppActor pid=109967)\u001b[0m [Client] CUDA available in client: True\n"
     ]
    },
    {
     "name": "stderr",
     "output_type": "stream",
     "text": [
      "Eval progress:   0%|          | 0/2 [00:00<?, ?batch/s]\n",
      "Eval progress:  50%|█████     | 1/2 [00:00<00:00,  6.43batch/s]\n",
      "Eval progress: 100%|██████████| 2/2 [00:00<00:00,  8.28batch/s]\n"
     ]
    },
    {
     "name": "stdout",
     "output_type": "stream",
     "text": [
      "\u001b[36m(ClientAppActor pid=109967)\u001b[0m [Client] Client on device: cuda:0\n",
      "\u001b[36m(ClientAppActor pid=109967)\u001b[0m [Client] CUDA available in client: True\n"
     ]
    },
    {
     "name": "stderr",
     "output_type": "stream",
     "text": [
      "Eval progress:   0%|          | 0/2 [00:00<?, ?batch/s]\n",
      "Eval progress:  50%|█████     | 1/2 [00:00<00:00,  6.44batch/s]\n",
      "Eval progress: 100%|██████████| 2/2 [00:00<00:00,  8.35batch/s]\n"
     ]
    },
    {
     "name": "stdout",
     "output_type": "stream",
     "text": [
      "\u001b[36m(ClientAppActor pid=109967)\u001b[0m [Client] Client on device: cuda:0\n",
      "\u001b[36m(ClientAppActor pid=109967)\u001b[0m [Client] CUDA available in client: True\n"
     ]
    },
    {
     "name": "stderr",
     "output_type": "stream",
     "text": [
      "Eval progress:   0%|          | 0/2 [00:00<?, ?batch/s]\n",
      "Eval progress:  50%|█████     | 1/2 [00:00<00:00,  6.35batch/s]\n",
      "Eval progress: 100%|██████████| 2/2 [00:00<00:00,  8.21batch/s]\n"
     ]
    },
    {
     "name": "stdout",
     "output_type": "stream",
     "text": [
      "\u001b[36m(ClientAppActor pid=109967)\u001b[0m [Client] Client on device: cuda:0\n",
      "\u001b[36m(ClientAppActor pid=109967)\u001b[0m [Client] CUDA available in client: True\n"
     ]
    },
    {
     "name": "stderr",
     "output_type": "stream",
     "text": [
      "Eval progress:   0%|          | 0/2 [00:00<?, ?batch/s]\n",
      "Eval progress:  50%|█████     | 1/2 [00:00<00:00,  6.45batch/s]\n",
      "\u001b[92mINFO \u001b[0m:      aggregate_evaluate: received 10 results and 0 failures\n",
      "\u001b[92mINFO \u001b[0m:      \n",
      "\u001b[92mINFO \u001b[0m:      [ROUND 16]\n",
      "\u001b[92mINFO \u001b[0m:      configure_fit: strategy sampled 10 clients (out of 100)\n",
      "Eval progress: 100%|██████████| 2/2 [00:00<00:00,  8.17batch/s]\n"
     ]
    },
    {
     "name": "stdout",
     "output_type": "stream",
     "text": [
      "\u001b[36m(ClientAppActor pid=109967)\u001b[0m [Client] Client on device: cuda:0\n",
      "\u001b[36m(ClientAppActor pid=109967)\u001b[0m [Client] CUDA available in client: True\n",
      "\u001b[36m(ClientAppActor pid=109967)\u001b[0m No prefix/name for the model was provided, choosen prefix/name: zesty_spearow_17\n",
      "\u001b[36m(ClientAppActor pid=109967)\u001b[0m \n",
      "\u001b[36m(ClientAppActor pid=109967)\u001b[0m Step 1/8 | Total batches: 7\n",
      "\u001b[36m(ClientAppActor pid=109967)\u001b[0m Step 2/8 | Total batches: 7\n",
      "\u001b[36m(ClientAppActor pid=109967)\u001b[0m Step 3/8 | Total batches: 7\n",
      "\u001b[36m(ClientAppActor pid=109967)\u001b[0m Step 4/8 | Total batches: 7\n",
      "\u001b[36m(ClientAppActor pid=109967)\u001b[0m Step 5/8 | Total batches: 7\n",
      "\u001b[36m(ClientAppActor pid=109967)\u001b[0m Step 6/8 | Total batches: 7\n",
      "\u001b[36m(ClientAppActor pid=109967)\u001b[0m Step 7/8 | Total batches: 7\n",
      "\u001b[36m(ClientAppActor pid=109967)\u001b[0m Step 8/8 | Total batches: 7\n",
      "\u001b[36m(ClientAppActor pid=109967)\u001b[0m 🚀 Epoch 1/1 (100.00%) Completed\n",
      "\u001b[36m(ClientAppActor pid=109967)\u001b[0m \t📊 Training Loss: 1.3003\n",
      "\u001b[36m(ClientAppActor pid=109967)\u001b[0m \t✅ Training Accuracy: 73.28%\n",
      "\u001b[36m(ClientAppActor pid=109967)\u001b[0m \t⏳ Elapsed Time: 1.17s | ETA: 0.00s\n",
      "\u001b[36m(ClientAppActor pid=109967)\u001b[0m \t🕒 Completed At: 23:16\n",
      "\u001b[36m(ClientAppActor pid=109967)\u001b[0m \n",
      "\u001b[36m(ClientAppActor pid=109967)\u001b[0m [Client] Client on device: cuda:0\n",
      "\u001b[36m(ClientAppActor pid=109967)\u001b[0m [Client] CUDA available in client: True\n",
      "\u001b[36m(ClientAppActor pid=109967)\u001b[0m No prefix/name for the model was provided, choosen prefix/name: dorky_arbok_35\n",
      "\u001b[36m(ClientAppActor pid=109967)\u001b[0m \n",
      "\u001b[36m(ClientAppActor pid=109967)\u001b[0m Step 1/8 | Total batches: 7\n",
      "\u001b[36m(ClientAppActor pid=109967)\u001b[0m Step 2/8 | Total batches: 7\n",
      "\u001b[36m(ClientAppActor pid=109967)\u001b[0m Step 3/8 | Total batches: 7\n",
      "\u001b[36m(ClientAppActor pid=109967)\u001b[0m Step 4/8 | Total batches: 7\n",
      "\u001b[36m(ClientAppActor pid=109967)\u001b[0m Step 5/8 | Total batches: 7\n",
      "\u001b[36m(ClientAppActor pid=109967)\u001b[0m Step 6/8 | Total batches: 7\n",
      "\u001b[36m(ClientAppActor pid=109967)\u001b[0m Step 7/8 | Total batches: 7\n",
      "\u001b[36m(ClientAppActor pid=109967)\u001b[0m Step 8/8 | Total batches: 7\n",
      "\u001b[36m(ClientAppActor pid=109967)\u001b[0m 🚀 Epoch 1/1 (100.00%) Completed\n",
      "\u001b[36m(ClientAppActor pid=109967)\u001b[0m \t📊 Training Loss: 1.5156\n",
      "\u001b[36m(ClientAppActor pid=109967)\u001b[0m \t✅ Training Accuracy: 72.41%\n",
      "\u001b[36m(ClientAppActor pid=109967)\u001b[0m \t⏳ Elapsed Time: 1.19s | ETA: 0.00s\n",
      "\u001b[36m(ClientAppActor pid=109967)\u001b[0m \t🕒 Completed At: 23:16\n",
      "\u001b[36m(ClientAppActor pid=109967)\u001b[0m \n",
      "\u001b[36m(ClientAppActor pid=109967)\u001b[0m [Client] Client on device: cuda:0\n",
      "\u001b[36m(ClientAppActor pid=109967)\u001b[0m [Client] CUDA available in client: True\n",
      "\u001b[36m(ClientAppActor pid=109967)\u001b[0m No prefix/name for the model was provided, choosen prefix/name: nutty_butterfree_25\n",
      "\u001b[36m(ClientAppActor pid=109967)\u001b[0m \n",
      "\u001b[36m(ClientAppActor pid=109967)\u001b[0m Step 1/8 | Total batches: 7\n",
      "\u001b[36m(ClientAppActor pid=109967)\u001b[0m Step 2/8 | Total batches: 7\n",
      "\u001b[36m(ClientAppActor pid=109967)\u001b[0m Step 3/8 | Total batches: 7\n",
      "\u001b[36m(ClientAppActor pid=109967)\u001b[0m Step 4/8 | Total batches: 7\n",
      "\u001b[36m(ClientAppActor pid=109967)\u001b[0m Step 5/8 | Total batches: 7\n",
      "\u001b[36m(ClientAppActor pid=109967)\u001b[0m Step 6/8 | Total batches: 7\n",
      "\u001b[36m(ClientAppActor pid=109967)\u001b[0m Step 7/8 | Total batches: 7\n",
      "\u001b[36m(ClientAppActor pid=109967)\u001b[0m Step 8/8 | Total batches: 7\n",
      "\u001b[36m(ClientAppActor pid=109967)\u001b[0m 🚀 Epoch 1/1 (100.00%) Completed\n",
      "\u001b[36m(ClientAppActor pid=109967)\u001b[0m \t📊 Training Loss: 1.0087\n",
      "\u001b[36m(ClientAppActor pid=109967)\u001b[0m \t✅ Training Accuracy: 77.37%\n",
      "\u001b[36m(ClientAppActor pid=109967)\u001b[0m \t⏳ Elapsed Time: 1.16s | ETA: 0.00s\n",
      "\u001b[36m(ClientAppActor pid=109967)\u001b[0m \t🕒 Completed At: 23:16\n",
      "\u001b[36m(ClientAppActor pid=109967)\u001b[0m \n",
      "\u001b[36m(ClientAppActor pid=109967)\u001b[0m [Client] Client on device: cuda:0\n",
      "\u001b[36m(ClientAppActor pid=109967)\u001b[0m [Client] CUDA available in client: True\n",
      "\u001b[36m(ClientAppActor pid=109967)\u001b[0m No prefix/name for the model was provided, choosen prefix/name: dizzy_bulbasaur_67\n",
      "\u001b[36m(ClientAppActor pid=109967)\u001b[0m \n",
      "\u001b[36m(ClientAppActor pid=109967)\u001b[0m Step 1/8 | Total batches: 7\n",
      "\u001b[36m(ClientAppActor pid=109967)\u001b[0m Step 2/8 | Total batches: 7\n",
      "\u001b[36m(ClientAppActor pid=109967)\u001b[0m Step 3/8 | Total batches: 7\n",
      "\u001b[36m(ClientAppActor pid=109967)\u001b[0m Step 4/8 | Total batches: 7\n",
      "\u001b[36m(ClientAppActor pid=109967)\u001b[0m Step 5/8 | Total batches: 7\n",
      "\u001b[36m(ClientAppActor pid=109967)\u001b[0m Step 6/8 | Total batches: 7\n",
      "\u001b[36m(ClientAppActor pid=109967)\u001b[0m Step 7/8 | Total batches: 7\n",
      "\u001b[36m(ClientAppActor pid=109967)\u001b[0m Step 8/8 | Total batches: 7\n",
      "\u001b[36m(ClientAppActor pid=109967)\u001b[0m 🚀 Epoch 1/1 (100.00%) Completed\n",
      "\u001b[36m(ClientAppActor pid=109967)\u001b[0m \t📊 Training Loss: 1.5421\n",
      "\u001b[36m(ClientAppActor pid=109967)\u001b[0m \t✅ Training Accuracy: 72.63%\n",
      "\u001b[36m(ClientAppActor pid=109967)\u001b[0m \t⏳ Elapsed Time: 1.15s | ETA: 0.00s\n",
      "\u001b[36m(ClientAppActor pid=109967)\u001b[0m \t🕒 Completed At: 23:16\n",
      "\u001b[36m(ClientAppActor pid=109967)\u001b[0m \n",
      "\u001b[36m(ClientAppActor pid=109967)\u001b[0m [Client] Client on device: cuda:0\n",
      "\u001b[36m(ClientAppActor pid=109967)\u001b[0m [Client] CUDA available in client: True\n",
      "\u001b[36m(ClientAppActor pid=109967)\u001b[0m No prefix/name for the model was provided, choosen prefix/name: sassy_nidoking_40\n",
      "\u001b[36m(ClientAppActor pid=109967)\u001b[0m \n",
      "\u001b[36m(ClientAppActor pid=109967)\u001b[0m Step 1/8 | Total batches: 7\n",
      "\u001b[36m(ClientAppActor pid=109967)\u001b[0m Step 2/8 | Total batches: 7\n",
      "\u001b[36m(ClientAppActor pid=109967)\u001b[0m Step 3/8 | Total batches: 7\n",
      "\u001b[36m(ClientAppActor pid=109967)\u001b[0m Step 4/8 | Total batches: 7\n",
      "\u001b[36m(ClientAppActor pid=109967)\u001b[0m Step 5/8 | Total batches: 7\n",
      "\u001b[36m(ClientAppActor pid=109967)\u001b[0m Step 6/8 | Total batches: 7\n",
      "\u001b[36m(ClientAppActor pid=109967)\u001b[0m Step 7/8 | Total batches: 7\n",
      "\u001b[36m(ClientAppActor pid=109967)\u001b[0m Step 8/8 | Total batches: 7\n",
      "\u001b[36m(ClientAppActor pid=109967)\u001b[0m 🚀 Epoch 1/1 (100.00%) Completed\n",
      "\u001b[36m(ClientAppActor pid=109967)\u001b[0m \t📊 Training Loss: 0.7924\n",
      "\u001b[36m(ClientAppActor pid=109967)\u001b[0m \t✅ Training Accuracy: 82.76%\n",
      "\u001b[36m(ClientAppActor pid=109967)\u001b[0m \t⏳ Elapsed Time: 1.15s | ETA: 0.00s\n",
      "\u001b[36m(ClientAppActor pid=109967)\u001b[0m \t🕒 Completed At: 23:16\n",
      "\u001b[36m(ClientAppActor pid=109967)\u001b[0m \n",
      "\u001b[36m(ClientAppActor pid=109967)\u001b[0m [Client] Client on device: cuda:0\n",
      "\u001b[36m(ClientAppActor pid=109967)\u001b[0m [Client] CUDA available in client: True\n",
      "\u001b[36m(ClientAppActor pid=109967)\u001b[0m No prefix/name for the model was provided, choosen prefix/name: witty_venusaur_46\n",
      "\u001b[36m(ClientAppActor pid=109967)\u001b[0m \n",
      "\u001b[36m(ClientAppActor pid=109967)\u001b[0m Step 1/8 | Total batches: 7\n",
      "\u001b[36m(ClientAppActor pid=109967)\u001b[0m Step 2/8 | Total batches: 7\n",
      "\u001b[36m(ClientAppActor pid=109967)\u001b[0m Step 3/8 | Total batches: 7\n",
      "\u001b[36m(ClientAppActor pid=109967)\u001b[0m Step 4/8 | Total batches: 7\n",
      "\u001b[36m(ClientAppActor pid=109967)\u001b[0m Step 5/8 | Total batches: 7\n",
      "\u001b[36m(ClientAppActor pid=109967)\u001b[0m Step 6/8 | Total batches: 7\n",
      "\u001b[36m(ClientAppActor pid=109967)\u001b[0m Step 7/8 | Total batches: 7\n",
      "\u001b[36m(ClientAppActor pid=109967)\u001b[0m Step 8/8 | Total batches: 7\n",
      "\u001b[36m(ClientAppActor pid=109967)\u001b[0m 🚀 Epoch 1/1 (100.00%) Completed\n",
      "\u001b[36m(ClientAppActor pid=109967)\u001b[0m \t📊 Training Loss: 0.8492\n",
      "\u001b[36m(ClientAppActor pid=109967)\u001b[0m \t✅ Training Accuracy: 80.17%\n",
      "\u001b[36m(ClientAppActor pid=109967)\u001b[0m \t⏳ Elapsed Time: 1.16s | ETA: 0.00s\n",
      "\u001b[36m(ClientAppActor pid=109967)\u001b[0m \t🕒 Completed At: 23:16\n",
      "\u001b[36m(ClientAppActor pid=109967)\u001b[0m \n",
      "\u001b[36m(ClientAppActor pid=109967)\u001b[0m [Client] Client on device: cuda:0\n",
      "\u001b[36m(ClientAppActor pid=109967)\u001b[0m [Client] CUDA available in client: True\n",
      "\u001b[36m(ClientAppActor pid=109967)\u001b[0m No prefix/name for the model was provided, choosen prefix/name: jumpy_venusaur_97\n",
      "\u001b[36m(ClientAppActor pid=109967)\u001b[0m \n",
      "\u001b[36m(ClientAppActor pid=109967)\u001b[0m Step 1/8 | Total batches: 7\n",
      "\u001b[36m(ClientAppActor pid=109967)\u001b[0m Step 2/8 | Total batches: 7\n",
      "\u001b[36m(ClientAppActor pid=109967)\u001b[0m Step 3/8 | Total batches: 7\n",
      "\u001b[36m(ClientAppActor pid=109967)\u001b[0m Step 4/8 | Total batches: 7\n",
      "\u001b[36m(ClientAppActor pid=109967)\u001b[0m Step 5/8 | Total batches: 7\n",
      "\u001b[36m(ClientAppActor pid=109967)\u001b[0m Step 6/8 | Total batches: 7\n",
      "\u001b[36m(ClientAppActor pid=109967)\u001b[0m Step 7/8 | Total batches: 7\n",
      "\u001b[36m(ClientAppActor pid=109967)\u001b[0m Step 8/8 | Total batches: 7\n",
      "\u001b[36m(ClientAppActor pid=109967)\u001b[0m 🚀 Epoch 1/1 (100.00%) Completed\n",
      "\u001b[36m(ClientAppActor pid=109967)\u001b[0m \t📊 Training Loss: 1.4734\n",
      "\u001b[36m(ClientAppActor pid=109967)\u001b[0m \t✅ Training Accuracy: 73.06%\n",
      "\u001b[36m(ClientAppActor pid=109967)\u001b[0m \t⏳ Elapsed Time: 1.15s | ETA: 0.00s\n",
      "\u001b[36m(ClientAppActor pid=109967)\u001b[0m \t🕒 Completed At: 23:16\n",
      "\u001b[36m(ClientAppActor pid=109967)\u001b[0m \n",
      "\u001b[36m(ClientAppActor pid=109967)\u001b[0m [Client] Client on device: cuda:0\n",
      "\u001b[36m(ClientAppActor pid=109967)\u001b[0m [Client] CUDA available in client: True\n",
      "\u001b[36m(ClientAppActor pid=109967)\u001b[0m No prefix/name for the model was provided, choosen prefix/name: giddy_metapod_99\n",
      "\u001b[36m(ClientAppActor pid=109967)\u001b[0m \n",
      "\u001b[36m(ClientAppActor pid=109967)\u001b[0m Step 1/8 | Total batches: 7\n",
      "\u001b[36m(ClientAppActor pid=109967)\u001b[0m Step 2/8 | Total batches: 7\n",
      "\u001b[36m(ClientAppActor pid=109967)\u001b[0m Step 3/8 | Total batches: 7\n",
      "\u001b[36m(ClientAppActor pid=109967)\u001b[0m Step 4/8 | Total batches: 7\n",
      "\u001b[36m(ClientAppActor pid=109967)\u001b[0m Step 5/8 | Total batches: 7\n",
      "\u001b[36m(ClientAppActor pid=109967)\u001b[0m Step 6/8 | Total batches: 7\n",
      "\u001b[36m(ClientAppActor pid=109967)\u001b[0m Step 7/8 | Total batches: 7\n",
      "\u001b[36m(ClientAppActor pid=109967)\u001b[0m Step 8/8 | Total batches: 7\n",
      "\u001b[36m(ClientAppActor pid=109967)\u001b[0m 🚀 Epoch 1/1 (100.00%) Completed\n",
      "\u001b[36m(ClientAppActor pid=109967)\u001b[0m \t📊 Training Loss: 1.0102\n",
      "\u001b[36m(ClientAppActor pid=109967)\u001b[0m \t✅ Training Accuracy: 76.94%\n",
      "\u001b[36m(ClientAppActor pid=109967)\u001b[0m \t⏳ Elapsed Time: 1.22s | ETA: 0.00s\n",
      "\u001b[36m(ClientAppActor pid=109967)\u001b[0m \t🕒 Completed At: 23:17\n",
      "\u001b[36m(ClientAppActor pid=109967)\u001b[0m \n",
      "\u001b[36m(ClientAppActor pid=109967)\u001b[0m [Client] Client on device: cuda:0\n",
      "\u001b[36m(ClientAppActor pid=109967)\u001b[0m [Client] CUDA available in client: True\n",
      "\u001b[36m(ClientAppActor pid=109967)\u001b[0m No prefix/name for the model was provided, choosen prefix/name: fluffy_metapod_50\n",
      "\u001b[36m(ClientAppActor pid=109967)\u001b[0m \n",
      "\u001b[36m(ClientAppActor pid=109967)\u001b[0m Step 1/8 | Total batches: 7\n",
      "\u001b[36m(ClientAppActor pid=109967)\u001b[0m Step 2/8 | Total batches: 7\n",
      "\u001b[36m(ClientAppActor pid=109967)\u001b[0m Step 3/8 | Total batches: 7\n",
      "\u001b[36m(ClientAppActor pid=109967)\u001b[0m Step 4/8 | Total batches: 7\n",
      "\u001b[36m(ClientAppActor pid=109967)\u001b[0m Step 5/8 | Total batches: 7\n",
      "\u001b[36m(ClientAppActor pid=109967)\u001b[0m Step 6/8 | Total batches: 7\n",
      "\u001b[36m(ClientAppActor pid=109967)\u001b[0m Step 7/8 | Total batches: 7\n",
      "\u001b[36m(ClientAppActor pid=109967)\u001b[0m Step 8/8 | Total batches: 7\n",
      "\u001b[36m(ClientAppActor pid=109967)\u001b[0m 🚀 Epoch 1/1 (100.00%) Completed\n",
      "\u001b[36m(ClientAppActor pid=109967)\u001b[0m \t📊 Training Loss: 0.7474\n",
      "\u001b[36m(ClientAppActor pid=109967)\u001b[0m \t✅ Training Accuracy: 80.60%\n",
      "\u001b[36m(ClientAppActor pid=109967)\u001b[0m \t⏳ Elapsed Time: 1.18s | ETA: 0.00s\n",
      "\u001b[36m(ClientAppActor pid=109967)\u001b[0m \t🕒 Completed At: 23:17\n",
      "\u001b[36m(ClientAppActor pid=109967)\u001b[0m \n",
      "\u001b[36m(ClientAppActor pid=109967)\u001b[0m [Client] Client on device: cuda:0\n",
      "\u001b[36m(ClientAppActor pid=109967)\u001b[0m [Client] CUDA available in client: True\n",
      "\u001b[36m(ClientAppActor pid=109967)\u001b[0m No prefix/name for the model was provided, choosen prefix/name: jazzy_ekans_30\n",
      "\u001b[36m(ClientAppActor pid=109967)\u001b[0m \n",
      "\u001b[36m(ClientAppActor pid=109967)\u001b[0m Step 1/8 | Total batches: 7\n",
      "\u001b[36m(ClientAppActor pid=109967)\u001b[0m Step 2/8 | Total batches: 7\n",
      "\u001b[36m(ClientAppActor pid=109967)\u001b[0m Step 3/8 | Total batches: 7\n",
      "\u001b[36m(ClientAppActor pid=109967)\u001b[0m Step 4/8 | Total batches: 7\n",
      "\u001b[36m(ClientAppActor pid=109967)\u001b[0m Step 5/8 | Total batches: 7\n",
      "\u001b[36m(ClientAppActor pid=109967)\u001b[0m Step 6/8 | Total batches: 7\n",
      "\u001b[36m(ClientAppActor pid=109967)\u001b[0m Step 7/8 | Total batches: 7\n",
      "\u001b[36m(ClientAppActor pid=109967)\u001b[0m Step 8/8 | Total batches: 7\n"
     ]
    },
    {
     "name": "stderr",
     "output_type": "stream",
     "text": [
      "\u001b[92mINFO \u001b[0m:      aggregate_fit: received 10 results and 0 failures\n"
     ]
    },
    {
     "name": "stdout",
     "output_type": "stream",
     "text": [
      "\u001b[36m(ClientAppActor pid=109967)\u001b[0m 🚀 Epoch 1/1 (100.00%) Completed\n",
      "\u001b[36m(ClientAppActor pid=109967)\u001b[0m \t📊 Training Loss: 0.9675\n",
      "\u001b[36m(ClientAppActor pid=109967)\u001b[0m \t✅ Training Accuracy: 78.23%\n",
      "\u001b[36m(ClientAppActor pid=109967)\u001b[0m \t⏳ Elapsed Time: 1.14s | ETA: 0.00s\n",
      "\u001b[36m(ClientAppActor pid=109967)\u001b[0m \t🕒 Completed At: 23:17\n",
      "\u001b[36m(ClientAppActor pid=109967)\u001b[0m \n"
     ]
    },
    {
     "name": "stderr",
     "output_type": "stream",
     "text": [
      "\u001b[92mINFO \u001b[0m:      [Round 16] Avg Drift: 0.0014 | Relative Drift: 0.0000\n",
      "\u001b[92mINFO \u001b[0m:      fit progress: (16, {}, {}, 432.7224500680022)\n",
      "\u001b[92mINFO \u001b[0m:      configure_evaluate: strategy sampled 10 clients (out of 100)\n"
     ]
    },
    {
     "name": "stdout",
     "output_type": "stream",
     "text": [
      "\u001b[36m(ClientAppActor pid=109967)\u001b[0m [Client] Client on device: cuda:0\n",
      "\u001b[36m(ClientAppActor pid=109967)\u001b[0m [Client] CUDA available in client: True\n"
     ]
    },
    {
     "name": "stderr",
     "output_type": "stream",
     "text": [
      "Eval progress:   0%|          | 0/2 [00:00<?, ?batch/s]\n",
      "Eval progress: 100%|██████████| 2/2 [00:00<00:00,  8.23batch/s]\n"
     ]
    },
    {
     "name": "stdout",
     "output_type": "stream",
     "text": [
      "\u001b[36m(ClientAppActor pid=109967)\u001b[0m [Client] Client on device: cuda:0\n",
      "\u001b[36m(ClientAppActor pid=109967)\u001b[0m [Client] CUDA available in client: True\n"
     ]
    },
    {
     "name": "stderr",
     "output_type": "stream",
     "text": [
      "Eval progress:   0%|          | 0/2 [00:00<?, ?batch/s]\n",
      "Eval progress:  50%|█████     | 1/2 [00:00<00:00,  6.22batch/s]\n",
      "Eval progress: 100%|██████████| 2/2 [00:00<00:00,  8.12batch/s]\n"
     ]
    },
    {
     "name": "stdout",
     "output_type": "stream",
     "text": [
      "\u001b[36m(ClientAppActor pid=109967)\u001b[0m [Client] Client on device: cuda:0\n",
      "\u001b[36m(ClientAppActor pid=109967)\u001b[0m [Client] CUDA available in client: True\n"
     ]
    },
    {
     "name": "stderr",
     "output_type": "stream",
     "text": [
      "Eval progress:   0%|          | 0/2 [00:00<?, ?batch/s]\n",
      "Eval progress: 100%|██████████| 2/2 [00:00<00:00,  8.19batch/s]\n"
     ]
    },
    {
     "name": "stdout",
     "output_type": "stream",
     "text": [
      "\u001b[36m(ClientAppActor pid=109967)\u001b[0m [Client] Client on device: cuda:0\n",
      "\u001b[36m(ClientAppActor pid=109967)\u001b[0m [Client] CUDA available in client: True\n"
     ]
    },
    {
     "name": "stderr",
     "output_type": "stream",
     "text": [
      "Eval progress:   0%|          | 0/2 [00:00<?, ?batch/s]\n",
      "Eval progress:  50%|█████     | 1/2 [00:00<00:00,  6.40batch/s]\n",
      "Eval progress: 100%|██████████| 2/2 [00:00<00:00,  8.26batch/s]\n"
     ]
    },
    {
     "name": "stdout",
     "output_type": "stream",
     "text": [
      "\u001b[36m(ClientAppActor pid=109967)\u001b[0m [Client] Client on device: cuda:0\n",
      "\u001b[36m(ClientAppActor pid=109967)\u001b[0m [Client] CUDA available in client: True\n"
     ]
    },
    {
     "name": "stderr",
     "output_type": "stream",
     "text": [
      "Eval progress:   0%|          | 0/2 [00:00<?, ?batch/s]\n",
      "Eval progress:  50%|█████     | 1/2 [00:00<00:00,  6.31batch/s]\n",
      "Eval progress: 100%|██████████| 2/2 [00:00<00:00,  8.24batch/s]\n"
     ]
    },
    {
     "name": "stdout",
     "output_type": "stream",
     "text": [
      "\u001b[36m(ClientAppActor pid=109967)\u001b[0m [Client] Client on device: cuda:0\n",
      "\u001b[36m(ClientAppActor pid=109967)\u001b[0m [Client] CUDA available in client: True\n"
     ]
    },
    {
     "name": "stderr",
     "output_type": "stream",
     "text": [
      "Eval progress:   0%|          | 0/2 [00:00<?, ?batch/s]\n",
      "Eval progress:  50%|█████     | 1/2 [00:00<00:00,  6.48batch/s]\n",
      "Eval progress: 100%|██████████| 2/2 [00:00<00:00,  8.35batch/s]\n"
     ]
    },
    {
     "name": "stdout",
     "output_type": "stream",
     "text": [
      "\u001b[36m(ClientAppActor pid=109967)\u001b[0m [Client] Client on device: cuda:0\n",
      "\u001b[36m(ClientAppActor pid=109967)\u001b[0m [Client] CUDA available in client: True\n"
     ]
    },
    {
     "name": "stderr",
     "output_type": "stream",
     "text": [
      "Eval progress:   0%|          | 0/2 [00:00<?, ?batch/s]\n",
      "Eval progress:  50%|█████     | 1/2 [00:00<00:00,  6.26batch/s]\n",
      "Eval progress: 100%|██████████| 2/2 [00:00<00:00,  8.00batch/s]\n"
     ]
    },
    {
     "name": "stdout",
     "output_type": "stream",
     "text": [
      "\u001b[36m(ClientAppActor pid=109967)\u001b[0m [Client] Client on device: cuda:0\n",
      "\u001b[36m(ClientAppActor pid=109967)\u001b[0m [Client] CUDA available in client: True\n"
     ]
    },
    {
     "name": "stderr",
     "output_type": "stream",
     "text": [
      "Eval progress:   0%|          | 0/2 [00:00<?, ?batch/s]\n",
      "Eval progress:  50%|█████     | 1/2 [00:00<00:00,  6.14batch/s]\n",
      "Eval progress: 100%|██████████| 2/2 [00:00<00:00,  7.87batch/s]\n"
     ]
    },
    {
     "name": "stdout",
     "output_type": "stream",
     "text": [
      "\u001b[36m(ClientAppActor pid=109967)\u001b[0m [Client] Client on device: cuda:0\n",
      "\u001b[36m(ClientAppActor pid=109967)\u001b[0m [Client] CUDA available in client: True\n"
     ]
    },
    {
     "name": "stderr",
     "output_type": "stream",
     "text": [
      "Eval progress:   0%|          | 0/2 [00:00<?, ?batch/s]\n",
      "Eval progress:  50%|█████     | 1/2 [00:00<00:00,  5.88batch/s]\n",
      "Eval progress: 100%|██████████| 2/2 [00:00<00:00,  7.59batch/s]\n"
     ]
    },
    {
     "name": "stdout",
     "output_type": "stream",
     "text": [
      "\u001b[36m(ClientAppActor pid=109967)\u001b[0m [Client] Client on device: cuda:0\n",
      "\u001b[36m(ClientAppActor pid=109967)\u001b[0m [Client] CUDA available in client: True\n"
     ]
    },
    {
     "name": "stderr",
     "output_type": "stream",
     "text": [
      "Eval progress:   0%|          | 0/2 [00:00<?, ?batch/s]\n",
      "Eval progress:  50%|█████     | 1/2 [00:00<00:00,  6.07batch/s]\n",
      "Eval progress: 100%|██████████| 2/2 [00:00<00:00,  7.73batch/s]\n",
      "\u001b[92mINFO \u001b[0m:      aggregate_evaluate: received 10 results and 0 failures\n",
      "\u001b[92mINFO \u001b[0m:      \n",
      "\u001b[92mINFO \u001b[0m:      [ROUND 17]\n",
      "\u001b[92mINFO \u001b[0m:      configure_fit: strategy sampled 10 clients (out of 100)\n"
     ]
    },
    {
     "name": "stdout",
     "output_type": "stream",
     "text": [
      "\u001b[36m(ClientAppActor pid=109967)\u001b[0m [Client] Client on device: cuda:0\n",
      "\u001b[36m(ClientAppActor pid=109967)\u001b[0m [Client] CUDA available in client: True\n",
      "\u001b[36m(ClientAppActor pid=109967)\u001b[0m No prefix/name for the model was provided, choosen prefix/name: zesty_kakuna_51\n",
      "\u001b[36m(ClientAppActor pid=109967)\u001b[0m \n",
      "\u001b[36m(ClientAppActor pid=109967)\u001b[0m Step 1/8 | Total batches: 7\n",
      "\u001b[36m(ClientAppActor pid=109967)\u001b[0m Step 2/8 | Total batches: 7\n",
      "\u001b[36m(ClientAppActor pid=109967)\u001b[0m Step 3/8 | Total batches: 7\n",
      "\u001b[36m(ClientAppActor pid=109967)\u001b[0m Step 4/8 | Total batches: 7\n",
      "\u001b[36m(ClientAppActor pid=109967)\u001b[0m Step 5/8 | Total batches: 7\n",
      "\u001b[36m(ClientAppActor pid=109967)\u001b[0m Step 6/8 | Total batches: 7\n",
      "\u001b[36m(ClientAppActor pid=109967)\u001b[0m Step 7/8 | Total batches: 7\n",
      "\u001b[36m(ClientAppActor pid=109967)\u001b[0m Step 8/8 | Total batches: 7\n",
      "\u001b[36m(ClientAppActor pid=109967)\u001b[0m 🚀 Epoch 1/1 (100.00%) Completed\n",
      "\u001b[36m(ClientAppActor pid=109967)\u001b[0m \t📊 Training Loss: 0.7645\n",
      "\u001b[36m(ClientAppActor pid=109967)\u001b[0m \t✅ Training Accuracy: 82.11%\n",
      "\u001b[36m(ClientAppActor pid=109967)\u001b[0m \t⏳ Elapsed Time: 1.18s | ETA: 0.00s\n",
      "\u001b[36m(ClientAppActor pid=109967)\u001b[0m \t🕒 Completed At: 23:17\n",
      "\u001b[36m(ClientAppActor pid=109967)\u001b[0m \n",
      "\u001b[36m(ClientAppActor pid=109967)\u001b[0m [Client] Client on device: cuda:0\n",
      "\u001b[36m(ClientAppActor pid=109967)\u001b[0m [Client] CUDA available in client: True\n",
      "\u001b[36m(ClientAppActor pid=109967)\u001b[0m No prefix/name for the model was provided, choosen prefix/name: quirky_blastoise_91\n",
      "\u001b[36m(ClientAppActor pid=109967)\u001b[0m \n",
      "\u001b[36m(ClientAppActor pid=109967)\u001b[0m Step 1/8 | Total batches: 7\n",
      "\u001b[36m(ClientAppActor pid=109967)\u001b[0m Step 2/8 | Total batches: 7\n",
      "\u001b[36m(ClientAppActor pid=109967)\u001b[0m Step 3/8 | Total batches: 7\n",
      "\u001b[36m(ClientAppActor pid=109967)\u001b[0m Step 4/8 | Total batches: 7\n",
      "\u001b[36m(ClientAppActor pid=109967)\u001b[0m Step 5/8 | Total batches: 7\n",
      "\u001b[36m(ClientAppActor pid=109967)\u001b[0m Step 6/8 | Total batches: 7\n",
      "\u001b[36m(ClientAppActor pid=109967)\u001b[0m Step 7/8 | Total batches: 7\n",
      "\u001b[36m(ClientAppActor pid=109967)\u001b[0m Step 8/8 | Total batches: 7\n",
      "\u001b[36m(ClientAppActor pid=109967)\u001b[0m 🚀 Epoch 1/1 (100.00%) Completed\n",
      "\u001b[36m(ClientAppActor pid=109967)\u001b[0m \t📊 Training Loss: 0.4677\n",
      "\u001b[36m(ClientAppActor pid=109967)\u001b[0m \t✅ Training Accuracy: 90.30%\n",
      "\u001b[36m(ClientAppActor pid=109967)\u001b[0m \t⏳ Elapsed Time: 1.15s | ETA: 0.00s\n",
      "\u001b[36m(ClientAppActor pid=109967)\u001b[0m \t🕒 Completed At: 23:17\n",
      "\u001b[36m(ClientAppActor pid=109967)\u001b[0m \n",
      "\u001b[36m(ClientAppActor pid=109967)\u001b[0m [Client] Client on device: cuda:0\n",
      "\u001b[36m(ClientAppActor pid=109967)\u001b[0m [Client] CUDA available in client: True\n",
      "\u001b[36m(ClientAppActor pid=109967)\u001b[0m No prefix/name for the model was provided, choosen prefix/name: spooky_charizard_84\n",
      "\u001b[36m(ClientAppActor pid=109967)\u001b[0m \n",
      "\u001b[36m(ClientAppActor pid=109967)\u001b[0m Step 1/8 | Total batches: 7\n",
      "\u001b[36m(ClientAppActor pid=109967)\u001b[0m Step 2/8 | Total batches: 7\n",
      "\u001b[36m(ClientAppActor pid=109967)\u001b[0m Step 3/8 | Total batches: 7\n",
      "\u001b[36m(ClientAppActor pid=109967)\u001b[0m Step 4/8 | Total batches: 7\n",
      "\u001b[36m(ClientAppActor pid=109967)\u001b[0m Step 5/8 | Total batches: 7\n",
      "\u001b[36m(ClientAppActor pid=109967)\u001b[0m Step 6/8 | Total batches: 7\n",
      "\u001b[36m(ClientAppActor pid=109967)\u001b[0m Step 7/8 | Total batches: 7\n",
      "\u001b[36m(ClientAppActor pid=109967)\u001b[0m Step 8/8 | Total batches: 7\n",
      "\u001b[36m(ClientAppActor pid=109967)\u001b[0m 🚀 Epoch 1/1 (100.00%) Completed\n",
      "\u001b[36m(ClientAppActor pid=109967)\u001b[0m \t📊 Training Loss: 1.0380\n",
      "\u001b[36m(ClientAppActor pid=109967)\u001b[0m \t✅ Training Accuracy: 77.59%\n",
      "\u001b[36m(ClientAppActor pid=109967)\u001b[0m \t⏳ Elapsed Time: 1.14s | ETA: 0.00s\n",
      "\u001b[36m(ClientAppActor pid=109967)\u001b[0m \t🕒 Completed At: 23:17\n",
      "\u001b[36m(ClientAppActor pid=109967)\u001b[0m \n",
      "\u001b[36m(ClientAppActor pid=109967)\u001b[0m [Client] Client on device: cuda:0\n",
      "\u001b[36m(ClientAppActor pid=109967)\u001b[0m [Client] CUDA available in client: True\n",
      "\u001b[36m(ClientAppActor pid=109967)\u001b[0m No prefix/name for the model was provided, choosen prefix/name: witty_nidoking_75\n",
      "\u001b[36m(ClientAppActor pid=109967)\u001b[0m \n",
      "\u001b[36m(ClientAppActor pid=109967)\u001b[0m Step 1/8 | Total batches: 7\n",
      "\u001b[36m(ClientAppActor pid=109967)\u001b[0m Step 2/8 | Total batches: 7\n",
      "\u001b[36m(ClientAppActor pid=109967)\u001b[0m Step 3/8 | Total batches: 7\n",
      "\u001b[36m(ClientAppActor pid=109967)\u001b[0m Step 4/8 | Total batches: 7\n",
      "\u001b[36m(ClientAppActor pid=109967)\u001b[0m Step 5/8 | Total batches: 7\n",
      "\u001b[36m(ClientAppActor pid=109967)\u001b[0m Step 6/8 | Total batches: 7\n",
      "\u001b[36m(ClientAppActor pid=109967)\u001b[0m Step 7/8 | Total batches: 7\n",
      "\u001b[36m(ClientAppActor pid=109967)\u001b[0m Step 8/8 | Total batches: 7\n",
      "\u001b[36m(ClientAppActor pid=109967)\u001b[0m 🚀 Epoch 1/1 (100.00%) Completed\n",
      "\u001b[36m(ClientAppActor pid=109967)\u001b[0m \t📊 Training Loss: 0.8784\n",
      "\u001b[36m(ClientAppActor pid=109967)\u001b[0m \t✅ Training Accuracy: 78.45%\n",
      "\u001b[36m(ClientAppActor pid=109967)\u001b[0m \t⏳ Elapsed Time: 1.14s | ETA: 0.00s\n",
      "\u001b[36m(ClientAppActor pid=109967)\u001b[0m \t🕒 Completed At: 23:17\n",
      "\u001b[36m(ClientAppActor pid=109967)\u001b[0m \n",
      "\u001b[36m(ClientAppActor pid=109967)\u001b[0m [Client] Client on device: cuda:0\n",
      "\u001b[36m(ClientAppActor pid=109967)\u001b[0m [Client] CUDA available in client: True\n",
      "\u001b[36m(ClientAppActor pid=109967)\u001b[0m No prefix/name for the model was provided, choosen prefix/name: cheeky_nidorino_67\n",
      "\u001b[36m(ClientAppActor pid=109967)\u001b[0m \n",
      "\u001b[36m(ClientAppActor pid=109967)\u001b[0m Step 1/8 | Total batches: 7\n",
      "\u001b[36m(ClientAppActor pid=109967)\u001b[0m Step 2/8 | Total batches: 7\n",
      "\u001b[36m(ClientAppActor pid=109967)\u001b[0m Step 3/8 | Total batches: 7\n",
      "\u001b[36m(ClientAppActor pid=109967)\u001b[0m Step 4/8 | Total batches: 7\n",
      "\u001b[36m(ClientAppActor pid=109967)\u001b[0m Step 5/8 | Total batches: 7\n",
      "\u001b[36m(ClientAppActor pid=109967)\u001b[0m Step 6/8 | Total batches: 7\n",
      "\u001b[36m(ClientAppActor pid=109967)\u001b[0m Step 7/8 | Total batches: 7\n",
      "\u001b[36m(ClientAppActor pid=109967)\u001b[0m Step 8/8 | Total batches: 7\n",
      "\u001b[36m(ClientAppActor pid=109967)\u001b[0m 🚀 Epoch 1/1 (100.00%) Completed\n",
      "\u001b[36m(ClientAppActor pid=109967)\u001b[0m \t📊 Training Loss: 0.9336\n",
      "\u001b[36m(ClientAppActor pid=109967)\u001b[0m \t✅ Training Accuracy: 79.31%\n",
      "\u001b[36m(ClientAppActor pid=109967)\u001b[0m \t⏳ Elapsed Time: 1.14s | ETA: 0.00s\n",
      "\u001b[36m(ClientAppActor pid=109967)\u001b[0m \t🕒 Completed At: 23:17\n",
      "\u001b[36m(ClientAppActor pid=109967)\u001b[0m \n",
      "\u001b[36m(ClientAppActor pid=109967)\u001b[0m [Client] Client on device: cuda:0\n",
      "\u001b[36m(ClientAppActor pid=109967)\u001b[0m [Client] CUDA available in client: True\n",
      "\u001b[36m(ClientAppActor pid=109967)\u001b[0m No prefix/name for the model was provided, choosen prefix/name: happy_raticate_34\n",
      "\u001b[36m(ClientAppActor pid=109967)\u001b[0m \n",
      "\u001b[36m(ClientAppActor pid=109967)\u001b[0m Step 1/8 | Total batches: 7\n",
      "\u001b[36m(ClientAppActor pid=109967)\u001b[0m Step 2/8 | Total batches: 7\n",
      "\u001b[36m(ClientAppActor pid=109967)\u001b[0m Step 3/8 | Total batches: 7\n",
      "\u001b[36m(ClientAppActor pid=109967)\u001b[0m Step 4/8 | Total batches: 7\n",
      "\u001b[36m(ClientAppActor pid=109967)\u001b[0m Step 5/8 | Total batches: 7\n",
      "\u001b[36m(ClientAppActor pid=109967)\u001b[0m Step 6/8 | Total batches: 7\n",
      "\u001b[36m(ClientAppActor pid=109967)\u001b[0m Step 7/8 | Total batches: 7\n",
      "\u001b[36m(ClientAppActor pid=109967)\u001b[0m Step 8/8 | Total batches: 7\n",
      "\u001b[36m(ClientAppActor pid=109967)\u001b[0m 🚀 Epoch 1/1 (100.00%) Completed\n",
      "\u001b[36m(ClientAppActor pid=109967)\u001b[0m \t📊 Training Loss: 1.2339\n",
      "\u001b[36m(ClientAppActor pid=109967)\u001b[0m \t✅ Training Accuracy: 73.28%\n",
      "\u001b[36m(ClientAppActor pid=109967)\u001b[0m \t⏳ Elapsed Time: 1.19s | ETA: 0.00s\n",
      "\u001b[36m(ClientAppActor pid=109967)\u001b[0m \t🕒 Completed At: 23:17\n",
      "\u001b[36m(ClientAppActor pid=109967)\u001b[0m \n",
      "\u001b[36m(ClientAppActor pid=109967)\u001b[0m [Client] Client on device: cuda:0\n",
      "\u001b[36m(ClientAppActor pid=109967)\u001b[0m [Client] CUDA available in client: True\n",
      "\u001b[36m(ClientAppActor pid=109967)\u001b[0m No prefix/name for the model was provided, choosen prefix/name: cheeky_pidgey_16\n",
      "\u001b[36m(ClientAppActor pid=109967)\u001b[0m \n",
      "\u001b[36m(ClientAppActor pid=109967)\u001b[0m Step 1/8 | Total batches: 7\n",
      "\u001b[36m(ClientAppActor pid=109967)\u001b[0m Step 2/8 | Total batches: 7\n",
      "\u001b[36m(ClientAppActor pid=109967)\u001b[0m Step 3/8 | Total batches: 7\n",
      "\u001b[36m(ClientAppActor pid=109967)\u001b[0m Step 4/8 | Total batches: 7\n",
      "\u001b[36m(ClientAppActor pid=109967)\u001b[0m Step 5/8 | Total batches: 7\n",
      "\u001b[36m(ClientAppActor pid=109967)\u001b[0m Step 6/8 | Total batches: 7\n",
      "\u001b[36m(ClientAppActor pid=109967)\u001b[0m Step 7/8 | Total batches: 7\n",
      "\u001b[36m(ClientAppActor pid=109967)\u001b[0m Step 8/8 | Total batches: 7\n",
      "\u001b[36m(ClientAppActor pid=109967)\u001b[0m 🚀 Epoch 1/1 (100.00%) Completed\n",
      "\u001b[36m(ClientAppActor pid=109967)\u001b[0m \t📊 Training Loss: 1.4111\n",
      "\u001b[36m(ClientAppActor pid=109967)\u001b[0m \t✅ Training Accuracy: 72.63%\n",
      "\u001b[36m(ClientAppActor pid=109967)\u001b[0m \t⏳ Elapsed Time: 1.19s | ETA: 0.00s\n",
      "\u001b[36m(ClientAppActor pid=109967)\u001b[0m \t🕒 Completed At: 23:17\n",
      "\u001b[36m(ClientAppActor pid=109967)\u001b[0m \n",
      "\u001b[36m(ClientAppActor pid=109967)\u001b[0m [Client] Client on device: cuda:0\n",
      "\u001b[36m(ClientAppActor pid=109967)\u001b[0m [Client] CUDA available in client: True\n",
      "\u001b[36m(ClientAppActor pid=109967)\u001b[0m No prefix/name for the model was provided, choosen prefix/name: happy_ekans_18\n",
      "\u001b[36m(ClientAppActor pid=109967)\u001b[0m \n",
      "\u001b[36m(ClientAppActor pid=109967)\u001b[0m Step 1/8 | Total batches: 7\n",
      "\u001b[36m(ClientAppActor pid=109967)\u001b[0m Step 2/8 | Total batches: 7\n",
      "\u001b[36m(ClientAppActor pid=109967)\u001b[0m Step 3/8 | Total batches: 7\n",
      "\u001b[36m(ClientAppActor pid=109967)\u001b[0m Step 4/8 | Total batches: 7\n",
      "\u001b[36m(ClientAppActor pid=109967)\u001b[0m Step 5/8 | Total batches: 7\n",
      "\u001b[36m(ClientAppActor pid=109967)\u001b[0m Step 6/8 | Total batches: 7\n",
      "\u001b[36m(ClientAppActor pid=109967)\u001b[0m Step 7/8 | Total batches: 7\n",
      "\u001b[36m(ClientAppActor pid=109967)\u001b[0m Step 8/8 | Total batches: 7\n",
      "\u001b[36m(ClientAppActor pid=109967)\u001b[0m 🚀 Epoch 1/1 (100.00%) Completed\n",
      "\u001b[36m(ClientAppActor pid=109967)\u001b[0m \t📊 Training Loss: 1.0288\n",
      "\u001b[36m(ClientAppActor pid=109967)\u001b[0m \t✅ Training Accuracy: 78.02%\n",
      "\u001b[36m(ClientAppActor pid=109967)\u001b[0m \t⏳ Elapsed Time: 1.14s | ETA: 0.00s\n",
      "\u001b[36m(ClientAppActor pid=109967)\u001b[0m \t🕒 Completed At: 23:17\n",
      "\u001b[36m(ClientAppActor pid=109967)\u001b[0m \n",
      "\u001b[36m(ClientAppActor pid=109967)\u001b[0m [Client] Client on device: cuda:0\n",
      "\u001b[36m(ClientAppActor pid=109967)\u001b[0m [Client] CUDA available in client: True\n",
      "\u001b[36m(ClientAppActor pid=109967)\u001b[0m No prefix/name for the model was provided, choosen prefix/name: zippy_butterfree_76\n",
      "\u001b[36m(ClientAppActor pid=109967)\u001b[0m \n",
      "\u001b[36m(ClientAppActor pid=109967)\u001b[0m Step 1/8 | Total batches: 7\n",
      "\u001b[36m(ClientAppActor pid=109967)\u001b[0m Step 2/8 | Total batches: 7\n",
      "\u001b[36m(ClientAppActor pid=109967)\u001b[0m Step 3/8 | Total batches: 7\n",
      "\u001b[36m(ClientAppActor pid=109967)\u001b[0m Step 4/8 | Total batches: 7\n",
      "\u001b[36m(ClientAppActor pid=109967)\u001b[0m Step 5/8 | Total batches: 7\n",
      "\u001b[36m(ClientAppActor pid=109967)\u001b[0m Step 6/8 | Total batches: 7\n",
      "\u001b[36m(ClientAppActor pid=109967)\u001b[0m Step 7/8 | Total batches: 7\n",
      "\u001b[36m(ClientAppActor pid=109967)\u001b[0m Step 8/8 | Total batches: 7\n",
      "\u001b[36m(ClientAppActor pid=109967)\u001b[0m 🚀 Epoch 1/1 (100.00%) Completed\n",
      "\u001b[36m(ClientAppActor pid=109967)\u001b[0m \t📊 Training Loss: 0.5560\n",
      "\u001b[36m(ClientAppActor pid=109967)\u001b[0m \t✅ Training Accuracy: 85.34%\n",
      "\u001b[36m(ClientAppActor pid=109967)\u001b[0m \t⏳ Elapsed Time: 1.11s | ETA: 0.00s\n",
      "\u001b[36m(ClientAppActor pid=109967)\u001b[0m \t🕒 Completed At: 23:17\n",
      "\u001b[36m(ClientAppActor pid=109967)\u001b[0m \n",
      "\u001b[36m(ClientAppActor pid=109967)\u001b[0m [Client] Client on device: cuda:0\n",
      "\u001b[36m(ClientAppActor pid=109967)\u001b[0m [Client] CUDA available in client: True\n",
      "\u001b[36m(ClientAppActor pid=109967)\u001b[0m No prefix/name for the model was provided, choosen prefix/name: sneezy_bulbasaur_61\n",
      "\u001b[36m(ClientAppActor pid=109967)\u001b[0m \n",
      "\u001b[36m(ClientAppActor pid=109967)\u001b[0m Step 1/8 | Total batches: 7\n",
      "\u001b[36m(ClientAppActor pid=109967)\u001b[0m Step 2/8 | Total batches: 7\n",
      "\u001b[36m(ClientAppActor pid=109967)\u001b[0m Step 3/8 | Total batches: 7\n",
      "\u001b[36m(ClientAppActor pid=109967)\u001b[0m Step 4/8 | Total batches: 7\n",
      "\u001b[36m(ClientAppActor pid=109967)\u001b[0m Step 5/8 | Total batches: 7\n",
      "\u001b[36m(ClientAppActor pid=109967)\u001b[0m Step 6/8 | Total batches: 7\n",
      "\u001b[36m(ClientAppActor pid=109967)\u001b[0m Step 7/8 | Total batches: 7\n",
      "\u001b[36m(ClientAppActor pid=109967)\u001b[0m Step 8/8 | Total batches: 7\n"
     ]
    },
    {
     "name": "stderr",
     "output_type": "stream",
     "text": [
      "\u001b[92mINFO \u001b[0m:      aggregate_fit: received 10 results and 0 failures\n"
     ]
    },
    {
     "name": "stdout",
     "output_type": "stream",
     "text": [
      "\u001b[36m(ClientAppActor pid=109967)\u001b[0m 🚀 Epoch 1/1 (100.00%) Completed\n",
      "\u001b[36m(ClientAppActor pid=109967)\u001b[0m \t📊 Training Loss: 1.0057\n",
      "\u001b[36m(ClientAppActor pid=109967)\u001b[0m \t✅ Training Accuracy: 77.37%\n",
      "\u001b[36m(ClientAppActor pid=109967)\u001b[0m \t⏳ Elapsed Time: 1.11s | ETA: 0.00s\n",
      "\u001b[36m(ClientAppActor pid=109967)\u001b[0m \t🕒 Completed At: 23:17\n",
      "\u001b[36m(ClientAppActor pid=109967)\u001b[0m \n"
     ]
    }
   ],
   "source": [
    "for Nc in Ncs:\n",
    "    for J in Js:\n",
    "        print('-' * 200)\n",
    "        print(f\"Training Non IId model\")\n",
    "        print(f\"Nc: {Nc}, J: {J}\")\n",
    "        checkpoint_dir = f\"{model_save_path}/{Nc}_{J}/editing\"\n",
    "        print(f'checkpoint_dir:{checkpoint_dir}')\n",
    "        \n",
    "        # Model\n",
    "        model, start_epoch = load_or_create(\n",
    "            path=checkpoint_dir,\n",
    "            model_class=BaseDino,\n",
    "            model_config=model_config,\n",
    "            optimizer=None,\n",
    "            scheduler=None,\n",
    "            device=device,\n",
    "            verbose=True,\n",
    "        )\n",
    "        model.to(device)\n",
    "\n",
    "        optimizer = SGD(model.parameters(), lr=lr, momentum=momentum)\n",
    "        criterion = torch.nn.CrossEntropyLoss()\n",
    "        scheduler = CosineAnnealingLR(\n",
    "            optimizer=optimizer,\n",
    "            T_max=T_max,\n",
    "            eta_min=eta_min\n",
    "        )\n",
    "\n",
    "        ## Unfreeze blocks\n",
    "        num_blocks = 0\n",
    "        model.unfreeze_blocks(num_blocks)\n",
    "        num_shards_per_partition = Nc\n",
    "\n",
    "        os.makedirs(checkpoint_dir, exist_ok=True)\n",
    "        name = f\"FL_Dino_Baseline_model_non_iid_{Nc}_{J}\"\n",
    "        \n",
    "        wandb_config = {\n",
    "            # Wandb Params\n",
    "            'name': name,\n",
    "            'project_name': project_name,\n",
    "            'run_id': f\"{name}\",\n",
    "            # Federated Learning param\n",
    "            \"fraction_fit\": fraction_fit,\n",
    "            'partition_type': partition_type,\n",
    "            'K': K,\n",
    "            'C': C,\n",
    "            'J': J,\n",
    "            'Nc': Nc,\n",
    "            # Model editing params\n",
    "            'model_editing': model_editing,\n",
    "            'mask_type': mask_type,\n",
    "            'sparsity': sparsity,\n",
    "            'model_editing_batch_size': model_editing_batch_size,\n",
    "            # Training params\n",
    "            'lr': lr,\n",
    "            'momentum': momentum,\n",
    "        }\n",
    "\n",
    "        if model_editing:\n",
    "            # Create a dummy mask for SparseSGDM\n",
    "            init_mask = [torch.ones_like(p, device=p.device) for p in\n",
    "                         model.parameters()]  # Must be done AFTER the model is moved to the device\n",
    "            # Optimizer, scheduler, and loss function\n",
    "            optimizer = SparseSGDM(\n",
    "                model.parameters(),\n",
    "                mask=init_mask,\n",
    "                lr=lr,\n",
    "                momentum=0.9,\n",
    "                weight_decay=1e-5\n",
    "            )\n",
    "\n",
    "        client = get_client_app(\n",
    "            model=model,\n",
    "            optimizer=optimizer,\n",
    "            criterion=criterion,\n",
    "            device=device,\n",
    "            partition_type=partition_type,\n",
    "            local_epochs=1,\n",
    "            local_steps=J,\n",
    "            batch_size=batch_size,\n",
    "            num_shards_per_partition=num_shards_per_partition,\n",
    "            scheduler=None, #! Clients wont use scheduler, as it doesnt make sense here\n",
    "            verbose=0,\n",
    "            model_editing=model_editing,\n",
    "            mask_type=mask_type,\n",
    "            sparsity=sparsity,\n",
    "            mask=mask,\n",
    "            model_editing_batch_size=model_editing_batch_size,\n",
    "            mask_func=None\n",
    "        )\n",
    "\n",
    "        compute_round = num_rounds + 1 - start_epoch\n",
    "        server = get_server_app(\n",
    "            checkpoint_dir=checkpoint_dir,\n",
    "            model_class=model,\n",
    "            optimizer=optimizer,\n",
    "            criterion=criterion,\n",
    "            scheduler=scheduler,\n",
    "            num_rounds=compute_round,\n",
    "            fraction_fit=fraction_fit,\n",
    "            fraction_evaluate=fraction_evaluate,\n",
    "            min_fit_clients=min_fit_clients,\n",
    "            min_evaluate_clients=min_evaluate_clients,\n",
    "            min_available_clients=min_available_clients,\n",
    "            device=device,\n",
    "            use_wandb=use_wandb,\n",
    "            wandb_config=wandb_config,\n",
    "            save_every=save_every,\n",
    "            prefix='fl_baseline',\n",
    "            evaluate_each=evaluate_each\n",
    "        )\n",
    "        \n",
    "        # Run simulation\n",
    "        run_simulation(\n",
    "            server_app=server,\n",
    "            client_app=client,\n",
    "            num_supernodes=NUM_CLIENTS,\n",
    "            backend_config=backend_config\n",
    "        )"
   ]
  },
  {
   "cell_type": "code",
   "execution_count": null,
   "id": "be9fb73a",
   "metadata": {},
   "outputs": [],
   "source": []
  }
 ],
 "metadata": {
  "kernelspec": {
   "display_name": "fl-g13",
   "language": "python",
   "name": "python3"
  },
  "language_info": {
   "codemirror_mode": {
    "name": "ipython",
    "version": 3
   },
   "file_extension": ".py",
   "mimetype": "text/x-python",
   "name": "python",
   "nbconvert_exporter": "python",
   "pygments_lexer": "ipython3",
   "version": "3.11.11"
  }
 },
 "nbformat": 4,
 "nbformat_minor": 5
}
