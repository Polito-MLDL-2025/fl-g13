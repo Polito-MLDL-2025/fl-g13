{
 "cells": [
  {
   "cell_type": "code",
   "execution_count": 3,
   "id": "ffbee39c",
   "metadata": {
    "executionInfo": {
     "elapsed": 17,
     "status": "ok",
     "timestamp": 1750769588324,
     "user": {
      "displayName": "Giovanbattista Tarantino",
      "userId": "08715531062484308893"
     },
     "user_tz": -120
    },
    "id": "ffbee39c"
   },
   "outputs": [],
   "source": [
    "%load_ext autoreload\n",
    "%autoreload 2"
   ]
  },
  {
   "cell_type": "code",
   "execution_count": 4,
   "id": "b4f52dd8",
   "metadata": {
    "colab": {
     "base_uri": "https://localhost:8080/"
    },
    "executionInfo": {
     "elapsed": 15971,
     "status": "ok",
     "timestamp": 1750769604301,
     "user": {
      "displayName": "Giovanbattista Tarantino",
      "userId": "08715531062484308893"
     },
     "user_tz": -120
    },
    "id": "b4f52dd8",
    "outputId": "17a2ed0b-438f-4aad-c9ce-dfef8fafa097"
   },
   "outputs": [
    {
     "name": "stderr",
     "output_type": "stream",
     "text": [
      "\u001b[32m2025-06-24 12:53:08.163\u001b[0m | \u001b[1mINFO    \u001b[0m | \u001b[36mfl_g13.config\u001b[0m:\u001b[36m<module>\u001b[0m:\u001b[36m11\u001b[0m - \u001b[1mPROJ_ROOT path is: /content/fl-g13\u001b[0m\n"
     ]
    }
   ],
   "source": [
    "import torch\n",
    "from torch.nn import CrossEntropyLoss\n",
    "from torch.optim.lr_scheduler import CosineAnnealingLR\n",
    "from torch.utils.data import DataLoader\n",
    "\n",
    "from fl_g13.config import RAW_DATA_DIR\n",
    "from fl_g13.modeling import train, get_preprocessing_pipeline\n",
    "\n",
    "from fl_g13.architectures import BaseDino\n",
    "from fl_g13.editing import SparseSGDM\n",
    "\n",
    "import dotenv"
   ]
  },
  {
   "cell_type": "code",
   "execution_count": 5,
   "id": "77f11d5a",
   "metadata": {
    "colab": {
     "base_uri": "https://localhost:8080/"
    },
    "executionInfo": {
     "elapsed": 9362,
     "status": "ok",
     "timestamp": 1750769613656,
     "user": {
      "displayName": "Giovanbattista Tarantino",
      "userId": "08715531062484308893"
     },
     "user_tz": -120
    },
    "id": "77f11d5a",
    "outputId": "35f6f497-a910-47cd-c327-32e1e322f84c"
   },
   "outputs": [
    {
     "name": "stderr",
     "output_type": "stream",
     "text": [
      "100%|██████████| 169M/169M [00:03<00:00, 43.9MB/s]\n"
     ]
    },
    {
     "name": "stdout",
     "output_type": "stream",
     "text": [
      "Train dataset size: 40000\n",
      "Validation dataset size: 10000\n",
      "Test dataset size: 10000\n"
     ]
    }
   ],
   "source": [
    "dotenv.load_dotenv()\n",
    "\n",
    "train_dataset, val_dataset, test_dataset = get_preprocessing_pipeline(RAW_DATA_DIR)\n",
    "\n",
    "print(f\"Train dataset size: {len(train_dataset)}\")\n",
    "print(f\"Validation dataset size: {len(val_dataset)}\")\n",
    "print(f\"Test dataset size: {len(test_dataset)}\")"
   ]
  },
  {
   "cell_type": "code",
   "execution_count": 6,
   "id": "349a5230",
   "metadata": {
    "colab": {
     "base_uri": "https://localhost:8080/"
    },
    "executionInfo": {
     "elapsed": 4377,
     "status": "ok",
     "timestamp": 1750769618037,
     "user": {
      "displayName": "Giovanbattista Tarantino",
      "userId": "08715531062484308893"
     },
     "user_tz": -120
    },
    "id": "349a5230",
    "outputId": "7cafec39-4036-4f26-90e4-f146528b6bdb"
   },
   "outputs": [
    {
     "name": "stdout",
     "output_type": "stream",
     "text": [
      "Using device: cuda\n"
     ]
    },
    {
     "name": "stderr",
     "output_type": "stream",
     "text": [
      "Downloading: \"https://github.com/facebookresearch/dino/zipball/main\" to /root/.cache/torch/hub/main.zip\n",
      "Downloading: \"https://dl.fbaipublicfiles.com/dino/dino_deitsmall16_pretrain/dino_deitsmall16_pretrain.pth\" to /root/.cache/torch/hub/checkpoints/dino_deitsmall16_pretrain.pth\n",
      "100%|██████████| 82.7M/82.7M [00:00<00:00, 90.6MB/s]\n"
     ]
    }
   ],
   "source": [
    "# Move to CUDA\n",
    "device = torch.device(\"cuda\" if torch.cuda.is_available() else \"cpu\")\n",
    "print(f\"Using device: {device}\")\n",
    "\n",
    "# Settings\n",
    "name=\"arcanine\"\n",
    "CHECKPOINT_DIR = '/content/drive/MyDrive/checkpoints'\n",
    "start_epoch = 1\n",
    "num_epochs = 30\n",
    "save_every = 1\n",
    "backup_every = None\n",
    "\n",
    "# Model Hyper-parameters\n",
    "head_layers = 3\n",
    "head_hidden_size = 512\n",
    "dropout_rate = 0.0\n",
    "unfreeze_blocks = 1\n",
    "\n",
    "# Training Hyper-parameters\n",
    "batch_size = 128\n",
    "lr = 1e-3\n",
    "momentum = 0.9\n",
    "weight_decay = 1e-5\n",
    "T_max = 8\n",
    "eta_min = 1e-5\n",
    "\n",
    "# Dataloaders\n",
    "train_dataloader = DataLoader(train_dataset, batch_size=batch_size, shuffle=True)\n",
    "val_dataloader = DataLoader(val_dataset, batch_size=batch_size, shuffle=False)\n",
    "test_dataloader = DataLoader(test_dataset, batch_size=batch_size, shuffle=False)\n",
    "\n",
    "# Model\n",
    "model = BaseDino(\n",
    "    head_layers=head_layers,\n",
    "    head_hidden_size=head_hidden_size,\n",
    "    dropout_rate=dropout_rate,\n",
    "    unfreeze_blocks=unfreeze_blocks\n",
    "    )\n",
    "model.to(device)\n",
    "\n",
    "# Optimizer, scheduler, and loss function\n",
    "mask = [torch.ones_like(p, device=p.device) for p in model.parameters()] # Must be done AFTER the model is moved to CUDA\n",
    "optimizer = SparseSGDM(\n",
    "    model.parameters(),\n",
    "    mask=mask,\n",
    "    lr=lr,\n",
    "    momentum=momentum,\n",
    "    weight_decay=weight_decay\n",
    "    )\n",
    "scheduler = CosineAnnealingLR(\n",
    "    optimizer=optimizer,\n",
    "    T_max=T_max,\n",
    "    eta_min=eta_min\n",
    "    )\n",
    "criterion = CrossEntropyLoss()\n",
    "\n",
    "all_training_losses=[]       # Pre-allocated list for training losses\n",
    "all_validation_losses=[]       # Pre-allocated list for validation losses\n",
    "all_training_accuracies=[]    # Pre-allocated list for training accuracies\n",
    "all_validation_accuracies=[]    # Pre-allocated list for validation accuracies"
   ]
  },
  {
   "cell_type": "code",
   "execution_count": 7,
   "id": "6feed087",
   "metadata": {
    "colab": {
     "base_uri": "https://localhost:8080/"
    },
    "executionInfo": {
     "elapsed": 8811310,
     "status": "ok",
     "timestamp": 1750778433128,
     "user": {
      "displayName": "Giovanbattista Tarantino",
      "userId": "08715531062484308893"
     },
     "user_tz": -120
    },
    "id": "6feed087",
    "outputId": "2b6d4c59-cd42-4d70-9146-0c37e31f6b45"
   },
   "outputs": [
    {
     "name": "stdout",
     "output_type": "stream",
     "text": [
      "Prefix/name for the model was provided: arcanine\n"
     ]
    },
    {
     "name": "stderr",
     "output_type": "stream",
     "text": [
      "Training progress: 100%|██████████| 313/313 [03:55<00:00,  1.33batch/s]\n"
     ]
    },
    {
     "name": "stdout",
     "output_type": "stream",
     "text": [
      "🚀 Epoch 1/30 (3.33%) Completed\n",
      "\t📊 Training Loss: 2.1151\n",
      "\t✅ Training Accuracy: 46.95%\n",
      "\t⏳ Elapsed Time: 235.14s | ETA: 6819.11s\n",
      "\t🕒 Completed At: 12:57\n"
     ]
    },
    {
     "name": "stderr",
     "output_type": "stream",
     "text": [
      "Eval progress: 100%|██████████| 79/79 [00:54<00:00,  1.44batch/s]\n"
     ]
    },
    {
     "name": "stdout",
     "output_type": "stream",
     "text": [
      "🔍 Validation Results:\n",
      "\t📉 Validation Loss: 1.2075\n",
      "\t🎯 Validation Accuracy: 66.58%\n",
      "💾 Saved checkpoint at: /content/drive/MyDrive/checkpoints/arcanine/arcanine_BaseDino_epoch_1.pth\n",
      "💾 Saved losses and accuracies (training and validation) at: /content/drive/MyDrive/checkpoints/arcanine/arcanine_BaseDino_epoch_1.loss_acc.json\n",
      "\n"
     ]
    },
    {
     "name": "stderr",
     "output_type": "stream",
     "text": [
      "Training progress: 100%|██████████| 313/313 [04:00<00:00,  1.30batch/s]\n"
     ]
    },
    {
     "name": "stdout",
     "output_type": "stream",
     "text": [
      "🚀 Epoch 2/30 (6.67%) Completed\n",
      "\t📊 Training Loss: 0.9798\n",
      "\t✅ Training Accuracy: 71.25%\n",
      "\t⏳ Elapsed Time: 240.46s | ETA: 6732.93s\n",
      "\t🕒 Completed At: 13:02\n"
     ]
    },
    {
     "name": "stderr",
     "output_type": "stream",
     "text": [
      "Eval progress: 100%|██████████| 79/79 [00:54<00:00,  1.44batch/s]\n"
     ]
    },
    {
     "name": "stdout",
     "output_type": "stream",
     "text": [
      "🔍 Validation Results:\n",
      "\t📉 Validation Loss: 1.0012\n",
      "\t🎯 Validation Accuracy: 71.50%\n",
      "💾 Saved checkpoint at: /content/drive/MyDrive/checkpoints/arcanine/arcanine_BaseDino_epoch_2.pth\n",
      "💾 Saved losses and accuracies (training and validation) at: /content/drive/MyDrive/checkpoints/arcanine/arcanine_BaseDino_epoch_2.loss_acc.json\n",
      "\n"
     ]
    },
    {
     "name": "stderr",
     "output_type": "stream",
     "text": [
      "Training progress: 100%|██████████| 313/313 [03:58<00:00,  1.31batch/s]\n"
     ]
    },
    {
     "name": "stdout",
     "output_type": "stream",
     "text": [
      "🚀 Epoch 3/30 (10.00%) Completed\n",
      "\t📊 Training Loss: 0.7319\n",
      "\t✅ Training Accuracy: 77.74%\n",
      "\t⏳ Elapsed Time: 238.94s | ETA: 6451.48s\n",
      "\t🕒 Completed At: 13:07\n"
     ]
    },
    {
     "name": "stderr",
     "output_type": "stream",
     "text": [
      "Eval progress: 100%|██████████| 79/79 [00:54<00:00,  1.45batch/s]\n"
     ]
    },
    {
     "name": "stdout",
     "output_type": "stream",
     "text": [
      "🔍 Validation Results:\n",
      "\t📉 Validation Loss: 0.9533\n",
      "\t🎯 Validation Accuracy: 72.71%\n",
      "💾 Saved checkpoint at: /content/drive/MyDrive/checkpoints/arcanine/arcanine_BaseDino_epoch_3.pth\n",
      "💾 Saved losses and accuracies (training and validation) at: /content/drive/MyDrive/checkpoints/arcanine/arcanine_BaseDino_epoch_3.loss_acc.json\n",
      "\n"
     ]
    },
    {
     "name": "stderr",
     "output_type": "stream",
     "text": [
      "Training progress: 100%|██████████| 313/313 [03:58<00:00,  1.31batch/s]\n"
     ]
    },
    {
     "name": "stdout",
     "output_type": "stream",
     "text": [
      "🚀 Epoch 4/30 (13.33%) Completed\n",
      "\t📊 Training Loss: 0.5523\n",
      "\t✅ Training Accuracy: 82.92%\n",
      "\t⏳ Elapsed Time: 238.65s | ETA: 6204.83s\n",
      "\t🕒 Completed At: 13:12\n"
     ]
    },
    {
     "name": "stderr",
     "output_type": "stream",
     "text": [
      "Eval progress: 100%|██████████| 79/79 [00:54<00:00,  1.45batch/s]\n"
     ]
    },
    {
     "name": "stdout",
     "output_type": "stream",
     "text": [
      "🔍 Validation Results:\n",
      "\t📉 Validation Loss: 0.8736\n",
      "\t🎯 Validation Accuracy: 75.52%\n",
      "💾 Saved checkpoint at: /content/drive/MyDrive/checkpoints/arcanine/arcanine_BaseDino_epoch_4.pth\n",
      "💾 Saved losses and accuracies (training and validation) at: /content/drive/MyDrive/checkpoints/arcanine/arcanine_BaseDino_epoch_4.loss_acc.json\n",
      "\n"
     ]
    },
    {
     "name": "stderr",
     "output_type": "stream",
     "text": [
      "Training progress: 100%|██████████| 313/313 [03:59<00:00,  1.31batch/s]\n"
     ]
    },
    {
     "name": "stdout",
     "output_type": "stream",
     "text": [
      "🚀 Epoch 5/30 (16.67%) Completed\n",
      "\t📊 Training Loss: 0.4173\n",
      "\t✅ Training Accuracy: 87.08%\n",
      "\t⏳ Elapsed Time: 239.54s | ETA: 5988.44s\n",
      "\t🕒 Completed At: 13:17\n"
     ]
    },
    {
     "name": "stderr",
     "output_type": "stream",
     "text": [
      "Eval progress: 100%|██████████| 79/79 [00:54<00:00,  1.45batch/s]\n"
     ]
    },
    {
     "name": "stdout",
     "output_type": "stream",
     "text": [
      "🔍 Validation Results:\n",
      "\t📉 Validation Loss: 0.8745\n",
      "\t🎯 Validation Accuracy: 75.77%\n",
      "💾 Saved checkpoint at: /content/drive/MyDrive/checkpoints/arcanine/arcanine_BaseDino_epoch_5.pth\n",
      "💾 Saved losses and accuracies (training and validation) at: /content/drive/MyDrive/checkpoints/arcanine/arcanine_BaseDino_epoch_5.loss_acc.json\n",
      "\n"
     ]
    },
    {
     "name": "stderr",
     "output_type": "stream",
     "text": [
      "Training progress: 100%|██████████| 313/313 [03:59<00:00,  1.30batch/s]\n"
     ]
    },
    {
     "name": "stdout",
     "output_type": "stream",
     "text": [
      "🚀 Epoch 6/30 (20.00%) Completed\n",
      "\t📊 Training Loss: 0.3145\n",
      "\t✅ Training Accuracy: 90.44%\n",
      "\t⏳ Elapsed Time: 239.89s | ETA: 5757.40s\n",
      "\t🕒 Completed At: 13:22\n"
     ]
    },
    {
     "name": "stderr",
     "output_type": "stream",
     "text": [
      "Eval progress: 100%|██████████| 79/79 [00:54<00:00,  1.44batch/s]\n"
     ]
    },
    {
     "name": "stdout",
     "output_type": "stream",
     "text": [
      "🔍 Validation Results:\n",
      "\t📉 Validation Loss: 0.8284\n",
      "\t🎯 Validation Accuracy: 77.09%\n",
      "💾 Saved checkpoint at: /content/drive/MyDrive/checkpoints/arcanine/arcanine_BaseDino_epoch_6.pth\n",
      "💾 Saved losses and accuracies (training and validation) at: /content/drive/MyDrive/checkpoints/arcanine/arcanine_BaseDino_epoch_6.loss_acc.json\n",
      "\n"
     ]
    },
    {
     "name": "stderr",
     "output_type": "stream",
     "text": [
      "Training progress: 100%|██████████| 313/313 [04:00<00:00,  1.30batch/s]\n"
     ]
    },
    {
     "name": "stdout",
     "output_type": "stream",
     "text": [
      "🚀 Epoch 7/30 (23.33%) Completed\n",
      "\t📊 Training Loss: 0.2532\n",
      "\t✅ Training Accuracy: 92.57%\n",
      "\t⏳ Elapsed Time: 240.12s | ETA: 5522.77s\n",
      "\t🕒 Completed At: 13:26\n"
     ]
    },
    {
     "name": "stderr",
     "output_type": "stream",
     "text": [
      "Eval progress: 100%|██████████| 79/79 [00:54<00:00,  1.45batch/s]\n"
     ]
    },
    {
     "name": "stdout",
     "output_type": "stream",
     "text": [
      "🔍 Validation Results:\n",
      "\t📉 Validation Loss: 0.8242\n",
      "\t🎯 Validation Accuracy: 77.36%\n",
      "💾 Saved checkpoint at: /content/drive/MyDrive/checkpoints/arcanine/arcanine_BaseDino_epoch_7.pth\n",
      "💾 Saved losses and accuracies (training and validation) at: /content/drive/MyDrive/checkpoints/arcanine/arcanine_BaseDino_epoch_7.loss_acc.json\n",
      "\n"
     ]
    },
    {
     "name": "stderr",
     "output_type": "stream",
     "text": [
      "Training progress: 100%|██████████| 313/313 [03:59<00:00,  1.31batch/s]\n"
     ]
    },
    {
     "name": "stdout",
     "output_type": "stream",
     "text": [
      "🚀 Epoch 8/30 (26.67%) Completed\n",
      "\t📊 Training Loss: 0.2234\n",
      "\t✅ Training Accuracy: 93.85%\n",
      "\t⏳ Elapsed Time: 239.23s | ETA: 5263.07s\n",
      "\t🕒 Completed At: 13:31\n"
     ]
    },
    {
     "name": "stderr",
     "output_type": "stream",
     "text": [
      "Eval progress: 100%|██████████| 79/79 [00:54<00:00,  1.45batch/s]\n"
     ]
    },
    {
     "name": "stdout",
     "output_type": "stream",
     "text": [
      "🔍 Validation Results:\n",
      "\t📉 Validation Loss: 0.8125\n",
      "\t🎯 Validation Accuracy: 77.46%\n",
      "💾 Saved checkpoint at: /content/drive/MyDrive/checkpoints/arcanine/arcanine_BaseDino_epoch_8.pth\n",
      "💾 Saved losses and accuracies (training and validation) at: /content/drive/MyDrive/checkpoints/arcanine/arcanine_BaseDino_epoch_8.loss_acc.json\n",
      "\n"
     ]
    },
    {
     "name": "stderr",
     "output_type": "stream",
     "text": [
      "Training progress: 100%|██████████| 313/313 [03:59<00:00,  1.31batch/s]\n"
     ]
    },
    {
     "name": "stdout",
     "output_type": "stream",
     "text": [
      "🚀 Epoch 9/30 (30.00%) Completed\n",
      "\t📊 Training Loss: 0.2131\n",
      "\t✅ Training Accuracy: 94.03%\n",
      "\t⏳ Elapsed Time: 239.07s | ETA: 5020.47s\n",
      "\t🕒 Completed At: 13:36\n"
     ]
    },
    {
     "name": "stderr",
     "output_type": "stream",
     "text": [
      "Eval progress: 100%|██████████| 79/79 [00:54<00:00,  1.45batch/s]\n"
     ]
    },
    {
     "name": "stdout",
     "output_type": "stream",
     "text": [
      "🔍 Validation Results:\n",
      "\t📉 Validation Loss: 0.8126\n",
      "\t🎯 Validation Accuracy: 77.63%\n",
      "💾 Saved checkpoint at: /content/drive/MyDrive/checkpoints/arcanine/arcanine_BaseDino_epoch_9.pth\n",
      "💾 Saved losses and accuracies (training and validation) at: /content/drive/MyDrive/checkpoints/arcanine/arcanine_BaseDino_epoch_9.loss_acc.json\n",
      "\n"
     ]
    },
    {
     "name": "stderr",
     "output_type": "stream",
     "text": [
      "Training progress: 100%|██████████| 313/313 [03:58<00:00,  1.31batch/s]\n"
     ]
    },
    {
     "name": "stdout",
     "output_type": "stream",
     "text": [
      "🚀 Epoch 10/30 (33.33%) Completed\n",
      "\t📊 Training Loss: 0.2138\n",
      "\t✅ Training Accuracy: 94.09%\n",
      "\t⏳ Elapsed Time: 238.89s | ETA: 4777.87s\n",
      "\t🕒 Completed At: 13:41\n"
     ]
    },
    {
     "name": "stderr",
     "output_type": "stream",
     "text": [
      "Eval progress: 100%|██████████| 79/79 [00:54<00:00,  1.44batch/s]\n"
     ]
    },
    {
     "name": "stdout",
     "output_type": "stream",
     "text": [
      "🔍 Validation Results:\n",
      "\t📉 Validation Loss: 0.8168\n",
      "\t🎯 Validation Accuracy: 77.47%\n",
      "💾 Saved checkpoint at: /content/drive/MyDrive/checkpoints/arcanine/arcanine_BaseDino_epoch_10.pth\n",
      "💾 Saved losses and accuracies (training and validation) at: /content/drive/MyDrive/checkpoints/arcanine/arcanine_BaseDino_epoch_10.loss_acc.json\n",
      "\n"
     ]
    },
    {
     "name": "stderr",
     "output_type": "stream",
     "text": [
      "Training progress: 100%|██████████| 313/313 [04:02<00:00,  1.29batch/s]\n"
     ]
    },
    {
     "name": "stdout",
     "output_type": "stream",
     "text": [
      "🚀 Epoch 11/30 (36.67%) Completed\n",
      "\t📊 Training Loss: 0.2240\n",
      "\t✅ Training Accuracy: 93.61%\n",
      "\t⏳ Elapsed Time: 242.12s | ETA: 4600.20s\n",
      "\t🕒 Completed At: 13:46\n"
     ]
    },
    {
     "name": "stderr",
     "output_type": "stream",
     "text": [
      "Eval progress: 100%|██████████| 79/79 [00:54<00:00,  1.44batch/s]\n"
     ]
    },
    {
     "name": "stdout",
     "output_type": "stream",
     "text": [
      "🔍 Validation Results:\n",
      "\t📉 Validation Loss: 0.8388\n",
      "\t🎯 Validation Accuracy: 77.17%\n",
      "💾 Saved checkpoint at: /content/drive/MyDrive/checkpoints/arcanine/arcanine_BaseDino_epoch_11.pth\n",
      "💾 Saved losses and accuracies (training and validation) at: /content/drive/MyDrive/checkpoints/arcanine/arcanine_BaseDino_epoch_11.loss_acc.json\n",
      "\n"
     ]
    },
    {
     "name": "stderr",
     "output_type": "stream",
     "text": [
      "Training progress: 100%|██████████| 313/313 [03:59<00:00,  1.31batch/s]\n"
     ]
    },
    {
     "name": "stdout",
     "output_type": "stream",
     "text": [
      "🚀 Epoch 12/30 (40.00%) Completed\n",
      "\t📊 Training Loss: 0.2334\n",
      "\t✅ Training Accuracy: 93.12%\n",
      "\t⏳ Elapsed Time: 239.44s | ETA: 4309.94s\n",
      "\t🕒 Completed At: 13:51\n"
     ]
    },
    {
     "name": "stderr",
     "output_type": "stream",
     "text": [
      "Eval progress: 100%|██████████| 79/79 [00:54<00:00,  1.45batch/s]\n"
     ]
    },
    {
     "name": "stdout",
     "output_type": "stream",
     "text": [
      "🔍 Validation Results:\n",
      "\t📉 Validation Loss: 0.8481\n",
      "\t🎯 Validation Accuracy: 77.29%\n",
      "💾 Saved checkpoint at: /content/drive/MyDrive/checkpoints/arcanine/arcanine_BaseDino_epoch_12.pth\n",
      "💾 Saved losses and accuracies (training and validation) at: /content/drive/MyDrive/checkpoints/arcanine/arcanine_BaseDino_epoch_12.loss_acc.json\n",
      "\n"
     ]
    },
    {
     "name": "stderr",
     "output_type": "stream",
     "text": [
      "Training progress: 100%|██████████| 313/313 [03:59<00:00,  1.31batch/s]\n"
     ]
    },
    {
     "name": "stdout",
     "output_type": "stream",
     "text": [
      "🚀 Epoch 13/30 (43.33%) Completed\n",
      "\t📊 Training Loss: 0.2426\n",
      "\t✅ Training Accuracy: 92.42%\n",
      "\t⏳ Elapsed Time: 239.57s | ETA: 4072.62s\n",
      "\t🕒 Completed At: 13:56\n"
     ]
    },
    {
     "name": "stderr",
     "output_type": "stream",
     "text": [
      "Eval progress: 100%|██████████| 79/79 [00:54<00:00,  1.45batch/s]\n"
     ]
    },
    {
     "name": "stdout",
     "output_type": "stream",
     "text": [
      "🔍 Validation Results:\n",
      "\t📉 Validation Loss: 0.8843\n",
      "\t🎯 Validation Accuracy: 76.57%\n",
      "💾 Saved checkpoint at: /content/drive/MyDrive/checkpoints/arcanine/arcanine_BaseDino_epoch_13.pth\n",
      "💾 Saved losses and accuracies (training and validation) at: /content/drive/MyDrive/checkpoints/arcanine/arcanine_BaseDino_epoch_13.loss_acc.json\n",
      "\n"
     ]
    },
    {
     "name": "stderr",
     "output_type": "stream",
     "text": [
      "Training progress: 100%|██████████| 313/313 [03:59<00:00,  1.31batch/s]\n"
     ]
    },
    {
     "name": "stdout",
     "output_type": "stream",
     "text": [
      "🚀 Epoch 14/30 (46.67%) Completed\n",
      "\t📊 Training Loss: 0.2616\n",
      "\t✅ Training Accuracy: 91.50%\n",
      "\t⏳ Elapsed Time: 239.35s | ETA: 3829.66s\n",
      "\t🕒 Completed At: 14:01\n"
     ]
    },
    {
     "name": "stderr",
     "output_type": "stream",
     "text": [
      "Eval progress: 100%|██████████| 79/79 [00:54<00:00,  1.45batch/s]\n"
     ]
    },
    {
     "name": "stdout",
     "output_type": "stream",
     "text": [
      "🔍 Validation Results:\n",
      "\t📉 Validation Loss: 0.9374\n",
      "\t🎯 Validation Accuracy: 75.45%\n",
      "💾 Saved checkpoint at: /content/drive/MyDrive/checkpoints/arcanine/arcanine_BaseDino_epoch_14.pth\n",
      "💾 Saved losses and accuracies (training and validation) at: /content/drive/MyDrive/checkpoints/arcanine/arcanine_BaseDino_epoch_14.loss_acc.json\n",
      "\n"
     ]
    },
    {
     "name": "stderr",
     "output_type": "stream",
     "text": [
      "Training progress: 100%|██████████| 313/313 [03:58<00:00,  1.31batch/s]\n"
     ]
    },
    {
     "name": "stdout",
     "output_type": "stream",
     "text": [
      "🚀 Epoch 15/30 (50.00%) Completed\n",
      "\t📊 Training Loss: 0.2585\n",
      "\t✅ Training Accuracy: 91.75%\n",
      "\t⏳ Elapsed Time: 238.70s | ETA: 3580.53s\n",
      "\t🕒 Completed At: 14:06\n"
     ]
    },
    {
     "name": "stderr",
     "output_type": "stream",
     "text": [
      "Eval progress: 100%|██████████| 79/79 [00:54<00:00,  1.46batch/s]\n"
     ]
    },
    {
     "name": "stdout",
     "output_type": "stream",
     "text": [
      "🔍 Validation Results:\n",
      "\t📉 Validation Loss: 0.9407\n",
      "\t🎯 Validation Accuracy: 75.65%\n",
      "💾 Saved checkpoint at: /content/drive/MyDrive/checkpoints/arcanine/arcanine_BaseDino_epoch_15.pth\n",
      "💾 Saved losses and accuracies (training and validation) at: /content/drive/MyDrive/checkpoints/arcanine/arcanine_BaseDino_epoch_15.loss_acc.json\n",
      "\n"
     ]
    },
    {
     "name": "stderr",
     "output_type": "stream",
     "text": [
      "Training progress: 100%|██████████| 313/313 [03:59<00:00,  1.31batch/s]\n"
     ]
    },
    {
     "name": "stdout",
     "output_type": "stream",
     "text": [
      "🚀 Epoch 16/30 (53.33%) Completed\n",
      "\t📊 Training Loss: 0.2434\n",
      "\t✅ Training Accuracy: 91.91%\n",
      "\t⏳ Elapsed Time: 239.60s | ETA: 3354.36s\n",
      "\t🕒 Completed At: 14:11\n"
     ]
    },
    {
     "name": "stderr",
     "output_type": "stream",
     "text": [
      "Eval progress: 100%|██████████| 79/79 [00:54<00:00,  1.45batch/s]\n"
     ]
    },
    {
     "name": "stdout",
     "output_type": "stream",
     "text": [
      "🔍 Validation Results:\n",
      "\t📉 Validation Loss: 0.9773\n",
      "\t🎯 Validation Accuracy: 75.64%\n",
      "💾 Saved checkpoint at: /content/drive/MyDrive/checkpoints/arcanine/arcanine_BaseDino_epoch_16.pth\n",
      "💾 Saved losses and accuracies (training and validation) at: /content/drive/MyDrive/checkpoints/arcanine/arcanine_BaseDino_epoch_16.loss_acc.json\n",
      "\n"
     ]
    },
    {
     "name": "stderr",
     "output_type": "stream",
     "text": [
      "Training progress: 100%|██████████| 313/313 [03:59<00:00,  1.31batch/s]\n"
     ]
    },
    {
     "name": "stdout",
     "output_type": "stream",
     "text": [
      "🚀 Epoch 17/30 (56.67%) Completed\n",
      "\t📊 Training Loss: 0.2224\n",
      "\t✅ Training Accuracy: 92.83%\n",
      "\t⏳ Elapsed Time: 239.73s | ETA: 3116.46s\n",
      "\t🕒 Completed At: 14:16\n"
     ]
    },
    {
     "name": "stderr",
     "output_type": "stream",
     "text": [
      "Eval progress: 100%|██████████| 79/79 [00:54<00:00,  1.45batch/s]\n"
     ]
    },
    {
     "name": "stdout",
     "output_type": "stream",
     "text": [
      "🔍 Validation Results:\n",
      "\t📉 Validation Loss: 1.0481\n",
      "\t🎯 Validation Accuracy: 74.38%\n",
      "💾 Saved checkpoint at: /content/drive/MyDrive/checkpoints/arcanine/arcanine_BaseDino_epoch_17.pth\n",
      "💾 Saved losses and accuracies (training and validation) at: /content/drive/MyDrive/checkpoints/arcanine/arcanine_BaseDino_epoch_17.loss_acc.json\n",
      "\n"
     ]
    },
    {
     "name": "stderr",
     "output_type": "stream",
     "text": [
      "Training progress: 100%|██████████| 313/313 [03:59<00:00,  1.31batch/s]\n"
     ]
    },
    {
     "name": "stdout",
     "output_type": "stream",
     "text": [
      "🚀 Epoch 18/30 (60.00%) Completed\n",
      "\t📊 Training Loss: 0.1747\n",
      "\t✅ Training Accuracy: 94.31%\n",
      "\t⏳ Elapsed Time: 239.07s | ETA: 2868.84s\n",
      "\t🕒 Completed At: 14:21\n"
     ]
    },
    {
     "name": "stderr",
     "output_type": "stream",
     "text": [
      "Eval progress: 100%|██████████| 79/79 [00:54<00:00,  1.46batch/s]\n"
     ]
    },
    {
     "name": "stdout",
     "output_type": "stream",
     "text": [
      "🔍 Validation Results:\n",
      "\t📉 Validation Loss: 1.0231\n",
      "\t🎯 Validation Accuracy: 75.53%\n",
      "💾 Saved checkpoint at: /content/drive/MyDrive/checkpoints/arcanine/arcanine_BaseDino_epoch_18.pth\n",
      "💾 Saved losses and accuracies (training and validation) at: /content/drive/MyDrive/checkpoints/arcanine/arcanine_BaseDino_epoch_18.loss_acc.json\n",
      "\n"
     ]
    },
    {
     "name": "stderr",
     "output_type": "stream",
     "text": [
      "Training progress: 100%|██████████| 313/313 [04:00<00:00,  1.30batch/s]\n"
     ]
    },
    {
     "name": "stdout",
     "output_type": "stream",
     "text": [
      "🚀 Epoch 19/30 (63.33%) Completed\n",
      "\t📊 Training Loss: 0.1290\n",
      "\t✅ Training Accuracy: 95.78%\n",
      "\t⏳ Elapsed Time: 240.65s | ETA: 2647.11s\n",
      "\t🕒 Completed At: 14:25\n"
     ]
    },
    {
     "name": "stderr",
     "output_type": "stream",
     "text": [
      "Eval progress: 100%|██████████| 79/79 [00:54<00:00,  1.45batch/s]\n"
     ]
    },
    {
     "name": "stdout",
     "output_type": "stream",
     "text": [
      "🔍 Validation Results:\n",
      "\t📉 Validation Loss: 0.9982\n",
      "\t🎯 Validation Accuracy: 76.39%\n",
      "💾 Saved checkpoint at: /content/drive/MyDrive/checkpoints/arcanine/arcanine_BaseDino_epoch_19.pth\n",
      "💾 Saved losses and accuracies (training and validation) at: /content/drive/MyDrive/checkpoints/arcanine/arcanine_BaseDino_epoch_19.loss_acc.json\n",
      "\n"
     ]
    },
    {
     "name": "stderr",
     "output_type": "stream",
     "text": [
      "Training progress: 100%|██████████| 313/313 [03:58<00:00,  1.31batch/s]\n"
     ]
    },
    {
     "name": "stdout",
     "output_type": "stream",
     "text": [
      "🚀 Epoch 20/30 (66.67%) Completed\n",
      "\t📊 Training Loss: 0.0832\n",
      "\t✅ Training Accuracy: 97.60%\n",
      "\t⏳ Elapsed Time: 238.46s | ETA: 2384.60s\n",
      "\t🕒 Completed At: 14:30\n"
     ]
    },
    {
     "name": "stderr",
     "output_type": "stream",
     "text": [
      "Eval progress: 100%|██████████| 79/79 [00:54<00:00,  1.46batch/s]\n"
     ]
    },
    {
     "name": "stdout",
     "output_type": "stream",
     "text": [
      "🔍 Validation Results:\n",
      "\t📉 Validation Loss: 0.9714\n",
      "\t🎯 Validation Accuracy: 77.19%\n",
      "💾 Saved checkpoint at: /content/drive/MyDrive/checkpoints/arcanine/arcanine_BaseDino_epoch_20.pth\n",
      "💾 Saved losses and accuracies (training and validation) at: /content/drive/MyDrive/checkpoints/arcanine/arcanine_BaseDino_epoch_20.loss_acc.json\n",
      "\n"
     ]
    },
    {
     "name": "stderr",
     "output_type": "stream",
     "text": [
      "Training progress: 100%|██████████| 313/313 [03:58<00:00,  1.31batch/s]\n"
     ]
    },
    {
     "name": "stdout",
     "output_type": "stream",
     "text": [
      "🚀 Epoch 21/30 (70.00%) Completed\n",
      "\t📊 Training Loss: 0.0520\n",
      "\t✅ Training Accuracy: 98.76%\n",
      "\t⏳ Elapsed Time: 238.27s | ETA: 2144.39s\n",
      "\t🕒 Completed At: 14:35\n"
     ]
    },
    {
     "name": "stderr",
     "output_type": "stream",
     "text": [
      "Eval progress: 100%|██████████| 79/79 [00:54<00:00,  1.46batch/s]\n"
     ]
    },
    {
     "name": "stdout",
     "output_type": "stream",
     "text": [
      "🔍 Validation Results:\n",
      "\t📉 Validation Loss: 0.9609\n",
      "\t🎯 Validation Accuracy: 77.73%\n",
      "💾 Saved checkpoint at: /content/drive/MyDrive/checkpoints/arcanine/arcanine_BaseDino_epoch_21.pth\n",
      "💾 Saved losses and accuracies (training and validation) at: /content/drive/MyDrive/checkpoints/arcanine/arcanine_BaseDino_epoch_21.loss_acc.json\n",
      "\n"
     ]
    },
    {
     "name": "stderr",
     "output_type": "stream",
     "text": [
      "Training progress: 100%|██████████| 313/313 [03:56<00:00,  1.33batch/s]\n"
     ]
    },
    {
     "name": "stdout",
     "output_type": "stream",
     "text": [
      "🚀 Epoch 22/30 (73.33%) Completed\n",
      "\t📊 Training Loss: 0.0397\n",
      "\t✅ Training Accuracy: 99.06%\n",
      "\t⏳ Elapsed Time: 236.15s | ETA: 1889.16s\n",
      "\t🕒 Completed At: 14:40\n"
     ]
    },
    {
     "name": "stderr",
     "output_type": "stream",
     "text": [
      "Eval progress: 100%|██████████| 79/79 [00:53<00:00,  1.47batch/s]\n"
     ]
    },
    {
     "name": "stdout",
     "output_type": "stream",
     "text": [
      "🔍 Validation Results:\n",
      "\t📉 Validation Loss: 0.9538\n",
      "\t🎯 Validation Accuracy: 78.35%\n",
      "💾 Saved checkpoint at: /content/drive/MyDrive/checkpoints/arcanine/arcanine_BaseDino_epoch_22.pth\n",
      "💾 Saved losses and accuracies (training and validation) at: /content/drive/MyDrive/checkpoints/arcanine/arcanine_BaseDino_epoch_22.loss_acc.json\n",
      "\n"
     ]
    },
    {
     "name": "stderr",
     "output_type": "stream",
     "text": [
      "Training progress: 100%|██████████| 313/313 [03:56<00:00,  1.32batch/s]\n"
     ]
    },
    {
     "name": "stdout",
     "output_type": "stream",
     "text": [
      "🚀 Epoch 23/30 (76.67%) Completed\n",
      "\t📊 Training Loss: 0.0302\n",
      "\t✅ Training Accuracy: 99.44%\n",
      "\t⏳ Elapsed Time: 236.84s | ETA: 1657.91s\n",
      "\t🕒 Completed At: 14:45\n"
     ]
    },
    {
     "name": "stderr",
     "output_type": "stream",
     "text": [
      "Eval progress: 100%|██████████| 79/79 [00:53<00:00,  1.47batch/s]\n"
     ]
    },
    {
     "name": "stdout",
     "output_type": "stream",
     "text": [
      "🔍 Validation Results:\n",
      "\t📉 Validation Loss: 0.9579\n",
      "\t🎯 Validation Accuracy: 78.18%\n",
      "💾 Saved checkpoint at: /content/drive/MyDrive/checkpoints/arcanine/arcanine_BaseDino_epoch_23.pth\n",
      "💾 Saved losses and accuracies (training and validation) at: /content/drive/MyDrive/checkpoints/arcanine/arcanine_BaseDino_epoch_23.loss_acc.json\n",
      "\n"
     ]
    },
    {
     "name": "stderr",
     "output_type": "stream",
     "text": [
      "Training progress: 100%|██████████| 313/313 [03:57<00:00,  1.32batch/s]\n"
     ]
    },
    {
     "name": "stdout",
     "output_type": "stream",
     "text": [
      "🚀 Epoch 24/30 (80.00%) Completed\n",
      "\t📊 Training Loss: 0.0260\n",
      "\t✅ Training Accuracy: 99.52%\n",
      "\t⏳ Elapsed Time: 237.41s | ETA: 1424.49s\n",
      "\t🕒 Completed At: 14:50\n"
     ]
    },
    {
     "name": "stderr",
     "output_type": "stream",
     "text": [
      "Eval progress: 100%|██████████| 79/79 [00:54<00:00,  1.46batch/s]\n"
     ]
    },
    {
     "name": "stdout",
     "output_type": "stream",
     "text": [
      "🔍 Validation Results:\n",
      "\t📉 Validation Loss: 0.9539\n",
      "\t🎯 Validation Accuracy: 78.20%\n",
      "💾 Saved checkpoint at: /content/drive/MyDrive/checkpoints/arcanine/arcanine_BaseDino_epoch_24.pth\n",
      "💾 Saved losses and accuracies (training and validation) at: /content/drive/MyDrive/checkpoints/arcanine/arcanine_BaseDino_epoch_24.loss_acc.json\n",
      "\n"
     ]
    },
    {
     "name": "stderr",
     "output_type": "stream",
     "text": [
      "Training progress: 100%|██████████| 313/313 [03:56<00:00,  1.32batch/s]\n"
     ]
    },
    {
     "name": "stdout",
     "output_type": "stream",
     "text": [
      "🚀 Epoch 25/30 (83.33%) Completed\n",
      "\t📊 Training Loss: 0.0251\n",
      "\t✅ Training Accuracy: 99.58%\n",
      "\t⏳ Elapsed Time: 237.00s | ETA: 1185.01s\n",
      "\t🕒 Completed At: 14:55\n"
     ]
    },
    {
     "name": "stderr",
     "output_type": "stream",
     "text": [
      "Eval progress: 100%|██████████| 79/79 [00:54<00:00,  1.46batch/s]\n"
     ]
    },
    {
     "name": "stdout",
     "output_type": "stream",
     "text": [
      "🔍 Validation Results:\n",
      "\t📉 Validation Loss: 0.9550\n",
      "\t🎯 Validation Accuracy: 78.70%\n",
      "💾 Saved checkpoint at: /content/drive/MyDrive/checkpoints/arcanine/arcanine_BaseDino_epoch_25.pth\n",
      "💾 Saved losses and accuracies (training and validation) at: /content/drive/MyDrive/checkpoints/arcanine/arcanine_BaseDino_epoch_25.loss_acc.json\n",
      "\n"
     ]
    },
    {
     "name": "stderr",
     "output_type": "stream",
     "text": [
      "Training progress: 100%|██████████| 313/313 [03:57<00:00,  1.32batch/s]\n"
     ]
    },
    {
     "name": "stdout",
     "output_type": "stream",
     "text": [
      "🚀 Epoch 26/30 (86.67%) Completed\n",
      "\t📊 Training Loss: 0.0261\n",
      "\t✅ Training Accuracy: 99.53%\n",
      "\t⏳ Elapsed Time: 237.28s | ETA: 949.14s\n",
      "\t🕒 Completed At: 15:00\n"
     ]
    },
    {
     "name": "stderr",
     "output_type": "stream",
     "text": [
      "Eval progress: 100%|██████████| 79/79 [00:54<00:00,  1.46batch/s]\n"
     ]
    },
    {
     "name": "stdout",
     "output_type": "stream",
     "text": [
      "🔍 Validation Results:\n",
      "\t📉 Validation Loss: 0.9746\n",
      "\t🎯 Validation Accuracy: 78.28%\n",
      "💾 Saved checkpoint at: /content/drive/MyDrive/checkpoints/arcanine/arcanine_BaseDino_epoch_26.pth\n",
      "💾 Saved losses and accuracies (training and validation) at: /content/drive/MyDrive/checkpoints/arcanine/arcanine_BaseDino_epoch_26.loss_acc.json\n",
      "\n"
     ]
    },
    {
     "name": "stderr",
     "output_type": "stream",
     "text": [
      "Training progress: 100%|██████████| 313/313 [03:57<00:00,  1.32batch/s]\n"
     ]
    },
    {
     "name": "stdout",
     "output_type": "stream",
     "text": [
      "🚀 Epoch 27/30 (90.00%) Completed\n",
      "\t📊 Training Loss: 0.0250\n",
      "\t✅ Training Accuracy: 99.61%\n",
      "\t⏳ Elapsed Time: 237.58s | ETA: 712.73s\n",
      "\t🕒 Completed At: 15:04\n"
     ]
    },
    {
     "name": "stderr",
     "output_type": "stream",
     "text": [
      "Eval progress: 100%|██████████| 79/79 [00:54<00:00,  1.46batch/s]\n"
     ]
    },
    {
     "name": "stdout",
     "output_type": "stream",
     "text": [
      "🔍 Validation Results:\n",
      "\t📉 Validation Loss: 0.9651\n",
      "\t🎯 Validation Accuracy: 78.08%\n",
      "💾 Saved checkpoint at: /content/drive/MyDrive/checkpoints/arcanine/arcanine_BaseDino_epoch_27.pth\n",
      "💾 Saved losses and accuracies (training and validation) at: /content/drive/MyDrive/checkpoints/arcanine/arcanine_BaseDino_epoch_27.loss_acc.json\n",
      "\n"
     ]
    },
    {
     "name": "stderr",
     "output_type": "stream",
     "text": [
      "Training progress: 100%|██████████| 313/313 [03:57<00:00,  1.32batch/s]\n"
     ]
    },
    {
     "name": "stdout",
     "output_type": "stream",
     "text": [
      "🚀 Epoch 28/30 (93.33%) Completed\n",
      "\t📊 Training Loss: 0.0275\n",
      "\t✅ Training Accuracy: 99.50%\n",
      "\t⏳ Elapsed Time: 237.87s | ETA: 475.75s\n",
      "\t🕒 Completed At: 15:09\n"
     ]
    },
    {
     "name": "stderr",
     "output_type": "stream",
     "text": [
      "Eval progress: 100%|██████████| 79/79 [00:54<00:00,  1.46batch/s]\n"
     ]
    },
    {
     "name": "stdout",
     "output_type": "stream",
     "text": [
      "🔍 Validation Results:\n",
      "\t📉 Validation Loss: 0.9751\n",
      "\t🎯 Validation Accuracy: 78.50%\n",
      "💾 Saved checkpoint at: /content/drive/MyDrive/checkpoints/arcanine/arcanine_BaseDino_epoch_28.pth\n",
      "💾 Saved losses and accuracies (training and validation) at: /content/drive/MyDrive/checkpoints/arcanine/arcanine_BaseDino_epoch_28.loss_acc.json\n",
      "\n"
     ]
    },
    {
     "name": "stderr",
     "output_type": "stream",
     "text": [
      "Training progress: 100%|██████████| 313/313 [03:57<00:00,  1.32batch/s]\n"
     ]
    },
    {
     "name": "stdout",
     "output_type": "stream",
     "text": [
      "🚀 Epoch 29/30 (96.67%) Completed\n",
      "\t📊 Training Loss: 0.0309\n",
      "\t✅ Training Accuracy: 99.33%\n",
      "\t⏳ Elapsed Time: 237.29s | ETA: 237.29s\n",
      "\t🕒 Completed At: 15:14\n"
     ]
    },
    {
     "name": "stderr",
     "output_type": "stream",
     "text": [
      "Eval progress: 100%|██████████| 79/79 [00:54<00:00,  1.45batch/s]\n"
     ]
    },
    {
     "name": "stdout",
     "output_type": "stream",
     "text": [
      "🔍 Validation Results:\n",
      "\t📉 Validation Loss: 1.0090\n",
      "\t🎯 Validation Accuracy: 77.68%\n",
      "💾 Saved checkpoint at: /content/drive/MyDrive/checkpoints/arcanine/arcanine_BaseDino_epoch_29.pth\n",
      "💾 Saved losses and accuracies (training and validation) at: /content/drive/MyDrive/checkpoints/arcanine/arcanine_BaseDino_epoch_29.loss_acc.json\n",
      "\n"
     ]
    },
    {
     "name": "stderr",
     "output_type": "stream",
     "text": [
      "Training progress: 100%|██████████| 313/313 [03:58<00:00,  1.31batch/s]\n"
     ]
    },
    {
     "name": "stdout",
     "output_type": "stream",
     "text": [
      "🚀 Epoch 30/30 (100.00%) Completed\n",
      "\t📊 Training Loss: 0.0356\n",
      "\t✅ Training Accuracy: 99.19%\n",
      "\t⏳ Elapsed Time: 238.10s | ETA: 0.00s\n",
      "\t🕒 Completed At: 15:19\n"
     ]
    },
    {
     "name": "stderr",
     "output_type": "stream",
     "text": [
      "Eval progress: 100%|██████████| 79/79 [00:54<00:00,  1.46batch/s]\n"
     ]
    },
    {
     "name": "stdout",
     "output_type": "stream",
     "text": [
      "🔍 Validation Results:\n",
      "\t📉 Validation Loss: 1.0108\n",
      "\t🎯 Validation Accuracy: 77.99%\n",
      "💾 Saved checkpoint at: /content/drive/MyDrive/checkpoints/arcanine/arcanine_BaseDino_epoch_30.pth\n",
      "💾 Saved losses and accuracies (training and validation) at: /content/drive/MyDrive/checkpoints/arcanine/arcanine_BaseDino_epoch_30.loss_acc.json\n",
      "\n"
     ]
    }
   ],
   "source": [
    "try:\n",
    "    _, _, _, _ = train(\n",
    "        checkpoint_dir=f'{CHECKPOINT_DIR}/{name}',\n",
    "        name=name,\n",
    "        start_epoch=start_epoch,\n",
    "        num_epochs=num_epochs,\n",
    "        save_every=save_every,\n",
    "        backup_every=backup_every,\n",
    "        train_dataloader=train_dataloader,\n",
    "        val_dataloader=val_dataloader,\n",
    "        model=model,\n",
    "        criterion=criterion,\n",
    "        optimizer=optimizer,\n",
    "        scheduler=scheduler,\n",
    "        verbose=1,\n",
    "        all_training_losses=all_training_losses,\n",
    "        all_validation_losses=all_validation_losses,\n",
    "        all_training_accuracies=all_training_accuracies,\n",
    "        all_validation_accuracies=all_validation_accuracies,\n",
    "        with_model_dir = False\n",
    "    )\n",
    "\n",
    "except KeyboardInterrupt:\n",
    "    print(\"Training interrupted manually.\")\n",
    "\n",
    "except Exception as e:\n",
    "    print(f\"Training stopped due to error: {e}\")"
   ]
  }
 ],
 "metadata": {
  "accelerator": "GPU",
  "colab": {
   "gpuType": "T4",
   "provenance": []
  },
  "kernelspec": {
   "display_name": "Python 3",
   "name": "python3"
  },
  "language_info": {
   "codemirror_mode": {
    "name": "ipython",
    "version": 3
   },
   "file_extension": ".py",
   "mimetype": "text/x-python",
   "name": "python",
   "nbconvert_exporter": "python",
   "pygments_lexer": "ipython3",
   "version": "3.10.0"
  }
 },
 "nbformat": 4,
 "nbformat_minor": 5
}
