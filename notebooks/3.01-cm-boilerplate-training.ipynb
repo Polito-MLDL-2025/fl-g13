{
  "cells": [
    {
      "cell_type": "code",
      "execution_count": 1,
      "metadata": {
        "id": "3JlrgkvwTt0n"
      },
      "outputs": [],
      "source": [
        "%load_ext autoreload\n",
        "%autoreload 2"
      ]
    },
    {
      "cell_type": "code",
      "execution_count": 2,
      "metadata": {
        "id": "Yn64tJDBPe0g"
      },
      "outputs": [
        {
          "name": "stderr",
          "output_type": "stream",
          "text": [
            "\u001b[32m2025-04-18 16:01:33.783\u001b[0m | \u001b[1mINFO    \u001b[0m | \u001b[36mfl_g13.config\u001b[0m:\u001b[36m<module>\u001b[0m:\u001b[36m11\u001b[0m - \u001b[1mPROJ_ROOT path is: /home/massimiliano/Projects/fl-g13\u001b[0m\n"
          ]
        }
      ],
      "source": [
        "from fl_g13.config import RAW_DATA_DIR\n",
        "from torchvision import datasets, transforms\n",
        "\n",
        "from fl_g13.modeling import train\n",
        "import torch\n",
        "import torch.nn as nn\n",
        "import torch.nn.functional as F\n",
        "import torch.optim as optim"
      ]
    },
    {
      "cell_type": "markdown",
      "metadata": {
        "id": "myBP16BjQ5LY"
      },
      "source": [
        "### Load data"
      ]
    },
    {
      "cell_type": "code",
      "execution_count": 3,
      "metadata": {
        "colab": {
          "base_uri": "https://localhost:8080/"
        },
        "id": "dbOYONBtQ4Fb",
        "outputId": "593ba79f-5226-4f3f-e1bd-d41c2edcb813"
      },
      "outputs": [],
      "source": [
        "transform = transforms.Compose([\n",
        "    transforms.ToTensor()\n",
        "])\n",
        "cifar100_train = datasets.CIFAR100(root=RAW_DATA_DIR, train=True, download=True, transform=transform)\n",
        "cifar100_test = datasets.CIFAR100(root=RAW_DATA_DIR, train=False, download=True, transform=transform)"
      ]
    },
    {
      "cell_type": "markdown",
      "metadata": {
        "id": "DAa_Qx6VQnR4"
      },
      "source": [
        "### Train and save model"
      ]
    },
    {
      "cell_type": "code",
      "execution_count": 4,
      "metadata": {},
      "outputs": [],
      "source": [
        "class TinyCNN(nn.Module):\n",
        "    def __init__(self, num_classes=100):\n",
        "        super(TinyCNN, self).__init__()\n",
        "        self.conv1 = nn.Conv2d(3, 16, 3, padding=1)\n",
        "        self.conv2 = nn.Conv2d(16, 32, 3, padding=1)\n",
        "        self.fc1 = nn.Linear(32 * 8 * 8, num_classes)\n",
        "\n",
        "        # Store configuration for later loading\n",
        "        # This is a bit of a hack, but we need to store the number of classes\n",
        "        self._config = {\n",
        "            \"num_classes\": num_classes,\n",
        "            # In fact, the followings could be avoided as from_config loads only the num_classes\n",
        "            \"conv1_out_channels\": 16,\n",
        "            \"conv2_out_channels\": 32,\n",
        "            \"fc1_in_features\": 32 * 8 * 8,\n",
        "        }\n",
        "\n",
        "    def forward(self, x):\n",
        "        x = F.relu(self.conv1(x))     # -> [B, 16, 32, 32]\n",
        "        x = F.max_pool2d(x, 2)        # -> [B, 16, 16, 16]\n",
        "        x = F.relu(self.conv2(x))     # -> [B, 32, 16, 16]\n",
        "        x = F.max_pool2d(x, 2)        # -> [B, 32, 8, 8]\n",
        "        x = x.view(x.size(0), -1)     # -> [B, 32*8*8]\n",
        "        x = self.fc1(x)               # -> [B, 100]\n",
        "        return x\n",
        "\n",
        "    # Now we need to be careful to define how to load from config\n",
        "    @classmethod\n",
        "    def from_config(cls, config):\n",
        "        return cls(num_classes=config[\"num_classes\"])"
      ]
    },
    {
      "cell_type": "code",
      "execution_count": 5,
      "metadata": {
        "id": "6vBLzL_iQEQq"
      },
      "outputs": [],
      "source": [
        "checkpoint_dir = \"/home/massimiliano/Projects/fl-g13/checkpoints\"\n",
        "\n",
        "# Parameters\n",
        "batch_size  = 32\n",
        "start_epoch = 1\n",
        "num_epochs  = 2\n",
        "save_every  = 1\n",
        "\n",
        "device = torch.device(\"cuda\" if torch.cuda.is_available() else \"cpu\")\n",
        "\n",
        "train_dataloader = torch.utils.data.DataLoader(cifar100_train, batch_size=batch_size, shuffle=True)\n",
        "test_dataloader = torch.utils.data.DataLoader(cifar100_test, batch_size=batch_size, shuffle=True)\n",
        "\n",
        "model = TinyCNN(100)\n",
        "model.to(device)\n",
        "optimizer = optim.AdamW(model.parameters(), lr=1e-4, weight_decay=0.04)\n",
        "criterion = torch.nn.CrossEntropyLoss()"
      ]
    },
    {
      "cell_type": "code",
      "execution_count": 6,
      "metadata": {
        "colab": {
          "base_uri": "https://localhost:8080/"
        },
        "id": "jr6KJ-inSYkn",
        "outputId": "fae74572-4196-4bd9-da19-b0d483eb9165"
      },
      "outputs": [
        {
          "name": "stdout",
          "output_type": "stream",
          "text": [
            "No prefix/name for the model was provided, choosen prefix/name: chirpy_charizard_32\n",
            "\n",
            "🚀 Epoch 1/2 (50.00%) Completed\n",
            "\t📊 Training Loss: 4.0760\n",
            "\t✅ Training Accuracy: 9.07%\n",
            "\t⏳ Elapsed Time: 4.09s | ETA: 4.09s\n",
            "\t🕒 Completed At: 16:01\n",
            "🔍 Validation Results:\n",
            "\t📉 Validation Loss: 3.7944\n",
            "\t🎯 Validation Accuracy: 14.14%\n",
            "\n",
            "💾 Saved checkpoint at: /home/massimiliano/Projects/fl-g13/checkpoints/TinyCNN/chirpy_charizard_32_TinyCNN_epoch_1.pth\n",
            "\n",
            "🚀 Epoch 2/2 (100.00%) Completed\n",
            "\t📊 Training Loss: 3.6538\n",
            "\t✅ Training Accuracy: 16.70%\n",
            "\t⏳ Elapsed Time: 3.86s | ETA: 0.00s\n",
            "\t🕒 Completed At: 16:01\n",
            "🔍 Validation Results:\n",
            "\t📉 Validation Loss: 3.5973\n",
            "\t🎯 Validation Accuracy: 17.58%\n",
            "\n",
            "💾 Saved checkpoint at: /home/massimiliano/Projects/fl-g13/checkpoints/TinyCNN/chirpy_charizard_32_TinyCNN_epoch_2.pth\n",
            "\n"
          ]
        }
      ],
      "source": [
        "# This will train the model, using an automatically generated name\n",
        "_, _, _, _ = train(\n",
        "    checkpoint_dir=checkpoint_dir,\n",
        "    name=\"\", # Will automatically generate a name for the model\n",
        "    train_dataloader=train_dataloader,\n",
        "    val_dataloader=test_dataloader,\n",
        "    criterion=criterion,\n",
        "    start_epoch=start_epoch,\n",
        "    num_epochs=num_epochs,\n",
        "    save_every=save_every,\n",
        "    model=model,\n",
        "    optimizer=optimizer,\n",
        "    scheduler=None,\n",
        "    verbose=False,\n",
        ")"
      ]
    },
    {
      "cell_type": "code",
      "execution_count": 7,
      "metadata": {},
      "outputs": [
        {
          "name": "stdout",
          "output_type": "stream",
          "text": [
            "Prefix/name for the model was provided: ditto\n",
            "\n",
            "🚀 Epoch 1/2 (50.00%) Completed\n",
            "\t📊 Training Loss: 3.4679\n",
            "\t✅ Training Accuracy: 20.11%\n",
            "\t⏳ Elapsed Time: 4.01s | ETA: 4.01s\n",
            "\t🕒 Completed At: 16:01\n",
            "🔍 Validation Results:\n",
            "\t📉 Validation Loss: 3.4528\n",
            "\t🎯 Validation Accuracy: 20.69%\n",
            "\n",
            "💾 Saved checkpoint at: /home/massimiliano/Projects/fl-g13/checkpoints/TinyCNN/ditto_TinyCNN_epoch_1.pth\n",
            "\n",
            "🚀 Epoch 2/2 (100.00%) Completed\n",
            "\t📊 Training Loss: 3.3233\n",
            "\t✅ Training Accuracy: 22.62%\n",
            "\t⏳ Elapsed Time: 3.87s | ETA: 0.00s\n",
            "\t🕒 Completed At: 16:01\n",
            "🔍 Validation Results:\n",
            "\t📉 Validation Loss: 3.3344\n",
            "\t🎯 Validation Accuracy: 22.54%\n",
            "\n",
            "💾 Saved checkpoint at: /home/massimiliano/Projects/fl-g13/checkpoints/TinyCNN/ditto_TinyCNN_epoch_2.pth\n",
            "\n"
          ]
        }
      ],
      "source": [
        "# This will train again the same model, but with a custom name\n",
        "# The epochs will still start from 1\n",
        "# NOTE: If a checkpoint with the exact same model name, \n",
        "# model class and epoch number exists, it will be overwritten!!!\n",
        "_, _, _, _ = train(\n",
        "    checkpoint_dir=checkpoint_dir,\n",
        "    name=\"ditto\", # Setting a name for the model\n",
        "    start_epoch=start_epoch,\n",
        "    num_epochs=num_epochs,\n",
        "    save_every=save_every,\n",
        "    train_dataloader=train_dataloader,\n",
        "    val_dataloader=test_dataloader,\n",
        "    model=model, # Use the same model as before (partially pre-trained)\n",
        "    criterion=criterion,\n",
        "    optimizer=optimizer,\n",
        "    scheduler=None,\n",
        "    verbose=False,\n",
        ")"
      ]
    },
    {
      "cell_type": "markdown",
      "metadata": {
        "id": "0DjHHflVSyZZ"
      },
      "source": [
        "### Resume training"
      ]
    },
    {
      "cell_type": "code",
      "execution_count": 8,
      "metadata": {},
      "outputs": [
        {
          "name": "stdout",
          "output_type": "stream",
          "text": [
            "🔍 Loading checkpoint from /home/massimiliano/Projects/fl-g13/checkpoints/TinyCNN/ditto_TinyCNN_epoch_2.pth\n",
            "📦 Model class in checkpoint: TinyCNN\n",
            "⚙️  Optimizer class in checkpoint: AdamW\n",
            "🔧 Model configuration: {'num_classes': 100, 'conv1_out_channels': 16, 'conv2_out_channels': 32, 'fc1_in_features': 2048}\n",
            "✅ Loaded checkpoint from /home/massimiliano/Projects/fl-g13/checkpoints/TinyCNN/ditto_TinyCNN_epoch_2.pth, resuming at epoch 3\n"
          ]
        }
      ],
      "source": [
        "from fl_g13.modeling import load\n",
        "\n",
        "# Load the model from the latest checkpoint (a specific file!)\n",
        "path = f\"{checkpoint_dir}/TinyCNN/ditto_TinyCNN_epoch_2.pth\"\n",
        "# Note: make sure to define a _config parameter and a from_config method in the model class\n",
        "model2, start_epoch = load(path=path, model_class=TinyCNN, device=device, verbose=True)"
      ]
    },
    {
      "cell_type": "code",
      "execution_count": null,
      "metadata": {
        "id": "1QClLYHcSrIS"
      },
      "outputs": [
        {
          "name": "stdout",
          "output_type": "stream",
          "text": [
            "Prefix/name for the model was provided: ditto\n",
            "\n",
            "🚀 Epoch 3/6 (50.00%) Completed\n",
            "\t📊 Training Loss: 3.2314\n",
            "\t✅ Training Accuracy: 24.69%\n",
            "\t⏳ Elapsed Time: 6.29s | ETA: 18.87s\n",
            "\t🕒 Completed At: 16:02\n",
            "🔍 Validation Results:\n",
            "\t📉 Validation Loss: 3.3345\n",
            "\t🎯 Validation Accuracy: 22.54%\n",
            "\n",
            "🚀 Epoch 4/6 (66.67%) Completed\n",
            "\t📊 Training Loss: 3.2314\n",
            "\t✅ Training Accuracy: 24.69%\n",
            "\t⏳ Elapsed Time: 9.58s | ETA: 19.16s\n",
            "\t🕒 Completed At: 16:02\n",
            "🔍 Validation Results:\n",
            "\t📉 Validation Loss: 3.3341\n",
            "\t🎯 Validation Accuracy: 22.54%\n",
            "\n",
            "💾 Saved checkpoint at: /home/massimiliano/Projects/fl-g13/checkpoints/TinyCNN/ditto_TinyCNN_epoch_4.pth\n",
            "\n",
            "🚀 Epoch 5/6 (83.33%) Completed\n",
            "\t📊 Training Loss: 3.2316\n",
            "\t✅ Training Accuracy: 24.69%\n",
            "\t⏳ Elapsed Time: 10.15s | ETA: 10.15s\n",
            "\t🕒 Completed At: 16:02\n",
            "🔍 Validation Results:\n",
            "\t📉 Validation Loss: 3.3345\n",
            "\t🎯 Validation Accuracy: 22.54%\n",
            "\n",
            "🚀 Epoch 6/6 (100.00%) Completed\n",
            "\t📊 Training Loss: 3.2316\n",
            "\t✅ Training Accuracy: 24.69%\n",
            "\t⏳ Elapsed Time: 10.25s | ETA: 0.00s\n",
            "\t🕒 Completed At: 16:02\n",
            "🔍 Validation Results:\n",
            "\t📉 Validation Loss: 3.3340\n",
            "\t🎯 Validation Accuracy: 22.54%\n",
            "\n",
            "💾 Saved checkpoint at: /home/massimiliano/Projects/fl-g13/checkpoints/TinyCNN/ditto_TinyCNN_epoch_6.pth\n",
            "\n"
          ]
        }
      ],
      "source": [
        "num_epochs = 4\n",
        "save_every = 2\n",
        "\n",
        "# Now we can continue training the model (model2 now!) from the last checkpoint (which has been loaded)\n",
        "# NOTE again: loading is done by the user in the cell above! It is not done automatically!\n",
        "# The start_epoch is now 2 (value returned by the load function)\n",
        "_, _, _, _ = train(\n",
        "    checkpoint_dir=checkpoint_dir,\n",
        "    name=\"ditto\", # Use the same name as before to continue training!\n",
        "    start_epoch=start_epoch, # Now start epoch is not 1 (will resume from where it was left)\n",
        "    num_epochs=num_epochs, # This is not the number of epochs to reach, but how many to do starting from now!\n",
        "    save_every=save_every,\n",
        "    train_dataloader=train_dataloader,\n",
        "    val_dataloader=test_dataloader,\n",
        "    model=model2,\n",
        "    criterion=criterion, # Use the same criterion as before\n",
        "    optimizer=optimizer, # Use the same optimizer as before\n",
        "    scheduler=None,\n",
        "    verbose=False,\n",
        ")"
      ]
    }
  ],
  "metadata": {
    "accelerator": "GPU",
    "colab": {
      "gpuType": "T4",
      "provenance": []
    },
    "kernelspec": {
      "display_name": "fl-g13",
      "language": "python",
      "name": "python3"
    },
    "language_info": {
      "codemirror_mode": {
        "name": "ipython",
        "version": 3
      },
      "file_extension": ".py",
      "mimetype": "text/x-python",
      "name": "python",
      "nbconvert_exporter": "python",
      "pygments_lexer": "ipython3",
      "version": "3.11.11"
    }
  },
  "nbformat": 4,
  "nbformat_minor": 0
}
