{
  "cells": [
    {
      "cell_type": "code",
      "execution_count": 1,
      "metadata": {
        "id": "3JlrgkvwTt0n"
      },
      "outputs": [],
      "source": [
        "%load_ext autoreload\n",
        "%autoreload 2"
      ]
    },
    {
      "cell_type": "code",
      "execution_count": 2,
      "metadata": {
        "id": "Yn64tJDBPe0g"
      },
      "outputs": [
        {
          "name": "stderr",
          "output_type": "stream",
          "text": [
            "\u001b[32m2025-04-18 09:37:18.151\u001b[0m | \u001b[1mINFO    \u001b[0m | \u001b[36mfl_g13.config\u001b[0m:\u001b[36m<module>\u001b[0m:\u001b[36m11\u001b[0m - \u001b[1mPROJ_ROOT path is: /home/massimiliano/Projects/fl-g13\u001b[0m\n"
          ]
        }
      ],
      "source": [
        "from fl_g13.config import RAW_DATA_DIR\n",
        "from torchvision import datasets, transforms\n",
        "\n",
        "from fl_g13.modeling import train\n",
        "import torch\n",
        "import torch.nn as nn\n",
        "import torch.nn.functional as F\n",
        "import torch.optim as optim"
      ]
    },
    {
      "cell_type": "markdown",
      "metadata": {
        "id": "myBP16BjQ5LY"
      },
      "source": [
        "### Load data"
      ]
    },
    {
      "cell_type": "code",
      "execution_count": 3,
      "metadata": {
        "colab": {
          "base_uri": "https://localhost:8080/"
        },
        "id": "dbOYONBtQ4Fb",
        "outputId": "593ba79f-5226-4f3f-e1bd-d41c2edcb813"
      },
      "outputs": [],
      "source": [
        "transform = transforms.Compose([\n",
        "    transforms.ToTensor()\n",
        "])\n",
        "cifar100_train = datasets.CIFAR100(root=RAW_DATA_DIR, train=True, download=True, transform=transform)\n",
        "cifar100_test = datasets.CIFAR100(root=RAW_DATA_DIR, train=False, download=True, transform=transform)"
      ]
    },
    {
      "cell_type": "markdown",
      "metadata": {
        "id": "DAa_Qx6VQnR4"
      },
      "source": [
        "### Train and save model"
      ]
    },
    {
      "cell_type": "code",
      "execution_count": 4,
      "metadata": {},
      "outputs": [],
      "source": [
        "class TinyCNN(nn.Module):\n",
        "    def __init__(self, num_classes=100):\n",
        "        super(TinyCNN, self).__init__()\n",
        "        self.conv1 = nn.Conv2d(3, 16, 3, padding=1)\n",
        "        self.conv2 = nn.Conv2d(16, 32, 3, padding=1)\n",
        "        self.fc1 = nn.Linear(32 * 8 * 8, num_classes)\n",
        "\n",
        "    def forward(self, x):\n",
        "        x = F.relu(self.conv1(x))     # -> [B, 16, 32, 32]\n",
        "        x = F.max_pool2d(x, 2)        # -> [B, 16, 16, 16]\n",
        "        x = F.relu(self.conv2(x))     # -> [B, 32, 16, 16]\n",
        "        x = F.max_pool2d(x, 2)        # -> [B, 32, 8, 8]\n",
        "        x = x.view(x.size(0), -1)     # -> [B, 32*8*8]\n",
        "        x = self.fc1(x)               # -> [B, 100]\n",
        "        return x"
      ]
    },
    {
      "cell_type": "code",
      "execution_count": 5,
      "metadata": {
        "id": "6vBLzL_iQEQq"
      },
      "outputs": [],
      "source": [
        "checkpoint_dir = \"/home/massimiliano/Projects/fl-g13/checkpoints\"\n",
        "\n",
        "# Parameters\n",
        "batch_size  = 32\n",
        "start_epoch = 1\n",
        "num_epochs  = 2\n",
        "save_every  = 1\n",
        "\n",
        "device = torch.device(\"cuda\" if torch.cuda.is_available() else \"cpu\")\n",
        "\n",
        "train_dataloader = torch.utils.data.DataLoader(cifar100_train, batch_size=batch_size, shuffle=True)\n",
        "test_dataloader = torch.utils.data.DataLoader(cifar100_test, batch_size=batch_size, shuffle=True)\n",
        "\n",
        "model = TinyCNN(100)\n",
        "model.to(device)\n",
        "optimizer = optim.AdamW(model.parameters(), lr=1e-4, weight_decay=0.04)\n",
        "criterion = torch.nn.CrossEntropyLoss()"
      ]
    },
    {
      "cell_type": "code",
      "execution_count": 6,
      "metadata": {
        "colab": {
          "base_uri": "https://localhost:8080/"
        },
        "id": "jr6KJ-inSYkn",
        "outputId": "fae74572-4196-4bd9-da19-b0d483eb9165"
      },
      "outputs": [
        {
          "name": "stdout",
          "output_type": "stream",
          "text": [
            "No prefix/name for the model was provided, choosen prefix/name: cheeky_charmander_43\n",
            "\n",
            "🚀 Epoch 1/2 (50.00%) Completed\n",
            "\t📊 Training Loss: 4.1400\n",
            "\t✅ Training Accuracy: 8.50%\n",
            "\t⏳ Elapsed Time: 4.18s | ETA: 4.18s\n",
            "\t🕒 Completed At: 09:37\n",
            "🔍 Validation Results:\n",
            "\t📉 Validation Loss: 3.8421\n",
            "\t🎯 Validation Accuracy: 13.36%\n",
            "\n",
            "💾 Saved checkpoint at: /home/massimiliano/Projects/fl-g13/checkpoints/cheeky_charmander_43_epoch_1.pth\n",
            "\n",
            "🚀 Epoch 2/2 (100.00%) Completed\n",
            "\t📊 Training Loss: 3.6664\n",
            "\t✅ Training Accuracy: 16.58%\n",
            "\t⏳ Elapsed Time: 3.97s | ETA: 0.00s\n",
            "\t🕒 Completed At: 09:37\n",
            "🔍 Validation Results:\n",
            "\t📉 Validation Loss: 3.5802\n",
            "\t🎯 Validation Accuracy: 18.12%\n",
            "\n",
            "💾 Saved checkpoint at: /home/massimiliano/Projects/fl-g13/checkpoints/cheeky_charmander_43_epoch_2.pth\n",
            "\n"
          ]
        },
        {
          "data": {
            "text/plain": [
              "([4.140020949216661, 3.6664106693316634],\n",
              " [3.8421174946684427, 3.5801682068517033],\n",
              " [0.08496, 0.16576],\n",
              " [0.1336, 0.1812])"
            ]
          },
          "execution_count": 6,
          "metadata": {},
          "output_type": "execute_result"
        }
      ],
      "source": [
        "# This will train the model, using an automatically generated name\n",
        "train(\n",
        "    checkpoint_dir=checkpoint_dir,\n",
        "    prefix=\"\", # Will automatically generate a name for the model\n",
        "    train_dataloader=train_dataloader,\n",
        "    val_dataloader=test_dataloader,\n",
        "    criterion=criterion,\n",
        "    start_epoch=start_epoch,\n",
        "    num_epochs=num_epochs,\n",
        "    save_every=save_every,\n",
        "    model=model,\n",
        "    optimizer=optimizer,\n",
        "    scheduler=None,\n",
        "    verbose=False,\n",
        ")"
      ]
    },
    {
      "cell_type": "code",
      "execution_count": 7,
      "metadata": {},
      "outputs": [
        {
          "name": "stdout",
          "output_type": "stream",
          "text": [
            "🚀 Epoch 1/2 (50.00%) Completed\n",
            "\t📊 Training Loss: 3.4445\n",
            "\t✅ Training Accuracy: 20.49%\n",
            "\t⏳ Elapsed Time: 3.71s | ETA: 3.71s\n",
            "\t🕒 Completed At: 09:37\n",
            "🔍 Validation Results:\n",
            "\t📉 Validation Loss: 3.4278\n",
            "\t🎯 Validation Accuracy: 21.30%\n",
            "\n",
            "💾 Saved checkpoint at: /home/massimiliano/Projects/fl-g13/checkpoints/TinyCNN_epoch_1.pth\n",
            "\n",
            "🚀 Epoch 2/2 (100.00%) Completed\n",
            "\t📊 Training Loss: 3.2926\n",
            "\t✅ Training Accuracy: 23.35%\n",
            "\t⏳ Elapsed Time: 3.88s | ETA: 0.00s\n",
            "\t🕒 Completed At: 09:37\n",
            "🔍 Validation Results:\n",
            "\t📉 Validation Loss: 3.3096\n",
            "\t🎯 Validation Accuracy: 23.37%\n",
            "\n",
            "💾 Saved checkpoint at: /home/massimiliano/Projects/fl-g13/checkpoints/TinyCNN_epoch_2.pth\n",
            "\n"
          ]
        },
        {
          "data": {
            "text/plain": [
              "([3.444468788511846, 3.292574101354705],\n",
              " [3.4278288519801423, 3.309554140407818],\n",
              " [0.20488, 0.2335],\n",
              " [0.213, 0.2337])"
            ]
          },
          "execution_count": 7,
          "metadata": {},
          "output_type": "execute_result"
        }
      ],
      "source": [
        "# This will train again the same model, but with a custom name\n",
        "# The epochs will still start from 1\n",
        "train(\n",
        "    checkpoint_dir=checkpoint_dir,\n",
        "    prefix=\"TinyCNN\", # Setting a name for the model\n",
        "    start_epoch=start_epoch,\n",
        "    num_epochs=num_epochs,\n",
        "    save_every=save_every,\n",
        "    train_dataloader=train_dataloader,\n",
        "    val_dataloader=test_dataloader,\n",
        "    model=model, # Use the same model as before (partially pre-trained)\n",
        "    criterion=criterion,\n",
        "    optimizer=optimizer,\n",
        "    scheduler=None,\n",
        "    verbose=False,\n",
        ")"
      ]
    },
    {
      "cell_type": "markdown",
      "metadata": {
        "id": "0DjHHflVSyZZ"
      },
      "source": [
        "### Resume training"
      ]
    },
    {
      "cell_type": "code",
      "execution_count": 8,
      "metadata": {},
      "outputs": [
        {
          "name": "stdout",
          "output_type": "stream",
          "text": [
            "✅ Loaded checkpoint from /home/massimiliano/Projects/fl-g13/checkpoints/TinyCNN_epoch_2.pth, resuming at epoch 3\n"
          ]
        }
      ],
      "source": [
        "from fl_g13.modeling import load\n",
        "\n",
        "# Generate untrained model and optimizer\n",
        "model2 = TinyCNN(num_classes=100)\n",
        "optimizer2 = optim.AdamW(model.parameters(), lr=1e-4, weight_decay=0.04)\n",
        "criterion2 = torch.nn.CrossEntropyLoss()\n",
        "\n",
        "# Load the model from the latest checkpoint (a specific file!)\n",
        "path = checkpoint_dir + \"/TinyCNN_epoch_2.pth\"\n",
        "start_epoch = load(path=path, model=model2, optimizer=optimizer2, scheduler=None)"
      ]
    },
    {
      "cell_type": "code",
      "execution_count": 9,
      "metadata": {
        "id": "1QClLYHcSrIS"
      },
      "outputs": [
        {
          "name": "stdout",
          "output_type": "stream",
          "text": [
            "🚀 Epoch 3/6 (50.00%) Completed\n",
            "\t📊 Training Loss: 3.1965\n",
            "\t✅ Training Accuracy: 25.18%\n",
            "\t⏳ Elapsed Time: 5.94s | ETA: 17.81s\n",
            "\t🕒 Completed At: 09:37\n",
            "🔍 Validation Results:\n",
            "\t📉 Validation Loss: 3.3110\n",
            "\t🎯 Validation Accuracy: 23.37%\n",
            "\n",
            "🚀 Epoch 4/6 (66.67%) Completed\n",
            "\t📊 Training Loss: 3.1967\n",
            "\t✅ Training Accuracy: 25.18%\n",
            "\t⏳ Elapsed Time: 5.91s | ETA: 11.82s\n",
            "\t🕒 Completed At: 09:37\n",
            "🔍 Validation Results:\n",
            "\t📉 Validation Loss: 3.3111\n",
            "\t🎯 Validation Accuracy: 23.37%\n",
            "\n",
            "💾 Saved checkpoint at: /home/massimiliano/Projects/fl-g13/checkpoints/TinyCNN_epoch_4.pth\n",
            "\n",
            "🚀 Epoch 5/6 (83.33%) Completed\n",
            "\t📊 Training Loss: 3.1965\n",
            "\t✅ Training Accuracy: 25.18%\n",
            "\t⏳ Elapsed Time: 5.85s | ETA: 5.85s\n",
            "\t🕒 Completed At: 09:37\n",
            "🔍 Validation Results:\n",
            "\t📉 Validation Loss: 3.3107\n",
            "\t🎯 Validation Accuracy: 23.37%\n",
            "\n",
            "🚀 Epoch 6/6 (100.00%) Completed\n",
            "\t📊 Training Loss: 3.1966\n",
            "\t✅ Training Accuracy: 25.18%\n",
            "\t⏳ Elapsed Time: 5.89s | ETA: 0.00s\n",
            "\t🕒 Completed At: 09:38\n",
            "🔍 Validation Results:\n",
            "\t📉 Validation Loss: 3.3099\n",
            "\t🎯 Validation Accuracy: 23.37%\n",
            "\n",
            "💾 Saved checkpoint at: /home/massimiliano/Projects/fl-g13/checkpoints/TinyCNN_epoch_6.pth\n",
            "\n"
          ]
        },
        {
          "data": {
            "text/plain": [
              "([3.19649176893521,\n",
              "  3.1966562527383817,\n",
              "  3.1965467147314617,\n",
              "  3.1965918338077617],\n",
              " [3.3109634326288875, 3.31106799707626, 3.310722441718982, 3.309893375768448],\n",
              " [0.25182, 0.25182, 0.25182, 0.25182],\n",
              " [0.2337, 0.2337, 0.2337, 0.2337])"
            ]
          },
          "execution_count": 9,
          "metadata": {},
          "output_type": "execute_result"
        }
      ],
      "source": [
        "num_epochs = 4\n",
        "save_every = 2\n",
        "\n",
        "# Now we can continue training the model (model2 now!) from the last checkpoint (which has been loaded)\n",
        "# Note again: loading is done by the user in the cell above! It is not done automatically!\n",
        "# The start_epoch is now 2 (value returned by the load function)\n",
        "train(\n",
        "    checkpoint_dir=checkpoint_dir,\n",
        "    prefix=\"TinyCNN\", # Use the same name as before to continue training!\n",
        "    start_epoch=start_epoch, # Now start epoch is not 1 (will resume from where it was left)\n",
        "    num_epochs=num_epochs, # This is not the number of epochs to reach, but how many to do starting from now!\n",
        "    save_every=save_every,\n",
        "    train_dataloader=train_dataloader,\n",
        "    val_dataloader=test_dataloader,\n",
        "    model=model2,\n",
        "    criterion=criterion2,\n",
        "    optimizer=optimizer2,\n",
        "    scheduler=None,\n",
        "    verbose=False,\n",
        ")"
      ]
    },
    {
      "cell_type": "code",
      "execution_count": null,
      "metadata": {},
      "outputs": [],
      "source": []
    }
  ],
  "metadata": {
    "accelerator": "GPU",
    "colab": {
      "gpuType": "T4",
      "provenance": []
    },
    "kernelspec": {
      "display_name": "fl-g13",
      "language": "python",
      "name": "python3"
    },
    "language_info": {
      "codemirror_mode": {
        "name": "ipython",
        "version": 3
      },
      "file_extension": ".py",
      "mimetype": "text/x-python",
      "name": "python",
      "nbconvert_exporter": "python",
      "pygments_lexer": "ipython3",
      "version": "3.11.11"
    }
  },
  "nbformat": 4,
  "nbformat_minor": 0
}
