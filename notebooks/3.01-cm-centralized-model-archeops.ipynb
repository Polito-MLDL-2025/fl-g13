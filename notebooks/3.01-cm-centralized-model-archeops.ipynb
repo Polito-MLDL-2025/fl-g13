{
 "cells": [
  {
   "cell_type": "code",
   "execution_count": 1,
   "id": "ffbee39c",
   "metadata": {},
   "outputs": [],
   "source": [
    "%load_ext autoreload\n",
    "%autoreload 2"
   ]
  },
  {
   "cell_type": "code",
   "execution_count": 2,
   "id": "b4f52dd8",
   "metadata": {},
   "outputs": [
    {
     "name": "stderr",
     "output_type": "stream",
     "text": [
      "\u001b[32m2025-05-07 17:10:37.049\u001b[0m | \u001b[1mINFO    \u001b[0m | \u001b[36mfl_g13.config\u001b[0m:\u001b[36m<module>\u001b[0m:\u001b[36m11\u001b[0m - \u001b[1mPROJ_ROOT path is: /home/massimiliano/Projects/fl-g13\u001b[0m\n"
     ]
    }
   ],
   "source": [
    "import torch\n",
    "import torch.nn as nn\n",
    "from torch.nn import CrossEntropyLoss\n",
    "import torch.optim as optim\n",
    "from torch.optim import SGD\n",
    "from torch.optim.lr_scheduler import CosineAnnealingLR, CosineAnnealingWarmRestarts\n",
    "from torchvision import datasets\n",
    "from torch.utils.data import DataLoader\n",
    "\n",
    "from torchvision import models\n",
    "from torchvision.transforms import Compose, Resize, CenterCrop, RandomCrop, RandomHorizontalFlip, RandomVerticalFlip, Normalize, ToTensor\n",
    "\n",
    "from fl_g13.config import RAW_DATA_DIR\n",
    "from fl_g13.modeling import train, eval, save, load, backup, load_loss_and_accuracies, save_loss_and_accuracy\n",
    "from fl_g13.dataset import train_test_split\n",
    "\n",
    "from fl_g13.architectures import BaseDino\n",
    "from fl_g13.editing import SparseSGDM"
   ]
  },
  {
   "cell_type": "code",
   "execution_count": 3,
   "id": "77f11d5a",
   "metadata": {},
   "outputs": [
    {
     "name": "stdout",
     "output_type": "stream",
     "text": [
      "Train dataset size: 40000\n",
      "Validation dataset size: 10000\n",
      "Test dataset size: 10000\n"
     ]
    }
   ],
   "source": [
    "# Define preprocessing pipeline\n",
    "train_transform = Compose([\n",
    "    Resize(256), # CIFRA100 is originally 32x32\n",
    "    RandomCrop(224), # But Dino works on 224x224\n",
    "    RandomHorizontalFlip(),\n",
    "    ToTensor(),\n",
    "    #Normalize(mean=[0.5071, 0.4866, 0.4409], std=[0.2673, 0.2564, 0.2762]), # CIFRAR100 Train stats\n",
    "    Normalize(mean = [0.485, 0.456, 0.406], std = [0.229, 0.224, 0.225]) # Use ImageNet stats\n",
    "])\n",
    "\n",
    "eval_transform = Compose([\n",
    "    Resize(256), # CIFRA100 is originally 32x32\n",
    "    CenterCrop(224), # But Dino works on 224x224\n",
    "    ToTensor(),\n",
    "    #Normalize(mean=[0.5071, 0.4866, 0.4409], std=[0.2673, 0.2564, 0.2762]), # CIFRAR100 Train stats\n",
    "    Normalize(mean=[0.485, 0.456, 0.406], std=[0.229, 0.224, 0.225]), # Use ImageNet stats\n",
    "])\n",
    "\n",
    "cifar100_train = datasets.CIFAR100(root=RAW_DATA_DIR, train=True, download=True, transform=train_transform)\n",
    "cifar100_test = datasets.CIFAR100(root=RAW_DATA_DIR, train=False, download=True, transform=eval_transform)\n",
    "\n",
    "# Always specify a random state, otherwise the split will be different each time \n",
    "# If you have intention to load a model mid-training, you may have part of the validation set as already seen in the previous training\n",
    "train_dataset, val_dataset = train_test_split(cifar100_train, 0.8, random_state=42)\n",
    "test_dataset = cifar100_test\n",
    "\n",
    "print(f\"Train dataset size: {len(train_dataset)}\")\n",
    "print(f\"Validation dataset size: {len(val_dataset)}\")\n",
    "print(f\"Test dataset size: {len(test_dataset)}\")"
   ]
  },
  {
   "cell_type": "code",
   "execution_count": 4,
   "id": "349a5230",
   "metadata": {},
   "outputs": [
    {
     "name": "stdout",
     "output_type": "stream",
     "text": [
      "Using device: cuda\n"
     ]
    },
    {
     "name": "stderr",
     "output_type": "stream",
     "text": [
      "Using cache found in /home/massimiliano/.cache/torch/hub/facebookresearch_dino_main\n"
     ]
    },
    {
     "name": "stdout",
     "output_type": "stream",
     "text": [
      "\n",
      "Model: BaseDino(\n",
      "  (backbone): VisionTransformer(\n",
      "    (patch_embed): PatchEmbed(\n",
      "      (proj): Conv2d(3, 384, kernel_size=(16, 16), stride=(16, 16))\n",
      "    )\n",
      "    (pos_drop): Dropout(p=0.0, inplace=False)\n",
      "    (blocks): ModuleList(\n",
      "      (0-11): 12 x Block(\n",
      "        (norm1): LayerNorm((384,), eps=1e-06, elementwise_affine=True)\n",
      "        (attn): Attention(\n",
      "          (qkv): Linear(in_features=384, out_features=1152, bias=True)\n",
      "          (attn_drop): Dropout(p=0.0, inplace=False)\n",
      "          (proj): Linear(in_features=384, out_features=384, bias=True)\n",
      "          (proj_drop): Dropout(p=0.0, inplace=False)\n",
      "        )\n",
      "        (drop_path): Identity()\n",
      "        (norm2): LayerNorm((384,), eps=1e-06, elementwise_affine=True)\n",
      "        (mlp): Mlp(\n",
      "          (fc1): Linear(in_features=384, out_features=1536, bias=True)\n",
      "          (act): GELU(approximate='none')\n",
      "          (fc2): Linear(in_features=1536, out_features=384, bias=True)\n",
      "          (drop): Dropout(p=0.0, inplace=False)\n",
      "        )\n",
      "      )\n",
      "    )\n",
      "    (norm): LayerNorm((384,), eps=1e-06, elementwise_affine=True)\n",
      "    (head): Identity()\n",
      "  )\n",
      "  (head): Sequential(\n",
      "    (0): Linear(in_features=384, out_features=512, bias=True)\n",
      "    (1): GELU(approximate='none')\n",
      "    (2): Dropout(p=0.0, inplace=False)\n",
      "    (3): Linear(in_features=512, out_features=512, bias=True)\n",
      "    (4): GELU(approximate='none')\n",
      "    (5): Dropout(p=0.0, inplace=False)\n",
      "    (6): Linear(in_features=512, out_features=512, bias=True)\n",
      "    (7): GELU(approximate='none')\n",
      "    (8): Dropout(p=0.0, inplace=False)\n",
      "    (9): Linear(in_features=512, out_features=100, bias=True)\n",
      "  )\n",
      ")\n"
     ]
    }
   ],
   "source": [
    "# Move to CUDA\n",
    "device = torch.device(\"cuda\" if torch.cuda.is_available() else \"cpu\")\n",
    "print(f\"Using device: {device}\")\n",
    "\n",
    "# Settings\n",
    "CHECKPOINT_DIR = \"/home/massimiliano/Projects/fl-g13/checkpoints\"\n",
    "name=\"archeops\"\n",
    "start_epoch=1\n",
    "num_epochs=50\n",
    "save_every=1\n",
    "backup_every=10\n",
    "\n",
    "# Model Hyper-parameters\n",
    "head_layers=3\n",
    "head_hidden_size=512\n",
    "dropout_rate=0.0\n",
    "unfreeze_blocks=12\n",
    "\n",
    "# Training Hyper-parameters\n",
    "batch_size=64\n",
    "lr=1e-3\n",
    "momentum=0.9\n",
    "weight_decay=1e-5\n",
    "T_max=8\n",
    "eta_min=1e-5\n",
    "\n",
    "# Dataloaders\n",
    "train_dataloader = DataLoader(train_dataset, batch_size=batch_size, shuffle=True)\n",
    "val_dataloader = DataLoader(val_dataset, batch_size=batch_size, shuffle=False)\n",
    "test_dataloader = DataLoader(test_dataset, batch_size=batch_size, shuffle=False)\n",
    "\n",
    "# Model\n",
    "model = BaseDino(\n",
    "    head_layers=head_layers, \n",
    "    head_hidden_size=head_hidden_size, \n",
    "    dropout_rate=dropout_rate, \n",
    "    unfreeze_blocks=unfreeze_blocks\n",
    "    )\n",
    "model.to(device)\n",
    "\n",
    "# Optimizer, scheduler, and loss function\n",
    "mask = [torch.ones_like(p, device=p.device) for p in model.parameters()] # Must be done AFTER the model is moved to CUDA\n",
    "optimizer = SparseSGDM(\n",
    "    model.parameters(),\n",
    "    mask=mask,\n",
    "    lr=lr,\n",
    "    momentum=momentum,\n",
    "    weight_decay=weight_decay\n",
    "    )\n",
    "scheduler = CosineAnnealingLR(\n",
    "    optimizer=optimizer, \n",
    "    T_max=T_max, \n",
    "    eta_min=eta_min\n",
    "    )\n",
    "criterion = CrossEntropyLoss()\n",
    "\n",
    "all_training_losses=[]       # Pre-allocated list for training losses\n",
    "all_validation_losses=[]       # Pre-allocated list for validation losses\n",
    "all_training_accuracies=[]    # Pre-allocated list for training accuracies\n",
    "all_validation_accuracies=[]    # Pre-allocated list for validation accuracies\n",
    "\n",
    "# ---- RESUME ----\n",
    "\n",
    "# # Model loading (uncomment to properly overwrite)\n",
    "# loading_epoch = 25\n",
    "# model, start_epoch = load(\n",
    "#     f\"{CHECKPOINT_DIR}/BaseDino/{name}_BaseDino_epoch_{loading_epoch}.pth\",\n",
    "#     model_class=BaseDino,\n",
    "#     device=device,\n",
    "#     optimizer=optimizer,\n",
    "#     scheduler=scheduler,\n",
    "#     verbose=True\n",
    "# )\n",
    "# model.to(device)\n",
    "# loaded_metrics = load_loss_and_accuracies(path=f\"{CHECKPOINT_DIR}/BaseDino/{name}_BaseDino_epoch_{loading_epoch}.loss_acc.json\")\n",
    "\n",
    "# # Preallocated lists: if the training interrupts, it will still save their values (uncomment to properly load and overwrite)\n",
    "# all_training_losses=loaded_metrics[\"train_loss\"]       # Pre-allocated list for training losses\n",
    "# all_validation_losses=loaded_metrics[\"val_loss\"]       # Pre-allocated list for validation losses\n",
    "# all_training_accuracies=loaded_metrics[\"train_acc\"]    # Pre-allocated list for training accuracies\n",
    "# all_validation_accuracies=loaded_metrics[\"val_acc\"]    # Pre-allocated list for validation accuracies\n",
    "\n",
    "# -----------------\n",
    "\n",
    "print(f\"\\nModel: {model}\")"
   ]
  },
  {
   "cell_type": "code",
   "execution_count": 5,
   "id": "6feed087",
   "metadata": {},
   "outputs": [
    {
     "name": "stdout",
     "output_type": "stream",
     "text": [
      "Prefix/name for the model was provided: archeops\n",
      "\n"
     ]
    },
    {
     "name": "stderr",
     "output_type": "stream",
     "text": [
      "Training progress: 100%|██████████| 625/625 [03:39<00:00,  2.84batch/s]\n"
     ]
    },
    {
     "name": "stdout",
     "output_type": "stream",
     "text": [
      "🚀 Epoch 1/50 (2.00%) Completed\n",
      "\t📊 Training Loss: 3.3495\n",
      "\t✅ Training Accuracy: 21.18%\n",
      "\t⏳ Elapsed Time: 219.92s | ETA: 10776.30s\n",
      "\t🕒 Completed At: 17:14\n"
     ]
    },
    {
     "name": "stderr",
     "output_type": "stream",
     "text": [
      "Eval progress: 100%|██████████| 157/157 [00:23<00:00,  6.82batch/s]\n"
     ]
    },
    {
     "name": "stdout",
     "output_type": "stream",
     "text": [
      "🔍 Validation Results:\n",
      "\t📉 Validation Loss: 1.8320\n",
      "\t🎯 Validation Accuracy: 49.78%\n",
      "\n",
      "💾 Saved checkpoint at: /home/massimiliano/Projects/fl-g13/checkpoints/BaseDino/archeops_BaseDino_epoch_1.pth\n",
      "💾 Saved losses and accuracies (training and validation) at: /home/massimiliano/Projects/fl-g13/checkpoints/BaseDino/archeops_BaseDino_epoch_1.loss_acc.json\n",
      "\n"
     ]
    },
    {
     "name": "stderr",
     "output_type": "stream",
     "text": [
      "Training progress: 100%|██████████| 625/625 [03:39<00:00,  2.84batch/s]\n"
     ]
    },
    {
     "name": "stdout",
     "output_type": "stream",
     "text": [
      "🚀 Epoch 2/50 (4.00%) Completed\n",
      "\t📊 Training Loss: 1.3199\n",
      "\t✅ Training Accuracy: 62.00%\n",
      "\t⏳ Elapsed Time: 219.90s | ETA: 10555.07s\n",
      "\t🕒 Completed At: 17:18\n"
     ]
    },
    {
     "name": "stderr",
     "output_type": "stream",
     "text": [
      "Eval progress: 100%|██████████| 157/157 [00:23<00:00,  6.77batch/s]\n"
     ]
    },
    {
     "name": "stdout",
     "output_type": "stream",
     "text": [
      "🔍 Validation Results:\n",
      "\t📉 Validation Loss: 1.1383\n",
      "\t🎯 Validation Accuracy: 67.11%\n",
      "\n",
      "💾 Saved checkpoint at: /home/massimiliano/Projects/fl-g13/checkpoints/BaseDino/archeops_BaseDino_epoch_2.pth\n",
      "💾 Saved losses and accuracies (training and validation) at: /home/massimiliano/Projects/fl-g13/checkpoints/BaseDino/archeops_BaseDino_epoch_2.loss_acc.json\n",
      "\n"
     ]
    },
    {
     "name": "stderr",
     "output_type": "stream",
     "text": [
      "Training progress: 100%|██████████| 625/625 [03:40<00:00,  2.84batch/s]\n"
     ]
    },
    {
     "name": "stdout",
     "output_type": "stream",
     "text": [
      "🚀 Epoch 3/50 (6.00%) Completed\n",
      "\t📊 Training Loss: 0.8109\n",
      "\t✅ Training Accuracy: 75.56%\n",
      "\t⏳ Elapsed Time: 220.01s | ETA: 10340.59s\n",
      "\t🕒 Completed At: 17:22\n"
     ]
    },
    {
     "name": "stderr",
     "output_type": "stream",
     "text": [
      "Eval progress: 100%|██████████| 157/157 [00:23<00:00,  6.65batch/s]\n"
     ]
    },
    {
     "name": "stdout",
     "output_type": "stream",
     "text": [
      "🔍 Validation Results:\n",
      "\t📉 Validation Loss: 0.9350\n",
      "\t🎯 Validation Accuracy: 72.68%\n",
      "\n",
      "💾 Saved checkpoint at: /home/massimiliano/Projects/fl-g13/checkpoints/BaseDino/archeops_BaseDino_epoch_3.pth\n",
      "💾 Saved losses and accuracies (training and validation) at: /home/massimiliano/Projects/fl-g13/checkpoints/BaseDino/archeops_BaseDino_epoch_3.loss_acc.json\n",
      "\n"
     ]
    },
    {
     "name": "stderr",
     "output_type": "stream",
     "text": [
      "Training progress: 100%|██████████| 625/625 [03:37<00:00,  2.87batch/s]\n"
     ]
    },
    {
     "name": "stdout",
     "output_type": "stream",
     "text": [
      "🚀 Epoch 4/50 (8.00%) Completed\n",
      "\t📊 Training Loss: 0.5068\n",
      "\t✅ Training Accuracy: 84.05%\n",
      "\t⏳ Elapsed Time: 217.46s | ETA: 10003.29s\n",
      "\t🕒 Completed At: 17:26\n"
     ]
    },
    {
     "name": "stderr",
     "output_type": "stream",
     "text": [
      "Eval progress: 100%|██████████| 157/157 [00:23<00:00,  6.77batch/s]\n"
     ]
    },
    {
     "name": "stdout",
     "output_type": "stream",
     "text": [
      "🔍 Validation Results:\n",
      "\t📉 Validation Loss: 0.7960\n",
      "\t🎯 Validation Accuracy: 76.81%\n",
      "\n",
      "💾 Saved checkpoint at: /home/massimiliano/Projects/fl-g13/checkpoints/BaseDino/archeops_BaseDino_epoch_4.pth\n",
      "💾 Saved losses and accuracies (training and validation) at: /home/massimiliano/Projects/fl-g13/checkpoints/BaseDino/archeops_BaseDino_epoch_4.loss_acc.json\n",
      "\n"
     ]
    },
    {
     "name": "stderr",
     "output_type": "stream",
     "text": [
      "Training progress: 100%|██████████| 625/625 [03:38<00:00,  2.86batch/s]\n"
     ]
    },
    {
     "name": "stdout",
     "output_type": "stream",
     "text": [
      "🚀 Epoch 5/50 (10.00%) Completed\n",
      "\t📊 Training Loss: 0.2740\n",
      "\t✅ Training Accuracy: 91.22%\n",
      "\t⏳ Elapsed Time: 218.73s | ETA: 9842.66s\n",
      "\t🕒 Completed At: 17:30\n"
     ]
    },
    {
     "name": "stderr",
     "output_type": "stream",
     "text": [
      "Eval progress: 100%|██████████| 157/157 [00:23<00:00,  6.81batch/s]\n"
     ]
    },
    {
     "name": "stdout",
     "output_type": "stream",
     "text": [
      "🔍 Validation Results:\n",
      "\t📉 Validation Loss: 0.6707\n",
      "\t🎯 Validation Accuracy: 81.00%\n",
      "\n",
      "💾 Saved checkpoint at: /home/massimiliano/Projects/fl-g13/checkpoints/BaseDino/archeops_BaseDino_epoch_5.pth\n",
      "💾 Saved losses and accuracies (training and validation) at: /home/massimiliano/Projects/fl-g13/checkpoints/BaseDino/archeops_BaseDino_epoch_5.loss_acc.json\n",
      "\n"
     ]
    },
    {
     "name": "stderr",
     "output_type": "stream",
     "text": [
      "Training progress: 100%|██████████| 625/625 [03:39<00:00,  2.85batch/s]\n"
     ]
    },
    {
     "name": "stdout",
     "output_type": "stream",
     "text": [
      "🚀 Epoch 6/50 (12.00%) Completed\n",
      "\t📊 Training Loss: 0.1255\n",
      "\t✅ Training Accuracy: 96.17%\n",
      "\t⏳ Elapsed Time: 219.02s | ETA: 9636.91s\n",
      "\t🕒 Completed At: 17:34\n"
     ]
    },
    {
     "name": "stderr",
     "output_type": "stream",
     "text": [
      "Eval progress: 100%|██████████| 157/157 [00:23<00:00,  6.81batch/s]\n"
     ]
    },
    {
     "name": "stdout",
     "output_type": "stream",
     "text": [
      "🔍 Validation Results:\n",
      "\t📉 Validation Loss: 0.6125\n",
      "\t🎯 Validation Accuracy: 83.12%\n",
      "\n",
      "💾 Saved checkpoint at: /home/massimiliano/Projects/fl-g13/checkpoints/BaseDino/archeops_BaseDino_epoch_6.pth\n",
      "💾 Saved losses and accuracies (training and validation) at: /home/massimiliano/Projects/fl-g13/checkpoints/BaseDino/archeops_BaseDino_epoch_6.loss_acc.json\n",
      "\n"
     ]
    },
    {
     "name": "stderr",
     "output_type": "stream",
     "text": [
      "Training progress: 100%|██████████| 625/625 [03:41<00:00,  2.83batch/s]\n"
     ]
    },
    {
     "name": "stdout",
     "output_type": "stream",
     "text": [
      "🚀 Epoch 7/50 (14.00%) Completed\n",
      "\t📊 Training Loss: 0.0620\n",
      "\t✅ Training Accuracy: 98.45%\n",
      "\t⏳ Elapsed Time: 221.09s | ETA: 9506.67s\n",
      "\t🕒 Completed At: 17:38\n"
     ]
    },
    {
     "name": "stderr",
     "output_type": "stream",
     "text": [
      "Eval progress: 100%|██████████| 157/157 [00:23<00:00,  6.70batch/s]\n"
     ]
    },
    {
     "name": "stdout",
     "output_type": "stream",
     "text": [
      "🔍 Validation Results:\n",
      "\t📉 Validation Loss: 0.5905\n",
      "\t🎯 Validation Accuracy: 84.01%\n",
      "\n",
      "💾 Saved checkpoint at: /home/massimiliano/Projects/fl-g13/checkpoints/BaseDino/archeops_BaseDino_epoch_7.pth\n",
      "💾 Saved losses and accuracies (training and validation) at: /home/massimiliano/Projects/fl-g13/checkpoints/BaseDino/archeops_BaseDino_epoch_7.loss_acc.json\n",
      "\n"
     ]
    },
    {
     "name": "stderr",
     "output_type": "stream",
     "text": [
      "Training progress: 100%|██████████| 625/625 [03:41<00:00,  2.83batch/s]\n"
     ]
    },
    {
     "name": "stdout",
     "output_type": "stream",
     "text": [
      "🚀 Epoch 8/50 (16.00%) Completed\n",
      "\t📊 Training Loss: 0.0411\n",
      "\t✅ Training Accuracy: 99.18%\n",
      "\t⏳ Elapsed Time: 221.03s | ETA: 9283.29s\n",
      "\t🕒 Completed At: 17:42\n"
     ]
    },
    {
     "name": "stderr",
     "output_type": "stream",
     "text": [
      "Eval progress: 100%|██████████| 157/157 [00:23<00:00,  6.70batch/s]\n"
     ]
    },
    {
     "name": "stdout",
     "output_type": "stream",
     "text": [
      "🔍 Validation Results:\n",
      "\t📉 Validation Loss: 0.5771\n",
      "\t🎯 Validation Accuracy: 84.28%\n",
      "\n",
      "💾 Saved checkpoint at: /home/massimiliano/Projects/fl-g13/checkpoints/BaseDino/archeops_BaseDino_epoch_8.pth\n",
      "💾 Saved losses and accuracies (training and validation) at: /home/massimiliano/Projects/fl-g13/checkpoints/BaseDino/archeops_BaseDino_epoch_8.loss_acc.json\n",
      "\n"
     ]
    },
    {
     "name": "stderr",
     "output_type": "stream",
     "text": [
      "Training progress: 100%|██████████| 625/625 [03:37<00:00,  2.88batch/s]\n"
     ]
    },
    {
     "name": "stdout",
     "output_type": "stream",
     "text": [
      "🚀 Epoch 9/50 (18.00%) Completed\n",
      "\t📊 Training Loss: 0.0361\n",
      "\t✅ Training Accuracy: 99.37%\n",
      "\t⏳ Elapsed Time: 217.37s | ETA: 8912.18s\n",
      "\t🕒 Completed At: 17:46\n"
     ]
    },
    {
     "name": "stderr",
     "output_type": "stream",
     "text": [
      "Eval progress: 100%|██████████| 157/157 [00:23<00:00,  6.61batch/s]\n"
     ]
    },
    {
     "name": "stdout",
     "output_type": "stream",
     "text": [
      "🔍 Validation Results:\n",
      "\t📉 Validation Loss: 0.5819\n",
      "\t🎯 Validation Accuracy: 84.13%\n",
      "\n",
      "💾 Saved checkpoint at: /home/massimiliano/Projects/fl-g13/checkpoints/BaseDino/archeops_BaseDino_epoch_9.pth\n",
      "💾 Saved losses and accuracies (training and validation) at: /home/massimiliano/Projects/fl-g13/checkpoints/BaseDino/archeops_BaseDino_epoch_9.loss_acc.json\n",
      "\n"
     ]
    },
    {
     "name": "stderr",
     "output_type": "stream",
     "text": [
      "Training progress: 100%|██████████| 625/625 [03:39<00:00,  2.85batch/s]\n"
     ]
    },
    {
     "name": "stdout",
     "output_type": "stream",
     "text": [
      "🚀 Epoch 10/50 (20.00%) Completed\n",
      "\t📊 Training Loss: 0.0356\n",
      "\t✅ Training Accuracy: 99.35%\n",
      "\t⏳ Elapsed Time: 219.43s | ETA: 8777.04s\n",
      "\t🕒 Completed At: 17:50\n"
     ]
    },
    {
     "name": "stderr",
     "output_type": "stream",
     "text": [
      "Eval progress: 100%|██████████| 157/157 [00:23<00:00,  6.62batch/s]\n"
     ]
    },
    {
     "name": "stdout",
     "output_type": "stream",
     "text": [
      "🔍 Validation Results:\n",
      "\t📉 Validation Loss: 0.5905\n",
      "\t🎯 Validation Accuracy: 84.20%\n",
      "\n",
      "💾 Saved checkpoint at: /home/massimiliano/Projects/fl-g13/checkpoints/BaseDino/archeops_BaseDino_epoch_10.pth\n",
      "💾 Saved losses and accuracies (training and validation) at: /home/massimiliano/Projects/fl-g13/checkpoints/BaseDino/archeops_BaseDino_epoch_10.loss_acc.json\n",
      "\n",
      "Running backup for epoch 10\n",
      "💾 Saved checkpoint at: /home/massimiliano/Projects/fl-g13/checkpoints/backup/BaseDino/backup_20250507_175108_archeops_BaseDino_epoch_10.pth\n",
      "💾 Saved losses and accuracies (training and validation) at: /home/massimiliano/Projects/fl-g13/checkpoints/backup/BaseDino/backup_20250507_175108_archeops_BaseDino_epoch_10.loss_acc.json\n",
      "\n"
     ]
    },
    {
     "name": "stderr",
     "output_type": "stream",
     "text": [
      "Training progress: 100%|██████████| 625/625 [03:40<00:00,  2.83batch/s]\n"
     ]
    },
    {
     "name": "stdout",
     "output_type": "stream",
     "text": [
      "🚀 Epoch 11/50 (22.00%) Completed\n",
      "\t📊 Training Loss: 0.0361\n",
      "\t✅ Training Accuracy: 99.33%\n",
      "\t⏳ Elapsed Time: 220.54s | ETA: 8601.22s\n",
      "\t🕒 Completed At: 17:54\n"
     ]
    },
    {
     "name": "stderr",
     "output_type": "stream",
     "text": [
      "Eval progress: 100%|██████████| 157/157 [00:23<00:00,  6.61batch/s]\n"
     ]
    },
    {
     "name": "stdout",
     "output_type": "stream",
     "text": [
      "🔍 Validation Results:\n",
      "\t📉 Validation Loss: 0.5979\n",
      "\t🎯 Validation Accuracy: 83.70%\n",
      "\n",
      "💾 Saved checkpoint at: /home/massimiliano/Projects/fl-g13/checkpoints/BaseDino/archeops_BaseDino_epoch_11.pth\n",
      "💾 Saved losses and accuracies (training and validation) at: /home/massimiliano/Projects/fl-g13/checkpoints/BaseDino/archeops_BaseDino_epoch_11.loss_acc.json\n",
      "\n"
     ]
    },
    {
     "name": "stderr",
     "output_type": "stream",
     "text": [
      "Training progress: 100%|██████████| 625/625 [03:42<00:00,  2.81batch/s]\n"
     ]
    },
    {
     "name": "stdout",
     "output_type": "stream",
     "text": [
      "🚀 Epoch 12/50 (24.00%) Completed\n",
      "\t📊 Training Loss: 0.0369\n",
      "\t✅ Training Accuracy: 99.22%\n",
      "\t⏳ Elapsed Time: 222.16s | ETA: 8442.17s\n",
      "\t🕒 Completed At: 17:58\n"
     ]
    },
    {
     "name": "stderr",
     "output_type": "stream",
     "text": [
      "Eval progress: 100%|██████████| 157/157 [00:23<00:00,  6.69batch/s]\n"
     ]
    },
    {
     "name": "stdout",
     "output_type": "stream",
     "text": [
      "🔍 Validation Results:\n",
      "\t📉 Validation Loss: 0.6262\n",
      "\t🎯 Validation Accuracy: 83.42%\n",
      "\n",
      "💾 Saved checkpoint at: /home/massimiliano/Projects/fl-g13/checkpoints/BaseDino/archeops_BaseDino_epoch_12.pth\n",
      "💾 Saved losses and accuracies (training and validation) at: /home/massimiliano/Projects/fl-g13/checkpoints/BaseDino/archeops_BaseDino_epoch_12.loss_acc.json\n",
      "\n"
     ]
    },
    {
     "name": "stderr",
     "output_type": "stream",
     "text": [
      "Training progress: 100%|██████████| 625/625 [03:43<00:00,  2.80batch/s]\n"
     ]
    },
    {
     "name": "stdout",
     "output_type": "stream",
     "text": [
      "🚀 Epoch 13/50 (26.00%) Completed\n",
      "\t📊 Training Loss: 0.0509\n",
      "\t✅ Training Accuracy: 98.62%\n",
      "\t⏳ Elapsed Time: 223.21s | ETA: 8258.62s\n",
      "\t🕒 Completed At: 18:03\n"
     ]
    },
    {
     "name": "stderr",
     "output_type": "stream",
     "text": [
      "Eval progress: 100%|██████████| 157/157 [00:23<00:00,  6.67batch/s]\n"
     ]
    },
    {
     "name": "stdout",
     "output_type": "stream",
     "text": [
      "🔍 Validation Results:\n",
      "\t📉 Validation Loss: 0.6901\n",
      "\t🎯 Validation Accuracy: 82.43%\n",
      "\n",
      "💾 Saved checkpoint at: /home/massimiliano/Projects/fl-g13/checkpoints/BaseDino/archeops_BaseDino_epoch_13.pth\n",
      "💾 Saved losses and accuracies (training and validation) at: /home/massimiliano/Projects/fl-g13/checkpoints/BaseDino/archeops_BaseDino_epoch_13.loss_acc.json\n",
      "\n"
     ]
    },
    {
     "name": "stderr",
     "output_type": "stream",
     "text": [
      "Training progress: 100%|██████████| 625/625 [03:44<00:00,  2.78batch/s]\n"
     ]
    },
    {
     "name": "stdout",
     "output_type": "stream",
     "text": [
      "🚀 Epoch 14/50 (28.00%) Completed\n",
      "\t📊 Training Loss: 0.1808\n",
      "\t✅ Training Accuracy: 94.09%\n",
      "\t⏳ Elapsed Time: 224.96s | ETA: 8098.40s\n",
      "\t🕒 Completed At: 18:07\n"
     ]
    },
    {
     "name": "stderr",
     "output_type": "stream",
     "text": [
      "Eval progress: 100%|██████████| 157/157 [00:23<00:00,  6.77batch/s]\n"
     ]
    },
    {
     "name": "stdout",
     "output_type": "stream",
     "text": [
      "🔍 Validation Results:\n",
      "\t📉 Validation Loss: 0.8710\n",
      "\t🎯 Validation Accuracy: 77.85%\n",
      "\n",
      "💾 Saved checkpoint at: /home/massimiliano/Projects/fl-g13/checkpoints/BaseDino/archeops_BaseDino_epoch_14.pth\n",
      "💾 Saved losses and accuracies (training and validation) at: /home/massimiliano/Projects/fl-g13/checkpoints/BaseDino/archeops_BaseDino_epoch_14.loss_acc.json\n",
      "\n"
     ]
    },
    {
     "name": "stderr",
     "output_type": "stream",
     "text": [
      "Training progress: 100%|██████████| 625/625 [03:41<00:00,  2.82batch/s]\n"
     ]
    },
    {
     "name": "stdout",
     "output_type": "stream",
     "text": [
      "🚀 Epoch 15/50 (30.00%) Completed\n",
      "\t📊 Training Loss: 0.3601\n",
      "\t✅ Training Accuracy: 88.28%\n",
      "\t⏳ Elapsed Time: 221.81s | ETA: 7763.21s\n",
      "\t🕒 Completed At: 18:11\n"
     ]
    },
    {
     "name": "stderr",
     "output_type": "stream",
     "text": [
      "Eval progress: 100%|██████████| 157/157 [00:23<00:00,  6.64batch/s]\n"
     ]
    },
    {
     "name": "stdout",
     "output_type": "stream",
     "text": [
      "🔍 Validation Results:\n",
      "\t📉 Validation Loss: 0.9279\n",
      "\t🎯 Validation Accuracy: 76.09%\n",
      "\n",
      "💾 Saved checkpoint at: /home/massimiliano/Projects/fl-g13/checkpoints/BaseDino/archeops_BaseDino_epoch_15.pth\n",
      "💾 Saved losses and accuracies (training and validation) at: /home/massimiliano/Projects/fl-g13/checkpoints/BaseDino/archeops_BaseDino_epoch_15.loss_acc.json\n",
      "\n"
     ]
    },
    {
     "name": "stderr",
     "output_type": "stream",
     "text": [
      "Training progress:   4%|▍         | 28/625 [00:10<03:40,  2.71batch/s]"
     ]
    },
    {
     "name": "stdout",
     "output_type": "stream",
     "text": [
      "Training interrupted manually.\n"
     ]
    },
    {
     "name": "stderr",
     "output_type": "stream",
     "text": [
      "\n"
     ]
    }
   ],
   "source": [
    "try:\n",
    "    _, _, _, _ = train(\n",
    "        checkpoint_dir=CHECKPOINT_DIR,\n",
    "        name=name,\n",
    "        start_epoch=start_epoch,\n",
    "        num_epochs=num_epochs,\n",
    "        save_every=save_every,\n",
    "        backup_every=backup_every,\n",
    "        train_dataloader=train_dataloader,\n",
    "        val_dataloader=val_dataloader,\n",
    "        model=model,\n",
    "        criterion=criterion,\n",
    "        optimizer=optimizer,\n",
    "        scheduler=scheduler,\n",
    "        verbose=1,\n",
    "        all_training_losses=all_training_losses,\n",
    "        all_validation_losses=all_validation_losses,\n",
    "        all_training_accuracies=all_training_accuracies,\n",
    "        all_validation_accuracies=all_validation_accuracies,\n",
    "    )\n",
    "\n",
    "except KeyboardInterrupt:\n",
    "    print(\"Training interrupted manually.\")\n",
    "\n",
    "except Exception as e:\n",
    "    print(f\"Training stopped due to error: {e}\")"
   ]
  },
  {
   "cell_type": "code",
   "execution_count": 6,
   "id": "93f32900",
   "metadata": {},
   "outputs": [
    {
     "data": {
      "image/png": "[encoded data removed]",
      "text/plain": [
       "<Figure size 1800x600 with 2 Axes>"
      ]
     },
     "metadata": {},
     "output_type": "display_data"
    }
   ],
   "source": [
    "import matplotlib.pyplot as plt\n",
    "%matplotlib inline\n",
    "\n",
    "# Plot losses\n",
    "plt.figure(figsize=(18, 6))\n",
    "plt.subplot(1, 2, 1)\n",
    "plt.plot(all_training_losses, label='Training Loss')\n",
    "plt.plot(all_validation_losses, label='Validation Loss')\n",
    "plt.xlabel('Epochs')\n",
    "plt.ylabel('Loss')\n",
    "plt.title('Loss vs Epochs')\n",
    "plt.legend()\n",
    "plt.grid(True)  # Add grid\n",
    "plt.xticks(range(0, len(all_training_losses)+1, 2), rotation=45)  # Skip every other tick\n",
    "\n",
    "# Plot accuracies\n",
    "plt.subplot(1, 2, 2)\n",
    "plt.plot(all_training_accuracies, label='Training Accuracy')\n",
    "plt.plot(all_validation_accuracies, label='Validation Accuracy')\n",
    "plt.xlabel('Epochs')\n",
    "plt.ylabel('Accuracy')\n",
    "plt.title('Accuracy vs Epochs')\n",
    "plt.legend()\n",
    "plt.grid(True)  # Add grid\n",
    "plt.xticks(range(0, len(all_training_accuracies)+1, 2), rotation=45)  # Skip every other tick\n",
    "\n",
    "plt.tight_layout()\n",
    "plt.show()"
   ]
  },
  {
   "cell_type": "code",
   "execution_count": 7,
   "id": "2d39924a",
   "metadata": {},
   "outputs": [
    {
     "name": "stderr",
     "output_type": "stream",
     "text": [
      "Eval progress: 100%|██████████| 157/157 [00:22<00:00,  6.94batch/s]"
     ]
    },
    {
     "name": "stdout",
     "output_type": "stream",
     "text": [
      "🔍 Test Results:\n",
      "\t📉 Test Loss: 0.8868\n",
      "\t🎯 Test Accuracy: 77.01%\n"
     ]
    },
    {
     "name": "stderr",
     "output_type": "stream",
     "text": [
      "\n"
     ]
    }
   ],
   "source": [
    "# Evaluate the model on the validation dataset\n",
    "test_loss, test_accuracy, _ = eval(dataloader=test_dataloader, model=model, criterion=criterion)\n",
    "\n",
    "print(\n",
    "    f\"🔍 Test Results:\\n\"\n",
    "    f\"\\t📉 Test Loss: {test_loss:.4f}\\n\"\n",
    "    f\"\\t🎯 Test Accuracy: {100 * test_accuracy:.2f}%\"\n",
    ")"
   ]
  },
  {
   "cell_type": "code",
   "execution_count": null,
   "id": "f2f3a86b",
   "metadata": {},
   "outputs": [],
   "source": []
  }
 ],
 "metadata": {
  "kernelspec": {
   "display_name": "fl-g13",
   "language": "python",
   "name": "python3"
  },
  "language_info": {
   "codemirror_mode": {
    "name": "ipython",
    "version": 3
   },
   "file_extension": ".py",
   "mimetype": "text/x-python",
   "name": "python",
   "nbconvert_exporter": "python",
   "pygments_lexer": "ipython3",
   "version": "3.11.11"
  }
 },
 "nbformat": 4,
 "nbformat_minor": 5
}
