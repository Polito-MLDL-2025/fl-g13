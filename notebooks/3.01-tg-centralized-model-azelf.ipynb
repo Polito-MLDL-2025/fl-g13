{
 "cells": [
  {
   "cell_type": "code",
   "execution_count": 1,
   "id": "ffbee39c",
   "metadata": {},
   "outputs": [],
   "source": [
    "%load_ext autoreload\n",
    "%autoreload 2"
   ]
  },
  {
   "cell_type": "code",
   "execution_count": null,
   "id": "b4f52dd8",
   "metadata": {},
   "outputs": [
    {
     "name": "stderr",
     "output_type": "stream",
     "text": [
      "\u001b[32m2025-06-24 10:12:57.013\u001b[0m | \u001b[1mINFO    \u001b[0m | \u001b[36mfl_g13.config\u001b[0m:\u001b[36m<module>\u001b[0m:\u001b[36m11\u001b[0m - \u001b[1mPROJ_ROOT path is: C:\\Users\\ciovi\\Desktop\\coding\\mldl\\fl-g13\u001b[0m\n"
     ]
    }
   ],
   "source": [
    "import torch\n",
    "from torch.nn import CrossEntropyLoss\n",
    "from torch.optim.lr_scheduler import CosineAnnealingLR\n",
    "from torch.utils.data import DataLoader\n",
    "\n",
    "from fl_g13.config import RAW_DATA_DIR\n",
    "from fl_g13.modeling import train, get_preprocessing_pipeline\n",
    "\n",
    "from fl_g13.architectures import BaseDino\n",
    "from fl_g13.editing import SparseSGDM\n",
    "\n",
    "import dotenv"
   ]
  },
  {
   "cell_type": "code",
   "execution_count": 3,
   "id": "77f11d5a",
   "metadata": {},
   "outputs": [
    {
     "name": "stdout",
     "output_type": "stream",
     "text": [
      "Train dataset size: 40000\n",
      "Validation dataset size: 10000\n",
      "Test dataset size: 10000\n"
     ]
    }
   ],
   "source": [
    "dotenv.load_dotenv()\n",
    "\n",
    "train_dataset, val_dataset, test_dataset = get_preprocessing_pipeline(RAW_DATA_DIR)\n",
    "\n",
    "print(f\"Train dataset size: {len(train_dataset)}\")\n",
    "print(f\"Validation dataset size: {len(val_dataset)}\")\n",
    "print(f\"Test dataset size: {len(test_dataset)}\")"
   ]
  },
  {
   "cell_type": "code",
   "execution_count": 4,
   "id": "349a5230",
   "metadata": {},
   "outputs": [
    {
     "name": "stdout",
     "output_type": "stream",
     "text": [
      "Using device: cuda\n"
     ]
    },
    {
     "name": "stderr",
     "output_type": "stream",
     "text": [
      "Using cache found in C:\\Users\\ciovi/.cache\\torch\\hub\\facebookresearch_dino_main\n"
     ]
    }
   ],
   "source": [
    "# Move to CUDA\n",
    "device = torch.device(\"cuda\" if torch.cuda.is_available() else \"cpu\")\n",
    "print(f\"Using device: {device}\")\n",
    "\n",
    "# Settings\n",
    "name=\"azelf\"\n",
    "CHECKPOINT_DIR = dotenv.dotenv_values()[\"CHECKPOINT_DIR\"]\n",
    "start_epoch = 1\n",
    "num_epochs = 30\n",
    "save_every = 1\n",
    "backup_every = None\n",
    "\n",
    "# Model Hyper-parameters\n",
    "head_layers = 3\n",
    "head_hidden_size = 512\n",
    "dropout_rate = 0.0\n",
    "unfreeze_blocks = 12\n",
    "\n",
    "# Training Hyper-parameters\n",
    "batch_size = 128\n",
    "lr = 1e-3\n",
    "momentum = 0.9\n",
    "weight_decay = 1e-5\n",
    "T_max = 8\n",
    "eta_min = 1e-5\n",
    "\n",
    "# Dataloaders\n",
    "train_dataloader = DataLoader(train_dataset, batch_size=batch_size, shuffle=True)\n",
    "val_dataloader = DataLoader(val_dataset, batch_size=batch_size, shuffle=False)\n",
    "test_dataloader = DataLoader(test_dataset, batch_size=batch_size, shuffle=False)\n",
    "\n",
    "# Model\n",
    "model = BaseDino(\n",
    "    head_layers=head_layers, \n",
    "    head_hidden_size=head_hidden_size, \n",
    "    dropout_rate=dropout_rate, \n",
    "    unfreeze_blocks=unfreeze_blocks\n",
    "    )\n",
    "model.to(device)\n",
    "\n",
    "# Optimizer, scheduler, and loss function\n",
    "mask = [torch.ones_like(p, device=p.device) for p in model.parameters()] # Must be done AFTER the model is moved to CUDA\n",
    "optimizer = SparseSGDM(\n",
    "    model.parameters(),\n",
    "    mask=mask,\n",
    "    lr=lr,\n",
    "    momentum=momentum,\n",
    "    weight_decay=weight_decay\n",
    "    )\n",
    "scheduler = CosineAnnealingLR(\n",
    "    optimizer=optimizer, \n",
    "    T_max=T_max, \n",
    "    eta_min=eta_min\n",
    "    )\n",
    "criterion = CrossEntropyLoss()\n",
    "\n",
    "all_training_losses=[]       # Pre-allocated list for training losses\n",
    "all_validation_losses=[]       # Pre-allocated list for validation losses\n",
    "all_training_accuracies=[]    # Pre-allocated list for training accuracies\n",
    "all_validation_accuracies=[]    # Pre-allocated list for validation accuracies"
   ]
  },
  {
   "cell_type": "code",
   "execution_count": 5,
   "id": "6feed087",
   "metadata": {},
   "outputs": [
    {
     "name": "stdout",
     "output_type": "stream",
     "text": [
      "Prefix/name for the model was provided: azelf\n"
     ]
    },
    {
     "name": "stderr",
     "output_type": "stream",
     "text": [
      "Training progress: 100%|██████████| 313/313 [02:46<00:00,  1.88batch/s]\n"
     ]
    },
    {
     "name": "stdout",
     "output_type": "stream",
     "text": [
      "🚀 Epoch 1/30 (3.33%) Completed\n",
      "\t📊 Training Loss: 3.3008\n",
      "\t✅ Training Accuracy: 23.04%\n",
      "\t⏳ Elapsed Time: 166.33s | ETA: 4823.52s\n",
      "\t🕒 Completed At: 10:15\n"
     ]
    },
    {
     "name": "stderr",
     "output_type": "stream",
     "text": [
      "Eval progress: 100%|██████████| 79/79 [00:25<00:00,  3.13batch/s]\n"
     ]
    },
    {
     "name": "stdout",
     "output_type": "stream",
     "text": [
      "🔍 Validation Results:\n",
      "\t📉 Validation Loss: 1.5595\n",
      "\t🎯 Validation Accuracy: 55.19%\n",
      "💾 Saved checkpoint at: /Users/ciovi/Desktop/coding/mldl/fl-g13/checkpoints/azelf\\azelf_BaseDino_epoch_1.pth\n",
      "💾 Saved losses and accuracies (training and validation) at: /Users/ciovi/Desktop/coding/mldl/fl-g13/checkpoints/azelf\\azelf_BaseDino_epoch_1.loss_acc.json\n",
      "\n"
     ]
    },
    {
     "name": "stderr",
     "output_type": "stream",
     "text": [
      "Training progress: 100%|██████████| 313/313 [02:46<00:00,  1.88batch/s]\n"
     ]
    },
    {
     "name": "stdout",
     "output_type": "stream",
     "text": [
      "🚀 Epoch 2/30 (6.67%) Completed\n",
      "\t📊 Training Loss: 1.1078\n",
      "\t✅ Training Accuracy: 67.86%\n",
      "\t⏳ Elapsed Time: 166.50s | ETA: 4662.12s\n",
      "\t🕒 Completed At: 10:19\n"
     ]
    },
    {
     "name": "stderr",
     "output_type": "stream",
     "text": [
      "Eval progress: 100%|██████████| 79/79 [00:25<00:00,  3.12batch/s]\n"
     ]
    },
    {
     "name": "stdout",
     "output_type": "stream",
     "text": [
      "🔍 Validation Results:\n",
      "\t📉 Validation Loss: 1.0253\n",
      "\t🎯 Validation Accuracy: 70.40%\n",
      "💾 Saved checkpoint at: /Users/ciovi/Desktop/coding/mldl/fl-g13/checkpoints/azelf\\azelf_BaseDino_epoch_2.pth\n",
      "💾 Saved losses and accuracies (training and validation) at: /Users/ciovi/Desktop/coding/mldl/fl-g13/checkpoints/azelf\\azelf_BaseDino_epoch_2.loss_acc.json\n",
      "\n"
     ]
    },
    {
     "name": "stderr",
     "output_type": "stream",
     "text": [
      "Training progress: 100%|██████████| 313/313 [02:46<00:00,  1.89batch/s]\n"
     ]
    },
    {
     "name": "stdout",
     "output_type": "stream",
     "text": [
      "🚀 Epoch 3/30 (10.00%) Completed\n",
      "\t📊 Training Loss: 0.6423\n",
      "\t✅ Training Accuracy: 80.12%\n",
      "\t⏳ Elapsed Time: 166.02s | ETA: 4482.65s\n",
      "\t🕒 Completed At: 10:22\n"
     ]
    },
    {
     "name": "stderr",
     "output_type": "stream",
     "text": [
      "Eval progress: 100%|██████████| 79/79 [00:25<00:00,  3.13batch/s]\n"
     ]
    },
    {
     "name": "stdout",
     "output_type": "stream",
     "text": [
      "🔍 Validation Results:\n",
      "\t📉 Validation Loss: 0.8224\n",
      "\t🎯 Validation Accuracy: 75.93%\n",
      "💾 Saved checkpoint at: /Users/ciovi/Desktop/coding/mldl/fl-g13/checkpoints/azelf\\azelf_BaseDino_epoch_3.pth\n",
      "💾 Saved losses and accuracies (training and validation) at: /Users/ciovi/Desktop/coding/mldl/fl-g13/checkpoints/azelf\\azelf_BaseDino_epoch_3.loss_acc.json\n",
      "\n"
     ]
    },
    {
     "name": "stderr",
     "output_type": "stream",
     "text": [
      "Training progress: 100%|██████████| 313/313 [02:46<00:00,  1.88batch/s]\n"
     ]
    },
    {
     "name": "stdout",
     "output_type": "stream",
     "text": [
      "🚀 Epoch 4/30 (13.33%) Completed\n",
      "\t📊 Training Loss: 0.3708\n",
      "\t✅ Training Accuracy: 88.17%\n",
      "\t⏳ Elapsed Time: 166.11s | ETA: 4318.86s\n",
      "\t🕒 Completed At: 10:25\n"
     ]
    },
    {
     "name": "stderr",
     "output_type": "stream",
     "text": [
      "Eval progress: 100%|██████████| 79/79 [00:25<00:00,  3.13batch/s]\n"
     ]
    },
    {
     "name": "stdout",
     "output_type": "stream",
     "text": [
      "🔍 Validation Results:\n",
      "\t📉 Validation Loss: 0.6938\n",
      "\t🎯 Validation Accuracy: 79.64%\n",
      "💾 Saved checkpoint at: /Users/ciovi/Desktop/coding/mldl/fl-g13/checkpoints/azelf\\azelf_BaseDino_epoch_4.pth\n",
      "💾 Saved losses and accuracies (training and validation) at: /Users/ciovi/Desktop/coding/mldl/fl-g13/checkpoints/azelf\\azelf_BaseDino_epoch_4.loss_acc.json\n",
      "\n"
     ]
    },
    {
     "name": "stderr",
     "output_type": "stream",
     "text": [
      "Training progress: 100%|██████████| 313/313 [02:46<00:00,  1.88batch/s]\n"
     ]
    },
    {
     "name": "stdout",
     "output_type": "stream",
     "text": [
      "🚀 Epoch 5/30 (16.67%) Completed\n",
      "\t📊 Training Loss: 0.1990\n",
      "\t✅ Training Accuracy: 93.58%\n",
      "\t⏳ Elapsed Time: 166.07s | ETA: 4151.75s\n",
      "\t🕒 Completed At: 10:28\n"
     ]
    },
    {
     "name": "stderr",
     "output_type": "stream",
     "text": [
      "Eval progress: 100%|██████████| 79/79 [00:25<00:00,  3.14batch/s]\n"
     ]
    },
    {
     "name": "stdout",
     "output_type": "stream",
     "text": [
      "🔍 Validation Results:\n",
      "\t📉 Validation Loss: 0.6140\n",
      "\t🎯 Validation Accuracy: 82.45%\n",
      "💾 Saved checkpoint at: /Users/ciovi/Desktop/coding/mldl/fl-g13/checkpoints/azelf\\azelf_BaseDino_epoch_5.pth\n",
      "💾 Saved losses and accuracies (training and validation) at: /Users/ciovi/Desktop/coding/mldl/fl-g13/checkpoints/azelf\\azelf_BaseDino_epoch_5.loss_acc.json\n",
      "\n"
     ]
    },
    {
     "name": "stderr",
     "output_type": "stream",
     "text": [
      "Training progress: 100%|██████████| 313/313 [02:46<00:00,  1.89batch/s]\n"
     ]
    },
    {
     "name": "stdout",
     "output_type": "stream",
     "text": [
      "🚀 Epoch 6/30 (20.00%) Completed\n",
      "\t📊 Training Loss: 0.0941\n",
      "\t✅ Training Accuracy: 97.37%\n",
      "\t⏳ Elapsed Time: 166.03s | ETA: 3984.78s\n",
      "\t🕒 Completed At: 10:31\n"
     ]
    },
    {
     "name": "stderr",
     "output_type": "stream",
     "text": [
      "Eval progress: 100%|██████████| 79/79 [00:25<00:00,  3.13batch/s]\n"
     ]
    },
    {
     "name": "stdout",
     "output_type": "stream",
     "text": [
      "🔍 Validation Results:\n",
      "\t📉 Validation Loss: 0.5671\n",
      "\t🎯 Validation Accuracy: 84.18%\n",
      "💾 Saved checkpoint at: /Users/ciovi/Desktop/coding/mldl/fl-g13/checkpoints/azelf\\azelf_BaseDino_epoch_6.pth\n",
      "💾 Saved losses and accuracies (training and validation) at: /Users/ciovi/Desktop/coding/mldl/fl-g13/checkpoints/azelf\\azelf_BaseDino_epoch_6.loss_acc.json\n",
      "\n"
     ]
    },
    {
     "name": "stderr",
     "output_type": "stream",
     "text": [
      "Training progress: 100%|██████████| 313/313 [02:46<00:00,  1.88batch/s]\n"
     ]
    },
    {
     "name": "stdout",
     "output_type": "stream",
     "text": [
      "🚀 Epoch 7/30 (23.33%) Completed\n",
      "\t📊 Training Loss: 0.0533\n",
      "\t✅ Training Accuracy: 98.77%\n",
      "\t⏳ Elapsed Time: 166.11s | ETA: 3820.61s\n",
      "\t🕒 Completed At: 10:35\n"
     ]
    },
    {
     "name": "stderr",
     "output_type": "stream",
     "text": [
      "Eval progress: 100%|██████████| 79/79 [00:25<00:00,  3.13batch/s]\n"
     ]
    },
    {
     "name": "stdout",
     "output_type": "stream",
     "text": [
      "🔍 Validation Results:\n",
      "\t📉 Validation Loss: 0.5412\n",
      "\t🎯 Validation Accuracy: 85.00%\n",
      "💾 Saved checkpoint at: /Users/ciovi/Desktop/coding/mldl/fl-g13/checkpoints/azelf\\azelf_BaseDino_epoch_7.pth\n",
      "💾 Saved losses and accuracies (training and validation) at: /Users/ciovi/Desktop/coding/mldl/fl-g13/checkpoints/azelf\\azelf_BaseDino_epoch_7.loss_acc.json\n",
      "\n"
     ]
    },
    {
     "name": "stderr",
     "output_type": "stream",
     "text": [
      "Training progress: 100%|██████████| 313/313 [02:46<00:00,  1.88batch/s]\n"
     ]
    },
    {
     "name": "stdout",
     "output_type": "stream",
     "text": [
      "🚀 Epoch 8/30 (26.67%) Completed\n",
      "\t📊 Training Loss: 0.0391\n",
      "\t✅ Training Accuracy: 99.28%\n",
      "\t⏳ Elapsed Time: 166.37s | ETA: 3660.05s\n",
      "\t🕒 Completed At: 10:38\n"
     ]
    },
    {
     "name": "stderr",
     "output_type": "stream",
     "text": [
      "Eval progress: 100%|██████████| 79/79 [00:25<00:00,  3.14batch/s]\n"
     ]
    },
    {
     "name": "stdout",
     "output_type": "stream",
     "text": [
      "🔍 Validation Results:\n",
      "\t📉 Validation Loss: 0.5329\n",
      "\t🎯 Validation Accuracy: 85.26%\n",
      "💾 Saved checkpoint at: /Users/ciovi/Desktop/coding/mldl/fl-g13/checkpoints/azelf\\azelf_BaseDino_epoch_8.pth\n",
      "💾 Saved losses and accuracies (training and validation) at: /Users/ciovi/Desktop/coding/mldl/fl-g13/checkpoints/azelf\\azelf_BaseDino_epoch_8.loss_acc.json\n",
      "\n"
     ]
    },
    {
     "name": "stderr",
     "output_type": "stream",
     "text": [
      "Training progress: 100%|██████████| 313/313 [02:45<00:00,  1.89batch/s]\n"
     ]
    },
    {
     "name": "stdout",
     "output_type": "stream",
     "text": [
      "🚀 Epoch 9/30 (30.00%) Completed\n",
      "\t📊 Training Loss: 0.0350\n",
      "\t✅ Training Accuracy: 99.48%\n",
      "\t⏳ Elapsed Time: 165.86s | ETA: 3483.09s\n",
      "\t🕒 Completed At: 10:41\n"
     ]
    },
    {
     "name": "stderr",
     "output_type": "stream",
     "text": [
      "Eval progress: 100%|██████████| 79/79 [00:25<00:00,  3.14batch/s]\n"
     ]
    },
    {
     "name": "stdout",
     "output_type": "stream",
     "text": [
      "🔍 Validation Results:\n",
      "\t📉 Validation Loss: 0.5351\n",
      "\t🎯 Validation Accuracy: 85.40%\n",
      "💾 Saved checkpoint at: /Users/ciovi/Desktop/coding/mldl/fl-g13/checkpoints/azelf\\azelf_BaseDino_epoch_9.pth\n",
      "💾 Saved losses and accuracies (training and validation) at: /Users/ciovi/Desktop/coding/mldl/fl-g13/checkpoints/azelf\\azelf_BaseDino_epoch_9.loss_acc.json\n",
      "\n"
     ]
    },
    {
     "name": "stderr",
     "output_type": "stream",
     "text": [
      "Training progress: 100%|██████████| 313/313 [02:45<00:00,  1.89batch/s]\n"
     ]
    },
    {
     "name": "stdout",
     "output_type": "stream",
     "text": [
      "🚀 Epoch 10/30 (33.33%) Completed\n",
      "\t📊 Training Loss: 0.0344\n",
      "\t✅ Training Accuracy: 99.43%\n",
      "\t⏳ Elapsed Time: 165.85s | ETA: 3317.06s\n",
      "\t🕒 Completed At: 10:44\n"
     ]
    },
    {
     "name": "stderr",
     "output_type": "stream",
     "text": [
      "Eval progress: 100%|██████████| 79/79 [00:25<00:00,  3.14batch/s]\n"
     ]
    },
    {
     "name": "stdout",
     "output_type": "stream",
     "text": [
      "🔍 Validation Results:\n",
      "\t📉 Validation Loss: 0.5447\n",
      "\t🎯 Validation Accuracy: 85.21%\n",
      "💾 Saved checkpoint at: /Users/ciovi/Desktop/coding/mldl/fl-g13/checkpoints/azelf\\azelf_BaseDino_epoch_10.pth\n",
      "💾 Saved losses and accuracies (training and validation) at: /Users/ciovi/Desktop/coding/mldl/fl-g13/checkpoints/azelf\\azelf_BaseDino_epoch_10.loss_acc.json\n",
      "\n"
     ]
    },
    {
     "name": "stderr",
     "output_type": "stream",
     "text": [
      "Training progress: 100%|██████████| 313/313 [02:45<00:00,  1.89batch/s]\n"
     ]
    },
    {
     "name": "stdout",
     "output_type": "stream",
     "text": [
      "🚀 Epoch 11/30 (36.67%) Completed\n",
      "\t📊 Training Loss: 0.0352\n",
      "\t✅ Training Accuracy: 99.38%\n",
      "\t⏳ Elapsed Time: 165.81s | ETA: 3150.41s\n",
      "\t🕒 Completed At: 10:47\n"
     ]
    },
    {
     "name": "stderr",
     "output_type": "stream",
     "text": [
      "Eval progress: 100%|██████████| 79/79 [00:25<00:00,  3.15batch/s]\n"
     ]
    },
    {
     "name": "stdout",
     "output_type": "stream",
     "text": [
      "🔍 Validation Results:\n",
      "\t📉 Validation Loss: 0.5394\n",
      "\t🎯 Validation Accuracy: 85.14%\n",
      "💾 Saved checkpoint at: /Users/ciovi/Desktop/coding/mldl/fl-g13/checkpoints/azelf\\azelf_BaseDino_epoch_11.pth\n",
      "💾 Saved losses and accuracies (training and validation) at: /Users/ciovi/Desktop/coding/mldl/fl-g13/checkpoints/azelf\\azelf_BaseDino_epoch_11.loss_acc.json\n",
      "\n"
     ]
    },
    {
     "name": "stderr",
     "output_type": "stream",
     "text": [
      "Training progress: 100%|██████████| 313/313 [02:45<00:00,  1.89batch/s]\n"
     ]
    },
    {
     "name": "stdout",
     "output_type": "stream",
     "text": [
      "🚀 Epoch 12/30 (40.00%) Completed\n",
      "\t📊 Training Loss: 0.0366\n",
      "\t✅ Training Accuracy: 99.27%\n",
      "\t⏳ Elapsed Time: 165.81s | ETA: 2984.65s\n",
      "\t🕒 Completed At: 10:50\n"
     ]
    },
    {
     "name": "stderr",
     "output_type": "stream",
     "text": [
      "Eval progress: 100%|██████████| 79/79 [00:25<00:00,  3.14batch/s]\n"
     ]
    },
    {
     "name": "stdout",
     "output_type": "stream",
     "text": [
      "🔍 Validation Results:\n",
      "\t📉 Validation Loss: 0.5688\n",
      "\t🎯 Validation Accuracy: 84.90%\n",
      "💾 Saved checkpoint at: /Users/ciovi/Desktop/coding/mldl/fl-g13/checkpoints/azelf\\azelf_BaseDino_epoch_12.pth\n",
      "💾 Saved losses and accuracies (training and validation) at: /Users/ciovi/Desktop/coding/mldl/fl-g13/checkpoints/azelf\\azelf_BaseDino_epoch_12.loss_acc.json\n",
      "\n"
     ]
    },
    {
     "name": "stderr",
     "output_type": "stream",
     "text": [
      "Training progress: 100%|██████████| 313/313 [02:45<00:00,  1.89batch/s]\n"
     ]
    },
    {
     "name": "stdout",
     "output_type": "stream",
     "text": [
      "🚀 Epoch 13/30 (43.33%) Completed\n",
      "\t📊 Training Loss: 0.0430\n",
      "\t✅ Training Accuracy: 98.92%\n",
      "\t⏳ Elapsed Time: 165.69s | ETA: 2816.70s\n",
      "\t🕒 Completed At: 10:54\n"
     ]
    },
    {
     "name": "stderr",
     "output_type": "stream",
     "text": [
      "Eval progress: 100%|██████████| 79/79 [00:25<00:00,  3.14batch/s]\n"
     ]
    },
    {
     "name": "stdout",
     "output_type": "stream",
     "text": [
      "🔍 Validation Results:\n",
      "\t📉 Validation Loss: 0.6226\n",
      "\t🎯 Validation Accuracy: 83.88%\n",
      "💾 Saved checkpoint at: /Users/ciovi/Desktop/coding/mldl/fl-g13/checkpoints/azelf\\azelf_BaseDino_epoch_13.pth\n",
      "💾 Saved losses and accuracies (training and validation) at: /Users/ciovi/Desktop/coding/mldl/fl-g13/checkpoints/azelf\\azelf_BaseDino_epoch_13.loss_acc.json\n",
      "\n"
     ]
    },
    {
     "name": "stderr",
     "output_type": "stream",
     "text": [
      "Training progress: 100%|██████████| 313/313 [02:45<00:00,  1.89batch/s]\n"
     ]
    },
    {
     "name": "stdout",
     "output_type": "stream",
     "text": [
      "🚀 Epoch 14/30 (46.67%) Completed\n",
      "\t📊 Training Loss: 0.0669\n",
      "\t✅ Training Accuracy: 98.06%\n",
      "\t⏳ Elapsed Time: 165.86s | ETA: 2653.74s\n",
      "\t🕒 Completed At: 10:57\n"
     ]
    },
    {
     "name": "stderr",
     "output_type": "stream",
     "text": [
      "Eval progress: 100%|██████████| 79/79 [00:25<00:00,  3.14batch/s]\n"
     ]
    },
    {
     "name": "stdout",
     "output_type": "stream",
     "text": [
      "🔍 Validation Results:\n",
      "\t📉 Validation Loss: 0.7211\n",
      "\t🎯 Validation Accuracy: 82.00%\n",
      "💾 Saved checkpoint at: /Users/ciovi/Desktop/coding/mldl/fl-g13/checkpoints/azelf\\azelf_BaseDino_epoch_14.pth\n",
      "💾 Saved losses and accuracies (training and validation) at: /Users/ciovi/Desktop/coding/mldl/fl-g13/checkpoints/azelf\\azelf_BaseDino_epoch_14.loss_acc.json\n",
      "\n"
     ]
    },
    {
     "name": "stderr",
     "output_type": "stream",
     "text": [
      "Training progress: 100%|██████████| 313/313 [02:45<00:00,  1.89batch/s]\n"
     ]
    },
    {
     "name": "stdout",
     "output_type": "stream",
     "text": [
      "🚀 Epoch 15/30 (50.00%) Completed\n",
      "\t📊 Training Loss: 0.1420\n",
      "\t✅ Training Accuracy: 95.44%\n",
      "\t⏳ Elapsed Time: 165.64s | ETA: 2484.65s\n",
      "\t🕒 Completed At: 11:00\n"
     ]
    },
    {
     "name": "stderr",
     "output_type": "stream",
     "text": [
      "Eval progress: 100%|██████████| 79/79 [00:25<00:00,  3.14batch/s]\n"
     ]
    },
    {
     "name": "stdout",
     "output_type": "stream",
     "text": [
      "🔍 Validation Results:\n",
      "\t📉 Validation Loss: 0.8256\n",
      "\t🎯 Validation Accuracy: 78.85%\n",
      "💾 Saved checkpoint at: /Users/ciovi/Desktop/coding/mldl/fl-g13/checkpoints/azelf\\azelf_BaseDino_epoch_15.pth\n",
      "💾 Saved losses and accuracies (training and validation) at: /Users/ciovi/Desktop/coding/mldl/fl-g13/checkpoints/azelf\\azelf_BaseDino_epoch_15.loss_acc.json\n",
      "\n"
     ]
    },
    {
     "name": "stderr",
     "output_type": "stream",
     "text": [
      "Training progress: 100%|██████████| 313/313 [02:45<00:00,  1.89batch/s]\n"
     ]
    },
    {
     "name": "stdout",
     "output_type": "stream",
     "text": [
      "🚀 Epoch 16/30 (53.33%) Completed\n",
      "\t📊 Training Loss: 0.2393\n",
      "\t✅ Training Accuracy: 92.24%\n",
      "\t⏳ Elapsed Time: 165.91s | ETA: 2322.71s\n",
      "\t🕒 Completed At: 11:03\n"
     ]
    },
    {
     "name": "stderr",
     "output_type": "stream",
     "text": [
      "Eval progress: 100%|██████████| 79/79 [00:25<00:00,  3.13batch/s]\n"
     ]
    },
    {
     "name": "stdout",
     "output_type": "stream",
     "text": [
      "🔍 Validation Results:\n",
      "\t📉 Validation Loss: 0.8245\n",
      "\t🎯 Validation Accuracy: 78.76%\n",
      "💾 Saved checkpoint at: /Users/ciovi/Desktop/coding/mldl/fl-g13/checkpoints/azelf\\azelf_BaseDino_epoch_16.pth\n",
      "💾 Saved losses and accuracies (training and validation) at: /Users/ciovi/Desktop/coding/mldl/fl-g13/checkpoints/azelf\\azelf_BaseDino_epoch_16.loss_acc.json\n",
      "\n"
     ]
    },
    {
     "name": "stderr",
     "output_type": "stream",
     "text": [
      "Training progress: 100%|██████████| 313/313 [02:45<00:00,  1.89batch/s]\n"
     ]
    },
    {
     "name": "stdout",
     "output_type": "stream",
     "text": [
      "🚀 Epoch 17/30 (56.67%) Completed\n",
      "\t📊 Training Loss: 0.2102\n",
      "\t✅ Training Accuracy: 93.09%\n",
      "\t⏳ Elapsed Time: 165.81s | ETA: 2155.54s\n",
      "\t🕒 Completed At: 11:06\n"
     ]
    },
    {
     "name": "stderr",
     "output_type": "stream",
     "text": [
      "Eval progress: 100%|██████████| 79/79 [00:25<00:00,  3.13batch/s]\n"
     ]
    },
    {
     "name": "stdout",
     "output_type": "stream",
     "text": [
      "🔍 Validation Results:\n",
      "\t📉 Validation Loss: 0.8695\n",
      "\t🎯 Validation Accuracy: 78.30%\n",
      "💾 Saved checkpoint at: /Users/ciovi/Desktop/coding/mldl/fl-g13/checkpoints/azelf\\azelf_BaseDino_epoch_17.pth\n",
      "💾 Saved losses and accuracies (training and validation) at: /Users/ciovi/Desktop/coding/mldl/fl-g13/checkpoints/azelf\\azelf_BaseDino_epoch_17.loss_acc.json\n",
      "\n"
     ]
    },
    {
     "name": "stderr",
     "output_type": "stream",
     "text": [
      "Training progress: 100%|██████████| 313/313 [02:45<00:00,  1.89batch/s]\n"
     ]
    },
    {
     "name": "stdout",
     "output_type": "stream",
     "text": [
      "🚀 Epoch 18/30 (60.00%) Completed\n",
      "\t📊 Training Loss: 0.1438\n",
      "\t✅ Training Accuracy: 95.21%\n",
      "\t⏳ Elapsed Time: 165.84s | ETA: 1990.05s\n",
      "\t🕒 Completed At: 11:10\n"
     ]
    },
    {
     "name": "stderr",
     "output_type": "stream",
     "text": [
      "Eval progress: 100%|██████████| 79/79 [00:25<00:00,  3.14batch/s]\n"
     ]
    },
    {
     "name": "stdout",
     "output_type": "stream",
     "text": [
      "🔍 Validation Results:\n",
      "\t📉 Validation Loss: 0.7974\n",
      "\t🎯 Validation Accuracy: 80.77%\n",
      "💾 Saved checkpoint at: /Users/ciovi/Desktop/coding/mldl/fl-g13/checkpoints/azelf\\azelf_BaseDino_epoch_18.pth\n",
      "💾 Saved losses and accuracies (training and validation) at: /Users/ciovi/Desktop/coding/mldl/fl-g13/checkpoints/azelf\\azelf_BaseDino_epoch_18.loss_acc.json\n",
      "\n"
     ]
    },
    {
     "name": "stderr",
     "output_type": "stream",
     "text": [
      "Training progress: 100%|██████████| 313/313 [02:45<00:00,  1.89batch/s]\n"
     ]
    },
    {
     "name": "stdout",
     "output_type": "stream",
     "text": [
      "🚀 Epoch 19/30 (63.33%) Completed\n",
      "\t📊 Training Loss: 0.0704\n",
      "\t✅ Training Accuracy: 97.84%\n",
      "\t⏳ Elapsed Time: 165.95s | ETA: 1825.46s\n",
      "\t🕒 Completed At: 11:13\n"
     ]
    },
    {
     "name": "stderr",
     "output_type": "stream",
     "text": [
      "Eval progress: 100%|██████████| 79/79 [00:25<00:00,  3.13batch/s]\n"
     ]
    },
    {
     "name": "stdout",
     "output_type": "stream",
     "text": [
      "🔍 Validation Results:\n",
      "\t📉 Validation Loss: 0.7731\n",
      "\t🎯 Validation Accuracy: 81.56%\n",
      "💾 Saved checkpoint at: /Users/ciovi/Desktop/coding/mldl/fl-g13/checkpoints/azelf\\azelf_BaseDino_epoch_19.pth\n",
      "💾 Saved losses and accuracies (training and validation) at: /Users/ciovi/Desktop/coding/mldl/fl-g13/checkpoints/azelf\\azelf_BaseDino_epoch_19.loss_acc.json\n",
      "\n"
     ]
    },
    {
     "name": "stderr",
     "output_type": "stream",
     "text": [
      "Training progress: 100%|██████████| 313/313 [02:45<00:00,  1.89batch/s]\n"
     ]
    },
    {
     "name": "stdout",
     "output_type": "stream",
     "text": [
      "🚀 Epoch 20/30 (66.67%) Completed\n",
      "\t📊 Training Loss: 0.0287\n",
      "\t✅ Training Accuracy: 99.20%\n",
      "\t⏳ Elapsed Time: 165.86s | ETA: 1658.62s\n",
      "\t🕒 Completed At: 11:16\n"
     ]
    },
    {
     "name": "stderr",
     "output_type": "stream",
     "text": [
      "Eval progress: 100%|██████████| 79/79 [00:25<00:00,  3.14batch/s]\n"
     ]
    },
    {
     "name": "stdout",
     "output_type": "stream",
     "text": [
      "🔍 Validation Results:\n",
      "\t📉 Validation Loss: 0.7031\n",
      "\t🎯 Validation Accuracy: 83.69%\n",
      "💾 Saved checkpoint at: /Users/ciovi/Desktop/coding/mldl/fl-g13/checkpoints/azelf\\azelf_BaseDino_epoch_20.pth\n",
      "💾 Saved losses and accuracies (training and validation) at: /Users/ciovi/Desktop/coding/mldl/fl-g13/checkpoints/azelf\\azelf_BaseDino_epoch_20.loss_acc.json\n",
      "\n"
     ]
    },
    {
     "name": "stderr",
     "output_type": "stream",
     "text": [
      "Training progress: 100%|██████████| 313/313 [02:44<00:00,  1.90batch/s]\n"
     ]
    },
    {
     "name": "stdout",
     "output_type": "stream",
     "text": [
      "🚀 Epoch 21/30 (70.00%) Completed\n",
      "\t📊 Training Loss: 0.0105\n",
      "\t✅ Training Accuracy: 99.85%\n",
      "\t⏳ Elapsed Time: 164.51s | ETA: 1480.61s\n",
      "\t🕒 Completed At: 11:19\n"
     ]
    },
    {
     "name": "stderr",
     "output_type": "stream",
     "text": [
      "Eval progress: 100%|██████████| 79/79 [00:24<00:00,  3.19batch/s]\n"
     ]
    },
    {
     "name": "stdout",
     "output_type": "stream",
     "text": [
      "🔍 Validation Results:\n",
      "\t📉 Validation Loss: 0.6566\n",
      "\t🎯 Validation Accuracy: 84.93%\n",
      "💾 Saved checkpoint at: /Users/ciovi/Desktop/coding/mldl/fl-g13/checkpoints/azelf\\azelf_BaseDino_epoch_21.pth\n",
      "💾 Saved losses and accuracies (training and validation) at: /Users/ciovi/Desktop/coding/mldl/fl-g13/checkpoints/azelf\\azelf_BaseDino_epoch_21.loss_acc.json\n",
      "\n"
     ]
    },
    {
     "name": "stderr",
     "output_type": "stream",
     "text": [
      "Training progress: 100%|██████████| 313/313 [02:44<00:00,  1.91batch/s]\n"
     ]
    },
    {
     "name": "stdout",
     "output_type": "stream",
     "text": [
      "🚀 Epoch 22/30 (73.33%) Completed\n",
      "\t📊 Training Loss: 0.0061\n",
      "\t✅ Training Accuracy: 99.89%\n",
      "\t⏳ Elapsed Time: 164.05s | ETA: 1312.40s\n",
      "\t🕒 Completed At: 11:22\n"
     ]
    },
    {
     "name": "stderr",
     "output_type": "stream",
     "text": [
      "Eval progress: 100%|██████████| 79/79 [00:24<00:00,  3.20batch/s]\n"
     ]
    },
    {
     "name": "stdout",
     "output_type": "stream",
     "text": [
      "🔍 Validation Results:\n",
      "\t📉 Validation Loss: 0.6365\n",
      "\t🎯 Validation Accuracy: 85.43%\n",
      "💾 Saved checkpoint at: /Users/ciovi/Desktop/coding/mldl/fl-g13/checkpoints/azelf\\azelf_BaseDino_epoch_22.pth\n",
      "💾 Saved losses and accuracies (training and validation) at: /Users/ciovi/Desktop/coding/mldl/fl-g13/checkpoints/azelf\\azelf_BaseDino_epoch_22.loss_acc.json\n",
      "\n"
     ]
    },
    {
     "name": "stderr",
     "output_type": "stream",
     "text": [
      "Training progress: 100%|██████████| 313/313 [02:43<00:00,  1.91batch/s]\n"
     ]
    },
    {
     "name": "stdout",
     "output_type": "stream",
     "text": [
      "🚀 Epoch 23/30 (76.67%) Completed\n",
      "\t📊 Training Loss: 0.0043\n",
      "\t✅ Training Accuracy: 99.92%\n",
      "\t⏳ Elapsed Time: 163.97s | ETA: 1147.79s\n",
      "\t🕒 Completed At: 11:25\n"
     ]
    },
    {
     "name": "stderr",
     "output_type": "stream",
     "text": [
      "Eval progress: 100%|██████████| 79/79 [00:24<00:00,  3.20batch/s]\n"
     ]
    },
    {
     "name": "stdout",
     "output_type": "stream",
     "text": [
      "🔍 Validation Results:\n",
      "\t📉 Validation Loss: 0.6183\n",
      "\t🎯 Validation Accuracy: 85.63%\n",
      "💾 Saved checkpoint at: /Users/ciovi/Desktop/coding/mldl/fl-g13/checkpoints/azelf\\azelf_BaseDino_epoch_23.pth\n",
      "💾 Saved losses and accuracies (training and validation) at: /Users/ciovi/Desktop/coding/mldl/fl-g13/checkpoints/azelf\\azelf_BaseDino_epoch_23.loss_acc.json\n",
      "\n"
     ]
    },
    {
     "name": "stderr",
     "output_type": "stream",
     "text": [
      "Training progress: 100%|██████████| 313/313 [02:43<00:00,  1.91batch/s]\n"
     ]
    },
    {
     "name": "stdout",
     "output_type": "stream",
     "text": [
      "🚀 Epoch 24/30 (80.00%) Completed\n",
      "\t📊 Training Loss: 0.0039\n",
      "\t✅ Training Accuracy: 99.94%\n",
      "\t⏳ Elapsed Time: 163.97s | ETA: 983.84s\n",
      "\t🕒 Completed At: 11:29\n"
     ]
    },
    {
     "name": "stderr",
     "output_type": "stream",
     "text": [
      "Eval progress: 100%|██████████| 79/79 [00:24<00:00,  3.19batch/s]\n"
     ]
    },
    {
     "name": "stdout",
     "output_type": "stream",
     "text": [
      "🔍 Validation Results:\n",
      "\t📉 Validation Loss: 0.6488\n",
      "\t🎯 Validation Accuracy: 85.29%\n",
      "💾 Saved checkpoint at: /Users/ciovi/Desktop/coding/mldl/fl-g13/checkpoints/azelf\\azelf_BaseDino_epoch_24.pth\n",
      "💾 Saved losses and accuracies (training and validation) at: /Users/ciovi/Desktop/coding/mldl/fl-g13/checkpoints/azelf\\azelf_BaseDino_epoch_24.loss_acc.json\n",
      "\n"
     ]
    },
    {
     "name": "stderr",
     "output_type": "stream",
     "text": [
      "Training progress: 100%|██████████| 313/313 [02:43<00:00,  1.91batch/s]\n"
     ]
    },
    {
     "name": "stdout",
     "output_type": "stream",
     "text": [
      "🚀 Epoch 25/30 (83.33%) Completed\n",
      "\t📊 Training Loss: 0.0032\n",
      "\t✅ Training Accuracy: 99.97%\n",
      "\t⏳ Elapsed Time: 163.90s | ETA: 819.48s\n",
      "\t🕒 Completed At: 11:32\n"
     ]
    },
    {
     "name": "stderr",
     "output_type": "stream",
     "text": [
      "Eval progress: 100%|██████████| 79/79 [00:24<00:00,  3.20batch/s]\n"
     ]
    },
    {
     "name": "stdout",
     "output_type": "stream",
     "text": [
      "🔍 Validation Results:\n",
      "\t📉 Validation Loss: 0.6460\n",
      "\t🎯 Validation Accuracy: 85.39%\n",
      "💾 Saved checkpoint at: /Users/ciovi/Desktop/coding/mldl/fl-g13/checkpoints/azelf\\azelf_BaseDino_epoch_25.pth\n",
      "💾 Saved losses and accuracies (training and validation) at: /Users/ciovi/Desktop/coding/mldl/fl-g13/checkpoints/azelf\\azelf_BaseDino_epoch_25.loss_acc.json\n",
      "\n"
     ]
    },
    {
     "name": "stderr",
     "output_type": "stream",
     "text": [
      "Training progress: 100%|██████████| 313/313 [02:43<00:00,  1.91batch/s]\n"
     ]
    },
    {
     "name": "stdout",
     "output_type": "stream",
     "text": [
      "🚀 Epoch 26/30 (86.67%) Completed\n",
      "\t📊 Training Loss: 0.0031\n",
      "\t✅ Training Accuracy: 99.97%\n",
      "\t⏳ Elapsed Time: 163.86s | ETA: 655.45s\n",
      "\t🕒 Completed At: 11:35\n"
     ]
    },
    {
     "name": "stderr",
     "output_type": "stream",
     "text": [
      "Eval progress: 100%|██████████| 79/79 [00:24<00:00,  3.20batch/s]\n"
     ]
    },
    {
     "name": "stdout",
     "output_type": "stream",
     "text": [
      "🔍 Validation Results:\n",
      "\t📉 Validation Loss: 0.6378\n",
      "\t🎯 Validation Accuracy: 85.51%\n",
      "💾 Saved checkpoint at: /Users/ciovi/Desktop/coding/mldl/fl-g13/checkpoints/azelf\\azelf_BaseDino_epoch_26.pth\n",
      "💾 Saved losses and accuracies (training and validation) at: /Users/ciovi/Desktop/coding/mldl/fl-g13/checkpoints/azelf\\azelf_BaseDino_epoch_26.loss_acc.json\n",
      "\n"
     ]
    },
    {
     "name": "stderr",
     "output_type": "stream",
     "text": [
      "Training progress: 100%|██████████| 313/313 [02:43<00:00,  1.91batch/s]\n"
     ]
    },
    {
     "name": "stdout",
     "output_type": "stream",
     "text": [
      "🚀 Epoch 27/30 (90.00%) Completed\n",
      "\t📊 Training Loss: 0.0034\n",
      "\t✅ Training Accuracy: 99.94%\n",
      "\t⏳ Elapsed Time: 164.00s | ETA: 492.01s\n",
      "\t🕒 Completed At: 11:38\n"
     ]
    },
    {
     "name": "stderr",
     "output_type": "stream",
     "text": [
      "Eval progress: 100%|██████████| 79/79 [00:24<00:00,  3.20batch/s]\n"
     ]
    },
    {
     "name": "stdout",
     "output_type": "stream",
     "text": [
      "🔍 Validation Results:\n",
      "\t📉 Validation Loss: 0.6429\n",
      "\t🎯 Validation Accuracy: 85.22%\n",
      "💾 Saved checkpoint at: /Users/ciovi/Desktop/coding/mldl/fl-g13/checkpoints/azelf\\azelf_BaseDino_epoch_27.pth\n",
      "💾 Saved losses and accuracies (training and validation) at: /Users/ciovi/Desktop/coding/mldl/fl-g13/checkpoints/azelf\\azelf_BaseDino_epoch_27.loss_acc.json\n",
      "\n"
     ]
    },
    {
     "name": "stderr",
     "output_type": "stream",
     "text": [
      "Training progress: 100%|██████████| 313/313 [02:43<00:00,  1.91batch/s]\n"
     ]
    },
    {
     "name": "stdout",
     "output_type": "stream",
     "text": [
      "🚀 Epoch 28/30 (93.33%) Completed\n",
      "\t📊 Training Loss: 0.0037\n",
      "\t✅ Training Accuracy: 99.93%\n",
      "\t⏳ Elapsed Time: 163.60s | ETA: 327.20s\n",
      "\t🕒 Completed At: 11:41\n"
     ]
    },
    {
     "name": "stderr",
     "output_type": "stream",
     "text": [
      "Eval progress: 100%|██████████| 79/79 [00:24<00:00,  3.19batch/s]\n"
     ]
    },
    {
     "name": "stdout",
     "output_type": "stream",
     "text": [
      "🔍 Validation Results:\n",
      "\t📉 Validation Loss: 0.6406\n",
      "\t🎯 Validation Accuracy: 85.64%\n",
      "💾 Saved checkpoint at: /Users/ciovi/Desktop/coding/mldl/fl-g13/checkpoints/azelf\\azelf_BaseDino_epoch_28.pth\n",
      "💾 Saved losses and accuracies (training and validation) at: /Users/ciovi/Desktop/coding/mldl/fl-g13/checkpoints/azelf\\azelf_BaseDino_epoch_28.loss_acc.json\n",
      "\n"
     ]
    },
    {
     "name": "stderr",
     "output_type": "stream",
     "text": [
      "Training progress: 100%|██████████| 313/313 [02:43<00:00,  1.91batch/s]\n"
     ]
    },
    {
     "name": "stdout",
     "output_type": "stream",
     "text": [
      "🚀 Epoch 29/30 (96.67%) Completed\n",
      "\t📊 Training Loss: 0.0036\n",
      "\t✅ Training Accuracy: 99.95%\n",
      "\t⏳ Elapsed Time: 164.00s | ETA: 164.00s\n",
      "\t🕒 Completed At: 11:44\n"
     ]
    },
    {
     "name": "stderr",
     "output_type": "stream",
     "text": [
      "Eval progress: 100%|██████████| 79/79 [00:24<00:00,  3.20batch/s]\n"
     ]
    },
    {
     "name": "stdout",
     "output_type": "stream",
     "text": [
      "🔍 Validation Results:\n",
      "\t📉 Validation Loss: 0.6460\n",
      "\t🎯 Validation Accuracy: 85.51%\n",
      "💾 Saved checkpoint at: /Users/ciovi/Desktop/coding/mldl/fl-g13/checkpoints/azelf\\azelf_BaseDino_epoch_29.pth\n",
      "💾 Saved losses and accuracies (training and validation) at: /Users/ciovi/Desktop/coding/mldl/fl-g13/checkpoints/azelf\\azelf_BaseDino_epoch_29.loss_acc.json\n",
      "\n"
     ]
    },
    {
     "name": "stderr",
     "output_type": "stream",
     "text": [
      "Training progress: 100%|██████████| 313/313 [02:43<00:00,  1.91batch/s]\n"
     ]
    },
    {
     "name": "stdout",
     "output_type": "stream",
     "text": [
      "🚀 Epoch 30/30 (100.00%) Completed\n",
      "\t📊 Training Loss: 0.0042\n",
      "\t✅ Training Accuracy: 99.92%\n",
      "\t⏳ Elapsed Time: 163.74s | ETA: 0.00s\n",
      "\t🕒 Completed At: 11:47\n"
     ]
    },
    {
     "name": "stderr",
     "output_type": "stream",
     "text": [
      "Eval progress: 100%|██████████| 79/79 [00:24<00:00,  3.20batch/s]\n"
     ]
    },
    {
     "name": "stdout",
     "output_type": "stream",
     "text": [
      "🔍 Validation Results:\n",
      "\t📉 Validation Loss: 0.6648\n",
      "\t🎯 Validation Accuracy: 85.28%\n",
      "💾 Saved checkpoint at: /Users/ciovi/Desktop/coding/mldl/fl-g13/checkpoints/azelf\\azelf_BaseDino_epoch_30.pth\n",
      "💾 Saved losses and accuracies (training and validation) at: /Users/ciovi/Desktop/coding/mldl/fl-g13/checkpoints/azelf\\azelf_BaseDino_epoch_30.loss_acc.json\n",
      "\n"
     ]
    }
   ],
   "source": [
    "try:\n",
    "    _, _, _, _ = train(\n",
    "        checkpoint_dir=f'{CHECKPOINT_DIR}/{name}',\n",
    "        name=name,\n",
    "        start_epoch=start_epoch,\n",
    "        num_epochs=num_epochs,\n",
    "        save_every=save_every,\n",
    "        backup_every=backup_every,\n",
    "        train_dataloader=train_dataloader,\n",
    "        val_dataloader=val_dataloader,\n",
    "        model=model,\n",
    "        criterion=criterion,\n",
    "        optimizer=optimizer,\n",
    "        scheduler=scheduler,\n",
    "        verbose=1,\n",
    "        all_training_losses=all_training_losses,\n",
    "        all_validation_losses=all_validation_losses,\n",
    "        all_training_accuracies=all_training_accuracies,\n",
    "        all_validation_accuracies=all_validation_accuracies,\n",
    "        with_model_dir = False\n",
    "    )\n",
    "\n",
    "except KeyboardInterrupt:\n",
    "    print(\"Training interrupted manually.\")\n",
    "\n",
    "except Exception as e:\n",
    "    print(f\"Training stopped due to error: {e}\")"
   ]
  }
 ],
 "metadata": {
  "kernelspec": {
   "display_name": ".venv",
   "language": "python",
   "name": "python3"
  },
  "language_info": {
   "codemirror_mode": {
    "name": "ipython",
    "version": 3
   },
   "file_extension": ".py",
   "mimetype": "text/x-python",
   "name": "python",
   "nbconvert_exporter": "python",
   "pygments_lexer": "ipython3",
   "version": "3.10.0"
  }
 },
 "nbformat": 4,
 "nbformat_minor": 5
}
