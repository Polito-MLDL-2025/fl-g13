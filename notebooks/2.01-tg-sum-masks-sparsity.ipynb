{
 "cells": [
  {
   "cell_type": "code",
   "execution_count": null,
   "id": "d5c8edc9",
   "metadata": {},
   "outputs": [],
   "source": [
    "%load_ext autoreload\n",
    "%autoreload 2"
   ]
  },
  {
   "cell_type": "code",
   "execution_count": null,
   "id": "8418d68d",
   "metadata": {},
   "outputs": [],
   "source": [
    "import flwr\n",
    "import torch\n",
    "import dotenv\n",
    "import os\n",
    "\n",
    "from torch.optim.lr_scheduler import CosineAnnealingLR\n",
    "\n",
    "from fl_g13.fl_pytorch import build_fl_dependencies\n",
    "\n",
    "from fl_g13.fl_pytorch.editing import load_mask\n",
    "from fl_g13.modeling import load_or_create\n",
    "\n",
    "from fl_g13.editing.masking import mask_dict_to_list\n",
    "\n",
    "from fl_g13.architectures import BaseDino\n",
    "from fl_g13.editing import SparseSGDM"
   ]
  },
  {
   "cell_type": "code",
   "execution_count": null,
   "id": "2106ff51",
   "metadata": {},
   "outputs": [],
   "source": [
    "dotenv.load_dotenv()\n",
    "DEVICE = \"cuda\" if torch.cuda.is_available() else \"cpu\"\n",
    "print(f\"Training on {DEVICE}\")\n",
    "print(f\"Flower {flwr.__version__} / PyTorch {torch.__version__}\")\n",
    "\n",
    "build_fl_dependencies()"
   ]
  },
  {
   "cell_type": "code",
   "execution_count": null,
   "id": "ce0d8f8b",
   "metadata": {},
   "outputs": [],
   "source": [
    "CHECKPOINT_DIR = dotenv.dotenv_values()['CHECKPOINT_DIR']\n",
    "\n",
    "J = 8\n",
    "partition_type = 'shard'\n",
    "shards = 1\n",
    "strategy = 'sum'\n",
    "mask_type = 'global'\n",
    "mask_sparsity = 0.7\n",
    "mask_rounds = 3\n",
    "\n",
    "mask_name = f'sum_{shards}_{J}_{mask_type}_{mask_sparsity}_{mask_rounds}.pth'\n",
    "mask_file_name = CHECKPOINT_DIR + '/masks/' + mask_name\n",
    "\n",
    "model_save_path = CHECKPOINT_DIR + f\"/fl/non-iid/{shards}_{J}\"\n",
    "\n",
    "model, start_epoch = load_or_create(\n",
    "    path=model_save_path,\n",
    "    model_class=BaseDino,\n",
    "    model_config=None,\n",
    "    optimizer=None,\n",
    "    scheduler=None,\n",
    "    device=DEVICE,\n",
    ")\n",
    "model.to(DEVICE)\n",
    "\n",
    "unfreeze_blocks = 12\n",
    "model.unfreeze_blocks(unfreeze_blocks)\n",
    "# optimizer = SGD(model.parameters(), lr=lr, momentum=momentum)\n",
    "\n",
    "# Create a dummy mask for SparseSGDM\n",
    "# Must be done AFTER the model is moved to the device\n",
    "init_mask = [torch.ones_like(p, device=p.device) for p in model.parameters()]\n",
    "\n",
    "# Optimizer, scheduler, and loss function\n",
    "optimizer = SparseSGDM(\n",
    "    model.parameters(),\n",
    "    mask=init_mask,\n",
    "    lr=1e-3,\n",
    "    momentum=0.9,\n",
    "    weight_decay=1e-5\n",
    ")\n",
    "criterion = torch.nn.CrossEntropyLoss()\n",
    "scheduler = CosineAnnealingLR(\n",
    "    optimizer=optimizer,\n",
    "    T_max=8,\n",
    "    eta_min=1e-5\n",
    ")"
   ]
  },
  {
   "cell_type": "code",
   "execution_count": null,
   "id": "5efd4d23",
   "metadata": {},
   "outputs": [],
   "source": [
    "sum_mask = load_mask(mask_file_name)\n",
    "sum_mask = mask_dict_to_list(model, sum_mask)"
   ]
  },
  {
   "cell_type": "code",
   "execution_count": null,
   "id": "8f7af14f",
   "metadata": {},
   "outputs": [],
   "source": [
    "import numpy as np\n",
    "import matplotlib.pyplot as plt\n",
    "from tqdm import tqdm\n",
    "\n",
    "def sparsity_over_quorum_plot(sum_mask, mask_name):\n",
    "    def compute_sparsity_given_quorum(mask, quorum):\n",
    "        assert 0 < quorum <= 100\n",
    "        \n",
    "        global_mask = [(layer_sum >= quorum).float() for layer_sum in mask]\n",
    "        total_params = sum(np.prod(layer.shape) for layer in global_mask)\n",
    "        total_non_zero = sum(layer.cpu().numpy().nonzero()[0].size for layer in global_mask)\n",
    "        return 1.0 - (total_non_zero / total_params)\n",
    "\n",
    "    all_sparsity = [compute_sparsity_given_quorum(sum_mask, quorum) for quorum in tqdm(range(1, 101), desc = 'Quormum')]\n",
    "    \n",
    "    plt.figure(figsize=(10, 6))\n",
    "    plt.plot(range(1, 101), all_sparsity, '-')\n",
    "    plt.xlabel('Quorum')\n",
    "    plt.ylabel('Sparsity')\n",
    "    plt.title(mask_name)\n",
    "    plt.grid(True)\n",
    "    plt.show()"
   ]
  },
  {
   "cell_type": "code",
   "execution_count": null,
   "id": "4dacba21",
   "metadata": {},
   "outputs": [],
   "source": [
    "sparsity_over_quorum_plot(sum_mask, mask_name)"
   ]
  }
 ],
 "metadata": {
  "kernelspec": {
   "display_name": ".venv",
   "language": "python",
   "name": "python3"
  },
  "language_info": {
   "codemirror_mode": {
    "name": "ipython",
    "version": 3
   },
   "file_extension": ".py",
   "mimetype": "text/x-python",
   "name": "python",
   "nbconvert_exporter": "python",
   "pygments_lexer": "ipython3",
   "version": "3.10.0"
  }
 },
 "nbformat": 4,
 "nbformat_minor": 5
}
