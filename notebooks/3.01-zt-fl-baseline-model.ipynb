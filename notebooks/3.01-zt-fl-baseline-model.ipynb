{
 "cells": [
  {
   "metadata": {
    "ExecuteTime": {
     "end_time": "2025-05-12T20:30:36.790205Z",
     "start_time": "2025-05-12T20:30:36.690695Z"
    }
   },
   "cell_type": "code",
   "source": [
    "%load_ext autoreload\n",
    "%autoreload 2"
   ],
   "id": "5767f6b1a63e945b",
   "outputs": [],
   "execution_count": 1
  },
  {
   "metadata": {
    "ExecuteTime": {
     "end_time": "2025-05-12T20:30:39.975339Z",
     "start_time": "2025-05-12T20:30:36.792625Z"
    }
   },
   "cell_type": "code",
   "source": "!pip3 install torch torchvision torchaudio --index-url https://download.pytorch.org/whl/cu118\n",
   "id": "75ca9d6d54c4ce47",
   "outputs": [
    {
     "name": "stdout",
     "output_type": "stream",
     "text": [
      "Looking in indexes: https://download.pytorch.org/whl/cu118\n",
      "Requirement already satisfied: torch in c:\\users\\admin\\desktop\\backup\\study\\italy\\polito\\classes\\20242\\deep learning\\project\\source_code\\fl-g13\\.venv\\lib\\site-packages (2.6.0+cu118)\n",
      "Requirement already satisfied: torchvision in c:\\users\\admin\\desktop\\backup\\study\\italy\\polito\\classes\\20242\\deep learning\\project\\source_code\\fl-g13\\.venv\\lib\\site-packages (0.21.0)\n",
      "Requirement already satisfied: torchaudio in c:\\users\\admin\\desktop\\backup\\study\\italy\\polito\\classes\\20242\\deep learning\\project\\source_code\\fl-g13\\.venv\\lib\\site-packages (2.6.0+cu118)\n",
      "Requirement already satisfied: filelock in c:\\users\\admin\\desktop\\backup\\study\\italy\\polito\\classes\\20242\\deep learning\\project\\source_code\\fl-g13\\.venv\\lib\\site-packages (from torch) (3.18.0)\n",
      "Requirement already satisfied: typing-extensions>=4.10.0 in c:\\users\\admin\\desktop\\backup\\study\\italy\\polito\\classes\\20242\\deep learning\\project\\source_code\\fl-g13\\.venv\\lib\\site-packages (from torch) (4.13.1)\n",
      "Requirement already satisfied: networkx in c:\\users\\admin\\desktop\\backup\\study\\italy\\polito\\classes\\20242\\deep learning\\project\\source_code\\fl-g13\\.venv\\lib\\site-packages (from torch) (3.4.2)\n",
      "Requirement already satisfied: jinja2 in c:\\users\\admin\\desktop\\backup\\study\\italy\\polito\\classes\\20242\\deep learning\\project\\source_code\\fl-g13\\.venv\\lib\\site-packages (from torch) (3.1.6)\n",
      "Requirement already satisfied: fsspec in c:\\users\\admin\\desktop\\backup\\study\\italy\\polito\\classes\\20242\\deep learning\\project\\source_code\\fl-g13\\.venv\\lib\\site-packages (from torch) (2025.3.2)\n",
      "Requirement already satisfied: sympy==1.13.1 in c:\\users\\admin\\desktop\\backup\\study\\italy\\polito\\classes\\20242\\deep learning\\project\\source_code\\fl-g13\\.venv\\lib\\site-packages (from torch) (1.13.1)\n",
      "Requirement already satisfied: mpmath<1.4,>=1.1.0 in c:\\users\\admin\\desktop\\backup\\study\\italy\\polito\\classes\\20242\\deep learning\\project\\source_code\\fl-g13\\.venv\\lib\\site-packages (from sympy==1.13.1->torch) (1.3.0)\n",
      "Requirement already satisfied: numpy in c:\\users\\admin\\desktop\\backup\\study\\italy\\polito\\classes\\20242\\deep learning\\project\\source_code\\fl-g13\\.venv\\lib\\site-packages (from torchvision) (2.0.2)\n",
      "Requirement already satisfied: pillow!=8.3.*,>=5.3.0 in c:\\users\\admin\\desktop\\backup\\study\\italy\\polito\\classes\\20242\\deep learning\\project\\source_code\\fl-g13\\.venv\\lib\\site-packages (from torchvision) (11.1.0)\n",
      "Requirement already satisfied: MarkupSafe>=2.0 in c:\\users\\admin\\desktop\\backup\\study\\italy\\polito\\classes\\20242\\deep learning\\project\\source_code\\fl-g13\\.venv\\lib\\site-packages (from jinja2->torch) (3.0.2)\n"
     ]
    },
    {
     "name": "stderr",
     "output_type": "stream",
     "text": [
      "WARNING: Ignoring invalid distribution -otebook (c:\\users\\admin\\desktop\\backup\\study\\italy\\polito\\classes\\20242\\deep learning\\project\\source_code\\fl-g13\\.venv\\lib\\site-packages)\n",
      "WARNING: Ignoring invalid distribution -otebook (c:\\users\\admin\\desktop\\backup\\study\\italy\\polito\\classes\\20242\\deep learning\\project\\source_code\\fl-g13\\.venv\\lib\\site-packages)\n",
      "WARNING: Ignoring invalid distribution -otebook (c:\\users\\admin\\desktop\\backup\\study\\italy\\polito\\classes\\20242\\deep learning\\project\\source_code\\fl-g13\\.venv\\lib\\site-packages)\n"
     ]
    }
   ],
   "execution_count": 2
  },
  {
   "metadata": {
    "ExecuteTime": {
     "end_time": "2025-05-12T20:44:18.159695Z",
     "start_time": "2025-05-12T20:44:17.613932Z"
    }
   },
   "cell_type": "code",
   "source": [
    "import os\n",
    "from pathlib import Path\n",
    "\n",
    "import flwr\n",
    "import torch\n",
    "from flwr.simulation import run_simulation\n",
    "from torch.optim import SGD\n",
    "from torch.optim.lr_scheduler import CosineAnnealingLR\n",
    "\n",
    "from fl_g13.architectures import BaseDino\n",
    "from fl_g13.fl_pytorch.client_app import get_client_app\n",
    "from fl_g13.fl_pytorch.server_app import get_server_app"
   ],
   "id": "initial_id",
   "outputs": [],
   "execution_count": 23
  },
  {
   "metadata": {
    "ExecuteTime": {
     "end_time": "2025-05-12T20:30:56.501636Z",
     "start_time": "2025-05-12T20:30:55.834557Z"
    }
   },
   "cell_type": "code",
   "source": [
    "DEVICE = \"cuda\" if torch.cuda.is_available() else \"cpu\"\n",
    "# DEVICE = \"cpu\"\n",
    "print(f\"Training on {DEVICE}\")\n",
    "print(f\"Flower {flwr.__version__} / PyTorch {torch.__version__}\")\n",
    "# disable_progress_bar()"
   ],
   "id": "1a4ec3eb7baf32",
   "outputs": [
    {
     "name": "stdout",
     "output_type": "stream",
     "text": [
      "Training on cuda\n",
      "Flower 1.17.0 / PyTorch 2.6.0+cu118\n"
     ]
    }
   ],
   "execution_count": 4
  },
  {
   "metadata": {},
   "cell_type": "markdown",
   "source": "# Login wandb",
   "id": "73fb84b164b0def7"
  },
  {
   "metadata": {
    "ExecuteTime": {
     "end_time": "2025-05-12T20:31:09.093956Z",
     "start_time": "2025-05-12T20:31:06.651128Z"
    }
   },
   "cell_type": "code",
   "source": "!pip install wandb",
   "id": "6c6449ef9be1e422",
   "outputs": [
    {
     "name": "stdout",
     "output_type": "stream",
     "text": [
      "Requirement already satisfied: wandb in c:\\users\\admin\\desktop\\backup\\study\\italy\\polito\\classes\\20242\\deep learning\\project\\source_code\\fl-g13\\.venv\\lib\\site-packages (0.19.9)\n",
      "Requirement already satisfied: click!=8.0.0,>=7.1 in c:\\users\\admin\\desktop\\backup\\study\\italy\\polito\\classes\\20242\\deep learning\\project\\source_code\\fl-g13\\.venv\\lib\\site-packages (from wandb) (8.1.8)\n",
      "Requirement already satisfied: docker-pycreds>=0.4.0 in c:\\users\\admin\\desktop\\backup\\study\\italy\\polito\\classes\\20242\\deep learning\\project\\source_code\\fl-g13\\.venv\\lib\\site-packages (from wandb) (0.4.0)\n",
      "Requirement already satisfied: gitpython!=3.1.29,>=1.0.0 in c:\\users\\admin\\desktop\\backup\\study\\italy\\polito\\classes\\20242\\deep learning\\project\\source_code\\fl-g13\\.venv\\lib\\site-packages (from wandb) (3.1.44)\n",
      "Requirement already satisfied: platformdirs in c:\\users\\admin\\desktop\\backup\\study\\italy\\polito\\classes\\20242\\deep learning\\project\\source_code\\fl-g13\\.venv\\lib\\site-packages (from wandb) (4.3.7)\n",
      "Requirement already satisfied: protobuf!=4.21.0,!=5.28.0,<6,>=3.19.0 in c:\\users\\admin\\desktop\\backup\\study\\italy\\polito\\classes\\20242\\deep learning\\project\\source_code\\fl-g13\\.venv\\lib\\site-packages (from wandb) (5.29.4)\n",
      "Requirement already satisfied: psutil>=5.0.0 in c:\\users\\admin\\desktop\\backup\\study\\italy\\polito\\classes\\20242\\deep learning\\project\\source_code\\fl-g13\\.venv\\lib\\site-packages (from wandb) (7.0.0)\n",
      "Requirement already satisfied: pydantic<3 in c:\\users\\admin\\desktop\\backup\\study\\italy\\polito\\classes\\20242\\deep learning\\project\\source_code\\fl-g13\\.venv\\lib\\site-packages (from wandb) (2.11.3)\n",
      "Requirement already satisfied: pyyaml in c:\\users\\admin\\desktop\\backup\\study\\italy\\polito\\classes\\20242\\deep learning\\project\\source_code\\fl-g13\\.venv\\lib\\site-packages (from wandb) (6.0.2)\n",
      "Requirement already satisfied: requests<3,>=2.0.0 in c:\\users\\admin\\desktop\\backup\\study\\italy\\polito\\classes\\20242\\deep learning\\project\\source_code\\fl-g13\\.venv\\lib\\site-packages (from wandb) (2.32.3)\n",
      "Requirement already satisfied: sentry-sdk>=2.0.0 in c:\\users\\admin\\desktop\\backup\\study\\italy\\polito\\classes\\20242\\deep learning\\project\\source_code\\fl-g13\\.venv\\lib\\site-packages (from wandb) (2.26.0)\n",
      "Requirement already satisfied: setproctitle in c:\\users\\admin\\desktop\\backup\\study\\italy\\polito\\classes\\20242\\deep learning\\project\\source_code\\fl-g13\\.venv\\lib\\site-packages (from wandb) (1.3.5)\n",
      "Requirement already satisfied: setuptools in c:\\users\\admin\\desktop\\backup\\study\\italy\\polito\\classes\\20242\\deep learning\\project\\source_code\\fl-g13\\.venv\\lib\\site-packages (from wandb) (68.2.0)\n",
      "Requirement already satisfied: typing-extensions<5,>=4.4 in c:\\users\\admin\\desktop\\backup\\study\\italy\\polito\\classes\\20242\\deep learning\\project\\source_code\\fl-g13\\.venv\\lib\\site-packages (from wandb) (4.13.1)\n",
      "Requirement already satisfied: colorama in c:\\users\\admin\\desktop\\backup\\study\\italy\\polito\\classes\\20242\\deep learning\\project\\source_code\\fl-g13\\.venv\\lib\\site-packages (from click!=8.0.0,>=7.1->wandb) (0.4.6)\n",
      "Requirement already satisfied: six>=1.4.0 in c:\\users\\admin\\desktop\\backup\\study\\italy\\polito\\classes\\20242\\deep learning\\project\\source_code\\fl-g13\\.venv\\lib\\site-packages (from docker-pycreds>=0.4.0->wandb) (1.17.0)\n",
      "Requirement already satisfied: gitdb<5,>=4.0.1 in c:\\users\\admin\\desktop\\backup\\study\\italy\\polito\\classes\\20242\\deep learning\\project\\source_code\\fl-g13\\.venv\\lib\\site-packages (from gitpython!=3.1.29,>=1.0.0->wandb) (4.0.12)\n",
      "Requirement already satisfied: annotated-types>=0.6.0 in c:\\users\\admin\\desktop\\backup\\study\\italy\\polito\\classes\\20242\\deep learning\\project\\source_code\\fl-g13\\.venv\\lib\\site-packages (from pydantic<3->wandb) (0.7.0)\n",
      "Requirement already satisfied: pydantic-core==2.33.1 in c:\\users\\admin\\desktop\\backup\\study\\italy\\polito\\classes\\20242\\deep learning\\project\\source_code\\fl-g13\\.venv\\lib\\site-packages (from pydantic<3->wandb) (2.33.1)\n",
      "Requirement already satisfied: typing-inspection>=0.4.0 in c:\\users\\admin\\desktop\\backup\\study\\italy\\polito\\classes\\20242\\deep learning\\project\\source_code\\fl-g13\\.venv\\lib\\site-packages (from pydantic<3->wandb) (0.4.0)\n",
      "Requirement already satisfied: charset-normalizer<4,>=2 in c:\\users\\admin\\desktop\\backup\\study\\italy\\polito\\classes\\20242\\deep learning\\project\\source_code\\fl-g13\\.venv\\lib\\site-packages (from requests<3,>=2.0.0->wandb) (3.4.1)\n",
      "Requirement already satisfied: idna<4,>=2.5 in c:\\users\\admin\\desktop\\backup\\study\\italy\\polito\\classes\\20242\\deep learning\\project\\source_code\\fl-g13\\.venv\\lib\\site-packages (from requests<3,>=2.0.0->wandb) (3.10)\n",
      "Requirement already satisfied: urllib3<3,>=1.21.1 in c:\\users\\admin\\desktop\\backup\\study\\italy\\polito\\classes\\20242\\deep learning\\project\\source_code\\fl-g13\\.venv\\lib\\site-packages (from requests<3,>=2.0.0->wandb) (2.3.0)\n",
      "Requirement already satisfied: certifi>=2017.4.17 in c:\\users\\admin\\desktop\\backup\\study\\italy\\polito\\classes\\20242\\deep learning\\project\\source_code\\fl-g13\\.venv\\lib\\site-packages (from requests<3,>=2.0.0->wandb) (2025.1.31)\n",
      "Requirement already satisfied: smmap<6,>=3.0.1 in c:\\users\\admin\\desktop\\backup\\study\\italy\\polito\\classes\\20242\\deep learning\\project\\source_code\\fl-g13\\.venv\\lib\\site-packages (from gitdb<5,>=4.0.1->gitpython!=3.1.29,>=1.0.0->wandb) (5.0.2)\n"
     ]
    },
    {
     "name": "stderr",
     "output_type": "stream",
     "text": [
      "WARNING: Ignoring invalid distribution -otebook (c:\\users\\admin\\desktop\\backup\\study\\italy\\polito\\classes\\20242\\deep learning\\project\\source_code\\fl-g13\\.venv\\lib\\site-packages)\n",
      "WARNING: Ignoring invalid distribution -otebook (c:\\users\\admin\\desktop\\backup\\study\\italy\\polito\\classes\\20242\\deep learning\\project\\source_code\\fl-g13\\.venv\\lib\\site-packages)\n",
      "WARNING: Ignoring invalid distribution -otebook (c:\\users\\admin\\desktop\\backup\\study\\italy\\polito\\classes\\20242\\deep learning\\project\\source_code\\fl-g13\\.venv\\lib\\site-packages)\n",
      "\n",
      "[notice] A new release of pip is available: 25.0.1 -> 25.1.1\n",
      "[notice] To update, run: python.exe -m pip install --upgrade pip\n"
     ]
    }
   ],
   "execution_count": 5
  },
  {
   "metadata": {
    "ExecuteTime": {
     "end_time": "2025-05-12T20:46:38.055456Z",
     "start_time": "2025-05-12T20:46:37.374529Z"
    }
   },
   "cell_type": "code",
   "source": [
    "## read .env file\n",
    "import dotenv\n",
    "dotenv.load_dotenv()\n"
   ],
   "id": "5f279490dd7a970f",
   "outputs": [
    {
     "data": {
      "text/plain": [
       "True"
      ]
     },
     "execution_count": 28,
     "metadata": {},
     "output_type": "execute_result"
    }
   ],
   "execution_count": 28
  },
  {
   "metadata": {
    "ExecuteTime": {
     "end_time": "2025-05-12T20:34:55.379338Z",
     "start_time": "2025-05-12T20:34:54.395896Z"
    }
   },
   "cell_type": "code",
   "source": [
    "import wandb\n",
    "\n",
    "# login by key in .env file\n",
    "WANDB_API_KEY = dotenv.dotenv_values()[\"WANDB_API_KEY\"]\n",
    "wandb.login(key=WANDB_API_KEY)"
   ],
   "id": "a218d880822fdfba",
   "outputs": [
    {
     "name": "stderr",
     "output_type": "stream",
     "text": [
      "wandb: WARNING If you're specifying your api key in code, ensure this code is not shared publicly.\n",
      "wandb: WARNING Consider setting the WANDB_API_KEY environment variable, or running `wandb login` from the command line.\n",
      "wandb: Appending key for api.wandb.ai to your netrc file: C:\\Users\\ADMIN\\_netrc\n"
     ]
    },
    {
     "data": {
      "text/plain": [
       "True"
      ]
     },
     "execution_count": 11,
     "metadata": {},
     "output_type": "execute_result"
    }
   ],
   "execution_count": 11
  },
  {
   "metadata": {},
   "cell_type": "markdown",
   "source": "# FL",
   "id": "ee82432353abfbe2"
  },
  {
   "metadata": {},
   "cell_type": "markdown",
   "source": "## Configs",
   "id": "cdb05316b163821b"
  },
  {
   "metadata": {
    "ExecuteTime": {
     "end_time": "2025-05-12T20:44:25.988244Z",
     "start_time": "2025-05-12T20:44:25.324583Z"
    }
   },
   "cell_type": "code",
   "source": [
    "# Model config\n",
    "\n",
    "## Model Hyper-parameters\n",
    "head_layers = 3\n",
    "head_hidden_size = 512\n",
    "dropout_rate = 0.0\n",
    "unfreeze_blocks = 1\n",
    "\n",
    "## Training Hyper-parameters\n",
    "batch_size = 128\n",
    "lr = 1e-3\n",
    "momentum = 0.9\n",
    "weight_decay = 1e-5\n",
    "T_max = 8\n",
    "eta_min = 1e-5\n",
    "\n",
    "# FL config\n",
    "K = 100\n",
    "C = 0.1\n",
    "J = 4\n",
    "num_rounds = 20\n",
    "partition_type = 'iid'\n",
    "\n",
    "## only for partition_type = 'shard'\n",
    "num_shards_per_partition = 10\n",
    "\n",
    "## Server App config\n",
    "save_every = 1\n",
    "fraction_fit = C  # Sample of available clients for training\n",
    "fraction_evaluate = 0.1  # Sample 50% of available clients for evaluation\n",
    "min_fit_clients = 10  # Never sample less than 10 clients for training\n",
    "min_evaluate_clients = 5  # Never sample less than 5 clients for evaluation\n",
    "min_available_clients = 10  # Wait until all 10 clients are available\n",
    "device = DEVICE\n",
    "## checkpoints directory\n",
    "current_path = Path.cwd()\n",
    "model_test_path = current_path / \"../models/fl_baseline\"\n",
    "checkpoint_dir = model_test_path.resolve()\n",
    "os.makedirs(checkpoint_dir, exist_ok=True)\n",
    "\n",
    "## Wandb config\n",
    "use_wandb = True\n",
    "wandb_config = {\n",
    "    \"fraction_fit\": fraction_fit,\n",
    "    \"lr\": lr,\n",
    "    \"momentum\": momentum,\n",
    "    'partition_type': partition_type,\n",
    "    'K': K,\n",
    "    'C': C,\n",
    "    'J': J,\n",
    "}\n",
    "\n",
    "## simulation run config\n",
    "NUM_CLIENTS = 100\n",
    "MAX_PARALLEL_CLIENTS = 10 \n"
   ],
   "id": "d63bb533ec30809b",
   "outputs": [],
   "execution_count": 24
  },
  {
   "metadata": {},
   "cell_type": "markdown",
   "source": "## Define model , optimizer and loss function",
   "id": "4c0f23c3615c6d68"
  },
  {
   "metadata": {
    "ExecuteTime": {
     "end_time": "2025-05-12T20:40:54.615220Z",
     "start_time": "2025-05-12T20:40:53.652315Z"
    }
   },
   "cell_type": "code",
   "source": [
    "# Model\n",
    "model = BaseDino(\n",
    "    head_layers=head_layers,\n",
    "    head_hidden_size=head_hidden_size,\n",
    "    dropout_rate=dropout_rate,\n",
    "    unfreeze_blocks=unfreeze_blocks\n",
    ")\n",
    "model.to(DEVICE)\n",
    "optimizer = SGD(model.parameters(), lr=lr, momentum=momentum)\n",
    "criterion = torch.nn.CrossEntropyLoss()\n",
    "scheduler = CosineAnnealingLR(\n",
    "    optimizer=optimizer,\n",
    "    T_max=T_max,\n",
    "    eta_min=eta_min\n",
    ")"
   ],
   "id": "9046d19b28a38ed3",
   "outputs": [
    {
     "name": "stderr",
     "output_type": "stream",
     "text": [
      "Using cache found in C:\\Users\\ADMIN/.cache\\torch\\hub\\facebookresearch_dino_main\n"
     ]
    }
   ],
   "execution_count": 17
  },
  {
   "metadata": {},
   "cell_type": "markdown",
   "source": "## Define the ClientApp",
   "id": "e73656b5d73ac995"
  },
  {
   "metadata": {},
   "cell_type": "markdown",
   "source": [
    "## Build module local\n",
    "\n",
    "Build module local such that ClientApp can use it"
   ],
   "id": "b5a0319c8e40215a"
  },
  {
   "metadata": {
    "ExecuteTime": {
     "end_time": "2025-05-12T20:36:54.771845Z",
     "start_time": "2025-05-12T20:36:46.838099Z"
    }
   },
   "cell_type": "code",
   "source": "!pip install -e ..",
   "id": "8a11402a3317027f",
   "outputs": [
    {
     "name": "stdout",
     "output_type": "stream",
     "text": [
      "Obtaining file:///C:/Users/ADMIN/Desktop/BACKUP/study/Italy/polito/classes/20242/deep%20learning/project/source_code/fl-g13"
     ]
    },
    {
     "name": "stderr",
     "output_type": "stream",
     "text": [
      "WARNING: Ignoring invalid distribution -otebook (c:\\users\\admin\\desktop\\backup\\study\\italy\\polito\\classes\\20242\\deep learning\\project\\source_code\\fl-g13\\.venv\\lib\\site-packages)"
     ]
    },
    {
     "name": "stdout",
     "output_type": "stream",
     "text": [
      "\n"
     ]
    },
    {
     "name": "stderr",
     "output_type": "stream",
     "text": [
      "\n"
     ]
    },
    {
     "name": "stdout",
     "output_type": "stream",
     "text": [
      "  Installing build dependencies: started\n"
     ]
    },
    {
     "name": "stderr",
     "output_type": "stream",
     "text": [
      "WARNING: Ignoring invalid distribution -otebook (c:\\users\\admin\\desktop\\backup\\study\\italy\\polito\\classes\\20242\\deep learning\\project\\source_code\\fl-g13\\.venv\\lib\\site-packages)"
     ]
    },
    {
     "name": "stdout",
     "output_type": "stream",
     "text": [
      "  Installing build dependencies: finished with status 'done'"
     ]
    },
    {
     "name": "stderr",
     "output_type": "stream",
     "text": [
      "\n"
     ]
    },
    {
     "name": "stdout",
     "output_type": "stream",
     "text": [
      "\n"
     ]
    },
    {
     "name": "stderr",
     "output_type": "stream",
     "text": [
      "WARNING: Ignoring invalid distribution -otebook (c:\\users\\admin\\desktop\\backup\\study\\italy\\polito\\classes\\20242\\deep learning\\project\\source_code\\fl-g13\\.venv\\lib\\site-packages)"
     ]
    },
    {
     "name": "stdout",
     "output_type": "stream",
     "text": [
      "  Checking if build backend supports build_editable: started"
     ]
    },
    {
     "name": "stderr",
     "output_type": "stream",
     "text": [
      "\n"
     ]
    },
    {
     "name": "stdout",
     "output_type": "stream",
     "text": [
      "\n"
     ]
    },
    {
     "name": "stderr",
     "output_type": "stream",
     "text": [
      "\n",
      "[notice] A new release of pip is available: 25.0.1 -> 25.1.1"
     ]
    },
    {
     "name": "stdout",
     "output_type": "stream",
     "text": [
      "  Checking if build backend supports build_editable: finished with status 'done'"
     ]
    },
    {
     "name": "stderr",
     "output_type": "stream",
     "text": [
      "\n"
     ]
    },
    {
     "name": "stdout",
     "output_type": "stream",
     "text": [
      "\n"
     ]
    },
    {
     "name": "stderr",
     "output_type": "stream",
     "text": [
      "[notice] To update, run: python.exe -m pip install --upgrade pip"
     ]
    },
    {
     "name": "stdout",
     "output_type": "stream",
     "text": [
      "  Getting requirements to build editable: started\n"
     ]
    },
    {
     "name": "stderr",
     "output_type": "stream",
     "text": [
      "\n"
     ]
    },
    {
     "name": "stdout",
     "output_type": "stream",
     "text": [
      "  Getting requirements to build editable: finished with status 'done'\n",
      "  Preparing editable metadata (pyproject.toml): started\n",
      "  Preparing editable metadata (pyproject.toml): finished with status 'done'\n",
      "Building wheels for collected packages: fl_g13\n",
      "  Building editable for fl_g13 (pyproject.toml): started\n",
      "  Building editable for fl_g13 (pyproject.toml): finished with status 'done'\n",
      "  Created wheel for fl_g13: filename=fl_g13-0.0.1-py3-none-any.whl size=4649 sha256=a588eeccbccdbea56dbfe92e55bd612babd81e07366f39e361ccc99a5ffdec08\n",
      "  Stored in directory: C:\\Users\\ADMIN\\AppData\\Local\\Temp\\pip-ephem-wheel-cache-zy_t6ks3\\wheels\\b7\\e0\\6d\\5d22ced2ef400b314cfe74883357cc37e1e1d5275e7ba9175e\n",
      "Successfully built fl_g13\n",
      "Installing collected packages: fl_g13\n",
      "  Attempting uninstall: fl_g13\n",
      "    Found existing installation: fl_g13 0.0.1\n",
      "    Uninstalling fl_g13-0.0.1:\n",
      "      Successfully uninstalled fl_g13-0.0.1\n",
      "Successfully installed fl_g13-0.0.1\n"
     ]
    }
   ],
   "execution_count": 15
  },
  {
   "metadata": {},
   "cell_type": "markdown",
   "source": "## Create FlowerClient instances  ",
   "id": "97c881019a2b9e21"
  },
  {
   "metadata": {},
   "cell_type": "markdown",
   "source": "### Create instant of ClientApp",
   "id": "babef0c5a1343937"
  },
  {
   "metadata": {
    "ExecuteTime": {
     "end_time": "2025-05-12T20:45:11.539725Z",
     "start_time": "2025-05-12T20:45:10.993230Z"
    }
   },
   "cell_type": "code",
   "source": [
    "client = get_client_app(\n",
    "    model=model,\n",
    "    optimizer=optimizer,\n",
    "    criterion=criterion,\n",
    "    device=DEVICE,\n",
    "    partition_type=partition_type,\n",
    "    local_epochs=J,\n",
    "    batch_size=batch_size,\n",
    "    num_shards_per_partition=num_shards_per_partition,\n",
    "    scheduler=scheduler,\n",
    "    # load_data_fn=load_data_clients\n",
    ")"
   ],
   "id": "70467a37aa8c09c7",
   "outputs": [],
   "execution_count": 25
  },
  {
   "metadata": {},
   "cell_type": "markdown",
   "source": [
    "# Define the Flower ServerApp\n",
    "\n",
    "Customize built-in strategy Federated Averaging (FedAvg) of Flower to combine hyperparams in server-side and save model for each k epoch\n",
    "\n",
    "The strategy could also incremental training "
   ],
   "id": "5ccd8dfd409b0385"
  },
  {
   "metadata": {},
   "cell_type": "markdown",
   "source": "## Create instant of ServerApp",
   "id": "6f9276503ee2d47"
  },
  {
   "metadata": {
    "ExecuteTime": {
     "end_time": "2025-05-12T20:45:17.858845Z",
     "start_time": "2025-05-12T20:45:16.616176Z"
    }
   },
   "cell_type": "code",
   "source": [
    "server = get_server_app(checkpoint_dir=checkpoint_dir,\n",
    "                        model_class=model,\n",
    "                        optimizer=optimizer,\n",
    "                        criterion=criterion,\n",
    "                        scheduler=scheduler,\n",
    "                        num_rounds=num_rounds,\n",
    "                        fraction_fit=fraction_fit,\n",
    "                        fraction_evaluate=fraction_evaluate,\n",
    "                        min_fit_clients=min_fit_clients,\n",
    "                        min_evaluate_clients=min_evaluate_clients,\n",
    "                        min_available_clients=min_available_clients,\n",
    "                        device=device,\n",
    "                        use_wandb=use_wandb,\n",
    "                        wandb_config=wandb_config,\n",
    "                        save_every=save_every,\n",
    "                        prefix='fl_baseline'\n",
    "                        )"
   ],
   "id": "1cbac220e52a6d00",
   "outputs": [
    {
     "name": "stdout",
     "output_type": "stream",
     "text": [
      "🔍 Loading checkpoint from C:\\Users\\ADMIN\\Desktop\\BACKUP\\study\\Italy\\polito\\classes\\20242\\deep learning\\project\\source_code\\fl-g13\\models\\fl_baseline\\FL_BaseDino_epoch_20.pth\n",
      "📦 Model class in checkpoint: BaseDino\n",
      "🔧 Model configuration: {'variant': 'dino_vits16', 'dropout_rate': 0.1, 'head_hidden_size': 1024, 'head_layers': 5, 'num_classes': 100, 'unfreeze_blocks': 3, 'activation_fn': 'GELU', 'pretrained': True}\n"
     ]
    },
    {
     "name": "stderr",
     "output_type": "stream",
     "text": [
      "Using cache found in C:\\Users\\ADMIN/.cache\\torch\\hub\\facebookresearch_dino_main\n"
     ]
    },
    {
     "ename": "RuntimeError",
     "evalue": "Error(s) in loading state_dict for BaseDino:\n\tMissing key(s) in state_dict: \"backbone.cls_token\", \"backbone.pos_embed\", \"backbone.patch_embed.proj.weight\", \"backbone.patch_embed.proj.bias\", \"backbone.blocks.0.norm1.weight\", \"backbone.blocks.0.norm1.bias\", \"backbone.blocks.0.attn.qkv.weight\", \"backbone.blocks.0.attn.qkv.bias\", \"backbone.blocks.0.attn.proj.weight\", \"backbone.blocks.0.attn.proj.bias\", \"backbone.blocks.0.norm2.weight\", \"backbone.blocks.0.norm2.bias\", \"backbone.blocks.0.mlp.fc1.weight\", \"backbone.blocks.0.mlp.fc1.bias\", \"backbone.blocks.0.mlp.fc2.weight\", \"backbone.blocks.0.mlp.fc2.bias\", \"backbone.blocks.1.norm1.weight\", \"backbone.blocks.1.norm1.bias\", \"backbone.blocks.1.attn.qkv.weight\", \"backbone.blocks.1.attn.qkv.bias\", \"backbone.blocks.1.attn.proj.weight\", \"backbone.blocks.1.attn.proj.bias\", \"backbone.blocks.1.norm2.weight\", \"backbone.blocks.1.norm2.bias\", \"backbone.blocks.1.mlp.fc1.weight\", \"backbone.blocks.1.mlp.fc1.bias\", \"backbone.blocks.1.mlp.fc2.weight\", \"backbone.blocks.1.mlp.fc2.bias\", \"backbone.blocks.2.norm1.weight\", \"backbone.blocks.2.norm1.bias\", \"backbone.blocks.2.attn.qkv.weight\", \"backbone.blocks.2.attn.qkv.bias\", \"backbone.blocks.2.attn.proj.weight\", \"backbone.blocks.2.attn.proj.bias\", \"backbone.blocks.2.norm2.weight\", \"backbone.blocks.2.norm2.bias\", \"backbone.blocks.2.mlp.fc1.weight\", \"backbone.blocks.2.mlp.fc1.bias\", \"backbone.blocks.2.mlp.fc2.weight\", \"backbone.blocks.2.mlp.fc2.bias\", \"backbone.blocks.3.norm1.weight\", \"backbone.blocks.3.norm1.bias\", \"backbone.blocks.3.attn.qkv.weight\", \"backbone.blocks.3.attn.qkv.bias\", \"backbone.blocks.3.attn.proj.weight\", \"backbone.blocks.3.attn.proj.bias\", \"backbone.blocks.3.norm2.weight\", \"backbone.blocks.3.norm2.bias\", \"backbone.blocks.3.mlp.fc1.weight\", \"backbone.blocks.3.mlp.fc1.bias\", \"backbone.blocks.3.mlp.fc2.weight\", \"backbone.blocks.3.mlp.fc2.bias\", \"backbone.blocks.4.norm1.weight\", \"backbone.blocks.4.norm1.bias\", \"backbone.blocks.4.attn.qkv.weight\", \"backbone.blocks.4.attn.qkv.bias\", \"backbone.blocks.4.attn.proj.weight\", \"backbone.blocks.4.attn.proj.bias\", \"backbone.blocks.4.norm2.weight\", \"backbone.blocks.4.norm2.bias\", \"backbone.blocks.4.mlp.fc1.weight\", \"backbone.blocks.4.mlp.fc1.bias\", \"backbone.blocks.4.mlp.fc2.weight\", \"backbone.blocks.4.mlp.fc2.bias\", \"backbone.blocks.5.norm1.weight\", \"backbone.blocks.5.norm1.bias\", \"backbone.blocks.5.attn.qkv.weight\", \"backbone.blocks.5.attn.qkv.bias\", \"backbone.blocks.5.attn.proj.weight\", \"backbone.blocks.5.attn.proj.bias\", \"backbone.blocks.5.norm2.weight\", \"backbone.blocks.5.norm2.bias\", \"backbone.blocks.5.mlp.fc1.weight\", \"backbone.blocks.5.mlp.fc1.bias\", \"backbone.blocks.5.mlp.fc2.weight\", \"backbone.blocks.5.mlp.fc2.bias\", \"backbone.blocks.6.norm1.weight\", \"backbone.blocks.6.norm1.bias\", \"backbone.blocks.6.attn.qkv.weight\", \"backbone.blocks.6.attn.qkv.bias\", \"backbone.blocks.6.attn.proj.weight\", \"backbone.blocks.6.attn.proj.bias\", \"backbone.blocks.6.norm2.weight\", \"backbone.blocks.6.norm2.bias\", \"backbone.blocks.6.mlp.fc1.weight\", \"backbone.blocks.6.mlp.fc1.bias\", \"backbone.blocks.6.mlp.fc2.weight\", \"backbone.blocks.6.mlp.fc2.bias\", \"backbone.blocks.7.norm1.weight\", \"backbone.blocks.7.norm1.bias\", \"backbone.blocks.7.attn.qkv.weight\", \"backbone.blocks.7.attn.qkv.bias\", \"backbone.blocks.7.attn.proj.weight\", \"backbone.blocks.7.attn.proj.bias\", \"backbone.blocks.7.norm2.weight\", \"backbone.blocks.7.norm2.bias\", \"backbone.blocks.7.mlp.fc1.weight\", \"backbone.blocks.7.mlp.fc1.bias\", \"backbone.blocks.7.mlp.fc2.weight\", \"backbone.blocks.7.mlp.fc2.bias\", \"backbone.blocks.8.norm1.weight\", \"backbone.blocks.8.norm1.bias\", \"backbone.blocks.8.attn.qkv.weight\", \"backbone.blocks.8.attn.qkv.bias\", \"backbone.blocks.8.attn.proj.weight\", \"backbone.blocks.8.attn.proj.bias\", \"backbone.blocks.8.norm2.weight\", \"backbone.blocks.8.norm2.bias\", \"backbone.blocks.8.mlp.fc1.weight\", \"backbone.blocks.8.mlp.fc1.bias\", \"backbone.blocks.8.mlp.fc2.weight\", \"backbone.blocks.8.mlp.fc2.bias\", \"backbone.blocks.9.norm1.weight\", \"backbone.blocks.9.norm1.bias\", \"backbone.blocks.9.attn.qkv.weight\", \"backbone.blocks.9.attn.qkv.bias\", \"backbone.blocks.9.attn.proj.weight\", \"backbone.blocks.9.attn.proj.bias\", \"backbone.blocks.9.norm2.weight\", \"backbone.blocks.9.norm2.bias\", \"backbone.blocks.9.mlp.fc1.weight\", \"backbone.blocks.9.mlp.fc1.bias\", \"backbone.blocks.9.mlp.fc2.weight\", \"backbone.blocks.9.mlp.fc2.bias\", \"backbone.blocks.10.norm1.weight\", \"backbone.blocks.10.norm1.bias\", \"backbone.blocks.10.attn.qkv.weight\", \"backbone.blocks.10.attn.qkv.bias\", \"backbone.blocks.10.attn.proj.weight\", \"backbone.blocks.10.attn.proj.bias\", \"backbone.blocks.10.norm2.weight\", \"backbone.blocks.10.norm2.bias\", \"backbone.blocks.10.mlp.fc1.weight\", \"backbone.blocks.10.mlp.fc1.bias\", \"backbone.blocks.10.mlp.fc2.weight\", \"backbone.blocks.10.mlp.fc2.bias\", \"backbone.blocks.11.norm1.weight\", \"backbone.blocks.11.norm1.bias\", \"backbone.blocks.11.attn.qkv.weight\", \"backbone.blocks.11.attn.qkv.bias\", \"backbone.blocks.11.attn.proj.weight\", \"backbone.blocks.11.attn.proj.bias\", \"backbone.blocks.11.norm2.weight\", \"backbone.blocks.11.norm2.bias\", \"backbone.blocks.11.mlp.fc1.weight\", \"backbone.blocks.11.mlp.fc1.bias\", \"backbone.blocks.11.mlp.fc2.weight\", \"backbone.blocks.11.mlp.fc2.bias\", \"backbone.norm.weight\", \"backbone.norm.bias\", \"head.0.weight\", \"head.0.bias\", \"head.3.weight\", \"head.3.bias\", \"head.6.weight\", \"head.6.bias\", \"head.9.weight\", \"head.9.bias\", \"head.12.weight\", \"head.12.bias\", \"head.15.weight\", \"head.15.bias\". \n\tUnexpected key(s) in state_dict: \"net.cls_token\", \"net.pos_embed\", \"net.patch_embed.proj.weight\", \"net.patch_embed.proj.bias\", \"net.blocks.0.norm1.weight\", \"net.blocks.0.norm1.bias\", \"net.blocks.0.attn.qkv.weight\", \"net.blocks.0.attn.qkv.bias\", \"net.blocks.0.attn.proj.weight\", \"net.blocks.0.attn.proj.bias\", \"net.blocks.0.norm2.weight\", \"net.blocks.0.norm2.bias\", \"net.blocks.0.mlp.fc1.weight\", \"net.blocks.0.mlp.fc1.bias\", \"net.blocks.0.mlp.fc2.weight\", \"net.blocks.0.mlp.fc2.bias\", \"net.blocks.1.norm1.weight\", \"net.blocks.1.norm1.bias\", \"net.blocks.1.attn.qkv.weight\", \"net.blocks.1.attn.qkv.bias\", \"net.blocks.1.attn.proj.weight\", \"net.blocks.1.attn.proj.bias\", \"net.blocks.1.norm2.weight\", \"net.blocks.1.norm2.bias\", \"net.blocks.1.mlp.fc1.weight\", \"net.blocks.1.mlp.fc1.bias\", \"net.blocks.1.mlp.fc2.weight\", \"net.blocks.1.mlp.fc2.bias\", \"net.blocks.2.norm1.weight\", \"net.blocks.2.norm1.bias\", \"net.blocks.2.attn.qkv.weight\", \"net.blocks.2.attn.qkv.bias\", \"net.blocks.2.attn.proj.weight\", \"net.blocks.2.attn.proj.bias\", \"net.blocks.2.norm2.weight\", \"net.blocks.2.norm2.bias\", \"net.blocks.2.mlp.fc1.weight\", \"net.blocks.2.mlp.fc1.bias\", \"net.blocks.2.mlp.fc2.weight\", \"net.blocks.2.mlp.fc2.bias\", \"net.blocks.3.norm1.weight\", \"net.blocks.3.norm1.bias\", \"net.blocks.3.attn.qkv.weight\", \"net.blocks.3.attn.qkv.bias\", \"net.blocks.3.attn.proj.weight\", \"net.blocks.3.attn.proj.bias\", \"net.blocks.3.norm2.weight\", \"net.blocks.3.norm2.bias\", \"net.blocks.3.mlp.fc1.weight\", \"net.blocks.3.mlp.fc1.bias\", \"net.blocks.3.mlp.fc2.weight\", \"net.blocks.3.mlp.fc2.bias\", \"net.blocks.4.norm1.weight\", \"net.blocks.4.norm1.bias\", \"net.blocks.4.attn.qkv.weight\", \"net.blocks.4.attn.qkv.bias\", \"net.blocks.4.attn.proj.weight\", \"net.blocks.4.attn.proj.bias\", \"net.blocks.4.norm2.weight\", \"net.blocks.4.norm2.bias\", \"net.blocks.4.mlp.fc1.weight\", \"net.blocks.4.mlp.fc1.bias\", \"net.blocks.4.mlp.fc2.weight\", \"net.blocks.4.mlp.fc2.bias\", \"net.blocks.5.norm1.weight\", \"net.blocks.5.norm1.bias\", \"net.blocks.5.attn.qkv.weight\", \"net.blocks.5.attn.qkv.bias\", \"net.blocks.5.attn.proj.weight\", \"net.blocks.5.attn.proj.bias\", \"net.blocks.5.norm2.weight\", \"net.blocks.5.norm2.bias\", \"net.blocks.5.mlp.fc1.weight\", \"net.blocks.5.mlp.fc1.bias\", \"net.blocks.5.mlp.fc2.weight\", \"net.blocks.5.mlp.fc2.bias\", \"net.blocks.6.norm1.weight\", \"net.blocks.6.norm1.bias\", \"net.blocks.6.attn.qkv.weight\", \"net.blocks.6.attn.qkv.bias\", \"net.blocks.6.attn.proj.weight\", \"net.blocks.6.attn.proj.bias\", \"net.blocks.6.norm2.weight\", \"net.blocks.6.norm2.bias\", \"net.blocks.6.mlp.fc1.weight\", \"net.blocks.6.mlp.fc1.bias\", \"net.blocks.6.mlp.fc2.weight\", \"net.blocks.6.mlp.fc2.bias\", \"net.blocks.7.norm1.weight\", \"net.blocks.7.norm1.bias\", \"net.blocks.7.attn.qkv.weight\", \"net.blocks.7.attn.qkv.bias\", \"net.blocks.7.attn.proj.weight\", \"net.blocks.7.attn.proj.bias\", \"net.blocks.7.norm2.weight\", \"net.blocks.7.norm2.bias\", \"net.blocks.7.mlp.fc1.weight\", \"net.blocks.7.mlp.fc1.bias\", \"net.blocks.7.mlp.fc2.weight\", \"net.blocks.7.mlp.fc2.bias\", \"net.blocks.8.norm1.weight\", \"net.blocks.8.norm1.bias\", \"net.blocks.8.attn.qkv.weight\", \"net.blocks.8.attn.qkv.bias\", \"net.blocks.8.attn.proj.weight\", \"net.blocks.8.attn.proj.bias\", \"net.blocks.8.norm2.weight\", \"net.blocks.8.norm2.bias\", \"net.blocks.8.mlp.fc1.weight\", \"net.blocks.8.mlp.fc1.bias\", \"net.blocks.8.mlp.fc2.weight\", \"net.blocks.8.mlp.fc2.bias\", \"net.blocks.9.norm1.weight\", \"net.blocks.9.norm1.bias\", \"net.blocks.9.attn.qkv.weight\", \"net.blocks.9.attn.qkv.bias\", \"net.blocks.9.attn.proj.weight\", \"net.blocks.9.attn.proj.bias\", \"net.blocks.9.norm2.weight\", \"net.blocks.9.norm2.bias\", \"net.blocks.9.mlp.fc1.weight\", \"net.blocks.9.mlp.fc1.bias\", \"net.blocks.9.mlp.fc2.weight\", \"net.blocks.9.mlp.fc2.bias\", \"net.blocks.10.norm1.weight\", \"net.blocks.10.norm1.bias\", \"net.blocks.10.attn.qkv.weight\", \"net.blocks.10.attn.qkv.bias\", \"net.blocks.10.attn.proj.weight\", \"net.blocks.10.attn.proj.bias\", \"net.blocks.10.norm2.weight\", \"net.blocks.10.norm2.bias\", \"net.blocks.10.mlp.fc1.weight\", \"net.blocks.10.mlp.fc1.bias\", \"net.blocks.10.mlp.fc2.weight\", \"net.blocks.10.mlp.fc2.bias\", \"net.blocks.11.norm1.weight\", \"net.blocks.11.norm1.bias\", \"net.blocks.11.attn.qkv.weight\", \"net.blocks.11.attn.qkv.bias\", \"net.blocks.11.attn.proj.weight\", \"net.blocks.11.attn.proj.bias\", \"net.blocks.11.norm2.weight\", \"net.blocks.11.norm2.bias\", \"net.blocks.11.mlp.fc1.weight\", \"net.blocks.11.mlp.fc1.bias\", \"net.blocks.11.mlp.fc2.weight\", \"net.blocks.11.mlp.fc2.bias\", \"net.norm.weight\", \"net.norm.bias\", \"net.head.0.weight\", \"net.head.0.bias\", \"net.head.3.weight\", \"net.head.3.bias\", \"net.head.6.weight\", \"net.head.6.bias\", \"net.head.9.weight\", \"net.head.9.bias\", \"net.head.12.weight\", \"net.head.12.bias\", \"net.head.15.weight\", \"net.head.15.bias\". ",
     "output_type": "error",
     "traceback": [
      "\u001B[1;31m---------------------------------------------------------------------------\u001B[0m",
      "\u001B[1;31mRuntimeError\u001B[0m                              Traceback (most recent call last)",
      "\u001B[1;32m~\\AppData\\Local\\Temp\\ipykernel_1348\\1328756545.py\u001B[0m in \u001B[0;36m<cell line: 1>\u001B[1;34m()\u001B[0m\n\u001B[1;32m----> 1\u001B[1;33m server = get_server_app(checkpoint_dir=checkpoint_dir,\n\u001B[0m\u001B[0;32m      2\u001B[0m                         \u001B[0mmodel_class\u001B[0m\u001B[1;33m=\u001B[0m\u001B[0mmodel\u001B[0m\u001B[1;33m,\u001B[0m\u001B[1;33m\u001B[0m\u001B[1;33m\u001B[0m\u001B[0m\n\u001B[0;32m      3\u001B[0m                         \u001B[0moptimizer\u001B[0m\u001B[1;33m=\u001B[0m\u001B[0moptimizer\u001B[0m\u001B[1;33m,\u001B[0m\u001B[1;33m\u001B[0m\u001B[1;33m\u001B[0m\u001B[0m\n\u001B[0;32m      4\u001B[0m                         \u001B[0mcriterion\u001B[0m\u001B[1;33m=\u001B[0m\u001B[0mcriterion\u001B[0m\u001B[1;33m,\u001B[0m\u001B[1;33m\u001B[0m\u001B[1;33m\u001B[0m\u001B[0m\n\u001B[0;32m      5\u001B[0m                         \u001B[0mscheduler\u001B[0m\u001B[1;33m=\u001B[0m\u001B[0mscheduler\u001B[0m\u001B[1;33m,\u001B[0m\u001B[1;33m\u001B[0m\u001B[1;33m\u001B[0m\u001B[0m\n",
      "\u001B[1;32m~\\Desktop\\BACKUP\\study\\Italy\\polito\\classes\\20242\\deep learning\\project\\source_code\\fl-g13\\fl_g13\\fl_pytorch\\server_app.py\u001B[0m in \u001B[0;36mget_server_app\u001B[1;34m(checkpoint_dir, prefix, model_class, model_config, optimizer, criterion, scheduler, device, save_every, save_with_model_dir, get_evaluate_fn, num_rounds, fraction_fit, fraction_evaluate, min_fit_clients, min_evaluate_clients, min_available_clients, use_wandb, wandb_config)\u001B[0m\n\u001B[0;32m     67\u001B[0m \u001B[1;33m\u001B[0m\u001B[0m\n\u001B[0;32m     68\u001B[0m     \u001B[1;31m# Load or create model if not found in checkpoint_dir\u001B[0m\u001B[1;33m\u001B[0m\u001B[1;33m\u001B[0m\u001B[0m\n\u001B[1;32m---> 69\u001B[1;33m     model, start_epoch = load_or_create(\n\u001B[0m\u001B[0;32m     70\u001B[0m         \u001B[0mpath\u001B[0m\u001B[1;33m=\u001B[0m\u001B[1;34mf\"{checkpoint_dir}/{model_class.__name__}\"\u001B[0m \u001B[1;32mif\u001B[0m \u001B[0msave_with_model_dir\u001B[0m \u001B[1;32melse\u001B[0m \u001B[0mcheckpoint_dir\u001B[0m\u001B[1;33m,\u001B[0m\u001B[1;33m\u001B[0m\u001B[1;33m\u001B[0m\u001B[0m\n\u001B[0;32m     71\u001B[0m         \u001B[0mmodel_class\u001B[0m\u001B[1;33m=\u001B[0m\u001B[0mmodel_class\u001B[0m\u001B[1;33m,\u001B[0m\u001B[1;33m\u001B[0m\u001B[1;33m\u001B[0m\u001B[0m\n",
      "\u001B[1;32m~\\Desktop\\BACKUP\\study\\Italy\\polito\\classes\\20242\\deep learning\\project\\source_code\\fl-g13\\fl_g13\\modeling\\load.py\u001B[0m in \u001B[0;36mload_or_create\u001B[1;34m(path, model_class, model_config, device, optimizer, scheduler, verbose)\u001B[0m\n\u001B[0;32m    286\u001B[0m     \"\"\"\n\u001B[0;32m    287\u001B[0m     \u001B[1;32mtry\u001B[0m\u001B[1;33m:\u001B[0m\u001B[1;33m\u001B[0m\u001B[1;33m\u001B[0m\u001B[0m\n\u001B[1;32m--> 288\u001B[1;33m         \u001B[1;32mreturn\u001B[0m  \u001B[0mload\u001B[0m\u001B[1;33m(\u001B[0m\u001B[0mpath\u001B[0m\u001B[1;33m,\u001B[0m \u001B[0mmodel_class\u001B[0m\u001B[1;33m,\u001B[0m \u001B[0mdevice\u001B[0m\u001B[1;33m,\u001B[0m \u001B[0moptimizer\u001B[0m\u001B[1;33m,\u001B[0m \u001B[0mscheduler\u001B[0m\u001B[1;33m,\u001B[0m \u001B[0mverbose\u001B[0m\u001B[1;33m)\u001B[0m\u001B[1;33m\u001B[0m\u001B[1;33m\u001B[0m\u001B[0m\n\u001B[0m\u001B[0;32m    289\u001B[0m     \u001B[1;32mexcept\u001B[0m \u001B[0mFileNotFoundError\u001B[0m\u001B[1;33m:\u001B[0m\u001B[1;33m\u001B[0m\u001B[1;33m\u001B[0m\u001B[0m\n\u001B[0;32m    290\u001B[0m         \u001B[1;32mif\u001B[0m \u001B[0mverbose\u001B[0m\u001B[1;33m:\u001B[0m\u001B[1;33m\u001B[0m\u001B[1;33m\u001B[0m\u001B[0m\n",
      "\u001B[1;32m~\\Desktop\\BACKUP\\study\\Italy\\polito\\classes\\20242\\deep learning\\project\\source_code\\fl-g13\\fl_g13\\modeling\\load.py\u001B[0m in \u001B[0;36mload\u001B[1;34m(path, model_class, device, optimizer, scheduler, verbose)\u001B[0m\n\u001B[0;32m    229\u001B[0m \u001B[1;33m\u001B[0m\u001B[0m\n\u001B[0;32m    230\u001B[0m     \u001B[1;31m# Load model weights from the checkpoint\u001B[0m\u001B[1;33m\u001B[0m\u001B[1;33m\u001B[0m\u001B[0m\n\u001B[1;32m--> 231\u001B[1;33m     \u001B[0mmodel\u001B[0m\u001B[1;33m.\u001B[0m\u001B[0mload_state_dict\u001B[0m\u001B[1;33m(\u001B[0m\u001B[0mcheckpoint\u001B[0m\u001B[1;33m[\u001B[0m\u001B[0mModelKeys\u001B[0m\u001B[1;33m.\u001B[0m\u001B[0mMODEL_STATE_DICT\u001B[0m\u001B[1;33m.\u001B[0m\u001B[0mvalue\u001B[0m\u001B[1;33m]\u001B[0m\u001B[1;33m)\u001B[0m\u001B[1;33m\u001B[0m\u001B[1;33m\u001B[0m\u001B[0m\n\u001B[0m\u001B[0;32m    232\u001B[0m \u001B[1;33m\u001B[0m\u001B[0m\n\u001B[0;32m    233\u001B[0m     \u001B[1;32mif\u001B[0m \u001B[0mdevice\u001B[0m\u001B[1;33m:\u001B[0m \u001B[1;31m# Only move if a device was specified\u001B[0m\u001B[1;33m\u001B[0m\u001B[1;33m\u001B[0m\u001B[0m\n",
      "\u001B[1;32m~\\Desktop\\BACKUP\\study\\Italy\\polito\\classes\\20242\\deep learning\\project\\source_code\\fl-g13\\.venv\\lib\\site-packages\\torch\\nn\\modules\\module.py\u001B[0m in \u001B[0;36mload_state_dict\u001B[1;34m(self, state_dict, strict, assign)\u001B[0m\n\u001B[0;32m   2579\u001B[0m \u001B[1;33m\u001B[0m\u001B[0m\n\u001B[0;32m   2580\u001B[0m         \u001B[1;32mif\u001B[0m \u001B[0mlen\u001B[0m\u001B[1;33m(\u001B[0m\u001B[0merror_msgs\u001B[0m\u001B[1;33m)\u001B[0m \u001B[1;33m>\u001B[0m \u001B[1;36m0\u001B[0m\u001B[1;33m:\u001B[0m\u001B[1;33m\u001B[0m\u001B[1;33m\u001B[0m\u001B[0m\n\u001B[1;32m-> 2581\u001B[1;33m             raise RuntimeError(\n\u001B[0m\u001B[0;32m   2582\u001B[0m                 \"Error(s) in loading state_dict for {}:\\n\\t{}\".format(\n\u001B[0;32m   2583\u001B[0m                     \u001B[0mself\u001B[0m\u001B[1;33m.\u001B[0m\u001B[0m__class__\u001B[0m\u001B[1;33m.\u001B[0m\u001B[0m__name__\u001B[0m\u001B[1;33m,\u001B[0m \u001B[1;34m\"\\n\\t\"\u001B[0m\u001B[1;33m.\u001B[0m\u001B[0mjoin\u001B[0m\u001B[1;33m(\u001B[0m\u001B[0merror_msgs\u001B[0m\u001B[1;33m)\u001B[0m\u001B[1;33m\u001B[0m\u001B[1;33m\u001B[0m\u001B[0m\n",
      "\u001B[1;31mRuntimeError\u001B[0m: Error(s) in loading state_dict for BaseDino:\n\tMissing key(s) in state_dict: \"backbone.cls_token\", \"backbone.pos_embed\", \"backbone.patch_embed.proj.weight\", \"backbone.patch_embed.proj.bias\", \"backbone.blocks.0.norm1.weight\", \"backbone.blocks.0.norm1.bias\", \"backbone.blocks.0.attn.qkv.weight\", \"backbone.blocks.0.attn.qkv.bias\", \"backbone.blocks.0.attn.proj.weight\", \"backbone.blocks.0.attn.proj.bias\", \"backbone.blocks.0.norm2.weight\", \"backbone.blocks.0.norm2.bias\", \"backbone.blocks.0.mlp.fc1.weight\", \"backbone.blocks.0.mlp.fc1.bias\", \"backbone.blocks.0.mlp.fc2.weight\", \"backbone.blocks.0.mlp.fc2.bias\", \"backbone.blocks.1.norm1.weight\", \"backbone.blocks.1.norm1.bias\", \"backbone.blocks.1.attn.qkv.weight\", \"backbone.blocks.1.attn.qkv.bias\", \"backbone.blocks.1.attn.proj.weight\", \"backbone.blocks.1.attn.proj.bias\", \"backbone.blocks.1.norm2.weight\", \"backbone.blocks.1.norm2.bias\", \"backbone.blocks.1.mlp.fc1.weight\", \"backbone.blocks.1.mlp.fc1.bias\", \"backbone.blocks.1.mlp.fc2.weight\", \"backbone.blocks.1.mlp.fc2.bias\", \"backbone.blocks.2.norm1.weight\", \"backbone.blocks.2.norm1.bias\", \"backbone.blocks.2.attn.qkv.weight\", \"backbone.blocks.2.attn.qkv.bias\", \"backbone.blocks.2.attn.proj.weight\", \"backbone.blocks.2.attn.proj.bias\", \"backbone.blocks.2.norm2.weight\", \"backbone.blocks.2.norm2.bias\", \"backbone.blocks.2.mlp.fc1.weight\", \"backbone.blocks.2.mlp.fc1.bias\", \"backbone.blocks.2.mlp.fc2.weight\", \"backbone.blocks.2.mlp.fc2.bias\", \"backbone.blocks.3.norm1.weight\", \"backbone.blocks.3.norm1.bias\", \"backbone.blocks.3.attn.qkv.weight\", \"backbone.blocks.3.attn.qkv.bias\", \"backbone.blocks.3.attn.proj.weight\", \"backbone.blocks.3.attn.proj.bias\", \"backbone.blocks.3.norm2.weight\", \"backbone.blocks.3.norm2.bias\", \"backbone.blocks.3.mlp.fc1.weight\", \"backbone.blocks.3.mlp.fc1.bias\", \"backbone.blocks.3.mlp.fc2.weight\", \"backbone.blocks.3.mlp.fc2.bias\", \"backbone.blocks.4.norm1.weight\", \"backbone.blocks.4.norm1.bias\", \"backbone.blocks.4.attn.qkv.weight\", \"backbone.blocks.4.attn.qkv.bias\", \"backbone.blocks.4.attn.proj.weight\", \"backbone.blocks.4.attn.proj.bias\", \"backbone.blocks.4.norm2.weight\", \"backbone.blocks.4.norm2.bias\", \"backbone.blocks.4.mlp.fc1.weight\", \"backbone.blocks.4.mlp.fc1.bias\", \"backbone.blocks.4.mlp.fc2.weight\", \"backbone.blocks.4.mlp.fc2.bias\", \"backbone.blocks.5.norm1.weight\", \"backbone.blocks.5.norm1.bias\", \"backbone.blocks.5.attn.qkv.weight\", \"backbone.blocks.5.attn.qkv.bias\", \"backbone.blocks.5.attn.proj.weight\", \"backbone.blocks.5.attn.proj.bias\", \"backbone.blocks.5.norm2.weight\", \"backbone.blocks.5.norm2.bias\", \"backbone.blocks.5.mlp.fc1.weight\", \"backbone.blocks.5.mlp.fc1.bias\", \"backbone.blocks.5.mlp.fc2.weight\", \"backbone.blocks.5.mlp.fc2.bias\", \"backbone.blocks.6.norm1.weight\", \"backbone.blocks.6.norm1.bias\", \"backbone.blocks.6.attn.qkv.weight\", \"backbone.blocks.6.attn.qkv.bias\", \"backbone.blocks.6.attn.proj.weight\", \"backbone.blocks.6.attn.proj.bias\", \"backbone.blocks.6.norm2.weight\", \"backbone.blocks.6.norm2.bias\", \"backbone.blocks.6.mlp.fc1.weight\", \"backbone.blocks.6.mlp.fc1.bias\", \"backbone.blocks.6.mlp.fc2.weight\", \"backbone.blocks.6.mlp.fc2.bias\", \"backbone.blocks.7.norm1.weight\", \"backbone.blocks.7.norm1.bias\", \"backbone.blocks.7.attn.qkv.weight\", \"backbone.blocks.7.attn.qkv.bias\", \"backbone.blocks.7.attn.proj.weight\", \"backbone.blocks.7.attn.proj.bias\", \"backbone.blocks.7.norm2.weight\", \"backbone.blocks.7.norm2.bias\", \"backbone.blocks.7.mlp.fc1.weight\", \"backbone.blocks.7.mlp.fc1.bias\", \"backbone.blocks.7.mlp.fc2.weight\", \"backbone.blocks.7.mlp.fc2.bias\", \"backbone.blocks.8.norm1.weight\", \"backbone.blocks.8.norm1.bias\", \"backbone.blocks.8.attn.qkv.weight\", \"backbone.blocks.8.attn.qkv.bias\", \"backbone.blocks.8.attn.proj.weight\", \"backbone.blocks.8.attn.proj.bias\", \"backbone.blocks.8.norm2.weight\", \"backbone.blocks.8.norm2.bias\", \"backbone.blocks.8.mlp.fc1.weight\", \"backbone.blocks.8.mlp.fc1.bias\", \"backbone.blocks.8.mlp.fc2.weight\", \"backbone.blocks.8.mlp.fc2.bias\", \"backbone.blocks.9.norm1.weight\", \"backbone.blocks.9.norm1.bias\", \"backbone.blocks.9.attn.qkv.weight\", \"backbone.blocks.9.attn.qkv.bias\", \"backbone.blocks.9.attn.proj.weight\", \"backbone.blocks.9.attn.proj.bias\", \"backbone.blocks.9.norm2.weight\", \"backbone.blocks.9.norm2.bias\", \"backbone.blocks.9.mlp.fc1.weight\", \"backbone.blocks.9.mlp.fc1.bias\", \"backbone.blocks.9.mlp.fc2.weight\", \"backbone.blocks.9.mlp.fc2.bias\", \"backbone.blocks.10.norm1.weight\", \"backbone.blocks.10.norm1.bias\", \"backbone.blocks.10.attn.qkv.weight\", \"backbone.blocks.10.attn.qkv.bias\", \"backbone.blocks.10.attn.proj.weight\", \"backbone.blocks.10.attn.proj.bias\", \"backbone.blocks.10.norm2.weight\", \"backbone.blocks.10.norm2.bias\", \"backbone.blocks.10.mlp.fc1.weight\", \"backbone.blocks.10.mlp.fc1.bias\", \"backbone.blocks.10.mlp.fc2.weight\", \"backbone.blocks.10.mlp.fc2.bias\", \"backbone.blocks.11.norm1.weight\", \"backbone.blocks.11.norm1.bias\", \"backbone.blocks.11.attn.qkv.weight\", \"backbone.blocks.11.attn.qkv.bias\", \"backbone.blocks.11.attn.proj.weight\", \"backbone.blocks.11.attn.proj.bias\", \"backbone.blocks.11.norm2.weight\", \"backbone.blocks.11.norm2.bias\", \"backbone.blocks.11.mlp.fc1.weight\", \"backbone.blocks.11.mlp.fc1.bias\", \"backbone.blocks.11.mlp.fc2.weight\", \"backbone.blocks.11.mlp.fc2.bias\", \"backbone.norm.weight\", \"backbone.norm.bias\", \"head.0.weight\", \"head.0.bias\", \"head.3.weight\", \"head.3.bias\", \"head.6.weight\", \"head.6.bias\", \"head.9.weight\", \"head.9.bias\", \"head.12.weight\", \"head.12.bias\", \"head.15.weight\", \"head.15.bias\". \n\tUnexpected key(s) in state_dict: \"net.cls_token\", \"net.pos_embed\", \"net.patch_embed.proj.weight\", \"net.patch_embed.proj.bias\", \"net.blocks.0.norm1.weight\", \"net.blocks.0.norm1.bias\", \"net.blocks.0.attn.qkv.weight\", \"net.blocks.0.attn.qkv.bias\", \"net.blocks.0.attn.proj.weight\", \"net.blocks.0.attn.proj.bias\", \"net.blocks.0.norm2.weight\", \"net.blocks.0.norm2.bias\", \"net.blocks.0.mlp.fc1.weight\", \"net.blocks.0.mlp.fc1.bias\", \"net.blocks.0.mlp.fc2.weight\", \"net.blocks.0.mlp.fc2.bias\", \"net.blocks.1.norm1.weight\", \"net.blocks.1.norm1.bias\", \"net.blocks.1.attn.qkv.weight\", \"net.blocks.1.attn.qkv.bias\", \"net.blocks.1.attn.proj.weight\", \"net.blocks.1.attn.proj.bias\", \"net.blocks.1.norm2.weight\", \"net.blocks.1.norm2.bias\", \"net.blocks.1.mlp.fc1.weight\", \"net.blocks.1.mlp.fc1.bias\", \"net.blocks.1.mlp.fc2.weight\", \"net.blocks.1.mlp.fc2.bias\", \"net.blocks.2.norm1.weight\", \"net.blocks.2.norm1.bias\", \"net.blocks.2.attn.qkv.weight\", \"net.blocks.2.attn.qkv.bias\", \"net.blocks.2.attn.proj.weight\", \"net.blocks.2.attn.proj.bias\", \"net.blocks.2.norm2.weight\", \"net.blocks.2.norm2.bias\", \"net.blocks.2.mlp.fc1.weight\", \"net.blocks.2.mlp.fc1.bias\", \"net.blocks.2.mlp.fc2.weight\", \"net.blocks.2.mlp.fc2.bias\", \"net.blocks.3.norm1.weight\", \"net.blocks.3.norm1.bias\", \"net.blocks.3.attn.qkv.weight\", \"net.blocks.3.attn.qkv.bias\", \"net.blocks.3.attn.proj.weight\", \"net.blocks.3.attn.proj.bias\", \"net.blocks.3.norm2.weight\", \"net.blocks.3.norm2.bias\", \"net.blocks.3.mlp.fc1.weight\", \"net.blocks.3.mlp.fc1.bias\", \"net.blocks.3.mlp.fc2.weight\", \"net.blocks.3.mlp.fc2.bias\", \"net.blocks.4.norm1.weight\", \"net.blocks.4.norm1.bias\", \"net.blocks.4.attn.qkv.weight\", \"net.blocks.4.attn.qkv.bias\", \"net.blocks.4.attn.proj.weight\", \"net.blocks.4.attn.proj.bias\", \"net.blocks.4.norm2.weight\", \"net.blocks.4.norm2.bias\", \"net.blocks.4.mlp.fc1.weight\", \"net.blocks.4.mlp.fc1.bias\", \"net.blocks.4.mlp.fc2.weight\", \"net.blocks.4.mlp.fc2.bias\", \"net.blocks.5.norm1.weight\", \"net.blocks.5.norm1.bias\", \"net.blocks.5.attn.qkv.weight\", \"net.blocks.5.attn.qkv.bias\", \"net.blocks.5.attn.proj.weight\", \"net.blocks.5.attn.proj.bias\", \"net.blocks.5.norm2.weight\", \"net.blocks.5.norm2.bias\", \"net.blocks.5.mlp.fc1.weight\", \"net.blocks.5.mlp.fc1.bias\", \"net.blocks.5.mlp.fc2.weight\", \"net.blocks.5.mlp.fc2.bias\", \"net.blocks.6.norm1.weight\", \"net.blocks.6.norm1.bias\", \"net.blocks.6.attn.qkv.weight\", \"net.blocks.6.attn.qkv.bias\", \"net.blocks.6.attn.proj.weight\", \"net.blocks.6.attn.proj.bias\", \"net.blocks.6.norm2.weight\", \"net.blocks.6.norm2.bias\", \"net.blocks.6.mlp.fc1.weight\", \"net.blocks.6.mlp.fc1.bias\", \"net.blocks.6.mlp.fc2.weight\", \"net.blocks.6.mlp.fc2.bias\", \"net.blocks.7.norm1.weight\", \"net.blocks.7.norm1.bias\", \"net.blocks.7.attn.qkv.weight\", \"net.blocks.7.attn.qkv.bias\", \"net.blocks.7.attn.proj.weight\", \"net.blocks.7.attn.proj.bias\", \"net.blocks.7.norm2.weight\", \"net.blocks.7.norm2.bias\", \"net.blocks.7.mlp.fc1.weight\", \"net.blocks.7.mlp.fc1.bias\", \"net.blocks.7.mlp.fc2.weight\", \"net.blocks.7.mlp.fc2.bias\", \"net.blocks.8.norm1.weight\", \"net.blocks.8.norm1.bias\", \"net.blocks.8.attn.qkv.weight\", \"net.blocks.8.attn.qkv.bias\", \"net.blocks.8.attn.proj.weight\", \"net.blocks.8.attn.proj.bias\", \"net.blocks.8.norm2.weight\", \"net.blocks.8.norm2.bias\", \"net.blocks.8.mlp.fc1.weight\", \"net.blocks.8.mlp.fc1.bias\", \"net.blocks.8.mlp.fc2.weight\", \"net.blocks.8.mlp.fc2.bias\", \"net.blocks.9.norm1.weight\", \"net.blocks.9.norm1.bias\", \"net.blocks.9.attn.qkv.weight\", \"net.blocks.9.attn.qkv.bias\", \"net.blocks.9.attn.proj.weight\", \"net.blocks.9.attn.proj.bias\", \"net.blocks.9.norm2.weight\", \"net.blocks.9.norm2.bias\", \"net.blocks.9.mlp.fc1.weight\", \"net.blocks.9.mlp.fc1.bias\", \"net.blocks.9.mlp.fc2.weight\", \"net.blocks.9.mlp.fc2.bias\", \"net.blocks.10.norm1.weight\", \"net.blocks.10.norm1.bias\", \"net.blocks.10.attn.qkv.weight\", \"net.blocks.10.attn.qkv.bias\", \"net.blocks.10.attn.proj.weight\", \"net.blocks.10.attn.proj.bias\", \"net.blocks.10.norm2.weight\", \"net.blocks.10.norm2.bias\", \"net.blocks.10.mlp.fc1.weight\", \"net.blocks.10.mlp.fc1.bias\", \"net.blocks.10.mlp.fc2.weight\", \"net.blocks.10.mlp.fc2.bias\", \"net.blocks.11.norm1.weight\", \"net.blocks.11.norm1.bias\", \"net.blocks.11.attn.qkv.weight\", \"net.blocks.11.attn.qkv.bias\", \"net.blocks.11.attn.proj.weight\", \"net.blocks.11.attn.proj.bias\", \"net.blocks.11.norm2.weight\", \"net.blocks.11.norm2.bias\", \"net.blocks.11.mlp.fc1.weight\", \"net.blocks.11.mlp.fc1.bias\", \"net.blocks.11.mlp.fc2.weight\", \"net.blocks.11.mlp.fc2.bias\", \"net.norm.weight\", \"net.norm.bias\", \"net.head.0.weight\", \"net.head.0.bias\", \"net.head.3.weight\", \"net.head.3.bias\", \"net.head.6.weight\", \"net.head.6.bias\", \"net.head.9.weight\", \"net.head.9.bias\", \"net.head.12.weight\", \"net.head.12.bias\", \"net.head.15.weight\", \"net.head.15.bias\". "
     ]
    }
   ],
   "execution_count": 26
  },
  {
   "metadata": {},
   "cell_type": "markdown",
   "source": "# Run the training\n",
   "id": "1427a966f7544b94"
  },
  {
   "metadata": {
    "ExecuteTime": {
     "end_time": "2025-04-20T20:47:28.501457Z",
     "start_time": "2025-04-20T20:47:27.943939Z"
    }
   },
   "cell_type": "code",
   "source": [
    "# Specify the resources each of your clients need\n",
    "# By default, each client will be allocated 1x CPU and 0x GPUs\n",
    "backend_config = {\"client_resources\": {\"num_cpus\": 1, \"num_gpus\": 0.0}}\n",
    "\n",
    "# When running on GPU, assign an entire GPU for each client\n",
    "if DEVICE == \"cuda\":\n",
    "    backend_config[\"client_resources\"] = {\"num_cpus\": 1, \"num_gpus\": 1}\n",
    "    # Refer to our Flower framework documentation for more details about Flower simulations\n",
    "    # and how to set up the `backend_config`"
   ],
   "id": "1388e3308f7b212b",
   "outputs": [],
   "execution_count": 14
  },
  {
   "metadata": {},
   "cell_type": "markdown",
   "source": [
    "### Download missing module for clients\n",
    "\n",
    "Dino model,that is serialized and sent to client by server, require some modules that have to download from source code of dino model\n"
   ],
   "id": "9399f1a9cedc8cc3"
  },
  {
   "metadata": {
    "ExecuteTime": {
     "end_time": "2025-04-20T20:47:30.595118Z",
     "start_time": "2025-04-20T20:47:30.027588Z"
    }
   },
   "cell_type": "code",
   "source": [
    "import os\n",
    "import urllib.request\n",
    "\n",
    "\n",
    "def download_if_not_exists(file_path: str, file_url: str):\n",
    "    \"\"\"\n",
    "    Checks if a file exists at the given path. If it does not, downloads it from the specified URL.\n",
    "\n",
    "    Parameters:\n",
    "    - file_path (str): The local path to check and save the file.\n",
    "    - file_url (str): The URL from which to download the file.\n",
    "    \"\"\"\n",
    "    if not os.path.exists(file_path):\n",
    "        print(f\"'{file_path}' not found. Downloading from {file_url}...\")\n",
    "        try:\n",
    "            urllib.request.urlretrieve(file_url, file_path)\n",
    "            print(\"Download complete.\")\n",
    "        except Exception as e:\n",
    "            print(f\"Failed to download file: {e}\")\n",
    "    else:\n",
    "        print(f\"'{file_path}' already exists.\")"
   ],
   "id": "beb2c855fcd8933c",
   "outputs": [],
   "execution_count": 15
  },
  {
   "metadata": {
    "ExecuteTime": {
     "end_time": "2025-04-20T20:47:31.815838Z",
     "start_time": "2025-04-20T20:47:31.221332Z"
    }
   },
   "cell_type": "code",
   "source": [
    "download_if_not_exists(\"vision_transformer.py\",\n",
    "                       \"https://raw.githubusercontent.com/facebookresearch/dino/refs/heads/main/vision_transformer.py\")\n",
    "download_if_not_exists(\"utils.py\",\n",
    "                       \"https://raw.githubusercontent.com/facebookresearch/dino/refs/heads/main/utils.py\")\n"
   ],
   "id": "d93caca63a33c71f",
   "outputs": [
    {
     "name": "stdout",
     "output_type": "stream",
     "text": [
      "'vision_transformer.py' already exists.\n",
      "'utils.py' already exists.\n"
     ]
    }
   ],
   "execution_count": 16
  },
  {
   "metadata": {},
   "cell_type": "markdown",
   "source": "",
   "id": "9a1db478a3e1221"
  },
  {
   "metadata": {
    "ExecuteTime": {
     "end_time": "2025-04-20T20:47:33.406271Z",
     "start_time": "2025-04-20T20:47:32.913672Z"
    }
   },
   "cell_type": "code",
   "source": "",
   "id": "23d2a1e147f59ffc",
   "outputs": [],
   "execution_count": 17
  },
  {
   "metadata": {
    "ExecuteTime": {
     "end_time": "2025-04-20T21:19:08.531054Z",
     "start_time": "2025-04-20T20:47:37.274703Z"
    }
   },
   "cell_type": "code",
   "source": [
    "# Run simulation\n",
    "run_simulation(\n",
    "    server_app=server,\n",
    "    client_app=client,\n",
    "    num_supernodes=NUM_CLIENTS,\n",
    "    backend_config=backend_config\n",
    ")"
   ],
   "id": "1451e826d4713ec9",
   "outputs": [
    {
     "name": "stderr",
     "output_type": "stream",
     "text": [
      "\u001B[92mINFO \u001B[0m:      Starting Flower ServerApp, config: num_rounds=2, no round_timeout\n",
      "\u001B[92mINFO \u001B[0m:      \n"
     ]
    },
    {
     "name": "stdout",
     "output_type": "stream",
     "text": [
      "Continue train model from epoch 2\n"
     ]
    },
    {
     "name": "stderr",
     "output_type": "stream",
     "text": [
      "\u001B[92mINFO \u001B[0m:      [INIT]\n",
      "\u001B[92mINFO \u001B[0m:      Using initial global parameters provided by strategy\n",
      "\u001B[92mINFO \u001B[0m:      Starting evaluation of initial global parameters\n",
      "\u001B[92mINFO \u001B[0m:      ROUND 0💡 New best global model found: 0.009400\n",
      "\u001B[92mINFO \u001B[0m:      initial parameters (loss, other metrics): 5.01113680948185, {'centralized_accuracy': 0.0094}\n",
      "\u001B[92mINFO \u001B[0m:      \n",
      "\u001B[92mINFO \u001B[0m:      [ROUND 1]\n",
      "\u001B[92mINFO \u001B[0m:      configure_fit: strategy sampled 10 clients (out of 10)\n",
      "\u001B[36m(ClientAppActor pid=24912)\u001B[0m 2025-04-20 22:52:12.922 | INFO     | fl_g13.config:<module>:11 - PROJ_ROOT path is: C:\\Users\\ADMIN\\Desktop\\BACKUP\\study\\Italy\\polito\\classes\\20242\\deep learning\\project\\source_code\\fl-g13\n"
     ]
    },
    {
     "name": "stdout",
     "output_type": "stream",
     "text": [
      "\u001B[36m(ClientAppActor pid=24912)\u001B[0m Client 0 is ready to train\n",
      "\u001B[36m(ClientAppActor pid=24912)\u001B[0m No prefix/name for the model was provided, choosen prefix/name: bouncy_ivysaur_68\n",
      "\u001B[36m(ClientAppActor pid=24912)\u001B[0m \n",
      "\u001B[36m(ClientAppActor pid=24912)\u001B[0m 🚀 Epoch 1/3 (33.33%) Completed\n",
      "\u001B[36m(ClientAppActor pid=24912)\u001B[0m \t📊 Training Loss: 5.1139\n",
      "\u001B[36m(ClientAppActor pid=24912)\u001B[0m \t✅ Training Accuracy: 1.07%\n",
      "\u001B[36m(ClientAppActor pid=24912)\u001B[0m \t⏳ Elapsed Time: 16.03s | ETA: 32.07s\n",
      "\u001B[36m(ClientAppActor pid=24912)\u001B[0m \t🕒 Completed At: 22:52\n",
      "\u001B[36m(ClientAppActor pid=24912)\u001B[0m \n",
      "\u001B[36m(ClientAppActor pid=24912)\u001B[0m 🚀 Epoch 2/3 (66.67%) Completed\n",
      "\u001B[36m(ClientAppActor pid=24912)\u001B[0m \t📊 Training Loss: 5.0673\n",
      "\u001B[36m(ClientAppActor pid=24912)\u001B[0m \t✅ Training Accuracy: 1.00%\n",
      "\u001B[36m(ClientAppActor pid=24912)\u001B[0m \t⏳ Elapsed Time: 15.22s | ETA: 15.22s\n",
      "\u001B[36m(ClientAppActor pid=24912)\u001B[0m \t🕒 Completed At: 22:52\n",
      "\u001B[36m(ClientAppActor pid=24912)\u001B[0m \n",
      "\u001B[36m(ClientAppActor pid=24912)\u001B[0m 🚀 Epoch 3/3 (100.00%) Completed\n",
      "\u001B[36m(ClientAppActor pid=24912)\u001B[0m \t📊 Training Loss: 4.9448\n",
      "\u001B[36m(ClientAppActor pid=24912)\u001B[0m \t✅ Training Accuracy: 0.85%\n",
      "\u001B[36m(ClientAppActor pid=24912)\u001B[0m \t⏳ Elapsed Time: 15.26s | ETA: 0.00s\n",
      "\u001B[36m(ClientAppActor pid=24912)\u001B[0m \t🕒 Completed At: 22:53\n",
      "\u001B[36m(ClientAppActor pid=24912)\u001B[0m \n",
      "\u001B[36m(ClientAppActor pid=24912)\u001B[0m Client 1 is ready to train\n",
      "\u001B[36m(ClientAppActor pid=24912)\u001B[0m No prefix/name for the model was provided, choosen prefix/name: grumpy_nidorina_52\n",
      "\u001B[36m(ClientAppActor pid=24912)\u001B[0m \n",
      "\u001B[36m(ClientAppActor pid=24912)\u001B[0m 🚀 Epoch 1/3 (33.33%) Completed\n",
      "\u001B[36m(ClientAppActor pid=24912)\u001B[0m \t📊 Training Loss: 5.1496\n",
      "\u001B[36m(ClientAppActor pid=24912)\u001B[0m \t✅ Training Accuracy: 1.27%\n",
      "\u001B[36m(ClientAppActor pid=24912)\u001B[0m \t⏳ Elapsed Time: 15.49s | ETA: 30.99s\n",
      "\u001B[36m(ClientAppActor pid=24912)\u001B[0m \t🕒 Completed At: 22:53\n",
      "\u001B[36m(ClientAppActor pid=24912)\u001B[0m \n",
      "\u001B[36m(ClientAppActor pid=24912)\u001B[0m 🚀 Epoch 2/3 (66.67%) Completed\n",
      "\u001B[36m(ClientAppActor pid=24912)\u001B[0m \t📊 Training Loss: 5.0388\n",
      "\u001B[36m(ClientAppActor pid=24912)\u001B[0m \t✅ Training Accuracy: 1.12%\n",
      "\u001B[36m(ClientAppActor pid=24912)\u001B[0m \t⏳ Elapsed Time: 15.31s | ETA: 15.31s\n",
      "\u001B[36m(ClientAppActor pid=24912)\u001B[0m \t🕒 Completed At: 22:53\n",
      "\u001B[36m(ClientAppActor pid=24912)\u001B[0m \n",
      "\u001B[36m(ClientAppActor pid=24912)\u001B[0m 🚀 Epoch 3/3 (100.00%) Completed\n",
      "\u001B[36m(ClientAppActor pid=24912)\u001B[0m \t📊 Training Loss: 4.9292\n",
      "\u001B[36m(ClientAppActor pid=24912)\u001B[0m \t✅ Training Accuracy: 1.18%\n",
      "\u001B[36m(ClientAppActor pid=24912)\u001B[0m \t⏳ Elapsed Time: 15.31s | ETA: 0.00s\n",
      "\u001B[36m(ClientAppActor pid=24912)\u001B[0m \t🕒 Completed At: 22:53\n",
      "\u001B[36m(ClientAppActor pid=24912)\u001B[0m \n",
      "\u001B[36m(ClientAppActor pid=24912)\u001B[0m Client 2 is ready to train\n",
      "\u001B[36m(ClientAppActor pid=24912)\u001B[0m No prefix/name for the model was provided, choosen prefix/name: jumpy_nidorina_61\n",
      "\u001B[36m(ClientAppActor pid=24912)\u001B[0m \n",
      "\u001B[36m(ClientAppActor pid=24912)\u001B[0m 🚀 Epoch 1/3 (33.33%) Completed\n",
      "\u001B[36m(ClientAppActor pid=24912)\u001B[0m \t📊 Training Loss: 5.1180\n",
      "\u001B[36m(ClientAppActor pid=24912)\u001B[0m \t✅ Training Accuracy: 1.32%\n",
      "\u001B[36m(ClientAppActor pid=24912)\u001B[0m \t⏳ Elapsed Time: 15.48s | ETA: 30.96s\n",
      "\u001B[36m(ClientAppActor pid=24912)\u001B[0m \t🕒 Completed At: 22:54\n",
      "\u001B[36m(ClientAppActor pid=24912)\u001B[0m \n",
      "\u001B[36m(ClientAppActor pid=24912)\u001B[0m 🚀 Epoch 2/3 (66.67%) Completed\n",
      "\u001B[36m(ClientAppActor pid=24912)\u001B[0m \t📊 Training Loss: 5.0728\n",
      "\u001B[36m(ClientAppActor pid=24912)\u001B[0m \t✅ Training Accuracy: 1.10%\n",
      "\u001B[36m(ClientAppActor pid=24912)\u001B[0m \t⏳ Elapsed Time: 15.38s | ETA: 15.38s\n",
      "\u001B[36m(ClientAppActor pid=24912)\u001B[0m \t🕒 Completed At: 22:54\n",
      "\u001B[36m(ClientAppActor pid=24912)\u001B[0m \n",
      "\u001B[36m(ClientAppActor pid=24912)\u001B[0m 🚀 Epoch 3/3 (100.00%) Completed\n",
      "\u001B[36m(ClientAppActor pid=24912)\u001B[0m \t📊 Training Loss: 4.9639\n",
      "\u001B[36m(ClientAppActor pid=24912)\u001B[0m \t✅ Training Accuracy: 1.10%\n",
      "\u001B[36m(ClientAppActor pid=24912)\u001B[0m \t⏳ Elapsed Time: 15.38s | ETA: 0.00s\n",
      "\u001B[36m(ClientAppActor pid=24912)\u001B[0m \t🕒 Completed At: 22:54\n",
      "\u001B[36m(ClientAppActor pid=24912)\u001B[0m \n",
      "\u001B[36m(ClientAppActor pid=24912)\u001B[0m Client 3 is ready to train\n",
      "\u001B[36m(ClientAppActor pid=24912)\u001B[0m No prefix/name for the model was provided, choosen prefix/name: silly_nidoran_72\n",
      "\u001B[36m(ClientAppActor pid=24912)\u001B[0m \n",
      "\u001B[36m(ClientAppActor pid=24912)\u001B[0m 🚀 Epoch 1/3 (33.33%) Completed\n",
      "\u001B[36m(ClientAppActor pid=24912)\u001B[0m \t📊 Training Loss: 5.1593\n",
      "\u001B[36m(ClientAppActor pid=24912)\u001B[0m \t✅ Training Accuracy: 1.27%\n",
      "\u001B[36m(ClientAppActor pid=24912)\u001B[0m \t⏳ Elapsed Time: 15.58s | ETA: 31.16s\n",
      "\u001B[36m(ClientAppActor pid=24912)\u001B[0m \t🕒 Completed At: 22:54\n",
      "\u001B[36m(ClientAppActor pid=24912)\u001B[0m \n",
      "\u001B[36m(ClientAppActor pid=24912)\u001B[0m 🚀 Epoch 2/3 (66.67%) Completed\n",
      "\u001B[36m(ClientAppActor pid=24912)\u001B[0m \t📊 Training Loss: 5.0739\n",
      "\u001B[36m(ClientAppActor pid=24912)\u001B[0m \t✅ Training Accuracy: 1.05%\n",
      "\u001B[36m(ClientAppActor pid=24912)\u001B[0m \t⏳ Elapsed Time: 15.38s | ETA: 15.38s\n",
      "\u001B[36m(ClientAppActor pid=24912)\u001B[0m \t🕒 Completed At: 22:55\n",
      "\u001B[36m(ClientAppActor pid=24912)\u001B[0m \n",
      "\u001B[36m(ClientAppActor pid=24912)\u001B[0m 🚀 Epoch 3/3 (100.00%) Completed\n",
      "\u001B[36m(ClientAppActor pid=24912)\u001B[0m \t📊 Training Loss: 4.9259\n",
      "\u001B[36m(ClientAppActor pid=24912)\u001B[0m \t✅ Training Accuracy: 1.23%\n",
      "\u001B[36m(ClientAppActor pid=24912)\u001B[0m \t⏳ Elapsed Time: 15.38s | ETA: 0.00s\n",
      "\u001B[36m(ClientAppActor pid=24912)\u001B[0m \t🕒 Completed At: 22:55\n",
      "\u001B[36m(ClientAppActor pid=24912)\u001B[0m \n",
      "\u001B[36m(ClientAppActor pid=24912)\u001B[0m Client 4 is ready to train\n",
      "\u001B[36m(ClientAppActor pid=24912)\u001B[0m No prefix/name for the model was provided, choosen prefix/name: jolly_nidoking_11\n",
      "\u001B[36m(ClientAppActor pid=24912)\u001B[0m \n",
      "\u001B[36m(ClientAppActor pid=24912)\u001B[0m 🚀 Epoch 1/3 (33.33%) Completed\n",
      "\u001B[36m(ClientAppActor pid=24912)\u001B[0m \t📊 Training Loss: 5.1043\n",
      "\u001B[36m(ClientAppActor pid=24912)\u001B[0m \t✅ Training Accuracy: 1.05%\n",
      "\u001B[36m(ClientAppActor pid=24912)\u001B[0m \t⏳ Elapsed Time: 15.64s | ETA: 31.27s\n",
      "\u001B[36m(ClientAppActor pid=24912)\u001B[0m \t🕒 Completed At: 22:55\n",
      "\u001B[36m(ClientAppActor pid=24912)\u001B[0m \n",
      "\u001B[36m(ClientAppActor pid=24912)\u001B[0m 🚀 Epoch 2/3 (66.67%) Completed\n",
      "\u001B[36m(ClientAppActor pid=24912)\u001B[0m \t📊 Training Loss: 5.0309\n",
      "\u001B[36m(ClientAppActor pid=24912)\u001B[0m \t✅ Training Accuracy: 1.25%\n",
      "\u001B[36m(ClientAppActor pid=24912)\u001B[0m \t⏳ Elapsed Time: 15.44s | ETA: 15.44s\n",
      "\u001B[36m(ClientAppActor pid=24912)\u001B[0m \t🕒 Completed At: 22:56\n",
      "\u001B[36m(ClientAppActor pid=24912)\u001B[0m \n",
      "\u001B[36m(ClientAppActor pid=24912)\u001B[0m 🚀 Epoch 3/3 (100.00%) Completed\n",
      "\u001B[36m(ClientAppActor pid=24912)\u001B[0m \t📊 Training Loss: 4.9756\n",
      "\u001B[36m(ClientAppActor pid=24912)\u001B[0m \t✅ Training Accuracy: 1.00%\n",
      "\u001B[36m(ClientAppActor pid=24912)\u001B[0m \t⏳ Elapsed Time: 15.44s | ETA: 0.00s\n",
      "\u001B[36m(ClientAppActor pid=24912)\u001B[0m \t🕒 Completed At: 22:56\n",
      "\u001B[36m(ClientAppActor pid=24912)\u001B[0m \n",
      "\u001B[36m(ClientAppActor pid=24912)\u001B[0m Client 5 is ready to train\n",
      "\u001B[36m(ClientAppActor pid=24912)\u001B[0m No prefix/name for the model was provided, choosen prefix/name: nutty_nidorina_47\n",
      "\u001B[36m(ClientAppActor pid=24912)\u001B[0m \n",
      "\u001B[36m(ClientAppActor pid=24912)\u001B[0m 🚀 Epoch 1/3 (33.33%) Completed\n",
      "\u001B[36m(ClientAppActor pid=24912)\u001B[0m \t📊 Training Loss: 5.1327\n",
      "\u001B[36m(ClientAppActor pid=24912)\u001B[0m \t✅ Training Accuracy: 1.07%\n",
      "\u001B[36m(ClientAppActor pid=24912)\u001B[0m \t⏳ Elapsed Time: 15.51s | ETA: 31.01s\n",
      "\u001B[36m(ClientAppActor pid=24912)\u001B[0m \t🕒 Completed At: 22:56\n",
      "\u001B[36m(ClientAppActor pid=24912)\u001B[0m \n",
      "\u001B[36m(ClientAppActor pid=24912)\u001B[0m 🚀 Epoch 2/3 (66.67%) Completed\n",
      "\u001B[36m(ClientAppActor pid=24912)\u001B[0m \t📊 Training Loss: 5.0275\n",
      "\u001B[36m(ClientAppActor pid=24912)\u001B[0m \t✅ Training Accuracy: 0.80%\n",
      "\u001B[36m(ClientAppActor pid=24912)\u001B[0m \t⏳ Elapsed Time: 15.45s | ETA: 15.45s\n",
      "\u001B[36m(ClientAppActor pid=24912)\u001B[0m \t🕒 Completed At: 22:56\n",
      "\u001B[36m(ClientAppActor pid=24912)\u001B[0m \n",
      "\u001B[36m(ClientAppActor pid=24912)\u001B[0m 🚀 Epoch 3/3 (100.00%) Completed\n",
      "\u001B[36m(ClientAppActor pid=24912)\u001B[0m \t📊 Training Loss: 4.9789\n",
      "\u001B[36m(ClientAppActor pid=24912)\u001B[0m \t✅ Training Accuracy: 0.92%\n",
      "\u001B[36m(ClientAppActor pid=24912)\u001B[0m \t⏳ Elapsed Time: 15.58s | ETA: 0.00s\n",
      "\u001B[36m(ClientAppActor pid=24912)\u001B[0m \t🕒 Completed At: 22:57\n",
      "\u001B[36m(ClientAppActor pid=24912)\u001B[0m \n",
      "\u001B[36m(ClientAppActor pid=24912)\u001B[0m Client 6 is ready to train\n",
      "\u001B[36m(ClientAppActor pid=24912)\u001B[0m No prefix/name for the model was provided, choosen prefix/name: wacky_charmeleon_69\n",
      "\u001B[36m(ClientAppActor pid=24912)\u001B[0m \n",
      "\u001B[36m(ClientAppActor pid=24912)\u001B[0m 🚀 Epoch 1/3 (33.33%) Completed\n",
      "\u001B[36m(ClientAppActor pid=24912)\u001B[0m \t📊 Training Loss: 5.1235\n",
      "\u001B[36m(ClientAppActor pid=24912)\u001B[0m \t✅ Training Accuracy: 0.95%\n",
      "\u001B[36m(ClientAppActor pid=24912)\u001B[0m \t⏳ Elapsed Time: 16.19s | ETA: 32.38s\n",
      "\u001B[36m(ClientAppActor pid=24912)\u001B[0m \t🕒 Completed At: 22:57\n",
      "\u001B[36m(ClientAppActor pid=24912)\u001B[0m \n",
      "\u001B[36m(ClientAppActor pid=24912)\u001B[0m 🚀 Epoch 2/3 (66.67%) Completed\n",
      "\u001B[36m(ClientAppActor pid=24912)\u001B[0m \t📊 Training Loss: 5.1790\n",
      "\u001B[36m(ClientAppActor pid=24912)\u001B[0m \t✅ Training Accuracy: 1.32%\n",
      "\u001B[36m(ClientAppActor pid=24912)\u001B[0m \t⏳ Elapsed Time: 15.77s | ETA: 15.77s\n",
      "\u001B[36m(ClientAppActor pid=24912)\u001B[0m \t🕒 Completed At: 22:57\n",
      "\u001B[36m(ClientAppActor pid=24912)\u001B[0m \n",
      "\u001B[36m(ClientAppActor pid=24912)\u001B[0m 🚀 Epoch 3/3 (100.00%) Completed\n",
      "\u001B[36m(ClientAppActor pid=24912)\u001B[0m \t📊 Training Loss: 4.9895\n",
      "\u001B[36m(ClientAppActor pid=24912)\u001B[0m \t✅ Training Accuracy: 1.05%\n",
      "\u001B[36m(ClientAppActor pid=24912)\u001B[0m \t⏳ Elapsed Time: 15.86s | ETA: 0.00s\n",
      "\u001B[36m(ClientAppActor pid=24912)\u001B[0m \t🕒 Completed At: 22:57\n",
      "\u001B[36m(ClientAppActor pid=24912)\u001B[0m \n",
      "\u001B[36m(ClientAppActor pid=24912)\u001B[0m Client 7 is ready to train\n",
      "\u001B[36m(ClientAppActor pid=24912)\u001B[0m No prefix/name for the model was provided, choosen prefix/name: itchy_ivysaur_84\n",
      "\u001B[36m(ClientAppActor pid=24912)\u001B[0m \n",
      "\u001B[36m(ClientAppActor pid=24912)\u001B[0m 🚀 Epoch 1/3 (33.33%) Completed\n",
      "\u001B[36m(ClientAppActor pid=24912)\u001B[0m \t📊 Training Loss: 5.1268\n",
      "\u001B[36m(ClientAppActor pid=24912)\u001B[0m \t✅ Training Accuracy: 1.03%\n",
      "\u001B[36m(ClientAppActor pid=24912)\u001B[0m \t⏳ Elapsed Time: 16.03s | ETA: 32.06s\n",
      "\u001B[36m(ClientAppActor pid=24912)\u001B[0m \t🕒 Completed At: 22:58\n",
      "\u001B[36m(ClientAppActor pid=24912)\u001B[0m \n",
      "\u001B[36m(ClientAppActor pid=24912)\u001B[0m 🚀 Epoch 2/3 (66.67%) Completed\n",
      "\u001B[36m(ClientAppActor pid=24912)\u001B[0m \t📊 Training Loss: 5.0369\n",
      "\u001B[36m(ClientAppActor pid=24912)\u001B[0m \t✅ Training Accuracy: 0.90%\n",
      "\u001B[36m(ClientAppActor pid=24912)\u001B[0m \t⏳ Elapsed Time: 15.62s | ETA: 15.62s\n",
      "\u001B[36m(ClientAppActor pid=24912)\u001B[0m \t🕒 Completed At: 22:58\n",
      "\u001B[36m(ClientAppActor pid=24912)\u001B[0m \n",
      "\u001B[36m(ClientAppActor pid=24912)\u001B[0m 🚀 Epoch 3/3 (100.00%) Completed\n",
      "\u001B[36m(ClientAppActor pid=24912)\u001B[0m \t📊 Training Loss: 4.9566\n",
      "\u001B[36m(ClientAppActor pid=24912)\u001B[0m \t✅ Training Accuracy: 1.10%\n",
      "\u001B[36m(ClientAppActor pid=24912)\u001B[0m \t⏳ Elapsed Time: 15.75s | ETA: 0.00s\n",
      "\u001B[36m(ClientAppActor pid=24912)\u001B[0m \t🕒 Completed At: 22:58\n",
      "\u001B[36m(ClientAppActor pid=24912)\u001B[0m \n",
      "\u001B[36m(ClientAppActor pid=24912)\u001B[0m Client 8 is ready to train\n",
      "\u001B[36m(ClientAppActor pid=24912)\u001B[0m No prefix/name for the model was provided, choosen prefix/name: jumpy_nidoran_26\n",
      "\u001B[36m(ClientAppActor pid=24912)\u001B[0m \n",
      "\u001B[36m(ClientAppActor pid=24912)\u001B[0m 🚀 Epoch 1/3 (33.33%) Completed\n",
      "\u001B[36m(ClientAppActor pid=24912)\u001B[0m \t📊 Training Loss: 5.0793\n",
      "\u001B[36m(ClientAppActor pid=24912)\u001B[0m \t✅ Training Accuracy: 1.05%\n",
      "\u001B[36m(ClientAppActor pid=24912)\u001B[0m \t⏳ Elapsed Time: 15.77s | ETA: 31.54s\n",
      "\u001B[36m(ClientAppActor pid=24912)\u001B[0m \t🕒 Completed At: 22:59\n",
      "\u001B[36m(ClientAppActor pid=24912)\u001B[0m \n",
      "\u001B[36m(ClientAppActor pid=24912)\u001B[0m 🚀 Epoch 2/3 (66.67%) Completed\n",
      "\u001B[36m(ClientAppActor pid=24912)\u001B[0m \t📊 Training Loss: 5.0733\n",
      "\u001B[36m(ClientAppActor pid=24912)\u001B[0m \t✅ Training Accuracy: 1.35%\n",
      "\u001B[36m(ClientAppActor pid=24912)\u001B[0m \t⏳ Elapsed Time: 15.71s | ETA: 15.71s\n",
      "\u001B[36m(ClientAppActor pid=24912)\u001B[0m \t🕒 Completed At: 22:59\n",
      "\u001B[36m(ClientAppActor pid=24912)\u001B[0m \n",
      "\u001B[36m(ClientAppActor pid=24912)\u001B[0m 🚀 Epoch 3/3 (100.00%) Completed\n",
      "\u001B[36m(ClientAppActor pid=24912)\u001B[0m \t📊 Training Loss: 4.9741\n",
      "\u001B[36m(ClientAppActor pid=24912)\u001B[0m \t✅ Training Accuracy: 1.35%\n",
      "\u001B[36m(ClientAppActor pid=24912)\u001B[0m \t⏳ Elapsed Time: 15.67s | ETA: 0.00s\n",
      "\u001B[36m(ClientAppActor pid=24912)\u001B[0m \t🕒 Completed At: 22:59\n",
      "\u001B[36m(ClientAppActor pid=24912)\u001B[0m \n",
      "\u001B[36m(ClientAppActor pid=24912)\u001B[0m Client 9 is ready to train\n",
      "\u001B[36m(ClientAppActor pid=24912)\u001B[0m No prefix/name for the model was provided, choosen prefix/name: plucky_arbok_95\n",
      "\u001B[36m(ClientAppActor pid=24912)\u001B[0m \n",
      "\u001B[36m(ClientAppActor pid=24912)\u001B[0m 🚀 Epoch 1/3 (33.33%) Completed\n",
      "\u001B[36m(ClientAppActor pid=24912)\u001B[0m \t📊 Training Loss: 5.0767\n",
      "\u001B[36m(ClientAppActor pid=24912)\u001B[0m \t✅ Training Accuracy: 1.07%\n",
      "\u001B[36m(ClientAppActor pid=24912)\u001B[0m \t⏳ Elapsed Time: 15.47s | ETA: 30.94s\n",
      "\u001B[36m(ClientAppActor pid=24912)\u001B[0m \t🕒 Completed At: 22:59\n",
      "\u001B[36m(ClientAppActor pid=24912)\u001B[0m \n",
      "\u001B[36m(ClientAppActor pid=24912)\u001B[0m 🚀 Epoch 2/3 (66.67%) Completed\n",
      "\u001B[36m(ClientAppActor pid=24912)\u001B[0m \t📊 Training Loss: 5.0731\n",
      "\u001B[36m(ClientAppActor pid=24912)\u001B[0m \t✅ Training Accuracy: 1.10%\n",
      "\u001B[36m(ClientAppActor pid=24912)\u001B[0m \t⏳ Elapsed Time: 15.26s | ETA: 15.26s\n",
      "\u001B[36m(ClientAppActor pid=24912)\u001B[0m \t🕒 Completed At: 23:00\n",
      "\u001B[36m(ClientAppActor pid=24912)\u001B[0m \n",
      "\u001B[36m(ClientAppActor pid=24912)\u001B[0m 🚀 Epoch 3/3 (100.00%) Completed\n",
      "\u001B[36m(ClientAppActor pid=24912)\u001B[0m \t📊 Training Loss: 4.9421\n",
      "\u001B[36m(ClientAppActor pid=24912)\u001B[0m \t✅ Training Accuracy: 1.32%\n",
      "\u001B[36m(ClientAppActor pid=24912)\u001B[0m \t⏳ Elapsed Time: 15.25s | ETA: 0.00s\n",
      "\u001B[36m(ClientAppActor pid=24912)\u001B[0m \t🕒 Completed At: 23:00\n",
      "\u001B[36m(ClientAppActor pid=24912)\u001B[0m \n"
     ]
    },
    {
     "name": "stderr",
     "output_type": "stream",
     "text": [
      "\u001B[92mINFO \u001B[0m:      aggregate_fit: received 10 results and 0 failures\n",
      "\u001B[93mWARNING \u001B[0m:   No fit_metrics_aggregation_fn provided\n"
     ]
    },
    {
     "name": "stdout",
     "output_type": "stream",
     "text": [
      "Saving centralized model epoch 2 aggregated_parameters...\n",
      "💾 Saved checkpoint at: C:\\Users\\ADMIN\\Desktop\\BACKUP\\study\\Italy\\polito\\classes\\20242\\deep learning\\project\\source_code\\fl-g13\\models\\fl_baseline\\FL_BaseDino_epoch_2.pth\n"
     ]
    },
    {
     "name": "stderr",
     "output_type": "stream",
     "text": [
      "\u001B[92mINFO \u001B[0m:      ROUND 1💡 New best global model found: 0.011000\n",
      "\u001B[92mINFO \u001B[0m:      fit progress: (1, 4.689738472805748, {'centralized_accuracy': 0.011}, 786.1971884000013)\n",
      "\u001B[92mINFO \u001B[0m:      configure_evaluate: strategy sampled 5 clients (out of 10)\n"
     ]
    },
    {
     "name": "stdout",
     "output_type": "stream",
     "text": [
      "\u001B[36m(ClientAppActor pid=24912)\u001B[0m Client 1 is ready to train\n",
      "\u001B[36m(ClientAppActor pid=24912)\u001B[0m Client 2 is ready to train\n",
      "\u001B[36m(ClientAppActor pid=24912)\u001B[0m Client 3 is ready to train\n",
      "\u001B[36m(ClientAppActor pid=24912)\u001B[0m Client 6 is ready to train\n",
      "\u001B[36m(ClientAppActor pid=24912)\u001B[0m Client 7 is ready to train\n"
     ]
    },
    {
     "name": "stderr",
     "output_type": "stream",
     "text": [
      "\u001B[92mINFO \u001B[0m:      aggregate_evaluate: received 5 results and 0 failures\n",
      "\u001B[92mINFO \u001B[0m:      \n",
      "\u001B[92mINFO \u001B[0m:      [ROUND 2]\n",
      "\u001B[92mINFO \u001B[0m:      configure_fit: strategy sampled 10 clients (out of 10)\n"
     ]
    },
    {
     "name": "stdout",
     "output_type": "stream",
     "text": [
      "\u001B[36m(ClientAppActor pid=24912)\u001B[0m Client 0 is ready to train\n",
      "\u001B[36m(ClientAppActor pid=24912)\u001B[0m No prefix/name for the model was provided, choosen prefix/name: grumpy_venusaur_71\n",
      "\u001B[36m(ClientAppActor pid=24912)\u001B[0m \n",
      "\u001B[36m(ClientAppActor pid=24912)\u001B[0m 🚀 Epoch 1/3 (33.33%) Completed\n",
      "\u001B[36m(ClientAppActor pid=24912)\u001B[0m \t📊 Training Loss: 4.8740\n",
      "\u001B[36m(ClientAppActor pid=24912)\u001B[0m \t✅ Training Accuracy: 1.25%\n",
      "\u001B[36m(ClientAppActor pid=24912)\u001B[0m \t⏳ Elapsed Time: 15.32s | ETA: 30.65s\n",
      "\u001B[36m(ClientAppActor pid=24912)\u001B[0m \t🕒 Completed At: 23:05\n",
      "\u001B[36m(ClientAppActor pid=24912)\u001B[0m \n",
      "\u001B[36m(ClientAppActor pid=24912)\u001B[0m 🚀 Epoch 2/3 (66.67%) Completed\n",
      "\u001B[36m(ClientAppActor pid=24912)\u001B[0m \t📊 Training Loss: 4.8465\n",
      "\u001B[36m(ClientAppActor pid=24912)\u001B[0m \t✅ Training Accuracy: 1.25%\n",
      "\u001B[36m(ClientAppActor pid=24912)\u001B[0m \t⏳ Elapsed Time: 15.31s | ETA: 15.31s\n",
      "\u001B[36m(ClientAppActor pid=24912)\u001B[0m \t🕒 Completed At: 23:06\n",
      "\u001B[36m(ClientAppActor pid=24912)\u001B[0m \n",
      "\u001B[36m(ClientAppActor pid=24912)\u001B[0m 🚀 Epoch 3/3 (100.00%) Completed\n",
      "\u001B[36m(ClientAppActor pid=24912)\u001B[0m \t📊 Training Loss: 4.8279\n",
      "\u001B[36m(ClientAppActor pid=24912)\u001B[0m \t✅ Training Accuracy: 1.10%\n",
      "\u001B[36m(ClientAppActor pid=24912)\u001B[0m \t⏳ Elapsed Time: 15.33s | ETA: 0.00s\n",
      "\u001B[36m(ClientAppActor pid=24912)\u001B[0m \t🕒 Completed At: 23:06\n",
      "\u001B[36m(ClientAppActor pid=24912)\u001B[0m \n",
      "\u001B[36m(ClientAppActor pid=24912)\u001B[0m Client 1 is ready to train\n",
      "\u001B[36m(ClientAppActor pid=24912)\u001B[0m No prefix/name for the model was provided, choosen prefix/name: cranky_pidgey_97\n",
      "\u001B[36m(ClientAppActor pid=24912)\u001B[0m \n",
      "\u001B[36m(ClientAppActor pid=24912)\u001B[0m 🚀 Epoch 1/3 (33.33%) Completed\n",
      "\u001B[36m(ClientAppActor pid=24912)\u001B[0m \t📊 Training Loss: 4.8746\n",
      "\u001B[36m(ClientAppActor pid=24912)\u001B[0m \t✅ Training Accuracy: 1.00%\n",
      "\u001B[36m(ClientAppActor pid=24912)\u001B[0m \t⏳ Elapsed Time: 15.68s | ETA: 31.35s\n",
      "\u001B[36m(ClientAppActor pid=24912)\u001B[0m \t🕒 Completed At: 23:06\n",
      "\u001B[36m(ClientAppActor pid=24912)\u001B[0m \n",
      "\u001B[36m(ClientAppActor pid=24912)\u001B[0m 🚀 Epoch 2/3 (66.67%) Completed\n",
      "\u001B[36m(ClientAppActor pid=24912)\u001B[0m \t📊 Training Loss: 4.8172\n",
      "\u001B[36m(ClientAppActor pid=24912)\u001B[0m \t✅ Training Accuracy: 1.50%\n",
      "\u001B[36m(ClientAppActor pid=24912)\u001B[0m \t⏳ Elapsed Time: 15.36s | ETA: 15.36s\n",
      "\u001B[36m(ClientAppActor pid=24912)\u001B[0m \t🕒 Completed At: 23:06\n",
      "\u001B[36m(ClientAppActor pid=24912)\u001B[0m \n",
      "\u001B[36m(ClientAppActor pid=24912)\u001B[0m 🚀 Epoch 3/3 (100.00%) Completed\n",
      "\u001B[36m(ClientAppActor pid=24912)\u001B[0m \t📊 Training Loss: 4.8020\n",
      "\u001B[36m(ClientAppActor pid=24912)\u001B[0m \t✅ Training Accuracy: 1.32%\n",
      "\u001B[36m(ClientAppActor pid=24912)\u001B[0m \t⏳ Elapsed Time: 15.34s | ETA: 0.00s\n",
      "\u001B[36m(ClientAppActor pid=24912)\u001B[0m \t🕒 Completed At: 23:07\n",
      "\u001B[36m(ClientAppActor pid=24912)\u001B[0m \n",
      "\u001B[36m(ClientAppActor pid=24912)\u001B[0m Client 2 is ready to train\n",
      "\u001B[36m(ClientAppActor pid=24912)\u001B[0m No prefix/name for the model was provided, choosen prefix/name: witty_nidoqueen_41\n",
      "\u001B[36m(ClientAppActor pid=24912)\u001B[0m \n",
      "\u001B[36m(ClientAppActor pid=24912)\u001B[0m 🚀 Epoch 1/3 (33.33%) Completed\n",
      "\u001B[36m(ClientAppActor pid=24912)\u001B[0m \t📊 Training Loss: 4.8654\n",
      "\u001B[36m(ClientAppActor pid=24912)\u001B[0m \t✅ Training Accuracy: 1.12%\n",
      "\u001B[36m(ClientAppActor pid=24912)\u001B[0m \t⏳ Elapsed Time: 15.79s | ETA: 31.58s\n",
      "\u001B[36m(ClientAppActor pid=24912)\u001B[0m \t🕒 Completed At: 23:07\n",
      "\u001B[36m(ClientAppActor pid=24912)\u001B[0m \n",
      "\u001B[36m(ClientAppActor pid=24912)\u001B[0m 🚀 Epoch 2/3 (66.67%) Completed\n",
      "\u001B[36m(ClientAppActor pid=24912)\u001B[0m \t📊 Training Loss: 4.8352\n",
      "\u001B[36m(ClientAppActor pid=24912)\u001B[0m \t✅ Training Accuracy: 1.10%\n",
      "\u001B[36m(ClientAppActor pid=24912)\u001B[0m \t⏳ Elapsed Time: 16.03s | ETA: 16.03s\n",
      "\u001B[36m(ClientAppActor pid=24912)\u001B[0m \t🕒 Completed At: 23:07\n",
      "\u001B[36m(ClientAppActor pid=24912)\u001B[0m \n",
      "\u001B[36m(ClientAppActor pid=24912)\u001B[0m 🚀 Epoch 3/3 (100.00%) Completed\n",
      "\u001B[36m(ClientAppActor pid=24912)\u001B[0m \t📊 Training Loss: 4.8316\n",
      "\u001B[36m(ClientAppActor pid=24912)\u001B[0m \t✅ Training Accuracy: 1.45%\n",
      "\u001B[36m(ClientAppActor pid=24912)\u001B[0m \t⏳ Elapsed Time: 15.63s | ETA: 0.00s\n",
      "\u001B[36m(ClientAppActor pid=24912)\u001B[0m \t🕒 Completed At: 23:08\n",
      "\u001B[36m(ClientAppActor pid=24912)\u001B[0m \n",
      "\u001B[36m(ClientAppActor pid=24912)\u001B[0m Client 3 is ready to train\n",
      "\u001B[36m(ClientAppActor pid=24912)\u001B[0m No prefix/name for the model was provided, choosen prefix/name: snazzy_metapod_85\n",
      "\u001B[36m(ClientAppActor pid=24912)\u001B[0m \n",
      "\u001B[36m(ClientAppActor pid=24912)\u001B[0m 🚀 Epoch 1/3 (33.33%) Completed\n",
      "\u001B[36m(ClientAppActor pid=24912)\u001B[0m \t📊 Training Loss: 4.8775\n",
      "\u001B[36m(ClientAppActor pid=24912)\u001B[0m \t✅ Training Accuracy: 0.92%\n",
      "\u001B[36m(ClientAppActor pid=24912)\u001B[0m \t⏳ Elapsed Time: 16.73s | ETA: 33.45s\n",
      "\u001B[36m(ClientAppActor pid=24912)\u001B[0m \t🕒 Completed At: 23:08\n",
      "\u001B[36m(ClientAppActor pid=24912)\u001B[0m \n",
      "\u001B[36m(ClientAppActor pid=24912)\u001B[0m 🚀 Epoch 2/3 (66.67%) Completed\n",
      "\u001B[36m(ClientAppActor pid=24912)\u001B[0m \t📊 Training Loss: 4.8407\n",
      "\u001B[36m(ClientAppActor pid=24912)\u001B[0m \t✅ Training Accuracy: 1.47%\n",
      "\u001B[36m(ClientAppActor pid=24912)\u001B[0m \t⏳ Elapsed Time: 15.72s | ETA: 15.72s\n",
      "\u001B[36m(ClientAppActor pid=24912)\u001B[0m \t🕒 Completed At: 23:08\n",
      "\u001B[36m(ClientAppActor pid=24912)\u001B[0m \n",
      "\u001B[36m(ClientAppActor pid=24912)\u001B[0m 🚀 Epoch 3/3 (100.00%) Completed\n",
      "\u001B[36m(ClientAppActor pid=24912)\u001B[0m \t📊 Training Loss: 4.8115\n",
      "\u001B[36m(ClientAppActor pid=24912)\u001B[0m \t✅ Training Accuracy: 1.18%\n",
      "\u001B[36m(ClientAppActor pid=24912)\u001B[0m \t⏳ Elapsed Time: 16.17s | ETA: 0.00s\n",
      "\u001B[36m(ClientAppActor pid=24912)\u001B[0m \t🕒 Completed At: 23:08\n",
      "\u001B[36m(ClientAppActor pid=24912)\u001B[0m \n",
      "\u001B[36m(ClientAppActor pid=24912)\u001B[0m Client 4 is ready to train\n",
      "\u001B[36m(ClientAppActor pid=24912)\u001B[0m No prefix/name for the model was provided, choosen prefix/name: zippy_nidoran_38\n",
      "\u001B[36m(ClientAppActor pid=24912)\u001B[0m \n",
      "\u001B[36m(ClientAppActor pid=24912)\u001B[0m 🚀 Epoch 1/3 (33.33%) Completed\n",
      "\u001B[36m(ClientAppActor pid=24912)\u001B[0m \t📊 Training Loss: 4.8682\n",
      "\u001B[36m(ClientAppActor pid=24912)\u001B[0m \t✅ Training Accuracy: 1.18%\n",
      "\u001B[36m(ClientAppActor pid=24912)\u001B[0m \t⏳ Elapsed Time: 15.83s | ETA: 31.66s\n",
      "\u001B[36m(ClientAppActor pid=24912)\u001B[0m \t🕒 Completed At: 23:09\n",
      "\u001B[36m(ClientAppActor pid=24912)\u001B[0m \n",
      "\u001B[36m(ClientAppActor pid=24912)\u001B[0m 🚀 Epoch 2/3 (66.67%) Completed\n",
      "\u001B[36m(ClientAppActor pid=24912)\u001B[0m \t📊 Training Loss: 4.8250\n",
      "\u001B[36m(ClientAppActor pid=24912)\u001B[0m \t✅ Training Accuracy: 1.35%\n",
      "\u001B[36m(ClientAppActor pid=24912)\u001B[0m \t⏳ Elapsed Time: 15.59s | ETA: 15.59s\n",
      "\u001B[36m(ClientAppActor pid=24912)\u001B[0m \t🕒 Completed At: 23:09\n",
      "\u001B[36m(ClientAppActor pid=24912)\u001B[0m \n",
      "\u001B[36m(ClientAppActor pid=24912)\u001B[0m 🚀 Epoch 3/3 (100.00%) Completed\n",
      "\u001B[36m(ClientAppActor pid=24912)\u001B[0m \t📊 Training Loss: 4.8173\n",
      "\u001B[36m(ClientAppActor pid=24912)\u001B[0m \t✅ Training Accuracy: 1.10%\n",
      "\u001B[36m(ClientAppActor pid=24912)\u001B[0m \t⏳ Elapsed Time: 15.81s | ETA: 0.00s\n",
      "\u001B[36m(ClientAppActor pid=24912)\u001B[0m \t🕒 Completed At: 23:09\n",
      "\u001B[36m(ClientAppActor pid=24912)\u001B[0m \n",
      "\u001B[36m(ClientAppActor pid=24912)\u001B[0m Client 5 is ready to train\n",
      "\u001B[36m(ClientAppActor pid=24912)\u001B[0m No prefix/name for the model was provided, choosen prefix/name: quirky_charmander_96\n",
      "\u001B[36m(ClientAppActor pid=24912)\u001B[0m \n",
      "\u001B[36m(ClientAppActor pid=24912)\u001B[0m 🚀 Epoch 1/3 (33.33%) Completed\n",
      "\u001B[36m(ClientAppActor pid=24912)\u001B[0m \t📊 Training Loss: 4.8503\n",
      "\u001B[36m(ClientAppActor pid=24912)\u001B[0m \t✅ Training Accuracy: 0.75%\n",
      "\u001B[36m(ClientAppActor pid=24912)\u001B[0m \t⏳ Elapsed Time: 16.14s | ETA: 32.28s\n",
      "\u001B[36m(ClientAppActor pid=24912)\u001B[0m \t🕒 Completed At: 23:10\n",
      "\u001B[36m(ClientAppActor pid=24912)\u001B[0m \n",
      "\u001B[36m(ClientAppActor pid=24912)\u001B[0m 🚀 Epoch 2/3 (66.67%) Completed\n",
      "\u001B[36m(ClientAppActor pid=24912)\u001B[0m \t📊 Training Loss: 4.8434\n",
      "\u001B[36m(ClientAppActor pid=24912)\u001B[0m \t✅ Training Accuracy: 1.27%\n",
      "\u001B[36m(ClientAppActor pid=24912)\u001B[0m \t⏳ Elapsed Time: 15.85s | ETA: 15.85s\n",
      "\u001B[36m(ClientAppActor pid=24912)\u001B[0m \t🕒 Completed At: 23:10\n",
      "\u001B[36m(ClientAppActor pid=24912)\u001B[0m \n",
      "\u001B[36m(ClientAppActor pid=24912)\u001B[0m 🚀 Epoch 3/3 (100.00%) Completed\n",
      "\u001B[36m(ClientAppActor pid=24912)\u001B[0m \t📊 Training Loss: 4.8198\n",
      "\u001B[36m(ClientAppActor pid=24912)\u001B[0m \t✅ Training Accuracy: 1.07%\n",
      "\u001B[36m(ClientAppActor pid=24912)\u001B[0m \t⏳ Elapsed Time: 15.78s | ETA: 0.00s\n",
      "\u001B[36m(ClientAppActor pid=24912)\u001B[0m \t🕒 Completed At: 23:10\n",
      "\u001B[36m(ClientAppActor pid=24912)\u001B[0m \n",
      "\u001B[36m(ClientAppActor pid=24912)\u001B[0m Client 6 is ready to train\n",
      "\u001B[36m(ClientAppActor pid=24912)\u001B[0m No prefix/name for the model was provided, choosen prefix/name: sneezy_pidgey_10\n",
      "\u001B[36m(ClientAppActor pid=24912)\u001B[0m \n",
      "\u001B[36m(ClientAppActor pid=24912)\u001B[0m 🚀 Epoch 1/3 (33.33%) Completed\n",
      "\u001B[36m(ClientAppActor pid=24912)\u001B[0m \t📊 Training Loss: 4.8618\n",
      "\u001B[36m(ClientAppActor pid=24912)\u001B[0m \t✅ Training Accuracy: 1.27%\n",
      "\u001B[36m(ClientAppActor pid=24912)\u001B[0m \t⏳ Elapsed Time: 15.80s | ETA: 31.60s\n",
      "\u001B[36m(ClientAppActor pid=24912)\u001B[0m \t🕒 Completed At: 23:10\n",
      "\u001B[36m(ClientAppActor pid=24912)\u001B[0m \n",
      "\u001B[36m(ClientAppActor pid=24912)\u001B[0m 🚀 Epoch 2/3 (66.67%) Completed\n",
      "\u001B[36m(ClientAppActor pid=24912)\u001B[0m \t📊 Training Loss: 4.8514\n",
      "\u001B[36m(ClientAppActor pid=24912)\u001B[0m \t✅ Training Accuracy: 1.43%\n",
      "\u001B[36m(ClientAppActor pid=24912)\u001B[0m \t⏳ Elapsed Time: 15.31s | ETA: 15.31s\n",
      "\u001B[36m(ClientAppActor pid=24912)\u001B[0m \t🕒 Completed At: 23:11\n",
      "\u001B[36m(ClientAppActor pid=24912)\u001B[0m \n",
      "\u001B[36m(ClientAppActor pid=24912)\u001B[0m 🚀 Epoch 3/3 (100.00%) Completed\n",
      "\u001B[36m(ClientAppActor pid=24912)\u001B[0m \t📊 Training Loss: 4.8130\n",
      "\u001B[36m(ClientAppActor pid=24912)\u001B[0m \t✅ Training Accuracy: 1.18%\n",
      "\u001B[36m(ClientAppActor pid=24912)\u001B[0m \t⏳ Elapsed Time: 15.30s | ETA: 0.00s\n",
      "\u001B[36m(ClientAppActor pid=24912)\u001B[0m \t🕒 Completed At: 23:11\n",
      "\u001B[36m(ClientAppActor pid=24912)\u001B[0m \n",
      "\u001B[36m(ClientAppActor pid=24912)\u001B[0m Client 7 is ready to train\n",
      "\u001B[36m(ClientAppActor pid=24912)\u001B[0m No prefix/name for the model was provided, choosen prefix/name: happy_nidoran_66\n",
      "\u001B[36m(ClientAppActor pid=24912)\u001B[0m \n",
      "\u001B[36m(ClientAppActor pid=24912)\u001B[0m 🚀 Epoch 1/3 (33.33%) Completed\n",
      "\u001B[36m(ClientAppActor pid=24912)\u001B[0m \t📊 Training Loss: 4.8700\n",
      "\u001B[36m(ClientAppActor pid=24912)\u001B[0m \t✅ Training Accuracy: 1.38%\n",
      "\u001B[36m(ClientAppActor pid=24912)\u001B[0m \t⏳ Elapsed Time: 15.68s | ETA: 31.36s\n",
      "\u001B[36m(ClientAppActor pid=24912)\u001B[0m \t🕒 Completed At: 23:11\n",
      "\u001B[36m(ClientAppActor pid=24912)\u001B[0m \n",
      "\u001B[36m(ClientAppActor pid=24912)\u001B[0m 🚀 Epoch 2/3 (66.67%) Completed\n",
      "\u001B[36m(ClientAppActor pid=24912)\u001B[0m \t📊 Training Loss: 4.8474\n",
      "\u001B[36m(ClientAppActor pid=24912)\u001B[0m \t✅ Training Accuracy: 1.12%\n",
      "\u001B[36m(ClientAppActor pid=24912)\u001B[0m \t⏳ Elapsed Time: 15.32s | ETA: 15.32s\n",
      "\u001B[36m(ClientAppActor pid=24912)\u001B[0m \t🕒 Completed At: 23:11\n",
      "\u001B[36m(ClientAppActor pid=24912)\u001B[0m \n",
      "\u001B[36m(ClientAppActor pid=24912)\u001B[0m 🚀 Epoch 3/3 (100.00%) Completed\n",
      "\u001B[36m(ClientAppActor pid=24912)\u001B[0m \t📊 Training Loss: 4.8085\n",
      "\u001B[36m(ClientAppActor pid=24912)\u001B[0m \t✅ Training Accuracy: 1.20%\n",
      "\u001B[36m(ClientAppActor pid=24912)\u001B[0m \t⏳ Elapsed Time: 15.29s | ETA: 0.00s\n",
      "\u001B[36m(ClientAppActor pid=24912)\u001B[0m \t🕒 Completed At: 23:12\n",
      "\u001B[36m(ClientAppActor pid=24912)\u001B[0m \n",
      "\u001B[36m(ClientAppActor pid=24912)\u001B[0m Client 8 is ready to train\n",
      "\u001B[36m(ClientAppActor pid=24912)\u001B[0m No prefix/name for the model was provided, choosen prefix/name: mushy_bulbasaur_84\n",
      "\u001B[36m(ClientAppActor pid=24912)\u001B[0m \n",
      "\u001B[36m(ClientAppActor pid=24912)\u001B[0m 🚀 Epoch 1/3 (33.33%) Completed\n",
      "\u001B[36m(ClientAppActor pid=24912)\u001B[0m \t📊 Training Loss: 4.8679\n",
      "\u001B[36m(ClientAppActor pid=24912)\u001B[0m \t✅ Training Accuracy: 1.15%\n",
      "\u001B[36m(ClientAppActor pid=24912)\u001B[0m \t⏳ Elapsed Time: 15.74s | ETA: 31.48s\n",
      "\u001B[36m(ClientAppActor pid=24912)\u001B[0m \t🕒 Completed At: 23:12\n",
      "\u001B[36m(ClientAppActor pid=24912)\u001B[0m \n",
      "\u001B[36m(ClientAppActor pid=24912)\u001B[0m 🚀 Epoch 2/3 (66.67%) Completed\n",
      "\u001B[36m(ClientAppActor pid=24912)\u001B[0m \t📊 Training Loss: 4.8624\n",
      "\u001B[36m(ClientAppActor pid=24912)\u001B[0m \t✅ Training Accuracy: 1.12%\n",
      "\u001B[36m(ClientAppActor pid=24912)\u001B[0m \t⏳ Elapsed Time: 15.24s | ETA: 15.24s\n",
      "\u001B[36m(ClientAppActor pid=24912)\u001B[0m \t🕒 Completed At: 23:12\n",
      "\u001B[36m(ClientAppActor pid=24912)\u001B[0m \n",
      "\u001B[36m(ClientAppActor pid=24912)\u001B[0m 🚀 Epoch 3/3 (100.00%) Completed\n",
      "\u001B[36m(ClientAppActor pid=24912)\u001B[0m \t📊 Training Loss: 4.8063\n",
      "\u001B[36m(ClientAppActor pid=24912)\u001B[0m \t✅ Training Accuracy: 1.52%\n",
      "\u001B[36m(ClientAppActor pid=24912)\u001B[0m \t⏳ Elapsed Time: 15.24s | ETA: 0.00s\n",
      "\u001B[36m(ClientAppActor pid=24912)\u001B[0m \t🕒 Completed At: 23:13\n",
      "\u001B[36m(ClientAppActor pid=24912)\u001B[0m \n",
      "\u001B[36m(ClientAppActor pid=24912)\u001B[0m Client 9 is ready to train\n",
      "\u001B[36m(ClientAppActor pid=24912)\u001B[0m No prefix/name for the model was provided, choosen prefix/name: witty_metapod_92\n",
      "\u001B[36m(ClientAppActor pid=24912)\u001B[0m \n",
      "\u001B[36m(ClientAppActor pid=24912)\u001B[0m 🚀 Epoch 1/3 (33.33%) Completed\n",
      "\u001B[36m(ClientAppActor pid=24912)\u001B[0m \t📊 Training Loss: 4.8729\n",
      "\u001B[36m(ClientAppActor pid=24912)\u001B[0m \t✅ Training Accuracy: 1.20%\n",
      "\u001B[36m(ClientAppActor pid=24912)\u001B[0m \t⏳ Elapsed Time: 16.13s | ETA: 32.26s\n",
      "\u001B[36m(ClientAppActor pid=24912)\u001B[0m \t🕒 Completed At: 23:13\n",
      "\u001B[36m(ClientAppActor pid=24912)\u001B[0m \n",
      "\u001B[36m(ClientAppActor pid=24912)\u001B[0m 🚀 Epoch 2/3 (66.67%) Completed\n",
      "\u001B[36m(ClientAppActor pid=24912)\u001B[0m \t📊 Training Loss: 4.8544\n",
      "\u001B[36m(ClientAppActor pid=24912)\u001B[0m \t✅ Training Accuracy: 0.90%\n",
      "\u001B[36m(ClientAppActor pid=24912)\u001B[0m \t⏳ Elapsed Time: 15.77s | ETA: 15.77s\n",
      "\u001B[36m(ClientAppActor pid=24912)\u001B[0m \t🕒 Completed At: 23:13\n",
      "\u001B[36m(ClientAppActor pid=24912)\u001B[0m \n",
      "\u001B[36m(ClientAppActor pid=24912)\u001B[0m 🚀 Epoch 3/3 (100.00%) Completed\n",
      "\u001B[36m(ClientAppActor pid=24912)\u001B[0m \t📊 Training Loss: 4.8027\n",
      "\u001B[36m(ClientAppActor pid=24912)\u001B[0m \t✅ Training Accuracy: 1.07%\n",
      "\u001B[36m(ClientAppActor pid=24912)\u001B[0m \t⏳ Elapsed Time: 15.64s | ETA: 0.00s\n",
      "\u001B[36m(ClientAppActor pid=24912)\u001B[0m \t🕒 Completed At: 23:13\n",
      "\u001B[36m(ClientAppActor pid=24912)\u001B[0m \n"
     ]
    },
    {
     "name": "stderr",
     "output_type": "stream",
     "text": [
      "\u001B[92mINFO \u001B[0m:      aggregate_fit: received 10 results and 0 failures\n"
     ]
    },
    {
     "name": "stdout",
     "output_type": "stream",
     "text": [
      "Saving centralized model epoch 3 aggregated_parameters...\n",
      "💾 Saved checkpoint at: C:\\Users\\ADMIN\\Desktop\\BACKUP\\study\\Italy\\polito\\classes\\20242\\deep learning\\project\\source_code\\fl-g13\\models\\fl_baseline\\FL_BaseDino_epoch_3.pth\n"
     ]
    },
    {
     "name": "stderr",
     "output_type": "stream",
     "text": [
      "\u001B[92mINFO \u001B[0m:      ROUND 2💡 New best global model found: 0.018000\n",
      "\u001B[92mINFO \u001B[0m:      fit progress: (2, 4.599909758266015, {'centralized_accuracy': 0.018}, 1594.3396579)\n",
      "\u001B[92mINFO \u001B[0m:      configure_evaluate: strategy sampled 5 clients (out of 10)\n"
     ]
    },
    {
     "name": "stdout",
     "output_type": "stream",
     "text": [
      "\u001B[36m(ClientAppActor pid=24912)\u001B[0m Client 3 is ready to train\n",
      "\u001B[36m(ClientAppActor pid=24912)\u001B[0m Client 4 is ready to train\n",
      "\u001B[36m(ClientAppActor pid=24912)\u001B[0m Client 5 is ready to train\n",
      "\u001B[36m(ClientAppActor pid=24912)\u001B[0m Client 7 is ready to train\n",
      "\u001B[36m(ClientAppActor pid=24912)\u001B[0m Client 8 is ready to train\n"
     ]
    },
    {
     "name": "stderr",
     "output_type": "stream",
     "text": [
      "\u001B[92mINFO \u001B[0m:      aggregate_evaluate: received 5 results and 0 failures\n",
      "\u001B[92mINFO \u001B[0m:      \n",
      "\u001B[92mINFO \u001B[0m:      [SUMMARY]\n",
      "\u001B[92mINFO \u001B[0m:      Run finished 2 round(s) in 1618.09s\n",
      "\u001B[92mINFO \u001B[0m:      \tHistory (loss, distributed):\n",
      "\u001B[92mINFO \u001B[0m:      \t\tround 1: 5.153822147846222\n",
      "\u001B[92mINFO \u001B[0m:      \t\tround 2: 4.96987875699997\n",
      "\u001B[92mINFO \u001B[0m:      \tHistory (loss, centralized):\n",
      "\u001B[92mINFO \u001B[0m:      \t\tround 0: 5.01113680948185\n",
      "\u001B[92mINFO \u001B[0m:      \t\tround 1: 4.689738472805748\n",
      "\u001B[92mINFO \u001B[0m:      \t\tround 2: 4.599909758266015\n",
      "\u001B[92mINFO \u001B[0m:      \tHistory (metrics, distributed, evaluate):\n",
      "\u001B[92mINFO \u001B[0m:      \t{'federated_evaluate_accuracy': [(1, 0.0086), (2, 0.0116)]}\n",
      "\u001B[92mINFO \u001B[0m:      \tHistory (metrics, centralized):\n",
      "\u001B[92mINFO \u001B[0m:      \t{'centralized_accuracy': [(0, 0.0094), (1, 0.011), (2, 0.018)]}\n",
      "\u001B[92mINFO \u001B[0m:      \n"
     ]
    }
   ],
   "execution_count": 18
  },
  {
   "metadata": {},
   "cell_type": "code",
   "source": "",
   "id": "b34bb388cc930f5f",
   "outputs": [],
   "execution_count": null
  }
 ],
 "metadata": {
  "kernelspec": {
   "display_name": "Python 3",
   "language": "python",
   "name": "python3"
  },
  "language_info": {
   "codemirror_mode": {
    "name": "ipython",
    "version": 2
   },
   "file_extension": ".py",
   "mimetype": "text/x-python",
   "name": "python",
   "nbconvert_exporter": "python",
   "pygments_lexer": "ipython2",
   "version": "2.7.6"
  }
 },
 "nbformat": 4,
 "nbformat_minor": 5
}
