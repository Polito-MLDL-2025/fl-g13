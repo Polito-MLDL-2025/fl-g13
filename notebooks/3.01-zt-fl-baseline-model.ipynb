{
 "cells": [
  {
   "metadata": {
    "ExecuteTime": {
     "end_time": "2025-05-13T09:36:45.124829Z",
     "start_time": "2025-05-13T09:36:45.019046Z"
    }
   },
   "cell_type": "code",
   "source": [
    "%load_ext autoreload\n",
    "%autoreload 2"
   ],
   "id": "5767f6b1a63e945b",
   "outputs": [],
   "execution_count": 1
  },
  {
   "metadata": {
    "ExecuteTime": {
     "end_time": "2025-05-13T09:36:47.589879Z",
     "start_time": "2025-05-13T09:36:45.125830Z"
    }
   },
   "cell_type": "code",
   "source": "!pip3 install torch torchvision torchaudio --index-url https://download.pytorch.org/whl/cu118\n",
   "id": "75ca9d6d54c4ce47",
   "outputs": [
    {
     "name": "stdout",
     "output_type": "stream",
     "text": [
      "Looking in indexes: https://download.pytorch.org/whl/cu118\n",
      "Requirement already satisfied: torch in c:\\users\\admin\\desktop\\backup\\study\\italy\\polito\\classes\\20242\\deep learning\\project\\source_code\\fl-g13\\.venv\\lib\\site-packages (2.6.0+cu118)\n",
      "Requirement already satisfied: torchvision in c:\\users\\admin\\desktop\\backup\\study\\italy\\polito\\classes\\20242\\deep learning\\project\\source_code\\fl-g13\\.venv\\lib\\site-packages (0.21.0)\n",
      "Requirement already satisfied: torchaudio in c:\\users\\admin\\desktop\\backup\\study\\italy\\polito\\classes\\20242\\deep learning\\project\\source_code\\fl-g13\\.venv\\lib\\site-packages (2.6.0+cu118)\n",
      "Requirement already satisfied: filelock in c:\\users\\admin\\desktop\\backup\\study\\italy\\polito\\classes\\20242\\deep learning\\project\\source_code\\fl-g13\\.venv\\lib\\site-packages (from torch) (3.18.0)\n",
      "Requirement already satisfied: typing-extensions>=4.10.0 in c:\\users\\admin\\desktop\\backup\\study\\italy\\polito\\classes\\20242\\deep learning\\project\\source_code\\fl-g13\\.venv\\lib\\site-packages (from torch) (4.13.1)\n",
      "Requirement already satisfied: networkx in c:\\users\\admin\\desktop\\backup\\study\\italy\\polito\\classes\\20242\\deep learning\\project\\source_code\\fl-g13\\.venv\\lib\\site-packages (from torch) (3.4.2)\n",
      "Requirement already satisfied: jinja2 in c:\\users\\admin\\desktop\\backup\\study\\italy\\polito\\classes\\20242\\deep learning\\project\\source_code\\fl-g13\\.venv\\lib\\site-packages (from torch) (3.1.6)\n",
      "Requirement already satisfied: fsspec in c:\\users\\admin\\desktop\\backup\\study\\italy\\polito\\classes\\20242\\deep learning\\project\\source_code\\fl-g13\\.venv\\lib\\site-packages (from torch) (2025.3.2)\n",
      "Requirement already satisfied: sympy==1.13.1 in c:\\users\\admin\\desktop\\backup\\study\\italy\\polito\\classes\\20242\\deep learning\\project\\source_code\\fl-g13\\.venv\\lib\\site-packages (from torch) (1.13.1)\n",
      "Requirement already satisfied: mpmath<1.4,>=1.1.0 in c:\\users\\admin\\desktop\\backup\\study\\italy\\polito\\classes\\20242\\deep learning\\project\\source_code\\fl-g13\\.venv\\lib\\site-packages (from sympy==1.13.1->torch) (1.3.0)\n",
      "Requirement already satisfied: numpy in c:\\users\\admin\\desktop\\backup\\study\\italy\\polito\\classes\\20242\\deep learning\\project\\source_code\\fl-g13\\.venv\\lib\\site-packages (from torchvision) (2.0.2)\n",
      "Requirement already satisfied: pillow!=8.3.*,>=5.3.0 in c:\\users\\admin\\desktop\\backup\\study\\italy\\polito\\classes\\20242\\deep learning\\project\\source_code\\fl-g13\\.venv\\lib\\site-packages (from torchvision) (11.1.0)\n",
      "Requirement already satisfied: MarkupSafe>=2.0 in c:\\users\\admin\\desktop\\backup\\study\\italy\\polito\\classes\\20242\\deep learning\\project\\source_code\\fl-g13\\.venv\\lib\\site-packages (from jinja2->torch) (3.0.2)\n"
     ]
    },
    {
     "name": "stderr",
     "output_type": "stream",
     "text": [
      "WARNING: Ignoring invalid distribution -otebook (c:\\users\\admin\\desktop\\backup\\study\\italy\\polito\\classes\\20242\\deep learning\\project\\source_code\\fl-g13\\.venv\\lib\\site-packages)\n",
      "WARNING: Ignoring invalid distribution -otebook (c:\\users\\admin\\desktop\\backup\\study\\italy\\polito\\classes\\20242\\deep learning\\project\\source_code\\fl-g13\\.venv\\lib\\site-packages)\n",
      "WARNING: Ignoring invalid distribution -otebook (c:\\users\\admin\\desktop\\backup\\study\\italy\\polito\\classes\\20242\\deep learning\\project\\source_code\\fl-g13\\.venv\\lib\\site-packages)\n",
      "\n",
      "[notice] A new release of pip is available: 25.0.1 -> 25.1.1\n",
      "[notice] To update, run: python.exe -m pip install --upgrade pip\n"
     ]
    }
   ],
   "execution_count": 2
  },
  {
   "metadata": {
    "ExecuteTime": {
     "end_time": "2025-05-13T09:37:00.666033Z",
     "start_time": "2025-05-13T09:36:47.590880Z"
    }
   },
   "cell_type": "code",
   "source": [
    "import os\n",
    "from pathlib import Path\n",
    "\n",
    "import flwr\n",
    "import torch\n",
    "from flwr.simulation import run_simulation\n",
    "from torch.optim import SGD\n",
    "from torch.optim.lr_scheduler import CosineAnnealingLR\n",
    "\n",
    "from fl_g13.architectures import BaseDino\n",
    "from fl_g13.fl_pytorch.client_app import get_client_app\n",
    "from fl_g13.fl_pytorch.server_app import get_server_app"
   ],
   "id": "initial_id",
   "outputs": [
    {
     "name": "stderr",
     "output_type": "stream",
     "text": [
      "\u001B[32m2025-05-13 11:36:52.087\u001B[0m | \u001B[1mINFO    \u001B[0m | \u001B[36mfl_g13.config\u001B[0m:\u001B[36m<module>\u001B[0m:\u001B[36m11\u001B[0m - \u001B[1mPROJ_ROOT path is: C:\\Users\\ADMIN\\Desktop\\BACKUP\\study\\Italy\\polito\\classes\\20242\\deep learning\\project\\source_code\\fl-g13\u001B[0m\n"
     ]
    }
   ],
   "execution_count": 3
  },
  {
   "metadata": {
    "ExecuteTime": {
     "end_time": "2025-05-13T09:37:01.290365Z",
     "start_time": "2025-05-13T09:37:00.668033Z"
    }
   },
   "cell_type": "code",
   "source": [
    "DEVICE = \"cuda\" if torch.cuda.is_available() else \"cpu\"\n",
    "# DEVICE = \"cpu\"\n",
    "print(f\"Training on {DEVICE}\")\n",
    "print(f\"Flower {flwr.__version__} / PyTorch {torch.__version__}\")\n",
    "# disable_progress_bar()"
   ],
   "id": "1a4ec3eb7baf32",
   "outputs": [
    {
     "name": "stdout",
     "output_type": "stream",
     "text": [
      "Training on cuda\n",
      "Flower 1.17.0 / PyTorch 2.6.0+cu118\n"
     ]
    }
   ],
   "execution_count": 4
  },
  {
   "metadata": {},
   "cell_type": "markdown",
   "source": "# Login wandb",
   "id": "73fb84b164b0def7"
  },
  {
   "metadata": {
    "ExecuteTime": {
     "end_time": "2025-05-13T09:37:03.257463Z",
     "start_time": "2025-05-13T09:37:01.292365Z"
    }
   },
   "cell_type": "code",
   "source": "!pip install wandb",
   "id": "6c6449ef9be1e422",
   "outputs": [
    {
     "name": "stdout",
     "output_type": "stream",
     "text": [
      "Requirement already satisfied: wandb in c:\\users\\admin\\desktop\\backup\\study\\italy\\polito\\classes\\20242\\deep learning\\project\\source_code\\fl-g13\\.venv\\lib\\site-packages (0.19.9)\n",
      "Requirement already satisfied: click!=8.0.0,>=7.1 in c:\\users\\admin\\desktop\\backup\\study\\italy\\polito\\classes\\20242\\deep learning\\project\\source_code\\fl-g13\\.venv\\lib\\site-packages (from wandb) (8.1.8)\n",
      "Requirement already satisfied: docker-pycreds>=0.4.0 in c:\\users\\admin\\desktop\\backup\\study\\italy\\polito\\classes\\20242\\deep learning\\project\\source_code\\fl-g13\\.venv\\lib\\site-packages (from wandb) (0.4.0)\n",
      "Requirement already satisfied: gitpython!=3.1.29,>=1.0.0 in c:\\users\\admin\\desktop\\backup\\study\\italy\\polito\\classes\\20242\\deep learning\\project\\source_code\\fl-g13\\.venv\\lib\\site-packages (from wandb) (3.1.44)\n",
      "Requirement already satisfied: platformdirs in c:\\users\\admin\\desktop\\backup\\study\\italy\\polito\\classes\\20242\\deep learning\\project\\source_code\\fl-g13\\.venv\\lib\\site-packages (from wandb) (4.3.7)\n",
      "Requirement already satisfied: protobuf!=4.21.0,!=5.28.0,<6,>=3.19.0 in c:\\users\\admin\\desktop\\backup\\study\\italy\\polito\\classes\\20242\\deep learning\\project\\source_code\\fl-g13\\.venv\\lib\\site-packages (from wandb) (5.29.4)\n",
      "Requirement already satisfied: psutil>=5.0.0 in c:\\users\\admin\\desktop\\backup\\study\\italy\\polito\\classes\\20242\\deep learning\\project\\source_code\\fl-g13\\.venv\\lib\\site-packages (from wandb) (7.0.0)\n",
      "Requirement already satisfied: pydantic<3 in c:\\users\\admin\\desktop\\backup\\study\\italy\\polito\\classes\\20242\\deep learning\\project\\source_code\\fl-g13\\.venv\\lib\\site-packages (from wandb) (2.11.3)\n",
      "Requirement already satisfied: pyyaml in c:\\users\\admin\\desktop\\backup\\study\\italy\\polito\\classes\\20242\\deep learning\\project\\source_code\\fl-g13\\.venv\\lib\\site-packages (from wandb) (6.0.2)\n",
      "Requirement already satisfied: requests<3,>=2.0.0 in c:\\users\\admin\\desktop\\backup\\study\\italy\\polito\\classes\\20242\\deep learning\\project\\source_code\\fl-g13\\.venv\\lib\\site-packages (from wandb) (2.32.3)\n",
      "Requirement already satisfied: sentry-sdk>=2.0.0 in c:\\users\\admin\\desktop\\backup\\study\\italy\\polito\\classes\\20242\\deep learning\\project\\source_code\\fl-g13\\.venv\\lib\\site-packages (from wandb) (2.26.0)\n",
      "Requirement already satisfied: setproctitle in c:\\users\\admin\\desktop\\backup\\study\\italy\\polito\\classes\\20242\\deep learning\\project\\source_code\\fl-g13\\.venv\\lib\\site-packages (from wandb) (1.3.5)\n",
      "Requirement already satisfied: setuptools in c:\\users\\admin\\desktop\\backup\\study\\italy\\polito\\classes\\20242\\deep learning\\project\\source_code\\fl-g13\\.venv\\lib\\site-packages (from wandb) (68.2.0)\n",
      "Requirement already satisfied: typing-extensions<5,>=4.4 in c:\\users\\admin\\desktop\\backup\\study\\italy\\polito\\classes\\20242\\deep learning\\project\\source_code\\fl-g13\\.venv\\lib\\site-packages (from wandb) (4.13.1)\n",
      "Requirement already satisfied: colorama in c:\\users\\admin\\desktop\\backup\\study\\italy\\polito\\classes\\20242\\deep learning\\project\\source_code\\fl-g13\\.venv\\lib\\site-packages (from click!=8.0.0,>=7.1->wandb) (0.4.6)\n",
      "Requirement already satisfied: six>=1.4.0 in c:\\users\\admin\\desktop\\backup\\study\\italy\\polito\\classes\\20242\\deep learning\\project\\source_code\\fl-g13\\.venv\\lib\\site-packages (from docker-pycreds>=0.4.0->wandb) (1.17.0)\n",
      "Requirement already satisfied: gitdb<5,>=4.0.1 in c:\\users\\admin\\desktop\\backup\\study\\italy\\polito\\classes\\20242\\deep learning\\project\\source_code\\fl-g13\\.venv\\lib\\site-packages (from gitpython!=3.1.29,>=1.0.0->wandb) (4.0.12)\n",
      "Requirement already satisfied: annotated-types>=0.6.0 in c:\\users\\admin\\desktop\\backup\\study\\italy\\polito\\classes\\20242\\deep learning\\project\\source_code\\fl-g13\\.venv\\lib\\site-packages (from pydantic<3->wandb) (0.7.0)\n",
      "Requirement already satisfied: pydantic-core==2.33.1 in c:\\users\\admin\\desktop\\backup\\study\\italy\\polito\\classes\\20242\\deep learning\\project\\source_code\\fl-g13\\.venv\\lib\\site-packages (from pydantic<3->wandb) (2.33.1)\n",
      "Requirement already satisfied: typing-inspection>=0.4.0 in c:\\users\\admin\\desktop\\backup\\study\\italy\\polito\\classes\\20242\\deep learning\\project\\source_code\\fl-g13\\.venv\\lib\\site-packages (from pydantic<3->wandb) (0.4.0)\n",
      "Requirement already satisfied: charset-normalizer<4,>=2 in c:\\users\\admin\\desktop\\backup\\study\\italy\\polito\\classes\\20242\\deep learning\\project\\source_code\\fl-g13\\.venv\\lib\\site-packages (from requests<3,>=2.0.0->wandb) (3.4.1)\n",
      "Requirement already satisfied: idna<4,>=2.5 in c:\\users\\admin\\desktop\\backup\\study\\italy\\polito\\classes\\20242\\deep learning\\project\\source_code\\fl-g13\\.venv\\lib\\site-packages (from requests<3,>=2.0.0->wandb) (3.10)\n",
      "Requirement already satisfied: urllib3<3,>=1.21.1 in c:\\users\\admin\\desktop\\backup\\study\\italy\\polito\\classes\\20242\\deep learning\\project\\source_code\\fl-g13\\.venv\\lib\\site-packages (from requests<3,>=2.0.0->wandb) (2.3.0)\n",
      "Requirement already satisfied: certifi>=2017.4.17 in c:\\users\\admin\\desktop\\backup\\study\\italy\\polito\\classes\\20242\\deep learning\\project\\source_code\\fl-g13\\.venv\\lib\\site-packages (from requests<3,>=2.0.0->wandb) (2025.1.31)\n",
      "Requirement already satisfied: smmap<6,>=3.0.1 in c:\\users\\admin\\desktop\\backup\\study\\italy\\polito\\classes\\20242\\deep learning\\project\\source_code\\fl-g13\\.venv\\lib\\site-packages (from gitdb<5,>=4.0.1->gitpython!=3.1.29,>=1.0.0->wandb) (5.0.2)\n"
     ]
    },
    {
     "name": "stderr",
     "output_type": "stream",
     "text": [
      "WARNING: Ignoring invalid distribution -otebook (c:\\users\\admin\\desktop\\backup\\study\\italy\\polito\\classes\\20242\\deep learning\\project\\source_code\\fl-g13\\.venv\\lib\\site-packages)\n",
      "WARNING: Ignoring invalid distribution -otebook (c:\\users\\admin\\desktop\\backup\\study\\italy\\polito\\classes\\20242\\deep learning\\project\\source_code\\fl-g13\\.venv\\lib\\site-packages)\n",
      "WARNING: Ignoring invalid distribution -otebook (c:\\users\\admin\\desktop\\backup\\study\\italy\\polito\\classes\\20242\\deep learning\\project\\source_code\\fl-g13\\.venv\\lib\\site-packages)\n",
      "\n",
      "[notice] A new release of pip is available: 25.0.1 -> 25.1.1\n",
      "[notice] To update, run: python.exe -m pip install --upgrade pip\n"
     ]
    }
   ],
   "execution_count": 5
  },
  {
   "metadata": {
    "ExecuteTime": {
     "end_time": "2025-05-13T09:37:03.756277Z",
     "start_time": "2025-05-13T09:37:03.258967Z"
    }
   },
   "cell_type": "code",
   "source": [
    "## read .env file\n",
    "import dotenv\n",
    "\n",
    "dotenv.load_dotenv()\n"
   ],
   "id": "5f279490dd7a970f",
   "outputs": [
    {
     "data": {
      "text/plain": [
       "True"
      ]
     },
     "execution_count": 6,
     "metadata": {},
     "output_type": "execute_result"
    }
   ],
   "execution_count": 6
  },
  {
   "metadata": {
    "ExecuteTime": {
     "end_time": "2025-05-13T09:37:05.296552Z",
     "start_time": "2025-05-13T09:37:03.757278Z"
    }
   },
   "cell_type": "code",
   "source": [
    "import wandb\n",
    "\n",
    "# login by key in .env file\n",
    "WANDB_API_KEY = dotenv.dotenv_values()[\"WANDB_API_KEY\"]\n",
    "wandb.login(key=WANDB_API_KEY)"
   ],
   "id": "a218d880822fdfba",
   "outputs": [
    {
     "name": "stderr",
     "output_type": "stream",
     "text": [
      "C:\\Users\\ADMIN\\Desktop\\BACKUP\\study\\Italy\\polito\\classes\\20242\\deep learning\\project\\source_code\\fl-g13\\.venv\\lib\\site-packages\\notebook\\utils.py:280: DeprecationWarning: distutils Version classes are deprecated. Use packaging.version instead.\n",
      "  return LooseVersion(v) >= LooseVersion(check)\n",
      "wandb: Using wandb-core as the SDK backend.  Please refer to https://wandb.me/wandb-core for more information.\n",
      "wandb: WARNING If you're specifying your api key in code, ensure this code is not shared publicly.\n",
      "wandb: WARNING Consider setting the WANDB_API_KEY environment variable, or running `wandb login` from the command line.\n",
      "wandb: Appending key for api.wandb.ai to your netrc file: C:\\Users\\ADMIN\\_netrc\n",
      "wandb: Currently logged in as: thanhnv-it23 (stefano-gamba-social-politecnico-di-torino) to https://api.wandb.ai. Use `wandb login --relogin` to force relogin\n"
     ]
    },
    {
     "data": {
      "text/plain": [
       "True"
      ]
     },
     "execution_count": 7,
     "metadata": {},
     "output_type": "execute_result"
    }
   ],
   "execution_count": 7
  },
  {
   "metadata": {},
   "cell_type": "markdown",
   "source": "# FL",
   "id": "ee82432353abfbe2"
  },
  {
   "metadata": {},
   "cell_type": "markdown",
   "source": "## Configs",
   "id": "cdb05316b163821b"
  },
  {
   "metadata": {
    "ExecuteTime": {
     "end_time": "2025-05-13T09:37:05.824857Z",
     "start_time": "2025-05-13T09:37:05.297418Z"
    }
   },
   "cell_type": "code",
   "source": "DEBUG = True",
   "id": "6ba4f53af219c423",
   "outputs": [],
   "execution_count": 8
  },
  {
   "metadata": {
    "ExecuteTime": {
     "end_time": "2025-05-13T09:37:06.340168Z",
     "start_time": "2025-05-13T09:37:05.825840Z"
    }
   },
   "cell_type": "code",
   "source": [
    "# Model config\n",
    "\n",
    "## Model Hyper-parameters\n",
    "head_layers = 3\n",
    "head_hidden_size = 512\n",
    "dropout_rate = 0.0\n",
    "unfreeze_blocks = 1\n",
    "\n",
    "## Training Hyper-parameters\n",
    "batch_size = 128\n",
    "lr = 1e-3\n",
    "momentum = 0.9\n",
    "weight_decay = 1e-5\n",
    "T_max = 8\n",
    "eta_min = 1e-5\n",
    "\n",
    "# FL config\n",
    "K = 100\n",
    "C = 0.1\n",
    "J = 4\n",
    "num_rounds = 30\n",
    "partition_type = 'iid'\n",
    "\n",
    "## only for partition_type = 'shard'\n",
    "num_shards_per_partition = 10\n",
    "\n",
    "## Server App config\n",
    "save_every = 1\n",
    "fraction_fit = C  # Sample of available clients for training\n",
    "fraction_evaluate = 0.1  # Sample 50% of available clients for evaluation\n",
    "min_fit_clients = 10  # Never sample less than 10 clients for training\n",
    "min_evaluate_clients = 5  # Never sample less than 5 clients for evaluation\n",
    "min_available_clients = 10  # Wait until all 10 clients are available\n",
    "device = DEVICE\n",
    "## checkpoints directory\n",
    "current_path = Path.cwd()\n",
    "model_save_path = current_path / f\"../models/fl_dino_baseline/{partition_type}\"\n",
    "checkpoint_dir = model_save_path.resolve()\n",
    "os.makedirs(checkpoint_dir, exist_ok=True)\n",
    "\n",
    "## Wandb config\n",
    "use_wandb = True\n",
    "wandb_config = {\n",
    "    # wandb param\n",
    "    'name': 'FL_Dino_Baseline_iid',\n",
    "    'project_name': \"FL_test_chart\",\n",
    "    # model config param\n",
    "    \"fraction_fit\": fraction_fit,\n",
    "    \"lr\": lr,\n",
    "    \"momentum\": momentum,\n",
    "    'partition_type': partition_type,\n",
    "    'K': K,\n",
    "    'C': C,\n",
    "    'J': J,\n",
    "}\n",
    "\n",
    "## simulation run config\n",
    "NUM_CLIENTS = 100\n",
    "MAX_PARALLEL_CLIENTS = 10\n",
    "\n",
    "if DEBUG:\n",
    "    use_wandb = True\n",
    "    num_rounds = 2\n",
    "    J = 2\n"
   ],
   "id": "d63bb533ec30809b",
   "outputs": [],
   "execution_count": 9
  },
  {
   "metadata": {},
   "cell_type": "markdown",
   "source": "## Define model , optimizer and loss function",
   "id": "4c0f23c3615c6d68"
  },
  {
   "metadata": {
    "ExecuteTime": {
     "end_time": "2025-05-13T09:37:07.415524Z",
     "start_time": "2025-05-13T09:37:06.342155Z"
    }
   },
   "cell_type": "code",
   "source": [
    "# Model\n",
    "model = BaseDino(\n",
    "    head_layers=head_layers,\n",
    "    head_hidden_size=head_hidden_size,\n",
    "    dropout_rate=dropout_rate,\n",
    "    unfreeze_blocks=unfreeze_blocks\n",
    ")\n",
    "model.to(DEVICE)\n",
    "optimizer = SGD(model.parameters(), lr=lr, momentum=momentum)\n",
    "criterion = torch.nn.CrossEntropyLoss()\n",
    "scheduler = CosineAnnealingLR(\n",
    "    optimizer=optimizer,\n",
    "    T_max=T_max,\n",
    "    eta_min=eta_min\n",
    ")"
   ],
   "id": "9046d19b28a38ed3",
   "outputs": [
    {
     "name": "stderr",
     "output_type": "stream",
     "text": [
      "Using cache found in C:\\Users\\ADMIN/.cache\\torch\\hub\\facebookresearch_dino_main\n"
     ]
    }
   ],
   "execution_count": 10
  },
  {
   "metadata": {},
   "cell_type": "markdown",
   "source": "## Define the ClientApp",
   "id": "e73656b5d73ac995"
  },
  {
   "metadata": {},
   "cell_type": "markdown",
   "source": [
    "## Build module local\n",
    "\n",
    "Build module local such that ClientApp can use it"
   ],
   "id": "b5a0319c8e40215a"
  },
  {
   "metadata": {
    "ExecuteTime": {
     "end_time": "2025-05-13T09:37:13.477561Z",
     "start_time": "2025-05-13T09:37:07.417516Z"
    }
   },
   "cell_type": "code",
   "source": "!pip install -e ..",
   "id": "8a11402a3317027f",
   "outputs": [
    {
     "name": "stderr",
     "output_type": "stream",
     "text": [
      "WARNING: Ignoring invalid distribution -otebook (c:\\users\\admin\\desktop\\backup\\study\\italy\\polito\\classes\\20242\\deep learning\\project\\source_code\\fl-g13\\.venv\\lib\\site-packages)"
     ]
    },
    {
     "name": "stdout",
     "output_type": "stream",
     "text": [
      "Obtaining file:///C:/Users/ADMIN/Desktop/BACKUP/study/Italy/polito/classes/20242/deep%20learning/project/source_code/fl-g13"
     ]
    },
    {
     "name": "stderr",
     "output_type": "stream",
     "text": [
      "\n"
     ]
    },
    {
     "name": "stdout",
     "output_type": "stream",
     "text": [
      "\n"
     ]
    },
    {
     "name": "stderr",
     "output_type": "stream",
     "text": [
      "WARNING: Ignoring invalid distribution -otebook (c:\\users\\admin\\desktop\\backup\\study\\italy\\polito\\classes\\20242\\deep learning\\project\\source_code\\fl-g13\\.venv\\lib\\site-packages)"
     ]
    },
    {
     "name": "stdout",
     "output_type": "stream",
     "text": [
      "  Installing build dependencies: started"
     ]
    },
    {
     "name": "stderr",
     "output_type": "stream",
     "text": [
      "\n"
     ]
    },
    {
     "name": "stdout",
     "output_type": "stream",
     "text": [
      "\n"
     ]
    },
    {
     "name": "stderr",
     "output_type": "stream",
     "text": [
      "WARNING: Ignoring invalid distribution -otebook (c:\\users\\admin\\desktop\\backup\\study\\italy\\polito\\classes\\20242\\deep learning\\project\\source_code\\fl-g13\\.venv\\lib\\site-packages)"
     ]
    },
    {
     "name": "stdout",
     "output_type": "stream",
     "text": [
      "  Installing build dependencies: finished with status 'done'\n"
     ]
    },
    {
     "name": "stderr",
     "output_type": "stream",
     "text": [
      "\n",
      "\n"
     ]
    },
    {
     "name": "stdout",
     "output_type": "stream",
     "text": [
      "  Checking if build backend supports build_editable: started"
     ]
    },
    {
     "name": "stderr",
     "output_type": "stream",
     "text": [
      "[notice] A new release of pip is available: 25.0.1 -> 25.1.1"
     ]
    },
    {
     "name": "stdout",
     "output_type": "stream",
     "text": [
      "\n"
     ]
    },
    {
     "name": "stderr",
     "output_type": "stream",
     "text": [
      "\n"
     ]
    },
    {
     "name": "stdout",
     "output_type": "stream",
     "text": [
      "  Checking if build backend supports build_editable: finished with status 'done'\n"
     ]
    },
    {
     "name": "stderr",
     "output_type": "stream",
     "text": [
      "[notice] To update, run: python.exe -m pip install --upgrade pip"
     ]
    },
    {
     "name": "stdout",
     "output_type": "stream",
     "text": [
      "  Getting requirements to build editable: started"
     ]
    },
    {
     "name": "stderr",
     "output_type": "stream",
     "text": [
      "\n"
     ]
    },
    {
     "name": "stdout",
     "output_type": "stream",
     "text": [
      "\n",
      "  Getting requirements to build editable: finished with status 'done'\n",
      "  Preparing editable metadata (pyproject.toml): started\n",
      "  Preparing editable metadata (pyproject.toml): finished with status 'done'\n",
      "Building wheels for collected packages: fl_g13\n",
      "  Building editable for fl_g13 (pyproject.toml): started\n",
      "  Building editable for fl_g13 (pyproject.toml): finished with status 'done'\n",
      "  Created wheel for fl_g13: filename=fl_g13-0.0.1-py3-none-any.whl size=4649 sha256=a588eeccbccdbea56dbfe92e55bd612babd81e07366f39e361ccc99a5ffdec08\n",
      "  Stored in directory: C:\\Users\\ADMIN\\AppData\\Local\\Temp\\pip-ephem-wheel-cache-h6tvvxa0\\wheels\\b7\\e0\\6d\\5d22ced2ef400b314cfe74883357cc37e1e1d5275e7ba9175e\n",
      "Successfully built fl_g13\n",
      "Installing collected packages: fl_g13\n",
      "  Attempting uninstall: fl_g13\n"
     ]
    }
   ],
   "execution_count": 11
  },
  {
   "metadata": {},
   "cell_type": "markdown",
   "source": "## Create FlowerClient instances  ",
   "id": "97c881019a2b9e21"
  },
  {
   "metadata": {},
   "cell_type": "markdown",
   "source": "### Create instant of ClientApp",
   "id": "babef0c5a1343937"
  },
  {
   "metadata": {
    "ExecuteTime": {
     "end_time": "2025-05-13T09:37:14.113930Z",
     "start_time": "2025-05-13T09:37:13.479252Z"
    }
   },
   "cell_type": "code",
   "source": [
    "client = get_client_app(\n",
    "    model=model,\n",
    "    optimizer=optimizer,\n",
    "    criterion=criterion,\n",
    "    device=DEVICE,\n",
    "    partition_type=partition_type,\n",
    "    local_epochs=J,\n",
    "    batch_size=batch_size,\n",
    "    num_shards_per_partition=num_shards_per_partition,\n",
    "    scheduler=scheduler,\n",
    "    verbose=0\n",
    "    # load_data_fn=load_data_clients\n",
    ")"
   ],
   "id": "70467a37aa8c09c7",
   "outputs": [],
   "execution_count": 12
  },
  {
   "metadata": {},
   "cell_type": "markdown",
   "source": [
    "# Define the Flower ServerApp\n",
    "\n",
    "Customize built-in strategy Federated Averaging (FedAvg) of Flower to combine hyperparams in server-side and save model for each k epoch\n",
    "\n",
    "The strategy could also incremental training "
   ],
   "id": "5ccd8dfd409b0385"
  },
  {
   "metadata": {},
   "cell_type": "markdown",
   "source": "## Create instant of ServerApp",
   "id": "6f9276503ee2d47"
  },
  {
   "metadata": {
    "ExecuteTime": {
     "end_time": "2025-05-13T09:45:28.019784Z",
     "start_time": "2025-05-13T09:45:26.545445Z"
    }
   },
   "cell_type": "code",
   "source": [
    "server = get_server_app(checkpoint_dir=checkpoint_dir,\n",
    "                        model_class=model,\n",
    "                        optimizer=optimizer,\n",
    "                        criterion=criterion,\n",
    "                        scheduler=scheduler,\n",
    "                        num_rounds=num_rounds,\n",
    "                        fraction_fit=fraction_fit,\n",
    "                        fraction_evaluate=fraction_evaluate,\n",
    "                        min_fit_clients=min_fit_clients,\n",
    "                        min_evaluate_clients=min_evaluate_clients,\n",
    "                        min_available_clients=min_available_clients,\n",
    "                        device=device,\n",
    "                        use_wandb=use_wandb,\n",
    "                        wandb_config=wandb_config,\n",
    "                        save_every=save_every,\n",
    "                        prefix='fl_baseline'\n",
    "                        )"
   ],
   "id": "1cbac220e52a6d00",
   "outputs": [
    {
     "name": "stdout",
     "output_type": "stream",
     "text": [
      "🔍 Loading checkpoint from C:\\Users\\ADMIN\\Desktop\\BACKUP\\study\\Italy\\polito\\classes\\20242\\deep learning\\project\\source_code\\fl-g13\\models\\fl_dino_baseline\\iid\\fl_fl_baseline_BaseDino_epoch_2.pth\n",
      "📦 Model class in checkpoint: BaseDino\n",
      "🔧 Model configuration: {'variant': 'dino_vits16', 'dropout_rate': 0.0, 'head_hidden_size': 512, 'head_layers': 3, 'num_classes': 100, 'unfreeze_blocks': 1, 'activation_fn': 'GELU', 'pretrained': True}\n"
     ]
    },
    {
     "name": "stderr",
     "output_type": "stream",
     "text": [
      "Using cache found in C:\\Users\\ADMIN/.cache\\torch\\hub\\facebookresearch_dino_main\n"
     ]
    },
    {
     "name": "stdout",
     "output_type": "stream",
     "text": [
      "➡️ Moved model to device: cuda\n",
      "✅ Loaded checkpoint from C:\\Users\\ADMIN\\Desktop\\BACKUP\\study\\Italy\\polito\\classes\\20242\\deep learning\\project\\source_code\\fl-g13\\models\\fl_dino_baseline\\iid\\fl_fl_baseline_BaseDino_epoch_2.pth, resuming at epoch 3\n"
     ]
    }
   ],
   "execution_count": 18
  },
  {
   "metadata": {},
   "cell_type": "markdown",
   "source": "# Run the training\n",
   "id": "1427a966f7544b94"
  },
  {
   "metadata": {
    "ExecuteTime": {
     "end_time": "2025-05-13T09:45:35.763642Z",
     "start_time": "2025-05-13T09:45:35.087485Z"
    }
   },
   "cell_type": "code",
   "source": [
    "# Specify the resources each of your clients need\n",
    "# By default, each client will be allocated 1x CPU and 0x GPUs\n",
    "backend_config = {\"client_resources\": {\"num_cpus\": 1, \"num_gpus\": 0.0}}\n",
    "\n",
    "# When running on GPU, assign an entire GPU for each client\n",
    "if DEVICE == \"cuda\":\n",
    "    backend_config[\"client_resources\"] = {\"num_cpus\": 1, \"num_gpus\": 1}\n",
    "    # Refer to our Flower framework documentation for more details about Flower simulations\n",
    "    # and how to set up the `backend_config`"
   ],
   "id": "1388e3308f7b212b",
   "outputs": [],
   "execution_count": 19
  },
  {
   "metadata": {},
   "cell_type": "markdown",
   "source": [
    "### Download missing module for clients\n",
    "\n",
    "Dino model,that is serialized and sent to client by server, require some modules that have to download from source code of dino model\n"
   ],
   "id": "9399f1a9cedc8cc3"
  },
  {
   "metadata": {
    "ExecuteTime": {
     "end_time": "2025-05-13T09:45:36.668543Z",
     "start_time": "2025-05-13T09:45:35.975928Z"
    }
   },
   "cell_type": "code",
   "source": [
    "import os\n",
    "import urllib.request\n",
    "\n",
    "\n",
    "def download_if_not_exists(file_path: str, file_url: str):\n",
    "    \"\"\"\n",
    "    Checks if a file exists at the given path. If it does not, downloads it from the specified URL.\n",
    "\n",
    "    Parameters:\n",
    "    - file_path (str): The local path to check and save the file.\n",
    "    - file_url (str): The URL from which to download the file.\n",
    "    \"\"\"\n",
    "    if not os.path.exists(file_path):\n",
    "        print(f\"'{file_path}' not found. Downloading from {file_url}...\")\n",
    "        try:\n",
    "            urllib.request.urlretrieve(file_url, file_path)\n",
    "            print(\"Download complete.\")\n",
    "        except Exception as e:\n",
    "            print(f\"Failed to download file: {e}\")\n",
    "    else:\n",
    "        print(f\"'{file_path}' already exists.\")"
   ],
   "id": "beb2c855fcd8933c",
   "outputs": [],
   "execution_count": 20
  },
  {
   "metadata": {
    "ExecuteTime": {
     "end_time": "2025-05-13T09:45:37.844434Z",
     "start_time": "2025-05-13T09:45:37.197303Z"
    }
   },
   "cell_type": "code",
   "source": [
    "download_if_not_exists(\"vision_transformer.py\",\n",
    "                       \"https://raw.githubusercontent.com/facebookresearch/dino/refs/heads/main/vision_transformer.py\")\n",
    "download_if_not_exists(\"utils.py\",\n",
    "                       \"https://raw.githubusercontent.com/facebookresearch/dino/refs/heads/main/utils.py\")\n"
   ],
   "id": "d93caca63a33c71f",
   "outputs": [
    {
     "name": "stdout",
     "output_type": "stream",
     "text": [
      "'vision_transformer.py' already exists.\n",
      "'utils.py' already exists.\n"
     ]
    }
   ],
   "execution_count": 21
  },
  {
   "metadata": {},
   "cell_type": "markdown",
   "source": "",
   "id": "9a1db478a3e1221"
  },
  {
   "metadata": {
    "ExecuteTime": {
     "end_time": "2025-05-13T09:49:42.120237Z",
     "start_time": "2025-05-13T09:45:38.385499Z"
    }
   },
   "cell_type": "code",
   "source": [
    "# Run simulation\n",
    "run_simulation(\n",
    "    server_app=server,\n",
    "    client_app=client,\n",
    "    num_supernodes=NUM_CLIENTS,\n",
    "    backend_config=backend_config\n",
    ")"
   ],
   "id": "1451e826d4713ec9",
   "outputs": [
    {
     "name": "stdout",
     "output_type": "stream",
     "text": [
      "[Server] Server on device: cuda:0\n",
      "[Server] CUDA available in client: True\n"
     ]
    },
    {
     "data": {
      "text/plain": [
       "<IPython.core.display.HTML object>"
      ],
      "text/html": []
     },
     "metadata": {},
     "output_type": "display_data"
    },
    {
     "data": {
      "text/plain": [
       "<IPython.core.display.HTML object>"
      ],
      "text/html": [
       "<br>    <style><br>        .wandb-row {<br>            display: flex;<br>            flex-direction: row;<br>            flex-wrap: wrap;<br>            justify-content: flex-start;<br>            width: 100%;<br>        }<br>        .wandb-col {<br>            display: flex;<br>            flex-direction: column;<br>            flex-basis: 100%;<br>            flex: 1;<br>            padding: 10px;<br>        }<br>    </style><br><div class=\"wandb-row\"><div class=\"wandb-col\"><h3>Run history:</h3><br/><table class=\"wandb\"><tr><td>centralized_accuracy</td><td>▁▄█</td></tr><tr><td>centralized_eval_loss</td><td>█▂▁</td></tr><tr><td>decentralized_avg_eval_accuracy</td><td>▁█</td></tr><tr><td>decentralized_avg_eval_loss</td><td>█▁</td></tr><tr><td>decentralized_avg_train_accuracy</td><td>▁█</td></tr><tr><td>decentralized_avg_train_loss</td><td>█▁</td></tr></table><br/></div><div class=\"wandb-col\"><h3>Run summary:</h3><br/><table class=\"wandb\"><tr><td>centralized_accuracy</td><td>0.0312</td></tr><tr><td>centralized_eval_loss</td><td>4.52635</td></tr><tr><td>decentralized_avg_eval_accuracy</td><td>0.038</td></tr><tr><td>decentralized_avg_eval_loss</td><td>4.52311</td></tr><tr><td>decentralized_avg_train_accuracy</td><td>0.051</td></tr><tr><td>decentralized_avg_train_loss</td><td>4.47232</td></tr></table><br/></div></div>"
      ]
     },
     "metadata": {},
     "output_type": "display_data"
    },
    {
     "data": {
      "text/plain": [
       "<IPython.core.display.HTML object>"
      ],
      "text/html": [
       " View run <strong style=\"color:#cdcd00\">FL_Dino_Baseline_iid</strong> at: <a href='https://wandb.ai/stefano-gamba-social-politecnico-di-torino/FL_test_chart/runs/0iyowox1' target=\"_blank\">https://wandb.ai/stefano-gamba-social-politecnico-di-torino/FL_test_chart/runs/0iyowox1</a><br> View project at: <a href='https://wandb.ai/stefano-gamba-social-politecnico-di-torino/FL_test_chart' target=\"_blank\">https://wandb.ai/stefano-gamba-social-politecnico-di-torino/FL_test_chart</a><br>Synced 5 W&B file(s), 0 media file(s), 0 artifact file(s) and 0 other file(s)"
      ]
     },
     "metadata": {},
     "output_type": "display_data"
    },
    {
     "data": {
      "text/plain": [
       "<IPython.core.display.HTML object>"
      ],
      "text/html": [
       "Find logs at: <code>.\\wandb\\run-20250513_113718-0iyowox1\\logs</code>"
      ]
     },
     "metadata": {},
     "output_type": "display_data"
    },
    {
     "name": "stderr",
     "output_type": "stream",
     "text": [
      "C:\\Users\\ADMIN\\Desktop\\BACKUP\\study\\Italy\\polito\\classes\\20242\\deep learning\\project\\source_code\\fl-g13\\.venv\\lib\\site-packages\\wandb\\analytics\\sentry.py:259: DeprecationWarning: The `Scope.user` setter is deprecated in favor of `Scope.set_user()`.\n",
      "  self.scope.user = {\"email\": email}  # noqa\n"
     ]
    },
    {
     "data": {
      "text/plain": [
       "<IPython.core.display.HTML object>"
      ],
      "text/html": [
       "Tracking run with wandb version 0.19.9"
      ]
     },
     "metadata": {},
     "output_type": "display_data"
    },
    {
     "data": {
      "text/plain": [
       "<IPython.core.display.HTML object>"
      ],
      "text/html": [
       "Run data is saved locally in <code>C:\\Users\\ADMIN\\Desktop\\BACKUP\\study\\Italy\\polito\\classes\\20242\\deep learning\\project\\source_code\\fl-g13\\notebooks\\wandb\\run-20250513_114540-0iyowox1</code>"
      ]
     },
     "metadata": {},
     "output_type": "display_data"
    },
    {
     "data": {
      "text/plain": [
       "<IPython.core.display.HTML object>"
      ],
      "text/html": [
       "Resuming run <strong><a href='https://wandb.ai/stefano-gamba-social-politecnico-di-torino/FL_test_chart/runs/0iyowox1' target=\"_blank\">FL_Dino_Baseline_iid</a></strong> to <a href='https://wandb.ai/stefano-gamba-social-politecnico-di-torino/FL_test_chart' target=\"_blank\">Weights & Biases</a> (<a href='https://wandb.me/developer-guide' target=\"_blank\">docs</a>)<br>"
      ]
     },
     "metadata": {},
     "output_type": "display_data"
    },
    {
     "data": {
      "text/plain": [
       "<IPython.core.display.HTML object>"
      ],
      "text/html": [
       " View project at <a href='https://wandb.ai/stefano-gamba-social-politecnico-di-torino/FL_test_chart' target=\"_blank\">https://wandb.ai/stefano-gamba-social-politecnico-di-torino/FL_test_chart</a>"
      ]
     },
     "metadata": {},
     "output_type": "display_data"
    },
    {
     "data": {
      "text/plain": [
       "<IPython.core.display.HTML object>"
      ],
      "text/html": [
       " View run at <a href='https://wandb.ai/stefano-gamba-social-politecnico-di-torino/FL_test_chart/runs/0iyowox1' target=\"_blank\">https://wandb.ai/stefano-gamba-social-politecnico-di-torino/FL_test_chart/runs/0iyowox1</a>"
      ]
     },
     "metadata": {},
     "output_type": "display_data"
    },
    {
     "name": "stderr",
     "output_type": "stream",
     "text": [
      "\u001B[92mINFO \u001B[0m:      Starting Flower ServerApp, config: num_rounds=2, no round_timeout\n",
      "\u001B[92mINFO \u001B[0m:      \n",
      "\u001B[92mINFO \u001B[0m:      [INIT]\n",
      "\u001B[92mINFO \u001B[0m:      Using initial global parameters provided by strategy\n",
      "\u001B[92mINFO \u001B[0m:      Starting evaluation of initial global parameters\n"
     ]
    },
    {
     "name": "stdout",
     "output_type": "stream",
     "text": [
      "[Server Eval Round 0] Model device: cuda:0\n",
      "[Server Eval Round 0] CUDA available in server eval: True\n"
     ]
    },
    {
     "name": "stderr",
     "output_type": "stream",
     "text": [
      "Eval progress: 100%|██████████| 313/313 [00:32<00:00,  9.69batch/s]\n",
      "\u001B[92mINFO \u001B[0m:      [Round 0] Centralized Evaluation - Loss: 4.5264, Metrics: {'centralized_accuracy': 0.0312}\n",
      "\u001B[92mINFO \u001B[0m:      initial parameters (loss, other metrics): 4.526353092620167, {'centralized_accuracy': 0.0312}\n",
      "\u001B[92mINFO \u001B[0m:      \n",
      "\u001B[92mINFO \u001B[0m:      [ROUND 1]\n",
      "\u001B[92mINFO \u001B[0m:      configure_fit: strategy sampled 10 clients (out of 100)\n",
      "(ClientAppActor pid=25380) 2025-05-13 11:46:22.626 | INFO     | fl_g13.config:<module>:11 - PROJ_ROOT path is: C:\\Users\\ADMIN\\Desktop\\BACKUP\\study\\Italy\\polito\\classes\\20242\\deep learning\\project\\source_code\\fl-g13\n",
      "wandb: WARNING Tried to log to step 2 that is less than the current step 3. Steps must be monotonically increasing, so this data will be ignored. See https://wandb.me/define-metric to log data out of order.\n"
     ]
    },
    {
     "name": "stdout",
     "output_type": "stream",
     "text": [
      "(ClientAppActor pid=25380) [Client] Client on device: cuda:0\n",
      "(ClientAppActor pid=25380) [Client] CUDA available in client: True\n",
      "(ClientAppActor pid=25380) No prefix/name for the model was provided, choosen prefix/name: groovy_rattata_17\n",
      "(ClientAppActor pid=25380) \n"
     ]
    },
    {
     "name": "stderr",
     "output_type": "stream",
     "text": [
      "(ClientAppActor pid=25380) C:\\Users\\ADMIN\\Desktop\\BACKUP\\study\\Italy\\polito\\classes\\20242\\deep learning\\project\\source_code\\fl-g13\\.venv\\lib\\site-packages\\torch\\optim\\lr_scheduler.py:217: UserWarning: Seems like `optimizer.step()` has been overridden after learning rate scheduler initialization. Please, make sure to call `optimizer.step()` before `lr_scheduler.step()`. See more details at https://pytorch.org/docs/stable/optim.html#how-to-adjust-learning-rate\n",
      "(ClientAppActor pid=25380)   warnings.warn(\n"
     ]
    },
    {
     "name": "stdout",
     "output_type": "stream",
     "text": [
      "(ClientAppActor pid=25380) 🚀 Epoch 1/2 (50.00%) Completed\n",
      "(ClientAppActor pid=25380) \t📊 Training Loss: 4.6042\n",
      "(ClientAppActor pid=25380) \t✅ Training Accuracy: 4.00%\n",
      "(ClientAppActor pid=25380) \t⏳ Elapsed Time: 1.80s | ETA: 1.80s\n",
      "(ClientAppActor pid=25380) \t🕒 Completed At: 11:46\n",
      "(ClientAppActor pid=25380) \n",
      "(ClientAppActor pid=25380) 🚀 Epoch 2/2 (100.00%) Completed\n",
      "(ClientAppActor pid=25380) \t📊 Training Loss: 4.2007\n",
      "(ClientAppActor pid=25380) \t✅ Training Accuracy: 6.25%\n",
      "(ClientAppActor pid=25380) \t⏳ Elapsed Time: 1.37s | ETA: 0.00s\n",
      "(ClientAppActor pid=25380) \t🕒 Completed At: 11:46\n",
      "(ClientAppActor pid=25380) \n",
      "(ClientAppActor pid=25380) [Client] Client on device: cuda:0\n",
      "(ClientAppActor pid=25380) [Client] CUDA available in client: True\n",
      "(ClientAppActor pid=25380) No prefix/name for the model was provided, choosen prefix/name: loopy_caterpie_56\n",
      "(ClientAppActor pid=25380) \n",
      "(ClientAppActor pid=25380) 🚀 Epoch 1/2 (50.00%) Completed\n",
      "(ClientAppActor pid=25380) \t📊 Training Loss: 4.4961\n",
      "(ClientAppActor pid=25380) \t✅ Training Accuracy: 3.75%\n",
      "(ClientAppActor pid=25380) \t⏳ Elapsed Time: 1.32s | ETA: 1.32s\n",
      "(ClientAppActor pid=25380) \t🕒 Completed At: 11:46\n",
      "(ClientAppActor pid=25380) \n",
      "(ClientAppActor pid=25380) 🚀 Epoch 2/2 (100.00%) Completed\n",
      "(ClientAppActor pid=25380) \t📊 Training Loss: 4.3454\n",
      "(ClientAppActor pid=25380) \t✅ Training Accuracy: 7.50%\n",
      "(ClientAppActor pid=25380) \t⏳ Elapsed Time: 1.65s | ETA: 0.00s\n",
      "(ClientAppActor pid=25380) \t🕒 Completed At: 11:46\n",
      "(ClientAppActor pid=25380) \n",
      "(ClientAppActor pid=25380) [Client] Client on device: cuda:0\n",
      "(ClientAppActor pid=25380) [Client] CUDA available in client: True\n",
      "(ClientAppActor pid=25380) No prefix/name for the model was provided, choosen prefix/name: spunky_spearow_39\n",
      "(ClientAppActor pid=25380) \n",
      "(ClientAppActor pid=25380) 🚀 Epoch 1/2 (50.00%) Completed\n",
      "(ClientAppActor pid=25380) \t📊 Training Loss: 4.4203\n",
      "(ClientAppActor pid=25380) \t✅ Training Accuracy: 4.25%\n",
      "(ClientAppActor pid=25380) \t⏳ Elapsed Time: 1.53s | ETA: 1.53s\n",
      "(ClientAppActor pid=25380) \t🕒 Completed At: 11:46\n",
      "(ClientAppActor pid=25380) \n",
      "(ClientAppActor pid=25380) 🚀 Epoch 2/2 (100.00%) Completed\n",
      "(ClientAppActor pid=25380) \t📊 Training Loss: 4.2088\n",
      "(ClientAppActor pid=25380) \t✅ Training Accuracy: 7.75%\n",
      "(ClientAppActor pid=25380) \t⏳ Elapsed Time: 1.25s | ETA: 0.00s\n",
      "(ClientAppActor pid=25380) \t🕒 Completed At: 11:46\n",
      "(ClientAppActor pid=25380) \n",
      "(ClientAppActor pid=25380) [Client] Client on device: cuda:0\n",
      "(ClientAppActor pid=25380) [Client] CUDA available in client: True\n",
      "(ClientAppActor pid=25380) No prefix/name for the model was provided, choosen prefix/name: bouncy_pidgeotto_94\n",
      "(ClientAppActor pid=25380) \n",
      "(ClientAppActor pid=25380) 🚀 Epoch 1/2 (50.00%) Completed\n",
      "(ClientAppActor pid=25380) \t📊 Training Loss: 4.5044\n",
      "(ClientAppActor pid=25380) \t✅ Training Accuracy: 3.50%\n",
      "(ClientAppActor pid=25380) \t⏳ Elapsed Time: 1.37s | ETA: 1.37s\n",
      "(ClientAppActor pid=25380) \t🕒 Completed At: 11:46\n",
      "(ClientAppActor pid=25380) \n",
      "(ClientAppActor pid=25380) 🚀 Epoch 2/2 (100.00%) Completed\n",
      "(ClientAppActor pid=25380) \t📊 Training Loss: 4.3093\n",
      "(ClientAppActor pid=25380) \t✅ Training Accuracy: 5.75%\n",
      "(ClientAppActor pid=25380) \t⏳ Elapsed Time: 1.26s | ETA: 0.00s\n",
      "(ClientAppActor pid=25380) \t🕒 Completed At: 11:46\n",
      "(ClientAppActor pid=25380) \n",
      "(ClientAppActor pid=25380) [Client] Client on device: cuda:0\n",
      "(ClientAppActor pid=25380) [Client] CUDA available in client: True\n",
      "(ClientAppActor pid=25380) No prefix/name for the model was provided, choosen prefix/name: groovy_pidgeotto_47\n",
      "(ClientAppActor pid=25380) \n",
      "(ClientAppActor pid=25380) 🚀 Epoch 1/2 (50.00%) Completed\n",
      "(ClientAppActor pid=25380) \t📊 Training Loss: 4.3758\n",
      "(ClientAppActor pid=25380) \t✅ Training Accuracy: 3.50%\n",
      "(ClientAppActor pid=25380) \t⏳ Elapsed Time: 1.38s | ETA: 1.38s\n",
      "(ClientAppActor pid=25380) \t🕒 Completed At: 11:46\n",
      "(ClientAppActor pid=25380) \n",
      "(ClientAppActor pid=25380) 🚀 Epoch 2/2 (100.00%) Completed\n",
      "(ClientAppActor pid=25380) \t📊 Training Loss: 4.2627\n",
      "(ClientAppActor pid=25380) \t✅ Training Accuracy: 7.50%\n",
      "(ClientAppActor pid=25380) \t⏳ Elapsed Time: 1.24s | ETA: 0.00s\n",
      "(ClientAppActor pid=25380) \t🕒 Completed At: 11:46\n",
      "(ClientAppActor pid=25380) \n",
      "(ClientAppActor pid=25380) [Client] Client on device: cuda:0\n",
      "(ClientAppActor pid=25380) [Client] CUDA available in client: True\n",
      "(ClientAppActor pid=25380) No prefix/name for the model was provided, choosen prefix/name: breezy_caterpie_87\n",
      "(ClientAppActor pid=25380) \n",
      "(ClientAppActor pid=25380) 🚀 Epoch 1/2 (50.00%) Completed\n",
      "(ClientAppActor pid=25380) \t📊 Training Loss: 4.5261\n",
      "(ClientAppActor pid=25380) \t✅ Training Accuracy: 3.50%\n",
      "(ClientAppActor pid=25380) \t⏳ Elapsed Time: 1.56s | ETA: 1.56s\n",
      "(ClientAppActor pid=25380) \t🕒 Completed At: 11:47\n",
      "(ClientAppActor pid=25380) \n",
      "(ClientAppActor pid=25380) 🚀 Epoch 2/2 (100.00%) Completed\n",
      "(ClientAppActor pid=25380) \t📊 Training Loss: 4.2141\n",
      "(ClientAppActor pid=25380) \t✅ Training Accuracy: 5.00%\n",
      "(ClientAppActor pid=25380) \t⏳ Elapsed Time: 1.33s | ETA: 0.00s\n",
      "(ClientAppActor pid=25380) \t🕒 Completed At: 11:47\n",
      "(ClientAppActor pid=25380) \n",
      "(ClientAppActor pid=25380) [Client] Client on device: cuda:0\n",
      "(ClientAppActor pid=25380) [Client] CUDA available in client: True\n",
      "(ClientAppActor pid=25380) No prefix/name for the model was provided, choosen prefix/name: dorky_pidgey_19\n",
      "(ClientAppActor pid=25380) \n",
      "(ClientAppActor pid=25380) 🚀 Epoch 1/2 (50.00%) Completed\n",
      "(ClientAppActor pid=25380) \t📊 Training Loss: 4.4996\n",
      "(ClientAppActor pid=25380) \t✅ Training Accuracy: 3.25%\n",
      "(ClientAppActor pid=25380) \t⏳ Elapsed Time: 1.67s | ETA: 1.67s\n",
      "(ClientAppActor pid=25380) \t🕒 Completed At: 11:47\n",
      "(ClientAppActor pid=25380) \n",
      "(ClientAppActor pid=25380) 🚀 Epoch 2/2 (100.00%) Completed\n",
      "(ClientAppActor pid=25380) \t📊 Training Loss: 4.2238\n",
      "(ClientAppActor pid=25380) \t✅ Training Accuracy: 7.00%\n",
      "(ClientAppActor pid=25380) \t⏳ Elapsed Time: 1.25s | ETA: 0.00s\n",
      "(ClientAppActor pid=25380) \t🕒 Completed At: 11:47\n",
      "(ClientAppActor pid=25380) \n",
      "(ClientAppActor pid=25380) [Client] Client on device: cuda:0\n",
      "(ClientAppActor pid=25380) [Client] CUDA available in client: True\n",
      "(ClientAppActor pid=25380) No prefix/name for the model was provided, choosen prefix/name: perky_metapod_70\n",
      "(ClientAppActor pid=25380) \n",
      "(ClientAppActor pid=25380) 🚀 Epoch 1/2 (50.00%) Completed\n",
      "(ClientAppActor pid=25380) \t📊 Training Loss: 4.4804\n",
      "(ClientAppActor pid=25380) \t✅ Training Accuracy: 2.25%\n",
      "(ClientAppActor pid=25380) \t⏳ Elapsed Time: 1.46s | ETA: 1.46s\n",
      "(ClientAppActor pid=25380) \t🕒 Completed At: 11:47\n",
      "(ClientAppActor pid=25380) \n",
      "(ClientAppActor pid=25380) 🚀 Epoch 2/2 (100.00%) Completed\n",
      "(ClientAppActor pid=25380) \t📊 Training Loss: 4.4367\n",
      "(ClientAppActor pid=25380) \t✅ Training Accuracy: 7.50%\n",
      "(ClientAppActor pid=25380) \t⏳ Elapsed Time: 1.31s | ETA: 0.00s\n",
      "(ClientAppActor pid=25380) \t🕒 Completed At: 11:47\n",
      "(ClientAppActor pid=25380) \n",
      "(ClientAppActor pid=25380) [Client] Client on device: cuda:0\n",
      "(ClientAppActor pid=25380) [Client] CUDA available in client: True\n",
      "(ClientAppActor pid=25380) No prefix/name for the model was provided, choosen prefix/name: happy_ivysaur_55\n",
      "(ClientAppActor pid=25380) \n",
      "(ClientAppActor pid=25380) 🚀 Epoch 1/2 (50.00%) Completed\n",
      "(ClientAppActor pid=25380) \t📊 Training Loss: 4.4799\n",
      "(ClientAppActor pid=25380) \t✅ Training Accuracy: 4.25%\n",
      "(ClientAppActor pid=25380) \t⏳ Elapsed Time: 1.38s | ETA: 1.38s\n",
      "(ClientAppActor pid=25380) \t🕒 Completed At: 11:47\n",
      "(ClientAppActor pid=25380) \n",
      "(ClientAppActor pid=25380) 🚀 Epoch 2/2 (100.00%) Completed\n",
      "(ClientAppActor pid=25380) \t📊 Training Loss: 4.3066\n",
      "(ClientAppActor pid=25380) \t✅ Training Accuracy: 7.75%\n",
      "(ClientAppActor pid=25380) \t⏳ Elapsed Time: 1.32s | ETA: 0.00s\n",
      "(ClientAppActor pid=25380) \t🕒 Completed At: 11:47\n",
      "(ClientAppActor pid=25380) \n",
      "(ClientAppActor pid=25380) [Client] Client on device: cuda:0\n",
      "(ClientAppActor pid=25380) [Client] CUDA available in client: True\n",
      "(ClientAppActor pid=25380) No prefix/name for the model was provided, choosen prefix/name: perky_nidorina_22\n",
      "(ClientAppActor pid=25380) \n",
      "(ClientAppActor pid=25380) 🚀 Epoch 1/2 (50.00%) Completed\n",
      "(ClientAppActor pid=25380) \t📊 Training Loss: 4.4882\n",
      "(ClientAppActor pid=25380) \t✅ Training Accuracy: 5.50%\n",
      "(ClientAppActor pid=25380) \t⏳ Elapsed Time: 1.64s | ETA: 1.64s\n",
      "(ClientAppActor pid=25380) \t🕒 Completed At: 11:47\n",
      "(ClientAppActor pid=25380) \n",
      "(ClientAppActor pid=25380) 🚀 Epoch 2/2 (100.00%) Completed\n",
      "(ClientAppActor pid=25380) \t📊 Training Loss: 4.2601\n",
      "(ClientAppActor pid=25380) \t✅ Training Accuracy: 7.50%\n",
      "(ClientAppActor pid=25380) \t⏳ Elapsed Time: 1.34s | ETA: 0.00s\n",
      "(ClientAppActor pid=25380) \t🕒 Completed At: 11:47\n",
      "(ClientAppActor pid=25380) \n"
     ]
    },
    {
     "name": "stderr",
     "output_type": "stream",
     "text": [
      "\u001B[92mINFO \u001B[0m:      aggregate_fit: received 10 results and 0 failures\n",
      "\u001B[92mINFO \u001B[0m:      [Round 1] Avg Drift: 0.1745 | Relative Drift: 0.0003\n",
      "\u001B[92mINFO \u001B[0m:      [Round 1] Saving aggregated model at epoch 3...\n"
     ]
    },
    {
     "name": "stdout",
     "output_type": "stream",
     "text": [
      "💾 Saved checkpoint at: C:\\Users\\ADMIN\\Desktop\\BACKUP\\study\\Italy\\polito\\classes\\20242\\deep learning\\project\\source_code\\fl-g13\\models\\fl_dino_baseline\\iid\\fl_fl_baseline_BaseDino_epoch_3.pth\n",
      "[Server Eval Round 1] Model device: cuda:0\n",
      "[Server Eval Round 1] CUDA available in server eval: True\n"
     ]
    },
    {
     "name": "stderr",
     "output_type": "stream",
     "text": [
      "Eval progress: 100%|██████████| 313/313 [00:31<00:00,  9.79batch/s]\n",
      "\u001B[92mINFO \u001B[0m:      [Round 1] Centralized Evaluation - Loss: 4.3370, Metrics: {'centralized_accuracy': 0.0589}\n",
      "\u001B[92mINFO \u001B[0m:      fit progress: (1, 4.33696732810511, {'centralized_accuracy': 0.0589}, 95.60808470001211)\n",
      "\u001B[92mINFO \u001B[0m:      configure_evaluate: strategy sampled 10 clients (out of 100)\n"
     ]
    },
    {
     "name": "stdout",
     "output_type": "stream",
     "text": [
      "(ClientAppActor pid=25380) [Client] Client on device: cuda:0\n",
      "(ClientAppActor pid=25380) [Client] CUDA available in client: True\n"
     ]
    },
    {
     "name": "stderr",
     "output_type": "stream",
     "text": [
      "Eval progress:   0%|          | 0/1 [00:00<?, ?batch/s]\n",
      "Eval progress: 100%|██████████| 1/1 [00:00<00:00,  2.79batch/s]\n"
     ]
    },
    {
     "name": "stdout",
     "output_type": "stream",
     "text": [
      "(ClientAppActor pid=25380) [Client] Client on device: cuda:0\n",
      "(ClientAppActor pid=25380) [Client] CUDA available in client: True\n"
     ]
    },
    {
     "name": "stderr",
     "output_type": "stream",
     "text": [
      "Eval progress:   0%|          | 0/1 [00:00<?, ?batch/s]\n",
      "Eval progress: 100%|██████████| 1/1 [00:00<00:00,  3.26batch/s]\n"
     ]
    },
    {
     "name": "stdout",
     "output_type": "stream",
     "text": [
      "(ClientAppActor pid=25380) [Client] Client on device: cuda:0\n",
      "(ClientAppActor pid=25380) [Client] CUDA available in client: True\n"
     ]
    },
    {
     "name": "stderr",
     "output_type": "stream",
     "text": [
      "Eval progress:   0%|          | 0/1 [00:00<?, ?batch/s]\n",
      "Eval progress: 100%|██████████| 1/1 [00:00<00:00,  3.21batch/s]\n"
     ]
    },
    {
     "name": "stdout",
     "output_type": "stream",
     "text": [
      "(ClientAppActor pid=25380) [Client] Client on device: cuda:0\n",
      "(ClientAppActor pid=25380) [Client] CUDA available in client: True\n"
     ]
    },
    {
     "name": "stderr",
     "output_type": "stream",
     "text": [
      "Eval progress:   0%|          | 0/1 [00:00<?, ?batch/s]\n",
      "Eval progress: 100%|██████████| 1/1 [00:00<00:00,  3.34batch/s]\n"
     ]
    },
    {
     "name": "stdout",
     "output_type": "stream",
     "text": [
      "(ClientAppActor pid=25380) [Client] Client on device: cuda:0\n",
      "(ClientAppActor pid=25380) [Client] CUDA available in client: True\n"
     ]
    },
    {
     "name": "stderr",
     "output_type": "stream",
     "text": [
      "Eval progress:   0%|          | 0/1 [00:00<?, ?batch/s]\n",
      "Eval progress: 100%|██████████| 1/1 [00:00<00:00,  3.34batch/s]\n"
     ]
    },
    {
     "name": "stdout",
     "output_type": "stream",
     "text": [
      "(ClientAppActor pid=25380) [Client] Client on device: cuda:0\n",
      "(ClientAppActor pid=25380) [Client] CUDA available in client: True\n"
     ]
    },
    {
     "name": "stderr",
     "output_type": "stream",
     "text": [
      "Eval progress:   0%|          | 0/1 [00:00<?, ?batch/s]\n",
      "Eval progress: 100%|██████████| 1/1 [00:00<00:00,  3.56batch/s]\n"
     ]
    },
    {
     "name": "stdout",
     "output_type": "stream",
     "text": [
      "(ClientAppActor pid=25380) [Client] Client on device: cuda:0\n",
      "(ClientAppActor pid=25380) [Client] CUDA available in client: True\n"
     ]
    },
    {
     "name": "stderr",
     "output_type": "stream",
     "text": [
      "Eval progress:   0%|          | 0/1 [00:00<?, ?batch/s]\n",
      "Eval progress: 100%|██████████| 1/1 [00:00<00:00,  3.30batch/s]\n"
     ]
    },
    {
     "name": "stdout",
     "output_type": "stream",
     "text": [
      "(ClientAppActor pid=25380) [Client] Client on device: cuda:0\n",
      "(ClientAppActor pid=25380) [Client] CUDA available in client: True\n"
     ]
    },
    {
     "name": "stderr",
     "output_type": "stream",
     "text": [
      "Eval progress:   0%|          | 0/1 [00:00<?, ?batch/s]\n",
      "Eval progress: 100%|██████████| 1/1 [00:00<00:00,  3.28batch/s]\n"
     ]
    },
    {
     "name": "stdout",
     "output_type": "stream",
     "text": [
      "(ClientAppActor pid=25380) [Client] Client on device: cuda:0\n",
      "(ClientAppActor pid=25380) [Client] CUDA available in client: True\n"
     ]
    },
    {
     "name": "stderr",
     "output_type": "stream",
     "text": [
      "Eval progress:   0%|          | 0/1 [00:00<?, ?batch/s]\n",
      "Eval progress: 100%|██████████| 1/1 [00:00<00:00,  3.41batch/s]\n"
     ]
    },
    {
     "name": "stdout",
     "output_type": "stream",
     "text": [
      "(ClientAppActor pid=25380) [Client] Client on device: cuda:0\n",
      "(ClientAppActor pid=25380) [Client] CUDA available in client: True\n"
     ]
    },
    {
     "name": "stderr",
     "output_type": "stream",
     "text": [
      "Eval progress:   0%|          | 0/1 [00:00<?, ?batch/s]\n",
      "\u001B[92mINFO \u001B[0m:      aggregate_evaluate: received 10 results and 0 failures\n",
      "\u001B[92mINFO \u001B[0m:      \n",
      "\u001B[92mINFO \u001B[0m:      [ROUND 2]\n",
      "\u001B[92mINFO \u001B[0m:      configure_fit: strategy sampled 10 clients (out of 100)\n",
      "Eval progress: 100%|██████████| 1/1 [00:00<00:00,  3.34batch/s]\n"
     ]
    },
    {
     "name": "stdout",
     "output_type": "stream",
     "text": [
      "(ClientAppActor pid=25380) [Client] Client on device: cuda:0\n",
      "(ClientAppActor pid=25380) [Client] CUDA available in client: True\n",
      "(ClientAppActor pid=25380) No prefix/name for the model was provided, choosen prefix/name: breezy_pidgey_56\n",
      "(ClientAppActor pid=25380) \n",
      "(ClientAppActor pid=25380) 🚀 Epoch 1/2 (50.00%) Completed\n",
      "(ClientAppActor pid=25380) \t📊 Training Loss: 4.4020\n",
      "(ClientAppActor pid=25380) \t✅ Training Accuracy: 6.25%\n",
      "(ClientAppActor pid=25380) \t⏳ Elapsed Time: 1.31s | ETA: 1.31s\n",
      "(ClientAppActor pid=25380) \t🕒 Completed At: 11:48\n",
      "(ClientAppActor pid=25380) \n",
      "(ClientAppActor pid=25380) 🚀 Epoch 2/2 (100.00%) Completed\n",
      "(ClientAppActor pid=25380) \t📊 Training Loss: 4.2122\n",
      "(ClientAppActor pid=25380) \t✅ Training Accuracy: 9.25%\n",
      "(ClientAppActor pid=25380) \t⏳ Elapsed Time: 1.26s | ETA: 0.00s\n",
      "(ClientAppActor pid=25380) \t🕒 Completed At: 11:48\n",
      "(ClientAppActor pid=25380) \n",
      "(ClientAppActor pid=25380) [Client] Client on device: cuda:0\n",
      "(ClientAppActor pid=25380) [Client] CUDA available in client: True\n",
      "(ClientAppActor pid=25380) No prefix/name for the model was provided, choosen prefix/name: giddy_nidoran_11\n",
      "(ClientAppActor pid=25380) \n",
      "(ClientAppActor pid=25380) 🚀 Epoch 1/2 (50.00%) Completed\n",
      "(ClientAppActor pid=25380) \t📊 Training Loss: 4.4306\n",
      "(ClientAppActor pid=25380) \t✅ Training Accuracy: 5.00%\n",
      "(ClientAppActor pid=25380) \t⏳ Elapsed Time: 1.30s | ETA: 1.30s\n",
      "(ClientAppActor pid=25380) \t🕒 Completed At: 11:48\n",
      "(ClientAppActor pid=25380) \n",
      "(ClientAppActor pid=25380) 🚀 Epoch 2/2 (100.00%) Completed\n",
      "(ClientAppActor pid=25380) \t📊 Training Loss: 4.0201\n",
      "(ClientAppActor pid=25380) \t✅ Training Accuracy: 10.50%\n",
      "(ClientAppActor pid=25380) \t⏳ Elapsed Time: 1.27s | ETA: 0.00s\n",
      "(ClientAppActor pid=25380) \t🕒 Completed At: 11:48\n",
      "(ClientAppActor pid=25380) \n",
      "(ClientAppActor pid=25380) [Client] Client on device: cuda:0\n",
      "(ClientAppActor pid=25380) [Client] CUDA available in client: True\n",
      "(ClientAppActor pid=25380) No prefix/name for the model was provided, choosen prefix/name: itchy_charmander_22\n",
      "(ClientAppActor pid=25380) \n",
      "(ClientAppActor pid=25380) 🚀 Epoch 1/2 (50.00%) Completed\n",
      "(ClientAppActor pid=25380) \t📊 Training Loss: 4.2961\n",
      "(ClientAppActor pid=25380) \t✅ Training Accuracy: 5.25%\n",
      "(ClientAppActor pid=25380) \t⏳ Elapsed Time: 1.30s | ETA: 1.30s\n",
      "(ClientAppActor pid=25380) \t🕒 Completed At: 11:48\n",
      "(ClientAppActor pid=25380) \n",
      "(ClientAppActor pid=25380) 🚀 Epoch 2/2 (100.00%) Completed\n",
      "(ClientAppActor pid=25380) \t📊 Training Loss: 3.9950\n",
      "(ClientAppActor pid=25380) \t✅ Training Accuracy: 10.50%\n",
      "(ClientAppActor pid=25380) \t⏳ Elapsed Time: 1.30s | ETA: 0.00s\n",
      "(ClientAppActor pid=25380) \t🕒 Completed At: 11:48\n",
      "(ClientAppActor pid=25380) \n",
      "(ClientAppActor pid=25380) [Client] Client on device: cuda:0\n",
      "(ClientAppActor pid=25380) [Client] CUDA available in client: True\n",
      "(ClientAppActor pid=25380) No prefix/name for the model was provided, choosen prefix/name: sassy_butterfree_56\n",
      "(ClientAppActor pid=25380) \n",
      "(ClientAppActor pid=25380) 🚀 Epoch 1/2 (50.00%) Completed\n",
      "(ClientAppActor pid=25380) \t📊 Training Loss: 4.2611\n",
      "(ClientAppActor pid=25380) \t✅ Training Accuracy: 6.75%\n",
      "(ClientAppActor pid=25380) \t⏳ Elapsed Time: 1.55s | ETA: 1.55s\n",
      "(ClientAppActor pid=25380) \t🕒 Completed At: 11:48\n",
      "(ClientAppActor pid=25380) \n",
      "(ClientAppActor pid=25380) 🚀 Epoch 2/2 (100.00%) Completed\n",
      "(ClientAppActor pid=25380) \t📊 Training Loss: 4.0740\n",
      "(ClientAppActor pid=25380) \t✅ Training Accuracy: 12.00%\n",
      "(ClientAppActor pid=25380) \t⏳ Elapsed Time: 1.29s | ETA: 0.00s\n",
      "(ClientAppActor pid=25380) \t🕒 Completed At: 11:48\n",
      "(ClientAppActor pid=25380) \n",
      "(ClientAppActor pid=25380) [Client] Client on device: cuda:0\n",
      "(ClientAppActor pid=25380) [Client] CUDA available in client: True\n",
      "(ClientAppActor pid=25380) No prefix/name for the model was provided, choosen prefix/name: spooky_bulbasaur_41\n",
      "(ClientAppActor pid=25380) \n",
      "(ClientAppActor pid=25380) 🚀 Epoch 1/2 (50.00%) Completed\n",
      "(ClientAppActor pid=25380) \t📊 Training Loss: 4.1785\n",
      "(ClientAppActor pid=25380) \t✅ Training Accuracy: 7.50%\n",
      "(ClientAppActor pid=25380) \t⏳ Elapsed Time: 1.40s | ETA: 1.40s\n",
      "(ClientAppActor pid=25380) \t🕒 Completed At: 11:48\n",
      "(ClientAppActor pid=25380) \n",
      "(ClientAppActor pid=25380) 🚀 Epoch 2/2 (100.00%) Completed\n",
      "(ClientAppActor pid=25380) \t📊 Training Loss: 4.0487\n",
      "(ClientAppActor pid=25380) \t✅ Training Accuracy: 12.75%\n",
      "(ClientAppActor pid=25380) \t⏳ Elapsed Time: 1.27s | ETA: 0.00s\n",
      "(ClientAppActor pid=25380) \t🕒 Completed At: 11:48\n",
      "(ClientAppActor pid=25380) \n",
      "(ClientAppActor pid=25380) [Client] Client on device: cuda:0\n",
      "(ClientAppActor pid=25380) [Client] CUDA available in client: True\n",
      "(ClientAppActor pid=25380) No prefix/name for the model was provided, choosen prefix/name: chirpy_beedrill_21\n",
      "(ClientAppActor pid=25380) \n",
      "(ClientAppActor pid=25380) 🚀 Epoch 1/2 (50.00%) Completed\n",
      "(ClientAppActor pid=25380) \t📊 Training Loss: 4.2514\n",
      "(ClientAppActor pid=25380) \t✅ Training Accuracy: 6.00%\n",
      "(ClientAppActor pid=25380) \t⏳ Elapsed Time: 1.70s | ETA: 1.70s\n",
      "(ClientAppActor pid=25380) \t🕒 Completed At: 11:48\n",
      "(ClientAppActor pid=25380) \n",
      "(ClientAppActor pid=25380) 🚀 Epoch 2/2 (100.00%) Completed\n",
      "(ClientAppActor pid=25380) \t📊 Training Loss: 4.0127\n",
      "(ClientAppActor pid=25380) \t✅ Training Accuracy: 11.75%\n",
      "(ClientAppActor pid=25380) \t⏳ Elapsed Time: 1.27s | ETA: 0.00s\n",
      "(ClientAppActor pid=25380) \t🕒 Completed At: 11:48\n",
      "(ClientAppActor pid=25380) \n",
      "(ClientAppActor pid=25380) [Client] Client on device: cuda:0\n",
      "(ClientAppActor pid=25380) [Client] CUDA available in client: True\n",
      "(ClientAppActor pid=25380) No prefix/name for the model was provided, choosen prefix/name: dorky_pikachu_88\n",
      "(ClientAppActor pid=25380) \n",
      "(ClientAppActor pid=25380) 🚀 Epoch 1/2 (50.00%) Completed\n",
      "(ClientAppActor pid=25380) \t📊 Training Loss: 4.2944\n",
      "(ClientAppActor pid=25380) \t✅ Training Accuracy: 6.25%\n",
      "(ClientAppActor pid=25380) \t⏳ Elapsed Time: 1.33s | ETA: 1.33s\n",
      "(ClientAppActor pid=25380) \t🕒 Completed At: 11:48\n",
      "(ClientAppActor pid=25380) \n",
      "(ClientAppActor pid=25380) 🚀 Epoch 2/2 (100.00%) Completed\n",
      "(ClientAppActor pid=25380) \t📊 Training Loss: 4.0627\n",
      "(ClientAppActor pid=25380) \t✅ Training Accuracy: 13.50%\n",
      "(ClientAppActor pid=25380) \t⏳ Elapsed Time: 1.65s | ETA: 0.00s\n",
      "(ClientAppActor pid=25380) \t🕒 Completed At: 11:48\n",
      "(ClientAppActor pid=25380) \n",
      "(ClientAppActor pid=25380) [Client] Client on device: cuda:0\n",
      "(ClientAppActor pid=25380) [Client] CUDA available in client: True\n",
      "(ClientAppActor pid=25380) No prefix/name for the model was provided, choosen prefix/name: zippy_fearow_38\n",
      "(ClientAppActor pid=25380) \n",
      "(ClientAppActor pid=25380) 🚀 Epoch 1/2 (50.00%) Completed\n",
      "(ClientAppActor pid=25380) \t📊 Training Loss: 4.3914\n",
      "(ClientAppActor pid=25380) \t✅ Training Accuracy: 7.75%\n",
      "(ClientAppActor pid=25380) \t⏳ Elapsed Time: 1.48s | ETA: 1.48s\n",
      "(ClientAppActor pid=25380) \t🕒 Completed At: 11:48\n",
      "(ClientAppActor pid=25380) \n",
      "(ClientAppActor pid=25380) 🚀 Epoch 2/2 (100.00%) Completed\n",
      "(ClientAppActor pid=25380) \t📊 Training Loss: 4.2167\n",
      "(ClientAppActor pid=25380) \t✅ Training Accuracy: 10.00%\n",
      "(ClientAppActor pid=25380) \t⏳ Elapsed Time: 2.23s | ETA: 0.00s\n",
      "(ClientAppActor pid=25380) \t🕒 Completed At: 11:48\n",
      "(ClientAppActor pid=25380) \n",
      "(ClientAppActor pid=25380) [Client] Client on device: cuda:0\n",
      "(ClientAppActor pid=25380) [Client] CUDA available in client: True\n",
      "(ClientAppActor pid=25380) No prefix/name for the model was provided, choosen prefix/name: sleepy_butterfree_61\n",
      "(ClientAppActor pid=25380) \n",
      "(ClientAppActor pid=25380) 🚀 Epoch 1/2 (50.00%) Completed\n",
      "(ClientAppActor pid=25380) \t📊 Training Loss: 4.2530\n",
      "(ClientAppActor pid=25380) \t✅ Training Accuracy: 6.50%\n",
      "(ClientAppActor pid=25380) \t⏳ Elapsed Time: 1.83s | ETA: 1.83s\n",
      "(ClientAppActor pid=25380) \t🕒 Completed At: 11:48\n",
      "(ClientAppActor pid=25380) \n",
      "(ClientAppActor pid=25380) 🚀 Epoch 2/2 (100.00%) Completed\n",
      "(ClientAppActor pid=25380) \t📊 Training Loss: 4.0186\n",
      "(ClientAppActor pid=25380) \t✅ Training Accuracy: 10.50%\n",
      "(ClientAppActor pid=25380) \t⏳ Elapsed Time: 1.49s | ETA: 0.00s\n",
      "(ClientAppActor pid=25380) \t🕒 Completed At: 11:48\n",
      "(ClientAppActor pid=25380) \n",
      "(ClientAppActor pid=25380) [Client] Client on device: cuda:0\n",
      "(ClientAppActor pid=25380) [Client] CUDA available in client: True\n",
      "(ClientAppActor pid=25380) No prefix/name for the model was provided, choosen prefix/name: chirpy_sandslash_78\n",
      "(ClientAppActor pid=25380) \n",
      "(ClientAppActor pid=25380) 🚀 Epoch 1/2 (50.00%) Completed\n",
      "(ClientAppActor pid=25380) \t📊 Training Loss: 4.1784\n",
      "(ClientAppActor pid=25380) \t✅ Training Accuracy: 6.25%\n",
      "(ClientAppActor pid=25380) \t⏳ Elapsed Time: 1.64s | ETA: 1.64s\n",
      "(ClientAppActor pid=25380) \t🕒 Completed At: 11:48\n",
      "(ClientAppActor pid=25380) \n",
      "(ClientAppActor pid=25380) 🚀 Epoch 2/2 (100.00%) Completed\n",
      "(ClientAppActor pid=25380) \t📊 Training Loss: 4.0226\n",
      "(ClientAppActor pid=25380) \t✅ Training Accuracy: 11.75%\n",
      "(ClientAppActor pid=25380) \t⏳ Elapsed Time: 1.47s | ETA: 0.00s\n",
      "(ClientAppActor pid=25380) \t🕒 Completed At: 11:48\n",
      "(ClientAppActor pid=25380) \n"
     ]
    },
    {
     "name": "stderr",
     "output_type": "stream",
     "text": [
      "\u001B[92mINFO \u001B[0m:      aggregate_fit: received 10 results and 0 failures\n",
      "\u001B[92mINFO \u001B[0m:      [Round 2] Avg Drift: 0.1834 | Relative Drift: 0.0004\n",
      "\u001B[92mINFO \u001B[0m:      [Round 2] Saving aggregated model at epoch 4...\n"
     ]
    },
    {
     "name": "stdout",
     "output_type": "stream",
     "text": [
      "💾 Saved checkpoint at: C:\\Users\\ADMIN\\Desktop\\BACKUP\\study\\Italy\\polito\\classes\\20242\\deep learning\\project\\source_code\\fl-g13\\models\\fl_dino_baseline\\iid\\fl_fl_baseline_BaseDino_epoch_4.pth\n",
      "[Server Eval Round 2] Model device: cuda:0\n",
      "[Server Eval Round 2] CUDA available in server eval: True\n"
     ]
    },
    {
     "name": "stderr",
     "output_type": "stream",
     "text": [
      "Eval progress: 100%|██████████| 313/313 [00:32<00:00,  9.49batch/s]\n",
      "\u001B[92mINFO \u001B[0m:      [Round 2] Centralized Evaluation - Loss: 4.1277, Metrics: {'centralized_accuracy': 0.0899}\n",
      "\u001B[92mINFO \u001B[0m:      fit progress: (2, 4.127712368584288, {'centralized_accuracy': 0.0899}, 189.99000480002724)\n",
      "\u001B[92mINFO \u001B[0m:      configure_evaluate: strategy sampled 10 clients (out of 100)\n"
     ]
    },
    {
     "name": "stdout",
     "output_type": "stream",
     "text": [
      "(ClientAppActor pid=25380) [Client] Client on device: cuda:0\n",
      "(ClientAppActor pid=25380) [Client] CUDA available in client: True\n"
     ]
    },
    {
     "name": "stderr",
     "output_type": "stream",
     "text": [
      "Eval progress:   0%|          | 0/1 [00:00<?, ?batch/s]\n",
      "Eval progress: 100%|██████████| 1/1 [00:00<00:00,  2.96batch/s]\n"
     ]
    },
    {
     "name": "stdout",
     "output_type": "stream",
     "text": [
      "(ClientAppActor pid=25380) [Client] Client on device: cuda:0\n",
      "(ClientAppActor pid=25380) [Client] CUDA available in client: True\n"
     ]
    },
    {
     "name": "stderr",
     "output_type": "stream",
     "text": [
      "Eval progress:   0%|          | 0/1 [00:00<?, ?batch/s]\n",
      "Eval progress: 100%|██████████| 1/1 [00:00<00:00,  3.16batch/s]\n"
     ]
    },
    {
     "name": "stdout",
     "output_type": "stream",
     "text": [
      "(ClientAppActor pid=25380) [Client] Client on device: cuda:0\n",
      "(ClientAppActor pid=25380) [Client] CUDA available in client: True\n"
     ]
    },
    {
     "name": "stderr",
     "output_type": "stream",
     "text": [
      "Eval progress:   0%|          | 0/1 [00:00<?, ?batch/s]\n",
      "Eval progress: 100%|██████████| 1/1 [00:00<00:00,  3.13batch/s]\n"
     ]
    },
    {
     "name": "stdout",
     "output_type": "stream",
     "text": [
      "(ClientAppActor pid=25380) [Client] Client on device: cuda:0\n",
      "(ClientAppActor pid=25380) [Client] CUDA available in client: True\n"
     ]
    },
    {
     "name": "stderr",
     "output_type": "stream",
     "text": [
      "Eval progress:   0%|          | 0/1 [00:00<?, ?batch/s]\n",
      "Eval progress: 100%|██████████| 1/1 [00:00<00:00,  3.44batch/s]\n"
     ]
    },
    {
     "name": "stdout",
     "output_type": "stream",
     "text": [
      "(ClientAppActor pid=25380) [Client] Client on device: cuda:0\n",
      "(ClientAppActor pid=25380) [Client] CUDA available in client: True\n"
     ]
    },
    {
     "name": "stderr",
     "output_type": "stream",
     "text": [
      "Eval progress:   0%|          | 0/1 [00:00<?, ?batch/s]\n",
      "Eval progress: 100%|██████████| 1/1 [00:00<00:00,  3.24batch/s]\n"
     ]
    },
    {
     "name": "stdout",
     "output_type": "stream",
     "text": [
      "(ClientAppActor pid=25380) [Client] Client on device: cuda:0\n",
      "(ClientAppActor pid=25380) [Client] CUDA available in client: True\n"
     ]
    },
    {
     "name": "stderr",
     "output_type": "stream",
     "text": [
      "Eval progress:   0%|          | 0/1 [00:00<?, ?batch/s]\n",
      "Eval progress: 100%|██████████| 1/1 [00:00<00:00,  3.16batch/s]\n"
     ]
    },
    {
     "name": "stdout",
     "output_type": "stream",
     "text": [
      "(ClientAppActor pid=25380) [Client] Client on device: cuda:0\n",
      "(ClientAppActor pid=25380) [Client] CUDA available in client: True\n"
     ]
    },
    {
     "name": "stderr",
     "output_type": "stream",
     "text": [
      "Eval progress:   0%|          | 0/1 [00:00<?, ?batch/s]\n",
      "Eval progress: 100%|██████████| 1/1 [00:00<00:00,  3.06batch/s]\n"
     ]
    },
    {
     "name": "stdout",
     "output_type": "stream",
     "text": [
      "(ClientAppActor pid=25380) [Client] Client on device: cuda:0\n",
      "(ClientAppActor pid=25380) [Client] CUDA available in client: True\n"
     ]
    },
    {
     "name": "stderr",
     "output_type": "stream",
     "text": [
      "Eval progress:   0%|          | 0/1 [00:00<?, ?batch/s]\n",
      "Eval progress: 100%|██████████| 1/1 [00:00<00:00,  3.09batch/s]\n"
     ]
    },
    {
     "name": "stdout",
     "output_type": "stream",
     "text": [
      "(ClientAppActor pid=25380) [Client] Client on device: cuda:0\n",
      "(ClientAppActor pid=25380) [Client] CUDA available in client: True\n"
     ]
    },
    {
     "name": "stderr",
     "output_type": "stream",
     "text": [
      "Eval progress:   0%|          | 0/1 [00:00<?, ?batch/s]\n",
      "Eval progress: 100%|██████████| 1/1 [00:00<00:00,  3.08batch/s]\n"
     ]
    },
    {
     "name": "stdout",
     "output_type": "stream",
     "text": [
      "(ClientAppActor pid=25380) [Client] Client on device: cuda:0\n",
      "(ClientAppActor pid=25380) [Client] CUDA available in client: True\n"
     ]
    },
    {
     "name": "stderr",
     "output_type": "stream",
     "text": [
      "Eval progress:   0%|          | 0/1 [00:00<?, ?batch/s]\n",
      "\u001B[92mINFO \u001B[0m:      aggregate_evaluate: received 10 results and 0 failures\n",
      "\u001B[92mINFO \u001B[0m:      \n",
      "(ClientAppActor pid=25380)\u001B[92mINFO \u001B[0m:      [SUMMARY]\n",
      "Eval progress: 100%|██████████| 1/1 [00:00<00:00,  3.10batch/s]\u001B[92mINFO \u001B[0m:      Run finished 2 round(s) in 201.32s\n",
      "\n",
      "\u001B[92mINFO \u001B[0m:      \tHistory (loss, distributed):\n",
      "\u001B[92mINFO \u001B[0m:      \t\tround 1: 4.357826566696167\n",
      "\u001B[92mINFO \u001B[0m:      \t\tround 2: 4.157745313644409\n",
      "\u001B[92mINFO \u001B[0m:      \tHistory (loss, centralized):\n",
      "\u001B[92mINFO \u001B[0m:      \t\tround 0: 4.526353092620167\n",
      "\u001B[92mINFO \u001B[0m:      \t\tround 1: 4.33696732810511\n",
      "\u001B[92mINFO \u001B[0m:      \t\tround 2: 4.127712368584288\n",
      "\u001B[92mINFO \u001B[0m:      \tHistory (metrics, distributed, fit):\n",
      "\u001B[92mINFO \u001B[0m:      \t{'avg_drift': [(1, 0.17454500049352645), (2, 0.18344796150922776)],\n",
      "\u001B[92mINFO \u001B[0m:      \t 'avg_train_loss': [(1, 4.276829260587692), (2, 4.0683279693126675)]}\n",
      "\u001B[92mINFO \u001B[0m:      \tHistory (metrics, distributed, evaluate):\n",
      "\u001B[92mINFO \u001B[0m:      \t{'decentralized_avg_eval_accuracy': [(1, 0.05), (2, 0.089)]}\n",
      "\u001B[92mINFO \u001B[0m:      \tHistory (metrics, centralized):\n",
      "\u001B[92mINFO \u001B[0m:      \t{'centralized_accuracy': [(0, 0.0312), (1, 0.0589), (2, 0.0899)]}\n",
      "\u001B[92mINFO \u001B[0m:      \n"
     ]
    }
   ],
   "execution_count": 22
  },
  {
   "metadata": {
    "ExecuteTime": {
     "end_time": "2025-05-13T09:41:20.643493Z",
     "start_time": "2025-05-13T09:41:20.630921Z"
    }
   },
   "cell_type": "code",
   "source": "",
   "id": "b34bb388cc930f5f",
   "outputs": [],
   "execution_count": 17
  }
 ],
 "metadata": {
  "kernelspec": {
   "display_name": "Python 3",
   "language": "python",
   "name": "python3"
  },
  "language_info": {
   "codemirror_mode": {
    "name": "ipython",
    "version": 2
   },
   "file_extension": ".py",
   "mimetype": "text/x-python",
   "name": "python",
   "nbconvert_exporter": "python",
   "pygments_lexer": "ipython2",
   "version": "2.7.6"
  }
 },
 "nbformat": 4,
 "nbformat_minor": 5
}
