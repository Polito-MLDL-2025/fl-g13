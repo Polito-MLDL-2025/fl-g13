{
 "cells": [
  {
   "metadata": {
    "ExecuteTime": {
     "end_time": "2025-05-03T07:43:32.278672Z",
     "start_time": "2025-05-03T07:43:32.146410Z"
    }
   },
   "cell_type": "code",
   "source": [
    "%load_ext autoreload\n",
    "%autoreload 2"
   ],
   "id": "5767f6b1a63e945b",
   "outputs": [],
   "execution_count": 1
  },
  {
   "metadata": {
    "ExecuteTime": {
     "end_time": "2025-05-03T07:43:34.365830Z",
     "start_time": "2025-05-03T07:43:32.280654Z"
    }
   },
   "cell_type": "code",
   "source": "!pip3 install torch torchvision torchaudio --index-url https://download.pytorch.org/whl/cu118\n",
   "id": "75ca9d6d54c4ce47",
   "outputs": [
    {
     "name": "stdout",
     "output_type": "stream",
     "text": [
      "Looking in indexes: https://download.pytorch.org/whl/cu118\n",
      "Requirement already satisfied: torch in c:\\users\\admin\\desktop\\backup\\study\\italy\\polito\\classes\\20242\\deep learning\\project\\source_code\\fl-g13\\.venv\\lib\\site-packages (2.6.0+cu118)\n",
      "Requirement already satisfied: torchvision in c:\\users\\admin\\desktop\\backup\\study\\italy\\polito\\classes\\20242\\deep learning\\project\\source_code\\fl-g13\\.venv\\lib\\site-packages (0.21.0)\n",
      "Requirement already satisfied: torchaudio in c:\\users\\admin\\desktop\\backup\\study\\italy\\polito\\classes\\20242\\deep learning\\project\\source_code\\fl-g13\\.venv\\lib\\site-packages (2.6.0+cu118)\n",
      "Requirement already satisfied: filelock in c:\\users\\admin\\desktop\\backup\\study\\italy\\polito\\classes\\20242\\deep learning\\project\\source_code\\fl-g13\\.venv\\lib\\site-packages (from torch) (3.18.0)\n",
      "Requirement already satisfied: typing-extensions>=4.10.0 in c:\\users\\admin\\desktop\\backup\\study\\italy\\polito\\classes\\20242\\deep learning\\project\\source_code\\fl-g13\\.venv\\lib\\site-packages (from torch) (4.13.1)\n",
      "Requirement already satisfied: networkx in c:\\users\\admin\\desktop\\backup\\study\\italy\\polito\\classes\\20242\\deep learning\\project\\source_code\\fl-g13\\.venv\\lib\\site-packages (from torch) (3.4.2)\n",
      "Requirement already satisfied: jinja2 in c:\\users\\admin\\desktop\\backup\\study\\italy\\polito\\classes\\20242\\deep learning\\project\\source_code\\fl-g13\\.venv\\lib\\site-packages (from torch) (3.1.6)\n",
      "Requirement already satisfied: fsspec in c:\\users\\admin\\desktop\\backup\\study\\italy\\polito\\classes\\20242\\deep learning\\project\\source_code\\fl-g13\\.venv\\lib\\site-packages (from torch) (2025.3.2)\n",
      "Requirement already satisfied: sympy==1.13.1 in c:\\users\\admin\\desktop\\backup\\study\\italy\\polito\\classes\\20242\\deep learning\\project\\source_code\\fl-g13\\.venv\\lib\\site-packages (from torch) (1.13.1)\n",
      "Requirement already satisfied: mpmath<1.4,>=1.1.0 in c:\\users\\admin\\desktop\\backup\\study\\italy\\polito\\classes\\20242\\deep learning\\project\\source_code\\fl-g13\\.venv\\lib\\site-packages (from sympy==1.13.1->torch) (1.3.0)\n",
      "Requirement already satisfied: numpy in c:\\users\\admin\\desktop\\backup\\study\\italy\\polito\\classes\\20242\\deep learning\\project\\source_code\\fl-g13\\.venv\\lib\\site-packages (from torchvision) (2.0.2)\n",
      "Requirement already satisfied: pillow!=8.3.*,>=5.3.0 in c:\\users\\admin\\desktop\\backup\\study\\italy\\polito\\classes\\20242\\deep learning\\project\\source_code\\fl-g13\\.venv\\lib\\site-packages (from torchvision) (11.1.0)\n",
      "Requirement already satisfied: MarkupSafe>=2.0 in c:\\users\\admin\\desktop\\backup\\study\\italy\\polito\\classes\\20242\\deep learning\\project\\source_code\\fl-g13\\.venv\\lib\\site-packages (from jinja2->torch) (3.0.2)\n"
     ]
    },
    {
     "name": "stderr",
     "output_type": "stream",
     "text": [
      "WARNING: Ignoring invalid distribution -otebook (c:\\users\\admin\\desktop\\backup\\study\\italy\\polito\\classes\\20242\\deep learning\\project\\source_code\\fl-g13\\.venv\\lib\\site-packages)\n",
      "WARNING: Ignoring invalid distribution -otebook (c:\\users\\admin\\desktop\\backup\\study\\italy\\polito\\classes\\20242\\deep learning\\project\\source_code\\fl-g13\\.venv\\lib\\site-packages)\n",
      "WARNING: Ignoring invalid distribution -otebook (c:\\users\\admin\\desktop\\backup\\study\\italy\\polito\\classes\\20242\\deep learning\\project\\source_code\\fl-g13\\.venv\\lib\\site-packages)\n",
      "\n",
      "[notice] A new release of pip is available: 25.0.1 -> 25.1.1\n",
      "[notice] To update, run: python.exe -m pip install --upgrade pip\n"
     ]
    }
   ],
   "execution_count": 2
  },
  {
   "metadata": {
    "ExecuteTime": {
     "end_time": "2025-05-03T07:43:47.918874Z",
     "start_time": "2025-05-03T07:43:34.366845Z"
    }
   },
   "cell_type": "code",
   "source": [
    "from pathlib import Path\n",
    "\n",
    "import flwr\n",
    "import torch\n",
    "from flwr.common import Context\n",
    "from flwr.simulation import run_simulation\n",
    "from torch.nn import CrossEntropyLoss\n",
    "from torch.optim import SGD\n",
    "from torch.optim.lr_scheduler import CosineAnnealingWarmRestarts\n",
    "from torch.utils.data import DataLoader\n",
    "from torchvision import datasets\n",
    "from torchvision.transforms import Compose, Resize, CenterCrop, RandomCrop, RandomHorizontalFlip, Normalize, ToTensor\n",
    "\n",
    "from fl_g13 import dataset as dataset_handler\n",
    "from fl_g13.architectures import BaseDino\n",
    "from fl_g13.config import RAW_DATA_DIR\n",
    "from fl_g13.dataset import train_test_split\n",
    "from fl_g13.fl_pytorch.server_app import get_server_app"
   ],
   "id": "initial_id",
   "outputs": [
    {
     "name": "stderr",
     "output_type": "stream",
     "text": [
      "\u001B[32m2025-05-03 09:43:41.654\u001B[0m | \u001B[1mINFO    \u001B[0m | \u001B[36mfl_g13.config\u001B[0m:\u001B[36m<module>\u001B[0m:\u001B[36m11\u001B[0m - \u001B[1mPROJ_ROOT path is: C:\\Users\\ADMIN\\Desktop\\BACKUP\\study\\Italy\\polito\\classes\\20242\\deep learning\\project\\source_code\\fl-g13\u001B[0m\n"
     ]
    }
   ],
   "execution_count": 3
  },
  {
   "metadata": {
    "ExecuteTime": {
     "end_time": "2025-05-03T07:43:48.661956Z",
     "start_time": "2025-05-03T07:43:47.920874Z"
    }
   },
   "cell_type": "code",
   "source": [
    "DEVICE = \"cuda\" if torch.cuda.is_available() else \"cpu\"\n",
    "# DEVICE = \"cpu\"\n",
    "print(f\"Training on {DEVICE}\")\n",
    "print(f\"Flower {flwr.__version__} / PyTorch {torch.__version__}\")\n",
    "# disable_progress_bar()"
   ],
   "id": "1a4ec3eb7baf32",
   "outputs": [
    {
     "name": "stdout",
     "output_type": "stream",
     "text": [
      "Training on cuda\n",
      "Flower 1.17.0 / PyTorch 2.6.0+cu118\n"
     ]
    }
   ],
   "execution_count": 4
  },
  {
   "metadata": {},
   "cell_type": "markdown",
   "source": "# Load data",
   "id": "73fb84b164b0def7"
  },
  {
   "metadata": {
    "ExecuteTime": {
     "end_time": "2025-05-03T07:43:50.884943Z",
     "start_time": "2025-05-03T07:43:48.663961Z"
    }
   },
   "cell_type": "code",
   "source": [
    "# Define preprocessing pipeline\n",
    "train_transform = Compose([\n",
    "    Resize(256),  # CIFRA100 is originally 32x32\n",
    "    RandomCrop(224),  # But Dino works on 224x224\n",
    "    RandomHorizontalFlip(),\n",
    "    ToTensor(),\n",
    "    Normalize(mean=[0.5071, 0.4866, 0.4409], std=[0.2673, 0.2564, 0.2762]),\n",
    "])\n",
    "\n",
    "eval_transform = Compose([\n",
    "    Resize(256),  # CIFRA100 is originally 32x32\n",
    "    CenterCrop(224),  # But Dino works on 224x224\n",
    "    ToTensor(),\n",
    "    Normalize(mean=[0.5071, 0.4866, 0.4409], std=[0.2673, 0.2564, 0.2762]),\n",
    "])\n",
    "\n",
    "cifar100_train = datasets.CIFAR100(root=RAW_DATA_DIR, train=True, download=True, transform=train_transform)\n",
    "cifar100_test = datasets.CIFAR100(root=RAW_DATA_DIR, train=False, download=True, transform=eval_transform)\n",
    "\n",
    "train_dataset, val_dataset = train_test_split(cifar100_train, 0.8, random_state=None)\n",
    "test_dataset = cifar100_test\n",
    "\n",
    "print(f\"Train dataset size: {len(train_dataset)}\")\n",
    "print(f\"Validation dataset size: {len(val_dataset)}\")\n",
    "print(f\"Test dataset size: {len(test_dataset)}\")"
   ],
   "id": "6c6449ef9be1e422",
   "outputs": [
    {
     "name": "stdout",
     "output_type": "stream",
     "text": [
      "Train dataset size: 40000\n",
      "Validation dataset size: 10000\n",
      "Test dataset size: 10000\n"
     ]
    }
   ],
   "execution_count": 5
  },
  {
   "metadata": {
    "ExecuteTime": {
     "end_time": "2025-05-03T07:43:51.514425Z",
     "start_time": "2025-05-03T07:43:50.886021Z"
    }
   },
   "cell_type": "code",
   "source": [
    "# Dataloaders\n",
    "BATCH_SIZE = 128\n",
    "train_dataloader = DataLoader(train_dataset, batch_size=BATCH_SIZE, shuffle=True)\n",
    "val_dataloader = DataLoader(val_dataset, batch_size=BATCH_SIZE, shuffle=False)\n",
    "test_dataloader = DataLoader(test_dataset, batch_size=BATCH_SIZE, shuffle=False)"
   ],
   "id": "a218d880822fdfba",
   "outputs": [],
   "execution_count": 6
  },
  {
   "metadata": {
    "ExecuteTime": {
     "end_time": "2025-05-03T07:43:52.113948Z",
     "start_time": "2025-05-03T07:43:51.515424Z"
    }
   },
   "cell_type": "code",
   "source": [
    "# I.I.D Sharding Split\n",
    "## k client\n",
    "k = 10\n",
    "clients_dataset_train = dataset_handler.iid_sharding(train_dataset, k)\n",
    "clients_dataset_val = dataset_handler.iid_sharding(val_dataset, k)"
   ],
   "id": "1e23159840c6708d",
   "outputs": [],
   "execution_count": 7
  },
  {
   "metadata": {
    "ExecuteTime": {
     "end_time": "2025-05-03T07:43:52.759424Z",
     "start_time": "2025-05-03T07:43:52.114948Z"
    }
   },
   "cell_type": "code",
   "source": [
    "clients_dataloader_train = [DataLoader(d, batch_size=BATCH_SIZE, shuffle=True) for d in clients_dataset_train]\n",
    "clients_dataloader_val = [DataLoader(d, batch_size=BATCH_SIZE, shuffle=True) for d in clients_dataset_val]"
   ],
   "id": "180c51bdfeea0c07",
   "outputs": [],
   "execution_count": 8
  },
  {
   "metadata": {},
   "cell_type": "markdown",
   "source": "## Model",
   "id": "3ef53dc011fa9499"
  },
  {
   "metadata": {},
   "cell_type": "markdown",
   "source": "## Init model , optimizer and loss function",
   "id": "4c0f23c3615c6d68"
  },
  {
   "metadata": {
    "ExecuteTime": {
     "end_time": "2025-05-03T07:43:53.862784Z",
     "start_time": "2025-05-03T07:43:52.760032Z"
    }
   },
   "cell_type": "code",
   "source": [
    "# Hyper-parameters\n",
    "LR = 1e-2\n",
    "\n",
    "# Model\n",
    "model = BaseDino()\n",
    "model.to(DEVICE)\n",
    "print(f\"Model: {model}\")\n",
    "\n",
    "# Optimizer, scheduler, and loss function\n",
    "optimizer = SGD(model.parameters(), lr=LR)\n",
    "scheduler = CosineAnnealingWarmRestarts(\n",
    "    optimizer,\n",
    "    T_0=8,  # First restart after 8 epochs\n",
    "    T_mult=2,  # Double the interval between restarts each time\n",
    "    eta_min=1e-5  # Minimum learning rate after annealing\n",
    ")\n",
    "criterion = CrossEntropyLoss()"
   ],
   "id": "9046d19b28a38ed3",
   "outputs": [
    {
     "name": "stderr",
     "output_type": "stream",
     "text": [
      "Using cache found in C:\\Users\\ADMIN/.cache\\torch\\hub\\facebookresearch_dino_main\n"
     ]
    },
    {
     "name": "stdout",
     "output_type": "stream",
     "text": [
      "Model: BaseDino(\n",
      "  (net): VisionTransformer(\n",
      "    (patch_embed): PatchEmbed(\n",
      "      (proj): Conv2d(3, 384, kernel_size=(16, 16), stride=(16, 16))\n",
      "    )\n",
      "    (pos_drop): Dropout(p=0.0, inplace=False)\n",
      "    (blocks): ModuleList(\n",
      "      (0-11): 12 x Block(\n",
      "        (norm1): LayerNorm((384,), eps=1e-06, elementwise_affine=True)\n",
      "        (attn): Attention(\n",
      "          (qkv): Linear(in_features=384, out_features=1152, bias=True)\n",
      "          (attn_drop): Dropout(p=0.1, inplace=False)\n",
      "          (proj): Linear(in_features=384, out_features=384, bias=True)\n",
      "          (proj_drop): Dropout(p=0.1, inplace=False)\n",
      "        )\n",
      "        (drop_path): Identity()\n",
      "        (norm2): LayerNorm((384,), eps=1e-06, elementwise_affine=True)\n",
      "        (mlp): Mlp(\n",
      "          (fc1): Linear(in_features=384, out_features=1536, bias=True)\n",
      "          (act): GELU(approximate='none')\n",
      "          (fc2): Linear(in_features=1536, out_features=384, bias=True)\n",
      "          (drop): Dropout(p=0.1, inplace=False)\n",
      "        )\n",
      "      )\n",
      "    )\n",
      "    (norm): LayerNorm((384,), eps=1e-06, elementwise_affine=True)\n",
      "    (head): Sequential(\n",
      "      (0): Linear(in_features=384, out_features=1024, bias=True)\n",
      "      (1): GELU(approximate='none')\n",
      "      (2): Dropout(p=0.1, inplace=False)\n",
      "      (3): Linear(in_features=1024, out_features=1024, bias=True)\n",
      "      (4): GELU(approximate='none')\n",
      "      (5): Dropout(p=0.1, inplace=False)\n",
      "      (6): Linear(in_features=1024, out_features=1024, bias=True)\n",
      "      (7): GELU(approximate='none')\n",
      "      (8): Dropout(p=0.1, inplace=False)\n",
      "      (9): Linear(in_features=1024, out_features=1024, bias=True)\n",
      "      (10): GELU(approximate='none')\n",
      "      (11): Dropout(p=0.1, inplace=False)\n",
      "      (12): Linear(in_features=1024, out_features=1024, bias=True)\n",
      "      (13): GELU(approximate='none')\n",
      "      (14): Dropout(p=0.1, inplace=False)\n",
      "      (15): Linear(in_features=1024, out_features=100, bias=True)\n",
      "    )\n",
      "  )\n",
      ")\n"
     ]
    }
   ],
   "execution_count": 9
  },
  {
   "metadata": {},
   "cell_type": "markdown",
   "source": "# Define the ClientApp",
   "id": "e73656b5d73ac995"
  },
  {
   "metadata": {},
   "cell_type": "markdown",
   "source": [
    "## Build module local\n",
    "\n",
    "Build module local such that ClientApp can use it"
   ],
   "id": "b5a0319c8e40215a"
  },
  {
   "metadata": {
    "ExecuteTime": {
     "end_time": "2025-05-03T07:44:01.945427Z",
     "start_time": "2025-05-03T07:43:53.863784Z"
    }
   },
   "cell_type": "code",
   "source": "!pip install -e ..",
   "id": "8a11402a3317027f",
   "outputs": [
    {
     "name": "stdout",
     "output_type": "stream",
     "text": [
      "Obtaining file:///C:/Users/ADMIN/Desktop/BACKUP/study/Italy/polito/classes/20242/deep%20learning/project/source_code/fl-g13\n",
      "  Installing build dependencies: started\n",
      "  Installing build dependencies: finished with status 'done'\n",
      "  Checking if build backend supports build_editable: started\n",
      "  Checking if build backend supports build_editable: finished with status 'done'\n",
      "  Getting requirements to build editable: started\n",
      "  Getting requirements to build editable: finished with status 'done'\n",
      "  Preparing editable metadata (pyproject.toml): started\n",
      "  Preparing editable metadata (pyproject.toml): finished with status 'done'\n",
      "Building wheels for collected packages: fl_g13\n",
      "  Building editable for fl_g13 (pyproject.toml): started\n",
      "  Building editable for fl_g13 (pyproject.toml): finished with status 'done'\n",
      "  Created wheel for fl_g13: filename=fl_g13-0.0.1-py3-none-any.whl size=4649 sha256=a588eeccbccdbea56dbfe92e55bd612babd81e07366f39e361ccc99a5ffdec08\n",
      "  Stored in directory: C:\\Users\\ADMIN\\AppData\\Local\\Temp\\pip-ephem-wheel-cache-lmxpou5y\\wheels\\b7\\e0\\6d\\5d22ced2ef400b314cfe74883357cc37e1e1d5275e7ba9175e\n",
      "Successfully built fl_g13\n",
      "Installing collected packages: fl_g13\n",
      "  Attempting uninstall: fl_g13\n",
      "    Found existing installation: fl_g13 0.0.1\n",
      "    Uninstalling fl_g13-0.0.1:\n",
      "      Successfully uninstalled fl_g13-0.0.1\n",
      "Successfully installed fl_g13-0.0.1\n"
     ]
    },
    {
     "name": "stderr",
     "output_type": "stream",
     "text": [
      "WARNING: Ignoring invalid distribution -otebook (c:\\users\\admin\\desktop\\backup\\study\\italy\\polito\\classes\\20242\\deep learning\\project\\source_code\\fl-g13\\.venv\\lib\\site-packages)\n",
      "WARNING: Ignoring invalid distribution -otebook (c:\\users\\admin\\desktop\\backup\\study\\italy\\polito\\classes\\20242\\deep learning\\project\\source_code\\fl-g13\\.venv\\lib\\site-packages)\n",
      "WARNING: Ignoring invalid distribution -otebook (c:\\users\\admin\\desktop\\backup\\study\\italy\\polito\\classes\\20242\\deep learning\\project\\source_code\\fl-g13\\.venv\\lib\\site-packages)\n",
      "\n",
      "[notice] A new release of pip is available: 25.0.1 -> 25.1.1\n",
      "[notice] To update, run: python.exe -m pip install --upgrade pip\n"
     ]
    }
   ],
   "execution_count": 10
  },
  {
   "metadata": {},
   "cell_type": "markdown",
   "source": "## create FlowerClient instances  ",
   "id": "97c881019a2b9e21"
  },
  {
   "metadata": {
    "ExecuteTime": {
     "end_time": "2025-05-03T07:44:02.775912Z",
     "start_time": "2025-05-03T07:44:01.947681Z"
    }
   },
   "cell_type": "code",
   "source": [
    "'''\n",
    "Function load data client is to simulate the distribution data into each client\n",
    "In the real case, each client will have its dataset\n",
    "'''\n",
    "\n",
    "\n",
    "def load_data_client(context: Context,**kwargs):\n",
    "    partition_id = context.node_config[\"partition-id\"]\n",
    "    print(f\"Client {partition_id} is ready to train\")\n",
    "    return clients_dataloader_train[partition_id], clients_dataloader_val[partition_id]"
   ],
   "id": "f05bbd371d1a87d9",
   "outputs": [],
   "execution_count": 11
  },
  {
   "metadata": {},
   "cell_type": "markdown",
   "source": "### Create instant of ClientApp",
   "id": "babef0c5a1343937"
  },
  {
   "metadata": {
    "ExecuteTime": {
     "end_time": "2025-05-03T07:44:03.280642Z",
     "start_time": "2025-05-03T07:44:02.776970Z"
    }
   },
   "cell_type": "code",
   "source": [
    "from fl_g13.fl_pytorch.client_app import get_client_app\n",
    "\n",
    "local_epochs = 2\n",
    "\n",
    "client = get_client_app(load_data_fn=load_data_client,\n",
    "                        model=model, optimizer=optimizer, criterion=criterion,\n",
    "                        device=DEVICE,\n",
    "                        local_epochs=local_epochs\n",
    "                        )"
   ],
   "id": "70467a37aa8c09c7",
   "outputs": [],
   "execution_count": 12
  },
  {
   "metadata": {},
   "cell_type": "markdown",
   "source": [
    "# Define the Flower ServerApp\n",
    "\n",
    "Customize built-in strategy Federated Averaging (FedAvg) of Flower to combine hyperparams in server-side and save model for each k epoch\n",
    "\n",
    "The strategy could also incremental training "
   ],
   "id": "5ccd8dfd409b0385"
  },
  {
   "metadata": {},
   "cell_type": "markdown",
   "source": "## Create instant of ServerApp",
   "id": "6f9276503ee2d47"
  },
  {
   "metadata": {
    "ExecuteTime": {
     "end_time": "2025-04-20T20:47:27.942828Z",
     "start_time": "2025-04-20T20:47:26.669832Z"
    }
   },
   "cell_type": "code",
   "source": [
    "def get_datatest_fn(context: Context):\n",
    "    return test_dataloader\n",
    "\n",
    "\n",
    "## checkpoints directory\n",
    "current_path = Path.cwd()\n",
    "model_test_path = current_path / \"../models/fl_baseline\"\n",
    "model_test_path.resolve()\n",
    "\n",
    "num_rounds = 2\n",
    "save_every = 1\n",
    "fraction_fit = 1.0  # Sample 100% of available clients for training\n",
    "fraction_evaluate = 0.5  # Sample 50% of available clients for evaluation\n",
    "min_fit_clients = 10  # Never sample less than 10 clients for training\n",
    "min_evaluate_clients = 5  # Never sample less than 5 clients for evaluation\n",
    "min_available_clients = 10  # Wait until all 10 clients are available\n",
    "device = DEVICE\n",
    "use_wandb = False\n",
    "\n",
    "server = get_server_app(checkpoint_dir=model_test_path.resolve(),\n",
    "                        model_class=BaseDino,\n",
    "                        optimizer=optimizer,\n",
    "                        criterion=criterion,\n",
    "                        scheduler=scheduler,\n",
    "                        get_datatest_fn=get_datatest_fn,\n",
    "                        num_rounds=num_rounds,\n",
    "                        fraction_fit=fraction_fit,\n",
    "                        fraction_evaluate=fraction_evaluate,\n",
    "                        min_fit_clients=min_fit_clients,\n",
    "                        min_evaluate_clients=min_evaluate_clients,\n",
    "                        min_available_clients=min_available_clients,\n",
    "                        device=device,\n",
    "                        use_wandb=use_wandb,\n",
    "                        save_every=save_every\n",
    "                        )"
   ],
   "id": "1cbac220e52a6d00",
   "outputs": [
    {
     "name": "stdout",
     "output_type": "stream",
     "text": [
      "🔍 Loading checkpoint from C:\\Users\\ADMIN\\Desktop\\BACKUP\\study\\Italy\\polito\\classes\\20242\\deep learning\\project\\source_code\\fl-g13\\models\\fl_baseline\\FL_BaseDino_epoch_1.pth\n",
      "📦 Model class in checkpoint: BaseDino\n",
      "🔧 Model configuration: {'variant': 'dino_vits16', 'dropout_rate': 0.1, 'head_hidden_size': 1024, 'head_layers': 5, 'num_classes': 100, 'unfreeze_blocks': 3, 'activation_fn': 'GELU', 'pretrained': True}\n"
     ]
    },
    {
     "name": "stderr",
     "output_type": "stream",
     "text": [
      "Using cache found in C:\\Users\\ADMIN/.cache\\torch\\hub\\facebookresearch_dino_main\n",
      "Using cache found in C:\\Users\\ADMIN/.cache\\torch\\hub\\facebookresearch_dino_main\n"
     ]
    },
    {
     "name": "stdout",
     "output_type": "stream",
     "text": [
      "✅ Loaded checkpoint from C:\\Users\\ADMIN\\Desktop\\BACKUP\\study\\Italy\\polito\\classes\\20242\\deep learning\\project\\source_code\\fl-g13\\models\\fl_baseline\\FL_BaseDino_epoch_1.pth, resuming at epoch 2\n"
     ]
    }
   ],
   "execution_count": 13
  },
  {
   "metadata": {},
   "cell_type": "markdown",
   "source": "# Run the training\n",
   "id": "1427a966f7544b94"
  },
  {
   "metadata": {
    "ExecuteTime": {
     "end_time": "2025-04-20T20:47:28.501457Z",
     "start_time": "2025-04-20T20:47:27.943939Z"
    }
   },
   "cell_type": "code",
   "source": [
    "# Specify the resources each of your clients need\n",
    "# By default, each client will be allocated 1x CPU and 0x GPUs\n",
    "backend_config = {\"client_resources\": {\"num_cpus\": 1, \"num_gpus\": 0.0}}\n",
    "\n",
    "# When running on GPU, assign an entire GPU for each client\n",
    "if DEVICE == \"cuda\":\n",
    "    backend_config[\"client_resources\"] = {\"num_cpus\": 1, \"num_gpus\": 1}\n",
    "    # Refer to our Flower framework documentation for more details about Flower simulations\n",
    "    # and how to set up the `backend_config`"
   ],
   "id": "1388e3308f7b212b",
   "outputs": [],
   "execution_count": 14
  },
  {
   "metadata": {},
   "cell_type": "markdown",
   "source": [
    "### Download missing module for clients\n",
    "\n",
    "Dino model,that is serialized and sent to client by server, require some modules that have to download from source code of dino model\n"
   ],
   "id": "9399f1a9cedc8cc3"
  },
  {
   "metadata": {
    "ExecuteTime": {
     "end_time": "2025-04-20T20:47:30.595118Z",
     "start_time": "2025-04-20T20:47:30.027588Z"
    }
   },
   "cell_type": "code",
   "source": [
    "import os\n",
    "import urllib.request\n",
    "\n",
    "\n",
    "def download_if_not_exists(file_path: str, file_url: str):\n",
    "    \"\"\"\n",
    "    Checks if a file exists at the given path. If it does not, downloads it from the specified URL.\n",
    "\n",
    "    Parameters:\n",
    "    - file_path (str): The local path to check and save the file.\n",
    "    - file_url (str): The URL from which to download the file.\n",
    "    \"\"\"\n",
    "    if not os.path.exists(file_path):\n",
    "        print(f\"'{file_path}' not found. Downloading from {file_url}...\")\n",
    "        try:\n",
    "            urllib.request.urlretrieve(file_url, file_path)\n",
    "            print(\"Download complete.\")\n",
    "        except Exception as e:\n",
    "            print(f\"Failed to download file: {e}\")\n",
    "    else:\n",
    "        print(f\"'{file_path}' already exists.\")"
   ],
   "id": "beb2c855fcd8933c",
   "outputs": [],
   "execution_count": 15
  },
  {
   "metadata": {
    "ExecuteTime": {
     "end_time": "2025-04-20T20:47:31.815838Z",
     "start_time": "2025-04-20T20:47:31.221332Z"
    }
   },
   "cell_type": "code",
   "source": [
    "download_if_not_exists(\"vision_transformer.py\",\n",
    "                       \"https://raw.githubusercontent.com/facebookresearch/dino/refs/heads/main/vision_transformer.py\")\n",
    "download_if_not_exists(\"utils.py\",\n",
    "                       \"https://raw.githubusercontent.com/facebookresearch/dino/refs/heads/main/utils.py\")\n"
   ],
   "id": "d93caca63a33c71f",
   "outputs": [
    {
     "name": "stdout",
     "output_type": "stream",
     "text": [
      "'vision_transformer.py' already exists.\n",
      "'utils.py' already exists.\n"
     ]
    }
   ],
   "execution_count": 16
  },
  {
   "metadata": {},
   "cell_type": "markdown",
   "source": "",
   "id": "9a1db478a3e1221"
  },
  {
   "metadata": {
    "ExecuteTime": {
     "end_time": "2025-04-20T20:47:33.406271Z",
     "start_time": "2025-04-20T20:47:32.913672Z"
    }
   },
   "cell_type": "code",
   "source": "NUM_CLIENTS = 10",
   "id": "23d2a1e147f59ffc",
   "outputs": [],
   "execution_count": 17
  },
  {
   "metadata": {
    "ExecuteTime": {
     "end_time": "2025-04-20T21:19:08.531054Z",
     "start_time": "2025-04-20T20:47:37.274703Z"
    }
   },
   "cell_type": "code",
   "source": [
    "# Run simulation\n",
    "run_simulation(\n",
    "    server_app=server,\n",
    "    client_app=client,\n",
    "    num_supernodes=NUM_CLIENTS,\n",
    "    backend_config=backend_config,\n",
    ")"
   ],
   "id": "1451e826d4713ec9",
   "outputs": [
    {
     "name": "stderr",
     "output_type": "stream",
     "text": [
      "\u001B[92mINFO \u001B[0m:      Starting Flower ServerApp, config: num_rounds=2, no round_timeout\n",
      "\u001B[92mINFO \u001B[0m:      \n"
     ]
    },
    {
     "name": "stdout",
     "output_type": "stream",
     "text": [
      "Continue train model from epoch 2\n"
     ]
    },
    {
     "name": "stderr",
     "output_type": "stream",
     "text": [
      "\u001B[92mINFO \u001B[0m:      [INIT]\n",
      "\u001B[92mINFO \u001B[0m:      Using initial global parameters provided by strategy\n",
      "\u001B[92mINFO \u001B[0m:      Starting evaluation of initial global parameters\n",
      "\u001B[92mINFO \u001B[0m:      ROUND 0💡 New best global model found: 0.009400\n",
      "\u001B[92mINFO \u001B[0m:      initial parameters (loss, other metrics): 5.01113680948185, {'centralized_accuracy': 0.0094}\n",
      "\u001B[92mINFO \u001B[0m:      \n",
      "\u001B[92mINFO \u001B[0m:      [ROUND 1]\n",
      "\u001B[92mINFO \u001B[0m:      configure_fit: strategy sampled 10 clients (out of 10)\n",
      "\u001B[36m(ClientAppActor pid=24912)\u001B[0m 2025-04-20 22:52:12.922 | INFO     | fl_g13.config:<module>:11 - PROJ_ROOT path is: C:\\Users\\ADMIN\\Desktop\\BACKUP\\study\\Italy\\polito\\classes\\20242\\deep learning\\project\\source_code\\fl-g13\n"
     ]
    },
    {
     "name": "stdout",
     "output_type": "stream",
     "text": [
      "\u001B[36m(ClientAppActor pid=24912)\u001B[0m Client 0 is ready to train\n",
      "\u001B[36m(ClientAppActor pid=24912)\u001B[0m No prefix/name for the model was provided, choosen prefix/name: bouncy_ivysaur_68\n",
      "\u001B[36m(ClientAppActor pid=24912)\u001B[0m \n",
      "\u001B[36m(ClientAppActor pid=24912)\u001B[0m 🚀 Epoch 1/3 (33.33%) Completed\n",
      "\u001B[36m(ClientAppActor pid=24912)\u001B[0m \t📊 Training Loss: 5.1139\n",
      "\u001B[36m(ClientAppActor pid=24912)\u001B[0m \t✅ Training Accuracy: 1.07%\n",
      "\u001B[36m(ClientAppActor pid=24912)\u001B[0m \t⏳ Elapsed Time: 16.03s | ETA: 32.07s\n",
      "\u001B[36m(ClientAppActor pid=24912)\u001B[0m \t🕒 Completed At: 22:52\n",
      "\u001B[36m(ClientAppActor pid=24912)\u001B[0m \n",
      "\u001B[36m(ClientAppActor pid=24912)\u001B[0m 🚀 Epoch 2/3 (66.67%) Completed\n",
      "\u001B[36m(ClientAppActor pid=24912)\u001B[0m \t📊 Training Loss: 5.0673\n",
      "\u001B[36m(ClientAppActor pid=24912)\u001B[0m \t✅ Training Accuracy: 1.00%\n",
      "\u001B[36m(ClientAppActor pid=24912)\u001B[0m \t⏳ Elapsed Time: 15.22s | ETA: 15.22s\n",
      "\u001B[36m(ClientAppActor pid=24912)\u001B[0m \t🕒 Completed At: 22:52\n",
      "\u001B[36m(ClientAppActor pid=24912)\u001B[0m \n",
      "\u001B[36m(ClientAppActor pid=24912)\u001B[0m 🚀 Epoch 3/3 (100.00%) Completed\n",
      "\u001B[36m(ClientAppActor pid=24912)\u001B[0m \t📊 Training Loss: 4.9448\n",
      "\u001B[36m(ClientAppActor pid=24912)\u001B[0m \t✅ Training Accuracy: 0.85%\n",
      "\u001B[36m(ClientAppActor pid=24912)\u001B[0m \t⏳ Elapsed Time: 15.26s | ETA: 0.00s\n",
      "\u001B[36m(ClientAppActor pid=24912)\u001B[0m \t🕒 Completed At: 22:53\n",
      "\u001B[36m(ClientAppActor pid=24912)\u001B[0m \n",
      "\u001B[36m(ClientAppActor pid=24912)\u001B[0m Client 1 is ready to train\n",
      "\u001B[36m(ClientAppActor pid=24912)\u001B[0m No prefix/name for the model was provided, choosen prefix/name: grumpy_nidorina_52\n",
      "\u001B[36m(ClientAppActor pid=24912)\u001B[0m \n",
      "\u001B[36m(ClientAppActor pid=24912)\u001B[0m 🚀 Epoch 1/3 (33.33%) Completed\n",
      "\u001B[36m(ClientAppActor pid=24912)\u001B[0m \t📊 Training Loss: 5.1496\n",
      "\u001B[36m(ClientAppActor pid=24912)\u001B[0m \t✅ Training Accuracy: 1.27%\n",
      "\u001B[36m(ClientAppActor pid=24912)\u001B[0m \t⏳ Elapsed Time: 15.49s | ETA: 30.99s\n",
      "\u001B[36m(ClientAppActor pid=24912)\u001B[0m \t🕒 Completed At: 22:53\n",
      "\u001B[36m(ClientAppActor pid=24912)\u001B[0m \n",
      "\u001B[36m(ClientAppActor pid=24912)\u001B[0m 🚀 Epoch 2/3 (66.67%) Completed\n",
      "\u001B[36m(ClientAppActor pid=24912)\u001B[0m \t📊 Training Loss: 5.0388\n",
      "\u001B[36m(ClientAppActor pid=24912)\u001B[0m \t✅ Training Accuracy: 1.12%\n",
      "\u001B[36m(ClientAppActor pid=24912)\u001B[0m \t⏳ Elapsed Time: 15.31s | ETA: 15.31s\n",
      "\u001B[36m(ClientAppActor pid=24912)\u001B[0m \t🕒 Completed At: 22:53\n",
      "\u001B[36m(ClientAppActor pid=24912)\u001B[0m \n",
      "\u001B[36m(ClientAppActor pid=24912)\u001B[0m 🚀 Epoch 3/3 (100.00%) Completed\n",
      "\u001B[36m(ClientAppActor pid=24912)\u001B[0m \t📊 Training Loss: 4.9292\n",
      "\u001B[36m(ClientAppActor pid=24912)\u001B[0m \t✅ Training Accuracy: 1.18%\n",
      "\u001B[36m(ClientAppActor pid=24912)\u001B[0m \t⏳ Elapsed Time: 15.31s | ETA: 0.00s\n",
      "\u001B[36m(ClientAppActor pid=24912)\u001B[0m \t🕒 Completed At: 22:53\n",
      "\u001B[36m(ClientAppActor pid=24912)\u001B[0m \n",
      "\u001B[36m(ClientAppActor pid=24912)\u001B[0m Client 2 is ready to train\n",
      "\u001B[36m(ClientAppActor pid=24912)\u001B[0m No prefix/name for the model was provided, choosen prefix/name: jumpy_nidorina_61\n",
      "\u001B[36m(ClientAppActor pid=24912)\u001B[0m \n",
      "\u001B[36m(ClientAppActor pid=24912)\u001B[0m 🚀 Epoch 1/3 (33.33%) Completed\n",
      "\u001B[36m(ClientAppActor pid=24912)\u001B[0m \t📊 Training Loss: 5.1180\n",
      "\u001B[36m(ClientAppActor pid=24912)\u001B[0m \t✅ Training Accuracy: 1.32%\n",
      "\u001B[36m(ClientAppActor pid=24912)\u001B[0m \t⏳ Elapsed Time: 15.48s | ETA: 30.96s\n",
      "\u001B[36m(ClientAppActor pid=24912)\u001B[0m \t🕒 Completed At: 22:54\n",
      "\u001B[36m(ClientAppActor pid=24912)\u001B[0m \n",
      "\u001B[36m(ClientAppActor pid=24912)\u001B[0m 🚀 Epoch 2/3 (66.67%) Completed\n",
      "\u001B[36m(ClientAppActor pid=24912)\u001B[0m \t📊 Training Loss: 5.0728\n",
      "\u001B[36m(ClientAppActor pid=24912)\u001B[0m \t✅ Training Accuracy: 1.10%\n",
      "\u001B[36m(ClientAppActor pid=24912)\u001B[0m \t⏳ Elapsed Time: 15.38s | ETA: 15.38s\n",
      "\u001B[36m(ClientAppActor pid=24912)\u001B[0m \t🕒 Completed At: 22:54\n",
      "\u001B[36m(ClientAppActor pid=24912)\u001B[0m \n",
      "\u001B[36m(ClientAppActor pid=24912)\u001B[0m 🚀 Epoch 3/3 (100.00%) Completed\n",
      "\u001B[36m(ClientAppActor pid=24912)\u001B[0m \t📊 Training Loss: 4.9639\n",
      "\u001B[36m(ClientAppActor pid=24912)\u001B[0m \t✅ Training Accuracy: 1.10%\n",
      "\u001B[36m(ClientAppActor pid=24912)\u001B[0m \t⏳ Elapsed Time: 15.38s | ETA: 0.00s\n",
      "\u001B[36m(ClientAppActor pid=24912)\u001B[0m \t🕒 Completed At: 22:54\n",
      "\u001B[36m(ClientAppActor pid=24912)\u001B[0m \n",
      "\u001B[36m(ClientAppActor pid=24912)\u001B[0m Client 3 is ready to train\n",
      "\u001B[36m(ClientAppActor pid=24912)\u001B[0m No prefix/name for the model was provided, choosen prefix/name: silly_nidoran_72\n",
      "\u001B[36m(ClientAppActor pid=24912)\u001B[0m \n",
      "\u001B[36m(ClientAppActor pid=24912)\u001B[0m 🚀 Epoch 1/3 (33.33%) Completed\n",
      "\u001B[36m(ClientAppActor pid=24912)\u001B[0m \t📊 Training Loss: 5.1593\n",
      "\u001B[36m(ClientAppActor pid=24912)\u001B[0m \t✅ Training Accuracy: 1.27%\n",
      "\u001B[36m(ClientAppActor pid=24912)\u001B[0m \t⏳ Elapsed Time: 15.58s | ETA: 31.16s\n",
      "\u001B[36m(ClientAppActor pid=24912)\u001B[0m \t🕒 Completed At: 22:54\n",
      "\u001B[36m(ClientAppActor pid=24912)\u001B[0m \n",
      "\u001B[36m(ClientAppActor pid=24912)\u001B[0m 🚀 Epoch 2/3 (66.67%) Completed\n",
      "\u001B[36m(ClientAppActor pid=24912)\u001B[0m \t📊 Training Loss: 5.0739\n",
      "\u001B[36m(ClientAppActor pid=24912)\u001B[0m \t✅ Training Accuracy: 1.05%\n",
      "\u001B[36m(ClientAppActor pid=24912)\u001B[0m \t⏳ Elapsed Time: 15.38s | ETA: 15.38s\n",
      "\u001B[36m(ClientAppActor pid=24912)\u001B[0m \t🕒 Completed At: 22:55\n",
      "\u001B[36m(ClientAppActor pid=24912)\u001B[0m \n",
      "\u001B[36m(ClientAppActor pid=24912)\u001B[0m 🚀 Epoch 3/3 (100.00%) Completed\n",
      "\u001B[36m(ClientAppActor pid=24912)\u001B[0m \t📊 Training Loss: 4.9259\n",
      "\u001B[36m(ClientAppActor pid=24912)\u001B[0m \t✅ Training Accuracy: 1.23%\n",
      "\u001B[36m(ClientAppActor pid=24912)\u001B[0m \t⏳ Elapsed Time: 15.38s | ETA: 0.00s\n",
      "\u001B[36m(ClientAppActor pid=24912)\u001B[0m \t🕒 Completed At: 22:55\n",
      "\u001B[36m(ClientAppActor pid=24912)\u001B[0m \n",
      "\u001B[36m(ClientAppActor pid=24912)\u001B[0m Client 4 is ready to train\n",
      "\u001B[36m(ClientAppActor pid=24912)\u001B[0m No prefix/name for the model was provided, choosen prefix/name: jolly_nidoking_11\n",
      "\u001B[36m(ClientAppActor pid=24912)\u001B[0m \n",
      "\u001B[36m(ClientAppActor pid=24912)\u001B[0m 🚀 Epoch 1/3 (33.33%) Completed\n",
      "\u001B[36m(ClientAppActor pid=24912)\u001B[0m \t📊 Training Loss: 5.1043\n",
      "\u001B[36m(ClientAppActor pid=24912)\u001B[0m \t✅ Training Accuracy: 1.05%\n",
      "\u001B[36m(ClientAppActor pid=24912)\u001B[0m \t⏳ Elapsed Time: 15.64s | ETA: 31.27s\n",
      "\u001B[36m(ClientAppActor pid=24912)\u001B[0m \t🕒 Completed At: 22:55\n",
      "\u001B[36m(ClientAppActor pid=24912)\u001B[0m \n",
      "\u001B[36m(ClientAppActor pid=24912)\u001B[0m 🚀 Epoch 2/3 (66.67%) Completed\n",
      "\u001B[36m(ClientAppActor pid=24912)\u001B[0m \t📊 Training Loss: 5.0309\n",
      "\u001B[36m(ClientAppActor pid=24912)\u001B[0m \t✅ Training Accuracy: 1.25%\n",
      "\u001B[36m(ClientAppActor pid=24912)\u001B[0m \t⏳ Elapsed Time: 15.44s | ETA: 15.44s\n",
      "\u001B[36m(ClientAppActor pid=24912)\u001B[0m \t🕒 Completed At: 22:56\n",
      "\u001B[36m(ClientAppActor pid=24912)\u001B[0m \n",
      "\u001B[36m(ClientAppActor pid=24912)\u001B[0m 🚀 Epoch 3/3 (100.00%) Completed\n",
      "\u001B[36m(ClientAppActor pid=24912)\u001B[0m \t📊 Training Loss: 4.9756\n",
      "\u001B[36m(ClientAppActor pid=24912)\u001B[0m \t✅ Training Accuracy: 1.00%\n",
      "\u001B[36m(ClientAppActor pid=24912)\u001B[0m \t⏳ Elapsed Time: 15.44s | ETA: 0.00s\n",
      "\u001B[36m(ClientAppActor pid=24912)\u001B[0m \t🕒 Completed At: 22:56\n",
      "\u001B[36m(ClientAppActor pid=24912)\u001B[0m \n",
      "\u001B[36m(ClientAppActor pid=24912)\u001B[0m Client 5 is ready to train\n",
      "\u001B[36m(ClientAppActor pid=24912)\u001B[0m No prefix/name for the model was provided, choosen prefix/name: nutty_nidorina_47\n",
      "\u001B[36m(ClientAppActor pid=24912)\u001B[0m \n",
      "\u001B[36m(ClientAppActor pid=24912)\u001B[0m 🚀 Epoch 1/3 (33.33%) Completed\n",
      "\u001B[36m(ClientAppActor pid=24912)\u001B[0m \t📊 Training Loss: 5.1327\n",
      "\u001B[36m(ClientAppActor pid=24912)\u001B[0m \t✅ Training Accuracy: 1.07%\n",
      "\u001B[36m(ClientAppActor pid=24912)\u001B[0m \t⏳ Elapsed Time: 15.51s | ETA: 31.01s\n",
      "\u001B[36m(ClientAppActor pid=24912)\u001B[0m \t🕒 Completed At: 22:56\n",
      "\u001B[36m(ClientAppActor pid=24912)\u001B[0m \n",
      "\u001B[36m(ClientAppActor pid=24912)\u001B[0m 🚀 Epoch 2/3 (66.67%) Completed\n",
      "\u001B[36m(ClientAppActor pid=24912)\u001B[0m \t📊 Training Loss: 5.0275\n",
      "\u001B[36m(ClientAppActor pid=24912)\u001B[0m \t✅ Training Accuracy: 0.80%\n",
      "\u001B[36m(ClientAppActor pid=24912)\u001B[0m \t⏳ Elapsed Time: 15.45s | ETA: 15.45s\n",
      "\u001B[36m(ClientAppActor pid=24912)\u001B[0m \t🕒 Completed At: 22:56\n",
      "\u001B[36m(ClientAppActor pid=24912)\u001B[0m \n",
      "\u001B[36m(ClientAppActor pid=24912)\u001B[0m 🚀 Epoch 3/3 (100.00%) Completed\n",
      "\u001B[36m(ClientAppActor pid=24912)\u001B[0m \t📊 Training Loss: 4.9789\n",
      "\u001B[36m(ClientAppActor pid=24912)\u001B[0m \t✅ Training Accuracy: 0.92%\n",
      "\u001B[36m(ClientAppActor pid=24912)\u001B[0m \t⏳ Elapsed Time: 15.58s | ETA: 0.00s\n",
      "\u001B[36m(ClientAppActor pid=24912)\u001B[0m \t🕒 Completed At: 22:57\n",
      "\u001B[36m(ClientAppActor pid=24912)\u001B[0m \n",
      "\u001B[36m(ClientAppActor pid=24912)\u001B[0m Client 6 is ready to train\n",
      "\u001B[36m(ClientAppActor pid=24912)\u001B[0m No prefix/name for the model was provided, choosen prefix/name: wacky_charmeleon_69\n",
      "\u001B[36m(ClientAppActor pid=24912)\u001B[0m \n",
      "\u001B[36m(ClientAppActor pid=24912)\u001B[0m 🚀 Epoch 1/3 (33.33%) Completed\n",
      "\u001B[36m(ClientAppActor pid=24912)\u001B[0m \t📊 Training Loss: 5.1235\n",
      "\u001B[36m(ClientAppActor pid=24912)\u001B[0m \t✅ Training Accuracy: 0.95%\n",
      "\u001B[36m(ClientAppActor pid=24912)\u001B[0m \t⏳ Elapsed Time: 16.19s | ETA: 32.38s\n",
      "\u001B[36m(ClientAppActor pid=24912)\u001B[0m \t🕒 Completed At: 22:57\n",
      "\u001B[36m(ClientAppActor pid=24912)\u001B[0m \n",
      "\u001B[36m(ClientAppActor pid=24912)\u001B[0m 🚀 Epoch 2/3 (66.67%) Completed\n",
      "\u001B[36m(ClientAppActor pid=24912)\u001B[0m \t📊 Training Loss: 5.1790\n",
      "\u001B[36m(ClientAppActor pid=24912)\u001B[0m \t✅ Training Accuracy: 1.32%\n",
      "\u001B[36m(ClientAppActor pid=24912)\u001B[0m \t⏳ Elapsed Time: 15.77s | ETA: 15.77s\n",
      "\u001B[36m(ClientAppActor pid=24912)\u001B[0m \t🕒 Completed At: 22:57\n",
      "\u001B[36m(ClientAppActor pid=24912)\u001B[0m \n",
      "\u001B[36m(ClientAppActor pid=24912)\u001B[0m 🚀 Epoch 3/3 (100.00%) Completed\n",
      "\u001B[36m(ClientAppActor pid=24912)\u001B[0m \t📊 Training Loss: 4.9895\n",
      "\u001B[36m(ClientAppActor pid=24912)\u001B[0m \t✅ Training Accuracy: 1.05%\n",
      "\u001B[36m(ClientAppActor pid=24912)\u001B[0m \t⏳ Elapsed Time: 15.86s | ETA: 0.00s\n",
      "\u001B[36m(ClientAppActor pid=24912)\u001B[0m \t🕒 Completed At: 22:57\n",
      "\u001B[36m(ClientAppActor pid=24912)\u001B[0m \n",
      "\u001B[36m(ClientAppActor pid=24912)\u001B[0m Client 7 is ready to train\n",
      "\u001B[36m(ClientAppActor pid=24912)\u001B[0m No prefix/name for the model was provided, choosen prefix/name: itchy_ivysaur_84\n",
      "\u001B[36m(ClientAppActor pid=24912)\u001B[0m \n",
      "\u001B[36m(ClientAppActor pid=24912)\u001B[0m 🚀 Epoch 1/3 (33.33%) Completed\n",
      "\u001B[36m(ClientAppActor pid=24912)\u001B[0m \t📊 Training Loss: 5.1268\n",
      "\u001B[36m(ClientAppActor pid=24912)\u001B[0m \t✅ Training Accuracy: 1.03%\n",
      "\u001B[36m(ClientAppActor pid=24912)\u001B[0m \t⏳ Elapsed Time: 16.03s | ETA: 32.06s\n",
      "\u001B[36m(ClientAppActor pid=24912)\u001B[0m \t🕒 Completed At: 22:58\n",
      "\u001B[36m(ClientAppActor pid=24912)\u001B[0m \n",
      "\u001B[36m(ClientAppActor pid=24912)\u001B[0m 🚀 Epoch 2/3 (66.67%) Completed\n",
      "\u001B[36m(ClientAppActor pid=24912)\u001B[0m \t📊 Training Loss: 5.0369\n",
      "\u001B[36m(ClientAppActor pid=24912)\u001B[0m \t✅ Training Accuracy: 0.90%\n",
      "\u001B[36m(ClientAppActor pid=24912)\u001B[0m \t⏳ Elapsed Time: 15.62s | ETA: 15.62s\n",
      "\u001B[36m(ClientAppActor pid=24912)\u001B[0m \t🕒 Completed At: 22:58\n",
      "\u001B[36m(ClientAppActor pid=24912)\u001B[0m \n",
      "\u001B[36m(ClientAppActor pid=24912)\u001B[0m 🚀 Epoch 3/3 (100.00%) Completed\n",
      "\u001B[36m(ClientAppActor pid=24912)\u001B[0m \t📊 Training Loss: 4.9566\n",
      "\u001B[36m(ClientAppActor pid=24912)\u001B[0m \t✅ Training Accuracy: 1.10%\n",
      "\u001B[36m(ClientAppActor pid=24912)\u001B[0m \t⏳ Elapsed Time: 15.75s | ETA: 0.00s\n",
      "\u001B[36m(ClientAppActor pid=24912)\u001B[0m \t🕒 Completed At: 22:58\n",
      "\u001B[36m(ClientAppActor pid=24912)\u001B[0m \n",
      "\u001B[36m(ClientAppActor pid=24912)\u001B[0m Client 8 is ready to train\n",
      "\u001B[36m(ClientAppActor pid=24912)\u001B[0m No prefix/name for the model was provided, choosen prefix/name: jumpy_nidoran_26\n",
      "\u001B[36m(ClientAppActor pid=24912)\u001B[0m \n",
      "\u001B[36m(ClientAppActor pid=24912)\u001B[0m 🚀 Epoch 1/3 (33.33%) Completed\n",
      "\u001B[36m(ClientAppActor pid=24912)\u001B[0m \t📊 Training Loss: 5.0793\n",
      "\u001B[36m(ClientAppActor pid=24912)\u001B[0m \t✅ Training Accuracy: 1.05%\n",
      "\u001B[36m(ClientAppActor pid=24912)\u001B[0m \t⏳ Elapsed Time: 15.77s | ETA: 31.54s\n",
      "\u001B[36m(ClientAppActor pid=24912)\u001B[0m \t🕒 Completed At: 22:59\n",
      "\u001B[36m(ClientAppActor pid=24912)\u001B[0m \n",
      "\u001B[36m(ClientAppActor pid=24912)\u001B[0m 🚀 Epoch 2/3 (66.67%) Completed\n",
      "\u001B[36m(ClientAppActor pid=24912)\u001B[0m \t📊 Training Loss: 5.0733\n",
      "\u001B[36m(ClientAppActor pid=24912)\u001B[0m \t✅ Training Accuracy: 1.35%\n",
      "\u001B[36m(ClientAppActor pid=24912)\u001B[0m \t⏳ Elapsed Time: 15.71s | ETA: 15.71s\n",
      "\u001B[36m(ClientAppActor pid=24912)\u001B[0m \t🕒 Completed At: 22:59\n",
      "\u001B[36m(ClientAppActor pid=24912)\u001B[0m \n",
      "\u001B[36m(ClientAppActor pid=24912)\u001B[0m 🚀 Epoch 3/3 (100.00%) Completed\n",
      "\u001B[36m(ClientAppActor pid=24912)\u001B[0m \t📊 Training Loss: 4.9741\n",
      "\u001B[36m(ClientAppActor pid=24912)\u001B[0m \t✅ Training Accuracy: 1.35%\n",
      "\u001B[36m(ClientAppActor pid=24912)\u001B[0m \t⏳ Elapsed Time: 15.67s | ETA: 0.00s\n",
      "\u001B[36m(ClientAppActor pid=24912)\u001B[0m \t🕒 Completed At: 22:59\n",
      "\u001B[36m(ClientAppActor pid=24912)\u001B[0m \n",
      "\u001B[36m(ClientAppActor pid=24912)\u001B[0m Client 9 is ready to train\n",
      "\u001B[36m(ClientAppActor pid=24912)\u001B[0m No prefix/name for the model was provided, choosen prefix/name: plucky_arbok_95\n",
      "\u001B[36m(ClientAppActor pid=24912)\u001B[0m \n",
      "\u001B[36m(ClientAppActor pid=24912)\u001B[0m 🚀 Epoch 1/3 (33.33%) Completed\n",
      "\u001B[36m(ClientAppActor pid=24912)\u001B[0m \t📊 Training Loss: 5.0767\n",
      "\u001B[36m(ClientAppActor pid=24912)\u001B[0m \t✅ Training Accuracy: 1.07%\n",
      "\u001B[36m(ClientAppActor pid=24912)\u001B[0m \t⏳ Elapsed Time: 15.47s | ETA: 30.94s\n",
      "\u001B[36m(ClientAppActor pid=24912)\u001B[0m \t🕒 Completed At: 22:59\n",
      "\u001B[36m(ClientAppActor pid=24912)\u001B[0m \n",
      "\u001B[36m(ClientAppActor pid=24912)\u001B[0m 🚀 Epoch 2/3 (66.67%) Completed\n",
      "\u001B[36m(ClientAppActor pid=24912)\u001B[0m \t📊 Training Loss: 5.0731\n",
      "\u001B[36m(ClientAppActor pid=24912)\u001B[0m \t✅ Training Accuracy: 1.10%\n",
      "\u001B[36m(ClientAppActor pid=24912)\u001B[0m \t⏳ Elapsed Time: 15.26s | ETA: 15.26s\n",
      "\u001B[36m(ClientAppActor pid=24912)\u001B[0m \t🕒 Completed At: 23:00\n",
      "\u001B[36m(ClientAppActor pid=24912)\u001B[0m \n",
      "\u001B[36m(ClientAppActor pid=24912)\u001B[0m 🚀 Epoch 3/3 (100.00%) Completed\n",
      "\u001B[36m(ClientAppActor pid=24912)\u001B[0m \t📊 Training Loss: 4.9421\n",
      "\u001B[36m(ClientAppActor pid=24912)\u001B[0m \t✅ Training Accuracy: 1.32%\n",
      "\u001B[36m(ClientAppActor pid=24912)\u001B[0m \t⏳ Elapsed Time: 15.25s | ETA: 0.00s\n",
      "\u001B[36m(ClientAppActor pid=24912)\u001B[0m \t🕒 Completed At: 23:00\n",
      "\u001B[36m(ClientAppActor pid=24912)\u001B[0m \n"
     ]
    },
    {
     "name": "stderr",
     "output_type": "stream",
     "text": [
      "\u001B[92mINFO \u001B[0m:      aggregate_fit: received 10 results and 0 failures\n",
      "\u001B[93mWARNING \u001B[0m:   No fit_metrics_aggregation_fn provided\n"
     ]
    },
    {
     "name": "stdout",
     "output_type": "stream",
     "text": [
      "Saving centralized model epoch 2 aggregated_parameters...\n",
      "💾 Saved checkpoint at: C:\\Users\\ADMIN\\Desktop\\BACKUP\\study\\Italy\\polito\\classes\\20242\\deep learning\\project\\source_code\\fl-g13\\models\\fl_baseline\\FL_BaseDino_epoch_2.pth\n"
     ]
    },
    {
     "name": "stderr",
     "output_type": "stream",
     "text": [
      "\u001B[92mINFO \u001B[0m:      ROUND 1💡 New best global model found: 0.011000\n",
      "\u001B[92mINFO \u001B[0m:      fit progress: (1, 4.689738472805748, {'centralized_accuracy': 0.011}, 786.1971884000013)\n",
      "\u001B[92mINFO \u001B[0m:      configure_evaluate: strategy sampled 5 clients (out of 10)\n"
     ]
    },
    {
     "name": "stdout",
     "output_type": "stream",
     "text": [
      "\u001B[36m(ClientAppActor pid=24912)\u001B[0m Client 1 is ready to train\n",
      "\u001B[36m(ClientAppActor pid=24912)\u001B[0m Client 2 is ready to train\n",
      "\u001B[36m(ClientAppActor pid=24912)\u001B[0m Client 3 is ready to train\n",
      "\u001B[36m(ClientAppActor pid=24912)\u001B[0m Client 6 is ready to train\n",
      "\u001B[36m(ClientAppActor pid=24912)\u001B[0m Client 7 is ready to train\n"
     ]
    },
    {
     "name": "stderr",
     "output_type": "stream",
     "text": [
      "\u001B[92mINFO \u001B[0m:      aggregate_evaluate: received 5 results and 0 failures\n",
      "\u001B[92mINFO \u001B[0m:      \n",
      "\u001B[92mINFO \u001B[0m:      [ROUND 2]\n",
      "\u001B[92mINFO \u001B[0m:      configure_fit: strategy sampled 10 clients (out of 10)\n"
     ]
    },
    {
     "name": "stdout",
     "output_type": "stream",
     "text": [
      "\u001B[36m(ClientAppActor pid=24912)\u001B[0m Client 0 is ready to train\n",
      "\u001B[36m(ClientAppActor pid=24912)\u001B[0m No prefix/name for the model was provided, choosen prefix/name: grumpy_venusaur_71\n",
      "\u001B[36m(ClientAppActor pid=24912)\u001B[0m \n",
      "\u001B[36m(ClientAppActor pid=24912)\u001B[0m 🚀 Epoch 1/3 (33.33%) Completed\n",
      "\u001B[36m(ClientAppActor pid=24912)\u001B[0m \t📊 Training Loss: 4.8740\n",
      "\u001B[36m(ClientAppActor pid=24912)\u001B[0m \t✅ Training Accuracy: 1.25%\n",
      "\u001B[36m(ClientAppActor pid=24912)\u001B[0m \t⏳ Elapsed Time: 15.32s | ETA: 30.65s\n",
      "\u001B[36m(ClientAppActor pid=24912)\u001B[0m \t🕒 Completed At: 23:05\n",
      "\u001B[36m(ClientAppActor pid=24912)\u001B[0m \n",
      "\u001B[36m(ClientAppActor pid=24912)\u001B[0m 🚀 Epoch 2/3 (66.67%) Completed\n",
      "\u001B[36m(ClientAppActor pid=24912)\u001B[0m \t📊 Training Loss: 4.8465\n",
      "\u001B[36m(ClientAppActor pid=24912)\u001B[0m \t✅ Training Accuracy: 1.25%\n",
      "\u001B[36m(ClientAppActor pid=24912)\u001B[0m \t⏳ Elapsed Time: 15.31s | ETA: 15.31s\n",
      "\u001B[36m(ClientAppActor pid=24912)\u001B[0m \t🕒 Completed At: 23:06\n",
      "\u001B[36m(ClientAppActor pid=24912)\u001B[0m \n",
      "\u001B[36m(ClientAppActor pid=24912)\u001B[0m 🚀 Epoch 3/3 (100.00%) Completed\n",
      "\u001B[36m(ClientAppActor pid=24912)\u001B[0m \t📊 Training Loss: 4.8279\n",
      "\u001B[36m(ClientAppActor pid=24912)\u001B[0m \t✅ Training Accuracy: 1.10%\n",
      "\u001B[36m(ClientAppActor pid=24912)\u001B[0m \t⏳ Elapsed Time: 15.33s | ETA: 0.00s\n",
      "\u001B[36m(ClientAppActor pid=24912)\u001B[0m \t🕒 Completed At: 23:06\n",
      "\u001B[36m(ClientAppActor pid=24912)\u001B[0m \n",
      "\u001B[36m(ClientAppActor pid=24912)\u001B[0m Client 1 is ready to train\n",
      "\u001B[36m(ClientAppActor pid=24912)\u001B[0m No prefix/name for the model was provided, choosen prefix/name: cranky_pidgey_97\n",
      "\u001B[36m(ClientAppActor pid=24912)\u001B[0m \n",
      "\u001B[36m(ClientAppActor pid=24912)\u001B[0m 🚀 Epoch 1/3 (33.33%) Completed\n",
      "\u001B[36m(ClientAppActor pid=24912)\u001B[0m \t📊 Training Loss: 4.8746\n",
      "\u001B[36m(ClientAppActor pid=24912)\u001B[0m \t✅ Training Accuracy: 1.00%\n",
      "\u001B[36m(ClientAppActor pid=24912)\u001B[0m \t⏳ Elapsed Time: 15.68s | ETA: 31.35s\n",
      "\u001B[36m(ClientAppActor pid=24912)\u001B[0m \t🕒 Completed At: 23:06\n",
      "\u001B[36m(ClientAppActor pid=24912)\u001B[0m \n",
      "\u001B[36m(ClientAppActor pid=24912)\u001B[0m 🚀 Epoch 2/3 (66.67%) Completed\n",
      "\u001B[36m(ClientAppActor pid=24912)\u001B[0m \t📊 Training Loss: 4.8172\n",
      "\u001B[36m(ClientAppActor pid=24912)\u001B[0m \t✅ Training Accuracy: 1.50%\n",
      "\u001B[36m(ClientAppActor pid=24912)\u001B[0m \t⏳ Elapsed Time: 15.36s | ETA: 15.36s\n",
      "\u001B[36m(ClientAppActor pid=24912)\u001B[0m \t🕒 Completed At: 23:06\n",
      "\u001B[36m(ClientAppActor pid=24912)\u001B[0m \n",
      "\u001B[36m(ClientAppActor pid=24912)\u001B[0m 🚀 Epoch 3/3 (100.00%) Completed\n",
      "\u001B[36m(ClientAppActor pid=24912)\u001B[0m \t📊 Training Loss: 4.8020\n",
      "\u001B[36m(ClientAppActor pid=24912)\u001B[0m \t✅ Training Accuracy: 1.32%\n",
      "\u001B[36m(ClientAppActor pid=24912)\u001B[0m \t⏳ Elapsed Time: 15.34s | ETA: 0.00s\n",
      "\u001B[36m(ClientAppActor pid=24912)\u001B[0m \t🕒 Completed At: 23:07\n",
      "\u001B[36m(ClientAppActor pid=24912)\u001B[0m \n",
      "\u001B[36m(ClientAppActor pid=24912)\u001B[0m Client 2 is ready to train\n",
      "\u001B[36m(ClientAppActor pid=24912)\u001B[0m No prefix/name for the model was provided, choosen prefix/name: witty_nidoqueen_41\n",
      "\u001B[36m(ClientAppActor pid=24912)\u001B[0m \n",
      "\u001B[36m(ClientAppActor pid=24912)\u001B[0m 🚀 Epoch 1/3 (33.33%) Completed\n",
      "\u001B[36m(ClientAppActor pid=24912)\u001B[0m \t📊 Training Loss: 4.8654\n",
      "\u001B[36m(ClientAppActor pid=24912)\u001B[0m \t✅ Training Accuracy: 1.12%\n",
      "\u001B[36m(ClientAppActor pid=24912)\u001B[0m \t⏳ Elapsed Time: 15.79s | ETA: 31.58s\n",
      "\u001B[36m(ClientAppActor pid=24912)\u001B[0m \t🕒 Completed At: 23:07\n",
      "\u001B[36m(ClientAppActor pid=24912)\u001B[0m \n",
      "\u001B[36m(ClientAppActor pid=24912)\u001B[0m 🚀 Epoch 2/3 (66.67%) Completed\n",
      "\u001B[36m(ClientAppActor pid=24912)\u001B[0m \t📊 Training Loss: 4.8352\n",
      "\u001B[36m(ClientAppActor pid=24912)\u001B[0m \t✅ Training Accuracy: 1.10%\n",
      "\u001B[36m(ClientAppActor pid=24912)\u001B[0m \t⏳ Elapsed Time: 16.03s | ETA: 16.03s\n",
      "\u001B[36m(ClientAppActor pid=24912)\u001B[0m \t🕒 Completed At: 23:07\n",
      "\u001B[36m(ClientAppActor pid=24912)\u001B[0m \n",
      "\u001B[36m(ClientAppActor pid=24912)\u001B[0m 🚀 Epoch 3/3 (100.00%) Completed\n",
      "\u001B[36m(ClientAppActor pid=24912)\u001B[0m \t📊 Training Loss: 4.8316\n",
      "\u001B[36m(ClientAppActor pid=24912)\u001B[0m \t✅ Training Accuracy: 1.45%\n",
      "\u001B[36m(ClientAppActor pid=24912)\u001B[0m \t⏳ Elapsed Time: 15.63s | ETA: 0.00s\n",
      "\u001B[36m(ClientAppActor pid=24912)\u001B[0m \t🕒 Completed At: 23:08\n",
      "\u001B[36m(ClientAppActor pid=24912)\u001B[0m \n",
      "\u001B[36m(ClientAppActor pid=24912)\u001B[0m Client 3 is ready to train\n",
      "\u001B[36m(ClientAppActor pid=24912)\u001B[0m No prefix/name for the model was provided, choosen prefix/name: snazzy_metapod_85\n",
      "\u001B[36m(ClientAppActor pid=24912)\u001B[0m \n",
      "\u001B[36m(ClientAppActor pid=24912)\u001B[0m 🚀 Epoch 1/3 (33.33%) Completed\n",
      "\u001B[36m(ClientAppActor pid=24912)\u001B[0m \t📊 Training Loss: 4.8775\n",
      "\u001B[36m(ClientAppActor pid=24912)\u001B[0m \t✅ Training Accuracy: 0.92%\n",
      "\u001B[36m(ClientAppActor pid=24912)\u001B[0m \t⏳ Elapsed Time: 16.73s | ETA: 33.45s\n",
      "\u001B[36m(ClientAppActor pid=24912)\u001B[0m \t🕒 Completed At: 23:08\n",
      "\u001B[36m(ClientAppActor pid=24912)\u001B[0m \n",
      "\u001B[36m(ClientAppActor pid=24912)\u001B[0m 🚀 Epoch 2/3 (66.67%) Completed\n",
      "\u001B[36m(ClientAppActor pid=24912)\u001B[0m \t📊 Training Loss: 4.8407\n",
      "\u001B[36m(ClientAppActor pid=24912)\u001B[0m \t✅ Training Accuracy: 1.47%\n",
      "\u001B[36m(ClientAppActor pid=24912)\u001B[0m \t⏳ Elapsed Time: 15.72s | ETA: 15.72s\n",
      "\u001B[36m(ClientAppActor pid=24912)\u001B[0m \t🕒 Completed At: 23:08\n",
      "\u001B[36m(ClientAppActor pid=24912)\u001B[0m \n",
      "\u001B[36m(ClientAppActor pid=24912)\u001B[0m 🚀 Epoch 3/3 (100.00%) Completed\n",
      "\u001B[36m(ClientAppActor pid=24912)\u001B[0m \t📊 Training Loss: 4.8115\n",
      "\u001B[36m(ClientAppActor pid=24912)\u001B[0m \t✅ Training Accuracy: 1.18%\n",
      "\u001B[36m(ClientAppActor pid=24912)\u001B[0m \t⏳ Elapsed Time: 16.17s | ETA: 0.00s\n",
      "\u001B[36m(ClientAppActor pid=24912)\u001B[0m \t🕒 Completed At: 23:08\n",
      "\u001B[36m(ClientAppActor pid=24912)\u001B[0m \n",
      "\u001B[36m(ClientAppActor pid=24912)\u001B[0m Client 4 is ready to train\n",
      "\u001B[36m(ClientAppActor pid=24912)\u001B[0m No prefix/name for the model was provided, choosen prefix/name: zippy_nidoran_38\n",
      "\u001B[36m(ClientAppActor pid=24912)\u001B[0m \n",
      "\u001B[36m(ClientAppActor pid=24912)\u001B[0m 🚀 Epoch 1/3 (33.33%) Completed\n",
      "\u001B[36m(ClientAppActor pid=24912)\u001B[0m \t📊 Training Loss: 4.8682\n",
      "\u001B[36m(ClientAppActor pid=24912)\u001B[0m \t✅ Training Accuracy: 1.18%\n",
      "\u001B[36m(ClientAppActor pid=24912)\u001B[0m \t⏳ Elapsed Time: 15.83s | ETA: 31.66s\n",
      "\u001B[36m(ClientAppActor pid=24912)\u001B[0m \t🕒 Completed At: 23:09\n",
      "\u001B[36m(ClientAppActor pid=24912)\u001B[0m \n",
      "\u001B[36m(ClientAppActor pid=24912)\u001B[0m 🚀 Epoch 2/3 (66.67%) Completed\n",
      "\u001B[36m(ClientAppActor pid=24912)\u001B[0m \t📊 Training Loss: 4.8250\n",
      "\u001B[36m(ClientAppActor pid=24912)\u001B[0m \t✅ Training Accuracy: 1.35%\n",
      "\u001B[36m(ClientAppActor pid=24912)\u001B[0m \t⏳ Elapsed Time: 15.59s | ETA: 15.59s\n",
      "\u001B[36m(ClientAppActor pid=24912)\u001B[0m \t🕒 Completed At: 23:09\n",
      "\u001B[36m(ClientAppActor pid=24912)\u001B[0m \n",
      "\u001B[36m(ClientAppActor pid=24912)\u001B[0m 🚀 Epoch 3/3 (100.00%) Completed\n",
      "\u001B[36m(ClientAppActor pid=24912)\u001B[0m \t📊 Training Loss: 4.8173\n",
      "\u001B[36m(ClientAppActor pid=24912)\u001B[0m \t✅ Training Accuracy: 1.10%\n",
      "\u001B[36m(ClientAppActor pid=24912)\u001B[0m \t⏳ Elapsed Time: 15.81s | ETA: 0.00s\n",
      "\u001B[36m(ClientAppActor pid=24912)\u001B[0m \t🕒 Completed At: 23:09\n",
      "\u001B[36m(ClientAppActor pid=24912)\u001B[0m \n",
      "\u001B[36m(ClientAppActor pid=24912)\u001B[0m Client 5 is ready to train\n",
      "\u001B[36m(ClientAppActor pid=24912)\u001B[0m No prefix/name for the model was provided, choosen prefix/name: quirky_charmander_96\n",
      "\u001B[36m(ClientAppActor pid=24912)\u001B[0m \n",
      "\u001B[36m(ClientAppActor pid=24912)\u001B[0m 🚀 Epoch 1/3 (33.33%) Completed\n",
      "\u001B[36m(ClientAppActor pid=24912)\u001B[0m \t📊 Training Loss: 4.8503\n",
      "\u001B[36m(ClientAppActor pid=24912)\u001B[0m \t✅ Training Accuracy: 0.75%\n",
      "\u001B[36m(ClientAppActor pid=24912)\u001B[0m \t⏳ Elapsed Time: 16.14s | ETA: 32.28s\n",
      "\u001B[36m(ClientAppActor pid=24912)\u001B[0m \t🕒 Completed At: 23:10\n",
      "\u001B[36m(ClientAppActor pid=24912)\u001B[0m \n",
      "\u001B[36m(ClientAppActor pid=24912)\u001B[0m 🚀 Epoch 2/3 (66.67%) Completed\n",
      "\u001B[36m(ClientAppActor pid=24912)\u001B[0m \t📊 Training Loss: 4.8434\n",
      "\u001B[36m(ClientAppActor pid=24912)\u001B[0m \t✅ Training Accuracy: 1.27%\n",
      "\u001B[36m(ClientAppActor pid=24912)\u001B[0m \t⏳ Elapsed Time: 15.85s | ETA: 15.85s\n",
      "\u001B[36m(ClientAppActor pid=24912)\u001B[0m \t🕒 Completed At: 23:10\n",
      "\u001B[36m(ClientAppActor pid=24912)\u001B[0m \n",
      "\u001B[36m(ClientAppActor pid=24912)\u001B[0m 🚀 Epoch 3/3 (100.00%) Completed\n",
      "\u001B[36m(ClientAppActor pid=24912)\u001B[0m \t📊 Training Loss: 4.8198\n",
      "\u001B[36m(ClientAppActor pid=24912)\u001B[0m \t✅ Training Accuracy: 1.07%\n",
      "\u001B[36m(ClientAppActor pid=24912)\u001B[0m \t⏳ Elapsed Time: 15.78s | ETA: 0.00s\n",
      "\u001B[36m(ClientAppActor pid=24912)\u001B[0m \t🕒 Completed At: 23:10\n",
      "\u001B[36m(ClientAppActor pid=24912)\u001B[0m \n",
      "\u001B[36m(ClientAppActor pid=24912)\u001B[0m Client 6 is ready to train\n",
      "\u001B[36m(ClientAppActor pid=24912)\u001B[0m No prefix/name for the model was provided, choosen prefix/name: sneezy_pidgey_10\n",
      "\u001B[36m(ClientAppActor pid=24912)\u001B[0m \n",
      "\u001B[36m(ClientAppActor pid=24912)\u001B[0m 🚀 Epoch 1/3 (33.33%) Completed\n",
      "\u001B[36m(ClientAppActor pid=24912)\u001B[0m \t📊 Training Loss: 4.8618\n",
      "\u001B[36m(ClientAppActor pid=24912)\u001B[0m \t✅ Training Accuracy: 1.27%\n",
      "\u001B[36m(ClientAppActor pid=24912)\u001B[0m \t⏳ Elapsed Time: 15.80s | ETA: 31.60s\n",
      "\u001B[36m(ClientAppActor pid=24912)\u001B[0m \t🕒 Completed At: 23:10\n",
      "\u001B[36m(ClientAppActor pid=24912)\u001B[0m \n",
      "\u001B[36m(ClientAppActor pid=24912)\u001B[0m 🚀 Epoch 2/3 (66.67%) Completed\n",
      "\u001B[36m(ClientAppActor pid=24912)\u001B[0m \t📊 Training Loss: 4.8514\n",
      "\u001B[36m(ClientAppActor pid=24912)\u001B[0m \t✅ Training Accuracy: 1.43%\n",
      "\u001B[36m(ClientAppActor pid=24912)\u001B[0m \t⏳ Elapsed Time: 15.31s | ETA: 15.31s\n",
      "\u001B[36m(ClientAppActor pid=24912)\u001B[0m \t🕒 Completed At: 23:11\n",
      "\u001B[36m(ClientAppActor pid=24912)\u001B[0m \n",
      "\u001B[36m(ClientAppActor pid=24912)\u001B[0m 🚀 Epoch 3/3 (100.00%) Completed\n",
      "\u001B[36m(ClientAppActor pid=24912)\u001B[0m \t📊 Training Loss: 4.8130\n",
      "\u001B[36m(ClientAppActor pid=24912)\u001B[0m \t✅ Training Accuracy: 1.18%\n",
      "\u001B[36m(ClientAppActor pid=24912)\u001B[0m \t⏳ Elapsed Time: 15.30s | ETA: 0.00s\n",
      "\u001B[36m(ClientAppActor pid=24912)\u001B[0m \t🕒 Completed At: 23:11\n",
      "\u001B[36m(ClientAppActor pid=24912)\u001B[0m \n",
      "\u001B[36m(ClientAppActor pid=24912)\u001B[0m Client 7 is ready to train\n",
      "\u001B[36m(ClientAppActor pid=24912)\u001B[0m No prefix/name for the model was provided, choosen prefix/name: happy_nidoran_66\n",
      "\u001B[36m(ClientAppActor pid=24912)\u001B[0m \n",
      "\u001B[36m(ClientAppActor pid=24912)\u001B[0m 🚀 Epoch 1/3 (33.33%) Completed\n",
      "\u001B[36m(ClientAppActor pid=24912)\u001B[0m \t📊 Training Loss: 4.8700\n",
      "\u001B[36m(ClientAppActor pid=24912)\u001B[0m \t✅ Training Accuracy: 1.38%\n",
      "\u001B[36m(ClientAppActor pid=24912)\u001B[0m \t⏳ Elapsed Time: 15.68s | ETA: 31.36s\n",
      "\u001B[36m(ClientAppActor pid=24912)\u001B[0m \t🕒 Completed At: 23:11\n",
      "\u001B[36m(ClientAppActor pid=24912)\u001B[0m \n",
      "\u001B[36m(ClientAppActor pid=24912)\u001B[0m 🚀 Epoch 2/3 (66.67%) Completed\n",
      "\u001B[36m(ClientAppActor pid=24912)\u001B[0m \t📊 Training Loss: 4.8474\n",
      "\u001B[36m(ClientAppActor pid=24912)\u001B[0m \t✅ Training Accuracy: 1.12%\n",
      "\u001B[36m(ClientAppActor pid=24912)\u001B[0m \t⏳ Elapsed Time: 15.32s | ETA: 15.32s\n",
      "\u001B[36m(ClientAppActor pid=24912)\u001B[0m \t🕒 Completed At: 23:11\n",
      "\u001B[36m(ClientAppActor pid=24912)\u001B[0m \n",
      "\u001B[36m(ClientAppActor pid=24912)\u001B[0m 🚀 Epoch 3/3 (100.00%) Completed\n",
      "\u001B[36m(ClientAppActor pid=24912)\u001B[0m \t📊 Training Loss: 4.8085\n",
      "\u001B[36m(ClientAppActor pid=24912)\u001B[0m \t✅ Training Accuracy: 1.20%\n",
      "\u001B[36m(ClientAppActor pid=24912)\u001B[0m \t⏳ Elapsed Time: 15.29s | ETA: 0.00s\n",
      "\u001B[36m(ClientAppActor pid=24912)\u001B[0m \t🕒 Completed At: 23:12\n",
      "\u001B[36m(ClientAppActor pid=24912)\u001B[0m \n",
      "\u001B[36m(ClientAppActor pid=24912)\u001B[0m Client 8 is ready to train\n",
      "\u001B[36m(ClientAppActor pid=24912)\u001B[0m No prefix/name for the model was provided, choosen prefix/name: mushy_bulbasaur_84\n",
      "\u001B[36m(ClientAppActor pid=24912)\u001B[0m \n",
      "\u001B[36m(ClientAppActor pid=24912)\u001B[0m 🚀 Epoch 1/3 (33.33%) Completed\n",
      "\u001B[36m(ClientAppActor pid=24912)\u001B[0m \t📊 Training Loss: 4.8679\n",
      "\u001B[36m(ClientAppActor pid=24912)\u001B[0m \t✅ Training Accuracy: 1.15%\n",
      "\u001B[36m(ClientAppActor pid=24912)\u001B[0m \t⏳ Elapsed Time: 15.74s | ETA: 31.48s\n",
      "\u001B[36m(ClientAppActor pid=24912)\u001B[0m \t🕒 Completed At: 23:12\n",
      "\u001B[36m(ClientAppActor pid=24912)\u001B[0m \n",
      "\u001B[36m(ClientAppActor pid=24912)\u001B[0m 🚀 Epoch 2/3 (66.67%) Completed\n",
      "\u001B[36m(ClientAppActor pid=24912)\u001B[0m \t📊 Training Loss: 4.8624\n",
      "\u001B[36m(ClientAppActor pid=24912)\u001B[0m \t✅ Training Accuracy: 1.12%\n",
      "\u001B[36m(ClientAppActor pid=24912)\u001B[0m \t⏳ Elapsed Time: 15.24s | ETA: 15.24s\n",
      "\u001B[36m(ClientAppActor pid=24912)\u001B[0m \t🕒 Completed At: 23:12\n",
      "\u001B[36m(ClientAppActor pid=24912)\u001B[0m \n",
      "\u001B[36m(ClientAppActor pid=24912)\u001B[0m 🚀 Epoch 3/3 (100.00%) Completed\n",
      "\u001B[36m(ClientAppActor pid=24912)\u001B[0m \t📊 Training Loss: 4.8063\n",
      "\u001B[36m(ClientAppActor pid=24912)\u001B[0m \t✅ Training Accuracy: 1.52%\n",
      "\u001B[36m(ClientAppActor pid=24912)\u001B[0m \t⏳ Elapsed Time: 15.24s | ETA: 0.00s\n",
      "\u001B[36m(ClientAppActor pid=24912)\u001B[0m \t🕒 Completed At: 23:13\n",
      "\u001B[36m(ClientAppActor pid=24912)\u001B[0m \n",
      "\u001B[36m(ClientAppActor pid=24912)\u001B[0m Client 9 is ready to train\n",
      "\u001B[36m(ClientAppActor pid=24912)\u001B[0m No prefix/name for the model was provided, choosen prefix/name: witty_metapod_92\n",
      "\u001B[36m(ClientAppActor pid=24912)\u001B[0m \n",
      "\u001B[36m(ClientAppActor pid=24912)\u001B[0m 🚀 Epoch 1/3 (33.33%) Completed\n",
      "\u001B[36m(ClientAppActor pid=24912)\u001B[0m \t📊 Training Loss: 4.8729\n",
      "\u001B[36m(ClientAppActor pid=24912)\u001B[0m \t✅ Training Accuracy: 1.20%\n",
      "\u001B[36m(ClientAppActor pid=24912)\u001B[0m \t⏳ Elapsed Time: 16.13s | ETA: 32.26s\n",
      "\u001B[36m(ClientAppActor pid=24912)\u001B[0m \t🕒 Completed At: 23:13\n",
      "\u001B[36m(ClientAppActor pid=24912)\u001B[0m \n",
      "\u001B[36m(ClientAppActor pid=24912)\u001B[0m 🚀 Epoch 2/3 (66.67%) Completed\n",
      "\u001B[36m(ClientAppActor pid=24912)\u001B[0m \t📊 Training Loss: 4.8544\n",
      "\u001B[36m(ClientAppActor pid=24912)\u001B[0m \t✅ Training Accuracy: 0.90%\n",
      "\u001B[36m(ClientAppActor pid=24912)\u001B[0m \t⏳ Elapsed Time: 15.77s | ETA: 15.77s\n",
      "\u001B[36m(ClientAppActor pid=24912)\u001B[0m \t🕒 Completed At: 23:13\n",
      "\u001B[36m(ClientAppActor pid=24912)\u001B[0m \n",
      "\u001B[36m(ClientAppActor pid=24912)\u001B[0m 🚀 Epoch 3/3 (100.00%) Completed\n",
      "\u001B[36m(ClientAppActor pid=24912)\u001B[0m \t📊 Training Loss: 4.8027\n",
      "\u001B[36m(ClientAppActor pid=24912)\u001B[0m \t✅ Training Accuracy: 1.07%\n",
      "\u001B[36m(ClientAppActor pid=24912)\u001B[0m \t⏳ Elapsed Time: 15.64s | ETA: 0.00s\n",
      "\u001B[36m(ClientAppActor pid=24912)\u001B[0m \t🕒 Completed At: 23:13\n",
      "\u001B[36m(ClientAppActor pid=24912)\u001B[0m \n"
     ]
    },
    {
     "name": "stderr",
     "output_type": "stream",
     "text": [
      "\u001B[92mINFO \u001B[0m:      aggregate_fit: received 10 results and 0 failures\n"
     ]
    },
    {
     "name": "stdout",
     "output_type": "stream",
     "text": [
      "Saving centralized model epoch 3 aggregated_parameters...\n",
      "💾 Saved checkpoint at: C:\\Users\\ADMIN\\Desktop\\BACKUP\\study\\Italy\\polito\\classes\\20242\\deep learning\\project\\source_code\\fl-g13\\models\\fl_baseline\\FL_BaseDino_epoch_3.pth\n"
     ]
    },
    {
     "name": "stderr",
     "output_type": "stream",
     "text": [
      "\u001B[92mINFO \u001B[0m:      ROUND 2💡 New best global model found: 0.018000\n",
      "\u001B[92mINFO \u001B[0m:      fit progress: (2, 4.599909758266015, {'centralized_accuracy': 0.018}, 1594.3396579)\n",
      "\u001B[92mINFO \u001B[0m:      configure_evaluate: strategy sampled 5 clients (out of 10)\n"
     ]
    },
    {
     "name": "stdout",
     "output_type": "stream",
     "text": [
      "\u001B[36m(ClientAppActor pid=24912)\u001B[0m Client 3 is ready to train\n",
      "\u001B[36m(ClientAppActor pid=24912)\u001B[0m Client 4 is ready to train\n",
      "\u001B[36m(ClientAppActor pid=24912)\u001B[0m Client 5 is ready to train\n",
      "\u001B[36m(ClientAppActor pid=24912)\u001B[0m Client 7 is ready to train\n",
      "\u001B[36m(ClientAppActor pid=24912)\u001B[0m Client 8 is ready to train\n"
     ]
    },
    {
     "name": "stderr",
     "output_type": "stream",
     "text": [
      "\u001B[92mINFO \u001B[0m:      aggregate_evaluate: received 5 results and 0 failures\n",
      "\u001B[92mINFO \u001B[0m:      \n",
      "\u001B[92mINFO \u001B[0m:      [SUMMARY]\n",
      "\u001B[92mINFO \u001B[0m:      Run finished 2 round(s) in 1618.09s\n",
      "\u001B[92mINFO \u001B[0m:      \tHistory (loss, distributed):\n",
      "\u001B[92mINFO \u001B[0m:      \t\tround 1: 5.153822147846222\n",
      "\u001B[92mINFO \u001B[0m:      \t\tround 2: 4.96987875699997\n",
      "\u001B[92mINFO \u001B[0m:      \tHistory (loss, centralized):\n",
      "\u001B[92mINFO \u001B[0m:      \t\tround 0: 5.01113680948185\n",
      "\u001B[92mINFO \u001B[0m:      \t\tround 1: 4.689738472805748\n",
      "\u001B[92mINFO \u001B[0m:      \t\tround 2: 4.599909758266015\n",
      "\u001B[92mINFO \u001B[0m:      \tHistory (metrics, distributed, evaluate):\n",
      "\u001B[92mINFO \u001B[0m:      \t{'federated_evaluate_accuracy': [(1, 0.0086), (2, 0.0116)]}\n",
      "\u001B[92mINFO \u001B[0m:      \tHistory (metrics, centralized):\n",
      "\u001B[92mINFO \u001B[0m:      \t{'centralized_accuracy': [(0, 0.0094), (1, 0.011), (2, 0.018)]}\n",
      "\u001B[92mINFO \u001B[0m:      \n"
     ]
    }
   ],
   "execution_count": 18
  },
  {
   "metadata": {},
   "cell_type": "code",
   "source": "",
   "id": "b34bb388cc930f5f",
   "outputs": [],
   "execution_count": null
  }
 ],
 "metadata": {
  "kernelspec": {
   "display_name": "Python 3",
   "language": "python",
   "name": "python3"
  },
  "language_info": {
   "codemirror_mode": {
    "name": "ipython",
    "version": 2
   },
   "file_extension": ".py",
   "mimetype": "text/x-python",
   "name": "python",
   "nbconvert_exporter": "python",
   "pygments_lexer": "ipython2",
   "version": "2.7.6"
  }
 },
 "nbformat": 4,
 "nbformat_minor": 5
}
