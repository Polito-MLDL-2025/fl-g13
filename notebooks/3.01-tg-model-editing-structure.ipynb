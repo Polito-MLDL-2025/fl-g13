{
 "cells": [
  {
   "cell_type": "code",
   "execution_count": null,
   "id": "824c5e11",
   "metadata": {},
   "outputs": [],
   "source": [
    "%load_ext autoreload\n",
    "%autoreload 2"
   ]
  },
  {
   "cell_type": "code",
   "execution_count": null,
   "id": "9c3a8ff6",
   "metadata": {},
   "outputs": [],
   "source": [
    "import torch\n",
    "from torch.nn import CrossEntropyLoss\n",
    "from torch.optim.lr_scheduler import CosineAnnealingLR\n",
    "from torch.utils.data import DataLoader\n",
    "\n",
    "from fl_g13.config import RAW_DATA_DIR, PROJ_ROOT\n",
    "\n",
    "from fl_g13.modeling import load, eval, plot_metrics, get_preprocessing_pipeline\n",
    "\n",
    "from fl_g13.architectures import BaseDino\n",
    "\n",
    "from fl_g13.editing import SparseSGDM, per_class_accuracy, get_worst_classes, build_per_class_dataloaders, fisher_scores, create_gradiend_mask"
   ]
  },
  {
   "cell_type": "code",
   "execution_count": null,
   "id": "9dfe66e0",
   "metadata": {},
   "outputs": [],
   "source": [
    "train_dataset, val_dataset, test_dataset = get_preprocessing_pipeline(RAW_DATA_DIR)\n",
    "\n",
    "print(f\"Train dataset size: {len(train_dataset)}\")\n",
    "print(f\"Validation dataset size: {len(val_dataset)}\")\n",
    "print(f\"Test dataset size: {len(test_dataset)}\")"
   ]
  },
  {
   "cell_type": "markdown",
   "id": "4e20894a",
   "metadata": {},
   "source": [
    "# Define the model to edit"
   ]
  },
  {
   "cell_type": "code",
   "execution_count": null,
   "id": "76177674",
   "metadata": {},
   "outputs": [],
   "source": [
    "device = torch.device(\"cuda\" if torch.cuda.is_available() else \"cpu\")\n",
    "print(f\"Using device: {device}\")\n",
    "\n",
    "CHECKPOINT_DIR = str(PROJ_ROOT / 'checkpoints')\n",
    "model_name = 'yamask'\n",
    "\n",
    "# Empty model\n",
    "# Will be replaced with the already trained model from the checkpoint\n",
    "model = BaseDino(head_layers=5, head_hidden_size=512, dropout_rate=0.0, unfreeze_blocks=1)\n",
    "model.to(device)\n",
    "\n",
    "# Hyper-parameters\n",
    "BATCH_SIZE = 128\n",
    "LR = 1e-3\n",
    "\n",
    "# Dataloaders\n",
    "train_dataloader = DataLoader(train_dataset, batch_size = BATCH_SIZE, shuffle = True)\n",
    "val_dataloader = DataLoader(val_dataset, batch_size = BATCH_SIZE, shuffle = False)\n",
    "test_dataloader = DataLoader(test_dataset, batch_size = BATCH_SIZE, shuffle = False)\n",
    "\n",
    "# Create a dummy mask for SparseSGDM\n",
    "mask = [torch.ones_like(p, device = p.device) for p in model.parameters()] # Must be done AFTER the model is moved to the device\n",
    "# Optimizer, scheduler, and loss function\n",
    "optimizer = SparseSGDM(model.parameters(), mask = mask, lr = LR)\n",
    "scheduler = CosineAnnealingLR(optimizer = optimizer, T_max = 20, eta_min = 1e-5)\n",
    "criterion = CrossEntropyLoss()\n",
    "\n",
    "# Load the model\n",
    "model, _ = load(\n",
    "    path = f'{CHECKPOINT_DIR}/Editing/{model_name}.pth',\n",
    "    model_class = BaseDino,\n",
    "    optimizer = optimizer,\n",
    "    scheduler = scheduler,\n",
    "    device = device\n",
    ")\n",
    "model.to(device) # manually move the model to the device\n",
    "print(f'\\nModel {model_name} loaded from checkpoint.')"
   ]
  },
  {
   "cell_type": "code",
   "execution_count": null,
   "id": "4a39eb27",
   "metadata": {},
   "outputs": [],
   "source": [
    "# Compute test accuracy\n",
    "test_loss, test_accuracy, _ = eval(test_dataloader, model, criterion)\n",
    "\n",
    "print(f'Test loss: {test_loss:.3f}')\n",
    "print(f'Test accuracy: {100*test_accuracy:.2f}%')\n",
    "\n",
    "# Plot training results\n",
    "plot_metrics(path = f\"{CHECKPOINT_DIR}/Editing/{model_name}.loss_acc.json\")"
   ]
  },
  {
   "cell_type": "markdown",
   "id": "b7034237",
   "metadata": {},
   "source": [
    "# Model editing"
   ]
  },
  {
   "cell_type": "markdown",
   "id": "41e73017",
   "metadata": {},
   "source": [
    "## Compute per-class accuracy\n",
    "Find the class in which the model is underperforming"
   ]
  },
  {
   "cell_type": "code",
   "execution_count": null,
   "id": "370cf854",
   "metadata": {},
   "outputs": [],
   "source": [
    "class_acc = per_class_accuracy(test_dataloader, model)\n",
    "print(f'\\nClass accuracy (first 10 classes): {class_acc[:10]}') # Output preview"
   ]
  },
  {
   "cell_type": "code",
   "execution_count": null,
   "id": "7bb3213c",
   "metadata": {},
   "outputs": [],
   "source": [
    "N_worst = 3 # How many classes to fine-tune\n",
    "worst_classes = get_worst_classes(class_acc, N_worst)\n",
    "print(f\"Worst classes: {worst_classes}\")"
   ]
  },
  {
   "cell_type": "code",
   "execution_count": null,
   "id": "b3e93aa4",
   "metadata": {},
   "outputs": [],
   "source": [
    "# Note that the batch size in this case is 32 by default\n",
    "# Since the dataloaders are specific to the classes, a smaller batch size is better\n",
    "classes_dataloaders = build_per_class_dataloaders(train_dataset, worst_classes)"
   ]
  },
  {
   "cell_type": "code",
   "execution_count": null,
   "id": "02ca0ef1",
   "metadata": {},
   "outputs": [],
   "source": [
    "worst_classes = [35, 2]"
   ]
  },
  {
   "cell_type": "markdown",
   "id": "258825ec",
   "metadata": {},
   "source": [
    "## Compute Fisher Sentitivity (per-class)"
   ]
  },
  {
   "cell_type": "code",
   "execution_count": null,
   "id": "1d4c1d03",
   "metadata": {},
   "outputs": [],
   "source": [
    "def compute_score_per_classes(model, classes, classes_dataloaders):\n",
    "    score_per_class = {}\n",
    "\n",
    "    for cls in classes:\n",
    "        print(f\"Computing scores for class {cls}\")\n",
    "        scores = fisher_scores(classes_dataloaders[cls], model)\n",
    "        score_per_class[cls] = scores\n",
    "        \n",
    "    return score_per_class\n",
    "\n",
    "scores_per_class = compute_score_per_classes(model, worst_classes, classes_dataloaders)"
   ]
  },
  {
   "cell_type": "markdown",
   "id": "61038948",
   "metadata": {},
   "source": [
    "## Create Gradient Masks"
   ]
  },
  {
   "cell_type": "code",
   "execution_count": null,
   "id": "cbb2a20d",
   "metadata": {},
   "outputs": [],
   "source": [
    "def compute_masks_per_classes(classes, scores_per_class):\n",
    "    masks_per_class = {}\n",
    "\n",
    "    for cls in classes:\n",
    "        # print(f\"Computing Mask for class {cls}\")\n",
    "        mask = create_gradiend_mask(scores_per_class[cls])\n",
    "        masks_per_class[cls] = mask\n",
    "        \n",
    "    return masks_per_class\n",
    "\n",
    "masks_per_class = compute_masks_per_classes(worst_classes, scores_per_class)"
   ]
  }
 ],
 "metadata": {
  "kernelspec": {
   "display_name": ".venv",
   "language": "python",
   "name": "python3"
  },
  "language_info": {
   "codemirror_mode": {
    "name": "ipython",
    "version": 3
   },
   "file_extension": ".py",
   "mimetype": "text/x-python",
   "name": "python",
   "nbconvert_exporter": "python",
   "pygments_lexer": "ipython3",
   "version": "3.12.6"
  }
 },
 "nbformat": 4,
 "nbformat_minor": 5
}
