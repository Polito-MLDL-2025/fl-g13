{
 "cells": [
  {
   "cell_type": "code",
   "execution_count": null,
   "id": "824c5e11",
   "metadata": {},
   "outputs": [],
   "source": [
    "%load_ext autoreload\n",
    "%autoreload 2"
   ]
  },
  {
   "cell_type": "code",
   "execution_count": null,
   "id": "9c3a8ff6",
   "metadata": {},
   "outputs": [],
   "source": [
    "import torch\n",
    "from torch.nn import CrossEntropyLoss\n",
    "from torch.optim.lr_scheduler import CosineAnnealingLR\n",
    "from torch.utils.data import DataLoader\n",
    "\n",
    "import numpy as np\n",
    "\n",
    "from fl_g13.config import RAW_DATA_DIR, PROJ_ROOT\n",
    "\n",
    "from fl_g13.modeling import train, load, eval, plot_metrics, get_preprocessing_pipeline\n",
    "\n",
    "from fl_g13.architectures import BaseDino\n",
    "\n",
    "from fl_g13.editing import SparseSGDM\n",
    "from fl_g13.editing import per_class_accuracy, get_worst_classes, build_per_class_dataloaders\n",
    "from fl_g13.editing import fisher_scores\n",
    "from fl_g13.editing import create_gradiend_mask, mask_dict_to_list"
   ]
  },
  {
   "cell_type": "code",
   "execution_count": null,
   "id": "9dfe66e0",
   "metadata": {},
   "outputs": [],
   "source": [
    "train_dataset, val_dataset, test_dataset = get_preprocessing_pipeline(RAW_DATA_DIR)\n",
    "\n",
    "print(f\"Train dataset size: {len(train_dataset)}\")\n",
    "print(f\"Validation dataset size: {len(val_dataset)}\")\n",
    "print(f\"Test dataset size: {len(test_dataset)}\")"
   ]
  },
  {
   "cell_type": "markdown",
   "id": "4e20894a",
   "metadata": {},
   "source": [
    "# Define the model to edit"
   ]
  },
  {
   "cell_type": "code",
   "execution_count": null,
   "id": "76177674",
   "metadata": {},
   "outputs": [],
   "source": [
    "device = torch.device(\"cuda\" if torch.cuda.is_available() else \"cpu\")\n",
    "print(f\"Using device: {device}\")\n",
    "\n",
    "CHECKPOINT_DIR = str(PROJ_ROOT / 'checkpoints')\n",
    "model_name = 'arcanine'\n",
    "model_checkpoint_path = f'{CHECKPOINT_DIR}/Editing/{model_name}.pth'\n",
    "model_metrics_path = f'{CHECKPOINT_DIR}/Editing/{model_name}.loss_acc.json'\n",
    "\n",
    "# Empty model\n",
    "# Will be replaced with the already trained model from the checkpoint\n",
    "model = BaseDino(head_layers=3, head_hidden_size=512, dropout_rate=0.0, unfreeze_blocks=1)\n",
    "model.to(device)\n",
    "\n",
    "# Hyper-parameters\n",
    "BATCH_SIZE = 128\n",
    "LR = 1e-3\n",
    "\n",
    "# Dataloaders\n",
    "train_dataloader = DataLoader(train_dataset, batch_size = BATCH_SIZE, shuffle = True)\n",
    "val_dataloader = DataLoader(val_dataset, batch_size = BATCH_SIZE, shuffle = False)\n",
    "test_dataloader = DataLoader(test_dataset, batch_size = BATCH_SIZE, shuffle = False)\n",
    "\n",
    "# Create a dummy mask for SparseSGDM\n",
    "mask = [torch.ones_like(p, device = p.device) for p in model.parameters()] # Must be done AFTER the model is moved to the device\n",
    "# Optimizer, scheduler, and loss function\n",
    "optimizer = SparseSGDM(\n",
    "    model.parameters(), \n",
    "    mask = mask, \n",
    "    lr = LR,\n",
    "    momentum = 0.9,\n",
    "    weight_decay = 1e-5\n",
    ")\n",
    "scheduler = CosineAnnealingLR(\n",
    "    optimizer = optimizer, \n",
    "    T_max = 8, \n",
    "    eta_min = 1e-5\n",
    ")\n",
    "criterion = CrossEntropyLoss()\n",
    "\n",
    "# Load the model\n",
    "model, _ = load(\n",
    "    path = model_checkpoint_path,\n",
    "    model_class = BaseDino,\n",
    "    optimizer = optimizer,\n",
    "    scheduler = scheduler,\n",
    "    device = device\n",
    ")\n",
    "model.to(device) # manually move the model to the device\n",
    "print(f'\\nModel {model_name} loaded from checkpoint.')"
   ]
  },
  {
   "cell_type": "code",
   "execution_count": null,
   "id": "4a39eb27",
   "metadata": {},
   "outputs": [],
   "source": [
    "# Compute test accuracy\n",
    "test_loss, test_accuracy, _ = eval(test_dataloader, model, criterion)\n",
    "\n",
    "print(f'Test loss: {test_loss:.3f}')\n",
    "print(f'Test accuracy: {100*test_accuracy:.2f}%')\n",
    "\n",
    "# Plot training results\n",
    "plot_metrics(path = model_metrics_path)"
   ]
  },
  {
   "cell_type": "markdown",
   "id": "b7034237",
   "metadata": {},
   "source": [
    "# Model editing"
   ]
  },
  {
   "cell_type": "markdown",
   "id": "41e73017",
   "metadata": {},
   "source": [
    "## Compute per-class accuracy\n",
    "Find the class in which the model is underperforming"
   ]
  },
  {
   "cell_type": "code",
   "execution_count": null,
   "id": "370cf854",
   "metadata": {},
   "outputs": [],
   "source": [
    "class_acc = per_class_accuracy(test_dataloader, model)\n",
    "print(f'\\nClass accuracy (first 10 classes): {class_acc[:10]}') # Output preview"
   ]
  },
  {
   "cell_type": "code",
   "execution_count": null,
   "id": "7bb3213c",
   "metadata": {},
   "outputs": [],
   "source": [
    "N_worst = 3 # How many classes to fine-tune\n",
    "worst_classes = get_worst_classes(class_acc, N_worst)\n",
    "print(f\"Worst classes: {worst_classes}\")"
   ]
  },
  {
   "cell_type": "code",
   "execution_count": null,
   "id": "b3e93aa4",
   "metadata": {},
   "outputs": [],
   "source": [
    "# Note that the batch size in this case is 32 by default\n",
    "# Since the dataloaders are specific to the classes, a smaller batch size is better\n",
    "classes_dataloaders = build_per_class_dataloaders(train_dataset, worst_classes)"
   ]
  },
  {
   "cell_type": "markdown",
   "id": "258825ec",
   "metadata": {},
   "source": [
    "## Compute Fisher Sentitivity (per-class)"
   ]
  },
  {
   "cell_type": "code",
   "execution_count": null,
   "id": "1d4c1d03",
   "metadata": {},
   "outputs": [],
   "source": [
    "def compute_score_per_classes(model, classes, classes_dataloaders):\n",
    "    score_per_class = {}\n",
    "\n",
    "    for cls in classes:\n",
    "        print(f\"Computing scores for class {cls}\")\n",
    "        scores = fisher_scores(classes_dataloaders[cls], model)\n",
    "        score_per_class[cls] = scores\n",
    "\n",
    "    return score_per_class\n",
    "\n",
    "scores_per_class = compute_score_per_classes(model, worst_classes, classes_dataloaders)"
   ]
  },
  {
   "cell_type": "markdown",
   "id": "61038948",
   "metadata": {},
   "source": [
    "## Create Gradient Masks"
   ]
  },
  {
   "cell_type": "code",
   "execution_count": null,
   "id": "cbb2a20d",
   "metadata": {},
   "outputs": [],
   "source": [
    "def compute_masks_per_classes(classes, scores_per_class):\n",
    "    global_masks, local_masks = {}, {}\n",
    "\n",
    "    for cls in classes:\n",
    "        # print(f\"Computing Mask for class {cls}\")\n",
    "        global_masks[cls] = create_gradiend_mask(scores_per_class[cls], mask_type = 'global')\n",
    "        local_masks[cls] = create_gradiend_mask(scores_per_class[cls], mask_type = 'local')\n",
    "        \n",
    "    return global_masks, local_masks\n",
    "\n",
    "global_masks, local_masks = compute_masks_per_classes(worst_classes, scores_per_class)"
   ]
  },
  {
   "cell_type": "code",
   "execution_count": null,
   "id": "0914252b",
   "metadata": {},
   "outputs": [],
   "source": [
    "# Convert the masks to a list, as required by SparseSGDM\n",
    "def convert_masks_to_list(classes, masks_per_class):\n",
    "    masks_lists = {}\n",
    "\n",
    "    for cls in classes:\n",
    "        # print(f\"Computing Mask for class {cls}\")\n",
    "        mask = mask_dict_to_list(model, masks_per_class[cls])\n",
    "        masks_lists[cls] = mask\n",
    "        \n",
    "    return masks_lists\n",
    "\n",
    "global_masks_list = convert_masks_to_list(worst_classes, global_masks)\n",
    "local_masks_list = convert_masks_to_list(worst_classes, local_masks)"
   ]
  },
  {
   "cell_type": "markdown",
   "id": "e17d234a",
   "metadata": {},
   "source": [
    "## Fine tune the model on the choosen classes"
   ]
  },
  {
   "cell_type": "code",
   "execution_count": null,
   "id": "808e9fb4",
   "metadata": {},
   "outputs": [],
   "source": [
    "import json\n",
    "\n",
    "def fine_tuned_model(name, train_dataloader, mask, optimizer, scheduler, criterion, epochs = 10, verbose = 1):\n",
    "    device = torch.device(\"cuda\" if torch.cuda.is_available() else \"cpu\")\n",
    "\n",
    "    # Load the model\n",
    "    new_model, _ = load(\n",
    "        path = model_checkpoint_path,\n",
    "        model_class = BaseDino,\n",
    "        optimizer = optimizer,\n",
    "        scheduler = scheduler,\n",
    "        device = device\n",
    "    )\n",
    "    new_model.to(device) # manually move the model to the device\n",
    "\n",
    "    # Create a new SparseSGDM optimizer\n",
    "    new_optimizer = SparseSGDM(\n",
    "        new_model.parameters(), \n",
    "        mask = mask, \n",
    "        lr = LR,\n",
    "        momentum = 0.9,\n",
    "        weight_decay = 1e-5\n",
    "    )\n",
    "\n",
    "    _, _, _, _ = train(\n",
    "        checkpoint_dir = CHECKPOINT_DIR,\n",
    "        name = name,\n",
    "        start_epoch = 1,\n",
    "        num_epochs = epochs,\n",
    "        save_every = epochs,\n",
    "        backup_every = None,\n",
    "        train_dataloader = train_dataloader,\n",
    "        val_dataloader = None,\n",
    "        model = new_model,\n",
    "        criterion = criterion,\n",
    "        optimizer = new_optimizer,\n",
    "        scheduler = None, # No scheduler needed, too few epochs\n",
    "        verbose = verbose\n",
    "    )\n",
    "\n",
    "    # Compute per-class accuracy\n",
    "    class_acc = per_class_accuracy(test_dataloader, new_model)\n",
    "\n",
    "    return class_acc\n",
    "\n",
    "def fine_tune(classes, classes_dataloaders, masks, optimizer, scheduler, criterion, mask_type):\n",
    "    # Fine-tune the model on the worst classes\n",
    "    for cls in classes:\n",
    "        print(f\"Fine-tuning model on class {cls}\")\n",
    "\n",
    "        # Get the dataloaders for the current class\n",
    "        train_dataloader = classes_dataloaders[cls]\n",
    "\n",
    "        # Get the mask for the current class\n",
    "        mask = masks[cls]\n",
    "\n",
    "        # Fine-tune the model\n",
    "        new_class_acc = fine_tuned_model(\n",
    "            name = f'{model_name}_{cls}_{mask_type}',\n",
    "            train_dataloader = train_dataloader,\n",
    "            mask = mask,\n",
    "            optimizer = optimizer,\n",
    "            scheduler = scheduler,\n",
    "            criterion = criterion,\n",
    "            epochs = 15\n",
    "        )\n",
    "\n",
    "        # Compare results with the original model\n",
    "        new_test_accuracy = np.mean(new_class_acc)\n",
    "\n",
    "        print(f'\\nTest accuracy: {100*new_test_accuracy:.2f}% (original: {100*test_accuracy:.2f}%)')\n",
    "        # Print print accuracy for the specific class\n",
    "        print(f'Accuracy for class {cls}: {100*new_class_acc[cls]:.2f}% (original: {100*class_acc[cls]:.2f}%)')\n",
    "        # Print other classes accuracy if the new model is worse than the original\n",
    "        count = sum([1 for i in range(len(new_class_acc)) if new_class_acc[i] < class_acc[i] and i != cls])\n",
    "        print(f'New model is worse in {count} classes, wrt the original model')\n",
    "        \n",
    "        # Save to file the per-class accuracy difference\n",
    "        # Create a dictionary with new_class_acc, class_acc, and class_idx\n",
    "        accuracy_data = {\n",
    "            \"class_idx\": list(range(100)),\n",
    "            \"new_class_acc\": list(new_class_acc),\n",
    "            \"class_acc\": list(class_acc)\n",
    "        }\n",
    "        output_file = f\"{CHECKPOINT_DIR}/Editing/{model_name}/accuracy_comparison_{cls}_{mask_type}.json\"\n",
    "\n",
    "        # Save the dictionary to a JSON file\n",
    "        with open(output_file, \"w\") as json_file:\n",
    "            json.dump(accuracy_data, json_file, indent=4)\n",
    "        print(f\"Accuracy data saved to {output_file}\\n\\n\")\n",
    "        \n",
    "print('Fine-tune with global masks')\n",
    "fine_tune(worst_classes, classes_dataloaders, global_masks_list, optimizer, scheduler, criterion, 'global')\n",
    "print('\\n\\nFine-tune with local masks')\n",
    "fine_tune(worst_classes, classes_dataloaders, local_masks_list, optimizer, scheduler, criterion, 'local')"
   ]
  }
 ],
 "metadata": {
  "kernelspec": {
   "display_name": ".venv",
   "language": "python",
   "name": "python3"
  },
  "language_info": {
   "codemirror_mode": {
    "name": "ipython",
    "version": 3
   },
   "file_extension": ".py",
   "mimetype": "text/x-python",
   "name": "python",
   "nbconvert_exporter": "python",
   "pygments_lexer": "ipython3",
   "version": "3.12.6"
  }
 },
 "nbformat": 4,
 "nbformat_minor": 5
}
