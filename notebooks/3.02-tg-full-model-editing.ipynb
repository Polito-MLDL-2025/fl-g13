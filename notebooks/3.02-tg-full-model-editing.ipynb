{
 "cells": [
  {
   "cell_type": "code",
   "execution_count": 1,
   "id": "7f6141bf",
   "metadata": {},
   "outputs": [],
   "source": [
    "%load_ext autoreload\n",
    "%autoreload 2"
   ]
  },
  {
   "cell_type": "code",
   "execution_count": 2,
   "id": "897d39b4",
   "metadata": {},
   "outputs": [
    {
     "name": "stderr",
     "output_type": "stream",
     "text": [
      "\u001b[32m2025-06-24 16:36:38.398\u001b[0m | \u001b[1mINFO    \u001b[0m | \u001b[36mfl_g13.config\u001b[0m:\u001b[36m<module>\u001b[0m:\u001b[36m11\u001b[0m - \u001b[1mPROJ_ROOT path is: C:\\Users\\ciovi\\Desktop\\coding\\mldl\\fl-g13\u001b[0m\n"
     ]
    }
   ],
   "source": [
    "import torch\n",
    "from torch.nn import CrossEntropyLoss\n",
    "from torch.optim.lr_scheduler import CosineAnnealingLR\n",
    "from torch.utils.data import DataLoader\n",
    "\n",
    "from fl_g13.config import RAW_DATA_DIR\n",
    "\n",
    "from fl_g13.modeling import train, load, eval, get_preprocessing_pipeline\n",
    "\n",
    "from fl_g13.architectures import BaseDino\n",
    "\n",
    "from fl_g13.editing import SparseSGDM\n",
    "from fl_g13.editing import create_mask, mask_dict_to_list\n",
    "\n",
    "import dotenv"
   ]
  },
  {
   "cell_type": "code",
   "execution_count": 3,
   "id": "44323213",
   "metadata": {},
   "outputs": [
    {
     "name": "stdout",
     "output_type": "stream",
     "text": [
      "Train dataset size: 40000\n",
      "Validation dataset size: 10000\n",
      "Test dataset size: 10000\n"
     ]
    }
   ],
   "source": [
    "dotenv.load_dotenv()\n",
    "\n",
    "train_dataset, val_dataset, test_dataset = get_preprocessing_pipeline(RAW_DATA_DIR)\n",
    "\n",
    "print(f\"Train dataset size: {len(train_dataset)}\")\n",
    "print(f\"Validation dataset size: {len(val_dataset)}\")\n",
    "print(f\"Test dataset size: {len(test_dataset)}\")"
   ]
  },
  {
   "cell_type": "markdown",
   "id": "3b3e31c2",
   "metadata": {},
   "source": [
    "# Define model to edit"
   ]
  },
  {
   "cell_type": "code",
   "execution_count": 4,
   "id": "bba9d787",
   "metadata": {},
   "outputs": [
    {
     "name": "stdout",
     "output_type": "stream",
     "text": [
      "Using device: cuda\n"
     ]
    },
    {
     "name": "stderr",
     "output_type": "stream",
     "text": [
      "Using cache found in C:\\Users\\ciovi/.cache\\torch\\hub\\facebookresearch_dino_main\n"
     ]
    },
    {
     "name": "stdout",
     "output_type": "stream",
     "text": [
      "🔍 Loading checkpoint from /Users/ciovi/Desktop/coding/mldl/fl-g13/checkpoints/arcanine/arcanine_BaseDino_epoch_8.pth\n",
      "📦 Model class in checkpoint: BaseDino\n",
      "⚙️ Optimizer class in checkpoint: SparseSGDM\n",
      "📈 Scheduler class in checkpoint: CosineAnnealingLR\n",
      "🔧 Model configuration: {'variant': 'dino_vits16', 'dropout_rate': 0.0, 'head_hidden_size': 512, 'head_layers': 3, 'num_classes': 100, 'unfreeze_blocks': 1, 'activation_fn': 'GELU', 'pretrained': True}\n"
     ]
    },
    {
     "name": "stderr",
     "output_type": "stream",
     "text": [
      "Using cache found in C:\\Users\\ciovi/.cache\\torch\\hub\\facebookresearch_dino_main\n",
      "Using cache found in C:\\Users\\ciovi/.cache\\torch\\hub\\facebookresearch_dino_main\n"
     ]
    },
    {
     "name": "stdout",
     "output_type": "stream",
     "text": [
      "➡️ Moved model to device: cuda\n",
      "✅ Loaded checkpoint from /Users/ciovi/Desktop/coding/mldl/fl-g13/checkpoints/arcanine/arcanine_BaseDino_epoch_8.pth, resuming at epoch 9\n"
     ]
    }
   ],
   "source": [
    "# Move to CUDA\n",
    "device = torch.device(\"cuda\" if torch.cuda.is_available() else \"cpu\")\n",
    "print(f\"Using device: {device}\")\n",
    "\n",
    "# Settings\n",
    "name=\"arcanine\"\n",
    "CHECKPOINT_DIR = dotenv.dotenv_values()[\"CHECKPOINT_DIR\"]\n",
    "start_epoch = 1\n",
    "num_epochs = 30\n",
    "save_every = 1\n",
    "backup_every = None\n",
    "\n",
    "# Model Hyper-parameters\n",
    "head_layers = 3\n",
    "head_hidden_size = 512\n",
    "dropout_rate = 0.0\n",
    "unfreeze_blocks = 1\n",
    "\n",
    "# Training Hyper-parameters\n",
    "batch_size = 128\n",
    "lr = 1e-3\n",
    "momentum = 0.9\n",
    "weight_decay = 1e-5\n",
    "T_max = 8\n",
    "eta_min = 1e-5\n",
    "\n",
    "# Dataloaders\n",
    "train_dataloader = DataLoader(train_dataset, batch_size=batch_size, shuffle=True)\n",
    "val_dataloader = DataLoader(val_dataset, batch_size=batch_size, shuffle=False)\n",
    "test_dataloader = DataLoader(test_dataset, batch_size=batch_size, shuffle=False)\n",
    "\n",
    "# Model\n",
    "model = BaseDino(\n",
    "    head_layers=head_layers, \n",
    "    head_hidden_size=head_hidden_size, \n",
    "    dropout_rate=dropout_rate, \n",
    "    unfreeze_blocks=unfreeze_blocks\n",
    "    )\n",
    "model.to(device)\n",
    "\n",
    "# Optimizer, scheduler, and loss function\n",
    "mask = [torch.ones_like(p, device=p.device) for p in model.parameters()] # Must be done AFTER the model is moved to CUDA\n",
    "optimizer = SparseSGDM(\n",
    "    model.parameters(),\n",
    "    mask=mask,\n",
    "    lr=lr,\n",
    "    momentum=momentum,\n",
    "    weight_decay=weight_decay\n",
    "    )\n",
    "scheduler = CosineAnnealingLR(\n",
    "    optimizer=optimizer, \n",
    "    T_max=T_max, \n",
    "    eta_min=eta_min\n",
    "    )\n",
    "criterion = CrossEntropyLoss()\n",
    "\n",
    "loading_epoch = 8\n",
    "loading_model_path =  f\"{CHECKPOINT_DIR}/{name}/{name}_BaseDino_epoch_{loading_epoch}.pth\"\n",
    "model, start_epoch = load(\n",
    "    loading_model_path,\n",
    "    model_class=BaseDino,\n",
    "    device=device,\n",
    "    optimizer=optimizer,\n",
    "    scheduler=scheduler,\n",
    "    verbose=True\n",
    ")\n",
    "model.to(device)\n",
    "\n",
    "model_metrics_path=f\"{CHECKPOINT_DIR}/{name}/{name}_BaseDino_epoch_{loading_epoch}.loss_acc.json\""
   ]
  },
  {
   "cell_type": "markdown",
   "id": "639ff260",
   "metadata": {},
   "source": [
    "# Define model editing"
   ]
  },
  {
   "cell_type": "markdown",
   "id": "84fdc702",
   "metadata": {},
   "source": [
    "## Create mask"
   ]
  },
  {
   "cell_type": "code",
   "execution_count": 5,
   "id": "aad0ad28",
   "metadata": {},
   "outputs": [],
   "source": [
    "import os\n",
    "\n",
    "def get_centralized_model_mask(model, dataloader, sparsity, mask_type, calibration_rounds, file_path = 'centralized_model_mask.pth', verbose = False):\n",
    "    if file_path and os.path.isfile(file_path):\n",
    "        if verbose:\n",
    "            print(f'[CMM] Found {file_path}. Loading mask from memory')\n",
    "            \n",
    "        return torch.load(file_path)\n",
    "    \n",
    "    # else    \n",
    "    if verbose:\n",
    "        print('[CMM] Computing mask')\n",
    "    mask = create_mask(\n",
    "        dataloader, \n",
    "        model, \n",
    "        sparsity = sparsity, \n",
    "        mask_type = mask_type, \n",
    "        rounds = calibration_rounds, \n",
    "        verbose = verbose\n",
    "    )\n",
    "    \n",
    "    if verbose:\n",
    "        print(f'[CMM] Saving the mask at \"{file_path}\"')\n",
    "    torch.save(mask, file_path)\n",
    "    return mask"
   ]
  },
  {
   "cell_type": "code",
   "execution_count": 6,
   "id": "d33f16e8",
   "metadata": {},
   "outputs": [
    {
     "name": "stdout",
     "output_type": "stream",
     "text": [
      "[CMM] Computing mask\n",
      "Computing calibrated local mask for 3 rounds with target sparsity (0.70).\n",
      "Round 1/3.\n",
      "\tCurrent round density 66.94%\n",
      "\tComputing the masked fisher score\n"
     ]
    },
    {
     "name": "stderr",
     "output_type": "stream",
     "text": [
      "Fisher Score: 100%|██████████| 2500/2500 [02:19<00:00, 17.87batch/s]\n"
     ]
    },
    {
     "name": "stdout",
     "output_type": "stream",
     "text": [
      "\tUpdating the mask\n",
      "Round 2/3.\n",
      "\tCurrent round density 44.81%\n",
      "\tComputing the masked fisher score\n"
     ]
    },
    {
     "name": "stderr",
     "output_type": "stream",
     "text": [
      "Fisher Score: 100%|██████████| 2500/2500 [02:19<00:00, 17.94batch/s]\n"
     ]
    },
    {
     "name": "stdout",
     "output_type": "stream",
     "text": [
      "\tUpdating the mask\n",
      "Round 3/3.\n",
      "\tCurrent round density 30.00%\n",
      "\tComputing the masked fisher score\n"
     ]
    },
    {
     "name": "stderr",
     "output_type": "stream",
     "text": [
      "Fisher Score: 100%|██████████| 2500/2500 [02:19<00:00, 17.97batch/s]\n"
     ]
    },
    {
     "name": "stdout",
     "output_type": "stream",
     "text": [
      "\tUpdating the mask\n",
      "[CMM] Saving the mask at \"/Users/ciovi/Desktop/coding/mldl/fl-g13/checkpoints/masks/arcanine_8_local_0.7_3.pth\"\n"
     ]
    }
   ],
   "source": [
    "sparsity = .7\n",
    "mask_type = 'local'\n",
    "calibration_rounds = 3\n",
    "fisher_dataloader = DataLoader(train_dataset, batch_size = 16, shuffle=True)\n",
    "\n",
    "me_model_name = f'{name}_{loading_epoch}_{mask_type}_{sparsity}_{calibration_rounds}'\n",
    "file_path = CHECKPOINT_DIR + f'/masks/{me_model_name}.pth'\n",
    "\n",
    "# Unfreeze the model before computing the mask\n",
    "unfreeze_blocks = 12\n",
    "for param in model.backbone.blocks[-unfreeze_blocks:].parameters():\n",
    "    param.requires_grad = True\n",
    "mask = get_centralized_model_mask(model, fisher_dataloader, sparsity, mask_type, calibration_rounds, file_path, verbose = True)\n",
    "mask_list = mask_dict_to_list(model, mask)"
   ]
  },
  {
   "cell_type": "markdown",
   "id": "37f8de3a",
   "metadata": {},
   "source": [
    "# Fine-tune the model"
   ]
  },
  {
   "cell_type": "code",
   "execution_count": 7,
   "id": "a85ab941",
   "metadata": {},
   "outputs": [],
   "source": [
    "def fine_tune(\n",
    "    starting_model_path, \n",
    "    model_name, \n",
    "    train_dataloader, \n",
    "    test_dataloader, \n",
    "    val_dataloader, \n",
    "    mask, \n",
    "    optimizer, \n",
    "    scheduler, \n",
    "    criterion, \n",
    "    epochs = 10, \n",
    "    verbose = 1\n",
    "):\n",
    "    device = torch.device(\"cuda\" if torch.cuda.is_available() else \"cpu\")\n",
    "\n",
    "    # Load the model\n",
    "    new_model, start_epoch = load(\n",
    "        path = starting_model_path,\n",
    "        model_class = BaseDino,\n",
    "        optimizer = optimizer,\n",
    "        scheduler = scheduler,\n",
    "        device = device\n",
    "    )\n",
    "    new_model.to(device) # manually move the model to the device\n",
    "\n",
    "    # unfreeze the model\n",
    "    for param in new_model.backbone.blocks[-unfreeze_blocks:].parameters():\n",
    "        param.requires_grad = True\n",
    "\n",
    "    # Create a new SparseSGDM optimizer\n",
    "    new_optimizer = SparseSGDM(\n",
    "        new_model.parameters(), \n",
    "        mask = mask, \n",
    "        lr = lr,\n",
    "        momentum = momentum,\n",
    "        weight_decay = weight_decay\n",
    "    )\n",
    "\n",
    "    try: \n",
    "        _, _, _, _ = train(\n",
    "            checkpoint_dir = f'{CHECKPOINT_DIR}/{model_name}',\n",
    "            name = model_name,\n",
    "            start_epoch = start_epoch,\n",
    "            num_epochs = epochs,\n",
    "            save_every = 1,\n",
    "            backup_every = None,\n",
    "            train_dataloader = train_dataloader,\n",
    "            val_dataloader = val_dataloader,\n",
    "            model = new_model,\n",
    "            criterion = criterion,\n",
    "            optimizer = new_optimizer,\n",
    "            scheduler = scheduler,\n",
    "            verbose = verbose,\n",
    "            with_model_dir = False\n",
    "        )\n",
    "    except KeyboardInterrupt:\n",
    "        print(\"Training interrupted manually.\")\n",
    "\n",
    "    except Exception as e:\n",
    "        print(f\"Training stopped due to error: {e}\")\n",
    "\n",
    "    # Final eval\n",
    "    test_loss, test_accuracy, _ = eval(dataloader=test_dataloader, model=new_model, criterion=criterion)\n",
    "\n",
    "    return test_loss, test_accuracy"
   ]
  },
  {
   "cell_type": "code",
   "execution_count": 8,
   "id": "15eb1708",
   "metadata": {},
   "outputs": [
    {
     "name": "stderr",
     "output_type": "stream",
     "text": [
      "Using cache found in C:\\Users\\ciovi/.cache\\torch\\hub\\facebookresearch_dino_main\n",
      "Using cache found in C:\\Users\\ciovi/.cache\\torch\\hub\\facebookresearch_dino_main\n"
     ]
    },
    {
     "name": "stdout",
     "output_type": "stream",
     "text": [
      "✅ Loaded checkpoint from /Users/ciovi/Desktop/coding/mldl/fl-g13/checkpoints/arcanine/arcanine_BaseDino_epoch_8.pth, resuming at epoch 9\n",
      "Prefix/name for the model was provided: arcanine_8_local_0.7_3\n"
     ]
    },
    {
     "name": "stderr",
     "output_type": "stream",
     "text": [
      "Training progress: 100%|██████████| 313/313 [02:44<00:00,  1.90batch/s]\n"
     ]
    },
    {
     "name": "stdout",
     "output_type": "stream",
     "text": [
      "🚀 Epoch 9/30 (30.00%) Completed\n",
      "\t📊 Training Loss: 0.2858\n",
      "\t✅ Training Accuracy: 91.02%\n",
      "\t⏳ Elapsed Time: 164.32s | ETA: 3450.71s\n",
      "\t🕒 Completed At: 16:46\n"
     ]
    },
    {
     "name": "stderr",
     "output_type": "stream",
     "text": [
      "Eval progress: 100%|██████████| 79/79 [00:24<00:00,  3.20batch/s]\n"
     ]
    },
    {
     "name": "stdout",
     "output_type": "stream",
     "text": [
      "🔍 Validation Results:\n",
      "\t📉 Validation Loss: 0.7315\n",
      "\t🎯 Validation Accuracy: 79.96%\n",
      "💾 Saved checkpoint at: /Users/ciovi/Desktop/coding/mldl/fl-g13/checkpoints/arcanine_8_local_0.7_3\\arcanine_8_local_0.7_3_BaseDino_epoch_9.pth\n",
      "💾 Saved losses and accuracies (training and validation) at: /Users/ciovi/Desktop/coding/mldl/fl-g13/checkpoints/arcanine_8_local_0.7_3\\arcanine_8_local_0.7_3_BaseDino_epoch_9.loss_acc.json\n",
      "\n"
     ]
    },
    {
     "name": "stderr",
     "output_type": "stream",
     "text": [
      "Training progress: 100%|██████████| 313/313 [02:44<00:00,  1.91batch/s]\n"
     ]
    },
    {
     "name": "stdout",
     "output_type": "stream",
     "text": [
      "🚀 Epoch 10/30 (33.33%) Completed\n",
      "\t📊 Training Loss: 0.1867\n",
      "\t✅ Training Accuracy: 94.42%\n",
      "\t⏳ Elapsed Time: 164.27s | ETA: 3285.48s\n",
      "\t🕒 Completed At: 16:50\n"
     ]
    },
    {
     "name": "stderr",
     "output_type": "stream",
     "text": [
      "Eval progress: 100%|██████████| 79/79 [00:24<00:00,  3.19batch/s]\n"
     ]
    },
    {
     "name": "stdout",
     "output_type": "stream",
     "text": [
      "🔍 Validation Results:\n",
      "\t📉 Validation Loss: 0.6626\n",
      "\t🎯 Validation Accuracy: 81.53%\n",
      "💾 Saved checkpoint at: /Users/ciovi/Desktop/coding/mldl/fl-g13/checkpoints/arcanine_8_local_0.7_3\\arcanine_8_local_0.7_3_BaseDino_epoch_10.pth\n",
      "💾 Saved losses and accuracies (training and validation) at: /Users/ciovi/Desktop/coding/mldl/fl-g13/checkpoints/arcanine_8_local_0.7_3\\arcanine_8_local_0.7_3_BaseDino_epoch_10.loss_acc.json\n",
      "\n"
     ]
    },
    {
     "name": "stderr",
     "output_type": "stream",
     "text": [
      "Training progress: 100%|██████████| 313/313 [02:44<00:00,  1.91batch/s]\n"
     ]
    },
    {
     "name": "stdout",
     "output_type": "stream",
     "text": [
      "🚀 Epoch 11/30 (36.67%) Completed\n",
      "\t📊 Training Loss: 0.1276\n",
      "\t✅ Training Accuracy: 96.62%\n",
      "\t⏳ Elapsed Time: 164.30s | ETA: 3121.79s\n",
      "\t🕒 Completed At: 16:53\n"
     ]
    },
    {
     "name": "stderr",
     "output_type": "stream",
     "text": [
      "Eval progress: 100%|██████████| 79/79 [00:24<00:00,  3.19batch/s]\n"
     ]
    },
    {
     "name": "stdout",
     "output_type": "stream",
     "text": [
      "🔍 Validation Results:\n",
      "\t📉 Validation Loss: 0.6536\n",
      "\t🎯 Validation Accuracy: 81.81%\n",
      "💾 Saved checkpoint at: /Users/ciovi/Desktop/coding/mldl/fl-g13/checkpoints/arcanine_8_local_0.7_3\\arcanine_8_local_0.7_3_BaseDino_epoch_11.pth\n",
      "💾 Saved losses and accuracies (training and validation) at: /Users/ciovi/Desktop/coding/mldl/fl-g13/checkpoints/arcanine_8_local_0.7_3\\arcanine_8_local_0.7_3_BaseDino_epoch_11.loss_acc.json\n",
      "\n"
     ]
    },
    {
     "name": "stderr",
     "output_type": "stream",
     "text": [
      "Training progress: 100%|██████████| 313/313 [02:44<00:00,  1.90batch/s]\n"
     ]
    },
    {
     "name": "stdout",
     "output_type": "stream",
     "text": [
      "🚀 Epoch 12/30 (40.00%) Completed\n",
      "\t📊 Training Loss: 0.0954\n",
      "\t✅ Training Accuracy: 97.82%\n",
      "\t⏳ Elapsed Time: 164.31s | ETA: 2957.66s\n",
      "\t🕒 Completed At: 16:56\n"
     ]
    },
    {
     "name": "stderr",
     "output_type": "stream",
     "text": [
      "Eval progress: 100%|██████████| 79/79 [00:24<00:00,  3.19batch/s]\n"
     ]
    },
    {
     "name": "stdout",
     "output_type": "stream",
     "text": [
      "🔍 Validation Results:\n",
      "\t📉 Validation Loss: 0.6386\n",
      "\t🎯 Validation Accuracy: 82.26%\n",
      "💾 Saved checkpoint at: /Users/ciovi/Desktop/coding/mldl/fl-g13/checkpoints/arcanine_8_local_0.7_3\\arcanine_8_local_0.7_3_BaseDino_epoch_12.pth\n",
      "💾 Saved losses and accuracies (training and validation) at: /Users/ciovi/Desktop/coding/mldl/fl-g13/checkpoints/arcanine_8_local_0.7_3\\arcanine_8_local_0.7_3_BaseDino_epoch_12.loss_acc.json\n",
      "\n"
     ]
    },
    {
     "name": "stderr",
     "output_type": "stream",
     "text": [
      "Training progress: 100%|██████████| 313/313 [02:44<00:00,  1.90batch/s]\n"
     ]
    },
    {
     "name": "stdout",
     "output_type": "stream",
     "text": [
      "🚀 Epoch 13/30 (43.33%) Completed\n",
      "\t📊 Training Loss: 0.0718\n",
      "\t✅ Training Accuracy: 98.58%\n",
      "\t⏳ Elapsed Time: 164.35s | ETA: 2794.03s\n",
      "\t🕒 Completed At: 16:59\n"
     ]
    },
    {
     "name": "stderr",
     "output_type": "stream",
     "text": [
      "Eval progress: 100%|██████████| 79/79 [00:24<00:00,  3.19batch/s]\n"
     ]
    },
    {
     "name": "stdout",
     "output_type": "stream",
     "text": [
      "🔍 Validation Results:\n",
      "\t📉 Validation Loss: 0.6503\n",
      "\t🎯 Validation Accuracy: 82.10%\n",
      "💾 Saved checkpoint at: /Users/ciovi/Desktop/coding/mldl/fl-g13/checkpoints/arcanine_8_local_0.7_3\\arcanine_8_local_0.7_3_BaseDino_epoch_13.pth\n",
      "💾 Saved losses and accuracies (training and validation) at: /Users/ciovi/Desktop/coding/mldl/fl-g13/checkpoints/arcanine_8_local_0.7_3\\arcanine_8_local_0.7_3_BaseDino_epoch_13.loss_acc.json\n",
      "\n"
     ]
    },
    {
     "name": "stderr",
     "output_type": "stream",
     "text": [
      "Training progress: 100%|██████████| 313/313 [02:44<00:00,  1.91batch/s]\n"
     ]
    },
    {
     "name": "stdout",
     "output_type": "stream",
     "text": [
      "🚀 Epoch 14/30 (46.67%) Completed\n",
      "\t📊 Training Loss: 0.0556\n",
      "\t✅ Training Accuracy: 99.11%\n",
      "\t⏳ Elapsed Time: 164.31s | ETA: 2629.00s\n",
      "\t🕒 Completed At: 17:02\n"
     ]
    },
    {
     "name": "stderr",
     "output_type": "stream",
     "text": [
      "Eval progress: 100%|██████████| 79/79 [00:24<00:00,  3.19batch/s]\n"
     ]
    },
    {
     "name": "stdout",
     "output_type": "stream",
     "text": [
      "🔍 Validation Results:\n",
      "\t📉 Validation Loss: 0.6379\n",
      "\t🎯 Validation Accuracy: 82.73%\n",
      "💾 Saved checkpoint at: /Users/ciovi/Desktop/coding/mldl/fl-g13/checkpoints/arcanine_8_local_0.7_3\\arcanine_8_local_0.7_3_BaseDino_epoch_14.pth\n",
      "💾 Saved losses and accuracies (training and validation) at: /Users/ciovi/Desktop/coding/mldl/fl-g13/checkpoints/arcanine_8_local_0.7_3\\arcanine_8_local_0.7_3_BaseDino_epoch_14.loss_acc.json\n",
      "\n"
     ]
    },
    {
     "name": "stderr",
     "output_type": "stream",
     "text": [
      "Training progress: 100%|██████████| 313/313 [02:44<00:00,  1.90batch/s]\n"
     ]
    },
    {
     "name": "stdout",
     "output_type": "stream",
     "text": [
      "🚀 Epoch 15/30 (50.00%) Completed\n",
      "\t📊 Training Loss: 0.0438\n",
      "\t✅ Training Accuracy: 99.34%\n",
      "\t⏳ Elapsed Time: 164.47s | ETA: 2466.98s\n",
      "\t🕒 Completed At: 17:05\n"
     ]
    },
    {
     "name": "stderr",
     "output_type": "stream",
     "text": [
      "Eval progress: 100%|██████████| 79/79 [00:24<00:00,  3.19batch/s]\n"
     ]
    },
    {
     "name": "stdout",
     "output_type": "stream",
     "text": [
      "🔍 Validation Results:\n",
      "\t📉 Validation Loss: 0.6577\n",
      "\t🎯 Validation Accuracy: 82.45%\n",
      "💾 Saved checkpoint at: /Users/ciovi/Desktop/coding/mldl/fl-g13/checkpoints/arcanine_8_local_0.7_3\\arcanine_8_local_0.7_3_BaseDino_epoch_15.pth\n",
      "💾 Saved losses and accuracies (training and validation) at: /Users/ciovi/Desktop/coding/mldl/fl-g13/checkpoints/arcanine_8_local_0.7_3\\arcanine_8_local_0.7_3_BaseDino_epoch_15.loss_acc.json\n",
      "\n"
     ]
    },
    {
     "name": "stderr",
     "output_type": "stream",
     "text": [
      "Training progress: 100%|██████████| 313/313 [02:44<00:00,  1.90batch/s]\n"
     ]
    },
    {
     "name": "stdout",
     "output_type": "stream",
     "text": [
      "🚀 Epoch 16/30 (53.33%) Completed\n",
      "\t📊 Training Loss: 0.0349\n",
      "\t✅ Training Accuracy: 99.60%\n",
      "\t⏳ Elapsed Time: 164.40s | ETA: 2301.59s\n",
      "\t🕒 Completed At: 17:09\n"
     ]
    },
    {
     "name": "stderr",
     "output_type": "stream",
     "text": [
      "Eval progress: 100%|██████████| 79/79 [00:24<00:00,  3.19batch/s]\n"
     ]
    },
    {
     "name": "stdout",
     "output_type": "stream",
     "text": [
      "🔍 Validation Results:\n",
      "\t📉 Validation Loss: 0.6432\n",
      "\t🎯 Validation Accuracy: 82.91%\n",
      "💾 Saved checkpoint at: /Users/ciovi/Desktop/coding/mldl/fl-g13/checkpoints/arcanine_8_local_0.7_3\\arcanine_8_local_0.7_3_BaseDino_epoch_16.pth\n",
      "💾 Saved losses and accuracies (training and validation) at: /Users/ciovi/Desktop/coding/mldl/fl-g13/checkpoints/arcanine_8_local_0.7_3\\arcanine_8_local_0.7_3_BaseDino_epoch_16.loss_acc.json\n",
      "\n"
     ]
    },
    {
     "name": "stderr",
     "output_type": "stream",
     "text": [
      "Training progress: 100%|██████████| 313/313 [02:44<00:00,  1.91batch/s]\n"
     ]
    },
    {
     "name": "stdout",
     "output_type": "stream",
     "text": [
      "🚀 Epoch 17/30 (56.67%) Completed\n",
      "\t📊 Training Loss: 0.0298\n",
      "\t✅ Training Accuracy: 99.69%\n",
      "\t⏳ Elapsed Time: 164.03s | ETA: 2132.44s\n",
      "\t🕒 Completed At: 17:12\n"
     ]
    },
    {
     "name": "stderr",
     "output_type": "stream",
     "text": [
      "Eval progress: 100%|██████████| 79/79 [00:24<00:00,  3.20batch/s]\n"
     ]
    },
    {
     "name": "stdout",
     "output_type": "stream",
     "text": [
      "🔍 Validation Results:\n",
      "\t📉 Validation Loss: 0.6428\n",
      "\t🎯 Validation Accuracy: 83.00%\n",
      "💾 Saved checkpoint at: /Users/ciovi/Desktop/coding/mldl/fl-g13/checkpoints/arcanine_8_local_0.7_3\\arcanine_8_local_0.7_3_BaseDino_epoch_17.pth\n",
      "💾 Saved losses and accuracies (training and validation) at: /Users/ciovi/Desktop/coding/mldl/fl-g13/checkpoints/arcanine_8_local_0.7_3\\arcanine_8_local_0.7_3_BaseDino_epoch_17.loss_acc.json\n",
      "\n"
     ]
    },
    {
     "name": "stderr",
     "output_type": "stream",
     "text": [
      "Training progress: 100%|██████████| 313/313 [02:44<00:00,  1.91batch/s]\n"
     ]
    },
    {
     "name": "stdout",
     "output_type": "stream",
     "text": [
      "🚀 Epoch 18/30 (60.00%) Completed\n",
      "\t📊 Training Loss: 0.0248\n",
      "\t✅ Training Accuracy: 99.78%\n",
      "\t⏳ Elapsed Time: 164.01s | ETA: 1968.12s\n",
      "\t🕒 Completed At: 17:15\n"
     ]
    },
    {
     "name": "stderr",
     "output_type": "stream",
     "text": [
      "Eval progress: 100%|██████████| 79/79 [00:24<00:00,  3.20batch/s]\n"
     ]
    },
    {
     "name": "stdout",
     "output_type": "stream",
     "text": [
      "🔍 Validation Results:\n",
      "\t📉 Validation Loss: 0.6599\n",
      "\t🎯 Validation Accuracy: 82.69%\n",
      "💾 Saved checkpoint at: /Users/ciovi/Desktop/coding/mldl/fl-g13/checkpoints/arcanine_8_local_0.7_3\\arcanine_8_local_0.7_3_BaseDino_epoch_18.pth\n",
      "💾 Saved losses and accuracies (training and validation) at: /Users/ciovi/Desktop/coding/mldl/fl-g13/checkpoints/arcanine_8_local_0.7_3\\arcanine_8_local_0.7_3_BaseDino_epoch_18.loss_acc.json\n",
      "\n"
     ]
    },
    {
     "name": "stderr",
     "output_type": "stream",
     "text": [
      "Training progress: 100%|██████████| 313/313 [02:44<00:00,  1.91batch/s]\n"
     ]
    },
    {
     "name": "stdout",
     "output_type": "stream",
     "text": [
      "🚀 Epoch 19/30 (63.33%) Completed\n",
      "\t📊 Training Loss: 0.0219\n",
      "\t✅ Training Accuracy: 99.81%\n",
      "\t⏳ Elapsed Time: 164.13s | ETA: 1805.38s\n",
      "\t🕒 Completed At: 17:18\n"
     ]
    },
    {
     "name": "stderr",
     "output_type": "stream",
     "text": [
      "Eval progress: 100%|██████████| 79/79 [00:24<00:00,  3.20batch/s]\n"
     ]
    },
    {
     "name": "stdout",
     "output_type": "stream",
     "text": [
      "🔍 Validation Results:\n",
      "\t📉 Validation Loss: 0.6495\n",
      "\t🎯 Validation Accuracy: 83.10%\n",
      "💾 Saved checkpoint at: /Users/ciovi/Desktop/coding/mldl/fl-g13/checkpoints/arcanine_8_local_0.7_3\\arcanine_8_local_0.7_3_BaseDino_epoch_19.pth\n",
      "💾 Saved losses and accuracies (training and validation) at: /Users/ciovi/Desktop/coding/mldl/fl-g13/checkpoints/arcanine_8_local_0.7_3\\arcanine_8_local_0.7_3_BaseDino_epoch_19.loss_acc.json\n",
      "\n"
     ]
    },
    {
     "name": "stderr",
     "output_type": "stream",
     "text": [
      "Training progress: 100%|██████████| 313/313 [02:44<00:00,  1.91batch/s]\n"
     ]
    },
    {
     "name": "stdout",
     "output_type": "stream",
     "text": [
      "🚀 Epoch 20/30 (66.67%) Completed\n",
      "\t📊 Training Loss: 0.0186\n",
      "\t✅ Training Accuracy: 99.88%\n",
      "\t⏳ Elapsed Time: 164.01s | ETA: 1640.14s\n",
      "\t🕒 Completed At: 17:21\n"
     ]
    },
    {
     "name": "stderr",
     "output_type": "stream",
     "text": [
      "Eval progress: 100%|██████████| 79/79 [00:25<00:00,  3.16batch/s]\n"
     ]
    },
    {
     "name": "stdout",
     "output_type": "stream",
     "text": [
      "🔍 Validation Results:\n",
      "\t📉 Validation Loss: 0.6703\n",
      "\t🎯 Validation Accuracy: 82.65%\n",
      "💾 Saved checkpoint at: /Users/ciovi/Desktop/coding/mldl/fl-g13/checkpoints/arcanine_8_local_0.7_3\\arcanine_8_local_0.7_3_BaseDino_epoch_20.pth\n",
      "💾 Saved losses and accuracies (training and validation) at: /Users/ciovi/Desktop/coding/mldl/fl-g13/checkpoints/arcanine_8_local_0.7_3\\arcanine_8_local_0.7_3_BaseDino_epoch_20.loss_acc.json\n",
      "\n"
     ]
    },
    {
     "name": "stderr",
     "output_type": "stream",
     "text": [
      "Training progress: 100%|██████████| 313/313 [02:44<00:00,  1.90batch/s]\n"
     ]
    },
    {
     "name": "stdout",
     "output_type": "stream",
     "text": [
      "🚀 Epoch 21/30 (70.00%) Completed\n",
      "\t📊 Training Loss: 0.0164\n",
      "\t✅ Training Accuracy: 99.88%\n",
      "\t⏳ Elapsed Time: 164.51s | ETA: 1480.59s\n",
      "\t🕒 Completed At: 17:24\n"
     ]
    },
    {
     "name": "stderr",
     "output_type": "stream",
     "text": [
      "Eval progress: 100%|██████████| 79/79 [00:24<00:00,  3.20batch/s]\n"
     ]
    },
    {
     "name": "stdout",
     "output_type": "stream",
     "text": [
      "🔍 Validation Results:\n",
      "\t📉 Validation Loss: 0.6526\n",
      "\t🎯 Validation Accuracy: 83.08%\n",
      "💾 Saved checkpoint at: /Users/ciovi/Desktop/coding/mldl/fl-g13/checkpoints/arcanine_8_local_0.7_3\\arcanine_8_local_0.7_3_BaseDino_epoch_21.pth\n",
      "💾 Saved losses and accuracies (training and validation) at: /Users/ciovi/Desktop/coding/mldl/fl-g13/checkpoints/arcanine_8_local_0.7_3\\arcanine_8_local_0.7_3_BaseDino_epoch_21.loss_acc.json\n",
      "\n"
     ]
    },
    {
     "name": "stderr",
     "output_type": "stream",
     "text": [
      "Training progress: 100%|██████████| 313/313 [02:44<00:00,  1.91batch/s]\n"
     ]
    },
    {
     "name": "stdout",
     "output_type": "stream",
     "text": [
      "🚀 Epoch 22/30 (73.33%) Completed\n",
      "\t📊 Training Loss: 0.0142\n",
      "\t✅ Training Accuracy: 99.92%\n",
      "\t⏳ Elapsed Time: 164.15s | ETA: 1313.16s\n",
      "\t🕒 Completed At: 17:27\n"
     ]
    },
    {
     "name": "stderr",
     "output_type": "stream",
     "text": [
      "Eval progress: 100%|██████████| 79/79 [00:24<00:00,  3.20batch/s]\n"
     ]
    },
    {
     "name": "stdout",
     "output_type": "stream",
     "text": [
      "🔍 Validation Results:\n",
      "\t📉 Validation Loss: 0.6569\n",
      "\t🎯 Validation Accuracy: 83.42%\n",
      "💾 Saved checkpoint at: /Users/ciovi/Desktop/coding/mldl/fl-g13/checkpoints/arcanine_8_local_0.7_3\\arcanine_8_local_0.7_3_BaseDino_epoch_22.pth\n",
      "💾 Saved losses and accuracies (training and validation) at: /Users/ciovi/Desktop/coding/mldl/fl-g13/checkpoints/arcanine_8_local_0.7_3\\arcanine_8_local_0.7_3_BaseDino_epoch_22.loss_acc.json\n",
      "\n"
     ]
    },
    {
     "name": "stderr",
     "output_type": "stream",
     "text": [
      "Training progress: 100%|██████████| 313/313 [02:44<00:00,  1.91batch/s]\n"
     ]
    },
    {
     "name": "stdout",
     "output_type": "stream",
     "text": [
      "🚀 Epoch 23/30 (76.67%) Completed\n",
      "\t📊 Training Loss: 0.0125\n",
      "\t✅ Training Accuracy: 99.93%\n",
      "\t⏳ Elapsed Time: 164.08s | ETA: 1148.56s\n",
      "\t🕒 Completed At: 17:31\n"
     ]
    },
    {
     "name": "stderr",
     "output_type": "stream",
     "text": [
      "Eval progress: 100%|██████████| 79/79 [00:25<00:00,  3.15batch/s]\n"
     ]
    },
    {
     "name": "stdout",
     "output_type": "stream",
     "text": [
      "🔍 Validation Results:\n",
      "\t📉 Validation Loss: 0.6576\n",
      "\t🎯 Validation Accuracy: 83.58%\n",
      "💾 Saved checkpoint at: /Users/ciovi/Desktop/coding/mldl/fl-g13/checkpoints/arcanine_8_local_0.7_3\\arcanine_8_local_0.7_3_BaseDino_epoch_23.pth\n",
      "💾 Saved losses and accuracies (training and validation) at: /Users/ciovi/Desktop/coding/mldl/fl-g13/checkpoints/arcanine_8_local_0.7_3\\arcanine_8_local_0.7_3_BaseDino_epoch_23.loss_acc.json\n",
      "\n"
     ]
    },
    {
     "name": "stderr",
     "output_type": "stream",
     "text": [
      "Training progress: 100%|██████████| 313/313 [02:44<00:00,  1.90batch/s]\n"
     ]
    },
    {
     "name": "stdout",
     "output_type": "stream",
     "text": [
      "🚀 Epoch 24/30 (80.00%) Completed\n",
      "\t📊 Training Loss: 0.0112\n",
      "\t✅ Training Accuracy: 99.94%\n",
      "\t⏳ Elapsed Time: 164.94s | ETA: 989.63s\n",
      "\t🕒 Completed At: 17:34\n"
     ]
    },
    {
     "name": "stderr",
     "output_type": "stream",
     "text": [
      "Eval progress: 100%|██████████| 79/79 [00:24<00:00,  3.20batch/s]\n"
     ]
    },
    {
     "name": "stdout",
     "output_type": "stream",
     "text": [
      "🔍 Validation Results:\n",
      "\t📉 Validation Loss: 0.6454\n",
      "\t🎯 Validation Accuracy: 83.76%\n",
      "💾 Saved checkpoint at: /Users/ciovi/Desktop/coding/mldl/fl-g13/checkpoints/arcanine_8_local_0.7_3\\arcanine_8_local_0.7_3_BaseDino_epoch_24.pth\n",
      "💾 Saved losses and accuracies (training and validation) at: /Users/ciovi/Desktop/coding/mldl/fl-g13/checkpoints/arcanine_8_local_0.7_3\\arcanine_8_local_0.7_3_BaseDino_epoch_24.loss_acc.json\n",
      "\n"
     ]
    },
    {
     "name": "stderr",
     "output_type": "stream",
     "text": [
      "Training progress: 100%|██████████| 313/313 [02:44<00:00,  1.91batch/s]\n"
     ]
    },
    {
     "name": "stdout",
     "output_type": "stream",
     "text": [
      "🚀 Epoch 25/30 (83.33%) Completed\n",
      "\t📊 Training Loss: 0.0106\n",
      "\t✅ Training Accuracy: 99.95%\n",
      "\t⏳ Elapsed Time: 164.13s | ETA: 820.66s\n",
      "\t🕒 Completed At: 17:37\n"
     ]
    },
    {
     "name": "stderr",
     "output_type": "stream",
     "text": [
      "Eval progress: 100%|██████████| 79/79 [00:24<00:00,  3.20batch/s]\n"
     ]
    },
    {
     "name": "stdout",
     "output_type": "stream",
     "text": [
      "🔍 Validation Results:\n",
      "\t📉 Validation Loss: 0.6627\n",
      "\t🎯 Validation Accuracy: 83.36%\n",
      "💾 Saved checkpoint at: /Users/ciovi/Desktop/coding/mldl/fl-g13/checkpoints/arcanine_8_local_0.7_3\\arcanine_8_local_0.7_3_BaseDino_epoch_25.pth\n",
      "💾 Saved losses and accuracies (training and validation) at: /Users/ciovi/Desktop/coding/mldl/fl-g13/checkpoints/arcanine_8_local_0.7_3\\arcanine_8_local_0.7_3_BaseDino_epoch_25.loss_acc.json\n",
      "\n"
     ]
    },
    {
     "name": "stderr",
     "output_type": "stream",
     "text": [
      "Training progress: 100%|██████████| 313/313 [02:44<00:00,  1.91batch/s]\n"
     ]
    },
    {
     "name": "stdout",
     "output_type": "stream",
     "text": [
      "🚀 Epoch 26/30 (86.67%) Completed\n",
      "\t📊 Training Loss: 0.0093\n",
      "\t✅ Training Accuracy: 99.97%\n",
      "\t⏳ Elapsed Time: 164.05s | ETA: 656.21s\n",
      "\t🕒 Completed At: 17:40\n"
     ]
    },
    {
     "name": "stderr",
     "output_type": "stream",
     "text": [
      "Eval progress: 100%|██████████| 79/79 [00:24<00:00,  3.20batch/s]\n"
     ]
    },
    {
     "name": "stdout",
     "output_type": "stream",
     "text": [
      "🔍 Validation Results:\n",
      "\t📉 Validation Loss: 0.6699\n",
      "\t🎯 Validation Accuracy: 83.26%\n",
      "💾 Saved checkpoint at: /Users/ciovi/Desktop/coding/mldl/fl-g13/checkpoints/arcanine_8_local_0.7_3\\arcanine_8_local_0.7_3_BaseDino_epoch_26.pth\n",
      "💾 Saved losses and accuracies (training and validation) at: /Users/ciovi/Desktop/coding/mldl/fl-g13/checkpoints/arcanine_8_local_0.7_3\\arcanine_8_local_0.7_3_BaseDino_epoch_26.loss_acc.json\n",
      "\n"
     ]
    },
    {
     "name": "stderr",
     "output_type": "stream",
     "text": [
      "Training progress: 100%|██████████| 313/313 [02:44<00:00,  1.91batch/s]\n"
     ]
    },
    {
     "name": "stdout",
     "output_type": "stream",
     "text": [
      "🚀 Epoch 27/30 (90.00%) Completed\n",
      "\t📊 Training Loss: 0.0085\n",
      "\t✅ Training Accuracy: 99.96%\n",
      "\t⏳ Elapsed Time: 164.01s | ETA: 492.03s\n",
      "\t🕒 Completed At: 17:43\n"
     ]
    },
    {
     "name": "stderr",
     "output_type": "stream",
     "text": [
      "Eval progress: 100%|██████████| 79/79 [00:24<00:00,  3.19batch/s]\n"
     ]
    },
    {
     "name": "stdout",
     "output_type": "stream",
     "text": [
      "🔍 Validation Results:\n",
      "\t📉 Validation Loss: 0.6712\n",
      "\t🎯 Validation Accuracy: 83.39%\n",
      "💾 Saved checkpoint at: /Users/ciovi/Desktop/coding/mldl/fl-g13/checkpoints/arcanine_8_local_0.7_3\\arcanine_8_local_0.7_3_BaseDino_epoch_27.pth\n",
      "💾 Saved losses and accuracies (training and validation) at: /Users/ciovi/Desktop/coding/mldl/fl-g13/checkpoints/arcanine_8_local_0.7_3\\arcanine_8_local_0.7_3_BaseDino_epoch_27.loss_acc.json\n",
      "\n"
     ]
    },
    {
     "name": "stderr",
     "output_type": "stream",
     "text": [
      "Training progress: 100%|██████████| 313/313 [02:43<00:00,  1.91batch/s]\n"
     ]
    },
    {
     "name": "stdout",
     "output_type": "stream",
     "text": [
      "🚀 Epoch 28/30 (93.33%) Completed\n",
      "\t📊 Training Loss: 0.0081\n",
      "\t✅ Training Accuracy: 99.96%\n",
      "\t⏳ Elapsed Time: 163.98s | ETA: 327.96s\n",
      "\t🕒 Completed At: 17:46\n"
     ]
    },
    {
     "name": "stderr",
     "output_type": "stream",
     "text": [
      "Eval progress: 100%|██████████| 79/79 [00:24<00:00,  3.20batch/s]\n"
     ]
    },
    {
     "name": "stdout",
     "output_type": "stream",
     "text": [
      "🔍 Validation Results:\n",
      "\t📉 Validation Loss: 0.6675\n",
      "\t🎯 Validation Accuracy: 83.54%\n",
      "💾 Saved checkpoint at: /Users/ciovi/Desktop/coding/mldl/fl-g13/checkpoints/arcanine_8_local_0.7_3\\arcanine_8_local_0.7_3_BaseDino_epoch_28.pth\n",
      "💾 Saved losses and accuracies (training and validation) at: /Users/ciovi/Desktop/coding/mldl/fl-g13/checkpoints/arcanine_8_local_0.7_3\\arcanine_8_local_0.7_3_BaseDino_epoch_28.loss_acc.json\n",
      "\n"
     ]
    },
    {
     "name": "stderr",
     "output_type": "stream",
     "text": [
      "Training progress: 100%|██████████| 313/313 [02:46<00:00,  1.88batch/s]\n"
     ]
    },
    {
     "name": "stdout",
     "output_type": "stream",
     "text": [
      "🚀 Epoch 29/30 (96.67%) Completed\n",
      "\t📊 Training Loss: 0.0075\n",
      "\t✅ Training Accuracy: 99.95%\n",
      "\t⏳ Elapsed Time: 166.12s | ETA: 166.12s\n",
      "\t🕒 Completed At: 17:50\n"
     ]
    },
    {
     "name": "stderr",
     "output_type": "stream",
     "text": [
      "Eval progress: 100%|██████████| 79/79 [00:25<00:00,  3.06batch/s]\n"
     ]
    },
    {
     "name": "stdout",
     "output_type": "stream",
     "text": [
      "🔍 Validation Results:\n",
      "\t📉 Validation Loss: 0.6604\n",
      "\t🎯 Validation Accuracy: 84.04%\n",
      "💾 Saved checkpoint at: /Users/ciovi/Desktop/coding/mldl/fl-g13/checkpoints/arcanine_8_local_0.7_3\\arcanine_8_local_0.7_3_BaseDino_epoch_29.pth\n",
      "💾 Saved losses and accuracies (training and validation) at: /Users/ciovi/Desktop/coding/mldl/fl-g13/checkpoints/arcanine_8_local_0.7_3\\arcanine_8_local_0.7_3_BaseDino_epoch_29.loss_acc.json\n",
      "\n"
     ]
    },
    {
     "name": "stderr",
     "output_type": "stream",
     "text": [
      "Training progress: 100%|██████████| 313/313 [02:44<00:00,  1.90batch/s]\n"
     ]
    },
    {
     "name": "stdout",
     "output_type": "stream",
     "text": [
      "🚀 Epoch 30/30 (100.00%) Completed\n",
      "\t📊 Training Loss: 0.0067\n",
      "\t✅ Training Accuracy: 99.97%\n",
      "\t⏳ Elapsed Time: 164.46s | ETA: 0.00s\n",
      "\t🕒 Completed At: 17:53\n"
     ]
    },
    {
     "name": "stderr",
     "output_type": "stream",
     "text": [
      "Eval progress: 100%|██████████| 79/79 [00:24<00:00,  3.20batch/s]\n"
     ]
    },
    {
     "name": "stdout",
     "output_type": "stream",
     "text": [
      "🔍 Validation Results:\n",
      "\t📉 Validation Loss: 0.6601\n",
      "\t🎯 Validation Accuracy: 83.86%\n",
      "💾 Saved checkpoint at: /Users/ciovi/Desktop/coding/mldl/fl-g13/checkpoints/arcanine_8_local_0.7_3\\arcanine_8_local_0.7_3_BaseDino_epoch_30.pth\n",
      "💾 Saved losses and accuracies (training and validation) at: /Users/ciovi/Desktop/coding/mldl/fl-g13/checkpoints/arcanine_8_local_0.7_3\\arcanine_8_local_0.7_3_BaseDino_epoch_30.loss_acc.json\n",
      "\n"
     ]
    },
    {
     "name": "stderr",
     "output_type": "stream",
     "text": [
      "Eval progress: 100%|██████████| 79/79 [00:24<00:00,  3.25batch/s]\n"
     ]
    }
   ],
   "source": [
    "# Model editing\n",
    "me_test_loss, me_test_acc = fine_tune(\n",
    "    starting_model_path = loading_model_path,\n",
    "    model_name = me_model_name,\n",
    "    train_dataloader = train_dataloader,\n",
    "    test_dataloader = test_dataloader,\n",
    "    val_dataloader = val_dataloader,\n",
    "    mask = mask_list,\n",
    "    optimizer = optimizer,\n",
    "    scheduler = scheduler,\n",
    "    criterion = criterion,\n",
    "    epochs = num_epochs - loading_epoch, # to get to 30\n",
    "    verbose = 1\n",
    ")"
   ]
  }
 ],
 "metadata": {
  "kernelspec": {
   "display_name": ".venv",
   "language": "python",
   "name": "python3"
  },
  "language_info": {
   "codemirror_mode": {
    "name": "ipython",
    "version": 3
   },
   "file_extension": ".py",
   "mimetype": "text/x-python",
   "name": "python",
   "nbconvert_exporter": "python",
   "pygments_lexer": "ipython3",
   "version": "3.10.0"
  }
 },
 "nbformat": 4,
 "nbformat_minor": 5
}
