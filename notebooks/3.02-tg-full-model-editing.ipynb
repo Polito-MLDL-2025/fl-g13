{
 "cells": [
  {
   "cell_type": "code",
   "execution_count": 11,
   "id": "7f6141bf",
   "metadata": {},
   "outputs": [
    {
     "name": "stdout",
     "output_type": "stream",
     "text": [
      "The autoreload extension is already loaded. To reload it, use:\n",
      "  %reload_ext autoreload\n"
     ]
    }
   ],
   "source": [
    "%load_ext autoreload\n",
    "%autoreload 2"
   ]
  },
  {
   "cell_type": "code",
   "execution_count": null,
   "id": "897d39b4",
   "metadata": {},
   "outputs": [],
   "source": [
    "import torch\n",
    "from torch.nn import CrossEntropyLoss\n",
    "from torch.optim.lr_scheduler import CosineAnnealingLR\n",
    "from torch.utils.data import DataLoader\n",
    "\n",
    "from fl_g13.config import RAW_DATA_DIR\n",
    "\n",
    "from fl_g13.modeling import train, load, eval, get_preprocessing_pipeline\n",
    "\n",
    "from fl_g13.architectures import BaseDino\n",
    "\n",
    "from fl_g13.editing import SparseSGDM\n",
    "from fl_g13.editing import create_mask, mask_dict_to_list\n",
    "\n",
    "import dotenv"
   ]
  },
  {
   "cell_type": "code",
   "execution_count": 13,
   "id": "44323213",
   "metadata": {},
   "outputs": [
    {
     "name": "stdout",
     "output_type": "stream",
     "text": [
      "Train dataset size: 40000\n",
      "Validation dataset size: 10000\n",
      "Test dataset size: 10000\n"
     ]
    }
   ],
   "source": [
    "dotenv.load_dotenv()\n",
    "\n",
    "train_dataset, val_dataset, test_dataset = get_preprocessing_pipeline(RAW_DATA_DIR)\n",
    "\n",
    "print(f\"Train dataset size: {len(train_dataset)}\")\n",
    "print(f\"Validation dataset size: {len(val_dataset)}\")\n",
    "print(f\"Test dataset size: {len(test_dataset)}\")"
   ]
  },
  {
   "cell_type": "markdown",
   "id": "3b3e31c2",
   "metadata": {},
   "source": [
    "# Define model to edit"
   ]
  },
  {
   "cell_type": "code",
   "execution_count": 14,
   "id": "bba9d787",
   "metadata": {},
   "outputs": [
    {
     "name": "stdout",
     "output_type": "stream",
     "text": [
      "Using device: cuda\n"
     ]
    },
    {
     "name": "stderr",
     "output_type": "stream",
     "text": [
      "Using cache found in C:\\Users\\ciovi/.cache\\torch\\hub\\facebookresearch_dino_main\n"
     ]
    },
    {
     "name": "stdout",
     "output_type": "stream",
     "text": [
      "🔍 Loading checkpoint from /Users/ciovi/Desktop/coding/mldl/fl-g13/checkpoints/arcanine/arcanine_BaseDino_epoch_8.pth\n",
      "📦 Model class in checkpoint: BaseDino\n",
      "⚙️ Optimizer class in checkpoint: SparseSGDM\n",
      "📈 Scheduler class in checkpoint: CosineAnnealingLR\n",
      "🔧 Model configuration: {'variant': 'dino_vits16', 'dropout_rate': 0.0, 'head_hidden_size': 512, 'head_layers': 3, 'num_classes': 100, 'unfreeze_blocks': 1, 'activation_fn': 'GELU', 'pretrained': True}\n"
     ]
    },
    {
     "name": "stderr",
     "output_type": "stream",
     "text": [
      "Using cache found in C:\\Users\\ciovi/.cache\\torch\\hub\\facebookresearch_dino_main\n",
      "Using cache found in C:\\Users\\ciovi/.cache\\torch\\hub\\facebookresearch_dino_main\n"
     ]
    },
    {
     "name": "stdout",
     "output_type": "stream",
     "text": [
      "➡️ Moved model to device: cuda\n",
      "✅ Loaded checkpoint from /Users/ciovi/Desktop/coding/mldl/fl-g13/checkpoints/arcanine/arcanine_BaseDino_epoch_8.pth, resuming at epoch 9\n"
     ]
    }
   ],
   "source": [
    "# Move to CUDA\n",
    "device = torch.device(\"cuda\" if torch.cuda.is_available() else \"cpu\")\n",
    "print(f\"Using device: {device}\")\n",
    "\n",
    "# Settings\n",
    "name=\"arcanine\"\n",
    "CHECKPOINT_DIR = dotenv.dotenv_values()[\"CHECKPOINT_DIR\"]\n",
    "start_epoch = 1\n",
    "num_epochs = 30\n",
    "save_every = 1\n",
    "backup_every = None\n",
    "\n",
    "# Model Hyper-parameters\n",
    "head_layers = 3\n",
    "head_hidden_size = 512\n",
    "dropout_rate = 0.0\n",
    "unfreeze_blocks = 1\n",
    "\n",
    "# Training Hyper-parameters\n",
    "batch_size = 128\n",
    "lr = 1e-3\n",
    "momentum = 0.9\n",
    "weight_decay = 1e-5\n",
    "T_max = 8\n",
    "eta_min = 1e-5\n",
    "\n",
    "# Dataloaders\n",
    "train_dataloader = DataLoader(train_dataset, batch_size=batch_size, shuffle=True)\n",
    "val_dataloader = DataLoader(val_dataset, batch_size=batch_size, shuffle=False)\n",
    "test_dataloader = DataLoader(test_dataset, batch_size=batch_size, shuffle=False)\n",
    "\n",
    "# Model\n",
    "model = BaseDino(\n",
    "    head_layers=head_layers, \n",
    "    head_hidden_size=head_hidden_size, \n",
    "    dropout_rate=dropout_rate, \n",
    "    unfreeze_blocks=unfreeze_blocks\n",
    "    )\n",
    "model.to(device)\n",
    "\n",
    "# Optimizer, scheduler, and loss function\n",
    "mask = [torch.ones_like(p, device=p.device) for p in model.parameters()] # Must be done AFTER the model is moved to CUDA\n",
    "optimizer = SparseSGDM(\n",
    "    model.parameters(),\n",
    "    mask=mask,\n",
    "    lr=lr,\n",
    "    momentum=momentum,\n",
    "    weight_decay=weight_decay\n",
    "    )\n",
    "scheduler = CosineAnnealingLR(\n",
    "    optimizer=optimizer, \n",
    "    T_max=T_max, \n",
    "    eta_min=eta_min\n",
    "    )\n",
    "criterion = CrossEntropyLoss()\n",
    "\n",
    "loading_epoch = 8\n",
    "loading_model_path =  f\"{CHECKPOINT_DIR}/{name}/{name}_BaseDino_epoch_{loading_epoch}.pth\"\n",
    "model, start_epoch = load(\n",
    "    loading_model_path,\n",
    "    model_class=BaseDino,\n",
    "    device=device,\n",
    "    optimizer=optimizer,\n",
    "    scheduler=scheduler,\n",
    "    verbose=True\n",
    ")\n",
    "model.to(device)\n",
    "\n",
    "model_metrics_path=f\"{CHECKPOINT_DIR}/{name}/{name}_BaseDino_epoch_{loading_epoch}.loss_acc.json\""
   ]
  },
  {
   "cell_type": "markdown",
   "id": "639ff260",
   "metadata": {},
   "source": [
    "# Define model editing"
   ]
  },
  {
   "cell_type": "markdown",
   "id": "84fdc702",
   "metadata": {},
   "source": [
    "## Create mask"
   ]
  },
  {
   "cell_type": "code",
   "execution_count": 15,
   "id": "aad0ad28",
   "metadata": {},
   "outputs": [],
   "source": [
    "import os\n",
    "\n",
    "def get_centralized_model_mask(model, dataloader, sparsity, mask_type, calibration_rounds, file_path = 'centralized_model_mask.pth', verbose = False):\n",
    "    if file_path and os.path.isfile(file_path):\n",
    "        if verbose:\n",
    "            print(f'[CMM] Found {file_path}. Loading mask from memory')\n",
    "            \n",
    "        return torch.load(file_path)\n",
    "    \n",
    "    # else    \n",
    "    if verbose:\n",
    "        print('[CMM] Computing mask')\n",
    "    mask = create_mask(\n",
    "        dataloader, \n",
    "        model, \n",
    "        sparsity = sparsity, \n",
    "        mask_type = mask_type, \n",
    "        rounds = calibration_rounds, \n",
    "        verbose = verbose\n",
    "    )\n",
    "    \n",
    "    if verbose:\n",
    "        print(f'[CMM] Saving the mask at \"{file_path}\"')\n",
    "    torch.save(mask, file_path)\n",
    "    return mask"
   ]
  },
  {
   "cell_type": "code",
   "execution_count": 16,
   "id": "d33f16e8",
   "metadata": {},
   "outputs": [
    {
     "name": "stdout",
     "output_type": "stream",
     "text": [
      "[CMM] Found /Users/ciovi/Desktop/coding/mldl/fl-g13/checkpoints/masks/arcanine_8_local_0.7_3.pth. Loading mask from memory\n"
     ]
    }
   ],
   "source": [
    "sparsity = .7\n",
    "mask_type = 'local'\n",
    "calibration_rounds = 3\n",
    "fisher_dataloader = DataLoader(train_dataset, batch_size = 16, shuffle=True)\n",
    "\n",
    "me_model_name = f'{name}_{loading_epoch}_{mask_type}_{sparsity}_{calibration_rounds}'\n",
    "file_path = CHECKPOINT_DIR + f'/masks/{me_model_name}.pth'\n",
    "\n",
    "# Unfreeze the model before computing the mask\n",
    "unfreeze_blocks = 12\n",
    "for param in model.backbone.blocks[-unfreeze_blocks:].parameters():\n",
    "    param.requires_grad = True\n",
    "mask = get_centralized_model_mask(model, fisher_dataloader, sparsity, mask_type, calibration_rounds, file_path, verbose = True)\n",
    "mask_list = mask_dict_to_list(model, mask)"
   ]
  },
  {
   "cell_type": "markdown",
   "id": "37f8de3a",
   "metadata": {},
   "source": [
    "# Fine-tune the model"
   ]
  },
  {
   "cell_type": "code",
   "execution_count": 17,
   "id": "a85ab941",
   "metadata": {},
   "outputs": [],
   "source": [
    "def fine_tune(\n",
    "    starting_model_path, \n",
    "    model_name, \n",
    "    train_dataloader, \n",
    "    test_dataloader, \n",
    "    val_dataloader, \n",
    "    mask, \n",
    "    optimizer, \n",
    "    scheduler, \n",
    "    criterion, \n",
    "    epochs = 10, \n",
    "    verbose = 1\n",
    "):\n",
    "    device = torch.device(\"cuda\" if torch.cuda.is_available() else \"cpu\")\n",
    "\n",
    "    # Load the model\n",
    "    new_model, start_epoch = load(\n",
    "        path = starting_model_path,\n",
    "        model_class = BaseDino,\n",
    "        optimizer = optimizer,\n",
    "        scheduler = scheduler,\n",
    "        device = device\n",
    "    )\n",
    "    new_model.to(device) # manually move the model to the device\n",
    "\n",
    "    # unfreeze the model\n",
    "    for param in new_model.backbone.blocks[-unfreeze_blocks:].parameters():\n",
    "        param.requires_grad = True\n",
    "\n",
    "    # Create a new SparseSGDM optimizer\n",
    "    new_optimizer = SparseSGDM(\n",
    "        new_model.parameters(), \n",
    "        mask = mask, \n",
    "        lr = lr,\n",
    "        momentum = momentum,\n",
    "        weight_decay = weight_decay\n",
    "    )\n",
    "\n",
    "    try: \n",
    "        _, _, _, _ = train(\n",
    "            checkpoint_dir = f'{CHECKPOINT_DIR}/{model_name}',\n",
    "            name = model_name,\n",
    "            start_epoch = start_epoch,\n",
    "            num_epochs = epochs,\n",
    "            save_every = 1,\n",
    "            backup_every = None,\n",
    "            train_dataloader = train_dataloader,\n",
    "            val_dataloader = val_dataloader,\n",
    "            model = new_model,\n",
    "            criterion = criterion,\n",
    "            optimizer = new_optimizer,\n",
    "            scheduler = scheduler,\n",
    "            verbose = verbose,\n",
    "            with_model_dir = False\n",
    "        )\n",
    "    except KeyboardInterrupt:\n",
    "        print(\"Training interrupted manually.\")\n",
    "\n",
    "    except Exception as e:\n",
    "        print(f\"Training stopped due to error: {e}\")\n",
    "\n",
    "    # Final eval\n",
    "    test_loss, test_accuracy, _ = eval(dataloader=test_dataloader, model=new_model, criterion=criterion)\n",
    "\n",
    "    return test_loss, test_accuracy"
   ]
  },
  {
   "cell_type": "code",
   "execution_count": 18,
   "id": "15eb1708",
   "metadata": {},
   "outputs": [
    {
     "name": "stderr",
     "output_type": "stream",
     "text": [
      "Using cache found in C:\\Users\\ciovi/.cache\\torch\\hub\\facebookresearch_dino_main\n",
      "Using cache found in C:\\Users\\ciovi/.cache\\torch\\hub\\facebookresearch_dino_main\n"
     ]
    },
    {
     "name": "stdout",
     "output_type": "stream",
     "text": [
      "✅ Loaded checkpoint from /Users/ciovi/Desktop/coding/mldl/fl-g13/checkpoints/arcanine/arcanine_BaseDino_epoch_8.pth, resuming at epoch 9\n",
      "Prefix/name for the model was provided: arcanine_8_local_0.7_3\n"
     ]
    },
    {
     "name": "stderr",
     "output_type": "stream",
     "text": [
      "Training progress: 100%|██████████| 313/313 [03:39<00:00,  1.43batch/s]\n"
     ]
    },
    {
     "name": "stdout",
     "output_type": "stream",
     "text": [
      "🚀 Epoch 9/30 (30.00%) Completed\n",
      "\t📊 Training Loss: 0.4253\n",
      "\t✅ Training Accuracy: 86.73%\n",
      "\t⏳ Elapsed Time: 219.04s | ETA: 4599.92s\n",
      "\t🕒 Completed At: 19:21\n"
     ]
    },
    {
     "name": "stderr",
     "output_type": "stream",
     "text": [
      "Eval progress: 100%|██████████| 79/79 [00:33<00:00,  2.34batch/s]\n"
     ]
    },
    {
     "name": "stdout",
     "output_type": "stream",
     "text": [
      "🔍 Validation Results:\n",
      "\t📉 Validation Loss: 0.3914\n",
      "\t🎯 Validation Accuracy: 87.99%\n",
      "💾 Saved checkpoint at: /Users/ciovi/Desktop/coding/mldl/fl-g13/checkpoints/arcanine_8_local_0.7_3\\arcanine_8_local_0.7_3_BaseDino_epoch_9.pth\n",
      "💾 Saved losses and accuracies (training and validation) at: /Users/ciovi/Desktop/coding/mldl/fl-g13/checkpoints/arcanine_8_local_0.7_3\\arcanine_8_local_0.7_3_BaseDino_epoch_9.loss_acc.json\n",
      "\n"
     ]
    },
    {
     "name": "stderr",
     "output_type": "stream",
     "text": [
      "Training progress: 100%|██████████| 313/313 [03:40<00:00,  1.42batch/s]\n"
     ]
    },
    {
     "name": "stdout",
     "output_type": "stream",
     "text": [
      "🚀 Epoch 10/30 (33.33%) Completed\n",
      "\t📊 Training Loss: 0.2607\n",
      "\t✅ Training Accuracy: 91.88%\n",
      "\t⏳ Elapsed Time: 220.27s | ETA: 4405.35s\n",
      "\t🕒 Completed At: 19:25\n"
     ]
    },
    {
     "name": "stderr",
     "output_type": "stream",
     "text": [
      "Eval progress: 100%|██████████| 79/79 [00:34<00:00,  2.29batch/s]\n"
     ]
    },
    {
     "name": "stdout",
     "output_type": "stream",
     "text": [
      "🔍 Validation Results:\n",
      "\t📉 Validation Loss: 0.3545\n",
      "\t🎯 Validation Accuracy: 88.86%\n",
      "💾 Saved checkpoint at: /Users/ciovi/Desktop/coding/mldl/fl-g13/checkpoints/arcanine_8_local_0.7_3\\arcanine_8_local_0.7_3_BaseDino_epoch_10.pth\n",
      "💾 Saved losses and accuracies (training and validation) at: /Users/ciovi/Desktop/coding/mldl/fl-g13/checkpoints/arcanine_8_local_0.7_3\\arcanine_8_local_0.7_3_BaseDino_epoch_10.loss_acc.json\n",
      "\n"
     ]
    },
    {
     "name": "stderr",
     "output_type": "stream",
     "text": [
      "Training progress: 100%|██████████| 313/313 [03:27<00:00,  1.51batch/s]\n"
     ]
    },
    {
     "name": "stdout",
     "output_type": "stream",
     "text": [
      "🚀 Epoch 11/30 (36.67%) Completed\n",
      "\t📊 Training Loss: 0.1752\n",
      "\t✅ Training Accuracy: 94.69%\n",
      "\t⏳ Elapsed Time: 207.27s | ETA: 3938.04s\n",
      "\t🕒 Completed At: 19:29\n"
     ]
    },
    {
     "name": "stderr",
     "output_type": "stream",
     "text": [
      "Eval progress: 100%|██████████| 79/79 [00:31<00:00,  2.52batch/s]\n"
     ]
    },
    {
     "name": "stdout",
     "output_type": "stream",
     "text": [
      "🔍 Validation Results:\n",
      "\t📉 Validation Loss: 0.3484\n",
      "\t🎯 Validation Accuracy: 89.16%\n",
      "💾 Saved checkpoint at: /Users/ciovi/Desktop/coding/mldl/fl-g13/checkpoints/arcanine_8_local_0.7_3\\arcanine_8_local_0.7_3_BaseDino_epoch_11.pth\n",
      "💾 Saved losses and accuracies (training and validation) at: /Users/ciovi/Desktop/coding/mldl/fl-g13/checkpoints/arcanine_8_local_0.7_3\\arcanine_8_local_0.7_3_BaseDino_epoch_11.loss_acc.json\n",
      "\n"
     ]
    },
    {
     "name": "stderr",
     "output_type": "stream",
     "text": [
      "Training progress: 100%|██████████| 313/313 [03:27<00:00,  1.51batch/s]\n"
     ]
    },
    {
     "name": "stdout",
     "output_type": "stream",
     "text": [
      "🚀 Epoch 12/30 (40.00%) Completed\n",
      "\t📊 Training Loss: 0.1211\n",
      "\t✅ Training Accuracy: 96.61%\n",
      "\t⏳ Elapsed Time: 207.74s | ETA: 3739.33s\n",
      "\t🕒 Completed At: 19:33\n"
     ]
    },
    {
     "name": "stderr",
     "output_type": "stream",
     "text": [
      "Eval progress: 100%|██████████| 79/79 [00:36<00:00,  2.17batch/s]\n"
     ]
    },
    {
     "name": "stdout",
     "output_type": "stream",
     "text": [
      "🔍 Validation Results:\n",
      "\t📉 Validation Loss: 0.3465\n",
      "\t🎯 Validation Accuracy: 89.42%\n",
      "💾 Saved checkpoint at: /Users/ciovi/Desktop/coding/mldl/fl-g13/checkpoints/arcanine_8_local_0.7_3\\arcanine_8_local_0.7_3_BaseDino_epoch_12.pth\n",
      "💾 Saved losses and accuracies (training and validation) at: /Users/ciovi/Desktop/coding/mldl/fl-g13/checkpoints/arcanine_8_local_0.7_3\\arcanine_8_local_0.7_3_BaseDino_epoch_12.loss_acc.json\n",
      "\n"
     ]
    },
    {
     "name": "stderr",
     "output_type": "stream",
     "text": [
      "Training progress: 100%|██████████| 313/313 [03:27<00:00,  1.50batch/s]\n"
     ]
    },
    {
     "name": "stdout",
     "output_type": "stream",
     "text": [
      "🚀 Epoch 13/30 (43.33%) Completed\n",
      "\t📊 Training Loss: 0.0812\n",
      "\t✅ Training Accuracy: 98.08%\n",
      "\t⏳ Elapsed Time: 208.00s | ETA: 3536.04s\n",
      "\t🕒 Completed At: 19:37\n"
     ]
    },
    {
     "name": "stderr",
     "output_type": "stream",
     "text": [
      "Eval progress: 100%|██████████| 79/79 [00:33<00:00,  2.33batch/s]\n"
     ]
    },
    {
     "name": "stdout",
     "output_type": "stream",
     "text": [
      "🔍 Validation Results:\n",
      "\t📉 Validation Loss: 0.3462\n",
      "\t🎯 Validation Accuracy: 89.57%\n",
      "💾 Saved checkpoint at: /Users/ciovi/Desktop/coding/mldl/fl-g13/checkpoints/arcanine_8_local_0.7_3\\arcanine_8_local_0.7_3_BaseDino_epoch_13.pth\n",
      "💾 Saved losses and accuracies (training and validation) at: /Users/ciovi/Desktop/coding/mldl/fl-g13/checkpoints/arcanine_8_local_0.7_3\\arcanine_8_local_0.7_3_BaseDino_epoch_13.loss_acc.json\n",
      "\n"
     ]
    },
    {
     "name": "stderr",
     "output_type": "stream",
     "text": [
      "Training progress: 100%|██████████| 313/313 [03:28<00:00,  1.50batch/s]\n"
     ]
    },
    {
     "name": "stdout",
     "output_type": "stream",
     "text": [
      "🚀 Epoch 14/30 (46.67%) Completed\n",
      "\t📊 Training Loss: 0.0570\n",
      "\t✅ Training Accuracy: 98.82%\n",
      "\t⏳ Elapsed Time: 208.26s | ETA: 3332.24s\n",
      "\t🕒 Completed At: 19:41\n"
     ]
    },
    {
     "name": "stderr",
     "output_type": "stream",
     "text": [
      "Eval progress: 100%|██████████| 79/79 [00:31<00:00,  2.50batch/s]\n"
     ]
    },
    {
     "name": "stdout",
     "output_type": "stream",
     "text": [
      "🔍 Validation Results:\n",
      "\t📉 Validation Loss: 0.3555\n",
      "\t🎯 Validation Accuracy: 89.23%\n",
      "💾 Saved checkpoint at: /Users/ciovi/Desktop/coding/mldl/fl-g13/checkpoints/arcanine_8_local_0.7_3\\arcanine_8_local_0.7_3_BaseDino_epoch_14.pth\n",
      "💾 Saved losses and accuracies (training and validation) at: /Users/ciovi/Desktop/coding/mldl/fl-g13/checkpoints/arcanine_8_local_0.7_3\\arcanine_8_local_0.7_3_BaseDino_epoch_14.loss_acc.json\n",
      "\n"
     ]
    },
    {
     "name": "stderr",
     "output_type": "stream",
     "text": [
      "Training progress: 100%|██████████| 313/313 [03:27<00:00,  1.51batch/s]\n"
     ]
    },
    {
     "name": "stdout",
     "output_type": "stream",
     "text": [
      "🚀 Epoch 15/30 (50.00%) Completed\n",
      "\t📊 Training Loss: 0.0459\n",
      "\t✅ Training Accuracy: 99.11%\n",
      "\t⏳ Elapsed Time: 207.96s | ETA: 3119.38s\n",
      "\t🕒 Completed At: 19:45\n"
     ]
    },
    {
     "name": "stderr",
     "output_type": "stream",
     "text": [
      "Eval progress: 100%|██████████| 79/79 [00:31<00:00,  2.51batch/s]\n"
     ]
    },
    {
     "name": "stdout",
     "output_type": "stream",
     "text": [
      "🔍 Validation Results:\n",
      "\t📉 Validation Loss: 0.3512\n",
      "\t🎯 Validation Accuracy: 89.36%\n",
      "💾 Saved checkpoint at: /Users/ciovi/Desktop/coding/mldl/fl-g13/checkpoints/arcanine_8_local_0.7_3\\arcanine_8_local_0.7_3_BaseDino_epoch_15.pth\n",
      "💾 Saved losses and accuracies (training and validation) at: /Users/ciovi/Desktop/coding/mldl/fl-g13/checkpoints/arcanine_8_local_0.7_3\\arcanine_8_local_0.7_3_BaseDino_epoch_15.loss_acc.json\n",
      "\n"
     ]
    },
    {
     "name": "stderr",
     "output_type": "stream",
     "text": [
      "Training progress: 100%|██████████| 313/313 [03:28<00:00,  1.50batch/s]\n"
     ]
    },
    {
     "name": "stdout",
     "output_type": "stream",
     "text": [
      "🚀 Epoch 16/30 (53.33%) Completed\n",
      "\t📊 Training Loss: 0.0336\n",
      "\t✅ Training Accuracy: 99.46%\n",
      "\t⏳ Elapsed Time: 208.14s | ETA: 2913.93s\n",
      "\t🕒 Completed At: 19:49\n"
     ]
    },
    {
     "name": "stderr",
     "output_type": "stream",
     "text": [
      "Eval progress: 100%|██████████| 79/79 [00:31<00:00,  2.50batch/s]\n"
     ]
    },
    {
     "name": "stdout",
     "output_type": "stream",
     "text": [
      "🔍 Validation Results:\n",
      "\t📉 Validation Loss: 0.3515\n",
      "\t🎯 Validation Accuracy: 89.67%\n",
      "💾 Saved checkpoint at: /Users/ciovi/Desktop/coding/mldl/fl-g13/checkpoints/arcanine_8_local_0.7_3\\arcanine_8_local_0.7_3_BaseDino_epoch_16.pth\n",
      "💾 Saved losses and accuracies (training and validation) at: /Users/ciovi/Desktop/coding/mldl/fl-g13/checkpoints/arcanine_8_local_0.7_3\\arcanine_8_local_0.7_3_BaseDino_epoch_16.loss_acc.json\n",
      "\n"
     ]
    },
    {
     "name": "stderr",
     "output_type": "stream",
     "text": [
      "Training progress: 100%|██████████| 313/313 [03:30<00:00,  1.48batch/s]\n"
     ]
    },
    {
     "name": "stdout",
     "output_type": "stream",
     "text": [
      "🚀 Epoch 17/30 (56.67%) Completed\n",
      "\t📊 Training Loss: 0.0253\n",
      "\t✅ Training Accuracy: 99.70%\n",
      "\t⏳ Elapsed Time: 210.99s | ETA: 2742.91s\n",
      "\t🕒 Completed At: 19:53\n"
     ]
    },
    {
     "name": "stderr",
     "output_type": "stream",
     "text": [
      "Eval progress: 100%|██████████| 79/79 [00:31<00:00,  2.51batch/s]\n"
     ]
    },
    {
     "name": "stdout",
     "output_type": "stream",
     "text": [
      "🔍 Validation Results:\n",
      "\t📉 Validation Loss: 0.3662\n",
      "\t🎯 Validation Accuracy: 89.49%\n",
      "💾 Saved checkpoint at: /Users/ciovi/Desktop/coding/mldl/fl-g13/checkpoints/arcanine_8_local_0.7_3\\arcanine_8_local_0.7_3_BaseDino_epoch_17.pth\n",
      "💾 Saved losses and accuracies (training and validation) at: /Users/ciovi/Desktop/coding/mldl/fl-g13/checkpoints/arcanine_8_local_0.7_3\\arcanine_8_local_0.7_3_BaseDino_epoch_17.loss_acc.json\n",
      "\n"
     ]
    },
    {
     "name": "stderr",
     "output_type": "stream",
     "text": [
      "Training progress: 100%|██████████| 313/313 [03:27<00:00,  1.51batch/s]\n"
     ]
    },
    {
     "name": "stdout",
     "output_type": "stream",
     "text": [
      "🚀 Epoch 18/30 (60.00%) Completed\n",
      "\t📊 Training Loss: 0.0225\n",
      "\t✅ Training Accuracy: 99.68%\n",
      "\t⏳ Elapsed Time: 207.91s | ETA: 2494.92s\n",
      "\t🕒 Completed At: 19:57\n"
     ]
    },
    {
     "name": "stderr",
     "output_type": "stream",
     "text": [
      "Eval progress: 100%|██████████| 79/79 [00:31<00:00,  2.51batch/s]\n"
     ]
    },
    {
     "name": "stdout",
     "output_type": "stream",
     "text": [
      "🔍 Validation Results:\n",
      "\t📉 Validation Loss: 0.3569\n",
      "\t🎯 Validation Accuracy: 89.50%\n",
      "💾 Saved checkpoint at: /Users/ciovi/Desktop/coding/mldl/fl-g13/checkpoints/arcanine_8_local_0.7_3\\arcanine_8_local_0.7_3_BaseDino_epoch_18.pth\n",
      "💾 Saved losses and accuracies (training and validation) at: /Users/ciovi/Desktop/coding/mldl/fl-g13/checkpoints/arcanine_8_local_0.7_3\\arcanine_8_local_0.7_3_BaseDino_epoch_18.loss_acc.json\n",
      "\n"
     ]
    },
    {
     "name": "stderr",
     "output_type": "stream",
     "text": [
      "Training progress: 100%|██████████| 313/313 [03:20<00:00,  1.56batch/s]\n"
     ]
    },
    {
     "name": "stdout",
     "output_type": "stream",
     "text": [
      "🚀 Epoch 19/30 (63.33%) Completed\n",
      "\t📊 Training Loss: 0.0171\n",
      "\t✅ Training Accuracy: 99.82%\n",
      "\t⏳ Elapsed Time: 200.35s | ETA: 2203.85s\n",
      "\t🕒 Completed At: 20:01\n"
     ]
    },
    {
     "name": "stderr",
     "output_type": "stream",
     "text": [
      "Eval progress: 100%|██████████| 79/79 [00:30<00:00,  2.60batch/s]\n"
     ]
    },
    {
     "name": "stdout",
     "output_type": "stream",
     "text": [
      "🔍 Validation Results:\n",
      "\t📉 Validation Loss: 0.3562\n",
      "\t🎯 Validation Accuracy: 89.61%\n",
      "💾 Saved checkpoint at: /Users/ciovi/Desktop/coding/mldl/fl-g13/checkpoints/arcanine_8_local_0.7_3\\arcanine_8_local_0.7_3_BaseDino_epoch_19.pth\n",
      "💾 Saved losses and accuracies (training and validation) at: /Users/ciovi/Desktop/coding/mldl/fl-g13/checkpoints/arcanine_8_local_0.7_3\\arcanine_8_local_0.7_3_BaseDino_epoch_19.loss_acc.json\n",
      "\n"
     ]
    },
    {
     "name": "stderr",
     "output_type": "stream",
     "text": [
      "Training progress: 100%|██████████| 313/313 [03:28<00:00,  1.50batch/s]\n"
     ]
    },
    {
     "name": "stdout",
     "output_type": "stream",
     "text": [
      "🚀 Epoch 20/30 (66.67%) Completed\n",
      "\t📊 Training Loss: 0.0153\n",
      "\t✅ Training Accuracy: 99.82%\n",
      "\t⏳ Elapsed Time: 208.56s | ETA: 2085.65s\n",
      "\t🕒 Completed At: 20:05\n"
     ]
    },
    {
     "name": "stderr",
     "output_type": "stream",
     "text": [
      "Eval progress: 100%|██████████| 79/79 [00:30<00:00,  2.61batch/s]\n"
     ]
    },
    {
     "name": "stdout",
     "output_type": "stream",
     "text": [
      "🔍 Validation Results:\n",
      "\t📉 Validation Loss: 0.3626\n",
      "\t🎯 Validation Accuracy: 89.62%\n",
      "💾 Saved checkpoint at: /Users/ciovi/Desktop/coding/mldl/fl-g13/checkpoints/arcanine_8_local_0.7_3\\arcanine_8_local_0.7_3_BaseDino_epoch_20.pth\n",
      "💾 Saved losses and accuracies (training and validation) at: /Users/ciovi/Desktop/coding/mldl/fl-g13/checkpoints/arcanine_8_local_0.7_3\\arcanine_8_local_0.7_3_BaseDino_epoch_20.loss_acc.json\n",
      "\n"
     ]
    },
    {
     "name": "stderr",
     "output_type": "stream",
     "text": [
      "Training progress: 100%|██████████| 313/313 [03:29<00:00,  1.50batch/s]\n"
     ]
    },
    {
     "name": "stdout",
     "output_type": "stream",
     "text": [
      "🚀 Epoch 21/30 (70.00%) Completed\n",
      "\t📊 Training Loss: 0.0120\n",
      "\t✅ Training Accuracy: 99.91%\n",
      "\t⏳ Elapsed Time: 209.33s | ETA: 1883.97s\n",
      "\t🕒 Completed At: 20:09\n"
     ]
    },
    {
     "name": "stderr",
     "output_type": "stream",
     "text": [
      "Eval progress: 100%|██████████| 79/79 [00:31<00:00,  2.51batch/s]\n"
     ]
    },
    {
     "name": "stdout",
     "output_type": "stream",
     "text": [
      "🔍 Validation Results:\n",
      "\t📉 Validation Loss: 0.3570\n",
      "\t🎯 Validation Accuracy: 89.61%\n",
      "💾 Saved checkpoint at: /Users/ciovi/Desktop/coding/mldl/fl-g13/checkpoints/arcanine_8_local_0.7_3\\arcanine_8_local_0.7_3_BaseDino_epoch_21.pth\n",
      "💾 Saved losses and accuracies (training and validation) at: /Users/ciovi/Desktop/coding/mldl/fl-g13/checkpoints/arcanine_8_local_0.7_3\\arcanine_8_local_0.7_3_BaseDino_epoch_21.loss_acc.json\n",
      "\n"
     ]
    },
    {
     "name": "stderr",
     "output_type": "stream",
     "text": [
      "Training progress: 100%|██████████| 313/313 [03:28<00:00,  1.50batch/s]\n"
     ]
    },
    {
     "name": "stdout",
     "output_type": "stream",
     "text": [
      "🚀 Epoch 22/30 (73.33%) Completed\n",
      "\t📊 Training Loss: 0.0112\n",
      "\t✅ Training Accuracy: 99.88%\n",
      "\t⏳ Elapsed Time: 208.22s | ETA: 1665.73s\n",
      "\t🕒 Completed At: 20:13\n"
     ]
    },
    {
     "name": "stderr",
     "output_type": "stream",
     "text": [
      "Eval progress: 100%|██████████| 79/79 [00:31<00:00,  2.50batch/s]\n"
     ]
    },
    {
     "name": "stdout",
     "output_type": "stream",
     "text": [
      "🔍 Validation Results:\n",
      "\t📉 Validation Loss: 0.3658\n",
      "\t🎯 Validation Accuracy: 89.54%\n",
      "💾 Saved checkpoint at: /Users/ciovi/Desktop/coding/mldl/fl-g13/checkpoints/arcanine_8_local_0.7_3\\arcanine_8_local_0.7_3_BaseDino_epoch_22.pth\n",
      "💾 Saved losses and accuracies (training and validation) at: /Users/ciovi/Desktop/coding/mldl/fl-g13/checkpoints/arcanine_8_local_0.7_3\\arcanine_8_local_0.7_3_BaseDino_epoch_22.loss_acc.json\n",
      "\n"
     ]
    },
    {
     "name": "stderr",
     "output_type": "stream",
     "text": [
      "Training progress: 100%|██████████| 313/313 [03:28<00:00,  1.50batch/s]\n"
     ]
    },
    {
     "name": "stdout",
     "output_type": "stream",
     "text": [
      "🚀 Epoch 23/30 (76.67%) Completed\n",
      "\t📊 Training Loss: 0.0092\n",
      "\t✅ Training Accuracy: 99.94%\n",
      "\t⏳ Elapsed Time: 208.39s | ETA: 1458.76s\n",
      "\t🕒 Completed At: 20:17\n"
     ]
    },
    {
     "name": "stderr",
     "output_type": "stream",
     "text": [
      "Eval progress: 100%|██████████| 79/79 [00:31<00:00,  2.49batch/s]\n"
     ]
    },
    {
     "name": "stdout",
     "output_type": "stream",
     "text": [
      "🔍 Validation Results:\n",
      "\t📉 Validation Loss: 0.3736\n",
      "\t🎯 Validation Accuracy: 89.61%\n",
      "💾 Saved checkpoint at: /Users/ciovi/Desktop/coding/mldl/fl-g13/checkpoints/arcanine_8_local_0.7_3\\arcanine_8_local_0.7_3_BaseDino_epoch_23.pth\n",
      "💾 Saved losses and accuracies (training and validation) at: /Users/ciovi/Desktop/coding/mldl/fl-g13/checkpoints/arcanine_8_local_0.7_3\\arcanine_8_local_0.7_3_BaseDino_epoch_23.loss_acc.json\n",
      "\n"
     ]
    },
    {
     "name": "stderr",
     "output_type": "stream",
     "text": [
      "Training progress: 100%|██████████| 313/313 [03:28<00:00,  1.50batch/s]\n"
     ]
    },
    {
     "name": "stdout",
     "output_type": "stream",
     "text": [
      "🚀 Epoch 24/30 (80.00%) Completed\n",
      "\t📊 Training Loss: 0.0077\n",
      "\t✅ Training Accuracy: 99.95%\n",
      "\t⏳ Elapsed Time: 208.03s | ETA: 1248.20s\n",
      "\t🕒 Completed At: 20:21\n"
     ]
    },
    {
     "name": "stderr",
     "output_type": "stream",
     "text": [
      "Eval progress: 100%|██████████| 79/79 [00:30<00:00,  2.60batch/s]\n"
     ]
    },
    {
     "name": "stdout",
     "output_type": "stream",
     "text": [
      "🔍 Validation Results:\n",
      "\t📉 Validation Loss: 0.3823\n",
      "\t🎯 Validation Accuracy: 89.52%\n",
      "💾 Saved checkpoint at: /Users/ciovi/Desktop/coding/mldl/fl-g13/checkpoints/arcanine_8_local_0.7_3\\arcanine_8_local_0.7_3_BaseDino_epoch_24.pth\n",
      "💾 Saved losses and accuracies (training and validation) at: /Users/ciovi/Desktop/coding/mldl/fl-g13/checkpoints/arcanine_8_local_0.7_3\\arcanine_8_local_0.7_3_BaseDino_epoch_24.loss_acc.json\n",
      "\n"
     ]
    },
    {
     "name": "stderr",
     "output_type": "stream",
     "text": [
      "Training progress: 100%|██████████| 313/313 [03:28<00:00,  1.50batch/s]\n"
     ]
    },
    {
     "name": "stdout",
     "output_type": "stream",
     "text": [
      "🚀 Epoch 25/30 (83.33%) Completed\n",
      "\t📊 Training Loss: 0.0072\n",
      "\t✅ Training Accuracy: 99.95%\n",
      "\t⏳ Elapsed Time: 208.45s | ETA: 1042.24s\n",
      "\t🕒 Completed At: 20:25\n"
     ]
    },
    {
     "name": "stderr",
     "output_type": "stream",
     "text": [
      "Eval progress: 100%|██████████| 79/79 [00:31<00:00,  2.51batch/s]\n"
     ]
    },
    {
     "name": "stdout",
     "output_type": "stream",
     "text": [
      "🔍 Validation Results:\n",
      "\t📉 Validation Loss: 0.3739\n",
      "\t🎯 Validation Accuracy: 89.32%\n",
      "💾 Saved checkpoint at: /Users/ciovi/Desktop/coding/mldl/fl-g13/checkpoints/arcanine_8_local_0.7_3\\arcanine_8_local_0.7_3_BaseDino_epoch_25.pth\n",
      "💾 Saved losses and accuracies (training and validation) at: /Users/ciovi/Desktop/coding/mldl/fl-g13/checkpoints/arcanine_8_local_0.7_3\\arcanine_8_local_0.7_3_BaseDino_epoch_25.loss_acc.json\n",
      "\n"
     ]
    },
    {
     "name": "stderr",
     "output_type": "stream",
     "text": [
      "Training progress: 100%|██████████| 313/313 [03:20<00:00,  1.56batch/s]\n"
     ]
    },
    {
     "name": "stdout",
     "output_type": "stream",
     "text": [
      "🚀 Epoch 26/30 (86.67%) Completed\n",
      "\t📊 Training Loss: 0.0067\n",
      "\t✅ Training Accuracy: 99.95%\n",
      "\t⏳ Elapsed Time: 200.46s | ETA: 801.85s\n",
      "\t🕒 Completed At: 20:29\n"
     ]
    },
    {
     "name": "stderr",
     "output_type": "stream",
     "text": [
      "Eval progress: 100%|██████████| 79/79 [00:30<00:00,  2.61batch/s]\n"
     ]
    },
    {
     "name": "stdout",
     "output_type": "stream",
     "text": [
      "🔍 Validation Results:\n",
      "\t📉 Validation Loss: 0.3793\n",
      "\t🎯 Validation Accuracy: 89.40%\n",
      "💾 Saved checkpoint at: /Users/ciovi/Desktop/coding/mldl/fl-g13/checkpoints/arcanine_8_local_0.7_3\\arcanine_8_local_0.7_3_BaseDino_epoch_26.pth\n",
      "💾 Saved losses and accuracies (training and validation) at: /Users/ciovi/Desktop/coding/mldl/fl-g13/checkpoints/arcanine_8_local_0.7_3\\arcanine_8_local_0.7_3_BaseDino_epoch_26.loss_acc.json\n",
      "\n"
     ]
    },
    {
     "name": "stderr",
     "output_type": "stream",
     "text": [
      "Training progress: 100%|██████████| 313/313 [03:28<00:00,  1.50batch/s]\n"
     ]
    },
    {
     "name": "stdout",
     "output_type": "stream",
     "text": [
      "🚀 Epoch 27/30 (90.00%) Completed\n",
      "\t📊 Training Loss: 0.0065\n",
      "\t✅ Training Accuracy: 99.95%\n",
      "\t⏳ Elapsed Time: 208.27s | ETA: 624.80s\n",
      "\t🕒 Completed At: 20:33\n"
     ]
    },
    {
     "name": "stderr",
     "output_type": "stream",
     "text": [
      "Eval progress: 100%|██████████| 79/79 [00:30<00:00,  2.61batch/s]\n"
     ]
    },
    {
     "name": "stdout",
     "output_type": "stream",
     "text": [
      "🔍 Validation Results:\n",
      "\t📉 Validation Loss: 0.3899\n",
      "\t🎯 Validation Accuracy: 89.37%\n",
      "💾 Saved checkpoint at: /Users/ciovi/Desktop/coding/mldl/fl-g13/checkpoints/arcanine_8_local_0.7_3\\arcanine_8_local_0.7_3_BaseDino_epoch_27.pth\n",
      "💾 Saved losses and accuracies (training and validation) at: /Users/ciovi/Desktop/coding/mldl/fl-g13/checkpoints/arcanine_8_local_0.7_3\\arcanine_8_local_0.7_3_BaseDino_epoch_27.loss_acc.json\n",
      "\n"
     ]
    },
    {
     "name": "stderr",
     "output_type": "stream",
     "text": [
      "Training progress: 100%|██████████| 313/313 [03:20<00:00,  1.56batch/s]\n"
     ]
    },
    {
     "name": "stdout",
     "output_type": "stream",
     "text": [
      "🚀 Epoch 28/30 (93.33%) Completed\n",
      "\t📊 Training Loss: 0.0057\n",
      "\t✅ Training Accuracy: 99.96%\n",
      "\t⏳ Elapsed Time: 200.59s | ETA: 401.17s\n",
      "\t🕒 Completed At: 20:37\n"
     ]
    },
    {
     "name": "stderr",
     "output_type": "stream",
     "text": [
      "Eval progress: 100%|██████████| 79/79 [00:31<00:00,  2.51batch/s]\n"
     ]
    },
    {
     "name": "stdout",
     "output_type": "stream",
     "text": [
      "🔍 Validation Results:\n",
      "\t📉 Validation Loss: 0.3878\n",
      "\t🎯 Validation Accuracy: 89.26%\n",
      "💾 Saved checkpoint at: /Users/ciovi/Desktop/coding/mldl/fl-g13/checkpoints/arcanine_8_local_0.7_3\\arcanine_8_local_0.7_3_BaseDino_epoch_28.pth\n",
      "💾 Saved losses and accuracies (training and validation) at: /Users/ciovi/Desktop/coding/mldl/fl-g13/checkpoints/arcanine_8_local_0.7_3\\arcanine_8_local_0.7_3_BaseDino_epoch_28.loss_acc.json\n",
      "\n"
     ]
    },
    {
     "name": "stderr",
     "output_type": "stream",
     "text": [
      "Training progress: 100%|██████████| 313/313 [03:28<00:00,  1.50batch/s]\n"
     ]
    },
    {
     "name": "stdout",
     "output_type": "stream",
     "text": [
      "🚀 Epoch 29/30 (96.67%) Completed\n",
      "\t📊 Training Loss: 0.0049\n",
      "\t✅ Training Accuracy: 99.97%\n",
      "\t⏳ Elapsed Time: 208.06s | ETA: 208.06s\n",
      "\t🕒 Completed At: 20:41\n"
     ]
    },
    {
     "name": "stderr",
     "output_type": "stream",
     "text": [
      "Eval progress: 100%|██████████| 79/79 [00:31<00:00,  2.50batch/s]\n"
     ]
    },
    {
     "name": "stdout",
     "output_type": "stream",
     "text": [
      "🔍 Validation Results:\n",
      "\t📉 Validation Loss: 0.3980\n",
      "\t🎯 Validation Accuracy: 89.19%\n",
      "💾 Saved checkpoint at: /Users/ciovi/Desktop/coding/mldl/fl-g13/checkpoints/arcanine_8_local_0.7_3\\arcanine_8_local_0.7_3_BaseDino_epoch_29.pth\n",
      "💾 Saved losses and accuracies (training and validation) at: /Users/ciovi/Desktop/coding/mldl/fl-g13/checkpoints/arcanine_8_local_0.7_3\\arcanine_8_local_0.7_3_BaseDino_epoch_29.loss_acc.json\n",
      "\n"
     ]
    },
    {
     "name": "stderr",
     "output_type": "stream",
     "text": [
      "Training progress: 100%|██████████| 313/313 [03:29<00:00,  1.50batch/s]\n"
     ]
    },
    {
     "name": "stdout",
     "output_type": "stream",
     "text": [
      "🚀 Epoch 30/30 (100.00%) Completed\n",
      "\t📊 Training Loss: 0.0049\n",
      "\t✅ Training Accuracy: 99.97%\n",
      "\t⏳ Elapsed Time: 209.20s | ETA: 0.00s\n",
      "\t🕒 Completed At: 20:45\n"
     ]
    },
    {
     "name": "stderr",
     "output_type": "stream",
     "text": [
      "Eval progress: 100%|██████████| 79/79 [00:32<00:00,  2.42batch/s]\n"
     ]
    },
    {
     "name": "stdout",
     "output_type": "stream",
     "text": [
      "🔍 Validation Results:\n",
      "\t📉 Validation Loss: 0.3979\n",
      "\t🎯 Validation Accuracy: 89.29%\n",
      "💾 Saved checkpoint at: /Users/ciovi/Desktop/coding/mldl/fl-g13/checkpoints/arcanine_8_local_0.7_3\\arcanine_8_local_0.7_3_BaseDino_epoch_30.pth\n",
      "💾 Saved losses and accuracies (training and validation) at: /Users/ciovi/Desktop/coding/mldl/fl-g13/checkpoints/arcanine_8_local_0.7_3\\arcanine_8_local_0.7_3_BaseDino_epoch_30.loss_acc.json\n",
      "\n"
     ]
    },
    {
     "name": "stderr",
     "output_type": "stream",
     "text": [
      "Eval progress: 100%|██████████| 79/79 [00:33<00:00,  2.34batch/s]\n"
     ]
    }
   ],
   "source": [
    "# Model editing\n",
    "me_test_loss, me_test_acc = fine_tune(\n",
    "    starting_model_path = loading_model_path,\n",
    "    model_name = me_model_name,\n",
    "    train_dataloader = train_dataloader,\n",
    "    test_dataloader = test_dataloader,\n",
    "    val_dataloader = val_dataloader,\n",
    "    mask = mask_list,\n",
    "    optimizer = optimizer,\n",
    "    scheduler = scheduler,\n",
    "    criterion = criterion,\n",
    "    epochs = num_epochs - loading_epoch, # to get to 30\n",
    "    verbose = 1\n",
    ")"
   ]
  }
 ],
 "metadata": {
  "kernelspec": {
   "display_name": ".venv",
   "language": "python",
   "name": "python3"
  },
  "language_info": {
   "codemirror_mode": {
    "name": "ipython",
    "version": 3
   },
   "file_extension": ".py",
   "mimetype": "text/x-python",
   "name": "python",
   "nbconvert_exporter": "python",
   "pygments_lexer": "ipython3",
   "version": "3.10.0"
  }
 },
 "nbformat": 4,
 "nbformat_minor": 5
}
