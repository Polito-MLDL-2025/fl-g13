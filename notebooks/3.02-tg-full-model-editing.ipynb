{
 "cells": [
  {
   "cell_type": "code",
   "execution_count": null,
   "id": "7f6141bf",
   "metadata": {},
   "outputs": [],
   "source": [
    "%load_ext autoreload\n",
    "%autoreload 2"
   ]
  },
  {
   "cell_type": "code",
   "execution_count": null,
   "id": "897d39b4",
   "metadata": {},
   "outputs": [],
   "source": [
    "import torch\n",
    "from torch.nn import CrossEntropyLoss\n",
    "from torch.optim.lr_scheduler import CosineAnnealingLR\n",
    "from torch.utils.data import DataLoader\n",
    "\n",
    "import numpy as np\n",
    "\n",
    "from copy import deepcopy\n",
    "\n",
    "import json\n",
    "\n",
    "from fl_g13.config import RAW_DATA_DIR, PROJ_ROOT\n",
    "\n",
    "from fl_g13.modeling import train, load, eval, plot_metrics, get_preprocessing_pipeline\n",
    "\n",
    "from fl_g13.architectures import BaseDino\n",
    "\n",
    "from fl_g13.editing import SparseSGDM\n",
    "from fl_g13.editing import per_class_accuracy\n",
    "from fl_g13.editing import fisher_scores\n",
    "from fl_g13.editing import create_gradiend_mask, mask_dict_to_list"
   ]
  },
  {
   "cell_type": "code",
   "execution_count": null,
   "id": "44323213",
   "metadata": {},
   "outputs": [],
   "source": [
    "train_dataset, val_dataset, test_dataset = get_preprocessing_pipeline(RAW_DATA_DIR)\n",
    "\n",
    "print(f\"Train dataset size: {len(train_dataset)}\")\n",
    "print(f\"Validation dataset size: {len(val_dataset)}\")\n",
    "print(f\"Test dataset size: {len(test_dataset)}\")"
   ]
  },
  {
   "cell_type": "markdown",
   "id": "3b3e31c2",
   "metadata": {},
   "source": [
    "# Define model to edit"
   ]
  },
  {
   "cell_type": "code",
   "execution_count": null,
   "id": "bba9d787",
   "metadata": {},
   "outputs": [],
   "source": [
    "device = torch.device(\"cuda\" if torch.cuda.is_available() else \"cpu\")\n",
    "print(f\"Using device: {device}\")\n",
    "\n",
    "CHECKPOINT_DIR = str(PROJ_ROOT / 'checkpoints')\n",
    "model_name = 'archeops'\n",
    "model_checkpoint_path = f'{CHECKPOINT_DIR}/Editing/{model_name}.pth'\n",
    "model_metrics_path = f'{CHECKPOINT_DIR}/Editing/{model_name}.loss_acc.json'\n",
    "\n",
    "# Hyper-parameters\n",
    "# model\n",
    "head_layers=3\n",
    "head_hidden_size=512\n",
    "dropout_rate=0.0\n",
    "unfreeze_blocks=12\n",
    "\n",
    "# Dataloaders\n",
    "BATCH_SIZE = 64\n",
    "\n",
    "# SparseSGDM optimizer\n",
    "LR = 1e-3\n",
    "momentum = .9\n",
    "weight_decay = 1e-5\n",
    "\n",
    "# scheduler\n",
    "T_max = 8\n",
    "eta_min = 1e-5\n",
    "\n",
    "# Empty model\n",
    "# Will be replaced with the already trained model from the checkpoint\n",
    "model = BaseDino(\n",
    "    head_layers=head_layers, \n",
    "    head_hidden_size=head_hidden_size, \n",
    "    dropout_rate=dropout_rate, \n",
    "    unfreeze_blocks=unfreeze_blocks\n",
    ")\n",
    "model.to(device)\n",
    "\n",
    "# Dataloaders\n",
    "train_dataloader = DataLoader(train_dataset, batch_size = BATCH_SIZE, shuffle = True)\n",
    "val_dataloader = DataLoader(val_dataset, batch_size = BATCH_SIZE, shuffle = False)\n",
    "test_dataloader = DataLoader(test_dataset, batch_size = BATCH_SIZE, shuffle = False)\n",
    "\n",
    "# Create a dummy mask for SparseSGDM\n",
    "mask = [torch.ones_like(p, device = p.device) for p in model.parameters()] # Must be done AFTER the model is moved to the device\n",
    "# Optimizer, scheduler, and loss function\n",
    "optimizer = SparseSGDM(\n",
    "    model.parameters(), \n",
    "    mask = mask, \n",
    "    lr = LR,\n",
    "    momentum = momentum,\n",
    "    weight_decay = weight_decay\n",
    ")\n",
    "scheduler = CosineAnnealingLR(\n",
    "    optimizer = optimizer, \n",
    "    T_max = T_max, \n",
    "    eta_min = eta_min\n",
    ")\n",
    "criterion = CrossEntropyLoss()\n",
    "\n",
    "# Load the model\n",
    "model, _ = load(\n",
    "    path = model_checkpoint_path,\n",
    "    model_class = BaseDino,\n",
    "    optimizer = optimizer,\n",
    "    scheduler = scheduler,\n",
    "    device = device\n",
    ")\n",
    "model.to(device) # manually move the model to the device\n",
    "\n",
    "print(f'\\nModel {model_name} loaded from checkpoint.')"
   ]
  },
  {
   "cell_type": "code",
   "execution_count": null,
   "id": "a41ef0e8",
   "metadata": {},
   "outputs": [],
   "source": [
    "# Compute test accuracy\n",
    "# test_loss, test_accuracy, _ = eval(test_dataloader, model, criterion)\n",
    "class_acc = per_class_accuracy(test_dataloader, model)\n",
    "test_accuracy = np.mean(class_acc)\n",
    "\n",
    "# print(f'Test loss: {test_loss:.3f}')\n",
    "print(f'Test accuracy: {100*test_accuracy:.2f}%')"
   ]
  },
  {
   "cell_type": "code",
   "execution_count": null,
   "id": "3215e8a3",
   "metadata": {},
   "outputs": [],
   "source": [
    "# Plot training results\n",
    "plot_metrics(path = model_metrics_path)"
   ]
  },
  {
   "cell_type": "markdown",
   "id": "639ff260",
   "metadata": {},
   "source": [
    "# Define model editing"
   ]
  },
  {
   "cell_type": "markdown",
   "id": "ca20b9ed",
   "metadata": {},
   "source": [
    "## Compute fisher score\n",
    "Build a new dataloader with batch size 1 to get more accurate gradient."
   ]
  },
  {
   "cell_type": "code",
   "execution_count": null,
   "id": "a5b0fe3b",
   "metadata": {},
   "outputs": [],
   "source": [
    "fisher_dataloader = DataLoader(train_dataset, batch_size = 1, shuffle=True)\n",
    "\n",
    "# Unfreeze of blocks when computing the fisher score\n",
    "for param in model.backbone.blocks[-unfreeze_blocks:].parameters():\n",
    "    param.requires_grad = True\n",
    "scores = fisher_scores(fisher_dataloader, model)"
   ]
  },
  {
   "cell_type": "markdown",
   "id": "84fdc702",
   "metadata": {},
   "source": [
    "## Create mask"
   ]
  },
  {
   "cell_type": "code",
   "execution_count": null,
   "id": "d33f16e8",
   "metadata": {},
   "outputs": [],
   "source": [
    "global_mask = create_gradiend_mask(scores, mask_type = 'global')\n",
    "local_mask = create_gradiend_mask(scores, mask_type = 'local')\n",
    "\n",
    "global_mask_list = mask_dict_to_list(model, global_mask)\n",
    "local_mask_list = mask_dict_to_list(model, local_mask)"
   ]
  },
  {
   "cell_type": "markdown",
   "id": "37f8de3a",
   "metadata": {},
   "source": [
    "# Fine-tune the model"
   ]
  },
  {
   "cell_type": "code",
   "execution_count": null,
   "id": "a85ab941",
   "metadata": {},
   "outputs": [],
   "source": [
    "def fine_tune(name, train_dataloader, mask, optimizer, scheduler, criterion, epochs = 10, verbose = 1):\n",
    "    device = torch.device(\"cuda\" if torch.cuda.is_available() else \"cpu\")\n",
    "\n",
    "    # Load the model\n",
    "    new_model, _ = load(\n",
    "        path = model_checkpoint_path,\n",
    "        model_class = BaseDino,\n",
    "        optimizer = optimizer,\n",
    "        scheduler = scheduler,\n",
    "        device = device\n",
    "    )\n",
    "    new_model.to(device) # manually move the model to the device\n",
    "\n",
    "    # Create a new SparseSGDM optimizer\n",
    "    new_optimizer = SparseSGDM(\n",
    "        new_model.parameters(), \n",
    "        mask = mask, \n",
    "        lr = LR,\n",
    "        momentum = momentum,\n",
    "        weight_decay = weight_decay\n",
    "    )\n",
    "\n",
    "    _, _, _, _ = train(\n",
    "        checkpoint_dir = CHECKPOINT_DIR,\n",
    "        name = name,\n",
    "        start_epoch = 1,\n",
    "        num_epochs = epochs,\n",
    "        save_every = epochs,\n",
    "        backup_every = None,\n",
    "        train_dataloader = train_dataloader,\n",
    "        val_dataloader = None,\n",
    "        model = new_model,\n",
    "        criterion = criterion,\n",
    "        optimizer = new_optimizer,\n",
    "        scheduler = None, # No scheduler needed, too few epochs\n",
    "        verbose = verbose\n",
    "    )\n",
    "\n",
    "    # Compute per-class accuracy\n",
    "    class_acc = per_class_accuracy(test_dataloader, new_model)\n",
    "\n",
    "    return class_acc"
   ]
  },
  {
   "cell_type": "code",
   "execution_count": null,
   "id": "585f9c67",
   "metadata": {},
   "outputs": [],
   "source": [
    "# GLOBAL MASK\n",
    "global_acc = fine_tune(\n",
    "    name = f'{model_name}_ft_global',\n",
    "    mask = global_mask_list,\n",
    "    optimizer = optimizer,\n",
    "    scheduler = scheduler,\n",
    "    criterion = criterion,\n",
    "    train_dataloader = train_dataloader,\n",
    "    epochs = 3,\n",
    "    save_every = 3\n",
    ")\n",
    "\n",
    "new_test_accuracy = np.mean(global_acc)\n",
    "print(f'\\nTest accuracy: {100*new_test_accuracy:.2f}% (original: {100*test_accuracy:.2f}%)')\n",
    "\n",
    "count = sum([1 for i in range(len(global_acc)) if global_acc[i] < class_acc[i]])\n",
    "print(f'Fine-tuned model is worse in {count} classes, wrt the original model')\n",
    "# Save to file the per-class accuracy difference\n",
    "# Create a dictionary with new_class_acc, class_acc, and class_idx\n",
    "accuracy_data = {\n",
    "    \"class_idx\": list(range(100)),\n",
    "    \"new_class_acc\": list(global_acc),\n",
    "    \"class_acc\": list(class_acc)\n",
    "}\n",
    "output_file = f\"{CHECKPOINT_DIR}/Editing/{model_name}/accuracy_comparison_global.json\"\n",
    "\n",
    "# Save the dictionary to a JSON file\n",
    "with open(output_file, \"w\") as json_file:\n",
    "    json.dump(accuracy_data, json_file, indent=4)\n",
    "print(f\"Accuracy data saved to {output_file}\")"
   ]
  },
  {
   "cell_type": "code",
   "execution_count": null,
   "id": "547ec72a",
   "metadata": {},
   "outputs": [],
   "source": [
    "# LOCAL MASK\n",
    "local_acc = fine_tune(\n",
    "    name = f'{model_name}_ft_local',\n",
    "    mask = local_mask_list,\n",
    "    optimizer = optimizer,\n",
    "    scheduler = scheduler,\n",
    "    criterion = criterion,\n",
    "    train_dataloader = train_dataloader,\n",
    "    epochs = 3,\n",
    "    save_every = 3\n",
    ")\n",
    "\n",
    "new_test_accuracy = np.mean(local_acc)\n",
    "print(f'\\nTest accuracy: {100*new_test_accuracy:.2f}% (original: {100*test_accuracy:.2f}%)')\n",
    "\n",
    "count = sum([1 for i in range(len(local_acc)) if local_acc[i] < class_acc[i]])\n",
    "print(f'Fine-tuned model is worse in {count} classes, wrt the original model')\n",
    "# Save to file the per-class accuracy difference\n",
    "# Create a dictionary with new_class_acc, class_acc, and class_idx\n",
    "accuracy_data = {\n",
    "    \"class_idx\": list(range(100)),\n",
    "    \"new_class_acc\": list(local_acc),\n",
    "    \"class_acc\": list(class_acc)\n",
    "}\n",
    "output_file = f\"{CHECKPOINT_DIR}/Editing/{model_name}/accuracy_comparison_local.json\"\n",
    "\n",
    "# Save the dictionary to a JSON file\n",
    "with open(output_file, \"w\") as json_file:\n",
    "    json.dump(accuracy_data, json_file, indent=4)\n",
    "print(f\"Accuracy data saved to {output_file}\")"
   ]
  }
 ],
 "metadata": {
  "kernelspec": {
   "display_name": ".venv",
   "language": "python",
   "name": "python3"
  },
  "language_info": {
   "codemirror_mode": {
    "name": "ipython",
    "version": 3
   },
   "file_extension": ".py",
   "mimetype": "text/x-python",
   "name": "python",
   "nbconvert_exporter": "python",
   "pygments_lexer": "ipython3",
   "version": "3.12.6"
  }
 },
 "nbformat": 4,
 "nbformat_minor": 5
}
