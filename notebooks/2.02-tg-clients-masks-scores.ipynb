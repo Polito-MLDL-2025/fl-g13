{
 "cells": [
  {
   "cell_type": "code",
   "execution_count": 1,
   "id": "d5c8edc9",
   "metadata": {},
   "outputs": [],
   "source": [
    "%load_ext autoreload\n",
    "%autoreload 2"
   ]
  },
  {
   "cell_type": "code",
   "execution_count": 2,
   "id": "8418d68d",
   "metadata": {},
   "outputs": [
    {
     "name": "stderr",
     "output_type": "stream",
     "text": [
      "\u001b[32m2025-07-01 08:59:48.260\u001b[0m | \u001b[1mINFO    \u001b[0m | \u001b[36mfl_g13.config\u001b[0m:\u001b[36m<module>\u001b[0m:\u001b[36m11\u001b[0m - \u001b[1mPROJ_ROOT path is: C:\\Users\\ciovi\\Desktop\\coding\\mldl\\fl-g13\u001b[0m\n",
      "c:\\Users\\ciovi\\Desktop\\coding\\mldl\\fl-g13\\.venv\\lib\\site-packages\\dockerpycreds\\utils.py:1: DeprecationWarning: The distutils package is deprecated and slated for removal in Python 3.12. Use setuptools or check PEP 632 for potential alternatives\n",
      "  import distutils.spawn\n"
     ]
    }
   ],
   "source": [
    "import flwr\n",
    "import torch\n",
    "import dotenv\n",
    "\n",
    "from fl_g13.fl_pytorch import build_fl_dependencies\n",
    "\n",
    "from fl_g13.fl_pytorch.editing import get_client_masks, aggregate_by_sum, aggregate_masks, save_mask\n",
    "from fl_g13.modeling import load_or_create\n",
    "\n",
    "from fl_g13.architectures import BaseDino"
   ]
  },
  {
   "cell_type": "code",
   "execution_count": 3,
   "id": "2106ff51",
   "metadata": {},
   "outputs": [
    {
     "name": "stdout",
     "output_type": "stream",
     "text": [
      "Training on cuda\n",
      "Flower 1.17.0 / PyTorch 2.7.1+cu128\n",
      "'vision_transformer.py' already exists.\n",
      "'utils.py' already exists.\n"
     ]
    }
   ],
   "source": [
    "dotenv.load_dotenv()\n",
    "DEVICE = \"cuda\" if torch.cuda.is_available() else \"cpu\"\n",
    "print(f\"Training on {DEVICE}\")\n",
    "print(f\"Flower {flwr.__version__} / PyTorch {torch.__version__}\")\n",
    "\n",
    "build_fl_dependencies()"
   ]
  },
  {
   "cell_type": "code",
   "execution_count": null,
   "id": "ce0d8f8b",
   "metadata": {},
   "outputs": [],
   "source": [
    "CHECKPOINT_DIR = dotenv.dotenv_values()['CHECKPOINT_DIR']\n",
    "\n",
    "J = 8\n",
    "partition_type = 'shard'\n",
    "shards = [1, 5, 10, 50]\n",
    "mask_type = 'global'\n",
    "mask_sparsity = 0.7\n",
    "mask_rounds = 3\n",
    "client_batch_size = 1"
   ]
  },
  {
   "cell_type": "code",
   "execution_count": 5,
   "id": "5efd4d23",
   "metadata": {},
   "outputs": [
    {
     "name": "stdout",
     "output_type": "stream",
     "text": [
      "🔍 Loading checkpoint from /Users/ciovi/Desktop/coding/mldl/fl-g13/checkpoints/fl/non-iid/5_8\\5_8_200_epoch.pth\n",
      "📦 Model class in checkpoint: BaseDino\n",
      "🔧 Model configuration: {'variant': 'dino_vits16', 'dropout_rate': 0.0, 'head_hidden_size': 512, 'head_layers': 3, 'num_classes': 100, 'unfreeze_blocks': 0, 'activation_fn': 'GELU', 'pretrained': True}\n"
     ]
    },
    {
     "name": "stderr",
     "output_type": "stream",
     "text": [
      "Using cache found in C:\\Users\\ciovi/.cache\\torch\\hub\\facebookresearch_dino_main\n",
      "Using cache found in C:\\Users\\ciovi/.cache\\torch\\hub\\facebookresearch_dino_main\n"
     ]
    },
    {
     "name": "stdout",
     "output_type": "stream",
     "text": [
      "➡️ Moved model to device: cuda\n",
      "✅ Loaded checkpoint from /Users/ciovi/Desktop/coding/mldl/fl-g13/checkpoints/fl/non-iid/5_8\\5_8_200_epoch.pth, resuming at epoch 201\n",
      "/Users/ciovi/Desktop/coding/mldl/fl-g13/checkpoints/fl/non-iid/5_8 5_8_global_0.7_3.pth\n"
     ]
    },
    {
     "name": "stderr",
     "output_type": "stream",
     "text": [
      "Clients mask: 100%|██████████| 100/100 [50:13<00:00, 30.14s/it]\n"
     ]
    },
    {
     "name": "stdout",
     "output_type": "stream",
     "text": [
      "Saving sum mask to: /Users/ciovi/Desktop/coding/mldl/fl-g13/checkpoints/masks/sum_5_8_global_0.7_3.pth\n",
      "Saving union mask to: /Users/ciovi/Desktop/coding/mldl/fl-g13/checkpoints/masks/union_5_8_global_0.7_3.pth\n",
      "Saving intersection mask to: /Users/ciovi/Desktop/coding/mldl/fl-g13/checkpoints/masks/intersection_5_8_global_0.7_3.pth\n",
      "Saving average fisher scores to: /Users/ciovi/Desktop/coding/mldl/fl-g13/checkpoints/masks/avgscores_5_8_global_0.7_3.pth\n"
     ]
    }
   ],
   "source": [
    "for s in shards:\n",
    "    mask_name = f'{s}_{J}_{mask_type}_{mask_sparsity}_{mask_rounds}.pth'\n",
    "\n",
    "    partition_name = 'iid' if partition_type == 'iid' else 'non-iid'\n",
    "    model_save_path = CHECKPOINT_DIR + f\"/fl/{partition_name}/{s}_{J}\"\n",
    "\n",
    "    model, _ = load_or_create(\n",
    "        path=model_save_path,\n",
    "        model_class=BaseDino,\n",
    "        model_config=None,\n",
    "        optimizer=None,\n",
    "        scheduler=None,\n",
    "        device=DEVICE,\n",
    "        verbose=True\n",
    "    )\n",
    "    model.to(DEVICE)\n",
    "\n",
    "    unfreeze_blocks = 12\n",
    "    model.unfreeze_blocks(unfreeze_blocks)\n",
    "    \n",
    "    print(model_save_path, mask_name)\n",
    "\n",
    "    masks, scores, _ = get_client_masks(\n",
    "        ## config client data set params\n",
    "        client_partition_type=partition_type,        # 'iid' or 'shard' for non-iid dataset\n",
    "        client_num_partitions=100,                  # equal to number of client\n",
    "        client_num_shards_per_partition=s,\n",
    "        client_batch_size=client_batch_size,\n",
    "\n",
    "        ## config get mask params\n",
    "        mask_model=model,\n",
    "        mask_sparsity=mask_sparsity,\n",
    "        mask_type=mask_type,\n",
    "        mask_rounds=mask_rounds,\n",
    "        return_scores = True # Always return the scores\n",
    "    )\n",
    "    \n",
    "    sum_mask = aggregate_by_sum(masks)\n",
    "    print(f\"Saving sum mask to: {CHECKPOINT_DIR + f'/masks/sum_{mask_name}'}\")\n",
    "    save_mask(sum_mask, CHECKPOINT_DIR + f'/masks/sum_{mask_name}')\n",
    "    \n",
    "    union_mask = aggregate_masks(masks, 'union')\n",
    "    print(f\"Saving union mask to: {CHECKPOINT_DIR + f'/masks/union_{mask_name}'}\")\n",
    "    save_mask(union_mask, CHECKPOINT_DIR + f'/masks/union_{mask_name}')\n",
    "    \n",
    "    intersection_mask = aggregate_masks(masks, 'intersection')\n",
    "    print(f\"Saving intersection mask to: {CHECKPOINT_DIR + f'/masks/intersection_{mask_name}'}\")\n",
    "    save_mask(intersection_mask, CHECKPOINT_DIR + f'/masks/intersection_{mask_name}')\n",
    "    \n",
    "    sum_scores = aggregate_by_sum(scores)\n",
    "    for k in sum_scores.keys():\n",
    "        sum_scores[k] /= 100 # average across clients\n",
    "    print(f\"Saving average fisher scores to: {CHECKPOINT_DIR + f'/masks/avgscores_{mask_name}'}\")    \n",
    "    save_mask(sum_scores, CHECKPOINT_DIR + f'/masks/avgscores_{mask_name}')"
   ]
  }
 ],
 "metadata": {
  "kernelspec": {
   "display_name": ".venv",
   "language": "python",
   "name": "python3"
  },
  "language_info": {
   "codemirror_mode": {
    "name": "ipython",
    "version": 3
   },
   "file_extension": ".py",
   "mimetype": "text/x-python",
   "name": "python",
   "nbconvert_exporter": "python",
   "pygments_lexer": "ipython3",
   "version": "3.10.0"
  }
 },
 "nbformat": 4,
 "nbformat_minor": 5
}
