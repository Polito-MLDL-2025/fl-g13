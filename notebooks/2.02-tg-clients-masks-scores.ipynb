{
 "cells": [
  {
   "cell_type": "code",
   "execution_count": null,
   "id": "d5c8edc9",
   "metadata": {},
   "outputs": [],
   "source": [
    "%load_ext autoreload\n",
    "%autoreload 2"
   ]
  },
  {
   "cell_type": "code",
   "execution_count": null,
   "id": "8418d68d",
   "metadata": {},
   "outputs": [],
   "source": [
    "import flwr\n",
    "import torch\n",
    "import dotenv\n",
    "\n",
    "from fl_g13.fl_pytorch import build_fl_dependencies\n",
    "\n",
    "from fl_g13.fl_pytorch.editing import get_client_masks, aggregate_by_sum, aggregate_masks, save_mask\n",
    "from fl_g13.modeling import load_or_create\n",
    "\n",
    "from fl_g13.architectures import BaseDino"
   ]
  },
  {
   "cell_type": "code",
   "execution_count": null,
   "id": "2106ff51",
   "metadata": {},
   "outputs": [],
   "source": [
    "dotenv.load_dotenv()\n",
    "DEVICE = \"cuda\" if torch.cuda.is_available() else \"cpu\"\n",
    "print(f\"Training on {DEVICE}\")\n",
    "print(f\"Flower {flwr.__version__} / PyTorch {torch.__version__}\")\n",
    "\n",
    "build_fl_dependencies()"
   ]
  },
  {
   "cell_type": "code",
   "execution_count": null,
   "id": "ce0d8f8b",
   "metadata": {},
   "outputs": [],
   "source": [
    "CHECKPOINT_DIR = dotenv.dotenv_values()['CHECKPOINT_DIR']\n",
    "\n",
    "J = 8\n",
    "partition_type = 'shard'\n",
    "shards = [1, 10, 50]\n",
    "mask_type = 'local'\n",
    "mask_sparsity = 0.7\n",
    "mask_rounds = 3\n",
    "client_batch_size = 1"
   ]
  },
  {
   "cell_type": "code",
   "execution_count": null,
   "id": "5efd4d23",
   "metadata": {},
   "outputs": [],
   "source": [
    "for s in shards:\n",
    "    mask_name = f'{s}_{J}_{mask_type}_{mask_sparsity}_{mask_rounds}.pth'\n",
    "\n",
    "    partition_name = 'iid' if partition_type == 'iid' else 'non-iid'\n",
    "    model_save_path = CHECKPOINT_DIR + f\"/fl/{partition_name}/{s}_{J}\"\n",
    "\n",
    "    model, _ = load_or_create(\n",
    "        path=model_save_path,\n",
    "        model_class=BaseDino,\n",
    "        model_config=None,\n",
    "        optimizer=None,\n",
    "        scheduler=None,\n",
    "        device=DEVICE,\n",
    "        verbose=True\n",
    "    )\n",
    "    model.to(DEVICE)\n",
    "\n",
    "    unfreeze_blocks = 12\n",
    "    model.unfreeze_blocks(unfreeze_blocks)\n",
    "    \n",
    "    print(model_save_path, mask_name)\n",
    "\n",
    "    masks, scores, _ = get_client_masks(\n",
    "        ## config client data set params\n",
    "        client_partition_type=partition_type,        # 'iid' or 'shard' for non-iid dataset\n",
    "        client_num_partitions=100,                  # equal to number of client\n",
    "        client_num_shards_per_partition=s,\n",
    "        client_batch_size=client_batch_size,\n",
    "\n",
    "        ## config get mask params\n",
    "        mask_model=model,\n",
    "        mask_sparsity=mask_sparsity,\n",
    "        mask_type=mask_type,\n",
    "        mask_rounds=mask_rounds,\n",
    "        return_scores = True # Always return the scores\n",
    "    )\n",
    "    \n",
    "    sum_mask = aggregate_by_sum(masks)\n",
    "    print(f\"Saving sum mask to: {CHECKPOINT_DIR + f'/masks/sum_{mask_name}'}\")\n",
    "    save_mask(sum_mask, CHECKPOINT_DIR + f'/masks/sum_{mask_name}')\n",
    "    \n",
    "    union_mask = aggregate_masks(masks, 'union')\n",
    "    print(f\"Saving union mask to: {CHECKPOINT_DIR + f'/masks/union_{mask_name}'}\")\n",
    "    save_mask(union_mask, CHECKPOINT_DIR + f'/masks/union_{mask_name}')\n",
    "    \n",
    "    intersection_mask = aggregate_masks(masks, 'intersection')\n",
    "    print(f\"Saving intersection mask to: {CHECKPOINT_DIR + f'/masks/intersection_{mask_name}'}\")\n",
    "    save_mask(intersection_mask, CHECKPOINT_DIR + f'/masks/intersection_{mask_name}')\n",
    "    \n",
    "    sum_scores = aggregate_by_sum(scores)\n",
    "    for k in sum_scores.keys():\n",
    "        sum_scores[k] /= 100 # average across clients\n",
    "    print(f\"Saving average fisher scores to: {CHECKPOINT_DIR + f'/masks/avgscores_{mask_name}'}\")    \n",
    "    save_mask(sum_scores, CHECKPOINT_DIR + f'/masks/avgscores_{mask_name}')"
   ]
  }
 ],
 "metadata": {
  "kernelspec": {
   "display_name": ".venv",
   "language": "python",
   "name": "python3"
  },
  "language_info": {
   "codemirror_mode": {
    "name": "ipython",
    "version": 3
   },
   "file_extension": ".py",
   "mimetype": "text/x-python",
   "name": "python",
   "nbconvert_exporter": "python",
   "pygments_lexer": "ipython3",
   "version": "3.10.0"
  }
 },
 "nbformat": 4,
 "nbformat_minor": 5
}
