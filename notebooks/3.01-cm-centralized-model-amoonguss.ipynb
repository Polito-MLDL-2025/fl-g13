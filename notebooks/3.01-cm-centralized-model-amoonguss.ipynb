{
 "cells": [
  {
   "cell_type": "code",
   "execution_count": 1,
   "id": "ffbee39c",
   "metadata": {},
   "outputs": [],
   "source": [
    "%load_ext autoreload\n",
    "%autoreload 2"
   ]
  },
  {
   "cell_type": "code",
   "execution_count": 2,
   "id": "b4f52dd8",
   "metadata": {},
   "outputs": [
    {
     "name": "stderr",
     "output_type": "stream",
     "text": [
      "\u001b[32m2025-05-02 09:59:02.298\u001b[0m | \u001b[1mINFO    \u001b[0m | \u001b[36mfl_g13.config\u001b[0m:\u001b[36m<module>\u001b[0m:\u001b[36m11\u001b[0m - \u001b[1mPROJ_ROOT path is: /home/massimiliano/Projects/fl-g13\u001b[0m\n"
     ]
    }
   ],
   "source": [
    "import torch\n",
    "import torch.nn as nn\n",
    "from torch.nn import CrossEntropyLoss\n",
    "import torch.optim as optim\n",
    "from torch.optim import SGD\n",
    "from torch.optim.lr_scheduler import CosineAnnealingLR, CosineAnnealingWarmRestarts\n",
    "from torchvision import datasets\n",
    "from torch.utils.data import DataLoader\n",
    "\n",
    "from torchvision import models\n",
    "from torchvision.transforms import Compose, Resize, CenterCrop, RandomCrop, RandomHorizontalFlip, RandomVerticalFlip, Normalize, ToTensor\n",
    "\n",
    "from fl_g13.config import RAW_DATA_DIR\n",
    "from fl_g13.modeling import train, eval, save, load, backup, load_loss_and_accuracies, save_loss_and_accuracy\n",
    "from fl_g13.dataset import train_test_split\n",
    "\n",
    "from fl_g13.architectures import BaseDino\n",
    "from fl_g13.editing import SparseSGDM\n"
   ]
  },
  {
   "cell_type": "code",
   "execution_count": 3,
   "id": "77f11d5a",
   "metadata": {},
   "outputs": [
    {
     "name": "stdout",
     "output_type": "stream",
     "text": [
      "Train dataset size: 40000\n",
      "Validation dataset size: 10000\n",
      "Test dataset size: 10000\n"
     ]
    }
   ],
   "source": [
    "# Define preprocessing pipeline\n",
    "train_transform = Compose([\n",
    "    Resize(256), # CIFRA100 is originally 32x32\n",
    "    RandomCrop(224), # But Dino works on 224x224\n",
    "    RandomHorizontalFlip(),\n",
    "    ToTensor(),\n",
    "    #Normalize(mean=[0.5071, 0.4866, 0.4409], std=[0.2673, 0.2564, 0.2762]), # CIFRAR100 Train stats\n",
    "    Normalize(mean = [0.485, 0.456, 0.406], std = [0.229, 0.224, 0.225]) # Use ImageNet stats\n",
    "])\n",
    "\n",
    "eval_transform = Compose([\n",
    "    Resize(256), # CIFRA100 is originally 32x32\n",
    "    CenterCrop(224), # But Dino works on 224x224\n",
    "    ToTensor(),\n",
    "    #Normalize(mean=[0.5071, 0.4866, 0.4409], std=[0.2673, 0.2564, 0.2762]), # CIFRAR100 Train stats\n",
    "    Normalize(mean=[0.485, 0.456, 0.406], std=[0.229, 0.224, 0.225]), # Use ImageNet stats\n",
    "])\n",
    "\n",
    "cifar100_train = datasets.CIFAR100(root=RAW_DATA_DIR, train=True, download=True, transform=train_transform)\n",
    "cifar100_test = datasets.CIFAR100(root=RAW_DATA_DIR, train=False, download=True, transform=eval_transform)\n",
    "\n",
    "# Always specify a random state, otherwise the split will be different each time \n",
    "# If you have intention to load a model mid-training, you may have part of the validation set as already seen in the previous training\n",
    "train_dataset, val_dataset = train_test_split(cifar100_train, 0.8, random_state=42)\n",
    "test_dataset = cifar100_test\n",
    "\n",
    "print(f\"Train dataset size: {len(train_dataset)}\")\n",
    "print(f\"Validation dataset size: {len(val_dataset)}\")\n",
    "print(f\"Test dataset size: {len(test_dataset)}\")"
   ]
  },
  {
   "cell_type": "code",
   "execution_count": 4,
   "id": "349a5230",
   "metadata": {},
   "outputs": [
    {
     "name": "stdout",
     "output_type": "stream",
     "text": [
      "Using device: cuda\n"
     ]
    },
    {
     "name": "stderr",
     "output_type": "stream",
     "text": [
      "Using cache found in /home/massimiliano/.cache/torch/hub/facebookresearch_dino_main\n"
     ]
    },
    {
     "name": "stdout",
     "output_type": "stream",
     "text": [
      "\n",
      "Model: BaseDino(\n",
      "  (backbone): VisionTransformer(\n",
      "    (patch_embed): PatchEmbed(\n",
      "      (proj): Conv2d(3, 384, kernel_size=(16, 16), stride=(16, 16))\n",
      "    )\n",
      "    (pos_drop): Dropout(p=0.0, inplace=False)\n",
      "    (blocks): ModuleList(\n",
      "      (0-11): 12 x Block(\n",
      "        (norm1): LayerNorm((384,), eps=1e-06, elementwise_affine=True)\n",
      "        (attn): Attention(\n",
      "          (qkv): Linear(in_features=384, out_features=1152, bias=True)\n",
      "          (attn_drop): Dropout(p=0.0, inplace=False)\n",
      "          (proj): Linear(in_features=384, out_features=384, bias=True)\n",
      "          (proj_drop): Dropout(p=0.0, inplace=False)\n",
      "        )\n",
      "        (drop_path): Identity()\n",
      "        (norm2): LayerNorm((384,), eps=1e-06, elementwise_affine=True)\n",
      "        (mlp): Mlp(\n",
      "          (fc1): Linear(in_features=384, out_features=1536, bias=True)\n",
      "          (act): GELU(approximate='none')\n",
      "          (fc2): Linear(in_features=1536, out_features=384, bias=True)\n",
      "          (drop): Dropout(p=0.0, inplace=False)\n",
      "        )\n",
      "      )\n",
      "    )\n",
      "    (norm): LayerNorm((384,), eps=1e-06, elementwise_affine=True)\n",
      "    (head): Identity()\n",
      "  )\n",
      "  (head): Sequential(\n",
      "    (0): Linear(in_features=384, out_features=512, bias=True)\n",
      "    (1): GELU(approximate='none')\n",
      "    (2): Dropout(p=0.0, inplace=False)\n",
      "    (3): Linear(in_features=512, out_features=512, bias=True)\n",
      "    (4): GELU(approximate='none')\n",
      "    (5): Dropout(p=0.0, inplace=False)\n",
      "    (6): Linear(in_features=512, out_features=512, bias=True)\n",
      "    (7): GELU(approximate='none')\n",
      "    (8): Dropout(p=0.0, inplace=False)\n",
      "    (9): Linear(in_features=512, out_features=512, bias=True)\n",
      "    (10): GELU(approximate='none')\n",
      "    (11): Dropout(p=0.0, inplace=False)\n",
      "    (12): Linear(in_features=512, out_features=512, bias=True)\n",
      "    (13): GELU(approximate='none')\n",
      "    (14): Dropout(p=0.0, inplace=False)\n",
      "    (15): Linear(in_features=512, out_features=100, bias=True)\n",
      "  )\n",
      ")\n"
     ]
    }
   ],
   "source": [
    "# Move to CUDA\n",
    "device = torch.device(\"cuda\" if torch.cuda.is_available() else \"cpu\")\n",
    "print(f\"Using device: {device}\")\n",
    "\n",
    "# Settings\n",
    "CHECKPOINT_DIR = \"/home/massimiliano/Projects/fl-g13/checkpoints\"\n",
    "name = \"amoonguss\"\n",
    "start_epoch=1\n",
    "num_epochs=80\n",
    "save_every=5\n",
    "backup_every=20\n",
    "\n",
    "# Model Hyper-parameters\n",
    "head_layers=5\n",
    "head_hidden_size=512\n",
    "dropout_rate=0.0\n",
    "unfreeze_blocks=1\n",
    "\n",
    "# Training Hyper-parameters\n",
    "batch_size=128\n",
    "lr=1e-3\n",
    "momentum=0.0\n",
    "weight_decay=0.0\n",
    "dampening=0.0\n",
    "T_max=30\n",
    "eta_min=1e-5\n",
    "\n",
    "# Dataloaders\n",
    "train_dataloader = DataLoader(train_dataset, batch_size=batch_size, shuffle=True)\n",
    "val_dataloader = DataLoader(val_dataset, batch_size=batch_size, shuffle=False)\n",
    "test_dataloader = DataLoader(test_dataset, batch_size=batch_size, shuffle=False)\n",
    "\n",
    "# Model\n",
    "model = BaseDino(\n",
    "    head_layers=head_layers, \n",
    "    head_hidden_size=head_hidden_size, \n",
    "    dropout_rate=dropout_rate, \n",
    "    unfreeze_blocks=unfreeze_blocks\n",
    "    )\n",
    "model.to(device)\n",
    "\n",
    "# Optimizer, scheduler, and loss function\n",
    "optimizer = SGD(\n",
    "    model.parameters(), \n",
    "    lr=lr,\n",
    "    momentum=momentum,\n",
    "    dampening=dampening,\n",
    "    weight_decay=weight_decay\n",
    "    )\n",
    "scheduler = CosineAnnealingLR(\n",
    "    optimizer=optimizer, \n",
    "    T_max=T_max, \n",
    "    eta_min=eta_min\n",
    "    )\n",
    "criterion = CrossEntropyLoss()\n",
    "\n",
    "all_training_losses=[]       # Pre-allocated list for training losses\n",
    "all_validation_losses=[]       # Pre-allocated list for validation losses\n",
    "all_training_accuracies=[]    # Pre-allocated list for training accuracies\n",
    "all_validation_accuracies=[]    # Pre-allocated list for validation accuracies\n",
    "\n",
    "# ---- RESUME ----\n",
    "\n",
    "# # Model loading (uncomment to properly overwrite)\n",
    "# loading_epoch = 20\n",
    "# model, start_epoch = load(\n",
    "#     f\"{CHECKPOINT_DIR}/BaseDino/{name}_BaseDino_epoch_{loading_epoch}.pth\",\n",
    "#     model_class=BaseDino,\n",
    "#     device=device,\n",
    "#     optimizer=optimizer,\n",
    "#     scheduler=scheduler,\n",
    "#     verbose=True\n",
    "# )\n",
    "# model.to(device)\n",
    "# loaded_metrics = load_loss_and_accuracies(path=f\"{CHECKPOINT_DIR}/BaseDino/{name}_BaseDino_epoch_{loading_epoch}.loss_acc.json\")\n",
    "\n",
    "# # Preallocated lists: if the training interrupts, it will still save their values (uncomment to properly load and overwrite)\n",
    "# all_training_losses=loaded_metrics[\"train_loss\"]       # Pre-allocated list for training losses\n",
    "# all_validation_losses=loaded_metrics[\"val_loss\"]       # Pre-allocated list for validation losses\n",
    "# all_training_accuracies=loaded_metrics[\"train_acc\"]    # Pre-allocated list for training accuracies\n",
    "# all_validation_accuracies=loaded_metrics[\"val_acc\"]    # Pre-allocated list for validation accuracies\n",
    "\n",
    "# -----------------\n",
    "\n",
    "print(f\"\\nModel: {model}\")"
   ]
  },
  {
   "cell_type": "code",
   "execution_count": 5,
   "id": "e2eecebd",
   "metadata": {},
   "outputs": [
    {
     "name": "stdout",
     "output_type": "stream",
     "text": [
      "Predicted class: 13, True class: 49\n",
      "Outputs shape: torch.Size([128, 100])\n"
     ]
    }
   ],
   "source": [
    "# Get one batch of data from the test dataloader\n",
    "data_iter = iter(test_dataloader)\n",
    "images, labels = next(data_iter)\n",
    "\n",
    "# Move the data to the same device as the model\n",
    "images = images.to(device)\n",
    "\n",
    "# Perform prediction\n",
    "model.eval()  # Set the model to evaluation mode\n",
    "with torch.no_grad():\n",
    "    outputs = model(images)\n",
    "    _, predicted = torch.max(outputs, 1)\n",
    "\n",
    "# Print the first prediction and its corresponding label\n",
    "print(f\"Predicted class: {predicted[0].item()}, True class: {labels[0].item()}\")\n",
    "print(f\"Outputs shape: {outputs.shape}\")"
   ]
  },
  {
   "cell_type": "code",
   "execution_count": 6,
   "id": "6feed087",
   "metadata": {},
   "outputs": [
    {
     "name": "stdout",
     "output_type": "stream",
     "text": [
      "Prefix/name for the model was provided: amoonguss\n",
      "\n"
     ]
    },
    {
     "name": "stderr",
     "output_type": "stream",
     "text": [
      "Training progress: 100%|██████████| 313/313 [01:24<00:00,  3.69batch/s]\n"
     ]
    },
    {
     "name": "stdout",
     "output_type": "stream",
     "text": [
      "🚀 Epoch 1/80 (1.25%) Completed\n",
      "\t📊 Training Loss: 4.3726\n",
      "\t✅ Training Accuracy: 6.04%\n",
      "\t⏳ Elapsed Time: 84.82s | ETA: 6700.89s\n",
      "\t🕒 Completed At: 10:00\n"
     ]
    },
    {
     "name": "stderr",
     "output_type": "stream",
     "text": [
      "Eval progress: 100%|██████████| 79/79 [00:20<00:00,  3.95batch/s]\n"
     ]
    },
    {
     "name": "stdout",
     "output_type": "stream",
     "text": [
      "🔍 Validation Results:\n",
      "\t📉 Validation Loss: 3.7967\n",
      "\t🎯 Validation Accuracy: 15.37%\n",
      "\n"
     ]
    },
    {
     "name": "stderr",
     "output_type": "stream",
     "text": [
      "Training progress: 100%|██████████| 313/313 [01:25<00:00,  3.64batch/s]\n"
     ]
    },
    {
     "name": "stdout",
     "output_type": "stream",
     "text": [
      "🚀 Epoch 2/80 (2.50%) Completed\n",
      "\t📊 Training Loss: 2.8357\n",
      "\t✅ Training Accuracy: 34.33%\n",
      "\t⏳ Elapsed Time: 85.93s | ETA: 6702.18s\n",
      "\t🕒 Completed At: 10:02\n"
     ]
    },
    {
     "name": "stderr",
     "output_type": "stream",
     "text": [
      "Eval progress: 100%|██████████| 79/79 [00:19<00:00,  4.10batch/s]\n"
     ]
    },
    {
     "name": "stdout",
     "output_type": "stream",
     "text": [
      "🔍 Validation Results:\n",
      "\t📉 Validation Loss: 2.0970\n",
      "\t🎯 Validation Accuracy: 48.10%\n",
      "\n"
     ]
    },
    {
     "name": "stderr",
     "output_type": "stream",
     "text": [
      "Training progress: 100%|██████████| 313/313 [01:26<00:00,  3.60batch/s]\n"
     ]
    },
    {
     "name": "stdout",
     "output_type": "stream",
     "text": [
      "🚀 Epoch 3/80 (3.75%) Completed\n",
      "\t📊 Training Loss: 1.7155\n",
      "\t✅ Training Accuracy: 54.74%\n",
      "\t⏳ Elapsed Time: 86.88s | ETA: 6689.94s\n",
      "\t🕒 Completed At: 10:04\n"
     ]
    },
    {
     "name": "stderr",
     "output_type": "stream",
     "text": [
      "Eval progress: 100%|██████████| 79/79 [00:19<00:00,  4.14batch/s]\n"
     ]
    },
    {
     "name": "stdout",
     "output_type": "stream",
     "text": [
      "🔍 Validation Results:\n",
      "\t📉 Validation Loss: 1.5949\n",
      "\t🎯 Validation Accuracy: 56.96%\n",
      "\n"
     ]
    },
    {
     "name": "stderr",
     "output_type": "stream",
     "text": [
      "Training progress: 100%|██████████| 313/313 [01:25<00:00,  3.68batch/s]\n"
     ]
    },
    {
     "name": "stdout",
     "output_type": "stream",
     "text": [
      "🚀 Epoch 4/80 (5.00%) Completed\n",
      "\t📊 Training Loss: 1.3422\n",
      "\t✅ Training Accuracy: 62.77%\n",
      "\t⏳ Elapsed Time: 85.03s | ETA: 6461.97s\n",
      "\t🕒 Completed At: 10:05\n"
     ]
    },
    {
     "name": "stderr",
     "output_type": "stream",
     "text": [
      "Eval progress: 100%|██████████| 79/79 [00:30<00:00,  2.60batch/s]\n"
     ]
    },
    {
     "name": "stdout",
     "output_type": "stream",
     "text": [
      "🔍 Validation Results:\n",
      "\t📉 Validation Loss: 1.4939\n",
      "\t🎯 Validation Accuracy: 58.18%\n",
      "\n"
     ]
    },
    {
     "name": "stderr",
     "output_type": "stream",
     "text": [
      "Training progress: 100%|██████████| 313/313 [01:36<00:00,  3.25batch/s]\n"
     ]
    },
    {
     "name": "stdout",
     "output_type": "stream",
     "text": [
      "🚀 Epoch 5/80 (6.25%) Completed\n",
      "\t📊 Training Loss: 1.1592\n",
      "\t✅ Training Accuracy: 67.25%\n",
      "\t⏳ Elapsed Time: 96.40s | ETA: 7230.22s\n",
      "\t🕒 Completed At: 10:07\n"
     ]
    },
    {
     "name": "stderr",
     "output_type": "stream",
     "text": [
      "Eval progress: 100%|██████████| 79/79 [00:19<00:00,  4.10batch/s]\n"
     ]
    },
    {
     "name": "stdout",
     "output_type": "stream",
     "text": [
      "🔍 Validation Results:\n",
      "\t📉 Validation Loss: 1.3995\n",
      "\t🎯 Validation Accuracy: 61.46%\n",
      "\n",
      "💾 Saved checkpoint at: /home/massimiliano/Projects/fl-g13/checkpoints/BaseDino/amoonguss_BaseDino_epoch_5.pth\n",
      "💾 Saved losses and accuracies (training and validation) at: /home/massimiliano/Projects/fl-g13/checkpoints/BaseDino/amoonguss_BaseDino_epoch_5.loss_acc.json\n",
      "\n"
     ]
    },
    {
     "name": "stderr",
     "output_type": "stream",
     "text": [
      "Training progress: 100%|██████████| 313/313 [01:25<00:00,  3.68batch/s]\n"
     ]
    },
    {
     "name": "stdout",
     "output_type": "stream",
     "text": [
      "🚀 Epoch 6/80 (7.50%) Completed\n",
      "\t📊 Training Loss: 1.0282\n",
      "\t✅ Training Accuracy: 70.41%\n",
      "\t⏳ Elapsed Time: 85.16s | ETA: 6302.06s\n",
      "\t🕒 Completed At: 10:09\n"
     ]
    },
    {
     "name": "stderr",
     "output_type": "stream",
     "text": [
      "Eval progress: 100%|██████████| 79/79 [00:19<00:00,  4.12batch/s]\n"
     ]
    },
    {
     "name": "stdout",
     "output_type": "stream",
     "text": [
      "🔍 Validation Results:\n",
      "\t📉 Validation Loss: 1.2010\n",
      "\t🎯 Validation Accuracy: 66.14%\n",
      "\n"
     ]
    },
    {
     "name": "stderr",
     "output_type": "stream",
     "text": [
      "Training progress: 100%|██████████| 313/313 [01:25<00:00,  3.67batch/s]\n"
     ]
    },
    {
     "name": "stdout",
     "output_type": "stream",
     "text": [
      "🚀 Epoch 7/80 (8.75%) Completed\n",
      "\t📊 Training Loss: 0.9375\n",
      "\t✅ Training Accuracy: 72.63%\n",
      "\t⏳ Elapsed Time: 85.31s | ETA: 6227.64s\n",
      "\t🕒 Completed At: 10:11\n"
     ]
    },
    {
     "name": "stderr",
     "output_type": "stream",
     "text": [
      "Eval progress: 100%|██████████| 79/79 [00:19<00:00,  4.13batch/s]\n"
     ]
    },
    {
     "name": "stdout",
     "output_type": "stream",
     "text": [
      "🔍 Validation Results:\n",
      "\t📉 Validation Loss: 1.1841\n",
      "\t🎯 Validation Accuracy: 66.29%\n",
      "\n"
     ]
    },
    {
     "name": "stderr",
     "output_type": "stream",
     "text": [
      "Training progress: 100%|██████████| 313/313 [01:26<00:00,  3.60batch/s]\n"
     ]
    },
    {
     "name": "stdout",
     "output_type": "stream",
     "text": [
      "🚀 Epoch 8/80 (10.00%) Completed\n",
      "\t📊 Training Loss: 0.8612\n",
      "\t✅ Training Accuracy: 74.89%\n",
      "\t⏳ Elapsed Time: 86.92s | ETA: 6258.37s\n",
      "\t🕒 Completed At: 10:13\n"
     ]
    },
    {
     "name": "stderr",
     "output_type": "stream",
     "text": [
      "Eval progress: 100%|██████████| 79/79 [00:19<00:00,  4.11batch/s]\n"
     ]
    },
    {
     "name": "stdout",
     "output_type": "stream",
     "text": [
      "🔍 Validation Results:\n",
      "\t📉 Validation Loss: 1.0787\n",
      "\t🎯 Validation Accuracy: 69.65%\n",
      "\n"
     ]
    },
    {
     "name": "stderr",
     "output_type": "stream",
     "text": [
      "Training progress: 100%|██████████| 313/313 [01:26<00:00,  3.62batch/s]\n"
     ]
    },
    {
     "name": "stdout",
     "output_type": "stream",
     "text": [
      "🚀 Epoch 9/80 (11.25%) Completed\n",
      "\t📊 Training Loss: 0.8003\n",
      "\t✅ Training Accuracy: 76.43%\n",
      "\t⏳ Elapsed Time: 86.49s | ETA: 6140.58s\n",
      "\t🕒 Completed At: 10:14\n"
     ]
    },
    {
     "name": "stderr",
     "output_type": "stream",
     "text": [
      "Eval progress: 100%|██████████| 79/79 [00:19<00:00,  4.07batch/s]\n"
     ]
    },
    {
     "name": "stdout",
     "output_type": "stream",
     "text": [
      "🔍 Validation Results:\n",
      "\t📉 Validation Loss: 1.0670\n",
      "\t🎯 Validation Accuracy: 69.29%\n",
      "\n"
     ]
    },
    {
     "name": "stderr",
     "output_type": "stream",
     "text": [
      "Training progress: 100%|██████████| 313/313 [01:25<00:00,  3.66batch/s]\n"
     ]
    },
    {
     "name": "stdout",
     "output_type": "stream",
     "text": [
      "🚀 Epoch 10/80 (12.50%) Completed\n",
      "\t📊 Training Loss: 0.7486\n",
      "\t✅ Training Accuracy: 77.98%\n",
      "\t⏳ Elapsed Time: 85.60s | ETA: 5991.77s\n",
      "\t🕒 Completed At: 10:16\n"
     ]
    },
    {
     "name": "stderr",
     "output_type": "stream",
     "text": [
      "Eval progress: 100%|██████████| 79/79 [00:19<00:00,  4.07batch/s]\n"
     ]
    },
    {
     "name": "stdout",
     "output_type": "stream",
     "text": [
      "🔍 Validation Results:\n",
      "\t📉 Validation Loss: 1.0500\n",
      "\t🎯 Validation Accuracy: 69.88%\n",
      "\n",
      "💾 Saved checkpoint at: /home/massimiliano/Projects/fl-g13/checkpoints/BaseDino/amoonguss_BaseDino_epoch_10.pth\n",
      "💾 Saved losses and accuracies (training and validation) at: /home/massimiliano/Projects/fl-g13/checkpoints/BaseDino/amoonguss_BaseDino_epoch_10.loss_acc.json\n",
      "\n"
     ]
    },
    {
     "name": "stderr",
     "output_type": "stream",
     "text": [
      "Training progress: 100%|██████████| 313/313 [01:26<00:00,  3.63batch/s]\n"
     ]
    },
    {
     "name": "stdout",
     "output_type": "stream",
     "text": [
      "🚀 Epoch 11/80 (13.75%) Completed\n",
      "\t📊 Training Loss: 0.7010\n",
      "\t✅ Training Accuracy: 79.14%\n",
      "\t⏳ Elapsed Time: 86.14s | ETA: 5943.45s\n",
      "\t🕒 Completed At: 10:18\n"
     ]
    },
    {
     "name": "stderr",
     "output_type": "stream",
     "text": [
      "Eval progress: 100%|██████████| 79/79 [00:19<00:00,  4.13batch/s]\n"
     ]
    },
    {
     "name": "stdout",
     "output_type": "stream",
     "text": [
      "🔍 Validation Results:\n",
      "\t📉 Validation Loss: 1.0180\n",
      "\t🎯 Validation Accuracy: 71.00%\n",
      "\n"
     ]
    },
    {
     "name": "stderr",
     "output_type": "stream",
     "text": [
      "Training progress: 100%|██████████| 313/313 [01:25<00:00,  3.65batch/s]\n"
     ]
    },
    {
     "name": "stdout",
     "output_type": "stream",
     "text": [
      "🚀 Epoch 12/80 (15.00%) Completed\n",
      "\t📊 Training Loss: 0.6545\n",
      "\t✅ Training Accuracy: 80.65%\n",
      "\t⏳ Elapsed Time: 85.69s | ETA: 5826.71s\n",
      "\t🕒 Completed At: 10:20\n"
     ]
    },
    {
     "name": "stderr",
     "output_type": "stream",
     "text": [
      "Eval progress: 100%|██████████| 79/79 [00:19<00:00,  4.00batch/s]\n"
     ]
    },
    {
     "name": "stdout",
     "output_type": "stream",
     "text": [
      "🔍 Validation Results:\n",
      "\t📉 Validation Loss: 1.0171\n",
      "\t🎯 Validation Accuracy: 70.62%\n",
      "\n"
     ]
    },
    {
     "name": "stderr",
     "output_type": "stream",
     "text": [
      "Training progress: 100%|██████████| 313/313 [01:25<00:00,  3.65batch/s]\n"
     ]
    },
    {
     "name": "stdout",
     "output_type": "stream",
     "text": [
      "🚀 Epoch 13/80 (16.25%) Completed\n",
      "\t📊 Training Loss: 0.6205\n",
      "\t✅ Training Accuracy: 81.58%\n",
      "\t⏳ Elapsed Time: 85.82s | ETA: 5750.22s\n",
      "\t🕒 Completed At: 10:21\n"
     ]
    },
    {
     "name": "stderr",
     "output_type": "stream",
     "text": [
      "Eval progress: 100%|██████████| 79/79 [00:19<00:00,  4.11batch/s]\n"
     ]
    },
    {
     "name": "stdout",
     "output_type": "stream",
     "text": [
      "🔍 Validation Results:\n",
      "\t📉 Validation Loss: 0.9645\n",
      "\t🎯 Validation Accuracy: 72.08%\n",
      "\n"
     ]
    },
    {
     "name": "stderr",
     "output_type": "stream",
     "text": [
      "Training progress: 100%|██████████| 313/313 [01:27<00:00,  3.57batch/s]\n"
     ]
    },
    {
     "name": "stdout",
     "output_type": "stream",
     "text": [
      "🚀 Epoch 14/80 (17.50%) Completed\n",
      "\t📊 Training Loss: 0.5795\n",
      "\t✅ Training Accuracy: 83.02%\n",
      "\t⏳ Elapsed Time: 87.59s | ETA: 5780.68s\n",
      "\t🕒 Completed At: 10:23\n"
     ]
    },
    {
     "name": "stderr",
     "output_type": "stream",
     "text": [
      "Eval progress: 100%|██████████| 79/79 [00:20<00:00,  3.81batch/s]\n"
     ]
    },
    {
     "name": "stdout",
     "output_type": "stream",
     "text": [
      "🔍 Validation Results:\n",
      "\t📉 Validation Loss: 0.9806\n",
      "\t🎯 Validation Accuracy: 71.87%\n",
      "\n"
     ]
    },
    {
     "name": "stderr",
     "output_type": "stream",
     "text": [
      "Training progress: 100%|██████████| 313/313 [01:30<00:00,  3.45batch/s]\n"
     ]
    },
    {
     "name": "stdout",
     "output_type": "stream",
     "text": [
      "🚀 Epoch 15/80 (18.75%) Completed\n",
      "\t📊 Training Loss: 0.5501\n",
      "\t✅ Training Accuracy: 83.61%\n",
      "\t⏳ Elapsed Time: 90.81s | ETA: 5902.44s\n",
      "\t🕒 Completed At: 10:25\n"
     ]
    },
    {
     "name": "stderr",
     "output_type": "stream",
     "text": [
      "Eval progress: 100%|██████████| 79/79 [00:20<00:00,  3.88batch/s]\n"
     ]
    },
    {
     "name": "stdout",
     "output_type": "stream",
     "text": [
      "🔍 Validation Results:\n",
      "\t📉 Validation Loss: 0.9728\n",
      "\t🎯 Validation Accuracy: 72.23%\n",
      "\n",
      "💾 Saved checkpoint at: /home/massimiliano/Projects/fl-g13/checkpoints/BaseDino/amoonguss_BaseDino_epoch_15.pth\n",
      "💾 Saved losses and accuracies (training and validation) at: /home/massimiliano/Projects/fl-g13/checkpoints/BaseDino/amoonguss_BaseDino_epoch_15.loss_acc.json\n",
      "\n"
     ]
    },
    {
     "name": "stderr",
     "output_type": "stream",
     "text": [
      "Training progress: 100%|██████████| 313/313 [01:30<00:00,  3.46batch/s]\n"
     ]
    },
    {
     "name": "stdout",
     "output_type": "stream",
     "text": [
      "🚀 Epoch 16/80 (20.00%) Completed\n",
      "\t📊 Training Loss: 0.5227\n",
      "\t✅ Training Accuracy: 84.43%\n",
      "\t⏳ Elapsed Time: 90.53s | ETA: 5794.04s\n",
      "\t🕒 Completed At: 10:27\n"
     ]
    },
    {
     "name": "stderr",
     "output_type": "stream",
     "text": [
      "Eval progress: 100%|██████████| 79/79 [00:20<00:00,  3.82batch/s]\n"
     ]
    },
    {
     "name": "stdout",
     "output_type": "stream",
     "text": [
      "🔍 Validation Results:\n",
      "\t📉 Validation Loss: 0.9714\n",
      "\t🎯 Validation Accuracy: 72.58%\n",
      "\n"
     ]
    },
    {
     "name": "stderr",
     "output_type": "stream",
     "text": [
      "Training progress: 100%|██████████| 313/313 [01:32<00:00,  3.38batch/s]\n"
     ]
    },
    {
     "name": "stdout",
     "output_type": "stream",
     "text": [
      "🚀 Epoch 17/80 (21.25%) Completed\n",
      "\t📊 Training Loss: 0.4977\n",
      "\t✅ Training Accuracy: 85.46%\n",
      "\t⏳ Elapsed Time: 92.47s | ETA: 5825.90s\n",
      "\t🕒 Completed At: 10:29\n"
     ]
    },
    {
     "name": "stderr",
     "output_type": "stream",
     "text": [
      "Eval progress: 100%|██████████| 79/79 [00:19<00:00,  4.04batch/s]\n"
     ]
    },
    {
     "name": "stdout",
     "output_type": "stream",
     "text": [
      "🔍 Validation Results:\n",
      "\t📉 Validation Loss: 0.9355\n",
      "\t🎯 Validation Accuracy: 73.39%\n",
      "\n"
     ]
    },
    {
     "name": "stderr",
     "output_type": "stream",
     "text": [
      "Training progress: 100%|██████████| 313/313 [01:26<00:00,  3.61batch/s]\n"
     ]
    },
    {
     "name": "stdout",
     "output_type": "stream",
     "text": [
      "🚀 Epoch 18/80 (22.50%) Completed\n",
      "\t📊 Training Loss: 0.4773\n",
      "\t✅ Training Accuracy: 85.99%\n",
      "\t⏳ Elapsed Time: 86.80s | ETA: 5381.45s\n",
      "\t🕒 Completed At: 10:31\n"
     ]
    },
    {
     "name": "stderr",
     "output_type": "stream",
     "text": [
      "Eval progress: 100%|██████████| 79/79 [00:19<00:00,  4.04batch/s]\n"
     ]
    },
    {
     "name": "stdout",
     "output_type": "stream",
     "text": [
      "🔍 Validation Results:\n",
      "\t📉 Validation Loss: 0.9488\n",
      "\t🎯 Validation Accuracy: 73.34%\n",
      "\n"
     ]
    },
    {
     "name": "stderr",
     "output_type": "stream",
     "text": [
      "Training progress: 100%|██████████| 313/313 [01:27<00:00,  3.57batch/s]\n"
     ]
    },
    {
     "name": "stdout",
     "output_type": "stream",
     "text": [
      "🚀 Epoch 19/80 (23.75%) Completed\n",
      "\t📊 Training Loss: 0.4554\n",
      "\t✅ Training Accuracy: 86.80%\n",
      "\t⏳ Elapsed Time: 87.60s | ETA: 5343.83s\n",
      "\t🕒 Completed At: 10:32\n"
     ]
    },
    {
     "name": "stderr",
     "output_type": "stream",
     "text": [
      "Eval progress: 100%|██████████| 79/79 [00:19<00:00,  4.03batch/s]\n"
     ]
    },
    {
     "name": "stdout",
     "output_type": "stream",
     "text": [
      "🔍 Validation Results:\n",
      "\t📉 Validation Loss: 0.9338\n",
      "\t🎯 Validation Accuracy: 73.59%\n",
      "\n"
     ]
    },
    {
     "name": "stderr",
     "output_type": "stream",
     "text": [
      "Training progress: 100%|██████████| 313/313 [01:28<00:00,  3.54batch/s]\n"
     ]
    },
    {
     "name": "stdout",
     "output_type": "stream",
     "text": [
      "🚀 Epoch 20/80 (25.00%) Completed\n",
      "\t📊 Training Loss: 0.4392\n",
      "\t✅ Training Accuracy: 87.48%\n",
      "\t⏳ Elapsed Time: 88.33s | ETA: 5299.57s\n",
      "\t🕒 Completed At: 10:34\n"
     ]
    },
    {
     "name": "stderr",
     "output_type": "stream",
     "text": [
      "Eval progress: 100%|██████████| 79/79 [00:19<00:00,  3.97batch/s]\n"
     ]
    },
    {
     "name": "stdout",
     "output_type": "stream",
     "text": [
      "🔍 Validation Results:\n",
      "\t📉 Validation Loss: 0.9195\n",
      "\t🎯 Validation Accuracy: 73.96%\n",
      "\n",
      "💾 Saved checkpoint at: /home/massimiliano/Projects/fl-g13/checkpoints/BaseDino/amoonguss_BaseDino_epoch_20.pth\n",
      "💾 Saved losses and accuracies (training and validation) at: /home/massimiliano/Projects/fl-g13/checkpoints/BaseDino/amoonguss_BaseDino_epoch_20.loss_acc.json\n",
      "\n",
      "Running backup for epoch 20\n",
      "💾 Saved checkpoint at: /home/massimiliano/Projects/fl-g13/checkpoints/backup/BaseDino/backup_20250502_103457_amoonguss_BaseDino_epoch_20.pth\n",
      "💾 Saved losses and accuracies (training and validation) at: /home/massimiliano/Projects/fl-g13/checkpoints/backup/BaseDino/backup_20250502_103458_amoonguss_BaseDino_epoch_20.loss_acc.json\n",
      "\n"
     ]
    },
    {
     "name": "stderr",
     "output_type": "stream",
     "text": [
      "Training progress: 100%|██████████| 313/313 [01:27<00:00,  3.59batch/s]\n"
     ]
    },
    {
     "name": "stdout",
     "output_type": "stream",
     "text": [
      "🚀 Epoch 21/80 (26.25%) Completed\n",
      "\t📊 Training Loss: 0.4229\n",
      "\t✅ Training Accuracy: 87.81%\n",
      "\t⏳ Elapsed Time: 87.28s | ETA: 5149.42s\n",
      "\t🕒 Completed At: 10:36\n"
     ]
    },
    {
     "name": "stderr",
     "output_type": "stream",
     "text": [
      "Eval progress: 100%|██████████| 79/79 [00:20<00:00,  3.94batch/s]\n"
     ]
    },
    {
     "name": "stdout",
     "output_type": "stream",
     "text": [
      "🔍 Validation Results:\n",
      "\t📉 Validation Loss: 0.9157\n",
      "\t🎯 Validation Accuracy: 74.08%\n",
      "\n"
     ]
    },
    {
     "name": "stderr",
     "output_type": "stream",
     "text": [
      "Training progress: 100%|██████████| 313/313 [01:27<00:00,  3.58batch/s]\n"
     ]
    },
    {
     "name": "stdout",
     "output_type": "stream",
     "text": [
      "🚀 Epoch 22/80 (27.50%) Completed\n",
      "\t📊 Training Loss: 0.4043\n",
      "\t✅ Training Accuracy: 88.49%\n",
      "\t⏳ Elapsed Time: 87.38s | ETA: 5067.83s\n",
      "\t🕒 Completed At: 10:38\n"
     ]
    },
    {
     "name": "stderr",
     "output_type": "stream",
     "text": [
      "Eval progress: 100%|██████████| 79/79 [00:19<00:00,  4.06batch/s]\n"
     ]
    },
    {
     "name": "stdout",
     "output_type": "stream",
     "text": [
      "🔍 Validation Results:\n",
      "\t📉 Validation Loss: 0.9130\n",
      "\t🎯 Validation Accuracy: 74.35%\n",
      "\n"
     ]
    },
    {
     "name": "stderr",
     "output_type": "stream",
     "text": [
      "Training progress: 100%|██████████| 313/313 [01:26<00:00,  3.61batch/s]\n"
     ]
    },
    {
     "name": "stdout",
     "output_type": "stream",
     "text": [
      "🚀 Epoch 23/80 (28.75%) Completed\n",
      "\t📊 Training Loss: 0.3925\n",
      "\t✅ Training Accuracy: 88.89%\n",
      "\t⏳ Elapsed Time: 86.64s | ETA: 4938.25s\n",
      "\t🕒 Completed At: 10:39\n"
     ]
    },
    {
     "name": "stderr",
     "output_type": "stream",
     "text": [
      "Eval progress: 100%|██████████| 79/79 [00:20<00:00,  3.86batch/s]\n"
     ]
    },
    {
     "name": "stdout",
     "output_type": "stream",
     "text": [
      "🔍 Validation Results:\n",
      "\t📉 Validation Loss: 0.9126\n",
      "\t🎯 Validation Accuracy: 74.19%\n",
      "\n"
     ]
    },
    {
     "name": "stderr",
     "output_type": "stream",
     "text": [
      "Training progress: 100%|██████████| 313/313 [01:26<00:00,  3.60batch/s]\n"
     ]
    },
    {
     "name": "stdout",
     "output_type": "stream",
     "text": [
      "🚀 Epoch 24/80 (30.00%) Completed\n",
      "\t📊 Training Loss: 0.3815\n",
      "\t✅ Training Accuracy: 89.33%\n",
      "\t⏳ Elapsed Time: 86.96s | ETA: 4869.57s\n",
      "\t🕒 Completed At: 10:41\n"
     ]
    },
    {
     "name": "stderr",
     "output_type": "stream",
     "text": [
      "Eval progress: 100%|██████████| 79/79 [00:19<00:00,  4.07batch/s]\n"
     ]
    },
    {
     "name": "stdout",
     "output_type": "stream",
     "text": [
      "🔍 Validation Results:\n",
      "\t📉 Validation Loss: 0.9174\n",
      "\t🎯 Validation Accuracy: 74.31%\n",
      "\n"
     ]
    },
    {
     "name": "stderr",
     "output_type": "stream",
     "text": [
      "Training progress: 100%|██████████| 313/313 [01:26<00:00,  3.60batch/s]\n"
     ]
    },
    {
     "name": "stdout",
     "output_type": "stream",
     "text": [
      "🚀 Epoch 25/80 (31.25%) Completed\n",
      "\t📊 Training Loss: 0.3776\n",
      "\t✅ Training Accuracy: 89.50%\n",
      "\t⏳ Elapsed Time: 86.91s | ETA: 4779.94s\n",
      "\t🕒 Completed At: 10:43\n"
     ]
    },
    {
     "name": "stderr",
     "output_type": "stream",
     "text": [
      "Eval progress: 100%|██████████| 79/79 [00:22<00:00,  3.45batch/s]\n"
     ]
    },
    {
     "name": "stdout",
     "output_type": "stream",
     "text": [
      "🔍 Validation Results:\n",
      "\t📉 Validation Loss: 0.9061\n",
      "\t🎯 Validation Accuracy: 74.65%\n",
      "\n",
      "💾 Saved checkpoint at: /home/massimiliano/Projects/fl-g13/checkpoints/BaseDino/amoonguss_BaseDino_epoch_25.pth\n",
      "💾 Saved losses and accuracies (training and validation) at: /home/massimiliano/Projects/fl-g13/checkpoints/BaseDino/amoonguss_BaseDino_epoch_25.loss_acc.json\n",
      "\n"
     ]
    },
    {
     "name": "stderr",
     "output_type": "stream",
     "text": [
      "Training progress: 100%|██████████| 313/313 [01:28<00:00,  3.53batch/s]\n"
     ]
    },
    {
     "name": "stdout",
     "output_type": "stream",
     "text": [
      "🚀 Epoch 26/80 (32.50%) Completed\n",
      "\t📊 Training Loss: 0.3700\n",
      "\t✅ Training Accuracy: 89.80%\n",
      "\t⏳ Elapsed Time: 88.76s | ETA: 4793.00s\n",
      "\t🕒 Completed At: 10:45\n"
     ]
    },
    {
     "name": "stderr",
     "output_type": "stream",
     "text": [
      "Eval progress: 100%|██████████| 79/79 [00:19<00:00,  4.05batch/s]\n"
     ]
    },
    {
     "name": "stdout",
     "output_type": "stream",
     "text": [
      "🔍 Validation Results:\n",
      "\t📉 Validation Loss: 0.9067\n",
      "\t🎯 Validation Accuracy: 74.16%\n",
      "\n"
     ]
    },
    {
     "name": "stderr",
     "output_type": "stream",
     "text": [
      "Training progress: 100%|██████████| 313/313 [01:26<00:00,  3.61batch/s]\n"
     ]
    },
    {
     "name": "stdout",
     "output_type": "stream",
     "text": [
      "🚀 Epoch 27/80 (33.75%) Completed\n",
      "\t📊 Training Loss: 0.3645\n",
      "\t✅ Training Accuracy: 89.92%\n",
      "\t⏳ Elapsed Time: 86.65s | ETA: 4592.28s\n",
      "\t🕒 Completed At: 10:47\n"
     ]
    },
    {
     "name": "stderr",
     "output_type": "stream",
     "text": [
      "Eval progress: 100%|██████████| 79/79 [00:19<00:00,  4.08batch/s]\n"
     ]
    },
    {
     "name": "stdout",
     "output_type": "stream",
     "text": [
      "🔍 Validation Results:\n",
      "\t📉 Validation Loss: 0.9066\n",
      "\t🎯 Validation Accuracy: 74.47%\n",
      "\n"
     ]
    },
    {
     "name": "stderr",
     "output_type": "stream",
     "text": [
      "Training progress: 100%|██████████| 313/313 [01:26<00:00,  3.63batch/s]\n"
     ]
    },
    {
     "name": "stdout",
     "output_type": "stream",
     "text": [
      "🚀 Epoch 28/80 (35.00%) Completed\n",
      "\t📊 Training Loss: 0.3639\n",
      "\t✅ Training Accuracy: 90.03%\n",
      "\t⏳ Elapsed Time: 86.29s | ETA: 4487.20s\n",
      "\t🕒 Completed At: 10:48\n"
     ]
    },
    {
     "name": "stderr",
     "output_type": "stream",
     "text": [
      "Eval progress: 100%|██████████| 79/79 [00:19<00:00,  4.07batch/s]\n"
     ]
    },
    {
     "name": "stdout",
     "output_type": "stream",
     "text": [
      "🔍 Validation Results:\n",
      "\t📉 Validation Loss: 0.9094\n",
      "\t🎯 Validation Accuracy: 74.37%\n",
      "\n"
     ]
    },
    {
     "name": "stderr",
     "output_type": "stream",
     "text": [
      "Training progress: 100%|██████████| 313/313 [01:27<00:00,  3.59batch/s]\n"
     ]
    },
    {
     "name": "stdout",
     "output_type": "stream",
     "text": [
      "🚀 Epoch 29/80 (36.25%) Completed\n",
      "\t📊 Training Loss: 0.3566\n",
      "\t✅ Training Accuracy: 90.32%\n",
      "\t⏳ Elapsed Time: 87.21s | ETA: 4447.64s\n",
      "\t🕒 Completed At: 10:50\n"
     ]
    },
    {
     "name": "stderr",
     "output_type": "stream",
     "text": [
      "Eval progress: 100%|██████████| 79/79 [00:19<00:00,  4.04batch/s]\n"
     ]
    },
    {
     "name": "stdout",
     "output_type": "stream",
     "text": [
      "🔍 Validation Results:\n",
      "\t📉 Validation Loss: 0.9099\n",
      "\t🎯 Validation Accuracy: 74.44%\n",
      "\n"
     ]
    },
    {
     "name": "stderr",
     "output_type": "stream",
     "text": [
      "Training progress: 100%|██████████| 313/313 [01:26<00:00,  3.62batch/s]\n"
     ]
    },
    {
     "name": "stdout",
     "output_type": "stream",
     "text": [
      "🚀 Epoch 30/80 (37.50%) Completed\n",
      "\t📊 Training Loss: 0.3534\n",
      "\t✅ Training Accuracy: 90.48%\n",
      "\t⏳ Elapsed Time: 86.35s | ETA: 4317.41s\n",
      "\t🕒 Completed At: 10:52\n"
     ]
    },
    {
     "name": "stderr",
     "output_type": "stream",
     "text": [
      "Eval progress: 100%|██████████| 79/79 [00:19<00:00,  4.03batch/s]\n"
     ]
    },
    {
     "name": "stdout",
     "output_type": "stream",
     "text": [
      "🔍 Validation Results:\n",
      "\t📉 Validation Loss: 0.9018\n",
      "\t🎯 Validation Accuracy: 74.55%\n",
      "\n",
      "💾 Saved checkpoint at: /home/massimiliano/Projects/fl-g13/checkpoints/BaseDino/amoonguss_BaseDino_epoch_30.pth\n",
      "💾 Saved losses and accuracies (training and validation) at: /home/massimiliano/Projects/fl-g13/checkpoints/BaseDino/amoonguss_BaseDino_epoch_30.loss_acc.json\n",
      "\n"
     ]
    },
    {
     "name": "stderr",
     "output_type": "stream",
     "text": [
      "Training progress: 100%|██████████| 313/313 [01:26<00:00,  3.63batch/s]\n"
     ]
    },
    {
     "name": "stdout",
     "output_type": "stream",
     "text": [
      "🚀 Epoch 31/80 (38.75%) Completed\n",
      "\t📊 Training Loss: 0.3583\n",
      "\t✅ Training Accuracy: 90.22%\n",
      "\t⏳ Elapsed Time: 86.22s | ETA: 4224.84s\n",
      "\t🕒 Completed At: 10:54\n"
     ]
    },
    {
     "name": "stderr",
     "output_type": "stream",
     "text": [
      "Eval progress: 100%|██████████| 79/79 [00:19<00:00,  4.10batch/s]\n"
     ]
    },
    {
     "name": "stdout",
     "output_type": "stream",
     "text": [
      "🔍 Validation Results:\n",
      "\t📉 Validation Loss: 0.9090\n",
      "\t🎯 Validation Accuracy: 74.41%\n",
      "\n"
     ]
    },
    {
     "name": "stderr",
     "output_type": "stream",
     "text": [
      "Training progress: 100%|██████████| 313/313 [01:26<00:00,  3.62batch/s]\n"
     ]
    },
    {
     "name": "stdout",
     "output_type": "stream",
     "text": [
      "🚀 Epoch 32/80 (40.00%) Completed\n",
      "\t📊 Training Loss: 0.3584\n",
      "\t✅ Training Accuracy: 90.19%\n",
      "\t⏳ Elapsed Time: 86.54s | ETA: 4153.68s\n",
      "\t🕒 Completed At: 10:56\n"
     ]
    },
    {
     "name": "stderr",
     "output_type": "stream",
     "text": [
      "Eval progress: 100%|██████████| 79/79 [00:19<00:00,  4.01batch/s]\n"
     ]
    },
    {
     "name": "stdout",
     "output_type": "stream",
     "text": [
      "🔍 Validation Results:\n",
      "\t📉 Validation Loss: 0.8967\n",
      "\t🎯 Validation Accuracy: 74.55%\n",
      "\n"
     ]
    },
    {
     "name": "stderr",
     "output_type": "stream",
     "text": [
      "Training progress:  63%|██████▎   | 197/313 [00:55<00:32,  3.57batch/s]"
     ]
    },
    {
     "name": "stdout",
     "output_type": "stream",
     "text": [
      "Training interrupted manually.\n"
     ]
    },
    {
     "name": "stderr",
     "output_type": "stream",
     "text": [
      "\n"
     ]
    }
   ],
   "source": [
    "try:\n",
    "    _, _, _, _ = train(\n",
    "        checkpoint_dir=CHECKPOINT_DIR,\n",
    "        name=name,\n",
    "        start_epoch=start_epoch,\n",
    "        num_epochs=num_epochs,\n",
    "        save_every=save_every,\n",
    "        backup_every=backup_every,\n",
    "        train_dataloader=train_dataloader,\n",
    "        val_dataloader=val_dataloader,\n",
    "        model=model,\n",
    "        criterion=criterion,\n",
    "        optimizer=optimizer,\n",
    "        scheduler=scheduler,\n",
    "        verbose=1,\n",
    "        all_training_losses=all_training_losses,\n",
    "        all_validation_losses=all_validation_losses,\n",
    "        all_training_accuracies=all_training_accuracies,\n",
    "        all_validation_accuracies=all_validation_accuracies,\n",
    "    )\n",
    "\n",
    "except KeyboardInterrupt:\n",
    "    print(\"Training interrupted manually.\")\n",
    "\n",
    "except Exception as e:\n",
    "    print(f\"Training stopped due to error: {e}\")"
   ]
  },
  {
   "cell_type": "code",
   "execution_count": 7,
   "id": "cca9191e",
   "metadata": {},
   "outputs": [
    {
     "data": {
      "image/png": "[encoded data removed]",
      "text/plain": [
       "<Figure size 1800x600 with 2 Axes>"
      ]
     },
     "metadata": {},
     "output_type": "display_data"
    }
   ],
   "source": [
    "import matplotlib.pyplot as plt\n",
    "%matplotlib inline\n",
    "\n",
    "# Plot losses\n",
    "plt.figure(figsize=(18, 6))\n",
    "plt.subplot(1, 2, 1)\n",
    "plt.plot(all_training_losses, label='Training Loss')\n",
    "plt.plot(all_validation_losses, label='Validation Loss')\n",
    "plt.xlabel('Epochs')\n",
    "plt.ylabel('Loss')\n",
    "plt.title('Loss vs Epochs')\n",
    "plt.legend()\n",
    "plt.grid(True)  # Add grid\n",
    "plt.xticks(range(len(all_training_losses)), rotation=0)  # Rotate ticks by 20 degrees\n",
    "\n",
    "# Plot accuracies\n",
    "plt.subplot(1, 2, 2)\n",
    "plt.plot(all_training_accuracies, label='Training Accuracy')\n",
    "plt.plot(all_validation_accuracies, label='Validation Accuracy')\n",
    "plt.xlabel('Epochs')\n",
    "plt.ylabel('Accuracy')\n",
    "plt.title('Accuracy vs Epochs')\n",
    "plt.legend()\n",
    "plt.grid(True)  # Add grid\n",
    "plt.xticks(range(len(all_training_accuracies)), rotation=0)  # Rotate ticks by 20 degrees\n",
    "\n",
    "plt.tight_layout()\n",
    "plt.show()"
   ]
  },
  {
   "cell_type": "code",
   "execution_count": 8,
   "id": "2d39924a",
   "metadata": {},
   "outputs": [
    {
     "name": "stderr",
     "output_type": "stream",
     "text": [
      "Eval progress: 100%|██████████| 79/79 [00:19<00:00,  4.14batch/s]"
     ]
    },
    {
     "name": "stdout",
     "output_type": "stream",
     "text": [
      "🔍 Test Results:\n",
      "\t📉 Test Loss: 0.8725\n",
      "\t🎯 Test Accuracy: 74.72%\n"
     ]
    },
    {
     "name": "stderr",
     "output_type": "stream",
     "text": [
      "\n"
     ]
    }
   ],
   "source": [
    "# Evaluate the model on the validation dataset\n",
    "test_loss, test_accuracy, _ = eval(dataloader=test_dataloader, model=model, criterion=criterion)\n",
    "\n",
    "print(\n",
    "    f\"🔍 Test Results:\\n\"\n",
    "    f\"\\t📉 Test Loss: {test_loss:.4f}\\n\"\n",
    "    f\"\\t🎯 Test Accuracy: {100 * test_accuracy:.2f}%\"\n",
    ")"
   ]
  },
  {
   "cell_type": "code",
   "execution_count": null,
   "id": "f2f3a86b",
   "metadata": {},
   "outputs": [],
   "source": []
  }
 ],
 "metadata": {
  "kernelspec": {
   "display_name": "fl-g13",
   "language": "python",
   "name": "python3"
  },
  "language_info": {
   "codemirror_mode": {
    "name": "ipython",
    "version": 3
   },
   "file_extension": ".py",
   "mimetype": "text/x-python",
   "name": "python",
   "nbconvert_exporter": "python",
   "pygments_lexer": "ipython3",
   "version": "3.11.11"
  }
 },
 "nbformat": 4,
 "nbformat_minor": 5
}
