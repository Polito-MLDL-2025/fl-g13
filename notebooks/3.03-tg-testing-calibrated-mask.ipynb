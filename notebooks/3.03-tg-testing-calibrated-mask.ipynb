{
 "cells": [
  {
   "cell_type": "code",
   "execution_count": 2,
   "id": "60938f66",
   "metadata": {
    "executionInfo": {
     "elapsed": 29,
     "status": "ok",
     "timestamp": 1747731338636,
     "user": {
      "displayName": "Giovanbattista Tarantino",
      "userId": "08715531062484308893"
     },
     "user_tz": -120
    },
    "id": "60938f66"
   },
   "outputs": [],
   "source": [
    "%load_ext autoreload\n",
    "%autoreload 2"
   ]
  },
  {
   "cell_type": "code",
   "execution_count": 3,
   "id": "ae0ee335",
   "metadata": {
    "colab": {
     "base_uri": "https://localhost:8080/"
    },
    "executionInfo": {
     "elapsed": 15279,
     "status": "ok",
     "timestamp": 1747731353927,
     "user": {
      "displayName": "Giovanbattista Tarantino",
      "userId": "08715531062484308893"
     },
     "user_tz": -120
    },
    "id": "ae0ee335",
    "outputId": "0c3e8524-08c9-4dbe-b8ee-b2766a16a9eb"
   },
   "outputs": [
    {
     "name": "stderr",
     "output_type": "stream",
     "text": [
      "\u001b[32m2025-05-20 08:55:43.044\u001b[0m | \u001b[1mINFO    \u001b[0m | \u001b[36mfl_g13.config\u001b[0m:\u001b[36m<module>\u001b[0m:\u001b[36m11\u001b[0m - \u001b[1mPROJ_ROOT path is: /content/fl-g13\u001b[0m\n"
     ]
    }
   ],
   "source": [
    "import torch\n",
    "from torch.nn import CrossEntropyLoss\n",
    "from torch.optim.lr_scheduler import CosineAnnealingLR\n",
    "from torch.utils.data import DataLoader\n",
    "\n",
    "import numpy as np\n",
    "\n",
    "import json\n",
    "\n",
    "from fl_g13.config import RAW_DATA_DIR, PROJ_ROOT\n",
    "\n",
    "from fl_g13.modeling import train, load, plot_metrics, get_preprocessing_pipeline\n",
    "\n",
    "from fl_g13.architectures import BaseDino\n",
    "\n",
    "from fl_g13.editing import SparseSGDM\n",
    "from fl_g13.editing import per_class_accuracy\n",
    "from fl_g13.editing import create_mask, mask_dict_to_list"
   ]
  },
  {
   "cell_type": "code",
   "execution_count": 4,
   "id": "6a10a5e3",
   "metadata": {
    "colab": {
     "base_uri": "https://localhost:8080/"
    },
    "executionInfo": {
     "elapsed": 18067,
     "status": "ok",
     "timestamp": 1747731371988,
     "user": {
      "displayName": "Giovanbattista Tarantino",
      "userId": "08715531062484308893"
     },
     "user_tz": -120
    },
    "id": "6a10a5e3",
    "outputId": "133a6ed1-124f-4d2b-da1e-9222e9ee0187"
   },
   "outputs": [
    {
     "name": "stderr",
     "output_type": "stream",
     "text": [
      "100%|██████████| 169M/169M [00:12<00:00, 13.3MB/s]\n"
     ]
    },
    {
     "name": "stdout",
     "output_type": "stream",
     "text": [
      "Train dataset size: 40000\n",
      "Validation dataset size: 10000\n",
      "Test dataset size: 10000\n"
     ]
    }
   ],
   "source": [
    "train_dataset, val_dataset, test_dataset = get_preprocessing_pipeline(RAW_DATA_DIR)\n",
    "\n",
    "print(f\"Train dataset size: {len(train_dataset)}\")\n",
    "print(f\"Validation dataset size: {len(val_dataset)}\")\n",
    "print(f\"Test dataset size: {len(test_dataset)}\")"
   ]
  },
  {
   "cell_type": "code",
   "execution_count": 6,
   "id": "2b4b6395",
   "metadata": {
    "colab": {
     "base_uri": "https://localhost:8080/"
    },
    "executionInfo": {
     "elapsed": 9859,
     "status": "ok",
     "timestamp": 1747731439087,
     "user": {
      "displayName": "Giovanbattista Tarantino",
      "userId": "08715531062484308893"
     },
     "user_tz": -120
    },
    "id": "2b4b6395",
    "outputId": "9c775ef9-19c7-4e1e-db54-96ac12b8c743"
   },
   "outputs": [
    {
     "name": "stdout",
     "output_type": "stream",
     "text": [
      "Using device: cuda\n"
     ]
    },
    {
     "name": "stderr",
     "output_type": "stream",
     "text": [
      "Using cache found in /root/.cache/torch/hub/facebookresearch_dino_main\n",
      "Using cache found in /root/.cache/torch/hub/facebookresearch_dino_main\n",
      "Using cache found in /root/.cache/torch/hub/facebookresearch_dino_main\n"
     ]
    },
    {
     "name": "stdout",
     "output_type": "stream",
     "text": [
      "✅ Loaded checkpoint from /content/drive/MyDrive/checkpoints/Editing/arcanine.pth, resuming at epoch 26\n",
      "\n",
      "Model arcanine loaded from checkpoint.\n"
     ]
    }
   ],
   "source": [
    "device = torch.device(\"cuda\" if torch.cuda.is_available() else \"cpu\")\n",
    "print(f\"Using device: {device}\")\n",
    "\n",
    "CHECKPOINT_DIR = '/content/drive/MyDrive/checkpoints'\n",
    "model_name = 'arcanine'\n",
    "model_checkpoint_path = f'{CHECKPOINT_DIR}/Editing/{model_name}.pth'\n",
    "model_metrics_path = f'{CHECKPOINT_DIR}/Editing/{model_name}.loss_acc.json'\n",
    "\n",
    "# Hyper-parameters\n",
    "# model\n",
    "head_layers=3\n",
    "head_hidden_size=512\n",
    "dropout_rate=0.0\n",
    "unfreeze_blocks=1\n",
    "\n",
    "# Dataloaders\n",
    "BATCH_SIZE = 128\n",
    "\n",
    "# SparseSGDM optimizer\n",
    "LR = 1e-3\n",
    "momentum = .9\n",
    "weight_decay = 1e-5\n",
    "\n",
    "# scheduler\n",
    "T_max = 8\n",
    "eta_min = 1e-5\n",
    "\n",
    "# Empty model\n",
    "# Will be replaced with the already trained model from the checkpoint\n",
    "model = BaseDino(\n",
    "    head_layers=head_layers,\n",
    "    head_hidden_size=head_hidden_size,\n",
    "    dropout_rate=dropout_rate,\n",
    "    unfreeze_blocks=unfreeze_blocks\n",
    ")\n",
    "model.to(device)\n",
    "\n",
    "# Dataloaders\n",
    "train_dataloader = DataLoader(train_dataset, batch_size = BATCH_SIZE, shuffle = True)\n",
    "val_dataloader = DataLoader(val_dataset, batch_size = BATCH_SIZE, shuffle = False)\n",
    "test_dataloader = DataLoader(test_dataset, batch_size = BATCH_SIZE, shuffle = False)\n",
    "\n",
    "# Create a dummy mask for SparseSGDM\n",
    "mask = [torch.ones_like(p, device = p.device) for p in model.parameters()] # Must be done AFTER the model is moved to the device\n",
    "# Optimizer, scheduler, and loss function\n",
    "optimizer = SparseSGDM(\n",
    "    model.parameters(),\n",
    "    mask = mask,\n",
    "    lr = LR,\n",
    "    momentum = momentum,\n",
    "    weight_decay = weight_decay\n",
    ")\n",
    "scheduler = CosineAnnealingLR(\n",
    "    optimizer = optimizer,\n",
    "    T_max = T_max,\n",
    "    eta_min = eta_min\n",
    ")\n",
    "criterion = CrossEntropyLoss()\n",
    "\n",
    "# Load the model\n",
    "model, _ = load(\n",
    "    path = model_checkpoint_path,\n",
    "    model_class = BaseDino,\n",
    "    optimizer = optimizer,\n",
    "    scheduler = scheduler,\n",
    "    device = device\n",
    ")\n",
    "model.to(device) # manually move the model to the device\n",
    "\n",
    "print(f'\\nModel {model_name} loaded from checkpoint.')"
   ]
  },
  {
   "cell_type": "code",
   "execution_count": 7,
   "id": "0d9ca00a",
   "metadata": {
    "colab": {
     "base_uri": "https://localhost:8080/"
    },
    "executionInfo": {
     "elapsed": 51689,
     "status": "ok",
     "timestamp": 1747731490772,
     "user": {
      "displayName": "Giovanbattista Tarantino",
      "userId": "08715531062484308893"
     },
     "user_tz": -120
    },
    "id": "0d9ca00a",
    "outputId": "807899e5-8210-4920-de57-527792969986"
   },
   "outputs": [
    {
     "name": "stderr",
     "output_type": "stream",
     "text": [
      "Per Class Accuracy: 100%|██████████| 79/79 [00:51<00:00,  1.53batch/s]"
     ]
    },
    {
     "name": "stdout",
     "output_type": "stream",
     "text": [
      "Test accuracy: 78.62%\n"
     ]
    },
    {
     "name": "stderr",
     "output_type": "stream",
     "text": [
      "\n"
     ]
    }
   ],
   "source": [
    "# Compute test accuracy\n",
    "# test_loss, test_accuracy, _ = eval(test_dataloader, model, criterion)\n",
    "class_acc = per_class_accuracy(test_dataloader, model)\n",
    "test_accuracy = np.mean(class_acc)\n",
    "\n",
    "# print(f'Test loss: {test_loss:.3f}')\n",
    "print(f'\\nTest accuracy: {100*test_accuracy:.2f}%')"
   ]
  },
  {
   "cell_type": "code",
   "execution_count": 8,
   "id": "f83197c1",
   "metadata": {
    "executionInfo": {
     "elapsed": 43,
     "status": "ok",
     "timestamp": 1747731490832,
     "user": {
      "displayName": "Giovanbattista Tarantino",
      "userId": "08715531062484308893"
     },
     "user_tz": -120
    },
    "id": "f83197c1"
   },
   "outputs": [],
   "source": [
    "fisher_dataloader = DataLoader(train_dataset, batch_size = 16, shuffle=True)"
   ]
  },
  {
   "cell_type": "code",
   "execution_count": 9,
   "id": "3f0c3150",
   "metadata": {
    "colab": {
     "base_uri": "https://localhost:8080/"
    },
    "executionInfo": {
     "elapsed": 1574628,
     "status": "ok",
     "timestamp": 1747733065463,
     "user": {
      "displayName": "Giovanbattista Tarantino",
      "userId": "08715531062484308893"
     },
     "user_tz": -120
    },
    "id": "3f0c3150",
    "outputId": "a4e49a4d-748f-4938-eb70-7ae0167193b1"
   },
   "outputs": [
    {
     "name": "stdout",
     "output_type": "stream",
     "text": [
      "Computing calibrated global mask for 5 rounds with initial target density (0.20).\n",
      "Round 1/5.\n",
      "\tTarget density 0.72%\n",
      "\tComputing the masked fisher score\n"
     ]
    },
    {
     "name": "stderr",
     "output_type": "stream",
     "text": [
      "Fisher Score: 100%|██████████| 2500/2500 [02:41<00:00, 15.50batch/s]\n"
     ]
    },
    {
     "name": "stdout",
     "output_type": "stream",
     "text": [
      "\tUpdating the mask\n",
      "Round 2/5.\n",
      "\tTarget density 0.53%\n",
      "\tComputing the masked fisher score\n"
     ]
    },
    {
     "name": "stderr",
     "output_type": "stream",
     "text": [
      "Fisher Score: 100%|██████████| 2500/2500 [02:36<00:00, 15.96batch/s]\n"
     ]
    },
    {
     "name": "stdout",
     "output_type": "stream",
     "text": [
      "\tUpdating the mask\n",
      "Round 3/5.\n",
      "\tTarget density 0.38%\n",
      "\tComputing the masked fisher score\n"
     ]
    },
    {
     "name": "stderr",
     "output_type": "stream",
     "text": [
      "Fisher Score: 100%|██████████| 2500/2500 [02:37<00:00, 15.91batch/s]\n"
     ]
    },
    {
     "name": "stdout",
     "output_type": "stream",
     "text": [
      "\tUpdating the mask\n",
      "Round 4/5.\n",
      "\tTarget density 0.28%\n",
      "\tComputing the masked fisher score\n"
     ]
    },
    {
     "name": "stderr",
     "output_type": "stream",
     "text": [
      "Fisher Score: 100%|██████████| 2500/2500 [02:36<00:00, 15.96batch/s]\n"
     ]
    },
    {
     "name": "stdout",
     "output_type": "stream",
     "text": [
      "\tUpdating the mask\n",
      "Round 5/5.\n",
      "\tTarget density 0.20%\n",
      "\tComputing the masked fisher score\n"
     ]
    },
    {
     "name": "stderr",
     "output_type": "stream",
     "text": [
      "Fisher Score: 100%|██████████| 2500/2500 [02:36<00:00, 15.96batch/s]\n"
     ]
    },
    {
     "name": "stdout",
     "output_type": "stream",
     "text": [
      "\tUpdating the mask\n",
      "Computing calibrated local mask for 5 rounds with initial target density (0.20).\n",
      "Round 1/5.\n",
      "\tTarget density 0.72%\n",
      "\tComputing the masked fisher score\n"
     ]
    },
    {
     "name": "stderr",
     "output_type": "stream",
     "text": [
      "Fisher Score: 100%|██████████| 2500/2500 [02:37<00:00, 15.87batch/s]\n"
     ]
    },
    {
     "name": "stdout",
     "output_type": "stream",
     "text": [
      "\tUpdating the mask\n",
      "Round 2/5.\n",
      "\tTarget density 0.53%\n",
      "\tComputing the masked fisher score\n"
     ]
    },
    {
     "name": "stderr",
     "output_type": "stream",
     "text": [
      "Fisher Score: 100%|██████████| 2500/2500 [02:37<00:00, 15.89batch/s]\n"
     ]
    },
    {
     "name": "stdout",
     "output_type": "stream",
     "text": [
      "\tUpdating the mask\n",
      "Round 3/5.\n",
      "\tTarget density 0.38%\n",
      "\tComputing the masked fisher score\n"
     ]
    },
    {
     "name": "stderr",
     "output_type": "stream",
     "text": [
      "Fisher Score: 100%|██████████| 2500/2500 [02:36<00:00, 15.96batch/s]\n"
     ]
    },
    {
     "name": "stdout",
     "output_type": "stream",
     "text": [
      "\tUpdating the mask\n",
      "Round 4/5.\n",
      "\tTarget density 0.28%\n",
      "\tComputing the masked fisher score\n"
     ]
    },
    {
     "name": "stderr",
     "output_type": "stream",
     "text": [
      "Fisher Score: 100%|██████████| 2500/2500 [02:36<00:00, 15.94batch/s]\n"
     ]
    },
    {
     "name": "stdout",
     "output_type": "stream",
     "text": [
      "\tUpdating the mask\n",
      "Round 5/5.\n",
      "\tTarget density 0.20%\n",
      "\tComputing the masked fisher score\n"
     ]
    },
    {
     "name": "stderr",
     "output_type": "stream",
     "text": [
      "Fisher Score: 100%|██████████| 2500/2500 [02:37<00:00, 15.91batch/s]"
     ]
    },
    {
     "name": "stdout",
     "output_type": "stream",
     "text": [
      "\tUpdating the mask\n"
     ]
    },
    {
     "name": "stderr",
     "output_type": "stream",
     "text": [
      "\n"
     ]
    }
   ],
   "source": [
    "density = 0.2\n",
    "\n",
    "global_calibr_mask = create_mask(fisher_dataloader, model, density = density, mask_type = 'global', rounds = 5)\n",
    "local_calibr_mask = create_mask(fisher_dataloader, model, density = density, mask_type = 'local', rounds = 5)"
   ]
  },
  {
   "cell_type": "code",
   "execution_count": 10,
   "id": "dc04c117",
   "metadata": {
    "executionInfo": {
     "elapsed": 39,
     "status": "ok",
     "timestamp": 1747733065504,
     "user": {
      "displayName": "Giovanbattista Tarantino",
      "userId": "08715531062484308893"
     },
     "user_tz": -120
    },
    "id": "dc04c117"
   },
   "outputs": [],
   "source": [
    "def fine_tune(name, train_dataloader, mask, optimizer, scheduler, criterion, epochs = 10, verbose = 1):\n",
    "    device = torch.device(\"cuda\" if torch.cuda.is_available() else \"cpu\")\n",
    "\n",
    "    # Load the model\n",
    "    new_model, _ = load(\n",
    "        path = model_checkpoint_path,\n",
    "        model_class = BaseDino,\n",
    "        optimizer = optimizer,\n",
    "        scheduler = scheduler,\n",
    "        device = device\n",
    "    )\n",
    "    new_model.to(device) # manually move the model to the device\n",
    "\n",
    "    # Create a new SparseSGDM optimizer\n",
    "    new_optimizer = SparseSGDM(\n",
    "        new_model.parameters(),\n",
    "        mask = mask,\n",
    "        lr = LR,\n",
    "        momentum = momentum,\n",
    "        weight_decay = weight_decay\n",
    "    )\n",
    "\n",
    "    _, _, _, _ = train(\n",
    "        checkpoint_dir = CHECKPOINT_DIR,\n",
    "        name = name,\n",
    "        start_epoch = 1,\n",
    "        num_epochs = epochs,\n",
    "        save_every = epochs,\n",
    "        backup_every = None,\n",
    "        train_dataloader = train_dataloader,\n",
    "        val_dataloader = None,\n",
    "        model = new_model,\n",
    "        criterion = criterion,\n",
    "        optimizer = new_optimizer,\n",
    "        scheduler = scheduler,\n",
    "        verbose = verbose\n",
    "    )\n",
    "\n",
    "    # Compute per-class accuracy\n",
    "    class_acc = per_class_accuracy(test_dataloader, new_model)\n",
    "\n",
    "    return class_acc"
   ]
  },
  {
   "cell_type": "code",
   "execution_count": 11,
   "id": "91035cbd",
   "metadata": {
    "colab": {
     "base_uri": "https://localhost:8080/"
    },
    "executionInfo": {
     "elapsed": 2437974,
     "status": "ok",
     "timestamp": 1747735503488,
     "user": {
      "displayName": "Giovanbattista Tarantino",
      "userId": "08715531062484308893"
     },
     "user_tz": -120
    },
    "id": "91035cbd",
    "outputId": "ec8a1bad-0676-4939-ad7f-709ae4d5b937"
   },
   "outputs": [
    {
     "name": "stderr",
     "output_type": "stream",
     "text": [
      "Using cache found in /root/.cache/torch/hub/facebookresearch_dino_main\n",
      "Using cache found in /root/.cache/torch/hub/facebookresearch_dino_main\n"
     ]
    },
    {
     "name": "stdout",
     "output_type": "stream",
     "text": [
      "✅ Loaded checkpoint from /content/drive/MyDrive/checkpoints/Editing/arcanine.pth, resuming at epoch 26\n",
      "Prefix/name for the model was provided: arcanine_ft_global_calibr\n",
      "\n"
     ]
    },
    {
     "name": "stderr",
     "output_type": "stream",
     "text": [
      "Training progress: 100%|██████████| 313/313 [03:59<00:00,  1.31batch/s]\n"
     ]
    },
    {
     "name": "stdout",
     "output_type": "stream",
     "text": [
      "🚀 Epoch 1/10 (10.00%) Completed\n",
      "\t📊 Training Loss: 0.2137\n",
      "\t✅ Training Accuracy: 95.33%\n",
      "\t⏳ Elapsed Time: 239.23s | ETA: 2153.03s\n",
      "\t🕒 Completed At: 09:28\n",
      "\n"
     ]
    },
    {
     "name": "stderr",
     "output_type": "stream",
     "text": [
      "Training progress: 100%|██████████| 313/313 [03:57<00:00,  1.32batch/s]\n"
     ]
    },
    {
     "name": "stdout",
     "output_type": "stream",
     "text": [
      "🚀 Epoch 2/10 (20.00%) Completed\n",
      "\t📊 Training Loss: 0.1981\n",
      "\t✅ Training Accuracy: 95.55%\n",
      "\t⏳ Elapsed Time: 237.61s | ETA: 1900.92s\n",
      "\t🕒 Completed At: 09:32\n",
      "\n"
     ]
    },
    {
     "name": "stderr",
     "output_type": "stream",
     "text": [
      "Training progress: 100%|██████████| 313/313 [03:59<00:00,  1.31batch/s]\n"
     ]
    },
    {
     "name": "stdout",
     "output_type": "stream",
     "text": [
      "🚀 Epoch 3/10 (30.00%) Completed\n",
      "\t📊 Training Loss: 0.1806\n",
      "\t✅ Training Accuracy: 95.81%\n",
      "\t⏳ Elapsed Time: 239.20s | ETA: 1674.42s\n",
      "\t🕒 Completed At: 09:36\n",
      "\n"
     ]
    },
    {
     "name": "stderr",
     "output_type": "stream",
     "text": [
      "Training progress: 100%|██████████| 313/313 [03:59<00:00,  1.31batch/s]\n"
     ]
    },
    {
     "name": "stdout",
     "output_type": "stream",
     "text": [
      "🚀 Epoch 4/10 (40.00%) Completed\n",
      "\t📊 Training Loss: 0.1743\n",
      "\t✅ Training Accuracy: 95.84%\n",
      "\t⏳ Elapsed Time: 239.08s | ETA: 1434.48s\n",
      "\t🕒 Completed At: 09:40\n",
      "\n"
     ]
    },
    {
     "name": "stderr",
     "output_type": "stream",
     "text": [
      "Training progress: 100%|██████████| 313/313 [03:57<00:00,  1.32batch/s]\n"
     ]
    },
    {
     "name": "stdout",
     "output_type": "stream",
     "text": [
      "🚀 Epoch 5/10 (50.00%) Completed\n",
      "\t📊 Training Loss: 0.1614\n",
      "\t✅ Training Accuracy: 96.11%\n",
      "\t⏳ Elapsed Time: 237.90s | ETA: 1189.50s\n",
      "\t🕒 Completed At: 09:44\n",
      "\n"
     ]
    },
    {
     "name": "stderr",
     "output_type": "stream",
     "text": [
      "Training progress: 100%|██████████| 313/313 [03:57<00:00,  1.32batch/s]\n"
     ]
    },
    {
     "name": "stdout",
     "output_type": "stream",
     "text": [
      "🚀 Epoch 6/10 (60.00%) Completed\n",
      "\t📊 Training Loss: 0.1501\n",
      "\t✅ Training Accuracy: 96.29%\n",
      "\t⏳ Elapsed Time: 237.03s | ETA: 948.11s\n",
      "\t🕒 Completed At: 09:48\n",
      "\n"
     ]
    },
    {
     "name": "stderr",
     "output_type": "stream",
     "text": [
      "Training progress: 100%|██████████| 313/313 [03:57<00:00,  1.32batch/s]\n"
     ]
    },
    {
     "name": "stdout",
     "output_type": "stream",
     "text": [
      "🚀 Epoch 7/10 (70.00%) Completed\n",
      "\t📊 Training Loss: 0.1400\n",
      "\t✅ Training Accuracy: 96.35%\n",
      "\t⏳ Elapsed Time: 237.84s | ETA: 713.51s\n",
      "\t🕒 Completed At: 09:52\n",
      "\n"
     ]
    },
    {
     "name": "stderr",
     "output_type": "stream",
     "text": [
      "Training progress: 100%|██████████| 313/313 [03:57<00:00,  1.32batch/s]\n"
     ]
    },
    {
     "name": "stdout",
     "output_type": "stream",
     "text": [
      "🚀 Epoch 8/10 (80.00%) Completed\n",
      "\t📊 Training Loss: 0.1293\n",
      "\t✅ Training Accuracy: 96.70%\n",
      "\t⏳ Elapsed Time: 237.39s | ETA: 474.78s\n",
      "\t🕒 Completed At: 09:56\n",
      "\n"
     ]
    },
    {
     "name": "stderr",
     "output_type": "stream",
     "text": [
      "Training progress: 100%|██████████| 313/313 [03:58<00:00,  1.31batch/s]\n"
     ]
    },
    {
     "name": "stdout",
     "output_type": "stream",
     "text": [
      "🚀 Epoch 9/10 (90.00%) Completed\n",
      "\t📊 Training Loss: 0.1224\n",
      "\t✅ Training Accuracy: 96.85%\n",
      "\t⏳ Elapsed Time: 238.52s | ETA: 238.52s\n",
      "\t🕒 Completed At: 10:00\n",
      "\n"
     ]
    },
    {
     "name": "stderr",
     "output_type": "stream",
     "text": [
      "Training progress: 100%|██████████| 313/313 [03:57<00:00,  1.32batch/s]\n"
     ]
    },
    {
     "name": "stdout",
     "output_type": "stream",
     "text": [
      "🚀 Epoch 10/10 (100.00%) Completed\n",
      "\t📊 Training Loss: 0.1171\n",
      "\t✅ Training Accuracy: 96.93%\n",
      "\t⏳ Elapsed Time: 237.90s | ETA: 0.00s\n",
      "\t🕒 Completed At: 10:04\n",
      "\n",
      "💾 Saved checkpoint at: /content/drive/MyDrive/checkpoints/BaseDino/arcanine_ft_global_calibr_BaseDino_epoch_10.pth\n",
      "💾 Saved losses and accuracies (training and validation) at: /content/drive/MyDrive/checkpoints/BaseDino/arcanine_ft_global_calibr_BaseDino_epoch_10.loss_acc.json\n",
      "\n"
     ]
    },
    {
     "name": "stderr",
     "output_type": "stream",
     "text": [
      "Per Class Accuracy: 100%|██████████| 79/79 [00:53<00:00,  1.47batch/s]"
     ]
    },
    {
     "name": "stdout",
     "output_type": "stream",
     "text": [
      "\n",
      "Test accuracy: 78.60% (original: 78.62%)\n",
      "Fine-tuned model is worse in 42 classes, wrt the original model\n",
      "Accuracy data saved to /content/drive/MyDrive/checkpoints/Editing/arcanine/accuracy_comparison_global_calibr.json\n"
     ]
    },
    {
     "name": "stderr",
     "output_type": "stream",
     "text": [
      "\n"
     ]
    }
   ],
   "source": [
    "# GLOBAL MASK\n",
    "global_acc = fine_tune(\n",
    "    name = f'{model_name}_ft_global_calibr',\n",
    "    mask = mask_dict_to_list(model, global_calibr_mask),\n",
    "    optimizer = optimizer,\n",
    "    scheduler = scheduler,\n",
    "    criterion = criterion,\n",
    "    train_dataloader = train_dataloader\n",
    ")\n",
    "\n",
    "new_test_accuracy = np.mean(global_acc)\n",
    "print(f'\\nTest accuracy: {100*new_test_accuracy:.2f}% (original: {100*test_accuracy:.2f}%)')\n",
    "\n",
    "count = sum([1 for i in range(len(global_acc)) if global_acc[i] < class_acc[i]])\n",
    "print(f'Fine-tuned model is worse in {count} classes, wrt the original model')\n",
    "# Save to file the per-class accuracy difference\n",
    "# Create a dictionary with new_class_acc, class_acc, and class_idx\n",
    "accuracy_data = {\n",
    "    \"class_idx\": list(range(100)),\n",
    "    \"new_class_acc\": list(global_acc),\n",
    "    \"class_acc\": list(class_acc)\n",
    "}\n",
    "output_file = f\"{CHECKPOINT_DIR}/Editing/{model_name}/accuracy_comparison_global_calibr.json\"\n",
    "\n",
    "# Save the dictionary to a JSON file\n",
    "with open(output_file, \"w\") as json_file:\n",
    "    json.dump(accuracy_data, json_file, indent=4)\n",
    "print(f\"Accuracy data saved to {output_file}\")"
   ]
  },
  {
   "cell_type": "code",
   "execution_count": 12,
   "id": "b95244ea",
   "metadata": {
    "colab": {
     "base_uri": "https://localhost:8080/"
    },
    "executionInfo": {
     "elapsed": 2444402,
     "status": "ok",
     "timestamp": 1747737947893,
     "user": {
      "displayName": "Giovanbattista Tarantino",
      "userId": "08715531062484308893"
     },
     "user_tz": -120
    },
    "id": "b95244ea",
    "outputId": "8d562e83-bf51-4c57-a4c7-26e54e01313a"
   },
   "outputs": [
    {
     "name": "stderr",
     "output_type": "stream",
     "text": [
      "Using cache found in /root/.cache/torch/hub/facebookresearch_dino_main\n",
      "Using cache found in /root/.cache/torch/hub/facebookresearch_dino_main\n"
     ]
    },
    {
     "name": "stdout",
     "output_type": "stream",
     "text": [
      "✅ Loaded checkpoint from /content/drive/MyDrive/checkpoints/Editing/arcanine.pth, resuming at epoch 26\n",
      "Prefix/name for the model was provided: arcanine_ft_local_calibr\n",
      "\n"
     ]
    },
    {
     "name": "stderr",
     "output_type": "stream",
     "text": [
      "Training progress: 100%|██████████| 313/313 [03:57<00:00,  1.32batch/s]\n"
     ]
    },
    {
     "name": "stdout",
     "output_type": "stream",
     "text": [
      "🚀 Epoch 1/10 (10.00%) Completed\n",
      "\t📊 Training Loss: 0.2166\n",
      "\t✅ Training Accuracy: 95.17%\n",
      "\t⏳ Elapsed Time: 237.24s | ETA: 2135.13s\n",
      "\t🕒 Completed At: 10:09\n",
      "\n"
     ]
    },
    {
     "name": "stderr",
     "output_type": "stream",
     "text": [
      "Training progress: 100%|██████████| 313/313 [04:00<00:00,  1.30batch/s]\n"
     ]
    },
    {
     "name": "stdout",
     "output_type": "stream",
     "text": [
      "🚀 Epoch 2/10 (20.00%) Completed\n",
      "\t📊 Training Loss: 0.1920\n",
      "\t✅ Training Accuracy: 95.49%\n",
      "\t⏳ Elapsed Time: 240.42s | ETA: 1923.37s\n",
      "\t🕒 Completed At: 10:13\n",
      "\n"
     ]
    },
    {
     "name": "stderr",
     "output_type": "stream",
     "text": [
      "Training progress: 100%|██████████| 313/313 [03:58<00:00,  1.31batch/s]\n"
     ]
    },
    {
     "name": "stdout",
     "output_type": "stream",
     "text": [
      "🚀 Epoch 3/10 (30.00%) Completed\n",
      "\t📊 Training Loss: 0.1710\n",
      "\t✅ Training Accuracy: 95.89%\n",
      "\t⏳ Elapsed Time: 238.74s | ETA: 1671.17s\n",
      "\t🕒 Completed At: 10:17\n",
      "\n"
     ]
    },
    {
     "name": "stderr",
     "output_type": "stream",
     "text": [
      "Training progress: 100%|██████████| 313/313 [03:57<00:00,  1.32batch/s]\n"
     ]
    },
    {
     "name": "stdout",
     "output_type": "stream",
     "text": [
      "🚀 Epoch 4/10 (40.00%) Completed\n",
      "\t📊 Training Loss: 0.1544\n",
      "\t✅ Training Accuracy: 96.10%\n",
      "\t⏳ Elapsed Time: 237.70s | ETA: 1426.20s\n",
      "\t🕒 Completed At: 10:20\n",
      "\n"
     ]
    },
    {
     "name": "stderr",
     "output_type": "stream",
     "text": [
      "Training progress: 100%|██████████| 313/313 [03:59<00:00,  1.30batch/s]\n"
     ]
    },
    {
     "name": "stdout",
     "output_type": "stream",
     "text": [
      "🚀 Epoch 5/10 (50.00%) Completed\n",
      "\t📊 Training Loss: 0.1406\n",
      "\t✅ Training Accuracy: 96.49%\n",
      "\t⏳ Elapsed Time: 239.98s | ETA: 1199.91s\n",
      "\t🕒 Completed At: 10:24\n",
      "\n"
     ]
    },
    {
     "name": "stderr",
     "output_type": "stream",
     "text": [
      "Training progress: 100%|██████████| 313/313 [03:59<00:00,  1.31batch/s]\n"
     ]
    },
    {
     "name": "stdout",
     "output_type": "stream",
     "text": [
      "🚀 Epoch 6/10 (60.00%) Completed\n",
      "\t📊 Training Loss: 0.1305\n",
      "\t✅ Training Accuracy: 96.66%\n",
      "\t⏳ Elapsed Time: 239.54s | ETA: 958.15s\n",
      "\t🕒 Completed At: 10:28\n",
      "\n"
     ]
    },
    {
     "name": "stderr",
     "output_type": "stream",
     "text": [
      "Training progress: 100%|██████████| 313/313 [03:57<00:00,  1.32batch/s]\n"
     ]
    },
    {
     "name": "stdout",
     "output_type": "stream",
     "text": [
      "🚀 Epoch 7/10 (70.00%) Completed\n",
      "\t📊 Training Loss: 0.1231\n",
      "\t✅ Training Accuracy: 96.83%\n",
      "\t⏳ Elapsed Time: 237.47s | ETA: 712.41s\n",
      "\t🕒 Completed At: 10:32\n",
      "\n"
     ]
    },
    {
     "name": "stderr",
     "output_type": "stream",
     "text": [
      "Training progress: 100%|██████████| 313/313 [03:59<00:00,  1.31batch/s]\n"
     ]
    },
    {
     "name": "stdout",
     "output_type": "stream",
     "text": [
      "🚀 Epoch 8/10 (80.00%) Completed\n",
      "\t📊 Training Loss: 0.1118\n",
      "\t✅ Training Accuracy: 97.09%\n",
      "\t⏳ Elapsed Time: 239.72s | ETA: 479.44s\n",
      "\t🕒 Completed At: 10:36\n",
      "\n"
     ]
    },
    {
     "name": "stderr",
     "output_type": "stream",
     "text": [
      "Training progress: 100%|██████████| 313/313 [03:59<00:00,  1.31batch/s]\n"
     ]
    },
    {
     "name": "stdout",
     "output_type": "stream",
     "text": [
      "🚀 Epoch 9/10 (90.00%) Completed\n",
      "\t📊 Training Loss: 0.1047\n",
      "\t✅ Training Accuracy: 97.31%\n",
      "\t⏳ Elapsed Time: 239.50s | ETA: 239.50s\n",
      "\t🕒 Completed At: 10:40\n",
      "\n"
     ]
    },
    {
     "name": "stderr",
     "output_type": "stream",
     "text": [
      "Training progress: 100%|██████████| 313/313 [03:57<00:00,  1.32batch/s]\n"
     ]
    },
    {
     "name": "stdout",
     "output_type": "stream",
     "text": [
      "🚀 Epoch 10/10 (100.00%) Completed\n",
      "\t📊 Training Loss: 0.0997\n",
      "\t✅ Training Accuracy: 97.38%\n",
      "\t⏳ Elapsed Time: 237.80s | ETA: 0.00s\n",
      "\t🕒 Completed At: 10:44\n",
      "\n",
      "💾 Saved checkpoint at: /content/drive/MyDrive/checkpoints/BaseDino/arcanine_ft_local_calibr_BaseDino_epoch_10.pth\n",
      "💾 Saved losses and accuracies (training and validation) at: /content/drive/MyDrive/checkpoints/BaseDino/arcanine_ft_local_calibr_BaseDino_epoch_10.loss_acc.json\n",
      "\n"
     ]
    },
    {
     "name": "stderr",
     "output_type": "stream",
     "text": [
      "Per Class Accuracy: 100%|██████████| 79/79 [00:53<00:00,  1.47batch/s]"
     ]
    },
    {
     "name": "stdout",
     "output_type": "stream",
     "text": [
      "\n",
      "Test accuracy: 78.52% (original: 78.62%)\n",
      "Fine-tuned model is worse in 42 classes, wrt the original model\n",
      "Accuracy data saved to /content/drive/MyDrive/checkpoints/Editing/arcanine/accuracy_comparison_local_calibr.json\n"
     ]
    },
    {
     "name": "stderr",
     "output_type": "stream",
     "text": [
      "\n"
     ]
    }
   ],
   "source": [
    "# LOCAL MASK\n",
    "local_acc = fine_tune(\n",
    "    name = f'{model_name}_ft_local_calibr',\n",
    "    mask = mask_dict_to_list(model, local_calibr_mask),\n",
    "    optimizer = optimizer,\n",
    "    scheduler = scheduler,\n",
    "    criterion = criterion,\n",
    "    train_dataloader = train_dataloader\n",
    ")\n",
    "\n",
    "new_test_accuracy = np.mean(local_acc)\n",
    "print(f'\\nTest accuracy: {100*new_test_accuracy:.2f}% (original: {100*test_accuracy:.2f}%)')\n",
    "\n",
    "count = sum([1 for i in range(len(local_acc)) if local_acc[i] < class_acc[i]])\n",
    "print(f'Fine-tuned model is worse in {count} classes, wrt the original model')\n",
    "# Save to file the per-class accuracy difference\n",
    "# Create a dictionary with new_class_acc, class_acc, and class_idx\n",
    "accuracy_data = {\n",
    "    \"class_idx\": list(range(100)),\n",
    "    \"new_class_acc\": list(local_acc),\n",
    "    \"class_acc\": list(class_acc)\n",
    "}\n",
    "output_file = f\"{CHECKPOINT_DIR}/Editing/{model_name}/accuracy_comparison_local_calibr.json\"\n",
    "\n",
    "# Save the dictionary to a JSON file\n",
    "with open(output_file, \"w\") as json_file:\n",
    "    json.dump(accuracy_data, json_file, indent=4)\n",
    "print(f\"Accuracy data saved to {output_file}\")"
   ]
  }
 ],
 "metadata": {
  "accelerator": "GPU",
  "colab": {
   "gpuType": "T4",
   "provenance": []
  },
  "kernelspec": {
   "display_name": "Python 3",
   "name": "python3"
  },
  "language_info": {
   "name": "python"
  }
 },
 "nbformat": 4,
 "nbformat_minor": 5
}
