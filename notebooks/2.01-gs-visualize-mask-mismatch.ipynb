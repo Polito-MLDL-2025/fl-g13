{
 "cells": [
  {
   "cell_type": "code",
   "execution_count": null,
   "id": "5268dc1b",
   "metadata": {},
   "outputs": [],
   "source": [
    "%load_ext autoreload\n",
    "%autoreload 2"
   ]
  },
  {
   "cell_type": "code",
   "execution_count": null,
   "id": "3c7b3ad6",
   "metadata": {},
   "outputs": [],
   "source": [
    "import dotenv\n",
    "import matplotlib.pyplot as plt\n",
    "import numpy as np\n",
    "from fl_g13.fl_pytorch.editing import load_mask\n",
    "from fl_g13.editing import mask_dict_to_list, compute_mask_stats, format_mask_stats"
   ]
  },
  {
   "cell_type": "code",
   "execution_count": null,
   "id": "3feb2c30",
   "metadata": {},
   "outputs": [],
   "source": [
    "dotenv.load_dotenv()\n",
    "CHECKPOINT_DIR = dotenv.dotenv_values()[\"CHECKPOINT_DIR\"]"
   ]
  },
  {
   "cell_type": "code",
   "execution_count": null,
   "id": "5d82fe88",
   "metadata": {},
   "outputs": [],
   "source": [
    "union_mask_file_name =  CHECKPOINT_DIR + f\"/masks/union_1_8_global_0.7_3.pth\"\n",
    "\n",
    "union_mask = load_mask(union_mask_file_name)"
   ]
  },
  {
   "cell_type": "code",
   "execution_count": null,
   "id": "d97e8128",
   "metadata": {},
   "outputs": [],
   "source": [
    "intersection_mask_file_name =  CHECKPOINT_DIR + f\"/masks/intersection_1_8_global_0.7_3.pth\"\n",
    "\n",
    "intersection_mask = load_mask(intersection_mask_file_name)"
   ]
  },
  {
   "cell_type": "code",
   "execution_count": null,
   "id": "340d1270",
   "metadata": {},
   "outputs": [],
   "source": [
    "union_stats = compute_mask_stats(union_mask)\n",
    "intersection_stats = compute_mask_stats(intersection_mask)"
   ]
  },
  {
   "cell_type": "code",
   "execution_count": null,
   "id": "8b306dd0",
   "metadata": {},
   "outputs": [],
   "source": [
    "# Aggregate by block for intersection\n",
    "intersection_by_block = {}\n",
    "missing_intersection = []\n",
    "\n",
    "for layer, stats in intersection_stats.items():\n",
    "    if layer == 'overall':\n",
    "        if 'total_elements' not in stats or 'kept_elements' not in stats:\n",
    "            missing_intersection.append(layer)\n",
    "            continue\n",
    "        block = 'overall'\n",
    "        if block not in intersection_by_block:\n",
    "            intersection_by_block[block] = {'block_num_elements': 0, 'block_kept_elements': 0}\n",
    "        intersection_by_block[block]['block_num_elements'] = stats['total_elements']\n",
    "        intersection_by_block[block]['block_kept_elements'] = stats['kept_elements']\n",
    "    else:\n",
    "        if 'num_elements' not in stats or 'kept_elements' not in stats:\n",
    "            missing_intersection.append(layer)\n",
    "            continue\n",
    "        block = '.'.join(layer.split('.')[:3])\n",
    "        if block not in intersection_by_block:\n",
    "            intersection_by_block[block] = {'block_num_elements': 0, 'block_kept_elements': 0}\n",
    "        intersection_by_block[block]['block_num_elements'] += stats['num_elements']\n",
    "        intersection_by_block[block]['block_kept_elements'] += stats['kept_elements']\n",
    "\n",
    "# Compute density\n",
    "for block, st in intersection_by_block.items():\n",
    "    total = st['block_num_elements']\n",
    "    kept = st['block_kept_elements']\n",
    "    st['density'] = kept / total if total > 0 else 0\n",
    "\n",
    "if missing_intersection:\n",
    "    print(f\"Warning: skipped {len(missing_intersection)} layers without expected fields\")"
   ]
  },
  {
   "cell_type": "code",
   "execution_count": null,
   "id": "d1322f61",
   "metadata": {},
   "outputs": [],
   "source": [
    "# Aggregate by block for union\n",
    "union_by_block = {}\n",
    "missing_union = []\n",
    "\n",
    "for layer, stats in union_stats.items():\n",
    "    if layer == 'overall':\n",
    "        if 'total_elements' not in stats or 'kept_elements' not in stats:\n",
    "            missing_union.append(layer)\n",
    "            continue\n",
    "        block = 'overall'\n",
    "        if block not in union_by_block:\n",
    "            union_by_block[block] = {'block_num_elements': 0, 'block_kept_elements': 0}\n",
    "        union_by_block[block]['block_num_elements'] = stats['total_elements']\n",
    "        union_by_block[block]['block_kept_elements'] = stats['kept_elements']\n",
    "    else:\n",
    "        if 'num_elements' not in stats or 'kept_elements' not in stats:\n",
    "            missing_union.append(layer)\n",
    "            continue\n",
    "        block = '.'.join(layer.split('.')[:3])\n",
    "        if block not in union_by_block:\n",
    "            union_by_block[block] = {'block_num_elements': 0, 'block_kept_elements': 0}\n",
    "        union_by_block[block]['block_num_elements'] += stats['num_elements']\n",
    "        union_by_block[block]['block_kept_elements'] += stats['kept_elements']\n",
    "\n",
    "# Compute density\n",
    "for block, st in union_by_block.items():\n",
    "    total = st['block_num_elements']\n",
    "    kept = st['block_kept_elements']\n",
    "    st['density'] = kept / total if total > 0 else 0\n",
    "\n",
    "if missing_union:\n",
    "    print(f\"Warning: skipped {len(missing_union)} layers without expected fields\")\n"
   ]
  },
  {
   "cell_type": "code",
   "execution_count": null,
   "id": "0cc4decd",
   "metadata": {},
   "outputs": [],
   "source": [
    "# Preserve original insertion order of blocks\n",
    "blocks = list(intersection_by_block.keys())\n",
    "densities_intersection = [intersection_by_block[blk]['density'] for blk in blocks]\n",
    "densities_union = [union_by_block.get(blk, {}).get('density', 0) for blk in blocks]\n",
    "\n",
    "# Plot\n",
    "x = np.arange(len(blocks))\n",
    "width = 0.35\n",
    "\n",
    "plt.figure()\n",
    "plt.bar(x - width/2, densities_intersection, width, label='Intersection')\n",
    "plt.bar(x + width/2, densities_union, width, label='Union')\n",
    "plt.xlabel('Blocks')\n",
    "plt.ylabel('Density')\n",
    "plt.title('Density per block')\n",
    "plt.xticks(x, blocks, rotation=45, ha='right')\n",
    "plt.legend()\n",
    "plt.tight_layout()\n",
    "plt.show()"
   ]
  }
 ],
 "metadata": {
  "kernelspec": {
   "display_name": ".venv",
   "language": "python",
   "name": "python3"
  },
  "language_info": {
   "codemirror_mode": {
    "name": "ipython",
    "version": 3
   },
   "file_extension": ".py",
   "mimetype": "text/x-python",
   "name": "python",
   "nbconvert_exporter": "python",
   "pygments_lexer": "ipython3",
   "version": "3.10.0"
  }
 },
 "nbformat": 4,
 "nbformat_minor": 5
}
