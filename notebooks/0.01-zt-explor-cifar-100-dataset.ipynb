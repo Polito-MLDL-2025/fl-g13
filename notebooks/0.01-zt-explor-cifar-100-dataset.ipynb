{
 "cells": [
  {
   "cell_type": "code",
   "execution_count": null,
   "id": "initial_id",
   "metadata": {
    "ExecuteTime": {
     "end_time": "2025-04-10T09:55:57.390276Z",
     "start_time": "2025-04-10T09:55:57.319260Z"
    }
   },
   "outputs": [],
   "source": [
    "%load_ext autoreload\n",
    "%autoreload 2"
   ]
  },
  {
   "cell_type": "code",
   "execution_count": null,
   "id": "e658f0f7eb461271",
   "metadata": {
    "ExecuteTime": {
     "end_time": "2025-04-10T09:58:58.446234Z",
     "start_time": "2025-04-10T09:58:56.099349Z"
    }
   },
   "outputs": [],
   "source": [
    "from fl_g13.config import RAW_DATA_DIR\n",
    "import matplotlib.pyplot as plt\n",
    "import numpy as np\n",
    "from torchvision import datasets, transforms\n",
    "from collections import Counter"
   ]
  },
  {
   "cell_type": "markdown",
   "id": "a424434045ad0148",
   "metadata": {},
   "source": [
    "## Load data"
   ]
  },
  {
   "cell_type": "code",
   "execution_count": null,
   "id": "7297c329b44362a4",
   "metadata": {
    "ExecuteTime": {
     "end_time": "2025-04-10T09:56:05.249631Z",
     "start_time": "2025-04-10T09:56:03.118070Z"
    }
   },
   "outputs": [],
   "source": [
    "transform = transforms.Compose([\n",
    "    transforms.ToTensor()\n",
    "])\n",
    "cifar100_train = datasets.CIFAR100(root=RAW_DATA_DIR, train=True, download=True, transform=transform)\n",
    "cifar100_test = datasets.CIFAR100(root=RAW_DATA_DIR, train=False, download=True, transform=transform)\n"
   ]
  },
  {
   "cell_type": "markdown",
   "id": "f9a63817aae89da",
   "metadata": {},
   "source": [
    "## Dataset overview"
   ]
  },
  {
   "cell_type": "code",
   "execution_count": null,
   "id": "6380fe824a5ee130",
   "metadata": {
    "ExecuteTime": {
     "end_time": "2025-04-10T09:56:05.517867Z",
     "start_time": "2025-04-10T09:56:05.251511Z"
    }
   },
   "outputs": [],
   "source": [
    "print(f\"Training samples: {len(cifar100_train)}\")\n",
    "print(f\"Test samples: {len(cifar100_test)}\")\n",
    "print(f\"Classes: {len(cifar100_train.classes)}\")\n",
    "print(f\"First 5 classes: {cifar100_train.classes[:5]}\")"
   ]
  },
  {
   "cell_type": "markdown",
   "id": "9cfd6de164634da5",
   "metadata": {},
   "source": [
    "## Display a few sample images"
   ]
  },
  {
   "cell_type": "code",
   "execution_count": null,
   "id": "1496b825c92ac351",
   "metadata": {
    "ExecuteTime": {
     "end_time": "2025-04-10T09:56:06.118263Z",
     "start_time": "2025-04-10T09:56:05.519852Z"
    }
   },
   "outputs": [],
   "source": [
    "def show_samples(dataset, n=10):\n",
    "    fig, axes = plt.subplots(1, n, figsize=(15, 2))\n",
    "    for i in range(n):\n",
    "        img, label = dataset[i]\n",
    "        axes[i].imshow(np.transpose(img.numpy(), (1, 2, 0)))\n",
    "        axes[i].axis('off')\n",
    "        axes[i].set_title(dataset.classes[label], fontsize=8)\n",
    "    plt.tight_layout()\n",
    "    plt.show()\n",
    "\n",
    "show_samples(cifar100_train)"
   ]
  },
  {
   "cell_type": "markdown",
   "id": "ac9a202d351ce80c",
   "metadata": {},
   "source": [
    "## Class distribution"
   ]
  },
  {
   "cell_type": "code",
   "execution_count": null,
   "id": "db78d889e81bb268",
   "metadata": {
    "ExecuteTime": {
     "end_time": "2025-04-10T09:56:10.567241Z",
     "start_time": "2025-04-10T09:56:06.120263Z"
    }
   },
   "outputs": [],
   "source": [
    "def get_class_distribution(dataset):\n",
    "    labels = [label for _, label in dataset]\n",
    "    return Counter(labels)\n",
    "\n",
    "train_dist = get_class_distribution(cifar100_train)\n",
    "test_dist = get_class_distribution(cifar100_test)"
   ]
  },
  {
   "cell_type": "code",
   "execution_count": null,
   "id": "a6f001ae7f69eb9e",
   "metadata": {
    "ExecuteTime": {
     "end_time": "2025-04-10T09:56:11.056836Z",
     "start_time": "2025-04-10T09:56:10.570116Z"
    }
   },
   "outputs": [],
   "source": [
    "# Plot distribution\n",
    "def plot_distribution(distribution, title):\n",
    "    labels = list(range(100))\n",
    "    counts = [distribution[l] for l in labels]\n",
    "    plt.figure(figsize=(12, 4))\n",
    "    plt.bar(labels, counts)\n",
    "    plt.title(title)\n",
    "    plt.xlabel(\"Class ID\")\n",
    "    plt.ylabel(\"Frequency\")\n",
    "    plt.show()\n",
    "\n",
    "plot_distribution(train_dist, \"Class Distribution (Train)\")\n",
    "plot_distribution(test_dist, \"Class Distribution (Test)\")"
   ]
  },
  {
   "cell_type": "markdown",
   "id": "a77016b961ae5079",
   "metadata": {},
   "source": [
    "## Train, val split"
   ]
  },
  {
   "cell_type": "code",
   "execution_count": null,
   "id": "5001d4f9",
   "metadata": {},
   "outputs": [],
   "source": [
    "from fl_g13.dataset import iid_sharding, non_iid_sharding, train_test_split, check_subset_distribution"
   ]
  },
  {
   "cell_type": "code",
   "execution_count": null,
   "id": "33efa605c2a19beb",
   "metadata": {
    "ExecuteTime": {
     "end_time": "2025-04-10T10:11:02.722423Z",
     "start_time": "2025-04-10T10:11:02.340989Z"
    }
   },
   "outputs": [],
   "source": [
    "### train val split\n",
    "train_dataset, val_dataset = train_test_split(cifar100_train,train_ratio=0.8)"
   ]
  },
  {
   "cell_type": "markdown",
   "id": "9746f203632e1ce1",
   "metadata": {},
   "source": [
    "**Check distribution**"
   ]
  },
  {
   "cell_type": "code",
   "execution_count": null,
   "id": "b7030e517f9eba7c",
   "metadata": {
    "ExecuteTime": {
     "end_time": "2025-04-10T10:16:48.931810Z",
     "start_time": "2025-04-10T10:16:47.928961Z"
    }
   },
   "outputs": [],
   "source": [
    "check_subset_distribution(val_dataset)"
   ]
  },
  {
   "cell_type": "markdown",
   "id": "ca0cb5cc8a8738ac",
   "metadata": {},
   "source": [
    "## I.I.D Sharding Split"
   ]
  },
  {
   "cell_type": "code",
   "execution_count": null,
   "id": "5382442b85f69063",
   "metadata": {
    "ExecuteTime": {
     "end_time": "2025-04-10T10:43:41.311420Z",
     "start_time": "2025-04-10T10:43:40.823725Z"
    }
   },
   "outputs": [],
   "source": [
    "## k client\n",
    "k =10\n",
    "clients_dataset= iid_sharding(cifar100_train,k)"
   ]
  },
  {
   "cell_type": "code",
   "execution_count": null,
   "id": "d61fb68f72fe46df",
   "metadata": {
    "ExecuteTime": {
     "end_time": "2025-04-10T10:43:42.144423Z",
     "start_time": "2025-04-10T10:43:41.451738Z"
    }
   },
   "outputs": [],
   "source": [
    "check_subset_distribution(clients_dataset[0])"
   ]
  },
  {
   "cell_type": "markdown",
   "id": "a762231f036a9d77",
   "metadata": {},
   "source": [
    "## Non I.I.D Sharding Split"
   ]
  },
  {
   "cell_type": "code",
   "execution_count": null,
   "id": "28ee70b1884087cc",
   "metadata": {
    "ExecuteTime": {
     "end_time": "2025-04-10T10:45:50.837437Z",
     "start_time": "2025-04-10T10:45:47.038436Z"
    }
   },
   "outputs": [],
   "source": [
    "## k client , nc = 2\n",
    "k =10\n",
    "nc = 2 \n",
    "non_iid_clients_dataset= non_iid_sharding(cifar100_train,k,keep_random=nc)"
   ]
  },
  {
   "cell_type": "code",
   "execution_count": null,
   "id": "7fa3d2a22d9d694f",
   "metadata": {
    "ExecuteTime": {
     "end_time": "2025-04-10T10:45:57.790679Z",
     "start_time": "2025-04-10T10:45:57.521068Z"
    }
   },
   "outputs": [],
   "source": [
    "check_subset_distribution(non_iid_clients_dataset[0])"
   ]
  }
 ],
 "metadata": {
  "kernelspec": {
   "display_name": "fl-g13",
   "language": "python",
   "name": "python3"
  },
  "language_info": {
   "codemirror_mode": {
    "name": "ipython",
    "version": 3
   },
   "file_extension": ".py",
   "mimetype": "text/x-python",
   "name": "python",
   "nbconvert_exporter": "python",
   "pygments_lexer": "ipython3",
   "version": "3.11.11"
  }
 },
 "nbformat": 4,
 "nbformat_minor": 5
}
