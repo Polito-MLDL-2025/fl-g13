{
 "cells": [
  {
   "cell_type": "code",
   "execution_count": 1,
   "id": "7c4ad2d6",
   "metadata": {},
   "outputs": [],
   "source": [
    "%load_ext autoreload\n",
    "%autoreload 2"
   ]
  },
  {
   "cell_type": "code",
   "execution_count": 2,
   "id": "fed9d03c",
   "metadata": {},
   "outputs": [
    {
     "name": "stderr",
     "output_type": "stream",
     "text": [
      "\u001b[32m2025-06-27 12:45:49.313\u001b[0m | \u001b[1mINFO    \u001b[0m | \u001b[36mfl_g13.config\u001b[0m:\u001b[36m<module>\u001b[0m:\u001b[36m11\u001b[0m - \u001b[1mPROJ_ROOT path is: /home/massimiliano/Projects/fl-g13\u001b[0m\n"
     ]
    }
   ],
   "source": [
    "import flwr\n",
    "import torch\n",
    "import dotenv\n",
    "import wandb\n",
    "from itertools import product\n",
    "\n",
    "from torch.optim.lr_scheduler import CosineAnnealingLR\n",
    "\n",
    "from fl_g13.architectures import BaseDino\n",
    "from fl_g13.editing import SparseSGDM\n",
    "\n",
    "from fl_g13.fl_pytorch import build_fl_dependencies\n",
    "\n",
    "from fl_g13.fl_pytorch.datasets import reset_partition\n",
    "from fl_g13.modeling import load_or_create\n",
    "from fl_g13.editing import SparseSGDM\n",
    "from torch.optim import SGD\n",
    "\n",
    "from fl_g13.fl_pytorch import get_client_app, get_server_app\n",
    "from flwr.simulation import run_simulation"
   ]
  },
  {
   "cell_type": "code",
   "execution_count": 3,
   "id": "a546bacd",
   "metadata": {},
   "outputs": [
    {
     "name": "stdout",
     "output_type": "stream",
     "text": [
      "Training on cuda\n",
      "Flower 1.17.0 / PyTorch 2.6.0+cu124\n",
      "'vision_transformer.py' already exists.\n",
      "'utils.py' already exists.\n"
     ]
    }
   ],
   "source": [
    "DEVICE = \"cuda\" if torch.cuda.is_available() else \"cpu\"\n",
    "print(f\"Training on {DEVICE}\")\n",
    "print(f\"Flower {flwr.__version__} / PyTorch {torch.__version__}\")\n",
    "\n",
    "dotenv.load_dotenv()\n",
    "build_fl_dependencies()\n",
    "\n",
    "if DEVICE == \"cuda\":\n",
    "    backend_config = {\"client_resources\": {\"num_cpus\": 1, \"num_gpus\": 1.0}}\n",
    "else:\n",
    "    backend_config = {\"client_resources\": {\"num_cpus\": 1, \"num_gpus\": 0.0}}"
   ]
  },
  {
   "cell_type": "code",
   "execution_count": 4,
   "id": "a42ab994",
   "metadata": {},
   "outputs": [
    {
     "name": "stderr",
     "output_type": "stream",
     "text": [
      "/home/massimiliano/miniconda3/envs/fl-g13/lib/python3.11/site-packages/notebook/utils.py:280: DeprecationWarning: distutils Version classes are deprecated. Use packaging.version instead.\n",
      "  return LooseVersion(v) >= LooseVersion(check)\n",
      "\u001b[34m\u001b[1mwandb\u001b[0m: Using wandb-core as the SDK backend.  Please refer to https://wandb.me/wandb-core for more information.\n",
      "\u001b[34m\u001b[1mwandb\u001b[0m: \u001b[33mWARNING\u001b[0m If you're specifying your api key in code, ensure this code is not shared publicly.\n",
      "\u001b[34m\u001b[1mwandb\u001b[0m: \u001b[33mWARNING\u001b[0m Consider setting the WANDB_API_KEY environment variable, or running `wandb login` from the command line.\n",
      "\u001b[34m\u001b[1mwandb\u001b[0m: Appending key for api.wandb.ai to your netrc file: /home/massimiliano/.netrc\n",
      "\u001b[34m\u001b[1mwandb\u001b[0m: Currently logged in as: \u001b[33mmassimilianocarli\u001b[0m (\u001b[33mstefano-gamba-social-politecnico-di-torino\u001b[0m) to \u001b[32mhttps://api.wandb.ai\u001b[0m. Use \u001b[1m`wandb login --relogin`\u001b[0m to force relogin\n"
     ]
    }
   ],
   "source": [
    "# login by key in .env file\n",
    "WANDB_API_KEY = dotenv.dotenv_values()[\"WANDB_API_KEY\"]\n",
    "wandb.login(key=WANDB_API_KEY)\n",
    "\n",
    "# Load checkpoint from .env file\n",
    "CHECKPOINT_DIR = dotenv.dotenv_values()[\"CHECKPOINT_DIR\"]"
   ]
  },
  {
   "cell_type": "code",
   "execution_count": 5,
   "id": "33fb2492",
   "metadata": {},
   "outputs": [],
   "source": [
    "# Model config\n",
    "## Model Hyper-parameters\n",
    "head_layers = 3\n",
    "head_hidden_size = 512\n",
    "dropout_rate = 0.0\n",
    "unfreeze_blocks = 12\n",
    "\n",
    "## Training Hyper-parameters\n",
    "batch_size = 64\n",
    "lr = 1e-3\n",
    "momentum = 0.9\n",
    "weight_decay = 1e-5\n",
    "T_max = 8\n",
    "eta_min = 1e-5\n",
    "\n",
    "# FL config\n",
    "K = 100\n",
    "C = 0.1\n",
    "J = 8\n",
    "num_shards_per_partition = 50 # Nc\n",
    "partition_type = 'shard'\n",
    "\n",
    "num_rounds = 5\n",
    "\n",
    "## Server App config\n",
    "save_every = num_rounds # only save last checkpoint\n",
    "evaluate_each = 1\n",
    "fraction_fit = C        # 0.1\n",
    "fraction_evaluate = C   # 0.1\n",
    "min_fit_clients = 10\n",
    "min_evaluate_clients = 5\n",
    "min_available_clients = 10\n",
    "\n",
    "# model editing config\n",
    "model_editing = True\n",
    "mask_types = ['local', 'global']\n",
    "sparsities = [0.7, 0.8, 0.9]\n",
    "calibration_rounds = [1, 3]\n",
    "model_editing_batch_size = 1\n",
    "mask = None\n",
    "\n",
    "## simulation run config\n",
    "NUM_CLIENTS = 100\n",
    "MAX_PARALLEL_CLIENTS = 10\n",
    "\n",
    "## Base model location\n",
    "# The 200-epoch model folder\n",
    "# Ensure that the most recent file is the correct one\n",
    "model_save_path = CHECKPOINT_DIR + f\"/fl/non-iid/{num_shards_per_partition}_{J}\""
   ]
  },
  {
   "cell_type": "code",
   "execution_count": 6,
   "id": "f6933e4d",
   "metadata": {},
   "outputs": [
    {
     "name": "stdout",
     "output_type": "stream",
     "text": [
      "--------------------------------------------------------------------------------------------------------------------------------------------------------------------------------------------------------\n",
      " Nc=50, J=8, mask_type=local, sparsity=0.7, mask_calibration_round=1\n",
      "\n"
     ]
    },
    {
     "name": "stderr",
     "output_type": "stream",
     "text": [
      "Using cache found in /home/massimiliano/.cache/torch/hub/facebookresearch_dino_main\n",
      "Using cache found in /home/massimiliano/.cache/torch/hub/facebookresearch_dino_main\n"
     ]
    },
    {
     "name": "stdout",
     "output_type": "stream",
     "text": [
      "✅ Loaded checkpoint from /home/massimiliano/Projects/fl-g13/models/fl/non-iid/50_8/fl_fl_baseline_BaseDino_epoch_200.pth, resuming at epoch 201\n",
      "Using strategy 'CustomFedAvg' (default option)\n"
     ]
    },
    {
     "name": "stderr",
     "output_type": "stream",
     "text": [
      "/home/massimiliano/miniconda3/envs/fl-g13/lib/python3.11/site-packages/wandb/analytics/sentry.py:259: DeprecationWarning: The `Scope.user` setter is deprecated in favor of `Scope.set_user()`.\n",
      "  self.scope.user = {\"email\": email}  # noqa\n",
      "/home/massimiliano/miniconda3/envs/fl-g13/lib/python3.11/site-packages/wandb/analytics/sentry.py:259: DeprecationWarning: The `Scope.user` setter is deprecated in favor of `Scope.set_user()`.\n",
      "  self.scope.user = {\"email\": email}  # noqa\n"
     ]
    },
    {
     "data": {
      "text/html": [
       "Tracking run with wandb version 0.19.9"
      ],
      "text/plain": [
       "<IPython.core.display.HTML object>"
      ]
     },
     "metadata": {},
     "output_type": "display_data"
    },
    {
     "data": {
      "text/html": [
       "Run data is saved locally in <code>/home/massimiliano/Projects/fl-g13/notebooks/wandb/run-20250627_124554-fl_gs_50_8_local_0.7_1</code>"
      ],
      "text/plain": [
       "<IPython.core.display.HTML object>"
      ]
     },
     "metadata": {},
     "output_type": "display_data"
    },
    {
     "data": {
      "text/html": [
       "Syncing run <strong><a href='https://wandb.ai/stefano-gamba-social-politecnico-di-torino/fl_v5_50_8_grid_search/runs/fl_gs_50_8_local_0.7_1' target=\"_blank\">fl_gs_50_8_local_0.7_1</a></strong> to <a href='https://wandb.ai/stefano-gamba-social-politecnico-di-torino/fl_v5_50_8_grid_search' target=\"_blank\">Weights & Biases</a> (<a href='https://wandb.me/developer-guide' target=\"_blank\">docs</a>)<br>"
      ],
      "text/plain": [
       "<IPython.core.display.HTML object>"
      ]
     },
     "metadata": {},
     "output_type": "display_data"
    },
    {
     "data": {
      "text/html": [
       " View project at <a href='https://wandb.ai/stefano-gamba-social-politecnico-di-torino/fl_v5_50_8_grid_search' target=\"_blank\">https://wandb.ai/stefano-gamba-social-politecnico-di-torino/fl_v5_50_8_grid_search</a>"
      ],
      "text/plain": [
       "<IPython.core.display.HTML object>"
      ]
     },
     "metadata": {},
     "output_type": "display_data"
    },
    {
     "data": {
      "text/html": [
       " View run at <a href='https://wandb.ai/stefano-gamba-social-politecnico-di-torino/fl_v5_50_8_grid_search/runs/fl_gs_50_8_local_0.7_1' target=\"_blank\">https://wandb.ai/stefano-gamba-social-politecnico-di-torino/fl_v5_50_8_grid_search/runs/fl_gs_50_8_local_0.7_1</a>"
      ],
      "text/plain": [
       "<IPython.core.display.HTML object>"
      ]
     },
     "metadata": {},
     "output_type": "display_data"
    },
    {
     "name": "stderr",
     "output_type": "stream",
     "text": [
      "\u001b[92mINFO \u001b[0m:      Starting Flower ServerApp, config: num_rounds=5, no round_timeout\n",
      "\u001b[92mINFO \u001b[0m:      \n",
      "\u001b[92mINFO \u001b[0m:      [INIT]\n",
      "\u001b[92mINFO \u001b[0m:      Using initial global parameters provided by strategy\n",
      "\u001b[92mINFO \u001b[0m:      Starting evaluation of initial global parameters\n",
      "Eval progress: 100%|██████████| 313/313 [00:24<00:00, 12.91batch/s]\n",
      "\u001b[92mINFO \u001b[0m:      [Round 0] Centralized Evaluation - Loss: 1.2866, Metrics: {'centralized_accuracy': 0.632}\n",
      "\u001b[92mINFO \u001b[0m:      initial parameters (loss, other metrics): 1.2865915678370112, {'centralized_accuracy': 0.632}\n",
      "\u001b[92mINFO \u001b[0m:      \n",
      "\u001b[92mINFO \u001b[0m:      [ROUND 1]\n",
      "\u001b[92mINFO \u001b[0m:      configure_fit: strategy sampled 10 clients (out of 100)\n",
      "\u001b[36m(ClientAppActor pid=69789)\u001b[0m 2025-06-27 12:46:20.585 | INFO     | fl_g13.config:<module>:11 - PROJ_ROOT path is: /home/massimiliano/Projects/fl-g13\n",
      "\u001b[92mINFO \u001b[0m:      aggregate_fit: received 10 results and 0 failures\n",
      "\u001b[92mINFO \u001b[0m:      [Round 1] Avg Drift: 0.0004 | Relative Drift: 0.0000\n",
      "Eval progress: 100%|██████████| 313/313 [00:23<00:00, 13.45batch/s]\n",
      "\u001b[92mINFO \u001b[0m:      [Round 1] Centralized Evaluation - Loss: 1.1283, Metrics: {'centralized_accuracy': 0.6686}\n",
      "\u001b[92mINFO \u001b[0m:      fit progress: (1, 1.1282951892755282, {'centralized_accuracy': 0.6686}, 123.52869402000033)\n",
      "\u001b[92mINFO \u001b[0m:      configure_evaluate: strategy sampled 10 clients (out of 100)\n",
      "\u001b[92mINFO \u001b[0m:      aggregate_evaluate: received 10 results and 0 failures\n",
      "\u001b[92mINFO \u001b[0m:      \n",
      "\u001b[92mINFO \u001b[0m:      [ROUND 2]\n",
      "\u001b[92mINFO \u001b[0m:      configure_fit: strategy sampled 10 clients (out of 100)\n",
      "\u001b[92mINFO \u001b[0m:      aggregate_fit: received 10 results and 0 failures\n",
      "\u001b[92mINFO \u001b[0m:      [Round 2] Avg Drift: 0.0004 | Relative Drift: 0.0000\n",
      "Eval progress: 100%|██████████| 313/313 [00:22<00:00, 13.69batch/s]\n",
      "\u001b[92mINFO \u001b[0m:      [Round 2] Centralized Evaluation - Loss: 1.0884, Metrics: {'centralized_accuracy': 0.6807}\n",
      "\u001b[92mINFO \u001b[0m:      fit progress: (2, 1.0884354045977607, {'centralized_accuracy': 0.6807}, 277.94619382100063)\n",
      "\u001b[92mINFO \u001b[0m:      configure_evaluate: strategy sampled 10 clients (out of 100)\n",
      "\u001b[92mINFO \u001b[0m:      aggregate_evaluate: received 10 results and 0 failures\n",
      "\u001b[92mINFO \u001b[0m:      \n",
      "\u001b[92mINFO \u001b[0m:      [ROUND 3]\n",
      "\u001b[92mINFO \u001b[0m:      configure_fit: strategy sampled 10 clients (out of 100)\n",
      "\u001b[92mINFO \u001b[0m:      aggregate_fit: received 10 results and 0 failures\n",
      "\u001b[92mINFO \u001b[0m:      [Round 3] Avg Drift: 0.0004 | Relative Drift: 0.0000\n",
      "Eval progress: 100%|██████████| 313/313 [00:19<00:00, 15.65batch/s]\n",
      "\u001b[92mINFO \u001b[0m:      [Round 3] Centralized Evaluation - Loss: 1.0612, Metrics: {'centralized_accuracy': 0.6837}\n",
      "\u001b[92mINFO \u001b[0m:      fit progress: (3, 1.0612392585498456, {'centralized_accuracy': 0.6837}, 407.4700516619996)\n",
      "\u001b[92mINFO \u001b[0m:      configure_evaluate: strategy sampled 10 clients (out of 100)\n",
      "\u001b[92mINFO \u001b[0m:      aggregate_evaluate: received 10 results and 0 failures\n",
      "\u001b[92mINFO \u001b[0m:      \n",
      "\u001b[92mINFO \u001b[0m:      [ROUND 4]\n",
      "\u001b[92mINFO \u001b[0m:      configure_fit: strategy sampled 10 clients (out of 100)\n",
      "\u001b[92mINFO \u001b[0m:      aggregate_fit: received 10 results and 0 failures\n",
      "\u001b[92mINFO \u001b[0m:      [Round 4] Avg Drift: 0.0003 | Relative Drift: 0.0000\n",
      "Eval progress: 100%|██████████| 313/313 [00:20<00:00, 15.62batch/s]\n",
      "\u001b[92mINFO \u001b[0m:      [Round 4] Centralized Evaluation - Loss: 1.0357, Metrics: {'centralized_accuracy': 0.691}\n",
      "\u001b[92mINFO \u001b[0m:      fit progress: (4, 1.0356594180337155, {'centralized_accuracy': 0.691}, 522.4148865900006)\n",
      "\u001b[92mINFO \u001b[0m:      configure_evaluate: strategy sampled 10 clients (out of 100)\n",
      "\u001b[92mINFO \u001b[0m:      aggregate_evaluate: received 10 results and 0 failures\n",
      "\u001b[92mINFO \u001b[0m:      \n",
      "\u001b[92mINFO \u001b[0m:      [ROUND 5]\n",
      "\u001b[92mINFO \u001b[0m:      configure_fit: strategy sampled 10 clients (out of 100)\n",
      "\u001b[92mINFO \u001b[0m:      aggregate_fit: received 10 results and 0 failures\n",
      "\u001b[92mINFO \u001b[0m:      [Round 5] Avg Drift: 0.0003 | Relative Drift: 0.0000\n",
      "\u001b[92mINFO \u001b[0m:      [Round 5] Saving aggregated model at epoch 205...\n"
     ]
    },
    {
     "name": "stdout",
     "output_type": "stream",
     "text": [
      "💾 Saved checkpoint at: /home/massimiliano/Projects/fl-g13/models/fl/non-iid/GS/50_8_local_0.7_1/fl_grid_search_BaseDino_epoch_205.pth\n"
     ]
    },
    {
     "name": "stderr",
     "output_type": "stream",
     "text": [
      "Eval progress: 100%|██████████| 313/313 [00:19<00:00, 15.74batch/s]\n",
      "\u001b[92mINFO \u001b[0m:      [Round 5] Centralized Evaluation - Loss: 1.0295, Metrics: {'centralized_accuracy': 0.6936}\n",
      "\u001b[92mINFO \u001b[0m:      fit progress: (5, 1.0295475972727084, {'centralized_accuracy': 0.6936}, 629.0755233769996)\n",
      "\u001b[92mINFO \u001b[0m:      configure_evaluate: strategy sampled 10 clients (out of 100)\n",
      "\u001b[92mINFO \u001b[0m:      aggregate_evaluate: received 10 results and 0 failures\n",
      "\u001b[92mINFO \u001b[0m:      \n",
      "\u001b[92mINFO \u001b[0m:      [SUMMARY]\n",
      "\u001b[92mINFO \u001b[0m:      Run finished 5 round(s) in 662.73s\n",
      "\u001b[92mINFO \u001b[0m:      \tHistory (loss, distributed):\n",
      "\u001b[92mINFO \u001b[0m:      \t\tround 1: 1.2114107489585877\n",
      "\u001b[92mINFO \u001b[0m:      \t\tround 2: 1.0491274088621139\n",
      "\u001b[92mINFO \u001b[0m:      \t\tround 3: 1.096449339389801\n",
      "\u001b[92mINFO \u001b[0m:      \t\tround 4: 1.0391461431980134\n",
      "\u001b[92mINFO \u001b[0m:      \t\tround 5: 1.0656949549913406\n",
      "\u001b[92mINFO \u001b[0m:      \tHistory (loss, centralized):\n",
      "\u001b[92mINFO \u001b[0m:      \t\tround 0: 1.2865915678370112\n",
      "\u001b[92mINFO \u001b[0m:      \t\tround 1: 1.1282951892755282\n",
      "\u001b[92mINFO \u001b[0m:      \t\tround 2: 1.0884354045977607\n",
      "\u001b[92mINFO \u001b[0m:      \t\tround 3: 1.0612392585498456\n",
      "\u001b[92mINFO \u001b[0m:      \t\tround 4: 1.0356594180337155\n",
      "\u001b[92mINFO \u001b[0m:      \t\tround 5: 1.0295475972727084\n",
      "\u001b[92mINFO \u001b[0m:      \tHistory (metrics, distributed, fit):\n",
      "\u001b[92mINFO \u001b[0m:      \t{'avg_drift': [(1, np.float32(0.00040796775)),\n",
      "\u001b[92mINFO \u001b[0m:      \t               (2, np.float32(0.00035804408)),\n",
      "\u001b[92mINFO \u001b[0m:      \t               (3, np.float32(0.0003555276)),\n",
      "\u001b[92mINFO \u001b[0m:      \t               (4, np.float32(0.00034448112)),\n",
      "\u001b[92mINFO \u001b[0m:      \t               (5, np.float32(0.00034033318))],\n",
      "\u001b[92mINFO \u001b[0m:      \t 'avg_train_loss': [(1, 1.0363523207604886),\n",
      "\u001b[92mINFO \u001b[0m:      \t                    (2, 0.8915964812040329),\n",
      "\u001b[92mINFO \u001b[0m:      \t                    (3, 0.8959703709930181),\n",
      "\u001b[92mINFO \u001b[0m:      \t                    (4, 0.908976535871625),\n",
      "\u001b[92mINFO \u001b[0m:      \t                    (5, 0.8435731165111064)],\n",
      "\u001b[92mINFO \u001b[0m:      \t 'relative_drift': [(1, np.float32(7.860033e-07)),\n",
      "\u001b[92mINFO \u001b[0m:      \t                    (2, np.float32(6.898189e-07)),\n",
      "\u001b[92mINFO \u001b[0m:      \t                    (3, np.float32(6.8497053e-07)),\n",
      "\u001b[92mINFO \u001b[0m:      \t                    (4, np.float32(6.636881e-07)),\n",
      "\u001b[92mINFO \u001b[0m:      \t                    (5, np.float32(6.556967e-07))]}\n",
      "\u001b[92mINFO \u001b[0m:      \tHistory (metrics, distributed, evaluate):\n",
      "\u001b[92mINFO \u001b[0m:      \t{'decentralized_avg_eval_accuracy': [(1, 0.647),\n",
      "\u001b[92mINFO \u001b[0m:      \t                                     (2, 0.69),\n",
      "\u001b[92mINFO \u001b[0m:      \t                                     (3, 0.673),\n",
      "\u001b[92mINFO \u001b[0m:      \t                                     (4, 0.698),\n",
      "\u001b[92mINFO \u001b[0m:      \t                                     (5, 0.687)]}\n",
      "\u001b[92mINFO \u001b[0m:      \tHistory (metrics, centralized):\n",
      "\u001b[92mINFO \u001b[0m:      \t{'centralized_accuracy': [(0, 0.632),\n",
      "\u001b[92mINFO \u001b[0m:      \t                          (1, 0.6686),\n",
      "\u001b[92mINFO \u001b[0m:      \t                          (2, 0.6807),\n",
      "\u001b[92mINFO \u001b[0m:      \t                          (3, 0.6837),\n",
      "\u001b[92mINFO \u001b[0m:      \t                          (4, 0.691),\n",
      "\u001b[92mINFO \u001b[0m:      \t                          (5, 0.6936)]}\n",
      "\u001b[92mINFO \u001b[0m:      \n"
     ]
    },
    {
     "data": {
      "text/html": [],
      "text/plain": [
       "<IPython.core.display.HTML object>"
      ]
     },
     "metadata": {},
     "output_type": "display_data"
    },
    {
     "data": {
      "text/html": [
       "<br>    <style><br>        .wandb-row {<br>            display: flex;<br>            flex-direction: row;<br>            flex-wrap: wrap;<br>            justify-content: flex-start;<br>            width: 100%;<br>        }<br>        .wandb-col {<br>            display: flex;<br>            flex-direction: column;<br>            flex-basis: 100%;<br>            flex: 1;<br>            padding: 10px;<br>        }<br>    </style><br><div class=\"wandb-row\"><div class=\"wandb-col\"><h3>Run history:</h3><br/><table class=\"wandb\"><tr><td>centralized_accuracy</td><td>▁▅▇▇██</td></tr><tr><td>centralized_eval_loss</td><td>█▄▃▂▁▁</td></tr><tr><td>decentralized_avg_eval_accuracy</td><td>▁▇▅█▆</td></tr><tr><td>decentralized_avg_eval_loss</td><td>█▁▃▁▂</td></tr><tr><td>decentralized_avg_train_accuracy</td><td>▁█▇▇█</td></tr><tr><td>decentralized_avg_train_loss</td><td>█▃▃▃▁</td></tr></table><br/></div><div class=\"wandb-col\"><h3>Run summary:</h3><br/><table class=\"wandb\"><tr><td>centralized_accuracy</td><td>0.6936</td></tr><tr><td>centralized_eval_loss</td><td>1.02955</td></tr><tr><td>decentralized_avg_eval_accuracy</td><td>0.687</td></tr><tr><td>decentralized_avg_eval_loss</td><td>1.06569</td></tr><tr><td>decentralized_avg_train_accuracy</td><td>0.73901</td></tr><tr><td>decentralized_avg_train_loss</td><td>0.84357</td></tr></table><br/></div></div>"
      ],
      "text/plain": [
       "<IPython.core.display.HTML object>"
      ]
     },
     "metadata": {},
     "output_type": "display_data"
    },
    {
     "data": {
      "text/html": [
       " View run <strong style=\"color:#cdcd00\">fl_gs_50_8_local_0.7_1</strong> at: <a href='https://wandb.ai/stefano-gamba-social-politecnico-di-torino/fl_v5_50_8_grid_search/runs/fl_gs_50_8_local_0.7_1' target=\"_blank\">https://wandb.ai/stefano-gamba-social-politecnico-di-torino/fl_v5_50_8_grid_search/runs/fl_gs_50_8_local_0.7_1</a><br> View project at: <a href='https://wandb.ai/stefano-gamba-social-politecnico-di-torino/fl_v5_50_8_grid_search' target=\"_blank\">https://wandb.ai/stefano-gamba-social-politecnico-di-torino/fl_v5_50_8_grid_search</a><br>Synced 5 W&B file(s), 0 media file(s), 0 artifact file(s) and 0 other file(s)"
      ],
      "text/plain": [
       "<IPython.core.display.HTML object>"
      ]
     },
     "metadata": {},
     "output_type": "display_data"
    },
    {
     "data": {
      "text/html": [
       "Find logs at: <code>./wandb/run-20250627_124554-fl_gs_50_8_local_0.7_1/logs</code>"
      ],
      "text/plain": [
       "<IPython.core.display.HTML object>"
      ]
     },
     "metadata": {},
     "output_type": "display_data"
    },
    {
     "name": "stdout",
     "output_type": "stream",
     "text": [
      "--------------------------------------------------------------------------------------------------------------------------------------------------------------------------------------------------------\n",
      " Nc=50, J=8, mask_type=local, sparsity=0.8, mask_calibration_round=1\n",
      "\n"
     ]
    },
    {
     "name": "stderr",
     "output_type": "stream",
     "text": [
      "Using cache found in /home/massimiliano/.cache/torch/hub/facebookresearch_dino_main\n",
      "Using cache found in /home/massimiliano/.cache/torch/hub/facebookresearch_dino_main\n"
     ]
    },
    {
     "name": "stdout",
     "output_type": "stream",
     "text": [
      "✅ Loaded checkpoint from /home/massimiliano/Projects/fl-g13/models/fl/non-iid/50_8/fl_fl_baseline_BaseDino_epoch_200.pth, resuming at epoch 201\n",
      "Using strategy 'CustomFedAvg' (default option)\n"
     ]
    },
    {
     "name": "stderr",
     "output_type": "stream",
     "text": [
      "/home/massimiliano/miniconda3/envs/fl-g13/lib/python3.11/site-packages/wandb/analytics/sentry.py:259: DeprecationWarning: The `Scope.user` setter is deprecated in favor of `Scope.set_user()`.\n",
      "  self.scope.user = {\"email\": email}  # noqa\n",
      "/home/massimiliano/miniconda3/envs/fl-g13/lib/python3.11/site-packages/wandb/analytics/sentry.py:259: DeprecationWarning: The `Scope.user` setter is deprecated in favor of `Scope.set_user()`.\n",
      "  self.scope.user = {\"email\": email}  # noqa\n"
     ]
    },
    {
     "data": {
      "text/html": [
       "Tracking run with wandb version 0.19.9"
      ],
      "text/plain": [
       "<IPython.core.display.HTML object>"
      ]
     },
     "metadata": {},
     "output_type": "display_data"
    },
    {
     "data": {
      "text/html": [
       "Run data is saved locally in <code>/home/massimiliano/Projects/fl-g13/notebooks/wandb/run-20250627_125726-fl_gs_50_8_local_0.8_1</code>"
      ],
      "text/plain": [
       "<IPython.core.display.HTML object>"
      ]
     },
     "metadata": {},
     "output_type": "display_data"
    },
    {
     "data": {
      "text/html": [
       "Syncing run <strong><a href='https://wandb.ai/stefano-gamba-social-politecnico-di-torino/fl_v5_50_8_grid_search/runs/fl_gs_50_8_local_0.8_1' target=\"_blank\">fl_gs_50_8_local_0.8_1</a></strong> to <a href='https://wandb.ai/stefano-gamba-social-politecnico-di-torino/fl_v5_50_8_grid_search' target=\"_blank\">Weights & Biases</a> (<a href='https://wandb.me/developer-guide' target=\"_blank\">docs</a>)<br>"
      ],
      "text/plain": [
       "<IPython.core.display.HTML object>"
      ]
     },
     "metadata": {},
     "output_type": "display_data"
    },
    {
     "data": {
      "text/html": [
       " View project at <a href='https://wandb.ai/stefano-gamba-social-politecnico-di-torino/fl_v5_50_8_grid_search' target=\"_blank\">https://wandb.ai/stefano-gamba-social-politecnico-di-torino/fl_v5_50_8_grid_search</a>"
      ],
      "text/plain": [
       "<IPython.core.display.HTML object>"
      ]
     },
     "metadata": {},
     "output_type": "display_data"
    },
    {
     "data": {
      "text/html": [
       " View run at <a href='https://wandb.ai/stefano-gamba-social-politecnico-di-torino/fl_v5_50_8_grid_search/runs/fl_gs_50_8_local_0.8_1' target=\"_blank\">https://wandb.ai/stefano-gamba-social-politecnico-di-torino/fl_v5_50_8_grid_search/runs/fl_gs_50_8_local_0.8_1</a>"
      ],
      "text/plain": [
       "<IPython.core.display.HTML object>"
      ]
     },
     "metadata": {},
     "output_type": "display_data"
    },
    {
     "name": "stderr",
     "output_type": "stream",
     "text": [
      "\u001b[92mINFO \u001b[0m:      Starting Flower ServerApp, config: num_rounds=5, no round_timeout\n",
      "\u001b[92mINFO \u001b[0m:      \n",
      "\u001b[92mINFO \u001b[0m:      [INIT]\n",
      "\u001b[92mINFO \u001b[0m:      Using initial global parameters provided by strategy\n",
      "\u001b[92mINFO \u001b[0m:      Starting evaluation of initial global parameters\n",
      "Eval progress: 100%|██████████| 313/313 [00:20<00:00, 15.09batch/s]\n",
      "\u001b[92mINFO \u001b[0m:      [Round 0] Centralized Evaluation - Loss: 1.2866, Metrics: {'centralized_accuracy': 0.632}\n",
      "\u001b[92mINFO \u001b[0m:      initial parameters (loss, other metrics): 1.2865915678370112, {'centralized_accuracy': 0.632}\n",
      "\u001b[92mINFO \u001b[0m:      \n",
      "\u001b[92mINFO \u001b[0m:      [ROUND 1]\n",
      "\u001b[92mINFO \u001b[0m:      configure_fit: strategy sampled 10 clients (out of 100)\n",
      "\u001b[36m(ClientAppActor pid=73553)\u001b[0m 2025-06-27 12:57:49.198 | INFO     | fl_g13.config:<module>:11 - PROJ_ROOT path is: /home/massimiliano/Projects/fl-g13\n",
      "\u001b[92mINFO \u001b[0m:      aggregate_fit: received 10 results and 0 failures\n",
      "\u001b[92mINFO \u001b[0m:      [Round 1] Avg Drift: 0.0003 | Relative Drift: 0.0000\n",
      "Eval progress: 100%|██████████| 313/313 [00:20<00:00, 15.56batch/s]\n",
      "\u001b[92mINFO \u001b[0m:      [Round 1] Centralized Evaluation - Loss: 1.1545, Metrics: {'centralized_accuracy': 0.662}\n",
      "\u001b[92mINFO \u001b[0m:      fit progress: (1, 1.1544712151582248, {'centralized_accuracy': 0.662}, 106.77679565500148)\n",
      "\u001b[92mINFO \u001b[0m:      configure_evaluate: strategy sampled 10 clients (out of 100)\n",
      "\u001b[92mINFO \u001b[0m:      aggregate_evaluate: received 10 results and 0 failures\n",
      "\u001b[92mINFO \u001b[0m:      \n",
      "\u001b[92mINFO \u001b[0m:      [ROUND 2]\n",
      "\u001b[92mINFO \u001b[0m:      configure_fit: strategy sampled 10 clients (out of 100)\n",
      "\u001b[92mINFO \u001b[0m:      aggregate_fit: received 10 results and 0 failures\n",
      "\u001b[92mINFO \u001b[0m:      [Round 2] Avg Drift: 0.0003 | Relative Drift: 0.0000\n",
      "Eval progress: 100%|██████████| 313/313 [00:20<00:00, 15.57batch/s]\n",
      "\u001b[92mINFO \u001b[0m:      [Round 2] Centralized Evaluation - Loss: 1.1190, Metrics: {'centralized_accuracy': 0.6713}\n",
      "\u001b[92mINFO \u001b[0m:      fit progress: (2, 1.1190187101737379, {'centralized_accuracy': 0.6713}, 249.92129356600162)\n",
      "\u001b[92mINFO \u001b[0m:      configure_evaluate: strategy sampled 10 clients (out of 100)\n",
      "\u001b[92mINFO \u001b[0m:      aggregate_evaluate: received 10 results and 0 failures\n",
      "\u001b[92mINFO \u001b[0m:      \n",
      "\u001b[92mINFO \u001b[0m:      [ROUND 3]\n",
      "\u001b[92mINFO \u001b[0m:      configure_fit: strategy sampled 10 clients (out of 100)\n",
      "\u001b[92mINFO \u001b[0m:      aggregate_fit: received 10 results and 0 failures\n",
      "\u001b[92mINFO \u001b[0m:      [Round 3] Avg Drift: 0.0003 | Relative Drift: 0.0000\n",
      "Eval progress: 100%|██████████| 313/313 [00:20<00:00, 15.60batch/s]\n",
      "\u001b[92mINFO \u001b[0m:      [Round 3] Centralized Evaluation - Loss: 1.0951, Metrics: {'centralized_accuracy': 0.6781}\n",
      "\u001b[92mINFO \u001b[0m:      fit progress: (3, 1.0951293642147661, {'centralized_accuracy': 0.6781}, 380.36066581400155)\n",
      "\u001b[92mINFO \u001b[0m:      configure_evaluate: strategy sampled 10 clients (out of 100)\n",
      "\u001b[92mINFO \u001b[0m:      aggregate_evaluate: received 10 results and 0 failures\n",
      "\u001b[92mINFO \u001b[0m:      \n",
      "\u001b[92mINFO \u001b[0m:      [ROUND 4]\n",
      "\u001b[92mINFO \u001b[0m:      configure_fit: strategy sampled 10 clients (out of 100)\n",
      "\u001b[92mINFO \u001b[0m:      aggregate_fit: received 10 results and 0 failures\n",
      "\u001b[92mINFO \u001b[0m:      [Round 4] Avg Drift: 0.0003 | Relative Drift: 0.0000\n",
      "Eval progress: 100%|██████████| 313/313 [00:20<00:00, 15.58batch/s]\n",
      "\u001b[92mINFO \u001b[0m:      [Round 4] Centralized Evaluation - Loss: 1.0732, Metrics: {'centralized_accuracy': 0.6818}\n",
      "\u001b[92mINFO \u001b[0m:      fit progress: (4, 1.0731574089382403, {'centralized_accuracy': 0.6818}, 497.53483372100163)\n",
      "\u001b[92mINFO \u001b[0m:      configure_evaluate: strategy sampled 10 clients (out of 100)\n",
      "\u001b[92mINFO \u001b[0m:      aggregate_evaluate: received 10 results and 0 failures\n",
      "\u001b[92mINFO \u001b[0m:      \n",
      "\u001b[92mINFO \u001b[0m:      [ROUND 5]\n",
      "\u001b[92mINFO \u001b[0m:      configure_fit: strategy sampled 10 clients (out of 100)\n",
      "\u001b[92mINFO \u001b[0m:      aggregate_fit: received 10 results and 0 failures\n",
      "\u001b[92mINFO \u001b[0m:      [Round 5] Avg Drift: 0.0003 | Relative Drift: 0.0000\n",
      "\u001b[92mINFO \u001b[0m:      [Round 5] Saving aggregated model at epoch 205...\n"
     ]
    },
    {
     "name": "stdout",
     "output_type": "stream",
     "text": [
      "💾 Saved checkpoint at: /home/massimiliano/Projects/fl-g13/models/fl/non-iid/GS/50_8_local_0.8_1/fl_grid_search_BaseDino_epoch_205.pth\n"
     ]
    },
    {
     "name": "stderr",
     "output_type": "stream",
     "text": [
      "Eval progress: 100%|██████████| 313/313 [00:20<00:00, 15.61batch/s]\n",
      "\u001b[92mINFO \u001b[0m:      [Round 5] Centralized Evaluation - Loss: 1.0560, Metrics: {'centralized_accuracy': 0.6866}\n",
      "\u001b[92mINFO \u001b[0m:      fit progress: (5, 1.0559921636939429, {'centralized_accuracy': 0.6866}, 589.6355950600009)\n",
      "\u001b[92mINFO \u001b[0m:      configure_evaluate: strategy sampled 10 clients (out of 100)\n",
      "\u001b[92mINFO \u001b[0m:      aggregate_evaluate: received 10 results and 0 failures\n",
      "\u001b[92mINFO \u001b[0m:      \n",
      "\u001b[92mINFO \u001b[0m:      [SUMMARY]\n",
      "\u001b[92mINFO \u001b[0m:      Run finished 5 round(s) in 621.91s\n",
      "\u001b[92mINFO \u001b[0m:      \tHistory (loss, distributed):\n",
      "\u001b[92mINFO \u001b[0m:      \t\tround 1: 1.1670598566532135\n",
      "\u001b[92mINFO \u001b[0m:      \t\tround 2: 1.2331860721111298\n",
      "\u001b[92mINFO \u001b[0m:      \t\tround 3: 1.1849139750003814\n",
      "\u001b[92mINFO \u001b[0m:      \t\tround 4: 1.1365684241056442\n",
      "\u001b[92mINFO \u001b[0m:      \t\tround 5: 1.113072219491005\n",
      "\u001b[92mINFO \u001b[0m:      \tHistory (loss, centralized):\n",
      "\u001b[92mINFO \u001b[0m:      \t\tround 0: 1.2865915678370112\n",
      "\u001b[92mINFO \u001b[0m:      \t\tround 1: 1.1544712151582248\n",
      "\u001b[92mINFO \u001b[0m:      \t\tround 2: 1.1190187101737379\n",
      "\u001b[92mINFO \u001b[0m:      \t\tround 3: 1.0951293642147661\n",
      "\u001b[92mINFO \u001b[0m:      \t\tround 4: 1.0731574089382403\n",
      "\u001b[92mINFO \u001b[0m:      \t\tround 5: 1.0559921636939429\n",
      "\u001b[92mINFO \u001b[0m:      \tHistory (metrics, distributed, fit):\n",
      "\u001b[92mINFO \u001b[0m:      \t{'avg_drift': [(1, np.float32(0.00033099815)),\n",
      "\u001b[92mINFO \u001b[0m:      \t               (2, np.float32(0.0002810417)),\n",
      "\u001b[92mINFO \u001b[0m:      \t               (3, np.float32(0.00027246738)),\n",
      "\u001b[92mINFO \u001b[0m:      \t               (4, np.float32(0.0002669)),\n",
      "\u001b[92mINFO \u001b[0m:      \t               (5, np.float32(0.00027199223))],\n",
      "\u001b[92mINFO \u001b[0m:      \t 'avg_train_loss': [(1, 1.0851693708449601),\n",
      "\u001b[92mINFO \u001b[0m:      \t                    (2, 0.9747166629880667),\n",
      "\u001b[92mINFO \u001b[0m:      \t                    (3, 0.9162271745502949),\n",
      "\u001b[92mINFO \u001b[0m:      \t                    (4, 0.8971195939928294),\n",
      "\u001b[92mINFO \u001b[0m:      \t                    (5, 0.9272952258586884)],\n",
      "\u001b[92mINFO \u001b[0m:      \t 'relative_drift': [(1, np.float32(6.3771125e-07)),\n",
      "\u001b[92mINFO \u001b[0m:      \t                    (2, np.float32(5.414637e-07)),\n",
      "\u001b[92mINFO \u001b[0m:      \t                    (3, np.float32(5.2494414e-07)),\n",
      "\u001b[92mINFO \u001b[0m:      \t                    (4, np.float32(5.142179e-07)),\n",
      "\u001b[92mINFO \u001b[0m:      \t                    (5, np.float32(5.240288e-07))]}\n",
      "\u001b[92mINFO \u001b[0m:      \tHistory (metrics, distributed, evaluate):\n",
      "\u001b[92mINFO \u001b[0m:      \t{'decentralized_avg_eval_accuracy': [(1, 0.666),\n",
      "\u001b[92mINFO \u001b[0m:      \t                                     (2, 0.653),\n",
      "\u001b[92mINFO \u001b[0m:      \t                                     (3, 0.654),\n",
      "\u001b[92mINFO \u001b[0m:      \t                                     (4, 0.669),\n",
      "\u001b[92mINFO \u001b[0m:      \t                                     (5, 0.684)]}\n",
      "\u001b[92mINFO \u001b[0m:      \tHistory (metrics, centralized):\n",
      "\u001b[92mINFO \u001b[0m:      \t{'centralized_accuracy': [(0, 0.632),\n",
      "\u001b[92mINFO \u001b[0m:      \t                          (1, 0.662),\n",
      "\u001b[92mINFO \u001b[0m:      \t                          (2, 0.6713),\n",
      "\u001b[92mINFO \u001b[0m:      \t                          (3, 0.6781),\n",
      "\u001b[92mINFO \u001b[0m:      \t                          (4, 0.6818),\n",
      "\u001b[92mINFO \u001b[0m:      \t                          (5, 0.6866)]}\n",
      "\u001b[92mINFO \u001b[0m:      \n"
     ]
    },
    {
     "data": {
      "text/html": [],
      "text/plain": [
       "<IPython.core.display.HTML object>"
      ]
     },
     "metadata": {},
     "output_type": "display_data"
    },
    {
     "data": {
      "text/html": [
       "<br>    <style><br>        .wandb-row {<br>            display: flex;<br>            flex-direction: row;<br>            flex-wrap: wrap;<br>            justify-content: flex-start;<br>            width: 100%;<br>        }<br>        .wandb-col {<br>            display: flex;<br>            flex-direction: column;<br>            flex-basis: 100%;<br>            flex: 1;<br>            padding: 10px;<br>        }<br>    </style><br><div class=\"wandb-row\"><div class=\"wandb-col\"><h3>Run history:</h3><br/><table class=\"wandb\"><tr><td>centralized_accuracy</td><td>▁▅▆▇▇█</td></tr><tr><td>centralized_eval_loss</td><td>█▄▃▂▂▁</td></tr><tr><td>decentralized_avg_eval_accuracy</td><td>▄▁▁▅█</td></tr><tr><td>decentralized_avg_eval_loss</td><td>▄█▅▂▁</td></tr><tr><td>decentralized_avg_train_accuracy</td><td>▁▃▇█▆</td></tr><tr><td>decentralized_avg_train_loss</td><td>█▄▂▁▂</td></tr></table><br/></div><div class=\"wandb-col\"><h3>Run summary:</h3><br/><table class=\"wandb\"><tr><td>centralized_accuracy</td><td>0.6866</td></tr><tr><td>centralized_eval_loss</td><td>1.05599</td></tr><tr><td>decentralized_avg_eval_accuracy</td><td>0.684</td></tr><tr><td>decentralized_avg_eval_loss</td><td>1.11307</td></tr><tr><td>decentralized_avg_train_accuracy</td><td>0.72694</td></tr><tr><td>decentralized_avg_train_loss</td><td>0.9273</td></tr></table><br/></div></div>"
      ],
      "text/plain": [
       "<IPython.core.display.HTML object>"
      ]
     },
     "metadata": {},
     "output_type": "display_data"
    },
    {
     "data": {
      "text/html": [
       " View run <strong style=\"color:#cdcd00\">fl_gs_50_8_local_0.8_1</strong> at: <a href='https://wandb.ai/stefano-gamba-social-politecnico-di-torino/fl_v5_50_8_grid_search/runs/fl_gs_50_8_local_0.8_1' target=\"_blank\">https://wandb.ai/stefano-gamba-social-politecnico-di-torino/fl_v5_50_8_grid_search/runs/fl_gs_50_8_local_0.8_1</a><br> View project at: <a href='https://wandb.ai/stefano-gamba-social-politecnico-di-torino/fl_v5_50_8_grid_search' target=\"_blank\">https://wandb.ai/stefano-gamba-social-politecnico-di-torino/fl_v5_50_8_grid_search</a><br>Synced 5 W&B file(s), 0 media file(s), 0 artifact file(s) and 0 other file(s)"
      ],
      "text/plain": [
       "<IPython.core.display.HTML object>"
      ]
     },
     "metadata": {},
     "output_type": "display_data"
    },
    {
     "data": {
      "text/html": [
       "Find logs at: <code>./wandb/run-20250627_125726-fl_gs_50_8_local_0.8_1/logs</code>"
      ],
      "text/plain": [
       "<IPython.core.display.HTML object>"
      ]
     },
     "metadata": {},
     "output_type": "display_data"
    },
    {
     "name": "stdout",
     "output_type": "stream",
     "text": [
      "--------------------------------------------------------------------------------------------------------------------------------------------------------------------------------------------------------\n",
      " Nc=50, J=8, mask_type=local, sparsity=0.9, mask_calibration_round=1\n",
      "\n"
     ]
    },
    {
     "name": "stderr",
     "output_type": "stream",
     "text": [
      "Using cache found in /home/massimiliano/.cache/torch/hub/facebookresearch_dino_main\n",
      "Using cache found in /home/massimiliano/.cache/torch/hub/facebookresearch_dino_main\n"
     ]
    },
    {
     "name": "stdout",
     "output_type": "stream",
     "text": [
      "✅ Loaded checkpoint from /home/massimiliano/Projects/fl-g13/models/fl/non-iid/50_8/fl_fl_baseline_BaseDino_epoch_200.pth, resuming at epoch 201\n",
      "Using strategy 'CustomFedAvg' (default option)\n"
     ]
    },
    {
     "name": "stderr",
     "output_type": "stream",
     "text": [
      "/home/massimiliano/miniconda3/envs/fl-g13/lib/python3.11/site-packages/wandb/analytics/sentry.py:259: DeprecationWarning: The `Scope.user` setter is deprecated in favor of `Scope.set_user()`.\n",
      "  self.scope.user = {\"email\": email}  # noqa\n",
      "/home/massimiliano/miniconda3/envs/fl-g13/lib/python3.11/site-packages/wandb/analytics/sentry.py:259: DeprecationWarning: The `Scope.user` setter is deprecated in favor of `Scope.set_user()`.\n",
      "  self.scope.user = {\"email\": email}  # noqa\n"
     ]
    },
    {
     "data": {
      "text/html": [
       "Tracking run with wandb version 0.19.9"
      ],
      "text/plain": [
       "<IPython.core.display.HTML object>"
      ]
     },
     "metadata": {},
     "output_type": "display_data"
    },
    {
     "data": {
      "text/html": [
       "Run data is saved locally in <code>/home/massimiliano/Projects/fl-g13/notebooks/wandb/run-20250627_130814-fl_gs_50_8_local_0.9_1</code>"
      ],
      "text/plain": [
       "<IPython.core.display.HTML object>"
      ]
     },
     "metadata": {},
     "output_type": "display_data"
    },
    {
     "data": {
      "text/html": [
       "Syncing run <strong><a href='https://wandb.ai/stefano-gamba-social-politecnico-di-torino/fl_v5_50_8_grid_search/runs/fl_gs_50_8_local_0.9_1' target=\"_blank\">fl_gs_50_8_local_0.9_1</a></strong> to <a href='https://wandb.ai/stefano-gamba-social-politecnico-di-torino/fl_v5_50_8_grid_search' target=\"_blank\">Weights & Biases</a> (<a href='https://wandb.me/developer-guide' target=\"_blank\">docs</a>)<br>"
      ],
      "text/plain": [
       "<IPython.core.display.HTML object>"
      ]
     },
     "metadata": {},
     "output_type": "display_data"
    },
    {
     "data": {
      "text/html": [
       " View project at <a href='https://wandb.ai/stefano-gamba-social-politecnico-di-torino/fl_v5_50_8_grid_search' target=\"_blank\">https://wandb.ai/stefano-gamba-social-politecnico-di-torino/fl_v5_50_8_grid_search</a>"
      ],
      "text/plain": [
       "<IPython.core.display.HTML object>"
      ]
     },
     "metadata": {},
     "output_type": "display_data"
    },
    {
     "data": {
      "text/html": [
       " View run at <a href='https://wandb.ai/stefano-gamba-social-politecnico-di-torino/fl_v5_50_8_grid_search/runs/fl_gs_50_8_local_0.9_1' target=\"_blank\">https://wandb.ai/stefano-gamba-social-politecnico-di-torino/fl_v5_50_8_grid_search/runs/fl_gs_50_8_local_0.9_1</a>"
      ],
      "text/plain": [
       "<IPython.core.display.HTML object>"
      ]
     },
     "metadata": {},
     "output_type": "display_data"
    },
    {
     "name": "stderr",
     "output_type": "stream",
     "text": [
      "\u001b[92mINFO \u001b[0m:      Starting Flower ServerApp, config: num_rounds=5, no round_timeout\n",
      "\u001b[92mINFO \u001b[0m:      \n",
      "\u001b[92mINFO \u001b[0m:      [INIT]\n",
      "\u001b[92mINFO \u001b[0m:      Using initial global parameters provided by strategy\n",
      "\u001b[92mINFO \u001b[0m:      Starting evaluation of initial global parameters\n",
      "Eval progress: 100%|██████████| 313/313 [00:20<00:00, 15.15batch/s]\n",
      "\u001b[92mINFO \u001b[0m:      [Round 0] Centralized Evaluation - Loss: 1.2866, Metrics: {'centralized_accuracy': 0.632}\n",
      "\u001b[92mINFO \u001b[0m:      initial parameters (loss, other metrics): 1.2865915678370112, {'centralized_accuracy': 0.632}\n",
      "\u001b[92mINFO \u001b[0m:      \n",
      "\u001b[92mINFO \u001b[0m:      [ROUND 1]\n",
      "\u001b[92mINFO \u001b[0m:      configure_fit: strategy sampled 10 clients (out of 100)\n",
      "\u001b[36m(ClientAppActor pid=77070)\u001b[0m 2025-06-27 13:08:37.277 | INFO     | fl_g13.config:<module>:11 - PROJ_ROOT path is: /home/massimiliano/Projects/fl-g13\n",
      "\u001b[92mINFO \u001b[0m:      aggregate_fit: received 10 results and 0 failures\n",
      "\u001b[92mINFO \u001b[0m:      [Round 1] Avg Drift: 0.0002 | Relative Drift: 0.0000\n",
      "Eval progress: 100%|██████████| 313/313 [00:19<00:00, 15.68batch/s]\n",
      "\u001b[92mINFO \u001b[0m:      [Round 1] Centralized Evaluation - Loss: 1.2077, Metrics: {'centralized_accuracy': 0.6516}\n",
      "\u001b[92mINFO \u001b[0m:      fit progress: (1, 1.2076633218378305, {'centralized_accuracy': 0.6516}, 105.24256735499876)\n",
      "\u001b[92mINFO \u001b[0m:      configure_evaluate: strategy sampled 10 clients (out of 100)\n",
      "\u001b[92mINFO \u001b[0m:      aggregate_evaluate: received 10 results and 0 failures\n",
      "\u001b[92mINFO \u001b[0m:      \n",
      "\u001b[92mINFO \u001b[0m:      [ROUND 2]\n",
      "\u001b[92mINFO \u001b[0m:      configure_fit: strategy sampled 10 clients (out of 100)\n",
      "\u001b[92mINFO \u001b[0m:      aggregate_fit: received 10 results and 0 failures\n",
      "\u001b[92mINFO \u001b[0m:      [Round 2] Avg Drift: 0.0002 | Relative Drift: 0.0000\n",
      "Eval progress: 100%|██████████| 313/313 [00:20<00:00, 15.54batch/s]\n",
      "\u001b[92mINFO \u001b[0m:      [Round 2] Centralized Evaluation - Loss: 1.1716, Metrics: {'centralized_accuracy': 0.6599}\n",
      "\u001b[92mINFO \u001b[0m:      fit progress: (2, 1.1716241469969764, {'centralized_accuracy': 0.6599}, 240.23658218199853)\n",
      "\u001b[92mINFO \u001b[0m:      configure_evaluate: strategy sampled 10 clients (out of 100)\n",
      "\u001b[92mINFO \u001b[0m:      aggregate_evaluate: received 10 results and 0 failures\n",
      "\u001b[92mINFO \u001b[0m:      \n",
      "\u001b[92mINFO \u001b[0m:      [ROUND 3]\n",
      "\u001b[92mINFO \u001b[0m:      configure_fit: strategy sampled 10 clients (out of 100)\n",
      "\u001b[92mINFO \u001b[0m:      aggregate_fit: received 10 results and 0 failures\n",
      "\u001b[92mINFO \u001b[0m:      [Round 3] Avg Drift: 0.0002 | Relative Drift: 0.0000\n",
      "Eval progress: 100%|██████████| 313/313 [00:20<00:00, 15.61batch/s]\n",
      "\u001b[92mINFO \u001b[0m:      [Round 3] Centralized Evaluation - Loss: 1.1518, Metrics: {'centralized_accuracy': 0.6641}\n",
      "\u001b[92mINFO \u001b[0m:      fit progress: (3, 1.151823223018037, {'centralized_accuracy': 0.6641}, 362.2932320489999)\n",
      "\u001b[92mINFO \u001b[0m:      configure_evaluate: strategy sampled 10 clients (out of 100)\n",
      "\u001b[92mINFO \u001b[0m:      aggregate_evaluate: received 10 results and 0 failures\n",
      "\u001b[92mINFO \u001b[0m:      \n",
      "\u001b[92mINFO \u001b[0m:      [ROUND 4]\n",
      "\u001b[92mINFO \u001b[0m:      configure_fit: strategy sampled 10 clients (out of 100)\n",
      "\u001b[92mINFO \u001b[0m:      aggregate_fit: received 10 results and 0 failures\n",
      "\u001b[92mINFO \u001b[0m:      [Round 4] Avg Drift: 0.0002 | Relative Drift: 0.0000\n",
      "Eval progress: 100%|██████████| 313/313 [00:20<00:00, 15.57batch/s]\n",
      "\u001b[92mINFO \u001b[0m:      [Round 4] Centralized Evaluation - Loss: 1.1380, Metrics: {'centralized_accuracy': 0.668}\n",
      "\u001b[92mINFO \u001b[0m:      fit progress: (4, 1.1379685185778254, {'centralized_accuracy': 0.668}, 462.95221421099995)\n",
      "\u001b[92mINFO \u001b[0m:      configure_evaluate: strategy sampled 10 clients (out of 100)\n",
      "\u001b[92mINFO \u001b[0m:      aggregate_evaluate: received 10 results and 0 failures\n",
      "\u001b[92mINFO \u001b[0m:      \n",
      "\u001b[92mINFO \u001b[0m:      [ROUND 5]\n",
      "\u001b[92mINFO \u001b[0m:      configure_fit: strategy sampled 10 clients (out of 100)\n",
      "\u001b[92mINFO \u001b[0m:      aggregate_fit: received 10 results and 0 failures\n",
      "\u001b[92mINFO \u001b[0m:      [Round 5] Avg Drift: 0.0002 | Relative Drift: 0.0000\n",
      "\u001b[92mINFO \u001b[0m:      [Round 5] Saving aggregated model at epoch 205...\n"
     ]
    },
    {
     "name": "stdout",
     "output_type": "stream",
     "text": [
      "💾 Saved checkpoint at: /home/massimiliano/Projects/fl-g13/models/fl/non-iid/GS/50_8_local_0.9_1/fl_grid_search_BaseDino_epoch_205.pth\n"
     ]
    },
    {
     "name": "stderr",
     "output_type": "stream",
     "text": [
      "Eval progress: 100%|██████████| 313/313 [00:20<00:00, 15.52batch/s]\n",
      "\u001b[92mINFO \u001b[0m:      [Round 5] Centralized Evaluation - Loss: 1.1228, Metrics: {'centralized_accuracy': 0.6694}\n",
      "\u001b[92mINFO \u001b[0m:      fit progress: (5, 1.1227815759639008, {'centralized_accuracy': 0.6694}, 576.4153486319992)\n",
      "\u001b[92mINFO \u001b[0m:      configure_evaluate: strategy sampled 10 clients (out of 100)\n",
      "\u001b[92mINFO \u001b[0m:      aggregate_evaluate: received 10 results and 0 failures\n",
      "\u001b[92mINFO \u001b[0m:      \n",
      "\u001b[92mINFO \u001b[0m:      [SUMMARY]\n",
      "\u001b[92mINFO \u001b[0m:      Run finished 5 round(s) in 607.24s\n",
      "\u001b[92mINFO \u001b[0m:      \tHistory (loss, distributed):\n",
      "\u001b[92mINFO \u001b[0m:      \t\tround 1: 1.1933886617422105\n",
      "\u001b[92mINFO \u001b[0m:      \t\tround 2: 1.2275482922792436\n",
      "\u001b[92mINFO \u001b[0m:      \t\tround 3: 1.131778708100319\n",
      "\u001b[92mINFO \u001b[0m:      \t\tround 4: 1.143833190202713\n",
      "\u001b[92mINFO \u001b[0m:      \t\tround 5: 1.2349754095077514\n",
      "\u001b[92mINFO \u001b[0m:      \tHistory (loss, centralized):\n",
      "\u001b[92mINFO \u001b[0m:      \t\tround 0: 1.2865915678370112\n",
      "\u001b[92mINFO \u001b[0m:      \t\tround 1: 1.2076633218378305\n",
      "\u001b[92mINFO \u001b[0m:      \t\tround 2: 1.1716241469969764\n",
      "\u001b[92mINFO \u001b[0m:      \t\tround 3: 1.151823223018037\n",
      "\u001b[92mINFO \u001b[0m:      \t\tround 4: 1.1379685185778254\n",
      "\u001b[92mINFO \u001b[0m:      \t\tround 5: 1.1227815759639008\n",
      "\u001b[92mINFO \u001b[0m:      \tHistory (metrics, distributed, fit):\n",
      "\u001b[92mINFO \u001b[0m:      \t{'avg_drift': [(1, np.float32(0.00021881155)),\n",
      "\u001b[92mINFO \u001b[0m:      \t               (2, np.float32(0.0001949446)),\n",
      "\u001b[92mINFO \u001b[0m:      \t               (3, np.float32(0.00018716673)),\n",
      "\u001b[92mINFO \u001b[0m:      \t               (4, np.float32(0.00016929134)),\n",
      "\u001b[92mINFO \u001b[0m:      \t               (5, np.float32(0.00017388302))],\n",
      "\u001b[92mINFO \u001b[0m:      \t 'avg_train_loss': [(1, 1.1130281761288643),\n",
      "\u001b[92mINFO \u001b[0m:      \t                    (2, 1.1186807721853256),\n",
      "\u001b[92mINFO \u001b[0m:      \t                    (3, 1.017142017930746),\n",
      "\u001b[92mINFO \u001b[0m:      \t                    (4, 0.9149576492607594),\n",
      "\u001b[92mINFO \u001b[0m:      \t                    (5, 1.000150991231203)],\n",
      "\u001b[92mINFO \u001b[0m:      \t 'relative_drift': [(1, np.float32(4.215691e-07)),\n",
      "\u001b[92mINFO \u001b[0m:      \t                    (2, np.float32(3.755863e-07)),\n",
      "\u001b[92mINFO \u001b[0m:      \t                    (3, np.float32(3.606012e-07)),\n",
      "\u001b[92mINFO \u001b[0m:      \t                    (4, np.float32(3.261619e-07)),\n",
      "\u001b[92mINFO \u001b[0m:      \t                    (5, np.float32(3.3500845e-07))]}\n",
      "\u001b[92mINFO \u001b[0m:      \tHistory (metrics, distributed, evaluate):\n",
      "\u001b[92mINFO \u001b[0m:      \t{'decentralized_avg_eval_accuracy': [(1, 0.657),\n",
      "\u001b[92mINFO \u001b[0m:      \t                                     (2, 0.649),\n",
      "\u001b[92mINFO \u001b[0m:      \t                                     (3, 0.673),\n",
      "\u001b[92mINFO \u001b[0m:      \t                                     (4, 0.66),\n",
      "\u001b[92mINFO \u001b[0m:      \t                                     (5, 0.639)]}\n",
      "\u001b[92mINFO \u001b[0m:      \tHistory (metrics, centralized):\n",
      "\u001b[92mINFO \u001b[0m:      \t{'centralized_accuracy': [(0, 0.632),\n",
      "\u001b[92mINFO \u001b[0m:      \t                          (1, 0.6516),\n",
      "\u001b[92mINFO \u001b[0m:      \t                          (2, 0.6599),\n",
      "\u001b[92mINFO \u001b[0m:      \t                          (3, 0.6641),\n",
      "\u001b[92mINFO \u001b[0m:      \t                          (4, 0.668),\n",
      "\u001b[92mINFO \u001b[0m:      \t                          (5, 0.6694)]}\n",
      "\u001b[92mINFO \u001b[0m:      \n"
     ]
    },
    {
     "data": {
      "text/html": [],
      "text/plain": [
       "<IPython.core.display.HTML object>"
      ]
     },
     "metadata": {},
     "output_type": "display_data"
    },
    {
     "data": {
      "text/html": [
       "<br>    <style><br>        .wandb-row {<br>            display: flex;<br>            flex-direction: row;<br>            flex-wrap: wrap;<br>            justify-content: flex-start;<br>            width: 100%;<br>        }<br>        .wandb-col {<br>            display: flex;<br>            flex-direction: column;<br>            flex-basis: 100%;<br>            flex: 1;<br>            padding: 10px;<br>        }<br>    </style><br><div class=\"wandb-row\"><div class=\"wandb-col\"><h3>Run history:</h3><br/><table class=\"wandb\"><tr><td>centralized_accuracy</td><td>▁▅▆▇██</td></tr><tr><td>centralized_eval_loss</td><td>█▅▃▂▂▁</td></tr><tr><td>decentralized_avg_eval_accuracy</td><td>▅▃█▅▁</td></tr><tr><td>decentralized_avg_eval_loss</td><td>▅▇▁▂█</td></tr><tr><td>decentralized_avg_train_accuracy</td><td>▁▁▄█▅</td></tr><tr><td>decentralized_avg_train_loss</td><td>██▅▁▄</td></tr></table><br/></div><div class=\"wandb-col\"><h3>Run summary:</h3><br/><table class=\"wandb\"><tr><td>centralized_accuracy</td><td>0.6694</td></tr><tr><td>centralized_eval_loss</td><td>1.12278</td></tr><tr><td>decentralized_avg_eval_accuracy</td><td>0.639</td></tr><tr><td>decentralized_avg_eval_loss</td><td>1.23498</td></tr><tr><td>decentralized_avg_train_accuracy</td><td>0.70668</td></tr><tr><td>decentralized_avg_train_loss</td><td>1.00015</td></tr></table><br/></div></div>"
      ],
      "text/plain": [
       "<IPython.core.display.HTML object>"
      ]
     },
     "metadata": {},
     "output_type": "display_data"
    },
    {
     "data": {
      "text/html": [
       " View run <strong style=\"color:#cdcd00\">fl_gs_50_8_local_0.9_1</strong> at: <a href='https://wandb.ai/stefano-gamba-social-politecnico-di-torino/fl_v5_50_8_grid_search/runs/fl_gs_50_8_local_0.9_1' target=\"_blank\">https://wandb.ai/stefano-gamba-social-politecnico-di-torino/fl_v5_50_8_grid_search/runs/fl_gs_50_8_local_0.9_1</a><br> View project at: <a href='https://wandb.ai/stefano-gamba-social-politecnico-di-torino/fl_v5_50_8_grid_search' target=\"_blank\">https://wandb.ai/stefano-gamba-social-politecnico-di-torino/fl_v5_50_8_grid_search</a><br>Synced 5 W&B file(s), 0 media file(s), 0 artifact file(s) and 0 other file(s)"
      ],
      "text/plain": [
       "<IPython.core.display.HTML object>"
      ]
     },
     "metadata": {},
     "output_type": "display_data"
    },
    {
     "data": {
      "text/html": [
       "Find logs at: <code>./wandb/run-20250627_130814-fl_gs_50_8_local_0.9_1/logs</code>"
      ],
      "text/plain": [
       "<IPython.core.display.HTML object>"
      ]
     },
     "metadata": {},
     "output_type": "display_data"
    },
    {
     "name": "stdout",
     "output_type": "stream",
     "text": [
      "--------------------------------------------------------------------------------------------------------------------------------------------------------------------------------------------------------\n",
      " Nc=50, J=8, mask_type=global, sparsity=0.7, mask_calibration_round=1\n",
      "\n"
     ]
    },
    {
     "name": "stderr",
     "output_type": "stream",
     "text": [
      "Using cache found in /home/massimiliano/.cache/torch/hub/facebookresearch_dino_main\n",
      "Using cache found in /home/massimiliano/.cache/torch/hub/facebookresearch_dino_main\n"
     ]
    },
    {
     "name": "stdout",
     "output_type": "stream",
     "text": [
      "✅ Loaded checkpoint from /home/massimiliano/Projects/fl-g13/models/fl/non-iid/50_8/fl_fl_baseline_BaseDino_epoch_200.pth, resuming at epoch 201\n",
      "Using strategy 'CustomFedAvg' (default option)\n"
     ]
    },
    {
     "name": "stderr",
     "output_type": "stream",
     "text": [
      "/home/massimiliano/miniconda3/envs/fl-g13/lib/python3.11/site-packages/wandb/analytics/sentry.py:259: DeprecationWarning: The `Scope.user` setter is deprecated in favor of `Scope.set_user()`.\n",
      "  self.scope.user = {\"email\": email}  # noqa\n",
      "/home/massimiliano/miniconda3/envs/fl-g13/lib/python3.11/site-packages/wandb/analytics/sentry.py:259: DeprecationWarning: The `Scope.user` setter is deprecated in favor of `Scope.set_user()`.\n",
      "  self.scope.user = {\"email\": email}  # noqa\n"
     ]
    },
    {
     "data": {
      "text/html": [
       "Tracking run with wandb version 0.19.9"
      ],
      "text/plain": [
       "<IPython.core.display.HTML object>"
      ]
     },
     "metadata": {},
     "output_type": "display_data"
    },
    {
     "data": {
      "text/html": [
       "Run data is saved locally in <code>/home/massimiliano/Projects/fl-g13/notebooks/wandb/run-20250627_131847-fl_gs_50_8_global_0.7_1</code>"
      ],
      "text/plain": [
       "<IPython.core.display.HTML object>"
      ]
     },
     "metadata": {},
     "output_type": "display_data"
    },
    {
     "data": {
      "text/html": [
       "Syncing run <strong><a href='https://wandb.ai/stefano-gamba-social-politecnico-di-torino/fl_v5_50_8_grid_search/runs/fl_gs_50_8_global_0.7_1' target=\"_blank\">fl_gs_50_8_global_0.7_1</a></strong> to <a href='https://wandb.ai/stefano-gamba-social-politecnico-di-torino/fl_v5_50_8_grid_search' target=\"_blank\">Weights & Biases</a> (<a href='https://wandb.me/developer-guide' target=\"_blank\">docs</a>)<br>"
      ],
      "text/plain": [
       "<IPython.core.display.HTML object>"
      ]
     },
     "metadata": {},
     "output_type": "display_data"
    },
    {
     "data": {
      "text/html": [
       " View project at <a href='https://wandb.ai/stefano-gamba-social-politecnico-di-torino/fl_v5_50_8_grid_search' target=\"_blank\">https://wandb.ai/stefano-gamba-social-politecnico-di-torino/fl_v5_50_8_grid_search</a>"
      ],
      "text/plain": [
       "<IPython.core.display.HTML object>"
      ]
     },
     "metadata": {},
     "output_type": "display_data"
    },
    {
     "data": {
      "text/html": [
       " View run at <a href='https://wandb.ai/stefano-gamba-social-politecnico-di-torino/fl_v5_50_8_grid_search/runs/fl_gs_50_8_global_0.7_1' target=\"_blank\">https://wandb.ai/stefano-gamba-social-politecnico-di-torino/fl_v5_50_8_grid_search/runs/fl_gs_50_8_global_0.7_1</a>"
      ],
      "text/plain": [
       "<IPython.core.display.HTML object>"
      ]
     },
     "metadata": {},
     "output_type": "display_data"
    },
    {
     "name": "stderr",
     "output_type": "stream",
     "text": [
      "\u001b[92mINFO \u001b[0m:      Starting Flower ServerApp, config: num_rounds=5, no round_timeout\n",
      "\u001b[92mINFO \u001b[0m:      \n",
      "\u001b[92mINFO \u001b[0m:      [INIT]\n",
      "\u001b[92mINFO \u001b[0m:      Using initial global parameters provided by strategy\n",
      "\u001b[92mINFO \u001b[0m:      Starting evaluation of initial global parameters\n",
      "Eval progress: 100%|██████████| 313/313 [00:20<00:00, 15.03batch/s]\n",
      "\u001b[92mINFO \u001b[0m:      [Round 0] Centralized Evaluation - Loss: 1.2866, Metrics: {'centralized_accuracy': 0.632}\n",
      "\u001b[92mINFO \u001b[0m:      initial parameters (loss, other metrics): 1.2865915678370112, {'centralized_accuracy': 0.632}\n",
      "\u001b[92mINFO \u001b[0m:      \n",
      "\u001b[92mINFO \u001b[0m:      [ROUND 1]\n",
      "\u001b[92mINFO \u001b[0m:      configure_fit: strategy sampled 10 clients (out of 100)\n",
      "\u001b[36m(ClientAppActor pid=80509)\u001b[0m 2025-06-27 13:19:10.522 | INFO     | fl_g13.config:<module>:11 - PROJ_ROOT path is: /home/massimiliano/Projects/fl-g13\n",
      "\u001b[92mINFO \u001b[0m:      aggregate_fit: received 10 results and 0 failures\n",
      "\u001b[92mINFO \u001b[0m:      [Round 1] Avg Drift: 0.0002 | Relative Drift: 0.0000\n",
      "Eval progress: 100%|██████████| 313/313 [00:19<00:00, 15.76batch/s]\n",
      "\u001b[92mINFO \u001b[0m:      [Round 1] Centralized Evaluation - Loss: 1.2459, Metrics: {'centralized_accuracy': 0.6414}\n",
      "\u001b[92mINFO \u001b[0m:      fit progress: (1, 1.2459388201990829, {'centralized_accuracy': 0.6414}, 111.4333799369997)\n",
      "\u001b[92mINFO \u001b[0m:      configure_evaluate: strategy sampled 10 clients (out of 100)\n",
      "\u001b[92mINFO \u001b[0m:      aggregate_evaluate: received 10 results and 0 failures\n",
      "\u001b[92mINFO \u001b[0m:      \n",
      "\u001b[92mINFO \u001b[0m:      [ROUND 2]\n",
      "\u001b[92mINFO \u001b[0m:      configure_fit: strategy sampled 10 clients (out of 100)\n",
      "\u001b[92mINFO \u001b[0m:      aggregate_fit: received 10 results and 0 failures\n",
      "\u001b[92mINFO \u001b[0m:      [Round 2] Avg Drift: 0.0002 | Relative Drift: 0.0000\n",
      "Eval progress: 100%|██████████| 313/313 [00:19<00:00, 15.71batch/s]\n",
      "\u001b[92mINFO \u001b[0m:      [Round 2] Centralized Evaluation - Loss: 1.2184, Metrics: {'centralized_accuracy': 0.6472}\n",
      "\u001b[92mINFO \u001b[0m:      fit progress: (2, 1.2184334188794936, {'centralized_accuracy': 0.6472}, 249.5572724929989)\n",
      "\u001b[92mINFO \u001b[0m:      configure_evaluate: strategy sampled 10 clients (out of 100)\n",
      "\u001b[92mINFO \u001b[0m:      aggregate_evaluate: received 10 results and 0 failures\n",
      "\u001b[92mINFO \u001b[0m:      \n",
      "\u001b[92mINFO \u001b[0m:      [ROUND 3]\n",
      "\u001b[92mINFO \u001b[0m:      configure_fit: strategy sampled 10 clients (out of 100)\n",
      "\u001b[92mINFO \u001b[0m:      aggregate_fit: received 10 results and 0 failures\n",
      "\u001b[92mINFO \u001b[0m:      [Round 3] Avg Drift: 0.0002 | Relative Drift: 0.0000\n",
      "Eval progress: 100%|██████████| 313/313 [00:20<00:00, 15.41batch/s]\n",
      "\u001b[92mINFO \u001b[0m:      [Round 3] Centralized Evaluation - Loss: 1.1966, Metrics: {'centralized_accuracy': 0.6519}\n",
      "\u001b[92mINFO \u001b[0m:      fit progress: (3, 1.1966046146310556, {'centralized_accuracy': 0.6519}, 383.7586832499983)\n",
      "\u001b[92mINFO \u001b[0m:      configure_evaluate: strategy sampled 10 clients (out of 100)\n",
      "\u001b[92mINFO \u001b[0m:      aggregate_evaluate: received 10 results and 0 failures\n",
      "\u001b[92mINFO \u001b[0m:      \n",
      "\u001b[92mINFO \u001b[0m:      [ROUND 4]\n",
      "\u001b[92mINFO \u001b[0m:      configure_fit: strategy sampled 10 clients (out of 100)\n",
      "\u001b[92mINFO \u001b[0m:      aggregate_fit: received 10 results and 0 failures\n",
      "\u001b[92mINFO \u001b[0m:      [Round 4] Avg Drift: 0.0002 | Relative Drift: 0.0000\n",
      "Eval progress: 100%|██████████| 313/313 [00:20<00:00, 15.53batch/s]\n",
      "\u001b[92mINFO \u001b[0m:      [Round 4] Centralized Evaluation - Loss: 1.1811, Metrics: {'centralized_accuracy': 0.6546}\n",
      "\u001b[92mINFO \u001b[0m:      fit progress: (4, 1.1810937505750991, {'centralized_accuracy': 0.6546}, 502.34845514399785)\n",
      "\u001b[92mINFO \u001b[0m:      configure_evaluate: strategy sampled 10 clients (out of 100)\n",
      "\u001b[92mINFO \u001b[0m:      aggregate_evaluate: received 10 results and 0 failures\n",
      "\u001b[92mINFO \u001b[0m:      \n",
      "\u001b[92mINFO \u001b[0m:      [ROUND 5]\n",
      "\u001b[92mINFO \u001b[0m:      configure_fit: strategy sampled 10 clients (out of 100)\n",
      "\u001b[92mINFO \u001b[0m:      aggregate_fit: received 10 results and 0 failures\n",
      "\u001b[92mINFO \u001b[0m:      [Round 5] Avg Drift: 0.0002 | Relative Drift: 0.0000\n",
      "\u001b[92mINFO \u001b[0m:      [Round 5] Saving aggregated model at epoch 205...\n"
     ]
    },
    {
     "name": "stdout",
     "output_type": "stream",
     "text": [
      "💾 Saved checkpoint at: /home/massimiliano/Projects/fl-g13/models/fl/non-iid/GS/50_8_global_0.7_1/fl_grid_search_BaseDino_epoch_205.pth\n"
     ]
    },
    {
     "name": "stderr",
     "output_type": "stream",
     "text": [
      "Eval progress: 100%|██████████| 313/313 [00:19<00:00, 15.71batch/s]\n",
      "\u001b[92mINFO \u001b[0m:      [Round 5] Centralized Evaluation - Loss: 1.1664, Metrics: {'centralized_accuracy': 0.658}\n",
      "\u001b[92mINFO \u001b[0m:      fit progress: (5, 1.1664070198520684, {'centralized_accuracy': 0.658}, 589.0333152469975)\n",
      "\u001b[92mINFO \u001b[0m:      configure_evaluate: strategy sampled 10 clients (out of 100)\n",
      "\u001b[92mINFO \u001b[0m:      aggregate_evaluate: received 10 results and 0 failures\n",
      "\u001b[92mINFO \u001b[0m:      \n",
      "\u001b[92mINFO \u001b[0m:      [SUMMARY]\n",
      "\u001b[92mINFO \u001b[0m:      Run finished 5 round(s) in 618.46s\n",
      "\u001b[92mINFO \u001b[0m:      \tHistory (loss, distributed):\n",
      "\u001b[92mINFO \u001b[0m:      \t\tround 1: 1.287895306944847\n",
      "\u001b[92mINFO \u001b[0m:      \t\tround 2: 1.2698683619499207\n",
      "\u001b[92mINFO \u001b[0m:      \t\tround 3: 1.2255013585090637\n",
      "\u001b[92mINFO \u001b[0m:      \t\tround 4: 1.1645011961460114\n",
      "\u001b[92mINFO \u001b[0m:      \t\tround 5: 1.1956876456737517\n",
      "\u001b[92mINFO \u001b[0m:      \tHistory (loss, centralized):\n",
      "\u001b[92mINFO \u001b[0m:      \t\tround 0: 1.2865915678370112\n",
      "\u001b[92mINFO \u001b[0m:      \t\tround 1: 1.2459388201990829\n",
      "\u001b[92mINFO \u001b[0m:      \t\tround 2: 1.2184334188794936\n",
      "\u001b[92mINFO \u001b[0m:      \t\tround 3: 1.1966046146310556\n",
      "\u001b[92mINFO \u001b[0m:      \t\tround 4: 1.1810937505750991\n",
      "\u001b[92mINFO \u001b[0m:      \t\tround 5: 1.1664070198520684\n",
      "\u001b[92mINFO \u001b[0m:      \tHistory (metrics, distributed, fit):\n",
      "\u001b[92mINFO \u001b[0m:      \t{'avg_drift': [(1, np.float32(0.00018121728)),\n",
      "\u001b[92mINFO \u001b[0m:      \t               (2, np.float32(0.00016733223)),\n",
      "\u001b[92mINFO \u001b[0m:      \t               (3, np.float32(0.00016828837)),\n",
      "\u001b[92mINFO \u001b[0m:      \t               (4, np.float32(0.0001652942)),\n",
      "\u001b[92mINFO \u001b[0m:      \t               (5, np.float32(0.0001659843))],\n",
      "\u001b[92mINFO \u001b[0m:      \t 'avg_train_loss': [(1, 1.1379884719848632),\n",
      "\u001b[92mINFO \u001b[0m:      \t                    (2, 1.0575923454016447),\n",
      "\u001b[92mINFO \u001b[0m:      \t                    (3, 1.074190079420805),\n",
      "\u001b[92mINFO \u001b[0m:      \t                    (4, 1.023097312822938),\n",
      "\u001b[92mINFO \u001b[0m:      \t                    (5, 1.0665248543024064)],\n",
      "\u001b[92mINFO \u001b[0m:      \t 'relative_drift': [(1, np.float32(3.4913896e-07)),\n",
      "\u001b[92mINFO \u001b[0m:      \t                    (2, np.float32(3.223877e-07)),\n",
      "\u001b[92mINFO \u001b[0m:      \t                    (3, np.float32(3.2422992e-07)),\n",
      "\u001b[92mINFO \u001b[0m:      \t                    (4, np.float32(3.1846133e-07)),\n",
      "\u001b[92mINFO \u001b[0m:      \t                    (5, np.float32(3.1979096e-07))]}\n",
      "\u001b[92mINFO \u001b[0m:      \tHistory (metrics, distributed, evaluate):\n",
      "\u001b[92mINFO \u001b[0m:      \t{'decentralized_avg_eval_accuracy': [(1, 0.622),\n",
      "\u001b[92mINFO \u001b[0m:      \t                                     (2, 0.625),\n",
      "\u001b[92mINFO \u001b[0m:      \t                                     (3, 0.65),\n",
      "\u001b[92mINFO \u001b[0m:      \t                                     (4, 0.664),\n",
      "\u001b[92mINFO \u001b[0m:      \t                                     (5, 0.658)]}\n",
      "\u001b[92mINFO \u001b[0m:      \tHistory (metrics, centralized):\n",
      "\u001b[92mINFO \u001b[0m:      \t{'centralized_accuracy': [(0, 0.632),\n",
      "\u001b[92mINFO \u001b[0m:      \t                          (1, 0.6414),\n",
      "\u001b[92mINFO \u001b[0m:      \t                          (2, 0.6472),\n",
      "\u001b[92mINFO \u001b[0m:      \t                          (3, 0.6519),\n",
      "\u001b[92mINFO \u001b[0m:      \t                          (4, 0.6546),\n",
      "\u001b[92mINFO \u001b[0m:      \t                          (5, 0.658)]}\n",
      "\u001b[92mINFO \u001b[0m:      \n"
     ]
    },
    {
     "data": {
      "text/html": [],
      "text/plain": [
       "<IPython.core.display.HTML object>"
      ]
     },
     "metadata": {},
     "output_type": "display_data"
    },
    {
     "data": {
      "text/html": [
       "<br>    <style><br>        .wandb-row {<br>            display: flex;<br>            flex-direction: row;<br>            flex-wrap: wrap;<br>            justify-content: flex-start;<br>            width: 100%;<br>        }<br>        .wandb-col {<br>            display: flex;<br>            flex-direction: column;<br>            flex-basis: 100%;<br>            flex: 1;<br>            padding: 10px;<br>        }<br>    </style><br><div class=\"wandb-row\"><div class=\"wandb-col\"><h3>Run history:</h3><br/><table class=\"wandb\"><tr><td>centralized_accuracy</td><td>▁▄▅▆▇█</td></tr><tr><td>centralized_eval_loss</td><td>█▆▄▃▂▁</td></tr><tr><td>decentralized_avg_eval_accuracy</td><td>▁▂▆█▇</td></tr><tr><td>decentralized_avg_eval_loss</td><td>█▇▄▁▃</td></tr><tr><td>decentralized_avg_train_accuracy</td><td>▁▆▅█▃</td></tr><tr><td>decentralized_avg_train_loss</td><td>█▃▄▁▄</td></tr></table><br/></div><div class=\"wandb-col\"><h3>Run summary:</h3><br/><table class=\"wandb\"><tr><td>centralized_accuracy</td><td>0.658</td></tr><tr><td>centralized_eval_loss</td><td>1.16641</td></tr><tr><td>decentralized_avg_eval_accuracy</td><td>0.658</td></tr><tr><td>decentralized_avg_eval_loss</td><td>1.19569</td></tr><tr><td>decentralized_avg_train_accuracy</td><td>0.67802</td></tr><tr><td>decentralized_avg_train_loss</td><td>1.06652</td></tr></table><br/></div></div>"
      ],
      "text/plain": [
       "<IPython.core.display.HTML object>"
      ]
     },
     "metadata": {},
     "output_type": "display_data"
    },
    {
     "data": {
      "text/html": [
       " View run <strong style=\"color:#cdcd00\">fl_gs_50_8_global_0.7_1</strong> at: <a href='https://wandb.ai/stefano-gamba-social-politecnico-di-torino/fl_v5_50_8_grid_search/runs/fl_gs_50_8_global_0.7_1' target=\"_blank\">https://wandb.ai/stefano-gamba-social-politecnico-di-torino/fl_v5_50_8_grid_search/runs/fl_gs_50_8_global_0.7_1</a><br> View project at: <a href='https://wandb.ai/stefano-gamba-social-politecnico-di-torino/fl_v5_50_8_grid_search' target=\"_blank\">https://wandb.ai/stefano-gamba-social-politecnico-di-torino/fl_v5_50_8_grid_search</a><br>Synced 5 W&B file(s), 0 media file(s), 0 artifact file(s) and 0 other file(s)"
      ],
      "text/plain": [
       "<IPython.core.display.HTML object>"
      ]
     },
     "metadata": {},
     "output_type": "display_data"
    },
    {
     "data": {
      "text/html": [
       "Find logs at: <code>./wandb/run-20250627_131847-fl_gs_50_8_global_0.7_1/logs</code>"
      ],
      "text/plain": [
       "<IPython.core.display.HTML object>"
      ]
     },
     "metadata": {},
     "output_type": "display_data"
    },
    {
     "name": "stdout",
     "output_type": "stream",
     "text": [
      "--------------------------------------------------------------------------------------------------------------------------------------------------------------------------------------------------------\n",
      " Nc=50, J=8, mask_type=global, sparsity=0.8, mask_calibration_round=1\n",
      "\n"
     ]
    },
    {
     "name": "stderr",
     "output_type": "stream",
     "text": [
      "Using cache found in /home/massimiliano/.cache/torch/hub/facebookresearch_dino_main\n",
      "Using cache found in /home/massimiliano/.cache/torch/hub/facebookresearch_dino_main\n"
     ]
    },
    {
     "name": "stdout",
     "output_type": "stream",
     "text": [
      "✅ Loaded checkpoint from /home/massimiliano/Projects/fl-g13/models/fl/non-iid/50_8/fl_fl_baseline_BaseDino_epoch_200.pth, resuming at epoch 201\n",
      "Using strategy 'CustomFedAvg' (default option)\n"
     ]
    },
    {
     "name": "stderr",
     "output_type": "stream",
     "text": [
      "/home/massimiliano/miniconda3/envs/fl-g13/lib/python3.11/site-packages/wandb/analytics/sentry.py:259: DeprecationWarning: The `Scope.user` setter is deprecated in favor of `Scope.set_user()`.\n",
      "  self.scope.user = {\"email\": email}  # noqa\n",
      "/home/massimiliano/miniconda3/envs/fl-g13/lib/python3.11/site-packages/wandb/analytics/sentry.py:259: DeprecationWarning: The `Scope.user` setter is deprecated in favor of `Scope.set_user()`.\n",
      "  self.scope.user = {\"email\": email}  # noqa\n"
     ]
    },
    {
     "data": {
      "text/html": [
       "Tracking run with wandb version 0.19.9"
      ],
      "text/plain": [
       "<IPython.core.display.HTML object>"
      ]
     },
     "metadata": {},
     "output_type": "display_data"
    },
    {
     "data": {
      "text/html": [
       "Run data is saved locally in <code>/home/massimiliano/Projects/fl-g13/notebooks/wandb/run-20250627_132932-fl_gs_50_8_global_0.8_1</code>"
      ],
      "text/plain": [
       "<IPython.core.display.HTML object>"
      ]
     },
     "metadata": {},
     "output_type": "display_data"
    },
    {
     "data": {
      "text/html": [
       "Syncing run <strong><a href='https://wandb.ai/stefano-gamba-social-politecnico-di-torino/fl_v5_50_8_grid_search/runs/fl_gs_50_8_global_0.8_1' target=\"_blank\">fl_gs_50_8_global_0.8_1</a></strong> to <a href='https://wandb.ai/stefano-gamba-social-politecnico-di-torino/fl_v5_50_8_grid_search' target=\"_blank\">Weights & Biases</a> (<a href='https://wandb.me/developer-guide' target=\"_blank\">docs</a>)<br>"
      ],
      "text/plain": [
       "<IPython.core.display.HTML object>"
      ]
     },
     "metadata": {},
     "output_type": "display_data"
    },
    {
     "data": {
      "text/html": [
       " View project at <a href='https://wandb.ai/stefano-gamba-social-politecnico-di-torino/fl_v5_50_8_grid_search' target=\"_blank\">https://wandb.ai/stefano-gamba-social-politecnico-di-torino/fl_v5_50_8_grid_search</a>"
      ],
      "text/plain": [
       "<IPython.core.display.HTML object>"
      ]
     },
     "metadata": {},
     "output_type": "display_data"
    },
    {
     "data": {
      "text/html": [
       " View run at <a href='https://wandb.ai/stefano-gamba-social-politecnico-di-torino/fl_v5_50_8_grid_search/runs/fl_gs_50_8_global_0.8_1' target=\"_blank\">https://wandb.ai/stefano-gamba-social-politecnico-di-torino/fl_v5_50_8_grid_search/runs/fl_gs_50_8_global_0.8_1</a>"
      ],
      "text/plain": [
       "<IPython.core.display.HTML object>"
      ]
     },
     "metadata": {},
     "output_type": "display_data"
    },
    {
     "name": "stderr",
     "output_type": "stream",
     "text": [
      "\u001b[92mINFO \u001b[0m:      Starting Flower ServerApp, config: num_rounds=5, no round_timeout\n",
      "\u001b[92mINFO \u001b[0m:      \n",
      "\u001b[92mINFO \u001b[0m:      [INIT]\n",
      "\u001b[92mINFO \u001b[0m:      Using initial global parameters provided by strategy\n",
      "\u001b[92mINFO \u001b[0m:      Starting evaluation of initial global parameters\n",
      "Eval progress: 100%|██████████| 313/313 [00:20<00:00, 15.03batch/s]\n",
      "\u001b[92mINFO \u001b[0m:      [Round 0] Centralized Evaluation - Loss: 1.2866, Metrics: {'centralized_accuracy': 0.632}\n",
      "\u001b[92mINFO \u001b[0m:      initial parameters (loss, other metrics): 1.2865915678370112, {'centralized_accuracy': 0.632}\n",
      "\u001b[92mINFO \u001b[0m:      \n",
      "\u001b[92mINFO \u001b[0m:      [ROUND 1]\n",
      "\u001b[92mINFO \u001b[0m:      configure_fit: strategy sampled 10 clients (out of 100)\n",
      "\u001b[36m(ClientAppActor pid=83977)\u001b[0m 2025-06-27 13:29:55.281 | INFO     | fl_g13.config:<module>:11 - PROJ_ROOT path is: /home/massimiliano/Projects/fl-g13\n",
      "\u001b[92mINFO \u001b[0m:      aggregate_fit: received 10 results and 0 failures\n",
      "\u001b[92mINFO \u001b[0m:      [Round 1] Avg Drift: 0.0001 | Relative Drift: 0.0000\n",
      "Eval progress: 100%|██████████| 313/313 [00:20<00:00, 15.60batch/s]\n",
      "\u001b[92mINFO \u001b[0m:      [Round 1] Centralized Evaluation - Loss: 1.2746, Metrics: {'centralized_accuracy': 0.6351}\n",
      "\u001b[92mINFO \u001b[0m:      fit progress: (1, 1.2746002450347327, {'centralized_accuracy': 0.6351}, 106.64813462999882)\n",
      "\u001b[92mINFO \u001b[0m:      configure_evaluate: strategy sampled 10 clients (out of 100)\n",
      "\u001b[92mINFO \u001b[0m:      aggregate_evaluate: received 10 results and 0 failures\n",
      "\u001b[92mINFO \u001b[0m:      \n",
      "\u001b[92mINFO \u001b[0m:      [ROUND 2]\n",
      "\u001b[92mINFO \u001b[0m:      configure_fit: strategy sampled 10 clients (out of 100)\n",
      "\u001b[92mINFO \u001b[0m:      aggregate_fit: received 10 results and 0 failures\n",
      "\u001b[92mINFO \u001b[0m:      [Round 2] Avg Drift: 0.0001 | Relative Drift: 0.0000\n",
      "Eval progress: 100%|██████████| 313/313 [00:20<00:00, 15.56batch/s]\n",
      "\u001b[92mINFO \u001b[0m:      [Round 2] Centralized Evaluation - Loss: 1.2635, Metrics: {'centralized_accuracy': 0.6374}\n",
      "\u001b[92mINFO \u001b[0m:      fit progress: (2, 1.2635062599715334, {'centralized_accuracy': 0.6374}, 245.35298625900032)\n",
      "\u001b[92mINFO \u001b[0m:      configure_evaluate: strategy sampled 10 clients (out of 100)\n",
      "\u001b[92mINFO \u001b[0m:      aggregate_evaluate: received 10 results and 0 failures\n",
      "\u001b[92mINFO \u001b[0m:      \n",
      "\u001b[92mINFO \u001b[0m:      [ROUND 3]\n",
      "\u001b[92mINFO \u001b[0m:      configure_fit: strategy sampled 10 clients (out of 100)\n",
      "\u001b[92mINFO \u001b[0m:      aggregate_fit: received 10 results and 0 failures\n",
      "\u001b[92mINFO \u001b[0m:      [Round 3] Avg Drift: 0.0001 | Relative Drift: 0.0000\n",
      "Eval progress: 100%|██████████| 313/313 [00:20<00:00, 15.64batch/s]\n",
      "\u001b[92mINFO \u001b[0m:      [Round 3] Centralized Evaluation - Loss: 1.2526, Metrics: {'centralized_accuracy': 0.6396}\n",
      "\u001b[92mINFO \u001b[0m:      fit progress: (3, 1.2526054797462, {'centralized_accuracy': 0.6396}, 370.72403124300035)\n",
      "\u001b[92mINFO \u001b[0m:      configure_evaluate: strategy sampled 10 clients (out of 100)\n",
      "\u001b[92mINFO \u001b[0m:      aggregate_evaluate: received 10 results and 0 failures\n",
      "\u001b[92mINFO \u001b[0m:      \n",
      "\u001b[92mINFO \u001b[0m:      [ROUND 4]\n",
      "\u001b[92mINFO \u001b[0m:      configure_fit: strategy sampled 10 clients (out of 100)\n",
      "\u001b[92mINFO \u001b[0m:      aggregate_fit: received 10 results and 0 failures\n",
      "\u001b[92mINFO \u001b[0m:      [Round 4] Avg Drift: 0.0001 | Relative Drift: 0.0000\n",
      "Eval progress: 100%|██████████| 313/313 [00:20<00:00, 15.65batch/s]\n",
      "\u001b[92mINFO \u001b[0m:      [Round 4] Centralized Evaluation - Loss: 1.2440, Metrics: {'centralized_accuracy': 0.6412}\n",
      "\u001b[92mINFO \u001b[0m:      fit progress: (4, 1.24400801599597, {'centralized_accuracy': 0.6412}, 500.6754430209985)\n",
      "\u001b[92mINFO \u001b[0m:      configure_evaluate: strategy sampled 10 clients (out of 100)\n",
      "\u001b[92mINFO \u001b[0m:      aggregate_evaluate: received 10 results and 0 failures\n",
      "\u001b[92mINFO \u001b[0m:      \n",
      "\u001b[92mINFO \u001b[0m:      [ROUND 5]\n",
      "\u001b[92mINFO \u001b[0m:      configure_fit: strategy sampled 10 clients (out of 100)\n",
      "\u001b[92mINFO \u001b[0m:      aggregate_fit: received 10 results and 0 failures\n",
      "\u001b[92mINFO \u001b[0m:      [Round 5] Avg Drift: 0.0001 | Relative Drift: 0.0000\n",
      "\u001b[92mINFO \u001b[0m:      [Round 5] Saving aggregated model at epoch 205...\n"
     ]
    },
    {
     "name": "stdout",
     "output_type": "stream",
     "text": [
      "💾 Saved checkpoint at: /home/massimiliano/Projects/fl-g13/models/fl/non-iid/GS/50_8_global_0.8_1/fl_grid_search_BaseDino_epoch_205.pth\n"
     ]
    },
    {
     "name": "stderr",
     "output_type": "stream",
     "text": [
      "Eval progress: 100%|██████████| 313/313 [00:20<00:00, 15.53batch/s]\n",
      "\u001b[92mINFO \u001b[0m:      [Round 5] Centralized Evaluation - Loss: 1.2350, Metrics: {'centralized_accuracy': 0.6438}\n",
      "\u001b[92mINFO \u001b[0m:      fit progress: (5, 1.2349730800515928, {'centralized_accuracy': 0.6438}, 618.1308754710008)\n",
      "\u001b[92mINFO \u001b[0m:      configure_evaluate: strategy sampled 10 clients (out of 100)\n",
      "\u001b[92mINFO \u001b[0m:      aggregate_evaluate: received 10 results and 0 failures\n",
      "\u001b[92mINFO \u001b[0m:      \n",
      "\u001b[92mINFO \u001b[0m:      [SUMMARY]\n",
      "\u001b[92mINFO \u001b[0m:      Run finished 5 round(s) in 637.89s\n",
      "\u001b[92mINFO \u001b[0m:      \tHistory (loss, distributed):\n",
      "\u001b[92mINFO \u001b[0m:      \t\tround 1: 1.2418754547834396\n",
      "\u001b[92mINFO \u001b[0m:      \t\tround 2: 1.2941224843263626\n",
      "\u001b[92mINFO \u001b[0m:      \t\tround 3: 1.2350266695022583\n",
      "\u001b[92mINFO \u001b[0m:      \t\tround 4: 1.367467388510704\n",
      "\u001b[92mINFO \u001b[0m:      \t\tround 5: 1.2226906299591065\n",
      "\u001b[92mINFO \u001b[0m:      \tHistory (loss, centralized):\n",
      "\u001b[92mINFO \u001b[0m:      \t\tround 0: 1.2865915678370112\n",
      "\u001b[92mINFO \u001b[0m:      \t\tround 1: 1.2746002450347327\n",
      "\u001b[92mINFO \u001b[0m:      \t\tround 2: 1.2635062599715334\n",
      "\u001b[92mINFO \u001b[0m:      \t\tround 3: 1.2526054797462\n",
      "\u001b[92mINFO \u001b[0m:      \t\tround 4: 1.24400801599597\n",
      "\u001b[92mINFO \u001b[0m:      \t\tround 5: 1.2349730800515928\n",
      "\u001b[92mINFO \u001b[0m:      \tHistory (metrics, distributed, fit):\n",
      "\u001b[92mINFO \u001b[0m:      \t{'avg_drift': [(1, np.float32(9.822724e-05)),\n",
      "\u001b[92mINFO \u001b[0m:      \t               (2, np.float32(0.00010080677)),\n",
      "\u001b[92mINFO \u001b[0m:      \t               (3, np.float32(9.973158e-05)),\n",
      "\u001b[92mINFO \u001b[0m:      \t               (4, np.float32(9.421057e-05)),\n",
      "\u001b[92mINFO \u001b[0m:      \t               (5, np.float32(9.888846e-05))],\n",
      "\u001b[92mINFO \u001b[0m:      \t 'avg_train_loss': [(1, 1.1213042922317982),\n",
      "\u001b[92mINFO \u001b[0m:      \t                    (2, 1.115055240318179),\n",
      "\u001b[92mINFO \u001b[0m:      \t                    (3, 1.144805447012186),\n",
      "\u001b[92mINFO \u001b[0m:      \t                    (4, 1.0535509064793587),\n",
      "\u001b[92mINFO \u001b[0m:      \t                    (5, 1.1587567135691643)],\n",
      "\u001b[92mINFO \u001b[0m:      \t 'relative_drift': [(1, np.float32(1.892477e-07)),\n",
      "\u001b[92mINFO \u001b[0m:      \t                    (2, np.float32(1.9421755e-07)),\n",
      "\u001b[92mINFO \u001b[0m:      \t                    (3, np.float32(1.9214613e-07)),\n",
      "\u001b[92mINFO \u001b[0m:      \t                    (4, np.float32(1.8150924e-07)),\n",
      "\u001b[92mINFO \u001b[0m:      \t                    (5, np.float32(1.9052185e-07))]}\n",
      "\u001b[92mINFO \u001b[0m:      \tHistory (metrics, distributed, evaluate):\n",
      "\u001b[92mINFO \u001b[0m:      \t{'decentralized_avg_eval_accuracy': [(1, 0.642),\n",
      "\u001b[92mINFO \u001b[0m:      \t                                     (2, 0.625),\n",
      "\u001b[92mINFO \u001b[0m:      \t                                     (3, 0.647),\n",
      "\u001b[92mINFO \u001b[0m:      \t                                     (4, 0.607),\n",
      "\u001b[92mINFO \u001b[0m:      \t                                     (5, 0.64)]}\n",
      "\u001b[92mINFO \u001b[0m:      \tHistory (metrics, centralized):\n",
      "\u001b[92mINFO \u001b[0m:      \t{'centralized_accuracy': [(0, 0.632),\n",
      "\u001b[92mINFO \u001b[0m:      \t                          (1, 0.6351),\n",
      "\u001b[92mINFO \u001b[0m:      \t                          (2, 0.6374),\n",
      "\u001b[92mINFO \u001b[0m:      \t                          (3, 0.6396),\n",
      "\u001b[92mINFO \u001b[0m:      \t                          (4, 0.6412),\n",
      "\u001b[92mINFO \u001b[0m:      \t                          (5, 0.6438)]}\n",
      "\u001b[92mINFO \u001b[0m:      \n"
     ]
    },
    {
     "data": {
      "text/html": [],
      "text/plain": [
       "<IPython.core.display.HTML object>"
      ]
     },
     "metadata": {},
     "output_type": "display_data"
    },
    {
     "data": {
      "text/html": [
       "<br>    <style><br>        .wandb-row {<br>            display: flex;<br>            flex-direction: row;<br>            flex-wrap: wrap;<br>            justify-content: flex-start;<br>            width: 100%;<br>        }<br>        .wandb-col {<br>            display: flex;<br>            flex-direction: column;<br>            flex-basis: 100%;<br>            flex: 1;<br>            padding: 10px;<br>        }<br>    </style><br><div class=\"wandb-row\"><div class=\"wandb-col\"><h3>Run history:</h3><br/><table class=\"wandb\"><tr><td>centralized_accuracy</td><td>▁▃▄▆▆█</td></tr><tr><td>centralized_eval_loss</td><td>█▆▅▃▂▁</td></tr><tr><td>decentralized_avg_eval_accuracy</td><td>▇▄█▁▇</td></tr><tr><td>decentralized_avg_eval_loss</td><td>▂▄▂█▁</td></tr><tr><td>decentralized_avg_train_accuracy</td><td>▃▃▁█▁</td></tr><tr><td>decentralized_avg_train_loss</td><td>▆▅▇▁█</td></tr></table><br/></div><div class=\"wandb-col\"><h3>Run summary:</h3><br/><table class=\"wandb\"><tr><td>centralized_accuracy</td><td>0.6438</td></tr><tr><td>centralized_eval_loss</td><td>1.23497</td></tr><tr><td>decentralized_avg_eval_accuracy</td><td>0.64</td></tr><tr><td>decentralized_avg_eval_loss</td><td>1.22269</td></tr><tr><td>decentralized_avg_train_accuracy</td><td>0.66552</td></tr><tr><td>decentralized_avg_train_loss</td><td>1.15876</td></tr></table><br/></div></div>"
      ],
      "text/plain": [
       "<IPython.core.display.HTML object>"
      ]
     },
     "metadata": {},
     "output_type": "display_data"
    },
    {
     "data": {
      "text/html": [
       " View run <strong style=\"color:#cdcd00\">fl_gs_50_8_global_0.8_1</strong> at: <a href='https://wandb.ai/stefano-gamba-social-politecnico-di-torino/fl_v5_50_8_grid_search/runs/fl_gs_50_8_global_0.8_1' target=\"_blank\">https://wandb.ai/stefano-gamba-social-politecnico-di-torino/fl_v5_50_8_grid_search/runs/fl_gs_50_8_global_0.8_1</a><br> View project at: <a href='https://wandb.ai/stefano-gamba-social-politecnico-di-torino/fl_v5_50_8_grid_search' target=\"_blank\">https://wandb.ai/stefano-gamba-social-politecnico-di-torino/fl_v5_50_8_grid_search</a><br>Synced 5 W&B file(s), 0 media file(s), 0 artifact file(s) and 0 other file(s)"
      ],
      "text/plain": [
       "<IPython.core.display.HTML object>"
      ]
     },
     "metadata": {},
     "output_type": "display_data"
    },
    {
     "data": {
      "text/html": [
       "Find logs at: <code>./wandb/run-20250627_132932-fl_gs_50_8_global_0.8_1/logs</code>"
      ],
      "text/plain": [
       "<IPython.core.display.HTML object>"
      ]
     },
     "metadata": {},
     "output_type": "display_data"
    },
    {
     "name": "stdout",
     "output_type": "stream",
     "text": [
      "--------------------------------------------------------------------------------------------------------------------------------------------------------------------------------------------------------\n",
      " Nc=50, J=8, mask_type=global, sparsity=0.9, mask_calibration_round=1\n",
      "\n"
     ]
    },
    {
     "name": "stderr",
     "output_type": "stream",
     "text": [
      "Using cache found in /home/massimiliano/.cache/torch/hub/facebookresearch_dino_main\n",
      "Using cache found in /home/massimiliano/.cache/torch/hub/facebookresearch_dino_main\n"
     ]
    },
    {
     "name": "stdout",
     "output_type": "stream",
     "text": [
      "✅ Loaded checkpoint from /home/massimiliano/Projects/fl-g13/models/fl/non-iid/50_8/fl_fl_baseline_BaseDino_epoch_200.pth, resuming at epoch 201\n",
      "Using strategy 'CustomFedAvg' (default option)\n"
     ]
    },
    {
     "name": "stderr",
     "output_type": "stream",
     "text": [
      "/home/massimiliano/miniconda3/envs/fl-g13/lib/python3.11/site-packages/wandb/analytics/sentry.py:259: DeprecationWarning: The `Scope.user` setter is deprecated in favor of `Scope.set_user()`.\n",
      "  self.scope.user = {\"email\": email}  # noqa\n",
      "/home/massimiliano/miniconda3/envs/fl-g13/lib/python3.11/site-packages/wandb/analytics/sentry.py:259: DeprecationWarning: The `Scope.user` setter is deprecated in favor of `Scope.set_user()`.\n",
      "  self.scope.user = {\"email\": email}  # noqa\n"
     ]
    },
    {
     "data": {
      "text/html": [
       "Tracking run with wandb version 0.19.9"
      ],
      "text/plain": [
       "<IPython.core.display.HTML object>"
      ]
     },
     "metadata": {},
     "output_type": "display_data"
    },
    {
     "data": {
      "text/html": [
       "Run data is saved locally in <code>/home/massimiliano/Projects/fl-g13/notebooks/wandb/run-20250627_134036-fl_gs_50_8_global_0.9_1</code>"
      ],
      "text/plain": [
       "<IPython.core.display.HTML object>"
      ]
     },
     "metadata": {},
     "output_type": "display_data"
    },
    {
     "data": {
      "text/html": [
       "Syncing run <strong><a href='https://wandb.ai/stefano-gamba-social-politecnico-di-torino/fl_v5_50_8_grid_search/runs/fl_gs_50_8_global_0.9_1' target=\"_blank\">fl_gs_50_8_global_0.9_1</a></strong> to <a href='https://wandb.ai/stefano-gamba-social-politecnico-di-torino/fl_v5_50_8_grid_search' target=\"_blank\">Weights & Biases</a> (<a href='https://wandb.me/developer-guide' target=\"_blank\">docs</a>)<br>"
      ],
      "text/plain": [
       "<IPython.core.display.HTML object>"
      ]
     },
     "metadata": {},
     "output_type": "display_data"
    },
    {
     "data": {
      "text/html": [
       " View project at <a href='https://wandb.ai/stefano-gamba-social-politecnico-di-torino/fl_v5_50_8_grid_search' target=\"_blank\">https://wandb.ai/stefano-gamba-social-politecnico-di-torino/fl_v5_50_8_grid_search</a>"
      ],
      "text/plain": [
       "<IPython.core.display.HTML object>"
      ]
     },
     "metadata": {},
     "output_type": "display_data"
    },
    {
     "data": {
      "text/html": [
       " View run at <a href='https://wandb.ai/stefano-gamba-social-politecnico-di-torino/fl_v5_50_8_grid_search/runs/fl_gs_50_8_global_0.9_1' target=\"_blank\">https://wandb.ai/stefano-gamba-social-politecnico-di-torino/fl_v5_50_8_grid_search/runs/fl_gs_50_8_global_0.9_1</a>"
      ],
      "text/plain": [
       "<IPython.core.display.HTML object>"
      ]
     },
     "metadata": {},
     "output_type": "display_data"
    },
    {
     "name": "stderr",
     "output_type": "stream",
     "text": [
      "\u001b[92mINFO \u001b[0m:      Starting Flower ServerApp, config: num_rounds=5, no round_timeout\n",
      "\u001b[92mINFO \u001b[0m:      \n",
      "\u001b[92mINFO \u001b[0m:      [INIT]\n",
      "\u001b[92mINFO \u001b[0m:      Using initial global parameters provided by strategy\n",
      "\u001b[92mINFO \u001b[0m:      Starting evaluation of initial global parameters\n",
      "Eval progress: 100%|██████████| 313/313 [00:20<00:00, 15.25batch/s]\n",
      "\u001b[92mINFO \u001b[0m:      [Round 0] Centralized Evaluation - Loss: 1.2866, Metrics: {'centralized_accuracy': 0.632}\n",
      "\u001b[92mINFO \u001b[0m:      initial parameters (loss, other metrics): 1.2865915678370112, {'centralized_accuracy': 0.632}\n",
      "\u001b[92mINFO \u001b[0m:      \n",
      "\u001b[92mINFO \u001b[0m:      [ROUND 1]\n",
      "\u001b[92mINFO \u001b[0m:      configure_fit: strategy sampled 10 clients (out of 100)\n",
      "\u001b[36m(ClientAppActor pid=87502)\u001b[0m 2025-06-27 13:40:59.183 | INFO     | fl_g13.config:<module>:11 - PROJ_ROOT path is: /home/massimiliano/Projects/fl-g13\n",
      "\u001b[92mINFO \u001b[0m:      aggregate_fit: received 10 results and 0 failures\n",
      "\u001b[92mINFO \u001b[0m:      [Round 1] Avg Drift: 0.0000 | Relative Drift: 0.0000\n",
      "Eval progress: 100%|██████████| 313/313 [00:20<00:00, 15.58batch/s]\n",
      "\u001b[92mINFO \u001b[0m:      [Round 1] Centralized Evaluation - Loss: 1.2843, Metrics: {'centralized_accuracy': 0.633}\n",
      "\u001b[92mINFO \u001b[0m:      fit progress: (1, 1.2842801089484852, {'centralized_accuracy': 0.633}, 113.81169384199893)\n",
      "\u001b[92mINFO \u001b[0m:      configure_evaluate: strategy sampled 10 clients (out of 100)\n",
      "\u001b[92mINFO \u001b[0m:      aggregate_evaluate: received 10 results and 0 failures\n",
      "\u001b[92mINFO \u001b[0m:      \n",
      "\u001b[92mINFO \u001b[0m:      [ROUND 2]\n",
      "\u001b[92mINFO \u001b[0m:      configure_fit: strategy sampled 10 clients (out of 100)\n",
      "\u001b[92mINFO \u001b[0m:      aggregate_fit: received 10 results and 0 failures\n",
      "\u001b[92mINFO \u001b[0m:      [Round 2] Avg Drift: 0.0000 | Relative Drift: 0.0000\n",
      "Eval progress: 100%|██████████| 313/313 [00:22<00:00, 13.85batch/s]\n",
      "\u001b[92mINFO \u001b[0m:      [Round 2] Centralized Evaluation - Loss: 1.2822, Metrics: {'centralized_accuracy': 0.6334}\n",
      "\u001b[92mINFO \u001b[0m:      fit progress: (2, 1.2821590521465094, {'centralized_accuracy': 0.6334}, 260.84839935499986)\n",
      "\u001b[92mINFO \u001b[0m:      configure_evaluate: strategy sampled 10 clients (out of 100)\n",
      "\u001b[92mINFO \u001b[0m:      aggregate_evaluate: received 10 results and 0 failures\n",
      "\u001b[92mINFO \u001b[0m:      \n",
      "\u001b[92mINFO \u001b[0m:      [ROUND 3]\n",
      "\u001b[92mINFO \u001b[0m:      configure_fit: strategy sampled 10 clients (out of 100)\n",
      "\u001b[92mINFO \u001b[0m:      aggregate_fit: received 10 results and 0 failures\n",
      "\u001b[92mINFO \u001b[0m:      [Round 3] Avg Drift: 0.0000 | Relative Drift: 0.0000\n",
      "Eval progress: 100%|██████████| 313/313 [00:22<00:00, 13.83batch/s]\n",
      "\u001b[92mINFO \u001b[0m:      [Round 3] Centralized Evaluation - Loss: 1.2801, Metrics: {'centralized_accuracy': 0.6339}\n",
      "\u001b[92mINFO \u001b[0m:      fit progress: (3, 1.2800869059067566, {'centralized_accuracy': 0.6339}, 391.8450714270002)\n",
      "\u001b[92mINFO \u001b[0m:      configure_evaluate: strategy sampled 10 clients (out of 100)\n",
      "\u001b[92mINFO \u001b[0m:      aggregate_evaluate: received 10 results and 0 failures\n",
      "\u001b[92mINFO \u001b[0m:      \n",
      "\u001b[92mINFO \u001b[0m:      [ROUND 4]\n",
      "\u001b[92mINFO \u001b[0m:      configure_fit: strategy sampled 10 clients (out of 100)\n",
      "\u001b[92mINFO \u001b[0m:      aggregate_fit: received 10 results and 0 failures\n",
      "\u001b[92mINFO \u001b[0m:      [Round 4] Avg Drift: 0.0000 | Relative Drift: 0.0000\n",
      "Eval progress: 100%|██████████| 313/313 [00:22<00:00, 13.95batch/s]\n",
      "\u001b[92mINFO \u001b[0m:      [Round 4] Centralized Evaluation - Loss: 1.2780, Metrics: {'centralized_accuracy': 0.6342}\n",
      "\u001b[92mINFO \u001b[0m:      fit progress: (4, 1.2780348356729878, {'centralized_accuracy': 0.6342}, 498.004793043001)\n",
      "\u001b[92mINFO \u001b[0m:      configure_evaluate: strategy sampled 10 clients (out of 100)\n",
      "\u001b[92mINFO \u001b[0m:      aggregate_evaluate: received 10 results and 0 failures\n",
      "\u001b[92mINFO \u001b[0m:      \n",
      "\u001b[92mINFO \u001b[0m:      [ROUND 5]\n",
      "\u001b[92mINFO \u001b[0m:      configure_fit: strategy sampled 10 clients (out of 100)\n",
      "\u001b[92mINFO \u001b[0m:      aggregate_fit: received 10 results and 0 failures\n",
      "\u001b[92mINFO \u001b[0m:      [Round 5] Avg Drift: 0.0000 | Relative Drift: 0.0000\n",
      "\u001b[92mINFO \u001b[0m:      [Round 5] Saving aggregated model at epoch 205...\n"
     ]
    },
    {
     "name": "stdout",
     "output_type": "stream",
     "text": [
      "💾 Saved checkpoint at: /home/massimiliano/Projects/fl-g13/models/fl/non-iid/GS/50_8_global_0.9_1/fl_grid_search_BaseDino_epoch_205.pth\n"
     ]
    },
    {
     "name": "stderr",
     "output_type": "stream",
     "text": [
      "Eval progress: 100%|██████████| 313/313 [00:23<00:00, 13.26batch/s]\n",
      "\u001b[92mINFO \u001b[0m:      [Round 5] Centralized Evaluation - Loss: 1.2760, Metrics: {'centralized_accuracy': 0.6347}\n",
      "\u001b[92mINFO \u001b[0m:      fit progress: (5, 1.2759793266511192, {'centralized_accuracy': 0.6347}, 605.9611997409993)\n",
      "\u001b[92mINFO \u001b[0m:      configure_evaluate: strategy sampled 10 clients (out of 100)\n",
      "\u001b[92mINFO \u001b[0m:      aggregate_evaluate: received 10 results and 0 failures\n",
      "\u001b[92mINFO \u001b[0m:      \n",
      "\u001b[92mINFO \u001b[0m:      [SUMMARY]\n",
      "\u001b[92mINFO \u001b[0m:      Run finished 5 round(s) in 639.81s\n",
      "\u001b[92mINFO \u001b[0m:      \tHistory (loss, distributed):\n",
      "\u001b[92mINFO \u001b[0m:      \t\tround 1: 1.4003180980682373\n",
      "\u001b[92mINFO \u001b[0m:      \t\tround 2: 1.3251992493867875\n",
      "\u001b[92mINFO \u001b[0m:      \t\tround 3: 1.4312719732522965\n",
      "\u001b[92mINFO \u001b[0m:      \t\tround 4: 1.2002329349517822\n",
      "\u001b[92mINFO \u001b[0m:      \t\tround 5: 1.3890201330184937\n",
      "\u001b[92mINFO \u001b[0m:      \tHistory (loss, centralized):\n",
      "\u001b[92mINFO \u001b[0m:      \t\tround 0: 1.2865915678370112\n",
      "\u001b[92mINFO \u001b[0m:      \t\tround 1: 1.2842801089484852\n",
      "\u001b[92mINFO \u001b[0m:      \t\tround 2: 1.2821590521465094\n",
      "\u001b[92mINFO \u001b[0m:      \t\tround 3: 1.2800869059067566\n",
      "\u001b[92mINFO \u001b[0m:      \t\tround 4: 1.2780348356729878\n",
      "\u001b[92mINFO \u001b[0m:      \t\tround 5: 1.2759793266511192\n",
      "\u001b[92mINFO \u001b[0m:      \tHistory (metrics, distributed, fit):\n",
      "\u001b[92mINFO \u001b[0m:      \t{'avg_drift': [(1, np.float32(4.058178e-05)),\n",
      "\u001b[92mINFO \u001b[0m:      \t               (2, np.float32(4.0238483e-05)),\n",
      "\u001b[92mINFO \u001b[0m:      \t               (3, np.float32(3.9693026e-05)),\n",
      "\u001b[92mINFO \u001b[0m:      \t               (4, np.float32(3.985641e-05)),\n",
      "\u001b[92mINFO \u001b[0m:      \t               (5, np.float32(3.872312e-05))],\n",
      "\u001b[92mINFO \u001b[0m:      \t 'avg_train_loss': [(1, 1.2341777198016644),\n",
      "\u001b[92mINFO \u001b[0m:      \t                    (2, 1.1990654036402701),\n",
      "\u001b[92mINFO \u001b[0m:      \t                    (3, 1.1481164678931237),\n",
      "\u001b[92mINFO \u001b[0m:      \t                    (4, 1.1371710155159236),\n",
      "\u001b[92mINFO \u001b[0m:      \t                    (5, 1.1569349013268948)],\n",
      "\u001b[92mINFO \u001b[0m:      \t 'relative_drift': [(1, np.float32(7.818613e-08)),\n",
      "\u001b[92mINFO \u001b[0m:      \t                    (2, np.float32(7.752474e-08)),\n",
      "\u001b[92mINFO \u001b[0m:      \t                    (3, np.float32(7.647386e-08)),\n",
      "\u001b[92mINFO \u001b[0m:      \t                    (4, np.float32(7.6788666e-08)),\n",
      "\u001b[92mINFO \u001b[0m:      \t                    (5, np.float32(7.460524e-08))]}\n",
      "\u001b[92mINFO \u001b[0m:      \tHistory (metrics, distributed, evaluate):\n",
      "\u001b[92mINFO \u001b[0m:      \t{'decentralized_avg_eval_accuracy': [(1, 0.586),\n",
      "\u001b[92mINFO \u001b[0m:      \t                                     (2, 0.631),\n",
      "\u001b[92mINFO \u001b[0m:      \t                                     (3, 0.585),\n",
      "\u001b[92mINFO \u001b[0m:      \t                                     (4, 0.652),\n",
      "\u001b[92mINFO \u001b[0m:      \t                                     (5, 0.608)]}\n",
      "\u001b[92mINFO \u001b[0m:      \tHistory (metrics, centralized):\n",
      "\u001b[92mINFO \u001b[0m:      \t{'centralized_accuracy': [(0, 0.632),\n",
      "\u001b[92mINFO \u001b[0m:      \t                          (1, 0.633),\n",
      "\u001b[92mINFO \u001b[0m:      \t                          (2, 0.6334),\n",
      "\u001b[92mINFO \u001b[0m:      \t                          (3, 0.6339),\n",
      "\u001b[92mINFO \u001b[0m:      \t                          (4, 0.6342),\n",
      "\u001b[92mINFO \u001b[0m:      \t                          (5, 0.6347)]}\n",
      "\u001b[92mINFO \u001b[0m:      \n"
     ]
    },
    {
     "data": {
      "text/html": [],
      "text/plain": [
       "<IPython.core.display.HTML object>"
      ]
     },
     "metadata": {},
     "output_type": "display_data"
    },
    {
     "data": {
      "text/html": [
       "<br>    <style><br>        .wandb-row {<br>            display: flex;<br>            flex-direction: row;<br>            flex-wrap: wrap;<br>            justify-content: flex-start;<br>            width: 100%;<br>        }<br>        .wandb-col {<br>            display: flex;<br>            flex-direction: column;<br>            flex-basis: 100%;<br>            flex: 1;<br>            padding: 10px;<br>        }<br>    </style><br><div class=\"wandb-row\"><div class=\"wandb-col\"><h3>Run history:</h3><br/><table class=\"wandb\"><tr><td>centralized_accuracy</td><td>▁▄▅▆▇█</td></tr><tr><td>centralized_eval_loss</td><td>█▆▅▄▂▁</td></tr><tr><td>decentralized_avg_eval_accuracy</td><td>▁▆▁█▃</td></tr><tr><td>decentralized_avg_eval_loss</td><td>▇▅█▁▇</td></tr><tr><td>decentralized_avg_train_accuracy</td><td>▁▁▄▆█</td></tr><tr><td>decentralized_avg_train_loss</td><td>█▅▂▁▂</td></tr></table><br/></div><div class=\"wandb-col\"><h3>Run summary:</h3><br/><table class=\"wandb\"><tr><td>centralized_accuracy</td><td>0.6347</td></tr><tr><td>centralized_eval_loss</td><td>1.27598</td></tr><tr><td>decentralized_avg_eval_accuracy</td><td>0.608</td></tr><tr><td>decentralized_avg_eval_loss</td><td>1.38902</td></tr><tr><td>decentralized_avg_train_accuracy</td><td>0.67435</td></tr><tr><td>decentralized_avg_train_loss</td><td>1.15693</td></tr></table><br/></div></div>"
      ],
      "text/plain": [
       "<IPython.core.display.HTML object>"
      ]
     },
     "metadata": {},
     "output_type": "display_data"
    },
    {
     "data": {
      "text/html": [
       " View run <strong style=\"color:#cdcd00\">fl_gs_50_8_global_0.9_1</strong> at: <a href='https://wandb.ai/stefano-gamba-social-politecnico-di-torino/fl_v5_50_8_grid_search/runs/fl_gs_50_8_global_0.9_1' target=\"_blank\">https://wandb.ai/stefano-gamba-social-politecnico-di-torino/fl_v5_50_8_grid_search/runs/fl_gs_50_8_global_0.9_1</a><br> View project at: <a href='https://wandb.ai/stefano-gamba-social-politecnico-di-torino/fl_v5_50_8_grid_search' target=\"_blank\">https://wandb.ai/stefano-gamba-social-politecnico-di-torino/fl_v5_50_8_grid_search</a><br>Synced 5 W&B file(s), 0 media file(s), 0 artifact file(s) and 0 other file(s)"
      ],
      "text/plain": [
       "<IPython.core.display.HTML object>"
      ]
     },
     "metadata": {},
     "output_type": "display_data"
    },
    {
     "data": {
      "text/html": [
       "Find logs at: <code>./wandb/run-20250627_134036-fl_gs_50_8_global_0.9_1/logs</code>"
      ],
      "text/plain": [
       "<IPython.core.display.HTML object>"
      ]
     },
     "metadata": {},
     "output_type": "display_data"
    },
    {
     "name": "stdout",
     "output_type": "stream",
     "text": [
      "--------------------------------------------------------------------------------------------------------------------------------------------------------------------------------------------------------\n",
      " Nc=50, J=8, mask_type=local, sparsity=0.7, mask_calibration_round=3\n",
      "\n"
     ]
    },
    {
     "name": "stderr",
     "output_type": "stream",
     "text": [
      "Using cache found in /home/massimiliano/.cache/torch/hub/facebookresearch_dino_main\n",
      "Using cache found in /home/massimiliano/.cache/torch/hub/facebookresearch_dino_main\n"
     ]
    },
    {
     "name": "stdout",
     "output_type": "stream",
     "text": [
      "✅ Loaded checkpoint from /home/massimiliano/Projects/fl-g13/models/fl/non-iid/50_8/fl_fl_baseline_BaseDino_epoch_200.pth, resuming at epoch 201\n",
      "Using strategy 'CustomFedAvg' (default option)\n"
     ]
    },
    {
     "name": "stderr",
     "output_type": "stream",
     "text": [
      "/home/massimiliano/miniconda3/envs/fl-g13/lib/python3.11/site-packages/wandb/analytics/sentry.py:259: DeprecationWarning: The `Scope.user` setter is deprecated in favor of `Scope.set_user()`.\n",
      "  self.scope.user = {\"email\": email}  # noqa\n",
      "/home/massimiliano/miniconda3/envs/fl-g13/lib/python3.11/site-packages/wandb/analytics/sentry.py:259: DeprecationWarning: The `Scope.user` setter is deprecated in favor of `Scope.set_user()`.\n",
      "  self.scope.user = {\"email\": email}  # noqa\n"
     ]
    },
    {
     "data": {
      "text/html": [
       "Tracking run with wandb version 0.19.9"
      ],
      "text/plain": [
       "<IPython.core.display.HTML object>"
      ]
     },
     "metadata": {},
     "output_type": "display_data"
    },
    {
     "data": {
      "text/html": [
       "Run data is saved locally in <code>/home/massimiliano/Projects/fl-g13/notebooks/wandb/run-20250627_135142-fl_gs_50_8_local_0.7_3</code>"
      ],
      "text/plain": [
       "<IPython.core.display.HTML object>"
      ]
     },
     "metadata": {},
     "output_type": "display_data"
    },
    {
     "data": {
      "text/html": [
       "Syncing run <strong><a href='https://wandb.ai/stefano-gamba-social-politecnico-di-torino/fl_v5_50_8_grid_search/runs/fl_gs_50_8_local_0.7_3' target=\"_blank\">fl_gs_50_8_local_0.7_3</a></strong> to <a href='https://wandb.ai/stefano-gamba-social-politecnico-di-torino/fl_v5_50_8_grid_search' target=\"_blank\">Weights & Biases</a> (<a href='https://wandb.me/developer-guide' target=\"_blank\">docs</a>)<br>"
      ],
      "text/plain": [
       "<IPython.core.display.HTML object>"
      ]
     },
     "metadata": {},
     "output_type": "display_data"
    },
    {
     "data": {
      "text/html": [
       " View project at <a href='https://wandb.ai/stefano-gamba-social-politecnico-di-torino/fl_v5_50_8_grid_search' target=\"_blank\">https://wandb.ai/stefano-gamba-social-politecnico-di-torino/fl_v5_50_8_grid_search</a>"
      ],
      "text/plain": [
       "<IPython.core.display.HTML object>"
      ]
     },
     "metadata": {},
     "output_type": "display_data"
    },
    {
     "data": {
      "text/html": [
       " View run at <a href='https://wandb.ai/stefano-gamba-social-politecnico-di-torino/fl_v5_50_8_grid_search/runs/fl_gs_50_8_local_0.7_3' target=\"_blank\">https://wandb.ai/stefano-gamba-social-politecnico-di-torino/fl_v5_50_8_grid_search/runs/fl_gs_50_8_local_0.7_3</a>"
      ],
      "text/plain": [
       "<IPython.core.display.HTML object>"
      ]
     },
     "metadata": {},
     "output_type": "display_data"
    },
    {
     "name": "stderr",
     "output_type": "stream",
     "text": [
      "\u001b[92mINFO \u001b[0m:      Starting Flower ServerApp, config: num_rounds=5, no round_timeout\n",
      "\u001b[92mINFO \u001b[0m:      \n",
      "\u001b[92mINFO \u001b[0m:      [INIT]\n",
      "\u001b[92mINFO \u001b[0m:      Using initial global parameters provided by strategy\n",
      "\u001b[92mINFO \u001b[0m:      Starting evaluation of initial global parameters\n",
      "Eval progress: 100%|██████████| 313/313 [00:23<00:00, 13.39batch/s]\n",
      "\u001b[92mINFO \u001b[0m:      [Round 0] Centralized Evaluation - Loss: 1.2866, Metrics: {'centralized_accuracy': 0.632}\n",
      "\u001b[92mINFO \u001b[0m:      initial parameters (loss, other metrics): 1.2865915678370112, {'centralized_accuracy': 0.632}\n",
      "\u001b[92mINFO \u001b[0m:      \n",
      "\u001b[92mINFO \u001b[0m:      [ROUND 1]\n",
      "\u001b[92mINFO \u001b[0m:      configure_fit: strategy sampled 10 clients (out of 100)\n",
      "\u001b[36m(ClientAppActor pid=91772)\u001b[0m 2025-06-27 13:52:07.785 | INFO     | fl_g13.config:<module>:11 - PROJ_ROOT path is: /home/massimiliano/Projects/fl-g13\n",
      "\u001b[92mINFO \u001b[0m:      aggregate_fit: received 10 results and 0 failures\n",
      "\u001b[92mINFO \u001b[0m:      [Round 1] Avg Drift: 0.0005 | Relative Drift: 0.0000\n",
      "Eval progress: 100%|██████████| 313/313 [00:22<00:00, 14.05batch/s]\n",
      "\u001b[92mINFO \u001b[0m:      [Round 1] Centralized Evaluation - Loss: 1.1108, Metrics: {'centralized_accuracy': 0.6758}\n",
      "\u001b[92mINFO \u001b[0m:      fit progress: (1, 1.1107989846707913, {'centralized_accuracy': 0.6758}, 212.23717062200012)\n",
      "\u001b[92mINFO \u001b[0m:      configure_evaluate: strategy sampled 10 clients (out of 100)\n",
      "\u001b[92mINFO \u001b[0m:      aggregate_evaluate: received 10 results and 0 failures\n",
      "\u001b[92mINFO \u001b[0m:      \n",
      "\u001b[92mINFO \u001b[0m:      [ROUND 2]\n",
      "\u001b[92mINFO \u001b[0m:      configure_fit: strategy sampled 10 clients (out of 100)\n",
      "\u001b[92mINFO \u001b[0m:      aggregate_fit: received 10 results and 0 failures\n",
      "\u001b[92mINFO \u001b[0m:      [Round 2] Avg Drift: 0.0005 | Relative Drift: 0.0000\n",
      "Eval progress: 100%|██████████| 313/313 [00:22<00:00, 13.91batch/s]\n",
      "\u001b[92mINFO \u001b[0m:      [Round 2] Centralized Evaluation - Loss: 1.0761, Metrics: {'centralized_accuracy': 0.6818}\n",
      "\u001b[92mINFO \u001b[0m:      fit progress: (2, 1.0760590961565986, {'centralized_accuracy': 0.6818}, 509.291086964)\n",
      "\u001b[92mINFO \u001b[0m:      configure_evaluate: strategy sampled 10 clients (out of 100)\n",
      "\u001b[92mINFO \u001b[0m:      aggregate_evaluate: received 10 results and 0 failures\n",
      "\u001b[92mINFO \u001b[0m:      \n",
      "\u001b[92mINFO \u001b[0m:      [ROUND 3]\n",
      "\u001b[92mINFO \u001b[0m:      configure_fit: strategy sampled 10 clients (out of 100)\n",
      "\u001b[92mINFO \u001b[0m:      aggregate_fit: received 10 results and 0 failures\n",
      "\u001b[92mINFO \u001b[0m:      [Round 3] Avg Drift: 0.0005 | Relative Drift: 0.0000\n",
      "Eval progress: 100%|██████████| 313/313 [00:22<00:00, 14.06batch/s]\n",
      "\u001b[92mINFO \u001b[0m:      [Round 3] Centralized Evaluation - Loss: 1.0222, Metrics: {'centralized_accuracy': 0.6956}\n",
      "\u001b[92mINFO \u001b[0m:      fit progress: (3, 1.0222348519407523, {'centralized_accuracy': 0.6956}, 818.355567376002)\n",
      "\u001b[92mINFO \u001b[0m:      configure_evaluate: strategy sampled 10 clients (out of 100)\n",
      "\u001b[92mINFO \u001b[0m:      aggregate_evaluate: received 10 results and 0 failures\n",
      "\u001b[92mINFO \u001b[0m:      \n",
      "\u001b[92mINFO \u001b[0m:      [ROUND 4]\n",
      "\u001b[92mINFO \u001b[0m:      configure_fit: strategy sampled 10 clients (out of 100)\n",
      "\u001b[92mINFO \u001b[0m:      aggregate_fit: received 10 results and 0 failures\n",
      "\u001b[92mINFO \u001b[0m:      [Round 4] Avg Drift: 0.0004 | Relative Drift: 0.0000\n",
      "Eval progress: 100%|██████████| 313/313 [00:22<00:00, 13.95batch/s]\n",
      "\u001b[92mINFO \u001b[0m:      [Round 4] Centralized Evaluation - Loss: 1.0033, Metrics: {'centralized_accuracy': 0.7008}\n",
      "\u001b[92mINFO \u001b[0m:      fit progress: (4, 1.003344283507655, {'centralized_accuracy': 0.7008}, 1039.1417370460003)\n",
      "\u001b[92mINFO \u001b[0m:      configure_evaluate: strategy sampled 10 clients (out of 100)\n",
      "\u001b[92mINFO \u001b[0m:      aggregate_evaluate: received 10 results and 0 failures\n",
      "\u001b[92mINFO \u001b[0m:      \n",
      "\u001b[92mINFO \u001b[0m:      [ROUND 5]\n",
      "\u001b[92mINFO \u001b[0m:      configure_fit: strategy sampled 10 clients (out of 100)\n",
      "\u001b[92mINFO \u001b[0m:      aggregate_fit: received 10 results and 0 failures\n",
      "\u001b[92mINFO \u001b[0m:      [Round 5] Avg Drift: 0.0005 | Relative Drift: 0.0000\n",
      "\u001b[92mINFO \u001b[0m:      [Round 5] Saving aggregated model at epoch 205...\n"
     ]
    },
    {
     "name": "stdout",
     "output_type": "stream",
     "text": [
      "💾 Saved checkpoint at: /home/massimiliano/Projects/fl-g13/models/fl/non-iid/GS/50_8_local_0.7_3/fl_grid_search_BaseDino_epoch_205.pth\n"
     ]
    },
    {
     "name": "stderr",
     "output_type": "stream",
     "text": [
      "Eval progress: 100%|██████████| 313/313 [00:22<00:00, 14.12batch/s]\n",
      "\u001b[92mINFO \u001b[0m:      [Round 5] Centralized Evaluation - Loss: 0.9877, Metrics: {'centralized_accuracy': 0.7041}\n",
      "\u001b[92mINFO \u001b[0m:      fit progress: (5, 0.9877372226014305, {'centralized_accuracy': 0.7041}, 1216.7092939639988)\n",
      "\u001b[92mINFO \u001b[0m:      configure_evaluate: strategy sampled 10 clients (out of 100)\n",
      "\u001b[92mINFO \u001b[0m:      aggregate_evaluate: received 10 results and 0 failures\n",
      "\u001b[92mINFO \u001b[0m:      \n",
      "\u001b[92mINFO \u001b[0m:      [SUMMARY]\n",
      "\u001b[92mINFO \u001b[0m:      Run finished 5 round(s) in 1273.73s\n",
      "\u001b[92mINFO \u001b[0m:      \tHistory (loss, distributed):\n",
      "\u001b[92mINFO \u001b[0m:      \t\tround 1: 1.0054560884833337\n",
      "\u001b[92mINFO \u001b[0m:      \t\tround 2: 1.1261728972196579\n",
      "\u001b[92mINFO \u001b[0m:      \t\tround 3: 1.030530634522438\n",
      "\u001b[92mINFO \u001b[0m:      \t\tround 4: 0.9578075021505356\n",
      "\u001b[92mINFO \u001b[0m:      \t\tround 5: 0.9481442555785179\n",
      "\u001b[92mINFO \u001b[0m:      \tHistory (loss, centralized):\n",
      "\u001b[92mINFO \u001b[0m:      \t\tround 0: 1.2865915678370112\n",
      "\u001b[92mINFO \u001b[0m:      \t\tround 1: 1.1107989846707913\n",
      "\u001b[92mINFO \u001b[0m:      \t\tround 2: 1.0760590961565986\n",
      "\u001b[92mINFO \u001b[0m:      \t\tround 3: 1.0222348519407523\n",
      "\u001b[92mINFO \u001b[0m:      \t\tround 4: 1.003344283507655\n",
      "\u001b[92mINFO \u001b[0m:      \t\tround 5: 0.9877372226014305\n",
      "\u001b[92mINFO \u001b[0m:      \tHistory (metrics, distributed, fit):\n",
      "\u001b[92mINFO \u001b[0m:      \t{'avg_drift': [(1, np.float32(0.0005358078)),\n",
      "\u001b[92mINFO \u001b[0m:      \t               (2, np.float32(0.0004631727)),\n",
      "\u001b[92mINFO \u001b[0m:      \t               (3, np.float32(0.00046639715)),\n",
      "\u001b[92mINFO \u001b[0m:      \t               (4, np.float32(0.0004387131)),\n",
      "\u001b[92mINFO \u001b[0m:      \t               (5, np.float32(0.00045182652))],\n",
      "\u001b[92mINFO \u001b[0m:      \t 'avg_train_loss': [(1, 1.001846381649375),\n",
      "\u001b[92mINFO \u001b[0m:      \t                    (2, 0.8580992512404919),\n",
      "\u001b[92mINFO \u001b[0m:      \t                    (3, 0.8827940378338098),\n",
      "\u001b[92mINFO \u001b[0m:      \t                    (4, 0.7769429314881563),\n",
      "\u001b[92mINFO \u001b[0m:      \t                    (5, 0.8220877312123775)],\n",
      "\u001b[92mINFO \u001b[0m:      \t 'relative_drift': [(1, np.float32(1.0323039e-06)),\n",
      "\u001b[92mINFO \u001b[0m:      \t                    (2, np.float32(8.9236283e-07)),\n",
      "\u001b[92mINFO \u001b[0m:      \t                    (3, np.float32(8.9857525e-07)),\n",
      "\u001b[92mINFO \u001b[0m:      \t                    (4, np.float32(8.452384e-07)),\n",
      "\u001b[92mINFO \u001b[0m:      \t                    (5, np.float32(8.7050313e-07))]}\n",
      "\u001b[92mINFO \u001b[0m:      \tHistory (metrics, distributed, evaluate):\n",
      "\u001b[92mINFO \u001b[0m:      \t{'decentralized_avg_eval_accuracy': [(1, 0.7),\n",
      "\u001b[92mINFO \u001b[0m:      \t                                     (2, 0.685),\n",
      "\u001b[92mINFO \u001b[0m:      \t                                     (3, 0.684),\n",
      "\u001b[92mINFO \u001b[0m:      \t                                     (4, 0.702),\n",
      "\u001b[92mINFO \u001b[0m:      \t                                     (5, 0.716)]}\n",
      "\u001b[92mINFO \u001b[0m:      \tHistory (metrics, centralized):\n",
      "\u001b[92mINFO \u001b[0m:      \t{'centralized_accuracy': [(0, 0.632),\n",
      "\u001b[92mINFO \u001b[0m:      \t                          (1, 0.6758),\n",
      "\u001b[92mINFO \u001b[0m:      \t                          (2, 0.6818),\n",
      "\u001b[92mINFO \u001b[0m:      \t                          (3, 0.6956),\n",
      "\u001b[92mINFO \u001b[0m:      \t                          (4, 0.7008),\n",
      "\u001b[92mINFO \u001b[0m:      \t                          (5, 0.7041)]}\n",
      "\u001b[92mINFO \u001b[0m:      \n"
     ]
    },
    {
     "data": {
      "text/html": [],
      "text/plain": [
       "<IPython.core.display.HTML object>"
      ]
     },
     "metadata": {},
     "output_type": "display_data"
    },
    {
     "data": {
      "text/html": [
       "<br>    <style><br>        .wandb-row {<br>            display: flex;<br>            flex-direction: row;<br>            flex-wrap: wrap;<br>            justify-content: flex-start;<br>            width: 100%;<br>        }<br>        .wandb-col {<br>            display: flex;<br>            flex-direction: column;<br>            flex-basis: 100%;<br>            flex: 1;<br>            padding: 10px;<br>        }<br>    </style><br><div class=\"wandb-row\"><div class=\"wandb-col\"><h3>Run history:</h3><br/><table class=\"wandb\"><tr><td>centralized_accuracy</td><td>▁▅▆▇██</td></tr><tr><td>centralized_eval_loss</td><td>█▄▃▂▁▁</td></tr><tr><td>decentralized_avg_eval_accuracy</td><td>▄▁▁▅█</td></tr><tr><td>decentralized_avg_eval_loss</td><td>▃█▄▁▁</td></tr><tr><td>decentralized_avg_train_accuracy</td><td>▁▆▄█▇</td></tr><tr><td>decentralized_avg_train_loss</td><td>█▄▄▁▂</td></tr></table><br/></div><div class=\"wandb-col\"><h3>Run summary:</h3><br/><table class=\"wandb\"><tr><td>centralized_accuracy</td><td>0.7041</td></tr><tr><td>centralized_eval_loss</td><td>0.98774</td></tr><tr><td>decentralized_avg_eval_accuracy</td><td>0.716</td></tr><tr><td>decentralized_avg_eval_loss</td><td>0.94814</td></tr><tr><td>decentralized_avg_train_accuracy</td><td>0.76034</td></tr><tr><td>decentralized_avg_train_loss</td><td>0.82209</td></tr></table><br/></div></div>"
      ],
      "text/plain": [
       "<IPython.core.display.HTML object>"
      ]
     },
     "metadata": {},
     "output_type": "display_data"
    },
    {
     "data": {
      "text/html": [
       " View run <strong style=\"color:#cdcd00\">fl_gs_50_8_local_0.7_3</strong> at: <a href='https://wandb.ai/stefano-gamba-social-politecnico-di-torino/fl_v5_50_8_grid_search/runs/fl_gs_50_8_local_0.7_3' target=\"_blank\">https://wandb.ai/stefano-gamba-social-politecnico-di-torino/fl_v5_50_8_grid_search/runs/fl_gs_50_8_local_0.7_3</a><br> View project at: <a href='https://wandb.ai/stefano-gamba-social-politecnico-di-torino/fl_v5_50_8_grid_search' target=\"_blank\">https://wandb.ai/stefano-gamba-social-politecnico-di-torino/fl_v5_50_8_grid_search</a><br>Synced 5 W&B file(s), 0 media file(s), 0 artifact file(s) and 0 other file(s)"
      ],
      "text/plain": [
       "<IPython.core.display.HTML object>"
      ]
     },
     "metadata": {},
     "output_type": "display_data"
    },
    {
     "data": {
      "text/html": [
       "Find logs at: <code>./wandb/run-20250627_135142-fl_gs_50_8_local_0.7_3/logs</code>"
      ],
      "text/plain": [
       "<IPython.core.display.HTML object>"
      ]
     },
     "metadata": {},
     "output_type": "display_data"
    },
    {
     "name": "stdout",
     "output_type": "stream",
     "text": [
      "--------------------------------------------------------------------------------------------------------------------------------------------------------------------------------------------------------\n",
      " Nc=50, J=8, mask_type=local, sparsity=0.8, mask_calibration_round=3\n",
      "\n"
     ]
    },
    {
     "name": "stderr",
     "output_type": "stream",
     "text": [
      "Using cache found in /home/massimiliano/.cache/torch/hub/facebookresearch_dino_main\n",
      "Using cache found in /home/massimiliano/.cache/torch/hub/facebookresearch_dino_main\n"
     ]
    },
    {
     "name": "stdout",
     "output_type": "stream",
     "text": [
      "✅ Loaded checkpoint from /home/massimiliano/Projects/fl-g13/models/fl/non-iid/50_8/fl_fl_baseline_BaseDino_epoch_200.pth, resuming at epoch 201\n",
      "Using strategy 'CustomFedAvg' (default option)\n"
     ]
    },
    {
     "name": "stderr",
     "output_type": "stream",
     "text": [
      "/home/massimiliano/miniconda3/envs/fl-g13/lib/python3.11/site-packages/wandb/analytics/sentry.py:259: DeprecationWarning: The `Scope.user` setter is deprecated in favor of `Scope.set_user()`.\n",
      "  self.scope.user = {\"email\": email}  # noqa\n",
      "/home/massimiliano/miniconda3/envs/fl-g13/lib/python3.11/site-packages/wandb/analytics/sentry.py:259: DeprecationWarning: The `Scope.user` setter is deprecated in favor of `Scope.set_user()`.\n",
      "  self.scope.user = {\"email\": email}  # noqa\n"
     ]
    },
    {
     "data": {
      "text/html": [
       "Tracking run with wandb version 0.19.9"
      ],
      "text/plain": [
       "<IPython.core.display.HTML object>"
      ]
     },
     "metadata": {},
     "output_type": "display_data"
    },
    {
     "data": {
      "text/html": [
       "Run data is saved locally in <code>/home/massimiliano/Projects/fl-g13/notebooks/wandb/run-20250627_141324-fl_gs_50_8_local_0.8_3</code>"
      ],
      "text/plain": [
       "<IPython.core.display.HTML object>"
      ]
     },
     "metadata": {},
     "output_type": "display_data"
    },
    {
     "data": {
      "text/html": [
       "Syncing run <strong><a href='https://wandb.ai/stefano-gamba-social-politecnico-di-torino/fl_v5_50_8_grid_search/runs/fl_gs_50_8_local_0.8_3' target=\"_blank\">fl_gs_50_8_local_0.8_3</a></strong> to <a href='https://wandb.ai/stefano-gamba-social-politecnico-di-torino/fl_v5_50_8_grid_search' target=\"_blank\">Weights & Biases</a> (<a href='https://wandb.me/developer-guide' target=\"_blank\">docs</a>)<br>"
      ],
      "text/plain": [
       "<IPython.core.display.HTML object>"
      ]
     },
     "metadata": {},
     "output_type": "display_data"
    },
    {
     "data": {
      "text/html": [
       " View project at <a href='https://wandb.ai/stefano-gamba-social-politecnico-di-torino/fl_v5_50_8_grid_search' target=\"_blank\">https://wandb.ai/stefano-gamba-social-politecnico-di-torino/fl_v5_50_8_grid_search</a>"
      ],
      "text/plain": [
       "<IPython.core.display.HTML object>"
      ]
     },
     "metadata": {},
     "output_type": "display_data"
    },
    {
     "data": {
      "text/html": [
       " View run at <a href='https://wandb.ai/stefano-gamba-social-politecnico-di-torino/fl_v5_50_8_grid_search/runs/fl_gs_50_8_local_0.8_3' target=\"_blank\">https://wandb.ai/stefano-gamba-social-politecnico-di-torino/fl_v5_50_8_grid_search/runs/fl_gs_50_8_local_0.8_3</a>"
      ],
      "text/plain": [
       "<IPython.core.display.HTML object>"
      ]
     },
     "metadata": {},
     "output_type": "display_data"
    },
    {
     "name": "stderr",
     "output_type": "stream",
     "text": [
      "\u001b[92mINFO \u001b[0m:      Starting Flower ServerApp, config: num_rounds=5, no round_timeout\n",
      "\u001b[92mINFO \u001b[0m:      \n",
      "\u001b[92mINFO \u001b[0m:      [INIT]\n",
      "\u001b[92mINFO \u001b[0m:      Using initial global parameters provided by strategy\n",
      "\u001b[92mINFO \u001b[0m:      Starting evaluation of initial global parameters\n",
      "Eval progress: 100%|██████████| 313/313 [00:23<00:00, 13.38batch/s]\n",
      "\u001b[92mINFO \u001b[0m:      [Round 0] Centralized Evaluation - Loss: 1.2866, Metrics: {'centralized_accuracy': 0.632}\n",
      "\u001b[92mINFO \u001b[0m:      initial parameters (loss, other metrics): 1.2865915678370112, {'centralized_accuracy': 0.632}\n",
      "\u001b[92mINFO \u001b[0m:      \n",
      "\u001b[92mINFO \u001b[0m:      [ROUND 1]\n",
      "\u001b[92mINFO \u001b[0m:      configure_fit: strategy sampled 10 clients (out of 100)\n",
      "\u001b[36m(ClientAppActor pid=98215)\u001b[0m 2025-06-27 14:13:50.298 | INFO     | fl_g13.config:<module>:11 - PROJ_ROOT path is: /home/massimiliano/Projects/fl-g13\n",
      "\u001b[92mINFO \u001b[0m:      aggregate_fit: received 10 results and 0 failures\n",
      "\u001b[92mINFO \u001b[0m:      [Round 1] Avg Drift: 0.0004 | Relative Drift: 0.0000\n",
      "Eval progress: 100%|██████████| 313/313 [00:22<00:00, 13.89batch/s]\n",
      "\u001b[92mINFO \u001b[0m:      [Round 1] Centralized Evaluation - Loss: 1.1375, Metrics: {'centralized_accuracy': 0.6711}\n",
      "\u001b[92mINFO \u001b[0m:      fit progress: (1, 1.137492510076529, {'centralized_accuracy': 0.6711}, 218.77300508999906)\n",
      "\u001b[92mINFO \u001b[0m:      configure_evaluate: strategy sampled 10 clients (out of 100)\n",
      "\u001b[92mINFO \u001b[0m:      aggregate_evaluate: received 10 results and 0 failures\n",
      "\u001b[92mINFO \u001b[0m:      \n",
      "\u001b[92mINFO \u001b[0m:      [ROUND 2]\n",
      "\u001b[92mINFO \u001b[0m:      configure_fit: strategy sampled 10 clients (out of 100)\n",
      "\u001b[92mINFO \u001b[0m:      aggregate_fit: received 10 results and 0 failures\n",
      "\u001b[92mINFO \u001b[0m:      [Round 2] Avg Drift: 0.0004 | Relative Drift: 0.0000\n",
      "Eval progress: 100%|██████████| 313/313 [00:22<00:00, 13.94batch/s]\n",
      "\u001b[92mINFO \u001b[0m:      [Round 2] Centralized Evaluation - Loss: 1.1002, Metrics: {'centralized_accuracy': 0.6762}\n",
      "\u001b[92mINFO \u001b[0m:      fit progress: (2, 1.1002467949740804, {'centralized_accuracy': 0.6762}, 570.4350327760003)\n",
      "\u001b[92mINFO \u001b[0m:      configure_evaluate: strategy sampled 10 clients (out of 100)\n",
      "\u001b[92mINFO \u001b[0m:      aggregate_evaluate: received 10 results and 0 failures\n",
      "\u001b[92mINFO \u001b[0m:      \n",
      "\u001b[92mINFO \u001b[0m:      [ROUND 3]\n",
      "\u001b[92mINFO \u001b[0m:      configure_fit: strategy sampled 10 clients (out of 100)\n",
      "\u001b[92mINFO \u001b[0m:      aggregate_fit: received 10 results and 0 failures\n",
      "\u001b[92mINFO \u001b[0m:      [Round 3] Avg Drift: 0.0004 | Relative Drift: 0.0000\n",
      "Eval progress: 100%|██████████| 313/313 [00:22<00:00, 14.22batch/s]\n",
      "\u001b[92mINFO \u001b[0m:      [Round 3] Centralized Evaluation - Loss: 1.0685, Metrics: {'centralized_accuracy': 0.6852}\n",
      "\u001b[92mINFO \u001b[0m:      fit progress: (3, 1.0685095360484749, {'centralized_accuracy': 0.6852}, 814.6083426369987)\n",
      "\u001b[92mINFO \u001b[0m:      configure_evaluate: strategy sampled 10 clients (out of 100)\n",
      "\u001b[92mINFO \u001b[0m:      aggregate_evaluate: received 10 results and 0 failures\n",
      "\u001b[92mINFO \u001b[0m:      \n",
      "\u001b[92mINFO \u001b[0m:      [ROUND 4]\n",
      "\u001b[92mINFO \u001b[0m:      configure_fit: strategy sampled 10 clients (out of 100)\n",
      "\u001b[92mINFO \u001b[0m:      aggregate_fit: received 10 results and 0 failures\n",
      "\u001b[92mINFO \u001b[0m:      [Round 4] Avg Drift: 0.0003 | Relative Drift: 0.0000\n",
      "Eval progress: 100%|██████████| 313/313 [00:21<00:00, 14.35batch/s]\n",
      "\u001b[92mINFO \u001b[0m:      [Round 4] Centralized Evaluation - Loss: 1.0416, Metrics: {'centralized_accuracy': 0.6889}\n",
      "\u001b[92mINFO \u001b[0m:      fit progress: (4, 1.0416430419626328, {'centralized_accuracy': 0.6889}, 1043.6248171219995)\n",
      "\u001b[92mINFO \u001b[0m:      configure_evaluate: strategy sampled 10 clients (out of 100)\n",
      "\u001b[92mINFO \u001b[0m:      aggregate_evaluate: received 10 results and 0 failures\n",
      "\u001b[92mINFO \u001b[0m:      \n",
      "\u001b[92mINFO \u001b[0m:      [ROUND 5]\n",
      "\u001b[92mINFO \u001b[0m:      configure_fit: strategy sampled 10 clients (out of 100)\n",
      "\u001b[92mINFO \u001b[0m:      aggregate_fit: received 10 results and 0 failures\n",
      "\u001b[92mINFO \u001b[0m:      [Round 5] Avg Drift: 0.0003 | Relative Drift: 0.0000\n",
      "\u001b[92mINFO \u001b[0m:      [Round 5] Saving aggregated model at epoch 205...\n"
     ]
    },
    {
     "name": "stdout",
     "output_type": "stream",
     "text": [
      "💾 Saved checkpoint at: /home/massimiliano/Projects/fl-g13/models/fl/non-iid/GS/50_8_local_0.8_3/fl_grid_search_BaseDino_epoch_205.pth\n"
     ]
    },
    {
     "name": "stderr",
     "output_type": "stream",
     "text": [
      "Eval progress: 100%|██████████| 313/313 [00:22<00:00, 14.11batch/s]\n",
      "\u001b[92mINFO \u001b[0m:      [Round 5] Centralized Evaluation - Loss: 1.0263, Metrics: {'centralized_accuracy': 0.693}\n",
      "\u001b[92mINFO \u001b[0m:      fit progress: (5, 1.0262677758075178, {'centralized_accuracy': 0.693}, 1232.4146161799981)\n",
      "\u001b[92mINFO \u001b[0m:      configure_evaluate: strategy sampled 10 clients (out of 100)\n",
      "\u001b[92mINFO \u001b[0m:      aggregate_evaluate: received 10 results and 0 failures\n",
      "\u001b[92mINFO \u001b[0m:      \n",
      "\u001b[92mINFO \u001b[0m:      [SUMMARY]\n",
      "\u001b[92mINFO \u001b[0m:      Run finished 5 round(s) in 1331.08s\n",
      "\u001b[92mINFO \u001b[0m:      \tHistory (loss, distributed):\n",
      "\u001b[92mINFO \u001b[0m:      \t\tround 1: 1.1143475323915482\n",
      "\u001b[92mINFO \u001b[0m:      \t\tround 2: 1.0075858861207962\n",
      "\u001b[92mINFO \u001b[0m:      \t\tround 3: 1.077844649553299\n",
      "\u001b[92mINFO \u001b[0m:      \t\tround 4: 1.0581083327531815\n",
      "\u001b[92mINFO \u001b[0m:      \t\tround 5: 1.0507138788700103\n",
      "\u001b[92mINFO \u001b[0m:      \tHistory (loss, centralized):\n",
      "\u001b[92mINFO \u001b[0m:      \t\tround 0: 1.2865915678370112\n",
      "\u001b[92mINFO \u001b[0m:      \t\tround 1: 1.137492510076529\n",
      "\u001b[92mINFO \u001b[0m:      \t\tround 2: 1.1002467949740804\n",
      "\u001b[92mINFO \u001b[0m:      \t\tround 3: 1.0685095360484749\n",
      "\u001b[92mINFO \u001b[0m:      \t\tround 4: 1.0416430419626328\n",
      "\u001b[92mINFO \u001b[0m:      \t\tround 5: 1.0262677758075178\n",
      "\u001b[92mINFO \u001b[0m:      \tHistory (metrics, distributed, fit):\n",
      "\u001b[92mINFO \u001b[0m:      \t{'avg_drift': [(1, np.float32(0.00039144672)),\n",
      "\u001b[92mINFO \u001b[0m:      \t               (2, np.float32(0.000366593)),\n",
      "\u001b[92mINFO \u001b[0m:      \t               (3, np.float32(0.00035417223)),\n",
      "\u001b[92mINFO \u001b[0m:      \t               (4, np.float32(0.00034517676)),\n",
      "\u001b[92mINFO \u001b[0m:      \t               (5, np.float32(0.00034827535))],\n",
      "\u001b[92mINFO \u001b[0m:      \t 'avg_train_loss': [(1, 0.9582949001342058),\n",
      "\u001b[92mINFO \u001b[0m:      \t                    (2, 0.9178945485502481),\n",
      "\u001b[92mINFO \u001b[0m:      \t                    (3, 0.9417690861970186),\n",
      "\u001b[92mINFO \u001b[0m:      \t                    (4, 0.8826088964939117),\n",
      "\u001b[92mINFO \u001b[0m:      \t                    (5, 0.9116827242076397)],\n",
      "\u001b[92mINFO \u001b[0m:      \t 'relative_drift': [(1, np.float32(7.5417336e-07)),\n",
      "\u001b[92mINFO \u001b[0m:      \t                    (2, np.float32(7.0628954e-07)),\n",
      "\u001b[92mINFO \u001b[0m:      \t                    (3, np.float32(6.823593e-07)),\n",
      "\u001b[92mINFO \u001b[0m:      \t                    (4, np.float32(6.650284e-07)),\n",
      "\u001b[92mINFO \u001b[0m:      \t                    (5, np.float32(6.709983e-07))]}\n",
      "\u001b[92mINFO \u001b[0m:      \tHistory (metrics, distributed, evaluate):\n",
      "\u001b[92mINFO \u001b[0m:      \t{'decentralized_avg_eval_accuracy': [(1, 0.674),\n",
      "\u001b[92mINFO \u001b[0m:      \t                                     (2, 0.7),\n",
      "\u001b[92mINFO \u001b[0m:      \t                                     (3, 0.689),\n",
      "\u001b[92mINFO \u001b[0m:      \t                                     (4, 0.675),\n",
      "\u001b[92mINFO \u001b[0m:      \t                                     (5, 0.676)]}\n",
      "\u001b[92mINFO \u001b[0m:      \tHistory (metrics, centralized):\n",
      "\u001b[92mINFO \u001b[0m:      \t{'centralized_accuracy': [(0, 0.632),\n",
      "\u001b[92mINFO \u001b[0m:      \t                          (1, 0.6711),\n",
      "\u001b[92mINFO \u001b[0m:      \t                          (2, 0.6762),\n",
      "\u001b[92mINFO \u001b[0m:      \t                          (3, 0.6852),\n",
      "\u001b[92mINFO \u001b[0m:      \t                          (4, 0.6889),\n",
      "\u001b[92mINFO \u001b[0m:      \t                          (5, 0.693)]}\n",
      "\u001b[92mINFO \u001b[0m:      \n"
     ]
    },
    {
     "data": {
      "text/html": [],
      "text/plain": [
       "<IPython.core.display.HTML object>"
      ]
     },
     "metadata": {},
     "output_type": "display_data"
    },
    {
     "data": {
      "text/html": [
       "<br>    <style><br>        .wandb-row {<br>            display: flex;<br>            flex-direction: row;<br>            flex-wrap: wrap;<br>            justify-content: flex-start;<br>            width: 100%;<br>        }<br>        .wandb-col {<br>            display: flex;<br>            flex-direction: column;<br>            flex-basis: 100%;<br>            flex: 1;<br>            padding: 10px;<br>        }<br>    </style><br><div class=\"wandb-row\"><div class=\"wandb-col\"><h3>Run history:</h3><br/><table class=\"wandb\"><tr><td>centralized_accuracy</td><td>▁▅▆▇██</td></tr><tr><td>centralized_eval_loss</td><td>█▄▃▂▁▁</td></tr><tr><td>decentralized_avg_eval_accuracy</td><td>▁█▅▁▂</td></tr><tr><td>decentralized_avg_eval_loss</td><td>█▁▆▄▄</td></tr><tr><td>decentralized_avg_train_accuracy</td><td>▁▃▂█▄</td></tr><tr><td>decentralized_avg_train_loss</td><td>█▄▆▁▄</td></tr></table><br/></div><div class=\"wandb-col\"><h3>Run summary:</h3><br/><table class=\"wandb\"><tr><td>centralized_accuracy</td><td>0.693</td></tr><tr><td>centralized_eval_loss</td><td>1.02627</td></tr><tr><td>decentralized_avg_eval_accuracy</td><td>0.676</td></tr><tr><td>decentralized_avg_eval_loss</td><td>1.05071</td></tr><tr><td>decentralized_avg_train_accuracy</td><td>0.73103</td></tr><tr><td>decentralized_avg_train_loss</td><td>0.91168</td></tr></table><br/></div></div>"
      ],
      "text/plain": [
       "<IPython.core.display.HTML object>"
      ]
     },
     "metadata": {},
     "output_type": "display_data"
    },
    {
     "data": {
      "text/html": [
       " View run <strong style=\"color:#cdcd00\">fl_gs_50_8_local_0.8_3</strong> at: <a href='https://wandb.ai/stefano-gamba-social-politecnico-di-torino/fl_v5_50_8_grid_search/runs/fl_gs_50_8_local_0.8_3' target=\"_blank\">https://wandb.ai/stefano-gamba-social-politecnico-di-torino/fl_v5_50_8_grid_search/runs/fl_gs_50_8_local_0.8_3</a><br> View project at: <a href='https://wandb.ai/stefano-gamba-social-politecnico-di-torino/fl_v5_50_8_grid_search' target=\"_blank\">https://wandb.ai/stefano-gamba-social-politecnico-di-torino/fl_v5_50_8_grid_search</a><br>Synced 5 W&B file(s), 0 media file(s), 0 artifact file(s) and 0 other file(s)"
      ],
      "text/plain": [
       "<IPython.core.display.HTML object>"
      ]
     },
     "metadata": {},
     "output_type": "display_data"
    },
    {
     "data": {
      "text/html": [
       "Find logs at: <code>./wandb/run-20250627_141324-fl_gs_50_8_local_0.8_3/logs</code>"
      ],
      "text/plain": [
       "<IPython.core.display.HTML object>"
      ]
     },
     "metadata": {},
     "output_type": "display_data"
    },
    {
     "name": "stdout",
     "output_type": "stream",
     "text": [
      "--------------------------------------------------------------------------------------------------------------------------------------------------------------------------------------------------------\n",
      " Nc=50, J=8, mask_type=local, sparsity=0.9, mask_calibration_round=3\n",
      "\n"
     ]
    },
    {
     "name": "stderr",
     "output_type": "stream",
     "text": [
      "Using cache found in /home/massimiliano/.cache/torch/hub/facebookresearch_dino_main\n",
      "Using cache found in /home/massimiliano/.cache/torch/hub/facebookresearch_dino_main\n"
     ]
    },
    {
     "name": "stdout",
     "output_type": "stream",
     "text": [
      "✅ Loaded checkpoint from /home/massimiliano/Projects/fl-g13/models/fl/non-iid/50_8/fl_fl_baseline_BaseDino_epoch_200.pth, resuming at epoch 201\n",
      "Using strategy 'CustomFedAvg' (default option)\n"
     ]
    },
    {
     "name": "stderr",
     "output_type": "stream",
     "text": [
      "/home/massimiliano/miniconda3/envs/fl-g13/lib/python3.11/site-packages/wandb/analytics/sentry.py:259: DeprecationWarning: The `Scope.user` setter is deprecated in favor of `Scope.set_user()`.\n",
      "  self.scope.user = {\"email\": email}  # noqa\n",
      "/home/massimiliano/miniconda3/envs/fl-g13/lib/python3.11/site-packages/wandb/analytics/sentry.py:259: DeprecationWarning: The `Scope.user` setter is deprecated in favor of `Scope.set_user()`.\n",
      "  self.scope.user = {\"email\": email}  # noqa\n"
     ]
    },
    {
     "data": {
      "text/html": [
       "Tracking run with wandb version 0.19.9"
      ],
      "text/plain": [
       "<IPython.core.display.HTML object>"
      ]
     },
     "metadata": {},
     "output_type": "display_data"
    },
    {
     "data": {
      "text/html": [
       "Run data is saved locally in <code>/home/massimiliano/Projects/fl-g13/notebooks/wandb/run-20250627_143604-fl_gs_50_8_local_0.9_3</code>"
      ],
      "text/plain": [
       "<IPython.core.display.HTML object>"
      ]
     },
     "metadata": {},
     "output_type": "display_data"
    },
    {
     "data": {
      "text/html": [
       "Syncing run <strong><a href='https://wandb.ai/stefano-gamba-social-politecnico-di-torino/fl_v5_50_8_grid_search/runs/fl_gs_50_8_local_0.9_3' target=\"_blank\">fl_gs_50_8_local_0.9_3</a></strong> to <a href='https://wandb.ai/stefano-gamba-social-politecnico-di-torino/fl_v5_50_8_grid_search' target=\"_blank\">Weights & Biases</a> (<a href='https://wandb.me/developer-guide' target=\"_blank\">docs</a>)<br>"
      ],
      "text/plain": [
       "<IPython.core.display.HTML object>"
      ]
     },
     "metadata": {},
     "output_type": "display_data"
    },
    {
     "data": {
      "text/html": [
       " View project at <a href='https://wandb.ai/stefano-gamba-social-politecnico-di-torino/fl_v5_50_8_grid_search' target=\"_blank\">https://wandb.ai/stefano-gamba-social-politecnico-di-torino/fl_v5_50_8_grid_search</a>"
      ],
      "text/plain": [
       "<IPython.core.display.HTML object>"
      ]
     },
     "metadata": {},
     "output_type": "display_data"
    },
    {
     "data": {
      "text/html": [
       " View run at <a href='https://wandb.ai/stefano-gamba-social-politecnico-di-torino/fl_v5_50_8_grid_search/runs/fl_gs_50_8_local_0.9_3' target=\"_blank\">https://wandb.ai/stefano-gamba-social-politecnico-di-torino/fl_v5_50_8_grid_search/runs/fl_gs_50_8_local_0.9_3</a>"
      ],
      "text/plain": [
       "<IPython.core.display.HTML object>"
      ]
     },
     "metadata": {},
     "output_type": "display_data"
    },
    {
     "name": "stderr",
     "output_type": "stream",
     "text": [
      "\u001b[92mINFO \u001b[0m:      Starting Flower ServerApp, config: num_rounds=5, no round_timeout\n",
      "\u001b[92mINFO \u001b[0m:      \n",
      "\u001b[92mINFO \u001b[0m:      [INIT]\n",
      "\u001b[92mINFO \u001b[0m:      Using initial global parameters provided by strategy\n",
      "\u001b[92mINFO \u001b[0m:      Starting evaluation of initial global parameters\n",
      "Eval progress: 100%|██████████| 313/313 [00:24<00:00, 12.98batch/s]\n",
      "\u001b[92mINFO \u001b[0m:      [Round 0] Centralized Evaluation - Loss: 1.2866, Metrics: {'centralized_accuracy': 0.632}\n",
      "\u001b[92mINFO \u001b[0m:      initial parameters (loss, other metrics): 1.2865915678370112, {'centralized_accuracy': 0.632}\n",
      "\u001b[92mINFO \u001b[0m:      \n",
      "\u001b[92mINFO \u001b[0m:      [ROUND 1]\n",
      "\u001b[92mINFO \u001b[0m:      configure_fit: strategy sampled 10 clients (out of 100)\n",
      "\u001b[36m(ClientAppActor pid=104250)\u001b[0m 2025-06-27 14:36:30.979 | INFO     | fl_g13.config:<module>:11 - PROJ_ROOT path is: /home/massimiliano/Projects/fl-g13\n",
      "\u001b[92mINFO \u001b[0m:      aggregate_fit: received 10 results and 0 failures\n",
      "\u001b[92mINFO \u001b[0m:      [Round 1] Avg Drift: 0.0003 | Relative Drift: 0.0000\n",
      "Eval progress: 100%|██████████| 313/313 [00:22<00:00, 14.14batch/s]\n",
      "\u001b[92mINFO \u001b[0m:      [Round 1] Centralized Evaluation - Loss: 1.1869, Metrics: {'centralized_accuracy': 0.6504}\n",
      "\u001b[92mINFO \u001b[0m:      fit progress: (1, 1.1868515544044325, {'centralized_accuracy': 0.6504}, 211.74041900999873)\n",
      "\u001b[92mINFO \u001b[0m:      configure_evaluate: strategy sampled 10 clients (out of 100)\n",
      "\u001b[92mINFO \u001b[0m:      aggregate_evaluate: received 10 results and 0 failures\n",
      "\u001b[92mINFO \u001b[0m:      \n",
      "\u001b[92mINFO \u001b[0m:      [ROUND 2]\n",
      "\u001b[92mINFO \u001b[0m:      configure_fit: strategy sampled 10 clients (out of 100)\n",
      "\u001b[92mINFO \u001b[0m:      aggregate_fit: received 10 results and 0 failures\n",
      "\u001b[92mINFO \u001b[0m:      [Round 2] Avg Drift: 0.0003 | Relative Drift: 0.0000\n",
      "Eval progress: 100%|██████████| 313/313 [00:22<00:00, 14.15batch/s]\n",
      "\u001b[92mINFO \u001b[0m:      [Round 2] Centralized Evaluation - Loss: 1.1454, Metrics: {'centralized_accuracy': 0.6648}\n",
      "\u001b[92mINFO \u001b[0m:      fit progress: (2, 1.1453916700884177, {'centralized_accuracy': 0.6648}, 529.4885457109995)\n",
      "\u001b[92mINFO \u001b[0m:      configure_evaluate: strategy sampled 10 clients (out of 100)\n",
      "\u001b[92mINFO \u001b[0m:      aggregate_evaluate: received 10 results and 0 failures\n",
      "\u001b[92mINFO \u001b[0m:      \n",
      "\u001b[92mINFO \u001b[0m:      [ROUND 3]\n",
      "\u001b[92mINFO \u001b[0m:      configure_fit: strategy sampled 10 clients (out of 100)\n",
      "\u001b[92mINFO \u001b[0m:      aggregate_fit: received 10 results and 0 failures\n",
      "\u001b[92mINFO \u001b[0m:      [Round 3] Avg Drift: 0.0002 | Relative Drift: 0.0000\n",
      "Eval progress: 100%|██████████| 313/313 [00:21<00:00, 14.50batch/s]\n",
      "\u001b[92mINFO \u001b[0m:      [Round 3] Centralized Evaluation - Loss: 1.1200, Metrics: {'centralized_accuracy': 0.6719}\n",
      "\u001b[92mINFO \u001b[0m:      fit progress: (3, 1.1199527010559656, {'centralized_accuracy': 0.6719}, 785.1204605560015)\n",
      "\u001b[92mINFO \u001b[0m:      configure_evaluate: strategy sampled 10 clients (out of 100)\n",
      "\u001b[92mINFO \u001b[0m:      aggregate_evaluate: received 10 results and 0 failures\n",
      "\u001b[92mINFO \u001b[0m:      \n",
      "\u001b[92mINFO \u001b[0m:      [ROUND 4]\n",
      "\u001b[92mINFO \u001b[0m:      configure_fit: strategy sampled 10 clients (out of 100)\n",
      "\u001b[92mINFO \u001b[0m:      aggregate_fit: received 10 results and 0 failures\n",
      "\u001b[92mINFO \u001b[0m:      [Round 4] Avg Drift: 0.0002 | Relative Drift: 0.0000\n",
      "Eval progress: 100%|██████████| 313/313 [00:22<00:00, 14.13batch/s]\n",
      "\u001b[92mINFO \u001b[0m:      [Round 4] Centralized Evaluation - Loss: 1.1023, Metrics: {'centralized_accuracy': 0.6761}\n",
      "\u001b[92mINFO \u001b[0m:      fit progress: (4, 1.1022757143258286, {'centralized_accuracy': 0.6761}, 1012.5661023739995)\n",
      "\u001b[92mINFO \u001b[0m:      configure_evaluate: strategy sampled 10 clients (out of 100)\n",
      "\u001b[92mINFO \u001b[0m:      aggregate_evaluate: received 10 results and 0 failures\n",
      "\u001b[92mINFO \u001b[0m:      \n",
      "\u001b[92mINFO \u001b[0m:      [ROUND 5]\n",
      "\u001b[92mINFO \u001b[0m:      configure_fit: strategy sampled 10 clients (out of 100)\n",
      "\u001b[92mINFO \u001b[0m:      aggregate_fit: received 10 results and 0 failures\n",
      "\u001b[92mINFO \u001b[0m:      [Round 5] Avg Drift: 0.0002 | Relative Drift: 0.0000\n",
      "\u001b[92mINFO \u001b[0m:      [Round 5] Saving aggregated model at epoch 205...\n"
     ]
    },
    {
     "name": "stdout",
     "output_type": "stream",
     "text": [
      "💾 Saved checkpoint at: /home/massimiliano/Projects/fl-g13/models/fl/non-iid/GS/50_8_local_0.9_3/fl_grid_search_BaseDino_epoch_205.pth\n"
     ]
    },
    {
     "name": "stderr",
     "output_type": "stream",
     "text": [
      "Eval progress: 100%|██████████| 313/313 [00:22<00:00, 14.09batch/s]\n",
      "\u001b[92mINFO \u001b[0m:      [Round 5] Centralized Evaluation - Loss: 1.0930, Metrics: {'centralized_accuracy': 0.6751}\n",
      "\u001b[92mINFO \u001b[0m:      fit progress: (5, 1.092980532695691, {'centralized_accuracy': 0.6751}, 1229.757547139001)\n",
      "\u001b[92mINFO \u001b[0m:      configure_evaluate: strategy sampled 10 clients (out of 100)\n",
      "\u001b[92mINFO \u001b[0m:      aggregate_evaluate: received 10 results and 0 failures\n",
      "\u001b[92mINFO \u001b[0m:      \n",
      "\u001b[92mINFO \u001b[0m:      [SUMMARY]\n",
      "\u001b[92mINFO \u001b[0m:      Run finished 5 round(s) in 1312.37s\n",
      "\u001b[92mINFO \u001b[0m:      \tHistory (loss, distributed):\n",
      "\u001b[92mINFO \u001b[0m:      \t\tround 1: 1.2304796904325486\n",
      "\u001b[92mINFO \u001b[0m:      \t\tround 2: 1.1443586885929107\n",
      "\u001b[92mINFO \u001b[0m:      \t\tround 3: 1.2230026751756669\n",
      "\u001b[92mINFO \u001b[0m:      \t\tround 4: 1.123086079955101\n",
      "\u001b[92mINFO \u001b[0m:      \t\tround 5: 1.0702573090791703\n",
      "\u001b[92mINFO \u001b[0m:      \tHistory (loss, centralized):\n",
      "\u001b[92mINFO \u001b[0m:      \t\tround 0: 1.2865915678370112\n",
      "\u001b[92mINFO \u001b[0m:      \t\tround 1: 1.1868515544044325\n",
      "\u001b[92mINFO \u001b[0m:      \t\tround 2: 1.1453916700884177\n",
      "\u001b[92mINFO \u001b[0m:      \t\tround 3: 1.1199527010559656\n",
      "\u001b[92mINFO \u001b[0m:      \t\tround 4: 1.1022757143258286\n",
      "\u001b[92mINFO \u001b[0m:      \t\tround 5: 1.092980532695691\n",
      "\u001b[92mINFO \u001b[0m:      \tHistory (metrics, distributed, fit):\n",
      "\u001b[92mINFO \u001b[0m:      \t{'avg_drift': [(1, np.float32(0.00028929958)),\n",
      "\u001b[92mINFO \u001b[0m:      \t               (2, np.float32(0.00025696028)),\n",
      "\u001b[92mINFO \u001b[0m:      \t               (3, np.float32(0.00024680342)),\n",
      "\u001b[92mINFO \u001b[0m:      \t               (4, np.float32(0.00024140118)),\n",
      "\u001b[92mINFO \u001b[0m:      \t               (5, np.float32(0.00023771885))],\n",
      "\u001b[92mINFO \u001b[0m:      \t 'avg_train_loss': [(1, 1.095457135885954),\n",
      "\u001b[92mINFO \u001b[0m:      \t                    (2, 0.9795981276780367),\n",
      "\u001b[92mINFO \u001b[0m:      \t                    (3, 0.9584971975535155),\n",
      "\u001b[92mINFO \u001b[0m:      \t                    (4, 0.9518197156488896),\n",
      "\u001b[92mINFO \u001b[0m:      \t                    (5, 0.9092168390750885)],\n",
      "\u001b[92mINFO \u001b[0m:      \t 'relative_drift': [(1, np.float32(5.5737354e-07)),\n",
      "\u001b[92mINFO \u001b[0m:      \t                    (2, np.float32(4.9506764e-07)),\n",
      "\u001b[92mINFO \u001b[0m:      \t                    (3, np.float32(4.7549915e-07)),\n",
      "\u001b[92mINFO \u001b[0m:      \t                    (4, np.float32(4.6509103e-07)),\n",
      "\u001b[92mINFO \u001b[0m:      \t                    (5, np.float32(4.579966e-07))]}\n",
      "\u001b[92mINFO \u001b[0m:      \tHistory (metrics, distributed, evaluate):\n",
      "\u001b[92mINFO \u001b[0m:      \t{'decentralized_avg_eval_accuracy': [(1, 0.645),\n",
      "\u001b[92mINFO \u001b[0m:      \t                                     (2, 0.67),\n",
      "\u001b[92mINFO \u001b[0m:      \t                                     (3, 0.646),\n",
      "\u001b[92mINFO \u001b[0m:      \t                                     (4, 0.671),\n",
      "\u001b[92mINFO \u001b[0m:      \t                                     (5, 0.686)]}\n",
      "\u001b[92mINFO \u001b[0m:      \tHistory (metrics, centralized):\n",
      "\u001b[92mINFO \u001b[0m:      \t{'centralized_accuracy': [(0, 0.632),\n",
      "\u001b[92mINFO \u001b[0m:      \t                          (1, 0.6504),\n",
      "\u001b[92mINFO \u001b[0m:      \t                          (2, 0.6648),\n",
      "\u001b[92mINFO \u001b[0m:      \t                          (3, 0.6719),\n",
      "\u001b[92mINFO \u001b[0m:      \t                          (4, 0.6761),\n",
      "\u001b[92mINFO \u001b[0m:      \t                          (5, 0.6751)]}\n",
      "\u001b[92mINFO \u001b[0m:      \n"
     ]
    },
    {
     "data": {
      "text/html": [],
      "text/plain": [
       "<IPython.core.display.HTML object>"
      ]
     },
     "metadata": {},
     "output_type": "display_data"
    },
    {
     "data": {
      "text/html": [
       "<br>    <style><br>        .wandb-row {<br>            display: flex;<br>            flex-direction: row;<br>            flex-wrap: wrap;<br>            justify-content: flex-start;<br>            width: 100%;<br>        }<br>        .wandb-col {<br>            display: flex;<br>            flex-direction: column;<br>            flex-basis: 100%;<br>            flex: 1;<br>            padding: 10px;<br>        }<br>    </style><br><div class=\"wandb-row\"><div class=\"wandb-col\"><h3>Run history:</h3><br/><table class=\"wandb\"><tr><td>centralized_accuracy</td><td>▁▄▆▇██</td></tr><tr><td>centralized_eval_loss</td><td>█▄▃▂▁▁</td></tr><tr><td>decentralized_avg_eval_accuracy</td><td>▁▅▁▅█</td></tr><tr><td>decentralized_avg_eval_loss</td><td>█▄█▃▁</td></tr><tr><td>decentralized_avg_train_accuracy</td><td>▁▅▆▆█</td></tr><tr><td>decentralized_avg_train_loss</td><td>█▄▃▃▁</td></tr></table><br/></div><div class=\"wandb-col\"><h3>Run summary:</h3><br/><table class=\"wandb\"><tr><td>centralized_accuracy</td><td>0.6751</td></tr><tr><td>centralized_eval_loss</td><td>1.09298</td></tr><tr><td>decentralized_avg_eval_accuracy</td><td>0.686</td></tr><tr><td>decentralized_avg_eval_loss</td><td>1.07026</td></tr><tr><td>decentralized_avg_train_accuracy</td><td>0.73427</td></tr><tr><td>decentralized_avg_train_loss</td><td>0.90922</td></tr></table><br/></div></div>"
      ],
      "text/plain": [
       "<IPython.core.display.HTML object>"
      ]
     },
     "metadata": {},
     "output_type": "display_data"
    },
    {
     "data": {
      "text/html": [
       " View run <strong style=\"color:#cdcd00\">fl_gs_50_8_local_0.9_3</strong> at: <a href='https://wandb.ai/stefano-gamba-social-politecnico-di-torino/fl_v5_50_8_grid_search/runs/fl_gs_50_8_local_0.9_3' target=\"_blank\">https://wandb.ai/stefano-gamba-social-politecnico-di-torino/fl_v5_50_8_grid_search/runs/fl_gs_50_8_local_0.9_3</a><br> View project at: <a href='https://wandb.ai/stefano-gamba-social-politecnico-di-torino/fl_v5_50_8_grid_search' target=\"_blank\">https://wandb.ai/stefano-gamba-social-politecnico-di-torino/fl_v5_50_8_grid_search</a><br>Synced 5 W&B file(s), 0 media file(s), 0 artifact file(s) and 0 other file(s)"
      ],
      "text/plain": [
       "<IPython.core.display.HTML object>"
      ]
     },
     "metadata": {},
     "output_type": "display_data"
    },
    {
     "data": {
      "text/html": [
       "Find logs at: <code>./wandb/run-20250627_143604-fl_gs_50_8_local_0.9_3/logs</code>"
      ],
      "text/plain": [
       "<IPython.core.display.HTML object>"
      ]
     },
     "metadata": {},
     "output_type": "display_data"
    },
    {
     "name": "stdout",
     "output_type": "stream",
     "text": [
      "--------------------------------------------------------------------------------------------------------------------------------------------------------------------------------------------------------\n",
      " Nc=50, J=8, mask_type=global, sparsity=0.7, mask_calibration_round=3\n",
      "\n"
     ]
    },
    {
     "name": "stderr",
     "output_type": "stream",
     "text": [
      "Using cache found in /home/massimiliano/.cache/torch/hub/facebookresearch_dino_main\n",
      "Using cache found in /home/massimiliano/.cache/torch/hub/facebookresearch_dino_main\n"
     ]
    },
    {
     "name": "stdout",
     "output_type": "stream",
     "text": [
      "✅ Loaded checkpoint from /home/massimiliano/Projects/fl-g13/models/fl/non-iid/50_8/fl_fl_baseline_BaseDino_epoch_200.pth, resuming at epoch 201\n",
      "Using strategy 'CustomFedAvg' (default option)\n"
     ]
    },
    {
     "name": "stderr",
     "output_type": "stream",
     "text": [
      "/home/massimiliano/miniconda3/envs/fl-g13/lib/python3.11/site-packages/wandb/analytics/sentry.py:259: DeprecationWarning: The `Scope.user` setter is deprecated in favor of `Scope.set_user()`.\n",
      "  self.scope.user = {\"email\": email}  # noqa\n",
      "/home/massimiliano/miniconda3/envs/fl-g13/lib/python3.11/site-packages/wandb/analytics/sentry.py:259: DeprecationWarning: The `Scope.user` setter is deprecated in favor of `Scope.set_user()`.\n",
      "  self.scope.user = {\"email\": email}  # noqa\n"
     ]
    },
    {
     "data": {
      "text/html": [
       "Tracking run with wandb version 0.19.9"
      ],
      "text/plain": [
       "<IPython.core.display.HTML object>"
      ]
     },
     "metadata": {},
     "output_type": "display_data"
    },
    {
     "data": {
      "text/html": [
       "Run data is saved locally in <code>/home/massimiliano/Projects/fl-g13/notebooks/wandb/run-20250627_145826-fl_gs_50_8_global_0.7_3</code>"
      ],
      "text/plain": [
       "<IPython.core.display.HTML object>"
      ]
     },
     "metadata": {},
     "output_type": "display_data"
    },
    {
     "data": {
      "text/html": [
       "Syncing run <strong><a href='https://wandb.ai/stefano-gamba-social-politecnico-di-torino/fl_v5_50_8_grid_search/runs/fl_gs_50_8_global_0.7_3' target=\"_blank\">fl_gs_50_8_global_0.7_3</a></strong> to <a href='https://wandb.ai/stefano-gamba-social-politecnico-di-torino/fl_v5_50_8_grid_search' target=\"_blank\">Weights & Biases</a> (<a href='https://wandb.me/developer-guide' target=\"_blank\">docs</a>)<br>"
      ],
      "text/plain": [
       "<IPython.core.display.HTML object>"
      ]
     },
     "metadata": {},
     "output_type": "display_data"
    },
    {
     "data": {
      "text/html": [
       " View project at <a href='https://wandb.ai/stefano-gamba-social-politecnico-di-torino/fl_v5_50_8_grid_search' target=\"_blank\">https://wandb.ai/stefano-gamba-social-politecnico-di-torino/fl_v5_50_8_grid_search</a>"
      ],
      "text/plain": [
       "<IPython.core.display.HTML object>"
      ]
     },
     "metadata": {},
     "output_type": "display_data"
    },
    {
     "data": {
      "text/html": [
       " View run at <a href='https://wandb.ai/stefano-gamba-social-politecnico-di-torino/fl_v5_50_8_grid_search/runs/fl_gs_50_8_global_0.7_3' target=\"_blank\">https://wandb.ai/stefano-gamba-social-politecnico-di-torino/fl_v5_50_8_grid_search/runs/fl_gs_50_8_global_0.7_3</a>"
      ],
      "text/plain": [
       "<IPython.core.display.HTML object>"
      ]
     },
     "metadata": {},
     "output_type": "display_data"
    },
    {
     "name": "stderr",
     "output_type": "stream",
     "text": [
      "\u001b[92mINFO \u001b[0m:      Starting Flower ServerApp, config: num_rounds=5, no round_timeout\n",
      "\u001b[92mINFO \u001b[0m:      \n",
      "\u001b[92mINFO \u001b[0m:      [INIT]\n",
      "\u001b[92mINFO \u001b[0m:      Using initial global parameters provided by strategy\n",
      "\u001b[92mINFO \u001b[0m:      Starting evaluation of initial global parameters\n",
      "Eval progress: 100%|██████████| 313/313 [00:23<00:00, 13.34batch/s]\n",
      "\u001b[92mINFO \u001b[0m:      [Round 0] Centralized Evaluation - Loss: 1.2866, Metrics: {'centralized_accuracy': 0.632}\n",
      "\u001b[92mINFO \u001b[0m:      initial parameters (loss, other metrics): 1.2865915678370112, {'centralized_accuracy': 0.632}\n",
      "\u001b[92mINFO \u001b[0m:      \n",
      "\u001b[92mINFO \u001b[0m:      [ROUND 1]\n",
      "\u001b[92mINFO \u001b[0m:      configure_fit: strategy sampled 10 clients (out of 100)\n",
      "\u001b[36m(ClientAppActor pid=110814)\u001b[0m 2025-06-27 14:58:52.252 | INFO     | fl_g13.config:<module>:11 - PROJ_ROOT path is: /home/massimiliano/Projects/fl-g13\n",
      "\u001b[92mINFO \u001b[0m:      aggregate_fit: received 10 results and 0 failures\n",
      "\u001b[92mINFO \u001b[0m:      [Round 1] Avg Drift: 0.0005 | Relative Drift: 0.0000\n",
      "Eval progress: 100%|██████████| 313/313 [00:21<00:00, 14.24batch/s]\n",
      "\u001b[92mINFO \u001b[0m:      [Round 1] Centralized Evaluation - Loss: 1.1090, Metrics: {'centralized_accuracy': 0.6726}\n",
      "\u001b[92mINFO \u001b[0m:      fit progress: (1, 1.108985314163537, {'centralized_accuracy': 0.6726}, 221.8828121669976)\n",
      "\u001b[92mINFO \u001b[0m:      configure_evaluate: strategy sampled 10 clients (out of 100)\n",
      "\u001b[92mINFO \u001b[0m:      aggregate_evaluate: received 10 results and 0 failures\n",
      "\u001b[92mINFO \u001b[0m:      \n",
      "\u001b[92mINFO \u001b[0m:      [ROUND 2]\n",
      "\u001b[92mINFO \u001b[0m:      configure_fit: strategy sampled 10 clients (out of 100)\n",
      "\u001b[92mINFO \u001b[0m:      aggregate_fit: received 10 results and 0 failures\n",
      "\u001b[92mINFO \u001b[0m:      [Round 2] Avg Drift: 0.0004 | Relative Drift: 0.0000\n",
      "Eval progress: 100%|██████████| 313/313 [00:22<00:00, 13.63batch/s]\n",
      "\u001b[92mINFO \u001b[0m:      [Round 2] Centralized Evaluation - Loss: 1.0561, Metrics: {'centralized_accuracy': 0.6857}\n",
      "\u001b[92mINFO \u001b[0m:      fit progress: (2, 1.0561377506096141, {'centralized_accuracy': 0.6857}, 523.4565002199997)\n",
      "\u001b[92mINFO \u001b[0m:      configure_evaluate: strategy sampled 10 clients (out of 100)\n",
      "\u001b[92mINFO \u001b[0m:      aggregate_evaluate: received 10 results and 0 failures\n",
      "\u001b[92mINFO \u001b[0m:      \n",
      "\u001b[92mINFO \u001b[0m:      [ROUND 3]\n",
      "\u001b[92mINFO \u001b[0m:      configure_fit: strategy sampled 10 clients (out of 100)\n",
      "\u001b[92mINFO \u001b[0m:      aggregate_fit: received 10 results and 0 failures\n",
      "\u001b[92mINFO \u001b[0m:      [Round 3] Avg Drift: 0.0004 | Relative Drift: 0.0000\n",
      "Eval progress: 100%|██████████| 313/313 [00:22<00:00, 13.92batch/s]\n",
      "\u001b[92mINFO \u001b[0m:      [Round 3] Centralized Evaluation - Loss: 1.0364, Metrics: {'centralized_accuracy': 0.6911}\n",
      "\u001b[92mINFO \u001b[0m:      fit progress: (3, 1.0364475821534667, {'centralized_accuracy': 0.6911}, 835.5773780179989)\n",
      "\u001b[92mINFO \u001b[0m:      configure_evaluate: strategy sampled 10 clients (out of 100)\n",
      "\u001b[92mINFO \u001b[0m:      aggregate_evaluate: received 10 results and 0 failures\n",
      "\u001b[92mINFO \u001b[0m:      \n",
      "\u001b[92mINFO \u001b[0m:      [ROUND 4]\n",
      "\u001b[92mINFO \u001b[0m:      configure_fit: strategy sampled 10 clients (out of 100)\n",
      "\u001b[92mINFO \u001b[0m:      aggregate_fit: received 10 results and 0 failures\n",
      "\u001b[92mINFO \u001b[0m:      [Round 4] Avg Drift: 0.0004 | Relative Drift: 0.0000\n",
      "Eval progress: 100%|██████████| 313/313 [00:21<00:00, 14.34batch/s]\n",
      "\u001b[92mINFO \u001b[0m:      [Round 4] Centralized Evaluation - Loss: 1.0162, Metrics: {'centralized_accuracy': 0.6961}\n",
      "\u001b[92mINFO \u001b[0m:      fit progress: (4, 1.0161971731688648, {'centralized_accuracy': 0.6961}, 1057.437286909997)\n",
      "\u001b[92mINFO \u001b[0m:      configure_evaluate: strategy sampled 10 clients (out of 100)\n",
      "\u001b[92mINFO \u001b[0m:      aggregate_evaluate: received 10 results and 0 failures\n",
      "\u001b[92mINFO \u001b[0m:      \n",
      "\u001b[92mINFO \u001b[0m:      [ROUND 5]\n",
      "\u001b[92mINFO \u001b[0m:      configure_fit: strategy sampled 10 clients (out of 100)\n",
      "\u001b[92mINFO \u001b[0m:      aggregate_fit: received 10 results and 0 failures\n",
      "\u001b[92mINFO \u001b[0m:      [Round 5] Avg Drift: 0.0004 | Relative Drift: 0.0000\n",
      "\u001b[92mINFO \u001b[0m:      [Round 5] Saving aggregated model at epoch 205...\n"
     ]
    },
    {
     "name": "stdout",
     "output_type": "stream",
     "text": [
      "💾 Saved checkpoint at: /home/massimiliano/Projects/fl-g13/models/fl/non-iid/GS/50_8_global_0.7_3/fl_grid_search_BaseDino_epoch_205.pth\n"
     ]
    },
    {
     "name": "stderr",
     "output_type": "stream",
     "text": [
      "Eval progress: 100%|██████████| 313/313 [00:21<00:00, 14.43batch/s]\n",
      "\u001b[92mINFO \u001b[0m:      [Round 5] Centralized Evaluation - Loss: 0.9975, Metrics: {'centralized_accuracy': 0.7031}\n",
      "\u001b[92mINFO \u001b[0m:      fit progress: (5, 0.9975111375982388, {'centralized_accuracy': 0.7031}, 1263.1626079950001)\n",
      "\u001b[92mINFO \u001b[0m:      configure_evaluate: strategy sampled 10 clients (out of 100)\n",
      "\u001b[92mINFO \u001b[0m:      aggregate_evaluate: received 10 results and 0 failures\n",
      "\u001b[92mINFO \u001b[0m:      \n",
      "\u001b[92mINFO \u001b[0m:      [SUMMARY]\n",
      "\u001b[92mINFO \u001b[0m:      Run finished 5 round(s) in 1306.35s\n",
      "\u001b[92mINFO \u001b[0m:      \tHistory (loss, distributed):\n",
      "\u001b[92mINFO \u001b[0m:      \t\tround 1: 1.0871539652347564\n",
      "\u001b[92mINFO \u001b[0m:      \t\tround 2: 1.0798678427934647\n",
      "\u001b[92mINFO \u001b[0m:      \t\tround 3: 1.1075395673513413\n",
      "\u001b[92mINFO \u001b[0m:      \t\tround 4: 1.0933570325374604\n",
      "\u001b[92mINFO \u001b[0m:      \t\tround 5: 1.0792718142271043\n",
      "\u001b[92mINFO \u001b[0m:      \tHistory (loss, centralized):\n",
      "\u001b[92mINFO \u001b[0m:      \t\tround 0: 1.2865915678370112\n",
      "\u001b[92mINFO \u001b[0m:      \t\tround 1: 1.108985314163537\n",
      "\u001b[92mINFO \u001b[0m:      \t\tround 2: 1.0561377506096141\n",
      "\u001b[92mINFO \u001b[0m:      \t\tround 3: 1.0364475821534667\n",
      "\u001b[92mINFO \u001b[0m:      \t\tround 4: 1.0161971731688648\n",
      "\u001b[92mINFO \u001b[0m:      \t\tround 5: 0.9975111375982388\n",
      "\u001b[92mINFO \u001b[0m:      \tHistory (metrics, distributed, fit):\n",
      "\u001b[92mINFO \u001b[0m:      \t{'avg_drift': [(1, np.float32(0.00045081152)),\n",
      "\u001b[92mINFO \u001b[0m:      \t               (2, np.float32(0.00038329719)),\n",
      "\u001b[92mINFO \u001b[0m:      \t               (3, np.float32(0.00037828684)),\n",
      "\u001b[92mINFO \u001b[0m:      \t               (4, np.float32(0.0003615471)),\n",
      "\u001b[92mINFO \u001b[0m:      \t               (5, np.float32(0.00036766654))],\n",
      "\u001b[92mINFO \u001b[0m:      \t 'avg_train_loss': [(1, 1.0324864186346532),\n",
      "\u001b[92mINFO \u001b[0m:      \t                    (2, 0.8789844356477261),\n",
      "\u001b[92mINFO \u001b[0m:      \t                    (3, 0.8881094101816416),\n",
      "\u001b[92mINFO \u001b[0m:      \t                    (4, 0.8146831672638655),\n",
      "\u001b[92mINFO \u001b[0m:      \t                    (5, 0.8302914053201675)],\n",
      "\u001b[92mINFO \u001b[0m:      \t 'relative_drift': [(1, np.float32(8.6854743e-07)),\n",
      "\u001b[92mINFO \u001b[0m:      \t                    (2, np.float32(7.384723e-07)),\n",
      "\u001b[92mINFO \u001b[0m:      \t                    (3, np.float32(7.288192e-07)),\n",
      "\u001b[92mINFO \u001b[0m:      \t                    (4, np.float32(6.965679e-07)),\n",
      "\u001b[92mINFO \u001b[0m:      \t                    (5, np.float32(7.083578e-07))]}\n",
      "\u001b[92mINFO \u001b[0m:      \tHistory (metrics, distributed, evaluate):\n",
      "\u001b[92mINFO \u001b[0m:      \t{'decentralized_avg_eval_accuracy': [(1, 0.661),\n",
      "\u001b[92mINFO \u001b[0m:      \t                                     (2, 0.675),\n",
      "\u001b[92mINFO \u001b[0m:      \t                                     (3, 0.668),\n",
      "\u001b[92mINFO \u001b[0m:      \t                                     (4, 0.698),\n",
      "\u001b[92mINFO \u001b[0m:      \t                                     (5, 0.668)]}\n",
      "\u001b[92mINFO \u001b[0m:      \tHistory (metrics, centralized):\n",
      "\u001b[92mINFO \u001b[0m:      \t{'centralized_accuracy': [(0, 0.632),\n",
      "\u001b[92mINFO \u001b[0m:      \t                          (1, 0.6726),\n",
      "\u001b[92mINFO \u001b[0m:      \t                          (2, 0.6857),\n",
      "\u001b[92mINFO \u001b[0m:      \t                          (3, 0.6911),\n",
      "\u001b[92mINFO \u001b[0m:      \t                          (4, 0.6961),\n",
      "\u001b[92mINFO \u001b[0m:      \t                          (5, 0.7031)]}\n",
      "\u001b[92mINFO \u001b[0m:      \n"
     ]
    },
    {
     "data": {
      "text/html": [],
      "text/plain": [
       "<IPython.core.display.HTML object>"
      ]
     },
     "metadata": {},
     "output_type": "display_data"
    },
    {
     "data": {
      "text/html": [
       "<br>    <style><br>        .wandb-row {<br>            display: flex;<br>            flex-direction: row;<br>            flex-wrap: wrap;<br>            justify-content: flex-start;<br>            width: 100%;<br>        }<br>        .wandb-col {<br>            display: flex;<br>            flex-direction: column;<br>            flex-basis: 100%;<br>            flex: 1;<br>            padding: 10px;<br>        }<br>    </style><br><div class=\"wandb-row\"><div class=\"wandb-col\"><h3>Run history:</h3><br/><table class=\"wandb\"><tr><td>centralized_accuracy</td><td>▁▅▆▇▇█</td></tr><tr><td>centralized_eval_loss</td><td>█▄▂▂▁▁</td></tr><tr><td>decentralized_avg_eval_accuracy</td><td>▁▄▂█▂</td></tr><tr><td>decentralized_avg_eval_loss</td><td>▃▁█▄▁</td></tr><tr><td>decentralized_avg_train_accuracy</td><td>▁▇▆██</td></tr><tr><td>decentralized_avg_train_loss</td><td>█▃▃▁▂</td></tr></table><br/></div><div class=\"wandb-col\"><h3>Run summary:</h3><br/><table class=\"wandb\"><tr><td>centralized_accuracy</td><td>0.7031</td></tr><tr><td>centralized_eval_loss</td><td>0.99751</td></tr><tr><td>decentralized_avg_eval_accuracy</td><td>0.668</td></tr><tr><td>decentralized_avg_eval_loss</td><td>1.07927</td></tr><tr><td>decentralized_avg_train_accuracy</td><td>0.75453</td></tr><tr><td>decentralized_avg_train_loss</td><td>0.83029</td></tr></table><br/></div></div>"
      ],
      "text/plain": [
       "<IPython.core.display.HTML object>"
      ]
     },
     "metadata": {},
     "output_type": "display_data"
    },
    {
     "data": {
      "text/html": [
       " View run <strong style=\"color:#cdcd00\">fl_gs_50_8_global_0.7_3</strong> at: <a href='https://wandb.ai/stefano-gamba-social-politecnico-di-torino/fl_v5_50_8_grid_search/runs/fl_gs_50_8_global_0.7_3' target=\"_blank\">https://wandb.ai/stefano-gamba-social-politecnico-di-torino/fl_v5_50_8_grid_search/runs/fl_gs_50_8_global_0.7_3</a><br> View project at: <a href='https://wandb.ai/stefano-gamba-social-politecnico-di-torino/fl_v5_50_8_grid_search' target=\"_blank\">https://wandb.ai/stefano-gamba-social-politecnico-di-torino/fl_v5_50_8_grid_search</a><br>Synced 5 W&B file(s), 0 media file(s), 0 artifact file(s) and 0 other file(s)"
      ],
      "text/plain": [
       "<IPython.core.display.HTML object>"
      ]
     },
     "metadata": {},
     "output_type": "display_data"
    },
    {
     "data": {
      "text/html": [
       "Find logs at: <code>./wandb/run-20250627_145826-fl_gs_50_8_global_0.7_3/logs</code>"
      ],
      "text/plain": [
       "<IPython.core.display.HTML object>"
      ]
     },
     "metadata": {},
     "output_type": "display_data"
    },
    {
     "name": "stdout",
     "output_type": "stream",
     "text": [
      "--------------------------------------------------------------------------------------------------------------------------------------------------------------------------------------------------------\n",
      " Nc=50, J=8, mask_type=global, sparsity=0.8, mask_calibration_round=3\n",
      "\n"
     ]
    },
    {
     "name": "stderr",
     "output_type": "stream",
     "text": [
      "Using cache found in /home/massimiliano/.cache/torch/hub/facebookresearch_dino_main\n",
      "Using cache found in /home/massimiliano/.cache/torch/hub/facebookresearch_dino_main\n"
     ]
    },
    {
     "name": "stdout",
     "output_type": "stream",
     "text": [
      "✅ Loaded checkpoint from /home/massimiliano/Projects/fl-g13/models/fl/non-iid/50_8/fl_fl_baseline_BaseDino_epoch_200.pth, resuming at epoch 201\n",
      "Using strategy 'CustomFedAvg' (default option)\n"
     ]
    },
    {
     "name": "stderr",
     "output_type": "stream",
     "text": [
      "/home/massimiliano/miniconda3/envs/fl-g13/lib/python3.11/site-packages/wandb/analytics/sentry.py:259: DeprecationWarning: The `Scope.user` setter is deprecated in favor of `Scope.set_user()`.\n",
      "  self.scope.user = {\"email\": email}  # noqa\n",
      "/home/massimiliano/miniconda3/envs/fl-g13/lib/python3.11/site-packages/wandb/analytics/sentry.py:259: DeprecationWarning: The `Scope.user` setter is deprecated in favor of `Scope.set_user()`.\n",
      "  self.scope.user = {\"email\": email}  # noqa\n"
     ]
    },
    {
     "data": {
      "text/html": [
       "Tracking run with wandb version 0.19.9"
      ],
      "text/plain": [
       "<IPython.core.display.HTML object>"
      ]
     },
     "metadata": {},
     "output_type": "display_data"
    },
    {
     "data": {
      "text/html": [
       "Run data is saved locally in <code>/home/massimiliano/Projects/fl-g13/notebooks/wandb/run-20250627_152041-fl_gs_50_8_global_0.8_3</code>"
      ],
      "text/plain": [
       "<IPython.core.display.HTML object>"
      ]
     },
     "metadata": {},
     "output_type": "display_data"
    },
    {
     "data": {
      "text/html": [
       "Syncing run <strong><a href='https://wandb.ai/stefano-gamba-social-politecnico-di-torino/fl_v5_50_8_grid_search/runs/fl_gs_50_8_global_0.8_3' target=\"_blank\">fl_gs_50_8_global_0.8_3</a></strong> to <a href='https://wandb.ai/stefano-gamba-social-politecnico-di-torino/fl_v5_50_8_grid_search' target=\"_blank\">Weights & Biases</a> (<a href='https://wandb.me/developer-guide' target=\"_blank\">docs</a>)<br>"
      ],
      "text/plain": [
       "<IPython.core.display.HTML object>"
      ]
     },
     "metadata": {},
     "output_type": "display_data"
    },
    {
     "data": {
      "text/html": [
       " View project at <a href='https://wandb.ai/stefano-gamba-social-politecnico-di-torino/fl_v5_50_8_grid_search' target=\"_blank\">https://wandb.ai/stefano-gamba-social-politecnico-di-torino/fl_v5_50_8_grid_search</a>"
      ],
      "text/plain": [
       "<IPython.core.display.HTML object>"
      ]
     },
     "metadata": {},
     "output_type": "display_data"
    },
    {
     "data": {
      "text/html": [
       " View run at <a href='https://wandb.ai/stefano-gamba-social-politecnico-di-torino/fl_v5_50_8_grid_search/runs/fl_gs_50_8_global_0.8_3' target=\"_blank\">https://wandb.ai/stefano-gamba-social-politecnico-di-torino/fl_v5_50_8_grid_search/runs/fl_gs_50_8_global_0.8_3</a>"
      ],
      "text/plain": [
       "<IPython.core.display.HTML object>"
      ]
     },
     "metadata": {},
     "output_type": "display_data"
    },
    {
     "name": "stderr",
     "output_type": "stream",
     "text": [
      "\u001b[92mINFO \u001b[0m:      Starting Flower ServerApp, config: num_rounds=5, no round_timeout\n",
      "\u001b[92mINFO \u001b[0m:      \n",
      "\u001b[92mINFO \u001b[0m:      [INIT]\n",
      "\u001b[92mINFO \u001b[0m:      Using initial global parameters provided by strategy\n",
      "\u001b[92mINFO \u001b[0m:      Starting evaluation of initial global parameters\n",
      "Eval progress: 100%|██████████| 313/313 [00:22<00:00, 14.00batch/s]\n",
      "\u001b[92mINFO \u001b[0m:      [Round 0] Centralized Evaluation - Loss: 1.2866, Metrics: {'centralized_accuracy': 0.632}\n",
      "\u001b[92mINFO \u001b[0m:      initial parameters (loss, other metrics): 1.2865915678370112, {'centralized_accuracy': 0.632}\n",
      "\u001b[92mINFO \u001b[0m:      \n",
      "\u001b[92mINFO \u001b[0m:      [ROUND 1]\n",
      "\u001b[92mINFO \u001b[0m:      configure_fit: strategy sampled 10 clients (out of 100)\n",
      "\u001b[36m(ClientAppActor pid=117692)\u001b[0m 2025-06-27 15:21:06.274 | INFO     | fl_g13.config:<module>:11 - PROJ_ROOT path is: /home/massimiliano/Projects/fl-g13\n",
      "\u001b[92mINFO \u001b[0m:      aggregate_fit: received 10 results and 0 failures\n",
      "\u001b[92mINFO \u001b[0m:      [Round 1] Avg Drift: 0.0003 | Relative Drift: 0.0000\n",
      "Eval progress: 100%|██████████| 313/313 [00:21<00:00, 14.29batch/s]\n",
      "\u001b[92mINFO \u001b[0m:      [Round 1] Centralized Evaluation - Loss: 1.1734, Metrics: {'centralized_accuracy': 0.6572}\n",
      "\u001b[92mINFO \u001b[0m:      fit progress: (1, 1.1733916755111073, {'centralized_accuracy': 0.6572}, 223.14048102800007)\n",
      "\u001b[92mINFO \u001b[0m:      configure_evaluate: strategy sampled 10 clients (out of 100)\n",
      "\u001b[92mINFO \u001b[0m:      aggregate_evaluate: received 10 results and 0 failures\n",
      "\u001b[92mINFO \u001b[0m:      \n",
      "\u001b[92mINFO \u001b[0m:      [ROUND 2]\n",
      "\u001b[92mINFO \u001b[0m:      configure_fit: strategy sampled 10 clients (out of 100)\n",
      "\u001b[92mINFO \u001b[0m:      aggregate_fit: received 10 results and 0 failures\n",
      "\u001b[92mINFO \u001b[0m:      [Round 2] Avg Drift: 0.0002 | Relative Drift: 0.0000\n",
      "Eval progress: 100%|██████████| 313/313 [00:22<00:00, 14.10batch/s]\n",
      "\u001b[92mINFO \u001b[0m:      [Round 2] Centralized Evaluation - Loss: 1.1367, Metrics: {'centralized_accuracy': 0.6696}\n",
      "\u001b[92mINFO \u001b[0m:      fit progress: (2, 1.1367045076319966, {'centralized_accuracy': 0.6696}, 529.8576320749999)\n",
      "\u001b[92mINFO \u001b[0m:      configure_evaluate: strategy sampled 10 clients (out of 100)\n",
      "\u001b[92mINFO \u001b[0m:      aggregate_evaluate: received 10 results and 0 failures\n",
      "\u001b[92mINFO \u001b[0m:      \n",
      "\u001b[92mINFO \u001b[0m:      [ROUND 3]\n",
      "\u001b[92mINFO \u001b[0m:      configure_fit: strategy sampled 10 clients (out of 100)\n",
      "\u001b[92mINFO \u001b[0m:      aggregate_fit: received 10 results and 0 failures\n",
      "\u001b[92mINFO \u001b[0m:      [Round 3] Avg Drift: 0.0002 | Relative Drift: 0.0000\n",
      "Eval progress: 100%|██████████| 313/313 [00:21<00:00, 14.38batch/s]\n",
      "\u001b[92mINFO \u001b[0m:      [Round 3] Centralized Evaluation - Loss: 1.1168, Metrics: {'centralized_accuracy': 0.673}\n",
      "\u001b[92mINFO \u001b[0m:      fit progress: (3, 1.1168056438906124, {'centralized_accuracy': 0.673}, 820.722446961001)\n",
      "\u001b[92mINFO \u001b[0m:      configure_evaluate: strategy sampled 10 clients (out of 100)\n",
      "\u001b[92mINFO \u001b[0m:      aggregate_evaluate: received 10 results and 0 failures\n",
      "\u001b[92mINFO \u001b[0m:      \n",
      "\u001b[92mINFO \u001b[0m:      [ROUND 4]\n",
      "\u001b[92mINFO \u001b[0m:      configure_fit: strategy sampled 10 clients (out of 100)\n",
      "\u001b[92mINFO \u001b[0m:      aggregate_fit: received 10 results and 0 failures\n",
      "\u001b[92mINFO \u001b[0m:      [Round 4] Avg Drift: 0.0002 | Relative Drift: 0.0000\n",
      "Eval progress: 100%|██████████| 313/313 [00:22<00:00, 14.19batch/s]\n",
      "\u001b[92mINFO \u001b[0m:      [Round 4] Centralized Evaluation - Loss: 1.1116, Metrics: {'centralized_accuracy': 0.6737}\n",
      "\u001b[92mINFO \u001b[0m:      fit progress: (4, 1.1116358530216706, {'centralized_accuracy': 0.6737}, 1096.5078363909997)\n",
      "\u001b[92mINFO \u001b[0m:      configure_evaluate: strategy sampled 10 clients (out of 100)\n",
      "\u001b[92mINFO \u001b[0m:      aggregate_evaluate: received 10 results and 0 failures\n",
      "\u001b[92mINFO \u001b[0m:      \n",
      "\u001b[92mINFO \u001b[0m:      [ROUND 5]\n",
      "\u001b[92mINFO \u001b[0m:      configure_fit: strategy sampled 10 clients (out of 100)\n",
      "\u001b[92mINFO \u001b[0m:      aggregate_fit: received 10 results and 0 failures\n",
      "\u001b[92mINFO \u001b[0m:      [Round 5] Avg Drift: 0.0002 | Relative Drift: 0.0000\n",
      "\u001b[92mINFO \u001b[0m:      [Round 5] Saving aggregated model at epoch 205...\n"
     ]
    },
    {
     "name": "stdout",
     "output_type": "stream",
     "text": [
      "💾 Saved checkpoint at: /home/massimiliano/Projects/fl-g13/models/fl/non-iid/GS/50_8_global_0.8_3/fl_grid_search_BaseDino_epoch_205.pth\n"
     ]
    },
    {
     "name": "stderr",
     "output_type": "stream",
     "text": [
      "Eval progress: 100%|██████████| 313/313 [00:21<00:00, 14.72batch/s]\n",
      "\u001b[92mINFO \u001b[0m:      [Round 5] Centralized Evaluation - Loss: 1.0890, Metrics: {'centralized_accuracy': 0.6782}\n",
      "\u001b[92mINFO \u001b[0m:      fit progress: (5, 1.0890433126554702, {'centralized_accuracy': 0.6782}, 1288.5336598180002)\n",
      "\u001b[92mINFO \u001b[0m:      configure_evaluate: strategy sampled 10 clients (out of 100)\n",
      "\u001b[92mINFO \u001b[0m:      aggregate_evaluate: received 10 results and 0 failures\n",
      "\u001b[92mINFO \u001b[0m:      \n",
      "\u001b[92mINFO \u001b[0m:      [SUMMARY]\n",
      "\u001b[92mINFO \u001b[0m:      Run finished 5 round(s) in 1369.64s\n",
      "\u001b[92mINFO \u001b[0m:      \tHistory (loss, distributed):\n",
      "\u001b[92mINFO \u001b[0m:      \t\tround 1: 1.1652241379022599\n",
      "\u001b[92mINFO \u001b[0m:      \t\tround 2: 1.2458884239196777\n",
      "\u001b[92mINFO \u001b[0m:      \t\tround 3: 1.1281070768833161\n",
      "\u001b[92mINFO \u001b[0m:      \t\tround 4: 1.1362434387207032\n",
      "\u001b[92mINFO \u001b[0m:      \t\tround 5: 1.1612601906061173\n",
      "\u001b[92mINFO \u001b[0m:      \tHistory (loss, centralized):\n",
      "\u001b[92mINFO \u001b[0m:      \t\tround 0: 1.2865915678370112\n",
      "\u001b[92mINFO \u001b[0m:      \t\tround 1: 1.1733916755111073\n",
      "\u001b[92mINFO \u001b[0m:      \t\tround 2: 1.1367045076319966\n",
      "\u001b[92mINFO \u001b[0m:      \t\tround 3: 1.1168056438906124\n",
      "\u001b[92mINFO \u001b[0m:      \t\tround 4: 1.1116358530216706\n",
      "\u001b[92mINFO \u001b[0m:      \t\tround 5: 1.0890433126554702\n",
      "\u001b[92mINFO \u001b[0m:      \tHistory (metrics, distributed, fit):\n",
      "\u001b[92mINFO \u001b[0m:      \t{'avg_drift': [(1, np.float32(0.00028868296)),\n",
      "\u001b[92mINFO \u001b[0m:      \t               (2, np.float32(0.00024041238)),\n",
      "\u001b[92mINFO \u001b[0m:      \t               (3, np.float32(0.0002340172)),\n",
      "\u001b[92mINFO \u001b[0m:      \t               (4, np.float32(0.00022917853)),\n",
      "\u001b[92mINFO \u001b[0m:      \t               (5, np.float32(0.0002333415))],\n",
      "\u001b[92mINFO \u001b[0m:      \t 'avg_train_loss': [(1, 1.0677976235747337),\n",
      "\u001b[92mINFO \u001b[0m:      \t                    (2, 1.0105344749987126),\n",
      "\u001b[92mINFO \u001b[0m:      \t                    (3, 0.961217513307929),\n",
      "\u001b[92mINFO \u001b[0m:      \t                    (4, 0.9497697941958905),\n",
      "\u001b[92mINFO \u001b[0m:      \t                    (5, 0.9829962369054556)],\n",
      "\u001b[92mINFO \u001b[0m:      \t 'relative_drift': [(1, np.float32(5.5618557e-07)),\n",
      "\u001b[92mINFO \u001b[0m:      \t                    (2, np.float32(4.6318598e-07)),\n",
      "\u001b[92mINFO \u001b[0m:      \t                    (3, np.float32(4.508649e-07)),\n",
      "\u001b[92mINFO \u001b[0m:      \t                    (4, np.float32(4.4154257e-07)),\n",
      "\u001b[92mINFO \u001b[0m:      \t                    (5, np.float32(4.4956306e-07))]}\n",
      "\u001b[92mINFO \u001b[0m:      \tHistory (metrics, distributed, evaluate):\n",
      "\u001b[92mINFO \u001b[0m:      \t{'decentralized_avg_eval_accuracy': [(1, 0.656),\n",
      "\u001b[92mINFO \u001b[0m:      \t                                     (2, 0.655),\n",
      "\u001b[92mINFO \u001b[0m:      \t                                     (3, 0.676),\n",
      "\u001b[92mINFO \u001b[0m:      \t                                     (4, 0.651),\n",
      "\u001b[92mINFO \u001b[0m:      \t                                     (5, 0.655)]}\n",
      "\u001b[92mINFO \u001b[0m:      \tHistory (metrics, centralized):\n",
      "\u001b[92mINFO \u001b[0m:      \t{'centralized_accuracy': [(0, 0.632),\n",
      "\u001b[92mINFO \u001b[0m:      \t                          (1, 0.6572),\n",
      "\u001b[92mINFO \u001b[0m:      \t                          (2, 0.6696),\n",
      "\u001b[92mINFO \u001b[0m:      \t                          (3, 0.673),\n",
      "\u001b[92mINFO \u001b[0m:      \t                          (4, 0.6737),\n",
      "\u001b[92mINFO \u001b[0m:      \t                          (5, 0.6782)]}\n",
      "\u001b[92mINFO \u001b[0m:      \n"
     ]
    },
    {
     "data": {
      "text/html": [],
      "text/plain": [
       "<IPython.core.display.HTML object>"
      ]
     },
     "metadata": {},
     "output_type": "display_data"
    },
    {
     "data": {
      "text/html": [
       "<br>    <style><br>        .wandb-row {<br>            display: flex;<br>            flex-direction: row;<br>            flex-wrap: wrap;<br>            justify-content: flex-start;<br>            width: 100%;<br>        }<br>        .wandb-col {<br>            display: flex;<br>            flex-direction: column;<br>            flex-basis: 100%;<br>            flex: 1;<br>            padding: 10px;<br>        }<br>    </style><br><div class=\"wandb-row\"><div class=\"wandb-col\"><h3>Run history:</h3><br/><table class=\"wandb\"><tr><td>centralized_accuracy</td><td>▁▅▇▇▇█</td></tr><tr><td>centralized_eval_loss</td><td>█▄▃▂▂▁</td></tr><tr><td>decentralized_avg_eval_accuracy</td><td>▂▂█▁▂</td></tr><tr><td>decentralized_avg_eval_loss</td><td>▃█▁▁▃</td></tr><tr><td>decentralized_avg_train_accuracy</td><td>▁▅██▅</td></tr><tr><td>decentralized_avg_train_loss</td><td>█▅▂▁▃</td></tr></table><br/></div><div class=\"wandb-col\"><h3>Run summary:</h3><br/><table class=\"wandb\"><tr><td>centralized_accuracy</td><td>0.6782</td></tr><tr><td>centralized_eval_loss</td><td>1.08904</td></tr><tr><td>decentralized_avg_eval_accuracy</td><td>0.655</td></tr><tr><td>decentralized_avg_eval_loss</td><td>1.16126</td></tr><tr><td>decentralized_avg_train_accuracy</td><td>0.70022</td></tr><tr><td>decentralized_avg_train_loss</td><td>0.983</td></tr></table><br/></div></div>"
      ],
      "text/plain": [
       "<IPython.core.display.HTML object>"
      ]
     },
     "metadata": {},
     "output_type": "display_data"
    },
    {
     "data": {
      "text/html": [
       " View run <strong style=\"color:#cdcd00\">fl_gs_50_8_global_0.8_3</strong> at: <a href='https://wandb.ai/stefano-gamba-social-politecnico-di-torino/fl_v5_50_8_grid_search/runs/fl_gs_50_8_global_0.8_3' target=\"_blank\">https://wandb.ai/stefano-gamba-social-politecnico-di-torino/fl_v5_50_8_grid_search/runs/fl_gs_50_8_global_0.8_3</a><br> View project at: <a href='https://wandb.ai/stefano-gamba-social-politecnico-di-torino/fl_v5_50_8_grid_search' target=\"_blank\">https://wandb.ai/stefano-gamba-social-politecnico-di-torino/fl_v5_50_8_grid_search</a><br>Synced 5 W&B file(s), 0 media file(s), 0 artifact file(s) and 0 other file(s)"
      ],
      "text/plain": [
       "<IPython.core.display.HTML object>"
      ]
     },
     "metadata": {},
     "output_type": "display_data"
    },
    {
     "data": {
      "text/html": [
       "Find logs at: <code>./wandb/run-20250627_152041-fl_gs_50_8_global_0.8_3/logs</code>"
      ],
      "text/plain": [
       "<IPython.core.display.HTML object>"
      ]
     },
     "metadata": {},
     "output_type": "display_data"
    },
    {
     "name": "stdout",
     "output_type": "stream",
     "text": [
      "--------------------------------------------------------------------------------------------------------------------------------------------------------------------------------------------------------\n",
      " Nc=50, J=8, mask_type=global, sparsity=0.9, mask_calibration_round=3\n",
      "\n"
     ]
    },
    {
     "name": "stderr",
     "output_type": "stream",
     "text": [
      "Using cache found in /home/massimiliano/.cache/torch/hub/facebookresearch_dino_main\n",
      "Using cache found in /home/massimiliano/.cache/torch/hub/facebookresearch_dino_main\n"
     ]
    },
    {
     "name": "stdout",
     "output_type": "stream",
     "text": [
      "✅ Loaded checkpoint from /home/massimiliano/Projects/fl-g13/models/fl/non-iid/50_8/fl_fl_baseline_BaseDino_epoch_200.pth, resuming at epoch 201\n",
      "Using strategy 'CustomFedAvg' (default option)\n"
     ]
    },
    {
     "name": "stderr",
     "output_type": "stream",
     "text": [
      "/home/massimiliano/miniconda3/envs/fl-g13/lib/python3.11/site-packages/wandb/analytics/sentry.py:259: DeprecationWarning: The `Scope.user` setter is deprecated in favor of `Scope.set_user()`.\n",
      "  self.scope.user = {\"email\": email}  # noqa\n",
      "/home/massimiliano/miniconda3/envs/fl-g13/lib/python3.11/site-packages/wandb/analytics/sentry.py:259: DeprecationWarning: The `Scope.user` setter is deprecated in favor of `Scope.set_user()`.\n",
      "  self.scope.user = {\"email\": email}  # noqa\n"
     ]
    },
    {
     "data": {
      "text/html": [
       "Tracking run with wandb version 0.19.9"
      ],
      "text/plain": [
       "<IPython.core.display.HTML object>"
      ]
     },
     "metadata": {},
     "output_type": "display_data"
    },
    {
     "data": {
      "text/html": [
       "Run data is saved locally in <code>/home/massimiliano/Projects/fl-g13/notebooks/wandb/run-20250627_154359-fl_gs_50_8_global_0.9_3</code>"
      ],
      "text/plain": [
       "<IPython.core.display.HTML object>"
      ]
     },
     "metadata": {},
     "output_type": "display_data"
    },
    {
     "data": {
      "text/html": [
       "Syncing run <strong><a href='https://wandb.ai/stefano-gamba-social-politecnico-di-torino/fl_v5_50_8_grid_search/runs/fl_gs_50_8_global_0.9_3' target=\"_blank\">fl_gs_50_8_global_0.9_3</a></strong> to <a href='https://wandb.ai/stefano-gamba-social-politecnico-di-torino/fl_v5_50_8_grid_search' target=\"_blank\">Weights & Biases</a> (<a href='https://wandb.me/developer-guide' target=\"_blank\">docs</a>)<br>"
      ],
      "text/plain": [
       "<IPython.core.display.HTML object>"
      ]
     },
     "metadata": {},
     "output_type": "display_data"
    },
    {
     "data": {
      "text/html": [
       " View project at <a href='https://wandb.ai/stefano-gamba-social-politecnico-di-torino/fl_v5_50_8_grid_search' target=\"_blank\">https://wandb.ai/stefano-gamba-social-politecnico-di-torino/fl_v5_50_8_grid_search</a>"
      ],
      "text/plain": [
       "<IPython.core.display.HTML object>"
      ]
     },
     "metadata": {},
     "output_type": "display_data"
    },
    {
     "data": {
      "text/html": [
       " View run at <a href='https://wandb.ai/stefano-gamba-social-politecnico-di-torino/fl_v5_50_8_grid_search/runs/fl_gs_50_8_global_0.9_3' target=\"_blank\">https://wandb.ai/stefano-gamba-social-politecnico-di-torino/fl_v5_50_8_grid_search/runs/fl_gs_50_8_global_0.9_3</a>"
      ],
      "text/plain": [
       "<IPython.core.display.HTML object>"
      ]
     },
     "metadata": {},
     "output_type": "display_data"
    },
    {
     "name": "stderr",
     "output_type": "stream",
     "text": [
      "\u001b[92mINFO \u001b[0m:      Starting Flower ServerApp, config: num_rounds=5, no round_timeout\n",
      "\u001b[92mINFO \u001b[0m:      \n",
      "\u001b[92mINFO \u001b[0m:      [INIT]\n",
      "\u001b[92mINFO \u001b[0m:      Using initial global parameters provided by strategy\n",
      "\u001b[92mINFO \u001b[0m:      Starting evaluation of initial global parameters\n",
      "Eval progress: 100%|██████████| 313/313 [00:21<00:00, 14.24batch/s]\n",
      "\u001b[92mINFO \u001b[0m:      [Round 0] Centralized Evaluation - Loss: 1.2866, Metrics: {'centralized_accuracy': 0.632}\n",
      "\u001b[92mINFO \u001b[0m:      initial parameters (loss, other metrics): 1.2865915678370112, {'centralized_accuracy': 0.632}\n",
      "\u001b[92mINFO \u001b[0m:      \n",
      "\u001b[92mINFO \u001b[0m:      [ROUND 1]\n",
      "\u001b[92mINFO \u001b[0m:      configure_fit: strategy sampled 10 clients (out of 100)\n",
      "\u001b[36m(ClientAppActor pid=124034)\u001b[0m 2025-06-27 15:44:23.094 | INFO     | fl_g13.config:<module>:11 - PROJ_ROOT path is: /home/massimiliano/Projects/fl-g13\n",
      "\u001b[92mINFO \u001b[0m:      aggregate_fit: received 10 results and 0 failures\n",
      "\u001b[92mINFO \u001b[0m:      [Round 1] Avg Drift: 0.0002 | Relative Drift: 0.0000\n",
      "Eval progress: 100%|██████████| 313/313 [00:21<00:00, 14.86batch/s]\n",
      "\u001b[92mINFO \u001b[0m:      [Round 1] Centralized Evaluation - Loss: 1.2243, Metrics: {'centralized_accuracy': 0.6458}\n",
      "\u001b[92mINFO \u001b[0m:      fit progress: (1, 1.2243167944609548, {'centralized_accuracy': 0.6458}, 207.64856781300114)\n",
      "\u001b[92mINFO \u001b[0m:      configure_evaluate: strategy sampled 10 clients (out of 100)\n",
      "\u001b[92mINFO \u001b[0m:      aggregate_evaluate: received 10 results and 0 failures\n",
      "\u001b[92mINFO \u001b[0m:      \n",
      "\u001b[92mINFO \u001b[0m:      [ROUND 2]\n",
      "\u001b[92mINFO \u001b[0m:      configure_fit: strategy sampled 10 clients (out of 100)\n",
      "\u001b[92mINFO \u001b[0m:      aggregate_fit: received 10 results and 0 failures\n",
      "\u001b[92mINFO \u001b[0m:      [Round 2] Avg Drift: 0.0001 | Relative Drift: 0.0000\n",
      "Eval progress: 100%|██████████| 313/313 [00:23<00:00, 13.60batch/s]\n",
      "\u001b[92mINFO \u001b[0m:      [Round 2] Centralized Evaluation - Loss: 1.1967, Metrics: {'centralized_accuracy': 0.6532}\n",
      "\u001b[92mINFO \u001b[0m:      fit progress: (2, 1.1966593754938997, {'centralized_accuracy': 0.6532}, 504.64331253699856)\n",
      "\u001b[92mINFO \u001b[0m:      configure_evaluate: strategy sampled 10 clients (out of 100)\n",
      "\u001b[92mINFO \u001b[0m:      aggregate_evaluate: received 10 results and 0 failures\n",
      "\u001b[92mINFO \u001b[0m:      \n",
      "\u001b[92mINFO \u001b[0m:      [ROUND 3]\n",
      "\u001b[92mINFO \u001b[0m:      configure_fit: strategy sampled 10 clients (out of 100)\n",
      "\u001b[92mINFO \u001b[0m:      aggregate_fit: received 10 results and 0 failures\n",
      "\u001b[92mINFO \u001b[0m:      [Round 3] Avg Drift: 0.0001 | Relative Drift: 0.0000\n",
      "Eval progress: 100%|██████████| 313/313 [00:23<00:00, 13.58batch/s]\n",
      "\u001b[92mINFO \u001b[0m:      [Round 3] Centralized Evaluation - Loss: 1.1811, Metrics: {'centralized_accuracy': 0.6558}\n",
      "\u001b[92mINFO \u001b[0m:      fit progress: (3, 1.1811460749790692, {'centralized_accuracy': 0.6558}, 806.5876533679984)\n",
      "\u001b[92mINFO \u001b[0m:      configure_evaluate: strategy sampled 10 clients (out of 100)\n",
      "\u001b[92mINFO \u001b[0m:      aggregate_evaluate: received 10 results and 0 failures\n",
      "\u001b[92mINFO \u001b[0m:      \n",
      "\u001b[92mINFO \u001b[0m:      [ROUND 4]\n",
      "\u001b[92mINFO \u001b[0m:      configure_fit: strategy sampled 10 clients (out of 100)\n",
      "\u001b[92mINFO \u001b[0m:      aggregate_fit: received 10 results and 0 failures\n",
      "\u001b[92mINFO \u001b[0m:      [Round 4] Avg Drift: 0.0001 | Relative Drift: 0.0000\n",
      "Eval progress: 100%|██████████| 313/313 [00:22<00:00, 13.75batch/s]\n",
      "\u001b[92mINFO \u001b[0m:      [Round 4] Centralized Evaluation - Loss: 1.1702, Metrics: {'centralized_accuracy': 0.6583}\n",
      "\u001b[92mINFO \u001b[0m:      fit progress: (4, 1.1702256417883852, {'centralized_accuracy': 0.6583}, 1021.6888238419997)\n",
      "\u001b[92mINFO \u001b[0m:      configure_evaluate: strategy sampled 10 clients (out of 100)\n",
      "\u001b[92mINFO \u001b[0m:      aggregate_evaluate: received 10 results and 0 failures\n",
      "\u001b[92mINFO \u001b[0m:      \n",
      "\u001b[92mINFO \u001b[0m:      [ROUND 5]\n",
      "\u001b[92mINFO \u001b[0m:      configure_fit: strategy sampled 10 clients (out of 100)\n",
      "\u001b[92mINFO \u001b[0m:      aggregate_fit: received 10 results and 0 failures\n",
      "\u001b[92mINFO \u001b[0m:      [Round 5] Avg Drift: 0.0001 | Relative Drift: 0.0000\n",
      "\u001b[92mINFO \u001b[0m:      [Round 5] Saving aggregated model at epoch 205...\n"
     ]
    },
    {
     "name": "stdout",
     "output_type": "stream",
     "text": [
      "💾 Saved checkpoint at: /home/massimiliano/Projects/fl-g13/models/fl/non-iid/GS/50_8_global_0.9_3/fl_grid_search_BaseDino_epoch_205.pth\n"
     ]
    },
    {
     "name": "stderr",
     "output_type": "stream",
     "text": [
      "Eval progress: 100%|██████████| 313/313 [00:24<00:00, 12.70batch/s]\n",
      "\u001b[92mINFO \u001b[0m:      [Round 5] Centralized Evaluation - Loss: 1.1587, Metrics: {'centralized_accuracy': 0.6593}\n",
      "\u001b[92mINFO \u001b[0m:      fit progress: (5, 1.1587460455231773, {'centralized_accuracy': 0.6593}, 1246.2122720250009)\n",
      "\u001b[92mINFO \u001b[0m:      configure_evaluate: strategy sampled 10 clients (out of 100)\n",
      "\u001b[92mINFO \u001b[0m:      aggregate_evaluate: received 10 results and 0 failures\n",
      "\u001b[92mINFO \u001b[0m:      \n",
      "\u001b[92mINFO \u001b[0m:      [SUMMARY]\n",
      "\u001b[92mINFO \u001b[0m:      Run finished 5 round(s) in 1338.54s\n",
      "\u001b[92mINFO \u001b[0m:      \tHistory (loss, distributed):\n",
      "\u001b[92mINFO \u001b[0m:      \t\tround 1: 1.3468693017959594\n",
      "\u001b[92mINFO \u001b[0m:      \t\tround 2: 1.2676197201013566\n",
      "\u001b[92mINFO \u001b[0m:      \t\tround 3: 1.2090699017047881\n",
      "\u001b[92mINFO \u001b[0m:      \t\tround 4: 1.1458385437726974\n",
      "\u001b[92mINFO \u001b[0m:      \t\tround 5: 1.0782758802175523\n",
      "\u001b[92mINFO \u001b[0m:      \tHistory (loss, centralized):\n",
      "\u001b[92mINFO \u001b[0m:      \t\tround 0: 1.2865915678370112\n",
      "\u001b[92mINFO \u001b[0m:      \t\tround 1: 1.2243167944609548\n",
      "\u001b[92mINFO \u001b[0m:      \t\tround 2: 1.1966593754938997\n",
      "\u001b[92mINFO \u001b[0m:      \t\tround 3: 1.1811460749790692\n",
      "\u001b[92mINFO \u001b[0m:      \t\tround 4: 1.1702256417883852\n",
      "\u001b[92mINFO \u001b[0m:      \t\tround 5: 1.1587460455231773\n",
      "\u001b[92mINFO \u001b[0m:      \tHistory (metrics, distributed, fit):\n",
      "\u001b[92mINFO \u001b[0m:      \t{'avg_drift': [(1, np.float32(0.00016295041)),\n",
      "\u001b[92mINFO \u001b[0m:      \t               (2, np.float32(0.00013735794)),\n",
      "\u001b[92mINFO \u001b[0m:      \t               (3, np.float32(0.00012631211)),\n",
      "\u001b[92mINFO \u001b[0m:      \t               (4, np.float32(0.00013005098)),\n",
      "\u001b[92mINFO \u001b[0m:      \t               (5, np.float32(0.000123668))],\n",
      "\u001b[92mINFO \u001b[0m:      \t 'avg_train_loss': [(1, 1.2208942472934723),\n",
      "\u001b[92mINFO \u001b[0m:      \t                    (2, 1.048503091186285),\n",
      "\u001b[92mINFO \u001b[0m:      \t                    (3, 1.020256830751896),\n",
      "\u001b[92mINFO \u001b[0m:      \t                    (4, 1.096082627028227),\n",
      "\u001b[92mINFO \u001b[0m:      \t                    (5, 1.0399664830416442)],\n",
      "\u001b[92mINFO \u001b[0m:      \t 'relative_drift': [(1, np.float32(3.1394535e-07)),\n",
      "\u001b[92mINFO \u001b[0m:      \t                    (2, np.float32(2.6463812e-07)),\n",
      "\u001b[92mINFO \u001b[0m:      \t                    (3, np.float32(2.4335688e-07)),\n",
      "\u001b[92mINFO \u001b[0m:      \t                    (4, np.float32(2.5056028e-07)),\n",
      "\u001b[92mINFO \u001b[0m:      \t                    (5, np.float32(2.3826264e-07))]}\n",
      "\u001b[92mINFO \u001b[0m:      \tHistory (metrics, distributed, evaluate):\n",
      "\u001b[92mINFO \u001b[0m:      \t{'decentralized_avg_eval_accuracy': [(1, 0.593),\n",
      "\u001b[92mINFO \u001b[0m:      \t                                     (2, 0.643),\n",
      "\u001b[92mINFO \u001b[0m:      \t                                     (3, 0.649),\n",
      "\u001b[92mINFO \u001b[0m:      \t                                     (4, 0.669),\n",
      "\u001b[92mINFO \u001b[0m:      \t                                     (5, 0.682)]}\n",
      "\u001b[92mINFO \u001b[0m:      \tHistory (metrics, centralized):\n",
      "\u001b[92mINFO \u001b[0m:      \t{'centralized_accuracy': [(0, 0.632),\n",
      "\u001b[92mINFO \u001b[0m:      \t                          (1, 0.6458),\n",
      "\u001b[92mINFO \u001b[0m:      \t                          (2, 0.6532),\n",
      "\u001b[92mINFO \u001b[0m:      \t                          (3, 0.6558),\n",
      "\u001b[92mINFO \u001b[0m:      \t                          (4, 0.6583),\n",
      "\u001b[92mINFO \u001b[0m:      \t                          (5, 0.6593)]}\n",
      "\u001b[92mINFO \u001b[0m:      \n"
     ]
    },
    {
     "data": {
      "text/html": [],
      "text/plain": [
       "<IPython.core.display.HTML object>"
      ]
     },
     "metadata": {},
     "output_type": "display_data"
    },
    {
     "data": {
      "text/html": [
       "<br>    <style><br>        .wandb-row {<br>            display: flex;<br>            flex-direction: row;<br>            flex-wrap: wrap;<br>            justify-content: flex-start;<br>            width: 100%;<br>        }<br>        .wandb-col {<br>            display: flex;<br>            flex-direction: column;<br>            flex-basis: 100%;<br>            flex: 1;<br>            padding: 10px;<br>        }<br>    </style><br><div class=\"wandb-row\"><div class=\"wandb-col\"><h3>Run history:</h3><br/><table class=\"wandb\"><tr><td>centralized_accuracy</td><td>▁▅▆▇██</td></tr><tr><td>centralized_eval_loss</td><td>█▅▃▂▂▁</td></tr><tr><td>decentralized_avg_eval_accuracy</td><td>▁▅▅▇█</td></tr><tr><td>decentralized_avg_eval_loss</td><td>█▆▄▃▁</td></tr><tr><td>decentralized_avg_train_accuracy</td><td>▁█▇▅▇</td></tr><tr><td>decentralized_avg_train_loss</td><td>█▂▁▄▂</td></tr></table><br/></div><div class=\"wandb-col\"><h3>Run summary:</h3><br/><table class=\"wandb\"><tr><td>centralized_accuracy</td><td>0.6593</td></tr><tr><td>centralized_eval_loss</td><td>1.15875</td></tr><tr><td>decentralized_avg_eval_accuracy</td><td>0.682</td></tr><tr><td>decentralized_avg_eval_loss</td><td>1.07828</td></tr><tr><td>decentralized_avg_train_accuracy</td><td>0.69461</td></tr><tr><td>decentralized_avg_train_loss</td><td>1.03997</td></tr></table><br/></div></div>"
      ],
      "text/plain": [
       "<IPython.core.display.HTML object>"
      ]
     },
     "metadata": {},
     "output_type": "display_data"
    },
    {
     "data": {
      "text/html": [
       " View run <strong style=\"color:#cdcd00\">fl_gs_50_8_global_0.9_3</strong> at: <a href='https://wandb.ai/stefano-gamba-social-politecnico-di-torino/fl_v5_50_8_grid_search/runs/fl_gs_50_8_global_0.9_3' target=\"_blank\">https://wandb.ai/stefano-gamba-social-politecnico-di-torino/fl_v5_50_8_grid_search/runs/fl_gs_50_8_global_0.9_3</a><br> View project at: <a href='https://wandb.ai/stefano-gamba-social-politecnico-di-torino/fl_v5_50_8_grid_search' target=\"_blank\">https://wandb.ai/stefano-gamba-social-politecnico-di-torino/fl_v5_50_8_grid_search</a><br>Synced 5 W&B file(s), 0 media file(s), 0 artifact file(s) and 0 other file(s)"
      ],
      "text/plain": [
       "<IPython.core.display.HTML object>"
      ]
     },
     "metadata": {},
     "output_type": "display_data"
    },
    {
     "data": {
      "text/html": [
       "Find logs at: <code>./wandb/run-20250627_154359-fl_gs_50_8_global_0.9_3/logs</code>"
      ],
      "text/plain": [
       "<IPython.core.display.HTML object>"
      ]
     },
     "metadata": {},
     "output_type": "display_data"
    }
   ],
   "source": [
    "# Run simulations\n",
    "for m_calibration_rounds, m_type, m_sparsity in product(calibration_rounds, mask_types, sparsities):\n",
    "    reset_partition()\n",
    "    \n",
    "    print('-' * 200)\n",
    "    print(f\" Nc={num_shards_per_partition}, J={J}, mask_type={m_type}, sparsity={m_sparsity}, mask_calibration_round={m_calibration_rounds}\\n\")\n",
    "    \n",
    "    model_checkpoint = CHECKPOINT_DIR + f\"/fl/non-iid/GS/{num_shards_per_partition}_{J}_{m_type}_{m_sparsity}_{m_calibration_rounds}\"\n",
    "    \n",
    "    # Load Base model\n",
    "    model, start_epoch = load_or_create(\n",
    "        path=model_save_path,\n",
    "        model_class=BaseDino,\n",
    "        model_config=None,\n",
    "        optimizer=None,\n",
    "        scheduler=None,\n",
    "        device=DEVICE,\n",
    "    )\n",
    "    model.to(DEVICE)\n",
    "\n",
    "    if model_editing:\n",
    "        # Create a dummy mask for SparseSGDM\n",
    "        dummy_mask = [torch.ones_like(p, device=p.device) for p in model.parameters()]\n",
    "        \n",
    "        optimizer = SparseSGDM(\n",
    "            model.parameters(),\n",
    "            mask=dummy_mask,\n",
    "            lr=lr,\n",
    "            momentum=momentum,\n",
    "            weight_decay=weight_decay\n",
    "        )\n",
    "    else:\n",
    "        optimizer = SGD(model.parameters(), lr=lr, momentum=momentum)\n",
    "    criterion = torch.nn.CrossEntropyLoss()\n",
    "    \n",
    "    # Unfreeze entire model for model_editing\n",
    "    model.unfreeze_blocks(unfreeze_blocks)\n",
    "\n",
    "    # Wandb settings\n",
    "    use_wandb = True\n",
    "    run_name = f\"fl_gs_{num_shards_per_partition}_{J}_{m_type}_{m_sparsity}_{m_calibration_rounds}\"\n",
    "    wandb_config = {\n",
    "        # wandb param\n",
    "        'name': run_name,\n",
    "        'project_name': f\"fl_v5_{num_shards_per_partition}_{J}_grid_search\",\n",
    "        'run_id': run_name,\n",
    "        \n",
    "        # fl config\n",
    "        \"fraction_fit\": fraction_fit,\n",
    "        \"lr\": lr,\n",
    "        \"momentum\": momentum,\n",
    "        'weight_decay': weight_decay,\n",
    "        'partition_type': partition_type,\n",
    "        'K': K,\n",
    "        'C': C,\n",
    "        'J': J,\n",
    "        'Nc': num_shards_per_partition,\n",
    "        \n",
    "        # model config\n",
    "        'head_layers': head_layers,\n",
    "        'head_hidden_size': head_hidden_size,\n",
    "        'dropout_rate': dropout_rate,\n",
    "        'unfreeze_blocks': unfreeze_blocks,\n",
    "        \n",
    "        # model editing config\n",
    "        'model_editing_batch_size': model_editing_batch_size,\n",
    "        'mask_calibration_round': m_calibration_rounds,\n",
    "        'mask_type': m_type,\n",
    "        'sparsity': m_sparsity\n",
    "    }\n",
    "\n",
    "    client = get_client_app(\n",
    "        model=model,\n",
    "        optimizer=optimizer,\n",
    "        criterion=criterion,\n",
    "        device=DEVICE,\n",
    "        partition_type=partition_type,\n",
    "        local_epochs=1,\n",
    "        local_steps=J,\n",
    "        batch_size=batch_size,\n",
    "        num_shards_per_partition=num_shards_per_partition,\n",
    "        scheduler=None,\n",
    "        model_editing=model_editing,\n",
    "        mask_type=m_type,\n",
    "        sparsity=m_sparsity,\n",
    "        mask=mask,\n",
    "        model_editing_batch_size=model_editing_batch_size,\n",
    "        mask_func=None,\n",
    "        mask_calibration_round=m_calibration_rounds\n",
    "    )\n",
    "    \n",
    "    server = get_server_app(\n",
    "        checkpoint_dir=model_checkpoint,\n",
    "        model_class=model,\n",
    "        optimizer=optimizer,\n",
    "        criterion=criterion,\n",
    "        scheduler=None,\n",
    "        num_rounds=num_rounds,\n",
    "        fraction_fit=fraction_fit,\n",
    "        fraction_evaluate=fraction_evaluate,\n",
    "        min_fit_clients=min_fit_clients,\n",
    "        min_evaluate_clients=min_evaluate_clients,\n",
    "        min_available_clients=min_available_clients,\n",
    "        device=DEVICE,\n",
    "        use_wandb=use_wandb,\n",
    "        wandb_config=wandb_config,\n",
    "        save_every=save_every,\n",
    "        prefix='grid_search',\n",
    "        evaluate_each=evaluate_each,\n",
    "        model= model,\n",
    "        start_epoch= start_epoch\n",
    "    )\n",
    "    \n",
    "    # Run simulation\n",
    "    run_simulation(\n",
    "        server_app=server,\n",
    "        client_app=client,\n",
    "        num_supernodes=NUM_CLIENTS,\n",
    "        backend_config=backend_config\n",
    "    )\n",
    "\n",
    "    if use_wandb:\n",
    "        wandb.finish()"
   ]
  }
 ],
 "metadata": {
  "kernelspec": {
   "display_name": "fl-g13",
   "language": "python",
   "name": "python3"
  },
  "language_info": {
   "codemirror_mode": {
    "name": "ipython",
    "version": 3
   },
   "file_extension": ".py",
   "mimetype": "text/x-python",
   "name": "python",
   "nbconvert_exporter": "python",
   "pygments_lexer": "ipython3",
   "version": "3.11.11"
  }
 },
 "nbformat": 4,
 "nbformat_minor": 5
}
