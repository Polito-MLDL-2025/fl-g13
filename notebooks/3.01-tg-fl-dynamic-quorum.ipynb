{
 "cells": [
  {
   "cell_type": "code",
   "execution_count": 1,
   "id": "ce4acd14",
   "metadata": {},
   "outputs": [],
   "source": [
    "%load_ext autoreload\n",
    "%autoreload 2"
   ]
  },
  {
   "cell_type": "code",
   "execution_count": 2,
   "id": "9cf2ecd5",
   "metadata": {},
   "outputs": [
    {
     "name": "stderr",
     "output_type": "stream",
     "text": [
      "\u001b[32m2025-06-17 18:50:18.097\u001b[0m | \u001b[1mINFO    \u001b[0m | \u001b[36mfl_g13.config\u001b[0m:\u001b[36m<module>\u001b[0m:\u001b[36m11\u001b[0m - \u001b[1mPROJ_ROOT path is: C:\\Users\\ciovi\\Desktop\\coding\\mldl\\fl-g13\u001b[0m\n",
      "c:\\Users\\ciovi\\Desktop\\coding\\mldl\\fl-g13\\.venv\\lib\\site-packages\\dockerpycreds\\utils.py:1: DeprecationWarning: The distutils package is deprecated and slated for removal in Python 3.12. Use setuptools or check PEP 632 for potential alternatives\n",
      "  import distutils.spawn\n"
     ]
    }
   ],
   "source": [
    "import flwr\n",
    "import torch\n",
    "\n",
    "from fl_g13.fl_pytorch.editing.centralized_mask import load_mask\n",
    "from fl_g13.fl_pytorch.editing.centralized_mask import save_mask\n",
    "from fl_g13.fl_pytorch import build_fl_dependencies"
   ]
  },
  {
   "cell_type": "code",
   "execution_count": 3,
   "id": "9c8bb983",
   "metadata": {},
   "outputs": [
    {
     "name": "stdout",
     "output_type": "stream",
     "text": [
      "Training on cuda\n",
      "Flower 1.17.0 / PyTorch 2.7.1+cu128\n",
      "'vision_transformer.py' already exists.\n",
      "'utils.py' already exists.\n"
     ]
    }
   ],
   "source": [
    "DEVICE = \"cuda\" if torch.cuda.is_available() else \"cpu\"\n",
    "print(f\"Training on {DEVICE}\")\n",
    "print(f\"Flower {flwr.__version__} / PyTorch {torch.__version__}\")\n",
    "\n",
    "build_fl_dependencies()"
   ]
  },
  {
   "cell_type": "code",
   "execution_count": 4,
   "id": "3c5b1958",
   "metadata": {},
   "outputs": [
    {
     "data": {
      "text/plain": [
       "True"
      ]
     },
     "execution_count": 4,
     "metadata": {},
     "output_type": "execute_result"
    }
   ],
   "source": [
    "import dotenv\n",
    "\n",
    "dotenv.load_dotenv()"
   ]
  },
  {
   "cell_type": "code",
   "execution_count": 5,
   "id": "22bfc04a",
   "metadata": {},
   "outputs": [
    {
     "name": "stderr",
     "output_type": "stream",
     "text": [
      "wandb: Using wandb-core as the SDK backend.  Please refer to https://wandb.me/wandb-core for more information.\n",
      "wandb: WARNING If you're specifying your api key in code, ensure this code is not shared publicly.\n",
      "wandb: WARNING Consider setting the WANDB_API_KEY environment variable, or running `wandb login` from the command line.\n",
      "wandb: Appending key for api.wandb.ai to your netrc file: C:\\Users\\ciovi\\_netrc\n",
      "wandb: Currently logged in as: tarantino-giovanbattista01 (stefano-gamba-social-politecnico-di-torino) to https://api.wandb.ai. Use `wandb login --relogin` to force relogin\n"
     ]
    },
    {
     "data": {
      "text/plain": [
       "True"
      ]
     },
     "execution_count": 5,
     "metadata": {},
     "output_type": "execute_result"
    }
   ],
   "source": [
    "import wandb\n",
    "\n",
    "# login by key in .env file\n",
    "WANDB_API_KEY = dotenv.dotenv_values()[\"WANDB_API_KEY\"]\n",
    "wandb.login(key=WANDB_API_KEY)"
   ]
  },
  {
   "cell_type": "markdown",
   "id": "d2550af5",
   "metadata": {},
   "source": [
    "# FL CONFIG"
   ]
  },
  {
   "cell_type": "code",
   "execution_count": 6,
   "id": "15689bdd",
   "metadata": {},
   "outputs": [],
   "source": [
    "from pathlib import Path\n",
    "\n",
    "import torch\n",
    "from torch.optim.lr_scheduler import CosineAnnealingLR\n",
    "\n",
    "from fl_g13.architectures import BaseDino\n",
    "from fl_g13.editing import SparseSGDM\n",
    "\n",
    "DEBUG = False"
   ]
  },
  {
   "cell_type": "code",
   "execution_count": 7,
   "id": "556f74d3",
   "metadata": {},
   "outputs": [],
   "source": [
    "import os\n",
    "\n",
    "CHECKPOINT_DIR = \"/Users/ciovi/Desktop/coding/mldl/fl-g13/checkpoints\"\n",
    "name = 'dynamic-quorum'\n",
    "\n",
    "# Model config\n",
    "## Model Hyper-parameters\n",
    "head_layers = 3\n",
    "head_hidden_size = 512\n",
    "dropout_rate = 0.0\n",
    "unfreeze_blocks = 1\n",
    "\n",
    "## Training Hyper-parameters\n",
    "batch_size = 128\n",
    "lr = 1e-3\n",
    "momentum = 0.9\n",
    "weight_decay = 1e-5\n",
    "T_max = 8\n",
    "eta_min = 1e-5\n",
    "\n",
    "# FL config\n",
    "K = 100\n",
    "C = 0.1\n",
    "J = 8\n",
    "num_rounds = 30\n",
    "partition_type = 'shard'\n",
    "\n",
    "## only for partition_type = 'shard'\n",
    "num_shards_per_partition = 1\n",
    "\n",
    "## Server App config\n",
    "save_every = 1\n",
    "fraction_fit = C  # Sample of available clients for training\n",
    "fraction_evaluate = 0.1  # Sample 50% of available clients for evaluation\n",
    "min_fit_clients = 10  # Never sample less than 10 clients for training\n",
    "min_evaluate_clients = 5  # Never sample less than 5 clients for evaluation\n",
    "min_available_clients = 10  # Wait until all 10 clients are available\n",
    "device = DEVICE\n",
    "## checkpoints directory\n",
    "current_path = Path.cwd()\n",
    "model_save_path = current_path / f\"../models/fl_dino_baseline/noniid\"\n",
    "checkpoint_dir = model_save_path.resolve()\n",
    "os.makedirs(checkpoint_dir, exist_ok=True)\n",
    "\n",
    "## Wandb config\n",
    "use_wandb = True\n",
    "name = \"Test_Dynamic_Quorum_v2\"\n",
    "strategy = 'quorum'\n",
    "\n",
    "wandb_config = {\n",
    "    # wandb param\n",
    "    'name': name,\n",
    "    'project_name': \"testing-quorum\",\n",
    "    # model config param\n",
    "    \"fraction_fit\": fraction_fit,\n",
    "    \"lr\": lr,\n",
    "    \"momentum\": momentum,\n",
    "    'partition_type': partition_type,\n",
    "    'K': K,\n",
    "    'C': C,\n",
    "    'J': J,\n",
    "}\n",
    "\n",
    "# model editing config\n",
    "model_editing = True\n",
    "mask_type = 'local'\n",
    "sparsity = 0.8\n",
    "mask = None\n",
    "\n",
    "## simulation run config\n",
    "NUM_CLIENTS = 100\n",
    "MAX_PARALLEL_CLIENTS = 10\n",
    "\n",
    "if DEBUG:\n",
    "    use_wandb = False\n",
    "    num_rounds = 2\n",
    "    J = 4"
   ]
  },
  {
   "cell_type": "code",
   "execution_count": 8,
   "id": "01f8d755",
   "metadata": {},
   "outputs": [
    {
     "name": "stdout",
     "output_type": "stream",
     "text": [
      "🔍 Loading checkpoint from C:\\Users\\ciovi\\Desktop\\coding\\mldl\\fl-g13\\models\\fl_dino_baseline\\noniid\\fl_fl_baseline_BaseDino_epoch_200_noniid_1_8.pth\n",
      "📦 Model class in checkpoint: BaseDino\n",
      "🔧 Model configuration: {'variant': 'dino_vits16', 'dropout_rate': 0.0, 'head_hidden_size': 512, 'head_layers': 3, 'num_classes': 100, 'unfreeze_blocks': 0, 'activation_fn': 'GELU', 'pretrained': True}\n"
     ]
    },
    {
     "name": "stderr",
     "output_type": "stream",
     "text": [
      "Using cache found in C:\\Users\\ciovi/.cache\\torch\\hub\\facebookresearch_dino_main\n",
      "Using cache found in C:\\Users\\ciovi/.cache\\torch\\hub\\facebookresearch_dino_main\n"
     ]
    },
    {
     "name": "stdout",
     "output_type": "stream",
     "text": [
      "➡️ Moved model to device: cuda\n",
      "✅ Loaded checkpoint from C:\\Users\\ciovi\\Desktop\\coding\\mldl\\fl-g13\\models\\fl_dino_baseline\\noniid\\fl_fl_baseline_BaseDino_epoch_200_noniid_1_8.pth, resuming at epoch 201\n"
     ]
    }
   ],
   "source": [
    "from fl_g13.modeling import load_or_create\n",
    "\n",
    "# Model\n",
    "model, start_epoch = load_or_create(\n",
    "    path=checkpoint_dir,\n",
    "    model_class=BaseDino,\n",
    "    model_config=None,\n",
    "    optimizer=None,\n",
    "    scheduler=None,\n",
    "    device=device,\n",
    "    verbose=True,\n",
    ")\n",
    "model.to(DEVICE)\n",
    "\n",
    "unfreeze_blocks = 12\n",
    "model.unfreeze_blocks(unfreeze_blocks)\n",
    "# optimizer = SGD(model.parameters(), lr=lr, momentum=momentum)\n",
    "\n",
    "# Create a dummy mask for SparseSGDM\n",
    "# Must be done AFTER the model is moved to the device\n",
    "init_mask = [torch.ones_like(p, device=p.device) for p in model.parameters()]\n",
    "\n",
    "# Optimizer, scheduler, and loss function\n",
    "optimizer = SparseSGDM(\n",
    "    model.parameters(),\n",
    "    mask=init_mask,\n",
    "    lr=lr,\n",
    "    momentum=0.9,\n",
    "    weight_decay=1e-5\n",
    ")\n",
    "criterion = torch.nn.CrossEntropyLoss()\n",
    "scheduler = CosineAnnealingLR(\n",
    "    optimizer=optimizer,\n",
    "    T_max=T_max,\n",
    "    eta_min=eta_min\n",
    ")"
   ]
  },
  {
   "cell_type": "code",
   "execution_count": 9,
   "id": "8f3c4c96",
   "metadata": {},
   "outputs": [],
   "source": [
    "from typing import Dict, Any\n",
    "\n",
    "def compute_mask_stats(mask_dict: Dict[str, torch.Tensor]) -> Dict[str, Any]:\n",
    "    \"\"\"\n",
    "    Computes various statistics for a mask represented as a dictionary\n",
    "    mapping parameter names to mask tensors.\n",
    "\n",
    "    Args:\n",
    "        mask_dict: A dictionary where keys are parameter names (str)\n",
    "            and values are mask tensors (torch.Tensor) containing 0s and 1s.\n",
    "\n",
    "    Returns:\n",
    "        A dictionary containing overall and layer-wise mask statistics.\n",
    "    \"\"\"\n",
    "    stats = {}\n",
    "\n",
    "    # --- Overall Statistics ---\n",
    "    total_elements = 0\n",
    "    kept_elements_overall = 0  # Elements with value 1\n",
    "    masked_elements_overall = 0  # Elements with value 0\n",
    "\n",
    "    for name, mask_tensor in mask_dict.items():\n",
    "        num_elements = mask_tensor.numel()\n",
    "        kept_in_layer = torch.sum(mask_tensor == 1).item()\n",
    "        masked_in_layer = num_elements - kept_in_layer\n",
    "\n",
    "        total_elements += num_elements\n",
    "        kept_elements_overall += kept_in_layer\n",
    "        masked_elements_overall += masked_in_layer\n",
    "\n",
    "        # --- Layer-wise Statistics ---\n",
    "        layer_stats = {\n",
    "            'num_elements': num_elements,\n",
    "            'kept_elements': kept_in_layer,\n",
    "            'masked_elements': masked_in_layer,\n",
    "            'density': kept_in_layer / num_elements if num_elements > 0 else 0.0,\n",
    "            'sparsity': masked_in_layer / num_elements if num_elements > 0 else 0.0\n",
    "        }\n",
    "        stats[name] = layer_stats\n",
    "\n",
    "    # --- Add Overall Statistics to the result dictionary ---\n",
    "    stats['overall'] = {\n",
    "        'total_elements': total_elements,\n",
    "        'kept_elements': kept_elements_overall,\n",
    "        'masked_elements': masked_elements_overall,\n",
    "        'density': kept_elements_overall / total_elements if total_elements > 0 else 0.0,\n",
    "        'sparsity': masked_elements_overall / total_elements if total_elements > 0 else 0.0\n",
    "    }\n",
    "\n",
    "    return stats\n",
    "\n",
    "def print_mask_stats(stats: Dict[str, Any], layer=False):\n",
    "    \"\"\"\n",
    "    Prints the mask statistics in a readable format.\n",
    "\n",
    "    Args:\n",
    "        stats: The dictionary returned by compute_mask_stats.\n",
    "    \"\"\"\n",
    "    if 'overall' not in stats:\n",
    "        print(\"Invalid stats dictionary format.\")\n",
    "        return\n",
    "\n",
    "    overall_stats = stats['overall']\n",
    "    print(\"--- Overall Mask Statistics ---\")\n",
    "    print(f\"Total Elements: {overall_stats['total_elements']}\")\n",
    "    print(f\"Kept Elements (1s): {overall_stats['kept_elements']}\")\n",
    "    print(f\"Masked Elements (0s): {overall_stats['masked_elements']}\")\n",
    "    print(f\"Overall Density: {overall_stats['density']:.4f}\")\n",
    "    print(f\"Overall Sparsity: {overall_stats['sparsity']:.4f}\")\n",
    "    print(\"-\" * 30)\n",
    "\n",
    "    if not layer:\n",
    "        return\n",
    "\n",
    "    print(\"--- Layer-wise Mask Statistics ---\")\n",
    "    # Sort layer names for consistent output\n",
    "    layer_names = sorted([name for name in stats if name != 'overall'])\n",
    "    for name in layer_names:\n",
    "        layer_stats = stats[name]\n",
    "        print(f\"Layer: {name}\")\n",
    "        print(f\"  Num Elements: {layer_stats['num_elements']}\")\n",
    "        print(f\"  Kept Elements: {layer_stats['kept_elements']}\")\n",
    "        print(f\"  Masked Elements: {layer_stats['masked_elements']}\")\n",
    "        print(f\"  Density: {layer_stats['density']:.4f}\")\n",
    "        print(f\"  Sparsity: {layer_stats['sparsity']:.4f}\")\n",
    "        print(\"-\" * 20)"
   ]
  },
  {
   "cell_type": "code",
   "execution_count": 10,
   "id": "0df80d29",
   "metadata": {},
   "outputs": [
    {
     "name": "stdout",
     "output_type": "stream",
     "text": [
      "Loaded File from memory\n"
     ]
    }
   ],
   "source": [
    "from fl_g13.fl_pytorch.editing.centralized_mask import get_client_masks\n",
    "from fl_g13.fl_pytorch.editing.centralized_mask import aggregate_by_sum\n",
    "from fl_g13.editing.masking import mask_dict_to_list\n",
    "\n",
    "## config client data set params\n",
    "client_partition_type = 'shard'  # 'iid' or 'shard' for non-iid dataset\n",
    "client_num_partitions = 100  # equal to number of client\n",
    "client_num_shards_per_partition = 1\n",
    "client_batch_size = 16\n",
    "\n",
    "## config get mask params\n",
    "mask_model = model\n",
    "mask_sparsity = 0.8\n",
    "mask_type = 'local'\n",
    "mask_rounds = 3\n",
    "\n",
    "return_scores = False\n",
    "\n",
    "file_name = f'{num_shards_per_partition}_{J}_sum_mask_{mask_type}_{mask_sparsity}_{mask_rounds}.pth'\n",
    "\n",
    "if os.path.isfile(CHECKPOINT_DIR + f'/masks/{file_name}'):\n",
    "    print('Loaded File from memory')\n",
    "    sum_mask = mask_dict_to_list(model, load_mask(CHECKPOINT_DIR + f'/masks/{file_name}'))\n",
    "else:\n",
    "    print(f\"No mask checkpoint found ({file_name}). Computing sum mask\")\n",
    "    masks, scores, _ = get_client_masks(\n",
    "        ## config client data set params\n",
    "        client_partition_type=client_partition_type,  # 'iid' or 'shard' for non-iid dataset\n",
    "        client_num_partitions=client_num_partitions,  # equal to number of client\n",
    "        client_num_shards_per_partition=client_num_shards_per_partition,\n",
    "        client_batch_size=client_batch_size,\n",
    "\n",
    "        ## config get mask params\n",
    "        mask_model=mask_model,\n",
    "        mask_sparsity=mask_sparsity,\n",
    "        mask_type=mask_type,\n",
    "        mask_rounds=mask_rounds,\n",
    "    )\n",
    "    sum_mask = aggregate_by_sum(masks)\n",
    "    save_mask(sum_mask, CHECKPOINT_DIR + f'/masks/{file_name}')\n",
    "    sum_mask = mask_dict_to_list(model, sum_mask)"
   ]
  },
  {
   "cell_type": "markdown",
   "id": "a2f10787",
   "metadata": {},
   "source": [
    "# Simulation"
   ]
  },
  {
   "cell_type": "code",
   "execution_count": 11,
   "id": "6820521f",
   "metadata": {},
   "outputs": [
    {
     "name": "stdout",
     "output_type": "stream",
     "text": [
      "Training on cuda\n"
     ]
    }
   ],
   "source": [
    "num_rounds = 220\n",
    "\n",
    "evaluate_each = 1\n",
    "partition_type = 'shard' # or 'shard' for non iid\n",
    "J = 8\n",
    "Ncs = 1\n",
    "\n",
    "model_editing_batch_size=16\n",
    "mask=None\n",
    "\n",
    "num_blocks = 12\n",
    "previous_model_path = CHECKPOINT_DIR + '/fl_dino_v4/non_iid/1_8/fl_fl_baseline_BaseDino_epoch_200_noniid_1_8.pth'\n",
    "\n",
    "# Device settings\n",
    "\n",
    "# When running on GPU, assign an entire GPU for each client\n",
    "# Refer to Flower framework documentation for more details about Flower simulations\n",
    "# and how to set up the `backend_config`\n",
    "if device == \"cuda\":\n",
    "    backend_config = {\n",
    "        \"client_resources\": {\n",
    "            \"num_cpus\": 1, \n",
    "            \"num_gpus\": 1\n",
    "        }\n",
    "    }\n",
    "else:\n",
    "    backend_config = {\n",
    "        \"client_resources\": {\n",
    "            \"num_cpus\": 1, \n",
    "            \"num_gpus\": 0\n",
    "        }\n",
    "    }\n",
    "\n",
    "print(f\"Training on {device}\")\n",
    "\n",
    "partition_name = 'iid' if partition_type == 'iid' else 'non_iid'\n",
    "model_save_path =  CHECKPOINT_DIR + f\"/fl_dino_v4/{partition_name}\"\n",
    "model_config={\n",
    "    \"head_layers\": 3,\n",
    "    \"head_hidden_size\": 512,\n",
    "    \"dropout_rate\": 0.0,\n",
    "    \"unfreeze_blocks\": 0,\n",
    "}"
   ]
  },
  {
   "cell_type": "code",
   "execution_count": 12,
   "id": "ea1a171c",
   "metadata": {},
   "outputs": [],
   "source": [
    "from fl_g13.fl_pytorch.datasets import reset_partition\n",
    "from fl_g13.modeling import load_or_create\n",
    "from torch.optim import SGD\n",
    "from tqdm import tqdm\n",
    "\n",
    "from fl_g13.fl_pytorch.client_app import get_client_app\n",
    "from fl_g13.fl_pytorch.server_app import get_server_app\n",
    "\n",
    "reset_partition()\n",
    "\n",
    "checkpoint_dir = f\"{model_save_path}/{Ncs}_{J}_dynamic-quorum\"\n",
    "os.makedirs(checkpoint_dir, exist_ok=True)\n",
    "\n",
    "client = get_client_app(\n",
    "        model=model,\n",
    "        optimizer=optimizer,\n",
    "        criterion=criterion,\n",
    "        device=device,\n",
    "        partition_type=partition_type,\n",
    "        local_epochs=1,\n",
    "        local_steps=J,\n",
    "        batch_size=batch_size,\n",
    "        num_shards_per_partition=num_shards_per_partition,\n",
    "        scheduler=scheduler,\n",
    "        verbose=0,\n",
    "        mask=mask,\n",
    "        model_editing_batch_size=model_editing_batch_size,\n",
    "        mask_func=None,\n",
    "        strategy=strategy,\n",
    "    )\n",
    "\n",
    "compute_round = num_rounds + 1 - start_epoch\n",
    "server = get_server_app(\n",
    "    global_mask = sum_mask,\n",
    "    num_total_clients = 100,\n",
    "    quorum_increment = 5,\n",
    "    quorum_update_frequency = 1,\n",
    "    initial_quorum = 1,\n",
    "    \n",
    "    checkpoint_dir=checkpoint_dir,\n",
    "    model_class=model,\n",
    "    optimizer=optimizer,\n",
    "    criterion=criterion,\n",
    "    scheduler=scheduler,\n",
    "    num_rounds=compute_round,\n",
    "    fraction_fit=fraction_fit,\n",
    "    fraction_evaluate=fraction_evaluate,\n",
    "    min_fit_clients=min_fit_clients,\n",
    "    min_evaluate_clients=min_evaluate_clients,\n",
    "    min_available_clients=min_available_clients,\n",
    "    device = device,\n",
    "    use_wandb=use_wandb,\n",
    "    wandb_config = wandb_config,\n",
    "    save_every=save_every,\n",
    "    prefix = name,\n",
    "    evaluate_each=evaluate_each,\n",
    "    model = model,\n",
    "    start_epoch=start_epoch,\n",
    "    strategy=strategy\n",
    ")"
   ]
  },
  {
   "cell_type": "code",
   "execution_count": 13,
   "id": "81efd104",
   "metadata": {},
   "outputs": [
    {
     "name": "stdout",
     "output_type": "stream",
     "text": [
      "[Server] Server on device: cuda:0\n",
      "[Server] CUDA available in client: True\n",
      "Using strategy 'DynmicQuorum'\n"
     ]
    },
    {
     "name": "stderr",
     "output_type": "stream",
     "text": [
      "c:\\Users\\ciovi\\Desktop\\coding\\mldl\\fl-g13\\.venv\\lib\\site-packages\\wandb\\analytics\\sentry.py:259: DeprecationWarning: The `Scope.user` setter is deprecated in favor of `Scope.set_user()`.\n",
      "  self.scope.user = {\"email\": email}  # noqa\n"
     ]
    },
    {
     "data": {
      "text/html": [
       "Tracking run with wandb version 0.19.9"
      ],
      "text/plain": [
       "<IPython.core.display.HTML object>"
      ]
     },
     "metadata": {},
     "output_type": "display_data"
    },
    {
     "data": {
      "text/html": [
       "Run data is saved locally in <code>c:\\Users\\ciovi\\Desktop\\coding\\mldl\\fl-g13\\notebooks\\wandb\\run-20250617_185024-rf8969ri</code>"
      ],
      "text/plain": [
       "<IPython.core.display.HTML object>"
      ]
     },
     "metadata": {},
     "output_type": "display_data"
    },
    {
     "data": {
      "text/html": [
       "Syncing run <strong><a href='https://wandb.ai/stefano-gamba-social-politecnico-di-torino/testing-quorum/runs/rf8969ri' target=\"_blank\">Test_Dynamic_Quorum_v2</a></strong> to <a href='https://wandb.ai/stefano-gamba-social-politecnico-di-torino/testing-quorum' target=\"_blank\">Weights & Biases</a> (<a href='https://wandb.me/developer-guide' target=\"_blank\">docs</a>)<br>"
      ],
      "text/plain": [
       "<IPython.core.display.HTML object>"
      ]
     },
     "metadata": {},
     "output_type": "display_data"
    },
    {
     "data": {
      "text/html": [
       " View project at <a href='https://wandb.ai/stefano-gamba-social-politecnico-di-torino/testing-quorum' target=\"_blank\">https://wandb.ai/stefano-gamba-social-politecnico-di-torino/testing-quorum</a>"
      ],
      "text/plain": [
       "<IPython.core.display.HTML object>"
      ]
     },
     "metadata": {},
     "output_type": "display_data"
    },
    {
     "data": {
      "text/html": [
       " View run at <a href='https://wandb.ai/stefano-gamba-social-politecnico-di-torino/testing-quorum/runs/rf8969ri' target=\"_blank\">https://wandb.ai/stefano-gamba-social-politecnico-di-torino/testing-quorum/runs/rf8969ri</a>"
      ],
      "text/plain": [
       "<IPython.core.display.HTML object>"
      ]
     },
     "metadata": {},
     "output_type": "display_data"
    },
    {
     "name": "stderr",
     "output_type": "stream",
     "text": [
      "\u001b[92mINFO \u001b[0m:      Initialized FedAvgDynamicQuorum strategy with a pre-computed mask sum.\n",
      "\u001b[92mINFO \u001b[0m:      Starting Flower ServerApp, config: num_rounds=20, no round_timeout\n",
      "\u001b[92mINFO \u001b[0m:      \n",
      "\u001b[92mINFO \u001b[0m:      [INIT]\n",
      "\u001b[92mINFO \u001b[0m:      Using initial global parameters provided by strategy\n",
      "\u001b[92mINFO \u001b[0m:      Starting evaluation of initial global parameters\n"
     ]
    },
    {
     "name": "stdout",
     "output_type": "stream",
     "text": [
      "[Server Eval Round 0] Model device: cuda:0\n",
      "[Server Eval Round 0] CUDA available in server eval: True\n"
     ]
    },
    {
     "name": "stderr",
     "output_type": "stream",
     "text": [
      "Eval progress: 100%|██████████| 313/313 [00:22<00:00, 13.68batch/s]\n",
      "\u001b[92mINFO \u001b[0m:      [Round 0] Centralized Evaluation - Loss: 2.4058, Metrics: {'centralized_accuracy': 0.3788}\n",
      "\u001b[92mINFO \u001b[0m:      initial parameters (loss, other metrics): 2.405825910476831, {'centralized_accuracy': 0.3788}\n",
      "\u001b[92mINFO \u001b[0m:      \n",
      "\u001b[92mINFO \u001b[0m:      [ROUND 1]\n",
      "\u001b[92mINFO \u001b[0m:      [Round 1] Generated initial global mask with quorum 1. Sparsity: 0.6973\n",
      "\u001b[92mINFO \u001b[0m:      configure_fit: strategy sampled 10 clients (out of 100)\n",
      "(ClientAppActor pid=19036) 2025-06-17 18:50:52.378 | INFO     | fl_g13.config:<module>:11 - PROJ_ROOT path is: C:\\Users\\ciovi\\Desktop\\coding\\mldl\\fl-g13\n",
      "(ClientAppActor pid=19036) c:\\Users\\ciovi\\Desktop\\coding\\mldl\\fl-g13\\.venv\\lib\\site-packages\\dockerpycreds\\utils.py:1: DeprecationWarning: The distutils package is deprecated and slated for removal in Python 3.12. Use setuptools or check PEP 632 for potential alternatives\n",
      "(ClientAppActor pid=19036)   import distutils.spawn\n"
     ]
    },
    {
     "name": "stdout",
     "output_type": "stream",
     "text": [
      "(ClientAppActor pid=19036) [Client] Client on device: cuda:0\n",
      "(ClientAppActor pid=19036) [Client] CUDA available in client: True\n"
     ]
    },
    {
     "name": "stderr",
     "output_type": "stream",
     "text": [
      "(ClientAppActor pid=19036) WARNING :   Deprecation Warning: The `client_fn` function must return an instance of `Client`, but an instance of `NumpyClient` was returned. Please use `NumPyClient.to_client()` method to convert it to `Client`.\n"
     ]
    },
    {
     "name": "stdout",
     "output_type": "stream",
     "text": [
      "(ClientAppActor pid=19036) PrecomputingClient initialized.\n",
      "(ClientAppActor pid=19036) No prefix/name for the model was provided, choosen prefix/name: sleepy_nidorino_32\n",
      "(ClientAppActor pid=19036) \n",
      "(ClientAppActor pid=19036) Step 1/8 | Total batches: 4\n",
      "(ClientAppActor pid=19036) Step 2/8 | Total batches: 4\n",
      "(ClientAppActor pid=19036) Step 3/8 | Total batches: 4\n",
      "(ClientAppActor pid=19036) Step 4/8 | Total batches: 4\n",
      "(ClientAppActor pid=19036) Step 5/8 | Total batches: 4\n",
      "(ClientAppActor pid=19036) Step 6/8 | Total batches: 4\n",
      "(ClientAppActor pid=19036) Step 7/8 | Total batches: 4\n",
      "(ClientAppActor pid=19036) Step 8/8 | Total batches: 4\n"
     ]
    },
    {
     "name": "stderr",
     "output_type": "stream",
     "text": [
      "(ClientAppActor pid=19036) c:\\Users\\ciovi\\Desktop\\coding\\mldl\\fl-g13\\.venv\\lib\\site-packages\\torch\\optim\\lr_scheduler.py:172: UserWarning: Seems like `optimizer.step()` has been overridden after learning rate scheduler initialization. Please, make sure to call `optimizer.step()` before `lr_scheduler.step()`. See more details at https://pytorch.org/docs/stable/optim.html#how-to-adjust-learning-rate\n",
      "(ClientAppActor pid=19036)   warnings.warn(\n"
     ]
    },
    {
     "name": "stdout",
     "output_type": "stream",
     "text": [
      "(ClientAppActor pid=19036) 🚀 Epoch 1/1 (100.00%) Completed\n",
      "(ClientAppActor pid=19036) \t📊 Training Loss: 0.2042\n",
      "(ClientAppActor pid=19036) \t✅ Training Accuracy: 92.38%\n",
      "(ClientAppActor pid=19036) \t⏳ Elapsed Time: 3.57s | ETA: 0.00s\n",
      "(ClientAppActor pid=19036) \t🕒 Completed At: 18:51\n",
      "(ClientAppActor pid=19036) \n"
     ]
    },
    {
     "name": "stderr",
     "output_type": "stream",
     "text": [
      "(ClientAppActor pid=19036) WARNING :   Deprecation Warning: The `client_fn` function must return an instance of `Client`, but an instance of `NumpyClient` was returned. Please use `NumPyClient.to_client()` method to convert it to `Client`.\n"
     ]
    },
    {
     "name": "stdout",
     "output_type": "stream",
     "text": [
      "(ClientAppActor pid=19036) [Client] Client on device: cuda:0\n",
      "(ClientAppActor pid=19036) [Client] CUDA available in client: True\n",
      "(ClientAppActor pid=19036) PrecomputingClient initialized.\n",
      "(ClientAppActor pid=19036) No prefix/name for the model was provided, choosen prefix/name: sleepy_weedle_25\n",
      "(ClientAppActor pid=19036) \n",
      "(ClientAppActor pid=19036) Step 1/8 | Total batches: 4\n",
      "(ClientAppActor pid=19036) Step 2/8 | Total batches: 4\n",
      "(ClientAppActor pid=19036) Step 3/8 | Total batches: 4\n",
      "(ClientAppActor pid=19036) Step 4/8 | Total batches: 4\n",
      "(ClientAppActor pid=19036) Step 5/8 | Total batches: 4\n",
      "(ClientAppActor pid=19036) Step 6/8 | Total batches: 4\n",
      "(ClientAppActor pid=19036) Step 7/8 | Total batches: 4\n",
      "(ClientAppActor pid=19036) Step 8/8 | Total batches: 4\n",
      "(ClientAppActor pid=19036) 🚀 Epoch 1/1 (100.00%) Completed\n",
      "(ClientAppActor pid=19036) \t📊 Training Loss: 0.4123\n",
      "(ClientAppActor pid=19036) \t✅ Training Accuracy: 86.88%\n",
      "(ClientAppActor pid=19036) \t⏳ Elapsed Time: 3.43s | ETA: 0.00s\n",
      "(ClientAppActor pid=19036) \t🕒 Completed At: 18:51\n",
      "(ClientAppActor pid=19036) \n",
      "(ClientAppActor pid=19036) [Client] Client on device: cuda:0\n",
      "(ClientAppActor pid=19036) [Client] CUDA available in client: True\n"
     ]
    },
    {
     "name": "stderr",
     "output_type": "stream",
     "text": [
      "(ClientAppActor pid=19036) WARNING :   Deprecation Warning: The `client_fn` function must return an instance of `Client`, but an instance of `NumpyClient` was returned. Please use `NumPyClient.to_client()` method to convert it to `Client`.\n"
     ]
    },
    {
     "name": "stdout",
     "output_type": "stream",
     "text": [
      "(ClientAppActor pid=19036) PrecomputingClient initialized.\n",
      "(ClientAppActor pid=19036) No prefix/name for the model was provided, choosen prefix/name: happy_venusaur_91\n",
      "(ClientAppActor pid=19036) \n",
      "(ClientAppActor pid=19036) Step 1/8 | Total batches: 4\n",
      "(ClientAppActor pid=19036) Step 2/8 | Total batches: 4\n",
      "(ClientAppActor pid=19036) Step 3/8 | Total batches: 4\n",
      "(ClientAppActor pid=19036) Step 4/8 | Total batches: 4\n",
      "(ClientAppActor pid=19036) Step 5/8 | Total batches: 4\n",
      "(ClientAppActor pid=19036) Step 6/8 | Total batches: 4\n",
      "(ClientAppActor pid=19036) Step 7/8 | Total batches: 4\n",
      "(ClientAppActor pid=19036) Step 8/8 | Total batches: 4\n",
      "(ClientAppActor pid=19036) 🚀 Epoch 1/1 (100.00%) Completed\n",
      "(ClientAppActor pid=19036) \t📊 Training Loss: 0.1372\n",
      "(ClientAppActor pid=19036) \t✅ Training Accuracy: 96.00%\n",
      "(ClientAppActor pid=19036) \t⏳ Elapsed Time: 3.43s | ETA: 0.00s\n",
      "(ClientAppActor pid=19036) \t🕒 Completed At: 18:51\n",
      "(ClientAppActor pid=19036) \n"
     ]
    },
    {
     "name": "stderr",
     "output_type": "stream",
     "text": [
      "(ClientAppActor pid=19036) WARNING :   Deprecation Warning: The `client_fn` function must return an instance of `Client`, but an instance of `NumpyClient` was returned. Please use `NumPyClient.to_client()` method to convert it to `Client`.\n"
     ]
    },
    {
     "name": "stdout",
     "output_type": "stream",
     "text": [
      "(ClientAppActor pid=19036) [Client] Client on device: cuda:0\n",
      "(ClientAppActor pid=19036) [Client] CUDA available in client: True\n",
      "(ClientAppActor pid=19036) PrecomputingClient initialized.\n",
      "(ClientAppActor pid=19036) No prefix/name for the model was provided, choosen prefix/name: wacky_sandslash_87\n",
      "(ClientAppActor pid=19036) \n",
      "(ClientAppActor pid=19036) Step 1/8 | Total batches: 4\n",
      "(ClientAppActor pid=19036) Step 2/8 | Total batches: 4\n",
      "(ClientAppActor pid=19036) Step 3/8 | Total batches: 4\n",
      "(ClientAppActor pid=19036) Step 4/8 | Total batches: 4\n",
      "(ClientAppActor pid=19036) Step 5/8 | Total batches: 4\n",
      "(ClientAppActor pid=19036) Step 6/8 | Total batches: 4\n",
      "(ClientAppActor pid=19036) Step 7/8 | Total batches: 4\n",
      "(ClientAppActor pid=19036) Step 8/8 | Total batches: 4\n",
      "(ClientAppActor pid=19036) 🚀 Epoch 1/1 (100.00%) Completed\n",
      "(ClientAppActor pid=19036) \t📊 Training Loss: 0.0634\n",
      "(ClientAppActor pid=19036) \t✅ Training Accuracy: 99.00%\n",
      "(ClientAppActor pid=19036) \t⏳ Elapsed Time: 3.42s | ETA: 0.00s\n",
      "(ClientAppActor pid=19036) \t🕒 Completed At: 18:51\n",
      "(ClientAppActor pid=19036) \n"
     ]
    },
    {
     "name": "stderr",
     "output_type": "stream",
     "text": [
      "(ClientAppActor pid=19036) WARNING :   Deprecation Warning: The `client_fn` function must return an instance of `Client`, but an instance of `NumpyClient` was returned. Please use `NumPyClient.to_client()` method to convert it to `Client`.\n"
     ]
    },
    {
     "name": "stdout",
     "output_type": "stream",
     "text": [
      "(ClientAppActor pid=19036) [Client] Client on device: cuda:0\n",
      "(ClientAppActor pid=19036) [Client] CUDA available in client: True\n",
      "(ClientAppActor pid=19036) PrecomputingClient initialized.\n",
      "(ClientAppActor pid=19036) No prefix/name for the model was provided, choosen prefix/name: cheeky_nidorina_69\n",
      "(ClientAppActor pid=19036) \n",
      "(ClientAppActor pid=19036) Step 1/8 | Total batches: 4\n",
      "(ClientAppActor pid=19036) Step 2/8 | Total batches: 4\n",
      "(ClientAppActor pid=19036) Step 3/8 | Total batches: 4\n",
      "(ClientAppActor pid=19036) Step 4/8 | Total batches: 4\n",
      "(ClientAppActor pid=19036) Step 5/8 | Total batches: 4\n",
      "(ClientAppActor pid=19036) Step 6/8 | Total batches: 4\n",
      "(ClientAppActor pid=19036) Step 7/8 | Total batches: 4\n",
      "(ClientAppActor pid=19036) Step 8/8 | Total batches: 4\n",
      "(ClientAppActor pid=19036) 🚀 Epoch 1/1 (100.00%) Completed\n",
      "(ClientAppActor pid=19036) \t📊 Training Loss: 0.4079\n",
      "(ClientAppActor pid=19036) \t✅ Training Accuracy: 89.50%\n",
      "(ClientAppActor pid=19036) \t⏳ Elapsed Time: 3.41s | ETA: 0.00s\n",
      "(ClientAppActor pid=19036) \t🕒 Completed At: 18:51\n",
      "(ClientAppActor pid=19036) \n"
     ]
    },
    {
     "name": "stderr",
     "output_type": "stream",
     "text": [
      "(ClientAppActor pid=19036) WARNING :   Deprecation Warning: The `client_fn` function must return an instance of `Client`, but an instance of `NumpyClient` was returned. Please use `NumPyClient.to_client()` method to convert it to `Client`.\n"
     ]
    },
    {
     "name": "stdout",
     "output_type": "stream",
     "text": [
      "(ClientAppActor pid=19036) [Client] Client on device: cuda:0\n",
      "(ClientAppActor pid=19036) [Client] CUDA available in client: True\n",
      "(ClientAppActor pid=19036) PrecomputingClient initialized.\n",
      "(ClientAppActor pid=19036) No prefix/name for the model was provided, choosen prefix/name: fluffy_nidorina_21\n",
      "(ClientAppActor pid=19036) \n",
      "(ClientAppActor pid=19036) Step 1/8 | Total batches: 4\n",
      "(ClientAppActor pid=19036) Step 2/8 | Total batches: 4\n",
      "(ClientAppActor pid=19036) Step 3/8 | Total batches: 4\n",
      "(ClientAppActor pid=19036) Step 4/8 | Total batches: 4\n",
      "(ClientAppActor pid=19036) Step 5/8 | Total batches: 4\n",
      "(ClientAppActor pid=19036) Step 6/8 | Total batches: 4\n",
      "(ClientAppActor pid=19036) Step 7/8 | Total batches: 4\n",
      "(ClientAppActor pid=19036) Step 8/8 | Total batches: 4\n",
      "(ClientAppActor pid=19036) 🚀 Epoch 1/1 (100.00%) Completed\n",
      "(ClientAppActor pid=19036) \t📊 Training Loss: 0.1170\n",
      "(ClientAppActor pid=19036) \t✅ Training Accuracy: 97.62%\n",
      "(ClientAppActor pid=19036) \t⏳ Elapsed Time: 3.43s | ETA: 0.00s\n",
      "(ClientAppActor pid=19036) \t🕒 Completed At: 18:51\n",
      "(ClientAppActor pid=19036) \n"
     ]
    },
    {
     "name": "stderr",
     "output_type": "stream",
     "text": [
      "(ClientAppActor pid=19036) WARNING :   Deprecation Warning: The `client_fn` function must return an instance of `Client`, but an instance of `NumpyClient` was returned. Please use `NumPyClient.to_client()` method to convert it to `Client`.\n"
     ]
    },
    {
     "name": "stdout",
     "output_type": "stream",
     "text": [
      "(ClientAppActor pid=19036) [Client] Client on device: cuda:0\n",
      "(ClientAppActor pid=19036) [Client] CUDA available in client: True\n",
      "(ClientAppActor pid=19036) PrecomputingClient initialized.\n",
      "(ClientAppActor pid=19036) No prefix/name for the model was provided, choosen prefix/name: sleepy_rattata_74\n",
      "(ClientAppActor pid=19036) \n",
      "(ClientAppActor pid=19036) Step 1/8 | Total batches: 4\n",
      "(ClientAppActor pid=19036) Step 2/8 | Total batches: 4\n",
      "(ClientAppActor pid=19036) Step 3/8 | Total batches: 4\n",
      "(ClientAppActor pid=19036) Step 4/8 | Total batches: 4\n",
      "(ClientAppActor pid=19036) Step 5/8 | Total batches: 4\n",
      "(ClientAppActor pid=19036) Step 6/8 | Total batches: 4\n",
      "(ClientAppActor pid=19036) Step 7/8 | Total batches: 4\n",
      "(ClientAppActor pid=19036) Step 8/8 | Total batches: 4\n",
      "(ClientAppActor pid=19036) 🚀 Epoch 1/1 (100.00%) Completed\n",
      "(ClientAppActor pid=19036) \t📊 Training Loss: 0.5931\n",
      "(ClientAppActor pid=19036) \t✅ Training Accuracy: 80.25%\n",
      "(ClientAppActor pid=19036) \t⏳ Elapsed Time: 3.45s | ETA: 0.00s\n",
      "(ClientAppActor pid=19036) \t🕒 Completed At: 18:51\n",
      "(ClientAppActor pid=19036) \n"
     ]
    },
    {
     "name": "stderr",
     "output_type": "stream",
     "text": [
      "(ClientAppActor pid=19036) WARNING :   Deprecation Warning: The `client_fn` function must return an instance of `Client`, but an instance of `NumpyClient` was returned. Please use `NumPyClient.to_client()` method to convert it to `Client`.\n"
     ]
    },
    {
     "name": "stdout",
     "output_type": "stream",
     "text": [
      "(ClientAppActor pid=19036) [Client] Client on device: cuda:0\n",
      "(ClientAppActor pid=19036) [Client] CUDA available in client: True\n",
      "(ClientAppActor pid=19036) PrecomputingClient initialized.\n",
      "(ClientAppActor pid=19036) No prefix/name for the model was provided, choosen prefix/name: witty_nidoking_14\n",
      "(ClientAppActor pid=19036) \n",
      "(ClientAppActor pid=19036) Step 1/8 | Total batches: 4\n",
      "(ClientAppActor pid=19036) Step 2/8 | Total batches: 4\n",
      "(ClientAppActor pid=19036) Step 3/8 | Total batches: 4\n",
      "(ClientAppActor pid=19036) Step 4/8 | Total batches: 4\n",
      "(ClientAppActor pid=19036) Step 5/8 | Total batches: 4\n",
      "(ClientAppActor pid=19036) Step 6/8 | Total batches: 4\n",
      "(ClientAppActor pid=19036) Step 7/8 | Total batches: 4\n",
      "(ClientAppActor pid=19036) Step 8/8 | Total batches: 4\n",
      "(ClientAppActor pid=19036) 🚀 Epoch 1/1 (100.00%) Completed\n",
      "(ClientAppActor pid=19036) \t📊 Training Loss: 0.1484\n",
      "(ClientAppActor pid=19036) \t✅ Training Accuracy: 95.75%\n",
      "(ClientAppActor pid=19036) \t⏳ Elapsed Time: 3.42s | ETA: 0.00s\n",
      "(ClientAppActor pid=19036) \t🕒 Completed At: 18:51\n",
      "(ClientAppActor pid=19036) \n"
     ]
    },
    {
     "name": "stderr",
     "output_type": "stream",
     "text": [
      "(ClientAppActor pid=19036) WARNING :   Deprecation Warning: The `client_fn` function must return an instance of `Client`, but an instance of `NumpyClient` was returned. Please use `NumPyClient.to_client()` method to convert it to `Client`.\n"
     ]
    },
    {
     "name": "stdout",
     "output_type": "stream",
     "text": [
      "(ClientAppActor pid=19036) [Client] Client on device: cuda:0\n",
      "(ClientAppActor pid=19036) [Client] CUDA available in client: True\n",
      "(ClientAppActor pid=19036) PrecomputingClient initialized.\n",
      "(ClientAppActor pid=19036) No prefix/name for the model was provided, choosen prefix/name: sneezy_squirtle_79\n",
      "(ClientAppActor pid=19036) \n",
      "(ClientAppActor pid=19036) Step 1/8 | Total batches: 4\n",
      "(ClientAppActor pid=19036) Step 2/8 | Total batches: 4\n",
      "(ClientAppActor pid=19036) Step 3/8 | Total batches: 4\n",
      "(ClientAppActor pid=19036) Step 4/8 | Total batches: 4\n",
      "(ClientAppActor pid=19036) Step 5/8 | Total batches: 4\n",
      "(ClientAppActor pid=19036) Step 6/8 | Total batches: 4\n",
      "(ClientAppActor pid=19036) Step 7/8 | Total batches: 4\n",
      "(ClientAppActor pid=19036) Step 8/8 | Total batches: 4\n",
      "(ClientAppActor pid=19036) 🚀 Epoch 1/1 (100.00%) Completed\n",
      "(ClientAppActor pid=19036) \t📊 Training Loss: 0.2685\n",
      "(ClientAppActor pid=19036) \t✅ Training Accuracy: 90.00%\n",
      "(ClientAppActor pid=19036) \t⏳ Elapsed Time: 3.41s | ETA: 0.00s\n",
      "(ClientAppActor pid=19036) \t🕒 Completed At: 18:51\n",
      "(ClientAppActor pid=19036) \n"
     ]
    },
    {
     "name": "stderr",
     "output_type": "stream",
     "text": [
      "(ClientAppActor pid=19036) WARNING :   Deprecation Warning: The `client_fn` function must return an instance of `Client`, but an instance of `NumpyClient` was returned. Please use `NumPyClient.to_client()` method to convert it to `Client`.\n"
     ]
    },
    {
     "name": "stdout",
     "output_type": "stream",
     "text": [
      "(ClientAppActor pid=19036) [Client] Client on device: cuda:0\n",
      "(ClientAppActor pid=19036) [Client] CUDA available in client: True\n",
      "(ClientAppActor pid=19036) PrecomputingClient initialized.\n",
      "(ClientAppActor pid=19036) No prefix/name for the model was provided, choosen prefix/name: jumpy_sandslash_67\n",
      "(ClientAppActor pid=19036) \n",
      "(ClientAppActor pid=19036) Step 1/8 | Total batches: 4\n",
      "(ClientAppActor pid=19036) Step 2/8 | Total batches: 4\n",
      "(ClientAppActor pid=19036) Step 3/8 | Total batches: 4\n",
      "(ClientAppActor pid=19036) Step 4/8 | Total batches: 4\n",
      "(ClientAppActor pid=19036) Step 5/8 | Total batches: 4\n",
      "(ClientAppActor pid=19036) Step 6/8 | Total batches: 4\n",
      "(ClientAppActor pid=19036) Step 7/8 | Total batches: 4\n",
      "(ClientAppActor pid=19036) Step 8/8 | Total batches: 4\n",
      "(ClientAppActor pid=19036) 🚀 Epoch 1/1 (100.00%) Completed\n",
      "(ClientAppActor pid=19036) \t📊 Training Loss: 0.7855\n",
      "(ClientAppActor pid=19036) \t✅ Training Accuracy: 78.88%\n",
      "(ClientAppActor pid=19036) \t⏳ Elapsed Time: 3.42s | ETA: 0.00s\n",
      "(ClientAppActor pid=19036) \t🕒 Completed At: 18:51\n",
      "(ClientAppActor pid=19036) \n"
     ]
    },
    {
     "name": "stderr",
     "output_type": "stream",
     "text": [
      "\u001b[92mINFO \u001b[0m:      aggregate_fit: received 10 results and 0 failures\n",
      "\u001b[92mINFO \u001b[0m:      [Round 1] Avg Drift: 0.0010 | Relative Drift: 0.0000\n",
      "\u001b[92mINFO \u001b[0m:      [Round 1] Saving aggregated model at epoch 201...\n"
     ]
    },
    {
     "name": "stdout",
     "output_type": "stream",
     "text": [
      "💾 Saved checkpoint at: /Users/ciovi/Desktop/coding/mldl/fl-g13/checkpoints/fl_dino_v4/non_iid/1_8_dynamic-quorum\\fl_Test_Dynamic_Quorum_v2_BaseDino_epoch_201.pth\n",
      "[Server Eval Round 1] Model device: cuda:0\n",
      "[Server Eval Round 1] CUDA available in server eval: True\n"
     ]
    },
    {
     "name": "stderr",
     "output_type": "stream",
     "text": [
      "Eval progress: 100%|██████████| 313/313 [00:22<00:00, 13.89batch/s]\n",
      "\u001b[92mINFO \u001b[0m:      [Round 1] Centralized Evaluation - Loss: 3.2184, Metrics: {'centralized_accuracy': 0.2536}\n",
      "\u001b[92mINFO \u001b[0m:      fit progress: (1, 3.2184489565535475, {'centralized_accuracy': 0.2536}, 89.43404849999934)\n",
      "\u001b[92mINFO \u001b[0m:      configure_evaluate: strategy sampled 10 clients (out of 100)\n",
      "(ClientAppActor pid=19036) WARNING :   Deprecation Warning: The `client_fn` function must return an instance of `Client`, but an instance of `NumpyClient` was returned. Please use `NumPyClient.to_client()` method to convert it to `Client`.\n",
      "Eval progress:   0%|          | 0/1 [00:00<?, ?batch/s]\n"
     ]
    },
    {
     "name": "stdout",
     "output_type": "stream",
     "text": [
      "(ClientAppActor pid=19036) [Client] Client on device: cuda:0\n",
      "(ClientAppActor pid=19036) [Client] CUDA available in client: True\n",
      "(ClientAppActor pid=19036) PrecomputingClient initialized.\n"
     ]
    },
    {
     "name": "stderr",
     "output_type": "stream",
     "text": [
      "Eval progress: 100%|██████████| 1/1 [00:00<00:00,  3.76batch/s]\n",
      "(ClientAppActor pid=19036) WARNING :   Deprecation Warning: The `client_fn` function must return an instance of `Client`, but an instance of `NumpyClient` was returned. Please use `NumPyClient.to_client()` method to convert it to `Client`.\n",
      "Eval progress:   0%|          | 0/1 [00:00<?, ?batch/s]\n"
     ]
    },
    {
     "name": "stdout",
     "output_type": "stream",
     "text": [
      "(ClientAppActor pid=19036) [Client] Client on device: cuda:0\n",
      "(ClientAppActor pid=19036) [Client] CUDA available in client: True\n",
      "(ClientAppActor pid=19036) PrecomputingClient initialized.\n"
     ]
    },
    {
     "name": "stderr",
     "output_type": "stream",
     "text": [
      "Eval progress: 100%|██████████| 1/1 [00:00<00:00,  3.86batch/s]\n",
      "(ClientAppActor pid=19036) WARNING :   Deprecation Warning: The `client_fn` function must return an instance of `Client`, but an instance of `NumpyClient` was returned. Please use `NumPyClient.to_client()` method to convert it to `Client`.\n"
     ]
    },
    {
     "name": "stdout",
     "output_type": "stream",
     "text": [
      "(ClientAppActor pid=19036) [Client] Client on device: cuda:0\n",
      "(ClientAppActor pid=19036) [Client] CUDA available in client: True\n",
      "(ClientAppActor pid=19036) PrecomputingClient initialized.\n"
     ]
    },
    {
     "name": "stderr",
     "output_type": "stream",
     "text": [
      "Eval progress:   0%|          | 0/1 [00:00<?, ?batch/s]\n",
      "Eval progress: 100%|██████████| 1/1 [00:00<00:00,  3.69batch/s]\n",
      "(ClientAppActor pid=19036) WARNING :   Deprecation Warning: The `client_fn` function must return an instance of `Client`, but an instance of `NumpyClient` was returned. Please use `NumPyClient.to_client()` method to convert it to `Client`.\n"
     ]
    },
    {
     "name": "stdout",
     "output_type": "stream",
     "text": [
      "(ClientAppActor pid=19036) [Client] Client on device: cuda:0\n",
      "(ClientAppActor pid=19036) [Client] CUDA available in client: True\n",
      "(ClientAppActor pid=19036) PrecomputingClient initialized.\n"
     ]
    },
    {
     "name": "stderr",
     "output_type": "stream",
     "text": [
      "Eval progress:   0%|          | 0/1 [00:00<?, ?batch/s]\n",
      "Eval progress: 100%|██████████| 1/1 [00:00<00:00,  3.79batch/s]\n",
      "(ClientAppActor pid=19036) WARNING :   Deprecation Warning: The `client_fn` function must return an instance of `Client`, but an instance of `NumpyClient` was returned. Please use `NumPyClient.to_client()` method to convert it to `Client`.\n",
      "Eval progress:   0%|          | 0/1 [00:00<?, ?batch/s]\n"
     ]
    },
    {
     "name": "stdout",
     "output_type": "stream",
     "text": [
      "(ClientAppActor pid=19036) [Client] Client on device: cuda:0\n",
      "(ClientAppActor pid=19036) [Client] CUDA available in client: True\n",
      "(ClientAppActor pid=19036) PrecomputingClient initialized.\n"
     ]
    },
    {
     "name": "stderr",
     "output_type": "stream",
     "text": [
      "Eval progress: 100%|██████████| 1/1 [00:00<00:00,  3.76batch/s]\n"
     ]
    },
    {
     "name": "stdout",
     "output_type": "stream",
     "text": [
      "(ClientAppActor pid=19036) [Client] Client on device: cuda:0\n",
      "(ClientAppActor pid=19036) [Client] CUDA available in client: True\n"
     ]
    },
    {
     "name": "stderr",
     "output_type": "stream",
     "text": [
      "(ClientAppActor pid=19036) WARNING :   Deprecation Warning: The `client_fn` function must return an instance of `Client`, but an instance of `NumpyClient` was returned. Please use `NumPyClient.to_client()` method to convert it to `Client`.\n",
      "Eval progress:   0%|          | 0/1 [00:00<?, ?batch/s]\n"
     ]
    },
    {
     "name": "stdout",
     "output_type": "stream",
     "text": [
      "(ClientAppActor pid=19036) PrecomputingClient initialized.\n"
     ]
    },
    {
     "name": "stderr",
     "output_type": "stream",
     "text": [
      "Eval progress: 100%|██████████| 1/1 [00:00<00:00,  3.82batch/s]\n",
      "(ClientAppActor pid=19036) WARNING :   Deprecation Warning: The `client_fn` function must return an instance of `Client`, but an instance of `NumpyClient` was returned. Please use `NumPyClient.to_client()` method to convert it to `Client`.\n"
     ]
    },
    {
     "name": "stdout",
     "output_type": "stream",
     "text": [
      "(ClientAppActor pid=19036) [Client] Client on device: cuda:0\n",
      "(ClientAppActor pid=19036) [Client] CUDA available in client: True\n",
      "(ClientAppActor pid=19036) PrecomputingClient initialized.\n"
     ]
    },
    {
     "name": "stderr",
     "output_type": "stream",
     "text": [
      "Eval progress:   0%|          | 0/1 [00:00<?, ?batch/s]\n",
      "Eval progress: 100%|██████████| 1/1 [00:00<00:00,  3.82batch/s]\n"
     ]
    },
    {
     "name": "stdout",
     "output_type": "stream",
     "text": [
      "(ClientAppActor pid=19036) [Client] Client on device: cuda:0\n",
      "(ClientAppActor pid=19036) [Client] CUDA available in client: True\n"
     ]
    },
    {
     "name": "stderr",
     "output_type": "stream",
     "text": [
      "(ClientAppActor pid=19036) WARNING :   Deprecation Warning: The `client_fn` function must return an instance of `Client`, but an instance of `NumpyClient` was returned. Please use `NumPyClient.to_client()` method to convert it to `Client`.\n",
      "Eval progress:   0%|          | 0/1 [00:00<?, ?batch/s]\n"
     ]
    },
    {
     "name": "stdout",
     "output_type": "stream",
     "text": [
      "(ClientAppActor pid=19036) PrecomputingClient initialized.\n"
     ]
    },
    {
     "name": "stderr",
     "output_type": "stream",
     "text": [
      "Eval progress: 100%|██████████| 1/1 [00:00<00:00,  3.81batch/s]\n",
      "(ClientAppActor pid=19036) WARNING :   Deprecation Warning: The `client_fn` function must return an instance of `Client`, but an instance of `NumpyClient` was returned. Please use `NumPyClient.to_client()` method to convert it to `Client`.\n",
      "Eval progress:   0%|          | 0/1 [00:00<?, ?batch/s]\n"
     ]
    },
    {
     "name": "stdout",
     "output_type": "stream",
     "text": [
      "(ClientAppActor pid=19036) [Client] Client on device: cuda:0\n",
      "(ClientAppActor pid=19036) [Client] CUDA available in client: True\n",
      "(ClientAppActor pid=19036) PrecomputingClient initialized.\n"
     ]
    },
    {
     "name": "stderr",
     "output_type": "stream",
     "text": [
      "Eval progress: 100%|██████████| 1/1 [00:00<00:00,  3.79batch/s]\n",
      "(ClientAppActor pid=19036) WARNING :   Deprecation Warning: The `client_fn` function must return an instance of `Client`, but an instance of `NumpyClient` was returned. Please use `NumPyClient.to_client()` method to convert it to `Client`.\n"
     ]
    },
    {
     "name": "stdout",
     "output_type": "stream",
     "text": [
      "(ClientAppActor pid=19036) [Client] Client on device: cuda:0\n",
      "(ClientAppActor pid=19036) [Client] CUDA available in client: True\n",
      "(ClientAppActor pid=19036) PrecomputingClient initialized.\n"
     ]
    },
    {
     "name": "stderr",
     "output_type": "stream",
     "text": [
      "Eval progress:   0%|          | 0/1 [00:00<?, ?batch/s]\n",
      "Eval progress: 100%|██████████| 1/1 [00:00<00:00,  3.97batch/s]\n",
      "\u001b[92mINFO \u001b[0m:      aggregate_evaluate: received 10 results and 0 failures\n",
      "\u001b[92mINFO \u001b[0m:      \n",
      "\u001b[92mINFO \u001b[0m:      [ROUND 2]\n",
      "\u001b[92mINFO \u001b[0m:      [Round 2] Quorum updated to: 6\n",
      "\u001b[92mINFO \u001b[0m:      [Round 2] Generated initial global mask with quorum 6. Sparsity: 0.7164\n",
      "\u001b[92mINFO \u001b[0m:      configure_fit: strategy sampled 10 clients (out of 100)\n",
      "(ClientAppActor pid=19036) WARNING :   Deprecation Warning: The `client_fn` function must return an instance of `Client`, but an instance of `NumpyClient` was returned. Please use `NumPyClient.to_client()` method to convert it to `Client`.\n"
     ]
    },
    {
     "name": "stdout",
     "output_type": "stream",
     "text": [
      "(ClientAppActor pid=19036) [Client] Client on device: cuda:0\n",
      "(ClientAppActor pid=19036) [Client] CUDA available in client: True\n",
      "(ClientAppActor pid=19036) PrecomputingClient initialized.\n",
      "(ClientAppActor pid=19036) No prefix/name for the model was provided, choosen prefix/name: happy_clefairy_90\n",
      "(ClientAppActor pid=19036) \n",
      "(ClientAppActor pid=19036) Step 1/8 | Total batches: 4\n",
      "(ClientAppActor pid=19036) Step 2/8 | Total batches: 4\n",
      "(ClientAppActor pid=19036) Step 3/8 | Total batches: 4\n",
      "(ClientAppActor pid=19036) Step 4/8 | Total batches: 4\n",
      "(ClientAppActor pid=19036) Step 5/8 | Total batches: 4\n",
      "(ClientAppActor pid=19036) Step 6/8 | Total batches: 4\n",
      "(ClientAppActor pid=19036) Step 7/8 | Total batches: 4\n",
      "(ClientAppActor pid=19036) Step 8/8 | Total batches: 4\n",
      "(ClientAppActor pid=19036) 🚀 Epoch 1/1 (100.00%) Completed\n",
      "(ClientAppActor pid=19036) \t📊 Training Loss: 0.2438\n",
      "(ClientAppActor pid=19036) \t✅ Training Accuracy: 92.75%\n",
      "(ClientAppActor pid=19036) \t⏳ Elapsed Time: 3.37s | ETA: 0.00s\n",
      "(ClientAppActor pid=19036) \t🕒 Completed At: 18:52\n",
      "(ClientAppActor pid=19036) \n"
     ]
    },
    {
     "name": "stderr",
     "output_type": "stream",
     "text": [
      "(ClientAppActor pid=19036) WARNING :   Deprecation Warning: The `client_fn` function must return an instance of `Client`, but an instance of `NumpyClient` was returned. Please use `NumPyClient.to_client()` method to convert it to `Client`.\n"
     ]
    },
    {
     "name": "stdout",
     "output_type": "stream",
     "text": [
      "(ClientAppActor pid=19036) [Client] Client on device: cuda:0\n",
      "(ClientAppActor pid=19036) [Client] CUDA available in client: True\n",
      "(ClientAppActor pid=19036) PrecomputingClient initialized.\n",
      "(ClientAppActor pid=19036) No prefix/name for the model was provided, choosen prefix/name: peppy_pikachu_72\n",
      "(ClientAppActor pid=19036) \n",
      "(ClientAppActor pid=19036) Step 1/8 | Total batches: 4\n",
      "(ClientAppActor pid=19036) Step 2/8 | Total batches: 4\n",
      "(ClientAppActor pid=19036) Step 3/8 | Total batches: 4\n",
      "(ClientAppActor pid=19036) Step 4/8 | Total batches: 4\n",
      "(ClientAppActor pid=19036) Step 5/8 | Total batches: 4\n",
      "(ClientAppActor pid=19036) Step 6/8 | Total batches: 4\n",
      "(ClientAppActor pid=19036) Step 7/8 | Total batches: 4\n",
      "(ClientAppActor pid=19036) Step 8/8 | Total batches: 4\n",
      "(ClientAppActor pid=19036) 🚀 Epoch 1/1 (100.00%) Completed\n",
      "(ClientAppActor pid=19036) \t📊 Training Loss: 0.5277\n",
      "(ClientAppActor pid=19036) \t✅ Training Accuracy: 84.25%\n",
      "(ClientAppActor pid=19036) \t⏳ Elapsed Time: 3.38s | ETA: 0.00s\n",
      "(ClientAppActor pid=19036) \t🕒 Completed At: 18:52\n",
      "(ClientAppActor pid=19036) \n"
     ]
    },
    {
     "name": "stderr",
     "output_type": "stream",
     "text": [
      "(ClientAppActor pid=19036) WARNING :   Deprecation Warning: The `client_fn` function must return an instance of `Client`, but an instance of `NumpyClient` was returned. Please use `NumPyClient.to_client()` method to convert it to `Client`.\n"
     ]
    },
    {
     "name": "stdout",
     "output_type": "stream",
     "text": [
      "(ClientAppActor pid=19036) [Client] Client on device: cuda:0\n",
      "(ClientAppActor pid=19036) [Client] CUDA available in client: True\n",
      "(ClientAppActor pid=19036) PrecomputingClient initialized.\n",
      "(ClientAppActor pid=19036) No prefix/name for the model was provided, choosen prefix/name: zesty_blastoise_56\n",
      "(ClientAppActor pid=19036) \n",
      "(ClientAppActor pid=19036) Step 1/8 | Total batches: 4\n",
      "(ClientAppActor pid=19036) Step 2/8 | Total batches: 4\n",
      "(ClientAppActor pid=19036) Step 3/8 | Total batches: 4\n",
      "(ClientAppActor pid=19036) Step 4/8 | Total batches: 4\n",
      "(ClientAppActor pid=19036) Step 5/8 | Total batches: 4\n",
      "(ClientAppActor pid=19036) Step 6/8 | Total batches: 4\n",
      "(ClientAppActor pid=19036) Step 7/8 | Total batches: 4\n",
      "(ClientAppActor pid=19036) Step 8/8 | Total batches: 4\n",
      "(ClientAppActor pid=19036) 🚀 Epoch 1/1 (100.00%) Completed\n",
      "(ClientAppActor pid=19036) \t📊 Training Loss: 0.0424\n",
      "(ClientAppActor pid=19036) \t✅ Training Accuracy: 99.88%\n",
      "(ClientAppActor pid=19036) \t⏳ Elapsed Time: 3.39s | ETA: 0.00s\n",
      "(ClientAppActor pid=19036) \t🕒 Completed At: 18:52\n",
      "(ClientAppActor pid=19036) \n"
     ]
    },
    {
     "name": "stderr",
     "output_type": "stream",
     "text": [
      "(ClientAppActor pid=19036) WARNING :   Deprecation Warning: The `client_fn` function must return an instance of `Client`, but an instance of `NumpyClient` was returned. Please use `NumPyClient.to_client()` method to convert it to `Client`.\n"
     ]
    },
    {
     "name": "stdout",
     "output_type": "stream",
     "text": [
      "(ClientAppActor pid=19036) [Client] Client on device: cuda:0\n",
      "(ClientAppActor pid=19036) [Client] CUDA available in client: True\n",
      "(ClientAppActor pid=19036) PrecomputingClient initialized.\n",
      "(ClientAppActor pid=19036) No prefix/name for the model was provided, choosen prefix/name: snazzy_beedrill_93\n",
      "(ClientAppActor pid=19036) \n",
      "(ClientAppActor pid=19036) Step 1/8 | Total batches: 4\n",
      "(ClientAppActor pid=19036) Step 2/8 | Total batches: 4\n",
      "(ClientAppActor pid=19036) Step 3/8 | Total batches: 4\n",
      "(ClientAppActor pid=19036) Step 4/8 | Total batches: 4\n",
      "(ClientAppActor pid=19036) Step 5/8 | Total batches: 4\n",
      "(ClientAppActor pid=19036) Step 6/8 | Total batches: 4\n",
      "(ClientAppActor pid=19036) Step 7/8 | Total batches: 4\n",
      "(ClientAppActor pid=19036) Step 8/8 | Total batches: 4\n",
      "(ClientAppActor pid=19036) 🚀 Epoch 1/1 (100.00%) Completed\n",
      "(ClientAppActor pid=19036) \t📊 Training Loss: 0.3537\n",
      "(ClientAppActor pid=19036) \t✅ Training Accuracy: 89.50%\n",
      "(ClientAppActor pid=19036) \t⏳ Elapsed Time: 3.38s | ETA: 0.00s\n",
      "(ClientAppActor pid=19036) \t🕒 Completed At: 18:52\n",
      "(ClientAppActor pid=19036) \n"
     ]
    },
    {
     "name": "stderr",
     "output_type": "stream",
     "text": [
      "(ClientAppActor pid=19036) WARNING :   Deprecation Warning: The `client_fn` function must return an instance of `Client`, but an instance of `NumpyClient` was returned. Please use `NumPyClient.to_client()` method to convert it to `Client`.\n"
     ]
    },
    {
     "name": "stdout",
     "output_type": "stream",
     "text": [
      "(ClientAppActor pid=19036) [Client] Client on device: cuda:0\n",
      "(ClientAppActor pid=19036) [Client] CUDA available in client: True\n",
      "(ClientAppActor pid=19036) PrecomputingClient initialized.\n",
      "(ClientAppActor pid=19036) No prefix/name for the model was provided, choosen prefix/name: fluffy_weedle_76\n",
      "(ClientAppActor pid=19036) \n",
      "(ClientAppActor pid=19036) Step 1/8 | Total batches: 4\n",
      "(ClientAppActor pid=19036) Step 2/8 | Total batches: 4\n",
      "(ClientAppActor pid=19036) Step 3/8 | Total batches: 4\n",
      "(ClientAppActor pid=19036) Step 4/8 | Total batches: 4\n",
      "(ClientAppActor pid=19036) Step 5/8 | Total batches: 4\n",
      "(ClientAppActor pid=19036) Step 6/8 | Total batches: 4\n",
      "(ClientAppActor pid=19036) Step 7/8 | Total batches: 4\n",
      "(ClientAppActor pid=19036) Step 8/8 | Total batches: 4\n",
      "(ClientAppActor pid=19036) 🚀 Epoch 1/1 (100.00%) Completed\n",
      "(ClientAppActor pid=19036) \t📊 Training Loss: 0.7258\n",
      "(ClientAppActor pid=19036) \t✅ Training Accuracy: 78.50%\n",
      "(ClientAppActor pid=19036) \t⏳ Elapsed Time: 3.38s | ETA: 0.00s\n",
      "(ClientAppActor pid=19036) \t🕒 Completed At: 18:52\n",
      "(ClientAppActor pid=19036) \n",
      "(ClientAppActor pid=19036) [Client] Client on device: cuda:0\n",
      "(ClientAppActor pid=19036) [Client] CUDA available in client: True\n"
     ]
    },
    {
     "name": "stderr",
     "output_type": "stream",
     "text": [
      "(ClientAppActor pid=19036) WARNING :   Deprecation Warning: The `client_fn` function must return an instance of `Client`, but an instance of `NumpyClient` was returned. Please use `NumPyClient.to_client()` method to convert it to `Client`.\n"
     ]
    },
    {
     "name": "stdout",
     "output_type": "stream",
     "text": [
      "(ClientAppActor pid=19036) PrecomputingClient initialized.\n",
      "(ClientAppActor pid=19036) No prefix/name for the model was provided, choosen prefix/name: bubbly_ivysaur_34\n",
      "(ClientAppActor pid=19036) \n",
      "(ClientAppActor pid=19036) Step 1/8 | Total batches: 4\n",
      "(ClientAppActor pid=19036) Step 2/8 | Total batches: 4\n",
      "(ClientAppActor pid=19036) Step 3/8 | Total batches: 4\n",
      "(ClientAppActor pid=19036) Step 4/8 | Total batches: 4\n",
      "(ClientAppActor pid=19036) Step 5/8 | Total batches: 4\n",
      "(ClientAppActor pid=19036) Step 6/8 | Total batches: 4\n",
      "(ClientAppActor pid=19036) Step 7/8 | Total batches: 4\n",
      "(ClientAppActor pid=19036) Step 8/8 | Total batches: 4\n",
      "(ClientAppActor pid=19036) 🚀 Epoch 1/1 (100.00%) Completed\n",
      "(ClientAppActor pid=19036) \t📊 Training Loss: 0.2498\n",
      "(ClientAppActor pid=19036) \t✅ Training Accuracy: 94.25%\n",
      "(ClientAppActor pid=19036) \t⏳ Elapsed Time: 3.38s | ETA: 0.00s\n",
      "(ClientAppActor pid=19036) \t🕒 Completed At: 18:52\n",
      "(ClientAppActor pid=19036) \n"
     ]
    },
    {
     "name": "stderr",
     "output_type": "stream",
     "text": [
      "(ClientAppActor pid=19036) WARNING :   Deprecation Warning: The `client_fn` function must return an instance of `Client`, but an instance of `NumpyClient` was returned. Please use `NumPyClient.to_client()` method to convert it to `Client`.\n"
     ]
    },
    {
     "name": "stdout",
     "output_type": "stream",
     "text": [
      "(ClientAppActor pid=19036) [Client] Client on device: cuda:0\n",
      "(ClientAppActor pid=19036) [Client] CUDA available in client: True\n",
      "(ClientAppActor pid=19036) PrecomputingClient initialized.\n",
      "(ClientAppActor pid=19036) No prefix/name for the model was provided, choosen prefix/name: silly_clefairy_43\n",
      "(ClientAppActor pid=19036) \n",
      "(ClientAppActor pid=19036) Step 1/8 | Total batches: 4\n",
      "(ClientAppActor pid=19036) Step 2/8 | Total batches: 4\n",
      "(ClientAppActor pid=19036) Step 3/8 | Total batches: 4\n",
      "(ClientAppActor pid=19036) Step 4/8 | Total batches: 4\n",
      "(ClientAppActor pid=19036) Step 5/8 | Total batches: 4\n",
      "(ClientAppActor pid=19036) Step 6/8 | Total batches: 4\n",
      "(ClientAppActor pid=19036) Step 7/8 | Total batches: 4\n",
      "(ClientAppActor pid=19036) Step 8/8 | Total batches: 4\n",
      "(ClientAppActor pid=19036) 🚀 Epoch 1/1 (100.00%) Completed\n",
      "(ClientAppActor pid=19036) \t📊 Training Loss: 0.6527\n",
      "(ClientAppActor pid=19036) \t✅ Training Accuracy: 82.38%\n",
      "(ClientAppActor pid=19036) \t⏳ Elapsed Time: 3.37s | ETA: 0.00s\n",
      "(ClientAppActor pid=19036) \t🕒 Completed At: 18:53\n",
      "(ClientAppActor pid=19036) \n",
      "(ClientAppActor pid=19036) [Client] Client on device: cuda:0\n",
      "(ClientAppActor pid=19036) [Client] CUDA available in client: True\n"
     ]
    },
    {
     "name": "stderr",
     "output_type": "stream",
     "text": [
      "(ClientAppActor pid=19036) WARNING :   Deprecation Warning: The `client_fn` function must return an instance of `Client`, but an instance of `NumpyClient` was returned. Please use `NumPyClient.to_client()` method to convert it to `Client`.\n"
     ]
    },
    {
     "name": "stdout",
     "output_type": "stream",
     "text": [
      "(ClientAppActor pid=19036) PrecomputingClient initialized.\n",
      "(ClientAppActor pid=19036) No prefix/name for the model was provided, choosen prefix/name: jolly_nidorino_16\n",
      "(ClientAppActor pid=19036) \n",
      "(ClientAppActor pid=19036) Step 1/8 | Total batches: 4\n",
      "(ClientAppActor pid=19036) Step 2/8 | Total batches: 4\n",
      "(ClientAppActor pid=19036) Step 3/8 | Total batches: 4\n",
      "(ClientAppActor pid=19036) Step 4/8 | Total batches: 4\n",
      "(ClientAppActor pid=19036) Step 5/8 | Total batches: 4\n",
      "(ClientAppActor pid=19036) Step 6/8 | Total batches: 4\n",
      "(ClientAppActor pid=19036) Step 7/8 | Total batches: 4\n",
      "(ClientAppActor pid=19036) Step 8/8 | Total batches: 4\n",
      "(ClientAppActor pid=19036) 🚀 Epoch 1/1 (100.00%) Completed\n",
      "(ClientAppActor pid=19036) \t📊 Training Loss: 0.6071\n",
      "(ClientAppActor pid=19036) \t✅ Training Accuracy: 83.00%\n",
      "(ClientAppActor pid=19036) \t⏳ Elapsed Time: 3.39s | ETA: 0.00s\n",
      "(ClientAppActor pid=19036) \t🕒 Completed At: 18:53\n",
      "(ClientAppActor pid=19036) \n"
     ]
    },
    {
     "name": "stderr",
     "output_type": "stream",
     "text": [
      "(ClientAppActor pid=19036) WARNING :   Deprecation Warning: The `client_fn` function must return an instance of `Client`, but an instance of `NumpyClient` was returned. Please use `NumPyClient.to_client()` method to convert it to `Client`.\n"
     ]
    },
    {
     "name": "stdout",
     "output_type": "stream",
     "text": [
      "(ClientAppActor pid=19036) [Client] Client on device: cuda:0\n",
      "(ClientAppActor pid=19036) [Client] CUDA available in client: True\n",
      "(ClientAppActor pid=19036) PrecomputingClient initialized.\n",
      "(ClientAppActor pid=19036) No prefix/name for the model was provided, choosen prefix/name: cheeky_fearow_65\n",
      "(ClientAppActor pid=19036) \n",
      "(ClientAppActor pid=19036) Step 1/8 | Total batches: 4\n",
      "(ClientAppActor pid=19036) Step 2/8 | Total batches: 4\n",
      "(ClientAppActor pid=19036) Step 3/8 | Total batches: 4\n",
      "(ClientAppActor pid=19036) Step 4/8 | Total batches: 4\n",
      "(ClientAppActor pid=19036) Step 5/8 | Total batches: 4\n",
      "(ClientAppActor pid=19036) Step 6/8 | Total batches: 4\n",
      "(ClientAppActor pid=19036) Step 7/8 | Total batches: 4\n",
      "(ClientAppActor pid=19036) Step 8/8 | Total batches: 4\n",
      "(ClientAppActor pid=19036) 🚀 Epoch 1/1 (100.00%) Completed\n",
      "(ClientAppActor pid=19036) \t📊 Training Loss: 0.3372\n",
      "(ClientAppActor pid=19036) \t✅ Training Accuracy: 90.88%\n",
      "(ClientAppActor pid=19036) \t⏳ Elapsed Time: 3.35s | ETA: 0.00s\n",
      "(ClientAppActor pid=19036) \t🕒 Completed At: 18:53\n",
      "(ClientAppActor pid=19036) \n",
      "(ClientAppActor pid=19036) [Client] Client on device: cuda:0\n",
      "(ClientAppActor pid=19036) [Client] CUDA available in client: True\n"
     ]
    },
    {
     "name": "stderr",
     "output_type": "stream",
     "text": [
      "(ClientAppActor pid=19036) WARNING :   Deprecation Warning: The `client_fn` function must return an instance of `Client`, but an instance of `NumpyClient` was returned. Please use `NumPyClient.to_client()` method to convert it to `Client`.\n"
     ]
    },
    {
     "name": "stdout",
     "output_type": "stream",
     "text": [
      "(ClientAppActor pid=19036) PrecomputingClient initialized.\n",
      "(ClientAppActor pid=19036) No prefix/name for the model was provided, choosen prefix/name: spooky_nidoran_43\n",
      "(ClientAppActor pid=19036) \n",
      "(ClientAppActor pid=19036) Step 1/8 | Total batches: 4\n",
      "(ClientAppActor pid=19036) Step 2/8 | Total batches: 4\n",
      "(ClientAppActor pid=19036) Step 3/8 | Total batches: 4\n",
      "(ClientAppActor pid=19036) Step 4/8 | Total batches: 4\n",
      "(ClientAppActor pid=19036) Step 5/8 | Total batches: 4\n",
      "(ClientAppActor pid=19036) Step 6/8 | Total batches: 4\n",
      "(ClientAppActor pid=19036) Step 7/8 | Total batches: 4\n",
      "(ClientAppActor pid=19036) Step 8/8 | Total batches: 4\n",
      "(ClientAppActor pid=19036) 🚀 Epoch 1/1 (100.00%) Completed\n",
      "(ClientAppActor pid=19036) \t📊 Training Loss: 0.5185\n",
      "(ClientAppActor pid=19036) \t✅ Training Accuracy: 83.75%\n",
      "(ClientAppActor pid=19036) \t⏳ Elapsed Time: 3.38s | ETA: 0.00s\n",
      "(ClientAppActor pid=19036) \t🕒 Completed At: 18:53\n",
      "(ClientAppActor pid=19036) \n"
     ]
    },
    {
     "name": "stderr",
     "output_type": "stream",
     "text": [
      "\u001b[92mINFO \u001b[0m:      aggregate_fit: received 10 results and 0 failures\n",
      "\u001b[92mINFO \u001b[0m:      [Round 2] Avg Drift: 0.0012 | Relative Drift: 0.0000\n",
      "\u001b[92mINFO \u001b[0m:      [Round 2] Saving aggregated model at epoch 202...\n"
     ]
    },
    {
     "name": "stdout",
     "output_type": "stream",
     "text": [
      "💾 Saved checkpoint at: /Users/ciovi/Desktop/coding/mldl/fl-g13/checkpoints/fl_dino_v4/non_iid/1_8_dynamic-quorum\\fl_Test_Dynamic_Quorum_v2_BaseDino_epoch_202.pth\n",
      "[Server Eval Round 2] Model device: cuda:0\n",
      "[Server Eval Round 2] CUDA available in server eval: True\n"
     ]
    },
    {
     "name": "stderr",
     "output_type": "stream",
     "text": [
      "Eval progress: 100%|██████████| 313/313 [00:22<00:00, 13.86batch/s]\n",
      "\u001b[92mINFO \u001b[0m:      [Round 2] Centralized Evaluation - Loss: 3.3112, Metrics: {'centralized_accuracy': 0.2582}\n",
      "\u001b[92mINFO \u001b[0m:      fit progress: (2, 3.311163203784833, {'centralized_accuracy': 0.2582}, 172.59982429999945)\n",
      "\u001b[92mINFO \u001b[0m:      configure_evaluate: strategy sampled 10 clients (out of 100)\n",
      "(ClientAppActor pid=19036) WARNING :   Deprecation Warning: The `client_fn` function must return an instance of `Client`, but an instance of `NumpyClient` was returned. Please use `NumPyClient.to_client()` method to convert it to `Client`.\n"
     ]
    },
    {
     "name": "stdout",
     "output_type": "stream",
     "text": [
      "(ClientAppActor pid=19036) [Client] Client on device: cuda:0\n",
      "(ClientAppActor pid=19036) [Client] CUDA available in client: True\n",
      "(ClientAppActor pid=19036) PrecomputingClient initialized.\n"
     ]
    },
    {
     "name": "stderr",
     "output_type": "stream",
     "text": [
      "Eval progress:   0%|          | 0/1 [00:00<?, ?batch/s]\n",
      "Eval progress: 100%|██████████| 1/1 [00:00<00:00,  3.77batch/s]\n",
      "(ClientAppActor pid=19036) WARNING :   Deprecation Warning: The `client_fn` function must return an instance of `Client`, but an instance of `NumpyClient` was returned. Please use `NumPyClient.to_client()` method to convert it to `Client`.\n"
     ]
    },
    {
     "name": "stdout",
     "output_type": "stream",
     "text": [
      "(ClientAppActor pid=19036) [Client] Client on device: cuda:0\n",
      "(ClientAppActor pid=19036) [Client] CUDA available in client: True\n",
      "(ClientAppActor pid=19036) PrecomputingClient initialized.\n"
     ]
    },
    {
     "name": "stderr",
     "output_type": "stream",
     "text": [
      "Eval progress:   0%|          | 0/1 [00:00<?, ?batch/s]\n",
      "Eval progress: 100%|██████████| 1/1 [00:00<00:00,  3.57batch/s]\n",
      "(ClientAppActor pid=19036) WARNING :   Deprecation Warning: The `client_fn` function must return an instance of `Client`, but an instance of `NumpyClient` was returned. Please use `NumPyClient.to_client()` method to convert it to `Client`.\n"
     ]
    },
    {
     "name": "stdout",
     "output_type": "stream",
     "text": [
      "(ClientAppActor pid=19036) [Client] Client on device: cuda:0\n",
      "(ClientAppActor pid=19036) [Client] CUDA available in client: True\n",
      "(ClientAppActor pid=19036) PrecomputingClient initialized.\n"
     ]
    },
    {
     "name": "stderr",
     "output_type": "stream",
     "text": [
      "Eval progress:   0%|          | 0/1 [00:00<?, ?batch/s]\n",
      "Eval progress: 100%|██████████| 1/1 [00:00<00:00,  3.90batch/s]\n",
      "(ClientAppActor pid=19036) WARNING :   Deprecation Warning: The `client_fn` function must return an instance of `Client`, but an instance of `NumpyClient` was returned. Please use `NumPyClient.to_client()` method to convert it to `Client`.\n",
      "Eval progress:   0%|          | 0/1 [00:00<?, ?batch/s]\n"
     ]
    },
    {
     "name": "stdout",
     "output_type": "stream",
     "text": [
      "(ClientAppActor pid=19036) [Client] Client on device: cuda:0\n",
      "(ClientAppActor pid=19036) [Client] CUDA available in client: True\n",
      "(ClientAppActor pid=19036) PrecomputingClient initialized.\n"
     ]
    },
    {
     "name": "stderr",
     "output_type": "stream",
     "text": [
      "Eval progress: 100%|██████████| 1/1 [00:00<00:00,  3.86batch/s]\n"
     ]
    },
    {
     "name": "stdout",
     "output_type": "stream",
     "text": [
      "(ClientAppActor pid=19036) [Client] Client on device: cuda:0\n",
      "(ClientAppActor pid=19036) [Client] CUDA available in client: True\n"
     ]
    },
    {
     "name": "stderr",
     "output_type": "stream",
     "text": [
      "(ClientAppActor pid=19036) WARNING :   Deprecation Warning: The `client_fn` function must return an instance of `Client`, but an instance of `NumpyClient` was returned. Please use `NumPyClient.to_client()` method to convert it to `Client`.\n"
     ]
    },
    {
     "name": "stdout",
     "output_type": "stream",
     "text": [
      "(ClientAppActor pid=19036) PrecomputingClient initialized.\n"
     ]
    },
    {
     "name": "stderr",
     "output_type": "stream",
     "text": [
      "Eval progress:   0%|          | 0/1 [00:00<?, ?batch/s]\n",
      "Eval progress: 100%|██████████| 1/1 [00:00<00:00,  3.95batch/s]\n",
      "(ClientAppActor pid=19036) WARNING :   Deprecation Warning: The `client_fn` function must return an instance of `Client`, but an instance of `NumpyClient` was returned. Please use `NumPyClient.to_client()` method to convert it to `Client`.\n",
      "Eval progress:   0%|          | 0/1 [00:00<?, ?batch/s]\n"
     ]
    },
    {
     "name": "stdout",
     "output_type": "stream",
     "text": [
      "(ClientAppActor pid=19036) [Client] Client on device: cuda:0\n",
      "(ClientAppActor pid=19036) [Client] CUDA available in client: True\n",
      "(ClientAppActor pid=19036) PrecomputingClient initialized.\n"
     ]
    },
    {
     "name": "stderr",
     "output_type": "stream",
     "text": [
      "Eval progress: 100%|██████████| 1/1 [00:00<00:00,  3.93batch/s]\n",
      "(ClientAppActor pid=19036) WARNING :   Deprecation Warning: The `client_fn` function must return an instance of `Client`, but an instance of `NumpyClient` was returned. Please use `NumPyClient.to_client()` method to convert it to `Client`.\n",
      "Eval progress:   0%|          | 0/1 [00:00<?, ?batch/s]\n"
     ]
    },
    {
     "name": "stdout",
     "output_type": "stream",
     "text": [
      "(ClientAppActor pid=19036) [Client] Client on device: cuda:0\n",
      "(ClientAppActor pid=19036) [Client] CUDA available in client: True\n",
      "(ClientAppActor pid=19036) PrecomputingClient initialized.\n"
     ]
    },
    {
     "name": "stderr",
     "output_type": "stream",
     "text": [
      "Eval progress: 100%|██████████| 1/1 [00:00<00:00,  3.91batch/s]\n",
      "(ClientAppActor pid=19036) WARNING :   Deprecation Warning: The `client_fn` function must return an instance of `Client`, but an instance of `NumpyClient` was returned. Please use `NumPyClient.to_client()` method to convert it to `Client`.\n",
      "Eval progress:   0%|          | 0/1 [00:00<?, ?batch/s]\n"
     ]
    },
    {
     "name": "stdout",
     "output_type": "stream",
     "text": [
      "(ClientAppActor pid=19036) [Client] Client on device: cuda:0\n",
      "(ClientAppActor pid=19036) [Client] CUDA available in client: True\n",
      "(ClientAppActor pid=19036) PrecomputingClient initialized.\n"
     ]
    },
    {
     "name": "stderr",
     "output_type": "stream",
     "text": [
      "Eval progress: 100%|██████████| 1/1 [00:00<00:00,  3.91batch/s]\n",
      "(ClientAppActor pid=19036) WARNING :   Deprecation Warning: The `client_fn` function must return an instance of `Client`, but an instance of `NumpyClient` was returned. Please use `NumPyClient.to_client()` method to convert it to `Client`.\n"
     ]
    },
    {
     "name": "stdout",
     "output_type": "stream",
     "text": [
      "(ClientAppActor pid=19036) [Client] Client on device: cuda:0\n",
      "(ClientAppActor pid=19036) [Client] CUDA available in client: True\n",
      "(ClientAppActor pid=19036) PrecomputingClient initialized.\n"
     ]
    },
    {
     "name": "stderr",
     "output_type": "stream",
     "text": [
      "Eval progress:   0%|          | 0/1 [00:00<?, ?batch/s]\n",
      "Eval progress: 100%|██████████| 1/1 [00:00<00:00,  3.68batch/s]\n"
     ]
    },
    {
     "name": "stdout",
     "output_type": "stream",
     "text": [
      "(ClientAppActor pid=19036) [Client] Client on device: cuda:0\n",
      "(ClientAppActor pid=19036) [Client] CUDA available in client: True\n"
     ]
    },
    {
     "name": "stderr",
     "output_type": "stream",
     "text": [
      "(ClientAppActor pid=19036) WARNING :   Deprecation Warning: The `client_fn` function must return an instance of `Client`, but an instance of `NumpyClient` was returned. Please use `NumPyClient.to_client()` method to convert it to `Client`.\n",
      "Eval progress:   0%|          | 0/1 [00:00<?, ?batch/s]\n"
     ]
    },
    {
     "name": "stdout",
     "output_type": "stream",
     "text": [
      "(ClientAppActor pid=19036) PrecomputingClient initialized.\n"
     ]
    },
    {
     "name": "stderr",
     "output_type": "stream",
     "text": [
      "Eval progress: 100%|██████████| 1/1 [00:00<00:00,  3.90batch/s]\n",
      "\u001b[92mINFO \u001b[0m:      aggregate_evaluate: received 10 results and 0 failures\n",
      "\u001b[92mINFO \u001b[0m:      \n",
      "\u001b[92mINFO \u001b[0m:      [ROUND 3]\n",
      "\u001b[92mINFO \u001b[0m:      [Round 3] Quorum updated to: 11\n",
      "\u001b[92mINFO \u001b[0m:      [Round 3] Generated initial global mask with quorum 11. Sparsity: 0.7262\n",
      "\u001b[92mINFO \u001b[0m:      configure_fit: strategy sampled 10 clients (out of 100)\n",
      "(ClientAppActor pid=19036) WARNING :   Deprecation Warning: The `client_fn` function must return an instance of `Client`, but an instance of `NumpyClient` was returned. Please use `NumPyClient.to_client()` method to convert it to `Client`.\n"
     ]
    },
    {
     "name": "stdout",
     "output_type": "stream",
     "text": [
      "(ClientAppActor pid=19036) [Client] Client on device: cuda:0\n",
      "(ClientAppActor pid=19036) [Client] CUDA available in client: True\n",
      "(ClientAppActor pid=19036) PrecomputingClient initialized.\n",
      "(ClientAppActor pid=19036) No prefix/name for the model was provided, choosen prefix/name: snazzy_nidoking_19\n",
      "(ClientAppActor pid=19036) \n",
      "(ClientAppActor pid=19036) Step 1/8 | Total batches: 4\n",
      "(ClientAppActor pid=19036) Step 2/8 | Total batches: 4\n",
      "(ClientAppActor pid=19036) Step 3/8 | Total batches: 4\n",
      "(ClientAppActor pid=19036) Step 4/8 | Total batches: 4\n",
      "(ClientAppActor pid=19036) Step 5/8 | Total batches: 4\n",
      "(ClientAppActor pid=19036) Step 6/8 | Total batches: 4\n",
      "(ClientAppActor pid=19036) Step 7/8 | Total batches: 4\n",
      "(ClientAppActor pid=19036) Step 8/8 | Total batches: 4\n",
      "(ClientAppActor pid=19036) 🚀 Epoch 1/1 (100.00%) Completed\n",
      "(ClientAppActor pid=19036) \t📊 Training Loss: 0.5290\n",
      "(ClientAppActor pid=19036) \t✅ Training Accuracy: 83.00%\n",
      "(ClientAppActor pid=19036) \t⏳ Elapsed Time: 3.35s | ETA: 0.00s\n",
      "(ClientAppActor pid=19036) \t🕒 Completed At: 18:53\n",
      "(ClientAppActor pid=19036) \n",
      "(ClientAppActor pid=19036) [Client] Client on device: cuda:0\n",
      "(ClientAppActor pid=19036) [Client] CUDA available in client: True\n"
     ]
    },
    {
     "name": "stderr",
     "output_type": "stream",
     "text": [
      "(ClientAppActor pid=19036) WARNING :   Deprecation Warning: The `client_fn` function must return an instance of `Client`, but an instance of `NumpyClient` was returned. Please use `NumPyClient.to_client()` method to convert it to `Client`.\n"
     ]
    },
    {
     "name": "stdout",
     "output_type": "stream",
     "text": [
      "(ClientAppActor pid=19036) PrecomputingClient initialized.\n",
      "(ClientAppActor pid=19036) No prefix/name for the model was provided, choosen prefix/name: bouncy_pidgey_76\n",
      "(ClientAppActor pid=19036) \n",
      "(ClientAppActor pid=19036) Step 1/8 | Total batches: 4\n",
      "(ClientAppActor pid=19036) Step 2/8 | Total batches: 4\n",
      "(ClientAppActor pid=19036) Step 3/8 | Total batches: 4\n",
      "(ClientAppActor pid=19036) Step 4/8 | Total batches: 4\n",
      "(ClientAppActor pid=19036) Step 5/8 | Total batches: 4\n",
      "(ClientAppActor pid=19036) Step 6/8 | Total batches: 4\n",
      "(ClientAppActor pid=19036) Step 7/8 | Total batches: 4\n",
      "(ClientAppActor pid=19036) Step 8/8 | Total batches: 4\n",
      "(ClientAppActor pid=19036) 🚀 Epoch 1/1 (100.00%) Completed\n",
      "(ClientAppActor pid=19036) \t📊 Training Loss: 0.5206\n",
      "(ClientAppActor pid=19036) \t✅ Training Accuracy: 84.88%\n",
      "(ClientAppActor pid=19036) \t⏳ Elapsed Time: 3.39s | ETA: 0.00s\n",
      "(ClientAppActor pid=19036) \t🕒 Completed At: 18:54\n",
      "(ClientAppActor pid=19036) \n"
     ]
    },
    {
     "name": "stderr",
     "output_type": "stream",
     "text": [
      "(ClientAppActor pid=19036) WARNING :   Deprecation Warning: The `client_fn` function must return an instance of `Client`, but an instance of `NumpyClient` was returned. Please use `NumPyClient.to_client()` method to convert it to `Client`.\n"
     ]
    },
    {
     "name": "stdout",
     "output_type": "stream",
     "text": [
      "(ClientAppActor pid=19036) [Client] Client on device: cuda:0\n",
      "(ClientAppActor pid=19036) [Client] CUDA available in client: True\n",
      "(ClientAppActor pid=19036) PrecomputingClient initialized.\n",
      "(ClientAppActor pid=19036) No prefix/name for the model was provided, choosen prefix/name: dizzy_blastoise_43\n",
      "(ClientAppActor pid=19036) \n",
      "(ClientAppActor pid=19036) Step 1/8 | Total batches: 4\n",
      "(ClientAppActor pid=19036) Step 2/8 | Total batches: 4\n",
      "(ClientAppActor pid=19036) Step 3/8 | Total batches: 4\n",
      "(ClientAppActor pid=19036) Step 4/8 | Total batches: 4\n",
      "(ClientAppActor pid=19036) Step 5/8 | Total batches: 4\n",
      "(ClientAppActor pid=19036) Step 6/8 | Total batches: 4\n",
      "(ClientAppActor pid=19036) Step 7/8 | Total batches: 4\n",
      "(ClientAppActor pid=19036) Step 8/8 | Total batches: 4\n",
      "(ClientAppActor pid=19036) 🚀 Epoch 1/1 (100.00%) Completed\n",
      "(ClientAppActor pid=19036) \t📊 Training Loss: 0.2581\n",
      "(ClientAppActor pid=19036) \t✅ Training Accuracy: 93.12%\n",
      "(ClientAppActor pid=19036) \t⏳ Elapsed Time: 3.39s | ETA: 0.00s\n",
      "(ClientAppActor pid=19036) \t🕒 Completed At: 18:54\n",
      "(ClientAppActor pid=19036) \n"
     ]
    },
    {
     "name": "stderr",
     "output_type": "stream",
     "text": [
      "(ClientAppActor pid=19036) WARNING :   Deprecation Warning: The `client_fn` function must return an instance of `Client`, but an instance of `NumpyClient` was returned. Please use `NumPyClient.to_client()` method to convert it to `Client`.\n"
     ]
    },
    {
     "name": "stdout",
     "output_type": "stream",
     "text": [
      "(ClientAppActor pid=19036) [Client] Client on device: cuda:0\n",
      "(ClientAppActor pid=19036) [Client] CUDA available in client: True\n",
      "(ClientAppActor pid=19036) PrecomputingClient initialized.\n",
      "(ClientAppActor pid=19036) No prefix/name for the model was provided, choosen prefix/name: nutty_nidorino_41\n",
      "(ClientAppActor pid=19036) \n",
      "(ClientAppActor pid=19036) Step 1/8 | Total batches: 4\n",
      "(ClientAppActor pid=19036) Step 2/8 | Total batches: 4\n",
      "(ClientAppActor pid=19036) Step 3/8 | Total batches: 4\n",
      "(ClientAppActor pid=19036) Step 4/8 | Total batches: 4\n",
      "(ClientAppActor pid=19036) Step 5/8 | Total batches: 4\n",
      "(ClientAppActor pid=19036) Step 6/8 | Total batches: 4\n",
      "(ClientAppActor pid=19036) Step 7/8 | Total batches: 4\n",
      "(ClientAppActor pid=19036) Step 8/8 | Total batches: 4\n",
      "(ClientAppActor pid=19036) 🚀 Epoch 1/1 (100.00%) Completed\n",
      "(ClientAppActor pid=19036) \t📊 Training Loss: 0.6758\n",
      "(ClientAppActor pid=19036) \t✅ Training Accuracy: 76.75%\n",
      "(ClientAppActor pid=19036) \t⏳ Elapsed Time: 3.40s | ETA: 0.00s\n",
      "(ClientAppActor pid=19036) \t🕒 Completed At: 18:54\n",
      "(ClientAppActor pid=19036) \n"
     ]
    },
    {
     "name": "stderr",
     "output_type": "stream",
     "text": [
      "(ClientAppActor pid=19036) WARNING :   Deprecation Warning: The `client_fn` function must return an instance of `Client`, but an instance of `NumpyClient` was returned. Please use `NumPyClient.to_client()` method to convert it to `Client`.\n"
     ]
    },
    {
     "name": "stdout",
     "output_type": "stream",
     "text": [
      "(ClientAppActor pid=19036) [Client] Client on device: cuda:0\n",
      "(ClientAppActor pid=19036) [Client] CUDA available in client: True\n",
      "(ClientAppActor pid=19036) PrecomputingClient initialized.\n",
      "(ClientAppActor pid=19036) No prefix/name for the model was provided, choosen prefix/name: dizzy_caterpie_52\n",
      "(ClientAppActor pid=19036) \n",
      "(ClientAppActor pid=19036) Step 1/8 | Total batches: 4\n",
      "(ClientAppActor pid=19036) Step 2/8 | Total batches: 4\n",
      "(ClientAppActor pid=19036) Step 3/8 | Total batches: 4\n",
      "(ClientAppActor pid=19036) Step 4/8 | Total batches: 4\n",
      "(ClientAppActor pid=19036) Step 5/8 | Total batches: 4\n",
      "(ClientAppActor pid=19036) Step 6/8 | Total batches: 4\n",
      "(ClientAppActor pid=19036) Step 7/8 | Total batches: 4\n",
      "(ClientAppActor pid=19036) Step 8/8 | Total batches: 4\n",
      "(ClientAppActor pid=19036) 🚀 Epoch 1/1 (100.00%) Completed\n",
      "(ClientAppActor pid=19036) \t📊 Training Loss: 0.3053\n",
      "(ClientAppActor pid=19036) \t✅ Training Accuracy: 91.12%\n",
      "(ClientAppActor pid=19036) \t⏳ Elapsed Time: 3.40s | ETA: 0.00s\n",
      "(ClientAppActor pid=19036) \t🕒 Completed At: 18:54\n",
      "(ClientAppActor pid=19036) \n"
     ]
    },
    {
     "name": "stderr",
     "output_type": "stream",
     "text": [
      "(ClientAppActor pid=19036) WARNING :   Deprecation Warning: The `client_fn` function must return an instance of `Client`, but an instance of `NumpyClient` was returned. Please use `NumPyClient.to_client()` method to convert it to `Client`.\n"
     ]
    },
    {
     "name": "stdout",
     "output_type": "stream",
     "text": [
      "(ClientAppActor pid=19036) [Client] Client on device: cuda:0\n",
      "(ClientAppActor pid=19036) [Client] CUDA available in client: True\n",
      "(ClientAppActor pid=19036) PrecomputingClient initialized.\n",
      "(ClientAppActor pid=19036) No prefix/name for the model was provided, choosen prefix/name: breezy_wartortle_24\n",
      "(ClientAppActor pid=19036) \n",
      "(ClientAppActor pid=19036) Step 1/8 | Total batches: 4\n",
      "(ClientAppActor pid=19036) Step 2/8 | Total batches: 4\n",
      "(ClientAppActor pid=19036) Step 3/8 | Total batches: 4\n",
      "(ClientAppActor pid=19036) Step 4/8 | Total batches: 4\n",
      "(ClientAppActor pid=19036) Step 5/8 | Total batches: 4\n",
      "(ClientAppActor pid=19036) Step 6/8 | Total batches: 4\n",
      "(ClientAppActor pid=19036) Step 7/8 | Total batches: 4\n",
      "(ClientAppActor pid=19036) Step 8/8 | Total batches: 4\n",
      "(ClientAppActor pid=19036) 🚀 Epoch 1/1 (100.00%) Completed\n",
      "(ClientAppActor pid=19036) \t📊 Training Loss: 0.8045\n",
      "(ClientAppActor pid=19036) \t✅ Training Accuracy: 81.50%\n",
      "(ClientAppActor pid=19036) \t⏳ Elapsed Time: 3.39s | ETA: 0.00s\n",
      "(ClientAppActor pid=19036) \t🕒 Completed At: 18:54\n",
      "(ClientAppActor pid=19036) \n"
     ]
    },
    {
     "name": "stderr",
     "output_type": "stream",
     "text": [
      "(ClientAppActor pid=19036) WARNING :   Deprecation Warning: The `client_fn` function must return an instance of `Client`, but an instance of `NumpyClient` was returned. Please use `NumPyClient.to_client()` method to convert it to `Client`.\n"
     ]
    },
    {
     "name": "stdout",
     "output_type": "stream",
     "text": [
      "(ClientAppActor pid=19036) [Client] Client on device: cuda:0\n",
      "(ClientAppActor pid=19036) [Client] CUDA available in client: True\n",
      "(ClientAppActor pid=19036) PrecomputingClient initialized.\n",
      "(ClientAppActor pid=19036) No prefix/name for the model was provided, choosen prefix/name: itchy_nidoqueen_77\n",
      "(ClientAppActor pid=19036) \n",
      "(ClientAppActor pid=19036) Step 1/8 | Total batches: 4\n",
      "(ClientAppActor pid=19036) Step 2/8 | Total batches: 4\n",
      "(ClientAppActor pid=19036) Step 3/8 | Total batches: 4\n",
      "(ClientAppActor pid=19036) Step 4/8 | Total batches: 4\n",
      "(ClientAppActor pid=19036) Step 5/8 | Total batches: 4\n",
      "(ClientAppActor pid=19036) Step 6/8 | Total batches: 4\n",
      "(ClientAppActor pid=19036) Step 7/8 | Total batches: 4\n",
      "(ClientAppActor pid=19036) Step 8/8 | Total batches: 4\n",
      "(ClientAppActor pid=19036) 🚀 Epoch 1/1 (100.00%) Completed\n",
      "(ClientAppActor pid=19036) \t📊 Training Loss: 0.2346\n",
      "(ClientAppActor pid=19036) \t✅ Training Accuracy: 92.88%\n",
      "(ClientAppActor pid=19036) \t⏳ Elapsed Time: 3.39s | ETA: 0.00s\n",
      "(ClientAppActor pid=19036) \t🕒 Completed At: 18:54\n",
      "(ClientAppActor pid=19036) \n"
     ]
    },
    {
     "name": "stderr",
     "output_type": "stream",
     "text": [
      "(ClientAppActor pid=19036) WARNING :   Deprecation Warning: The `client_fn` function must return an instance of `Client`, but an instance of `NumpyClient` was returned. Please use `NumPyClient.to_client()` method to convert it to `Client`.\n"
     ]
    },
    {
     "name": "stdout",
     "output_type": "stream",
     "text": [
      "(ClientAppActor pid=19036) [Client] Client on device: cuda:0\n",
      "(ClientAppActor pid=19036) [Client] CUDA available in client: True\n",
      "(ClientAppActor pid=19036) PrecomputingClient initialized.\n",
      "(ClientAppActor pid=19036) No prefix/name for the model was provided, choosen prefix/name: grumpy_nidoran_63\n",
      "(ClientAppActor pid=19036) \n",
      "(ClientAppActor pid=19036) Step 1/8 | Total batches: 4\n",
      "(ClientAppActor pid=19036) Step 2/8 | Total batches: 4\n",
      "(ClientAppActor pid=19036) Step 3/8 | Total batches: 4\n",
      "(ClientAppActor pid=19036) Step 4/8 | Total batches: 4\n",
      "(ClientAppActor pid=19036) Step 5/8 | Total batches: 4\n",
      "(ClientAppActor pid=19036) Step 6/8 | Total batches: 4\n",
      "(ClientAppActor pid=19036) Step 7/8 | Total batches: 4\n",
      "(ClientAppActor pid=19036) Step 8/8 | Total batches: 4\n",
      "(ClientAppActor pid=19036) 🚀 Epoch 1/1 (100.00%) Completed\n",
      "(ClientAppActor pid=19036) \t📊 Training Loss: 0.5129\n",
      "(ClientAppActor pid=19036) \t✅ Training Accuracy: 86.25%\n",
      "(ClientAppActor pid=19036) \t⏳ Elapsed Time: 3.38s | ETA: 0.00s\n",
      "(ClientAppActor pid=19036) \t🕒 Completed At: 18:54\n",
      "(ClientAppActor pid=19036) \n"
     ]
    },
    {
     "name": "stderr",
     "output_type": "stream",
     "text": [
      "(ClientAppActor pid=19036) WARNING :   Deprecation Warning: The `client_fn` function must return an instance of `Client`, but an instance of `NumpyClient` was returned. Please use `NumPyClient.to_client()` method to convert it to `Client`.\n"
     ]
    },
    {
     "name": "stdout",
     "output_type": "stream",
     "text": [
      "(ClientAppActor pid=19036) [Client] Client on device: cuda:0\n",
      "(ClientAppActor pid=19036) [Client] CUDA available in client: True\n",
      "(ClientAppActor pid=19036) PrecomputingClient initialized.\n",
      "(ClientAppActor pid=19036) No prefix/name for the model was provided, choosen prefix/name: peppy_sandslash_88\n",
      "(ClientAppActor pid=19036) \n",
      "(ClientAppActor pid=19036) Step 1/8 | Total batches: 4\n",
      "(ClientAppActor pid=19036) Step 2/8 | Total batches: 4\n",
      "(ClientAppActor pid=19036) Step 3/8 | Total batches: 4\n",
      "(ClientAppActor pid=19036) Step 4/8 | Total batches: 4\n",
      "(ClientAppActor pid=19036) Step 5/8 | Total batches: 4\n",
      "(ClientAppActor pid=19036) Step 6/8 | Total batches: 4\n",
      "(ClientAppActor pid=19036) Step 7/8 | Total batches: 4\n",
      "(ClientAppActor pid=19036) Step 8/8 | Total batches: 4\n",
      "(ClientAppActor pid=19036) 🚀 Epoch 1/1 (100.00%) Completed\n",
      "(ClientAppActor pid=19036) \t📊 Training Loss: 0.2695\n",
      "(ClientAppActor pid=19036) \t✅ Training Accuracy: 91.62%\n",
      "(ClientAppActor pid=19036) \t⏳ Elapsed Time: 3.39s | ETA: 0.00s\n",
      "(ClientAppActor pid=19036) \t🕒 Completed At: 18:54\n",
      "(ClientAppActor pid=19036) \n"
     ]
    },
    {
     "name": "stderr",
     "output_type": "stream",
     "text": [
      "(ClientAppActor pid=19036) WARNING :   Deprecation Warning: The `client_fn` function must return an instance of `Client`, but an instance of `NumpyClient` was returned. Please use `NumPyClient.to_client()` method to convert it to `Client`.\n"
     ]
    },
    {
     "name": "stdout",
     "output_type": "stream",
     "text": [
      "(ClientAppActor pid=19036) [Client] Client on device: cuda:0\n",
      "(ClientAppActor pid=19036) [Client] CUDA available in client: True\n",
      "(ClientAppActor pid=19036) PrecomputingClient initialized.\n",
      "(ClientAppActor pid=19036) No prefix/name for the model was provided, choosen prefix/name: itchy_pidgeot_65\n",
      "(ClientAppActor pid=19036) \n",
      "(ClientAppActor pid=19036) Step 1/8 | Total batches: 4\n",
      "(ClientAppActor pid=19036) Step 2/8 | Total batches: 4\n",
      "(ClientAppActor pid=19036) Step 3/8 | Total batches: 4\n",
      "(ClientAppActor pid=19036) Step 4/8 | Total batches: 4\n",
      "(ClientAppActor pid=19036) Step 5/8 | Total batches: 4\n",
      "(ClientAppActor pid=19036) Step 6/8 | Total batches: 4\n",
      "(ClientAppActor pid=19036) Step 7/8 | Total batches: 4\n",
      "(ClientAppActor pid=19036) Step 8/8 | Total batches: 4\n",
      "(ClientAppActor pid=19036) 🚀 Epoch 1/1 (100.00%) Completed\n",
      "(ClientAppActor pid=19036) \t📊 Training Loss: 0.8039\n",
      "(ClientAppActor pid=19036) \t✅ Training Accuracy: 82.00%\n",
      "(ClientAppActor pid=19036) \t⏳ Elapsed Time: 3.38s | ETA: 0.00s\n",
      "(ClientAppActor pid=19036) \t🕒 Completed At: 18:54\n",
      "(ClientAppActor pid=19036) \n"
     ]
    },
    {
     "name": "stderr",
     "output_type": "stream",
     "text": [
      "\u001b[92mINFO \u001b[0m:      aggregate_fit: received 10 results and 0 failures\n",
      "\u001b[92mINFO \u001b[0m:      [Round 3] Avg Drift: 0.0015 | Relative Drift: 0.0000\n",
      "\u001b[92mINFO \u001b[0m:      [Round 3] Saving aggregated model at epoch 203...\n"
     ]
    },
    {
     "name": "stdout",
     "output_type": "stream",
     "text": [
      "💾 Saved checkpoint at: /Users/ciovi/Desktop/coding/mldl/fl-g13/checkpoints/fl_dino_v4/non_iid/1_8_dynamic-quorum\\fl_Test_Dynamic_Quorum_v2_BaseDino_epoch_203.pth\n",
      "[Server Eval Round 3] Model device: cuda:0\n",
      "[Server Eval Round 3] CUDA available in server eval: True\n"
     ]
    },
    {
     "name": "stderr",
     "output_type": "stream",
     "text": [
      "Eval progress: 100%|██████████| 313/313 [00:22<00:00, 14.03batch/s]\n",
      "\u001b[92mINFO \u001b[0m:      [Round 3] Centralized Evaluation - Loss: 3.8306, Metrics: {'centralized_accuracy': 0.1785}\n",
      "\u001b[92mINFO \u001b[0m:      fit progress: (3, 3.8306174895253045, {'centralized_accuracy': 0.1785}, 255.0070018999977)\n",
      "\u001b[92mINFO \u001b[0m:      configure_evaluate: strategy sampled 10 clients (out of 100)\n",
      "(ClientAppActor pid=19036) WARNING :   Deprecation Warning: The `client_fn` function must return an instance of `Client`, but an instance of `NumpyClient` was returned. Please use `NumPyClient.to_client()` method to convert it to `Client`.\n",
      "Eval progress:   0%|          | 0/1 [00:00<?, ?batch/s]\n"
     ]
    },
    {
     "name": "stdout",
     "output_type": "stream",
     "text": [
      "(ClientAppActor pid=19036) [Client] Client on device: cuda:0\n",
      "(ClientAppActor pid=19036) [Client] CUDA available in client: True\n",
      "(ClientAppActor pid=19036) PrecomputingClient initialized.\n"
     ]
    },
    {
     "name": "stderr",
     "output_type": "stream",
     "text": [
      "Eval progress: 100%|██████████| 1/1 [00:00<00:00,  3.85batch/s]\n",
      "(ClientAppActor pid=19036) WARNING :   Deprecation Warning: The `client_fn` function must return an instance of `Client`, but an instance of `NumpyClient` was returned. Please use `NumPyClient.to_client()` method to convert it to `Client`.\n",
      "Eval progress:   0%|          | 0/1 [00:00<?, ?batch/s]\n"
     ]
    },
    {
     "name": "stdout",
     "output_type": "stream",
     "text": [
      "(ClientAppActor pid=19036) [Client] Client on device: cuda:0\n",
      "(ClientAppActor pid=19036) [Client] CUDA available in client: True\n",
      "(ClientAppActor pid=19036) PrecomputingClient initialized.\n"
     ]
    },
    {
     "name": "stderr",
     "output_type": "stream",
     "text": [
      "Eval progress: 100%|██████████| 1/1 [00:00<00:00,  3.93batch/s]\n",
      "(ClientAppActor pid=19036) WARNING :   Deprecation Warning: The `client_fn` function must return an instance of `Client`, but an instance of `NumpyClient` was returned. Please use `NumPyClient.to_client()` method to convert it to `Client`.\n",
      "Eval progress:   0%|          | 0/1 [00:00<?, ?batch/s]\n"
     ]
    },
    {
     "name": "stdout",
     "output_type": "stream",
     "text": [
      "(ClientAppActor pid=19036) [Client] Client on device: cuda:0\n",
      "(ClientAppActor pid=19036) [Client] CUDA available in client: True\n",
      "(ClientAppActor pid=19036) PrecomputingClient initialized.\n"
     ]
    },
    {
     "name": "stderr",
     "output_type": "stream",
     "text": [
      "Eval progress: 100%|██████████| 1/1 [00:00<00:00,  3.85batch/s]\n",
      "(ClientAppActor pid=19036) WARNING :   Deprecation Warning: The `client_fn` function must return an instance of `Client`, but an instance of `NumpyClient` was returned. Please use `NumPyClient.to_client()` method to convert it to `Client`.\n"
     ]
    },
    {
     "name": "stdout",
     "output_type": "stream",
     "text": [
      "(ClientAppActor pid=19036) [Client] Client on device: cuda:0\n",
      "(ClientAppActor pid=19036) [Client] CUDA available in client: True\n",
      "(ClientAppActor pid=19036) PrecomputingClient initialized.\n"
     ]
    },
    {
     "name": "stderr",
     "output_type": "stream",
     "text": [
      "Eval progress:   0%|          | 0/1 [00:00<?, ?batch/s]\n",
      "Eval progress: 100%|██████████| 1/1 [00:00<00:00,  3.91batch/s]\n",
      "(ClientAppActor pid=19036) WARNING :   Deprecation Warning: The `client_fn` function must return an instance of `Client`, but an instance of `NumpyClient` was returned. Please use `NumPyClient.to_client()` method to convert it to `Client`.\n",
      "Eval progress:   0%|          | 0/1 [00:00<?, ?batch/s]\n"
     ]
    },
    {
     "name": "stdout",
     "output_type": "stream",
     "text": [
      "(ClientAppActor pid=19036) [Client] Client on device: cuda:0\n",
      "(ClientAppActor pid=19036) [Client] CUDA available in client: True\n",
      "(ClientAppActor pid=19036) PrecomputingClient initialized.\n"
     ]
    },
    {
     "name": "stderr",
     "output_type": "stream",
     "text": [
      "Eval progress: 100%|██████████| 1/1 [00:00<00:00,  2.12batch/s]\n",
      "(ClientAppActor pid=19036) WARNING :   Deprecation Warning: The `client_fn` function must return an instance of `Client`, but an instance of `NumpyClient` was returned. Please use `NumPyClient.to_client()` method to convert it to `Client`.\n"
     ]
    },
    {
     "name": "stdout",
     "output_type": "stream",
     "text": [
      "(ClientAppActor pid=19036) [Client] Client on device: cuda:0\n",
      "(ClientAppActor pid=19036) [Client] CUDA available in client: True\n",
      "(ClientAppActor pid=19036) PrecomputingClient initialized.\n"
     ]
    },
    {
     "name": "stderr",
     "output_type": "stream",
     "text": [
      "Eval progress:   0%|          | 0/1 [00:00<?, ?batch/s]\n",
      "Eval progress: 100%|██████████| 1/1 [00:00<00:00,  3.74batch/s]\n",
      "(ClientAppActor pid=19036) WARNING :   Deprecation Warning: The `client_fn` function must return an instance of `Client`, but an instance of `NumpyClient` was returned. Please use `NumPyClient.to_client()` method to convert it to `Client`.\n",
      "Eval progress:   0%|          | 0/1 [00:00<?, ?batch/s]\n"
     ]
    },
    {
     "name": "stdout",
     "output_type": "stream",
     "text": [
      "(ClientAppActor pid=19036) [Client] Client on device: cuda:0\n",
      "(ClientAppActor pid=19036) [Client] CUDA available in client: True\n",
      "(ClientAppActor pid=19036) PrecomputingClient initialized.\n"
     ]
    },
    {
     "name": "stderr",
     "output_type": "stream",
     "text": [
      "Eval progress: 100%|██████████| 1/1 [00:00<00:00,  3.89batch/s]\n",
      "(ClientAppActor pid=19036) WARNING :   Deprecation Warning: The `client_fn` function must return an instance of `Client`, but an instance of `NumpyClient` was returned. Please use `NumPyClient.to_client()` method to convert it to `Client`.\n"
     ]
    },
    {
     "name": "stdout",
     "output_type": "stream",
     "text": [
      "(ClientAppActor pid=19036) [Client] Client on device: cuda:0\n",
      "(ClientAppActor pid=19036) [Client] CUDA available in client: True\n",
      "(ClientAppActor pid=19036) PrecomputingClient initialized.\n"
     ]
    },
    {
     "name": "stderr",
     "output_type": "stream",
     "text": [
      "Eval progress:   0%|          | 0/1 [00:00<?, ?batch/s]\n",
      "Eval progress: 100%|██████████| 1/1 [00:00<00:00,  3.92batch/s]\n",
      "(ClientAppActor pid=19036) WARNING :   Deprecation Warning: The `client_fn` function must return an instance of `Client`, but an instance of `NumpyClient` was returned. Please use `NumPyClient.to_client()` method to convert it to `Client`.\n"
     ]
    },
    {
     "name": "stdout",
     "output_type": "stream",
     "text": [
      "(ClientAppActor pid=19036) [Client] Client on device: cuda:0\n",
      "(ClientAppActor pid=19036) [Client] CUDA available in client: True\n",
      "(ClientAppActor pid=19036) PrecomputingClient initialized.\n"
     ]
    },
    {
     "name": "stderr",
     "output_type": "stream",
     "text": [
      "Eval progress:   0%|          | 0/1 [00:00<?, ?batch/s]\n",
      "Eval progress: 100%|██████████| 1/1 [00:00<00:00,  3.90batch/s]\n",
      "(ClientAppActor pid=19036) WARNING :   Deprecation Warning: The `client_fn` function must return an instance of `Client`, but an instance of `NumpyClient` was returned. Please use `NumPyClient.to_client()` method to convert it to `Client`.\n",
      "Eval progress:   0%|          | 0/1 [00:00<?, ?batch/s]\n"
     ]
    },
    {
     "name": "stdout",
     "output_type": "stream",
     "text": [
      "(ClientAppActor pid=19036) [Client] Client on device: cuda:0\n",
      "(ClientAppActor pid=19036) [Client] CUDA available in client: True\n",
      "(ClientAppActor pid=19036) PrecomputingClient initialized.\n"
     ]
    },
    {
     "name": "stderr",
     "output_type": "stream",
     "text": [
      "Eval progress: 100%|██████████| 1/1 [00:00<00:00,  3.56batch/s]\n",
      "\u001b[92mINFO \u001b[0m:      aggregate_evaluate: received 10 results and 0 failures\n",
      "\u001b[92mINFO \u001b[0m:      \n",
      "\u001b[92mINFO \u001b[0m:      [ROUND 4]\n",
      "\u001b[92mINFO \u001b[0m:      [Round 4] Quorum updated to: 16\n",
      "\u001b[92mINFO \u001b[0m:      [Round 4] Generated initial global mask with quorum 16. Sparsity: 0.7342\n",
      "\u001b[92mINFO \u001b[0m:      configure_fit: strategy sampled 10 clients (out of 100)\n",
      "(ClientAppActor pid=19036) WARNING :   Deprecation Warning: The `client_fn` function must return an instance of `Client`, but an instance of `NumpyClient` was returned. Please use `NumPyClient.to_client()` method to convert it to `Client`.\n"
     ]
    },
    {
     "name": "stdout",
     "output_type": "stream",
     "text": [
      "(ClientAppActor pid=19036) [Client] Client on device: cuda:0\n",
      "(ClientAppActor pid=19036) [Client] CUDA available in client: True\n",
      "(ClientAppActor pid=19036) PrecomputingClient initialized.\n",
      "(ClientAppActor pid=19036) No prefix/name for the model was provided, choosen prefix/name: sassy_arbok_57\n",
      "(ClientAppActor pid=19036) \n",
      "(ClientAppActor pid=19036) Step 1/8 | Total batches: 4\n",
      "(ClientAppActor pid=19036) Step 2/8 | Total batches: 4\n",
      "(ClientAppActor pid=19036) Step 3/8 | Total batches: 4\n",
      "(ClientAppActor pid=19036) Step 4/8 | Total batches: 4\n",
      "(ClientAppActor pid=19036) Step 5/8 | Total batches: 4\n",
      "(ClientAppActor pid=19036) Step 6/8 | Total batches: 4\n",
      "(ClientAppActor pid=19036) Step 7/8 | Total batches: 4\n",
      "(ClientAppActor pid=19036) Step 8/8 | Total batches: 4\n",
      "(ClientAppActor pid=19036) 🚀 Epoch 1/1 (100.00%) Completed\n",
      "(ClientAppActor pid=19036) \t📊 Training Loss: 0.2694\n",
      "(ClientAppActor pid=19036) \t✅ Training Accuracy: 91.62%\n",
      "(ClientAppActor pid=19036) \t⏳ Elapsed Time: 3.39s | ETA: 0.00s\n",
      "(ClientAppActor pid=19036) \t🕒 Completed At: 18:55\n",
      "(ClientAppActor pid=19036) \n",
      "(ClientAppActor pid=19036) [Client] Client on device: cuda:0\n",
      "(ClientAppActor pid=19036) [Client] CUDA available in client: True\n"
     ]
    },
    {
     "name": "stderr",
     "output_type": "stream",
     "text": [
      "(ClientAppActor pid=19036) WARNING :   Deprecation Warning: The `client_fn` function must return an instance of `Client`, but an instance of `NumpyClient` was returned. Please use `NumPyClient.to_client()` method to convert it to `Client`.\n"
     ]
    },
    {
     "name": "stdout",
     "output_type": "stream",
     "text": [
      "(ClientAppActor pid=19036) PrecomputingClient initialized.\n",
      "(ClientAppActor pid=19036) No prefix/name for the model was provided, choosen prefix/name: frosty_pidgeot_92\n",
      "(ClientAppActor pid=19036) \n",
      "(ClientAppActor pid=19036) Step 1/8 | Total batches: 4\n",
      "(ClientAppActor pid=19036) Step 2/8 | Total batches: 4\n",
      "(ClientAppActor pid=19036) Step 3/8 | Total batches: 4\n",
      "(ClientAppActor pid=19036) Step 4/8 | Total batches: 4\n",
      "(ClientAppActor pid=19036) Step 5/8 | Total batches: 4\n",
      "(ClientAppActor pid=19036) Step 6/8 | Total batches: 4\n",
      "(ClientAppActor pid=19036) Step 7/8 | Total batches: 4\n",
      "(ClientAppActor pid=19036) Step 8/8 | Total batches: 4\n",
      "(ClientAppActor pid=19036) 🚀 Epoch 1/1 (100.00%) Completed\n",
      "(ClientAppActor pid=19036) \t📊 Training Loss: 0.8633\n",
      "(ClientAppActor pid=19036) \t✅ Training Accuracy: 76.62%\n",
      "(ClientAppActor pid=19036) \t⏳ Elapsed Time: 3.40s | ETA: 0.00s\n",
      "(ClientAppActor pid=19036) \t🕒 Completed At: 18:55\n",
      "(ClientAppActor pid=19036) \n"
     ]
    },
    {
     "name": "stderr",
     "output_type": "stream",
     "text": [
      "(ClientAppActor pid=19036) WARNING :   Deprecation Warning: The `client_fn` function must return an instance of `Client`, but an instance of `NumpyClient` was returned. Please use `NumPyClient.to_client()` method to convert it to `Client`.\n"
     ]
    },
    {
     "name": "stdout",
     "output_type": "stream",
     "text": [
      "(ClientAppActor pid=19036) [Client] Client on device: cuda:0\n",
      "(ClientAppActor pid=19036) [Client] CUDA available in client: True\n",
      "(ClientAppActor pid=19036) PrecomputingClient initialized.\n",
      "(ClientAppActor pid=19036) No prefix/name for the model was provided, choosen prefix/name: perky_pidgeotto_22\n",
      "(ClientAppActor pid=19036) \n",
      "(ClientAppActor pid=19036) Step 1/8 | Total batches: 4\n",
      "(ClientAppActor pid=19036) Step 2/8 | Total batches: 4\n",
      "(ClientAppActor pid=19036) Step 3/8 | Total batches: 4\n",
      "(ClientAppActor pid=19036) Step 4/8 | Total batches: 4\n",
      "(ClientAppActor pid=19036) Step 5/8 | Total batches: 4\n",
      "(ClientAppActor pid=19036) Step 6/8 | Total batches: 4\n",
      "(ClientAppActor pid=19036) Step 7/8 | Total batches: 4\n",
      "(ClientAppActor pid=19036) Step 8/8 | Total batches: 4\n",
      "(ClientAppActor pid=19036) 🚀 Epoch 1/1 (100.00%) Completed\n",
      "(ClientAppActor pid=19036) \t📊 Training Loss: 0.6587\n",
      "(ClientAppActor pid=19036) \t✅ Training Accuracy: 80.62%\n",
      "(ClientAppActor pid=19036) \t⏳ Elapsed Time: 3.39s | ETA: 0.00s\n",
      "(ClientAppActor pid=19036) \t🕒 Completed At: 18:55\n",
      "(ClientAppActor pid=19036) \n",
      "(ClientAppActor pid=19036) [Client] Client on device: cuda:0\n",
      "(ClientAppActor pid=19036) [Client] CUDA available in client: True\n"
     ]
    },
    {
     "name": "stderr",
     "output_type": "stream",
     "text": [
      "(ClientAppActor pid=19036) WARNING :   Deprecation Warning: The `client_fn` function must return an instance of `Client`, but an instance of `NumpyClient` was returned. Please use `NumPyClient.to_client()` method to convert it to `Client`.\n"
     ]
    },
    {
     "name": "stdout",
     "output_type": "stream",
     "text": [
      "(ClientAppActor pid=19036) PrecomputingClient initialized.\n",
      "(ClientAppActor pid=19036) No prefix/name for the model was provided, choosen prefix/name: sleepy_nidorina_50\n",
      "(ClientAppActor pid=19036) \n",
      "(ClientAppActor pid=19036) Step 1/8 | Total batches: 4\n",
      "(ClientAppActor pid=19036) Step 2/8 | Total batches: 4\n",
      "(ClientAppActor pid=19036) Step 3/8 | Total batches: 4\n",
      "(ClientAppActor pid=19036) Step 4/8 | Total batches: 4\n",
      "(ClientAppActor pid=19036) Step 5/8 | Total batches: 4\n",
      "(ClientAppActor pid=19036) Step 6/8 | Total batches: 4\n",
      "(ClientAppActor pid=19036) Step 7/8 | Total batches: 4\n",
      "(ClientAppActor pid=19036) Step 8/8 | Total batches: 4\n",
      "(ClientAppActor pid=19036) 🚀 Epoch 1/1 (100.00%) Completed\n",
      "(ClientAppActor pid=19036) \t📊 Training Loss: 0.3343\n",
      "(ClientAppActor pid=19036) \t✅ Training Accuracy: 89.38%\n",
      "(ClientAppActor pid=19036) \t⏳ Elapsed Time: 3.41s | ETA: 0.00s\n",
      "(ClientAppActor pid=19036) \t🕒 Completed At: 18:55\n",
      "(ClientAppActor pid=19036) \n",
      "(ClientAppActor pid=19036) [Client] Client on device: cuda:0\n",
      "(ClientAppActor pid=19036) [Client] CUDA available in client: True\n"
     ]
    },
    {
     "name": "stderr",
     "output_type": "stream",
     "text": [
      "(ClientAppActor pid=19036) WARNING :   Deprecation Warning: The `client_fn` function must return an instance of `Client`, but an instance of `NumpyClient` was returned. Please use `NumPyClient.to_client()` method to convert it to `Client`.\n"
     ]
    },
    {
     "name": "stdout",
     "output_type": "stream",
     "text": [
      "(ClientAppActor pid=19036) PrecomputingClient initialized.\n",
      "(ClientAppActor pid=19036) No prefix/name for the model was provided, choosen prefix/name: wacky_pikachu_51\n",
      "(ClientAppActor pid=19036) \n",
      "(ClientAppActor pid=19036) Step 1/8 | Total batches: 4\n",
      "(ClientAppActor pid=19036) Step 2/8 | Total batches: 4\n",
      "(ClientAppActor pid=19036) Step 3/8 | Total batches: 4\n",
      "(ClientAppActor pid=19036) Step 4/8 | Total batches: 4\n",
      "(ClientAppActor pid=19036) Step 5/8 | Total batches: 4\n",
      "(ClientAppActor pid=19036) Step 6/8 | Total batches: 4\n",
      "(ClientAppActor pid=19036) Step 7/8 | Total batches: 4\n",
      "(ClientAppActor pid=19036) Step 8/8 | Total batches: 4\n",
      "(ClientAppActor pid=19036) 🚀 Epoch 1/1 (100.00%) Completed\n",
      "(ClientAppActor pid=19036) \t📊 Training Loss: 1.1122\n",
      "(ClientAppActor pid=19036) \t✅ Training Accuracy: 74.88%\n",
      "(ClientAppActor pid=19036) \t⏳ Elapsed Time: 3.34s | ETA: 0.00s\n",
      "(ClientAppActor pid=19036) \t🕒 Completed At: 18:55\n",
      "(ClientAppActor pid=19036) \n"
     ]
    },
    {
     "name": "stderr",
     "output_type": "stream",
     "text": [
      "(ClientAppActor pid=19036) WARNING :   Deprecation Warning: The `client_fn` function must return an instance of `Client`, but an instance of `NumpyClient` was returned. Please use `NumPyClient.to_client()` method to convert it to `Client`.\n"
     ]
    },
    {
     "name": "stdout",
     "output_type": "stream",
     "text": [
      "(ClientAppActor pid=19036) [Client] Client on device: cuda:0\n",
      "(ClientAppActor pid=19036) [Client] CUDA available in client: True\n",
      "(ClientAppActor pid=19036) PrecomputingClient initialized.\n",
      "(ClientAppActor pid=19036) No prefix/name for the model was provided, choosen prefix/name: grumpy_nidoking_14\n",
      "(ClientAppActor pid=19036) \n",
      "(ClientAppActor pid=19036) Step 1/8 | Total batches: 4\n",
      "(ClientAppActor pid=19036) Step 2/8 | Total batches: 4\n",
      "(ClientAppActor pid=19036) Step 3/8 | Total batches: 4\n",
      "(ClientAppActor pid=19036) Step 4/8 | Total batches: 4\n",
      "(ClientAppActor pid=19036) Step 5/8 | Total batches: 4\n",
      "(ClientAppActor pid=19036) Step 6/8 | Total batches: 4\n",
      "(ClientAppActor pid=19036) Step 7/8 | Total batches: 4\n",
      "(ClientAppActor pid=19036) Step 8/8 | Total batches: 4\n",
      "(ClientAppActor pid=19036) 🚀 Epoch 1/1 (100.00%) Completed\n",
      "(ClientAppActor pid=19036) \t📊 Training Loss: 0.7438\n",
      "(ClientAppActor pid=19036) \t✅ Training Accuracy: 81.12%\n",
      "(ClientAppActor pid=19036) \t⏳ Elapsed Time: 3.35s | ETA: 0.00s\n",
      "(ClientAppActor pid=19036) \t🕒 Completed At: 18:55\n",
      "(ClientAppActor pid=19036) \n"
     ]
    },
    {
     "name": "stderr",
     "output_type": "stream",
     "text": [
      "(ClientAppActor pid=19036) WARNING :   Deprecation Warning: The `client_fn` function must return an instance of `Client`, but an instance of `NumpyClient` was returned. Please use `NumPyClient.to_client()` method to convert it to `Client`.\n"
     ]
    },
    {
     "name": "stdout",
     "output_type": "stream",
     "text": [
      "(ClientAppActor pid=19036) [Client] Client on device: cuda:0\n",
      "(ClientAppActor pid=19036) [Client] CUDA available in client: True\n",
      "(ClientAppActor pid=19036) PrecomputingClient initialized.\n",
      "(ClientAppActor pid=19036) No prefix/name for the model was provided, choosen prefix/name: giddy_charizard_39\n",
      "(ClientAppActor pid=19036) \n",
      "(ClientAppActor pid=19036) Step 1/8 | Total batches: 4\n",
      "(ClientAppActor pid=19036) Step 2/8 | Total batches: 4\n",
      "(ClientAppActor pid=19036) Step 3/8 | Total batches: 4\n",
      "(ClientAppActor pid=19036) Step 4/8 | Total batches: 4\n",
      "(ClientAppActor pid=19036) Step 5/8 | Total batches: 4\n",
      "(ClientAppActor pid=19036) Step 6/8 | Total batches: 4\n",
      "(ClientAppActor pid=19036) Step 7/8 | Total batches: 4\n",
      "(ClientAppActor pid=19036) Step 8/8 | Total batches: 4\n",
      "(ClientAppActor pid=19036) 🚀 Epoch 1/1 (100.00%) Completed\n",
      "(ClientAppActor pid=19036) \t📊 Training Loss: 0.2774\n",
      "(ClientAppActor pid=19036) \t✅ Training Accuracy: 91.25%\n",
      "(ClientAppActor pid=19036) \t⏳ Elapsed Time: 3.35s | ETA: 0.00s\n",
      "(ClientAppActor pid=19036) \t🕒 Completed At: 18:55\n",
      "(ClientAppActor pid=19036) \n"
     ]
    },
    {
     "name": "stderr",
     "output_type": "stream",
     "text": [
      "(ClientAppActor pid=19036) WARNING :   Deprecation Warning: The `client_fn` function must return an instance of `Client`, but an instance of `NumpyClient` was returned. Please use `NumPyClient.to_client()` method to convert it to `Client`.\n"
     ]
    },
    {
     "name": "stdout",
     "output_type": "stream",
     "text": [
      "(ClientAppActor pid=19036) [Client] Client on device: cuda:0\n",
      "(ClientAppActor pid=19036) [Client] CUDA available in client: True\n",
      "(ClientAppActor pid=19036) PrecomputingClient initialized.\n",
      "(ClientAppActor pid=19036) No prefix/name for the model was provided, choosen prefix/name: soggy_charizard_53\n",
      "(ClientAppActor pid=19036) \n",
      "(ClientAppActor pid=19036) Step 1/8 | Total batches: 4\n",
      "(ClientAppActor pid=19036) Step 2/8 | Total batches: 4\n",
      "(ClientAppActor pid=19036) Step 3/8 | Total batches: 4\n",
      "(ClientAppActor pid=19036) Step 4/8 | Total batches: 4\n",
      "(ClientAppActor pid=19036) Step 5/8 | Total batches: 4\n",
      "(ClientAppActor pid=19036) Step 6/8 | Total batches: 4\n",
      "(ClientAppActor pid=19036) Step 7/8 | Total batches: 4\n",
      "(ClientAppActor pid=19036) Step 8/8 | Total batches: 4\n",
      "(ClientAppActor pid=19036) 🚀 Epoch 1/1 (100.00%) Completed\n",
      "(ClientAppActor pid=19036) \t📊 Training Loss: 0.6202\n",
      "(ClientAppActor pid=19036) \t✅ Training Accuracy: 82.50%\n",
      "(ClientAppActor pid=19036) \t⏳ Elapsed Time: 3.38s | ETA: 0.00s\n",
      "(ClientAppActor pid=19036) \t🕒 Completed At: 18:55\n",
      "(ClientAppActor pid=19036) \n"
     ]
    },
    {
     "name": "stderr",
     "output_type": "stream",
     "text": [
      "(ClientAppActor pid=19036) WARNING :   Deprecation Warning: The `client_fn` function must return an instance of `Client`, but an instance of `NumpyClient` was returned. Please use `NumPyClient.to_client()` method to convert it to `Client`.\n"
     ]
    },
    {
     "name": "stdout",
     "output_type": "stream",
     "text": [
      "(ClientAppActor pid=19036) [Client] Client on device: cuda:0\n",
      "(ClientAppActor pid=19036) [Client] CUDA available in client: True\n",
      "(ClientAppActor pid=19036) PrecomputingClient initialized.\n",
      "(ClientAppActor pid=19036) No prefix/name for the model was provided, choosen prefix/name: dorky_sandslash_57\n",
      "(ClientAppActor pid=19036) \n",
      "(ClientAppActor pid=19036) Step 1/8 | Total batches: 4\n",
      "(ClientAppActor pid=19036) Step 2/8 | Total batches: 4\n",
      "(ClientAppActor pid=19036) Step 3/8 | Total batches: 4\n",
      "(ClientAppActor pid=19036) Step 4/8 | Total batches: 4\n",
      "(ClientAppActor pid=19036) Step 5/8 | Total batches: 4\n",
      "(ClientAppActor pid=19036) Step 6/8 | Total batches: 4\n",
      "(ClientAppActor pid=19036) Step 7/8 | Total batches: 4\n",
      "(ClientAppActor pid=19036) Step 8/8 | Total batches: 4\n",
      "(ClientAppActor pid=19036) 🚀 Epoch 1/1 (100.00%) Completed\n",
      "(ClientAppActor pid=19036) \t📊 Training Loss: 0.1201\n",
      "(ClientAppActor pid=19036) \t✅ Training Accuracy: 96.25%\n",
      "(ClientAppActor pid=19036) \t⏳ Elapsed Time: 3.36s | ETA: 0.00s\n",
      "(ClientAppActor pid=19036) \t🕒 Completed At: 18:55\n",
      "(ClientAppActor pid=19036) \n"
     ]
    },
    {
     "name": "stderr",
     "output_type": "stream",
     "text": [
      "(ClientAppActor pid=19036) WARNING :   Deprecation Warning: The `client_fn` function must return an instance of `Client`, but an instance of `NumpyClient` was returned. Please use `NumPyClient.to_client()` method to convert it to `Client`.\n"
     ]
    },
    {
     "name": "stdout",
     "output_type": "stream",
     "text": [
      "(ClientAppActor pid=19036) [Client] Client on device: cuda:0\n",
      "(ClientAppActor pid=19036) [Client] CUDA available in client: True\n",
      "(ClientAppActor pid=19036) PrecomputingClient initialized.\n",
      "(ClientAppActor pid=19036) No prefix/name for the model was provided, choosen prefix/name: cranky_venusaur_38\n",
      "(ClientAppActor pid=19036) \n",
      "(ClientAppActor pid=19036) Step 1/8 | Total batches: 4\n",
      "(ClientAppActor pid=19036) Step 2/8 | Total batches: 4\n",
      "(ClientAppActor pid=19036) Step 3/8 | Total batches: 4\n",
      "(ClientAppActor pid=19036) Step 4/8 | Total batches: 4\n",
      "(ClientAppActor pid=19036) Step 5/8 | Total batches: 4\n",
      "(ClientAppActor pid=19036) Step 6/8 | Total batches: 4\n",
      "(ClientAppActor pid=19036) Step 7/8 | Total batches: 4\n",
      "(ClientAppActor pid=19036) Step 8/8 | Total batches: 4\n",
      "(ClientAppActor pid=19036) 🚀 Epoch 1/1 (100.00%) Completed\n",
      "(ClientAppActor pid=19036) \t📊 Training Loss: 0.4487\n",
      "(ClientAppActor pid=19036) \t✅ Training Accuracy: 85.88%\n",
      "(ClientAppActor pid=19036) \t⏳ Elapsed Time: 3.35s | ETA: 0.00s\n",
      "(ClientAppActor pid=19036) \t🕒 Completed At: 18:56\n",
      "(ClientAppActor pid=19036) \n"
     ]
    },
    {
     "name": "stderr",
     "output_type": "stream",
     "text": [
      "\u001b[92mINFO \u001b[0m:      aggregate_fit: received 10 results and 0 failures\n",
      "\u001b[92mINFO \u001b[0m:      [Round 4] Avg Drift: 0.0013 | Relative Drift: 0.0000\n",
      "\u001b[92mINFO \u001b[0m:      [Round 4] Saving aggregated model at epoch 204...\n"
     ]
    },
    {
     "name": "stdout",
     "output_type": "stream",
     "text": [
      "💾 Saved checkpoint at: /Users/ciovi/Desktop/coding/mldl/fl-g13/checkpoints/fl_dino_v4/non_iid/1_8_dynamic-quorum\\fl_Test_Dynamic_Quorum_v2_BaseDino_epoch_204.pth\n",
      "[Server Eval Round 4] Model device: cuda:0\n",
      "[Server Eval Round 4] CUDA available in server eval: True\n"
     ]
    },
    {
     "name": "stderr",
     "output_type": "stream",
     "text": [
      "Eval progress: 100%|██████████| 313/313 [00:22<00:00, 14.12batch/s]\n",
      "\u001b[92mINFO \u001b[0m:      [Round 4] Centralized Evaluation - Loss: 4.5541, Metrics: {'centralized_accuracy': 0.1134}\n",
      "\u001b[92mINFO \u001b[0m:      fit progress: (4, 4.554081365323295, {'centralized_accuracy': 0.1134}, 336.8955301999995)\n",
      "\u001b[92mINFO \u001b[0m:      configure_evaluate: strategy sampled 10 clients (out of 100)\n",
      "(ClientAppActor pid=19036) WARNING :   Deprecation Warning: The `client_fn` function must return an instance of `Client`, but an instance of `NumpyClient` was returned. Please use `NumPyClient.to_client()` method to convert it to `Client`.\n",
      "Eval progress:   0%|          | 0/1 [00:00<?, ?batch/s]\n"
     ]
    },
    {
     "name": "stdout",
     "output_type": "stream",
     "text": [
      "(ClientAppActor pid=19036) [Client] Client on device: cuda:0\n",
      "(ClientAppActor pid=19036) [Client] CUDA available in client: True\n",
      "(ClientAppActor pid=19036) PrecomputingClient initialized.\n"
     ]
    },
    {
     "name": "stderr",
     "output_type": "stream",
     "text": [
      "Eval progress: 100%|██████████| 1/1 [00:00<00:00,  3.86batch/s]\n",
      "(ClientAppActor pid=19036) WARNING :   Deprecation Warning: The `client_fn` function must return an instance of `Client`, but an instance of `NumpyClient` was returned. Please use `NumPyClient.to_client()` method to convert it to `Client`.\n",
      "Eval progress:   0%|          | 0/1 [00:00<?, ?batch/s]\n"
     ]
    },
    {
     "name": "stdout",
     "output_type": "stream",
     "text": [
      "(ClientAppActor pid=19036) [Client] Client on device: cuda:0\n",
      "(ClientAppActor pid=19036) [Client] CUDA available in client: True\n",
      "(ClientAppActor pid=19036) PrecomputingClient initialized.\n"
     ]
    },
    {
     "name": "stderr",
     "output_type": "stream",
     "text": [
      "Eval progress: 100%|██████████| 1/1 [00:00<00:00,  3.87batch/s]\n",
      "(ClientAppActor pid=19036) WARNING :   Deprecation Warning: The `client_fn` function must return an instance of `Client`, but an instance of `NumpyClient` was returned. Please use `NumPyClient.to_client()` method to convert it to `Client`.\n",
      "Eval progress:   0%|          | 0/1 [00:00<?, ?batch/s]\n"
     ]
    },
    {
     "name": "stdout",
     "output_type": "stream",
     "text": [
      "(ClientAppActor pid=19036) [Client] Client on device: cuda:0\n",
      "(ClientAppActor pid=19036) [Client] CUDA available in client: True\n",
      "(ClientAppActor pid=19036) PrecomputingClient initialized.\n"
     ]
    },
    {
     "name": "stderr",
     "output_type": "stream",
     "text": [
      "Eval progress: 100%|██████████| 1/1 [00:00<00:00,  3.89batch/s]\n",
      "(ClientAppActor pid=19036) WARNING :   Deprecation Warning: The `client_fn` function must return an instance of `Client`, but an instance of `NumpyClient` was returned. Please use `NumPyClient.to_client()` method to convert it to `Client`.\n"
     ]
    },
    {
     "name": "stdout",
     "output_type": "stream",
     "text": [
      "(ClientAppActor pid=19036) [Client] Client on device: cuda:0\n",
      "(ClientAppActor pid=19036) [Client] CUDA available in client: True\n",
      "(ClientAppActor pid=19036) PrecomputingClient initialized.\n"
     ]
    },
    {
     "name": "stderr",
     "output_type": "stream",
     "text": [
      "Eval progress:   0%|          | 0/1 [00:00<?, ?batch/s]\n",
      "Eval progress: 100%|██████████| 1/1 [00:00<00:00,  3.68batch/s]\n",
      "(ClientAppActor pid=19036) WARNING :   Deprecation Warning: The `client_fn` function must return an instance of `Client`, but an instance of `NumpyClient` was returned. Please use `NumPyClient.to_client()` method to convert it to `Client`.\n",
      "Eval progress:   0%|          | 0/1 [00:00<?, ?batch/s]\n"
     ]
    },
    {
     "name": "stdout",
     "output_type": "stream",
     "text": [
      "(ClientAppActor pid=19036) [Client] Client on device: cuda:0\n",
      "(ClientAppActor pid=19036) [Client] CUDA available in client: True\n",
      "(ClientAppActor pid=19036) PrecomputingClient initialized.\n"
     ]
    },
    {
     "name": "stderr",
     "output_type": "stream",
     "text": [
      "Eval progress: 100%|██████████| 1/1 [00:00<00:00,  3.88batch/s]\n",
      "(ClientAppActor pid=19036) WARNING :   Deprecation Warning: The `client_fn` function must return an instance of `Client`, but an instance of `NumpyClient` was returned. Please use `NumPyClient.to_client()` method to convert it to `Client`.\n",
      "Eval progress:   0%|          | 0/1 [00:00<?, ?batch/s]\n"
     ]
    },
    {
     "name": "stdout",
     "output_type": "stream",
     "text": [
      "(ClientAppActor pid=19036) [Client] Client on device: cuda:0\n",
      "(ClientAppActor pid=19036) [Client] CUDA available in client: True\n",
      "(ClientAppActor pid=19036) PrecomputingClient initialized.\n"
     ]
    },
    {
     "name": "stderr",
     "output_type": "stream",
     "text": [
      "Eval progress: 100%|██████████| 1/1 [00:00<00:00,  3.73batch/s]\n"
     ]
    },
    {
     "name": "stdout",
     "output_type": "stream",
     "text": [
      "(ClientAppActor pid=19036) [Client] Client on device: cuda:0\n",
      "(ClientAppActor pid=19036) [Client] CUDA available in client: True\n"
     ]
    },
    {
     "name": "stderr",
     "output_type": "stream",
     "text": [
      "(ClientAppActor pid=19036) WARNING :   Deprecation Warning: The `client_fn` function must return an instance of `Client`, but an instance of `NumpyClient` was returned. Please use `NumPyClient.to_client()` method to convert it to `Client`.\n"
     ]
    },
    {
     "name": "stdout",
     "output_type": "stream",
     "text": [
      "(ClientAppActor pid=19036) PrecomputingClient initialized.\n"
     ]
    },
    {
     "name": "stderr",
     "output_type": "stream",
     "text": [
      "Eval progress:   0%|          | 0/1 [00:00<?, ?batch/s]\n",
      "Eval progress: 100%|██████████| 1/1 [00:00<00:00,  3.91batch/s]\n",
      "(ClientAppActor pid=19036) WARNING :   Deprecation Warning: The `client_fn` function must return an instance of `Client`, but an instance of `NumpyClient` was returned. Please use `NumPyClient.to_client()` method to convert it to `Client`.\n",
      "Eval progress:   0%|          | 0/1 [00:00<?, ?batch/s]\n"
     ]
    },
    {
     "name": "stdout",
     "output_type": "stream",
     "text": [
      "(ClientAppActor pid=19036) [Client] Client on device: cuda:0\n",
      "(ClientAppActor pid=19036) [Client] CUDA available in client: True\n",
      "(ClientAppActor pid=19036) PrecomputingClient initialized.\n"
     ]
    },
    {
     "name": "stderr",
     "output_type": "stream",
     "text": [
      "Eval progress: 100%|██████████| 1/1 [00:00<00:00,  3.90batch/s]\n",
      "(ClientAppActor pid=19036) WARNING :   Deprecation Warning: The `client_fn` function must return an instance of `Client`, but an instance of `NumpyClient` was returned. Please use `NumPyClient.to_client()` method to convert it to `Client`.\n",
      "Eval progress:   0%|          | 0/1 [00:00<?, ?batch/s]\n"
     ]
    },
    {
     "name": "stdout",
     "output_type": "stream",
     "text": [
      "(ClientAppActor pid=19036) [Client] Client on device: cuda:0\n",
      "(ClientAppActor pid=19036) [Client] CUDA available in client: True\n",
      "(ClientAppActor pid=19036) PrecomputingClient initialized.\n"
     ]
    },
    {
     "name": "stderr",
     "output_type": "stream",
     "text": [
      "Eval progress: 100%|██████████| 1/1 [00:00<00:00,  3.94batch/s]\n",
      "(ClientAppActor pid=19036) WARNING :   Deprecation Warning: The `client_fn` function must return an instance of `Client`, but an instance of `NumpyClient` was returned. Please use `NumPyClient.to_client()` method to convert it to `Client`.\n",
      "Eval progress:   0%|          | 0/1 [00:00<?, ?batch/s]\n"
     ]
    },
    {
     "name": "stdout",
     "output_type": "stream",
     "text": [
      "(ClientAppActor pid=19036) [Client] Client on device: cuda:0\n",
      "(ClientAppActor pid=19036) [Client] CUDA available in client: True\n",
      "(ClientAppActor pid=19036) PrecomputingClient initialized.\n"
     ]
    },
    {
     "name": "stderr",
     "output_type": "stream",
     "text": [
      "\u001b[92mINFO \u001b[0m:      aggregate_evaluate: received 10 results and 0 failures\n",
      "\u001b[92mINFO \u001b[0m:      \n",
      "\u001b[92mINFO \u001b[0m:      [ROUND 5]\n",
      "\u001b[92mINFO \u001b[0m:      [Round 5] Quorum updated to: 21\n",
      "Eval progress: 100%|██████████| 1/1 [00:00<00:00,  3.92batch/s]\n",
      "\u001b[92mINFO \u001b[0m:      [Round 5] Generated initial global mask with quorum 21. Sparsity: 0.7416\n",
      "\u001b[92mINFO \u001b[0m:      configure_fit: strategy sampled 10 clients (out of 100)\n",
      "(ClientAppActor pid=19036) WARNING :   Deprecation Warning: The `client_fn` function must return an instance of `Client`, but an instance of `NumpyClient` was returned. Please use `NumPyClient.to_client()` method to convert it to `Client`.\n"
     ]
    },
    {
     "name": "stdout",
     "output_type": "stream",
     "text": [
      "(ClientAppActor pid=19036) [Client] Client on device: cuda:0\n",
      "(ClientAppActor pid=19036) [Client] CUDA available in client: True\n",
      "(ClientAppActor pid=19036) PrecomputingClient initialized.\n",
      "(ClientAppActor pid=19036) No prefix/name for the model was provided, choosen prefix/name: breezy_pikachu_99\n",
      "(ClientAppActor pid=19036) \n",
      "(ClientAppActor pid=19036) Step 1/8 | Total batches: 4\n",
      "(ClientAppActor pid=19036) Step 2/8 | Total batches: 4\n",
      "(ClientAppActor pid=19036) Step 3/8 | Total batches: 4\n",
      "(ClientAppActor pid=19036) Step 4/8 | Total batches: 4\n",
      "(ClientAppActor pid=19036) Step 5/8 | Total batches: 4\n",
      "(ClientAppActor pid=19036) Step 6/8 | Total batches: 4\n",
      "(ClientAppActor pid=19036) Step 7/8 | Total batches: 4\n",
      "(ClientAppActor pid=19036) Step 8/8 | Total batches: 4\n",
      "(ClientAppActor pid=19036) 🚀 Epoch 1/1 (100.00%) Completed\n",
      "(ClientAppActor pid=19036) \t📊 Training Loss: 0.4335\n",
      "(ClientAppActor pid=19036) \t✅ Training Accuracy: 84.38%\n",
      "(ClientAppActor pid=19036) \t⏳ Elapsed Time: 3.36s | ETA: 0.00s\n",
      "(ClientAppActor pid=19036) \t🕒 Completed At: 18:56\n",
      "(ClientAppActor pid=19036) \n"
     ]
    },
    {
     "name": "stderr",
     "output_type": "stream",
     "text": [
      "(ClientAppActor pid=19036) WARNING :   Deprecation Warning: The `client_fn` function must return an instance of `Client`, but an instance of `NumpyClient` was returned. Please use `NumPyClient.to_client()` method to convert it to `Client`.\n"
     ]
    },
    {
     "name": "stdout",
     "output_type": "stream",
     "text": [
      "(ClientAppActor pid=19036) [Client] Client on device: cuda:0\n",
      "(ClientAppActor pid=19036) [Client] CUDA available in client: True\n",
      "(ClientAppActor pid=19036) PrecomputingClient initialized.\n",
      "(ClientAppActor pid=19036) No prefix/name for the model was provided, choosen prefix/name: mushy_pidgeot_88\n",
      "(ClientAppActor pid=19036) \n",
      "(ClientAppActor pid=19036) Step 1/8 | Total batches: 4\n",
      "(ClientAppActor pid=19036) Step 2/8 | Total batches: 4\n",
      "(ClientAppActor pid=19036) Step 3/8 | Total batches: 4\n",
      "(ClientAppActor pid=19036) Step 4/8 | Total batches: 4\n",
      "(ClientAppActor pid=19036) Step 5/8 | Total batches: 4\n",
      "(ClientAppActor pid=19036) Step 6/8 | Total batches: 4\n",
      "(ClientAppActor pid=19036) Step 7/8 | Total batches: 4\n",
      "(ClientAppActor pid=19036) Step 8/8 | Total batches: 4\n",
      "(ClientAppActor pid=19036) 🚀 Epoch 1/1 (100.00%) Completed\n",
      "(ClientAppActor pid=19036) \t📊 Training Loss: 0.8103\n",
      "(ClientAppActor pid=19036) \t✅ Training Accuracy: 80.50%\n",
      "(ClientAppActor pid=19036) \t⏳ Elapsed Time: 3.38s | ETA: 0.00s\n",
      "(ClientAppActor pid=19036) \t🕒 Completed At: 18:56\n",
      "(ClientAppActor pid=19036) \n",
      "(ClientAppActor pid=19036) [Client] Client on device: cuda:0\n",
      "(ClientAppActor pid=19036) [Client] CUDA available in client: True\n"
     ]
    },
    {
     "name": "stderr",
     "output_type": "stream",
     "text": [
      "(ClientAppActor pid=19036) WARNING :   Deprecation Warning: The `client_fn` function must return an instance of `Client`, but an instance of `NumpyClient` was returned. Please use `NumPyClient.to_client()` method to convert it to `Client`.\n"
     ]
    },
    {
     "name": "stdout",
     "output_type": "stream",
     "text": [
      "(ClientAppActor pid=19036) PrecomputingClient initialized.\n",
      "(ClientAppActor pid=19036) No prefix/name for the model was provided, choosen prefix/name: snazzy_pidgey_10\n",
      "(ClientAppActor pid=19036) \n",
      "(ClientAppActor pid=19036) Step 1/8 | Total batches: 4\n",
      "(ClientAppActor pid=19036) Step 2/8 | Total batches: 4\n",
      "(ClientAppActor pid=19036) Step 3/8 | Total batches: 4\n",
      "(ClientAppActor pid=19036) Step 4/8 | Total batches: 4\n",
      "(ClientAppActor pid=19036) Step 5/8 | Total batches: 4\n",
      "(ClientAppActor pid=19036) Step 6/8 | Total batches: 4\n",
      "(ClientAppActor pid=19036) Step 7/8 | Total batches: 4\n",
      "(ClientAppActor pid=19036) Step 8/8 | Total batches: 4\n",
      "(ClientAppActor pid=19036) 🚀 Epoch 1/1 (100.00%) Completed\n",
      "(ClientAppActor pid=19036) \t📊 Training Loss: 0.6777\n",
      "(ClientAppActor pid=19036) \t✅ Training Accuracy: 82.38%\n",
      "(ClientAppActor pid=19036) \t⏳ Elapsed Time: 3.39s | ETA: 0.00s\n",
      "(ClientAppActor pid=19036) \t🕒 Completed At: 18:56\n",
      "(ClientAppActor pid=19036) \n"
     ]
    },
    {
     "name": "stderr",
     "output_type": "stream",
     "text": [
      "(ClientAppActor pid=19036) WARNING :   Deprecation Warning: The `client_fn` function must return an instance of `Client`, but an instance of `NumpyClient` was returned. Please use `NumPyClient.to_client()` method to convert it to `Client`.\n"
     ]
    },
    {
     "name": "stdout",
     "output_type": "stream",
     "text": [
      "(ClientAppActor pid=19036) [Client] Client on device: cuda:0\n",
      "(ClientAppActor pid=19036) [Client] CUDA available in client: True\n",
      "(ClientAppActor pid=19036) PrecomputingClient initialized.\n",
      "(ClientAppActor pid=19036) No prefix/name for the model was provided, choosen prefix/name: chirpy_charizard_41\n",
      "(ClientAppActor pid=19036) \n",
      "(ClientAppActor pid=19036) Step 1/8 | Total batches: 4\n",
      "(ClientAppActor pid=19036) Step 2/8 | Total batches: 4\n",
      "(ClientAppActor pid=19036) Step 3/8 | Total batches: 4\n",
      "(ClientAppActor pid=19036) Step 4/8 | Total batches: 4\n",
      "(ClientAppActor pid=19036) Step 5/8 | Total batches: 4\n",
      "(ClientAppActor pid=19036) Step 6/8 | Total batches: 4\n",
      "(ClientAppActor pid=19036) Step 7/8 | Total batches: 4\n",
      "(ClientAppActor pid=19036) Step 8/8 | Total batches: 4\n",
      "(ClientAppActor pid=19036) 🚀 Epoch 1/1 (100.00%) Completed\n",
      "(ClientAppActor pid=19036) \t📊 Training Loss: 0.8447\n",
      "(ClientAppActor pid=19036) \t✅ Training Accuracy: 82.50%\n",
      "(ClientAppActor pid=19036) \t⏳ Elapsed Time: 3.39s | ETA: 0.00s\n",
      "(ClientAppActor pid=19036) \t🕒 Completed At: 18:56\n",
      "(ClientAppActor pid=19036) \n"
     ]
    },
    {
     "name": "stderr",
     "output_type": "stream",
     "text": [
      "(ClientAppActor pid=19036) WARNING :   Deprecation Warning: The `client_fn` function must return an instance of `Client`, but an instance of `NumpyClient` was returned. Please use `NumPyClient.to_client()` method to convert it to `Client`.\n"
     ]
    },
    {
     "name": "stdout",
     "output_type": "stream",
     "text": [
      "(ClientAppActor pid=19036) [Client] Client on device: cuda:0\n",
      "(ClientAppActor pid=19036) [Client] CUDA available in client: True\n",
      "(ClientAppActor pid=19036) PrecomputingClient initialized.\n",
      "(ClientAppActor pid=19036) No prefix/name for the model was provided, choosen prefix/name: frosty_rattata_31\n",
      "(ClientAppActor pid=19036) \n",
      "(ClientAppActor pid=19036) Step 1/8 | Total batches: 4\n",
      "(ClientAppActor pid=19036) Step 2/8 | Total batches: 4\n",
      "(ClientAppActor pid=19036) Step 3/8 | Total batches: 4\n",
      "(ClientAppActor pid=19036) Step 4/8 | Total batches: 4\n",
      "(ClientAppActor pid=19036) Step 5/8 | Total batches: 4\n",
      "(ClientAppActor pid=19036) Step 6/8 | Total batches: 4\n",
      "(ClientAppActor pid=19036) Step 7/8 | Total batches: 4\n",
      "(ClientAppActor pid=19036) Step 8/8 | Total batches: 4\n",
      "(ClientAppActor pid=19036) 🚀 Epoch 1/1 (100.00%) Completed\n",
      "(ClientAppActor pid=19036) \t📊 Training Loss: 0.5836\n",
      "(ClientAppActor pid=19036) \t✅ Training Accuracy: 84.38%\n",
      "(ClientAppActor pid=19036) \t⏳ Elapsed Time: 3.39s | ETA: 0.00s\n",
      "(ClientAppActor pid=19036) \t🕒 Completed At: 18:57\n",
      "(ClientAppActor pid=19036) \n"
     ]
    },
    {
     "name": "stderr",
     "output_type": "stream",
     "text": [
      "(ClientAppActor pid=19036) WARNING :   Deprecation Warning: The `client_fn` function must return an instance of `Client`, but an instance of `NumpyClient` was returned. Please use `NumPyClient.to_client()` method to convert it to `Client`.\n"
     ]
    },
    {
     "name": "stdout",
     "output_type": "stream",
     "text": [
      "(ClientAppActor pid=19036) [Client] Client on device: cuda:0\n",
      "(ClientAppActor pid=19036) [Client] CUDA available in client: True\n",
      "(ClientAppActor pid=19036) PrecomputingClient initialized.\n",
      "(ClientAppActor pid=19036) No prefix/name for the model was provided, choosen prefix/name: zesty_weedle_38\n",
      "(ClientAppActor pid=19036) \n",
      "(ClientAppActor pid=19036) Step 1/8 | Total batches: 4\n",
      "(ClientAppActor pid=19036) Step 2/8 | Total batches: 4\n",
      "(ClientAppActor pid=19036) Step 3/8 | Total batches: 4\n",
      "(ClientAppActor pid=19036) Step 4/8 | Total batches: 4\n",
      "(ClientAppActor pid=19036) Step 5/8 | Total batches: 4\n",
      "(ClientAppActor pid=19036) Step 6/8 | Total batches: 4\n",
      "(ClientAppActor pid=19036) Step 7/8 | Total batches: 4\n",
      "(ClientAppActor pid=19036) Step 8/8 | Total batches: 4\n",
      "(ClientAppActor pid=19036) 🚀 Epoch 1/1 (100.00%) Completed\n",
      "(ClientAppActor pid=19036) \t📊 Training Loss: 0.6218\n",
      "(ClientAppActor pid=19036) \t✅ Training Accuracy: 83.88%\n",
      "(ClientAppActor pid=19036) \t⏳ Elapsed Time: 3.40s | ETA: 0.00s\n",
      "(ClientAppActor pid=19036) \t🕒 Completed At: 18:57\n",
      "(ClientAppActor pid=19036) \n"
     ]
    },
    {
     "name": "stderr",
     "output_type": "stream",
     "text": [
      "(ClientAppActor pid=19036) WARNING :   Deprecation Warning: The `client_fn` function must return an instance of `Client`, but an instance of `NumpyClient` was returned. Please use `NumPyClient.to_client()` method to convert it to `Client`.\n"
     ]
    },
    {
     "name": "stdout",
     "output_type": "stream",
     "text": [
      "(ClientAppActor pid=19036) [Client] Client on device: cuda:0\n",
      "(ClientAppActor pid=19036) [Client] CUDA available in client: True\n",
      "(ClientAppActor pid=19036) PrecomputingClient initialized.\n",
      "(ClientAppActor pid=19036) No prefix/name for the model was provided, choosen prefix/name: bubbly_fearow_61\n",
      "(ClientAppActor pid=19036) \n",
      "(ClientAppActor pid=19036) Step 1/8 | Total batches: 4\n",
      "(ClientAppActor pid=19036) Step 2/8 | Total batches: 4\n",
      "(ClientAppActor pid=19036) Step 3/8 | Total batches: 4\n",
      "(ClientAppActor pid=19036) Step 4/8 | Total batches: 4\n",
      "(ClientAppActor pid=19036) Step 5/8 | Total batches: 4\n",
      "(ClientAppActor pid=19036) Step 6/8 | Total batches: 4\n",
      "(ClientAppActor pid=19036) Step 7/8 | Total batches: 4\n",
      "(ClientAppActor pid=19036) Step 8/8 | Total batches: 4\n",
      "(ClientAppActor pid=19036) 🚀 Epoch 1/1 (100.00%) Completed\n",
      "(ClientAppActor pid=19036) \t📊 Training Loss: 0.7357\n",
      "(ClientAppActor pid=19036) \t✅ Training Accuracy: 82.12%\n",
      "(ClientAppActor pid=19036) \t⏳ Elapsed Time: 3.39s | ETA: 0.00s\n",
      "(ClientAppActor pid=19036) \t🕒 Completed At: 18:57\n",
      "(ClientAppActor pid=19036) \n"
     ]
    },
    {
     "name": "stderr",
     "output_type": "stream",
     "text": [
      "(ClientAppActor pid=19036) WARNING :   Deprecation Warning: The `client_fn` function must return an instance of `Client`, but an instance of `NumpyClient` was returned. Please use `NumPyClient.to_client()` method to convert it to `Client`.\n"
     ]
    },
    {
     "name": "stdout",
     "output_type": "stream",
     "text": [
      "(ClientAppActor pid=19036) [Client] Client on device: cuda:0\n",
      "(ClientAppActor pid=19036) [Client] CUDA available in client: True\n",
      "(ClientAppActor pid=19036) PrecomputingClient initialized.\n",
      "(ClientAppActor pid=19036) No prefix/name for the model was provided, choosen prefix/name: mushy_caterpie_45\n",
      "(ClientAppActor pid=19036) \n",
      "(ClientAppActor pid=19036) Step 1/8 | Total batches: 4\n",
      "(ClientAppActor pid=19036) Step 2/8 | Total batches: 4\n",
      "(ClientAppActor pid=19036) Step 3/8 | Total batches: 4\n",
      "(ClientAppActor pid=19036) Step 4/8 | Total batches: 4\n",
      "(ClientAppActor pid=19036) Step 5/8 | Total batches: 4\n",
      "(ClientAppActor pid=19036) Step 6/8 | Total batches: 4\n",
      "(ClientAppActor pid=19036) Step 7/8 | Total batches: 4\n",
      "(ClientAppActor pid=19036) Step 8/8 | Total batches: 4\n",
      "(ClientAppActor pid=19036) 🚀 Epoch 1/1 (100.00%) Completed\n",
      "(ClientAppActor pid=19036) \t📊 Training Loss: 1.1407\n",
      "(ClientAppActor pid=19036) \t✅ Training Accuracy: 79.50%\n",
      "(ClientAppActor pid=19036) \t⏳ Elapsed Time: 3.40s | ETA: 0.00s\n",
      "(ClientAppActor pid=19036) \t🕒 Completed At: 18:57\n",
      "(ClientAppActor pid=19036) \n",
      "(ClientAppActor pid=19036) [Client] Client on device: cuda:0\n",
      "(ClientAppActor pid=19036) [Client] CUDA available in client: True\n"
     ]
    },
    {
     "name": "stderr",
     "output_type": "stream",
     "text": [
      "(ClientAppActor pid=19036) WARNING :   Deprecation Warning: The `client_fn` function must return an instance of `Client`, but an instance of `NumpyClient` was returned. Please use `NumPyClient.to_client()` method to convert it to `Client`.\n"
     ]
    },
    {
     "name": "stdout",
     "output_type": "stream",
     "text": [
      "(ClientAppActor pid=19036) PrecomputingClient initialized.\n",
      "(ClientAppActor pid=19036) No prefix/name for the model was provided, choosen prefix/name: cheeky_venusaur_71\n",
      "(ClientAppActor pid=19036) \n",
      "(ClientAppActor pid=19036) Step 1/8 | Total batches: 4\n",
      "(ClientAppActor pid=19036) Step 2/8 | Total batches: 4\n",
      "(ClientAppActor pid=19036) Step 3/8 | Total batches: 4\n",
      "(ClientAppActor pid=19036) Step 4/8 | Total batches: 4\n",
      "(ClientAppActor pid=19036) Step 5/8 | Total batches: 4\n",
      "(ClientAppActor pid=19036) Step 6/8 | Total batches: 4\n",
      "(ClientAppActor pid=19036) Step 7/8 | Total batches: 4\n",
      "(ClientAppActor pid=19036) Step 8/8 | Total batches: 4\n",
      "(ClientAppActor pid=19036) 🚀 Epoch 1/1 (100.00%) Completed\n",
      "(ClientAppActor pid=19036) \t📊 Training Loss: 0.7454\n",
      "(ClientAppActor pid=19036) \t✅ Training Accuracy: 82.88%\n",
      "(ClientAppActor pid=19036) \t⏳ Elapsed Time: 3.39s | ETA: 0.00s\n",
      "(ClientAppActor pid=19036) \t🕒 Completed At: 18:57\n",
      "(ClientAppActor pid=19036) \n"
     ]
    },
    {
     "name": "stderr",
     "output_type": "stream",
     "text": [
      "(ClientAppActor pid=19036) WARNING :   Deprecation Warning: The `client_fn` function must return an instance of `Client`, but an instance of `NumpyClient` was returned. Please use `NumPyClient.to_client()` method to convert it to `Client`.\n"
     ]
    },
    {
     "name": "stdout",
     "output_type": "stream",
     "text": [
      "(ClientAppActor pid=19036) [Client] Client on device: cuda:0\n",
      "(ClientAppActor pid=19036) [Client] CUDA available in client: True\n",
      "(ClientAppActor pid=19036) PrecomputingClient initialized.\n",
      "(ClientAppActor pid=19036) No prefix/name for the model was provided, choosen prefix/name: chirpy_sandshrew_93\n",
      "(ClientAppActor pid=19036) \n",
      "(ClientAppActor pid=19036) Step 1/8 | Total batches: 4\n",
      "(ClientAppActor pid=19036) Step 2/8 | Total batches: 4\n",
      "(ClientAppActor pid=19036) Step 3/8 | Total batches: 4\n",
      "(ClientAppActor pid=19036) Step 4/8 | Total batches: 4\n",
      "(ClientAppActor pid=19036) Step 5/8 | Total batches: 4\n",
      "(ClientAppActor pid=19036) Step 6/8 | Total batches: 4\n",
      "(ClientAppActor pid=19036) Step 7/8 | Total batches: 4\n",
      "(ClientAppActor pid=19036) Step 8/8 | Total batches: 4\n",
      "(ClientAppActor pid=19036) 🚀 Epoch 1/1 (100.00%) Completed\n",
      "(ClientAppActor pid=19036) \t📊 Training Loss: 0.6702\n",
      "(ClientAppActor pid=19036) \t✅ Training Accuracy: 82.50%\n",
      "(ClientAppActor pid=19036) \t⏳ Elapsed Time: 3.39s | ETA: 0.00s\n",
      "(ClientAppActor pid=19036) \t🕒 Completed At: 18:57\n",
      "(ClientAppActor pid=19036) \n"
     ]
    },
    {
     "name": "stderr",
     "output_type": "stream",
     "text": [
      "\u001b[92mINFO \u001b[0m:      aggregate_fit: received 10 results and 0 failures\n",
      "\u001b[92mINFO \u001b[0m:      [Round 5] Avg Drift: 0.0016 | Relative Drift: 0.0000\n",
      "\u001b[92mINFO \u001b[0m:      [Round 5] Saving aggregated model at epoch 205...\n"
     ]
    },
    {
     "name": "stdout",
     "output_type": "stream",
     "text": [
      "💾 Saved checkpoint at: /Users/ciovi/Desktop/coding/mldl/fl-g13/checkpoints/fl_dino_v4/non_iid/1_8_dynamic-quorum\\fl_Test_Dynamic_Quorum_v2_BaseDino_epoch_205.pth\n",
      "[Server Eval Round 5] Model device: cuda:0\n",
      "[Server Eval Round 5] CUDA available in server eval: True\n"
     ]
    },
    {
     "name": "stderr",
     "output_type": "stream",
     "text": [
      "Eval progress: 100%|██████████| 313/313 [00:22<00:00, 14.22batch/s]\n",
      "\u001b[92mINFO \u001b[0m:      [Round 5] Centralized Evaluation - Loss: 4.3071, Metrics: {'centralized_accuracy': 0.1198}\n",
      "\u001b[92mINFO \u001b[0m:      fit progress: (5, 4.307137459611741, {'centralized_accuracy': 0.1198}, 418.94721429999845)\n",
      "\u001b[92mINFO \u001b[0m:      configure_evaluate: strategy sampled 10 clients (out of 100)\n",
      "(ClientAppActor pid=19036) WARNING :   Deprecation Warning: The `client_fn` function must return an instance of `Client`, but an instance of `NumpyClient` was returned. Please use `NumPyClient.to_client()` method to convert it to `Client`.\n"
     ]
    },
    {
     "name": "stdout",
     "output_type": "stream",
     "text": [
      "(ClientAppActor pid=19036) [Client] Client on device: cuda:0\n",
      "(ClientAppActor pid=19036) [Client] CUDA available in client: True\n",
      "(ClientAppActor pid=19036) PrecomputingClient initialized.\n"
     ]
    },
    {
     "name": "stderr",
     "output_type": "stream",
     "text": [
      "Eval progress:   0%|          | 0/1 [00:00<?, ?batch/s]\n",
      "Eval progress: 100%|██████████| 1/1 [00:00<00:00,  3.79batch/s]\n",
      "(ClientAppActor pid=19036) WARNING :   Deprecation Warning: The `client_fn` function must return an instance of `Client`, but an instance of `NumpyClient` was returned. Please use `NumPyClient.to_client()` method to convert it to `Client`.\n"
     ]
    },
    {
     "name": "stdout",
     "output_type": "stream",
     "text": [
      "(ClientAppActor pid=19036) [Client] Client on device: cuda:0\n",
      "(ClientAppActor pid=19036) [Client] CUDA available in client: True\n",
      "(ClientAppActor pid=19036) PrecomputingClient initialized.\n"
     ]
    },
    {
     "name": "stderr",
     "output_type": "stream",
     "text": [
      "Eval progress:   0%|          | 0/1 [00:00<?, ?batch/s]\n",
      "Eval progress: 100%|██████████| 1/1 [00:00<00:00,  3.96batch/s]\n",
      "(ClientAppActor pid=19036) WARNING :   Deprecation Warning: The `client_fn` function must return an instance of `Client`, but an instance of `NumpyClient` was returned. Please use `NumPyClient.to_client()` method to convert it to `Client`.\n",
      "Eval progress:   0%|          | 0/1 [00:00<?, ?batch/s]\n"
     ]
    },
    {
     "name": "stdout",
     "output_type": "stream",
     "text": [
      "(ClientAppActor pid=19036) [Client] Client on device: cuda:0\n",
      "(ClientAppActor pid=19036) [Client] CUDA available in client: True\n",
      "(ClientAppActor pid=19036) PrecomputingClient initialized.\n"
     ]
    },
    {
     "name": "stderr",
     "output_type": "stream",
     "text": [
      "Eval progress: 100%|██████████| 1/1 [00:00<00:00,  3.97batch/s]\n",
      "(ClientAppActor pid=19036) WARNING :   Deprecation Warning: The `client_fn` function must return an instance of `Client`, but an instance of `NumpyClient` was returned. Please use `NumPyClient.to_client()` method to convert it to `Client`.\n"
     ]
    },
    {
     "name": "stdout",
     "output_type": "stream",
     "text": [
      "(ClientAppActor pid=19036) [Client] Client on device: cuda:0\n",
      "(ClientAppActor pid=19036) [Client] CUDA available in client: True\n",
      "(ClientAppActor pid=19036) PrecomputingClient initialized.\n"
     ]
    },
    {
     "name": "stderr",
     "output_type": "stream",
     "text": [
      "Eval progress:   0%|          | 0/1 [00:00<?, ?batch/s]\n",
      "Eval progress: 100%|██████████| 1/1 [00:00<00:00,  3.96batch/s]\n",
      "(ClientAppActor pid=19036) WARNING :   Deprecation Warning: The `client_fn` function must return an instance of `Client`, but an instance of `NumpyClient` was returned. Please use `NumPyClient.to_client()` method to convert it to `Client`.\n",
      "Eval progress:   0%|          | 0/1 [00:00<?, ?batch/s]\n"
     ]
    },
    {
     "name": "stdout",
     "output_type": "stream",
     "text": [
      "(ClientAppActor pid=19036) [Client] Client on device: cuda:0\n",
      "(ClientAppActor pid=19036) [Client] CUDA available in client: True\n",
      "(ClientAppActor pid=19036) PrecomputingClient initialized.\n"
     ]
    },
    {
     "name": "stderr",
     "output_type": "stream",
     "text": [
      "Eval progress: 100%|██████████| 1/1 [00:00<00:00,  3.89batch/s]\n",
      "(ClientAppActor pid=19036) WARNING :   Deprecation Warning: The `client_fn` function must return an instance of `Client`, but an instance of `NumpyClient` was returned. Please use `NumPyClient.to_client()` method to convert it to `Client`.\n"
     ]
    },
    {
     "name": "stdout",
     "output_type": "stream",
     "text": [
      "(ClientAppActor pid=19036) [Client] Client on device: cuda:0\n",
      "(ClientAppActor pid=19036) [Client] CUDA available in client: True\n",
      "(ClientAppActor pid=19036) PrecomputingClient initialized.\n"
     ]
    },
    {
     "name": "stderr",
     "output_type": "stream",
     "text": [
      "Eval progress:   0%|          | 0/1 [00:00<?, ?batch/s]\n",
      "Eval progress: 100%|██████████| 1/1 [00:00<00:00,  3.92batch/s]\n",
      "(ClientAppActor pid=19036) WARNING :   Deprecation Warning: The `client_fn` function must return an instance of `Client`, but an instance of `NumpyClient` was returned. Please use `NumPyClient.to_client()` method to convert it to `Client`.\n",
      "Eval progress:   0%|          | 0/1 [00:00<?, ?batch/s]\n"
     ]
    },
    {
     "name": "stdout",
     "output_type": "stream",
     "text": [
      "(ClientAppActor pid=19036) [Client] Client on device: cuda:0\n",
      "(ClientAppActor pid=19036) [Client] CUDA available in client: True\n",
      "(ClientAppActor pid=19036) PrecomputingClient initialized.\n"
     ]
    },
    {
     "name": "stderr",
     "output_type": "stream",
     "text": [
      "Eval progress: 100%|██████████| 1/1 [00:00<00:00,  3.95batch/s]\n",
      "(ClientAppActor pid=19036) WARNING :   Deprecation Warning: The `client_fn` function must return an instance of `Client`, but an instance of `NumpyClient` was returned. Please use `NumPyClient.to_client()` method to convert it to `Client`.\n",
      "Eval progress:   0%|          | 0/1 [00:00<?, ?batch/s]\n"
     ]
    },
    {
     "name": "stdout",
     "output_type": "stream",
     "text": [
      "(ClientAppActor pid=19036) [Client] Client on device: cuda:0\n",
      "(ClientAppActor pid=19036) [Client] CUDA available in client: True\n",
      "(ClientAppActor pid=19036) PrecomputingClient initialized.\n"
     ]
    },
    {
     "name": "stderr",
     "output_type": "stream",
     "text": [
      "Eval progress: 100%|██████████| 1/1 [00:00<00:00,  3.89batch/s]\n",
      "(ClientAppActor pid=19036) WARNING :   Deprecation Warning: The `client_fn` function must return an instance of `Client`, but an instance of `NumpyClient` was returned. Please use `NumPyClient.to_client()` method to convert it to `Client`.\n",
      "Eval progress:   0%|          | 0/1 [00:00<?, ?batch/s]\n"
     ]
    },
    {
     "name": "stdout",
     "output_type": "stream",
     "text": [
      "(ClientAppActor pid=19036) [Client] Client on device: cuda:0\n",
      "(ClientAppActor pid=19036) [Client] CUDA available in client: True\n",
      "(ClientAppActor pid=19036) PrecomputingClient initialized.\n"
     ]
    },
    {
     "name": "stderr",
     "output_type": "stream",
     "text": [
      "Eval progress: 100%|██████████| 1/1 [00:00<00:00,  3.75batch/s]\n",
      "(ClientAppActor pid=19036) WARNING :   Deprecation Warning: The `client_fn` function must return an instance of `Client`, but an instance of `NumpyClient` was returned. Please use `NumPyClient.to_client()` method to convert it to `Client`.\n",
      "Eval progress:   0%|          | 0/1 [00:00<?, ?batch/s]\n"
     ]
    },
    {
     "name": "stdout",
     "output_type": "stream",
     "text": [
      "(ClientAppActor pid=19036) [Client] Client on device: cuda:0\n",
      "(ClientAppActor pid=19036) [Client] CUDA available in client: True\n",
      "(ClientAppActor pid=19036) PrecomputingClient initialized.\n"
     ]
    },
    {
     "name": "stderr",
     "output_type": "stream",
     "text": [
      "\u001b[92mINFO \u001b[0m:      aggregate_evaluate: received 10 results and 0 failures\n",
      "\u001b[92mINFO \u001b[0m:      \n",
      "\u001b[92mINFO \u001b[0m:      [ROUND 6]\n",
      "\u001b[92mINFO \u001b[0m:      [Round 6] Quorum updated to: 26\n",
      "Eval progress: 100%|██████████| 1/1 [00:00<00:00,  3.90batch/s]\n",
      "\u001b[92mINFO \u001b[0m:      [Round 6] Generated initial global mask with quorum 26. Sparsity: 0.7490\n",
      "\u001b[92mINFO \u001b[0m:      configure_fit: strategy sampled 10 clients (out of 100)\n",
      "(ClientAppActor pid=19036) WARNING :   Deprecation Warning: The `client_fn` function must return an instance of `Client`, but an instance of `NumpyClient` was returned. Please use `NumPyClient.to_client()` method to convert it to `Client`.\n"
     ]
    },
    {
     "name": "stdout",
     "output_type": "stream",
     "text": [
      "(ClientAppActor pid=19036) [Client] Client on device: cuda:0\n",
      "(ClientAppActor pid=19036) [Client] CUDA available in client: True\n",
      "(ClientAppActor pid=19036) PrecomputingClient initialized.\n",
      "(ClientAppActor pid=19036) No prefix/name for the model was provided, choosen prefix/name: chirpy_ekans_91\n",
      "(ClientAppActor pid=19036) \n",
      "(ClientAppActor pid=19036) Step 1/8 | Total batches: 4\n",
      "(ClientAppActor pid=19036) Step 2/8 | Total batches: 4\n",
      "(ClientAppActor pid=19036) Step 3/8 | Total batches: 4\n",
      "(ClientAppActor pid=19036) Step 4/8 | Total batches: 4\n",
      "(ClientAppActor pid=19036) Step 5/8 | Total batches: 4\n",
      "(ClientAppActor pid=19036) Step 6/8 | Total batches: 4\n",
      "(ClientAppActor pid=19036) Step 7/8 | Total batches: 4\n",
      "(ClientAppActor pid=19036) Step 8/8 | Total batches: 4\n",
      "(ClientAppActor pid=19036) 🚀 Epoch 1/1 (100.00%) Completed\n",
      "(ClientAppActor pid=19036) \t📊 Training Loss: 0.4332\n",
      "(ClientAppActor pid=19036) \t✅ Training Accuracy: 83.12%\n",
      "(ClientAppActor pid=19036) \t⏳ Elapsed Time: 3.37s | ETA: 0.00s\n",
      "(ClientAppActor pid=19036) \t🕒 Completed At: 18:58\n",
      "(ClientAppActor pid=19036) \n"
     ]
    },
    {
     "name": "stderr",
     "output_type": "stream",
     "text": [
      "(ClientAppActor pid=19036) WARNING :   Deprecation Warning: The `client_fn` function must return an instance of `Client`, but an instance of `NumpyClient` was returned. Please use `NumPyClient.to_client()` method to convert it to `Client`.\n"
     ]
    },
    {
     "name": "stdout",
     "output_type": "stream",
     "text": [
      "(ClientAppActor pid=19036) [Client] Client on device: cuda:0\n",
      "(ClientAppActor pid=19036) [Client] CUDA available in client: True\n",
      "(ClientAppActor pid=19036) PrecomputingClient initialized.\n",
      "(ClientAppActor pid=19036) No prefix/name for the model was provided, choosen prefix/name: soggy_nidorina_60\n",
      "(ClientAppActor pid=19036) \n",
      "(ClientAppActor pid=19036) Step 1/8 | Total batches: 4\n",
      "(ClientAppActor pid=19036) Step 2/8 | Total batches: 4\n",
      "(ClientAppActor pid=19036) Step 3/8 | Total batches: 4\n",
      "(ClientAppActor pid=19036) Step 4/8 | Total batches: 4\n",
      "(ClientAppActor pid=19036) Step 5/8 | Total batches: 4\n",
      "(ClientAppActor pid=19036) Step 6/8 | Total batches: 4\n",
      "(ClientAppActor pid=19036) Step 7/8 | Total batches: 4\n",
      "(ClientAppActor pid=19036) Step 8/8 | Total batches: 4\n",
      "(ClientAppActor pid=19036) 🚀 Epoch 1/1 (100.00%) Completed\n",
      "(ClientAppActor pid=19036) \t📊 Training Loss: 1.1295\n",
      "(ClientAppActor pid=19036) \t✅ Training Accuracy: 76.50%\n",
      "(ClientAppActor pid=19036) \t⏳ Elapsed Time: 3.39s | ETA: 0.00s\n",
      "(ClientAppActor pid=19036) \t🕒 Completed At: 18:58\n",
      "(ClientAppActor pid=19036) \n"
     ]
    },
    {
     "name": "stderr",
     "output_type": "stream",
     "text": [
      "(ClientAppActor pid=19036) WARNING :   Deprecation Warning: The `client_fn` function must return an instance of `Client`, but an instance of `NumpyClient` was returned. Please use `NumPyClient.to_client()` method to convert it to `Client`.\n"
     ]
    },
    {
     "name": "stdout",
     "output_type": "stream",
     "text": [
      "(ClientAppActor pid=19036) [Client] Client on device: cuda:0\n",
      "(ClientAppActor pid=19036) [Client] CUDA available in client: True\n",
      "(ClientAppActor pid=19036) PrecomputingClient initialized.\n",
      "(ClientAppActor pid=19036) No prefix/name for the model was provided, choosen prefix/name: wacky_metapod_47\n",
      "(ClientAppActor pid=19036) \n",
      "(ClientAppActor pid=19036) Step 1/8 | Total batches: 4\n",
      "(ClientAppActor pid=19036) Step 2/8 | Total batches: 4\n",
      "(ClientAppActor pid=19036) Step 3/8 | Total batches: 4\n",
      "(ClientAppActor pid=19036) Step 4/8 | Total batches: 4\n",
      "(ClientAppActor pid=19036) Step 5/8 | Total batches: 4\n",
      "(ClientAppActor pid=19036) Step 6/8 | Total batches: 4\n",
      "(ClientAppActor pid=19036) Step 7/8 | Total batches: 4\n",
      "(ClientAppActor pid=19036) Step 8/8 | Total batches: 4\n",
      "(ClientAppActor pid=19036) 🚀 Epoch 1/1 (100.00%) Completed\n",
      "(ClientAppActor pid=19036) \t📊 Training Loss: 1.1043\n",
      "(ClientAppActor pid=19036) \t✅ Training Accuracy: 76.38%\n",
      "(ClientAppActor pid=19036) \t⏳ Elapsed Time: 3.44s | ETA: 0.00s\n",
      "(ClientAppActor pid=19036) \t🕒 Completed At: 18:58\n",
      "(ClientAppActor pid=19036) \n"
     ]
    },
    {
     "name": "stderr",
     "output_type": "stream",
     "text": [
      "(ClientAppActor pid=19036) WARNING :   Deprecation Warning: The `client_fn` function must return an instance of `Client`, but an instance of `NumpyClient` was returned. Please use `NumPyClient.to_client()` method to convert it to `Client`.\n"
     ]
    },
    {
     "name": "stdout",
     "output_type": "stream",
     "text": [
      "(ClientAppActor pid=19036) [Client] Client on device: cuda:0\n",
      "(ClientAppActor pid=19036) [Client] CUDA available in client: True\n",
      "(ClientAppActor pid=19036) PrecomputingClient initialized.\n",
      "(ClientAppActor pid=19036) No prefix/name for the model was provided, choosen prefix/name: breezy_charizard_23\n",
      "(ClientAppActor pid=19036) \n",
      "(ClientAppActor pid=19036) Step 1/8 | Total batches: 4\n",
      "(ClientAppActor pid=19036) Step 2/8 | Total batches: 4\n",
      "(ClientAppActor pid=19036) Step 3/8 | Total batches: 4\n",
      "(ClientAppActor pid=19036) Step 4/8 | Total batches: 4\n",
      "(ClientAppActor pid=19036) Step 5/8 | Total batches: 4\n",
      "(ClientAppActor pid=19036) Step 6/8 | Total batches: 4\n",
      "(ClientAppActor pid=19036) Step 7/8 | Total batches: 4\n",
      "(ClientAppActor pid=19036) Step 8/8 | Total batches: 4\n",
      "(ClientAppActor pid=19036) 🚀 Epoch 1/1 (100.00%) Completed\n",
      "(ClientAppActor pid=19036) \t📊 Training Loss: 0.4935\n",
      "(ClientAppActor pid=19036) \t✅ Training Accuracy: 84.88%\n",
      "(ClientAppActor pid=19036) \t⏳ Elapsed Time: 3.49s | ETA: 0.00s\n",
      "(ClientAppActor pid=19036) \t🕒 Completed At: 18:58\n",
      "(ClientAppActor pid=19036) \n"
     ]
    },
    {
     "name": "stderr",
     "output_type": "stream",
     "text": [
      "(ClientAppActor pid=19036) WARNING :   Deprecation Warning: The `client_fn` function must return an instance of `Client`, but an instance of `NumpyClient` was returned. Please use `NumPyClient.to_client()` method to convert it to `Client`.\n"
     ]
    },
    {
     "name": "stdout",
     "output_type": "stream",
     "text": [
      "(ClientAppActor pid=19036) [Client] Client on device: cuda:0\n",
      "(ClientAppActor pid=19036) [Client] CUDA available in client: True\n",
      "(ClientAppActor pid=19036) PrecomputingClient initialized.\n",
      "(ClientAppActor pid=19036) No prefix/name for the model was provided, choosen prefix/name: sneezy_raticate_94\n",
      "(ClientAppActor pid=19036) \n",
      "(ClientAppActor pid=19036) Step 1/8 | Total batches: 4\n",
      "(ClientAppActor pid=19036) Step 2/8 | Total batches: 4\n",
      "(ClientAppActor pid=19036) Step 3/8 | Total batches: 4\n",
      "(ClientAppActor pid=19036) Step 4/8 | Total batches: 4\n",
      "(ClientAppActor pid=19036) Step 5/8 | Total batches: 4\n",
      "(ClientAppActor pid=19036) Step 6/8 | Total batches: 4\n",
      "(ClientAppActor pid=19036) Step 7/8 | Total batches: 4\n",
      "(ClientAppActor pid=19036) Step 8/8 | Total batches: 4\n",
      "(ClientAppActor pid=19036) 🚀 Epoch 1/1 (100.00%) Completed\n",
      "(ClientAppActor pid=19036) \t📊 Training Loss: 0.7742\n",
      "(ClientAppActor pid=19036) \t✅ Training Accuracy: 81.38%\n",
      "(ClientAppActor pid=19036) \t⏳ Elapsed Time: 3.42s | ETA: 0.00s\n",
      "(ClientAppActor pid=19036) \t🕒 Completed At: 18:58\n",
      "(ClientAppActor pid=19036) \n"
     ]
    },
    {
     "name": "stderr",
     "output_type": "stream",
     "text": [
      "(ClientAppActor pid=19036) WARNING :   Deprecation Warning: The `client_fn` function must return an instance of `Client`, but an instance of `NumpyClient` was returned. Please use `NumPyClient.to_client()` method to convert it to `Client`.\n"
     ]
    },
    {
     "name": "stdout",
     "output_type": "stream",
     "text": [
      "(ClientAppActor pid=19036) [Client] Client on device: cuda:0\n",
      "(ClientAppActor pid=19036) [Client] CUDA available in client: True\n",
      "(ClientAppActor pid=19036) PrecomputingClient initialized.\n",
      "(ClientAppActor pid=19036) No prefix/name for the model was provided, choosen prefix/name: grumpy_butterfree_18\n",
      "(ClientAppActor pid=19036) \n",
      "(ClientAppActor pid=19036) Step 1/8 | Total batches: 4\n",
      "(ClientAppActor pid=19036) Step 2/8 | Total batches: 4\n",
      "(ClientAppActor pid=19036) Step 3/8 | Total batches: 4\n",
      "(ClientAppActor pid=19036) Step 4/8 | Total batches: 4\n",
      "(ClientAppActor pid=19036) Step 5/8 | Total batches: 4\n",
      "(ClientAppActor pid=19036) Step 6/8 | Total batches: 4\n",
      "(ClientAppActor pid=19036) Step 7/8 | Total batches: 4\n",
      "(ClientAppActor pid=19036) Step 8/8 | Total batches: 4\n",
      "(ClientAppActor pid=19036) 🚀 Epoch 1/1 (100.00%) Completed\n",
      "(ClientAppActor pid=19036) \t📊 Training Loss: 0.7752\n",
      "(ClientAppActor pid=19036) \t✅ Training Accuracy: 80.50%\n",
      "(ClientAppActor pid=19036) \t⏳ Elapsed Time: 3.39s | ETA: 0.00s\n",
      "(ClientAppActor pid=19036) \t🕒 Completed At: 18:58\n",
      "(ClientAppActor pid=19036) \n"
     ]
    },
    {
     "name": "stderr",
     "output_type": "stream",
     "text": [
      "(ClientAppActor pid=19036) WARNING :   Deprecation Warning: The `client_fn` function must return an instance of `Client`, but an instance of `NumpyClient` was returned. Please use `NumPyClient.to_client()` method to convert it to `Client`.\n"
     ]
    },
    {
     "name": "stdout",
     "output_type": "stream",
     "text": [
      "(ClientAppActor pid=19036) [Client] Client on device: cuda:0\n",
      "(ClientAppActor pid=19036) [Client] CUDA available in client: True\n",
      "(ClientAppActor pid=19036) PrecomputingClient initialized.\n",
      "(ClientAppActor pid=19036) No prefix/name for the model was provided, choosen prefix/name: bubbly_butterfree_26\n",
      "(ClientAppActor pid=19036) \n",
      "(ClientAppActor pid=19036) Step 1/8 | Total batches: 4\n",
      "(ClientAppActor pid=19036) Step 2/8 | Total batches: 4\n",
      "(ClientAppActor pid=19036) Step 3/8 | Total batches: 4\n",
      "(ClientAppActor pid=19036) Step 4/8 | Total batches: 4\n",
      "(ClientAppActor pid=19036) Step 5/8 | Total batches: 4\n",
      "(ClientAppActor pid=19036) Step 6/8 | Total batches: 4\n",
      "(ClientAppActor pid=19036) Step 7/8 | Total batches: 4\n",
      "(ClientAppActor pid=19036) Step 8/8 | Total batches: 4\n",
      "(ClientAppActor pid=19036) 🚀 Epoch 1/1 (100.00%) Completed\n",
      "(ClientAppActor pid=19036) \t📊 Training Loss: 0.3760\n",
      "(ClientAppActor pid=19036) \t✅ Training Accuracy: 87.12%\n",
      "(ClientAppActor pid=19036) \t⏳ Elapsed Time: 3.38s | ETA: 0.00s\n",
      "(ClientAppActor pid=19036) \t🕒 Completed At: 18:58\n",
      "(ClientAppActor pid=19036) \n"
     ]
    },
    {
     "name": "stderr",
     "output_type": "stream",
     "text": [
      "(ClientAppActor pid=19036) WARNING :   Deprecation Warning: The `client_fn` function must return an instance of `Client`, but an instance of `NumpyClient` was returned. Please use `NumPyClient.to_client()` method to convert it to `Client`.\n"
     ]
    },
    {
     "name": "stdout",
     "output_type": "stream",
     "text": [
      "(ClientAppActor pid=19036) [Client] Client on device: cuda:0\n",
      "(ClientAppActor pid=19036) [Client] CUDA available in client: True\n",
      "(ClientAppActor pid=19036) PrecomputingClient initialized.\n",
      "(ClientAppActor pid=19036) No prefix/name for the model was provided, choosen prefix/name: snazzy_blastoise_95\n",
      "(ClientAppActor pid=19036) \n",
      "(ClientAppActor pid=19036) Step 1/8 | Total batches: 4\n",
      "(ClientAppActor pid=19036) Step 2/8 | Total batches: 4\n",
      "(ClientAppActor pid=19036) Step 3/8 | Total batches: 4\n",
      "(ClientAppActor pid=19036) Step 4/8 | Total batches: 4\n",
      "(ClientAppActor pid=19036) Step 5/8 | Total batches: 4\n",
      "(ClientAppActor pid=19036) Step 6/8 | Total batches: 4\n",
      "(ClientAppActor pid=19036) Step 7/8 | Total batches: 4\n",
      "(ClientAppActor pid=19036) Step 8/8 | Total batches: 4\n",
      "(ClientAppActor pid=19036) 🚀 Epoch 1/1 (100.00%) Completed\n",
      "(ClientAppActor pid=19036) \t📊 Training Loss: 0.4847\n",
      "(ClientAppActor pid=19036) \t✅ Training Accuracy: 84.88%\n",
      "(ClientAppActor pid=19036) \t⏳ Elapsed Time: 3.38s | ETA: 0.00s\n",
      "(ClientAppActor pid=19036) \t🕒 Completed At: 18:58\n",
      "(ClientAppActor pid=19036) \n"
     ]
    },
    {
     "name": "stderr",
     "output_type": "stream",
     "text": [
      "(ClientAppActor pid=19036) WARNING :   Deprecation Warning: The `client_fn` function must return an instance of `Client`, but an instance of `NumpyClient` was returned. Please use `NumPyClient.to_client()` method to convert it to `Client`.\n"
     ]
    },
    {
     "name": "stdout",
     "output_type": "stream",
     "text": [
      "(ClientAppActor pid=19036) [Client] Client on device: cuda:0\n",
      "(ClientAppActor pid=19036) [Client] CUDA available in client: True\n",
      "(ClientAppActor pid=19036) PrecomputingClient initialized.\n",
      "(ClientAppActor pid=19036) No prefix/name for the model was provided, choosen prefix/name: silly_sandshrew_59\n",
      "(ClientAppActor pid=19036) \n",
      "(ClientAppActor pid=19036) Step 1/8 | Total batches: 4\n",
      "(ClientAppActor pid=19036) Step 2/8 | Total batches: 4\n",
      "(ClientAppActor pid=19036) Step 3/8 | Total batches: 4\n",
      "(ClientAppActor pid=19036) Step 4/8 | Total batches: 4\n",
      "(ClientAppActor pid=19036) Step 5/8 | Total batches: 4\n",
      "(ClientAppActor pid=19036) Step 6/8 | Total batches: 4\n",
      "(ClientAppActor pid=19036) Step 7/8 | Total batches: 4\n",
      "(ClientAppActor pid=19036) Step 8/8 | Total batches: 4\n",
      "(ClientAppActor pid=19036) 🚀 Epoch 1/1 (100.00%) Completed\n",
      "(ClientAppActor pid=19036) \t📊 Training Loss: 0.3990\n",
      "(ClientAppActor pid=19036) \t✅ Training Accuracy: 86.00%\n",
      "(ClientAppActor pid=19036) \t⏳ Elapsed Time: 3.37s | ETA: 0.00s\n",
      "(ClientAppActor pid=19036) \t🕒 Completed At: 18:58\n",
      "(ClientAppActor pid=19036) \n"
     ]
    },
    {
     "name": "stderr",
     "output_type": "stream",
     "text": [
      "(ClientAppActor pid=19036) WARNING :   Deprecation Warning: The `client_fn` function must return an instance of `Client`, but an instance of `NumpyClient` was returned. Please use `NumPyClient.to_client()` method to convert it to `Client`.\n"
     ]
    },
    {
     "name": "stdout",
     "output_type": "stream",
     "text": [
      "(ClientAppActor pid=19036) [Client] Client on device: cuda:0\n",
      "(ClientAppActor pid=19036) [Client] CUDA available in client: True\n",
      "(ClientAppActor pid=19036) PrecomputingClient initialized.\n",
      "(ClientAppActor pid=19036) No prefix/name for the model was provided, choosen prefix/name: zesty_fearow_83\n",
      "(ClientAppActor pid=19036) \n",
      "(ClientAppActor pid=19036) Step 1/8 | Total batches: 4\n",
      "(ClientAppActor pid=19036) Step 2/8 | Total batches: 4\n",
      "(ClientAppActor pid=19036) Step 3/8 | Total batches: 4\n",
      "(ClientAppActor pid=19036) Step 4/8 | Total batches: 4\n",
      "(ClientAppActor pid=19036) Step 5/8 | Total batches: 4\n",
      "(ClientAppActor pid=19036) Step 6/8 | Total batches: 4\n",
      "(ClientAppActor pid=19036) Step 7/8 | Total batches: 4\n",
      "(ClientAppActor pid=19036) Step 8/8 | Total batches: 4\n",
      "(ClientAppActor pid=19036) 🚀 Epoch 1/1 (100.00%) Completed\n",
      "(ClientAppActor pid=19036) \t📊 Training Loss: 1.0800\n",
      "(ClientAppActor pid=19036) \t✅ Training Accuracy: 77.00%\n",
      "(ClientAppActor pid=19036) \t⏳ Elapsed Time: 3.40s | ETA: 0.00s\n",
      "(ClientAppActor pid=19036) \t🕒 Completed At: 18:58\n",
      "(ClientAppActor pid=19036) \n"
     ]
    },
    {
     "name": "stderr",
     "output_type": "stream",
     "text": [
      "\u001b[92mINFO \u001b[0m:      aggregate_fit: received 10 results and 0 failures\n",
      "\u001b[92mINFO \u001b[0m:      [Round 6] Avg Drift: 0.0014 | Relative Drift: 0.0000\n",
      "\u001b[92mINFO \u001b[0m:      [Round 6] Saving aggregated model at epoch 206...\n"
     ]
    },
    {
     "name": "stdout",
     "output_type": "stream",
     "text": [
      "💾 Saved checkpoint at: /Users/ciovi/Desktop/coding/mldl/fl-g13/checkpoints/fl_dino_v4/non_iid/1_8_dynamic-quorum\\fl_Test_Dynamic_Quorum_v2_BaseDino_epoch_206.pth\n",
      "[Server Eval Round 6] Model device: cuda:0\n",
      "[Server Eval Round 6] CUDA available in server eval: True\n"
     ]
    },
    {
     "name": "stderr",
     "output_type": "stream",
     "text": [
      "Eval progress: 100%|██████████| 313/313 [00:22<00:00, 14.04batch/s]\n",
      "\u001b[92mINFO \u001b[0m:      [Round 6] Centralized Evaluation - Loss: 3.6714, Metrics: {'centralized_accuracy': 0.1809}\n",
      "\u001b[92mINFO \u001b[0m:      fit progress: (6, 3.6713842347787975, {'centralized_accuracy': 0.1809}, 500.7504466999999)\n",
      "\u001b[92mINFO \u001b[0m:      configure_evaluate: strategy sampled 10 clients (out of 100)\n",
      "(ClientAppActor pid=19036) WARNING :   Deprecation Warning: The `client_fn` function must return an instance of `Client`, but an instance of `NumpyClient` was returned. Please use `NumPyClient.to_client()` method to convert it to `Client`.\n"
     ]
    },
    {
     "name": "stdout",
     "output_type": "stream",
     "text": [
      "(ClientAppActor pid=19036) [Client] Client on device: cuda:0\n",
      "(ClientAppActor pid=19036) [Client] CUDA available in client: True\n",
      "(ClientAppActor pid=19036) PrecomputingClient initialized.\n"
     ]
    },
    {
     "name": "stderr",
     "output_type": "stream",
     "text": [
      "Eval progress:   0%|          | 0/1 [00:00<?, ?batch/s]\n",
      "Eval progress: 100%|██████████| 1/1 [00:00<00:00,  3.78batch/s]\n",
      "(ClientAppActor pid=19036) WARNING :   Deprecation Warning: The `client_fn` function must return an instance of `Client`, but an instance of `NumpyClient` was returned. Please use `NumPyClient.to_client()` method to convert it to `Client`.\n"
     ]
    },
    {
     "name": "stdout",
     "output_type": "stream",
     "text": [
      "(ClientAppActor pid=19036) [Client] Client on device: cuda:0\n",
      "(ClientAppActor pid=19036) [Client] CUDA available in client: True\n",
      "(ClientAppActor pid=19036) PrecomputingClient initialized.\n"
     ]
    },
    {
     "name": "stderr",
     "output_type": "stream",
     "text": [
      "Eval progress:   0%|          | 0/1 [00:00<?, ?batch/s]\n",
      "Eval progress: 100%|██████████| 1/1 [00:00<00:00,  3.90batch/s]\n",
      "(ClientAppActor pid=19036) WARNING :   Deprecation Warning: The `client_fn` function must return an instance of `Client`, but an instance of `NumpyClient` was returned. Please use `NumPyClient.to_client()` method to convert it to `Client`.\n",
      "Eval progress:   0%|          | 0/1 [00:00<?, ?batch/s]\n"
     ]
    },
    {
     "name": "stdout",
     "output_type": "stream",
     "text": [
      "(ClientAppActor pid=19036) [Client] Client on device: cuda:0\n",
      "(ClientAppActor pid=19036) [Client] CUDA available in client: True\n",
      "(ClientAppActor pid=19036) PrecomputingClient initialized.\n"
     ]
    },
    {
     "name": "stderr",
     "output_type": "stream",
     "text": [
      "Eval progress: 100%|██████████| 1/1 [00:00<00:00,  3.76batch/s]\n",
      "(ClientAppActor pid=19036) WARNING :   Deprecation Warning: The `client_fn` function must return an instance of `Client`, but an instance of `NumpyClient` was returned. Please use `NumPyClient.to_client()` method to convert it to `Client`.\n"
     ]
    },
    {
     "name": "stdout",
     "output_type": "stream",
     "text": [
      "(ClientAppActor pid=19036) [Client] Client on device: cuda:0\n",
      "(ClientAppActor pid=19036) [Client] CUDA available in client: True\n",
      "(ClientAppActor pid=19036) PrecomputingClient initialized.\n"
     ]
    },
    {
     "name": "stderr",
     "output_type": "stream",
     "text": [
      "Eval progress:   0%|          | 0/1 [00:00<?, ?batch/s]\n",
      "Eval progress: 100%|██████████| 1/1 [00:00<00:00,  3.93batch/s]\n",
      "(ClientAppActor pid=19036) WARNING :   Deprecation Warning: The `client_fn` function must return an instance of `Client`, but an instance of `NumpyClient` was returned. Please use `NumPyClient.to_client()` method to convert it to `Client`.\n",
      "Eval progress:   0%|          | 0/1 [00:00<?, ?batch/s]\n"
     ]
    },
    {
     "name": "stdout",
     "output_type": "stream",
     "text": [
      "(ClientAppActor pid=19036) [Client] Client on device: cuda:0\n",
      "(ClientAppActor pid=19036) [Client] CUDA available in client: True\n",
      "(ClientAppActor pid=19036) PrecomputingClient initialized.\n"
     ]
    },
    {
     "name": "stderr",
     "output_type": "stream",
     "text": [
      "Eval progress: 100%|██████████| 1/1 [00:00<00:00,  3.90batch/s]\n",
      "(ClientAppActor pid=19036) WARNING :   Deprecation Warning: The `client_fn` function must return an instance of `Client`, but an instance of `NumpyClient` was returned. Please use `NumPyClient.to_client()` method to convert it to `Client`.\n",
      "Eval progress:   0%|          | 0/1 [00:00<?, ?batch/s]\n"
     ]
    },
    {
     "name": "stdout",
     "output_type": "stream",
     "text": [
      "(ClientAppActor pid=19036) [Client] Client on device: cuda:0\n",
      "(ClientAppActor pid=19036) [Client] CUDA available in client: True\n",
      "(ClientAppActor pid=19036) PrecomputingClient initialized.\n"
     ]
    },
    {
     "name": "stderr",
     "output_type": "stream",
     "text": [
      "Eval progress: 100%|██████████| 1/1 [00:00<00:00,  3.86batch/s]\n",
      "(ClientAppActor pid=19036) WARNING :   Deprecation Warning: The `client_fn` function must return an instance of `Client`, but an instance of `NumpyClient` was returned. Please use `NumPyClient.to_client()` method to convert it to `Client`.\n",
      "Eval progress:   0%|          | 0/1 [00:00<?, ?batch/s]\n"
     ]
    },
    {
     "name": "stdout",
     "output_type": "stream",
     "text": [
      "(ClientAppActor pid=19036) [Client] Client on device: cuda:0\n",
      "(ClientAppActor pid=19036) [Client] CUDA available in client: True\n",
      "(ClientAppActor pid=19036) PrecomputingClient initialized.\n"
     ]
    },
    {
     "name": "stderr",
     "output_type": "stream",
     "text": [
      "Eval progress: 100%|██████████| 1/1 [00:00<00:00,  3.91batch/s]\n",
      "(ClientAppActor pid=19036) WARNING :   Deprecation Warning: The `client_fn` function must return an instance of `Client`, but an instance of `NumpyClient` was returned. Please use `NumPyClient.to_client()` method to convert it to `Client`.\n"
     ]
    },
    {
     "name": "stdout",
     "output_type": "stream",
     "text": [
      "(ClientAppActor pid=19036) [Client] Client on device: cuda:0\n",
      "(ClientAppActor pid=19036) [Client] CUDA available in client: True\n",
      "(ClientAppActor pid=19036) PrecomputingClient initialized.\n"
     ]
    },
    {
     "name": "stderr",
     "output_type": "stream",
     "text": [
      "Eval progress:   0%|          | 0/1 [00:00<?, ?batch/s]\n",
      "Eval progress: 100%|██████████| 1/1 [00:00<00:00,  3.92batch/s]\n",
      "(ClientAppActor pid=19036) WARNING :   Deprecation Warning: The `client_fn` function must return an instance of `Client`, but an instance of `NumpyClient` was returned. Please use `NumPyClient.to_client()` method to convert it to `Client`.\n",
      "Eval progress:   0%|          | 0/1 [00:00<?, ?batch/s]\n"
     ]
    },
    {
     "name": "stdout",
     "output_type": "stream",
     "text": [
      "(ClientAppActor pid=19036) [Client] Client on device: cuda:0\n",
      "(ClientAppActor pid=19036) [Client] CUDA available in client: True\n",
      "(ClientAppActor pid=19036) PrecomputingClient initialized.\n"
     ]
    },
    {
     "name": "stderr",
     "output_type": "stream",
     "text": [
      "Eval progress: 100%|██████████| 1/1 [00:00<00:00,  3.74batch/s]\n",
      "(ClientAppActor pid=19036) WARNING :   Deprecation Warning: The `client_fn` function must return an instance of `Client`, but an instance of `NumpyClient` was returned. Please use `NumPyClient.to_client()` method to convert it to `Client`.\n"
     ]
    },
    {
     "name": "stdout",
     "output_type": "stream",
     "text": [
      "(ClientAppActor pid=19036) [Client] Client on device: cuda:0\n",
      "(ClientAppActor pid=19036) [Client] CUDA available in client: True\n",
      "(ClientAppActor pid=19036) PrecomputingClient initialized.\n"
     ]
    },
    {
     "name": "stderr",
     "output_type": "stream",
     "text": [
      "Eval progress:   0%|          | 0/1 [00:00<?, ?batch/s]\n",
      "Eval progress: 100%|██████████| 1/1 [00:00<00:00,  3.93batch/s]\n",
      "\u001b[92mINFO \u001b[0m:      aggregate_evaluate: received 10 results and 0 failures\n",
      "\u001b[92mINFO \u001b[0m:      \n",
      "\u001b[92mINFO \u001b[0m:      [ROUND 7]\n",
      "\u001b[92mINFO \u001b[0m:      [Round 7] Quorum updated to: 31\n",
      "\u001b[92mINFO \u001b[0m:      [Round 7] Generated initial global mask with quorum 31. Sparsity: 0.7566\n",
      "\u001b[92mINFO \u001b[0m:      configure_fit: strategy sampled 10 clients (out of 100)\n",
      "(ClientAppActor pid=19036) WARNING :   Deprecation Warning: The `client_fn` function must return an instance of `Client`, but an instance of `NumpyClient` was returned. Please use `NumPyClient.to_client()` method to convert it to `Client`.\n"
     ]
    },
    {
     "name": "stdout",
     "output_type": "stream",
     "text": [
      "(ClientAppActor pid=19036) [Client] Client on device: cuda:0\n",
      "(ClientAppActor pid=19036) [Client] CUDA available in client: True\n",
      "(ClientAppActor pid=19036) PrecomputingClient initialized.\n",
      "(ClientAppActor pid=19036) No prefix/name for the model was provided, choosen prefix/name: chirpy_nidoking_30\n",
      "(ClientAppActor pid=19036) \n",
      "(ClientAppActor pid=19036) Step 1/8 | Total batches: 4\n",
      "(ClientAppActor pid=19036) Step 2/8 | Total batches: 4\n",
      "(ClientAppActor pid=19036) Step 3/8 | Total batches: 4\n",
      "(ClientAppActor pid=19036) Step 4/8 | Total batches: 4\n",
      "(ClientAppActor pid=19036) Step 5/8 | Total batches: 4\n",
      "(ClientAppActor pid=19036) Step 6/8 | Total batches: 4\n",
      "(ClientAppActor pid=19036) Step 7/8 | Total batches: 4\n",
      "(ClientAppActor pid=19036) Step 8/8 | Total batches: 4\n",
      "(ClientAppActor pid=19036) 🚀 Epoch 1/1 (100.00%) Completed\n",
      "(ClientAppActor pid=19036) \t📊 Training Loss: 0.9294\n",
      "(ClientAppActor pid=19036) \t✅ Training Accuracy: 72.38%\n",
      "(ClientAppActor pid=19036) \t⏳ Elapsed Time: 3.36s | ETA: 0.00s\n",
      "(ClientAppActor pid=19036) \t🕒 Completed At: 18:59\n",
      "(ClientAppActor pid=19036) \n"
     ]
    },
    {
     "name": "stderr",
     "output_type": "stream",
     "text": [
      "(ClientAppActor pid=19036) WARNING :   Deprecation Warning: The `client_fn` function must return an instance of `Client`, but an instance of `NumpyClient` was returned. Please use `NumPyClient.to_client()` method to convert it to `Client`.\n"
     ]
    },
    {
     "name": "stdout",
     "output_type": "stream",
     "text": [
      "(ClientAppActor pid=19036) [Client] Client on device: cuda:0\n",
      "(ClientAppActor pid=19036) [Client] CUDA available in client: True\n",
      "(ClientAppActor pid=19036) PrecomputingClient initialized.\n",
      "(ClientAppActor pid=19036) No prefix/name for the model was provided, choosen prefix/name: funky_ekans_76\n",
      "(ClientAppActor pid=19036) \n",
      "(ClientAppActor pid=19036) Step 1/8 | Total batches: 4\n",
      "(ClientAppActor pid=19036) Step 2/8 | Total batches: 4\n",
      "(ClientAppActor pid=19036) Step 3/8 | Total batches: 4\n",
      "(ClientAppActor pid=19036) Step 4/8 | Total batches: 4\n",
      "(ClientAppActor pid=19036) Step 5/8 | Total batches: 4\n",
      "(ClientAppActor pid=19036) Step 6/8 | Total batches: 4\n",
      "(ClientAppActor pid=19036) Step 7/8 | Total batches: 4\n",
      "(ClientAppActor pid=19036) Step 8/8 | Total batches: 4\n",
      "(ClientAppActor pid=19036) 🚀 Epoch 1/1 (100.00%) Completed\n",
      "(ClientAppActor pid=19036) \t📊 Training Loss: 0.5564\n",
      "(ClientAppActor pid=19036) \t✅ Training Accuracy: 81.25%\n",
      "(ClientAppActor pid=19036) \t⏳ Elapsed Time: 3.38s | ETA: 0.00s\n",
      "(ClientAppActor pid=19036) \t🕒 Completed At: 18:59\n",
      "(ClientAppActor pid=19036) \n"
     ]
    },
    {
     "name": "stderr",
     "output_type": "stream",
     "text": [
      "(ClientAppActor pid=19036) WARNING :   Deprecation Warning: The `client_fn` function must return an instance of `Client`, but an instance of `NumpyClient` was returned. Please use `NumPyClient.to_client()` method to convert it to `Client`.\n"
     ]
    },
    {
     "name": "stdout",
     "output_type": "stream",
     "text": [
      "(ClientAppActor pid=19036) [Client] Client on device: cuda:0\n",
      "(ClientAppActor pid=19036) [Client] CUDA available in client: True\n",
      "(ClientAppActor pid=19036) PrecomputingClient initialized.\n",
      "(ClientAppActor pid=19036) No prefix/name for the model was provided, choosen prefix/name: breezy_raichu_55\n",
      "(ClientAppActor pid=19036) \n",
      "(ClientAppActor pid=19036) Step 1/8 | Total batches: 4\n",
      "(ClientAppActor pid=19036) Step 2/8 | Total batches: 4\n",
      "(ClientAppActor pid=19036) Step 3/8 | Total batches: 4\n",
      "(ClientAppActor pid=19036) Step 4/8 | Total batches: 4\n",
      "(ClientAppActor pid=19036) Step 5/8 | Total batches: 4\n",
      "(ClientAppActor pid=19036) Step 6/8 | Total batches: 4\n",
      "(ClientAppActor pid=19036) Step 7/8 | Total batches: 4\n",
      "(ClientAppActor pid=19036) Step 8/8 | Total batches: 4\n",
      "(ClientAppActor pid=19036) 🚀 Epoch 1/1 (100.00%) Completed\n",
      "(ClientAppActor pid=19036) \t📊 Training Loss: 0.2727\n",
      "(ClientAppActor pid=19036) \t✅ Training Accuracy: 91.88%\n",
      "(ClientAppActor pid=19036) \t⏳ Elapsed Time: 3.38s | ETA: 0.00s\n",
      "(ClientAppActor pid=19036) \t🕒 Completed At: 18:59\n",
      "(ClientAppActor pid=19036) \n"
     ]
    },
    {
     "name": "stderr",
     "output_type": "stream",
     "text": [
      "(ClientAppActor pid=19036) WARNING :   Deprecation Warning: The `client_fn` function must return an instance of `Client`, but an instance of `NumpyClient` was returned. Please use `NumPyClient.to_client()` method to convert it to `Client`.\n"
     ]
    },
    {
     "name": "stdout",
     "output_type": "stream",
     "text": [
      "(ClientAppActor pid=19036) [Client] Client on device: cuda:0\n",
      "(ClientAppActor pid=19036) [Client] CUDA available in client: True\n",
      "(ClientAppActor pid=19036) PrecomputingClient initialized.\n",
      "(ClientAppActor pid=19036) No prefix/name for the model was provided, choosen prefix/name: dizzy_charmeleon_83\n",
      "(ClientAppActor pid=19036) \n",
      "(ClientAppActor pid=19036) Step 1/8 | Total batches: 4\n",
      "(ClientAppActor pid=19036) Step 2/8 | Total batches: 4\n",
      "(ClientAppActor pid=19036) Step 3/8 | Total batches: 4\n",
      "(ClientAppActor pid=19036) Step 4/8 | Total batches: 4\n",
      "(ClientAppActor pid=19036) Step 5/8 | Total batches: 4\n",
      "(ClientAppActor pid=19036) Step 6/8 | Total batches: 4\n",
      "(ClientAppActor pid=19036) Step 7/8 | Total batches: 4\n",
      "(ClientAppActor pid=19036) Step 8/8 | Total batches: 4\n",
      "(ClientAppActor pid=19036) 🚀 Epoch 1/1 (100.00%) Completed\n",
      "(ClientAppActor pid=19036) \t📊 Training Loss: 0.6955\n",
      "(ClientAppActor pid=19036) \t✅ Training Accuracy: 83.00%\n",
      "(ClientAppActor pid=19036) \t⏳ Elapsed Time: 3.38s | ETA: 0.00s\n",
      "(ClientAppActor pid=19036) \t🕒 Completed At: 18:59\n",
      "(ClientAppActor pid=19036) \n"
     ]
    },
    {
     "name": "stderr",
     "output_type": "stream",
     "text": [
      "(ClientAppActor pid=19036) WARNING :   Deprecation Warning: The `client_fn` function must return an instance of `Client`, but an instance of `NumpyClient` was returned. Please use `NumPyClient.to_client()` method to convert it to `Client`.\n"
     ]
    },
    {
     "name": "stdout",
     "output_type": "stream",
     "text": [
      "(ClientAppActor pid=19036) [Client] Client on device: cuda:0\n",
      "(ClientAppActor pid=19036) [Client] CUDA available in client: True\n",
      "(ClientAppActor pid=19036) PrecomputingClient initialized.\n",
      "(ClientAppActor pid=19036) No prefix/name for the model was provided, choosen prefix/name: itchy_metapod_79\n",
      "(ClientAppActor pid=19036) \n",
      "(ClientAppActor pid=19036) Step 1/8 | Total batches: 4\n",
      "(ClientAppActor pid=19036) Step 2/8 | Total batches: 4\n",
      "(ClientAppActor pid=19036) Step 3/8 | Total batches: 4\n",
      "(ClientAppActor pid=19036) Step 4/8 | Total batches: 4\n",
      "(ClientAppActor pid=19036) Step 5/8 | Total batches: 4\n",
      "(ClientAppActor pid=19036) Step 6/8 | Total batches: 4\n",
      "(ClientAppActor pid=19036) Step 7/8 | Total batches: 4\n",
      "(ClientAppActor pid=19036) Step 8/8 | Total batches: 4\n",
      "(ClientAppActor pid=19036) 🚀 Epoch 1/1 (100.00%) Completed\n",
      "(ClientAppActor pid=19036) \t📊 Training Loss: 0.5720\n",
      "(ClientAppActor pid=19036) \t✅ Training Accuracy: 84.38%\n",
      "(ClientAppActor pid=19036) \t⏳ Elapsed Time: 3.38s | ETA: 0.00s\n",
      "(ClientAppActor pid=19036) \t🕒 Completed At: 18:59\n",
      "(ClientAppActor pid=19036) \n"
     ]
    },
    {
     "name": "stderr",
     "output_type": "stream",
     "text": [
      "(ClientAppActor pid=19036) WARNING :   Deprecation Warning: The `client_fn` function must return an instance of `Client`, but an instance of `NumpyClient` was returned. Please use `NumPyClient.to_client()` method to convert it to `Client`.\n"
     ]
    },
    {
     "name": "stdout",
     "output_type": "stream",
     "text": [
      "(ClientAppActor pid=19036) [Client] Client on device: cuda:0\n",
      "(ClientAppActor pid=19036) [Client] CUDA available in client: True\n",
      "(ClientAppActor pid=19036) PrecomputingClient initialized.\n",
      "(ClientAppActor pid=19036) No prefix/name for the model was provided, choosen prefix/name: plucky_rattata_41\n",
      "(ClientAppActor pid=19036) \n",
      "(ClientAppActor pid=19036) Step 1/8 | Total batches: 4\n",
      "(ClientAppActor pid=19036) Step 2/8 | Total batches: 4\n",
      "(ClientAppActor pid=19036) Step 3/8 | Total batches: 4\n",
      "(ClientAppActor pid=19036) Step 4/8 | Total batches: 4\n",
      "(ClientAppActor pid=19036) Step 5/8 | Total batches: 4\n",
      "(ClientAppActor pid=19036) Step 6/8 | Total batches: 4\n",
      "(ClientAppActor pid=19036) Step 7/8 | Total batches: 4\n",
      "(ClientAppActor pid=19036) Step 8/8 | Total batches: 4\n",
      "(ClientAppActor pid=19036) 🚀 Epoch 1/1 (100.00%) Completed\n",
      "(ClientAppActor pid=19036) \t📊 Training Loss: 1.1094\n",
      "(ClientAppActor pid=19036) \t✅ Training Accuracy: 77.12%\n",
      "(ClientAppActor pid=19036) \t⏳ Elapsed Time: 3.39s | ETA: 0.00s\n",
      "(ClientAppActor pid=19036) \t🕒 Completed At: 18:59\n",
      "(ClientAppActor pid=19036) \n"
     ]
    },
    {
     "name": "stderr",
     "output_type": "stream",
     "text": [
      "(ClientAppActor pid=19036) WARNING :   Deprecation Warning: The `client_fn` function must return an instance of `Client`, but an instance of `NumpyClient` was returned. Please use `NumPyClient.to_client()` method to convert it to `Client`.\n"
     ]
    },
    {
     "name": "stdout",
     "output_type": "stream",
     "text": [
      "(ClientAppActor pid=19036) [Client] Client on device: cuda:0\n",
      "(ClientAppActor pid=19036) [Client] CUDA available in client: True\n",
      "(ClientAppActor pid=19036) PrecomputingClient initialized.\n",
      "(ClientAppActor pid=19036) No prefix/name for the model was provided, choosen prefix/name: jazzy_pidgey_41\n",
      "(ClientAppActor pid=19036) \n",
      "(ClientAppActor pid=19036) Step 1/8 | Total batches: 4\n",
      "(ClientAppActor pid=19036) Step 2/8 | Total batches: 4\n",
      "(ClientAppActor pid=19036) Step 3/8 | Total batches: 4\n",
      "(ClientAppActor pid=19036) Step 4/8 | Total batches: 4\n",
      "(ClientAppActor pid=19036) Step 5/8 | Total batches: 4\n",
      "(ClientAppActor pid=19036) Step 6/8 | Total batches: 4\n",
      "(ClientAppActor pid=19036) Step 7/8 | Total batches: 4\n",
      "(ClientAppActor pid=19036) Step 8/8 | Total batches: 4\n",
      "(ClientAppActor pid=19036) 🚀 Epoch 1/1 (100.00%) Completed\n",
      "(ClientAppActor pid=19036) \t📊 Training Loss: 0.2391\n",
      "(ClientAppActor pid=19036) \t✅ Training Accuracy: 92.25%\n",
      "(ClientAppActor pid=19036) \t⏳ Elapsed Time: 3.38s | ETA: 0.00s\n",
      "(ClientAppActor pid=19036) \t🕒 Completed At: 18:59\n",
      "(ClientAppActor pid=19036) \n"
     ]
    },
    {
     "name": "stderr",
     "output_type": "stream",
     "text": [
      "(ClientAppActor pid=19036) WARNING :   Deprecation Warning: The `client_fn` function must return an instance of `Client`, but an instance of `NumpyClient` was returned. Please use `NumPyClient.to_client()` method to convert it to `Client`.\n"
     ]
    },
    {
     "name": "stdout",
     "output_type": "stream",
     "text": [
      "(ClientAppActor pid=19036) [Client] Client on device: cuda:0\n",
      "(ClientAppActor pid=19036) [Client] CUDA available in client: True\n",
      "(ClientAppActor pid=19036) PrecomputingClient initialized.\n",
      "(ClientAppActor pid=19036) No prefix/name for the model was provided, choosen prefix/name: grumpy_ivysaur_97\n",
      "(ClientAppActor pid=19036) \n",
      "(ClientAppActor pid=19036) Step 1/8 | Total batches: 4\n",
      "(ClientAppActor pid=19036) Step 2/8 | Total batches: 4\n",
      "(ClientAppActor pid=19036) Step 3/8 | Total batches: 4\n",
      "(ClientAppActor pid=19036) Step 4/8 | Total batches: 4\n",
      "(ClientAppActor pid=19036) Step 5/8 | Total batches: 4\n",
      "(ClientAppActor pid=19036) Step 6/8 | Total batches: 4\n",
      "(ClientAppActor pid=19036) Step 7/8 | Total batches: 4\n",
      "(ClientAppActor pid=19036) Step 8/8 | Total batches: 4\n",
      "(ClientAppActor pid=19036) 🚀 Epoch 1/1 (100.00%) Completed\n",
      "(ClientAppActor pid=19036) \t📊 Training Loss: 0.4391\n",
      "(ClientAppActor pid=19036) \t✅ Training Accuracy: 86.25%\n",
      "(ClientAppActor pid=19036) \t⏳ Elapsed Time: 3.39s | ETA: 0.00s\n",
      "(ClientAppActor pid=19036) \t🕒 Completed At: 18:59\n",
      "(ClientAppActor pid=19036) \n"
     ]
    },
    {
     "name": "stderr",
     "output_type": "stream",
     "text": [
      "(ClientAppActor pid=19036) WARNING :   Deprecation Warning: The `client_fn` function must return an instance of `Client`, but an instance of `NumpyClient` was returned. Please use `NumPyClient.to_client()` method to convert it to `Client`.\n"
     ]
    },
    {
     "name": "stdout",
     "output_type": "stream",
     "text": [
      "(ClientAppActor pid=19036) [Client] Client on device: cuda:0\n",
      "(ClientAppActor pid=19036) [Client] CUDA available in client: True\n",
      "(ClientAppActor pid=19036) PrecomputingClient initialized.\n",
      "(ClientAppActor pid=19036) No prefix/name for the model was provided, choosen prefix/name: soggy_clefairy_74\n",
      "(ClientAppActor pid=19036) \n",
      "(ClientAppActor pid=19036) Step 1/8 | Total batches: 4\n",
      "(ClientAppActor pid=19036) Step 2/8 | Total batches: 4\n",
      "(ClientAppActor pid=19036) Step 3/8 | Total batches: 4\n",
      "(ClientAppActor pid=19036) Step 4/8 | Total batches: 4\n",
      "(ClientAppActor pid=19036) Step 5/8 | Total batches: 4\n",
      "(ClientAppActor pid=19036) Step 6/8 | Total batches: 4\n",
      "(ClientAppActor pid=19036) Step 7/8 | Total batches: 4\n",
      "(ClientAppActor pid=19036) Step 8/8 | Total batches: 4\n",
      "(ClientAppActor pid=19036) 🚀 Epoch 1/1 (100.00%) Completed\n",
      "(ClientAppActor pid=19036) \t📊 Training Loss: 0.1918\n",
      "(ClientAppActor pid=19036) \t✅ Training Accuracy: 94.38%\n",
      "(ClientAppActor pid=19036) \t⏳ Elapsed Time: 3.38s | ETA: 0.00s\n",
      "(ClientAppActor pid=19036) \t🕒 Completed At: 19:00\n",
      "(ClientAppActor pid=19036) \n"
     ]
    },
    {
     "name": "stderr",
     "output_type": "stream",
     "text": [
      "(ClientAppActor pid=19036) WARNING :   Deprecation Warning: The `client_fn` function must return an instance of `Client`, but an instance of `NumpyClient` was returned. Please use `NumPyClient.to_client()` method to convert it to `Client`.\n"
     ]
    },
    {
     "name": "stdout",
     "output_type": "stream",
     "text": [
      "(ClientAppActor pid=19036) [Client] Client on device: cuda:0\n",
      "(ClientAppActor pid=19036) [Client] CUDA available in client: True\n",
      "(ClientAppActor pid=19036) PrecomputingClient initialized.\n",
      "(ClientAppActor pid=19036) No prefix/name for the model was provided, choosen prefix/name: spooky_caterpie_95\n",
      "(ClientAppActor pid=19036) \n",
      "(ClientAppActor pid=19036) Step 1/8 | Total batches: 4\n",
      "(ClientAppActor pid=19036) Step 2/8 | Total batches: 4\n",
      "(ClientAppActor pid=19036) Step 3/8 | Total batches: 4\n",
      "(ClientAppActor pid=19036) Step 4/8 | Total batches: 4\n",
      "(ClientAppActor pid=19036) Step 5/8 | Total batches: 4\n",
      "(ClientAppActor pid=19036) Step 6/8 | Total batches: 4\n",
      "(ClientAppActor pid=19036) Step 7/8 | Total batches: 4\n",
      "(ClientAppActor pid=19036) Step 8/8 | Total batches: 4\n",
      "(ClientAppActor pid=19036) 🚀 Epoch 1/1 (100.00%) Completed\n",
      "(ClientAppActor pid=19036) \t📊 Training Loss: 0.7060\n",
      "(ClientAppActor pid=19036) \t✅ Training Accuracy: 81.75%\n",
      "(ClientAppActor pid=19036) \t⏳ Elapsed Time: 3.38s | ETA: 0.00s\n",
      "(ClientAppActor pid=19036) \t🕒 Completed At: 19:00\n",
      "(ClientAppActor pid=19036) \n"
     ]
    },
    {
     "name": "stderr",
     "output_type": "stream",
     "text": [
      "\u001b[92mINFO \u001b[0m:      aggregate_fit: received 10 results and 0 failures\n",
      "\u001b[92mINFO \u001b[0m:      [Round 7] Avg Drift: 0.0012 | Relative Drift: 0.0000\n",
      "\u001b[92mINFO \u001b[0m:      [Round 7] Saving aggregated model at epoch 207...\n"
     ]
    },
    {
     "name": "stdout",
     "output_type": "stream",
     "text": [
      "💾 Saved checkpoint at: /Users/ciovi/Desktop/coding/mldl/fl-g13/checkpoints/fl_dino_v4/non_iid/1_8_dynamic-quorum\\fl_Test_Dynamic_Quorum_v2_BaseDino_epoch_207.pth\n",
      "[Server Eval Round 7] Model device: cuda:0\n",
      "[Server Eval Round 7] CUDA available in server eval: True\n"
     ]
    },
    {
     "name": "stderr",
     "output_type": "stream",
     "text": [
      "Eval progress: 100%|██████████| 313/313 [00:22<00:00, 14.03batch/s]\n",
      "\u001b[92mINFO \u001b[0m:      [Round 7] Centralized Evaluation - Loss: 2.8984, Metrics: {'centralized_accuracy': 0.2905}\n",
      "\u001b[92mINFO \u001b[0m:      fit progress: (7, 2.8984084354041104, {'centralized_accuracy': 0.2905}, 582.4639932999999)\n",
      "\u001b[92mINFO \u001b[0m:      configure_evaluate: strategy sampled 10 clients (out of 100)\n",
      "(ClientAppActor pid=19036) WARNING :   Deprecation Warning: The `client_fn` function must return an instance of `Client`, but an instance of `NumpyClient` was returned. Please use `NumPyClient.to_client()` method to convert it to `Client`.\n",
      "Eval progress:   0%|          | 0/1 [00:00<?, ?batch/s]\n"
     ]
    },
    {
     "name": "stdout",
     "output_type": "stream",
     "text": [
      "(ClientAppActor pid=19036) [Client] Client on device: cuda:0\n",
      "(ClientAppActor pid=19036) [Client] CUDA available in client: True\n",
      "(ClientAppActor pid=19036) PrecomputingClient initialized.\n"
     ]
    },
    {
     "name": "stderr",
     "output_type": "stream",
     "text": [
      "Eval progress: 100%|██████████| 1/1 [00:00<00:00,  3.60batch/s]\n",
      "(ClientAppActor pid=19036) WARNING :   Deprecation Warning: The `client_fn` function must return an instance of `Client`, but an instance of `NumpyClient` was returned. Please use `NumPyClient.to_client()` method to convert it to `Client`.\n"
     ]
    },
    {
     "name": "stdout",
     "output_type": "stream",
     "text": [
      "(ClientAppActor pid=19036) [Client] Client on device: cuda:0\n",
      "(ClientAppActor pid=19036) [Client] CUDA available in client: True\n",
      "(ClientAppActor pid=19036) PrecomputingClient initialized.\n"
     ]
    },
    {
     "name": "stderr",
     "output_type": "stream",
     "text": [
      "Eval progress:   0%|          | 0/1 [00:00<?, ?batch/s]\n",
      "Eval progress: 100%|██████████| 1/1 [00:00<00:00,  3.92batch/s]\n",
      "(ClientAppActor pid=19036) WARNING :   Deprecation Warning: The `client_fn` function must return an instance of `Client`, but an instance of `NumpyClient` was returned. Please use `NumPyClient.to_client()` method to convert it to `Client`.\n",
      "Eval progress:   0%|          | 0/1 [00:00<?, ?batch/s]\n"
     ]
    },
    {
     "name": "stdout",
     "output_type": "stream",
     "text": [
      "(ClientAppActor pid=19036) [Client] Client on device: cuda:0\n",
      "(ClientAppActor pid=19036) [Client] CUDA available in client: True\n",
      "(ClientAppActor pid=19036) PrecomputingClient initialized.\n"
     ]
    },
    {
     "name": "stderr",
     "output_type": "stream",
     "text": [
      "Eval progress: 100%|██████████| 1/1 [00:00<00:00,  3.89batch/s]\n",
      "(ClientAppActor pid=19036) WARNING :   Deprecation Warning: The `client_fn` function must return an instance of `Client`, but an instance of `NumpyClient` was returned. Please use `NumPyClient.to_client()` method to convert it to `Client`.\n",
      "Eval progress:   0%|          | 0/1 [00:00<?, ?batch/s]\n"
     ]
    },
    {
     "name": "stdout",
     "output_type": "stream",
     "text": [
      "(ClientAppActor pid=19036) [Client] Client on device: cuda:0\n",
      "(ClientAppActor pid=19036) [Client] CUDA available in client: True\n",
      "(ClientAppActor pid=19036) PrecomputingClient initialized.\n"
     ]
    },
    {
     "name": "stderr",
     "output_type": "stream",
     "text": [
      "Eval progress: 100%|██████████| 1/1 [00:00<00:00,  3.73batch/s]\n",
      "(ClientAppActor pid=19036) WARNING :   Deprecation Warning: The `client_fn` function must return an instance of `Client`, but an instance of `NumpyClient` was returned. Please use `NumPyClient.to_client()` method to convert it to `Client`.\n",
      "Eval progress:   0%|          | 0/1 [00:00<?, ?batch/s]\n"
     ]
    },
    {
     "name": "stdout",
     "output_type": "stream",
     "text": [
      "(ClientAppActor pid=19036) [Client] Client on device: cuda:0\n",
      "(ClientAppActor pid=19036) [Client] CUDA available in client: True\n",
      "(ClientAppActor pid=19036) PrecomputingClient initialized.\n"
     ]
    },
    {
     "name": "stderr",
     "output_type": "stream",
     "text": [
      "Eval progress: 100%|██████████| 1/1 [00:00<00:00,  3.91batch/s]\n",
      "(ClientAppActor pid=19036) WARNING :   Deprecation Warning: The `client_fn` function must return an instance of `Client`, but an instance of `NumpyClient` was returned. Please use `NumPyClient.to_client()` method to convert it to `Client`.\n",
      "Eval progress:   0%|          | 0/1 [00:00<?, ?batch/s]\n"
     ]
    },
    {
     "name": "stdout",
     "output_type": "stream",
     "text": [
      "(ClientAppActor pid=19036) [Client] Client on device: cuda:0\n",
      "(ClientAppActor pid=19036) [Client] CUDA available in client: True\n",
      "(ClientAppActor pid=19036) PrecomputingClient initialized.\n"
     ]
    },
    {
     "name": "stderr",
     "output_type": "stream",
     "text": [
      "Eval progress: 100%|██████████| 1/1 [00:00<00:00,  3.90batch/s]\n",
      "(ClientAppActor pid=19036) WARNING :   Deprecation Warning: The `client_fn` function must return an instance of `Client`, but an instance of `NumpyClient` was returned. Please use `NumPyClient.to_client()` method to convert it to `Client`.\n"
     ]
    },
    {
     "name": "stdout",
     "output_type": "stream",
     "text": [
      "(ClientAppActor pid=19036) [Client] Client on device: cuda:0\n",
      "(ClientAppActor pid=19036) [Client] CUDA available in client: True\n",
      "(ClientAppActor pid=19036) PrecomputingClient initialized.\n"
     ]
    },
    {
     "name": "stderr",
     "output_type": "stream",
     "text": [
      "Eval progress:   0%|          | 0/1 [00:00<?, ?batch/s]\n",
      "Eval progress: 100%|██████████| 1/1 [00:00<00:00,  3.94batch/s]\n",
      "(ClientAppActor pid=19036) WARNING :   Deprecation Warning: The `client_fn` function must return an instance of `Client`, but an instance of `NumpyClient` was returned. Please use `NumPyClient.to_client()` method to convert it to `Client`.\n",
      "Eval progress:   0%|          | 0/1 [00:00<?, ?batch/s]\n"
     ]
    },
    {
     "name": "stdout",
     "output_type": "stream",
     "text": [
      "(ClientAppActor pid=19036) [Client] Client on device: cuda:0\n",
      "(ClientAppActor pid=19036) [Client] CUDA available in client: True\n",
      "(ClientAppActor pid=19036) PrecomputingClient initialized.\n"
     ]
    },
    {
     "name": "stderr",
     "output_type": "stream",
     "text": [
      "Eval progress: 100%|██████████| 1/1 [00:00<00:00,  3.87batch/s]\n",
      "(ClientAppActor pid=19036) WARNING :   Deprecation Warning: The `client_fn` function must return an instance of `Client`, but an instance of `NumpyClient` was returned. Please use `NumPyClient.to_client()` method to convert it to `Client`.\n",
      "Eval progress:   0%|          | 0/1 [00:00<?, ?batch/s]\n"
     ]
    },
    {
     "name": "stdout",
     "output_type": "stream",
     "text": [
      "(ClientAppActor pid=19036) [Client] Client on device: cuda:0\n",
      "(ClientAppActor pid=19036) [Client] CUDA available in client: True\n",
      "(ClientAppActor pid=19036) PrecomputingClient initialized.\n"
     ]
    },
    {
     "name": "stderr",
     "output_type": "stream",
     "text": [
      "Eval progress: 100%|██████████| 1/1 [00:00<00:00,  3.90batch/s]\n",
      "(ClientAppActor pid=19036) WARNING :   Deprecation Warning: The `client_fn` function must return an instance of `Client`, but an instance of `NumpyClient` was returned. Please use `NumPyClient.to_client()` method to convert it to `Client`.\n"
     ]
    },
    {
     "name": "stdout",
     "output_type": "stream",
     "text": [
      "(ClientAppActor pid=19036) [Client] Client on device: cuda:0\n",
      "(ClientAppActor pid=19036) [Client] CUDA available in client: True\n",
      "(ClientAppActor pid=19036) PrecomputingClient initialized.\n"
     ]
    },
    {
     "name": "stderr",
     "output_type": "stream",
     "text": [
      "Eval progress:   0%|          | 0/1 [00:00<?, ?batch/s]\n",
      "\u001b[92mINFO \u001b[0m:      aggregate_evaluate: received 10 results and 0 failures\n",
      "\u001b[92mINFO \u001b[0m:      \n",
      "\u001b[92mINFO \u001b[0m:      [ROUND 8]\n",
      "\u001b[92mINFO \u001b[0m:      [Round 8] Quorum updated to: 36\n",
      "Eval progress: 100%|██████████| 1/1 [00:00<00:00,  3.95batch/s]\n",
      "\u001b[92mINFO \u001b[0m:      [Round 8] Generated initial global mask with quorum 36. Sparsity: 0.7646\n",
      "\u001b[92mINFO \u001b[0m:      configure_fit: strategy sampled 10 clients (out of 100)\n",
      "(ClientAppActor pid=19036) WARNING :   Deprecation Warning: The `client_fn` function must return an instance of `Client`, but an instance of `NumpyClient` was returned. Please use `NumPyClient.to_client()` method to convert it to `Client`.\n"
     ]
    },
    {
     "name": "stdout",
     "output_type": "stream",
     "text": [
      "(ClientAppActor pid=19036) [Client] Client on device: cuda:0\n",
      "(ClientAppActor pid=19036) [Client] CUDA available in client: True\n",
      "(ClientAppActor pid=19036) PrecomputingClient initialized.\n",
      "(ClientAppActor pid=19036) No prefix/name for the model was provided, choosen prefix/name: sassy_beedrill_26\n",
      "(ClientAppActor pid=19036) \n",
      "(ClientAppActor pid=19036) Step 1/8 | Total batches: 4\n",
      "(ClientAppActor pid=19036) Step 2/8 | Total batches: 4\n",
      "(ClientAppActor pid=19036) Step 3/8 | Total batches: 4\n",
      "(ClientAppActor pid=19036) Step 4/8 | Total batches: 4\n",
      "(ClientAppActor pid=19036) Step 5/8 | Total batches: 4\n",
      "(ClientAppActor pid=19036) Step 6/8 | Total batches: 4\n",
      "(ClientAppActor pid=19036) Step 7/8 | Total batches: 4\n",
      "(ClientAppActor pid=19036) Step 8/8 | Total batches: 4\n",
      "(ClientAppActor pid=19036) 🚀 Epoch 1/1 (100.00%) Completed\n",
      "(ClientAppActor pid=19036) \t📊 Training Loss: 0.4426\n",
      "(ClientAppActor pid=19036) \t✅ Training Accuracy: 87.38%\n",
      "(ClientAppActor pid=19036) \t⏳ Elapsed Time: 3.36s | ETA: 0.00s\n",
      "(ClientAppActor pid=19036) \t🕒 Completed At: 19:00\n",
      "(ClientAppActor pid=19036) \n",
      "(ClientAppActor pid=19036) [Client] Client on device: cuda:0\n",
      "(ClientAppActor pid=19036) [Client] CUDA available in client: True\n"
     ]
    },
    {
     "name": "stderr",
     "output_type": "stream",
     "text": [
      "(ClientAppActor pid=19036) WARNING :   Deprecation Warning: The `client_fn` function must return an instance of `Client`, but an instance of `NumpyClient` was returned. Please use `NumPyClient.to_client()` method to convert it to `Client`.\n"
     ]
    },
    {
     "name": "stdout",
     "output_type": "stream",
     "text": [
      "(ClientAppActor pid=19036) PrecomputingClient initialized.\n",
      "(ClientAppActor pid=19036) No prefix/name for the model was provided, choosen prefix/name: perky_pidgey_71\n",
      "(ClientAppActor pid=19036) \n",
      "(ClientAppActor pid=19036) Step 1/8 | Total batches: 4\n",
      "(ClientAppActor pid=19036) Step 2/8 | Total batches: 4\n",
      "(ClientAppActor pid=19036) Step 3/8 | Total batches: 4\n",
      "(ClientAppActor pid=19036) Step 4/8 | Total batches: 4\n",
      "(ClientAppActor pid=19036) Step 5/8 | Total batches: 4\n",
      "(ClientAppActor pid=19036) Step 6/8 | Total batches: 4\n",
      "(ClientAppActor pid=19036) Step 7/8 | Total batches: 4\n",
      "(ClientAppActor pid=19036) Step 8/8 | Total batches: 4\n",
      "(ClientAppActor pid=19036) 🚀 Epoch 1/1 (100.00%) Completed\n",
      "(ClientAppActor pid=19036) \t📊 Training Loss: 0.2520\n",
      "(ClientAppActor pid=19036) \t✅ Training Accuracy: 92.75%\n",
      "(ClientAppActor pid=19036) \t⏳ Elapsed Time: 3.54s | ETA: 0.00s\n",
      "(ClientAppActor pid=19036) \t🕒 Completed At: 19:00\n",
      "(ClientAppActor pid=19036) \n"
     ]
    },
    {
     "name": "stderr",
     "output_type": "stream",
     "text": [
      "(ClientAppActor pid=19036) WARNING :   Deprecation Warning: The `client_fn` function must return an instance of `Client`, but an instance of `NumpyClient` was returned. Please use `NumPyClient.to_client()` method to convert it to `Client`.\n"
     ]
    },
    {
     "name": "stdout",
     "output_type": "stream",
     "text": [
      "(ClientAppActor pid=19036) [Client] Client on device: cuda:0\n",
      "(ClientAppActor pid=19036) [Client] CUDA available in client: True\n",
      "(ClientAppActor pid=19036) PrecomputingClient initialized.\n",
      "(ClientAppActor pid=19036) No prefix/name for the model was provided, choosen prefix/name: zesty_pikachu_64\n",
      "(ClientAppActor pid=19036) \n",
      "(ClientAppActor pid=19036) Step 1/8 | Total batches: 4\n",
      "(ClientAppActor pid=19036) Step 2/8 | Total batches: 4\n",
      "(ClientAppActor pid=19036) Step 3/8 | Total batches: 4\n",
      "(ClientAppActor pid=19036) Step 4/8 | Total batches: 4\n",
      "(ClientAppActor pid=19036) Step 5/8 | Total batches: 4\n",
      "(ClientAppActor pid=19036) Step 6/8 | Total batches: 4\n",
      "(ClientAppActor pid=19036) Step 7/8 | Total batches: 4\n",
      "(ClientAppActor pid=19036) Step 8/8 | Total batches: 4\n",
      "(ClientAppActor pid=19036) 🚀 Epoch 1/1 (100.00%) Completed\n",
      "(ClientAppActor pid=19036) \t📊 Training Loss: 0.7812\n",
      "(ClientAppActor pid=19036) \t✅ Training Accuracy: 74.00%\n",
      "(ClientAppActor pid=19036) \t⏳ Elapsed Time: 3.38s | ETA: 0.00s\n",
      "(ClientAppActor pid=19036) \t🕒 Completed At: 19:00\n",
      "(ClientAppActor pid=19036) \n"
     ]
    },
    {
     "name": "stderr",
     "output_type": "stream",
     "text": [
      "(ClientAppActor pid=19036) WARNING :   Deprecation Warning: The `client_fn` function must return an instance of `Client`, but an instance of `NumpyClient` was returned. Please use `NumPyClient.to_client()` method to convert it to `Client`.\n"
     ]
    },
    {
     "name": "stdout",
     "output_type": "stream",
     "text": [
      "(ClientAppActor pid=19036) [Client] Client on device: cuda:0\n",
      "(ClientAppActor pid=19036) [Client] CUDA available in client: True\n",
      "(ClientAppActor pid=19036) PrecomputingClient initialized.\n",
      "(ClientAppActor pid=19036) No prefix/name for the model was provided, choosen prefix/name: sneezy_arbok_44\n",
      "(ClientAppActor pid=19036) \n",
      "(ClientAppActor pid=19036) Step 1/8 | Total batches: 4\n",
      "(ClientAppActor pid=19036) Step 2/8 | Total batches: 4\n",
      "(ClientAppActor pid=19036) Step 3/8 | Total batches: 4\n",
      "(ClientAppActor pid=19036) Step 4/8 | Total batches: 4\n",
      "(ClientAppActor pid=19036) Step 5/8 | Total batches: 4\n",
      "(ClientAppActor pid=19036) Step 6/8 | Total batches: 4\n",
      "(ClientAppActor pid=19036) Step 7/8 | Total batches: 4\n",
      "(ClientAppActor pid=19036) Step 8/8 | Total batches: 4\n",
      "(ClientAppActor pid=19036) 🚀 Epoch 1/1 (100.00%) Completed\n",
      "(ClientAppActor pid=19036) \t📊 Training Loss: 0.6151\n",
      "(ClientAppActor pid=19036) \t✅ Training Accuracy: 79.62%\n",
      "(ClientAppActor pid=19036) \t⏳ Elapsed Time: 3.38s | ETA: 0.00s\n",
      "(ClientAppActor pid=19036) \t🕒 Completed At: 19:01\n",
      "(ClientAppActor pid=19036) \n"
     ]
    },
    {
     "name": "stderr",
     "output_type": "stream",
     "text": [
      "(ClientAppActor pid=19036) WARNING :   Deprecation Warning: The `client_fn` function must return an instance of `Client`, but an instance of `NumpyClient` was returned. Please use `NumPyClient.to_client()` method to convert it to `Client`.\n"
     ]
    },
    {
     "name": "stdout",
     "output_type": "stream",
     "text": [
      "(ClientAppActor pid=19036) [Client] Client on device: cuda:0\n",
      "(ClientAppActor pid=19036) [Client] CUDA available in client: True\n",
      "(ClientAppActor pid=19036) PrecomputingClient initialized.\n",
      "(ClientAppActor pid=19036) No prefix/name for the model was provided, choosen prefix/name: jumpy_pidgeot_10\n",
      "(ClientAppActor pid=19036) \n",
      "(ClientAppActor pid=19036) Step 1/8 | Total batches: 4\n",
      "(ClientAppActor pid=19036) Step 2/8 | Total batches: 4\n",
      "(ClientAppActor pid=19036) Step 3/8 | Total batches: 4\n",
      "(ClientAppActor pid=19036) Step 4/8 | Total batches: 4\n",
      "(ClientAppActor pid=19036) Step 5/8 | Total batches: 4\n",
      "(ClientAppActor pid=19036) Step 6/8 | Total batches: 4\n",
      "(ClientAppActor pid=19036) Step 7/8 | Total batches: 4\n",
      "(ClientAppActor pid=19036) Step 8/8 | Total batches: 4\n",
      "(ClientAppActor pid=19036) 🚀 Epoch 1/1 (100.00%) Completed\n",
      "(ClientAppActor pid=19036) \t📊 Training Loss: 0.3578\n",
      "(ClientAppActor pid=19036) \t✅ Training Accuracy: 90.25%\n",
      "(ClientAppActor pid=19036) \t⏳ Elapsed Time: 3.39s | ETA: 0.00s\n",
      "(ClientAppActor pid=19036) \t🕒 Completed At: 19:01\n",
      "(ClientAppActor pid=19036) \n"
     ]
    },
    {
     "name": "stderr",
     "output_type": "stream",
     "text": [
      "(ClientAppActor pid=19036) WARNING :   Deprecation Warning: The `client_fn` function must return an instance of `Client`, but an instance of `NumpyClient` was returned. Please use `NumPyClient.to_client()` method to convert it to `Client`.\n"
     ]
    },
    {
     "name": "stdout",
     "output_type": "stream",
     "text": [
      "(ClientAppActor pid=19036) [Client] Client on device: cuda:0\n",
      "(ClientAppActor pid=19036) [Client] CUDA available in client: True\n",
      "(ClientAppActor pid=19036) PrecomputingClient initialized.\n",
      "(ClientAppActor pid=19036) No prefix/name for the model was provided, choosen prefix/name: wacky_fearow_64\n",
      "(ClientAppActor pid=19036) \n",
      "(ClientAppActor pid=19036) Step 1/8 | Total batches: 4\n",
      "(ClientAppActor pid=19036) Step 2/8 | Total batches: 4\n",
      "(ClientAppActor pid=19036) Step 3/8 | Total batches: 4\n",
      "(ClientAppActor pid=19036) Step 4/8 | Total batches: 4\n",
      "(ClientAppActor pid=19036) Step 5/8 | Total batches: 4\n",
      "(ClientAppActor pid=19036) Step 6/8 | Total batches: 4\n",
      "(ClientAppActor pid=19036) Step 7/8 | Total batches: 4\n",
      "(ClientAppActor pid=19036) Step 8/8 | Total batches: 4\n",
      "(ClientAppActor pid=19036) 🚀 Epoch 1/1 (100.00%) Completed\n",
      "(ClientAppActor pid=19036) \t📊 Training Loss: 0.4408\n",
      "(ClientAppActor pid=19036) \t✅ Training Accuracy: 88.12%\n",
      "(ClientAppActor pid=19036) \t⏳ Elapsed Time: 3.39s | ETA: 0.00s\n",
      "(ClientAppActor pid=19036) \t🕒 Completed At: 19:01\n",
      "(ClientAppActor pid=19036) \n"
     ]
    },
    {
     "name": "stderr",
     "output_type": "stream",
     "text": [
      "(ClientAppActor pid=19036) WARNING :   Deprecation Warning: The `client_fn` function must return an instance of `Client`, but an instance of `NumpyClient` was returned. Please use `NumPyClient.to_client()` method to convert it to `Client`.\n"
     ]
    },
    {
     "name": "stdout",
     "output_type": "stream",
     "text": [
      "(ClientAppActor pid=19036) [Client] Client on device: cuda:0\n",
      "(ClientAppActor pid=19036) [Client] CUDA available in client: True\n",
      "(ClientAppActor pid=19036) PrecomputingClient initialized.\n",
      "(ClientAppActor pid=19036) No prefix/name for the model was provided, choosen prefix/name: mushy_metapod_35\n",
      "(ClientAppActor pid=19036) \n",
      "(ClientAppActor pid=19036) Step 1/8 | Total batches: 4\n",
      "(ClientAppActor pid=19036) Step 2/8 | Total batches: 4\n",
      "(ClientAppActor pid=19036) Step 3/8 | Total batches: 4\n",
      "(ClientAppActor pid=19036) Step 4/8 | Total batches: 4\n",
      "(ClientAppActor pid=19036) Step 5/8 | Total batches: 4\n",
      "(ClientAppActor pid=19036) Step 6/8 | Total batches: 4\n",
      "(ClientAppActor pid=19036) Step 7/8 | Total batches: 4\n",
      "(ClientAppActor pid=19036) Step 8/8 | Total batches: 4\n",
      "(ClientAppActor pid=19036) 🚀 Epoch 1/1 (100.00%) Completed\n",
      "(ClientAppActor pid=19036) \t📊 Training Loss: 0.5854\n",
      "(ClientAppActor pid=19036) \t✅ Training Accuracy: 82.88%\n",
      "(ClientAppActor pid=19036) \t⏳ Elapsed Time: 3.38s | ETA: 0.00s\n",
      "(ClientAppActor pid=19036) \t🕒 Completed At: 19:01\n",
      "(ClientAppActor pid=19036) \n"
     ]
    },
    {
     "name": "stderr",
     "output_type": "stream",
     "text": [
      "(ClientAppActor pid=19036) WARNING :   Deprecation Warning: The `client_fn` function must return an instance of `Client`, but an instance of `NumpyClient` was returned. Please use `NumPyClient.to_client()` method to convert it to `Client`.\n"
     ]
    },
    {
     "name": "stdout",
     "output_type": "stream",
     "text": [
      "(ClientAppActor pid=19036) [Client] Client on device: cuda:0\n",
      "(ClientAppActor pid=19036) [Client] CUDA available in client: True\n",
      "(ClientAppActor pid=19036) PrecomputingClient initialized.\n",
      "(ClientAppActor pid=19036) No prefix/name for the model was provided, choosen prefix/name: breezy_sandshrew_18\n",
      "(ClientAppActor pid=19036) \n",
      "(ClientAppActor pid=19036) Step 1/8 | Total batches: 4\n",
      "(ClientAppActor pid=19036) Step 2/8 | Total batches: 4\n",
      "(ClientAppActor pid=19036) Step 3/8 | Total batches: 4\n",
      "(ClientAppActor pid=19036) Step 4/8 | Total batches: 4\n",
      "(ClientAppActor pid=19036) Step 5/8 | Total batches: 4\n",
      "(ClientAppActor pid=19036) Step 6/8 | Total batches: 4\n",
      "(ClientAppActor pid=19036) Step 7/8 | Total batches: 4\n",
      "(ClientAppActor pid=19036) Step 8/8 | Total batches: 4\n",
      "(ClientAppActor pid=19036) 🚀 Epoch 1/1 (100.00%) Completed\n",
      "(ClientAppActor pid=19036) \t📊 Training Loss: 0.8357\n",
      "(ClientAppActor pid=19036) \t✅ Training Accuracy: 77.38%\n",
      "(ClientAppActor pid=19036) \t⏳ Elapsed Time: 3.38s | ETA: 0.00s\n",
      "(ClientAppActor pid=19036) \t🕒 Completed At: 19:01\n",
      "(ClientAppActor pid=19036) \n"
     ]
    },
    {
     "name": "stderr",
     "output_type": "stream",
     "text": [
      "(ClientAppActor pid=19036) WARNING :   Deprecation Warning: The `client_fn` function must return an instance of `Client`, but an instance of `NumpyClient` was returned. Please use `NumPyClient.to_client()` method to convert it to `Client`.\n"
     ]
    },
    {
     "name": "stdout",
     "output_type": "stream",
     "text": [
      "(ClientAppActor pid=19036) [Client] Client on device: cuda:0\n",
      "(ClientAppActor pid=19036) [Client] CUDA available in client: True\n",
      "(ClientAppActor pid=19036) PrecomputingClient initialized.\n",
      "(ClientAppActor pid=19036) No prefix/name for the model was provided, choosen prefix/name: breezy_squirtle_10\n",
      "(ClientAppActor pid=19036) \n",
      "(ClientAppActor pid=19036) Step 1/8 | Total batches: 4\n",
      "(ClientAppActor pid=19036) Step 2/8 | Total batches: 4\n",
      "(ClientAppActor pid=19036) Step 3/8 | Total batches: 4\n",
      "(ClientAppActor pid=19036) Step 4/8 | Total batches: 4\n",
      "(ClientAppActor pid=19036) Step 5/8 | Total batches: 4\n",
      "(ClientAppActor pid=19036) Step 6/8 | Total batches: 4\n",
      "(ClientAppActor pid=19036) Step 7/8 | Total batches: 4\n",
      "(ClientAppActor pid=19036) Step 8/8 | Total batches: 4\n",
      "(ClientAppActor pid=19036) 🚀 Epoch 1/1 (100.00%) Completed\n",
      "(ClientAppActor pid=19036) \t📊 Training Loss: 0.2570\n",
      "(ClientAppActor pid=19036) \t✅ Training Accuracy: 92.88%\n",
      "(ClientAppActor pid=19036) \t⏳ Elapsed Time: 3.39s | ETA: 0.00s\n",
      "(ClientAppActor pid=19036) \t🕒 Completed At: 19:01\n",
      "(ClientAppActor pid=19036) \n"
     ]
    },
    {
     "name": "stderr",
     "output_type": "stream",
     "text": [
      "(ClientAppActor pid=19036) WARNING :   Deprecation Warning: The `client_fn` function must return an instance of `Client`, but an instance of `NumpyClient` was returned. Please use `NumPyClient.to_client()` method to convert it to `Client`.\n"
     ]
    },
    {
     "name": "stdout",
     "output_type": "stream",
     "text": [
      "(ClientAppActor pid=19036) [Client] Client on device: cuda:0\n",
      "(ClientAppActor pid=19036) [Client] CUDA available in client: True\n",
      "(ClientAppActor pid=19036) PrecomputingClient initialized.\n",
      "(ClientAppActor pid=19036) No prefix/name for the model was provided, choosen prefix/name: sleepy_raichu_81\n",
      "(ClientAppActor pid=19036) \n",
      "(ClientAppActor pid=19036) Step 1/8 | Total batches: 4\n",
      "(ClientAppActor pid=19036) Step 2/8 | Total batches: 4\n",
      "(ClientAppActor pid=19036) Step 3/8 | Total batches: 4\n",
      "(ClientAppActor pid=19036) Step 4/8 | Total batches: 4\n",
      "(ClientAppActor pid=19036) Step 5/8 | Total batches: 4\n",
      "(ClientAppActor pid=19036) Step 6/8 | Total batches: 4\n",
      "(ClientAppActor pid=19036) Step 7/8 | Total batches: 4\n",
      "(ClientAppActor pid=19036) Step 8/8 | Total batches: 4\n",
      "(ClientAppActor pid=19036) 🚀 Epoch 1/1 (100.00%) Completed\n",
      "(ClientAppActor pid=19036) \t📊 Training Loss: 0.4097\n",
      "(ClientAppActor pid=19036) \t✅ Training Accuracy: 88.75%\n",
      "(ClientAppActor pid=19036) \t⏳ Elapsed Time: 3.38s | ETA: 0.00s\n",
      "(ClientAppActor pid=19036) \t🕒 Completed At: 19:01\n",
      "(ClientAppActor pid=19036) \n"
     ]
    },
    {
     "name": "stderr",
     "output_type": "stream",
     "text": [
      "\u001b[92mINFO \u001b[0m:      aggregate_fit: received 10 results and 0 failures\n",
      "\u001b[92mINFO \u001b[0m:      [Round 8] Avg Drift: 0.0011 | Relative Drift: 0.0000\n",
      "\u001b[92mINFO \u001b[0m:      [Round 8] Saving aggregated model at epoch 208...\n"
     ]
    },
    {
     "name": "stdout",
     "output_type": "stream",
     "text": [
      "💾 Saved checkpoint at: /Users/ciovi/Desktop/coding/mldl/fl-g13/checkpoints/fl_dino_v4/non_iid/1_8_dynamic-quorum\\fl_Test_Dynamic_Quorum_v2_BaseDino_epoch_208.pth\n",
      "[Server Eval Round 8] Model device: cuda:0\n",
      "[Server Eval Round 8] CUDA available in server eval: True\n"
     ]
    },
    {
     "name": "stderr",
     "output_type": "stream",
     "text": [
      "Eval progress: 100%|██████████| 313/313 [00:22<00:00, 14.08batch/s]\n",
      "\u001b[92mINFO \u001b[0m:      [Round 8] Centralized Evaluation - Loss: 2.8560, Metrics: {'centralized_accuracy': 0.3174}\n",
      "\u001b[92mINFO \u001b[0m:      fit progress: (8, 2.8559832938562946, {'centralized_accuracy': 0.3174}, 663.564435799999)\n",
      "\u001b[92mINFO \u001b[0m:      configure_evaluate: strategy sampled 10 clients (out of 100)\n",
      "(ClientAppActor pid=19036) WARNING :   Deprecation Warning: The `client_fn` function must return an instance of `Client`, but an instance of `NumpyClient` was returned. Please use `NumPyClient.to_client()` method to convert it to `Client`.\n",
      "Eval progress:   0%|          | 0/1 [00:00<?, ?batch/s]\n"
     ]
    },
    {
     "name": "stdout",
     "output_type": "stream",
     "text": [
      "(ClientAppActor pid=19036) [Client] Client on device: cuda:0\n",
      "(ClientAppActor pid=19036) [Client] CUDA available in client: True\n",
      "(ClientAppActor pid=19036) PrecomputingClient initialized.\n"
     ]
    },
    {
     "name": "stderr",
     "output_type": "stream",
     "text": [
      "Eval progress: 100%|██████████| 1/1 [00:00<00:00,  3.90batch/s]\n",
      "(ClientAppActor pid=19036) WARNING :   Deprecation Warning: The `client_fn` function must return an instance of `Client`, but an instance of `NumpyClient` was returned. Please use `NumPyClient.to_client()` method to convert it to `Client`.\n"
     ]
    },
    {
     "name": "stdout",
     "output_type": "stream",
     "text": [
      "(ClientAppActor pid=19036) [Client] Client on device: cuda:0\n",
      "(ClientAppActor pid=19036) [Client] CUDA available in client: True\n",
      "(ClientAppActor pid=19036) PrecomputingClient initialized.\n"
     ]
    },
    {
     "name": "stderr",
     "output_type": "stream",
     "text": [
      "Eval progress:   0%|          | 0/1 [00:00<?, ?batch/s]\n",
      "Eval progress: 100%|██████████| 1/1 [00:00<00:00,  3.75batch/s]\n",
      "(ClientAppActor pid=19036) WARNING :   Deprecation Warning: The `client_fn` function must return an instance of `Client`, but an instance of `NumpyClient` was returned. Please use `NumPyClient.to_client()` method to convert it to `Client`.\n",
      "Eval progress:   0%|          | 0/1 [00:00<?, ?batch/s]\n"
     ]
    },
    {
     "name": "stdout",
     "output_type": "stream",
     "text": [
      "(ClientAppActor pid=19036) [Client] Client on device: cuda:0\n",
      "(ClientAppActor pid=19036) [Client] CUDA available in client: True\n",
      "(ClientAppActor pid=19036) PrecomputingClient initialized.\n"
     ]
    },
    {
     "name": "stderr",
     "output_type": "stream",
     "text": [
      "Eval progress: 100%|██████████| 1/1 [00:00<00:00,  3.74batch/s]\n"
     ]
    },
    {
     "name": "stdout",
     "output_type": "stream",
     "text": [
      "(ClientAppActor pid=19036) [Client] Client on device: cuda:0\n",
      "(ClientAppActor pid=19036) [Client] CUDA available in client: True\n"
     ]
    },
    {
     "name": "stderr",
     "output_type": "stream",
     "text": [
      "(ClientAppActor pid=19036) WARNING :   Deprecation Warning: The `client_fn` function must return an instance of `Client`, but an instance of `NumpyClient` was returned. Please use `NumPyClient.to_client()` method to convert it to `Client`.\n",
      "Eval progress:   0%|          | 0/1 [00:00<?, ?batch/s]\n"
     ]
    },
    {
     "name": "stdout",
     "output_type": "stream",
     "text": [
      "(ClientAppActor pid=19036) PrecomputingClient initialized.\n"
     ]
    },
    {
     "name": "stderr",
     "output_type": "stream",
     "text": [
      "Eval progress: 100%|██████████| 1/1 [00:00<00:00,  3.96batch/s]\n",
      "(ClientAppActor pid=19036) WARNING :   Deprecation Warning: The `client_fn` function must return an instance of `Client`, but an instance of `NumpyClient` was returned. Please use `NumPyClient.to_client()` method to convert it to `Client`.\n"
     ]
    },
    {
     "name": "stdout",
     "output_type": "stream",
     "text": [
      "(ClientAppActor pid=19036) [Client] Client on device: cuda:0\n",
      "(ClientAppActor pid=19036) [Client] CUDA available in client: True\n",
      "(ClientAppActor pid=19036) PrecomputingClient initialized.\n"
     ]
    },
    {
     "name": "stderr",
     "output_type": "stream",
     "text": [
      "Eval progress:   0%|          | 0/1 [00:00<?, ?batch/s]\n",
      "Eval progress: 100%|██████████| 1/1 [00:00<00:00,  3.94batch/s]\n",
      "(ClientAppActor pid=19036) WARNING :   Deprecation Warning: The `client_fn` function must return an instance of `Client`, but an instance of `NumpyClient` was returned. Please use `NumPyClient.to_client()` method to convert it to `Client`.\n",
      "Eval progress:   0%|          | 0/1 [00:00<?, ?batch/s]\n"
     ]
    },
    {
     "name": "stdout",
     "output_type": "stream",
     "text": [
      "(ClientAppActor pid=19036) [Client] Client on device: cuda:0\n",
      "(ClientAppActor pid=19036) [Client] CUDA available in client: True\n",
      "(ClientAppActor pid=19036) PrecomputingClient initialized.\n"
     ]
    },
    {
     "name": "stderr",
     "output_type": "stream",
     "text": [
      "Eval progress: 100%|██████████| 1/1 [00:00<00:00,  3.93batch/s]\n",
      "(ClientAppActor pid=19036) WARNING :   Deprecation Warning: The `client_fn` function must return an instance of `Client`, but an instance of `NumpyClient` was returned. Please use `NumPyClient.to_client()` method to convert it to `Client`.\n"
     ]
    },
    {
     "name": "stdout",
     "output_type": "stream",
     "text": [
      "(ClientAppActor pid=19036) [Client] Client on device: cuda:0\n",
      "(ClientAppActor pid=19036) [Client] CUDA available in client: True\n",
      "(ClientAppActor pid=19036) PrecomputingClient initialized.\n"
     ]
    },
    {
     "name": "stderr",
     "output_type": "stream",
     "text": [
      "Eval progress:   0%|          | 0/1 [00:00<?, ?batch/s]\n",
      "Eval progress: 100%|██████████| 1/1 [00:00<00:00,  3.83batch/s]\n",
      "(ClientAppActor pid=19036) WARNING :   Deprecation Warning: The `client_fn` function must return an instance of `Client`, but an instance of `NumpyClient` was returned. Please use `NumPyClient.to_client()` method to convert it to `Client`.\n"
     ]
    },
    {
     "name": "stdout",
     "output_type": "stream",
     "text": [
      "(ClientAppActor pid=19036) [Client] Client on device: cuda:0\n",
      "(ClientAppActor pid=19036) [Client] CUDA available in client: True\n",
      "(ClientAppActor pid=19036) PrecomputingClient initialized.\n"
     ]
    },
    {
     "name": "stderr",
     "output_type": "stream",
     "text": [
      "Eval progress:   0%|          | 0/1 [00:00<?, ?batch/s]\n",
      "Eval progress: 100%|██████████| 1/1 [00:00<00:00,  3.77batch/s]\n",
      "(ClientAppActor pid=19036) WARNING :   Deprecation Warning: The `client_fn` function must return an instance of `Client`, but an instance of `NumpyClient` was returned. Please use `NumPyClient.to_client()` method to convert it to `Client`.\n",
      "Eval progress:   0%|          | 0/1 [00:00<?, ?batch/s]\n"
     ]
    },
    {
     "name": "stdout",
     "output_type": "stream",
     "text": [
      "(ClientAppActor pid=19036) [Client] Client on device: cuda:0\n",
      "(ClientAppActor pid=19036) [Client] CUDA available in client: True\n",
      "(ClientAppActor pid=19036) PrecomputingClient initialized.\n"
     ]
    },
    {
     "name": "stderr",
     "output_type": "stream",
     "text": [
      "Eval progress: 100%|██████████| 1/1 [00:00<00:00,  3.89batch/s]\n",
      "(ClientAppActor pid=19036) WARNING :   Deprecation Warning: The `client_fn` function must return an instance of `Client`, but an instance of `NumpyClient` was returned. Please use `NumPyClient.to_client()` method to convert it to `Client`.\n"
     ]
    },
    {
     "name": "stdout",
     "output_type": "stream",
     "text": [
      "(ClientAppActor pid=19036) [Client] Client on device: cuda:0\n",
      "(ClientAppActor pid=19036) [Client] CUDA available in client: True\n",
      "(ClientAppActor pid=19036) PrecomputingClient initialized.\n"
     ]
    },
    {
     "name": "stderr",
     "output_type": "stream",
     "text": [
      "Eval progress:   0%|          | 0/1 [00:00<?, ?batch/s]\n",
      "Eval progress: 100%|██████████| 1/1 [00:00<00:00,  3.92batch/s]\n",
      "\u001b[92mINFO \u001b[0m:      aggregate_evaluate: received 10 results and 0 failures\n",
      "\u001b[92mINFO \u001b[0m:      \n",
      "\u001b[92mINFO \u001b[0m:      [ROUND 9]\n",
      "\u001b[92mINFO \u001b[0m:      [Round 9] Quorum updated to: 41\n",
      "\u001b[92mINFO \u001b[0m:      [Round 9] Generated initial global mask with quorum 41. Sparsity: 0.7732\n",
      "\u001b[92mINFO \u001b[0m:      configure_fit: strategy sampled 10 clients (out of 100)\n",
      "(ClientAppActor pid=19036) WARNING :   Deprecation Warning: The `client_fn` function must return an instance of `Client`, but an instance of `NumpyClient` was returned. Please use `NumPyClient.to_client()` method to convert it to `Client`.\n"
     ]
    },
    {
     "name": "stdout",
     "output_type": "stream",
     "text": [
      "(ClientAppActor pid=19036) [Client] Client on device: cuda:0\n",
      "(ClientAppActor pid=19036) [Client] CUDA available in client: True\n",
      "(ClientAppActor pid=19036) PrecomputingClient initialized.\n",
      "(ClientAppActor pid=19036) No prefix/name for the model was provided, choosen prefix/name: happy_pidgey_20\n",
      "(ClientAppActor pid=19036) \n",
      "(ClientAppActor pid=19036) Step 1/8 | Total batches: 4\n",
      "(ClientAppActor pid=19036) Step 2/8 | Total batches: 4\n",
      "(ClientAppActor pid=19036) Step 3/8 | Total batches: 4\n",
      "(ClientAppActor pid=19036) Step 4/8 | Total batches: 4\n",
      "(ClientAppActor pid=19036) Step 5/8 | Total batches: 4\n",
      "(ClientAppActor pid=19036) Step 6/8 | Total batches: 4\n",
      "(ClientAppActor pid=19036) Step 7/8 | Total batches: 4\n",
      "(ClientAppActor pid=19036) Step 8/8 | Total batches: 4\n",
      "(ClientAppActor pid=19036) 🚀 Epoch 1/1 (100.00%) Completed\n",
      "(ClientAppActor pid=19036) \t📊 Training Loss: 0.6953\n",
      "(ClientAppActor pid=19036) \t✅ Training Accuracy: 78.12%\n",
      "(ClientAppActor pid=19036) \t⏳ Elapsed Time: 3.36s | ETA: 0.00s\n",
      "(ClientAppActor pid=19036) \t🕒 Completed At: 19:02\n",
      "(ClientAppActor pid=19036) \n"
     ]
    },
    {
     "name": "stderr",
     "output_type": "stream",
     "text": [
      "(ClientAppActor pid=19036) WARNING :   Deprecation Warning: The `client_fn` function must return an instance of `Client`, but an instance of `NumpyClient` was returned. Please use `NumPyClient.to_client()` method to convert it to `Client`.\n"
     ]
    },
    {
     "name": "stdout",
     "output_type": "stream",
     "text": [
      "(ClientAppActor pid=19036) [Client] Client on device: cuda:0\n",
      "(ClientAppActor pid=19036) [Client] CUDA available in client: True\n",
      "(ClientAppActor pid=19036) PrecomputingClient initialized.\n",
      "(ClientAppActor pid=19036) No prefix/name for the model was provided, choosen prefix/name: peppy_pidgey_69\n",
      "(ClientAppActor pid=19036) \n",
      "(ClientAppActor pid=19036) Step 1/8 | Total batches: 4\n",
      "(ClientAppActor pid=19036) Step 2/8 | Total batches: 4\n",
      "(ClientAppActor pid=19036) Step 3/8 | Total batches: 4\n",
      "(ClientAppActor pid=19036) Step 4/8 | Total batches: 4\n",
      "(ClientAppActor pid=19036) Step 5/8 | Total batches: 4\n",
      "(ClientAppActor pid=19036) Step 6/8 | Total batches: 4\n",
      "(ClientAppActor pid=19036) Step 7/8 | Total batches: 4\n",
      "(ClientAppActor pid=19036) Step 8/8 | Total batches: 4\n",
      "(ClientAppActor pid=19036) 🚀 Epoch 1/1 (100.00%) Completed\n",
      "(ClientAppActor pid=19036) \t📊 Training Loss: 0.4836\n",
      "(ClientAppActor pid=19036) \t✅ Training Accuracy: 86.25%\n",
      "(ClientAppActor pid=19036) \t⏳ Elapsed Time: 3.38s | ETA: 0.00s\n",
      "(ClientAppActor pid=19036) \t🕒 Completed At: 19:02\n",
      "(ClientAppActor pid=19036) \n"
     ]
    },
    {
     "name": "stderr",
     "output_type": "stream",
     "text": [
      "(ClientAppActor pid=19036) WARNING :   Deprecation Warning: The `client_fn` function must return an instance of `Client`, but an instance of `NumpyClient` was returned. Please use `NumPyClient.to_client()` method to convert it to `Client`.\n"
     ]
    },
    {
     "name": "stdout",
     "output_type": "stream",
     "text": [
      "(ClientAppActor pid=19036) [Client] Client on device: cuda:0\n",
      "(ClientAppActor pid=19036) [Client] CUDA available in client: True\n",
      "(ClientAppActor pid=19036) PrecomputingClient initialized.\n",
      "(ClientAppActor pid=19036) No prefix/name for the model was provided, choosen prefix/name: happy_nidoqueen_61\n",
      "(ClientAppActor pid=19036) \n",
      "(ClientAppActor pid=19036) Step 1/8 | Total batches: 4\n",
      "(ClientAppActor pid=19036) Step 2/8 | Total batches: 4\n",
      "(ClientAppActor pid=19036) Step 3/8 | Total batches: 4\n",
      "(ClientAppActor pid=19036) Step 4/8 | Total batches: 4\n",
      "(ClientAppActor pid=19036) Step 5/8 | Total batches: 4\n",
      "(ClientAppActor pid=19036) Step 6/8 | Total batches: 4\n",
      "(ClientAppActor pid=19036) Step 7/8 | Total batches: 4\n",
      "(ClientAppActor pid=19036) Step 8/8 | Total batches: 4\n",
      "(ClientAppActor pid=19036) 🚀 Epoch 1/1 (100.00%) Completed\n",
      "(ClientAppActor pid=19036) \t📊 Training Loss: 0.3059\n",
      "(ClientAppActor pid=19036) \t✅ Training Accuracy: 90.25%\n",
      "(ClientAppActor pid=19036) \t⏳ Elapsed Time: 3.38s | ETA: 0.00s\n",
      "(ClientAppActor pid=19036) \t🕒 Completed At: 19:02\n",
      "(ClientAppActor pid=19036) \n"
     ]
    },
    {
     "name": "stderr",
     "output_type": "stream",
     "text": [
      "(ClientAppActor pid=19036) WARNING :   Deprecation Warning: The `client_fn` function must return an instance of `Client`, but an instance of `NumpyClient` was returned. Please use `NumPyClient.to_client()` method to convert it to `Client`.\n"
     ]
    },
    {
     "name": "stdout",
     "output_type": "stream",
     "text": [
      "(ClientAppActor pid=19036) [Client] Client on device: cuda:0\n",
      "(ClientAppActor pid=19036) [Client] CUDA available in client: True\n",
      "(ClientAppActor pid=19036) PrecomputingClient initialized.\n",
      "(ClientAppActor pid=19036) No prefix/name for the model was provided, choosen prefix/name: happy_blastoise_39\n",
      "(ClientAppActor pid=19036) \n",
      "(ClientAppActor pid=19036) Step 1/8 | Total batches: 4\n",
      "(ClientAppActor pid=19036) Step 2/8 | Total batches: 4\n",
      "(ClientAppActor pid=19036) Step 3/8 | Total batches: 4\n",
      "(ClientAppActor pid=19036) Step 4/8 | Total batches: 4\n",
      "(ClientAppActor pid=19036) Step 5/8 | Total batches: 4\n",
      "(ClientAppActor pid=19036) Step 6/8 | Total batches: 4\n",
      "(ClientAppActor pid=19036) Step 7/8 | Total batches: 4\n",
      "(ClientAppActor pid=19036) Step 8/8 | Total batches: 4\n",
      "(ClientAppActor pid=19036) 🚀 Epoch 1/1 (100.00%) Completed\n",
      "(ClientAppActor pid=19036) \t📊 Training Loss: 0.3222\n",
      "(ClientAppActor pid=19036) \t✅ Training Accuracy: 91.25%\n",
      "(ClientAppActor pid=19036) \t⏳ Elapsed Time: 3.37s | ETA: 0.00s\n",
      "(ClientAppActor pid=19036) \t🕒 Completed At: 19:02\n",
      "(ClientAppActor pid=19036) \n"
     ]
    },
    {
     "name": "stderr",
     "output_type": "stream",
     "text": [
      "(ClientAppActor pid=19036) WARNING :   Deprecation Warning: The `client_fn` function must return an instance of `Client`, but an instance of `NumpyClient` was returned. Please use `NumPyClient.to_client()` method to convert it to `Client`.\n"
     ]
    },
    {
     "name": "stdout",
     "output_type": "stream",
     "text": [
      "(ClientAppActor pid=19036) [Client] Client on device: cuda:0\n",
      "(ClientAppActor pid=19036) [Client] CUDA available in client: True\n",
      "(ClientAppActor pid=19036) PrecomputingClient initialized.\n",
      "(ClientAppActor pid=19036) No prefix/name for the model was provided, choosen prefix/name: sneezy_nidorina_30\n",
      "(ClientAppActor pid=19036) \n",
      "(ClientAppActor pid=19036) Step 1/8 | Total batches: 4\n",
      "(ClientAppActor pid=19036) Step 2/8 | Total batches: 4\n",
      "(ClientAppActor pid=19036) Step 3/8 | Total batches: 4\n",
      "(ClientAppActor pid=19036) Step 4/8 | Total batches: 4\n",
      "(ClientAppActor pid=19036) Step 5/8 | Total batches: 4\n",
      "(ClientAppActor pid=19036) Step 6/8 | Total batches: 4\n",
      "(ClientAppActor pid=19036) Step 7/8 | Total batches: 4\n",
      "(ClientAppActor pid=19036) Step 8/8 | Total batches: 4\n",
      "(ClientAppActor pid=19036) 🚀 Epoch 1/1 (100.00%) Completed\n",
      "(ClientAppActor pid=19036) \t📊 Training Loss: 0.3457\n",
      "(ClientAppActor pid=19036) \t✅ Training Accuracy: 91.12%\n",
      "(ClientAppActor pid=19036) \t⏳ Elapsed Time: 3.38s | ETA: 0.00s\n",
      "(ClientAppActor pid=19036) \t🕒 Completed At: 19:02\n",
      "(ClientAppActor pid=19036) \n"
     ]
    },
    {
     "name": "stderr",
     "output_type": "stream",
     "text": [
      "(ClientAppActor pid=19036) WARNING :   Deprecation Warning: The `client_fn` function must return an instance of `Client`, but an instance of `NumpyClient` was returned. Please use `NumPyClient.to_client()` method to convert it to `Client`.\n"
     ]
    },
    {
     "name": "stdout",
     "output_type": "stream",
     "text": [
      "(ClientAppActor pid=19036) [Client] Client on device: cuda:0\n",
      "(ClientAppActor pid=19036) [Client] CUDA available in client: True\n",
      "(ClientAppActor pid=19036) PrecomputingClient initialized.\n",
      "(ClientAppActor pid=19036) No prefix/name for the model was provided, choosen prefix/name: spunky_raichu_23\n",
      "(ClientAppActor pid=19036) \n",
      "(ClientAppActor pid=19036) Step 1/8 | Total batches: 4\n",
      "(ClientAppActor pid=19036) Step 2/8 | Total batches: 4\n",
      "(ClientAppActor pid=19036) Step 3/8 | Total batches: 4\n",
      "(ClientAppActor pid=19036) Step 4/8 | Total batches: 4\n",
      "(ClientAppActor pid=19036) Step 5/8 | Total batches: 4\n",
      "(ClientAppActor pid=19036) Step 6/8 | Total batches: 4\n",
      "(ClientAppActor pid=19036) Step 7/8 | Total batches: 4\n",
      "(ClientAppActor pid=19036) Step 8/8 | Total batches: 4\n",
      "(ClientAppActor pid=19036) 🚀 Epoch 1/1 (100.00%) Completed\n",
      "(ClientAppActor pid=19036) \t📊 Training Loss: 0.4924\n",
      "(ClientAppActor pid=19036) \t✅ Training Accuracy: 83.00%\n",
      "(ClientAppActor pid=19036) \t⏳ Elapsed Time: 3.38s | ETA: 0.00s\n",
      "(ClientAppActor pid=19036) \t🕒 Completed At: 19:02\n",
      "(ClientAppActor pid=19036) \n"
     ]
    },
    {
     "name": "stderr",
     "output_type": "stream",
     "text": [
      "(ClientAppActor pid=19036) WARNING :   Deprecation Warning: The `client_fn` function must return an instance of `Client`, but an instance of `NumpyClient` was returned. Please use `NumPyClient.to_client()` method to convert it to `Client`.\n"
     ]
    },
    {
     "name": "stdout",
     "output_type": "stream",
     "text": [
      "(ClientAppActor pid=19036) [Client] Client on device: cuda:0\n",
      "(ClientAppActor pid=19036) [Client] CUDA available in client: True\n",
      "(ClientAppActor pid=19036) PrecomputingClient initialized.\n",
      "(ClientAppActor pid=19036) No prefix/name for the model was provided, choosen prefix/name: bubbly_charmeleon_49\n",
      "(ClientAppActor pid=19036) \n",
      "(ClientAppActor pid=19036) Step 1/8 | Total batches: 4\n",
      "(ClientAppActor pid=19036) Step 2/8 | Total batches: 4\n",
      "(ClientAppActor pid=19036) Step 3/8 | Total batches: 4\n",
      "(ClientAppActor pid=19036) Step 4/8 | Total batches: 4\n",
      "(ClientAppActor pid=19036) Step 5/8 | Total batches: 4\n",
      "(ClientAppActor pid=19036) Step 6/8 | Total batches: 4\n",
      "(ClientAppActor pid=19036) Step 7/8 | Total batches: 4\n",
      "(ClientAppActor pid=19036) Step 8/8 | Total batches: 4\n",
      "(ClientAppActor pid=19036) 🚀 Epoch 1/1 (100.00%) Completed\n",
      "(ClientAppActor pid=19036) \t📊 Training Loss: 0.2161\n",
      "(ClientAppActor pid=19036) \t✅ Training Accuracy: 94.50%\n",
      "(ClientAppActor pid=19036) \t⏳ Elapsed Time: 3.39s | ETA: 0.00s\n",
      "(ClientAppActor pid=19036) \t🕒 Completed At: 19:02\n",
      "(ClientAppActor pid=19036) \n"
     ]
    },
    {
     "name": "stderr",
     "output_type": "stream",
     "text": [
      "(ClientAppActor pid=19036) WARNING :   Deprecation Warning: The `client_fn` function must return an instance of `Client`, but an instance of `NumpyClient` was returned. Please use `NumPyClient.to_client()` method to convert it to `Client`.\n"
     ]
    },
    {
     "name": "stdout",
     "output_type": "stream",
     "text": [
      "(ClientAppActor pid=19036) [Client] Client on device: cuda:0\n",
      "(ClientAppActor pid=19036) [Client] CUDA available in client: True\n",
      "(ClientAppActor pid=19036) PrecomputingClient initialized.\n",
      "(ClientAppActor pid=19036) No prefix/name for the model was provided, choosen prefix/name: sassy_clefairy_15\n",
      "(ClientAppActor pid=19036) \n",
      "(ClientAppActor pid=19036) Step 1/8 | Total batches: 4\n",
      "(ClientAppActor pid=19036) Step 2/8 | Total batches: 4\n",
      "(ClientAppActor pid=19036) Step 3/8 | Total batches: 4\n",
      "(ClientAppActor pid=19036) Step 4/8 | Total batches: 4\n",
      "(ClientAppActor pid=19036) Step 5/8 | Total batches: 4\n",
      "(ClientAppActor pid=19036) Step 6/8 | Total batches: 4\n",
      "(ClientAppActor pid=19036) Step 7/8 | Total batches: 4\n",
      "(ClientAppActor pid=19036) Step 8/8 | Total batches: 4\n",
      "(ClientAppActor pid=19036) 🚀 Epoch 1/1 (100.00%) Completed\n",
      "(ClientAppActor pid=19036) \t📊 Training Loss: 0.3512\n",
      "(ClientAppActor pid=19036) \t✅ Training Accuracy: 90.88%\n",
      "(ClientAppActor pid=19036) \t⏳ Elapsed Time: 3.38s | ETA: 0.00s\n",
      "(ClientAppActor pid=19036) \t🕒 Completed At: 19:02\n",
      "(ClientAppActor pid=19036) \n"
     ]
    },
    {
     "name": "stderr",
     "output_type": "stream",
     "text": [
      "(ClientAppActor pid=19036) WARNING :   Deprecation Warning: The `client_fn` function must return an instance of `Client`, but an instance of `NumpyClient` was returned. Please use `NumPyClient.to_client()` method to convert it to `Client`.\n"
     ]
    },
    {
     "name": "stdout",
     "output_type": "stream",
     "text": [
      "(ClientAppActor pid=19036) [Client] Client on device: cuda:0\n",
      "(ClientAppActor pid=19036) [Client] CUDA available in client: True\n",
      "(ClientAppActor pid=19036) PrecomputingClient initialized.\n",
      "(ClientAppActor pid=19036) No prefix/name for the model was provided, choosen prefix/name: soggy_charizard_73\n",
      "(ClientAppActor pid=19036) \n",
      "(ClientAppActor pid=19036) Step 1/8 | Total batches: 4\n",
      "(ClientAppActor pid=19036) Step 2/8 | Total batches: 4\n",
      "(ClientAppActor pid=19036) Step 3/8 | Total batches: 4\n",
      "(ClientAppActor pid=19036) Step 4/8 | Total batches: 4\n",
      "(ClientAppActor pid=19036) Step 5/8 | Total batches: 4\n",
      "(ClientAppActor pid=19036) Step 6/8 | Total batches: 4\n",
      "(ClientAppActor pid=19036) Step 7/8 | Total batches: 4\n",
      "(ClientAppActor pid=19036) Step 8/8 | Total batches: 4\n",
      "(ClientAppActor pid=19036) 🚀 Epoch 1/1 (100.00%) Completed\n",
      "(ClientAppActor pid=19036) \t📊 Training Loss: 0.3378\n",
      "(ClientAppActor pid=19036) \t✅ Training Accuracy: 90.00%\n",
      "(ClientAppActor pid=19036) \t⏳ Elapsed Time: 3.38s | ETA: 0.00s\n",
      "(ClientAppActor pid=19036) \t🕒 Completed At: 19:02\n",
      "(ClientAppActor pid=19036) \n",
      "(ClientAppActor pid=19036) [Client] Client on device: cuda:0\n",
      "(ClientAppActor pid=19036) [Client] CUDA available in client: True\n"
     ]
    },
    {
     "name": "stderr",
     "output_type": "stream",
     "text": [
      "(ClientAppActor pid=19036) WARNING :   Deprecation Warning: The `client_fn` function must return an instance of `Client`, but an instance of `NumpyClient` was returned. Please use `NumPyClient.to_client()` method to convert it to `Client`.\n"
     ]
    },
    {
     "name": "stdout",
     "output_type": "stream",
     "text": [
      "(ClientAppActor pid=19036) PrecomputingClient initialized.\n",
      "(ClientAppActor pid=19036) No prefix/name for the model was provided, choosen prefix/name: itchy_spearow_18\n",
      "(ClientAppActor pid=19036) \n",
      "(ClientAppActor pid=19036) Step 1/8 | Total batches: 4\n",
      "(ClientAppActor pid=19036) Step 2/8 | Total batches: 4\n",
      "(ClientAppActor pid=19036) Step 3/8 | Total batches: 4\n",
      "(ClientAppActor pid=19036) Step 4/8 | Total batches: 4\n",
      "(ClientAppActor pid=19036) Step 5/8 | Total batches: 4\n",
      "(ClientAppActor pid=19036) Step 6/8 | Total batches: 4\n",
      "(ClientAppActor pid=19036) Step 7/8 | Total batches: 4\n",
      "(ClientAppActor pid=19036) Step 8/8 | Total batches: 4\n",
      "(ClientAppActor pid=19036) 🚀 Epoch 1/1 (100.00%) Completed\n",
      "(ClientAppActor pid=19036) \t📊 Training Loss: 0.2026\n",
      "(ClientAppActor pid=19036) \t✅ Training Accuracy: 94.25%\n",
      "(ClientAppActor pid=19036) \t⏳ Elapsed Time: 3.38s | ETA: 0.00s\n",
      "(ClientAppActor pid=19036) \t🕒 Completed At: 19:02\n",
      "(ClientAppActor pid=19036) \n"
     ]
    },
    {
     "name": "stderr",
     "output_type": "stream",
     "text": [
      "\u001b[92mINFO \u001b[0m:      aggregate_fit: received 10 results and 0 failures\n",
      "\u001b[92mINFO \u001b[0m:      [Round 9] Avg Drift: 0.0010 | Relative Drift: 0.0000\n",
      "\u001b[92mINFO \u001b[0m:      [Round 9] Saving aggregated model at epoch 209...\n"
     ]
    },
    {
     "name": "stdout",
     "output_type": "stream",
     "text": [
      "💾 Saved checkpoint at: /Users/ciovi/Desktop/coding/mldl/fl-g13/checkpoints/fl_dino_v4/non_iid/1_8_dynamic-quorum\\fl_Test_Dynamic_Quorum_v2_BaseDino_epoch_209.pth\n",
      "[Server Eval Round 9] Model device: cuda:0\n",
      "[Server Eval Round 9] CUDA available in server eval: True\n"
     ]
    },
    {
     "name": "stderr",
     "output_type": "stream",
     "text": [
      "Eval progress: 100%|██████████| 313/313 [00:22<00:00, 14.07batch/s]\n",
      "\u001b[92mINFO \u001b[0m:      [Round 9] Centralized Evaluation - Loss: 2.5964, Metrics: {'centralized_accuracy': 0.3448}\n",
      "\u001b[92mINFO \u001b[0m:      fit progress: (9, 2.596367757541303, {'centralized_accuracy': 0.3448}, 744.3279685999987)\n",
      "\u001b[92mINFO \u001b[0m:      configure_evaluate: strategy sampled 10 clients (out of 100)\n",
      "(ClientAppActor pid=19036) WARNING :   Deprecation Warning: The `client_fn` function must return an instance of `Client`, but an instance of `NumpyClient` was returned. Please use `NumPyClient.to_client()` method to convert it to `Client`.\n",
      "Eval progress:   0%|          | 0/1 [00:00<?, ?batch/s]\n"
     ]
    },
    {
     "name": "stdout",
     "output_type": "stream",
     "text": [
      "(ClientAppActor pid=19036) [Client] Client on device: cuda:0\n",
      "(ClientAppActor pid=19036) [Client] CUDA available in client: True\n",
      "(ClientAppActor pid=19036) PrecomputingClient initialized.\n"
     ]
    },
    {
     "name": "stderr",
     "output_type": "stream",
     "text": [
      "Eval progress: 100%|██████████| 1/1 [00:00<00:00,  3.82batch/s]\n",
      "(ClientAppActor pid=19036) WARNING :   Deprecation Warning: The `client_fn` function must return an instance of `Client`, but an instance of `NumpyClient` was returned. Please use `NumPyClient.to_client()` method to convert it to `Client`.\n",
      "Eval progress:   0%|          | 0/1 [00:00<?, ?batch/s]\n"
     ]
    },
    {
     "name": "stdout",
     "output_type": "stream",
     "text": [
      "(ClientAppActor pid=19036) [Client] Client on device: cuda:0\n",
      "(ClientAppActor pid=19036) [Client] CUDA available in client: True\n",
      "(ClientAppActor pid=19036) PrecomputingClient initialized.\n"
     ]
    },
    {
     "name": "stderr",
     "output_type": "stream",
     "text": [
      "Eval progress: 100%|██████████| 1/1 [00:00<00:00,  3.93batch/s]\n",
      "(ClientAppActor pid=19036) WARNING :   Deprecation Warning: The `client_fn` function must return an instance of `Client`, but an instance of `NumpyClient` was returned. Please use `NumPyClient.to_client()` method to convert it to `Client`.\n"
     ]
    },
    {
     "name": "stdout",
     "output_type": "stream",
     "text": [
      "(ClientAppActor pid=19036) [Client] Client on device: cuda:0\n",
      "(ClientAppActor pid=19036) [Client] CUDA available in client: True\n",
      "(ClientAppActor pid=19036) PrecomputingClient initialized.\n"
     ]
    },
    {
     "name": "stderr",
     "output_type": "stream",
     "text": [
      "Eval progress:   0%|          | 0/1 [00:00<?, ?batch/s]\n",
      "Eval progress: 100%|██████████| 1/1 [00:00<00:00,  3.90batch/s]\n",
      "(ClientAppActor pid=19036) WARNING :   Deprecation Warning: The `client_fn` function must return an instance of `Client`, but an instance of `NumpyClient` was returned. Please use `NumPyClient.to_client()` method to convert it to `Client`.\n",
      "Eval progress:   0%|          | 0/1 [00:00<?, ?batch/s]\n"
     ]
    },
    {
     "name": "stdout",
     "output_type": "stream",
     "text": [
      "(ClientAppActor pid=19036) [Client] Client on device: cuda:0\n",
      "(ClientAppActor pid=19036) [Client] CUDA available in client: True\n",
      "(ClientAppActor pid=19036) PrecomputingClient initialized.\n"
     ]
    },
    {
     "name": "stderr",
     "output_type": "stream",
     "text": [
      "Eval progress: 100%|██████████| 1/1 [00:00<00:00,  3.91batch/s]\n",
      "(ClientAppActor pid=19036) WARNING :   Deprecation Warning: The `client_fn` function must return an instance of `Client`, but an instance of `NumpyClient` was returned. Please use `NumPyClient.to_client()` method to convert it to `Client`.\n"
     ]
    },
    {
     "name": "stdout",
     "output_type": "stream",
     "text": [
      "(ClientAppActor pid=19036) [Client] Client on device: cuda:0\n",
      "(ClientAppActor pid=19036) [Client] CUDA available in client: True\n",
      "(ClientAppActor pid=19036) PrecomputingClient initialized.\n"
     ]
    },
    {
     "name": "stderr",
     "output_type": "stream",
     "text": [
      "Eval progress:   0%|          | 0/1 [00:00<?, ?batch/s]\n",
      "Eval progress: 100%|██████████| 1/1 [00:00<00:00,  3.93batch/s]\n",
      "(ClientAppActor pid=19036) WARNING :   Deprecation Warning: The `client_fn` function must return an instance of `Client`, but an instance of `NumpyClient` was returned. Please use `NumPyClient.to_client()` method to convert it to `Client`.\n",
      "Eval progress:   0%|          | 0/1 [00:00<?, ?batch/s]\n"
     ]
    },
    {
     "name": "stdout",
     "output_type": "stream",
     "text": [
      "(ClientAppActor pid=19036) [Client] Client on device: cuda:0\n",
      "(ClientAppActor pid=19036) [Client] CUDA available in client: True\n",
      "(ClientAppActor pid=19036) PrecomputingClient initialized.\n"
     ]
    },
    {
     "name": "stderr",
     "output_type": "stream",
     "text": [
      "Eval progress: 100%|██████████| 1/1 [00:00<00:00,  3.89batch/s]\n",
      "(ClientAppActor pid=19036) WARNING :   Deprecation Warning: The `client_fn` function must return an instance of `Client`, but an instance of `NumpyClient` was returned. Please use `NumPyClient.to_client()` method to convert it to `Client`.\n",
      "Eval progress:   0%|          | 0/1 [00:00<?, ?batch/s]\n"
     ]
    },
    {
     "name": "stdout",
     "output_type": "stream",
     "text": [
      "(ClientAppActor pid=19036) [Client] Client on device: cuda:0\n",
      "(ClientAppActor pid=19036) [Client] CUDA available in client: True\n",
      "(ClientAppActor pid=19036) PrecomputingClient initialized.\n"
     ]
    },
    {
     "name": "stderr",
     "output_type": "stream",
     "text": [
      "Eval progress: 100%|██████████| 1/1 [00:00<00:00,  3.92batch/s]\n",
      "(ClientAppActor pid=19036) WARNING :   Deprecation Warning: The `client_fn` function must return an instance of `Client`, but an instance of `NumpyClient` was returned. Please use `NumPyClient.to_client()` method to convert it to `Client`.\n",
      "Eval progress:   0%|          | 0/1 [00:00<?, ?batch/s]\n"
     ]
    },
    {
     "name": "stdout",
     "output_type": "stream",
     "text": [
      "(ClientAppActor pid=19036) [Client] Client on device: cuda:0\n",
      "(ClientAppActor pid=19036) [Client] CUDA available in client: True\n",
      "(ClientAppActor pid=19036) PrecomputingClient initialized.\n"
     ]
    },
    {
     "name": "stderr",
     "output_type": "stream",
     "text": [
      "Eval progress: 100%|██████████| 1/1 [00:00<00:00,  3.94batch/s]\n"
     ]
    },
    {
     "name": "stdout",
     "output_type": "stream",
     "text": [
      "(ClientAppActor pid=19036) [Client] Client on device: cuda:0\n",
      "(ClientAppActor pid=19036) [Client] CUDA available in client: True\n"
     ]
    },
    {
     "name": "stderr",
     "output_type": "stream",
     "text": [
      "(ClientAppActor pid=19036) WARNING :   Deprecation Warning: The `client_fn` function must return an instance of `Client`, but an instance of `NumpyClient` was returned. Please use `NumPyClient.to_client()` method to convert it to `Client`.\n",
      "Eval progress:   0%|          | 0/1 [00:00<?, ?batch/s]\n"
     ]
    },
    {
     "name": "stdout",
     "output_type": "stream",
     "text": [
      "(ClientAppActor pid=19036) PrecomputingClient initialized.\n"
     ]
    },
    {
     "name": "stderr",
     "output_type": "stream",
     "text": [
      "Eval progress: 100%|██████████| 1/1 [00:00<00:00,  3.94batch/s]\n",
      "(ClientAppActor pid=19036) WARNING :   Deprecation Warning: The `client_fn` function must return an instance of `Client`, but an instance of `NumpyClient` was returned. Please use `NumPyClient.to_client()` method to convert it to `Client`.\n",
      "Eval progress:   0%|          | 0/1 [00:00<?, ?batch/s]\n"
     ]
    },
    {
     "name": "stdout",
     "output_type": "stream",
     "text": [
      "(ClientAppActor pid=19036) [Client] Client on device: cuda:0\n",
      "(ClientAppActor pid=19036) [Client] CUDA available in client: True\n",
      "(ClientAppActor pid=19036) PrecomputingClient initialized.\n"
     ]
    },
    {
     "name": "stderr",
     "output_type": "stream",
     "text": [
      "\u001b[92mINFO \u001b[0m:      aggregate_evaluate: received 10 results and 0 failures\n",
      "\u001b[92mINFO \u001b[0m:      \n",
      "\u001b[92mINFO \u001b[0m:      [ROUND 10]\n",
      "\u001b[92mINFO \u001b[0m:      [Round 10] Quorum updated to: 46\n",
      "Eval progress: 100%|██████████| 1/1 [00:00<00:00,  3.78batch/s]\n",
      "\u001b[92mINFO \u001b[0m:      [Round 10] Generated initial global mask with quorum 46. Sparsity: 0.7826\n",
      "\u001b[92mINFO \u001b[0m:      configure_fit: strategy sampled 10 clients (out of 100)\n",
      "(ClientAppActor pid=19036) WARNING :   Deprecation Warning: The `client_fn` function must return an instance of `Client`, but an instance of `NumpyClient` was returned. Please use `NumPyClient.to_client()` method to convert it to `Client`.\n"
     ]
    },
    {
     "name": "stdout",
     "output_type": "stream",
     "text": [
      "(ClientAppActor pid=19036) [Client] Client on device: cuda:0\n",
      "(ClientAppActor pid=19036) [Client] CUDA available in client: True\n",
      "(ClientAppActor pid=19036) PrecomputingClient initialized.\n",
      "(ClientAppActor pid=19036) No prefix/name for the model was provided, choosen prefix/name: mushy_spearow_39\n",
      "(ClientAppActor pid=19036) \n",
      "(ClientAppActor pid=19036) Step 1/8 | Total batches: 4\n",
      "(ClientAppActor pid=19036) Step 2/8 | Total batches: 4\n",
      "(ClientAppActor pid=19036) Step 3/8 | Total batches: 4\n",
      "(ClientAppActor pid=19036) Step 4/8 | Total batches: 4\n",
      "(ClientAppActor pid=19036) Step 5/8 | Total batches: 4\n",
      "(ClientAppActor pid=19036) Step 6/8 | Total batches: 4\n",
      "(ClientAppActor pid=19036) Step 7/8 | Total batches: 4\n",
      "(ClientAppActor pid=19036) Step 8/8 | Total batches: 4\n",
      "(ClientAppActor pid=19036) 🚀 Epoch 1/1 (100.00%) Completed\n",
      "(ClientAppActor pid=19036) \t📊 Training Loss: 0.9898\n",
      "(ClientAppActor pid=19036) \t✅ Training Accuracy: 71.38%\n",
      "(ClientAppActor pid=19036) \t⏳ Elapsed Time: 3.36s | ETA: 0.00s\n",
      "(ClientAppActor pid=19036) \t🕒 Completed At: 19:03\n",
      "(ClientAppActor pid=19036) \n"
     ]
    },
    {
     "name": "stderr",
     "output_type": "stream",
     "text": [
      "(ClientAppActor pid=19036) WARNING :   Deprecation Warning: The `client_fn` function must return an instance of `Client`, but an instance of `NumpyClient` was returned. Please use `NumPyClient.to_client()` method to convert it to `Client`.\n"
     ]
    },
    {
     "name": "stdout",
     "output_type": "stream",
     "text": [
      "(ClientAppActor pid=19036) [Client] Client on device: cuda:0\n",
      "(ClientAppActor pid=19036) [Client] CUDA available in client: True\n",
      "(ClientAppActor pid=19036) PrecomputingClient initialized.\n",
      "(ClientAppActor pid=19036) No prefix/name for the model was provided, choosen prefix/name: spooky_arbok_82\n",
      "(ClientAppActor pid=19036) \n",
      "(ClientAppActor pid=19036) Step 1/8 | Total batches: 4\n",
      "(ClientAppActor pid=19036) Step 2/8 | Total batches: 4\n",
      "(ClientAppActor pid=19036) Step 3/8 | Total batches: 4\n",
      "(ClientAppActor pid=19036) Step 4/8 | Total batches: 4\n",
      "(ClientAppActor pid=19036) Step 5/8 | Total batches: 4\n",
      "(ClientAppActor pid=19036) Step 6/8 | Total batches: 4\n",
      "(ClientAppActor pid=19036) Step 7/8 | Total batches: 4\n",
      "(ClientAppActor pid=19036) Step 8/8 | Total batches: 4\n",
      "(ClientAppActor pid=19036) 🚀 Epoch 1/1 (100.00%) Completed\n",
      "(ClientAppActor pid=19036) \t📊 Training Loss: 0.7776\n",
      "(ClientAppActor pid=19036) \t✅ Training Accuracy: 75.75%\n",
      "(ClientAppActor pid=19036) \t⏳ Elapsed Time: 3.39s | ETA: 0.00s\n",
      "(ClientAppActor pid=19036) \t🕒 Completed At: 19:03\n",
      "(ClientAppActor pid=19036) \n",
      "(ClientAppActor pid=19036) [Client] Client on device: cuda:0\n",
      "(ClientAppActor pid=19036) [Client] CUDA available in client: True\n"
     ]
    },
    {
     "name": "stderr",
     "output_type": "stream",
     "text": [
      "(ClientAppActor pid=19036) WARNING :   Deprecation Warning: The `client_fn` function must return an instance of `Client`, but an instance of `NumpyClient` was returned. Please use `NumPyClient.to_client()` method to convert it to `Client`.\n"
     ]
    },
    {
     "name": "stdout",
     "output_type": "stream",
     "text": [
      "(ClientAppActor pid=19036) PrecomputingClient initialized.\n",
      "(ClientAppActor pid=19036) No prefix/name for the model was provided, choosen prefix/name: wacky_fearow_11\n",
      "(ClientAppActor pid=19036) \n",
      "(ClientAppActor pid=19036) Step 1/8 | Total batches: 4\n",
      "(ClientAppActor pid=19036) Step 2/8 | Total batches: 4\n",
      "(ClientAppActor pid=19036) Step 3/8 | Total batches: 4\n",
      "(ClientAppActor pid=19036) Step 4/8 | Total batches: 4\n",
      "(ClientAppActor pid=19036) Step 5/8 | Total batches: 4\n",
      "(ClientAppActor pid=19036) Step 6/8 | Total batches: 4\n",
      "(ClientAppActor pid=19036) Step 7/8 | Total batches: 4\n",
      "(ClientAppActor pid=19036) Step 8/8 | Total batches: 4\n",
      "(ClientAppActor pid=19036) 🚀 Epoch 1/1 (100.00%) Completed\n",
      "(ClientAppActor pid=19036) \t📊 Training Loss: 0.4214\n",
      "(ClientAppActor pid=19036) \t✅ Training Accuracy: 86.12%\n",
      "(ClientAppActor pid=19036) \t⏳ Elapsed Time: 3.39s | ETA: 0.00s\n",
      "(ClientAppActor pid=19036) \t🕒 Completed At: 19:03\n",
      "(ClientAppActor pid=19036) \n"
     ]
    },
    {
     "name": "stderr",
     "output_type": "stream",
     "text": [
      "(ClientAppActor pid=19036) WARNING :   Deprecation Warning: The `client_fn` function must return an instance of `Client`, but an instance of `NumpyClient` was returned. Please use `NumPyClient.to_client()` method to convert it to `Client`.\n"
     ]
    },
    {
     "name": "stdout",
     "output_type": "stream",
     "text": [
      "(ClientAppActor pid=19036) [Client] Client on device: cuda:0\n",
      "(ClientAppActor pid=19036) [Client] CUDA available in client: True\n",
      "(ClientAppActor pid=19036) PrecomputingClient initialized.\n",
      "(ClientAppActor pid=19036) No prefix/name for the model was provided, choosen prefix/name: zany_ivysaur_76\n",
      "(ClientAppActor pid=19036) \n",
      "(ClientAppActor pid=19036) Step 1/8 | Total batches: 4\n",
      "(ClientAppActor pid=19036) Step 2/8 | Total batches: 4\n",
      "(ClientAppActor pid=19036) Step 3/8 | Total batches: 4\n",
      "(ClientAppActor pid=19036) Step 4/8 | Total batches: 4\n",
      "(ClientAppActor pid=19036) Step 5/8 | Total batches: 4\n",
      "(ClientAppActor pid=19036) Step 6/8 | Total batches: 4\n",
      "(ClientAppActor pid=19036) Step 7/8 | Total batches: 4\n",
      "(ClientAppActor pid=19036) Step 8/8 | Total batches: 4\n",
      "(ClientAppActor pid=19036) 🚀 Epoch 1/1 (100.00%) Completed\n",
      "(ClientAppActor pid=19036) \t📊 Training Loss: 0.6897\n",
      "(ClientAppActor pid=19036) \t✅ Training Accuracy: 77.50%\n",
      "(ClientAppActor pid=19036) \t⏳ Elapsed Time: 3.38s | ETA: 0.00s\n",
      "(ClientAppActor pid=19036) \t🕒 Completed At: 19:03\n",
      "(ClientAppActor pid=19036) \n"
     ]
    },
    {
     "name": "stderr",
     "output_type": "stream",
     "text": [
      "(ClientAppActor pid=19036) WARNING :   Deprecation Warning: The `client_fn` function must return an instance of `Client`, but an instance of `NumpyClient` was returned. Please use `NumPyClient.to_client()` method to convert it to `Client`.\n"
     ]
    },
    {
     "name": "stdout",
     "output_type": "stream",
     "text": [
      "(ClientAppActor pid=19036) [Client] Client on device: cuda:0\n",
      "(ClientAppActor pid=19036) [Client] CUDA available in client: True\n",
      "(ClientAppActor pid=19036) PrecomputingClient initialized.\n",
      "(ClientAppActor pid=19036) No prefix/name for the model was provided, choosen prefix/name: sneezy_blastoise_73\n",
      "(ClientAppActor pid=19036) \n",
      "(ClientAppActor pid=19036) Step 1/8 | Total batches: 4\n",
      "(ClientAppActor pid=19036) Step 2/8 | Total batches: 4\n",
      "(ClientAppActor pid=19036) Step 3/8 | Total batches: 4\n",
      "(ClientAppActor pid=19036) Step 4/8 | Total batches: 4\n",
      "(ClientAppActor pid=19036) Step 5/8 | Total batches: 4\n",
      "(ClientAppActor pid=19036) Step 6/8 | Total batches: 4\n",
      "(ClientAppActor pid=19036) Step 7/8 | Total batches: 4\n",
      "(ClientAppActor pid=19036) Step 8/8 | Total batches: 4\n",
      "(ClientAppActor pid=19036) 🚀 Epoch 1/1 (100.00%) Completed\n",
      "(ClientAppActor pid=19036) \t📊 Training Loss: 0.5354\n",
      "(ClientAppActor pid=19036) \t✅ Training Accuracy: 83.25%\n",
      "(ClientAppActor pid=19036) \t⏳ Elapsed Time: 3.54s | ETA: 0.00s\n",
      "(ClientAppActor pid=19036) \t🕒 Completed At: 19:03\n",
      "(ClientAppActor pid=19036) \n"
     ]
    },
    {
     "name": "stderr",
     "output_type": "stream",
     "text": [
      "(ClientAppActor pid=19036) WARNING :   Deprecation Warning: The `client_fn` function must return an instance of `Client`, but an instance of `NumpyClient` was returned. Please use `NumPyClient.to_client()` method to convert it to `Client`.\n"
     ]
    },
    {
     "name": "stdout",
     "output_type": "stream",
     "text": [
      "(ClientAppActor pid=19036) [Client] Client on device: cuda:0\n",
      "(ClientAppActor pid=19036) [Client] CUDA available in client: True\n",
      "(ClientAppActor pid=19036) PrecomputingClient initialized.\n",
      "(ClientAppActor pid=19036) No prefix/name for the model was provided, choosen prefix/name: sneezy_sandshrew_34\n",
      "(ClientAppActor pid=19036) \n",
      "(ClientAppActor pid=19036) Step 1/8 | Total batches: 4\n",
      "(ClientAppActor pid=19036) Step 2/8 | Total batches: 4\n",
      "(ClientAppActor pid=19036) Step 3/8 | Total batches: 4\n",
      "(ClientAppActor pid=19036) Step 4/8 | Total batches: 4\n",
      "(ClientAppActor pid=19036) Step 5/8 | Total batches: 4\n",
      "(ClientAppActor pid=19036) Step 6/8 | Total batches: 4\n",
      "(ClientAppActor pid=19036) Step 7/8 | Total batches: 4\n",
      "(ClientAppActor pid=19036) Step 8/8 | Total batches: 4\n",
      "(ClientAppActor pid=19036) 🚀 Epoch 1/1 (100.00%) Completed\n",
      "(ClientAppActor pid=19036) \t📊 Training Loss: 0.9330\n",
      "(ClientAppActor pid=19036) \t✅ Training Accuracy: 73.25%\n",
      "(ClientAppActor pid=19036) \t⏳ Elapsed Time: 3.38s | ETA: 0.00s\n",
      "(ClientAppActor pid=19036) \t🕒 Completed At: 19:03\n",
      "(ClientAppActor pid=19036) \n"
     ]
    },
    {
     "name": "stderr",
     "output_type": "stream",
     "text": [
      "(ClientAppActor pid=19036) WARNING :   Deprecation Warning: The `client_fn` function must return an instance of `Client`, but an instance of `NumpyClient` was returned. Please use `NumPyClient.to_client()` method to convert it to `Client`.\n"
     ]
    },
    {
     "name": "stdout",
     "output_type": "stream",
     "text": [
      "(ClientAppActor pid=19036) [Client] Client on device: cuda:0\n",
      "(ClientAppActor pid=19036) [Client] CUDA available in client: True\n",
      "(ClientAppActor pid=19036) PrecomputingClient initialized.\n",
      "(ClientAppActor pid=19036) No prefix/name for the model was provided, choosen prefix/name: zippy_nidoking_20\n",
      "(ClientAppActor pid=19036) \n",
      "(ClientAppActor pid=19036) Step 1/8 | Total batches: 4\n",
      "(ClientAppActor pid=19036) Step 2/8 | Total batches: 4\n",
      "(ClientAppActor pid=19036) Step 3/8 | Total batches: 4\n",
      "(ClientAppActor pid=19036) Step 4/8 | Total batches: 4\n",
      "(ClientAppActor pid=19036) Step 5/8 | Total batches: 4\n",
      "(ClientAppActor pid=19036) Step 6/8 | Total batches: 4\n",
      "(ClientAppActor pid=19036) Step 7/8 | Total batches: 4\n",
      "(ClientAppActor pid=19036) Step 8/8 | Total batches: 4\n",
      "(ClientAppActor pid=19036) 🚀 Epoch 1/1 (100.00%) Completed\n",
      "(ClientAppActor pid=19036) \t📊 Training Loss: 0.3291\n",
      "(ClientAppActor pid=19036) \t✅ Training Accuracy: 88.25%\n",
      "(ClientAppActor pid=19036) \t⏳ Elapsed Time: 3.39s | ETA: 0.00s\n",
      "(ClientAppActor pid=19036) \t🕒 Completed At: 19:03\n",
      "(ClientAppActor pid=19036) \n",
      "(ClientAppActor pid=19036) [Client] Client on device: cuda:0\n",
      "(ClientAppActor pid=19036) [Client] CUDA available in client: True\n"
     ]
    },
    {
     "name": "stderr",
     "output_type": "stream",
     "text": [
      "(ClientAppActor pid=19036) WARNING :   Deprecation Warning: The `client_fn` function must return an instance of `Client`, but an instance of `NumpyClient` was returned. Please use `NumPyClient.to_client()` method to convert it to `Client`.\n"
     ]
    },
    {
     "name": "stdout",
     "output_type": "stream",
     "text": [
      "(ClientAppActor pid=19036) PrecomputingClient initialized.\n",
      "(ClientAppActor pid=19036) No prefix/name for the model was provided, choosen prefix/name: jazzy_weedle_14\n",
      "(ClientAppActor pid=19036) \n",
      "(ClientAppActor pid=19036) Step 1/8 | Total batches: 4\n",
      "(ClientAppActor pid=19036) Step 2/8 | Total batches: 4\n",
      "(ClientAppActor pid=19036) Step 3/8 | Total batches: 4\n",
      "(ClientAppActor pid=19036) Step 4/8 | Total batches: 4\n",
      "(ClientAppActor pid=19036) Step 5/8 | Total batches: 4\n",
      "(ClientAppActor pid=19036) Step 6/8 | Total batches: 4\n",
      "(ClientAppActor pid=19036) Step 7/8 | Total batches: 4\n",
      "(ClientAppActor pid=19036) Step 8/8 | Total batches: 4\n",
      "(ClientAppActor pid=19036) 🚀 Epoch 1/1 (100.00%) Completed\n",
      "(ClientAppActor pid=19036) \t📊 Training Loss: 0.6780\n",
      "(ClientAppActor pid=19036) \t✅ Training Accuracy: 74.88%\n",
      "(ClientAppActor pid=19036) \t⏳ Elapsed Time: 3.39s | ETA: 0.00s\n",
      "(ClientAppActor pid=19036) \t🕒 Completed At: 19:04\n",
      "(ClientAppActor pid=19036) \n"
     ]
    },
    {
     "name": "stderr",
     "output_type": "stream",
     "text": [
      "(ClientAppActor pid=19036) WARNING :   Deprecation Warning: The `client_fn` function must return an instance of `Client`, but an instance of `NumpyClient` was returned. Please use `NumPyClient.to_client()` method to convert it to `Client`.\n"
     ]
    },
    {
     "name": "stdout",
     "output_type": "stream",
     "text": [
      "(ClientAppActor pid=19036) [Client] Client on device: cuda:0\n",
      "(ClientAppActor pid=19036) [Client] CUDA available in client: True\n",
      "(ClientAppActor pid=19036) PrecomputingClient initialized.\n",
      "(ClientAppActor pid=19036) No prefix/name for the model was provided, choosen prefix/name: cranky_wartortle_22\n",
      "(ClientAppActor pid=19036) \n",
      "(ClientAppActor pid=19036) Step 1/8 | Total batches: 4\n",
      "(ClientAppActor pid=19036) Step 2/8 | Total batches: 4\n",
      "(ClientAppActor pid=19036) Step 3/8 | Total batches: 4\n",
      "(ClientAppActor pid=19036) Step 4/8 | Total batches: 4\n",
      "(ClientAppActor pid=19036) Step 5/8 | Total batches: 4\n",
      "(ClientAppActor pid=19036) Step 6/8 | Total batches: 4\n",
      "(ClientAppActor pid=19036) Step 7/8 | Total batches: 4\n",
      "(ClientAppActor pid=19036) Step 8/8 | Total batches: 4\n",
      "(ClientAppActor pid=19036) 🚀 Epoch 1/1 (100.00%) Completed\n",
      "(ClientAppActor pid=19036) \t📊 Training Loss: 0.4344\n",
      "(ClientAppActor pid=19036) \t✅ Training Accuracy: 88.50%\n",
      "(ClientAppActor pid=19036) \t⏳ Elapsed Time: 3.39s | ETA: 0.00s\n",
      "(ClientAppActor pid=19036) \t🕒 Completed At: 19:04\n",
      "(ClientAppActor pid=19036) \n"
     ]
    },
    {
     "name": "stderr",
     "output_type": "stream",
     "text": [
      "(ClientAppActor pid=19036) WARNING :   Deprecation Warning: The `client_fn` function must return an instance of `Client`, but an instance of `NumpyClient` was returned. Please use `NumPyClient.to_client()` method to convert it to `Client`.\n"
     ]
    },
    {
     "name": "stdout",
     "output_type": "stream",
     "text": [
      "(ClientAppActor pid=19036) [Client] Client on device: cuda:0\n",
      "(ClientAppActor pid=19036) [Client] CUDA available in client: True\n",
      "(ClientAppActor pid=19036) PrecomputingClient initialized.\n",
      "(ClientAppActor pid=19036) No prefix/name for the model was provided, choosen prefix/name: plucky_nidoran_26\n",
      "(ClientAppActor pid=19036) \n",
      "(ClientAppActor pid=19036) Step 1/8 | Total batches: 4\n",
      "(ClientAppActor pid=19036) Step 2/8 | Total batches: 4\n",
      "(ClientAppActor pid=19036) Step 3/8 | Total batches: 4\n",
      "(ClientAppActor pid=19036) Step 4/8 | Total batches: 4\n",
      "(ClientAppActor pid=19036) Step 5/8 | Total batches: 4\n",
      "(ClientAppActor pid=19036) Step 6/8 | Total batches: 4\n",
      "(ClientAppActor pid=19036) Step 7/8 | Total batches: 4\n",
      "(ClientAppActor pid=19036) Step 8/8 | Total batches: 4\n",
      "(ClientAppActor pid=19036) 🚀 Epoch 1/1 (100.00%) Completed\n",
      "(ClientAppActor pid=19036) \t📊 Training Loss: 0.5203\n",
      "(ClientAppActor pid=19036) \t✅ Training Accuracy: 83.38%\n",
      "(ClientAppActor pid=19036) \t⏳ Elapsed Time: 3.38s | ETA: 0.00s\n",
      "(ClientAppActor pid=19036) \t🕒 Completed At: 19:04\n",
      "(ClientAppActor pid=19036) \n"
     ]
    },
    {
     "name": "stderr",
     "output_type": "stream",
     "text": [
      "\u001b[92mINFO \u001b[0m:      aggregate_fit: received 10 results and 0 failures\n",
      "\u001b[92mINFO \u001b[0m:      [Round 10] Avg Drift: 0.0011 | Relative Drift: 0.0000\n",
      "\u001b[92mINFO \u001b[0m:      [Round 10] Saving aggregated model at epoch 210...\n"
     ]
    },
    {
     "name": "stdout",
     "output_type": "stream",
     "text": [
      "💾 Saved checkpoint at: /Users/ciovi/Desktop/coding/mldl/fl-g13/checkpoints/fl_dino_v4/non_iid/1_8_dynamic-quorum\\fl_Test_Dynamic_Quorum_v2_BaseDino_epoch_210.pth\n",
      "[Server Eval Round 10] Model device: cuda:0\n",
      "[Server Eval Round 10] CUDA available in server eval: True\n"
     ]
    },
    {
     "name": "stderr",
     "output_type": "stream",
     "text": [
      "Eval progress: 100%|██████████| 313/313 [00:22<00:00, 14.06batch/s]\n",
      "\u001b[92mINFO \u001b[0m:      [Round 10] Centralized Evaluation - Loss: 2.4651, Metrics: {'centralized_accuracy': 0.3728}\n",
      "\u001b[92mINFO \u001b[0m:      fit progress: (10, 2.4650997719444785, {'centralized_accuracy': 0.3728}, 824.9772600999968)\n",
      "\u001b[92mINFO \u001b[0m:      configure_evaluate: strategy sampled 10 clients (out of 100)\n",
      "(ClientAppActor pid=19036) WARNING :   Deprecation Warning: The `client_fn` function must return an instance of `Client`, but an instance of `NumpyClient` was returned. Please use `NumPyClient.to_client()` method to convert it to `Client`.\n",
      "Eval progress:   0%|          | 0/1 [00:00<?, ?batch/s]\n"
     ]
    },
    {
     "name": "stdout",
     "output_type": "stream",
     "text": [
      "(ClientAppActor pid=19036) [Client] Client on device: cuda:0\n",
      "(ClientAppActor pid=19036) [Client] CUDA available in client: True\n",
      "(ClientAppActor pid=19036) PrecomputingClient initialized.\n"
     ]
    },
    {
     "name": "stderr",
     "output_type": "stream",
     "text": [
      "Eval progress: 100%|██████████| 1/1 [00:00<00:00,  3.87batch/s]\n",
      "(ClientAppActor pid=19036) WARNING :   Deprecation Warning: The `client_fn` function must return an instance of `Client`, but an instance of `NumpyClient` was returned. Please use `NumPyClient.to_client()` method to convert it to `Client`.\n",
      "Eval progress:   0%|          | 0/1 [00:00<?, ?batch/s]\n"
     ]
    },
    {
     "name": "stdout",
     "output_type": "stream",
     "text": [
      "(ClientAppActor pid=19036) [Client] Client on device: cuda:0\n",
      "(ClientAppActor pid=19036) [Client] CUDA available in client: True\n",
      "(ClientAppActor pid=19036) PrecomputingClient initialized.\n"
     ]
    },
    {
     "name": "stderr",
     "output_type": "stream",
     "text": [
      "Eval progress: 100%|██████████| 1/1 [00:00<00:00,  3.87batch/s]\n",
      "(ClientAppActor pid=19036) WARNING :   Deprecation Warning: The `client_fn` function must return an instance of `Client`, but an instance of `NumpyClient` was returned. Please use `NumPyClient.to_client()` method to convert it to `Client`.\n",
      "Eval progress:   0%|          | 0/1 [00:00<?, ?batch/s]\n"
     ]
    },
    {
     "name": "stdout",
     "output_type": "stream",
     "text": [
      "(ClientAppActor pid=19036) [Client] Client on device: cuda:0\n",
      "(ClientAppActor pid=19036) [Client] CUDA available in client: True\n",
      "(ClientAppActor pid=19036) PrecomputingClient initialized.\n"
     ]
    },
    {
     "name": "stderr",
     "output_type": "stream",
     "text": [
      "Eval progress: 100%|██████████| 1/1 [00:00<00:00,  3.93batch/s]\n",
      "(ClientAppActor pid=19036) WARNING :   Deprecation Warning: The `client_fn` function must return an instance of `Client`, but an instance of `NumpyClient` was returned. Please use `NumPyClient.to_client()` method to convert it to `Client`.\n"
     ]
    },
    {
     "name": "stdout",
     "output_type": "stream",
     "text": [
      "(ClientAppActor pid=19036) [Client] Client on device: cuda:0\n",
      "(ClientAppActor pid=19036) [Client] CUDA available in client: True\n",
      "(ClientAppActor pid=19036) PrecomputingClient initialized.\n"
     ]
    },
    {
     "name": "stderr",
     "output_type": "stream",
     "text": [
      "Eval progress:   0%|          | 0/1 [00:00<?, ?batch/s]\n",
      "Eval progress: 100%|██████████| 1/1 [00:00<00:00,  3.93batch/s]\n",
      "(ClientAppActor pid=19036) WARNING :   Deprecation Warning: The `client_fn` function must return an instance of `Client`, but an instance of `NumpyClient` was returned. Please use `NumPyClient.to_client()` method to convert it to `Client`.\n",
      "Eval progress:   0%|          | 0/1 [00:00<?, ?batch/s]\n"
     ]
    },
    {
     "name": "stdout",
     "output_type": "stream",
     "text": [
      "(ClientAppActor pid=19036) [Client] Client on device: cuda:0\n",
      "(ClientAppActor pid=19036) [Client] CUDA available in client: True\n",
      "(ClientAppActor pid=19036) PrecomputingClient initialized.\n"
     ]
    },
    {
     "name": "stderr",
     "output_type": "stream",
     "text": [
      "Eval progress: 100%|██████████| 1/1 [00:00<00:00,  3.88batch/s]\n",
      "(ClientAppActor pid=19036) WARNING :   Deprecation Warning: The `client_fn` function must return an instance of `Client`, but an instance of `NumpyClient` was returned. Please use `NumPyClient.to_client()` method to convert it to `Client`.\n"
     ]
    },
    {
     "name": "stdout",
     "output_type": "stream",
     "text": [
      "(ClientAppActor pid=19036) [Client] Client on device: cuda:0\n",
      "(ClientAppActor pid=19036) [Client] CUDA available in client: True\n",
      "(ClientAppActor pid=19036) PrecomputingClient initialized.\n"
     ]
    },
    {
     "name": "stderr",
     "output_type": "stream",
     "text": [
      "Eval progress:   0%|          | 0/1 [00:00<?, ?batch/s]\n",
      "Eval progress: 100%|██████████| 1/1 [00:00<00:00,  3.98batch/s]\n"
     ]
    },
    {
     "name": "stdout",
     "output_type": "stream",
     "text": [
      "(ClientAppActor pid=19036) [Client] Client on device: cuda:0\n",
      "(ClientAppActor pid=19036) [Client] CUDA available in client: True\n"
     ]
    },
    {
     "name": "stderr",
     "output_type": "stream",
     "text": [
      "(ClientAppActor pid=19036) WARNING :   Deprecation Warning: The `client_fn` function must return an instance of `Client`, but an instance of `NumpyClient` was returned. Please use `NumPyClient.to_client()` method to convert it to `Client`.\n",
      "Eval progress:   0%|          | 0/1 [00:00<?, ?batch/s]\n"
     ]
    },
    {
     "name": "stdout",
     "output_type": "stream",
     "text": [
      "(ClientAppActor pid=19036) PrecomputingClient initialized.\n"
     ]
    },
    {
     "name": "stderr",
     "output_type": "stream",
     "text": [
      "Eval progress: 100%|██████████| 1/1 [00:00<00:00,  3.96batch/s]\n",
      "(ClientAppActor pid=19036) WARNING :   Deprecation Warning: The `client_fn` function must return an instance of `Client`, but an instance of `NumpyClient` was returned. Please use `NumPyClient.to_client()` method to convert it to `Client`.\n"
     ]
    },
    {
     "name": "stdout",
     "output_type": "stream",
     "text": [
      "(ClientAppActor pid=19036) [Client] Client on device: cuda:0\n",
      "(ClientAppActor pid=19036) [Client] CUDA available in client: True\n",
      "(ClientAppActor pid=19036) PrecomputingClient initialized.\n"
     ]
    },
    {
     "name": "stderr",
     "output_type": "stream",
     "text": [
      "Eval progress:   0%|          | 0/1 [00:00<?, ?batch/s]\n",
      "Eval progress: 100%|██████████| 1/1 [00:00<00:00,  3.79batch/s]\n",
      "(ClientAppActor pid=19036) WARNING :   Deprecation Warning: The `client_fn` function must return an instance of `Client`, but an instance of `NumpyClient` was returned. Please use `NumPyClient.to_client()` method to convert it to `Client`.\n",
      "Eval progress:   0%|          | 0/1 [00:00<?, ?batch/s]\n"
     ]
    },
    {
     "name": "stdout",
     "output_type": "stream",
     "text": [
      "(ClientAppActor pid=19036) [Client] Client on device: cuda:0\n",
      "(ClientAppActor pid=19036) [Client] CUDA available in client: True\n",
      "(ClientAppActor pid=19036) PrecomputingClient initialized.\n"
     ]
    },
    {
     "name": "stderr",
     "output_type": "stream",
     "text": [
      "Eval progress: 100%|██████████| 1/1 [00:00<00:00,  3.93batch/s]\n",
      "(ClientAppActor pid=19036) WARNING :   Deprecation Warning: The `client_fn` function must return an instance of `Client`, but an instance of `NumpyClient` was returned. Please use `NumPyClient.to_client()` method to convert it to `Client`.\n",
      "Eval progress:   0%|          | 0/1 [00:00<?, ?batch/s]\n"
     ]
    },
    {
     "name": "stdout",
     "output_type": "stream",
     "text": [
      "(ClientAppActor pid=19036) [Client] Client on device: cuda:0\n",
      "(ClientAppActor pid=19036) [Client] CUDA available in client: True\n",
      "(ClientAppActor pid=19036) PrecomputingClient initialized.\n"
     ]
    },
    {
     "name": "stderr",
     "output_type": "stream",
     "text": [
      "\u001b[92mINFO \u001b[0m:      aggregate_evaluate: received 10 results and 0 failures\n",
      "\u001b[92mINFO \u001b[0m:      \n",
      "\u001b[92mINFO \u001b[0m:      [ROUND 11]\n",
      "\u001b[92mINFO \u001b[0m:      [Round 11] Quorum updated to: 51\n",
      "Eval progress: 100%|██████████| 1/1 [00:00<00:00,  3.90batch/s]\n",
      "\u001b[92mINFO \u001b[0m:      [Round 11] Generated initial global mask with quorum 51. Sparsity: 0.7928\n",
      "\u001b[92mINFO \u001b[0m:      configure_fit: strategy sampled 10 clients (out of 100)\n",
      "(ClientAppActor pid=19036) WARNING :   Deprecation Warning: The `client_fn` function must return an instance of `Client`, but an instance of `NumpyClient` was returned. Please use `NumPyClient.to_client()` method to convert it to `Client`.\n"
     ]
    },
    {
     "name": "stdout",
     "output_type": "stream",
     "text": [
      "(ClientAppActor pid=19036) [Client] Client on device: cuda:0\n",
      "(ClientAppActor pid=19036) [Client] CUDA available in client: True\n",
      "(ClientAppActor pid=19036) PrecomputingClient initialized.\n",
      "(ClientAppActor pid=19036) No prefix/name for the model was provided, choosen prefix/name: witty_ivysaur_52\n",
      "(ClientAppActor pid=19036) \n",
      "(ClientAppActor pid=19036) Step 1/8 | Total batches: 4\n",
      "(ClientAppActor pid=19036) Step 2/8 | Total batches: 4\n",
      "(ClientAppActor pid=19036) Step 3/8 | Total batches: 4\n",
      "(ClientAppActor pid=19036) Step 4/8 | Total batches: 4\n",
      "(ClientAppActor pid=19036) Step 5/8 | Total batches: 4\n",
      "(ClientAppActor pid=19036) Step 6/8 | Total batches: 4\n",
      "(ClientAppActor pid=19036) Step 7/8 | Total batches: 4\n",
      "(ClientAppActor pid=19036) Step 8/8 | Total batches: 4\n",
      "(ClientAppActor pid=19036) 🚀 Epoch 1/1 (100.00%) Completed\n",
      "(ClientAppActor pid=19036) \t📊 Training Loss: 0.6655\n",
      "(ClientAppActor pid=19036) \t✅ Training Accuracy: 77.25%\n",
      "(ClientAppActor pid=19036) \t⏳ Elapsed Time: 3.36s | ETA: 0.00s\n",
      "(ClientAppActor pid=19036) \t🕒 Completed At: 19:04\n",
      "(ClientAppActor pid=19036) \n"
     ]
    },
    {
     "name": "stderr",
     "output_type": "stream",
     "text": [
      "(ClientAppActor pid=19036) WARNING :   Deprecation Warning: The `client_fn` function must return an instance of `Client`, but an instance of `NumpyClient` was returned. Please use `NumPyClient.to_client()` method to convert it to `Client`.\n"
     ]
    },
    {
     "name": "stdout",
     "output_type": "stream",
     "text": [
      "(ClientAppActor pid=19036) [Client] Client on device: cuda:0\n",
      "(ClientAppActor pid=19036) [Client] CUDA available in client: True\n",
      "(ClientAppActor pid=19036) PrecomputingClient initialized.\n",
      "(ClientAppActor pid=19036) No prefix/name for the model was provided, choosen prefix/name: loopy_nidorina_19\n",
      "(ClientAppActor pid=19036) \n",
      "(ClientAppActor pid=19036) Step 1/8 | Total batches: 4\n",
      "(ClientAppActor pid=19036) Step 2/8 | Total batches: 4\n",
      "(ClientAppActor pid=19036) Step 3/8 | Total batches: 4\n",
      "(ClientAppActor pid=19036) Step 4/8 | Total batches: 4\n",
      "(ClientAppActor pid=19036) Step 5/8 | Total batches: 4\n",
      "(ClientAppActor pid=19036) Step 6/8 | Total batches: 4\n",
      "(ClientAppActor pid=19036) Step 7/8 | Total batches: 4\n",
      "(ClientAppActor pid=19036) Step 8/8 | Total batches: 4\n",
      "(ClientAppActor pid=19036) 🚀 Epoch 1/1 (100.00%) Completed\n",
      "(ClientAppActor pid=19036) \t📊 Training Loss: 0.5969\n",
      "(ClientAppActor pid=19036) \t✅ Training Accuracy: 81.25%\n",
      "(ClientAppActor pid=19036) \t⏳ Elapsed Time: 3.37s | ETA: 0.00s\n",
      "(ClientAppActor pid=19036) \t🕒 Completed At: 19:04\n",
      "(ClientAppActor pid=19036) \n"
     ]
    },
    {
     "name": "stderr",
     "output_type": "stream",
     "text": [
      "(ClientAppActor pid=19036) WARNING :   Deprecation Warning: The `client_fn` function must return an instance of `Client`, but an instance of `NumpyClient` was returned. Please use `NumPyClient.to_client()` method to convert it to `Client`.\n"
     ]
    },
    {
     "name": "stdout",
     "output_type": "stream",
     "text": [
      "(ClientAppActor pid=19036) [Client] Client on device: cuda:0\n",
      "(ClientAppActor pid=19036) [Client] CUDA available in client: True\n",
      "(ClientAppActor pid=19036) PrecomputingClient initialized.\n",
      "(ClientAppActor pid=19036) No prefix/name for the model was provided, choosen prefix/name: witty_spearow_18\n",
      "(ClientAppActor pid=19036) \n",
      "(ClientAppActor pid=19036) Step 1/8 | Total batches: 4\n",
      "(ClientAppActor pid=19036) Step 2/8 | Total batches: 4\n",
      "(ClientAppActor pid=19036) Step 3/8 | Total batches: 4\n",
      "(ClientAppActor pid=19036) Step 4/8 | Total batches: 4\n",
      "(ClientAppActor pid=19036) Step 5/8 | Total batches: 4\n",
      "(ClientAppActor pid=19036) Step 6/8 | Total batches: 4\n",
      "(ClientAppActor pid=19036) Step 7/8 | Total batches: 4\n",
      "(ClientAppActor pid=19036) Step 8/8 | Total batches: 4\n",
      "(ClientAppActor pid=19036) 🚀 Epoch 1/1 (100.00%) Completed\n",
      "(ClientAppActor pid=19036) \t📊 Training Loss: 0.6034\n",
      "(ClientAppActor pid=19036) \t✅ Training Accuracy: 84.88%\n",
      "(ClientAppActor pid=19036) \t⏳ Elapsed Time: 3.40s | ETA: 0.00s\n",
      "(ClientAppActor pid=19036) \t🕒 Completed At: 19:04\n",
      "(ClientAppActor pid=19036) \n"
     ]
    },
    {
     "name": "stderr",
     "output_type": "stream",
     "text": [
      "(ClientAppActor pid=19036) WARNING :   Deprecation Warning: The `client_fn` function must return an instance of `Client`, but an instance of `NumpyClient` was returned. Please use `NumPyClient.to_client()` method to convert it to `Client`.\n"
     ]
    },
    {
     "name": "stdout",
     "output_type": "stream",
     "text": [
      "(ClientAppActor pid=19036) [Client] Client on device: cuda:0\n",
      "(ClientAppActor pid=19036) [Client] CUDA available in client: True\n",
      "(ClientAppActor pid=19036) PrecomputingClient initialized.\n",
      "(ClientAppActor pid=19036) No prefix/name for the model was provided, choosen prefix/name: zany_caterpie_59\n",
      "(ClientAppActor pid=19036) \n",
      "(ClientAppActor pid=19036) Step 1/8 | Total batches: 4\n",
      "(ClientAppActor pid=19036) Step 2/8 | Total batches: 4\n",
      "(ClientAppActor pid=19036) Step 3/8 | Total batches: 4\n",
      "(ClientAppActor pid=19036) Step 4/8 | Total batches: 4\n",
      "(ClientAppActor pid=19036) Step 5/8 | Total batches: 4\n",
      "(ClientAppActor pid=19036) Step 6/8 | Total batches: 4\n",
      "(ClientAppActor pid=19036) Step 7/8 | Total batches: 4\n",
      "(ClientAppActor pid=19036) Step 8/8 | Total batches: 4\n",
      "(ClientAppActor pid=19036) 🚀 Epoch 1/1 (100.00%) Completed\n",
      "(ClientAppActor pid=19036) \t📊 Training Loss: 0.4451\n",
      "(ClientAppActor pid=19036) \t✅ Training Accuracy: 85.25%\n",
      "(ClientAppActor pid=19036) \t⏳ Elapsed Time: 3.40s | ETA: 0.00s\n",
      "(ClientAppActor pid=19036) \t🕒 Completed At: 19:05\n",
      "(ClientAppActor pid=19036) \n"
     ]
    },
    {
     "name": "stderr",
     "output_type": "stream",
     "text": [
      "(ClientAppActor pid=19036) WARNING :   Deprecation Warning: The `client_fn` function must return an instance of `Client`, but an instance of `NumpyClient` was returned. Please use `NumPyClient.to_client()` method to convert it to `Client`.\n"
     ]
    },
    {
     "name": "stdout",
     "output_type": "stream",
     "text": [
      "(ClientAppActor pid=19036) [Client] Client on device: cuda:0\n",
      "(ClientAppActor pid=19036) [Client] CUDA available in client: True\n",
      "(ClientAppActor pid=19036) PrecomputingClient initialized.\n",
      "(ClientAppActor pid=19036) No prefix/name for the model was provided, choosen prefix/name: dizzy_ekans_80\n",
      "(ClientAppActor pid=19036) \n",
      "(ClientAppActor pid=19036) Step 1/8 | Total batches: 4\n",
      "(ClientAppActor pid=19036) Step 2/8 | Total batches: 4\n",
      "(ClientAppActor pid=19036) Step 3/8 | Total batches: 4\n",
      "(ClientAppActor pid=19036) Step 4/8 | Total batches: 4\n",
      "(ClientAppActor pid=19036) Step 5/8 | Total batches: 4\n",
      "(ClientAppActor pid=19036) Step 6/8 | Total batches: 4\n",
      "(ClientAppActor pid=19036) Step 7/8 | Total batches: 4\n",
      "(ClientAppActor pid=19036) Step 8/8 | Total batches: 4\n",
      "(ClientAppActor pid=19036) 🚀 Epoch 1/1 (100.00%) Completed\n",
      "(ClientAppActor pid=19036) \t📊 Training Loss: 0.3819\n",
      "(ClientAppActor pid=19036) \t✅ Training Accuracy: 86.75%\n",
      "(ClientAppActor pid=19036) \t⏳ Elapsed Time: 3.38s | ETA: 0.00s\n",
      "(ClientAppActor pid=19036) \t🕒 Completed At: 19:05\n",
      "(ClientAppActor pid=19036) \n"
     ]
    },
    {
     "name": "stderr",
     "output_type": "stream",
     "text": [
      "(ClientAppActor pid=19036) WARNING :   Deprecation Warning: The `client_fn` function must return an instance of `Client`, but an instance of `NumpyClient` was returned. Please use `NumPyClient.to_client()` method to convert it to `Client`.\n"
     ]
    },
    {
     "name": "stdout",
     "output_type": "stream",
     "text": [
      "(ClientAppActor pid=19036) [Client] Client on device: cuda:0\n",
      "(ClientAppActor pid=19036) [Client] CUDA available in client: True\n",
      "(ClientAppActor pid=19036) PrecomputingClient initialized.\n",
      "(ClientAppActor pid=19036) No prefix/name for the model was provided, choosen prefix/name: quirky_spearow_75\n",
      "(ClientAppActor pid=19036) \n",
      "(ClientAppActor pid=19036) Step 1/8 | Total batches: 4\n",
      "(ClientAppActor pid=19036) Step 2/8 | Total batches: 4\n",
      "(ClientAppActor pid=19036) Step 3/8 | Total batches: 4\n",
      "(ClientAppActor pid=19036) Step 4/8 | Total batches: 4\n",
      "(ClientAppActor pid=19036) Step 5/8 | Total batches: 4\n",
      "(ClientAppActor pid=19036) Step 6/8 | Total batches: 4\n",
      "(ClientAppActor pid=19036) Step 7/8 | Total batches: 4\n",
      "(ClientAppActor pid=19036) Step 8/8 | Total batches: 4\n",
      "(ClientAppActor pid=19036) 🚀 Epoch 1/1 (100.00%) Completed\n",
      "(ClientAppActor pid=19036) \t📊 Training Loss: 0.4942\n",
      "(ClientAppActor pid=19036) \t✅ Training Accuracy: 83.50%\n",
      "(ClientAppActor pid=19036) \t⏳ Elapsed Time: 3.39s | ETA: 0.00s\n",
      "(ClientAppActor pid=19036) \t🕒 Completed At: 19:05\n",
      "(ClientAppActor pid=19036) \n"
     ]
    },
    {
     "name": "stderr",
     "output_type": "stream",
     "text": [
      "(ClientAppActor pid=19036) WARNING :   Deprecation Warning: The `client_fn` function must return an instance of `Client`, but an instance of `NumpyClient` was returned. Please use `NumPyClient.to_client()` method to convert it to `Client`.\n"
     ]
    },
    {
     "name": "stdout",
     "output_type": "stream",
     "text": [
      "(ClientAppActor pid=19036) [Client] Client on device: cuda:0\n",
      "(ClientAppActor pid=19036) [Client] CUDA available in client: True\n",
      "(ClientAppActor pid=19036) PrecomputingClient initialized.\n",
      "(ClientAppActor pid=19036) No prefix/name for the model was provided, choosen prefix/name: jumpy_ekans_43\n",
      "(ClientAppActor pid=19036) \n",
      "(ClientAppActor pid=19036) Step 1/8 | Total batches: 4\n",
      "(ClientAppActor pid=19036) Step 2/8 | Total batches: 4\n",
      "(ClientAppActor pid=19036) Step 3/8 | Total batches: 4\n",
      "(ClientAppActor pid=19036) Step 4/8 | Total batches: 4\n",
      "(ClientAppActor pid=19036) Step 5/8 | Total batches: 4\n",
      "(ClientAppActor pid=19036) Step 6/8 | Total batches: 4\n",
      "(ClientAppActor pid=19036) Step 7/8 | Total batches: 4\n",
      "(ClientAppActor pid=19036) Step 8/8 | Total batches: 4\n",
      "(ClientAppActor pid=19036) 🚀 Epoch 1/1 (100.00%) Completed\n",
      "(ClientAppActor pid=19036) \t📊 Training Loss: 0.7989\n",
      "(ClientAppActor pid=19036) \t✅ Training Accuracy: 76.38%\n",
      "(ClientAppActor pid=19036) \t⏳ Elapsed Time: 3.38s | ETA: 0.00s\n",
      "(ClientAppActor pid=19036) \t🕒 Completed At: 19:05\n",
      "(ClientAppActor pid=19036) \n",
      "(ClientAppActor pid=19036) [Client] Client on device: cuda:0\n",
      "(ClientAppActor pid=19036) [Client] CUDA available in client: True\n"
     ]
    },
    {
     "name": "stderr",
     "output_type": "stream",
     "text": [
      "(ClientAppActor pid=19036) WARNING :   Deprecation Warning: The `client_fn` function must return an instance of `Client`, but an instance of `NumpyClient` was returned. Please use `NumPyClient.to_client()` method to convert it to `Client`.\n"
     ]
    },
    {
     "name": "stdout",
     "output_type": "stream",
     "text": [
      "(ClientAppActor pid=19036) PrecomputingClient initialized.\n",
      "(ClientAppActor pid=19036) No prefix/name for the model was provided, choosen prefix/name: cranky_butterfree_73\n",
      "(ClientAppActor pid=19036) \n",
      "(ClientAppActor pid=19036) Step 1/8 | Total batches: 4\n",
      "(ClientAppActor pid=19036) Step 2/8 | Total batches: 4\n",
      "(ClientAppActor pid=19036) Step 3/8 | Total batches: 4\n",
      "(ClientAppActor pid=19036) Step 4/8 | Total batches: 4\n",
      "(ClientAppActor pid=19036) Step 5/8 | Total batches: 4\n",
      "(ClientAppActor pid=19036) Step 6/8 | Total batches: 4\n",
      "(ClientAppActor pid=19036) Step 7/8 | Total batches: 4\n",
      "(ClientAppActor pid=19036) Step 8/8 | Total batches: 4\n",
      "(ClientAppActor pid=19036) 🚀 Epoch 1/1 (100.00%) Completed\n",
      "(ClientAppActor pid=19036) \t📊 Training Loss: 0.4671\n",
      "(ClientAppActor pid=19036) \t✅ Training Accuracy: 85.75%\n",
      "(ClientAppActor pid=19036) \t⏳ Elapsed Time: 3.39s | ETA: 0.00s\n",
      "(ClientAppActor pid=19036) \t🕒 Completed At: 19:05\n",
      "(ClientAppActor pid=19036) \n"
     ]
    },
    {
     "name": "stderr",
     "output_type": "stream",
     "text": [
      "(ClientAppActor pid=19036) WARNING :   Deprecation Warning: The `client_fn` function must return an instance of `Client`, but an instance of `NumpyClient` was returned. Please use `NumPyClient.to_client()` method to convert it to `Client`.\n"
     ]
    },
    {
     "name": "stdout",
     "output_type": "stream",
     "text": [
      "(ClientAppActor pid=19036) [Client] Client on device: cuda:0\n",
      "(ClientAppActor pid=19036) [Client] CUDA available in client: True\n",
      "(ClientAppActor pid=19036) PrecomputingClient initialized.\n",
      "(ClientAppActor pid=19036) No prefix/name for the model was provided, choosen prefix/name: perky_wartortle_57\n",
      "(ClientAppActor pid=19036) \n",
      "(ClientAppActor pid=19036) Step 1/8 | Total batches: 4\n",
      "(ClientAppActor pid=19036) Step 2/8 | Total batches: 4\n",
      "(ClientAppActor pid=19036) Step 3/8 | Total batches: 4\n",
      "(ClientAppActor pid=19036) Step 4/8 | Total batches: 4\n",
      "(ClientAppActor pid=19036) Step 5/8 | Total batches: 4\n",
      "(ClientAppActor pid=19036) Step 6/8 | Total batches: 4\n",
      "(ClientAppActor pid=19036) Step 7/8 | Total batches: 4\n",
      "(ClientAppActor pid=19036) Step 8/8 | Total batches: 4\n",
      "(ClientAppActor pid=19036) 🚀 Epoch 1/1 (100.00%) Completed\n",
      "(ClientAppActor pid=19036) \t📊 Training Loss: 0.7133\n",
      "(ClientAppActor pid=19036) \t✅ Training Accuracy: 73.12%\n",
      "(ClientAppActor pid=19036) \t⏳ Elapsed Time: 3.38s | ETA: 0.00s\n",
      "(ClientAppActor pid=19036) \t🕒 Completed At: 19:05\n",
      "(ClientAppActor pid=19036) \n"
     ]
    },
    {
     "name": "stderr",
     "output_type": "stream",
     "text": [
      "(ClientAppActor pid=19036) WARNING :   Deprecation Warning: The `client_fn` function must return an instance of `Client`, but an instance of `NumpyClient` was returned. Please use `NumPyClient.to_client()` method to convert it to `Client`.\n"
     ]
    },
    {
     "name": "stdout",
     "output_type": "stream",
     "text": [
      "(ClientAppActor pid=19036) [Client] Client on device: cuda:0\n",
      "(ClientAppActor pid=19036) [Client] CUDA available in client: True\n",
      "(ClientAppActor pid=19036) PrecomputingClient initialized.\n",
      "(ClientAppActor pid=19036) No prefix/name for the model was provided, choosen prefix/name: zippy_caterpie_76\n",
      "(ClientAppActor pid=19036) \n",
      "(ClientAppActor pid=19036) Step 1/8 | Total batches: 4\n",
      "(ClientAppActor pid=19036) Step 2/8 | Total batches: 4\n",
      "(ClientAppActor pid=19036) Step 3/8 | Total batches: 4\n",
      "(ClientAppActor pid=19036) Step 4/8 | Total batches: 4\n",
      "(ClientAppActor pid=19036) Step 5/8 | Total batches: 4\n",
      "(ClientAppActor pid=19036) Step 6/8 | Total batches: 4\n",
      "(ClientAppActor pid=19036) Step 7/8 | Total batches: 4\n",
      "(ClientAppActor pid=19036) Step 8/8 | Total batches: 4\n",
      "(ClientAppActor pid=19036) 🚀 Epoch 1/1 (100.00%) Completed\n",
      "(ClientAppActor pid=19036) \t📊 Training Loss: 0.3548\n",
      "(ClientAppActor pid=19036) \t✅ Training Accuracy: 85.25%\n",
      "(ClientAppActor pid=19036) \t⏳ Elapsed Time: 3.39s | ETA: 0.00s\n",
      "(ClientAppActor pid=19036) \t🕒 Completed At: 19:05\n",
      "(ClientAppActor pid=19036) \n"
     ]
    },
    {
     "name": "stderr",
     "output_type": "stream",
     "text": [
      "\u001b[92mINFO \u001b[0m:      aggregate_fit: received 10 results and 0 failures\n",
      "\u001b[92mINFO \u001b[0m:      [Round 11] Avg Drift: 0.0010 | Relative Drift: 0.0000\n",
      "\u001b[92mINFO \u001b[0m:      [Round 11] Saving aggregated model at epoch 211...\n"
     ]
    },
    {
     "name": "stdout",
     "output_type": "stream",
     "text": [
      "💾 Saved checkpoint at: /Users/ciovi/Desktop/coding/mldl/fl-g13/checkpoints/fl_dino_v4/non_iid/1_8_dynamic-quorum\\fl_Test_Dynamic_Quorum_v2_BaseDino_epoch_211.pth\n",
      "[Server Eval Round 11] Model device: cuda:0\n",
      "[Server Eval Round 11] CUDA available in server eval: True\n"
     ]
    },
    {
     "name": "stderr",
     "output_type": "stream",
     "text": [
      "Eval progress: 100%|██████████| 313/313 [00:22<00:00, 14.04batch/s]\n",
      "\u001b[92mINFO \u001b[0m:      [Round 11] Centralized Evaluation - Loss: 2.3646, Metrics: {'centralized_accuracy': 0.4}\n",
      "\u001b[92mINFO \u001b[0m:      fit progress: (11, 2.364574604141065, {'centralized_accuracy': 0.4}, 905.1693133999979)\n",
      "\u001b[92mINFO \u001b[0m:      configure_evaluate: strategy sampled 10 clients (out of 100)\n",
      "(ClientAppActor pid=19036) WARNING :   Deprecation Warning: The `client_fn` function must return an instance of `Client`, but an instance of `NumpyClient` was returned. Please use `NumPyClient.to_client()` method to convert it to `Client`.\n"
     ]
    },
    {
     "name": "stdout",
     "output_type": "stream",
     "text": [
      "(ClientAppActor pid=19036) [Client] Client on device: cuda:0\n",
      "(ClientAppActor pid=19036) [Client] CUDA available in client: True\n",
      "(ClientAppActor pid=19036) PrecomputingClient initialized.\n"
     ]
    },
    {
     "name": "stderr",
     "output_type": "stream",
     "text": [
      "Eval progress:   0%|          | 0/1 [00:00<?, ?batch/s]\n",
      "Eval progress: 100%|██████████| 1/1 [00:00<00:00,  3.85batch/s]\n",
      "(ClientAppActor pid=19036) WARNING :   Deprecation Warning: The `client_fn` function must return an instance of `Client`, but an instance of `NumpyClient` was returned. Please use `NumPyClient.to_client()` method to convert it to `Client`.\n",
      "Eval progress:   0%|          | 0/1 [00:00<?, ?batch/s]\n"
     ]
    },
    {
     "name": "stdout",
     "output_type": "stream",
     "text": [
      "(ClientAppActor pid=19036) [Client] Client on device: cuda:0\n",
      "(ClientAppActor pid=19036) [Client] CUDA available in client: True\n",
      "(ClientAppActor pid=19036) PrecomputingClient initialized.\n"
     ]
    },
    {
     "name": "stderr",
     "output_type": "stream",
     "text": [
      "Eval progress: 100%|██████████| 1/1 [00:00<00:00,  3.91batch/s]\n",
      "(ClientAppActor pid=19036) WARNING :   Deprecation Warning: The `client_fn` function must return an instance of `Client`, but an instance of `NumpyClient` was returned. Please use `NumPyClient.to_client()` method to convert it to `Client`.\n"
     ]
    },
    {
     "name": "stdout",
     "output_type": "stream",
     "text": [
      "(ClientAppActor pid=19036) [Client] Client on device: cuda:0\n",
      "(ClientAppActor pid=19036) [Client] CUDA available in client: True\n",
      "(ClientAppActor pid=19036) PrecomputingClient initialized.\n"
     ]
    },
    {
     "name": "stderr",
     "output_type": "stream",
     "text": [
      "Eval progress:   0%|          | 0/1 [00:00<?, ?batch/s]\n",
      "Eval progress: 100%|██████████| 1/1 [00:00<00:00,  3.92batch/s]\n",
      "(ClientAppActor pid=19036) WARNING :   Deprecation Warning: The `client_fn` function must return an instance of `Client`, but an instance of `NumpyClient` was returned. Please use `NumPyClient.to_client()` method to convert it to `Client`.\n"
     ]
    },
    {
     "name": "stdout",
     "output_type": "stream",
     "text": [
      "(ClientAppActor pid=19036) [Client] Client on device: cuda:0\n",
      "(ClientAppActor pid=19036) [Client] CUDA available in client: True\n",
      "(ClientAppActor pid=19036) PrecomputingClient initialized.\n"
     ]
    },
    {
     "name": "stderr",
     "output_type": "stream",
     "text": [
      "Eval progress:   0%|          | 0/1 [00:00<?, ?batch/s]\n",
      "Eval progress: 100%|██████████| 1/1 [00:00<00:00,  3.91batch/s]\n",
      "(ClientAppActor pid=19036) WARNING :   Deprecation Warning: The `client_fn` function must return an instance of `Client`, but an instance of `NumpyClient` was returned. Please use `NumPyClient.to_client()` method to convert it to `Client`.\n",
      "Eval progress:   0%|          | 0/1 [00:00<?, ?batch/s]\n"
     ]
    },
    {
     "name": "stdout",
     "output_type": "stream",
     "text": [
      "(ClientAppActor pid=19036) [Client] Client on device: cuda:0\n",
      "(ClientAppActor pid=19036) [Client] CUDA available in client: True\n",
      "(ClientAppActor pid=19036) PrecomputingClient initialized.\n"
     ]
    },
    {
     "name": "stderr",
     "output_type": "stream",
     "text": [
      "Eval progress: 100%|██████████| 1/1 [00:00<00:00,  3.91batch/s]\n",
      "(ClientAppActor pid=19036) WARNING :   Deprecation Warning: The `client_fn` function must return an instance of `Client`, but an instance of `NumpyClient` was returned. Please use `NumPyClient.to_client()` method to convert it to `Client`.\n"
     ]
    },
    {
     "name": "stdout",
     "output_type": "stream",
     "text": [
      "(ClientAppActor pid=19036) [Client] Client on device: cuda:0\n",
      "(ClientAppActor pid=19036) [Client] CUDA available in client: True\n",
      "(ClientAppActor pid=19036) PrecomputingClient initialized.\n"
     ]
    },
    {
     "name": "stderr",
     "output_type": "stream",
     "text": [
      "Eval progress:   0%|          | 0/1 [00:00<?, ?batch/s]\n",
      "Eval progress: 100%|██████████| 1/1 [00:00<00:00,  3.62batch/s]\n",
      "(ClientAppActor pid=19036) WARNING :   Deprecation Warning: The `client_fn` function must return an instance of `Client`, but an instance of `NumpyClient` was returned. Please use `NumPyClient.to_client()` method to convert it to `Client`.\n",
      "Eval progress:   0%|          | 0/1 [00:00<?, ?batch/s]\n"
     ]
    },
    {
     "name": "stdout",
     "output_type": "stream",
     "text": [
      "(ClientAppActor pid=19036) [Client] Client on device: cuda:0\n",
      "(ClientAppActor pid=19036) [Client] CUDA available in client: True\n",
      "(ClientAppActor pid=19036) PrecomputingClient initialized.\n"
     ]
    },
    {
     "name": "stderr",
     "output_type": "stream",
     "text": [
      "Eval progress: 100%|██████████| 1/1 [00:00<00:00,  3.91batch/s]\n"
     ]
    },
    {
     "name": "stdout",
     "output_type": "stream",
     "text": [
      "(ClientAppActor pid=19036) [Client] Client on device: cuda:0\n",
      "(ClientAppActor pid=19036) [Client] CUDA available in client: True\n"
     ]
    },
    {
     "name": "stderr",
     "output_type": "stream",
     "text": [
      "(ClientAppActor pid=19036) WARNING :   Deprecation Warning: The `client_fn` function must return an instance of `Client`, but an instance of `NumpyClient` was returned. Please use `NumPyClient.to_client()` method to convert it to `Client`.\n",
      "Eval progress:   0%|          | 0/1 [00:00<?, ?batch/s]\n"
     ]
    },
    {
     "name": "stdout",
     "output_type": "stream",
     "text": [
      "(ClientAppActor pid=19036) PrecomputingClient initialized.\n"
     ]
    },
    {
     "name": "stderr",
     "output_type": "stream",
     "text": [
      "Eval progress: 100%|██████████| 1/1 [00:00<00:00,  3.94batch/s]\n",
      "(ClientAppActor pid=19036) WARNING :   Deprecation Warning: The `client_fn` function must return an instance of `Client`, but an instance of `NumpyClient` was returned. Please use `NumPyClient.to_client()` method to convert it to `Client`.\n"
     ]
    },
    {
     "name": "stdout",
     "output_type": "stream",
     "text": [
      "(ClientAppActor pid=19036) [Client] Client on device: cuda:0\n",
      "(ClientAppActor pid=19036) [Client] CUDA available in client: True\n",
      "(ClientAppActor pid=19036) PrecomputingClient initialized.\n"
     ]
    },
    {
     "name": "stderr",
     "output_type": "stream",
     "text": [
      "Eval progress:   0%|          | 0/1 [00:00<?, ?batch/s]\n",
      "Eval progress: 100%|██████████| 1/1 [00:00<00:00,  3.91batch/s]\n",
      "(ClientAppActor pid=19036) WARNING :   Deprecation Warning: The `client_fn` function must return an instance of `Client`, but an instance of `NumpyClient` was returned. Please use `NumPyClient.to_client()` method to convert it to `Client`.\n"
     ]
    },
    {
     "name": "stdout",
     "output_type": "stream",
     "text": [
      "(ClientAppActor pid=19036) [Client] Client on device: cuda:0\n",
      "(ClientAppActor pid=19036) [Client] CUDA available in client: True\n",
      "(ClientAppActor pid=19036) PrecomputingClient initialized.\n"
     ]
    },
    {
     "name": "stderr",
     "output_type": "stream",
     "text": [
      "Eval progress:   0%|          | 0/1 [00:00<?, ?batch/s]\n",
      "Eval progress: 100%|██████████| 1/1 [00:00<00:00,  3.89batch/s]\n",
      "\u001b[92mINFO \u001b[0m:      aggregate_evaluate: received 10 results and 0 failures\n",
      "\u001b[92mINFO \u001b[0m:      \n",
      "\u001b[92mINFO \u001b[0m:      [ROUND 12]\n",
      "\u001b[92mINFO \u001b[0m:      [Round 12] Quorum updated to: 56\n",
      "\u001b[92mINFO \u001b[0m:      [Round 12] Generated initial global mask with quorum 56. Sparsity: 0.8039\n",
      "\u001b[92mINFO \u001b[0m:      configure_fit: strategy sampled 10 clients (out of 100)\n",
      "(ClientAppActor pid=19036) WARNING :   Deprecation Warning: The `client_fn` function must return an instance of `Client`, but an instance of `NumpyClient` was returned. Please use `NumPyClient.to_client()` method to convert it to `Client`.\n"
     ]
    },
    {
     "name": "stdout",
     "output_type": "stream",
     "text": [
      "(ClientAppActor pid=19036) [Client] Client on device: cuda:0\n",
      "(ClientAppActor pid=19036) [Client] CUDA available in client: True\n",
      "(ClientAppActor pid=19036) PrecomputingClient initialized.\n",
      "(ClientAppActor pid=19036) No prefix/name for the model was provided, choosen prefix/name: mushy_beedrill_16\n",
      "(ClientAppActor pid=19036) \n",
      "(ClientAppActor pid=19036) Step 1/8 | Total batches: 4\n",
      "(ClientAppActor pid=19036) Step 2/8 | Total batches: 4\n",
      "(ClientAppActor pid=19036) Step 3/8 | Total batches: 4\n",
      "(ClientAppActor pid=19036) Step 4/8 | Total batches: 4\n",
      "(ClientAppActor pid=19036) Step 5/8 | Total batches: 4\n",
      "(ClientAppActor pid=19036) Step 6/8 | Total batches: 4\n",
      "(ClientAppActor pid=19036) Step 7/8 | Total batches: 4\n",
      "(ClientAppActor pid=19036) Step 8/8 | Total batches: 4\n",
      "(ClientAppActor pid=19036) 🚀 Epoch 1/1 (100.00%) Completed\n",
      "(ClientAppActor pid=19036) \t📊 Training Loss: 0.5531\n",
      "(ClientAppActor pid=19036) \t✅ Training Accuracy: 80.38%\n",
      "(ClientAppActor pid=19036) \t⏳ Elapsed Time: 3.36s | ETA: 0.00s\n",
      "(ClientAppActor pid=19036) \t🕒 Completed At: 19:06\n",
      "(ClientAppActor pid=19036) \n"
     ]
    },
    {
     "name": "stderr",
     "output_type": "stream",
     "text": [
      "(ClientAppActor pid=19036) WARNING :   Deprecation Warning: The `client_fn` function must return an instance of `Client`, but an instance of `NumpyClient` was returned. Please use `NumPyClient.to_client()` method to convert it to `Client`.\n"
     ]
    },
    {
     "name": "stdout",
     "output_type": "stream",
     "text": [
      "(ClientAppActor pid=19036) [Client] Client on device: cuda:0\n",
      "(ClientAppActor pid=19036) [Client] CUDA available in client: True\n",
      "(ClientAppActor pid=19036) PrecomputingClient initialized.\n",
      "(ClientAppActor pid=19036) No prefix/name for the model was provided, choosen prefix/name: spooky_kakuna_47\n",
      "(ClientAppActor pid=19036) \n",
      "(ClientAppActor pid=19036) Step 1/8 | Total batches: 4\n",
      "(ClientAppActor pid=19036) Step 2/8 | Total batches: 4\n",
      "(ClientAppActor pid=19036) Step 3/8 | Total batches: 4\n",
      "(ClientAppActor pid=19036) Step 4/8 | Total batches: 4\n",
      "(ClientAppActor pid=19036) Step 5/8 | Total batches: 4\n",
      "(ClientAppActor pid=19036) Step 6/8 | Total batches: 4\n",
      "(ClientAppActor pid=19036) Step 7/8 | Total batches: 4\n",
      "(ClientAppActor pid=19036) Step 8/8 | Total batches: 4\n",
      "(ClientAppActor pid=19036) 🚀 Epoch 1/1 (100.00%) Completed\n",
      "(ClientAppActor pid=19036) \t📊 Training Loss: 0.2303\n",
      "(ClientAppActor pid=19036) \t✅ Training Accuracy: 95.12%\n",
      "(ClientAppActor pid=19036) \t⏳ Elapsed Time: 3.38s | ETA: 0.00s\n",
      "(ClientAppActor pid=19036) \t🕒 Completed At: 19:06\n",
      "(ClientAppActor pid=19036) \n"
     ]
    },
    {
     "name": "stderr",
     "output_type": "stream",
     "text": [
      "(ClientAppActor pid=19036) WARNING :   Deprecation Warning: The `client_fn` function must return an instance of `Client`, but an instance of `NumpyClient` was returned. Please use `NumPyClient.to_client()` method to convert it to `Client`.\n"
     ]
    },
    {
     "name": "stdout",
     "output_type": "stream",
     "text": [
      "(ClientAppActor pid=19036) [Client] Client on device: cuda:0\n",
      "(ClientAppActor pid=19036) [Client] CUDA available in client: True\n",
      "(ClientAppActor pid=19036) PrecomputingClient initialized.\n",
      "(ClientAppActor pid=19036) No prefix/name for the model was provided, choosen prefix/name: grumpy_pikachu_47\n",
      "(ClientAppActor pid=19036) \n",
      "(ClientAppActor pid=19036) Step 1/8 | Total batches: 4\n",
      "(ClientAppActor pid=19036) Step 2/8 | Total batches: 4\n",
      "(ClientAppActor pid=19036) Step 3/8 | Total batches: 4\n",
      "(ClientAppActor pid=19036) Step 4/8 | Total batches: 4\n",
      "(ClientAppActor pid=19036) Step 5/8 | Total batches: 4\n",
      "(ClientAppActor pid=19036) Step 6/8 | Total batches: 4\n",
      "(ClientAppActor pid=19036) Step 7/8 | Total batches: 4\n",
      "(ClientAppActor pid=19036) Step 8/8 | Total batches: 4\n",
      "(ClientAppActor pid=19036) 🚀 Epoch 1/1 (100.00%) Completed\n",
      "(ClientAppActor pid=19036) \t📊 Training Loss: 0.6143\n",
      "(ClientAppActor pid=19036) \t✅ Training Accuracy: 81.38%\n",
      "(ClientAppActor pid=19036) \t⏳ Elapsed Time: 3.39s | ETA: 0.00s\n",
      "(ClientAppActor pid=19036) \t🕒 Completed At: 19:06\n",
      "(ClientAppActor pid=19036) \n"
     ]
    },
    {
     "name": "stderr",
     "output_type": "stream",
     "text": [
      "(ClientAppActor pid=19036) WARNING :   Deprecation Warning: The `client_fn` function must return an instance of `Client`, but an instance of `NumpyClient` was returned. Please use `NumPyClient.to_client()` method to convert it to `Client`.\n"
     ]
    },
    {
     "name": "stdout",
     "output_type": "stream",
     "text": [
      "(ClientAppActor pid=19036) [Client] Client on device: cuda:0\n",
      "(ClientAppActor pid=19036) [Client] CUDA available in client: True\n",
      "(ClientAppActor pid=19036) PrecomputingClient initialized.\n",
      "(ClientAppActor pid=19036) No prefix/name for the model was provided, choosen prefix/name: sassy_butterfree_47\n",
      "(ClientAppActor pid=19036) \n",
      "(ClientAppActor pid=19036) Step 1/8 | Total batches: 4\n",
      "(ClientAppActor pid=19036) Step 2/8 | Total batches: 4\n",
      "(ClientAppActor pid=19036) Step 3/8 | Total batches: 4\n",
      "(ClientAppActor pid=19036) Step 4/8 | Total batches: 4\n",
      "(ClientAppActor pid=19036) Step 5/8 | Total batches: 4\n",
      "(ClientAppActor pid=19036) Step 6/8 | Total batches: 4\n",
      "(ClientAppActor pid=19036) Step 7/8 | Total batches: 4\n",
      "(ClientAppActor pid=19036) Step 8/8 | Total batches: 4\n",
      "(ClientAppActor pid=19036) 🚀 Epoch 1/1 (100.00%) Completed\n",
      "(ClientAppActor pid=19036) \t📊 Training Loss: 0.3771\n",
      "(ClientAppActor pid=19036) \t✅ Training Accuracy: 90.12%\n",
      "(ClientAppActor pid=19036) \t⏳ Elapsed Time: 3.38s | ETA: 0.00s\n",
      "(ClientAppActor pid=19036) \t🕒 Completed At: 19:06\n",
      "(ClientAppActor pid=19036) \n"
     ]
    },
    {
     "name": "stderr",
     "output_type": "stream",
     "text": [
      "(ClientAppActor pid=19036) WARNING :   Deprecation Warning: The `client_fn` function must return an instance of `Client`, but an instance of `NumpyClient` was returned. Please use `NumPyClient.to_client()` method to convert it to `Client`.\n"
     ]
    },
    {
     "name": "stdout",
     "output_type": "stream",
     "text": [
      "(ClientAppActor pid=19036) [Client] Client on device: cuda:0\n",
      "(ClientAppActor pid=19036) [Client] CUDA available in client: True\n",
      "(ClientAppActor pid=19036) PrecomputingClient initialized.\n",
      "(ClientAppActor pid=19036) No prefix/name for the model was provided, choosen prefix/name: snazzy_pidgeot_22\n",
      "(ClientAppActor pid=19036) \n",
      "(ClientAppActor pid=19036) Step 1/8 | Total batches: 4\n",
      "(ClientAppActor pid=19036) Step 2/8 | Total batches: 4\n",
      "(ClientAppActor pid=19036) Step 3/8 | Total batches: 4\n",
      "(ClientAppActor pid=19036) Step 4/8 | Total batches: 4\n",
      "(ClientAppActor pid=19036) Step 5/8 | Total batches: 4\n",
      "(ClientAppActor pid=19036) Step 6/8 | Total batches: 4\n",
      "(ClientAppActor pid=19036) Step 7/8 | Total batches: 4\n",
      "(ClientAppActor pid=19036) Step 8/8 | Total batches: 4\n",
      "(ClientAppActor pid=19036) 🚀 Epoch 1/1 (100.00%) Completed\n",
      "(ClientAppActor pid=19036) \t📊 Training Loss: 0.4235\n",
      "(ClientAppActor pid=19036) \t✅ Training Accuracy: 89.00%\n",
      "(ClientAppActor pid=19036) \t⏳ Elapsed Time: 3.39s | ETA: 0.00s\n",
      "(ClientAppActor pid=19036) \t🕒 Completed At: 19:06\n",
      "(ClientAppActor pid=19036) \n"
     ]
    },
    {
     "name": "stderr",
     "output_type": "stream",
     "text": [
      "(ClientAppActor pid=19036) WARNING :   Deprecation Warning: The `client_fn` function must return an instance of `Client`, but an instance of `NumpyClient` was returned. Please use `NumPyClient.to_client()` method to convert it to `Client`.\n"
     ]
    },
    {
     "name": "stdout",
     "output_type": "stream",
     "text": [
      "(ClientAppActor pid=19036) [Client] Client on device: cuda:0\n",
      "(ClientAppActor pid=19036) [Client] CUDA available in client: True\n",
      "(ClientAppActor pid=19036) PrecomputingClient initialized.\n",
      "(ClientAppActor pid=19036) No prefix/name for the model was provided, choosen prefix/name: sleepy_fearow_45\n",
      "(ClientAppActor pid=19036) \n",
      "(ClientAppActor pid=19036) Step 1/8 | Total batches: 4\n",
      "(ClientAppActor pid=19036) Step 2/8 | Total batches: 4\n",
      "(ClientAppActor pid=19036) Step 3/8 | Total batches: 4\n",
      "(ClientAppActor pid=19036) Step 4/8 | Total batches: 4\n",
      "(ClientAppActor pid=19036) Step 5/8 | Total batches: 4\n",
      "(ClientAppActor pid=19036) Step 6/8 | Total batches: 4\n",
      "(ClientAppActor pid=19036) Step 7/8 | Total batches: 4\n",
      "(ClientAppActor pid=19036) Step 8/8 | Total batches: 4\n",
      "(ClientAppActor pid=19036) 🚀 Epoch 1/1 (100.00%) Completed\n",
      "(ClientAppActor pid=19036) \t📊 Training Loss: 1.5324\n",
      "(ClientAppActor pid=19036) \t✅ Training Accuracy: 58.00%\n",
      "(ClientAppActor pid=19036) \t⏳ Elapsed Time: 3.38s | ETA: 0.00s\n",
      "(ClientAppActor pid=19036) \t🕒 Completed At: 19:06\n",
      "(ClientAppActor pid=19036) \n"
     ]
    },
    {
     "name": "stderr",
     "output_type": "stream",
     "text": [
      "(ClientAppActor pid=19036) WARNING :   Deprecation Warning: The `client_fn` function must return an instance of `Client`, but an instance of `NumpyClient` was returned. Please use `NumPyClient.to_client()` method to convert it to `Client`.\n"
     ]
    },
    {
     "name": "stdout",
     "output_type": "stream",
     "text": [
      "(ClientAppActor pid=19036) [Client] Client on device: cuda:0\n",
      "(ClientAppActor pid=19036) [Client] CUDA available in client: True\n",
      "(ClientAppActor pid=19036) PrecomputingClient initialized.\n",
      "(ClientAppActor pid=19036) No prefix/name for the model was provided, choosen prefix/name: chirpy_ivysaur_82\n",
      "(ClientAppActor pid=19036) \n",
      "(ClientAppActor pid=19036) Step 1/8 | Total batches: 4\n",
      "(ClientAppActor pid=19036) Step 2/8 | Total batches: 4\n",
      "(ClientAppActor pid=19036) Step 3/8 | Total batches: 4\n",
      "(ClientAppActor pid=19036) Step 4/8 | Total batches: 4\n",
      "(ClientAppActor pid=19036) Step 5/8 | Total batches: 4\n",
      "(ClientAppActor pid=19036) Step 6/8 | Total batches: 4\n",
      "(ClientAppActor pid=19036) Step 7/8 | Total batches: 4\n",
      "(ClientAppActor pid=19036) Step 8/8 | Total batches: 4\n",
      "(ClientAppActor pid=19036) 🚀 Epoch 1/1 (100.00%) Completed\n",
      "(ClientAppActor pid=19036) \t📊 Training Loss: 0.2543\n",
      "(ClientAppActor pid=19036) \t✅ Training Accuracy: 93.88%\n",
      "(ClientAppActor pid=19036) \t⏳ Elapsed Time: 3.39s | ETA: 0.00s\n",
      "(ClientAppActor pid=19036) \t🕒 Completed At: 19:06\n",
      "(ClientAppActor pid=19036) \n"
     ]
    },
    {
     "name": "stderr",
     "output_type": "stream",
     "text": [
      "(ClientAppActor pid=19036) WARNING :   Deprecation Warning: The `client_fn` function must return an instance of `Client`, but an instance of `NumpyClient` was returned. Please use `NumPyClient.to_client()` method to convert it to `Client`.\n"
     ]
    },
    {
     "name": "stdout",
     "output_type": "stream",
     "text": [
      "(ClientAppActor pid=19036) [Client] Client on device: cuda:0\n",
      "(ClientAppActor pid=19036) [Client] CUDA available in client: True\n",
      "(ClientAppActor pid=19036) PrecomputingClient initialized.\n",
      "(ClientAppActor pid=19036) No prefix/name for the model was provided, choosen prefix/name: dorky_raticate_12\n",
      "(ClientAppActor pid=19036) \n",
      "(ClientAppActor pid=19036) Step 1/8 | Total batches: 4\n",
      "(ClientAppActor pid=19036) Step 2/8 | Total batches: 4\n",
      "(ClientAppActor pid=19036) Step 3/8 | Total batches: 4\n",
      "(ClientAppActor pid=19036) Step 4/8 | Total batches: 4\n",
      "(ClientAppActor pid=19036) Step 5/8 | Total batches: 4\n",
      "(ClientAppActor pid=19036) Step 6/8 | Total batches: 4\n",
      "(ClientAppActor pid=19036) Step 7/8 | Total batches: 4\n",
      "(ClientAppActor pid=19036) Step 8/8 | Total batches: 4\n",
      "(ClientAppActor pid=19036) 🚀 Epoch 1/1 (100.00%) Completed\n",
      "(ClientAppActor pid=19036) \t📊 Training Loss: 0.5659\n",
      "(ClientAppActor pid=19036) \t✅ Training Accuracy: 84.38%\n",
      "(ClientAppActor pid=19036) \t⏳ Elapsed Time: 3.53s | ETA: 0.00s\n",
      "(ClientAppActor pid=19036) \t🕒 Completed At: 19:06\n",
      "(ClientAppActor pid=19036) \n"
     ]
    },
    {
     "name": "stderr",
     "output_type": "stream",
     "text": [
      "(ClientAppActor pid=19036) WARNING :   Deprecation Warning: The `client_fn` function must return an instance of `Client`, but an instance of `NumpyClient` was returned. Please use `NumPyClient.to_client()` method to convert it to `Client`.\n"
     ]
    },
    {
     "name": "stdout",
     "output_type": "stream",
     "text": [
      "(ClientAppActor pid=19036) [Client] Client on device: cuda:0\n",
      "(ClientAppActor pid=19036) [Client] CUDA available in client: True\n",
      "(ClientAppActor pid=19036) PrecomputingClient initialized.\n",
      "(ClientAppActor pid=19036) No prefix/name for the model was provided, choosen prefix/name: breezy_venusaur_22\n",
      "(ClientAppActor pid=19036) \n",
      "(ClientAppActor pid=19036) Step 1/8 | Total batches: 4\n",
      "(ClientAppActor pid=19036) Step 2/8 | Total batches: 4\n",
      "(ClientAppActor pid=19036) Step 3/8 | Total batches: 4\n",
      "(ClientAppActor pid=19036) Step 4/8 | Total batches: 4\n",
      "(ClientAppActor pid=19036) Step 5/8 | Total batches: 4\n",
      "(ClientAppActor pid=19036) Step 6/8 | Total batches: 4\n",
      "(ClientAppActor pid=19036) Step 7/8 | Total batches: 4\n",
      "(ClientAppActor pid=19036) Step 8/8 | Total batches: 4\n",
      "(ClientAppActor pid=19036) 🚀 Epoch 1/1 (100.00%) Completed\n",
      "(ClientAppActor pid=19036) \t📊 Training Loss: 0.4393\n",
      "(ClientAppActor pid=19036) \t✅ Training Accuracy: 83.75%\n",
      "(ClientAppActor pid=19036) \t⏳ Elapsed Time: 3.38s | ETA: 0.00s\n",
      "(ClientAppActor pid=19036) \t🕒 Completed At: 19:06\n",
      "(ClientAppActor pid=19036) \n"
     ]
    },
    {
     "name": "stderr",
     "output_type": "stream",
     "text": [
      "(ClientAppActor pid=19036) WARNING :   Deprecation Warning: The `client_fn` function must return an instance of `Client`, but an instance of `NumpyClient` was returned. Please use `NumPyClient.to_client()` method to convert it to `Client`.\n"
     ]
    },
    {
     "name": "stdout",
     "output_type": "stream",
     "text": [
      "(ClientAppActor pid=19036) [Client] Client on device: cuda:0\n",
      "(ClientAppActor pid=19036) [Client] CUDA available in client: True\n",
      "(ClientAppActor pid=19036) PrecomputingClient initialized.\n",
      "(ClientAppActor pid=19036) No prefix/name for the model was provided, choosen prefix/name: soggy_nidoqueen_45\n",
      "(ClientAppActor pid=19036) \n",
      "(ClientAppActor pid=19036) Step 1/8 | Total batches: 4\n",
      "(ClientAppActor pid=19036) Step 2/8 | Total batches: 4\n",
      "(ClientAppActor pid=19036) Step 3/8 | Total batches: 4\n",
      "(ClientAppActor pid=19036) Step 4/8 | Total batches: 4\n",
      "(ClientAppActor pid=19036) Step 5/8 | Total batches: 4\n",
      "(ClientAppActor pid=19036) Step 6/8 | Total batches: 4\n",
      "(ClientAppActor pid=19036) Step 7/8 | Total batches: 4\n",
      "(ClientAppActor pid=19036) Step 8/8 | Total batches: 4\n",
      "(ClientAppActor pid=19036) 🚀 Epoch 1/1 (100.00%) Completed\n",
      "(ClientAppActor pid=19036) \t📊 Training Loss: 0.5579\n",
      "(ClientAppActor pid=19036) \t✅ Training Accuracy: 83.12%\n",
      "(ClientAppActor pid=19036) \t⏳ Elapsed Time: 3.38s | ETA: 0.00s\n",
      "(ClientAppActor pid=19036) \t🕒 Completed At: 19:06\n",
      "(ClientAppActor pid=19036) \n"
     ]
    },
    {
     "name": "stderr",
     "output_type": "stream",
     "text": [
      "\u001b[92mINFO \u001b[0m:      aggregate_fit: received 10 results and 0 failures\n",
      "\u001b[92mINFO \u001b[0m:      [Round 12] Avg Drift: 0.0009 | Relative Drift: 0.0000\n",
      "\u001b[92mINFO \u001b[0m:      [Round 12] Saving aggregated model at epoch 212...\n"
     ]
    },
    {
     "name": "stdout",
     "output_type": "stream",
     "text": [
      "💾 Saved checkpoint at: /Users/ciovi/Desktop/coding/mldl/fl-g13/checkpoints/fl_dino_v4/non_iid/1_8_dynamic-quorum\\fl_Test_Dynamic_Quorum_v2_BaseDino_epoch_212.pth\n",
      "[Server Eval Round 12] Model device: cuda:0\n",
      "[Server Eval Round 12] CUDA available in server eval: True\n"
     ]
    },
    {
     "name": "stderr",
     "output_type": "stream",
     "text": [
      "Eval progress: 100%|██████████| 313/313 [00:22<00:00, 14.09batch/s]\n",
      "\u001b[92mINFO \u001b[0m:      [Round 12] Centralized Evaluation - Loss: 2.2879, Metrics: {'centralized_accuracy': 0.4133}\n",
      "\u001b[92mINFO \u001b[0m:      fit progress: (12, 2.287945740900862, {'centralized_accuracy': 0.4133}, 984.8396740999997)\n",
      "\u001b[92mINFO \u001b[0m:      configure_evaluate: strategy sampled 10 clients (out of 100)\n",
      "(ClientAppActor pid=19036) WARNING :   Deprecation Warning: The `client_fn` function must return an instance of `Client`, but an instance of `NumpyClient` was returned. Please use `NumPyClient.to_client()` method to convert it to `Client`.\n",
      "Eval progress:   0%|          | 0/1 [00:00<?, ?batch/s]\n"
     ]
    },
    {
     "name": "stdout",
     "output_type": "stream",
     "text": [
      "(ClientAppActor pid=19036) [Client] Client on device: cuda:0\n",
      "(ClientAppActor pid=19036) [Client] CUDA available in client: True\n",
      "(ClientAppActor pid=19036) PrecomputingClient initialized.\n"
     ]
    },
    {
     "name": "stderr",
     "output_type": "stream",
     "text": [
      "Eval progress: 100%|██████████| 1/1 [00:00<00:00,  3.89batch/s]\n",
      "(ClientAppActor pid=19036) WARNING :   Deprecation Warning: The `client_fn` function must return an instance of `Client`, but an instance of `NumpyClient` was returned. Please use `NumPyClient.to_client()` method to convert it to `Client`.\n",
      "Eval progress:   0%|          | 0/1 [00:00<?, ?batch/s]\n"
     ]
    },
    {
     "name": "stdout",
     "output_type": "stream",
     "text": [
      "(ClientAppActor pid=19036) [Client] Client on device: cuda:0\n",
      "(ClientAppActor pid=19036) [Client] CUDA available in client: True\n",
      "(ClientAppActor pid=19036) PrecomputingClient initialized.\n"
     ]
    },
    {
     "name": "stderr",
     "output_type": "stream",
     "text": [
      "Eval progress: 100%|██████████| 1/1 [00:00<00:00,  3.90batch/s]\n",
      "(ClientAppActor pid=19036) WARNING :   Deprecation Warning: The `client_fn` function must return an instance of `Client`, but an instance of `NumpyClient` was returned. Please use `NumPyClient.to_client()` method to convert it to `Client`.\n"
     ]
    },
    {
     "name": "stdout",
     "output_type": "stream",
     "text": [
      "(ClientAppActor pid=19036) [Client] Client on device: cuda:0\n",
      "(ClientAppActor pid=19036) [Client] CUDA available in client: True\n",
      "(ClientAppActor pid=19036) PrecomputingClient initialized.\n"
     ]
    },
    {
     "name": "stderr",
     "output_type": "stream",
     "text": [
      "Eval progress:   0%|          | 0/1 [00:00<?, ?batch/s]\n",
      "Eval progress: 100%|██████████| 1/1 [00:00<00:00,  3.65batch/s]\n",
      "(ClientAppActor pid=19036) WARNING :   Deprecation Warning: The `client_fn` function must return an instance of `Client`, but an instance of `NumpyClient` was returned. Please use `NumPyClient.to_client()` method to convert it to `Client`.\n",
      "Eval progress:   0%|          | 0/1 [00:00<?, ?batch/s]\n"
     ]
    },
    {
     "name": "stdout",
     "output_type": "stream",
     "text": [
      "(ClientAppActor pid=19036) [Client] Client on device: cuda:0\n",
      "(ClientAppActor pid=19036) [Client] CUDA available in client: True\n",
      "(ClientAppActor pid=19036) PrecomputingClient initialized.\n"
     ]
    },
    {
     "name": "stderr",
     "output_type": "stream",
     "text": [
      "Eval progress: 100%|██████████| 1/1 [00:00<00:00,  3.93batch/s]\n",
      "(ClientAppActor pid=19036) WARNING :   Deprecation Warning: The `client_fn` function must return an instance of `Client`, but an instance of `NumpyClient` was returned. Please use `NumPyClient.to_client()` method to convert it to `Client`.\n",
      "Eval progress:   0%|          | 0/1 [00:00<?, ?batch/s]\n"
     ]
    },
    {
     "name": "stdout",
     "output_type": "stream",
     "text": [
      "(ClientAppActor pid=19036) [Client] Client on device: cuda:0\n",
      "(ClientAppActor pid=19036) [Client] CUDA available in client: True\n",
      "(ClientAppActor pid=19036) PrecomputingClient initialized.\n"
     ]
    },
    {
     "name": "stderr",
     "output_type": "stream",
     "text": [
      "Eval progress: 100%|██████████| 1/1 [00:00<00:00,  3.95batch/s]\n",
      "(ClientAppActor pid=19036) WARNING :   Deprecation Warning: The `client_fn` function must return an instance of `Client`, but an instance of `NumpyClient` was returned. Please use `NumPyClient.to_client()` method to convert it to `Client`.\n",
      "Eval progress:   0%|          | 0/1 [00:00<?, ?batch/s]\n"
     ]
    },
    {
     "name": "stdout",
     "output_type": "stream",
     "text": [
      "(ClientAppActor pid=19036) [Client] Client on device: cuda:0\n",
      "(ClientAppActor pid=19036) [Client] CUDA available in client: True\n",
      "(ClientAppActor pid=19036) PrecomputingClient initialized.\n"
     ]
    },
    {
     "name": "stderr",
     "output_type": "stream",
     "text": [
      "Eval progress: 100%|██████████| 1/1 [00:00<00:00,  3.87batch/s]\n"
     ]
    },
    {
     "name": "stdout",
     "output_type": "stream",
     "text": [
      "(ClientAppActor pid=19036) [Client] Client on device: cuda:0\n",
      "(ClientAppActor pid=19036) [Client] CUDA available in client: True\n"
     ]
    },
    {
     "name": "stderr",
     "output_type": "stream",
     "text": [
      "(ClientAppActor pid=19036) WARNING :   Deprecation Warning: The `client_fn` function must return an instance of `Client`, but an instance of `NumpyClient` was returned. Please use `NumPyClient.to_client()` method to convert it to `Client`.\n"
     ]
    },
    {
     "name": "stdout",
     "output_type": "stream",
     "text": [
      "(ClientAppActor pid=19036) PrecomputingClient initialized.\n"
     ]
    },
    {
     "name": "stderr",
     "output_type": "stream",
     "text": [
      "Eval progress:   0%|          | 0/1 [00:00<?, ?batch/s]\n",
      "Eval progress: 100%|██████████| 1/1 [00:00<00:00,  3.91batch/s]\n",
      "(ClientAppActor pid=19036) WARNING :   Deprecation Warning: The `client_fn` function must return an instance of `Client`, but an instance of `NumpyClient` was returned. Please use `NumPyClient.to_client()` method to convert it to `Client`.\n",
      "Eval progress:   0%|          | 0/1 [00:00<?, ?batch/s]\n"
     ]
    },
    {
     "name": "stdout",
     "output_type": "stream",
     "text": [
      "(ClientAppActor pid=19036) [Client] Client on device: cuda:0\n",
      "(ClientAppActor pid=19036) [Client] CUDA available in client: True\n",
      "(ClientAppActor pid=19036) PrecomputingClient initialized.\n"
     ]
    },
    {
     "name": "stderr",
     "output_type": "stream",
     "text": [
      "Eval progress: 100%|██████████| 1/1 [00:00<00:00,  3.94batch/s]\n"
     ]
    },
    {
     "name": "stdout",
     "output_type": "stream",
     "text": [
      "(ClientAppActor pid=19036) [Client] Client on device: cuda:0\n",
      "(ClientAppActor pid=19036) [Client] CUDA available in client: True\n"
     ]
    },
    {
     "name": "stderr",
     "output_type": "stream",
     "text": [
      "(ClientAppActor pid=19036) WARNING :   Deprecation Warning: The `client_fn` function must return an instance of `Client`, but an instance of `NumpyClient` was returned. Please use `NumPyClient.to_client()` method to convert it to `Client`.\n"
     ]
    },
    {
     "name": "stdout",
     "output_type": "stream",
     "text": [
      "(ClientAppActor pid=19036) PrecomputingClient initialized.\n"
     ]
    },
    {
     "name": "stderr",
     "output_type": "stream",
     "text": [
      "Eval progress:   0%|          | 0/1 [00:00<?, ?batch/s]\n",
      "Eval progress: 100%|██████████| 1/1 [00:00<00:00,  3.82batch/s]\n",
      "(ClientAppActor pid=19036) WARNING :   Deprecation Warning: The `client_fn` function must return an instance of `Client`, but an instance of `NumpyClient` was returned. Please use `NumPyClient.to_client()` method to convert it to `Client`.\n",
      "Eval progress:   0%|          | 0/1 [00:00<?, ?batch/s]\n"
     ]
    },
    {
     "name": "stdout",
     "output_type": "stream",
     "text": [
      "(ClientAppActor pid=19036) [Client] Client on device: cuda:0\n",
      "(ClientAppActor pid=19036) [Client] CUDA available in client: True\n",
      "(ClientAppActor pid=19036) PrecomputingClient initialized.\n"
     ]
    },
    {
     "name": "stderr",
     "output_type": "stream",
     "text": [
      "Eval progress: 100%|██████████| 1/1 [00:00<00:00,  3.94batch/s]\n",
      "\u001b[92mINFO \u001b[0m:      aggregate_evaluate: received 10 results and 0 failures\n",
      "\u001b[92mINFO \u001b[0m:      \n",
      "\u001b[92mINFO \u001b[0m:      [ROUND 13]\n",
      "\u001b[92mINFO \u001b[0m:      [Round 13] Quorum updated to: 61\n",
      "\u001b[92mINFO \u001b[0m:      [Round 13] Generated initial global mask with quorum 61. Sparsity: 0.8158\n",
      "\u001b[92mINFO \u001b[0m:      configure_fit: strategy sampled 10 clients (out of 100)\n",
      "(ClientAppActor pid=19036) WARNING :   Deprecation Warning: The `client_fn` function must return an instance of `Client`, but an instance of `NumpyClient` was returned. Please use `NumPyClient.to_client()` method to convert it to `Client`.\n"
     ]
    },
    {
     "name": "stdout",
     "output_type": "stream",
     "text": [
      "(ClientAppActor pid=19036) [Client] Client on device: cuda:0\n",
      "(ClientAppActor pid=19036) [Client] CUDA available in client: True\n",
      "(ClientAppActor pid=19036) PrecomputingClient initialized.\n",
      "(ClientAppActor pid=19036) No prefix/name for the model was provided, choosen prefix/name: jazzy_bulbasaur_68\n",
      "(ClientAppActor pid=19036) \n",
      "(ClientAppActor pid=19036) Step 1/8 | Total batches: 4\n",
      "(ClientAppActor pid=19036) Step 2/8 | Total batches: 4\n",
      "(ClientAppActor pid=19036) Step 3/8 | Total batches: 4\n",
      "(ClientAppActor pid=19036) Step 4/8 | Total batches: 4\n",
      "(ClientAppActor pid=19036) Step 5/8 | Total batches: 4\n",
      "(ClientAppActor pid=19036) Step 6/8 | Total batches: 4\n",
      "(ClientAppActor pid=19036) Step 7/8 | Total batches: 4\n",
      "(ClientAppActor pid=19036) Step 8/8 | Total batches: 4\n",
      "(ClientAppActor pid=19036) 🚀 Epoch 1/1 (100.00%) Completed\n",
      "(ClientAppActor pid=19036) \t📊 Training Loss: 0.5298\n",
      "(ClientAppActor pid=19036) \t✅ Training Accuracy: 79.62%\n",
      "(ClientAppActor pid=19036) \t⏳ Elapsed Time: 3.35s | ETA: 0.00s\n",
      "(ClientAppActor pid=19036) \t🕒 Completed At: 19:07\n",
      "(ClientAppActor pid=19036) \n"
     ]
    },
    {
     "name": "stderr",
     "output_type": "stream",
     "text": [
      "(ClientAppActor pid=19036) WARNING :   Deprecation Warning: The `client_fn` function must return an instance of `Client`, but an instance of `NumpyClient` was returned. Please use `NumPyClient.to_client()` method to convert it to `Client`.\n"
     ]
    },
    {
     "name": "stdout",
     "output_type": "stream",
     "text": [
      "(ClientAppActor pid=19036) [Client] Client on device: cuda:0\n",
      "(ClientAppActor pid=19036) [Client] CUDA available in client: True\n",
      "(ClientAppActor pid=19036) PrecomputingClient initialized.\n",
      "(ClientAppActor pid=19036) No prefix/name for the model was provided, choosen prefix/name: groovy_sandslash_76\n",
      "(ClientAppActor pid=19036) \n",
      "(ClientAppActor pid=19036) Step 1/8 | Total batches: 4\n",
      "(ClientAppActor pid=19036) Step 2/8 | Total batches: 4\n",
      "(ClientAppActor pid=19036) Step 3/8 | Total batches: 4\n",
      "(ClientAppActor pid=19036) Step 4/8 | Total batches: 4\n",
      "(ClientAppActor pid=19036) Step 5/8 | Total batches: 4\n",
      "(ClientAppActor pid=19036) Step 6/8 | Total batches: 4\n",
      "(ClientAppActor pid=19036) Step 7/8 | Total batches: 4\n",
      "(ClientAppActor pid=19036) Step 8/8 | Total batches: 4\n",
      "(ClientAppActor pid=19036) 🚀 Epoch 1/1 (100.00%) Completed\n",
      "(ClientAppActor pid=19036) \t📊 Training Loss: 0.3983\n",
      "(ClientAppActor pid=19036) \t✅ Training Accuracy: 87.00%\n",
      "(ClientAppActor pid=19036) \t⏳ Elapsed Time: 3.36s | ETA: 0.00s\n",
      "(ClientAppActor pid=19036) \t🕒 Completed At: 19:07\n",
      "(ClientAppActor pid=19036) \n"
     ]
    },
    {
     "name": "stderr",
     "output_type": "stream",
     "text": [
      "(ClientAppActor pid=19036) WARNING :   Deprecation Warning: The `client_fn` function must return an instance of `Client`, but an instance of `NumpyClient` was returned. Please use `NumPyClient.to_client()` method to convert it to `Client`.\n"
     ]
    },
    {
     "name": "stdout",
     "output_type": "stream",
     "text": [
      "(ClientAppActor pid=19036) [Client] Client on device: cuda:0\n",
      "(ClientAppActor pid=19036) [Client] CUDA available in client: True\n",
      "(ClientAppActor pid=19036) PrecomputingClient initialized.\n",
      "(ClientAppActor pid=19036) No prefix/name for the model was provided, choosen prefix/name: plucky_pikachu_78\n",
      "(ClientAppActor pid=19036) \n",
      "(ClientAppActor pid=19036) Step 1/8 | Total batches: 4\n",
      "(ClientAppActor pid=19036) Step 2/8 | Total batches: 4\n",
      "(ClientAppActor pid=19036) Step 3/8 | Total batches: 4\n",
      "(ClientAppActor pid=19036) Step 4/8 | Total batches: 4\n",
      "(ClientAppActor pid=19036) Step 5/8 | Total batches: 4\n",
      "(ClientAppActor pid=19036) Step 6/8 | Total batches: 4\n",
      "(ClientAppActor pid=19036) Step 7/8 | Total batches: 4\n",
      "(ClientAppActor pid=19036) Step 8/8 | Total batches: 4\n",
      "(ClientAppActor pid=19036) 🚀 Epoch 1/1 (100.00%) Completed\n",
      "(ClientAppActor pid=19036) \t📊 Training Loss: 0.4173\n",
      "(ClientAppActor pid=19036) \t✅ Training Accuracy: 91.38%\n",
      "(ClientAppActor pid=19036) \t⏳ Elapsed Time: 3.38s | ETA: 0.00s\n",
      "(ClientAppActor pid=19036) \t🕒 Completed At: 19:07\n",
      "(ClientAppActor pid=19036) \n"
     ]
    },
    {
     "name": "stderr",
     "output_type": "stream",
     "text": [
      "(ClientAppActor pid=19036) WARNING :   Deprecation Warning: The `client_fn` function must return an instance of `Client`, but an instance of `NumpyClient` was returned. Please use `NumPyClient.to_client()` method to convert it to `Client`.\n"
     ]
    },
    {
     "name": "stdout",
     "output_type": "stream",
     "text": [
      "(ClientAppActor pid=19036) [Client] Client on device: cuda:0\n",
      "(ClientAppActor pid=19036) [Client] CUDA available in client: True\n",
      "(ClientAppActor pid=19036) PrecomputingClient initialized.\n",
      "(ClientAppActor pid=19036) No prefix/name for the model was provided, choosen prefix/name: zesty_squirtle_67\n",
      "(ClientAppActor pid=19036) \n",
      "(ClientAppActor pid=19036) Step 1/8 | Total batches: 4\n",
      "(ClientAppActor pid=19036) Step 2/8 | Total batches: 4\n",
      "(ClientAppActor pid=19036) Step 3/8 | Total batches: 4\n",
      "(ClientAppActor pid=19036) Step 4/8 | Total batches: 4\n",
      "(ClientAppActor pid=19036) Step 5/8 | Total batches: 4\n",
      "(ClientAppActor pid=19036) Step 6/8 | Total batches: 4\n",
      "(ClientAppActor pid=19036) Step 7/8 | Total batches: 4\n",
      "(ClientAppActor pid=19036) Step 8/8 | Total batches: 4\n",
      "(ClientAppActor pid=19036) 🚀 Epoch 1/1 (100.00%) Completed\n",
      "(ClientAppActor pid=19036) \t📊 Training Loss: 0.6247\n",
      "(ClientAppActor pid=19036) \t✅ Training Accuracy: 77.12%\n",
      "(ClientAppActor pid=19036) \t⏳ Elapsed Time: 3.38s | ETA: 0.00s\n",
      "(ClientAppActor pid=19036) \t🕒 Completed At: 19:07\n",
      "(ClientAppActor pid=19036) \n"
     ]
    },
    {
     "name": "stderr",
     "output_type": "stream",
     "text": [
      "(ClientAppActor pid=19036) WARNING :   Deprecation Warning: The `client_fn` function must return an instance of `Client`, but an instance of `NumpyClient` was returned. Please use `NumPyClient.to_client()` method to convert it to `Client`.\n"
     ]
    },
    {
     "name": "stdout",
     "output_type": "stream",
     "text": [
      "(ClientAppActor pid=19036) [Client] Client on device: cuda:0\n",
      "(ClientAppActor pid=19036) [Client] CUDA available in client: True\n",
      "(ClientAppActor pid=19036) PrecomputingClient initialized.\n",
      "(ClientAppActor pid=19036) No prefix/name for the model was provided, choosen prefix/name: grumpy_clefairy_38\n",
      "(ClientAppActor pid=19036) \n",
      "(ClientAppActor pid=19036) Step 1/8 | Total batches: 4\n",
      "(ClientAppActor pid=19036) Step 2/8 | Total batches: 4\n",
      "(ClientAppActor pid=19036) Step 3/8 | Total batches: 4\n",
      "(ClientAppActor pid=19036) Step 4/8 | Total batches: 4\n",
      "(ClientAppActor pid=19036) Step 5/8 | Total batches: 4\n",
      "(ClientAppActor pid=19036) Step 6/8 | Total batches: 4\n",
      "(ClientAppActor pid=19036) Step 7/8 | Total batches: 4\n",
      "(ClientAppActor pid=19036) Step 8/8 | Total batches: 4\n",
      "(ClientAppActor pid=19036) 🚀 Epoch 1/1 (100.00%) Completed\n",
      "(ClientAppActor pid=19036) \t📊 Training Loss: 0.8758\n",
      "(ClientAppActor pid=19036) \t✅ Training Accuracy: 72.88%\n",
      "(ClientAppActor pid=19036) \t⏳ Elapsed Time: 3.38s | ETA: 0.00s\n",
      "(ClientAppActor pid=19036) \t🕒 Completed At: 19:07\n",
      "(ClientAppActor pid=19036) \n"
     ]
    },
    {
     "name": "stderr",
     "output_type": "stream",
     "text": [
      "(ClientAppActor pid=19036) WARNING :   Deprecation Warning: The `client_fn` function must return an instance of `Client`, but an instance of `NumpyClient` was returned. Please use `NumPyClient.to_client()` method to convert it to `Client`.\n"
     ]
    },
    {
     "name": "stdout",
     "output_type": "stream",
     "text": [
      "(ClientAppActor pid=19036) [Client] Client on device: cuda:0\n",
      "(ClientAppActor pid=19036) [Client] CUDA available in client: True\n",
      "(ClientAppActor pid=19036) PrecomputingClient initialized.\n",
      "(ClientAppActor pid=19036) No prefix/name for the model was provided, choosen prefix/name: silly_squirtle_26\n",
      "(ClientAppActor pid=19036) \n",
      "(ClientAppActor pid=19036) Step 1/8 | Total batches: 4\n",
      "(ClientAppActor pid=19036) Step 2/8 | Total batches: 4\n",
      "(ClientAppActor pid=19036) Step 3/8 | Total batches: 4\n",
      "(ClientAppActor pid=19036) Step 4/8 | Total batches: 4\n",
      "(ClientAppActor pid=19036) Step 5/8 | Total batches: 4\n",
      "(ClientAppActor pid=19036) Step 6/8 | Total batches: 4\n",
      "(ClientAppActor pid=19036) Step 7/8 | Total batches: 4\n",
      "(ClientAppActor pid=19036) Step 8/8 | Total batches: 4\n",
      "(ClientAppActor pid=19036) 🚀 Epoch 1/1 (100.00%) Completed\n",
      "(ClientAppActor pid=19036) \t📊 Training Loss: 0.9826\n",
      "(ClientAppActor pid=19036) \t✅ Training Accuracy: 70.38%\n",
      "(ClientAppActor pid=19036) \t⏳ Elapsed Time: 3.39s | ETA: 0.00s\n",
      "(ClientAppActor pid=19036) \t🕒 Completed At: 19:07\n",
      "(ClientAppActor pid=19036) \n"
     ]
    },
    {
     "name": "stderr",
     "output_type": "stream",
     "text": [
      "(ClientAppActor pid=19036) WARNING :   Deprecation Warning: The `client_fn` function must return an instance of `Client`, but an instance of `NumpyClient` was returned. Please use `NumPyClient.to_client()` method to convert it to `Client`.\n"
     ]
    },
    {
     "name": "stdout",
     "output_type": "stream",
     "text": [
      "(ClientAppActor pid=19036) [Client] Client on device: cuda:0\n",
      "(ClientAppActor pid=19036) [Client] CUDA available in client: True\n",
      "(ClientAppActor pid=19036) PrecomputingClient initialized.\n",
      "(ClientAppActor pid=19036) No prefix/name for the model was provided, choosen prefix/name: itchy_raticate_45\n",
      "(ClientAppActor pid=19036) \n",
      "(ClientAppActor pid=19036) Step 1/8 | Total batches: 4\n",
      "(ClientAppActor pid=19036) Step 2/8 | Total batches: 4\n",
      "(ClientAppActor pid=19036) Step 3/8 | Total batches: 4\n",
      "(ClientAppActor pid=19036) Step 4/8 | Total batches: 4\n",
      "(ClientAppActor pid=19036) Step 5/8 | Total batches: 4\n",
      "(ClientAppActor pid=19036) Step 6/8 | Total batches: 4\n",
      "(ClientAppActor pid=19036) Step 7/8 | Total batches: 4\n",
      "(ClientAppActor pid=19036) Step 8/8 | Total batches: 4\n",
      "(ClientAppActor pid=19036) 🚀 Epoch 1/1 (100.00%) Completed\n",
      "(ClientAppActor pid=19036) \t📊 Training Loss: 0.9946\n",
      "(ClientAppActor pid=19036) \t✅ Training Accuracy: 70.25%\n",
      "(ClientAppActor pid=19036) \t⏳ Elapsed Time: 3.39s | ETA: 0.00s\n",
      "(ClientAppActor pid=19036) \t🕒 Completed At: 19:07\n",
      "(ClientAppActor pid=19036) \n"
     ]
    },
    {
     "name": "stderr",
     "output_type": "stream",
     "text": [
      "(ClientAppActor pid=19036) WARNING :   Deprecation Warning: The `client_fn` function must return an instance of `Client`, but an instance of `NumpyClient` was returned. Please use `NumPyClient.to_client()` method to convert it to `Client`.\n"
     ]
    },
    {
     "name": "stdout",
     "output_type": "stream",
     "text": [
      "(ClientAppActor pid=19036) [Client] Client on device: cuda:0\n",
      "(ClientAppActor pid=19036) [Client] CUDA available in client: True\n",
      "(ClientAppActor pid=19036) PrecomputingClient initialized.\n",
      "(ClientAppActor pid=19036) No prefix/name for the model was provided, choosen prefix/name: peppy_bulbasaur_53\n",
      "(ClientAppActor pid=19036) \n",
      "(ClientAppActor pid=19036) Step 1/8 | Total batches: 4\n",
      "(ClientAppActor pid=19036) Step 2/8 | Total batches: 4\n",
      "(ClientAppActor pid=19036) Step 3/8 | Total batches: 4\n",
      "(ClientAppActor pid=19036) Step 4/8 | Total batches: 4\n",
      "(ClientAppActor pid=19036) Step 5/8 | Total batches: 4\n",
      "(ClientAppActor pid=19036) Step 6/8 | Total batches: 4\n",
      "(ClientAppActor pid=19036) Step 7/8 | Total batches: 4\n",
      "(ClientAppActor pid=19036) Step 8/8 | Total batches: 4\n",
      "(ClientAppActor pid=19036) 🚀 Epoch 1/1 (100.00%) Completed\n",
      "(ClientAppActor pid=19036) \t📊 Training Loss: 0.4712\n",
      "(ClientAppActor pid=19036) \t✅ Training Accuracy: 83.88%\n",
      "(ClientAppActor pid=19036) \t⏳ Elapsed Time: 3.39s | ETA: 0.00s\n",
      "(ClientAppActor pid=19036) \t🕒 Completed At: 19:08\n",
      "(ClientAppActor pid=19036) \n"
     ]
    },
    {
     "name": "stderr",
     "output_type": "stream",
     "text": [
      "(ClientAppActor pid=19036) WARNING :   Deprecation Warning: The `client_fn` function must return an instance of `Client`, but an instance of `NumpyClient` was returned. Please use `NumPyClient.to_client()` method to convert it to `Client`.\n"
     ]
    },
    {
     "name": "stdout",
     "output_type": "stream",
     "text": [
      "(ClientAppActor pid=19036) [Client] Client on device: cuda:0\n",
      "(ClientAppActor pid=19036) [Client] CUDA available in client: True\n",
      "(ClientAppActor pid=19036) PrecomputingClient initialized.\n",
      "(ClientAppActor pid=19036) No prefix/name for the model was provided, choosen prefix/name: spunky_bulbasaur_24\n",
      "(ClientAppActor pid=19036) \n",
      "(ClientAppActor pid=19036) Step 1/8 | Total batches: 4\n",
      "(ClientAppActor pid=19036) Step 2/8 | Total batches: 4\n",
      "(ClientAppActor pid=19036) Step 3/8 | Total batches: 4\n",
      "(ClientAppActor pid=19036) Step 4/8 | Total batches: 4\n",
      "(ClientAppActor pid=19036) Step 5/8 | Total batches: 4\n",
      "(ClientAppActor pid=19036) Step 6/8 | Total batches: 4\n",
      "(ClientAppActor pid=19036) Step 7/8 | Total batches: 4\n",
      "(ClientAppActor pid=19036) Step 8/8 | Total batches: 4\n",
      "(ClientAppActor pid=19036) 🚀 Epoch 1/1 (100.00%) Completed\n",
      "(ClientAppActor pid=19036) \t📊 Training Loss: 1.4334\n",
      "(ClientAppActor pid=19036) \t✅ Training Accuracy: 57.88%\n",
      "(ClientAppActor pid=19036) \t⏳ Elapsed Time: 3.58s | ETA: 0.00s\n",
      "(ClientAppActor pid=19036) \t🕒 Completed At: 19:08\n",
      "(ClientAppActor pid=19036) \n"
     ]
    },
    {
     "name": "stderr",
     "output_type": "stream",
     "text": [
      "(ClientAppActor pid=19036) WARNING :   Deprecation Warning: The `client_fn` function must return an instance of `Client`, but an instance of `NumpyClient` was returned. Please use `NumPyClient.to_client()` method to convert it to `Client`.\n"
     ]
    },
    {
     "name": "stdout",
     "output_type": "stream",
     "text": [
      "(ClientAppActor pid=19036) [Client] Client on device: cuda:0\n",
      "(ClientAppActor pid=19036) [Client] CUDA available in client: True\n",
      "(ClientAppActor pid=19036) PrecomputingClient initialized.\n",
      "(ClientAppActor pid=19036) No prefix/name for the model was provided, choosen prefix/name: spunky_pikachu_22\n",
      "(ClientAppActor pid=19036) \n",
      "(ClientAppActor pid=19036) Step 1/8 | Total batches: 4\n",
      "(ClientAppActor pid=19036) Step 2/8 | Total batches: 4\n",
      "(ClientAppActor pid=19036) Step 3/8 | Total batches: 4\n",
      "(ClientAppActor pid=19036) Step 4/8 | Total batches: 4\n",
      "(ClientAppActor pid=19036) Step 5/8 | Total batches: 4\n",
      "(ClientAppActor pid=19036) Step 6/8 | Total batches: 4\n",
      "(ClientAppActor pid=19036) Step 7/8 | Total batches: 4\n",
      "(ClientAppActor pid=19036) Step 8/8 | Total batches: 4\n",
      "(ClientAppActor pid=19036) 🚀 Epoch 1/1 (100.00%) Completed\n",
      "(ClientAppActor pid=19036) \t📊 Training Loss: 0.6651\n",
      "(ClientAppActor pid=19036) \t✅ Training Accuracy: 79.50%\n",
      "(ClientAppActor pid=19036) \t⏳ Elapsed Time: 3.38s | ETA: 0.00s\n",
      "(ClientAppActor pid=19036) \t🕒 Completed At: 19:08\n",
      "(ClientAppActor pid=19036) \n"
     ]
    },
    {
     "name": "stderr",
     "output_type": "stream",
     "text": [
      "\u001b[92mINFO \u001b[0m:      aggregate_fit: received 10 results and 0 failures\n",
      "\u001b[92mINFO \u001b[0m:      [Round 13] Avg Drift: 0.0010 | Relative Drift: 0.0000\n",
      "\u001b[92mINFO \u001b[0m:      [Round 13] Saving aggregated model at epoch 213...\n"
     ]
    },
    {
     "name": "stdout",
     "output_type": "stream",
     "text": [
      "💾 Saved checkpoint at: /Users/ciovi/Desktop/coding/mldl/fl-g13/checkpoints/fl_dino_v4/non_iid/1_8_dynamic-quorum\\fl_Test_Dynamic_Quorum_v2_BaseDino_epoch_213.pth\n",
      "[Server Eval Round 13] Model device: cuda:0\n",
      "[Server Eval Round 13] CUDA available in server eval: True\n"
     ]
    },
    {
     "name": "stderr",
     "output_type": "stream",
     "text": [
      "Eval progress: 100%|██████████| 313/313 [00:22<00:00, 14.05batch/s]\n",
      "\u001b[92mINFO \u001b[0m:      [Round 13] Centralized Evaluation - Loss: 2.2240, Metrics: {'centralized_accuracy': 0.422}\n",
      "\u001b[92mINFO \u001b[0m:      fit progress: (13, 2.2239988059662403, {'centralized_accuracy': 0.422}, 1064.5763896999997)\n",
      "\u001b[92mINFO \u001b[0m:      configure_evaluate: strategy sampled 10 clients (out of 100)\n",
      "(ClientAppActor pid=19036) WARNING :   Deprecation Warning: The `client_fn` function must return an instance of `Client`, but an instance of `NumpyClient` was returned. Please use `NumPyClient.to_client()` method to convert it to `Client`.\n"
     ]
    },
    {
     "name": "stdout",
     "output_type": "stream",
     "text": [
      "(ClientAppActor pid=19036) [Client] Client on device: cuda:0\n",
      "(ClientAppActor pid=19036) [Client] CUDA available in client: True\n",
      "(ClientAppActor pid=19036) PrecomputingClient initialized.\n"
     ]
    },
    {
     "name": "stderr",
     "output_type": "stream",
     "text": [
      "Eval progress:   0%|          | 0/1 [00:00<?, ?batch/s]\n",
      "Eval progress: 100%|██████████| 1/1 [00:00<00:00,  3.87batch/s]\n",
      "(ClientAppActor pid=19036) WARNING :   Deprecation Warning: The `client_fn` function must return an instance of `Client`, but an instance of `NumpyClient` was returned. Please use `NumPyClient.to_client()` method to convert it to `Client`.\n",
      "Eval progress:   0%|          | 0/1 [00:00<?, ?batch/s]\n"
     ]
    },
    {
     "name": "stdout",
     "output_type": "stream",
     "text": [
      "(ClientAppActor pid=19036) [Client] Client on device: cuda:0\n",
      "(ClientAppActor pid=19036) [Client] CUDA available in client: True\n",
      "(ClientAppActor pid=19036) PrecomputingClient initialized.\n"
     ]
    },
    {
     "name": "stderr",
     "output_type": "stream",
     "text": [
      "Eval progress: 100%|██████████| 1/1 [00:00<00:00,  3.92batch/s]\n",
      "(ClientAppActor pid=19036) WARNING :   Deprecation Warning: The `client_fn` function must return an instance of `Client`, but an instance of `NumpyClient` was returned. Please use `NumPyClient.to_client()` method to convert it to `Client`.\n"
     ]
    },
    {
     "name": "stdout",
     "output_type": "stream",
     "text": [
      "(ClientAppActor pid=19036) [Client] Client on device: cuda:0\n",
      "(ClientAppActor pid=19036) [Client] CUDA available in client: True\n",
      "(ClientAppActor pid=19036) PrecomputingClient initialized.\n"
     ]
    },
    {
     "name": "stderr",
     "output_type": "stream",
     "text": [
      "Eval progress:   0%|          | 0/1 [00:00<?, ?batch/s]\n",
      "Eval progress: 100%|██████████| 1/1 [00:00<00:00,  3.78batch/s]\n",
      "(ClientAppActor pid=19036) WARNING :   Deprecation Warning: The `client_fn` function must return an instance of `Client`, but an instance of `NumpyClient` was returned. Please use `NumPyClient.to_client()` method to convert it to `Client`.\n",
      "Eval progress:   0%|          | 0/1 [00:00<?, ?batch/s]\n"
     ]
    },
    {
     "name": "stdout",
     "output_type": "stream",
     "text": [
      "(ClientAppActor pid=19036) [Client] Client on device: cuda:0\n",
      "(ClientAppActor pid=19036) [Client] CUDA available in client: True\n",
      "(ClientAppActor pid=19036) PrecomputingClient initialized.\n"
     ]
    },
    {
     "name": "stderr",
     "output_type": "stream",
     "text": [
      "Eval progress: 100%|██████████| 1/1 [00:00<00:00,  3.95batch/s]\n",
      "(ClientAppActor pid=19036) WARNING :   Deprecation Warning: The `client_fn` function must return an instance of `Client`, but an instance of `NumpyClient` was returned. Please use `NumPyClient.to_client()` method to convert it to `Client`.\n",
      "Eval progress:   0%|          | 0/1 [00:00<?, ?batch/s]\n"
     ]
    },
    {
     "name": "stdout",
     "output_type": "stream",
     "text": [
      "(ClientAppActor pid=19036) [Client] Client on device: cuda:0\n",
      "(ClientAppActor pid=19036) [Client] CUDA available in client: True\n",
      "(ClientAppActor pid=19036) PrecomputingClient initialized.\n"
     ]
    },
    {
     "name": "stderr",
     "output_type": "stream",
     "text": [
      "Eval progress: 100%|██████████| 1/1 [00:00<00:00,  3.95batch/s]\n",
      "(ClientAppActor pid=19036) WARNING :   Deprecation Warning: The `client_fn` function must return an instance of `Client`, but an instance of `NumpyClient` was returned. Please use `NumPyClient.to_client()` method to convert it to `Client`.\n",
      "Eval progress:   0%|          | 0/1 [00:00<?, ?batch/s]\n"
     ]
    },
    {
     "name": "stdout",
     "output_type": "stream",
     "text": [
      "(ClientAppActor pid=19036) [Client] Client on device: cuda:0\n",
      "(ClientAppActor pid=19036) [Client] CUDA available in client: True\n",
      "(ClientAppActor pid=19036) PrecomputingClient initialized.\n"
     ]
    },
    {
     "name": "stderr",
     "output_type": "stream",
     "text": [
      "Eval progress: 100%|██████████| 1/1 [00:00<00:00,  3.95batch/s]\n"
     ]
    },
    {
     "name": "stdout",
     "output_type": "stream",
     "text": [
      "(ClientAppActor pid=19036) [Client] Client on device: cuda:0\n",
      "(ClientAppActor pid=19036) [Client] CUDA available in client: True\n"
     ]
    },
    {
     "name": "stderr",
     "output_type": "stream",
     "text": [
      "(ClientAppActor pid=19036) WARNING :   Deprecation Warning: The `client_fn` function must return an instance of `Client`, but an instance of `NumpyClient` was returned. Please use `NumPyClient.to_client()` method to convert it to `Client`.\n"
     ]
    },
    {
     "name": "stdout",
     "output_type": "stream",
     "text": [
      "(ClientAppActor pid=19036) PrecomputingClient initialized.\n"
     ]
    },
    {
     "name": "stderr",
     "output_type": "stream",
     "text": [
      "Eval progress:   0%|          | 0/1 [00:00<?, ?batch/s]\n",
      "Eval progress: 100%|██████████| 1/1 [00:00<00:00,  3.95batch/s]\n",
      "(ClientAppActor pid=19036) WARNING :   Deprecation Warning: The `client_fn` function must return an instance of `Client`, but an instance of `NumpyClient` was returned. Please use `NumPyClient.to_client()` method to convert it to `Client`.\n",
      "Eval progress:   0%|          | 0/1 [00:00<?, ?batch/s]\n"
     ]
    },
    {
     "name": "stdout",
     "output_type": "stream",
     "text": [
      "(ClientAppActor pid=19036) [Client] Client on device: cuda:0\n",
      "(ClientAppActor pid=19036) [Client] CUDA available in client: True\n",
      "(ClientAppActor pid=19036) PrecomputingClient initialized.\n"
     ]
    },
    {
     "name": "stderr",
     "output_type": "stream",
     "text": [
      "Eval progress: 100%|██████████| 1/1 [00:00<00:00,  3.74batch/s]\n"
     ]
    },
    {
     "name": "stdout",
     "output_type": "stream",
     "text": [
      "(ClientAppActor pid=19036) [Client] Client on device: cuda:0\n",
      "(ClientAppActor pid=19036) [Client] CUDA available in client: True\n"
     ]
    },
    {
     "name": "stderr",
     "output_type": "stream",
     "text": [
      "(ClientAppActor pid=19036) WARNING :   Deprecation Warning: The `client_fn` function must return an instance of `Client`, but an instance of `NumpyClient` was returned. Please use `NumPyClient.to_client()` method to convert it to `Client`.\n"
     ]
    },
    {
     "name": "stdout",
     "output_type": "stream",
     "text": [
      "(ClientAppActor pid=19036) PrecomputingClient initialized.\n"
     ]
    },
    {
     "name": "stderr",
     "output_type": "stream",
     "text": [
      "Eval progress:   0%|          | 0/1 [00:00<?, ?batch/s]\n",
      "Eval progress: 100%|██████████| 1/1 [00:00<00:00,  3.92batch/s]\n",
      "(ClientAppActor pid=19036) WARNING :   Deprecation Warning: The `client_fn` function must return an instance of `Client`, but an instance of `NumpyClient` was returned. Please use `NumPyClient.to_client()` method to convert it to `Client`.\n",
      "Eval progress:   0%|          | 0/1 [00:00<?, ?batch/s]\n"
     ]
    },
    {
     "name": "stdout",
     "output_type": "stream",
     "text": [
      "(ClientAppActor pid=19036) [Client] Client on device: cuda:0\n",
      "(ClientAppActor pid=19036) [Client] CUDA available in client: True\n",
      "(ClientAppActor pid=19036) PrecomputingClient initialized.\n"
     ]
    },
    {
     "name": "stderr",
     "output_type": "stream",
     "text": [
      "\u001b[92mINFO \u001b[0m:      aggregate_evaluate: received 10 results and 0 failures\n",
      "\u001b[92mINFO \u001b[0m:      \n",
      "\u001b[92mINFO \u001b[0m:      [ROUND 14]\n",
      "\u001b[92mINFO \u001b[0m:      [Round 14] Quorum updated to: 66\n",
      "Eval progress: 100%|██████████| 1/1 [00:00<00:00,  3.93batch/s]\n",
      "\u001b[92mINFO \u001b[0m:      [Round 14] Generated initial global mask with quorum 66. Sparsity: 0.8284\n",
      "\u001b[92mINFO \u001b[0m:      configure_fit: strategy sampled 10 clients (out of 100)\n"
     ]
    },
    {
     "name": "stdout",
     "output_type": "stream",
     "text": [
      "(ClientAppActor pid=19036) [Client] Client on device: cuda:0\n",
      "(ClientAppActor pid=19036) [Client] CUDA available in client: True\n"
     ]
    },
    {
     "name": "stderr",
     "output_type": "stream",
     "text": [
      "(ClientAppActor pid=19036) WARNING :   Deprecation Warning: The `client_fn` function must return an instance of `Client`, but an instance of `NumpyClient` was returned. Please use `NumPyClient.to_client()` method to convert it to `Client`.\n"
     ]
    },
    {
     "name": "stdout",
     "output_type": "stream",
     "text": [
      "(ClientAppActor pid=19036) PrecomputingClient initialized.\n",
      "(ClientAppActor pid=19036) No prefix/name for the model was provided, choosen prefix/name: jazzy_sandshrew_80\n",
      "(ClientAppActor pid=19036) \n",
      "(ClientAppActor pid=19036) Step 1/8 | Total batches: 4\n",
      "(ClientAppActor pid=19036) Step 2/8 | Total batches: 4\n",
      "(ClientAppActor pid=19036) Step 3/8 | Total batches: 4\n",
      "(ClientAppActor pid=19036) Step 4/8 | Total batches: 4\n",
      "(ClientAppActor pid=19036) Step 5/8 | Total batches: 4\n",
      "(ClientAppActor pid=19036) Step 6/8 | Total batches: 4\n",
      "(ClientAppActor pid=19036) Step 7/8 | Total batches: 4\n",
      "(ClientAppActor pid=19036) Step 8/8 | Total batches: 4\n",
      "(ClientAppActor pid=19036) 🚀 Epoch 1/1 (100.00%) Completed\n",
      "(ClientAppActor pid=19036) \t📊 Training Loss: 0.4904\n",
      "(ClientAppActor pid=19036) \t✅ Training Accuracy: 83.00%\n",
      "(ClientAppActor pid=19036) \t⏳ Elapsed Time: 3.36s | ETA: 0.00s\n",
      "(ClientAppActor pid=19036) \t🕒 Completed At: 19:08\n",
      "(ClientAppActor pid=19036) \n"
     ]
    },
    {
     "name": "stderr",
     "output_type": "stream",
     "text": [
      "(ClientAppActor pid=19036) WARNING :   Deprecation Warning: The `client_fn` function must return an instance of `Client`, but an instance of `NumpyClient` was returned. Please use `NumPyClient.to_client()` method to convert it to `Client`.\n"
     ]
    },
    {
     "name": "stdout",
     "output_type": "stream",
     "text": [
      "(ClientAppActor pid=19036) [Client] Client on device: cuda:0\n",
      "(ClientAppActor pid=19036) [Client] CUDA available in client: True\n",
      "(ClientAppActor pid=19036) PrecomputingClient initialized.\n",
      "(ClientAppActor pid=19036) No prefix/name for the model was provided, choosen prefix/name: zany_ivysaur_23\n",
      "(ClientAppActor pid=19036) \n",
      "(ClientAppActor pid=19036) Step 1/8 | Total batches: 4\n",
      "(ClientAppActor pid=19036) Step 2/8 | Total batches: 4\n",
      "(ClientAppActor pid=19036) Step 3/8 | Total batches: 4\n",
      "(ClientAppActor pid=19036) Step 4/8 | Total batches: 4\n",
      "(ClientAppActor pid=19036) Step 5/8 | Total batches: 4\n",
      "(ClientAppActor pid=19036) Step 6/8 | Total batches: 4\n",
      "(ClientAppActor pid=19036) Step 7/8 | Total batches: 4\n",
      "(ClientAppActor pid=19036) Step 8/8 | Total batches: 4\n",
      "(ClientAppActor pid=19036) 🚀 Epoch 1/1 (100.00%) Completed\n",
      "(ClientAppActor pid=19036) \t📊 Training Loss: 0.4640\n",
      "(ClientAppActor pid=19036) \t✅ Training Accuracy: 85.75%\n",
      "(ClientAppActor pid=19036) \t⏳ Elapsed Time: 3.36s | ETA: 0.00s\n",
      "(ClientAppActor pid=19036) \t🕒 Completed At: 19:08\n",
      "(ClientAppActor pid=19036) \n"
     ]
    },
    {
     "name": "stderr",
     "output_type": "stream",
     "text": [
      "(ClientAppActor pid=19036) WARNING :   Deprecation Warning: The `client_fn` function must return an instance of `Client`, but an instance of `NumpyClient` was returned. Please use `NumPyClient.to_client()` method to convert it to `Client`.\n"
     ]
    },
    {
     "name": "stdout",
     "output_type": "stream",
     "text": [
      "(ClientAppActor pid=19036) [Client] Client on device: cuda:0\n",
      "(ClientAppActor pid=19036) [Client] CUDA available in client: True\n",
      "(ClientAppActor pid=19036) PrecomputingClient initialized.\n",
      "(ClientAppActor pid=19036) No prefix/name for the model was provided, choosen prefix/name: cheeky_clefairy_41\n",
      "(ClientAppActor pid=19036) \n",
      "(ClientAppActor pid=19036) Step 1/8 | Total batches: 4\n",
      "(ClientAppActor pid=19036) Step 2/8 | Total batches: 4\n",
      "(ClientAppActor pid=19036) Step 3/8 | Total batches: 4\n",
      "(ClientAppActor pid=19036) Step 4/8 | Total batches: 4\n",
      "(ClientAppActor pid=19036) Step 5/8 | Total batches: 4\n",
      "(ClientAppActor pid=19036) Step 6/8 | Total batches: 4\n",
      "(ClientAppActor pid=19036) Step 7/8 | Total batches: 4\n",
      "(ClientAppActor pid=19036) Step 8/8 | Total batches: 4\n",
      "(ClientAppActor pid=19036) 🚀 Epoch 1/1 (100.00%) Completed\n",
      "(ClientAppActor pid=19036) \t📊 Training Loss: 0.4998\n",
      "(ClientAppActor pid=19036) \t✅ Training Accuracy: 83.50%\n",
      "(ClientAppActor pid=19036) \t⏳ Elapsed Time: 3.38s | ETA: 0.00s\n",
      "(ClientAppActor pid=19036) \t🕒 Completed At: 19:08\n",
      "(ClientAppActor pid=19036) \n"
     ]
    },
    {
     "name": "stderr",
     "output_type": "stream",
     "text": [
      "(ClientAppActor pid=19036) WARNING :   Deprecation Warning: The `client_fn` function must return an instance of `Client`, but an instance of `NumpyClient` was returned. Please use `NumPyClient.to_client()` method to convert it to `Client`.\n"
     ]
    },
    {
     "name": "stdout",
     "output_type": "stream",
     "text": [
      "(ClientAppActor pid=19036) [Client] Client on device: cuda:0\n",
      "(ClientAppActor pid=19036) [Client] CUDA available in client: True\n",
      "(ClientAppActor pid=19036) PrecomputingClient initialized.\n",
      "(ClientAppActor pid=19036) No prefix/name for the model was provided, choosen prefix/name: jazzy_nidoking_58\n",
      "(ClientAppActor pid=19036) \n",
      "(ClientAppActor pid=19036) Step 1/8 | Total batches: 4\n",
      "(ClientAppActor pid=19036) Step 2/8 | Total batches: 4\n",
      "(ClientAppActor pid=19036) Step 3/8 | Total batches: 4\n",
      "(ClientAppActor pid=19036) Step 4/8 | Total batches: 4\n",
      "(ClientAppActor pid=19036) Step 5/8 | Total batches: 4\n",
      "(ClientAppActor pid=19036) Step 6/8 | Total batches: 4\n",
      "(ClientAppActor pid=19036) Step 7/8 | Total batches: 4\n",
      "(ClientAppActor pid=19036) Step 8/8 | Total batches: 4\n",
      "(ClientAppActor pid=19036) 🚀 Epoch 1/1 (100.00%) Completed\n",
      "(ClientAppActor pid=19036) \t📊 Training Loss: 0.6050\n",
      "(ClientAppActor pid=19036) \t✅ Training Accuracy: 83.88%\n",
      "(ClientAppActor pid=19036) \t⏳ Elapsed Time: 3.38s | ETA: 0.00s\n",
      "(ClientAppActor pid=19036) \t🕒 Completed At: 19:09\n",
      "(ClientAppActor pid=19036) \n"
     ]
    },
    {
     "name": "stderr",
     "output_type": "stream",
     "text": [
      "(ClientAppActor pid=19036) WARNING :   Deprecation Warning: The `client_fn` function must return an instance of `Client`, but an instance of `NumpyClient` was returned. Please use `NumPyClient.to_client()` method to convert it to `Client`.\n"
     ]
    },
    {
     "name": "stdout",
     "output_type": "stream",
     "text": [
      "(ClientAppActor pid=19036) [Client] Client on device: cuda:0\n",
      "(ClientAppActor pid=19036) [Client] CUDA available in client: True\n",
      "(ClientAppActor pid=19036) PrecomputingClient initialized.\n",
      "(ClientAppActor pid=19036) No prefix/name for the model was provided, choosen prefix/name: sleepy_butterfree_32\n",
      "(ClientAppActor pid=19036) \n",
      "(ClientAppActor pid=19036) Step 1/8 | Total batches: 4\n",
      "(ClientAppActor pid=19036) Step 2/8 | Total batches: 4\n",
      "(ClientAppActor pid=19036) Step 3/8 | Total batches: 4\n",
      "(ClientAppActor pid=19036) Step 4/8 | Total batches: 4\n",
      "(ClientAppActor pid=19036) Step 5/8 | Total batches: 4\n",
      "(ClientAppActor pid=19036) Step 6/8 | Total batches: 4\n",
      "(ClientAppActor pid=19036) Step 7/8 | Total batches: 4\n",
      "(ClientAppActor pid=19036) Step 8/8 | Total batches: 4\n",
      "(ClientAppActor pid=19036) 🚀 Epoch 1/1 (100.00%) Completed\n",
      "(ClientAppActor pid=19036) \t📊 Training Loss: 0.5382\n",
      "(ClientAppActor pid=19036) \t✅ Training Accuracy: 84.75%\n",
      "(ClientAppActor pid=19036) \t⏳ Elapsed Time: 3.38s | ETA: 0.00s\n",
      "(ClientAppActor pid=19036) \t🕒 Completed At: 19:09\n",
      "(ClientAppActor pid=19036) \n"
     ]
    },
    {
     "name": "stderr",
     "output_type": "stream",
     "text": [
      "(ClientAppActor pid=19036) WARNING :   Deprecation Warning: The `client_fn` function must return an instance of `Client`, but an instance of `NumpyClient` was returned. Please use `NumPyClient.to_client()` method to convert it to `Client`.\n"
     ]
    },
    {
     "name": "stdout",
     "output_type": "stream",
     "text": [
      "(ClientAppActor pid=19036) [Client] Client on device: cuda:0\n",
      "(ClientAppActor pid=19036) [Client] CUDA available in client: True\n",
      "(ClientAppActor pid=19036) PrecomputingClient initialized.\n",
      "(ClientAppActor pid=19036) No prefix/name for the model was provided, choosen prefix/name: groovy_ekans_14\n",
      "(ClientAppActor pid=19036) \n",
      "(ClientAppActor pid=19036) Step 1/8 | Total batches: 4\n",
      "(ClientAppActor pid=19036) Step 2/8 | Total batches: 4\n",
      "(ClientAppActor pid=19036) Step 3/8 | Total batches: 4\n",
      "(ClientAppActor pid=19036) Step 4/8 | Total batches: 4\n",
      "(ClientAppActor pid=19036) Step 5/8 | Total batches: 4\n",
      "(ClientAppActor pid=19036) Step 6/8 | Total batches: 4\n",
      "(ClientAppActor pid=19036) Step 7/8 | Total batches: 4\n",
      "(ClientAppActor pid=19036) Step 8/8 | Total batches: 4\n",
      "(ClientAppActor pid=19036) 🚀 Epoch 1/1 (100.00%) Completed\n",
      "(ClientAppActor pid=19036) \t📊 Training Loss: 0.3475\n",
      "(ClientAppActor pid=19036) \t✅ Training Accuracy: 89.88%\n",
      "(ClientAppActor pid=19036) \t⏳ Elapsed Time: 3.38s | ETA: 0.00s\n",
      "(ClientAppActor pid=19036) \t🕒 Completed At: 19:09\n",
      "(ClientAppActor pid=19036) \n"
     ]
    },
    {
     "name": "stderr",
     "output_type": "stream",
     "text": [
      "(ClientAppActor pid=19036) WARNING :   Deprecation Warning: The `client_fn` function must return an instance of `Client`, but an instance of `NumpyClient` was returned. Please use `NumPyClient.to_client()` method to convert it to `Client`.\n"
     ]
    },
    {
     "name": "stdout",
     "output_type": "stream",
     "text": [
      "(ClientAppActor pid=19036) [Client] Client on device: cuda:0\n",
      "(ClientAppActor pid=19036) [Client] CUDA available in client: True\n",
      "(ClientAppActor pid=19036) PrecomputingClient initialized.\n",
      "(ClientAppActor pid=19036) No prefix/name for the model was provided, choosen prefix/name: dorky_arbok_98\n",
      "(ClientAppActor pid=19036) \n",
      "(ClientAppActor pid=19036) Step 1/8 | Total batches: 4\n",
      "(ClientAppActor pid=19036) Step 2/8 | Total batches: 4\n",
      "(ClientAppActor pid=19036) Step 3/8 | Total batches: 4\n",
      "(ClientAppActor pid=19036) Step 4/8 | Total batches: 4\n",
      "(ClientAppActor pid=19036) Step 5/8 | Total batches: 4\n",
      "(ClientAppActor pid=19036) Step 6/8 | Total batches: 4\n",
      "(ClientAppActor pid=19036) Step 7/8 | Total batches: 4\n",
      "(ClientAppActor pid=19036) Step 8/8 | Total batches: 4\n",
      "(ClientAppActor pid=19036) 🚀 Epoch 1/1 (100.00%) Completed\n",
      "(ClientAppActor pid=19036) \t📊 Training Loss: 0.5057\n",
      "(ClientAppActor pid=19036) \t✅ Training Accuracy: 85.62%\n",
      "(ClientAppActor pid=19036) \t⏳ Elapsed Time: 3.38s | ETA: 0.00s\n",
      "(ClientAppActor pid=19036) \t🕒 Completed At: 19:09\n",
      "(ClientAppActor pid=19036) \n"
     ]
    },
    {
     "name": "stderr",
     "output_type": "stream",
     "text": [
      "(ClientAppActor pid=19036) WARNING :   Deprecation Warning: The `client_fn` function must return an instance of `Client`, but an instance of `NumpyClient` was returned. Please use `NumPyClient.to_client()` method to convert it to `Client`.\n"
     ]
    },
    {
     "name": "stdout",
     "output_type": "stream",
     "text": [
      "(ClientAppActor pid=19036) [Client] Client on device: cuda:0\n",
      "(ClientAppActor pid=19036) [Client] CUDA available in client: True\n",
      "(ClientAppActor pid=19036) PrecomputingClient initialized.\n",
      "(ClientAppActor pid=19036) No prefix/name for the model was provided, choosen prefix/name: jumpy_rattata_75\n",
      "(ClientAppActor pid=19036) \n",
      "(ClientAppActor pid=19036) Step 1/8 | Total batches: 4\n",
      "(ClientAppActor pid=19036) Step 2/8 | Total batches: 4\n",
      "(ClientAppActor pid=19036) Step 3/8 | Total batches: 4\n",
      "(ClientAppActor pid=19036) Step 4/8 | Total batches: 4\n",
      "(ClientAppActor pid=19036) Step 5/8 | Total batches: 4\n",
      "(ClientAppActor pid=19036) Step 6/8 | Total batches: 4\n",
      "(ClientAppActor pid=19036) Step 7/8 | Total batches: 4\n",
      "(ClientAppActor pid=19036) Step 8/8 | Total batches: 4\n",
      "(ClientAppActor pid=19036) 🚀 Epoch 1/1 (100.00%) Completed\n",
      "(ClientAppActor pid=19036) \t📊 Training Loss: 0.1745\n",
      "(ClientAppActor pid=19036) \t✅ Training Accuracy: 95.50%\n",
      "(ClientAppActor pid=19036) \t⏳ Elapsed Time: 3.39s | ETA: 0.00s\n",
      "(ClientAppActor pid=19036) \t🕒 Completed At: 19:09\n",
      "(ClientAppActor pid=19036) \n"
     ]
    },
    {
     "name": "stderr",
     "output_type": "stream",
     "text": [
      "(ClientAppActor pid=19036) WARNING :   Deprecation Warning: The `client_fn` function must return an instance of `Client`, but an instance of `NumpyClient` was returned. Please use `NumPyClient.to_client()` method to convert it to `Client`.\n"
     ]
    },
    {
     "name": "stdout",
     "output_type": "stream",
     "text": [
      "(ClientAppActor pid=19036) [Client] Client on device: cuda:0\n",
      "(ClientAppActor pid=19036) [Client] CUDA available in client: True\n",
      "(ClientAppActor pid=19036) PrecomputingClient initialized.\n",
      "(ClientAppActor pid=19036) No prefix/name for the model was provided, choosen prefix/name: silly_metapod_90\n",
      "(ClientAppActor pid=19036) \n",
      "(ClientAppActor pid=19036) Step 1/8 | Total batches: 4\n",
      "(ClientAppActor pid=19036) Step 2/8 | Total batches: 4\n",
      "(ClientAppActor pid=19036) Step 3/8 | Total batches: 4\n",
      "(ClientAppActor pid=19036) Step 4/8 | Total batches: 4\n",
      "(ClientAppActor pid=19036) Step 5/8 | Total batches: 4\n",
      "(ClientAppActor pid=19036) Step 6/8 | Total batches: 4\n",
      "(ClientAppActor pid=19036) Step 7/8 | Total batches: 4\n",
      "(ClientAppActor pid=19036) Step 8/8 | Total batches: 4\n",
      "(ClientAppActor pid=19036) 🚀 Epoch 1/1 (100.00%) Completed\n",
      "(ClientAppActor pid=19036) \t📊 Training Loss: 0.8229\n",
      "(ClientAppActor pid=19036) \t✅ Training Accuracy: 74.88%\n",
      "(ClientAppActor pid=19036) \t⏳ Elapsed Time: 3.40s | ETA: 0.00s\n",
      "(ClientAppActor pid=19036) \t🕒 Completed At: 19:09\n",
      "(ClientAppActor pid=19036) \n"
     ]
    },
    {
     "name": "stderr",
     "output_type": "stream",
     "text": [
      "(ClientAppActor pid=19036) WARNING :   Deprecation Warning: The `client_fn` function must return an instance of `Client`, but an instance of `NumpyClient` was returned. Please use `NumPyClient.to_client()` method to convert it to `Client`.\n"
     ]
    },
    {
     "name": "stdout",
     "output_type": "stream",
     "text": [
      "(ClientAppActor pid=19036) [Client] Client on device: cuda:0\n",
      "(ClientAppActor pid=19036) [Client] CUDA available in client: True\n",
      "(ClientAppActor pid=19036) PrecomputingClient initialized.\n",
      "(ClientAppActor pid=19036) No prefix/name for the model was provided, choosen prefix/name: peppy_charmander_76\n",
      "(ClientAppActor pid=19036) \n",
      "(ClientAppActor pid=19036) Step 1/8 | Total batches: 4\n",
      "(ClientAppActor pid=19036) Step 2/8 | Total batches: 4\n",
      "(ClientAppActor pid=19036) Step 3/8 | Total batches: 4\n",
      "(ClientAppActor pid=19036) Step 4/8 | Total batches: 4\n",
      "(ClientAppActor pid=19036) Step 5/8 | Total batches: 4\n",
      "(ClientAppActor pid=19036) Step 6/8 | Total batches: 4\n",
      "(ClientAppActor pid=19036) Step 7/8 | Total batches: 4\n",
      "(ClientAppActor pid=19036) Step 8/8 | Total batches: 4\n",
      "(ClientAppActor pid=19036) 🚀 Epoch 1/1 (100.00%) Completed\n",
      "(ClientAppActor pid=19036) \t📊 Training Loss: 0.3296\n",
      "(ClientAppActor pid=19036) \t✅ Training Accuracy: 89.25%\n",
      "(ClientAppActor pid=19036) \t⏳ Elapsed Time: 3.38s | ETA: 0.00s\n",
      "(ClientAppActor pid=19036) \t🕒 Completed At: 19:09\n",
      "(ClientAppActor pid=19036) \n"
     ]
    },
    {
     "name": "stderr",
     "output_type": "stream",
     "text": [
      "\u001b[92mINFO \u001b[0m:      aggregate_fit: received 10 results and 0 failures\n",
      "\u001b[92mINFO \u001b[0m:      [Round 14] Avg Drift: 0.0008 | Relative Drift: 0.0000\n",
      "\u001b[92mINFO \u001b[0m:      [Round 14] Saving aggregated model at epoch 214...\n"
     ]
    },
    {
     "name": "stdout",
     "output_type": "stream",
     "text": [
      "💾 Saved checkpoint at: /Users/ciovi/Desktop/coding/mldl/fl-g13/checkpoints/fl_dino_v4/non_iid/1_8_dynamic-quorum\\fl_Test_Dynamic_Quorum_v2_BaseDino_epoch_214.pth\n",
      "[Server Eval Round 14] Model device: cuda:0\n",
      "[Server Eval Round 14] CUDA available in server eval: True\n"
     ]
    },
    {
     "name": "stderr",
     "output_type": "stream",
     "text": [
      "Eval progress: 100%|██████████| 313/313 [00:22<00:00, 14.05batch/s]\n",
      "\u001b[92mINFO \u001b[0m:      [Round 14] Centralized Evaluation - Loss: 2.1304, Metrics: {'centralized_accuracy': 0.4451}\n",
      "\u001b[92mINFO \u001b[0m:      fit progress: (14, 2.130416482020491, {'centralized_accuracy': 0.4451}, 1143.4468676999968)\n",
      "\u001b[92mINFO \u001b[0m:      configure_evaluate: strategy sampled 10 clients (out of 100)\n",
      "(ClientAppActor pid=19036) WARNING :   Deprecation Warning: The `client_fn` function must return an instance of `Client`, but an instance of `NumpyClient` was returned. Please use `NumPyClient.to_client()` method to convert it to `Client`.\n"
     ]
    },
    {
     "name": "stdout",
     "output_type": "stream",
     "text": [
      "(ClientAppActor pid=19036) [Client] Client on device: cuda:0\n",
      "(ClientAppActor pid=19036) [Client] CUDA available in client: True\n",
      "(ClientAppActor pid=19036) PrecomputingClient initialized.\n"
     ]
    },
    {
     "name": "stderr",
     "output_type": "stream",
     "text": [
      "Eval progress:   0%|          | 0/1 [00:00<?, ?batch/s]\n",
      "Eval progress: 100%|██████████| 1/1 [00:00<00:00,  3.89batch/s]\n",
      "(ClientAppActor pid=19036) WARNING :   Deprecation Warning: The `client_fn` function must return an instance of `Client`, but an instance of `NumpyClient` was returned. Please use `NumPyClient.to_client()` method to convert it to `Client`.\n"
     ]
    },
    {
     "name": "stdout",
     "output_type": "stream",
     "text": [
      "(ClientAppActor pid=19036) [Client] Client on device: cuda:0\n",
      "(ClientAppActor pid=19036) [Client] CUDA available in client: True\n",
      "(ClientAppActor pid=19036) PrecomputingClient initialized.\n"
     ]
    },
    {
     "name": "stderr",
     "output_type": "stream",
     "text": [
      "Eval progress:   0%|          | 0/1 [00:00<?, ?batch/s]\n",
      "Eval progress: 100%|██████████| 1/1 [00:00<00:00,  3.94batch/s]\n"
     ]
    },
    {
     "name": "stdout",
     "output_type": "stream",
     "text": [
      "(ClientAppActor pid=19036) [Client] Client on device: cuda:0\n",
      "(ClientAppActor pid=19036) [Client] CUDA available in client: True\n"
     ]
    },
    {
     "name": "stderr",
     "output_type": "stream",
     "text": [
      "(ClientAppActor pid=19036) WARNING :   Deprecation Warning: The `client_fn` function must return an instance of `Client`, but an instance of `NumpyClient` was returned. Please use `NumPyClient.to_client()` method to convert it to `Client`.\n",
      "Eval progress:   0%|          | 0/1 [00:00<?, ?batch/s]\n"
     ]
    },
    {
     "name": "stdout",
     "output_type": "stream",
     "text": [
      "(ClientAppActor pid=19036) PrecomputingClient initialized.\n"
     ]
    },
    {
     "name": "stderr",
     "output_type": "stream",
     "text": [
      "Eval progress: 100%|██████████| 1/1 [00:00<00:00,  3.80batch/s]\n",
      "(ClientAppActor pid=19036) WARNING :   Deprecation Warning: The `client_fn` function must return an instance of `Client`, but an instance of `NumpyClient` was returned. Please use `NumPyClient.to_client()` method to convert it to `Client`.\n",
      "Eval progress:   0%|          | 0/1 [00:00<?, ?batch/s]\n"
     ]
    },
    {
     "name": "stdout",
     "output_type": "stream",
     "text": [
      "(ClientAppActor pid=19036) [Client] Client on device: cuda:0\n",
      "(ClientAppActor pid=19036) [Client] CUDA available in client: True\n",
      "(ClientAppActor pid=19036) PrecomputingClient initialized.\n"
     ]
    },
    {
     "name": "stderr",
     "output_type": "stream",
     "text": [
      "Eval progress: 100%|██████████| 1/1 [00:00<00:00,  3.91batch/s]\n",
      "(ClientAppActor pid=19036) WARNING :   Deprecation Warning: The `client_fn` function must return an instance of `Client`, but an instance of `NumpyClient` was returned. Please use `NumPyClient.to_client()` method to convert it to `Client`.\n",
      "Eval progress:   0%|          | 0/1 [00:00<?, ?batch/s]\n"
     ]
    },
    {
     "name": "stdout",
     "output_type": "stream",
     "text": [
      "(ClientAppActor pid=19036) [Client] Client on device: cuda:0\n",
      "(ClientAppActor pid=19036) [Client] CUDA available in client: True\n",
      "(ClientAppActor pid=19036) PrecomputingClient initialized.\n"
     ]
    },
    {
     "name": "stderr",
     "output_type": "stream",
     "text": [
      "Eval progress: 100%|██████████| 1/1 [00:00<00:00,  3.95batch/s]\n",
      "(ClientAppActor pid=19036) WARNING :   Deprecation Warning: The `client_fn` function must return an instance of `Client`, but an instance of `NumpyClient` was returned. Please use `NumPyClient.to_client()` method to convert it to `Client`.\n",
      "Eval progress:   0%|          | 0/1 [00:00<?, ?batch/s]\n"
     ]
    },
    {
     "name": "stdout",
     "output_type": "stream",
     "text": [
      "(ClientAppActor pid=19036) [Client] Client on device: cuda:0\n",
      "(ClientAppActor pid=19036) [Client] CUDA available in client: True\n",
      "(ClientAppActor pid=19036) PrecomputingClient initialized.\n"
     ]
    },
    {
     "name": "stderr",
     "output_type": "stream",
     "text": [
      "Eval progress: 100%|██████████| 1/1 [00:00<00:00,  3.91batch/s]\n",
      "(ClientAppActor pid=19036) WARNING :   Deprecation Warning: The `client_fn` function must return an instance of `Client`, but an instance of `NumpyClient` was returned. Please use `NumPyClient.to_client()` method to convert it to `Client`.\n"
     ]
    },
    {
     "name": "stdout",
     "output_type": "stream",
     "text": [
      "(ClientAppActor pid=19036) [Client] Client on device: cuda:0\n",
      "(ClientAppActor pid=19036) [Client] CUDA available in client: True\n",
      "(ClientAppActor pid=19036) PrecomputingClient initialized.\n"
     ]
    },
    {
     "name": "stderr",
     "output_type": "stream",
     "text": [
      "Eval progress:   0%|          | 0/1 [00:00<?, ?batch/s]\n",
      "Eval progress: 100%|██████████| 1/1 [00:00<00:00,  3.95batch/s]\n",
      "(ClientAppActor pid=19036) WARNING :   Deprecation Warning: The `client_fn` function must return an instance of `Client`, but an instance of `NumpyClient` was returned. Please use `NumPyClient.to_client()` method to convert it to `Client`.\n"
     ]
    },
    {
     "name": "stdout",
     "output_type": "stream",
     "text": [
      "(ClientAppActor pid=19036) [Client] Client on device: cuda:0\n",
      "(ClientAppActor pid=19036) [Client] CUDA available in client: True\n",
      "(ClientAppActor pid=19036) PrecomputingClient initialized.\n"
     ]
    },
    {
     "name": "stderr",
     "output_type": "stream",
     "text": [
      "Eval progress:   0%|          | 0/1 [00:00<?, ?batch/s]\n",
      "Eval progress: 100%|██████████| 1/1 [00:00<00:00,  3.94batch/s]\n",
      "(ClientAppActor pid=19036) WARNING :   Deprecation Warning: The `client_fn` function must return an instance of `Client`, but an instance of `NumpyClient` was returned. Please use `NumPyClient.to_client()` method to convert it to `Client`.\n",
      "Eval progress:   0%|          | 0/1 [00:00<?, ?batch/s]\n"
     ]
    },
    {
     "name": "stdout",
     "output_type": "stream",
     "text": [
      "(ClientAppActor pid=19036) [Client] Client on device: cuda:0\n",
      "(ClientAppActor pid=19036) [Client] CUDA available in client: True\n",
      "(ClientAppActor pid=19036) PrecomputingClient initialized.\n"
     ]
    },
    {
     "name": "stderr",
     "output_type": "stream",
     "text": [
      "Eval progress: 100%|██████████| 1/1 [00:00<00:00,  3.84batch/s]\n",
      "(ClientAppActor pid=19036) WARNING :   Deprecation Warning: The `client_fn` function must return an instance of `Client`, but an instance of `NumpyClient` was returned. Please use `NumPyClient.to_client()` method to convert it to `Client`.\n",
      "Eval progress:   0%|          | 0/1 [00:00<?, ?batch/s]\n"
     ]
    },
    {
     "name": "stdout",
     "output_type": "stream",
     "text": [
      "(ClientAppActor pid=19036) [Client] Client on device: cuda:0\n",
      "(ClientAppActor pid=19036) [Client] CUDA available in client: True\n",
      "(ClientAppActor pid=19036) PrecomputingClient initialized.\n"
     ]
    },
    {
     "name": "stderr",
     "output_type": "stream",
     "text": [
      "Eval progress: 100%|██████████| 1/1 [00:00<00:00,  3.93batch/s]\n",
      "\u001b[92mINFO \u001b[0m:      aggregate_evaluate: received 10 results and 0 failures\n",
      "\u001b[92mINFO \u001b[0m:      \n",
      "\u001b[92mINFO \u001b[0m:      [ROUND 15]\n",
      "\u001b[92mINFO \u001b[0m:      [Round 15] Quorum updated to: 71\n",
      "\u001b[92mINFO \u001b[0m:      [Round 15] Generated initial global mask with quorum 71. Sparsity: 0.8417\n",
      "\u001b[92mINFO \u001b[0m:      configure_fit: strategy sampled 10 clients (out of 100)\n",
      "(ClientAppActor pid=19036) WARNING :   Deprecation Warning: The `client_fn` function must return an instance of `Client`, but an instance of `NumpyClient` was returned. Please use `NumPyClient.to_client()` method to convert it to `Client`.\n"
     ]
    },
    {
     "name": "stdout",
     "output_type": "stream",
     "text": [
      "(ClientAppActor pid=19036) [Client] Client on device: cuda:0\n",
      "(ClientAppActor pid=19036) [Client] CUDA available in client: True\n",
      "(ClientAppActor pid=19036) PrecomputingClient initialized.\n",
      "(ClientAppActor pid=19036) No prefix/name for the model was provided, choosen prefix/name: funky_nidoking_19\n",
      "(ClientAppActor pid=19036) \n",
      "(ClientAppActor pid=19036) Step 1/8 | Total batches: 4\n",
      "(ClientAppActor pid=19036) Step 2/8 | Total batches: 4\n",
      "(ClientAppActor pid=19036) Step 3/8 | Total batches: 4\n",
      "(ClientAppActor pid=19036) Step 4/8 | Total batches: 4\n",
      "(ClientAppActor pid=19036) Step 5/8 | Total batches: 4\n",
      "(ClientAppActor pid=19036) Step 6/8 | Total batches: 4\n",
      "(ClientAppActor pid=19036) Step 7/8 | Total batches: 4\n",
      "(ClientAppActor pid=19036) Step 8/8 | Total batches: 4\n",
      "(ClientAppActor pid=19036) 🚀 Epoch 1/1 (100.00%) Completed\n",
      "(ClientAppActor pid=19036) \t📊 Training Loss: 1.0858\n",
      "(ClientAppActor pid=19036) \t✅ Training Accuracy: 70.75%\n",
      "(ClientAppActor pid=19036) \t⏳ Elapsed Time: 3.36s | ETA: 0.00s\n",
      "(ClientAppActor pid=19036) \t🕒 Completed At: 19:10\n",
      "(ClientAppActor pid=19036) \n"
     ]
    },
    {
     "name": "stderr",
     "output_type": "stream",
     "text": [
      "(ClientAppActor pid=19036) WARNING :   Deprecation Warning: The `client_fn` function must return an instance of `Client`, but an instance of `NumpyClient` was returned. Please use `NumPyClient.to_client()` method to convert it to `Client`.\n"
     ]
    },
    {
     "name": "stdout",
     "output_type": "stream",
     "text": [
      "(ClientAppActor pid=19036) [Client] Client on device: cuda:0\n",
      "(ClientAppActor pid=19036) [Client] CUDA available in client: True\n",
      "(ClientAppActor pid=19036) PrecomputingClient initialized.\n",
      "(ClientAppActor pid=19036) No prefix/name for the model was provided, choosen prefix/name: funky_weedle_39\n",
      "(ClientAppActor pid=19036) \n",
      "(ClientAppActor pid=19036) Step 1/8 | Total batches: 4\n",
      "(ClientAppActor pid=19036) Step 2/8 | Total batches: 4\n",
      "(ClientAppActor pid=19036) Step 3/8 | Total batches: 4\n",
      "(ClientAppActor pid=19036) Step 4/8 | Total batches: 4\n",
      "(ClientAppActor pid=19036) Step 5/8 | Total batches: 4\n",
      "(ClientAppActor pid=19036) Step 6/8 | Total batches: 4\n",
      "(ClientAppActor pid=19036) Step 7/8 | Total batches: 4\n",
      "(ClientAppActor pid=19036) Step 8/8 | Total batches: 4\n",
      "(ClientAppActor pid=19036) 🚀 Epoch 1/1 (100.00%) Completed\n",
      "(ClientAppActor pid=19036) \t📊 Training Loss: 0.9941\n",
      "(ClientAppActor pid=19036) \t✅ Training Accuracy: 73.88%\n",
      "(ClientAppActor pid=19036) \t⏳ Elapsed Time: 3.35s | ETA: 0.00s\n",
      "(ClientAppActor pid=19036) \t🕒 Completed At: 19:10\n",
      "(ClientAppActor pid=19036) \n",
      "(ClientAppActor pid=19036) [Client] Client on device: cuda:0\n",
      "(ClientAppActor pid=19036) [Client] CUDA available in client: True\n"
     ]
    },
    {
     "name": "stderr",
     "output_type": "stream",
     "text": [
      "(ClientAppActor pid=19036) WARNING :   Deprecation Warning: The `client_fn` function must return an instance of `Client`, but an instance of `NumpyClient` was returned. Please use `NumPyClient.to_client()` method to convert it to `Client`.\n"
     ]
    },
    {
     "name": "stdout",
     "output_type": "stream",
     "text": [
      "(ClientAppActor pid=19036) PrecomputingClient initialized.\n",
      "(ClientAppActor pid=19036) No prefix/name for the model was provided, choosen prefix/name: funky_nidoran_10\n",
      "(ClientAppActor pid=19036) \n",
      "(ClientAppActor pid=19036) Step 1/8 | Total batches: 4\n",
      "(ClientAppActor pid=19036) Step 2/8 | Total batches: 4\n",
      "(ClientAppActor pid=19036) Step 3/8 | Total batches: 4\n",
      "(ClientAppActor pid=19036) Step 4/8 | Total batches: 4\n",
      "(ClientAppActor pid=19036) Step 5/8 | Total batches: 4\n",
      "(ClientAppActor pid=19036) Step 6/8 | Total batches: 4\n",
      "(ClientAppActor pid=19036) Step 7/8 | Total batches: 4\n",
      "(ClientAppActor pid=19036) Step 8/8 | Total batches: 4\n",
      "(ClientAppActor pid=19036) 🚀 Epoch 1/1 (100.00%) Completed\n",
      "(ClientAppActor pid=19036) \t📊 Training Loss: 0.4057\n",
      "(ClientAppActor pid=19036) \t✅ Training Accuracy: 88.62%\n",
      "(ClientAppActor pid=19036) \t⏳ Elapsed Time: 3.37s | ETA: 0.00s\n",
      "(ClientAppActor pid=19036) \t🕒 Completed At: 19:10\n",
      "(ClientAppActor pid=19036) \n"
     ]
    },
    {
     "name": "stderr",
     "output_type": "stream",
     "text": [
      "(ClientAppActor pid=19036) WARNING :   Deprecation Warning: The `client_fn` function must return an instance of `Client`, but an instance of `NumpyClient` was returned. Please use `NumPyClient.to_client()` method to convert it to `Client`.\n"
     ]
    },
    {
     "name": "stdout",
     "output_type": "stream",
     "text": [
      "(ClientAppActor pid=19036) [Client] Client on device: cuda:0\n",
      "(ClientAppActor pid=19036) [Client] CUDA available in client: True\n",
      "(ClientAppActor pid=19036) PrecomputingClient initialized.\n",
      "(ClientAppActor pid=19036) No prefix/name for the model was provided, choosen prefix/name: zippy_ekans_22\n",
      "(ClientAppActor pid=19036) \n",
      "(ClientAppActor pid=19036) Step 1/8 | Total batches: 4\n",
      "(ClientAppActor pid=19036) Step 2/8 | Total batches: 4\n",
      "(ClientAppActor pid=19036) Step 3/8 | Total batches: 4\n",
      "(ClientAppActor pid=19036) Step 4/8 | Total batches: 4\n",
      "(ClientAppActor pid=19036) Step 5/8 | Total batches: 4\n",
      "(ClientAppActor pid=19036) Step 6/8 | Total batches: 4\n",
      "(ClientAppActor pid=19036) Step 7/8 | Total batches: 4\n",
      "(ClientAppActor pid=19036) Step 8/8 | Total batches: 4\n",
      "(ClientAppActor pid=19036) 🚀 Epoch 1/1 (100.00%) Completed\n",
      "(ClientAppActor pid=19036) \t📊 Training Loss: 0.6054\n",
      "(ClientAppActor pid=19036) \t✅ Training Accuracy: 75.38%\n",
      "(ClientAppActor pid=19036) \t⏳ Elapsed Time: 3.39s | ETA: 0.00s\n",
      "(ClientAppActor pid=19036) \t🕒 Completed At: 19:10\n",
      "(ClientAppActor pid=19036) \n"
     ]
    },
    {
     "name": "stderr",
     "output_type": "stream",
     "text": [
      "(ClientAppActor pid=19036) WARNING :   Deprecation Warning: The `client_fn` function must return an instance of `Client`, but an instance of `NumpyClient` was returned. Please use `NumPyClient.to_client()` method to convert it to `Client`.\n"
     ]
    },
    {
     "name": "stdout",
     "output_type": "stream",
     "text": [
      "(ClientAppActor pid=19036) [Client] Client on device: cuda:0\n",
      "(ClientAppActor pid=19036) [Client] CUDA available in client: True\n",
      "(ClientAppActor pid=19036) PrecomputingClient initialized.\n",
      "(ClientAppActor pid=19036) No prefix/name for the model was provided, choosen prefix/name: bouncy_nidorino_59\n",
      "(ClientAppActor pid=19036) \n",
      "(ClientAppActor pid=19036) Step 1/8 | Total batches: 4\n",
      "(ClientAppActor pid=19036) Step 2/8 | Total batches: 4\n",
      "(ClientAppActor pid=19036) Step 3/8 | Total batches: 4\n",
      "(ClientAppActor pid=19036) Step 4/8 | Total batches: 4\n",
      "(ClientAppActor pid=19036) Step 5/8 | Total batches: 4\n",
      "(ClientAppActor pid=19036) Step 6/8 | Total batches: 4\n",
      "(ClientAppActor pid=19036) Step 7/8 | Total batches: 4\n",
      "(ClientAppActor pid=19036) Step 8/8 | Total batches: 4\n",
      "(ClientAppActor pid=19036) 🚀 Epoch 1/1 (100.00%) Completed\n",
      "(ClientAppActor pid=19036) \t📊 Training Loss: 0.4637\n",
      "(ClientAppActor pid=19036) \t✅ Training Accuracy: 88.75%\n",
      "(ClientAppActor pid=19036) \t⏳ Elapsed Time: 3.38s | ETA: 0.00s\n",
      "(ClientAppActor pid=19036) \t🕒 Completed At: 19:10\n",
      "(ClientAppActor pid=19036) \n"
     ]
    },
    {
     "name": "stderr",
     "output_type": "stream",
     "text": [
      "(ClientAppActor pid=19036) WARNING :   Deprecation Warning: The `client_fn` function must return an instance of `Client`, but an instance of `NumpyClient` was returned. Please use `NumPyClient.to_client()` method to convert it to `Client`.\n"
     ]
    },
    {
     "name": "stdout",
     "output_type": "stream",
     "text": [
      "(ClientAppActor pid=19036) [Client] Client on device: cuda:0\n",
      "(ClientAppActor pid=19036) [Client] CUDA available in client: True\n",
      "(ClientAppActor pid=19036) PrecomputingClient initialized.\n",
      "(ClientAppActor pid=19036) No prefix/name for the model was provided, choosen prefix/name: jumpy_pidgeot_63\n",
      "(ClientAppActor pid=19036) \n",
      "(ClientAppActor pid=19036) Step 1/8 | Total batches: 4\n",
      "(ClientAppActor pid=19036) Step 2/8 | Total batches: 4\n",
      "(ClientAppActor pid=19036) Step 3/8 | Total batches: 4\n",
      "(ClientAppActor pid=19036) Step 4/8 | Total batches: 4\n",
      "(ClientAppActor pid=19036) Step 5/8 | Total batches: 4\n",
      "(ClientAppActor pid=19036) Step 6/8 | Total batches: 4\n",
      "(ClientAppActor pid=19036) Step 7/8 | Total batches: 4\n",
      "(ClientAppActor pid=19036) Step 8/8 | Total batches: 4\n",
      "(ClientAppActor pid=19036) 🚀 Epoch 1/1 (100.00%) Completed\n",
      "(ClientAppActor pid=19036) \t📊 Training Loss: 0.4099\n",
      "(ClientAppActor pid=19036) \t✅ Training Accuracy: 88.75%\n",
      "(ClientAppActor pid=19036) \t⏳ Elapsed Time: 3.39s | ETA: 0.00s\n",
      "(ClientAppActor pid=19036) \t🕒 Completed At: 19:10\n",
      "(ClientAppActor pid=19036) \n"
     ]
    },
    {
     "name": "stderr",
     "output_type": "stream",
     "text": [
      "(ClientAppActor pid=19036) WARNING :   Deprecation Warning: The `client_fn` function must return an instance of `Client`, but an instance of `NumpyClient` was returned. Please use `NumPyClient.to_client()` method to convert it to `Client`.\n"
     ]
    },
    {
     "name": "stdout",
     "output_type": "stream",
     "text": [
      "(ClientAppActor pid=19036) [Client] Client on device: cuda:0\n",
      "(ClientAppActor pid=19036) [Client] CUDA available in client: True\n",
      "(ClientAppActor pid=19036) PrecomputingClient initialized.\n",
      "(ClientAppActor pid=19036) No prefix/name for the model was provided, choosen prefix/name: sassy_blastoise_24\n",
      "(ClientAppActor pid=19036) \n",
      "(ClientAppActor pid=19036) Step 1/8 | Total batches: 4\n",
      "(ClientAppActor pid=19036) Step 2/8 | Total batches: 4\n",
      "(ClientAppActor pid=19036) Step 3/8 | Total batches: 4\n",
      "(ClientAppActor pid=19036) Step 4/8 | Total batches: 4\n",
      "(ClientAppActor pid=19036) Step 5/8 | Total batches: 4\n",
      "(ClientAppActor pid=19036) Step 6/8 | Total batches: 4\n",
      "(ClientAppActor pid=19036) Step 7/8 | Total batches: 4\n",
      "(ClientAppActor pid=19036) Step 8/8 | Total batches: 4\n",
      "(ClientAppActor pid=19036) 🚀 Epoch 1/1 (100.00%) Completed\n",
      "(ClientAppActor pid=19036) \t📊 Training Loss: 0.5767\n",
      "(ClientAppActor pid=19036) \t✅ Training Accuracy: 83.25%\n",
      "(ClientAppActor pid=19036) \t⏳ Elapsed Time: 3.40s | ETA: 0.00s\n",
      "(ClientAppActor pid=19036) \t🕒 Completed At: 19:10\n",
      "(ClientAppActor pid=19036) \n"
     ]
    },
    {
     "name": "stderr",
     "output_type": "stream",
     "text": [
      "(ClientAppActor pid=19036) WARNING :   Deprecation Warning: The `client_fn` function must return an instance of `Client`, but an instance of `NumpyClient` was returned. Please use `NumPyClient.to_client()` method to convert it to `Client`.\n"
     ]
    },
    {
     "name": "stdout",
     "output_type": "stream",
     "text": [
      "(ClientAppActor pid=19036) [Client] Client on device: cuda:0\n",
      "(ClientAppActor pid=19036) [Client] CUDA available in client: True\n",
      "(ClientAppActor pid=19036) PrecomputingClient initialized.\n",
      "(ClientAppActor pid=19036) No prefix/name for the model was provided, choosen prefix/name: silly_nidoran_79\n",
      "(ClientAppActor pid=19036) \n",
      "(ClientAppActor pid=19036) Step 1/8 | Total batches: 4\n",
      "(ClientAppActor pid=19036) Step 2/8 | Total batches: 4\n",
      "(ClientAppActor pid=19036) Step 3/8 | Total batches: 4\n",
      "(ClientAppActor pid=19036) Step 4/8 | Total batches: 4\n",
      "(ClientAppActor pid=19036) Step 5/8 | Total batches: 4\n",
      "(ClientAppActor pid=19036) Step 6/8 | Total batches: 4\n",
      "(ClientAppActor pid=19036) Step 7/8 | Total batches: 4\n",
      "(ClientAppActor pid=19036) Step 8/8 | Total batches: 4\n",
      "(ClientAppActor pid=19036) 🚀 Epoch 1/1 (100.00%) Completed\n",
      "(ClientAppActor pid=19036) \t📊 Training Loss: 0.8586\n",
      "(ClientAppActor pid=19036) \t✅ Training Accuracy: 70.88%\n",
      "(ClientAppActor pid=19036) \t⏳ Elapsed Time: 3.38s | ETA: 0.00s\n",
      "(ClientAppActor pid=19036) \t🕒 Completed At: 19:10\n",
      "(ClientAppActor pid=19036) \n",
      "(ClientAppActor pid=19036) [Client] Client on device: cuda:0\n",
      "(ClientAppActor pid=19036) [Client] CUDA available in client: True\n"
     ]
    },
    {
     "name": "stderr",
     "output_type": "stream",
     "text": [
      "(ClientAppActor pid=19036) WARNING :   Deprecation Warning: The `client_fn` function must return an instance of `Client`, but an instance of `NumpyClient` was returned. Please use `NumPyClient.to_client()` method to convert it to `Client`.\n"
     ]
    },
    {
     "name": "stdout",
     "output_type": "stream",
     "text": [
      "(ClientAppActor pid=19036) PrecomputingClient initialized.\n",
      "(ClientAppActor pid=19036) No prefix/name for the model was provided, choosen prefix/name: bubbly_pikachu_94\n",
      "(ClientAppActor pid=19036) \n",
      "(ClientAppActor pid=19036) Step 1/8 | Total batches: 4\n",
      "(ClientAppActor pid=19036) Step 2/8 | Total batches: 4\n",
      "(ClientAppActor pid=19036) Step 3/8 | Total batches: 4\n",
      "(ClientAppActor pid=19036) Step 4/8 | Total batches: 4\n",
      "(ClientAppActor pid=19036) Step 5/8 | Total batches: 4\n",
      "(ClientAppActor pid=19036) Step 6/8 | Total batches: 4\n",
      "(ClientAppActor pid=19036) Step 7/8 | Total batches: 4\n",
      "(ClientAppActor pid=19036) Step 8/8 | Total batches: 4\n",
      "(ClientAppActor pid=19036) 🚀 Epoch 1/1 (100.00%) Completed\n",
      "(ClientAppActor pid=19036) \t📊 Training Loss: 1.1358\n",
      "(ClientAppActor pid=19036) \t✅ Training Accuracy: 66.38%\n",
      "(ClientAppActor pid=19036) \t⏳ Elapsed Time: 3.38s | ETA: 0.00s\n",
      "(ClientAppActor pid=19036) \t🕒 Completed At: 19:10\n",
      "(ClientAppActor pid=19036) \n",
      "(ClientAppActor pid=19036) [Client] Client on device: cuda:0\n",
      "(ClientAppActor pid=19036) [Client] CUDA available in client: True\n"
     ]
    },
    {
     "name": "stderr",
     "output_type": "stream",
     "text": [
      "(ClientAppActor pid=19036) WARNING :   Deprecation Warning: The `client_fn` function must return an instance of `Client`, but an instance of `NumpyClient` was returned. Please use `NumPyClient.to_client()` method to convert it to `Client`.\n"
     ]
    },
    {
     "name": "stdout",
     "output_type": "stream",
     "text": [
      "(ClientAppActor pid=19036) PrecomputingClient initialized.\n",
      "(ClientAppActor pid=19036) No prefix/name for the model was provided, choosen prefix/name: witty_butterfree_17\n",
      "(ClientAppActor pid=19036) \n",
      "(ClientAppActor pid=19036) Step 1/8 | Total batches: 4\n",
      "(ClientAppActor pid=19036) Step 2/8 | Total batches: 4\n",
      "(ClientAppActor pid=19036) Step 3/8 | Total batches: 4\n",
      "(ClientAppActor pid=19036) Step 4/8 | Total batches: 4\n",
      "(ClientAppActor pid=19036) Step 5/8 | Total batches: 4\n",
      "(ClientAppActor pid=19036) Step 6/8 | Total batches: 4\n",
      "(ClientAppActor pid=19036) Step 7/8 | Total batches: 4\n",
      "(ClientAppActor pid=19036) Step 8/8 | Total batches: 4\n",
      "(ClientAppActor pid=19036) 🚀 Epoch 1/1 (100.00%) Completed\n",
      "(ClientAppActor pid=19036) \t📊 Training Loss: 1.6307\n",
      "(ClientAppActor pid=19036) \t✅ Training Accuracy: 55.12%\n",
      "(ClientAppActor pid=19036) \t⏳ Elapsed Time: 3.39s | ETA: 0.00s\n",
      "(ClientAppActor pid=19036) \t🕒 Completed At: 19:10\n",
      "(ClientAppActor pid=19036) \n"
     ]
    },
    {
     "name": "stderr",
     "output_type": "stream",
     "text": [
      "\u001b[92mINFO \u001b[0m:      aggregate_fit: received 10 results and 0 failures\n",
      "\u001b[92mINFO \u001b[0m:      [Round 15] Avg Drift: 0.0009 | Relative Drift: 0.0000\n",
      "\u001b[92mINFO \u001b[0m:      [Round 15] Saving aggregated model at epoch 215...\n"
     ]
    },
    {
     "name": "stdout",
     "output_type": "stream",
     "text": [
      "💾 Saved checkpoint at: /Users/ciovi/Desktop/coding/mldl/fl-g13/checkpoints/fl_dino_v4/non_iid/1_8_dynamic-quorum\\fl_Test_Dynamic_Quorum_v2_BaseDino_epoch_215.pth\n",
      "[Server Eval Round 15] Model device: cuda:0\n",
      "[Server Eval Round 15] CUDA available in server eval: True\n"
     ]
    },
    {
     "name": "stderr",
     "output_type": "stream",
     "text": [
      "Eval progress: 100%|██████████| 313/313 [00:22<00:00, 14.05batch/s]\n",
      "\u001b[92mINFO \u001b[0m:      [Round 15] Centralized Evaluation - Loss: 2.1514, Metrics: {'centralized_accuracy': 0.4381}\n",
      "\u001b[92mINFO \u001b[0m:      fit progress: (15, 2.151406472483382, {'centralized_accuracy': 0.4381}, 1222.386086999999)\n",
      "\u001b[92mINFO \u001b[0m:      configure_evaluate: strategy sampled 10 clients (out of 100)\n",
      "(ClientAppActor pid=19036) WARNING :   Deprecation Warning: The `client_fn` function must return an instance of `Client`, but an instance of `NumpyClient` was returned. Please use `NumPyClient.to_client()` method to convert it to `Client`.\n",
      "Eval progress:   0%|          | 0/1 [00:00<?, ?batch/s]\n"
     ]
    },
    {
     "name": "stdout",
     "output_type": "stream",
     "text": [
      "(ClientAppActor pid=19036) [Client] Client on device: cuda:0\n",
      "(ClientAppActor pid=19036) [Client] CUDA available in client: True\n",
      "(ClientAppActor pid=19036) PrecomputingClient initialized.\n"
     ]
    },
    {
     "name": "stderr",
     "output_type": "stream",
     "text": [
      "Eval progress: 100%|██████████| 1/1 [00:00<00:00,  3.69batch/s]\n",
      "(ClientAppActor pid=19036) WARNING :   Deprecation Warning: The `client_fn` function must return an instance of `Client`, but an instance of `NumpyClient` was returned. Please use `NumPyClient.to_client()` method to convert it to `Client`.\n"
     ]
    },
    {
     "name": "stdout",
     "output_type": "stream",
     "text": [
      "(ClientAppActor pid=19036) [Client] Client on device: cuda:0\n",
      "(ClientAppActor pid=19036) [Client] CUDA available in client: True\n",
      "(ClientAppActor pid=19036) PrecomputingClient initialized.\n"
     ]
    },
    {
     "name": "stderr",
     "output_type": "stream",
     "text": [
      "Eval progress:   0%|          | 0/1 [00:00<?, ?batch/s]\n",
      "Eval progress: 100%|██████████| 1/1 [00:00<00:00,  3.75batch/s]\n",
      "(ClientAppActor pid=19036) WARNING :   Deprecation Warning: The `client_fn` function must return an instance of `Client`, but an instance of `NumpyClient` was returned. Please use `NumPyClient.to_client()` method to convert it to `Client`.\n",
      "Eval progress:   0%|          | 0/1 [00:00<?, ?batch/s]\n"
     ]
    },
    {
     "name": "stdout",
     "output_type": "stream",
     "text": [
      "(ClientAppActor pid=19036) [Client] Client on device: cuda:0\n",
      "(ClientAppActor pid=19036) [Client] CUDA available in client: True\n",
      "(ClientAppActor pid=19036) PrecomputingClient initialized.\n"
     ]
    },
    {
     "name": "stderr",
     "output_type": "stream",
     "text": [
      "Eval progress: 100%|██████████| 1/1 [00:00<00:00,  3.91batch/s]\n",
      "(ClientAppActor pid=19036) WARNING :   Deprecation Warning: The `client_fn` function must return an instance of `Client`, but an instance of `NumpyClient` was returned. Please use `NumPyClient.to_client()` method to convert it to `Client`.\n",
      "Eval progress:   0%|          | 0/1 [00:00<?, ?batch/s]\n"
     ]
    },
    {
     "name": "stdout",
     "output_type": "stream",
     "text": [
      "(ClientAppActor pid=19036) [Client] Client on device: cuda:0\n",
      "(ClientAppActor pid=19036) [Client] CUDA available in client: True\n",
      "(ClientAppActor pid=19036) PrecomputingClient initialized.\n"
     ]
    },
    {
     "name": "stderr",
     "output_type": "stream",
     "text": [
      "Eval progress: 100%|██████████| 1/1 [00:00<00:00,  3.95batch/s]\n",
      "(ClientAppActor pid=19036) WARNING :   Deprecation Warning: The `client_fn` function must return an instance of `Client`, but an instance of `NumpyClient` was returned. Please use `NumPyClient.to_client()` method to convert it to `Client`.\n",
      "Eval progress:   0%|          | 0/1 [00:00<?, ?batch/s]\n"
     ]
    },
    {
     "name": "stdout",
     "output_type": "stream",
     "text": [
      "(ClientAppActor pid=19036) [Client] Client on device: cuda:0\n",
      "(ClientAppActor pid=19036) [Client] CUDA available in client: True\n",
      "(ClientAppActor pid=19036) PrecomputingClient initialized.\n"
     ]
    },
    {
     "name": "stderr",
     "output_type": "stream",
     "text": [
      "Eval progress: 100%|██████████| 1/1 [00:00<00:00,  3.92batch/s]\n",
      "(ClientAppActor pid=19036) WARNING :   Deprecation Warning: The `client_fn` function must return an instance of `Client`, but an instance of `NumpyClient` was returned. Please use `NumPyClient.to_client()` method to convert it to `Client`.\n",
      "Eval progress:   0%|          | 0/1 [00:00<?, ?batch/s]\n"
     ]
    },
    {
     "name": "stdout",
     "output_type": "stream",
     "text": [
      "(ClientAppActor pid=19036) [Client] Client on device: cuda:0\n",
      "(ClientAppActor pid=19036) [Client] CUDA available in client: True\n",
      "(ClientAppActor pid=19036) PrecomputingClient initialized.\n"
     ]
    },
    {
     "name": "stderr",
     "output_type": "stream",
     "text": [
      "Eval progress: 100%|██████████| 1/1 [00:00<00:00,  3.87batch/s]\n",
      "(ClientAppActor pid=19036) WARNING :   Deprecation Warning: The `client_fn` function must return an instance of `Client`, but an instance of `NumpyClient` was returned. Please use `NumPyClient.to_client()` method to convert it to `Client`.\n",
      "Eval progress:   0%|          | 0/1 [00:00<?, ?batch/s]\n"
     ]
    },
    {
     "name": "stdout",
     "output_type": "stream",
     "text": [
      "(ClientAppActor pid=19036) [Client] Client on device: cuda:0\n",
      "(ClientAppActor pid=19036) [Client] CUDA available in client: True\n",
      "(ClientAppActor pid=19036) PrecomputingClient initialized.\n"
     ]
    },
    {
     "name": "stderr",
     "output_type": "stream",
     "text": [
      "Eval progress: 100%|██████████| 1/1 [00:00<00:00,  3.90batch/s]\n",
      "(ClientAppActor pid=19036) WARNING :   Deprecation Warning: The `client_fn` function must return an instance of `Client`, but an instance of `NumpyClient` was returned. Please use `NumPyClient.to_client()` method to convert it to `Client`.\n"
     ]
    },
    {
     "name": "stdout",
     "output_type": "stream",
     "text": [
      "(ClientAppActor pid=19036) [Client] Client on device: cuda:0\n",
      "(ClientAppActor pid=19036) [Client] CUDA available in client: True\n",
      "(ClientAppActor pid=19036) PrecomputingClient initialized.\n"
     ]
    },
    {
     "name": "stderr",
     "output_type": "stream",
     "text": [
      "Eval progress:   0%|          | 0/1 [00:00<?, ?batch/s]\n",
      "Eval progress: 100%|██████████| 1/1 [00:00<00:00,  3.88batch/s]\n",
      "(ClientAppActor pid=19036) WARNING :   Deprecation Warning: The `client_fn` function must return an instance of `Client`, but an instance of `NumpyClient` was returned. Please use `NumPyClient.to_client()` method to convert it to `Client`.\n"
     ]
    },
    {
     "name": "stdout",
     "output_type": "stream",
     "text": [
      "(ClientAppActor pid=19036) [Client] Client on device: cuda:0\n",
      "(ClientAppActor pid=19036) [Client] CUDA available in client: True\n",
      "(ClientAppActor pid=19036) PrecomputingClient initialized.\n"
     ]
    },
    {
     "name": "stderr",
     "output_type": "stream",
     "text": [
      "Eval progress:   0%|          | 0/1 [00:00<?, ?batch/s]\n",
      "Eval progress: 100%|██████████| 1/1 [00:00<00:00,  3.95batch/s]\n",
      "(ClientAppActor pid=19036) WARNING :   Deprecation Warning: The `client_fn` function must return an instance of `Client`, but an instance of `NumpyClient` was returned. Please use `NumPyClient.to_client()` method to convert it to `Client`.\n",
      "Eval progress:   0%|          | 0/1 [00:00<?, ?batch/s]\n"
     ]
    },
    {
     "name": "stdout",
     "output_type": "stream",
     "text": [
      "(ClientAppActor pid=19036) [Client] Client on device: cuda:0\n",
      "(ClientAppActor pid=19036) [Client] CUDA available in client: True\n",
      "(ClientAppActor pid=19036) PrecomputingClient initialized.\n"
     ]
    },
    {
     "name": "stderr",
     "output_type": "stream",
     "text": [
      "Eval progress: 100%|██████████| 1/1 [00:00<00:00,  3.93batch/s]\n",
      "\u001b[92mINFO \u001b[0m:      aggregate_evaluate: received 10 results and 0 failures\n",
      "\u001b[92mINFO \u001b[0m:      \n",
      "\u001b[92mINFO \u001b[0m:      [ROUND 16]\n",
      "\u001b[92mINFO \u001b[0m:      [Round 16] Quorum updated to: 76\n",
      "\u001b[92mINFO \u001b[0m:      [Round 16] Generated initial global mask with quorum 76. Sparsity: 0.8555\n",
      "\u001b[92mINFO \u001b[0m:      configure_fit: strategy sampled 10 clients (out of 100)\n",
      "(ClientAppActor pid=19036) WARNING :   Deprecation Warning: The `client_fn` function must return an instance of `Client`, but an instance of `NumpyClient` was returned. Please use `NumPyClient.to_client()` method to convert it to `Client`.\n"
     ]
    },
    {
     "name": "stdout",
     "output_type": "stream",
     "text": [
      "(ClientAppActor pid=19036) [Client] Client on device: cuda:0\n",
      "(ClientAppActor pid=19036) [Client] CUDA available in client: True\n",
      "(ClientAppActor pid=19036) PrecomputingClient initialized.\n",
      "(ClientAppActor pid=19036) No prefix/name for the model was provided, choosen prefix/name: zesty_clefairy_37\n",
      "(ClientAppActor pid=19036) \n",
      "(ClientAppActor pid=19036) Step 1/8 | Total batches: 4\n",
      "(ClientAppActor pid=19036) Step 2/8 | Total batches: 4\n",
      "(ClientAppActor pid=19036) Step 3/8 | Total batches: 4\n",
      "(ClientAppActor pid=19036) Step 4/8 | Total batches: 4\n",
      "(ClientAppActor pid=19036) Step 5/8 | Total batches: 4\n",
      "(ClientAppActor pid=19036) Step 6/8 | Total batches: 4\n",
      "(ClientAppActor pid=19036) Step 7/8 | Total batches: 4\n",
      "(ClientAppActor pid=19036) Step 8/8 | Total batches: 4\n",
      "(ClientAppActor pid=19036) 🚀 Epoch 1/1 (100.00%) Completed\n",
      "(ClientAppActor pid=19036) \t📊 Training Loss: 0.7687\n",
      "(ClientAppActor pid=19036) \t✅ Training Accuracy: 79.12%\n",
      "(ClientAppActor pid=19036) \t⏳ Elapsed Time: 3.36s | ETA: 0.00s\n",
      "(ClientAppActor pid=19036) \t🕒 Completed At: 19:11\n",
      "(ClientAppActor pid=19036) \n"
     ]
    },
    {
     "name": "stderr",
     "output_type": "stream",
     "text": [
      "(ClientAppActor pid=19036) WARNING :   Deprecation Warning: The `client_fn` function must return an instance of `Client`, but an instance of `NumpyClient` was returned. Please use `NumPyClient.to_client()` method to convert it to `Client`.\n"
     ]
    },
    {
     "name": "stdout",
     "output_type": "stream",
     "text": [
      "(ClientAppActor pid=19036) [Client] Client on device: cuda:0\n",
      "(ClientAppActor pid=19036) [Client] CUDA available in client: True\n",
      "(ClientAppActor pid=19036) PrecomputingClient initialized.\n",
      "(ClientAppActor pid=19036) No prefix/name for the model was provided, choosen prefix/name: peppy_charizard_81\n",
      "(ClientAppActor pid=19036) \n",
      "(ClientAppActor pid=19036) Step 1/8 | Total batches: 4\n",
      "(ClientAppActor pid=19036) Step 2/8 | Total batches: 4\n",
      "(ClientAppActor pid=19036) Step 3/8 | Total batches: 4\n",
      "(ClientAppActor pid=19036) Step 4/8 | Total batches: 4\n",
      "(ClientAppActor pid=19036) Step 5/8 | Total batches: 4\n",
      "(ClientAppActor pid=19036) Step 6/8 | Total batches: 4\n",
      "(ClientAppActor pid=19036) Step 7/8 | Total batches: 4\n",
      "(ClientAppActor pid=19036) Step 8/8 | Total batches: 4\n",
      "(ClientAppActor pid=19036) 🚀 Epoch 1/1 (100.00%) Completed\n",
      "(ClientAppActor pid=19036) \t📊 Training Loss: 0.4505\n",
      "(ClientAppActor pid=19036) \t✅ Training Accuracy: 83.25%\n",
      "(ClientAppActor pid=19036) \t⏳ Elapsed Time: 3.36s | ETA: 0.00s\n",
      "(ClientAppActor pid=19036) \t🕒 Completed At: 19:11\n",
      "(ClientAppActor pid=19036) \n"
     ]
    },
    {
     "name": "stderr",
     "output_type": "stream",
     "text": [
      "(ClientAppActor pid=19036) WARNING :   Deprecation Warning: The `client_fn` function must return an instance of `Client`, but an instance of `NumpyClient` was returned. Please use `NumPyClient.to_client()` method to convert it to `Client`.\n"
     ]
    },
    {
     "name": "stdout",
     "output_type": "stream",
     "text": [
      "(ClientAppActor pid=19036) [Client] Client on device: cuda:0\n",
      "(ClientAppActor pid=19036) [Client] CUDA available in client: True\n",
      "(ClientAppActor pid=19036) PrecomputingClient initialized.\n",
      "(ClientAppActor pid=19036) No prefix/name for the model was provided, choosen prefix/name: jazzy_fearow_51\n",
      "(ClientAppActor pid=19036) \n",
      "(ClientAppActor pid=19036) Step 1/8 | Total batches: 4\n",
      "(ClientAppActor pid=19036) Step 2/8 | Total batches: 4\n",
      "(ClientAppActor pid=19036) Step 3/8 | Total batches: 4\n",
      "(ClientAppActor pid=19036) Step 4/8 | Total batches: 4\n",
      "(ClientAppActor pid=19036) Step 5/8 | Total batches: 4\n",
      "(ClientAppActor pid=19036) Step 6/8 | Total batches: 4\n",
      "(ClientAppActor pid=19036) Step 7/8 | Total batches: 4\n",
      "(ClientAppActor pid=19036) Step 8/8 | Total batches: 4\n",
      "(ClientAppActor pid=19036) 🚀 Epoch 1/1 (100.00%) Completed\n",
      "(ClientAppActor pid=19036) \t📊 Training Loss: 0.4095\n",
      "(ClientAppActor pid=19036) \t✅ Training Accuracy: 89.50%\n",
      "(ClientAppActor pid=19036) \t⏳ Elapsed Time: 3.38s | ETA: 0.00s\n",
      "(ClientAppActor pid=19036) \t🕒 Completed At: 19:11\n",
      "(ClientAppActor pid=19036) \n"
     ]
    },
    {
     "name": "stderr",
     "output_type": "stream",
     "text": [
      "(ClientAppActor pid=19036) WARNING :   Deprecation Warning: The `client_fn` function must return an instance of `Client`, but an instance of `NumpyClient` was returned. Please use `NumPyClient.to_client()` method to convert it to `Client`.\n"
     ]
    },
    {
     "name": "stdout",
     "output_type": "stream",
     "text": [
      "(ClientAppActor pid=19036) [Client] Client on device: cuda:0\n",
      "(ClientAppActor pid=19036) [Client] CUDA available in client: True\n",
      "(ClientAppActor pid=19036) PrecomputingClient initialized.\n",
      "(ClientAppActor pid=19036) No prefix/name for the model was provided, choosen prefix/name: zippy_metapod_36\n",
      "(ClientAppActor pid=19036) \n",
      "(ClientAppActor pid=19036) Step 1/8 | Total batches: 4\n",
      "(ClientAppActor pid=19036) Step 2/8 | Total batches: 4\n",
      "(ClientAppActor pid=19036) Step 3/8 | Total batches: 4\n",
      "(ClientAppActor pid=19036) Step 4/8 | Total batches: 4\n",
      "(ClientAppActor pid=19036) Step 5/8 | Total batches: 4\n",
      "(ClientAppActor pid=19036) Step 6/8 | Total batches: 4\n",
      "(ClientAppActor pid=19036) Step 7/8 | Total batches: 4\n",
      "(ClientAppActor pid=19036) Step 8/8 | Total batches: 4\n",
      "(ClientAppActor pid=19036) 🚀 Epoch 1/1 (100.00%) Completed\n",
      "(ClientAppActor pid=19036) \t📊 Training Loss: 0.2840\n",
      "(ClientAppActor pid=19036) \t✅ Training Accuracy: 90.75%\n",
      "(ClientAppActor pid=19036) \t⏳ Elapsed Time: 3.38s | ETA: 0.00s\n",
      "(ClientAppActor pid=19036) \t🕒 Completed At: 19:11\n",
      "(ClientAppActor pid=19036) \n"
     ]
    },
    {
     "name": "stderr",
     "output_type": "stream",
     "text": [
      "(ClientAppActor pid=19036) WARNING :   Deprecation Warning: The `client_fn` function must return an instance of `Client`, but an instance of `NumpyClient` was returned. Please use `NumPyClient.to_client()` method to convert it to `Client`.\n"
     ]
    },
    {
     "name": "stdout",
     "output_type": "stream",
     "text": [
      "(ClientAppActor pid=19036) [Client] Client on device: cuda:0\n",
      "(ClientAppActor pid=19036) [Client] CUDA available in client: True\n",
      "(ClientAppActor pid=19036) PrecomputingClient initialized.\n",
      "(ClientAppActor pid=19036) No prefix/name for the model was provided, choosen prefix/name: fluffy_pidgeot_23\n",
      "(ClientAppActor pid=19036) \n",
      "(ClientAppActor pid=19036) Step 1/8 | Total batches: 4\n",
      "(ClientAppActor pid=19036) Step 2/8 | Total batches: 4\n",
      "(ClientAppActor pid=19036) Step 3/8 | Total batches: 4\n",
      "(ClientAppActor pid=19036) Step 4/8 | Total batches: 4\n",
      "(ClientAppActor pid=19036) Step 5/8 | Total batches: 4\n",
      "(ClientAppActor pid=19036) Step 6/8 | Total batches: 4\n",
      "(ClientAppActor pid=19036) Step 7/8 | Total batches: 4\n",
      "(ClientAppActor pid=19036) Step 8/8 | Total batches: 4\n",
      "(ClientAppActor pid=19036) 🚀 Epoch 1/1 (100.00%) Completed\n",
      "(ClientAppActor pid=19036) \t📊 Training Loss: 0.6250\n",
      "(ClientAppActor pid=19036) \t✅ Training Accuracy: 83.75%\n",
      "(ClientAppActor pid=19036) \t⏳ Elapsed Time: 3.38s | ETA: 0.00s\n",
      "(ClientAppActor pid=19036) \t🕒 Completed At: 19:11\n",
      "(ClientAppActor pid=19036) \n"
     ]
    },
    {
     "name": "stderr",
     "output_type": "stream",
     "text": [
      "(ClientAppActor pid=19036) WARNING :   Deprecation Warning: The `client_fn` function must return an instance of `Client`, but an instance of `NumpyClient` was returned. Please use `NumPyClient.to_client()` method to convert it to `Client`.\n"
     ]
    },
    {
     "name": "stdout",
     "output_type": "stream",
     "text": [
      "(ClientAppActor pid=19036) [Client] Client on device: cuda:0\n",
      "(ClientAppActor pid=19036) [Client] CUDA available in client: True\n",
      "(ClientAppActor pid=19036) PrecomputingClient initialized.\n",
      "(ClientAppActor pid=19036) No prefix/name for the model was provided, choosen prefix/name: jazzy_charmander_89\n",
      "(ClientAppActor pid=19036) \n",
      "(ClientAppActor pid=19036) Step 1/8 | Total batches: 4\n",
      "(ClientAppActor pid=19036) Step 2/8 | Total batches: 4\n",
      "(ClientAppActor pid=19036) Step 3/8 | Total batches: 4\n",
      "(ClientAppActor pid=19036) Step 4/8 | Total batches: 4\n",
      "(ClientAppActor pid=19036) Step 5/8 | Total batches: 4\n",
      "(ClientAppActor pid=19036) Step 6/8 | Total batches: 4\n",
      "(ClientAppActor pid=19036) Step 7/8 | Total batches: 4\n",
      "(ClientAppActor pid=19036) Step 8/8 | Total batches: 4\n",
      "(ClientAppActor pid=19036) 🚀 Epoch 1/1 (100.00%) Completed\n",
      "(ClientAppActor pid=19036) \t📊 Training Loss: 0.9783\n",
      "(ClientAppActor pid=19036) \t✅ Training Accuracy: 73.88%\n",
      "(ClientAppActor pid=19036) \t⏳ Elapsed Time: 3.38s | ETA: 0.00s\n",
      "(ClientAppActor pid=19036) \t🕒 Completed At: 19:11\n",
      "(ClientAppActor pid=19036) \n"
     ]
    },
    {
     "name": "stderr",
     "output_type": "stream",
     "text": [
      "(ClientAppActor pid=19036) WARNING :   Deprecation Warning: The `client_fn` function must return an instance of `Client`, but an instance of `NumpyClient` was returned. Please use `NumPyClient.to_client()` method to convert it to `Client`.\n"
     ]
    },
    {
     "name": "stdout",
     "output_type": "stream",
     "text": [
      "(ClientAppActor pid=19036) [Client] Client on device: cuda:0\n",
      "(ClientAppActor pid=19036) [Client] CUDA available in client: True\n",
      "(ClientAppActor pid=19036) PrecomputingClient initialized.\n",
      "(ClientAppActor pid=19036) No prefix/name for the model was provided, choosen prefix/name: peppy_pidgeotto_70\n",
      "(ClientAppActor pid=19036) \n",
      "(ClientAppActor pid=19036) Step 1/8 | Total batches: 4\n",
      "(ClientAppActor pid=19036) Step 2/8 | Total batches: 4\n",
      "(ClientAppActor pid=19036) Step 3/8 | Total batches: 4\n",
      "(ClientAppActor pid=19036) Step 4/8 | Total batches: 4\n",
      "(ClientAppActor pid=19036) Step 5/8 | Total batches: 4\n",
      "(ClientAppActor pid=19036) Step 6/8 | Total batches: 4\n",
      "(ClientAppActor pid=19036) Step 7/8 | Total batches: 4\n",
      "(ClientAppActor pid=19036) Step 8/8 | Total batches: 4\n",
      "(ClientAppActor pid=19036) 🚀 Epoch 1/1 (100.00%) Completed\n",
      "(ClientAppActor pid=19036) \t📊 Training Loss: 0.7048\n",
      "(ClientAppActor pid=19036) \t✅ Training Accuracy: 79.38%\n",
      "(ClientAppActor pid=19036) \t⏳ Elapsed Time: 3.39s | ETA: 0.00s\n",
      "(ClientAppActor pid=19036) \t🕒 Completed At: 19:11\n",
      "(ClientAppActor pid=19036) \n"
     ]
    },
    {
     "name": "stderr",
     "output_type": "stream",
     "text": [
      "(ClientAppActor pid=19036) WARNING :   Deprecation Warning: The `client_fn` function must return an instance of `Client`, but an instance of `NumpyClient` was returned. Please use `NumPyClient.to_client()` method to convert it to `Client`.\n"
     ]
    },
    {
     "name": "stdout",
     "output_type": "stream",
     "text": [
      "(ClientAppActor pid=19036) [Client] Client on device: cuda:0\n",
      "(ClientAppActor pid=19036) [Client] CUDA available in client: True\n",
      "(ClientAppActor pid=19036) PrecomputingClient initialized.\n",
      "(ClientAppActor pid=19036) No prefix/name for the model was provided, choosen prefix/name: wacky_ivysaur_92\n",
      "(ClientAppActor pid=19036) \n",
      "(ClientAppActor pid=19036) Step 1/8 | Total batches: 4\n",
      "(ClientAppActor pid=19036) Step 2/8 | Total batches: 4\n",
      "(ClientAppActor pid=19036) Step 3/8 | Total batches: 4\n",
      "(ClientAppActor pid=19036) Step 4/8 | Total batches: 4\n",
      "(ClientAppActor pid=19036) Step 5/8 | Total batches: 4\n",
      "(ClientAppActor pid=19036) Step 6/8 | Total batches: 4\n",
      "(ClientAppActor pid=19036) Step 7/8 | Total batches: 4\n",
      "(ClientAppActor pid=19036) Step 8/8 | Total batches: 4\n",
      "(ClientAppActor pid=19036) 🚀 Epoch 1/1 (100.00%) Completed\n",
      "(ClientAppActor pid=19036) \t📊 Training Loss: 0.7909\n",
      "(ClientAppActor pid=19036) \t✅ Training Accuracy: 79.50%\n",
      "(ClientAppActor pid=19036) \t⏳ Elapsed Time: 3.39s | ETA: 0.00s\n",
      "(ClientAppActor pid=19036) \t🕒 Completed At: 19:11\n",
      "(ClientAppActor pid=19036) \n"
     ]
    },
    {
     "name": "stderr",
     "output_type": "stream",
     "text": [
      "(ClientAppActor pid=19036) WARNING :   Deprecation Warning: The `client_fn` function must return an instance of `Client`, but an instance of `NumpyClient` was returned. Please use `NumPyClient.to_client()` method to convert it to `Client`.\n"
     ]
    },
    {
     "name": "stdout",
     "output_type": "stream",
     "text": [
      "(ClientAppActor pid=19036) [Client] Client on device: cuda:0\n",
      "(ClientAppActor pid=19036) [Client] CUDA available in client: True\n",
      "(ClientAppActor pid=19036) PrecomputingClient initialized.\n",
      "(ClientAppActor pid=19036) No prefix/name for the model was provided, choosen prefix/name: witty_rattata_70\n",
      "(ClientAppActor pid=19036) \n",
      "(ClientAppActor pid=19036) Step 1/8 | Total batches: 4\n",
      "(ClientAppActor pid=19036) Step 2/8 | Total batches: 4\n",
      "(ClientAppActor pid=19036) Step 3/8 | Total batches: 4\n",
      "(ClientAppActor pid=19036) Step 4/8 | Total batches: 4\n",
      "(ClientAppActor pid=19036) Step 5/8 | Total batches: 4\n",
      "(ClientAppActor pid=19036) Step 6/8 | Total batches: 4\n",
      "(ClientAppActor pid=19036) Step 7/8 | Total batches: 4\n",
      "(ClientAppActor pid=19036) Step 8/8 | Total batches: 4\n",
      "(ClientAppActor pid=19036) 🚀 Epoch 1/1 (100.00%) Completed\n",
      "(ClientAppActor pid=19036) \t📊 Training Loss: 0.6384\n",
      "(ClientAppActor pid=19036) \t✅ Training Accuracy: 81.50%\n",
      "(ClientAppActor pid=19036) \t⏳ Elapsed Time: 3.39s | ETA: 0.00s\n",
      "(ClientAppActor pid=19036) \t🕒 Completed At: 19:12\n",
      "(ClientAppActor pid=19036) \n"
     ]
    },
    {
     "name": "stderr",
     "output_type": "stream",
     "text": [
      "(ClientAppActor pid=19036) WARNING :   Deprecation Warning: The `client_fn` function must return an instance of `Client`, but an instance of `NumpyClient` was returned. Please use `NumPyClient.to_client()` method to convert it to `Client`.\n"
     ]
    },
    {
     "name": "stdout",
     "output_type": "stream",
     "text": [
      "(ClientAppActor pid=19036) [Client] Client on device: cuda:0\n",
      "(ClientAppActor pid=19036) [Client] CUDA available in client: True\n",
      "(ClientAppActor pid=19036) PrecomputingClient initialized.\n",
      "(ClientAppActor pid=19036) No prefix/name for the model was provided, choosen prefix/name: bouncy_nidoqueen_97\n",
      "(ClientAppActor pid=19036) \n",
      "(ClientAppActor pid=19036) Step 1/8 | Total batches: 4\n",
      "(ClientAppActor pid=19036) Step 2/8 | Total batches: 4\n",
      "(ClientAppActor pid=19036) Step 3/8 | Total batches: 4\n",
      "(ClientAppActor pid=19036) Step 4/8 | Total batches: 4\n",
      "(ClientAppActor pid=19036) Step 5/8 | Total batches: 4\n",
      "(ClientAppActor pid=19036) Step 6/8 | Total batches: 4\n",
      "(ClientAppActor pid=19036) Step 7/8 | Total batches: 4\n",
      "(ClientAppActor pid=19036) Step 8/8 | Total batches: 4\n",
      "(ClientAppActor pid=19036) 🚀 Epoch 1/1 (100.00%) Completed\n",
      "(ClientAppActor pid=19036) \t📊 Training Loss: 0.5637\n",
      "(ClientAppActor pid=19036) \t✅ Training Accuracy: 84.88%\n",
      "(ClientAppActor pid=19036) \t⏳ Elapsed Time: 3.40s | ETA: 0.00s\n",
      "(ClientAppActor pid=19036) \t🕒 Completed At: 19:12\n",
      "(ClientAppActor pid=19036) \n"
     ]
    },
    {
     "name": "stderr",
     "output_type": "stream",
     "text": [
      "\u001b[92mINFO \u001b[0m:      aggregate_fit: received 10 results and 0 failures\n",
      "\u001b[92mINFO \u001b[0m:      [Round 16] Avg Drift: 0.0008 | Relative Drift: 0.0000\n",
      "\u001b[92mINFO \u001b[0m:      [Round 16] Saving aggregated model at epoch 216...\n"
     ]
    },
    {
     "name": "stdout",
     "output_type": "stream",
     "text": [
      "💾 Saved checkpoint at: /Users/ciovi/Desktop/coding/mldl/fl-g13/checkpoints/fl_dino_v4/non_iid/1_8_dynamic-quorum\\fl_Test_Dynamic_Quorum_v2_BaseDino_epoch_216.pth\n",
      "[Server Eval Round 16] Model device: cuda:0\n",
      "[Server Eval Round 16] CUDA available in server eval: True\n"
     ]
    },
    {
     "name": "stderr",
     "output_type": "stream",
     "text": [
      "Eval progress: 100%|██████████| 313/313 [00:22<00:00, 14.07batch/s]\n",
      "\u001b[92mINFO \u001b[0m:      [Round 16] Centralized Evaluation - Loss: 2.2320, Metrics: {'centralized_accuracy': 0.4231}\n",
      "\u001b[92mINFO \u001b[0m:      fit progress: (16, 2.2319653125616687, {'centralized_accuracy': 0.4231}, 1300.8270200999978)\n",
      "\u001b[92mINFO \u001b[0m:      configure_evaluate: strategy sampled 10 clients (out of 100)\n",
      "(ClientAppActor pid=19036) WARNING :   Deprecation Warning: The `client_fn` function must return an instance of `Client`, but an instance of `NumpyClient` was returned. Please use `NumPyClient.to_client()` method to convert it to `Client`.\n",
      "Eval progress:   0%|          | 0/1 [00:00<?, ?batch/s]\n"
     ]
    },
    {
     "name": "stdout",
     "output_type": "stream",
     "text": [
      "(ClientAppActor pid=19036) [Client] Client on device: cuda:0\n",
      "(ClientAppActor pid=19036) [Client] CUDA available in client: True\n",
      "(ClientAppActor pid=19036) PrecomputingClient initialized.\n"
     ]
    },
    {
     "name": "stderr",
     "output_type": "stream",
     "text": [
      "Eval progress: 100%|██████████| 1/1 [00:00<00:00,  3.87batch/s]\n",
      "(ClientAppActor pid=19036) WARNING :   Deprecation Warning: The `client_fn` function must return an instance of `Client`, but an instance of `NumpyClient` was returned. Please use `NumPyClient.to_client()` method to convert it to `Client`.\n",
      "Eval progress:   0%|          | 0/1 [00:00<?, ?batch/s]\n"
     ]
    },
    {
     "name": "stdout",
     "output_type": "stream",
     "text": [
      "(ClientAppActor pid=19036) [Client] Client on device: cuda:0\n",
      "(ClientAppActor pid=19036) [Client] CUDA available in client: True\n",
      "(ClientAppActor pid=19036) PrecomputingClient initialized.\n"
     ]
    },
    {
     "name": "stderr",
     "output_type": "stream",
     "text": [
      "Eval progress: 100%|██████████| 1/1 [00:00<00:00,  3.94batch/s]\n",
      "(ClientAppActor pid=19036) WARNING :   Deprecation Warning: The `client_fn` function must return an instance of `Client`, but an instance of `NumpyClient` was returned. Please use `NumPyClient.to_client()` method to convert it to `Client`.\n"
     ]
    },
    {
     "name": "stdout",
     "output_type": "stream",
     "text": [
      "(ClientAppActor pid=19036) [Client] Client on device: cuda:0\n",
      "(ClientAppActor pid=19036) [Client] CUDA available in client: True\n",
      "(ClientAppActor pid=19036) PrecomputingClient initialized.\n"
     ]
    },
    {
     "name": "stderr",
     "output_type": "stream",
     "text": [
      "Eval progress:   0%|          | 0/1 [00:00<?, ?batch/s]\n",
      "Eval progress: 100%|██████████| 1/1 [00:00<00:00,  3.95batch/s]\n"
     ]
    },
    {
     "name": "stdout",
     "output_type": "stream",
     "text": [
      "(ClientAppActor pid=19036) [Client] Client on device: cuda:0\n",
      "(ClientAppActor pid=19036) [Client] CUDA available in client: True\n"
     ]
    },
    {
     "name": "stderr",
     "output_type": "stream",
     "text": [
      "(ClientAppActor pid=19036) WARNING :   Deprecation Warning: The `client_fn` function must return an instance of `Client`, but an instance of `NumpyClient` was returned. Please use `NumPyClient.to_client()` method to convert it to `Client`.\n"
     ]
    },
    {
     "name": "stdout",
     "output_type": "stream",
     "text": [
      "(ClientAppActor pid=19036) PrecomputingClient initialized.\n"
     ]
    },
    {
     "name": "stderr",
     "output_type": "stream",
     "text": [
      "Eval progress:   0%|          | 0/1 [00:00<?, ?batch/s]\n",
      "Eval progress: 100%|██████████| 1/1 [00:00<00:00,  3.95batch/s]\n",
      "(ClientAppActor pid=19036) WARNING :   Deprecation Warning: The `client_fn` function must return an instance of `Client`, but an instance of `NumpyClient` was returned. Please use `NumPyClient.to_client()` method to convert it to `Client`.\n",
      "Eval progress:   0%|          | 0/1 [00:00<?, ?batch/s]\n"
     ]
    },
    {
     "name": "stdout",
     "output_type": "stream",
     "text": [
      "(ClientAppActor pid=19036) [Client] Client on device: cuda:0\n",
      "(ClientAppActor pid=19036) [Client] CUDA available in client: True\n",
      "(ClientAppActor pid=19036) PrecomputingClient initialized.\n"
     ]
    },
    {
     "name": "stderr",
     "output_type": "stream",
     "text": [
      "Eval progress: 100%|██████████| 1/1 [00:00<00:00,  3.96batch/s]\n",
      "(ClientAppActor pid=19036) WARNING :   Deprecation Warning: The `client_fn` function must return an instance of `Client`, but an instance of `NumpyClient` was returned. Please use `NumPyClient.to_client()` method to convert it to `Client`.\n"
     ]
    },
    {
     "name": "stdout",
     "output_type": "stream",
     "text": [
      "(ClientAppActor pid=19036) [Client] Client on device: cuda:0\n",
      "(ClientAppActor pid=19036) [Client] CUDA available in client: True\n",
      "(ClientAppActor pid=19036) PrecomputingClient initialized.\n"
     ]
    },
    {
     "name": "stderr",
     "output_type": "stream",
     "text": [
      "Eval progress:   0%|          | 0/1 [00:00<?, ?batch/s]\n",
      "Eval progress: 100%|██████████| 1/1 [00:00<00:00,  3.94batch/s]\n",
      "(ClientAppActor pid=19036) WARNING :   Deprecation Warning: The `client_fn` function must return an instance of `Client`, but an instance of `NumpyClient` was returned. Please use `NumPyClient.to_client()` method to convert it to `Client`.\n",
      "Eval progress:   0%|          | 0/1 [00:00<?, ?batch/s]\n"
     ]
    },
    {
     "name": "stdout",
     "output_type": "stream",
     "text": [
      "(ClientAppActor pid=19036) [Client] Client on device: cuda:0\n",
      "(ClientAppActor pid=19036) [Client] CUDA available in client: True\n",
      "(ClientAppActor pid=19036) PrecomputingClient initialized.\n"
     ]
    },
    {
     "name": "stderr",
     "output_type": "stream",
     "text": [
      "Eval progress: 100%|██████████| 1/1 [00:00<00:00,  3.96batch/s]\n",
      "(ClientAppActor pid=19036) WARNING :   Deprecation Warning: The `client_fn` function must return an instance of `Client`, but an instance of `NumpyClient` was returned. Please use `NumPyClient.to_client()` method to convert it to `Client`.\n",
      "Eval progress:   0%|          | 0/1 [00:00<?, ?batch/s]\n"
     ]
    },
    {
     "name": "stdout",
     "output_type": "stream",
     "text": [
      "(ClientAppActor pid=19036) [Client] Client on device: cuda:0\n",
      "(ClientAppActor pid=19036) [Client] CUDA available in client: True\n",
      "(ClientAppActor pid=19036) PrecomputingClient initialized.\n"
     ]
    },
    {
     "name": "stderr",
     "output_type": "stream",
     "text": [
      "Eval progress: 100%|██████████| 1/1 [00:00<00:00,  3.87batch/s]\n",
      "(ClientAppActor pid=19036) WARNING :   Deprecation Warning: The `client_fn` function must return an instance of `Client`, but an instance of `NumpyClient` was returned. Please use `NumPyClient.to_client()` method to convert it to `Client`.\n"
     ]
    },
    {
     "name": "stdout",
     "output_type": "stream",
     "text": [
      "(ClientAppActor pid=19036) [Client] Client on device: cuda:0\n",
      "(ClientAppActor pid=19036) [Client] CUDA available in client: True\n",
      "(ClientAppActor pid=19036) PrecomputingClient initialized.\n"
     ]
    },
    {
     "name": "stderr",
     "output_type": "stream",
     "text": [
      "Eval progress:   0%|          | 0/1 [00:00<?, ?batch/s]\n",
      "Eval progress: 100%|██████████| 1/1 [00:00<00:00,  3.96batch/s]\n",
      "(ClientAppActor pid=19036) WARNING :   Deprecation Warning: The `client_fn` function must return an instance of `Client`, but an instance of `NumpyClient` was returned. Please use `NumPyClient.to_client()` method to convert it to `Client`.\n"
     ]
    },
    {
     "name": "stdout",
     "output_type": "stream",
     "text": [
      "(ClientAppActor pid=19036) [Client] Client on device: cuda:0\n",
      "(ClientAppActor pid=19036) [Client] CUDA available in client: True\n",
      "(ClientAppActor pid=19036) PrecomputingClient initialized.\n"
     ]
    },
    {
     "name": "stderr",
     "output_type": "stream",
     "text": [
      "Eval progress:   0%|          | 0/1 [00:00<?, ?batch/s]\n",
      "\u001b[92mINFO \u001b[0m:      aggregate_evaluate: received 10 results and 0 failures\n",
      "\u001b[92mINFO \u001b[0m:      \n",
      "\u001b[92mINFO \u001b[0m:      [ROUND 17]\n",
      "\u001b[92mINFO \u001b[0m:      [Round 17] Quorum updated to: 81\n",
      "Eval progress: 100%|██████████| 1/1 [00:00<00:00,  3.90batch/s]\n",
      "\u001b[92mINFO \u001b[0m:      [Round 17] Generated initial global mask with quorum 81. Sparsity: 0.8699\n",
      "\u001b[92mINFO \u001b[0m:      configure_fit: strategy sampled 10 clients (out of 100)\n",
      "(ClientAppActor pid=19036) WARNING :   Deprecation Warning: The `client_fn` function must return an instance of `Client`, but an instance of `NumpyClient` was returned. Please use `NumPyClient.to_client()` method to convert it to `Client`.\n"
     ]
    },
    {
     "name": "stdout",
     "output_type": "stream",
     "text": [
      "(ClientAppActor pid=19036) [Client] Client on device: cuda:0\n",
      "(ClientAppActor pid=19036) [Client] CUDA available in client: True\n",
      "(ClientAppActor pid=19036) PrecomputingClient initialized.\n",
      "(ClientAppActor pid=19036) No prefix/name for the model was provided, choosen prefix/name: bubbly_charizard_57\n",
      "(ClientAppActor pid=19036) \n",
      "(ClientAppActor pid=19036) Step 1/8 | Total batches: 4\n",
      "(ClientAppActor pid=19036) Step 2/8 | Total batches: 4\n",
      "(ClientAppActor pid=19036) Step 3/8 | Total batches: 4\n",
      "(ClientAppActor pid=19036) Step 4/8 | Total batches: 4\n",
      "(ClientAppActor pid=19036) Step 5/8 | Total batches: 4\n",
      "(ClientAppActor pid=19036) Step 6/8 | Total batches: 4\n",
      "(ClientAppActor pid=19036) Step 7/8 | Total batches: 4\n",
      "(ClientAppActor pid=19036) Step 8/8 | Total batches: 4\n",
      "(ClientAppActor pid=19036) 🚀 Epoch 1/1 (100.00%) Completed\n",
      "(ClientAppActor pid=19036) \t📊 Training Loss: 0.2308\n",
      "(ClientAppActor pid=19036) \t✅ Training Accuracy: 95.25%\n",
      "(ClientAppActor pid=19036) \t⏳ Elapsed Time: 3.36s | ETA: 0.00s\n",
      "(ClientAppActor pid=19036) \t🕒 Completed At: 19:12\n",
      "(ClientAppActor pid=19036) \n"
     ]
    },
    {
     "name": "stderr",
     "output_type": "stream",
     "text": [
      "(ClientAppActor pid=19036) WARNING :   Deprecation Warning: The `client_fn` function must return an instance of `Client`, but an instance of `NumpyClient` was returned. Please use `NumPyClient.to_client()` method to convert it to `Client`.\n"
     ]
    },
    {
     "name": "stdout",
     "output_type": "stream",
     "text": [
      "(ClientAppActor pid=19036) [Client] Client on device: cuda:0\n",
      "(ClientAppActor pid=19036) [Client] CUDA available in client: True\n",
      "(ClientAppActor pid=19036) PrecomputingClient initialized.\n",
      "(ClientAppActor pid=19036) No prefix/name for the model was provided, choosen prefix/name: dorky_sandslash_75\n",
      "(ClientAppActor pid=19036) \n",
      "(ClientAppActor pid=19036) Step 1/8 | Total batches: 4\n",
      "(ClientAppActor pid=19036) Step 2/8 | Total batches: 4\n",
      "(ClientAppActor pid=19036) Step 3/8 | Total batches: 4\n",
      "(ClientAppActor pid=19036) Step 4/8 | Total batches: 4\n",
      "(ClientAppActor pid=19036) Step 5/8 | Total batches: 4\n",
      "(ClientAppActor pid=19036) Step 6/8 | Total batches: 4\n",
      "(ClientAppActor pid=19036) Step 7/8 | Total batches: 4\n",
      "(ClientAppActor pid=19036) Step 8/8 | Total batches: 4\n",
      "(ClientAppActor pid=19036) 🚀 Epoch 1/1 (100.00%) Completed\n",
      "(ClientAppActor pid=19036) \t📊 Training Loss: 0.2977\n",
      "(ClientAppActor pid=19036) \t✅ Training Accuracy: 93.88%\n",
      "(ClientAppActor pid=19036) \t⏳ Elapsed Time: 3.37s | ETA: 0.00s\n",
      "(ClientAppActor pid=19036) \t🕒 Completed At: 19:12\n",
      "(ClientAppActor pid=19036) \n"
     ]
    },
    {
     "name": "stderr",
     "output_type": "stream",
     "text": [
      "(ClientAppActor pid=19036) WARNING :   Deprecation Warning: The `client_fn` function must return an instance of `Client`, but an instance of `NumpyClient` was returned. Please use `NumPyClient.to_client()` method to convert it to `Client`.\n"
     ]
    },
    {
     "name": "stdout",
     "output_type": "stream",
     "text": [
      "(ClientAppActor pid=19036) [Client] Client on device: cuda:0\n",
      "(ClientAppActor pid=19036) [Client] CUDA available in client: True\n",
      "(ClientAppActor pid=19036) PrecomputingClient initialized.\n",
      "(ClientAppActor pid=19036) No prefix/name for the model was provided, choosen prefix/name: quirky_pidgey_58\n",
      "(ClientAppActor pid=19036) \n",
      "(ClientAppActor pid=19036) Step 1/8 | Total batches: 4\n",
      "(ClientAppActor pid=19036) Step 2/8 | Total batches: 4\n",
      "(ClientAppActor pid=19036) Step 3/8 | Total batches: 4\n",
      "(ClientAppActor pid=19036) Step 4/8 | Total batches: 4\n",
      "(ClientAppActor pid=19036) Step 5/8 | Total batches: 4\n",
      "(ClientAppActor pid=19036) Step 6/8 | Total batches: 4\n",
      "(ClientAppActor pid=19036) Step 7/8 | Total batches: 4\n",
      "(ClientAppActor pid=19036) Step 8/8 | Total batches: 4\n",
      "(ClientAppActor pid=19036) 🚀 Epoch 1/1 (100.00%) Completed\n",
      "(ClientAppActor pid=19036) \t📊 Training Loss: 0.6836\n",
      "(ClientAppActor pid=19036) \t✅ Training Accuracy: 83.12%\n",
      "(ClientAppActor pid=19036) \t⏳ Elapsed Time: 3.38s | ETA: 0.00s\n",
      "(ClientAppActor pid=19036) \t🕒 Completed At: 19:12\n",
      "(ClientAppActor pid=19036) \n"
     ]
    },
    {
     "name": "stderr",
     "output_type": "stream",
     "text": [
      "(ClientAppActor pid=19036) WARNING :   Deprecation Warning: The `client_fn` function must return an instance of `Client`, but an instance of `NumpyClient` was returned. Please use `NumPyClient.to_client()` method to convert it to `Client`.\n"
     ]
    },
    {
     "name": "stdout",
     "output_type": "stream",
     "text": [
      "(ClientAppActor pid=19036) [Client] Client on device: cuda:0\n",
      "(ClientAppActor pid=19036) [Client] CUDA available in client: True\n",
      "(ClientAppActor pid=19036) PrecomputingClient initialized.\n",
      "(ClientAppActor pid=19036) No prefix/name for the model was provided, choosen prefix/name: cheeky_charizard_10\n",
      "(ClientAppActor pid=19036) \n",
      "(ClientAppActor pid=19036) Step 1/8 | Total batches: 4\n",
      "(ClientAppActor pid=19036) Step 2/8 | Total batches: 4\n",
      "(ClientAppActor pid=19036) Step 3/8 | Total batches: 4\n",
      "(ClientAppActor pid=19036) Step 4/8 | Total batches: 4\n",
      "(ClientAppActor pid=19036) Step 5/8 | Total batches: 4\n",
      "(ClientAppActor pid=19036) Step 6/8 | Total batches: 4\n",
      "(ClientAppActor pid=19036) Step 7/8 | Total batches: 4\n",
      "(ClientAppActor pid=19036) Step 8/8 | Total batches: 4\n",
      "(ClientAppActor pid=19036) 🚀 Epoch 1/1 (100.00%) Completed\n",
      "(ClientAppActor pid=19036) \t📊 Training Loss: 0.6264\n",
      "(ClientAppActor pid=19036) \t✅ Training Accuracy: 83.88%\n",
      "(ClientAppActor pid=19036) \t⏳ Elapsed Time: 3.39s | ETA: 0.00s\n",
      "(ClientAppActor pid=19036) \t🕒 Completed At: 19:12\n",
      "(ClientAppActor pid=19036) \n"
     ]
    },
    {
     "name": "stderr",
     "output_type": "stream",
     "text": [
      "(ClientAppActor pid=19036) WARNING :   Deprecation Warning: The `client_fn` function must return an instance of `Client`, but an instance of `NumpyClient` was returned. Please use `NumPyClient.to_client()` method to convert it to `Client`.\n"
     ]
    },
    {
     "name": "stdout",
     "output_type": "stream",
     "text": [
      "(ClientAppActor pid=19036) [Client] Client on device: cuda:0\n",
      "(ClientAppActor pid=19036) [Client] CUDA available in client: True\n",
      "(ClientAppActor pid=19036) PrecomputingClient initialized.\n",
      "(ClientAppActor pid=19036) No prefix/name for the model was provided, choosen prefix/name: cheeky_nidorino_67\n",
      "(ClientAppActor pid=19036) \n",
      "(ClientAppActor pid=19036) Step 1/8 | Total batches: 4\n",
      "(ClientAppActor pid=19036) Step 2/8 | Total batches: 4\n",
      "(ClientAppActor pid=19036) Step 3/8 | Total batches: 4\n",
      "(ClientAppActor pid=19036) Step 4/8 | Total batches: 4\n",
      "(ClientAppActor pid=19036) Step 5/8 | Total batches: 4\n",
      "(ClientAppActor pid=19036) Step 6/8 | Total batches: 4\n",
      "(ClientAppActor pid=19036) Step 7/8 | Total batches: 4\n",
      "(ClientAppActor pid=19036) Step 8/8 | Total batches: 4\n",
      "(ClientAppActor pid=19036) 🚀 Epoch 1/1 (100.00%) Completed\n",
      "(ClientAppActor pid=19036) \t📊 Training Loss: 1.1989\n",
      "(ClientAppActor pid=19036) \t✅ Training Accuracy: 68.88%\n",
      "(ClientAppActor pid=19036) \t⏳ Elapsed Time: 3.38s | ETA: 0.00s\n",
      "(ClientAppActor pid=19036) \t🕒 Completed At: 19:13\n",
      "(ClientAppActor pid=19036) \n"
     ]
    },
    {
     "name": "stderr",
     "output_type": "stream",
     "text": [
      "(ClientAppActor pid=19036) WARNING :   Deprecation Warning: The `client_fn` function must return an instance of `Client`, but an instance of `NumpyClient` was returned. Please use `NumPyClient.to_client()` method to convert it to `Client`.\n"
     ]
    },
    {
     "name": "stdout",
     "output_type": "stream",
     "text": [
      "(ClientAppActor pid=19036) [Client] Client on device: cuda:0\n",
      "(ClientAppActor pid=19036) [Client] CUDA available in client: True\n",
      "(ClientAppActor pid=19036) PrecomputingClient initialized.\n",
      "(ClientAppActor pid=19036) No prefix/name for the model was provided, choosen prefix/name: bubbly_raticate_83\n",
      "(ClientAppActor pid=19036) \n",
      "(ClientAppActor pid=19036) Step 1/8 | Total batches: 4\n",
      "(ClientAppActor pid=19036) Step 2/8 | Total batches: 4\n",
      "(ClientAppActor pid=19036) Step 3/8 | Total batches: 4\n",
      "(ClientAppActor pid=19036) Step 4/8 | Total batches: 4\n",
      "(ClientAppActor pid=19036) Step 5/8 | Total batches: 4\n",
      "(ClientAppActor pid=19036) Step 6/8 | Total batches: 4\n",
      "(ClientAppActor pid=19036) Step 7/8 | Total batches: 4\n",
      "(ClientAppActor pid=19036) Step 8/8 | Total batches: 4\n",
      "(ClientAppActor pid=19036) 🚀 Epoch 1/1 (100.00%) Completed\n",
      "(ClientAppActor pid=19036) \t📊 Training Loss: 1.1275\n",
      "(ClientAppActor pid=19036) \t✅ Training Accuracy: 69.50%\n",
      "(ClientAppActor pid=19036) \t⏳ Elapsed Time: 3.39s | ETA: 0.00s\n",
      "(ClientAppActor pid=19036) \t🕒 Completed At: 19:13\n",
      "(ClientAppActor pid=19036) \n"
     ]
    },
    {
     "name": "stderr",
     "output_type": "stream",
     "text": [
      "(ClientAppActor pid=19036) WARNING :   Deprecation Warning: The `client_fn` function must return an instance of `Client`, but an instance of `NumpyClient` was returned. Please use `NumPyClient.to_client()` method to convert it to `Client`.\n"
     ]
    },
    {
     "name": "stdout",
     "output_type": "stream",
     "text": [
      "(ClientAppActor pid=19036) [Client] Client on device: cuda:0\n",
      "(ClientAppActor pid=19036) [Client] CUDA available in client: True\n",
      "(ClientAppActor pid=19036) PrecomputingClient initialized.\n",
      "(ClientAppActor pid=19036) No prefix/name for the model was provided, choosen prefix/name: wacky_butterfree_21\n",
      "(ClientAppActor pid=19036) \n",
      "(ClientAppActor pid=19036) Step 1/8 | Total batches: 4\n",
      "(ClientAppActor pid=19036) Step 2/8 | Total batches: 4\n",
      "(ClientAppActor pid=19036) Step 3/8 | Total batches: 4\n",
      "(ClientAppActor pid=19036) Step 4/8 | Total batches: 4\n",
      "(ClientAppActor pid=19036) Step 5/8 | Total batches: 4\n",
      "(ClientAppActor pid=19036) Step 6/8 | Total batches: 4\n",
      "(ClientAppActor pid=19036) Step 7/8 | Total batches: 4\n",
      "(ClientAppActor pid=19036) Step 8/8 | Total batches: 4\n",
      "(ClientAppActor pid=19036) 🚀 Epoch 1/1 (100.00%) Completed\n",
      "(ClientAppActor pid=19036) \t📊 Training Loss: 0.8926\n",
      "(ClientAppActor pid=19036) \t✅ Training Accuracy: 75.25%\n",
      "(ClientAppActor pid=19036) \t⏳ Elapsed Time: 3.38s | ETA: 0.00s\n",
      "(ClientAppActor pid=19036) \t🕒 Completed At: 19:13\n",
      "(ClientAppActor pid=19036) \n"
     ]
    },
    {
     "name": "stderr",
     "output_type": "stream",
     "text": [
      "(ClientAppActor pid=19036) WARNING :   Deprecation Warning: The `client_fn` function must return an instance of `Client`, but an instance of `NumpyClient` was returned. Please use `NumPyClient.to_client()` method to convert it to `Client`.\n"
     ]
    },
    {
     "name": "stdout",
     "output_type": "stream",
     "text": [
      "(ClientAppActor pid=19036) [Client] Client on device: cuda:0\n",
      "(ClientAppActor pid=19036) [Client] CUDA available in client: True\n",
      "(ClientAppActor pid=19036) PrecomputingClient initialized.\n",
      "(ClientAppActor pid=19036) No prefix/name for the model was provided, choosen prefix/name: soggy_metapod_35\n",
      "(ClientAppActor pid=19036) \n",
      "(ClientAppActor pid=19036) Step 1/8 | Total batches: 4\n",
      "(ClientAppActor pid=19036) Step 2/8 | Total batches: 4\n",
      "(ClientAppActor pid=19036) Step 3/8 | Total batches: 4\n",
      "(ClientAppActor pid=19036) Step 4/8 | Total batches: 4\n",
      "(ClientAppActor pid=19036) Step 5/8 | Total batches: 4\n",
      "(ClientAppActor pid=19036) Step 6/8 | Total batches: 4\n",
      "(ClientAppActor pid=19036) Step 7/8 | Total batches: 4\n",
      "(ClientAppActor pid=19036) Step 8/8 | Total batches: 4\n",
      "(ClientAppActor pid=19036) 🚀 Epoch 1/1 (100.00%) Completed\n",
      "(ClientAppActor pid=19036) \t📊 Training Loss: 0.6378\n",
      "(ClientAppActor pid=19036) \t✅ Training Accuracy: 80.88%\n",
      "(ClientAppActor pid=19036) \t⏳ Elapsed Time: 3.38s | ETA: 0.00s\n",
      "(ClientAppActor pid=19036) \t🕒 Completed At: 19:13\n",
      "(ClientAppActor pid=19036) \n"
     ]
    },
    {
     "name": "stderr",
     "output_type": "stream",
     "text": [
      "(ClientAppActor pid=19036) WARNING :   Deprecation Warning: The `client_fn` function must return an instance of `Client`, but an instance of `NumpyClient` was returned. Please use `NumPyClient.to_client()` method to convert it to `Client`.\n"
     ]
    },
    {
     "name": "stdout",
     "output_type": "stream",
     "text": [
      "(ClientAppActor pid=19036) [Client] Client on device: cuda:0\n",
      "(ClientAppActor pid=19036) [Client] CUDA available in client: True\n",
      "(ClientAppActor pid=19036) PrecomputingClient initialized.\n",
      "(ClientAppActor pid=19036) No prefix/name for the model was provided, choosen prefix/name: quirky_nidorino_51\n",
      "(ClientAppActor pid=19036) \n",
      "(ClientAppActor pid=19036) Step 1/8 | Total batches: 4\n",
      "(ClientAppActor pid=19036) Step 2/8 | Total batches: 4\n",
      "(ClientAppActor pid=19036) Step 3/8 | Total batches: 4\n",
      "(ClientAppActor pid=19036) Step 4/8 | Total batches: 4\n",
      "(ClientAppActor pid=19036) Step 5/8 | Total batches: 4\n",
      "(ClientAppActor pid=19036) Step 6/8 | Total batches: 4\n",
      "(ClientAppActor pid=19036) Step 7/8 | Total batches: 4\n",
      "(ClientAppActor pid=19036) Step 8/8 | Total batches: 4\n",
      "(ClientAppActor pid=19036) 🚀 Epoch 1/1 (100.00%) Completed\n",
      "(ClientAppActor pid=19036) \t📊 Training Loss: 0.4259\n",
      "(ClientAppActor pid=19036) \t✅ Training Accuracy: 89.50%\n",
      "(ClientAppActor pid=19036) \t⏳ Elapsed Time: 3.39s | ETA: 0.00s\n",
      "(ClientAppActor pid=19036) \t🕒 Completed At: 19:13\n",
      "(ClientAppActor pid=19036) \n"
     ]
    },
    {
     "name": "stderr",
     "output_type": "stream",
     "text": [
      "(ClientAppActor pid=19036) WARNING :   Deprecation Warning: The `client_fn` function must return an instance of `Client`, but an instance of `NumpyClient` was returned. Please use `NumPyClient.to_client()` method to convert it to `Client`.\n"
     ]
    },
    {
     "name": "stdout",
     "output_type": "stream",
     "text": [
      "(ClientAppActor pid=19036) [Client] Client on device: cuda:0\n",
      "(ClientAppActor pid=19036) [Client] CUDA available in client: True\n",
      "(ClientAppActor pid=19036) PrecomputingClient initialized.\n",
      "(ClientAppActor pid=19036) No prefix/name for the model was provided, choosen prefix/name: bubbly_weedle_24\n",
      "(ClientAppActor pid=19036) \n",
      "(ClientAppActor pid=19036) Step 1/8 | Total batches: 4\n",
      "(ClientAppActor pid=19036) Step 2/8 | Total batches: 4\n",
      "(ClientAppActor pid=19036) Step 3/8 | Total batches: 4\n",
      "(ClientAppActor pid=19036) Step 4/8 | Total batches: 4\n",
      "(ClientAppActor pid=19036) Step 5/8 | Total batches: 4\n",
      "(ClientAppActor pid=19036) Step 6/8 | Total batches: 4\n",
      "(ClientAppActor pid=19036) Step 7/8 | Total batches: 4\n",
      "(ClientAppActor pid=19036) Step 8/8 | Total batches: 4\n",
      "(ClientAppActor pid=19036) 🚀 Epoch 1/1 (100.00%) Completed\n",
      "(ClientAppActor pid=19036) \t📊 Training Loss: 1.2762\n",
      "(ClientAppActor pid=19036) \t✅ Training Accuracy: 67.38%\n",
      "(ClientAppActor pid=19036) \t⏳ Elapsed Time: 3.39s | ETA: 0.00s\n",
      "(ClientAppActor pid=19036) \t🕒 Completed At: 19:13\n",
      "(ClientAppActor pid=19036) \n"
     ]
    },
    {
     "name": "stderr",
     "output_type": "stream",
     "text": [
      "\u001b[92mINFO \u001b[0m:      aggregate_fit: received 10 results and 0 failures\n",
      "\u001b[92mINFO \u001b[0m:      [Round 17] Avg Drift: 0.0008 | Relative Drift: 0.0000\n",
      "\u001b[92mINFO \u001b[0m:      [Round 17] Saving aggregated model at epoch 217...\n"
     ]
    },
    {
     "name": "stdout",
     "output_type": "stream",
     "text": [
      "💾 Saved checkpoint at: /Users/ciovi/Desktop/coding/mldl/fl-g13/checkpoints/fl_dino_v4/non_iid/1_8_dynamic-quorum\\fl_Test_Dynamic_Quorum_v2_BaseDino_epoch_217.pth\n",
      "[Server Eval Round 17] Model device: cuda:0\n",
      "[Server Eval Round 17] CUDA available in server eval: True\n"
     ]
    },
    {
     "name": "stderr",
     "output_type": "stream",
     "text": [
      "Eval progress: 100%|██████████| 313/313 [00:22<00:00, 14.08batch/s]\n",
      "\u001b[92mINFO \u001b[0m:      [Round 17] Centralized Evaluation - Loss: 2.0869, Metrics: {'centralized_accuracy': 0.4483}\n",
      "\u001b[92mINFO \u001b[0m:      fit progress: (17, 2.0869284921560807, {'centralized_accuracy': 0.4483}, 1378.824915199999)\n",
      "\u001b[92mINFO \u001b[0m:      configure_evaluate: strategy sampled 10 clients (out of 100)\n",
      "(ClientAppActor pid=19036) WARNING :   Deprecation Warning: The `client_fn` function must return an instance of `Client`, but an instance of `NumpyClient` was returned. Please use `NumPyClient.to_client()` method to convert it to `Client`.\n",
      "Eval progress:   0%|          | 0/1 [00:00<?, ?batch/s]\n"
     ]
    },
    {
     "name": "stdout",
     "output_type": "stream",
     "text": [
      "(ClientAppActor pid=19036) [Client] Client on device: cuda:0\n",
      "(ClientAppActor pid=19036) [Client] CUDA available in client: True\n",
      "(ClientAppActor pid=19036) PrecomputingClient initialized.\n"
     ]
    },
    {
     "name": "stderr",
     "output_type": "stream",
     "text": [
      "Eval progress: 100%|██████████| 1/1 [00:00<00:00,  3.90batch/s]\n",
      "(ClientAppActor pid=19036) WARNING :   Deprecation Warning: The `client_fn` function must return an instance of `Client`, but an instance of `NumpyClient` was returned. Please use `NumPyClient.to_client()` method to convert it to `Client`.\n",
      "Eval progress:   0%|          | 0/1 [00:00<?, ?batch/s]\n"
     ]
    },
    {
     "name": "stdout",
     "output_type": "stream",
     "text": [
      "(ClientAppActor pid=19036) [Client] Client on device: cuda:0\n",
      "(ClientAppActor pid=19036) [Client] CUDA available in client: True\n",
      "(ClientAppActor pid=19036) PrecomputingClient initialized.\n"
     ]
    },
    {
     "name": "stderr",
     "output_type": "stream",
     "text": [
      "Eval progress: 100%|██████████| 1/1 [00:00<00:00,  3.92batch/s]\n",
      "(ClientAppActor pid=19036) WARNING :   Deprecation Warning: The `client_fn` function must return an instance of `Client`, but an instance of `NumpyClient` was returned. Please use `NumPyClient.to_client()` method to convert it to `Client`.\n",
      "Eval progress:   0%|          | 0/1 [00:00<?, ?batch/s]\n"
     ]
    },
    {
     "name": "stdout",
     "output_type": "stream",
     "text": [
      "(ClientAppActor pid=19036) [Client] Client on device: cuda:0\n",
      "(ClientAppActor pid=19036) [Client] CUDA available in client: True\n",
      "(ClientAppActor pid=19036) PrecomputingClient initialized.\n"
     ]
    },
    {
     "name": "stderr",
     "output_type": "stream",
     "text": [
      "Eval progress: 100%|██████████| 1/1 [00:00<00:00,  3.68batch/s]\n",
      "(ClientAppActor pid=19036) WARNING :   Deprecation Warning: The `client_fn` function must return an instance of `Client`, but an instance of `NumpyClient` was returned. Please use `NumPyClient.to_client()` method to convert it to `Client`.\n",
      "Eval progress:   0%|          | 0/1 [00:00<?, ?batch/s]\n"
     ]
    },
    {
     "name": "stdout",
     "output_type": "stream",
     "text": [
      "(ClientAppActor pid=19036) [Client] Client on device: cuda:0\n",
      "(ClientAppActor pid=19036) [Client] CUDA available in client: True\n",
      "(ClientAppActor pid=19036) PrecomputingClient initialized.\n"
     ]
    },
    {
     "name": "stderr",
     "output_type": "stream",
     "text": [
      "Eval progress: 100%|██████████| 1/1 [00:00<00:00,  3.93batch/s]\n",
      "(ClientAppActor pid=19036) WARNING :   Deprecation Warning: The `client_fn` function must return an instance of `Client`, but an instance of `NumpyClient` was returned. Please use `NumPyClient.to_client()` method to convert it to `Client`.\n",
      "Eval progress:   0%|          | 0/1 [00:00<?, ?batch/s]\n"
     ]
    },
    {
     "name": "stdout",
     "output_type": "stream",
     "text": [
      "(ClientAppActor pid=19036) [Client] Client on device: cuda:0\n",
      "(ClientAppActor pid=19036) [Client] CUDA available in client: True\n",
      "(ClientAppActor pid=19036) PrecomputingClient initialized.\n"
     ]
    },
    {
     "name": "stderr",
     "output_type": "stream",
     "text": [
      "Eval progress: 100%|██████████| 1/1 [00:00<00:00,  3.92batch/s]\n",
      "(ClientAppActor pid=19036) WARNING :   Deprecation Warning: The `client_fn` function must return an instance of `Client`, but an instance of `NumpyClient` was returned. Please use `NumPyClient.to_client()` method to convert it to `Client`.\n"
     ]
    },
    {
     "name": "stdout",
     "output_type": "stream",
     "text": [
      "(ClientAppActor pid=19036) [Client] Client on device: cuda:0\n",
      "(ClientAppActor pid=19036) [Client] CUDA available in client: True\n",
      "(ClientAppActor pid=19036) PrecomputingClient initialized.\n"
     ]
    },
    {
     "name": "stderr",
     "output_type": "stream",
     "text": [
      "Eval progress:   0%|          | 0/1 [00:00<?, ?batch/s]\n",
      "Eval progress: 100%|██████████| 1/1 [00:00<00:00,  3.94batch/s]\n",
      "(ClientAppActor pid=19036) WARNING :   Deprecation Warning: The `client_fn` function must return an instance of `Client`, but an instance of `NumpyClient` was returned. Please use `NumPyClient.to_client()` method to convert it to `Client`.\n",
      "Eval progress:   0%|          | 0/1 [00:00<?, ?batch/s]\n"
     ]
    },
    {
     "name": "stdout",
     "output_type": "stream",
     "text": [
      "(ClientAppActor pid=19036) [Client] Client on device: cuda:0\n",
      "(ClientAppActor pid=19036) [Client] CUDA available in client: True\n",
      "(ClientAppActor pid=19036) PrecomputingClient initialized.\n"
     ]
    },
    {
     "name": "stderr",
     "output_type": "stream",
     "text": [
      "Eval progress: 100%|██████████| 1/1 [00:00<00:00,  3.94batch/s]\n",
      "(ClientAppActor pid=19036) WARNING :   Deprecation Warning: The `client_fn` function must return an instance of `Client`, but an instance of `NumpyClient` was returned. Please use `NumPyClient.to_client()` method to convert it to `Client`.\n",
      "Eval progress:   0%|          | 0/1 [00:00<?, ?batch/s]\n"
     ]
    },
    {
     "name": "stdout",
     "output_type": "stream",
     "text": [
      "(ClientAppActor pid=19036) [Client] Client on device: cuda:0\n",
      "(ClientAppActor pid=19036) [Client] CUDA available in client: True\n",
      "(ClientAppActor pid=19036) PrecomputingClient initialized.\n"
     ]
    },
    {
     "name": "stderr",
     "output_type": "stream",
     "text": [
      "Eval progress: 100%|██████████| 1/1 [00:00<00:00,  3.97batch/s]\n",
      "(ClientAppActor pid=19036) WARNING :   Deprecation Warning: The `client_fn` function must return an instance of `Client`, but an instance of `NumpyClient` was returned. Please use `NumPyClient.to_client()` method to convert it to `Client`.\n"
     ]
    },
    {
     "name": "stdout",
     "output_type": "stream",
     "text": [
      "(ClientAppActor pid=19036) [Client] Client on device: cuda:0\n",
      "(ClientAppActor pid=19036) [Client] CUDA available in client: True\n",
      "(ClientAppActor pid=19036) PrecomputingClient initialized.\n"
     ]
    },
    {
     "name": "stderr",
     "output_type": "stream",
     "text": [
      "Eval progress:   0%|          | 0/1 [00:00<?, ?batch/s]\n",
      "Eval progress: 100%|██████████| 1/1 [00:00<00:00,  3.93batch/s]\n",
      "(ClientAppActor pid=19036) WARNING :   Deprecation Warning: The `client_fn` function must return an instance of `Client`, but an instance of `NumpyClient` was returned. Please use `NumPyClient.to_client()` method to convert it to `Client`.\n",
      "Eval progress:   0%|          | 0/1 [00:00<?, ?batch/s]\n"
     ]
    },
    {
     "name": "stdout",
     "output_type": "stream",
     "text": [
      "(ClientAppActor pid=19036) [Client] Client on device: cuda:0\n",
      "(ClientAppActor pid=19036) [Client] CUDA available in client: True\n",
      "(ClientAppActor pid=19036) PrecomputingClient initialized.\n"
     ]
    },
    {
     "name": "stderr",
     "output_type": "stream",
     "text": [
      "\u001b[92mINFO \u001b[0m:      aggregate_evaluate: received 10 results and 0 failures\n",
      "\u001b[92mINFO \u001b[0m:      \n",
      "\u001b[92mINFO \u001b[0m:      [ROUND 18]\n",
      "\u001b[92mINFO \u001b[0m:      [Round 18] Quorum updated to: 86\n",
      "Eval progress: 100%|██████████| 1/1 [00:00<00:00,  3.77batch/s]\n",
      "\u001b[92mINFO \u001b[0m:      [Round 18] Generated initial global mask with quorum 86. Sparsity: 0.8853\n",
      "\u001b[92mINFO \u001b[0m:      configure_fit: strategy sampled 10 clients (out of 100)\n",
      "(ClientAppActor pid=19036) WARNING :   Deprecation Warning: The `client_fn` function must return an instance of `Client`, but an instance of `NumpyClient` was returned. Please use `NumPyClient.to_client()` method to convert it to `Client`.\n"
     ]
    },
    {
     "name": "stdout",
     "output_type": "stream",
     "text": [
      "(ClientAppActor pid=19036) [Client] Client on device: cuda:0\n",
      "(ClientAppActor pid=19036) [Client] CUDA available in client: True\n",
      "(ClientAppActor pid=19036) PrecomputingClient initialized.\n",
      "(ClientAppActor pid=19036) No prefix/name for the model was provided, choosen prefix/name: perky_nidorina_90\n",
      "(ClientAppActor pid=19036) \n",
      "(ClientAppActor pid=19036) Step 1/8 | Total batches: 4\n",
      "(ClientAppActor pid=19036) Step 2/8 | Total batches: 4\n",
      "(ClientAppActor pid=19036) Step 3/8 | Total batches: 4\n",
      "(ClientAppActor pid=19036) Step 4/8 | Total batches: 4\n",
      "(ClientAppActor pid=19036) Step 5/8 | Total batches: 4\n",
      "(ClientAppActor pid=19036) Step 6/8 | Total batches: 4\n",
      "(ClientAppActor pid=19036) Step 7/8 | Total batches: 4\n",
      "(ClientAppActor pid=19036) Step 8/8 | Total batches: 4\n",
      "(ClientAppActor pid=19036) 🚀 Epoch 1/1 (100.00%) Completed\n",
      "(ClientAppActor pid=19036) \t📊 Training Loss: 2.2019\n",
      "(ClientAppActor pid=19036) \t✅ Training Accuracy: 43.75%\n",
      "(ClientAppActor pid=19036) \t⏳ Elapsed Time: 3.35s | ETA: 0.00s\n",
      "(ClientAppActor pid=19036) \t🕒 Completed At: 19:14\n",
      "(ClientAppActor pid=19036) \n"
     ]
    },
    {
     "name": "stderr",
     "output_type": "stream",
     "text": [
      "(ClientAppActor pid=19036) WARNING :   Deprecation Warning: The `client_fn` function must return an instance of `Client`, but an instance of `NumpyClient` was returned. Please use `NumPyClient.to_client()` method to convert it to `Client`.\n"
     ]
    },
    {
     "name": "stdout",
     "output_type": "stream",
     "text": [
      "(ClientAppActor pid=19036) [Client] Client on device: cuda:0\n",
      "(ClientAppActor pid=19036) [Client] CUDA available in client: True\n",
      "(ClientAppActor pid=19036) PrecomputingClient initialized.\n",
      "(ClientAppActor pid=19036) No prefix/name for the model was provided, choosen prefix/name: frosty_fearow_56\n",
      "(ClientAppActor pid=19036) \n",
      "(ClientAppActor pid=19036) Step 1/8 | Total batches: 4\n",
      "(ClientAppActor pid=19036) Step 2/8 | Total batches: 4\n",
      "(ClientAppActor pid=19036) Step 3/8 | Total batches: 4\n",
      "(ClientAppActor pid=19036) Step 4/8 | Total batches: 4\n",
      "(ClientAppActor pid=19036) Step 5/8 | Total batches: 4\n",
      "(ClientAppActor pid=19036) Step 6/8 | Total batches: 4\n",
      "(ClientAppActor pid=19036) Step 7/8 | Total batches: 4\n",
      "(ClientAppActor pid=19036) Step 8/8 | Total batches: 4\n",
      "(ClientAppActor pid=19036) 🚀 Epoch 1/1 (100.00%) Completed\n",
      "(ClientAppActor pid=19036) \t📊 Training Loss: 0.7582\n",
      "(ClientAppActor pid=19036) \t✅ Training Accuracy: 74.12%\n",
      "(ClientAppActor pid=19036) \t⏳ Elapsed Time: 3.37s | ETA: 0.00s\n",
      "(ClientAppActor pid=19036) \t🕒 Completed At: 19:14\n",
      "(ClientAppActor pid=19036) \n"
     ]
    },
    {
     "name": "stderr",
     "output_type": "stream",
     "text": [
      "(ClientAppActor pid=19036) WARNING :   Deprecation Warning: The `client_fn` function must return an instance of `Client`, but an instance of `NumpyClient` was returned. Please use `NumPyClient.to_client()` method to convert it to `Client`.\n"
     ]
    },
    {
     "name": "stdout",
     "output_type": "stream",
     "text": [
      "(ClientAppActor pid=19036) [Client] Client on device: cuda:0\n",
      "(ClientAppActor pid=19036) [Client] CUDA available in client: True\n",
      "(ClientAppActor pid=19036) PrecomputingClient initialized.\n",
      "(ClientAppActor pid=19036) No prefix/name for the model was provided, choosen prefix/name: chirpy_bulbasaur_78\n",
      "(ClientAppActor pid=19036) \n",
      "(ClientAppActor pid=19036) Step 1/8 | Total batches: 4\n",
      "(ClientAppActor pid=19036) Step 2/8 | Total batches: 4\n",
      "(ClientAppActor pid=19036) Step 3/8 | Total batches: 4\n",
      "(ClientAppActor pid=19036) Step 4/8 | Total batches: 4\n",
      "(ClientAppActor pid=19036) Step 5/8 | Total batches: 4\n",
      "(ClientAppActor pid=19036) Step 6/8 | Total batches: 4\n",
      "(ClientAppActor pid=19036) Step 7/8 | Total batches: 4\n",
      "(ClientAppActor pid=19036) Step 8/8 | Total batches: 4\n",
      "(ClientAppActor pid=19036) 🚀 Epoch 1/1 (100.00%) Completed\n",
      "(ClientAppActor pid=19036) \t📊 Training Loss: 0.9436\n",
      "(ClientAppActor pid=19036) \t✅ Training Accuracy: 73.00%\n",
      "(ClientAppActor pid=19036) \t⏳ Elapsed Time: 3.36s | ETA: 0.00s\n",
      "(ClientAppActor pid=19036) \t🕒 Completed At: 19:14\n",
      "(ClientAppActor pid=19036) \n",
      "(ClientAppActor pid=19036) [Client] Client on device: cuda:0\n",
      "(ClientAppActor pid=19036) [Client] CUDA available in client: True\n"
     ]
    },
    {
     "name": "stderr",
     "output_type": "stream",
     "text": [
      "(ClientAppActor pid=19036) WARNING :   Deprecation Warning: The `client_fn` function must return an instance of `Client`, but an instance of `NumpyClient` was returned. Please use `NumPyClient.to_client()` method to convert it to `Client`.\n"
     ]
    },
    {
     "name": "stdout",
     "output_type": "stream",
     "text": [
      "(ClientAppActor pid=19036) PrecomputingClient initialized.\n",
      "(ClientAppActor pid=19036) No prefix/name for the model was provided, choosen prefix/name: dizzy_bulbasaur_25\n",
      "(ClientAppActor pid=19036) \n",
      "(ClientAppActor pid=19036) Step 1/8 | Total batches: 4\n",
      "(ClientAppActor pid=19036) Step 2/8 | Total batches: 4\n",
      "(ClientAppActor pid=19036) Step 3/8 | Total batches: 4\n",
      "(ClientAppActor pid=19036) Step 4/8 | Total batches: 4\n",
      "(ClientAppActor pid=19036) Step 5/8 | Total batches: 4\n",
      "(ClientAppActor pid=19036) Step 6/8 | Total batches: 4\n",
      "(ClientAppActor pid=19036) Step 7/8 | Total batches: 4\n",
      "(ClientAppActor pid=19036) Step 8/8 | Total batches: 4\n",
      "(ClientAppActor pid=19036) 🚀 Epoch 1/1 (100.00%) Completed\n",
      "(ClientAppActor pid=19036) \t📊 Training Loss: 0.6892\n",
      "(ClientAppActor pid=19036) \t✅ Training Accuracy: 81.38%\n",
      "(ClientAppActor pid=19036) \t⏳ Elapsed Time: 3.37s | ETA: 0.00s\n",
      "(ClientAppActor pid=19036) \t🕒 Completed At: 19:14\n",
      "(ClientAppActor pid=19036) \n"
     ]
    },
    {
     "name": "stderr",
     "output_type": "stream",
     "text": [
      "(ClientAppActor pid=19036) WARNING :   Deprecation Warning: The `client_fn` function must return an instance of `Client`, but an instance of `NumpyClient` was returned. Please use `NumPyClient.to_client()` method to convert it to `Client`.\n"
     ]
    },
    {
     "name": "stdout",
     "output_type": "stream",
     "text": [
      "(ClientAppActor pid=19036) [Client] Client on device: cuda:0\n",
      "(ClientAppActor pid=19036) [Client] CUDA available in client: True\n",
      "(ClientAppActor pid=19036) PrecomputingClient initialized.\n",
      "(ClientAppActor pid=19036) No prefix/name for the model was provided, choosen prefix/name: grumpy_nidoqueen_60\n",
      "(ClientAppActor pid=19036) \n",
      "(ClientAppActor pid=19036) Step 1/8 | Total batches: 4\n",
      "(ClientAppActor pid=19036) Step 2/8 | Total batches: 4\n",
      "(ClientAppActor pid=19036) Step 3/8 | Total batches: 4\n",
      "(ClientAppActor pid=19036) Step 4/8 | Total batches: 4\n",
      "(ClientAppActor pid=19036) Step 5/8 | Total batches: 4\n",
      "(ClientAppActor pid=19036) Step 6/8 | Total batches: 4\n",
      "(ClientAppActor pid=19036) Step 7/8 | Total batches: 4\n",
      "(ClientAppActor pid=19036) Step 8/8 | Total batches: 4\n",
      "(ClientAppActor pid=19036) 🚀 Epoch 1/1 (100.00%) Completed\n",
      "(ClientAppActor pid=19036) \t📊 Training Loss: 0.6294\n",
      "(ClientAppActor pid=19036) \t✅ Training Accuracy: 85.25%\n",
      "(ClientAppActor pid=19036) \t⏳ Elapsed Time: 3.37s | ETA: 0.00s\n",
      "(ClientAppActor pid=19036) \t🕒 Completed At: 19:14\n",
      "(ClientAppActor pid=19036) \n",
      "(ClientAppActor pid=19036) [Client] Client on device: cuda:0\n",
      "(ClientAppActor pid=19036) [Client] CUDA available in client: True\n"
     ]
    },
    {
     "name": "stderr",
     "output_type": "stream",
     "text": [
      "(ClientAppActor pid=19036) WARNING :   Deprecation Warning: The `client_fn` function must return an instance of `Client`, but an instance of `NumpyClient` was returned. Please use `NumPyClient.to_client()` method to convert it to `Client`.\n"
     ]
    },
    {
     "name": "stdout",
     "output_type": "stream",
     "text": [
      "(ClientAppActor pid=19036) PrecomputingClient initialized.\n",
      "(ClientAppActor pid=19036) No prefix/name for the model was provided, choosen prefix/name: dizzy_squirtle_78\n",
      "(ClientAppActor pid=19036) \n",
      "(ClientAppActor pid=19036) Step 1/8 | Total batches: 4\n",
      "(ClientAppActor pid=19036) Step 2/8 | Total batches: 4\n",
      "(ClientAppActor pid=19036) Step 3/8 | Total batches: 4\n",
      "(ClientAppActor pid=19036) Step 4/8 | Total batches: 4\n",
      "(ClientAppActor pid=19036) Step 5/8 | Total batches: 4\n",
      "(ClientAppActor pid=19036) Step 6/8 | Total batches: 4\n",
      "(ClientAppActor pid=19036) Step 7/8 | Total batches: 4\n",
      "(ClientAppActor pid=19036) Step 8/8 | Total batches: 4\n",
      "(ClientAppActor pid=19036) 🚀 Epoch 1/1 (100.00%) Completed\n",
      "(ClientAppActor pid=19036) \t📊 Training Loss: 1.5000\n",
      "(ClientAppActor pid=19036) \t✅ Training Accuracy: 54.00%\n",
      "(ClientAppActor pid=19036) \t⏳ Elapsed Time: 3.39s | ETA: 0.00s\n",
      "(ClientAppActor pid=19036) \t🕒 Completed At: 19:14\n",
      "(ClientAppActor pid=19036) \n"
     ]
    },
    {
     "name": "stderr",
     "output_type": "stream",
     "text": [
      "(ClientAppActor pid=19036) WARNING :   Deprecation Warning: The `client_fn` function must return an instance of `Client`, but an instance of `NumpyClient` was returned. Please use `NumPyClient.to_client()` method to convert it to `Client`.\n"
     ]
    },
    {
     "name": "stdout",
     "output_type": "stream",
     "text": [
      "(ClientAppActor pid=19036) [Client] Client on device: cuda:0\n",
      "(ClientAppActor pid=19036) [Client] CUDA available in client: True\n",
      "(ClientAppActor pid=19036) PrecomputingClient initialized.\n",
      "(ClientAppActor pid=19036) No prefix/name for the model was provided, choosen prefix/name: chirpy_spearow_41\n",
      "(ClientAppActor pid=19036) \n",
      "(ClientAppActor pid=19036) Step 1/8 | Total batches: 4\n",
      "(ClientAppActor pid=19036) Step 2/8 | Total batches: 4\n",
      "(ClientAppActor pid=19036) Step 3/8 | Total batches: 4\n",
      "(ClientAppActor pid=19036) Step 4/8 | Total batches: 4\n",
      "(ClientAppActor pid=19036) Step 5/8 | Total batches: 4\n",
      "(ClientAppActor pid=19036) Step 6/8 | Total batches: 4\n",
      "(ClientAppActor pid=19036) Step 7/8 | Total batches: 4\n",
      "(ClientAppActor pid=19036) Step 8/8 | Total batches: 4\n",
      "(ClientAppActor pid=19036) 🚀 Epoch 1/1 (100.00%) Completed\n",
      "(ClientAppActor pid=19036) \t📊 Training Loss: 0.3590\n",
      "(ClientAppActor pid=19036) \t✅ Training Accuracy: 92.12%\n",
      "(ClientAppActor pid=19036) \t⏳ Elapsed Time: 3.36s | ETA: 0.00s\n",
      "(ClientAppActor pid=19036) \t🕒 Completed At: 19:14\n",
      "(ClientAppActor pid=19036) \n"
     ]
    },
    {
     "name": "stderr",
     "output_type": "stream",
     "text": [
      "(ClientAppActor pid=19036) WARNING :   Deprecation Warning: The `client_fn` function must return an instance of `Client`, but an instance of `NumpyClient` was returned. Please use `NumPyClient.to_client()` method to convert it to `Client`.\n"
     ]
    },
    {
     "name": "stdout",
     "output_type": "stream",
     "text": [
      "(ClientAppActor pid=19036) [Client] Client on device: cuda:0\n",
      "(ClientAppActor pid=19036) [Client] CUDA available in client: True\n",
      "(ClientAppActor pid=19036) PrecomputingClient initialized.\n",
      "(ClientAppActor pid=19036) No prefix/name for the model was provided, choosen prefix/name: frosty_caterpie_54\n",
      "(ClientAppActor pid=19036) \n",
      "(ClientAppActor pid=19036) Step 1/8 | Total batches: 4\n",
      "(ClientAppActor pid=19036) Step 2/8 | Total batches: 4\n",
      "(ClientAppActor pid=19036) Step 3/8 | Total batches: 4\n",
      "(ClientAppActor pid=19036) Step 4/8 | Total batches: 4\n",
      "(ClientAppActor pid=19036) Step 5/8 | Total batches: 4\n",
      "(ClientAppActor pid=19036) Step 6/8 | Total batches: 4\n",
      "(ClientAppActor pid=19036) Step 7/8 | Total batches: 4\n",
      "(ClientAppActor pid=19036) Step 8/8 | Total batches: 4\n",
      "(ClientAppActor pid=19036) 🚀 Epoch 1/1 (100.00%) Completed\n",
      "(ClientAppActor pid=19036) \t📊 Training Loss: 1.7003\n",
      "(ClientAppActor pid=19036) \t✅ Training Accuracy: 56.62%\n",
      "(ClientAppActor pid=19036) \t⏳ Elapsed Time: 3.39s | ETA: 0.00s\n",
      "(ClientAppActor pid=19036) \t🕒 Completed At: 19:14\n",
      "(ClientAppActor pid=19036) \n"
     ]
    },
    {
     "name": "stderr",
     "output_type": "stream",
     "text": [
      "(ClientAppActor pid=19036) WARNING :   Deprecation Warning: The `client_fn` function must return an instance of `Client`, but an instance of `NumpyClient` was returned. Please use `NumPyClient.to_client()` method to convert it to `Client`.\n"
     ]
    },
    {
     "name": "stdout",
     "output_type": "stream",
     "text": [
      "(ClientAppActor pid=19036) [Client] Client on device: cuda:0\n",
      "(ClientAppActor pid=19036) [Client] CUDA available in client: True\n",
      "(ClientAppActor pid=19036) PrecomputingClient initialized.\n",
      "(ClientAppActor pid=19036) No prefix/name for the model was provided, choosen prefix/name: frosty_pidgeot_14\n",
      "(ClientAppActor pid=19036) \n",
      "(ClientAppActor pid=19036) Step 1/8 | Total batches: 4\n",
      "(ClientAppActor pid=19036) Step 2/8 | Total batches: 4\n",
      "(ClientAppActor pid=19036) Step 3/8 | Total batches: 4\n",
      "(ClientAppActor pid=19036) Step 4/8 | Total batches: 4\n",
      "(ClientAppActor pid=19036) Step 5/8 | Total batches: 4\n",
      "(ClientAppActor pid=19036) Step 6/8 | Total batches: 4\n",
      "(ClientAppActor pid=19036) Step 7/8 | Total batches: 4\n",
      "(ClientAppActor pid=19036) Step 8/8 | Total batches: 4\n",
      "(ClientAppActor pid=19036) 🚀 Epoch 1/1 (100.00%) Completed\n",
      "(ClientAppActor pid=19036) \t📊 Training Loss: 1.9279\n",
      "(ClientAppActor pid=19036) \t✅ Training Accuracy: 47.75%\n",
      "(ClientAppActor pid=19036) \t⏳ Elapsed Time: 3.37s | ETA: 0.00s\n",
      "(ClientAppActor pid=19036) \t🕒 Completed At: 19:14\n",
      "(ClientAppActor pid=19036) \n"
     ]
    },
    {
     "name": "stderr",
     "output_type": "stream",
     "text": [
      "(ClientAppActor pid=19036) WARNING :   Deprecation Warning: The `client_fn` function must return an instance of `Client`, but an instance of `NumpyClient` was returned. Please use `NumPyClient.to_client()` method to convert it to `Client`.\n"
     ]
    },
    {
     "name": "stdout",
     "output_type": "stream",
     "text": [
      "(ClientAppActor pid=19036) [Client] Client on device: cuda:0\n",
      "(ClientAppActor pid=19036) [Client] CUDA available in client: True\n",
      "(ClientAppActor pid=19036) PrecomputingClient initialized.\n",
      "(ClientAppActor pid=19036) No prefix/name for the model was provided, choosen prefix/name: breezy_butterfree_69\n",
      "(ClientAppActor pid=19036) \n",
      "(ClientAppActor pid=19036) Step 1/8 | Total batches: 4\n",
      "(ClientAppActor pid=19036) Step 2/8 | Total batches: 4\n",
      "(ClientAppActor pid=19036) Step 3/8 | Total batches: 4\n",
      "(ClientAppActor pid=19036) Step 4/8 | Total batches: 4\n",
      "(ClientAppActor pid=19036) Step 5/8 | Total batches: 4\n",
      "(ClientAppActor pid=19036) Step 6/8 | Total batches: 4\n",
      "(ClientAppActor pid=19036) Step 7/8 | Total batches: 4\n",
      "(ClientAppActor pid=19036) Step 8/8 | Total batches: 4\n",
      "(ClientAppActor pid=19036) 🚀 Epoch 1/1 (100.00%) Completed\n",
      "(ClientAppActor pid=19036) \t📊 Training Loss: 0.8102\n",
      "(ClientAppActor pid=19036) \t✅ Training Accuracy: 75.38%\n",
      "(ClientAppActor pid=19036) \t⏳ Elapsed Time: 3.36s | ETA: 0.00s\n",
      "(ClientAppActor pid=19036) \t🕒 Completed At: 19:14\n",
      "(ClientAppActor pid=19036) \n"
     ]
    },
    {
     "name": "stderr",
     "output_type": "stream",
     "text": [
      "\u001b[92mINFO \u001b[0m:      aggregate_fit: received 10 results and 0 failures\n",
      "\u001b[92mINFO \u001b[0m:      [Round 18] Avg Drift: 0.0008 | Relative Drift: 0.0000\n",
      "\u001b[92mINFO \u001b[0m:      [Round 18] Saving aggregated model at epoch 218...\n"
     ]
    },
    {
     "name": "stdout",
     "output_type": "stream",
     "text": [
      "💾 Saved checkpoint at: /Users/ciovi/Desktop/coding/mldl/fl-g13/checkpoints/fl_dino_v4/non_iid/1_8_dynamic-quorum\\fl_Test_Dynamic_Quorum_v2_BaseDino_epoch_218.pth\n",
      "[Server Eval Round 18] Model device: cuda:0\n",
      "[Server Eval Round 18] CUDA available in server eval: True\n"
     ]
    },
    {
     "name": "stderr",
     "output_type": "stream",
     "text": [
      "Eval progress: 100%|██████████| 313/313 [00:22<00:00, 14.08batch/s]\n",
      "\u001b[92mINFO \u001b[0m:      [Round 18] Centralized Evaluation - Loss: 2.0433, Metrics: {'centralized_accuracy': 0.4632}\n",
      "\u001b[92mINFO \u001b[0m:      fit progress: (18, 2.0432557789281534, {'centralized_accuracy': 0.4632}, 1456.2435149999983)\n",
      "\u001b[92mINFO \u001b[0m:      configure_evaluate: strategy sampled 10 clients (out of 100)\n",
      "(ClientAppActor pid=19036) WARNING :   Deprecation Warning: The `client_fn` function must return an instance of `Client`, but an instance of `NumpyClient` was returned. Please use `NumPyClient.to_client()` method to convert it to `Client`.\n"
     ]
    },
    {
     "name": "stdout",
     "output_type": "stream",
     "text": [
      "(ClientAppActor pid=19036) [Client] Client on device: cuda:0\n",
      "(ClientAppActor pid=19036) [Client] CUDA available in client: True\n",
      "(ClientAppActor pid=19036) PrecomputingClient initialized.\n"
     ]
    },
    {
     "name": "stderr",
     "output_type": "stream",
     "text": [
      "Eval progress:   0%|          | 0/1 [00:00<?, ?batch/s]\n",
      "Eval progress: 100%|██████████| 1/1 [00:00<00:00,  3.75batch/s]\n",
      "(ClientAppActor pid=19036) WARNING :   Deprecation Warning: The `client_fn` function must return an instance of `Client`, but an instance of `NumpyClient` was returned. Please use `NumPyClient.to_client()` method to convert it to `Client`.\n",
      "Eval progress:   0%|          | 0/1 [00:00<?, ?batch/s]\n"
     ]
    },
    {
     "name": "stdout",
     "output_type": "stream",
     "text": [
      "(ClientAppActor pid=19036) [Client] Client on device: cuda:0\n",
      "(ClientAppActor pid=19036) [Client] CUDA available in client: True\n",
      "(ClientAppActor pid=19036) PrecomputingClient initialized.\n"
     ]
    },
    {
     "name": "stderr",
     "output_type": "stream",
     "text": [
      "Eval progress: 100%|██████████| 1/1 [00:00<00:00,  3.92batch/s]\n",
      "(ClientAppActor pid=19036) WARNING :   Deprecation Warning: The `client_fn` function must return an instance of `Client`, but an instance of `NumpyClient` was returned. Please use `NumPyClient.to_client()` method to convert it to `Client`.\n",
      "Eval progress:   0%|          | 0/1 [00:00<?, ?batch/s]\n"
     ]
    },
    {
     "name": "stdout",
     "output_type": "stream",
     "text": [
      "(ClientAppActor pid=19036) [Client] Client on device: cuda:0\n",
      "(ClientAppActor pid=19036) [Client] CUDA available in client: True\n",
      "(ClientAppActor pid=19036) PrecomputingClient initialized.\n"
     ]
    },
    {
     "name": "stderr",
     "output_type": "stream",
     "text": [
      "Eval progress: 100%|██████████| 1/1 [00:00<00:00,  3.96batch/s]\n",
      "(ClientAppActor pid=19036) WARNING :   Deprecation Warning: The `client_fn` function must return an instance of `Client`, but an instance of `NumpyClient` was returned. Please use `NumPyClient.to_client()` method to convert it to `Client`.\n"
     ]
    },
    {
     "name": "stdout",
     "output_type": "stream",
     "text": [
      "(ClientAppActor pid=19036) [Client] Client on device: cuda:0\n",
      "(ClientAppActor pid=19036) [Client] CUDA available in client: True\n",
      "(ClientAppActor pid=19036) PrecomputingClient initialized.\n"
     ]
    },
    {
     "name": "stderr",
     "output_type": "stream",
     "text": [
      "Eval progress:   0%|          | 0/1 [00:00<?, ?batch/s]\n",
      "Eval progress: 100%|██████████| 1/1 [00:00<00:00,  3.93batch/s]\n",
      "(ClientAppActor pid=19036) WARNING :   Deprecation Warning: The `client_fn` function must return an instance of `Client`, but an instance of `NumpyClient` was returned. Please use `NumPyClient.to_client()` method to convert it to `Client`.\n",
      "Eval progress:   0%|          | 0/1 [00:00<?, ?batch/s]\n"
     ]
    },
    {
     "name": "stdout",
     "output_type": "stream",
     "text": [
      "(ClientAppActor pid=19036) [Client] Client on device: cuda:0\n",
      "(ClientAppActor pid=19036) [Client] CUDA available in client: True\n",
      "(ClientAppActor pid=19036) PrecomputingClient initialized.\n"
     ]
    },
    {
     "name": "stderr",
     "output_type": "stream",
     "text": [
      "Eval progress: 100%|██████████| 1/1 [00:00<00:00,  3.95batch/s]\n",
      "(ClientAppActor pid=19036) WARNING :   Deprecation Warning: The `client_fn` function must return an instance of `Client`, but an instance of `NumpyClient` was returned. Please use `NumPyClient.to_client()` method to convert it to `Client`.\n"
     ]
    },
    {
     "name": "stdout",
     "output_type": "stream",
     "text": [
      "(ClientAppActor pid=19036) [Client] Client on device: cuda:0\n",
      "(ClientAppActor pid=19036) [Client] CUDA available in client: True\n",
      "(ClientAppActor pid=19036) PrecomputingClient initialized.\n"
     ]
    },
    {
     "name": "stderr",
     "output_type": "stream",
     "text": [
      "Eval progress:   0%|          | 0/1 [00:00<?, ?batch/s]\n",
      "Eval progress: 100%|██████████| 1/1 [00:00<00:00,  3.78batch/s]\n",
      "(ClientAppActor pid=19036) WARNING :   Deprecation Warning: The `client_fn` function must return an instance of `Client`, but an instance of `NumpyClient` was returned. Please use `NumPyClient.to_client()` method to convert it to `Client`.\n",
      "Eval progress:   0%|          | 0/1 [00:00<?, ?batch/s]\n"
     ]
    },
    {
     "name": "stdout",
     "output_type": "stream",
     "text": [
      "(ClientAppActor pid=19036) [Client] Client on device: cuda:0\n",
      "(ClientAppActor pid=19036) [Client] CUDA available in client: True\n",
      "(ClientAppActor pid=19036) PrecomputingClient initialized.\n"
     ]
    },
    {
     "name": "stderr",
     "output_type": "stream",
     "text": [
      "Eval progress: 100%|██████████| 1/1 [00:00<00:00,  3.91batch/s]\n",
      "(ClientAppActor pid=19036) WARNING :   Deprecation Warning: The `client_fn` function must return an instance of `Client`, but an instance of `NumpyClient` was returned. Please use `NumPyClient.to_client()` method to convert it to `Client`.\n",
      "Eval progress:   0%|          | 0/1 [00:00<?, ?batch/s]\n"
     ]
    },
    {
     "name": "stdout",
     "output_type": "stream",
     "text": [
      "(ClientAppActor pid=19036) [Client] Client on device: cuda:0\n",
      "(ClientAppActor pid=19036) [Client] CUDA available in client: True\n",
      "(ClientAppActor pid=19036) PrecomputingClient initialized.\n"
     ]
    },
    {
     "name": "stderr",
     "output_type": "stream",
     "text": [
      "Eval progress: 100%|██████████| 1/1 [00:00<00:00,  3.93batch/s]\n",
      "(ClientAppActor pid=19036) WARNING :   Deprecation Warning: The `client_fn` function must return an instance of `Client`, but an instance of `NumpyClient` was returned. Please use `NumPyClient.to_client()` method to convert it to `Client`.\n"
     ]
    },
    {
     "name": "stdout",
     "output_type": "stream",
     "text": [
      "(ClientAppActor pid=19036) [Client] Client on device: cuda:0\n",
      "(ClientAppActor pid=19036) [Client] CUDA available in client: True\n",
      "(ClientAppActor pid=19036) PrecomputingClient initialized.\n"
     ]
    },
    {
     "name": "stderr",
     "output_type": "stream",
     "text": [
      "Eval progress:   0%|          | 0/1 [00:00<?, ?batch/s]\n",
      "Eval progress: 100%|██████████| 1/1 [00:00<00:00,  3.94batch/s]\n",
      "(ClientAppActor pid=19036) WARNING :   Deprecation Warning: The `client_fn` function must return an instance of `Client`, but an instance of `NumpyClient` was returned. Please use `NumPyClient.to_client()` method to convert it to `Client`.\n",
      "Eval progress:   0%|          | 0/1 [00:00<?, ?batch/s]\n"
     ]
    },
    {
     "name": "stdout",
     "output_type": "stream",
     "text": [
      "(ClientAppActor pid=19036) [Client] Client on device: cuda:0\n",
      "(ClientAppActor pid=19036) [Client] CUDA available in client: True\n",
      "(ClientAppActor pid=19036) PrecomputingClient initialized.\n"
     ]
    },
    {
     "name": "stderr",
     "output_type": "stream",
     "text": [
      "\u001b[92mINFO \u001b[0m:      aggregate_evaluate: received 10 results and 0 failures\n",
      "\u001b[92mINFO \u001b[0m:      \n",
      "\u001b[92mINFO \u001b[0m:      [ROUND 19]\n",
      "\u001b[92mINFO \u001b[0m:      [Round 19] Quorum updated to: 91\n",
      "Eval progress: 100%|██████████| 1/1 [00:00<00:00,  3.93batch/s]\n",
      "\u001b[92mINFO \u001b[0m:      [Round 19] Generated initial global mask with quorum 91. Sparsity: 0.9025\n",
      "\u001b[92mINFO \u001b[0m:      configure_fit: strategy sampled 10 clients (out of 100)\n",
      "(ClientAppActor pid=19036) WARNING :   Deprecation Warning: The `client_fn` function must return an instance of `Client`, but an instance of `NumpyClient` was returned. Please use `NumPyClient.to_client()` method to convert it to `Client`.\n"
     ]
    },
    {
     "name": "stdout",
     "output_type": "stream",
     "text": [
      "(ClientAppActor pid=19036) [Client] Client on device: cuda:0\n",
      "(ClientAppActor pid=19036) [Client] CUDA available in client: True\n",
      "(ClientAppActor pid=19036) PrecomputingClient initialized.\n",
      "(ClientAppActor pid=19036) No prefix/name for the model was provided, choosen prefix/name: jolly_caterpie_65\n",
      "(ClientAppActor pid=19036) \n",
      "(ClientAppActor pid=19036) Step 1/8 | Total batches: 4\n",
      "(ClientAppActor pid=19036) Step 2/8 | Total batches: 4\n",
      "(ClientAppActor pid=19036) Step 3/8 | Total batches: 4\n",
      "(ClientAppActor pid=19036) Step 4/8 | Total batches: 4\n",
      "(ClientAppActor pid=19036) Step 5/8 | Total batches: 4\n",
      "(ClientAppActor pid=19036) Step 6/8 | Total batches: 4\n",
      "(ClientAppActor pid=19036) Step 7/8 | Total batches: 4\n",
      "(ClientAppActor pid=19036) Step 8/8 | Total batches: 4\n",
      "(ClientAppActor pid=19036) 🚀 Epoch 1/1 (100.00%) Completed\n",
      "(ClientAppActor pid=19036) \t📊 Training Loss: 1.1197\n",
      "(ClientAppActor pid=19036) \t✅ Training Accuracy: 66.00%\n",
      "(ClientAppActor pid=19036) \t⏳ Elapsed Time: 3.36s | ETA: 0.00s\n",
      "(ClientAppActor pid=19036) \t🕒 Completed At: 19:15\n",
      "(ClientAppActor pid=19036) \n"
     ]
    },
    {
     "name": "stderr",
     "output_type": "stream",
     "text": [
      "(ClientAppActor pid=19036) WARNING :   Deprecation Warning: The `client_fn` function must return an instance of `Client`, but an instance of `NumpyClient` was returned. Please use `NumPyClient.to_client()` method to convert it to `Client`.\n"
     ]
    },
    {
     "name": "stdout",
     "output_type": "stream",
     "text": [
      "(ClientAppActor pid=19036) [Client] Client on device: cuda:0\n",
      "(ClientAppActor pid=19036) [Client] CUDA available in client: True\n",
      "(ClientAppActor pid=19036) PrecomputingClient initialized.\n",
      "(ClientAppActor pid=19036) No prefix/name for the model was provided, choosen prefix/name: dizzy_nidoking_19\n",
      "(ClientAppActor pid=19036) \n",
      "(ClientAppActor pid=19036) Step 1/8 | Total batches: 4\n",
      "(ClientAppActor pid=19036) Step 2/8 | Total batches: 4\n",
      "(ClientAppActor pid=19036) Step 3/8 | Total batches: 4\n",
      "(ClientAppActor pid=19036) Step 4/8 | Total batches: 4\n",
      "(ClientAppActor pid=19036) Step 5/8 | Total batches: 4\n",
      "(ClientAppActor pid=19036) Step 6/8 | Total batches: 4\n",
      "(ClientAppActor pid=19036) Step 7/8 | Total batches: 4\n",
      "(ClientAppActor pid=19036) Step 8/8 | Total batches: 4\n",
      "(ClientAppActor pid=19036) 🚀 Epoch 1/1 (100.00%) Completed\n",
      "(ClientAppActor pid=19036) \t📊 Training Loss: 1.0197\n",
      "(ClientAppActor pid=19036) \t✅ Training Accuracy: 68.75%\n",
      "(ClientAppActor pid=19036) \t⏳ Elapsed Time: 3.36s | ETA: 0.00s\n",
      "(ClientAppActor pid=19036) \t🕒 Completed At: 19:15\n",
      "(ClientAppActor pid=19036) \n"
     ]
    },
    {
     "name": "stderr",
     "output_type": "stream",
     "text": [
      "(ClientAppActor pid=19036) WARNING :   Deprecation Warning: The `client_fn` function must return an instance of `Client`, but an instance of `NumpyClient` was returned. Please use `NumPyClient.to_client()` method to convert it to `Client`.\n"
     ]
    },
    {
     "name": "stdout",
     "output_type": "stream",
     "text": [
      "(ClientAppActor pid=19036) [Client] Client on device: cuda:0\n",
      "(ClientAppActor pid=19036) [Client] CUDA available in client: True\n",
      "(ClientAppActor pid=19036) PrecomputingClient initialized.\n",
      "(ClientAppActor pid=19036) No prefix/name for the model was provided, choosen prefix/name: silly_arbok_74\n",
      "(ClientAppActor pid=19036) \n",
      "(ClientAppActor pid=19036) Step 1/8 | Total batches: 4\n",
      "(ClientAppActor pid=19036) Step 2/8 | Total batches: 4\n",
      "(ClientAppActor pid=19036) Step 3/8 | Total batches: 4\n",
      "(ClientAppActor pid=19036) Step 4/8 | Total batches: 4\n",
      "(ClientAppActor pid=19036) Step 5/8 | Total batches: 4\n",
      "(ClientAppActor pid=19036) Step 6/8 | Total batches: 4\n",
      "(ClientAppActor pid=19036) Step 7/8 | Total batches: 4\n",
      "(ClientAppActor pid=19036) Step 8/8 | Total batches: 4\n",
      "(ClientAppActor pid=19036) 🚀 Epoch 1/1 (100.00%) Completed\n",
      "(ClientAppActor pid=19036) \t📊 Training Loss: 0.9317\n",
      "(ClientAppActor pid=19036) \t✅ Training Accuracy: 76.25%\n",
      "(ClientAppActor pid=19036) \t⏳ Elapsed Time: 3.38s | ETA: 0.00s\n",
      "(ClientAppActor pid=19036) \t🕒 Completed At: 19:15\n",
      "(ClientAppActor pid=19036) \n"
     ]
    },
    {
     "name": "stderr",
     "output_type": "stream",
     "text": [
      "(ClientAppActor pid=19036) WARNING :   Deprecation Warning: The `client_fn` function must return an instance of `Client`, but an instance of `NumpyClient` was returned. Please use `NumPyClient.to_client()` method to convert it to `Client`.\n"
     ]
    },
    {
     "name": "stdout",
     "output_type": "stream",
     "text": [
      "(ClientAppActor pid=19036) [Client] Client on device: cuda:0\n",
      "(ClientAppActor pid=19036) [Client] CUDA available in client: True\n",
      "(ClientAppActor pid=19036) PrecomputingClient initialized.\n",
      "(ClientAppActor pid=19036) No prefix/name for the model was provided, choosen prefix/name: bubbly_charmander_50\n",
      "(ClientAppActor pid=19036) \n",
      "(ClientAppActor pid=19036) Step 1/8 | Total batches: 4\n",
      "(ClientAppActor pid=19036) Step 2/8 | Total batches: 4\n",
      "(ClientAppActor pid=19036) Step 3/8 | Total batches: 4\n",
      "(ClientAppActor pid=19036) Step 4/8 | Total batches: 4\n",
      "(ClientAppActor pid=19036) Step 5/8 | Total batches: 4\n",
      "(ClientAppActor pid=19036) Step 6/8 | Total batches: 4\n",
      "(ClientAppActor pid=19036) Step 7/8 | Total batches: 4\n",
      "(ClientAppActor pid=19036) Step 8/8 | Total batches: 4\n",
      "(ClientAppActor pid=19036) 🚀 Epoch 1/1 (100.00%) Completed\n",
      "(ClientAppActor pid=19036) \t📊 Training Loss: 1.9263\n",
      "(ClientAppActor pid=19036) \t✅ Training Accuracy: 44.62%\n",
      "(ClientAppActor pid=19036) \t⏳ Elapsed Time: 3.38s | ETA: 0.00s\n",
      "(ClientAppActor pid=19036) \t🕒 Completed At: 19:15\n",
      "(ClientAppActor pid=19036) \n",
      "(ClientAppActor pid=19036) [Client] Client on device: cuda:0\n",
      "(ClientAppActor pid=19036) [Client] CUDA available in client: True\n"
     ]
    },
    {
     "name": "stderr",
     "output_type": "stream",
     "text": [
      "(ClientAppActor pid=19036) WARNING :   Deprecation Warning: The `client_fn` function must return an instance of `Client`, but an instance of `NumpyClient` was returned. Please use `NumPyClient.to_client()` method to convert it to `Client`.\n"
     ]
    },
    {
     "name": "stdout",
     "output_type": "stream",
     "text": [
      "(ClientAppActor pid=19036) PrecomputingClient initialized.\n",
      "(ClientAppActor pid=19036) No prefix/name for the model was provided, choosen prefix/name: snazzy_charmeleon_72\n",
      "(ClientAppActor pid=19036) \n",
      "(ClientAppActor pid=19036) Step 1/8 | Total batches: 4\n",
      "(ClientAppActor pid=19036) Step 2/8 | Total batches: 4\n",
      "(ClientAppActor pid=19036) Step 3/8 | Total batches: 4\n",
      "(ClientAppActor pid=19036) Step 4/8 | Total batches: 4\n",
      "(ClientAppActor pid=19036) Step 5/8 | Total batches: 4\n",
      "(ClientAppActor pid=19036) Step 6/8 | Total batches: 4\n",
      "(ClientAppActor pid=19036) Step 7/8 | Total batches: 4\n",
      "(ClientAppActor pid=19036) Step 8/8 | Total batches: 4\n",
      "(ClientAppActor pid=19036) 🚀 Epoch 1/1 (100.00%) Completed\n",
      "(ClientAppActor pid=19036) \t📊 Training Loss: 0.9298\n",
      "(ClientAppActor pid=19036) \t✅ Training Accuracy: 79.50%\n",
      "(ClientAppActor pid=19036) \t⏳ Elapsed Time: 3.37s | ETA: 0.00s\n",
      "(ClientAppActor pid=19036) \t🕒 Completed At: 19:15\n",
      "(ClientAppActor pid=19036) \n"
     ]
    },
    {
     "name": "stderr",
     "output_type": "stream",
     "text": [
      "(ClientAppActor pid=19036) WARNING :   Deprecation Warning: The `client_fn` function must return an instance of `Client`, but an instance of `NumpyClient` was returned. Please use `NumPyClient.to_client()` method to convert it to `Client`.\n"
     ]
    },
    {
     "name": "stdout",
     "output_type": "stream",
     "text": [
      "(ClientAppActor pid=19036) [Client] Client on device: cuda:0\n",
      "(ClientAppActor pid=19036) [Client] CUDA available in client: True\n",
      "(ClientAppActor pid=19036) PrecomputingClient initialized.\n",
      "(ClientAppActor pid=19036) No prefix/name for the model was provided, choosen prefix/name: cheeky_clefairy_78\n",
      "(ClientAppActor pid=19036) \n",
      "(ClientAppActor pid=19036) Step 1/8 | Total batches: 4\n",
      "(ClientAppActor pid=19036) Step 2/8 | Total batches: 4\n",
      "(ClientAppActor pid=19036) Step 3/8 | Total batches: 4\n",
      "(ClientAppActor pid=19036) Step 4/8 | Total batches: 4\n",
      "(ClientAppActor pid=19036) Step 5/8 | Total batches: 4\n",
      "(ClientAppActor pid=19036) Step 6/8 | Total batches: 4\n",
      "(ClientAppActor pid=19036) Step 7/8 | Total batches: 4\n",
      "(ClientAppActor pid=19036) Step 8/8 | Total batches: 4\n",
      "(ClientAppActor pid=19036) 🚀 Epoch 1/1 (100.00%) Completed\n",
      "(ClientAppActor pid=19036) \t📊 Training Loss: 1.3116\n",
      "(ClientAppActor pid=19036) \t✅ Training Accuracy: 64.12%\n",
      "(ClientAppActor pid=19036) \t⏳ Elapsed Time: 3.39s | ETA: 0.00s\n",
      "(ClientAppActor pid=19036) \t🕒 Completed At: 19:15\n",
      "(ClientAppActor pid=19036) \n"
     ]
    },
    {
     "name": "stderr",
     "output_type": "stream",
     "text": [
      "(ClientAppActor pid=19036) WARNING :   Deprecation Warning: The `client_fn` function must return an instance of `Client`, but an instance of `NumpyClient` was returned. Please use `NumPyClient.to_client()` method to convert it to `Client`.\n"
     ]
    },
    {
     "name": "stdout",
     "output_type": "stream",
     "text": [
      "(ClientAppActor pid=19036) [Client] Client on device: cuda:0\n",
      "(ClientAppActor pid=19036) [Client] CUDA available in client: True\n",
      "(ClientAppActor pid=19036) PrecomputingClient initialized.\n",
      "(ClientAppActor pid=19036) No prefix/name for the model was provided, choosen prefix/name: wacky_pidgeotto_55\n",
      "(ClientAppActor pid=19036) \n",
      "(ClientAppActor pid=19036) Step 1/8 | Total batches: 4\n",
      "(ClientAppActor pid=19036) Step 2/8 | Total batches: 4\n",
      "(ClientAppActor pid=19036) Step 3/8 | Total batches: 4\n",
      "(ClientAppActor pid=19036) Step 4/8 | Total batches: 4\n",
      "(ClientAppActor pid=19036) Step 5/8 | Total batches: 4\n",
      "(ClientAppActor pid=19036) Step 6/8 | Total batches: 4\n",
      "(ClientAppActor pid=19036) Step 7/8 | Total batches: 4\n",
      "(ClientAppActor pid=19036) Step 8/8 | Total batches: 4\n",
      "(ClientAppActor pid=19036) 🚀 Epoch 1/1 (100.00%) Completed\n",
      "(ClientAppActor pid=19036) \t📊 Training Loss: 3.1139\n",
      "(ClientAppActor pid=19036) \t✅ Training Accuracy: 21.00%\n",
      "(ClientAppActor pid=19036) \t⏳ Elapsed Time: 3.38s | ETA: 0.00s\n",
      "(ClientAppActor pid=19036) \t🕒 Completed At: 19:15\n",
      "(ClientAppActor pid=19036) \n",
      "(ClientAppActor pid=19036) [Client] Client on device: cuda:0\n",
      "(ClientAppActor pid=19036) [Client] CUDA available in client: True\n"
     ]
    },
    {
     "name": "stderr",
     "output_type": "stream",
     "text": [
      "(ClientAppActor pid=19036) WARNING :   Deprecation Warning: The `client_fn` function must return an instance of `Client`, but an instance of `NumpyClient` was returned. Please use `NumPyClient.to_client()` method to convert it to `Client`.\n"
     ]
    },
    {
     "name": "stdout",
     "output_type": "stream",
     "text": [
      "(ClientAppActor pid=19036) PrecomputingClient initialized.\n",
      "(ClientAppActor pid=19036) No prefix/name for the model was provided, choosen prefix/name: zippy_kakuna_21\n",
      "(ClientAppActor pid=19036) \n",
      "(ClientAppActor pid=19036) Step 1/8 | Total batches: 4\n",
      "(ClientAppActor pid=19036) Step 2/8 | Total batches: 4\n",
      "(ClientAppActor pid=19036) Step 3/8 | Total batches: 4\n",
      "(ClientAppActor pid=19036) Step 4/8 | Total batches: 4\n",
      "(ClientAppActor pid=19036) Step 5/8 | Total batches: 4\n",
      "(ClientAppActor pid=19036) Step 6/8 | Total batches: 4\n",
      "(ClientAppActor pid=19036) Step 7/8 | Total batches: 4\n",
      "(ClientAppActor pid=19036) Step 8/8 | Total batches: 4\n",
      "(ClientAppActor pid=19036) 🚀 Epoch 1/1 (100.00%) Completed\n",
      "(ClientAppActor pid=19036) \t📊 Training Loss: 0.9920\n",
      "(ClientAppActor pid=19036) \t✅ Training Accuracy: 76.88%\n",
      "(ClientAppActor pid=19036) \t⏳ Elapsed Time: 3.39s | ETA: 0.00s\n",
      "(ClientAppActor pid=19036) \t🕒 Completed At: 19:15\n",
      "(ClientAppActor pid=19036) \n"
     ]
    },
    {
     "name": "stderr",
     "output_type": "stream",
     "text": [
      "(ClientAppActor pid=19036) WARNING :   Deprecation Warning: The `client_fn` function must return an instance of `Client`, but an instance of `NumpyClient` was returned. Please use `NumPyClient.to_client()` method to convert it to `Client`.\n"
     ]
    },
    {
     "name": "stdout",
     "output_type": "stream",
     "text": [
      "(ClientAppActor pid=19036) [Client] Client on device: cuda:0\n",
      "(ClientAppActor pid=19036) [Client] CUDA available in client: True\n",
      "(ClientAppActor pid=19036) PrecomputingClient initialized.\n",
      "(ClientAppActor pid=19036) No prefix/name for the model was provided, choosen prefix/name: bubbly_charmander_19\n",
      "(ClientAppActor pid=19036) \n",
      "(ClientAppActor pid=19036) Step 1/8 | Total batches: 4\n",
      "(ClientAppActor pid=19036) Step 2/8 | Total batches: 4\n",
      "(ClientAppActor pid=19036) Step 3/8 | Total batches: 4\n",
      "(ClientAppActor pid=19036) Step 4/8 | Total batches: 4\n",
      "(ClientAppActor pid=19036) Step 5/8 | Total batches: 4\n",
      "(ClientAppActor pid=19036) Step 6/8 | Total batches: 4\n",
      "(ClientAppActor pid=19036) Step 7/8 | Total batches: 4\n",
      "(ClientAppActor pid=19036) Step 8/8 | Total batches: 4\n",
      "(ClientAppActor pid=19036) 🚀 Epoch 1/1 (100.00%) Completed\n",
      "(ClientAppActor pid=19036) \t📊 Training Loss: 1.1412\n",
      "(ClientAppActor pid=19036) \t✅ Training Accuracy: 66.12%\n",
      "(ClientAppActor pid=19036) \t⏳ Elapsed Time: 3.38s | ETA: 0.00s\n",
      "(ClientAppActor pid=19036) \t🕒 Completed At: 19:15\n",
      "(ClientAppActor pid=19036) \n"
     ]
    },
    {
     "name": "stderr",
     "output_type": "stream",
     "text": [
      "(ClientAppActor pid=19036) WARNING :   Deprecation Warning: The `client_fn` function must return an instance of `Client`, but an instance of `NumpyClient` was returned. Please use `NumPyClient.to_client()` method to convert it to `Client`.\n"
     ]
    },
    {
     "name": "stdout",
     "output_type": "stream",
     "text": [
      "(ClientAppActor pid=19036) [Client] Client on device: cuda:0\n",
      "(ClientAppActor pid=19036) [Client] CUDA available in client: True\n",
      "(ClientAppActor pid=19036) PrecomputingClient initialized.\n",
      "(ClientAppActor pid=19036) No prefix/name for the model was provided, choosen prefix/name: frosty_pikachu_84\n",
      "(ClientAppActor pid=19036) \n",
      "(ClientAppActor pid=19036) Step 1/8 | Total batches: 4\n",
      "(ClientAppActor pid=19036) Step 2/8 | Total batches: 4\n",
      "(ClientAppActor pid=19036) Step 3/8 | Total batches: 4\n",
      "(ClientAppActor pid=19036) Step 4/8 | Total batches: 4\n",
      "(ClientAppActor pid=19036) Step 5/8 | Total batches: 4\n",
      "(ClientAppActor pid=19036) Step 6/8 | Total batches: 4\n",
      "(ClientAppActor pid=19036) Step 7/8 | Total batches: 4\n",
      "(ClientAppActor pid=19036) Step 8/8 | Total batches: 4\n",
      "(ClientAppActor pid=19036) 🚀 Epoch 1/1 (100.00%) Completed\n",
      "(ClientAppActor pid=19036) \t📊 Training Loss: 0.9374\n",
      "(ClientAppActor pid=19036) \t✅ Training Accuracy: 77.38%\n",
      "(ClientAppActor pid=19036) \t⏳ Elapsed Time: 3.37s | ETA: 0.00s\n",
      "(ClientAppActor pid=19036) \t🕒 Completed At: 19:15\n",
      "(ClientAppActor pid=19036) \n"
     ]
    },
    {
     "name": "stderr",
     "output_type": "stream",
     "text": [
      "\u001b[92mINFO \u001b[0m:      aggregate_fit: received 10 results and 0 failures\n",
      "\u001b[92mINFO \u001b[0m:      [Round 19] Avg Drift: 0.0008 | Relative Drift: 0.0000\n",
      "\u001b[92mINFO \u001b[0m:      [Round 19] Saving aggregated model at epoch 219...\n"
     ]
    },
    {
     "name": "stdout",
     "output_type": "stream",
     "text": [
      "💾 Saved checkpoint at: /Users/ciovi/Desktop/coding/mldl/fl-g13/checkpoints/fl_dino_v4/non_iid/1_8_dynamic-quorum\\fl_Test_Dynamic_Quorum_v2_BaseDino_epoch_219.pth\n",
      "[Server Eval Round 19] Model device: cuda:0\n",
      "[Server Eval Round 19] CUDA available in server eval: True\n"
     ]
    },
    {
     "name": "stderr",
     "output_type": "stream",
     "text": [
      "Eval progress: 100%|██████████| 313/313 [00:22<00:00, 14.09batch/s]\n",
      "\u001b[92mINFO \u001b[0m:      [Round 19] Centralized Evaluation - Loss: 1.9822, Metrics: {'centralized_accuracy': 0.4733}\n",
      "\u001b[92mINFO \u001b[0m:      fit progress: (19, 1.98224181641405, {'centralized_accuracy': 0.4733}, 1533.3297910999972)\n",
      "\u001b[92mINFO \u001b[0m:      configure_evaluate: strategy sampled 10 clients (out of 100)\n",
      "(ClientAppActor pid=19036) WARNING :   Deprecation Warning: The `client_fn` function must return an instance of `Client`, but an instance of `NumpyClient` was returned. Please use `NumPyClient.to_client()` method to convert it to `Client`.\n",
      "Eval progress:   0%|          | 0/1 [00:00<?, ?batch/s]\n"
     ]
    },
    {
     "name": "stdout",
     "output_type": "stream",
     "text": [
      "(ClientAppActor pid=19036) [Client] Client on device: cuda:0\n",
      "(ClientAppActor pid=19036) [Client] CUDA available in client: True\n",
      "(ClientAppActor pid=19036) PrecomputingClient initialized.\n"
     ]
    },
    {
     "name": "stderr",
     "output_type": "stream",
     "text": [
      "Eval progress: 100%|██████████| 1/1 [00:00<00:00,  3.85batch/s]\n"
     ]
    },
    {
     "name": "stdout",
     "output_type": "stream",
     "text": [
      "(ClientAppActor pid=19036) [Client] Client on device: cuda:0\n",
      "(ClientAppActor pid=19036) [Client] CUDA available in client: True\n"
     ]
    },
    {
     "name": "stderr",
     "output_type": "stream",
     "text": [
      "(ClientAppActor pid=19036) WARNING :   Deprecation Warning: The `client_fn` function must return an instance of `Client`, but an instance of `NumpyClient` was returned. Please use `NumPyClient.to_client()` method to convert it to `Client`.\n",
      "Eval progress:   0%|          | 0/1 [00:00<?, ?batch/s]\n"
     ]
    },
    {
     "name": "stdout",
     "output_type": "stream",
     "text": [
      "(ClientAppActor pid=19036) PrecomputingClient initialized.\n"
     ]
    },
    {
     "name": "stderr",
     "output_type": "stream",
     "text": [
      "Eval progress: 100%|██████████| 1/1 [00:00<00:00,  3.93batch/s]\n",
      "(ClientAppActor pid=19036) WARNING :   Deprecation Warning: The `client_fn` function must return an instance of `Client`, but an instance of `NumpyClient` was returned. Please use `NumPyClient.to_client()` method to convert it to `Client`.\n"
     ]
    },
    {
     "name": "stdout",
     "output_type": "stream",
     "text": [
      "(ClientAppActor pid=19036) [Client] Client on device: cuda:0\n",
      "(ClientAppActor pid=19036) [Client] CUDA available in client: True\n",
      "(ClientAppActor pid=19036) PrecomputingClient initialized.\n"
     ]
    },
    {
     "name": "stderr",
     "output_type": "stream",
     "text": [
      "Eval progress:   0%|          | 0/1 [00:00<?, ?batch/s]\n",
      "Eval progress: 100%|██████████| 1/1 [00:00<00:00,  3.94batch/s]\n",
      "(ClientAppActor pid=19036) WARNING :   Deprecation Warning: The `client_fn` function must return an instance of `Client`, but an instance of `NumpyClient` was returned. Please use `NumPyClient.to_client()` method to convert it to `Client`.\n"
     ]
    },
    {
     "name": "stdout",
     "output_type": "stream",
     "text": [
      "(ClientAppActor pid=19036) [Client] Client on device: cuda:0\n",
      "(ClientAppActor pid=19036) [Client] CUDA available in client: True\n",
      "(ClientAppActor pid=19036) PrecomputingClient initialized.\n"
     ]
    },
    {
     "name": "stderr",
     "output_type": "stream",
     "text": [
      "Eval progress:   0%|          | 0/1 [00:00<?, ?batch/s]\n",
      "Eval progress: 100%|██████████| 1/1 [00:00<00:00,  3.95batch/s]\n",
      "(ClientAppActor pid=19036) WARNING :   Deprecation Warning: The `client_fn` function must return an instance of `Client`, but an instance of `NumpyClient` was returned. Please use `NumPyClient.to_client()` method to convert it to `Client`.\n",
      "Eval progress:   0%|          | 0/1 [00:00<?, ?batch/s]\n"
     ]
    },
    {
     "name": "stdout",
     "output_type": "stream",
     "text": [
      "(ClientAppActor pid=19036) [Client] Client on device: cuda:0\n",
      "(ClientAppActor pid=19036) [Client] CUDA available in client: True\n",
      "(ClientAppActor pid=19036) PrecomputingClient initialized.\n"
     ]
    },
    {
     "name": "stderr",
     "output_type": "stream",
     "text": [
      "Eval progress: 100%|██████████| 1/1 [00:00<00:00,  3.95batch/s]\n",
      "(ClientAppActor pid=19036) WARNING :   Deprecation Warning: The `client_fn` function must return an instance of `Client`, but an instance of `NumpyClient` was returned. Please use `NumPyClient.to_client()` method to convert it to `Client`.\n"
     ]
    },
    {
     "name": "stdout",
     "output_type": "stream",
     "text": [
      "(ClientAppActor pid=19036) [Client] Client on device: cuda:0\n",
      "(ClientAppActor pid=19036) [Client] CUDA available in client: True\n",
      "(ClientAppActor pid=19036) PrecomputingClient initialized.\n"
     ]
    },
    {
     "name": "stderr",
     "output_type": "stream",
     "text": [
      "Eval progress:   0%|          | 0/1 [00:00<?, ?batch/s]\n",
      "Eval progress: 100%|██████████| 1/1 [00:00<00:00,  3.95batch/s]\n",
      "(ClientAppActor pid=19036) WARNING :   Deprecation Warning: The `client_fn` function must return an instance of `Client`, but an instance of `NumpyClient` was returned. Please use `NumPyClient.to_client()` method to convert it to `Client`.\n",
      "Eval progress:   0%|          | 0/1 [00:00<?, ?batch/s]\n"
     ]
    },
    {
     "name": "stdout",
     "output_type": "stream",
     "text": [
      "(ClientAppActor pid=19036) [Client] Client on device: cuda:0\n",
      "(ClientAppActor pid=19036) [Client] CUDA available in client: True\n",
      "(ClientAppActor pid=19036) PrecomputingClient initialized.\n"
     ]
    },
    {
     "name": "stderr",
     "output_type": "stream",
     "text": [
      "Eval progress: 100%|██████████| 1/1 [00:00<00:00,  3.92batch/s]\n"
     ]
    },
    {
     "name": "stdout",
     "output_type": "stream",
     "text": [
      "(ClientAppActor pid=19036) [Client] Client on device: cuda:0\n",
      "(ClientAppActor pid=19036) [Client] CUDA available in client: True\n"
     ]
    },
    {
     "name": "stderr",
     "output_type": "stream",
     "text": [
      "(ClientAppActor pid=19036) WARNING :   Deprecation Warning: The `client_fn` function must return an instance of `Client`, but an instance of `NumpyClient` was returned. Please use `NumPyClient.to_client()` method to convert it to `Client`.\n",
      "Eval progress:   0%|          | 0/1 [00:00<?, ?batch/s]\n"
     ]
    },
    {
     "name": "stdout",
     "output_type": "stream",
     "text": [
      "(ClientAppActor pid=19036) PrecomputingClient initialized.\n"
     ]
    },
    {
     "name": "stderr",
     "output_type": "stream",
     "text": [
      "Eval progress: 100%|██████████| 1/1 [00:00<00:00,  3.92batch/s]\n",
      "(ClientAppActor pid=19036) WARNING :   Deprecation Warning: The `client_fn` function must return an instance of `Client`, but an instance of `NumpyClient` was returned. Please use `NumPyClient.to_client()` method to convert it to `Client`.\n",
      "Eval progress:   0%|          | 0/1 [00:00<?, ?batch/s]\n"
     ]
    },
    {
     "name": "stdout",
     "output_type": "stream",
     "text": [
      "(ClientAppActor pid=19036) [Client] Client on device: cuda:0\n",
      "(ClientAppActor pid=19036) [Client] CUDA available in client: True\n",
      "(ClientAppActor pid=19036) PrecomputingClient initialized.\n"
     ]
    },
    {
     "name": "stderr",
     "output_type": "stream",
     "text": [
      "Eval progress: 100%|██████████| 1/1 [00:00<00:00,  3.92batch/s]\n",
      "(ClientAppActor pid=19036) WARNING :   Deprecation Warning: The `client_fn` function must return an instance of `Client`, but an instance of `NumpyClient` was returned. Please use `NumPyClient.to_client()` method to convert it to `Client`.\n",
      "Eval progress:   0%|          | 0/1 [00:00<?, ?batch/s]\n"
     ]
    },
    {
     "name": "stdout",
     "output_type": "stream",
     "text": [
      "(ClientAppActor pid=19036) [Client] Client on device: cuda:0\n",
      "(ClientAppActor pid=19036) [Client] CUDA available in client: True\n",
      "(ClientAppActor pid=19036) PrecomputingClient initialized.\n"
     ]
    },
    {
     "name": "stderr",
     "output_type": "stream",
     "text": [
      "\u001b[92mINFO \u001b[0m:      aggregate_evaluate: received 10 results and 0 failures\n",
      "\u001b[92mINFO \u001b[0m:      \n",
      "\u001b[92mINFO \u001b[0m:      [ROUND 20]\n",
      "\u001b[92mINFO \u001b[0m:      [Round 20] Quorum updated to: 96\n",
      "Eval progress: 100%|██████████| 1/1 [00:00<00:00,  2.41batch/s]\n",
      "\u001b[92mINFO \u001b[0m:      [Round 20] Generated initial global mask with quorum 96. Sparsity: 0.9238\n",
      "\u001b[92mINFO \u001b[0m:      configure_fit: strategy sampled 10 clients (out of 100)\n",
      "(ClientAppActor pid=19036) WARNING :   Deprecation Warning: The `client_fn` function must return an instance of `Client`, but an instance of `NumpyClient` was returned. Please use `NumPyClient.to_client()` method to convert it to `Client`.\n"
     ]
    },
    {
     "name": "stdout",
     "output_type": "stream",
     "text": [
      "(ClientAppActor pid=19036) [Client] Client on device: cuda:0\n",
      "(ClientAppActor pid=19036) [Client] CUDA available in client: True\n",
      "(ClientAppActor pid=19036) PrecomputingClient initialized.\n",
      "(ClientAppActor pid=19036) No prefix/name for the model was provided, choosen prefix/name: bubbly_ivysaur_39\n",
      "(ClientAppActor pid=19036) \n",
      "(ClientAppActor pid=19036) Step 1/8 | Total batches: 4\n",
      "(ClientAppActor pid=19036) Step 2/8 | Total batches: 4\n",
      "(ClientAppActor pid=19036) Step 3/8 | Total batches: 4\n",
      "(ClientAppActor pid=19036) Step 4/8 | Total batches: 4\n",
      "(ClientAppActor pid=19036) Step 5/8 | Total batches: 4\n",
      "(ClientAppActor pid=19036) Step 6/8 | Total batches: 4\n",
      "(ClientAppActor pid=19036) Step 7/8 | Total batches: 4\n",
      "(ClientAppActor pid=19036) Step 8/8 | Total batches: 4\n",
      "(ClientAppActor pid=19036) 🚀 Epoch 1/1 (100.00%) Completed\n",
      "(ClientAppActor pid=19036) \t📊 Training Loss: 0.3402\n",
      "(ClientAppActor pid=19036) \t✅ Training Accuracy: 94.38%\n",
      "(ClientAppActor pid=19036) \t⏳ Elapsed Time: 3.36s | ETA: 0.00s\n",
      "(ClientAppActor pid=19036) \t🕒 Completed At: 19:16\n",
      "(ClientAppActor pid=19036) \n",
      "(ClientAppActor pid=19036) [Client] Client on device: cuda:0\n",
      "(ClientAppActor pid=19036) [Client] CUDA available in client: True\n"
     ]
    },
    {
     "name": "stderr",
     "output_type": "stream",
     "text": [
      "(ClientAppActor pid=19036) WARNING :   Deprecation Warning: The `client_fn` function must return an instance of `Client`, but an instance of `NumpyClient` was returned. Please use `NumPyClient.to_client()` method to convert it to `Client`.\n"
     ]
    },
    {
     "name": "stdout",
     "output_type": "stream",
     "text": [
      "(ClientAppActor pid=19036) PrecomputingClient initialized.\n",
      "(ClientAppActor pid=19036) No prefix/name for the model was provided, choosen prefix/name: nutty_pikachu_48\n",
      "(ClientAppActor pid=19036) \n",
      "(ClientAppActor pid=19036) Step 1/8 | Total batches: 4\n",
      "(ClientAppActor pid=19036) Step 2/8 | Total batches: 4\n",
      "(ClientAppActor pid=19036) Step 3/8 | Total batches: 4\n",
      "(ClientAppActor pid=19036) Step 4/8 | Total batches: 4\n",
      "(ClientAppActor pid=19036) Step 5/8 | Total batches: 4\n",
      "(ClientAppActor pid=19036) Step 6/8 | Total batches: 4\n",
      "(ClientAppActor pid=19036) Step 7/8 | Total batches: 4\n",
      "(ClientAppActor pid=19036) Step 8/8 | Total batches: 4\n",
      "(ClientAppActor pid=19036) 🚀 Epoch 1/1 (100.00%) Completed\n",
      "(ClientAppActor pid=19036) \t📊 Training Loss: 0.8837\n",
      "(ClientAppActor pid=19036) \t✅ Training Accuracy: 74.50%\n",
      "(ClientAppActor pid=19036) \t⏳ Elapsed Time: 3.35s | ETA: 0.00s\n",
      "(ClientAppActor pid=19036) \t🕒 Completed At: 19:16\n",
      "(ClientAppActor pid=19036) \n"
     ]
    },
    {
     "name": "stderr",
     "output_type": "stream",
     "text": [
      "(ClientAppActor pid=19036) WARNING :   Deprecation Warning: The `client_fn` function must return an instance of `Client`, but an instance of `NumpyClient` was returned. Please use `NumPyClient.to_client()` method to convert it to `Client`.\n"
     ]
    },
    {
     "name": "stdout",
     "output_type": "stream",
     "text": [
      "(ClientAppActor pid=19036) [Client] Client on device: cuda:0\n",
      "(ClientAppActor pid=19036) [Client] CUDA available in client: True\n",
      "(ClientAppActor pid=19036) PrecomputingClient initialized.\n",
      "(ClientAppActor pid=19036) No prefix/name for the model was provided, choosen prefix/name: jolly_spearow_29\n",
      "(ClientAppActor pid=19036) \n",
      "(ClientAppActor pid=19036) Step 1/8 | Total batches: 4\n",
      "(ClientAppActor pid=19036) Step 2/8 | Total batches: 4\n",
      "(ClientAppActor pid=19036) Step 3/8 | Total batches: 4\n",
      "(ClientAppActor pid=19036) Step 4/8 | Total batches: 4\n",
      "(ClientAppActor pid=19036) Step 5/8 | Total batches: 4\n",
      "(ClientAppActor pid=19036) Step 6/8 | Total batches: 4\n",
      "(ClientAppActor pid=19036) Step 7/8 | Total batches: 4\n",
      "(ClientAppActor pid=19036) Step 8/8 | Total batches: 4\n",
      "(ClientAppActor pid=19036) 🚀 Epoch 1/1 (100.00%) Completed\n",
      "(ClientAppActor pid=19036) \t📊 Training Loss: 0.6761\n",
      "(ClientAppActor pid=19036) \t✅ Training Accuracy: 80.50%\n",
      "(ClientAppActor pid=19036) \t⏳ Elapsed Time: 3.36s | ETA: 0.00s\n",
      "(ClientAppActor pid=19036) \t🕒 Completed At: 19:16\n",
      "(ClientAppActor pid=19036) \n"
     ]
    },
    {
     "name": "stderr",
     "output_type": "stream",
     "text": [
      "(ClientAppActor pid=19036) WARNING :   Deprecation Warning: The `client_fn` function must return an instance of `Client`, but an instance of `NumpyClient` was returned. Please use `NumPyClient.to_client()` method to convert it to `Client`.\n"
     ]
    },
    {
     "name": "stdout",
     "output_type": "stream",
     "text": [
      "(ClientAppActor pid=19036) [Client] Client on device: cuda:0\n",
      "(ClientAppActor pid=19036) [Client] CUDA available in client: True\n",
      "(ClientAppActor pid=19036) PrecomputingClient initialized.\n",
      "(ClientAppActor pid=19036) No prefix/name for the model was provided, choosen prefix/name: perky_bulbasaur_66\n",
      "(ClientAppActor pid=19036) \n",
      "(ClientAppActor pid=19036) Step 1/8 | Total batches: 4\n",
      "(ClientAppActor pid=19036) Step 2/8 | Total batches: 4\n",
      "(ClientAppActor pid=19036) Step 3/8 | Total batches: 4\n",
      "(ClientAppActor pid=19036) Step 4/8 | Total batches: 4\n",
      "(ClientAppActor pid=19036) Step 5/8 | Total batches: 4\n",
      "(ClientAppActor pid=19036) Step 6/8 | Total batches: 4\n",
      "(ClientAppActor pid=19036) Step 7/8 | Total batches: 4\n",
      "(ClientAppActor pid=19036) Step 8/8 | Total batches: 4\n",
      "(ClientAppActor pid=19036) 🚀 Epoch 1/1 (100.00%) Completed\n",
      "(ClientAppActor pid=19036) \t📊 Training Loss: 0.7888\n",
      "(ClientAppActor pid=19036) \t✅ Training Accuracy: 82.12%\n",
      "(ClientAppActor pid=19036) \t⏳ Elapsed Time: 3.38s | ETA: 0.00s\n",
      "(ClientAppActor pid=19036) \t🕒 Completed At: 19:16\n",
      "(ClientAppActor pid=19036) \n"
     ]
    },
    {
     "name": "stderr",
     "output_type": "stream",
     "text": [
      "(ClientAppActor pid=19036) WARNING :   Deprecation Warning: The `client_fn` function must return an instance of `Client`, but an instance of `NumpyClient` was returned. Please use `NumPyClient.to_client()` method to convert it to `Client`.\n"
     ]
    },
    {
     "name": "stdout",
     "output_type": "stream",
     "text": [
      "(ClientAppActor pid=19036) [Client] Client on device: cuda:0\n",
      "(ClientAppActor pid=19036) [Client] CUDA available in client: True\n",
      "(ClientAppActor pid=19036) PrecomputingClient initialized.\n",
      "(ClientAppActor pid=19036) No prefix/name for the model was provided, choosen prefix/name: sassy_nidorino_58\n",
      "(ClientAppActor pid=19036) \n",
      "(ClientAppActor pid=19036) Step 1/8 | Total batches: 4\n",
      "(ClientAppActor pid=19036) Step 2/8 | Total batches: 4\n",
      "(ClientAppActor pid=19036) Step 3/8 | Total batches: 4\n",
      "(ClientAppActor pid=19036) Step 4/8 | Total batches: 4\n",
      "(ClientAppActor pid=19036) Step 5/8 | Total batches: 4\n",
      "(ClientAppActor pid=19036) Step 6/8 | Total batches: 4\n",
      "(ClientAppActor pid=19036) Step 7/8 | Total batches: 4\n",
      "(ClientAppActor pid=19036) Step 8/8 | Total batches: 4\n",
      "(ClientAppActor pid=19036) 🚀 Epoch 1/1 (100.00%) Completed\n",
      "(ClientAppActor pid=19036) \t📊 Training Loss: 0.5629\n",
      "(ClientAppActor pid=19036) \t✅ Training Accuracy: 89.75%\n",
      "(ClientAppActor pid=19036) \t⏳ Elapsed Time: 3.38s | ETA: 0.00s\n",
      "(ClientAppActor pid=19036) \t🕒 Completed At: 19:16\n",
      "(ClientAppActor pid=19036) \n"
     ]
    },
    {
     "name": "stderr",
     "output_type": "stream",
     "text": [
      "(ClientAppActor pid=19036) WARNING :   Deprecation Warning: The `client_fn` function must return an instance of `Client`, but an instance of `NumpyClient` was returned. Please use `NumPyClient.to_client()` method to convert it to `Client`.\n"
     ]
    },
    {
     "name": "stdout",
     "output_type": "stream",
     "text": [
      "(ClientAppActor pid=19036) [Client] Client on device: cuda:0\n",
      "(ClientAppActor pid=19036) [Client] CUDA available in client: True\n",
      "(ClientAppActor pid=19036) PrecomputingClient initialized.\n",
      "(ClientAppActor pid=19036) No prefix/name for the model was provided, choosen prefix/name: jolly_nidorino_31\n",
      "(ClientAppActor pid=19036) \n",
      "(ClientAppActor pid=19036) Step 1/8 | Total batches: 4\n",
      "(ClientAppActor pid=19036) Step 2/8 | Total batches: 4\n",
      "(ClientAppActor pid=19036) Step 3/8 | Total batches: 4\n",
      "(ClientAppActor pid=19036) Step 4/8 | Total batches: 4\n",
      "(ClientAppActor pid=19036) Step 5/8 | Total batches: 4\n",
      "(ClientAppActor pid=19036) Step 6/8 | Total batches: 4\n",
      "(ClientAppActor pid=19036) Step 7/8 | Total batches: 4\n",
      "(ClientAppActor pid=19036) Step 8/8 | Total batches: 4\n",
      "(ClientAppActor pid=19036) 🚀 Epoch 1/1 (100.00%) Completed\n",
      "(ClientAppActor pid=19036) \t📊 Training Loss: 1.2966\n",
      "(ClientAppActor pid=19036) \t✅ Training Accuracy: 65.50%\n",
      "(ClientAppActor pid=19036) \t⏳ Elapsed Time: 3.38s | ETA: 0.00s\n",
      "(ClientAppActor pid=19036) \t🕒 Completed At: 19:16\n",
      "(ClientAppActor pid=19036) \n"
     ]
    },
    {
     "name": "stderr",
     "output_type": "stream",
     "text": [
      "(ClientAppActor pid=19036) WARNING :   Deprecation Warning: The `client_fn` function must return an instance of `Client`, but an instance of `NumpyClient` was returned. Please use `NumPyClient.to_client()` method to convert it to `Client`.\n"
     ]
    },
    {
     "name": "stdout",
     "output_type": "stream",
     "text": [
      "(ClientAppActor pid=19036) [Client] Client on device: cuda:0\n",
      "(ClientAppActor pid=19036) [Client] CUDA available in client: True\n",
      "(ClientAppActor pid=19036) PrecomputingClient initialized.\n",
      "(ClientAppActor pid=19036) No prefix/name for the model was provided, choosen prefix/name: spooky_nidoran_35\n",
      "(ClientAppActor pid=19036) \n",
      "(ClientAppActor pid=19036) Step 1/8 | Total batches: 4\n",
      "(ClientAppActor pid=19036) Step 2/8 | Total batches: 4\n",
      "(ClientAppActor pid=19036) Step 3/8 | Total batches: 4\n",
      "(ClientAppActor pid=19036) Step 4/8 | Total batches: 4\n",
      "(ClientAppActor pid=19036) Step 5/8 | Total batches: 4\n",
      "(ClientAppActor pid=19036) Step 6/8 | Total batches: 4\n",
      "(ClientAppActor pid=19036) Step 7/8 | Total batches: 4\n",
      "(ClientAppActor pid=19036) Step 8/8 | Total batches: 4\n",
      "(ClientAppActor pid=19036) 🚀 Epoch 1/1 (100.00%) Completed\n",
      "(ClientAppActor pid=19036) \t📊 Training Loss: 1.7208\n",
      "(ClientAppActor pid=19036) \t✅ Training Accuracy: 52.88%\n",
      "(ClientAppActor pid=19036) \t⏳ Elapsed Time: 3.38s | ETA: 0.00s\n",
      "(ClientAppActor pid=19036) \t🕒 Completed At: 19:17\n",
      "(ClientAppActor pid=19036) \n"
     ]
    },
    {
     "name": "stderr",
     "output_type": "stream",
     "text": [
      "(ClientAppActor pid=19036) WARNING :   Deprecation Warning: The `client_fn` function must return an instance of `Client`, but an instance of `NumpyClient` was returned. Please use `NumPyClient.to_client()` method to convert it to `Client`.\n"
     ]
    },
    {
     "name": "stdout",
     "output_type": "stream",
     "text": [
      "(ClientAppActor pid=19036) [Client] Client on device: cuda:0\n",
      "(ClientAppActor pid=19036) [Client] CUDA available in client: True\n",
      "(ClientAppActor pid=19036) PrecomputingClient initialized.\n",
      "(ClientAppActor pid=19036) No prefix/name for the model was provided, choosen prefix/name: quirky_pidgeotto_27\n",
      "(ClientAppActor pid=19036) \n",
      "(ClientAppActor pid=19036) Step 1/8 | Total batches: 4\n",
      "(ClientAppActor pid=19036) Step 2/8 | Total batches: 4\n",
      "(ClientAppActor pid=19036) Step 3/8 | Total batches: 4\n",
      "(ClientAppActor pid=19036) Step 4/8 | Total batches: 4\n",
      "(ClientAppActor pid=19036) Step 5/8 | Total batches: 4\n",
      "(ClientAppActor pid=19036) Step 6/8 | Total batches: 4\n",
      "(ClientAppActor pid=19036) Step 7/8 | Total batches: 4\n",
      "(ClientAppActor pid=19036) Step 8/8 | Total batches: 4\n",
      "(ClientAppActor pid=19036) 🚀 Epoch 1/1 (100.00%) Completed\n",
      "(ClientAppActor pid=19036) \t📊 Training Loss: 1.0933\n",
      "(ClientAppActor pid=19036) \t✅ Training Accuracy: 69.88%\n",
      "(ClientAppActor pid=19036) \t⏳ Elapsed Time: 3.38s | ETA: 0.00s\n",
      "(ClientAppActor pid=19036) \t🕒 Completed At: 19:17\n",
      "(ClientAppActor pid=19036) \n"
     ]
    },
    {
     "name": "stderr",
     "output_type": "stream",
     "text": [
      "(ClientAppActor pid=19036) WARNING :   Deprecation Warning: The `client_fn` function must return an instance of `Client`, but an instance of `NumpyClient` was returned. Please use `NumPyClient.to_client()` method to convert it to `Client`.\n"
     ]
    },
    {
     "name": "stdout",
     "output_type": "stream",
     "text": [
      "(ClientAppActor pid=19036) [Client] Client on device: cuda:0\n",
      "(ClientAppActor pid=19036) [Client] CUDA available in client: True\n",
      "(ClientAppActor pid=19036) PrecomputingClient initialized.\n",
      "(ClientAppActor pid=19036) No prefix/name for the model was provided, choosen prefix/name: zany_nidoran_43\n",
      "(ClientAppActor pid=19036) \n",
      "(ClientAppActor pid=19036) Step 1/8 | Total batches: 4\n",
      "(ClientAppActor pid=19036) Step 2/8 | Total batches: 4\n",
      "(ClientAppActor pid=19036) Step 3/8 | Total batches: 4\n",
      "(ClientAppActor pid=19036) Step 4/8 | Total batches: 4\n",
      "(ClientAppActor pid=19036) Step 5/8 | Total batches: 4\n",
      "(ClientAppActor pid=19036) Step 6/8 | Total batches: 4\n",
      "(ClientAppActor pid=19036) Step 7/8 | Total batches: 4\n",
      "(ClientAppActor pid=19036) Step 8/8 | Total batches: 4\n",
      "(ClientAppActor pid=19036) 🚀 Epoch 1/1 (100.00%) Completed\n",
      "(ClientAppActor pid=19036) \t📊 Training Loss: 0.8698\n",
      "(ClientAppActor pid=19036) \t✅ Training Accuracy: 74.88%\n",
      "(ClientAppActor pid=19036) \t⏳ Elapsed Time: 3.37s | ETA: 0.00s\n",
      "(ClientAppActor pid=19036) \t🕒 Completed At: 19:17\n",
      "(ClientAppActor pid=19036) \n"
     ]
    },
    {
     "name": "stderr",
     "output_type": "stream",
     "text": [
      "(ClientAppActor pid=19036) WARNING :   Deprecation Warning: The `client_fn` function must return an instance of `Client`, but an instance of `NumpyClient` was returned. Please use `NumPyClient.to_client()` method to convert it to `Client`.\n"
     ]
    },
    {
     "name": "stdout",
     "output_type": "stream",
     "text": [
      "(ClientAppActor pid=19036) [Client] Client on device: cuda:0\n",
      "(ClientAppActor pid=19036) [Client] CUDA available in client: True\n",
      "(ClientAppActor pid=19036) PrecomputingClient initialized.\n",
      "(ClientAppActor pid=19036) No prefix/name for the model was provided, choosen prefix/name: chirpy_pikachu_52\n",
      "(ClientAppActor pid=19036) \n",
      "(ClientAppActor pid=19036) Step 1/8 | Total batches: 4\n",
      "(ClientAppActor pid=19036) Step 2/8 | Total batches: 4\n",
      "(ClientAppActor pid=19036) Step 3/8 | Total batches: 4\n",
      "(ClientAppActor pid=19036) Step 4/8 | Total batches: 4\n",
      "(ClientAppActor pid=19036) Step 5/8 | Total batches: 4\n",
      "(ClientAppActor pid=19036) Step 6/8 | Total batches: 4\n",
      "(ClientAppActor pid=19036) Step 7/8 | Total batches: 4\n",
      "(ClientAppActor pid=19036) Step 8/8 | Total batches: 4\n",
      "(ClientAppActor pid=19036) 🚀 Epoch 1/1 (100.00%) Completed\n",
      "(ClientAppActor pid=19036) \t📊 Training Loss: 0.9168\n",
      "(ClientAppActor pid=19036) \t✅ Training Accuracy: 70.12%\n",
      "(ClientAppActor pid=19036) \t⏳ Elapsed Time: 3.36s | ETA: 0.00s\n",
      "(ClientAppActor pid=19036) \t🕒 Completed At: 19:17\n",
      "(ClientAppActor pid=19036) \n"
     ]
    },
    {
     "name": "stderr",
     "output_type": "stream",
     "text": [
      "\u001b[92mINFO \u001b[0m:      aggregate_fit: received 10 results and 0 failures\n",
      "\u001b[92mINFO \u001b[0m:      [Round 20] Avg Drift: 0.0005 | Relative Drift: 0.0000\n",
      "\u001b[92mINFO \u001b[0m:      [Round 20] Saving aggregated model at epoch 220...\n"
     ]
    },
    {
     "name": "stdout",
     "output_type": "stream",
     "text": [
      "💾 Saved checkpoint at: /Users/ciovi/Desktop/coding/mldl/fl-g13/checkpoints/fl_dino_v4/non_iid/1_8_dynamic-quorum\\fl_Test_Dynamic_Quorum_v2_BaseDino_epoch_220.pth\n",
      "[Server Eval Round 20] Model device: cuda:0\n",
      "[Server Eval Round 20] CUDA available in server eval: True\n"
     ]
    },
    {
     "name": "stderr",
     "output_type": "stream",
     "text": [
      "Eval progress: 100%|██████████| 313/313 [00:22<00:00, 14.09batch/s]\n",
      "\u001b[92mINFO \u001b[0m:      [Round 20] Centralized Evaluation - Loss: 1.9851, Metrics: {'centralized_accuracy': 0.4745}\n",
      "\u001b[92mINFO \u001b[0m:      fit progress: (20, 1.9850933963117507, {'centralized_accuracy': 0.4745}, 1609.4877017)\n",
      "\u001b[92mINFO \u001b[0m:      configure_evaluate: strategy sampled 10 clients (out of 100)\n"
     ]
    },
    {
     "name": "stdout",
     "output_type": "stream",
     "text": [
      "(ClientAppActor pid=19036) [Client] Client on device: cuda:0\n",
      "(ClientAppActor pid=19036) [Client] CUDA available in client: True\n"
     ]
    },
    {
     "name": "stderr",
     "output_type": "stream",
     "text": [
      "(ClientAppActor pid=19036) WARNING :   Deprecation Warning: The `client_fn` function must return an instance of `Client`, but an instance of `NumpyClient` was returned. Please use `NumPyClient.to_client()` method to convert it to `Client`.\n",
      "Eval progress:   0%|          | 0/1 [00:00<?, ?batch/s]\n"
     ]
    },
    {
     "name": "stdout",
     "output_type": "stream",
     "text": [
      "(ClientAppActor pid=19036) PrecomputingClient initialized.\n"
     ]
    },
    {
     "name": "stderr",
     "output_type": "stream",
     "text": [
      "Eval progress: 100%|██████████| 1/1 [00:00<00:00,  3.90batch/s]\n",
      "(ClientAppActor pid=19036) WARNING :   Deprecation Warning: The `client_fn` function must return an instance of `Client`, but an instance of `NumpyClient` was returned. Please use `NumPyClient.to_client()` method to convert it to `Client`.\n"
     ]
    },
    {
     "name": "stdout",
     "output_type": "stream",
     "text": [
      "(ClientAppActor pid=19036) [Client] Client on device: cuda:0\n",
      "(ClientAppActor pid=19036) [Client] CUDA available in client: True\n",
      "(ClientAppActor pid=19036) PrecomputingClient initialized.\n"
     ]
    },
    {
     "name": "stderr",
     "output_type": "stream",
     "text": [
      "Eval progress:   0%|          | 0/1 [00:00<?, ?batch/s]\n",
      "Eval progress: 100%|██████████| 1/1 [00:00<00:00,  3.94batch/s]\n",
      "(ClientAppActor pid=19036) WARNING :   Deprecation Warning: The `client_fn` function must return an instance of `Client`, but an instance of `NumpyClient` was returned. Please use `NumPyClient.to_client()` method to convert it to `Client`.\n",
      "Eval progress:   0%|          | 0/1 [00:00<?, ?batch/s]\n"
     ]
    },
    {
     "name": "stdout",
     "output_type": "stream",
     "text": [
      "(ClientAppActor pid=19036) [Client] Client on device: cuda:0\n",
      "(ClientAppActor pid=19036) [Client] CUDA available in client: True\n",
      "(ClientAppActor pid=19036) PrecomputingClient initialized.\n"
     ]
    },
    {
     "name": "stderr",
     "output_type": "stream",
     "text": [
      "Eval progress: 100%|██████████| 1/1 [00:00<00:00,  3.86batch/s]\n",
      "(ClientAppActor pid=19036) WARNING :   Deprecation Warning: The `client_fn` function must return an instance of `Client`, but an instance of `NumpyClient` was returned. Please use `NumPyClient.to_client()` method to convert it to `Client`.\n",
      "Eval progress:   0%|          | 0/1 [00:00<?, ?batch/s]\n"
     ]
    },
    {
     "name": "stdout",
     "output_type": "stream",
     "text": [
      "(ClientAppActor pid=19036) [Client] Client on device: cuda:0\n",
      "(ClientAppActor pid=19036) [Client] CUDA available in client: True\n",
      "(ClientAppActor pid=19036) PrecomputingClient initialized.\n"
     ]
    },
    {
     "name": "stderr",
     "output_type": "stream",
     "text": [
      "Eval progress: 100%|██████████| 1/1 [00:00<00:00,  3.91batch/s]\n"
     ]
    },
    {
     "name": "stdout",
     "output_type": "stream",
     "text": [
      "(ClientAppActor pid=19036) [Client] Client on device: cuda:0\n",
      "(ClientAppActor pid=19036) [Client] CUDA available in client: True\n"
     ]
    },
    {
     "name": "stderr",
     "output_type": "stream",
     "text": [
      "(ClientAppActor pid=19036) WARNING :   Deprecation Warning: The `client_fn` function must return an instance of `Client`, but an instance of `NumpyClient` was returned. Please use `NumPyClient.to_client()` method to convert it to `Client`.\n",
      "Eval progress:   0%|          | 0/1 [00:00<?, ?batch/s]\n"
     ]
    },
    {
     "name": "stdout",
     "output_type": "stream",
     "text": [
      "(ClientAppActor pid=19036) PrecomputingClient initialized.\n"
     ]
    },
    {
     "name": "stderr",
     "output_type": "stream",
     "text": [
      "Eval progress: 100%|██████████| 1/1 [00:00<00:00,  3.96batch/s]\n",
      "(ClientAppActor pid=19036) WARNING :   Deprecation Warning: The `client_fn` function must return an instance of `Client`, but an instance of `NumpyClient` was returned. Please use `NumPyClient.to_client()` method to convert it to `Client`.\n"
     ]
    },
    {
     "name": "stdout",
     "output_type": "stream",
     "text": [
      "(ClientAppActor pid=19036) [Client] Client on device: cuda:0\n",
      "(ClientAppActor pid=19036) [Client] CUDA available in client: True\n",
      "(ClientAppActor pid=19036) PrecomputingClient initialized.\n"
     ]
    },
    {
     "name": "stderr",
     "output_type": "stream",
     "text": [
      "Eval progress:   0%|          | 0/1 [00:00<?, ?batch/s]\n",
      "Eval progress: 100%|██████████| 1/1 [00:00<00:00,  3.94batch/s]\n",
      "(ClientAppActor pid=19036) WARNING :   Deprecation Warning: The `client_fn` function must return an instance of `Client`, but an instance of `NumpyClient` was returned. Please use `NumPyClient.to_client()` method to convert it to `Client`.\n"
     ]
    },
    {
     "name": "stdout",
     "output_type": "stream",
     "text": [
      "(ClientAppActor pid=19036) [Client] Client on device: cuda:0\n",
      "(ClientAppActor pid=19036) [Client] CUDA available in client: True\n",
      "(ClientAppActor pid=19036) PrecomputingClient initialized.\n"
     ]
    },
    {
     "name": "stderr",
     "output_type": "stream",
     "text": [
      "Eval progress:   0%|          | 0/1 [00:00<?, ?batch/s]\n",
      "Eval progress: 100%|██████████| 1/1 [00:00<00:00,  3.92batch/s]\n",
      "(ClientAppActor pid=19036) WARNING :   Deprecation Warning: The `client_fn` function must return an instance of `Client`, but an instance of `NumpyClient` was returned. Please use `NumPyClient.to_client()` method to convert it to `Client`.\n",
      "Eval progress:   0%|          | 0/1 [00:00<?, ?batch/s]\n"
     ]
    },
    {
     "name": "stdout",
     "output_type": "stream",
     "text": [
      "(ClientAppActor pid=19036) [Client] Client on device: cuda:0\n",
      "(ClientAppActor pid=19036) [Client] CUDA available in client: True\n",
      "(ClientAppActor pid=19036) PrecomputingClient initialized.\n"
     ]
    },
    {
     "name": "stderr",
     "output_type": "stream",
     "text": [
      "Eval progress: 100%|██████████| 1/1 [00:00<00:00,  3.66batch/s]\n"
     ]
    },
    {
     "name": "stdout",
     "output_type": "stream",
     "text": [
      "(ClientAppActor pid=19036) [Client] Client on device: cuda:0\n",
      "(ClientAppActor pid=19036) [Client] CUDA available in client: True\n"
     ]
    },
    {
     "name": "stderr",
     "output_type": "stream",
     "text": [
      "(ClientAppActor pid=19036) WARNING :   Deprecation Warning: The `client_fn` function must return an instance of `Client`, but an instance of `NumpyClient` was returned. Please use `NumPyClient.to_client()` method to convert it to `Client`.\n"
     ]
    },
    {
     "name": "stdout",
     "output_type": "stream",
     "text": [
      "(ClientAppActor pid=19036) PrecomputingClient initialized.\n"
     ]
    },
    {
     "name": "stderr",
     "output_type": "stream",
     "text": [
      "Eval progress:   0%|          | 0/1 [00:00<?, ?batch/s]\n",
      "Eval progress: 100%|██████████| 1/1 [00:00<00:00,  3.91batch/s]\n",
      "(ClientAppActor pid=19036) WARNING :   Deprecation Warning: The `client_fn` function must return an instance of `Client`, but an instance of `NumpyClient` was returned. Please use `NumPyClient.to_client()` method to convert it to `Client`.\n",
      "Eval progress:   0%|          | 0/1 [00:00<?, ?batch/s]\n"
     ]
    },
    {
     "name": "stdout",
     "output_type": "stream",
     "text": [
      "(ClientAppActor pid=19036) [Client] Client on device: cuda:0\n",
      "(ClientAppActor pid=19036) [Client] CUDA available in client: True\n",
      "(ClientAppActor pid=19036) PrecomputingClient initialized.\n"
     ]
    },
    {
     "name": "stderr",
     "output_type": "stream",
     "text": [
      "\u001b[92mINFO \u001b[0m:      aggregate_evaluate: received 10 results and 0 failures\n",
      "\u001b[92mINFO \u001b[0m:      \n",
      "\u001b[92mINFO \u001b[0m:      [SUMMARY]\n",
      "\u001b[92mINFO \u001b[0m:      Run finished 20 round(s) in 1618.08s\n",
      "\u001b[92mINFO \u001b[0m:      \tHistory (loss, distributed):\n",
      "\u001b[92mINFO \u001b[0m:      \t\tround 1: 3.366121459007263\n",
      "\u001b[92mINFO \u001b[0m:      \t\tround 2: 3.6988088607788088\n",
      "\u001b[92mINFO \u001b[0m:      \t\tround 3: 4.096607732772827\n",
      "\u001b[92mINFO \u001b[0m:      \t\tround 4: 4.254682511091232\n",
      "\u001b[92mINFO \u001b[0m:      \t\tround 5: 4.896369433403015\n",
      "\u001b[92mINFO \u001b[0m:      \t\tround 6: 3.885813891887665\n",
      "\u001b[92mINFO \u001b[0m:      \t\tround 7: 2.9489540100097655\n",
      "\u001b[92mINFO \u001b[0m:      \t\tround 8: 2.99192613363266\n",
      "\u001b[92mINFO \u001b[0m:      \t\tround 9: 2.590633374452591\n",
      "\u001b[92mINFO \u001b[0m:      \t\tround 10: 2.04453866481781\n",
      "\u001b[92mINFO \u001b[0m:      \t\tround 11: 2.113264536857605\n",
      "\u001b[92mINFO \u001b[0m:      \t\tround 12: 2.3594861388206483\n",
      "\u001b[92mINFO \u001b[0m:      \t\tround 13: 2.2964227199554443\n",
      "\u001b[92mINFO \u001b[0m:      \t\tround 14: 2.024335092306137\n",
      "\u001b[92mINFO \u001b[0m:      \t\tround 15: 3.0452059149742126\n",
      "\u001b[92mINFO \u001b[0m:      \t\tround 16: 2.6706896901130674\n",
      "\u001b[92mINFO \u001b[0m:      \t\tround 17: 1.82210773229599\n",
      "\u001b[92mINFO \u001b[0m:      \t\tround 18: 1.9585657954216003\n",
      "\u001b[92mINFO \u001b[0m:      \t\tround 19: 1.6032645106315613\n",
      "\u001b[92mINFO \u001b[0m:      \t\tround 20: 1.7081619381904602\n",
      "\u001b[92mINFO \u001b[0m:      \tHistory (loss, centralized):\n",
      "\u001b[92mINFO \u001b[0m:      \t\tround 0: 2.405825910476831\n",
      "\u001b[92mINFO \u001b[0m:      \t\tround 1: 3.2184489565535475\n",
      "\u001b[92mINFO \u001b[0m:      \t\tround 2: 3.311163203784833\n",
      "\u001b[92mINFO \u001b[0m:      \t\tround 3: 3.8306174895253045\n",
      "\u001b[92mINFO \u001b[0m:      \t\tround 4: 4.554081365323295\n",
      "\u001b[92mINFO \u001b[0m:      \t\tround 5: 4.307137459611741\n",
      "\u001b[92mINFO \u001b[0m:      \t\tround 6: 3.6713842347787975\n",
      "\u001b[92mINFO \u001b[0m:      \t\tround 7: 2.8984084354041104\n",
      "\u001b[92mINFO \u001b[0m:      \t\tround 8: 2.8559832938562946\n",
      "\u001b[92mINFO \u001b[0m:      \t\tround 9: 2.596367757541303\n",
      "\u001b[92mINFO \u001b[0m:      \t\tround 10: 2.4650997719444785\n",
      "\u001b[92mINFO \u001b[0m:      \t\tround 11: 2.364574604141065\n",
      "\u001b[92mINFO \u001b[0m:      \t\tround 12: 2.287945740900862\n",
      "\u001b[92mINFO \u001b[0m:      \t\tround 13: 2.2239988059662403\n",
      "\u001b[92mINFO \u001b[0m:      \t\tround 14: 2.130416482020491\n",
      "\u001b[92mINFO \u001b[0m:      \t\tround 15: 2.151406472483382\n",
      "\u001b[92mINFO \u001b[0m:      \t\tround 16: 2.2319653125616687\n",
      "\u001b[92mINFO \u001b[0m:      \t\tround 17: 2.0869284921560807\n",
      "\u001b[92mINFO \u001b[0m:      \t\tround 18: 2.0432557789281534\n",
      "\u001b[92mINFO \u001b[0m:      \t\tround 19: 1.98224181641405\n",
      "\u001b[92mINFO \u001b[0m:      \t\tround 20: 1.9850933963117507\n",
      "\u001b[92mINFO \u001b[0m:      \tHistory (metrics, distributed, fit):\n",
      "\u001b[92mINFO \u001b[0m:      \t{'avg_drift': [(1, np.float32(0.0009961285)),\n",
      "\u001b[92mINFO \u001b[0m:      \t               (2, np.float32(0.0011836822)),\n",
      "\u001b[92mINFO \u001b[0m:      \t               (3, np.float32(0.0014513629)),\n",
      "\u001b[92mINFO \u001b[0m:      \t               (4, np.float32(0.0012509538)),\n",
      "\u001b[92mINFO \u001b[0m:      \t               (5, np.float32(0.0015996675)),\n",
      "\u001b[92mINFO \u001b[0m:      \t               (6, np.float32(0.0014426623)),\n",
      "\u001b[92mINFO \u001b[0m:      \t               (7, np.float32(0.001189116)),\n",
      "\u001b[92mINFO \u001b[0m:      \t               (8, np.float32(0.0011390198)),\n",
      "\u001b[92mINFO \u001b[0m:      \t               (9, np.float32(0.0009715335)),\n",
      "\u001b[92mINFO \u001b[0m:      \t               (10, np.float32(0.0011018448)),\n",
      "\u001b[92mINFO \u001b[0m:      \t               (11, np.float32(0.0010289104)),\n",
      "\u001b[92mINFO \u001b[0m:      \t               (12, np.float32(0.0008799331)),\n",
      "(ClientAppActor pid=19036)\u001b[92mINFO \u001b[0m:      \t               (13, np.float32(0.001014298)),\n",
      "Eval progress: 100%|██████████| 1/1 [00:00<00:00,  3.95batch/s]\u001b[92mINFO \u001b[0m:      \t               (14, np.float32(0.0008486701)),\n",
      "\n",
      "\u001b[92mINFO \u001b[0m:      \t               (15, np.float32(0.0009397639)),\n",
      "\u001b[92mINFO \u001b[0m:      \t               (16, np.float32(0.00082333124)),\n",
      "\u001b[92mINFO \u001b[0m:      \t               (17, np.float32(0.00078870566)),\n",
      "\u001b[92mINFO \u001b[0m:      \t               (18, np.float32(0.0007980237)),\n",
      "\u001b[92mINFO \u001b[0m:      \t               (19, np.float32(0.0007726761)),\n",
      "\u001b[92mINFO \u001b[0m:      \t               (20, np.float32(0.0004936824))],\n",
      "\u001b[92mINFO \u001b[0m:      \t 'avg_train_loss': [(1, 0.31374778899373157),\n",
      "\u001b[92mINFO \u001b[0m:      \t                    (2, 0.42586412720305306),\n",
      "\u001b[92mINFO \u001b[0m:      \t                    (3, 0.49142609108703256),\n",
      "\u001b[92mINFO \u001b[0m:      \t                    (4, 0.5447939819699059),\n",
      "\u001b[92mINFO \u001b[0m:      \t                    (5, 0.7263596634700662),\n",
      "\u001b[92mINFO \u001b[0m:      \t                    (6, 0.7049629120190417),\n",
      "\u001b[92mINFO \u001b[0m:      \t                    (7, 0.5711403335102545),\n",
      "\u001b[92mINFO \u001b[0m:      \t                    (8, 0.49771743812798375),\n",
      "\u001b[92mINFO \u001b[0m:      \t                    (9, 0.37527189165339225),\n",
      "\u001b[92mINFO \u001b[0m:      \t                    (10, 0.6308695046474895),\n",
      "\u001b[92mINFO \u001b[0m:      \t                    (11, 0.5521116598436493),\n",
      "\u001b[92mINFO \u001b[0m:      \t                    (12, 0.5547956639667972),\n",
      "\u001b[92mINFO \u001b[0m:      \t                    (13, 0.7392714704663377),\n",
      "\u001b[92mINFO \u001b[0m:      \t                    (14, 0.4777612127179964),\n",
      "\u001b[92mINFO \u001b[0m:      \t                    (15, 0.8166427305957769),\n",
      "\u001b[92mINFO \u001b[0m:      \t                    (16, 0.6213699633721262),\n",
      "\u001b[92mINFO \u001b[0m:      \t                    (17, 0.7397493898984976),\n",
      "\u001b[92mINFO \u001b[0m:      \t                    (18, 1.1519747555605135),\n",
      "\u001b[92mINFO \u001b[0m:      \t                    (19, 1.3423294879496097),\n",
      "\u001b[92mINFO \u001b[0m:      \t                    (20, 0.9148934641852975)],\n",
      "\u001b[92mINFO \u001b[0m:      \t 'relative_drift': [(1, np.float32(1.9185559e-06)),\n",
      "\u001b[92mINFO \u001b[0m:      \t                    (2, np.float32(2.2797867e-06)),\n",
      "\u001b[92mINFO \u001b[0m:      \t                    (3, np.float32(2.7953424e-06)),\n",
      "\u001b[92mINFO \u001b[0m:      \t                    (4, np.float32(2.4093522e-06)),\n",
      "\u001b[92mINFO \u001b[0m:      \t                    (5, np.float32(3.080979e-06)),\n",
      "\u001b[92mINFO \u001b[0m:      \t                    (6, np.float32(2.7785854e-06)),\n",
      "\u001b[92mINFO \u001b[0m:      \t                    (7, np.float32(2.2902523e-06)),\n",
      "\u001b[92mINFO \u001b[0m:      \t                    (8, np.float32(2.1937662e-06)),\n",
      "\u001b[92mINFO \u001b[0m:      \t                    (9, np.float32(1.8711855e-06)),\n",
      "\u001b[92mINFO \u001b[0m:      \t                    (10, np.float32(2.122167e-06)),\n",
      "\u001b[92mINFO \u001b[0m:      \t                    (11, np.float32(1.9816944e-06)),\n",
      "\u001b[92mINFO \u001b[0m:      \t                    (12, np.float32(1.6947623e-06)),\n",
      "\u001b[92mINFO \u001b[0m:      \t                    (13, np.float32(1.9535507e-06)),\n",
      "\u001b[92mINFO \u001b[0m:      \t                    (14, np.float32(1.6345493e-06)),\n",
      "\u001b[92mINFO \u001b[0m:      \t                    (15, np.float32(1.8099973e-06)),\n",
      "\u001b[92mINFO \u001b[0m:      \t                    (16, np.float32(1.5857465e-06)),\n",
      "\u001b[92mINFO \u001b[0m:      \t                    (17, np.float32(1.5190573e-06)),\n",
      "\u001b[92mINFO \u001b[0m:      \t                    (18, np.float32(1.5370041e-06)),\n",
      "\u001b[92mINFO \u001b[0m:      \t                    (19, np.float32(1.488184e-06)),\n",
      "\u001b[92mINFO \u001b[0m:      \t                    (20, np.float32(9.508386e-07))]}\n",
      "\u001b[92mINFO \u001b[0m:      \tHistory (metrics, distributed, evaluate):\n",
      "\u001b[92mINFO \u001b[0m:      \t{'decentralized_avg_eval_accuracy': [(1, 0.243),\n",
      "\u001b[92mINFO \u001b[0m:      \t                                     (2, 0.196),\n",
      "\u001b[92mINFO \u001b[0m:      \t                                     (3, 0.093),\n",
      "\u001b[92mINFO \u001b[0m:      \t                                     (4, 0.153),\n",
      "\u001b[92mINFO \u001b[0m:      \t                                     (5, 0.058),\n",
      "\u001b[92mINFO \u001b[0m:      \t                                     (6, 0.151),\n",
      "\u001b[92mINFO \u001b[0m:      \t                                     (7, 0.248),\n",
      "\u001b[92mINFO \u001b[0m:      \t                                     (8, 0.29),\n",
      "\u001b[92mINFO \u001b[0m:      \t                                     (9, 0.334),\n",
      "\u001b[92mINFO \u001b[0m:      \t                                     (10, 0.494),\n",
      "\u001b[92mINFO \u001b[0m:      \t                                     (11, 0.436),\n",
      "\u001b[92mINFO \u001b[0m:      \t                                     (12, 0.37),\n",
      "\u001b[92mINFO \u001b[0m:      \t                                     (13, 0.446),\n",
      "\u001b[92mINFO \u001b[0m:      \t                                     (14, 0.486),\n",
      "\u001b[92mINFO \u001b[0m:      \t                                     (15, 0.284),\n",
      "\u001b[92mINFO \u001b[0m:      \t                                     (16, 0.366),\n",
      "\u001b[92mINFO \u001b[0m:      \t                                     (17, 0.495),\n",
      "\u001b[92mINFO \u001b[0m:      \t                                     (18, 0.485),\n",
      "\u001b[92mINFO \u001b[0m:      \t                                     (19, 0.571),\n",
      "\u001b[92mINFO \u001b[0m:      \t                                     (20, 0.564)]}\n",
      "\u001b[92mINFO \u001b[0m:      \tHistory (metrics, centralized):\n",
      "\u001b[92mINFO \u001b[0m:      \t{'centralized_accuracy': [(0, 0.3788),\n",
      "\u001b[92mINFO \u001b[0m:      \t                          (1, 0.2536),\n",
      "\u001b[92mINFO \u001b[0m:      \t                          (2, 0.2582),\n",
      "\u001b[92mINFO \u001b[0m:      \t                          (3, 0.1785),\n",
      "\u001b[92mINFO \u001b[0m:      \t                          (4, 0.1134),\n",
      "\u001b[92mINFO \u001b[0m:      \t                          (5, 0.1198),\n",
      "\u001b[92mINFO \u001b[0m:      \t                          (6, 0.1809),\n",
      "\u001b[92mINFO \u001b[0m:      \t                          (7, 0.2905),\n",
      "\u001b[92mINFO \u001b[0m:      \t                          (8, 0.3174),\n",
      "\u001b[92mINFO \u001b[0m:      \t                          (9, 0.3448),\n",
      "\u001b[92mINFO \u001b[0m:      \t                          (10, 0.3728),\n",
      "\u001b[92mINFO \u001b[0m:      \t                          (11, 0.4),\n",
      "\u001b[92mINFO \u001b[0m:      \t                          (12, 0.4133),\n",
      "\u001b[92mINFO \u001b[0m:      \t                          (13, 0.422),\n",
      "\u001b[92mINFO \u001b[0m:      \t                          (14, 0.4451),\n",
      "\u001b[92mINFO \u001b[0m:      \t                          (15, 0.4381),\n",
      "\u001b[92mINFO \u001b[0m:      \t                          (16, 0.4231),\n",
      "\u001b[92mINFO \u001b[0m:      \t                          (17, 0.4483),\n",
      "\u001b[92mINFO \u001b[0m:      \t                          (18, 0.4632),\n",
      "\u001b[92mINFO \u001b[0m:      \t                          (19, 0.4733),\n",
      "\u001b[92mINFO \u001b[0m:      \t                          (20, 0.4745)]}\n",
      "\u001b[92mINFO \u001b[0m:      \n"
     ]
    }
   ],
   "source": [
    "from flwr.simulation import run_simulation\n",
    "run_simulation(\n",
    "    server_app=server,\n",
    "    client_app=client,\n",
    "    num_supernodes=NUM_CLIENTS,\n",
    "    backend_config=backend_config\n",
    ")"
   ]
  }
 ],
 "metadata": {
  "kernelspec": {
   "display_name": ".venv",
   "language": "python",
   "name": "python3"
  },
  "language_info": {
   "codemirror_mode": {
    "name": "ipython",
    "version": 3
   },
   "file_extension": ".py",
   "mimetype": "text/x-python",
   "name": "python",
   "nbconvert_exporter": "python",
   "pygments_lexer": "ipython3",
   "version": "3.10.0"
  }
 },
 "nbformat": 4,
 "nbformat_minor": 5
}
